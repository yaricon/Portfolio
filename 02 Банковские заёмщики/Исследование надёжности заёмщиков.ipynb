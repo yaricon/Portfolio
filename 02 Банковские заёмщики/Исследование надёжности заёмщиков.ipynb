{
  "cells": [
    {
      "cell_type": "markdown",
      "id": "386f2ae7",
      "metadata": {
        "deletable": false,
        "editable": false,
        "id": "386f2ae7"
      },
      "source": [
        "# Исследование надежности заемщиков\n"
      ]
    },
    {
      "cell_type": "markdown",
      "id": "e2ff0d94",
      "metadata": {
        "id": "e2ff0d94"
      },
      "source": [
        "**Цель исследования**\n",
        "    \n",
        "Выявить, существует ли зависимость между семейным положением и количеством детей на погашение кредита в срок.\n",
        "\n",
        "**План работы**\n",
        "1. Выгрузить датафрейм с данными;\n",
        "2. Посмотреть общую информацию о данных;\n",
        "3. Избавиться от дубликатов и пропусков, если таковы имеются;\n",
        "4. Проанализировать данные;\n",
        "5. Сделать соответствующие выводы.\n",
        "    \n",
        "**Входные данные от банка — статистика о платёжеспособности клиентов.**\n"
      ]
    },
    {
      "cell_type": "markdown",
      "id": "26613308",
      "metadata": {
        "deletable": false,
        "editable": false,
        "id": "26613308"
      },
      "source": [
        "## Выгрузка"
      ]
    },
    {
      "cell_type": "code",
      "execution_count": null,
      "id": "77a68a90",
      "metadata": {
        "deletable": false,
        "id": "77a68a90"
      },
      "outputs": [],
      "source": [
        "import pandas as pd\n",
        "\n",
        "try:\n",
        "    data = pd.read_csv('/datasets/data.csv')\n",
        "except:\n",
        "    data = pd.read_csv('https://code.s3.yandex.net/datasets/data.csv')"
      ]
    },
    {
      "cell_type": "code",
      "execution_count": null,
      "id": "b0451a9a",
      "metadata": {
        "deletable": false,
        "id": "b0451a9a",
        "outputId": "1a8f3ef2-d323-4ec2-ddf7-89670b5944c4"
      },
      "outputs": [
        {
          "data": {
            "text/html": [
              "<div>\n",
              "<style scoped>\n",
              "    .dataframe tbody tr th:only-of-type {\n",
              "        vertical-align: middle;\n",
              "    }\n",
              "\n",
              "    .dataframe tbody tr th {\n",
              "        vertical-align: top;\n",
              "    }\n",
              "\n",
              "    .dataframe thead th {\n",
              "        text-align: right;\n",
              "    }\n",
              "</style>\n",
              "<table border=\"1\" class=\"dataframe\">\n",
              "  <thead>\n",
              "    <tr style=\"text-align: right;\">\n",
              "      <th></th>\n",
              "      <th>children</th>\n",
              "      <th>days_employed</th>\n",
              "      <th>dob_years</th>\n",
              "      <th>education</th>\n",
              "      <th>education_id</th>\n",
              "      <th>family_status</th>\n",
              "      <th>family_status_id</th>\n",
              "      <th>gender</th>\n",
              "      <th>income_type</th>\n",
              "      <th>debt</th>\n",
              "      <th>total_income</th>\n",
              "      <th>purpose</th>\n",
              "    </tr>\n",
              "  </thead>\n",
              "  <tbody>\n",
              "    <tr>\n",
              "      <th>0</th>\n",
              "      <td>1</td>\n",
              "      <td>-8437.673028</td>\n",
              "      <td>42</td>\n",
              "      <td>высшее</td>\n",
              "      <td>0</td>\n",
              "      <td>женат / замужем</td>\n",
              "      <td>0</td>\n",
              "      <td>F</td>\n",
              "      <td>сотрудник</td>\n",
              "      <td>0</td>\n",
              "      <td>253875.639453</td>\n",
              "      <td>покупка жилья</td>\n",
              "    </tr>\n",
              "    <tr>\n",
              "      <th>1</th>\n",
              "      <td>1</td>\n",
              "      <td>-4024.803754</td>\n",
              "      <td>36</td>\n",
              "      <td>среднее</td>\n",
              "      <td>1</td>\n",
              "      <td>женат / замужем</td>\n",
              "      <td>0</td>\n",
              "      <td>F</td>\n",
              "      <td>сотрудник</td>\n",
              "      <td>0</td>\n",
              "      <td>112080.014102</td>\n",
              "      <td>приобретение автомобиля</td>\n",
              "    </tr>\n",
              "    <tr>\n",
              "      <th>2</th>\n",
              "      <td>0</td>\n",
              "      <td>-5623.422610</td>\n",
              "      <td>33</td>\n",
              "      <td>Среднее</td>\n",
              "      <td>1</td>\n",
              "      <td>женат / замужем</td>\n",
              "      <td>0</td>\n",
              "      <td>M</td>\n",
              "      <td>сотрудник</td>\n",
              "      <td>0</td>\n",
              "      <td>145885.952297</td>\n",
              "      <td>покупка жилья</td>\n",
              "    </tr>\n",
              "    <tr>\n",
              "      <th>3</th>\n",
              "      <td>3</td>\n",
              "      <td>-4124.747207</td>\n",
              "      <td>32</td>\n",
              "      <td>среднее</td>\n",
              "      <td>1</td>\n",
              "      <td>женат / замужем</td>\n",
              "      <td>0</td>\n",
              "      <td>M</td>\n",
              "      <td>сотрудник</td>\n",
              "      <td>0</td>\n",
              "      <td>267628.550329</td>\n",
              "      <td>дополнительное образование</td>\n",
              "    </tr>\n",
              "    <tr>\n",
              "      <th>4</th>\n",
              "      <td>0</td>\n",
              "      <td>340266.072047</td>\n",
              "      <td>53</td>\n",
              "      <td>среднее</td>\n",
              "      <td>1</td>\n",
              "      <td>гражданский брак</td>\n",
              "      <td>1</td>\n",
              "      <td>F</td>\n",
              "      <td>пенсионер</td>\n",
              "      <td>0</td>\n",
              "      <td>158616.077870</td>\n",
              "      <td>сыграть свадьбу</td>\n",
              "    </tr>\n",
              "    <tr>\n",
              "      <th>5</th>\n",
              "      <td>0</td>\n",
              "      <td>-926.185831</td>\n",
              "      <td>27</td>\n",
              "      <td>высшее</td>\n",
              "      <td>0</td>\n",
              "      <td>гражданский брак</td>\n",
              "      <td>1</td>\n",
              "      <td>M</td>\n",
              "      <td>компаньон</td>\n",
              "      <td>0</td>\n",
              "      <td>255763.565419</td>\n",
              "      <td>покупка жилья</td>\n",
              "    </tr>\n",
              "    <tr>\n",
              "      <th>6</th>\n",
              "      <td>0</td>\n",
              "      <td>-2879.202052</td>\n",
              "      <td>43</td>\n",
              "      <td>высшее</td>\n",
              "      <td>0</td>\n",
              "      <td>женат / замужем</td>\n",
              "      <td>0</td>\n",
              "      <td>F</td>\n",
              "      <td>компаньон</td>\n",
              "      <td>0</td>\n",
              "      <td>240525.971920</td>\n",
              "      <td>операции с жильем</td>\n",
              "    </tr>\n",
              "    <tr>\n",
              "      <th>7</th>\n",
              "      <td>0</td>\n",
              "      <td>-152.779569</td>\n",
              "      <td>50</td>\n",
              "      <td>СРЕДНЕЕ</td>\n",
              "      <td>1</td>\n",
              "      <td>женат / замужем</td>\n",
              "      <td>0</td>\n",
              "      <td>M</td>\n",
              "      <td>сотрудник</td>\n",
              "      <td>0</td>\n",
              "      <td>135823.934197</td>\n",
              "      <td>образование</td>\n",
              "    </tr>\n",
              "    <tr>\n",
              "      <th>8</th>\n",
              "      <td>2</td>\n",
              "      <td>-6929.865299</td>\n",
              "      <td>35</td>\n",
              "      <td>ВЫСШЕЕ</td>\n",
              "      <td>0</td>\n",
              "      <td>гражданский брак</td>\n",
              "      <td>1</td>\n",
              "      <td>F</td>\n",
              "      <td>сотрудник</td>\n",
              "      <td>0</td>\n",
              "      <td>95856.832424</td>\n",
              "      <td>на проведение свадьбы</td>\n",
              "    </tr>\n",
              "    <tr>\n",
              "      <th>9</th>\n",
              "      <td>0</td>\n",
              "      <td>-2188.756445</td>\n",
              "      <td>41</td>\n",
              "      <td>среднее</td>\n",
              "      <td>1</td>\n",
              "      <td>женат / замужем</td>\n",
              "      <td>0</td>\n",
              "      <td>M</td>\n",
              "      <td>сотрудник</td>\n",
              "      <td>0</td>\n",
              "      <td>144425.938277</td>\n",
              "      <td>покупка жилья для семьи</td>\n",
              "    </tr>\n",
              "    <tr>\n",
              "      <th>10</th>\n",
              "      <td>2</td>\n",
              "      <td>-4171.483647</td>\n",
              "      <td>36</td>\n",
              "      <td>высшее</td>\n",
              "      <td>0</td>\n",
              "      <td>женат / замужем</td>\n",
              "      <td>0</td>\n",
              "      <td>M</td>\n",
              "      <td>компаньон</td>\n",
              "      <td>0</td>\n",
              "      <td>113943.491460</td>\n",
              "      <td>покупка недвижимости</td>\n",
              "    </tr>\n",
              "    <tr>\n",
              "      <th>11</th>\n",
              "      <td>0</td>\n",
              "      <td>-792.701887</td>\n",
              "      <td>40</td>\n",
              "      <td>среднее</td>\n",
              "      <td>1</td>\n",
              "      <td>женат / замужем</td>\n",
              "      <td>0</td>\n",
              "      <td>F</td>\n",
              "      <td>сотрудник</td>\n",
              "      <td>0</td>\n",
              "      <td>77069.234271</td>\n",
              "      <td>покупка коммерческой недвижимости</td>\n",
              "    </tr>\n",
              "    <tr>\n",
              "      <th>12</th>\n",
              "      <td>0</td>\n",
              "      <td>NaN</td>\n",
              "      <td>65</td>\n",
              "      <td>среднее</td>\n",
              "      <td>1</td>\n",
              "      <td>гражданский брак</td>\n",
              "      <td>1</td>\n",
              "      <td>M</td>\n",
              "      <td>пенсионер</td>\n",
              "      <td>0</td>\n",
              "      <td>NaN</td>\n",
              "      <td>сыграть свадьбу</td>\n",
              "    </tr>\n",
              "    <tr>\n",
              "      <th>13</th>\n",
              "      <td>0</td>\n",
              "      <td>-1846.641941</td>\n",
              "      <td>54</td>\n",
              "      <td>неоконченное высшее</td>\n",
              "      <td>2</td>\n",
              "      <td>женат / замужем</td>\n",
              "      <td>0</td>\n",
              "      <td>F</td>\n",
              "      <td>сотрудник</td>\n",
              "      <td>0</td>\n",
              "      <td>130458.228857</td>\n",
              "      <td>приобретение автомобиля</td>\n",
              "    </tr>\n",
              "    <tr>\n",
              "      <th>14</th>\n",
              "      <td>0</td>\n",
              "      <td>-1844.956182</td>\n",
              "      <td>56</td>\n",
              "      <td>высшее</td>\n",
              "      <td>0</td>\n",
              "      <td>гражданский брак</td>\n",
              "      <td>1</td>\n",
              "      <td>F</td>\n",
              "      <td>компаньон</td>\n",
              "      <td>1</td>\n",
              "      <td>165127.911772</td>\n",
              "      <td>покупка жилой недвижимости</td>\n",
              "    </tr>\n",
              "    <tr>\n",
              "      <th>15</th>\n",
              "      <td>1</td>\n",
              "      <td>-972.364419</td>\n",
              "      <td>26</td>\n",
              "      <td>среднее</td>\n",
              "      <td>1</td>\n",
              "      <td>женат / замужем</td>\n",
              "      <td>0</td>\n",
              "      <td>F</td>\n",
              "      <td>сотрудник</td>\n",
              "      <td>0</td>\n",
              "      <td>116820.904450</td>\n",
              "      <td>строительство собственной недвижимости</td>\n",
              "    </tr>\n",
              "    <tr>\n",
              "      <th>16</th>\n",
              "      <td>0</td>\n",
              "      <td>-1719.934226</td>\n",
              "      <td>35</td>\n",
              "      <td>среднее</td>\n",
              "      <td>1</td>\n",
              "      <td>женат / замужем</td>\n",
              "      <td>0</td>\n",
              "      <td>F</td>\n",
              "      <td>сотрудник</td>\n",
              "      <td>0</td>\n",
              "      <td>289202.704229</td>\n",
              "      <td>недвижимость</td>\n",
              "    </tr>\n",
              "    <tr>\n",
              "      <th>17</th>\n",
              "      <td>0</td>\n",
              "      <td>-2369.999720</td>\n",
              "      <td>33</td>\n",
              "      <td>высшее</td>\n",
              "      <td>0</td>\n",
              "      <td>гражданский брак</td>\n",
              "      <td>1</td>\n",
              "      <td>M</td>\n",
              "      <td>сотрудник</td>\n",
              "      <td>0</td>\n",
              "      <td>90410.586745</td>\n",
              "      <td>строительство недвижимости</td>\n",
              "    </tr>\n",
              "    <tr>\n",
              "      <th>18</th>\n",
              "      <td>0</td>\n",
              "      <td>400281.136913</td>\n",
              "      <td>53</td>\n",
              "      <td>среднее</td>\n",
              "      <td>1</td>\n",
              "      <td>вдовец / вдова</td>\n",
              "      <td>2</td>\n",
              "      <td>F</td>\n",
              "      <td>пенсионер</td>\n",
              "      <td>0</td>\n",
              "      <td>56823.777243</td>\n",
              "      <td>на покупку подержанного автомобиля</td>\n",
              "    </tr>\n",
              "    <tr>\n",
              "      <th>19</th>\n",
              "      <td>0</td>\n",
              "      <td>-10038.818549</td>\n",
              "      <td>48</td>\n",
              "      <td>СРЕДНЕЕ</td>\n",
              "      <td>1</td>\n",
              "      <td>в разводе</td>\n",
              "      <td>3</td>\n",
              "      <td>F</td>\n",
              "      <td>сотрудник</td>\n",
              "      <td>0</td>\n",
              "      <td>242831.107982</td>\n",
              "      <td>на покупку своего автомобиля</td>\n",
              "    </tr>\n",
              "  </tbody>\n",
              "</table>\n",
              "</div>"
            ],
            "text/plain": [
              "    children  days_employed  dob_years            education  education_id  \\\n",
              "0          1   -8437.673028         42               высшее             0   \n",
              "1          1   -4024.803754         36              среднее             1   \n",
              "2          0   -5623.422610         33              Среднее             1   \n",
              "3          3   -4124.747207         32              среднее             1   \n",
              "4          0  340266.072047         53              среднее             1   \n",
              "5          0    -926.185831         27               высшее             0   \n",
              "6          0   -2879.202052         43               высшее             0   \n",
              "7          0    -152.779569         50              СРЕДНЕЕ             1   \n",
              "8          2   -6929.865299         35               ВЫСШЕЕ             0   \n",
              "9          0   -2188.756445         41              среднее             1   \n",
              "10         2   -4171.483647         36               высшее             0   \n",
              "11         0    -792.701887         40              среднее             1   \n",
              "12         0            NaN         65              среднее             1   \n",
              "13         0   -1846.641941         54  неоконченное высшее             2   \n",
              "14         0   -1844.956182         56               высшее             0   \n",
              "15         1    -972.364419         26              среднее             1   \n",
              "16         0   -1719.934226         35              среднее             1   \n",
              "17         0   -2369.999720         33               высшее             0   \n",
              "18         0  400281.136913         53              среднее             1   \n",
              "19         0  -10038.818549         48              СРЕДНЕЕ             1   \n",
              "\n",
              "       family_status  family_status_id gender income_type  debt  \\\n",
              "0    женат / замужем                 0      F   сотрудник     0   \n",
              "1    женат / замужем                 0      F   сотрудник     0   \n",
              "2    женат / замужем                 0      M   сотрудник     0   \n",
              "3    женат / замужем                 0      M   сотрудник     0   \n",
              "4   гражданский брак                 1      F   пенсионер     0   \n",
              "5   гражданский брак                 1      M   компаньон     0   \n",
              "6    женат / замужем                 0      F   компаньон     0   \n",
              "7    женат / замужем                 0      M   сотрудник     0   \n",
              "8   гражданский брак                 1      F   сотрудник     0   \n",
              "9    женат / замужем                 0      M   сотрудник     0   \n",
              "10   женат / замужем                 0      M   компаньон     0   \n",
              "11   женат / замужем                 0      F   сотрудник     0   \n",
              "12  гражданский брак                 1      M   пенсионер     0   \n",
              "13   женат / замужем                 0      F   сотрудник     0   \n",
              "14  гражданский брак                 1      F   компаньон     1   \n",
              "15   женат / замужем                 0      F   сотрудник     0   \n",
              "16   женат / замужем                 0      F   сотрудник     0   \n",
              "17  гражданский брак                 1      M   сотрудник     0   \n",
              "18    вдовец / вдова                 2      F   пенсионер     0   \n",
              "19         в разводе                 3      F   сотрудник     0   \n",
              "\n",
              "     total_income                                 purpose  \n",
              "0   253875.639453                           покупка жилья  \n",
              "1   112080.014102                 приобретение автомобиля  \n",
              "2   145885.952297                           покупка жилья  \n",
              "3   267628.550329              дополнительное образование  \n",
              "4   158616.077870                         сыграть свадьбу  \n",
              "5   255763.565419                           покупка жилья  \n",
              "6   240525.971920                       операции с жильем  \n",
              "7   135823.934197                             образование  \n",
              "8    95856.832424                   на проведение свадьбы  \n",
              "9   144425.938277                 покупка жилья для семьи  \n",
              "10  113943.491460                    покупка недвижимости  \n",
              "11   77069.234271       покупка коммерческой недвижимости  \n",
              "12            NaN                         сыграть свадьбу  \n",
              "13  130458.228857                 приобретение автомобиля  \n",
              "14  165127.911772              покупка жилой недвижимости  \n",
              "15  116820.904450  строительство собственной недвижимости  \n",
              "16  289202.704229                            недвижимость  \n",
              "17   90410.586745              строительство недвижимости  \n",
              "18   56823.777243      на покупку подержанного автомобиля  \n",
              "19  242831.107982            на покупку своего автомобиля  "
            ]
          },
          "execution_count": 2,
          "metadata": {},
          "output_type": "execute_result"
        }
      ],
      "source": [
        "data.head(20)"
      ]
    },
    {
      "cell_type": "code",
      "execution_count": null,
      "id": "ab3f863b",
      "metadata": {
        "deletable": false,
        "id": "ab3f863b",
        "outputId": "15376089-8dad-46c9-b520-c05248d43158"
      },
      "outputs": [
        {
          "name": "stdout",
          "output_type": "stream",
          "text": [
            "<class 'pandas.core.frame.DataFrame'>\n",
            "RangeIndex: 21525 entries, 0 to 21524\n",
            "Data columns (total 12 columns):\n",
            " #   Column            Non-Null Count  Dtype  \n",
            "---  ------            --------------  -----  \n",
            " 0   children          21525 non-null  int64  \n",
            " 1   days_employed     19351 non-null  float64\n",
            " 2   dob_years         21525 non-null  int64  \n",
            " 3   education         21525 non-null  object \n",
            " 4   education_id      21525 non-null  int64  \n",
            " 5   family_status     21525 non-null  object \n",
            " 6   family_status_id  21525 non-null  int64  \n",
            " 7   gender            21525 non-null  object \n",
            " 8   income_type       21525 non-null  object \n",
            " 9   debt              21525 non-null  int64  \n",
            " 10  total_income      19351 non-null  float64\n",
            " 11  purpose           21525 non-null  object \n",
            "dtypes: float64(2), int64(5), object(5)\n",
            "memory usage: 2.0+ MB\n"
          ]
        }
      ],
      "source": [
        "data.info()"
      ]
    },
    {
      "cell_type": "markdown",
      "source": [
        "**Вывод**\n",
        "\n",
        "В 2-х столбцах датафрейма есть одинаковое количество пропусков. Также в столбце \"days_employed\" заметили отрицательные значения, которых не должно быть, поскольку этот столбец означает количество рабочих дней."
      ],
      "metadata": {
        "id": "qoA1r9FnqYwo"
      },
      "id": "qoA1r9FnqYwo"
    },
    {
      "cell_type": "markdown",
      "id": "60e3e22d",
      "metadata": {
        "deletable": false,
        "editable": false,
        "id": "60e3e22d"
      },
      "source": [
        "## Предобработка данных"
      ]
    },
    {
      "cell_type": "markdown",
      "id": "03dc170c",
      "metadata": {
        "deletable": false,
        "editable": false,
        "id": "03dc170c"
      },
      "source": [
        "### Удаление пропусков"
      ]
    },
    {
      "cell_type": "code",
      "execution_count": null,
      "id": "2dc372b2",
      "metadata": {
        "deletable": false,
        "id": "2dc372b2",
        "outputId": "81f4d817-781c-465c-ed15-91ce4446810d"
      },
      "outputs": [
        {
          "data": {
            "text/plain": [
              "children               0\n",
              "days_employed       2174\n",
              "dob_years              0\n",
              "education              0\n",
              "education_id           0\n",
              "family_status          0\n",
              "family_status_id       0\n",
              "gender                 0\n",
              "income_type            0\n",
              "debt                   0\n",
              "total_income        2174\n",
              "purpose                0\n",
              "dtype: int64"
            ]
          },
          "execution_count": 4,
          "metadata": {},
          "output_type": "execute_result"
        }
      ],
      "source": [
        "data.isna().sum()"
      ]
    },
    {
      "cell_type": "code",
      "execution_count": null,
      "id": "bdabfb6e",
      "metadata": {
        "deletable": false,
        "id": "bdabfb6e"
      },
      "outputs": [],
      "source": [
        "for t in data['income_type'].unique():\n",
        "    data.loc[(data['income_type'] == t) & (data['total_income'].isna()), 'total_income'] = \\\n",
        "    data.loc[(data['income_type'] == t), 'total_income'].median()"
      ]
    },
    {
      "cell_type": "markdown",
      "id": "5be34059",
      "metadata": {
        "deletable": false,
        "editable": false,
        "id": "5be34059"
      },
      "source": [
        "### Обработка аномальных значений"
      ]
    },
    {
      "cell_type": "code",
      "execution_count": null,
      "id": "020c46cc",
      "metadata": {
        "deletable": false,
        "id": "020c46cc"
      },
      "outputs": [],
      "source": [
        "data['days_employed'] = data['days_employed'].abs()"
      ]
    },
    {
      "cell_type": "code",
      "execution_count": null,
      "id": "cd3e6328",
      "metadata": {
        "deletable": false,
        "id": "cd3e6328",
        "outputId": "801ef80e-522b-4668-f34e-565af7432bcf"
      },
      "outputs": [
        {
          "data": {
            "text/plain": [
              "income_type\n",
              "безработный        366413.652744\n",
              "в декрете            3296.759962\n",
              "госслужащий          2689.368353\n",
              "компаньон            1547.382223\n",
              "пенсионер          365213.306266\n",
              "предприниматель       520.848083\n",
              "сотрудник            1574.202821\n",
              "студент               578.751554\n",
              "Name: days_employed, dtype: float64"
            ]
          },
          "execution_count": 7,
          "metadata": {},
          "output_type": "execute_result"
        }
      ],
      "source": [
        "data.groupby('income_type')['days_employed'].agg('median')"
      ]
    },
    {
      "cell_type": "code",
      "execution_count": null,
      "id": "dbb37b8e",
      "metadata": {
        "deletable": false,
        "id": "dbb37b8e",
        "outputId": "6975b15c-7f95-4697-d16d-a0c79b657b03"
      },
      "outputs": [
        {
          "data": {
            "text/plain": [
              "array([ 1,  0,  3,  2, -1,  4, 20,  5])"
            ]
          },
          "execution_count": 8,
          "metadata": {},
          "output_type": "execute_result"
        }
      ],
      "source": [
        "data['children'].unique()"
      ]
    },
    {
      "cell_type": "code",
      "execution_count": null,
      "id": "20009df8",
      "metadata": {
        "deletable": false,
        "id": "20009df8"
      },
      "outputs": [],
      "source": [
        "data = data[(data['children'] != -1) & (data['children'] != 20)]"
      ]
    },
    {
      "cell_type": "code",
      "execution_count": null,
      "id": "07337b81",
      "metadata": {
        "deletable": false,
        "id": "07337b81",
        "outputId": "b2097101-d49d-44d9-901b-32a65c9463d1"
      },
      "outputs": [
        {
          "data": {
            "text/plain": [
              "array([1, 0, 3, 2, 4, 5])"
            ]
          },
          "execution_count": 10,
          "metadata": {},
          "output_type": "execute_result"
        }
      ],
      "source": [
        "data['children'].unique()"
      ]
    },
    {
      "cell_type": "code",
      "execution_count": null,
      "id": "61946b83",
      "metadata": {
        "deletable": false,
        "id": "61946b83"
      },
      "outputs": [],
      "source": [
        "for t in data['income_type'].unique():\n",
        "    data.loc[(data['income_type'] == t) & (data['days_employed'].isna()), 'days_employed'] = data.loc[(data['income_type'] == t), 'days_employed'].median()"
      ]
    },
    {
      "cell_type": "code",
      "execution_count": null,
      "id": "937c7014",
      "metadata": {
        "deletable": false,
        "id": "937c7014",
        "outputId": "8da1e4e1-358e-4e87-98c9-f261bce0a7b2"
      },
      "outputs": [
        {
          "data": {
            "text/plain": [
              "children            0\n",
              "days_employed       0\n",
              "dob_years           0\n",
              "education           0\n",
              "education_id        0\n",
              "family_status       0\n",
              "family_status_id    0\n",
              "gender              0\n",
              "income_type         0\n",
              "debt                0\n",
              "total_income        0\n",
              "purpose             0\n",
              "dtype: int64"
            ]
          },
          "execution_count": 12,
          "metadata": {},
          "output_type": "execute_result"
        }
      ],
      "source": [
        "data.isna().sum()"
      ]
    },
    {
      "cell_type": "markdown",
      "id": "d522e295",
      "metadata": {
        "deletable": false,
        "editable": false,
        "id": "d522e295"
      },
      "source": [
        "### Изменение типов данных"
      ]
    },
    {
      "cell_type": "code",
      "execution_count": null,
      "id": "31036462",
      "metadata": {
        "deletable": false,
        "id": "31036462"
      },
      "outputs": [],
      "source": [
        "data['total_income'] = data['total_income'].astype(int)"
      ]
    },
    {
      "cell_type": "markdown",
      "id": "b8e3d1d9",
      "metadata": {
        "deletable": false,
        "editable": false,
        "id": "b8e3d1d9"
      },
      "source": [
        "### Обработка дубликатов"
      ]
    },
    {
      "cell_type": "code",
      "execution_count": null,
      "id": "d89e73e1",
      "metadata": {
        "deletable": false,
        "id": "d89e73e1"
      },
      "outputs": [],
      "source": [
        "data['education'] = data['education'].str.lower()"
      ]
    },
    {
      "cell_type": "code",
      "execution_count": null,
      "id": "e10efb23",
      "metadata": {
        "deletable": false,
        "id": "e10efb23",
        "outputId": "9684deba-1934-42d1-99e1-cda61740f822"
      },
      "outputs": [
        {
          "data": {
            "text/plain": [
              "71"
            ]
          },
          "execution_count": 15,
          "metadata": {},
          "output_type": "execute_result"
        }
      ],
      "source": [
        "data.duplicated().sum()"
      ]
    },
    {
      "cell_type": "code",
      "execution_count": null,
      "id": "df853f20",
      "metadata": {
        "deletable": false,
        "id": "df853f20"
      },
      "outputs": [],
      "source": [
        "data = data.drop_duplicates()"
      ]
    },
    {
      "cell_type": "markdown",
      "id": "627be38f",
      "metadata": {
        "deletable": false,
        "editable": false,
        "id": "627be38f"
      },
      "source": [
        "### Категоризация данных"
      ]
    },
    {
      "cell_type": "code",
      "execution_count": null,
      "id": "78965238",
      "metadata": {
        "deletable": false,
        "id": "78965238"
      },
      "outputs": [],
      "source": [
        "def categorize_income(income):\n",
        "    try:\n",
        "        if 0 <= income <= 30000:\n",
        "            return 'E'\n",
        "        elif 30001 <= income <= 50000:\n",
        "            return 'D'\n",
        "        elif 50001 <= income <= 200000:\n",
        "            return 'C'\n",
        "        elif 200001 <= income <= 1000000:\n",
        "            return 'B'\n",
        "        elif income >= 1000001:\n",
        "            return 'A'\n",
        "    except:\n",
        "        pass"
      ]
    },
    {
      "cell_type": "code",
      "execution_count": null,
      "id": "0980ada1",
      "metadata": {
        "deletable": false,
        "id": "0980ada1"
      },
      "outputs": [],
      "source": [
        "data['total_income_category'] = data['total_income'].apply(categorize_income)"
      ]
    },
    {
      "cell_type": "code",
      "execution_count": null,
      "id": "ee07b65e",
      "metadata": {
        "deletable": false,
        "id": "ee07b65e",
        "outputId": "673c12d9-7d7e-4ae0-9812-c622c89dd244"
      },
      "outputs": [
        {
          "data": {
            "text/plain": [
              "array(['покупка жилья', 'приобретение автомобиля',\n",
              "       'дополнительное образование', 'сыграть свадьбу',\n",
              "       'операции с жильем', 'образование', 'на проведение свадьбы',\n",
              "       'покупка жилья для семьи', 'покупка недвижимости',\n",
              "       'покупка коммерческой недвижимости', 'покупка жилой недвижимости',\n",
              "       'строительство собственной недвижимости', 'недвижимость',\n",
              "       'строительство недвижимости', 'на покупку подержанного автомобиля',\n",
              "       'на покупку своего автомобиля',\n",
              "       'операции с коммерческой недвижимостью',\n",
              "       'строительство жилой недвижимости', 'жилье',\n",
              "       'операции со своей недвижимостью', 'автомобили',\n",
              "       'заняться образованием', 'сделка с подержанным автомобилем',\n",
              "       'получение образования', 'автомобиль', 'свадьба',\n",
              "       'получение дополнительного образования', 'покупка своего жилья',\n",
              "       'операции с недвижимостью', 'получение высшего образования',\n",
              "       'свой автомобиль', 'сделка с автомобилем',\n",
              "       'профильное образование', 'высшее образование',\n",
              "       'покупка жилья для сдачи', 'на покупку автомобиля', 'ремонт жилью',\n",
              "       'заняться высшим образованием'], dtype=object)"
            ]
          },
          "execution_count": 19,
          "metadata": {},
          "output_type": "execute_result"
        }
      ],
      "source": [
        "data['purpose'].unique()"
      ]
    },
    {
      "cell_type": "code",
      "execution_count": null,
      "id": "be41da5d",
      "metadata": {
        "deletable": false,
        "id": "be41da5d"
      },
      "outputs": [],
      "source": [
        "def categorize_purpose(row):\n",
        "    try:\n",
        "        if 'автом' in row:\n",
        "            return 'операции с автомобилем'\n",
        "        elif 'жил' in row or 'недвиж' in row:\n",
        "            return 'операции с недвижимостью'\n",
        "        elif 'свад' in row:\n",
        "            return 'проведение свадьбы'\n",
        "        elif 'образов' in row:\n",
        "            return 'получение образования'\n",
        "    except:\n",
        "        return 'нет категории'"
      ]
    },
    {
      "cell_type": "code",
      "execution_count": null,
      "id": "94c4a19a",
      "metadata": {
        "deletable": false,
        "id": "94c4a19a"
      },
      "outputs": [],
      "source": [
        "data['purpose_category'] = data['purpose'].apply(categorize_purpose)"
      ]
    },
    {
      "cell_type": "markdown",
      "id": "80100cb5",
      "metadata": {
        "id": "80100cb5"
      },
      "source": [
        "**Вывод**\n",
        "\n",
        "Мы предобработали данные: заменили пропуски в столбцах, удалили аномальные значения, привели данные к общему виду и удалили дубликаты.\n",
        "Произвели категоризацию для удобства анализа данных и вывели результат в новые столбцы.\n",
        "</div>"
      ]
    },
    {
      "cell_type": "markdown",
      "id": "3d596c34",
      "metadata": {
        "deletable": false,
        "editable": false,
        "id": "3d596c34"
      },
      "source": [
        "### Анализ данных"
      ]
    },
    {
      "cell_type": "markdown",
      "id": "648db036",
      "metadata": {
        "deletable": false,
        "editable": false,
        "id": "648db036"
      },
      "source": [
        "#### Есть ли зависимость между количеством детей и возвратом кредита в срок"
      ]
    },
    {
      "cell_type": "code",
      "execution_count": null,
      "id": "7fcff25e",
      "metadata": {
        "deletable": false,
        "id": "7fcff25e",
        "outputId": "33939600-b14e-44fe-8d40-970a77e334a8"
      },
      "outputs": [
        {
          "data": {
            "text/plain": [
              "children\n",
              "0    1063\n",
              "1     444\n",
              "2     194\n",
              "3      27\n",
              "4       4\n",
              "5       0\n",
              "Name: debt, dtype: int64"
            ]
          },
          "execution_count": 22,
          "metadata": {},
          "output_type": "execute_result"
        }
      ],
      "source": [
        "data.groupby('children')['debt'].sum()"
      ]
    },
    {
      "cell_type": "markdown",
      "id": "2eb9088e",
      "metadata": {
        "deletable": false,
        "id": "2eb9088e"
      },
      "source": [
        "**Вывод:** В датафрейме показано, что в семьях присутствует корреляция между количеством детей и долгом. Чем меньше детей в семье, тем чаще люди не возвращали деньги в срок. Но можно ещё сказать, что семей с 3-я и более детьми гораздо реже берут деньги в долг у банков."
      ]
    },
    {
      "cell_type": "code",
      "execution_count": null,
      "id": "cad3c0d2",
      "metadata": {
        "id": "cad3c0d2",
        "outputId": "824a1b81-5a8b-41d4-af54-70b4c7fe2a4e"
      },
      "outputs": [
        {
          "data": {
            "text/html": [
              "<div>\n",
              "<style scoped>\n",
              "    .dataframe tbody tr th:only-of-type {\n",
              "        vertical-align: middle;\n",
              "    }\n",
              "\n",
              "    .dataframe tbody tr th {\n",
              "        vertical-align: top;\n",
              "    }\n",
              "\n",
              "    .dataframe thead th {\n",
              "        text-align: right;\n",
              "    }\n",
              "</style>\n",
              "<table border=\"1\" class=\"dataframe\">\n",
              "  <thead>\n",
              "    <tr style=\"text-align: right;\">\n",
              "      <th></th>\n",
              "      <th>count</th>\n",
              "      <th>mean</th>\n",
              "    </tr>\n",
              "    <tr>\n",
              "      <th>children</th>\n",
              "      <th></th>\n",
              "      <th></th>\n",
              "    </tr>\n",
              "  </thead>\n",
              "  <tbody>\n",
              "    <tr>\n",
              "      <th>0</th>\n",
              "      <td>14091.0</td>\n",
              "      <td>0.075438</td>\n",
              "    </tr>\n",
              "    <tr>\n",
              "      <th>1</th>\n",
              "      <td>4808.0</td>\n",
              "      <td>0.092346</td>\n",
              "    </tr>\n",
              "    <tr>\n",
              "      <th>2</th>\n",
              "      <td>2052.0</td>\n",
              "      <td>0.094542</td>\n",
              "    </tr>\n",
              "    <tr>\n",
              "      <th>3</th>\n",
              "      <td>330.0</td>\n",
              "      <td>0.081818</td>\n",
              "    </tr>\n",
              "    <tr>\n",
              "      <th>4</th>\n",
              "      <td>41.0</td>\n",
              "      <td>0.097561</td>\n",
              "    </tr>\n",
              "    <tr>\n",
              "      <th>5</th>\n",
              "      <td>9.0</td>\n",
              "      <td>0.000000</td>\n",
              "    </tr>\n",
              "  </tbody>\n",
              "</table>\n",
              "</div>"
            ],
            "text/plain": [
              "            count      mean\n",
              "children                   \n",
              "0         14091.0  0.075438\n",
              "1          4808.0  0.092346\n",
              "2          2052.0  0.094542\n",
              "3           330.0  0.081818\n",
              "4            41.0  0.097561\n",
              "5             9.0  0.000000"
            ]
          },
          "execution_count": 23,
          "metadata": {},
          "output_type": "execute_result"
        }
      ],
      "source": [
        "data.pivot_table(index='children', values='debt', aggfunc={'count', 'mean'})"
      ]
    },
    {
      "cell_type": "markdown",
      "id": "5ec3bb4f",
      "metadata": {
        "id": "5ec3bb4f"
      },
      "source": [
        "**Вывод**\n",
        "\n",
        "Самый большой процент не возвратов денег в срок прослеживается среди людей с 4-я детьми. Это скорее всего связано с маленьким числом заёмщиков в этой категории.\n",
        "\n",
        "Можно сказать, что чаще всего не выплачивают кредит в срок категории с 2 и 3 детьми, потому что в этих случаях число заёмщиков достаточно значительное.</div>"
      ]
    },
    {
      "cell_type": "markdown",
      "id": "74c9b3a7",
      "metadata": {
        "deletable": false,
        "editable": false,
        "id": "74c9b3a7"
      },
      "source": [
        "#### Есть ли зависимость между семейным положением и возвратом кредита в срок"
      ]
    },
    {
      "cell_type": "code",
      "execution_count": null,
      "id": "8098ab3b",
      "metadata": {
        "deletable": false,
        "id": "8098ab3b",
        "outputId": "1084929c-d741-4fe4-93f5-62fab8bbfc55"
      },
      "outputs": [
        {
          "data": {
            "text/plain": [
              "family_status\n",
              "Не женат / не замужем    273\n",
              "в разводе                 84\n",
              "вдовец / вдова            63\n",
              "гражданский брак         385\n",
              "женат / замужем          927\n",
              "Name: debt, dtype: int64"
            ]
          },
          "execution_count": 24,
          "metadata": {},
          "output_type": "execute_result"
        }
      ],
      "source": [
        "# Сгруппируем датафрейм по столбцам \"семейный статус\" и \"долг\" и применим sum()\n",
        "data.groupby('family_status')['debt'].sum()"
      ]
    },
    {
      "cell_type": "markdown",
      "id": "c389ca63",
      "metadata": {
        "deletable": false,
        "id": "c389ca63"
      },
      "source": [
        "**Вывод:** Женатые / замужние люди почти в 3 раза чаще не возвращали кредит в срок, чем люди, состоящие в гражданском браке. Самыми ответственными заемщиками являются вдовцы / вдовы и разведенные пары."
      ]
    },
    {
      "cell_type": "code",
      "execution_count": null,
      "id": "0bce810a",
      "metadata": {
        "id": "0bce810a",
        "outputId": "b41cb60f-f838-497f-d8da-395d4a786031"
      },
      "outputs": [
        {
          "data": {
            "text/html": [
              "<div>\n",
              "<style scoped>\n",
              "    .dataframe tbody tr th:only-of-type {\n",
              "        vertical-align: middle;\n",
              "    }\n",
              "\n",
              "    .dataframe tbody tr th {\n",
              "        vertical-align: top;\n",
              "    }\n",
              "\n",
              "    .dataframe thead th {\n",
              "        text-align: right;\n",
              "    }\n",
              "</style>\n",
              "<table border=\"1\" class=\"dataframe\">\n",
              "  <thead>\n",
              "    <tr style=\"text-align: right;\">\n",
              "      <th></th>\n",
              "      <th>count</th>\n",
              "      <th>mean</th>\n",
              "    </tr>\n",
              "    <tr>\n",
              "      <th>family_status</th>\n",
              "      <th></th>\n",
              "      <th></th>\n",
              "    </tr>\n",
              "  </thead>\n",
              "  <tbody>\n",
              "    <tr>\n",
              "      <th>Не женат / не замужем</th>\n",
              "      <td>2796.0</td>\n",
              "      <td>0.097639</td>\n",
              "    </tr>\n",
              "    <tr>\n",
              "      <th>в разводе</th>\n",
              "      <td>1189.0</td>\n",
              "      <td>0.070648</td>\n",
              "    </tr>\n",
              "    <tr>\n",
              "      <th>вдовец / вдова</th>\n",
              "      <td>951.0</td>\n",
              "      <td>0.066246</td>\n",
              "    </tr>\n",
              "    <tr>\n",
              "      <th>гражданский брак</th>\n",
              "      <td>4134.0</td>\n",
              "      <td>0.093130</td>\n",
              "    </tr>\n",
              "    <tr>\n",
              "      <th>женат / замужем</th>\n",
              "      <td>12261.0</td>\n",
              "      <td>0.075606</td>\n",
              "    </tr>\n",
              "  </tbody>\n",
              "</table>\n",
              "</div>"
            ],
            "text/plain": [
              "                         count      mean\n",
              "family_status                           \n",
              "Не женат / не замужем   2796.0  0.097639\n",
              "в разводе               1189.0  0.070648\n",
              "вдовец / вдова           951.0  0.066246\n",
              "гражданский брак        4134.0  0.093130\n",
              "женат / замужем        12261.0  0.075606"
            ]
          },
          "execution_count": 25,
          "metadata": {},
          "output_type": "execute_result"
        }
      ],
      "source": [
        "data.pivot_table(index='family_status', values='debt', aggfunc={'count', 'mean'})"
      ]
    },
    {
      "cell_type": "markdown",
      "id": "9529de68",
      "metadata": {
        "deletable": false,
        "editable": false,
        "id": "9529de68"
      },
      "source": [
        "#### Есть ли зависимость между уровнем дохода и возвратом кредита в срок"
      ]
    },
    {
      "cell_type": "code",
      "execution_count": null,
      "id": "8787f44a",
      "metadata": {
        "deletable": false,
        "id": "8787f44a",
        "outputId": "b0012d37-3b00-4e76-a2fd-2ccbcaf269af"
      },
      "outputs": [
        {
          "data": {
            "text/plain": [
              "total_income_category\n",
              "A       2\n",
              "B     354\n",
              "C    1353\n",
              "D      21\n",
              "E       2\n",
              "Name: debt, dtype: int64"
            ]
          },
          "execution_count": 26,
          "metadata": {},
          "output_type": "execute_result"
        }
      ],
      "source": [
        "data.groupby('total_income_category')['debt'].sum()"
      ]
    },
    {
      "cell_type": "markdown",
      "id": "6dd14b57",
      "metadata": {
        "deletable": false,
        "id": "6dd14b57"
      },
      "source": [
        "**Вывод:** Основная масса людей, которые не вернули кредит в срок имеют доход в размере от 50 до 200 тыс. рублей. Так же достаточно большое количество должников наблюдается среди заемщиков с доходов от 30 до 50 тыс. рублей."
      ]
    },
    {
      "cell_type": "code",
      "execution_count": null,
      "id": "ab11cd53",
      "metadata": {
        "id": "ab11cd53",
        "outputId": "9294103b-5c73-4277-b903-ab855b78199d"
      },
      "outputs": [
        {
          "data": {
            "text/html": [
              "<div>\n",
              "<style scoped>\n",
              "    .dataframe tbody tr th:only-of-type {\n",
              "        vertical-align: middle;\n",
              "    }\n",
              "\n",
              "    .dataframe tbody tr th {\n",
              "        vertical-align: top;\n",
              "    }\n",
              "\n",
              "    .dataframe thead th {\n",
              "        text-align: right;\n",
              "    }\n",
              "</style>\n",
              "<table border=\"1\" class=\"dataframe\">\n",
              "  <thead>\n",
              "    <tr style=\"text-align: right;\">\n",
              "      <th></th>\n",
              "      <th>count</th>\n",
              "      <th>mean</th>\n",
              "    </tr>\n",
              "    <tr>\n",
              "      <th>total_income_category</th>\n",
              "      <th></th>\n",
              "      <th></th>\n",
              "    </tr>\n",
              "  </thead>\n",
              "  <tbody>\n",
              "    <tr>\n",
              "      <th>A</th>\n",
              "      <td>25.0</td>\n",
              "      <td>0.080000</td>\n",
              "    </tr>\n",
              "    <tr>\n",
              "      <th>B</th>\n",
              "      <td>5014.0</td>\n",
              "      <td>0.070602</td>\n",
              "    </tr>\n",
              "    <tr>\n",
              "      <th>C</th>\n",
              "      <td>15921.0</td>\n",
              "      <td>0.084982</td>\n",
              "    </tr>\n",
              "    <tr>\n",
              "      <th>D</th>\n",
              "      <td>349.0</td>\n",
              "      <td>0.060172</td>\n",
              "    </tr>\n",
              "    <tr>\n",
              "      <th>E</th>\n",
              "      <td>22.0</td>\n",
              "      <td>0.090909</td>\n",
              "    </tr>\n",
              "  </tbody>\n",
              "</table>\n",
              "</div>"
            ],
            "text/plain": [
              "                         count      mean\n",
              "total_income_category                   \n",
              "A                         25.0  0.080000\n",
              "B                       5014.0  0.070602\n",
              "C                      15921.0  0.084982\n",
              "D                        349.0  0.060172\n",
              "E                         22.0  0.090909"
            ]
          },
          "execution_count": 27,
          "metadata": {},
          "output_type": "execute_result"
        }
      ],
      "source": [
        "data.pivot_table(index='total_income_category', values='debt', aggfunc={'count', 'mean'})"
      ]
    },
    {
      "cell_type": "markdown",
      "id": "ba923416",
      "metadata": {
        "id": "ba923416"
      },
      "source": [
        "**Вывод**\n",
        "\n",
        "Заемщики с самым низким доходом чаще не выплачивают кредиты в срок. На это повлияло то, что количество заемщиков в этой категории меньше всего. Затем следуют люди, получающие от 50 до 200 тысяч, их процент не выплат от общего числа составляет 8,4."
      ]
    },
    {
      "cell_type": "markdown",
      "id": "1dcc9b12",
      "metadata": {
        "deletable": false,
        "editable": false,
        "id": "1dcc9b12"
      },
      "source": [
        "#### Как разные цели кредита влияют на его возврат в срок"
      ]
    },
    {
      "cell_type": "code",
      "execution_count": null,
      "id": "c602bc8b",
      "metadata": {
        "deletable": false,
        "id": "c602bc8b",
        "outputId": "85234196-a77e-4019-f746-4ba05f578435"
      },
      "outputs": [
        {
          "data": {
            "text/plain": [
              "purpose_category\n",
              "операции с автомобилем      400\n",
              "операции с недвижимостью    780\n",
              "получение образования       369\n",
              "проведение свадьбы          183\n",
              "Name: debt, dtype: int64"
            ]
          },
          "execution_count": 28,
          "metadata": {},
          "output_type": "execute_result"
        }
      ],
      "source": [
        "data.groupby('purpose_category')['debt'].sum()"
      ]
    },
    {
      "cell_type": "markdown",
      "id": "cf05ed63",
      "metadata": {
        "deletable": false,
        "id": "cf05ed63"
      },
      "source": [
        "**Вывод:** Чаще всего деньги не возвращались в срок, если были взяты для операций с недвижимостью. Меньше всего не возвратов в срок среди операций, связанных с проведением свадьбы."
      ]
    },
    {
      "cell_type": "code",
      "execution_count": null,
      "id": "a625d48d",
      "metadata": {
        "id": "a625d48d",
        "outputId": "944e5268-5e8b-48bb-dd11-261a7cace819"
      },
      "outputs": [
        {
          "data": {
            "text/html": [
              "<div>\n",
              "<style scoped>\n",
              "    .dataframe tbody tr th:only-of-type {\n",
              "        vertical-align: middle;\n",
              "    }\n",
              "\n",
              "    .dataframe tbody tr th {\n",
              "        vertical-align: top;\n",
              "    }\n",
              "\n",
              "    .dataframe thead th {\n",
              "        text-align: right;\n",
              "    }\n",
              "</style>\n",
              "<table border=\"1\" class=\"dataframe\">\n",
              "  <thead>\n",
              "    <tr style=\"text-align: right;\">\n",
              "      <th></th>\n",
              "      <th>count</th>\n",
              "      <th>mean</th>\n",
              "    </tr>\n",
              "    <tr>\n",
              "      <th>purpose_category</th>\n",
              "      <th></th>\n",
              "      <th></th>\n",
              "    </tr>\n",
              "  </thead>\n",
              "  <tbody>\n",
              "    <tr>\n",
              "      <th>операции с автомобилем</th>\n",
              "      <td>4279.0</td>\n",
              "      <td>0.093480</td>\n",
              "    </tr>\n",
              "    <tr>\n",
              "      <th>операции с недвижимостью</th>\n",
              "      <td>10751.0</td>\n",
              "      <td>0.072551</td>\n",
              "    </tr>\n",
              "    <tr>\n",
              "      <th>получение образования</th>\n",
              "      <td>3988.0</td>\n",
              "      <td>0.092528</td>\n",
              "    </tr>\n",
              "    <tr>\n",
              "      <th>проведение свадьбы</th>\n",
              "      <td>2313.0</td>\n",
              "      <td>0.079118</td>\n",
              "    </tr>\n",
              "  </tbody>\n",
              "</table>\n",
              "</div>"
            ],
            "text/plain": [
              "                            count      mean\n",
              "purpose_category                           \n",
              "операции с автомобилем     4279.0  0.093480\n",
              "операции с недвижимостью  10751.0  0.072551\n",
              "получение образования      3988.0  0.092528\n",
              "проведение свадьбы         2313.0  0.079118"
            ]
          },
          "execution_count": 29,
          "metadata": {},
          "output_type": "execute_result"
        }
      ],
      "source": [
        "data.pivot_table(index='purpose_category', values='debt', aggfunc={'count', 'mean'})"
      ]
    },
    {
      "cell_type": "markdown",
      "id": "fe2840d9",
      "metadata": {
        "id": "fe2840d9"
      },
      "source": [
        "**Вывод**\n",
        "\n",
        "Заемщики, которые брали кредиты для операций с автомобилем имеют 9,3% не выплат в срок от общего числа. Для образования такой процент составляет 9,2."
      ]
    },
    {
      "cell_type": "markdown",
      "id": "46c1f10b",
      "metadata": {
        "deletable": false,
        "editable": false,
        "id": "46c1f10b"
      },
      "source": [
        "#### Возможные причины появления пропусков в исходных данных"
      ]
    },
    {
      "cell_type": "markdown",
      "id": "3697d2a9",
      "metadata": {
        "deletable": false,
        "id": "3697d2a9"
      },
      "source": [
        "*Ответ:* Пропуски в данных свидетельствуют о сбое системы, поскольку отсутствует одинаковое количество ячеек в 2-х столбцах."
      ]
    },
    {
      "cell_type": "markdown",
      "id": "57bc304e",
      "metadata": {
        "deletable": false,
        "editable": false,
        "id": "57bc304e"
      },
      "source": [
        "## Вывод"
      ]
    },
    {
      "cell_type": "markdown",
      "id": "50e58848",
      "metadata": {
        "id": "50e58848"
      },
      "source": [
        "**Общий вывод**\n",
        "\n",
        "За основу анализа данных была взята статистика о платежеспособности клиентов банка.\n",
        "На этапе преобработки провели следующие операции с данными:\n",
        "- вывели общую информацию о датафрейме\n",
        "- заполнили пропуски, удалили аномальные значения и дубликаты\n",
        "- привели данные к общему виду\n",
        "- произвели категоризацию по количеству дохода и цели кредита\n",
        "\n",
        "Отвечая на вопрос есть ли зависимость между семейным положением, количеством детей и выплатой кредита в срок, выяснили, что при наличии 2-х детей люди чаще просрочивают оплату кредита, также не выплачивают в срок не женатые и состоящие в гражданском браке, имеющие доход от 50 до 200 тысяч и те, кто берёт кредит для операций с автомобилем.\n",
        "\n",
        "**Идеальным заёмщиком** будет человек *без детей*, *женатый*, получающий *от 200 тысяч до 1 миллиона* и целью кредита у которого будет *проведение свадьбы* или *операции с недвижимостью*."
      ]
    }
  ],
  "metadata": {
    "ExecuteTimeLog": [
      {
        "duration": 47,
        "start_time": "2023-03-24T05:22:14.708Z"
      },
      {
        "duration": 547,
        "start_time": "2023-03-24T05:22:23.652Z"
      },
      {
        "duration": 31,
        "start_time": "2023-03-24T05:22:24.201Z"
      },
      {
        "duration": 38,
        "start_time": "2023-03-24T05:22:24.234Z"
      },
      {
        "duration": 13,
        "start_time": "2023-03-24T05:22:24.274Z"
      },
      {
        "duration": 35,
        "start_time": "2023-03-24T05:22:24.289Z"
      },
      {
        "duration": 4,
        "start_time": "2023-03-24T05:22:24.325Z"
      },
      {
        "duration": 9,
        "start_time": "2023-03-24T05:22:24.331Z"
      },
      {
        "duration": 25,
        "start_time": "2023-03-24T05:22:24.341Z"
      },
      {
        "duration": 10,
        "start_time": "2023-03-24T05:22:24.368Z"
      },
      {
        "duration": 6,
        "start_time": "2023-03-24T05:22:24.382Z"
      },
      {
        "duration": 34,
        "start_time": "2023-03-24T05:22:24.390Z"
      },
      {
        "duration": 38,
        "start_time": "2023-03-24T05:22:24.425Z"
      },
      {
        "duration": 9,
        "start_time": "2023-03-24T05:22:24.465Z"
      },
      {
        "duration": 18,
        "start_time": "2023-03-24T05:22:24.475Z"
      },
      {
        "duration": 26,
        "start_time": "2023-03-24T05:22:24.496Z"
      },
      {
        "duration": 17,
        "start_time": "2023-03-24T05:22:24.524Z"
      },
      {
        "duration": 22,
        "start_time": "2023-03-24T05:22:24.543Z"
      },
      {
        "duration": 16,
        "start_time": "2023-03-24T05:22:24.567Z"
      },
      {
        "duration": 5,
        "start_time": "2023-03-24T05:22:24.585Z"
      },
      {
        "duration": 4,
        "start_time": "2023-03-24T05:22:24.591Z"
      },
      {
        "duration": 19,
        "start_time": "2023-03-24T05:22:24.596Z"
      },
      {
        "duration": 8,
        "start_time": "2023-03-24T05:22:24.616Z"
      },
      {
        "duration": 3,
        "start_time": "2023-03-24T05:22:24.626Z"
      },
      {
        "duration": 5,
        "start_time": "2023-03-24T05:22:24.631Z"
      },
      {
        "duration": 26,
        "start_time": "2023-03-24T05:22:24.638Z"
      },
      {
        "duration": 4,
        "start_time": "2023-03-24T05:22:37.109Z"
      },
      {
        "duration": 8,
        "start_time": "2023-03-24T05:23:24.228Z"
      },
      {
        "duration": 9,
        "start_time": "2023-03-24T05:28:46.029Z"
      },
      {
        "duration": 8,
        "start_time": "2023-03-24T05:30:48.627Z"
      },
      {
        "duration": 12,
        "start_time": "2023-03-24T05:31:08.346Z"
      },
      {
        "duration": 3,
        "start_time": "2023-03-24T05:35:16.328Z"
      },
      {
        "duration": 12,
        "start_time": "2023-03-24T05:35:21.147Z"
      },
      {
        "duration": 9,
        "start_time": "2023-03-24T05:37:34.058Z"
      },
      {
        "duration": 9,
        "start_time": "2023-03-24T05:42:49.244Z"
      },
      {
        "duration": 868,
        "start_time": "2023-03-24T15:43:01.191Z"
      },
      {
        "duration": 28,
        "start_time": "2023-03-24T15:43:02.061Z"
      },
      {
        "duration": 16,
        "start_time": "2023-03-24T15:43:02.091Z"
      },
      {
        "duration": 39,
        "start_time": "2023-03-24T15:43:02.110Z"
      },
      {
        "duration": 42,
        "start_time": "2023-03-24T15:43:02.155Z"
      },
      {
        "duration": 5,
        "start_time": "2023-03-24T15:43:02.199Z"
      },
      {
        "duration": 24,
        "start_time": "2023-03-24T15:43:02.206Z"
      },
      {
        "duration": 14,
        "start_time": "2023-03-24T15:43:02.241Z"
      },
      {
        "duration": 16,
        "start_time": "2023-03-24T15:43:02.256Z"
      },
      {
        "duration": 23,
        "start_time": "2023-03-24T15:43:02.275Z"
      },
      {
        "duration": 63,
        "start_time": "2023-03-24T15:43:02.300Z"
      },
      {
        "duration": 12,
        "start_time": "2023-03-24T15:43:02.365Z"
      },
      {
        "duration": 17,
        "start_time": "2023-03-24T15:43:02.378Z"
      },
      {
        "duration": 39,
        "start_time": "2023-03-24T15:43:02.397Z"
      },
      {
        "duration": 37,
        "start_time": "2023-03-24T15:43:02.438Z"
      },
      {
        "duration": 17,
        "start_time": "2023-03-24T15:43:02.476Z"
      },
      {
        "duration": 5,
        "start_time": "2023-03-24T15:43:02.495Z"
      },
      {
        "duration": 52,
        "start_time": "2023-03-24T15:43:02.501Z"
      },
      {
        "duration": 17,
        "start_time": "2023-03-24T15:43:02.555Z"
      },
      {
        "duration": 29,
        "start_time": "2023-03-24T15:43:02.574Z"
      },
      {
        "duration": 88,
        "start_time": "2023-03-24T15:43:02.605Z"
      },
      {
        "duration": 19,
        "start_time": "2023-03-24T15:43:02.695Z"
      },
      {
        "duration": 53,
        "start_time": "2023-03-24T15:43:02.716Z"
      },
      {
        "duration": 13,
        "start_time": "2023-03-24T15:43:02.771Z"
      },
      {
        "duration": 18,
        "start_time": "2023-03-24T15:43:02.787Z"
      },
      {
        "duration": 78,
        "start_time": "2023-03-25T16:04:07.632Z"
      },
      {
        "duration": 63,
        "start_time": "2023-03-25T16:04:13.978Z"
      },
      {
        "duration": 72,
        "start_time": "2023-03-25T16:04:16.843Z"
      },
      {
        "duration": 90,
        "start_time": "2023-03-25T16:04:23.056Z"
      },
      {
        "duration": 72,
        "start_time": "2023-03-25T16:05:16.049Z"
      },
      {
        "duration": 70,
        "start_time": "2023-03-25T16:05:38.684Z"
      },
      {
        "duration": 75,
        "start_time": "2023-03-25T16:06:02.054Z"
      },
      {
        "duration": 70,
        "start_time": "2023-03-25T16:06:29.204Z"
      },
      {
        "duration": 70,
        "start_time": "2023-03-25T16:20:51.837Z"
      },
      {
        "duration": 93,
        "start_time": "2023-03-25T16:21:01.041Z"
      },
      {
        "duration": 78,
        "start_time": "2023-03-25T16:21:37.338Z"
      },
      {
        "duration": 80,
        "start_time": "2023-03-25T16:23:00.522Z"
      },
      {
        "duration": 52,
        "start_time": "2023-03-26T09:31:12.084Z"
      },
      {
        "duration": 762,
        "start_time": "2023-03-26T09:31:23.301Z"
      },
      {
        "duration": 26,
        "start_time": "2023-03-26T09:31:24.065Z"
      },
      {
        "duration": 23,
        "start_time": "2023-03-26T09:31:24.093Z"
      },
      {
        "duration": 21,
        "start_time": "2023-03-26T09:31:24.119Z"
      },
      {
        "duration": 69,
        "start_time": "2023-03-26T09:31:24.142Z"
      },
      {
        "duration": 5,
        "start_time": "2023-03-26T09:31:24.213Z"
      },
      {
        "duration": 23,
        "start_time": "2023-03-26T09:31:24.220Z"
      },
      {
        "duration": 17,
        "start_time": "2023-03-26T09:31:24.246Z"
      },
      {
        "duration": 12,
        "start_time": "2023-03-26T09:31:24.265Z"
      },
      {
        "duration": 5,
        "start_time": "2023-03-26T09:31:24.287Z"
      },
      {
        "duration": 46,
        "start_time": "2023-03-26T09:31:24.293Z"
      },
      {
        "duration": 11,
        "start_time": "2023-03-26T09:31:24.341Z"
      },
      {
        "duration": 4,
        "start_time": "2023-03-26T09:31:24.354Z"
      },
      {
        "duration": 32,
        "start_time": "2023-03-26T09:31:24.360Z"
      },
      {
        "duration": 24,
        "start_time": "2023-03-26T09:31:24.394Z"
      },
      {
        "duration": 20,
        "start_time": "2023-03-26T09:31:24.420Z"
      },
      {
        "duration": 5,
        "start_time": "2023-03-26T09:31:24.442Z"
      },
      {
        "duration": 39,
        "start_time": "2023-03-26T09:31:24.449Z"
      },
      {
        "duration": 7,
        "start_time": "2023-03-26T09:31:24.490Z"
      },
      {
        "duration": 6,
        "start_time": "2023-03-26T09:31:24.499Z"
      },
      {
        "duration": 14,
        "start_time": "2023-03-26T09:31:24.507Z"
      },
      {
        "duration": 10,
        "start_time": "2023-03-26T09:31:24.523Z"
      },
      {
        "duration": 54,
        "start_time": "2023-03-26T09:31:24.535Z"
      },
      {
        "duration": 9,
        "start_time": "2023-03-26T09:31:24.591Z"
      },
      {
        "duration": 14,
        "start_time": "2023-03-26T09:31:24.602Z"
      },
      {
        "duration": 9,
        "start_time": "2023-03-26T09:31:24.618Z"
      },
      {
        "duration": 85,
        "start_time": "2023-03-26T09:32:11.661Z"
      },
      {
        "duration": 488,
        "start_time": "2023-03-26T09:32:27.808Z"
      },
      {
        "duration": 25,
        "start_time": "2023-03-26T09:32:28.298Z"
      },
      {
        "duration": 16,
        "start_time": "2023-03-26T09:32:28.325Z"
      },
      {
        "duration": 11,
        "start_time": "2023-03-26T09:32:28.343Z"
      },
      {
        "duration": 69,
        "start_time": "2023-03-26T09:32:28.355Z"
      },
      {
        "duration": 4,
        "start_time": "2023-03-26T09:32:28.426Z"
      },
      {
        "duration": 12,
        "start_time": "2023-03-26T09:32:28.432Z"
      },
      {
        "duration": 9,
        "start_time": "2023-03-26T09:32:28.446Z"
      },
      {
        "duration": 30,
        "start_time": "2023-03-26T09:32:28.457Z"
      },
      {
        "duration": 5,
        "start_time": "2023-03-26T09:32:28.491Z"
      },
      {
        "duration": 40,
        "start_time": "2023-03-26T09:32:28.498Z"
      },
      {
        "duration": 13,
        "start_time": "2023-03-26T09:32:28.540Z"
      },
      {
        "duration": 34,
        "start_time": "2023-03-26T09:32:28.554Z"
      },
      {
        "duration": 15,
        "start_time": "2023-03-26T09:32:28.590Z"
      },
      {
        "duration": 24,
        "start_time": "2023-03-26T09:32:28.607Z"
      },
      {
        "duration": 27,
        "start_time": "2023-03-26T09:32:28.633Z"
      },
      {
        "duration": 27,
        "start_time": "2023-03-26T09:32:28.662Z"
      },
      {
        "duration": 16,
        "start_time": "2023-03-26T09:32:28.691Z"
      },
      {
        "duration": 9,
        "start_time": "2023-03-26T09:32:28.709Z"
      },
      {
        "duration": 6,
        "start_time": "2023-03-26T09:32:28.721Z"
      },
      {
        "duration": 14,
        "start_time": "2023-03-26T09:32:28.729Z"
      },
      {
        "duration": 17,
        "start_time": "2023-03-26T09:32:28.745Z"
      },
      {
        "duration": 115,
        "start_time": "2023-03-26T09:32:28.765Z"
      },
      {
        "duration": 0,
        "start_time": "2023-03-26T09:32:28.888Z"
      },
      {
        "duration": 0,
        "start_time": "2023-03-26T09:32:28.889Z"
      },
      {
        "duration": 1,
        "start_time": "2023-03-26T09:32:28.890Z"
      },
      {
        "duration": 30,
        "start_time": "2023-03-26T09:32:42.654Z"
      },
      {
        "duration": 22,
        "start_time": "2023-03-26T09:33:33.321Z"
      },
      {
        "duration": 23,
        "start_time": "2023-03-26T09:33:45.002Z"
      },
      {
        "duration": 16,
        "start_time": "2023-03-26T09:39:29.121Z"
      },
      {
        "duration": 16,
        "start_time": "2023-03-26T09:39:53.122Z"
      },
      {
        "duration": 25,
        "start_time": "2023-03-26T09:43:30.922Z"
      },
      {
        "duration": 37,
        "start_time": "2023-03-26T09:43:37.910Z"
      },
      {
        "duration": 22,
        "start_time": "2023-03-26T09:46:23.816Z"
      },
      {
        "duration": 24,
        "start_time": "2023-03-26T09:58:52.114Z"
      },
      {
        "duration": 21,
        "start_time": "2023-03-26T09:59:13.254Z"
      },
      {
        "duration": 9,
        "start_time": "2023-03-26T10:04:14.116Z"
      },
      {
        "duration": 32,
        "start_time": "2023-03-26T10:04:23.510Z"
      },
      {
        "duration": 37,
        "start_time": "2023-03-26T10:08:28.925Z"
      },
      {
        "duration": 22,
        "start_time": "2023-03-26T10:08:52.136Z"
      },
      {
        "duration": 23,
        "start_time": "2023-03-26T10:13:38.613Z"
      },
      {
        "duration": 776,
        "start_time": "2023-03-26T15:20:06.773Z"
      },
      {
        "duration": 24,
        "start_time": "2023-03-26T15:20:07.552Z"
      },
      {
        "duration": 24,
        "start_time": "2023-03-26T15:20:07.579Z"
      },
      {
        "duration": 27,
        "start_time": "2023-03-26T15:20:07.605Z"
      },
      {
        "duration": 38,
        "start_time": "2023-03-26T15:20:07.634Z"
      },
      {
        "duration": 4,
        "start_time": "2023-03-26T15:20:07.674Z"
      },
      {
        "duration": 14,
        "start_time": "2023-03-26T15:20:07.679Z"
      },
      {
        "duration": 5,
        "start_time": "2023-03-26T15:20:07.695Z"
      },
      {
        "duration": 20,
        "start_time": "2023-03-26T15:20:07.701Z"
      },
      {
        "duration": 18,
        "start_time": "2023-03-26T15:20:07.724Z"
      },
      {
        "duration": 52,
        "start_time": "2023-03-26T15:20:07.744Z"
      },
      {
        "duration": 13,
        "start_time": "2023-03-26T15:20:07.799Z"
      },
      {
        "duration": 29,
        "start_time": "2023-03-26T15:20:07.814Z"
      },
      {
        "duration": 15,
        "start_time": "2023-03-26T15:20:07.847Z"
      },
      {
        "duration": 31,
        "start_time": "2023-03-26T15:20:07.864Z"
      },
      {
        "duration": 20,
        "start_time": "2023-03-26T15:20:07.897Z"
      },
      {
        "duration": 23,
        "start_time": "2023-03-26T15:20:07.919Z"
      },
      {
        "duration": 17,
        "start_time": "2023-03-26T15:20:07.944Z"
      },
      {
        "duration": 9,
        "start_time": "2023-03-26T15:20:07.963Z"
      },
      {
        "duration": 9,
        "start_time": "2023-03-26T15:20:07.975Z"
      },
      {
        "duration": 17,
        "start_time": "2023-03-26T15:20:07.985Z"
      },
      {
        "duration": 11,
        "start_time": "2023-03-26T15:20:08.004Z"
      },
      {
        "duration": 48,
        "start_time": "2023-03-26T15:20:08.017Z"
      },
      {
        "duration": 9,
        "start_time": "2023-03-26T15:20:08.067Z"
      },
      {
        "duration": 26,
        "start_time": "2023-03-26T15:20:08.078Z"
      },
      {
        "duration": 36,
        "start_time": "2023-03-26T15:20:08.106Z"
      },
      {
        "duration": 26,
        "start_time": "2023-03-26T15:20:08.144Z"
      },
      {
        "duration": 12,
        "start_time": "2023-03-26T15:20:08.172Z"
      },
      {
        "duration": 56,
        "start_time": "2023-03-26T15:20:08.186Z"
      },
      {
        "duration": 506,
        "start_time": "2023-03-26T15:45:41.790Z"
      }
    ],
    "colab": {
      "provenance": []
    },
    "kernelspec": {
      "display_name": "Python 3 (ipykernel)",
      "language": "python",
      "name": "python3"
    },
    "language_info": {
      "codemirror_mode": {
        "name": "ipython",
        "version": 3
      },
      "file_extension": ".py",
      "mimetype": "text/x-python",
      "name": "python",
      "nbconvert_exporter": "python",
      "pygments_lexer": "ipython3",
      "version": "3.9.5"
    },
    "toc": {
      "base_numbering": 1,
      "nav_menu": {},
      "number_sections": true,
      "sideBar": true,
      "skip_h1_title": true,
      "title_cell": "Содержание",
      "title_sidebar": "Contents",
      "toc_cell": true,
      "toc_position": {},
      "toc_section_display": true,
      "toc_window_display": false
    }
  },
  "nbformat": 4,
  "nbformat_minor": 5
}
