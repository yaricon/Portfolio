{
  "cells": [
    {
      "cell_type": "markdown",
      "metadata": {
        "id": "e4GmmTkME2nI"
      },
      "source": [
        "# Анализ базы данных книжного сервиса"
      ]
    },
    {
      "cell_type": "markdown",
      "metadata": {
        "id": "pU2w2rh8E2nJ"
      },
      "source": [
        "В данном проекте необходимо проанализировать базу данных книжного сервиса."
      ]
    },
    {
      "cell_type": "markdown",
      "metadata": {
        "id": "-5n_kYx0E2nJ"
      },
      "source": [
        "**Цель проекта**\n",
        "\n",
        "Ad-hoc анализ для формирования ценностного предложение для нового продукта."
      ]
    },
    {
      "cell_type": "markdown",
      "metadata": {
        "id": "nrueTcjkE2nJ"
      },
      "source": [
        "*Входные данные* - `база данных книжного сервиса с информацией о книгах, издательствах, авторах, а также пользовательские обзоры книг`"
      ]
    },
    {
      "cell_type": "markdown",
      "metadata": {
        "id": "i3SOZTp0E2nJ"
      },
      "source": [
        "**Описание данных**\n",
        "\n",
        "\n",
        "\n",
        "**Таблица books**\n",
        "\n",
        "Содержит данные о книгах:\n",
        "\n",
        " - `book_id` — идентификатор книги;\n",
        "\n",
        " - `author_id` — идентификатор автора;\n",
        "\n",
        " - `title` — название книги;\n",
        "\n",
        " - `num_pages` — количество страниц;\n",
        "\n",
        " - `publication_date` — дата публикации книги;\n",
        "\n",
        " - `publisher_id` — идентификатор издателя.\n",
        "\n",
        "\n",
        "**Таблица authors**\n",
        "\n",
        "Содержит данные об авторах:\n",
        "\n",
        " - `author_id` — идентификатор автора;\n",
        "\n",
        " - `author` — имя автора.\n",
        "\n",
        "\n",
        "**Таблица publishers**\n",
        "\n",
        "Содержит данные об издательствах:\n",
        "\n",
        " - `publisher_id` — идентификатор издательства;\n",
        "\n",
        " - `publisher` — название издательства.\n",
        "\n",
        "\n",
        "**Таблица ratings**\n",
        "\n",
        "Содержит данные о пользовательских оценках книг:\n",
        "\n",
        " - `rating_id` — идентификатор оценки;\n",
        "\n",
        " - `book_id` — идентификатор книги;\n",
        "\n",
        " - `username` — имя пользователя, оставившего оценку;\n",
        "\n",
        " - `rating` — оценка книги.\n",
        "\n",
        "\n",
        "**Таблица reviews**\n",
        "\n",
        "Содержит данные о пользовательских обзорах:\n",
        "\n",
        " - `review_id` — идентификатор обзора;\n",
        "\n",
        " - `book_id` — идентификатор книги;\n",
        "\n",
        " - `username` — имя автора обзора;\n",
        "\n",
        " - `text` — текст обзора."
      ]
    },
    {
      "cell_type": "markdown",
      "metadata": {
        "id": "gkq1B-FjE2nK"
      },
      "source": [
        "## Подключение к базе"
      ]
    },
    {
      "cell_type": "code",
      "execution_count": null,
      "metadata": {
        "id": "9D3IhZDJE2nL"
      },
      "outputs": [],
      "source": [
        "#импортируем необходимые библиотеки\n",
        "import pandas as pd\n",
        "import sqlalchemy as sa\n",
        "\n",
        "# устанавливаем параметры\n",
        "db_config = {\n",
        "'user': 'praktikum_student', # имя пользователя\n",
        "'pwd': 'Sdf4$2;d-d30pp', # пароль\n",
        "'host': 'rc1b-wcoijxj3yxfsf3fs.mdb.yandexcloud.net',\n",
        "'port': 6432, # порт подключения\n",
        "'db': 'data-analyst-final-project-db' # название базы данных\n",
        "}\n",
        "connection_string = 'postgresql://{user}:{pwd}@{host}:{port}/{db}'.format(**db_config)\n",
        "\n",
        "# сохраняем коннектор\n",
        "engine = sa.create_engine(connection_string, connect_args={'sslmode':'require'})\n",
        "\n",
        "# чтобы выполнить SQL-запрос, пишем функцию с использованием Pandas\n",
        "def get_sql_data(query:str, engine:sa.engine.base.Engine=engine) -> pd.DataFrame:\n",
        "  with engine.connect() as con:\n",
        "    return pd.read_sql(sql=sa.text(query), con = con)"
      ]
    },
    {
      "cell_type": "code",
      "execution_count": null,
      "metadata": {
        "id": "EEVwZ_QLE2nM",
        "outputId": "aecef161-6d0f-408d-e298-5739545c41a3"
      },
      "outputs": [
        {
          "data": {
            "text/html": [
              "<div>\n",
              "<style scoped>\n",
              "    .dataframe tbody tr th:only-of-type {\n",
              "        vertical-align: middle;\n",
              "    }\n",
              "\n",
              "    .dataframe tbody tr th {\n",
              "        vertical-align: top;\n",
              "    }\n",
              "\n",
              "    .dataframe thead th {\n",
              "        text-align: right;\n",
              "    }\n",
              "</style>\n",
              "<table border=\"1\" class=\"dataframe\">\n",
              "  <thead>\n",
              "    <tr style=\"text-align: right;\">\n",
              "      <th></th>\n",
              "      <th>book_id</th>\n",
              "      <th>author_id</th>\n",
              "      <th>title</th>\n",
              "      <th>num_pages</th>\n",
              "      <th>publication_date</th>\n",
              "      <th>publisher_id</th>\n",
              "    </tr>\n",
              "  </thead>\n",
              "  <tbody>\n",
              "    <tr>\n",
              "      <th>0</th>\n",
              "      <td>1</td>\n",
              "      <td>546</td>\n",
              "      <td>'Salem's Lot</td>\n",
              "      <td>594</td>\n",
              "      <td>2005-11-01</td>\n",
              "      <td>93</td>\n",
              "    </tr>\n",
              "    <tr>\n",
              "      <th>1</th>\n",
              "      <td>2</td>\n",
              "      <td>465</td>\n",
              "      <td>1 000 Places to See Before You Die</td>\n",
              "      <td>992</td>\n",
              "      <td>2003-05-22</td>\n",
              "      <td>336</td>\n",
              "    </tr>\n",
              "    <tr>\n",
              "      <th>2</th>\n",
              "      <td>3</td>\n",
              "      <td>407</td>\n",
              "      <td>13 Little Blue Envelopes (Little Blue Envelope...</td>\n",
              "      <td>322</td>\n",
              "      <td>2010-12-21</td>\n",
              "      <td>135</td>\n",
              "    </tr>\n",
              "    <tr>\n",
              "      <th>3</th>\n",
              "      <td>4</td>\n",
              "      <td>82</td>\n",
              "      <td>1491: New Revelations of the Americas Before C...</td>\n",
              "      <td>541</td>\n",
              "      <td>2006-10-10</td>\n",
              "      <td>309</td>\n",
              "    </tr>\n",
              "    <tr>\n",
              "      <th>4</th>\n",
              "      <td>5</td>\n",
              "      <td>125</td>\n",
              "      <td>1776</td>\n",
              "      <td>386</td>\n",
              "      <td>2006-07-04</td>\n",
              "      <td>268</td>\n",
              "    </tr>\n",
              "  </tbody>\n",
              "</table>\n",
              "</div>"
            ],
            "text/plain": [
              "   book_id  author_id                                              title  \\\n",
              "0        1        546                                       'Salem's Lot   \n",
              "1        2        465                 1 000 Places to See Before You Die   \n",
              "2        3        407  13 Little Blue Envelopes (Little Blue Envelope...   \n",
              "3        4         82  1491: New Revelations of the Americas Before C...   \n",
              "4        5        125                                               1776   \n",
              "\n",
              "   num_pages publication_date  publisher_id  \n",
              "0        594       2005-11-01            93  \n",
              "1        992       2003-05-22           336  \n",
              "2        322       2010-12-21           135  \n",
              "3        541       2006-10-10           309  \n",
              "4        386       2006-07-04           268  "
            ]
          },
          "execution_count": 2,
          "metadata": {},
          "output_type": "execute_result"
        }
      ],
      "source": [
        "query = '''SELECT *\n",
        "           FROM books\n",
        "           LIMIT 5'''\n",
        "\n",
        "get_sql_data(query)"
      ]
    },
    {
      "cell_type": "code",
      "execution_count": null,
      "metadata": {
        "id": "kwO-LrY6E2nN",
        "outputId": "b2e951ce-9315-4263-a5ba-6318547be0ad"
      },
      "outputs": [
        {
          "data": {
            "text/html": [
              "<div>\n",
              "<style scoped>\n",
              "    .dataframe tbody tr th:only-of-type {\n",
              "        vertical-align: middle;\n",
              "    }\n",
              "\n",
              "    .dataframe tbody tr th {\n",
              "        vertical-align: top;\n",
              "    }\n",
              "\n",
              "    .dataframe thead th {\n",
              "        text-align: right;\n",
              "    }\n",
              "</style>\n",
              "<table border=\"1\" class=\"dataframe\">\n",
              "  <thead>\n",
              "    <tr style=\"text-align: right;\">\n",
              "      <th></th>\n",
              "      <th>max</th>\n",
              "    </tr>\n",
              "  </thead>\n",
              "  <tbody>\n",
              "    <tr>\n",
              "      <th>0</th>\n",
              "      <td>2020-03-31</td>\n",
              "    </tr>\n",
              "  </tbody>\n",
              "</table>\n",
              "</div>"
            ],
            "text/plain": [
              "          max\n",
              "0  2020-03-31"
            ]
          },
          "execution_count": 3,
          "metadata": {},
          "output_type": "execute_result"
        }
      ],
      "source": [
        "query = '''SELECT MAX(publication_date)\n",
        "           FROM books'''\n",
        "\n",
        "get_sql_data(query)"
      ]
    },
    {
      "cell_type": "markdown",
      "metadata": {
        "id": "yVvbexf9E2nO"
      },
      "source": [
        "## Анализ данных"
      ]
    },
    {
      "cell_type": "markdown",
      "metadata": {
        "id": "fBVPqG0mE2nO"
      },
      "source": [
        "### Количество книг, вышедших после 1 января 2000 года"
      ]
    },
    {
      "cell_type": "code",
      "execution_count": null,
      "metadata": {
        "id": "oQnDp4NjE2nO",
        "outputId": "b04c80f5-e938-4dac-cba4-d30a981a60dc"
      },
      "outputs": [
        {
          "data": {
            "text/html": [
              "<div>\n",
              "<style scoped>\n",
              "    .dataframe tbody tr th:only-of-type {\n",
              "        vertical-align: middle;\n",
              "    }\n",
              "\n",
              "    .dataframe tbody tr th {\n",
              "        vertical-align: top;\n",
              "    }\n",
              "\n",
              "    .dataframe thead th {\n",
              "        text-align: right;\n",
              "    }\n",
              "</style>\n",
              "<table border=\"1\" class=\"dataframe\">\n",
              "  <thead>\n",
              "    <tr style=\"text-align: right;\">\n",
              "      <th></th>\n",
              "      <th>count</th>\n",
              "    </tr>\n",
              "  </thead>\n",
              "  <tbody>\n",
              "    <tr>\n",
              "      <th>0</th>\n",
              "      <td>821</td>\n",
              "    </tr>\n",
              "  </tbody>\n",
              "</table>\n",
              "</div>"
            ],
            "text/plain": [
              "   count\n",
              "0    821"
            ]
          },
          "execution_count": 4,
          "metadata": {},
          "output_type": "execute_result"
        }
      ],
      "source": [
        "query = \"\"\"SELECT COUNT(book_id)\n",
        "           FROM books\n",
        "           WHERE publication_date::date >= '2000-01-01'\"\"\"\n",
        "\n",
        "get_sql_data(query)"
      ]
    },
    {
      "cell_type": "markdown",
      "metadata": {
        "id": "r4u3lM_ME2nO"
      },
      "source": [
        "**Вывод**\n",
        "\n",
        "Среди авторов, представленных в книжном сервисе с 1 января 2000 года по 31 марта 2020 года вышла 821 книга."
      ]
    },
    {
      "cell_type": "markdown",
      "metadata": {
        "id": "rDzCLsSlE2nP"
      },
      "source": [
        "### Количество обзоров и средний рейтинг для каждой книги"
      ]
    },
    {
      "cell_type": "code",
      "execution_count": null,
      "metadata": {
        "scrolled": false,
        "id": "tqgVoldTE2nP",
        "outputId": "517ced14-9e2a-464c-ad2d-15ac07456c16"
      },
      "outputs": [
        {
          "data": {
            "text/html": [
              "<div>\n",
              "<style scoped>\n",
              "    .dataframe tbody tr th:only-of-type {\n",
              "        vertical-align: middle;\n",
              "    }\n",
              "\n",
              "    .dataframe tbody tr th {\n",
              "        vertical-align: top;\n",
              "    }\n",
              "\n",
              "    .dataframe thead th {\n",
              "        text-align: right;\n",
              "    }\n",
              "</style>\n",
              "<table border=\"1\" class=\"dataframe\">\n",
              "  <thead>\n",
              "    <tr style=\"text-align: right;\">\n",
              "      <th></th>\n",
              "      <th>title</th>\n",
              "      <th>cnt_reviews</th>\n",
              "      <th>avg_rating</th>\n",
              "    </tr>\n",
              "  </thead>\n",
              "  <tbody>\n",
              "    <tr>\n",
              "      <th>0</th>\n",
              "      <td>'Salem's Lot</td>\n",
              "      <td>2</td>\n",
              "      <td>3.666667</td>\n",
              "    </tr>\n",
              "    <tr>\n",
              "      <th>1</th>\n",
              "      <td>1 000 Places to See Before You Die</td>\n",
              "      <td>1</td>\n",
              "      <td>2.500000</td>\n",
              "    </tr>\n",
              "    <tr>\n",
              "      <th>2</th>\n",
              "      <td>13 Little Blue Envelopes (Little Blue Envelope...</td>\n",
              "      <td>3</td>\n",
              "      <td>4.666667</td>\n",
              "    </tr>\n",
              "    <tr>\n",
              "      <th>3</th>\n",
              "      <td>1491: New Revelations of the Americas Before C...</td>\n",
              "      <td>2</td>\n",
              "      <td>4.500000</td>\n",
              "    </tr>\n",
              "    <tr>\n",
              "      <th>4</th>\n",
              "      <td>1776</td>\n",
              "      <td>4</td>\n",
              "      <td>4.000000</td>\n",
              "    </tr>\n",
              "    <tr>\n",
              "      <th>...</th>\n",
              "      <td>...</td>\n",
              "      <td>...</td>\n",
              "      <td>...</td>\n",
              "    </tr>\n",
              "    <tr>\n",
              "      <th>994</th>\n",
              "      <td>Wyrd Sisters (Discworld  #6; Witches #2)</td>\n",
              "      <td>3</td>\n",
              "      <td>3.666667</td>\n",
              "    </tr>\n",
              "    <tr>\n",
              "      <th>995</th>\n",
              "      <td>Xenocide (Ender's Saga  #3)</td>\n",
              "      <td>3</td>\n",
              "      <td>3.400000</td>\n",
              "    </tr>\n",
              "    <tr>\n",
              "      <th>996</th>\n",
              "      <td>Year of Wonders</td>\n",
              "      <td>4</td>\n",
              "      <td>3.200000</td>\n",
              "    </tr>\n",
              "    <tr>\n",
              "      <th>997</th>\n",
              "      <td>You Suck (A Love Story  #2)</td>\n",
              "      <td>2</td>\n",
              "      <td>4.500000</td>\n",
              "    </tr>\n",
              "    <tr>\n",
              "      <th>998</th>\n",
              "      <td>Zen and the Art of Motorcycle Maintenance: An ...</td>\n",
              "      <td>4</td>\n",
              "      <td>3.833333</td>\n",
              "    </tr>\n",
              "  </tbody>\n",
              "</table>\n",
              "<p>999 rows × 3 columns</p>\n",
              "</div>"
            ],
            "text/plain": [
              "                                                 title  cnt_reviews  \\\n",
              "0                                         'Salem's Lot            2   \n",
              "1                   1 000 Places to See Before You Die            1   \n",
              "2    13 Little Blue Envelopes (Little Blue Envelope...            3   \n",
              "3    1491: New Revelations of the Americas Before C...            2   \n",
              "4                                                 1776            4   \n",
              "..                                                 ...          ...   \n",
              "994           Wyrd Sisters (Discworld  #6; Witches #2)            3   \n",
              "995                        Xenocide (Ender's Saga  #3)            3   \n",
              "996                                    Year of Wonders            4   \n",
              "997                        You Suck (A Love Story  #2)            2   \n",
              "998  Zen and the Art of Motorcycle Maintenance: An ...            4   \n",
              "\n",
              "     avg_rating  \n",
              "0      3.666667  \n",
              "1      2.500000  \n",
              "2      4.666667  \n",
              "3      4.500000  \n",
              "4      4.000000  \n",
              "..          ...  \n",
              "994    3.666667  \n",
              "995    3.400000  \n",
              "996    3.200000  \n",
              "997    4.500000  \n",
              "998    3.833333  \n",
              "\n",
              "[999 rows x 3 columns]"
            ]
          },
          "execution_count": 5,
          "metadata": {},
          "output_type": "execute_result"
        }
      ],
      "source": [
        "query = \"\"\"SELECT title,\n",
        "                  COUNT(DISTINCT review_id) cnt_reviews,\n",
        "                  AVG(rating) avg_rating\n",
        "           FROM books b\n",
        "           LEFT JOIN reviews rev ON rev.book_id = b.book_id\n",
        "           LEFT JOIN ratings rat ON b.book_id = rat.book_id\n",
        "           GROUP BY title\"\"\"\n",
        "\n",
        "get_sql_data(query)"
      ]
    },
    {
      "cell_type": "code",
      "execution_count": null,
      "metadata": {
        "id": "VvWeDPCkE2nP",
        "outputId": "25761e11-14ff-4b56-d136-c79f5f38f685"
      },
      "outputs": [
        {
          "data": {
            "text/html": [
              "<div>\n",
              "<style scoped>\n",
              "    .dataframe tbody tr th:only-of-type {\n",
              "        vertical-align: middle;\n",
              "    }\n",
              "\n",
              "    .dataframe tbody tr th {\n",
              "        vertical-align: top;\n",
              "    }\n",
              "\n",
              "    .dataframe thead th {\n",
              "        text-align: right;\n",
              "    }\n",
              "</style>\n",
              "<table border=\"1\" class=\"dataframe\">\n",
              "  <thead>\n",
              "    <tr style=\"text-align: right;\">\n",
              "      <th></th>\n",
              "      <th>cnt_reviews</th>\n",
              "      <th>avg_rating</th>\n",
              "    </tr>\n",
              "  </thead>\n",
              "  <tbody>\n",
              "    <tr>\n",
              "      <th>0</th>\n",
              "      <td>2793</td>\n",
              "      <td>3.936791</td>\n",
              "    </tr>\n",
              "  </tbody>\n",
              "</table>\n",
              "</div>"
            ],
            "text/plain": [
              "   cnt_reviews  avg_rating\n",
              "0         2793    3.936791"
            ]
          },
          "execution_count": 6,
          "metadata": {},
          "output_type": "execute_result"
        }
      ],
      "source": [
        "query = '''SELECT COUNT(DISTINCT rev.review_id) cnt_reviews,\n",
        "                  AVG(rating) avg_rating\n",
        "           FROM reviews rev\n",
        "           LEFT JOIN ratings rat ON rev.book_id = rat.book_id'''\n",
        "\n",
        "get_sql_data(query)"
      ]
    },
    {
      "cell_type": "markdown",
      "metadata": {
        "id": "I269Xbo8E2nQ"
      },
      "source": [
        "**Вывод**\n",
        "\n",
        "Общее количество обзоров на книги в сервисе составило 2 793, а средний рейтинг всех книг - 3,94."
      ]
    },
    {
      "cell_type": "markdown",
      "metadata": {
        "id": "OUb0GIEcE2nQ"
      },
      "source": [
        "### Издательство, выпустившее наибольшее количество книг"
      ]
    },
    {
      "cell_type": "code",
      "execution_count": null,
      "metadata": {
        "id": "dXL2shUVE2nQ",
        "outputId": "e528797f-a6a6-431b-93e1-3e992c482f93"
      },
      "outputs": [
        {
          "data": {
            "text/html": [
              "<div>\n",
              "<style scoped>\n",
              "    .dataframe tbody tr th:only-of-type {\n",
              "        vertical-align: middle;\n",
              "    }\n",
              "\n",
              "    .dataframe tbody tr th {\n",
              "        vertical-align: top;\n",
              "    }\n",
              "\n",
              "    .dataframe thead th {\n",
              "        text-align: right;\n",
              "    }\n",
              "</style>\n",
              "<table border=\"1\" class=\"dataframe\">\n",
              "  <thead>\n",
              "    <tr style=\"text-align: right;\">\n",
              "      <th></th>\n",
              "      <th>publisher</th>\n",
              "      <th>count</th>\n",
              "    </tr>\n",
              "  </thead>\n",
              "  <tbody>\n",
              "    <tr>\n",
              "      <th>0</th>\n",
              "      <td>Penguin Books</td>\n",
              "      <td>42</td>\n",
              "    </tr>\n",
              "  </tbody>\n",
              "</table>\n",
              "</div>"
            ],
            "text/plain": [
              "       publisher  count\n",
              "0  Penguin Books     42"
            ]
          },
          "execution_count": 7,
          "metadata": {},
          "output_type": "execute_result"
        }
      ],
      "source": [
        "query = '''SELECT publisher,\n",
        "                  COUNT(b.book_id)\n",
        "           FROM publishers p\n",
        "           LEFT JOIN books b ON p.publisher_id = b.publisher_id\n",
        "           WHERE num_pages > 50\n",
        "           GROUP BY publisher\n",
        "           ORDER BY COUNT(book_id) DESC\n",
        "           LIMIT 1'''\n",
        "\n",
        "get_sql_data(query)"
      ]
    },
    {
      "cell_type": "markdown",
      "metadata": {
        "id": "kCaUUQxRE2nQ"
      },
      "source": [
        "**Вывод**\n",
        "\n",
        "Издательство, которое выпустило наибольшее число книг является Penguin Books. Учитывались книги в которых больше 50 страниц, дабы исключить попадение брошюр при анализе."
      ]
    },
    {
      "cell_type": "markdown",
      "metadata": {
        "id": "C0bmqmB_E2nR"
      },
      "source": [
        "### Автор с самой высокой средней оценкой книг"
      ]
    },
    {
      "cell_type": "code",
      "execution_count": null,
      "metadata": {
        "id": "KLoKsaABE2nR",
        "outputId": "3f6d11c3-0adf-4977-e22c-f606fd619e1b"
      },
      "outputs": [
        {
          "data": {
            "text/html": [
              "<div>\n",
              "<style scoped>\n",
              "    .dataframe tbody tr th:only-of-type {\n",
              "        vertical-align: middle;\n",
              "    }\n",
              "\n",
              "    .dataframe tbody tr th {\n",
              "        vertical-align: top;\n",
              "    }\n",
              "\n",
              "    .dataframe thead th {\n",
              "        text-align: right;\n",
              "    }\n",
              "</style>\n",
              "<table border=\"1\" class=\"dataframe\">\n",
              "  <thead>\n",
              "    <tr style=\"text-align: right;\">\n",
              "      <th></th>\n",
              "      <th>author</th>\n",
              "    </tr>\n",
              "  </thead>\n",
              "  <tbody>\n",
              "    <tr>\n",
              "      <th>0</th>\n",
              "      <td>J.K. Rowling/Mary GrandPré</td>\n",
              "    </tr>\n",
              "  </tbody>\n",
              "</table>\n",
              "</div>"
            ],
            "text/plain": [
              "                       author\n",
              "0  J.K. Rowling/Mary GrandPré"
            ]
          },
          "execution_count": 11,
          "metadata": {},
          "output_type": "execute_result"
        }
      ],
      "source": [
        "query = '''SELECT a.author\n",
        "           FROM authors a\n",
        "           LEFT JOIN books b ON a.author_id = b.author_id\n",
        "           LEFT JOIN ratings rat ON b.book_id = rat.book_id\n",
        "           WHERE b.book_id IN (SELECT book_id\n",
        "                               FROM (SELECT b.book_id,\n",
        "                                            COUNT(rating) cnt_rating\n",
        "                                     FROM books b\n",
        "                                     LEFT JOIN ratings rat ON b.book_id = rat.book_id\n",
        "                                     GROUP BY b.book_id) a\n",
        "                                     WHERE cnt_rating >= 50)\n",
        "           GROUP BY a.author\n",
        "           ORDER BY AVG(rat.rating) DESC\n",
        "           LIMIT 1'''\n",
        "\n",
        "get_sql_data(query)"
      ]
    },
    {
      "cell_type": "markdown",
      "metadata": {
        "id": "nDU8l-CHE2nS"
      },
      "source": [
        "**Вывод**\n",
        "\n",
        "Автором с самой высокой средней оценкой в сервисе является J.K. Rowling/Mary GrandPré. Из анализа исключили авторов, у которых меньше 50 оценок."
      ]
    },
    {
      "cell_type": "markdown",
      "metadata": {
        "id": "bpUfSBXPE2nS"
      },
      "source": [
        "### Среднее количество обзоров от пользователей"
      ]
    },
    {
      "cell_type": "code",
      "execution_count": null,
      "metadata": {
        "id": "KTI1NeJEE2nS",
        "outputId": "bf297bad-657f-4418-b3e7-2019c84e89b2"
      },
      "outputs": [
        {
          "data": {
            "text/html": [
              "<div>\n",
              "<style scoped>\n",
              "    .dataframe tbody tr th:only-of-type {\n",
              "        vertical-align: middle;\n",
              "    }\n",
              "\n",
              "    .dataframe tbody tr th {\n",
              "        vertical-align: top;\n",
              "    }\n",
              "\n",
              "    .dataframe thead th {\n",
              "        text-align: right;\n",
              "    }\n",
              "</style>\n",
              "<table border=\"1\" class=\"dataframe\">\n",
              "  <thead>\n",
              "    <tr style=\"text-align: right;\">\n",
              "      <th></th>\n",
              "      <th>avg</th>\n",
              "    </tr>\n",
              "  </thead>\n",
              "  <tbody>\n",
              "    <tr>\n",
              "      <th>0</th>\n",
              "      <td>24.0</td>\n",
              "    </tr>\n",
              "  </tbody>\n",
              "</table>\n",
              "</div>"
            ],
            "text/plain": [
              "    avg\n",
              "0  24.0"
            ]
          },
          "execution_count": 9,
          "metadata": {},
          "output_type": "execute_result"
        }
      ],
      "source": [
        "query = '''SELECT AVG(cnt_review)\n",
        "           FROM (SELECT COUNT(review_id) cnt_review\n",
        "                 FROM reviews\n",
        "                 WHERE username IN (SELECT username\n",
        "                                    FROM ratings\n",
        "                                    GROUP BY username\n",
        "                                    HAVING COUNT(rating) > 48)\n",
        "                 GROUP BY username) a'''\n",
        "\n",
        "get_sql_data(query)"
      ]
    },
    {
      "cell_type": "markdown",
      "metadata": {
        "id": "jpV6wNSUE2nT"
      },
      "source": [
        "**Вывод**\n",
        "\n",
        "Среднее количество обзоров от пользователей, которые поставили больше 48 оценок, составило 24."
      ]
    },
    {
      "cell_type": "markdown",
      "metadata": {
        "id": "bcmqCJvjE2nU"
      },
      "source": [
        "# Общий вывод"
      ]
    },
    {
      "cell_type": "markdown",
      "metadata": {
        "id": "B-Fj6D9TE2nU"
      },
      "source": [
        "Задачей проетка был ad-hoc анализ базы данных."
      ]
    },
    {
      "cell_type": "markdown",
      "metadata": {
        "id": "U-CYxSzaE2nU"
      },
      "source": [
        "**Этапы проекта**\n",
        "\n",
        "1. Подключение к базе\n",
        "\n",
        "\n",
        "2. Анализ данных\n",
        " - Количество книг, вышедших после 1 января 2000 года\n",
        " - Количество обзоров и средний рейтинг для каждой книги\n",
        " - Издательство, выпустившее наибольшее количество книг\n",
        " - Автор с самой высокой средней оценкой книг\n",
        " - Среднее количество обзоров от пользователей"
      ]
    },
    {
      "cell_type": "markdown",
      "metadata": {
        "id": "yVjYHuwbE2nU"
      },
      "source": [
        "**Результаты полученные в ходе исследования**\n",
        "\n",
        "- С 1 января 2000 года по 31 марта 2020 года вышла 821 книга\n",
        "- Общее количество обзоров составило 2 793, средний рейтинг всех книг - 3,94\n",
        "- Penguin Books - издательство, которое выпустило наибольшее число книг\n",
        "- J.K. Rowling/Mary GrandPré - автор с самой высокой средней оценкой\n",
        "- Среднее количество обзоров от пользователей составило 24"
      ]
    }
  ],
  "metadata": {
    "ExecuteTimeLog": [
      {
        "duration": 11566,
        "start_time": "2024-03-02T10:22:08.514Z"
      },
      {
        "duration": 57,
        "start_time": "2024-03-02T10:23:13.071Z"
      },
      {
        "duration": 10,
        "start_time": "2024-03-02T10:24:08.137Z"
      },
      {
        "duration": 30,
        "start_time": "2024-03-02T10:24:10.136Z"
      },
      {
        "duration": 11,
        "start_time": "2024-03-02T10:24:17.451Z"
      },
      {
        "duration": 15,
        "start_time": "2024-03-02T10:24:19.350Z"
      },
      {
        "duration": 13,
        "start_time": "2024-03-02T10:24:21.324Z"
      },
      {
        "duration": 11,
        "start_time": "2024-03-02T10:29:56.887Z"
      },
      {
        "duration": 86,
        "start_time": "2024-03-02T10:32:59.455Z"
      },
      {
        "duration": 23,
        "start_time": "2024-03-02T10:33:35.233Z"
      },
      {
        "duration": 15,
        "start_time": "2024-03-02T10:33:41.426Z"
      },
      {
        "duration": 16,
        "start_time": "2024-03-02T10:35:34.434Z"
      },
      {
        "duration": 11,
        "start_time": "2024-03-02T10:39:49.114Z"
      },
      {
        "duration": 15,
        "start_time": "2024-03-02T10:40:00.112Z"
      },
      {
        "duration": 11,
        "start_time": "2024-03-02T10:40:56.369Z"
      },
      {
        "duration": 9,
        "start_time": "2024-03-02T10:41:52.844Z"
      },
      {
        "duration": 8038,
        "start_time": "2024-03-02T17:56:16.248Z"
      },
      {
        "duration": 238,
        "start_time": "2024-03-02T17:56:24.288Z"
      },
      {
        "duration": 53,
        "start_time": "2024-03-02T17:56:24.527Z"
      },
      {
        "duration": 54,
        "start_time": "2024-03-02T17:56:24.582Z"
      },
      {
        "duration": 91,
        "start_time": "2024-03-02T17:56:24.637Z"
      },
      {
        "duration": 57,
        "start_time": "2024-03-02T17:56:24.730Z"
      },
      {
        "duration": 53,
        "start_time": "2024-03-02T17:56:24.789Z"
      },
      {
        "duration": 57,
        "start_time": "2024-03-02T17:56:24.844Z"
      },
      {
        "duration": 54,
        "start_time": "2024-03-02T17:56:24.903Z"
      },
      {
        "duration": 7960,
        "start_time": "2024-03-02T18:07:18.023Z"
      },
      {
        "duration": 224,
        "start_time": "2024-03-02T18:07:25.985Z"
      },
      {
        "duration": 51,
        "start_time": "2024-03-02T18:07:26.210Z"
      },
      {
        "duration": 50,
        "start_time": "2024-03-02T18:07:26.263Z"
      },
      {
        "duration": 86,
        "start_time": "2024-03-02T18:07:26.315Z"
      },
      {
        "duration": 55,
        "start_time": "2024-03-02T18:07:26.403Z"
      },
      {
        "duration": 50,
        "start_time": "2024-03-02T18:07:26.459Z"
      },
      {
        "duration": 54,
        "start_time": "2024-03-02T18:07:26.511Z"
      },
      {
        "duration": 51,
        "start_time": "2024-03-02T18:07:26.567Z"
      },
      {
        "duration": 51,
        "start_time": "2024-03-02T18:08:42.883Z"
      },
      {
        "duration": 86,
        "start_time": "2024-03-02T18:10:17.016Z"
      },
      {
        "duration": 56,
        "start_time": "2024-03-02T18:10:26.706Z"
      },
      {
        "duration": 51,
        "start_time": "2024-03-02T18:11:18.168Z"
      },
      {
        "duration": 89,
        "start_time": "2024-03-02T18:16:47.090Z"
      },
      {
        "duration": 57,
        "start_time": "2024-03-02T18:17:58.561Z"
      },
      {
        "duration": 124,
        "start_time": "2024-03-02T18:18:18.466Z"
      },
      {
        "duration": 61,
        "start_time": "2024-03-02T18:18:23.075Z"
      },
      {
        "duration": 50,
        "start_time": "2024-03-02T18:18:29.534Z"
      },
      {
        "duration": 50,
        "start_time": "2024-03-02T18:19:05.857Z"
      },
      {
        "duration": 78,
        "start_time": "2024-03-02T18:19:21.125Z"
      },
      {
        "duration": 89,
        "start_time": "2024-03-02T18:20:21.806Z"
      },
      {
        "duration": 85,
        "start_time": "2024-03-02T18:20:32.590Z"
      },
      {
        "duration": 76,
        "start_time": "2024-03-02T18:21:25.925Z"
      },
      {
        "duration": 51,
        "start_time": "2024-03-02T18:21:41.519Z"
      },
      {
        "duration": 55,
        "start_time": "2024-03-02T18:22:13.572Z"
      },
      {
        "duration": 59,
        "start_time": "2024-03-02T18:22:22.252Z"
      },
      {
        "duration": 88,
        "start_time": "2024-03-02T18:22:32.521Z"
      },
      {
        "duration": 88,
        "start_time": "2024-03-02T18:23:28.092Z"
      },
      {
        "duration": 89,
        "start_time": "2024-03-02T18:23:34.291Z"
      },
      {
        "duration": 91,
        "start_time": "2024-03-02T18:23:50.383Z"
      },
      {
        "duration": 91,
        "start_time": "2024-03-02T18:24:14.428Z"
      },
      {
        "duration": 59,
        "start_time": "2024-03-02T18:25:37.935Z"
      },
      {
        "duration": 88,
        "start_time": "2024-03-02T18:26:04.831Z"
      },
      {
        "duration": 95,
        "start_time": "2024-03-02T18:26:23.561Z"
      },
      {
        "duration": 62,
        "start_time": "2024-03-02T18:31:35.113Z"
      },
      {
        "duration": 60,
        "start_time": "2024-03-02T18:32:44.484Z"
      },
      {
        "duration": 62,
        "start_time": "2024-03-02T18:34:55.339Z"
      },
      {
        "duration": 63,
        "start_time": "2024-03-02T18:35:19.833Z"
      },
      {
        "duration": 60,
        "start_time": "2024-03-02T18:35:34.915Z"
      },
      {
        "duration": 71,
        "start_time": "2024-03-02T18:37:37.152Z"
      },
      {
        "duration": 65,
        "start_time": "2024-03-02T18:37:52.703Z"
      },
      {
        "duration": 61,
        "start_time": "2024-03-02T18:43:46.779Z"
      },
      {
        "duration": 54,
        "start_time": "2024-03-02T18:43:56.716Z"
      },
      {
        "duration": 61,
        "start_time": "2024-03-02T18:46:37.198Z"
      },
      {
        "duration": 61,
        "start_time": "2024-03-02T18:46:49.079Z"
      },
      {
        "duration": 61,
        "start_time": "2024-03-02T18:46:54.376Z"
      },
      {
        "duration": 62,
        "start_time": "2024-03-02T18:48:03.908Z"
      },
      {
        "duration": 55,
        "start_time": "2024-03-02T18:48:29.877Z"
      },
      {
        "duration": 55,
        "start_time": "2024-03-02T18:49:10.845Z"
      },
      {
        "duration": 53,
        "start_time": "2024-03-02T18:50:26.628Z"
      },
      {
        "duration": 60,
        "start_time": "2024-03-02T18:51:13.338Z"
      },
      {
        "duration": 60,
        "start_time": "2024-03-02T18:51:25.049Z"
      },
      {
        "duration": 60,
        "start_time": "2024-03-02T18:52:53.434Z"
      },
      {
        "duration": 62,
        "start_time": "2024-03-02T18:56:56.203Z"
      },
      {
        "duration": 53,
        "start_time": "2024-03-02T18:58:54.875Z"
      },
      {
        "duration": 9331,
        "start_time": "2024-03-03T03:09:59.002Z"
      },
      {
        "duration": 226,
        "start_time": "2024-03-03T03:10:08.335Z"
      },
      {
        "duration": 50,
        "start_time": "2024-03-03T03:10:08.562Z"
      },
      {
        "duration": 51,
        "start_time": "2024-03-03T03:10:08.614Z"
      },
      {
        "duration": 90,
        "start_time": "2024-03-03T03:10:08.667Z"
      },
      {
        "duration": 57,
        "start_time": "2024-03-03T03:10:08.759Z"
      },
      {
        "duration": 49,
        "start_time": "2024-03-03T03:10:08.817Z"
      },
      {
        "duration": 52,
        "start_time": "2024-03-03T03:10:08.868Z"
      },
      {
        "duration": 50,
        "start_time": "2024-03-03T03:10:08.921Z"
      },
      {
        "duration": 53,
        "start_time": "2024-03-03T03:11:06.387Z"
      },
      {
        "duration": 55,
        "start_time": "2024-03-03T03:11:11.371Z"
      }
    ],
    "kernelspec": {
      "display_name": "Python 3 (ipykernel)",
      "language": "python",
      "name": "python3"
    },
    "language_info": {
      "codemirror_mode": {
        "name": "ipython",
        "version": 3
      },
      "file_extension": ".py",
      "mimetype": "text/x-python",
      "name": "python",
      "nbconvert_exporter": "python",
      "pygments_lexer": "ipython3",
      "version": "3.9.5"
    },
    "toc": {
      "base_numbering": 1,
      "nav_menu": {},
      "number_sections": true,
      "sideBar": true,
      "skip_h1_title": true,
      "title_cell": "Table of Contents",
      "title_sidebar": "Contents",
      "toc_cell": false,
      "toc_position": {},
      "toc_section_display": true,
      "toc_window_display": false
    },
    "colab": {
      "provenance": []
    }
  },
  "nbformat": 4,
  "nbformat_minor": 0
}