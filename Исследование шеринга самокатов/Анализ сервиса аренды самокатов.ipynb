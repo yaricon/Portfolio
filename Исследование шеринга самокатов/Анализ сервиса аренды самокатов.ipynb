{
  "cells": [
    {
      "cell_type": "markdown",
      "id": "47c8a987",
      "metadata": {
        "id": "47c8a987"
      },
      "source": [
        "# Анализ сервиса аренды самокатов"
      ]
    },
    {
      "cell_type": "markdown",
      "id": "a69395fd",
      "metadata": {
        "id": "a69395fd"
      },
      "source": [
        "В рамках данного проекта необходимо провести исследование компании по аренде самокатов GoFast, которая предлагает использование своего сервиса бесплатно или с платной подпиской.\n",
        "\n",
        "`Условия без подписки`\n",
        "\n",
        "- абонентская плата отсутствует\n",
        "- стоимость одной минуты поездки — 8 рублей\n",
        "- стоимость старта (начала поездки) — 50 рублей\n",
        "\n",
        "`С подпиской Ultra`\n",
        "\n",
        "- абонентская плата — 199 рублей в месяц\n",
        "- стоимость одной минуты поездки — 6 рублей\n",
        "- стоимость старта — бесплатно"
      ]
    },
    {
      "cell_type": "markdown",
      "id": "4f1d90e5",
      "metadata": {
        "id": "4f1d90e5"
      },
      "source": [
        "**Цель**\n",
        "\n",
        "Провести анализ компании и проверить гипотезы, которые помогут в принятии решений для увеличения ключевых бизнес показателей."
      ]
    },
    {
      "cell_type": "markdown",
      "id": "7faf2ea5",
      "metadata": {
        "id": "7faf2ea5"
      },
      "source": [
        "**План работы:**\n",
        "\n",
        "1. Изучить датафрейм\n",
        "2. Предобработать данные\n",
        "3. Провести анализ данных\n",
        "4. Проверить гипотезы\n",
        "5. Написать общий вывод"
      ]
    },
    {
      "cell_type": "markdown",
      "id": "7ec27e45",
      "metadata": {
        "id": "7ec27e45"
      },
      "source": [
        "Входные данные - *3 датафрейма с информацией о пользователях, их поездках и подписках.*"
      ]
    },
    {
      "cell_type": "code",
      "execution_count": null,
      "id": "72576667",
      "metadata": {
        "id": "72576667"
      },
      "outputs": [],
      "source": [
        "# импортируем необходимые библиотеки\n",
        "\n",
        "import pandas as pd\n",
        "import matplotlib.pyplot as plt\n",
        "import seaborn as sns\n",
        "import numpy as np\n",
        "from scipy import stats as st"
      ]
    },
    {
      "cell_type": "markdown",
      "id": "c42cbe00",
      "metadata": {
        "id": "c42cbe00"
      },
      "source": [
        "#### Шаг 1. Загрузка данных"
      ]
    },
    {
      "cell_type": "code",
      "execution_count": null,
      "id": "eff9f206",
      "metadata": {
        "scrolled": false,
        "id": "eff9f206",
        "outputId": "1b91d78a-8358-48ee-f681-5095c92dbdc8"
      },
      "outputs": [
        {
          "data": {
            "text/html": [
              "<div>\n",
              "<style scoped>\n",
              "    .dataframe tbody tr th:only-of-type {\n",
              "        vertical-align: middle;\n",
              "    }\n",
              "\n",
              "    .dataframe tbody tr th {\n",
              "        vertical-align: top;\n",
              "    }\n",
              "\n",
              "    .dataframe thead th {\n",
              "        text-align: right;\n",
              "    }\n",
              "</style>\n",
              "<table border=\"1\" class=\"dataframe\">\n",
              "  <thead>\n",
              "    <tr style=\"text-align: right;\">\n",
              "      <th></th>\n",
              "      <th>user_id</th>\n",
              "      <th>name</th>\n",
              "      <th>age</th>\n",
              "      <th>city</th>\n",
              "      <th>subscription_type</th>\n",
              "    </tr>\n",
              "  </thead>\n",
              "  <tbody>\n",
              "    <tr>\n",
              "      <th>0</th>\n",
              "      <td>1</td>\n",
              "      <td>Кира</td>\n",
              "      <td>22</td>\n",
              "      <td>Тюмень</td>\n",
              "      <td>ultra</td>\n",
              "    </tr>\n",
              "    <tr>\n",
              "      <th>1</th>\n",
              "      <td>2</td>\n",
              "      <td>Станислав</td>\n",
              "      <td>31</td>\n",
              "      <td>Омск</td>\n",
              "      <td>ultra</td>\n",
              "    </tr>\n",
              "    <tr>\n",
              "      <th>2</th>\n",
              "      <td>3</td>\n",
              "      <td>Алексей</td>\n",
              "      <td>20</td>\n",
              "      <td>Москва</td>\n",
              "      <td>ultra</td>\n",
              "    </tr>\n",
              "    <tr>\n",
              "      <th>3</th>\n",
              "      <td>4</td>\n",
              "      <td>Константин</td>\n",
              "      <td>26</td>\n",
              "      <td>Ростов-на-Дону</td>\n",
              "      <td>ultra</td>\n",
              "    </tr>\n",
              "    <tr>\n",
              "      <th>4</th>\n",
              "      <td>5</td>\n",
              "      <td>Адель</td>\n",
              "      <td>28</td>\n",
              "      <td>Омск</td>\n",
              "      <td>ultra</td>\n",
              "    </tr>\n",
              "  </tbody>\n",
              "</table>\n",
              "</div>"
            ],
            "text/plain": [
              "   user_id        name  age            city subscription_type\n",
              "0        1        Кира   22          Тюмень             ultra\n",
              "1        2   Станислав   31            Омск             ultra\n",
              "2        3     Алексей   20          Москва             ultra\n",
              "3        4  Константин   26  Ростов-на-Дону             ultra\n",
              "4        5       Адель   28            Омск             ultra"
            ]
          },
          "metadata": {},
          "output_type": "display_data"
        },
        {
          "data": {
            "text/html": [
              "<div>\n",
              "<style scoped>\n",
              "    .dataframe tbody tr th:only-of-type {\n",
              "        vertical-align: middle;\n",
              "    }\n",
              "\n",
              "    .dataframe tbody tr th {\n",
              "        vertical-align: top;\n",
              "    }\n",
              "\n",
              "    .dataframe thead th {\n",
              "        text-align: right;\n",
              "    }\n",
              "</style>\n",
              "<table border=\"1\" class=\"dataframe\">\n",
              "  <thead>\n",
              "    <tr style=\"text-align: right;\">\n",
              "      <th></th>\n",
              "      <th>user_id</th>\n",
              "      <th>distance</th>\n",
              "      <th>duration</th>\n",
              "      <th>date</th>\n",
              "    </tr>\n",
              "  </thead>\n",
              "  <tbody>\n",
              "    <tr>\n",
              "      <th>0</th>\n",
              "      <td>1</td>\n",
              "      <td>4409.919140</td>\n",
              "      <td>25.599769</td>\n",
              "      <td>2021-01-01</td>\n",
              "    </tr>\n",
              "    <tr>\n",
              "      <th>1</th>\n",
              "      <td>1</td>\n",
              "      <td>2617.592153</td>\n",
              "      <td>15.816871</td>\n",
              "      <td>2021-01-18</td>\n",
              "    </tr>\n",
              "    <tr>\n",
              "      <th>2</th>\n",
              "      <td>1</td>\n",
              "      <td>754.159807</td>\n",
              "      <td>6.232113</td>\n",
              "      <td>2021-04-20</td>\n",
              "    </tr>\n",
              "    <tr>\n",
              "      <th>3</th>\n",
              "      <td>1</td>\n",
              "      <td>2694.783254</td>\n",
              "      <td>18.511000</td>\n",
              "      <td>2021-08-11</td>\n",
              "    </tr>\n",
              "    <tr>\n",
              "      <th>4</th>\n",
              "      <td>1</td>\n",
              "      <td>4028.687306</td>\n",
              "      <td>26.265803</td>\n",
              "      <td>2021-08-28</td>\n",
              "    </tr>\n",
              "  </tbody>\n",
              "</table>\n",
              "</div>"
            ],
            "text/plain": [
              "   user_id     distance   duration        date\n",
              "0        1  4409.919140  25.599769  2021-01-01\n",
              "1        1  2617.592153  15.816871  2021-01-18\n",
              "2        1   754.159807   6.232113  2021-04-20\n",
              "3        1  2694.783254  18.511000  2021-08-11\n",
              "4        1  4028.687306  26.265803  2021-08-28"
            ]
          },
          "metadata": {},
          "output_type": "display_data"
        },
        {
          "data": {
            "text/html": [
              "<div>\n",
              "<style scoped>\n",
              "    .dataframe tbody tr th:only-of-type {\n",
              "        vertical-align: middle;\n",
              "    }\n",
              "\n",
              "    .dataframe tbody tr th {\n",
              "        vertical-align: top;\n",
              "    }\n",
              "\n",
              "    .dataframe thead th {\n",
              "        text-align: right;\n",
              "    }\n",
              "</style>\n",
              "<table border=\"1\" class=\"dataframe\">\n",
              "  <thead>\n",
              "    <tr style=\"text-align: right;\">\n",
              "      <th></th>\n",
              "      <th>subscription_type</th>\n",
              "      <th>minute_price</th>\n",
              "      <th>start_ride_price</th>\n",
              "      <th>subscription_fee</th>\n",
              "    </tr>\n",
              "  </thead>\n",
              "  <tbody>\n",
              "    <tr>\n",
              "      <th>0</th>\n",
              "      <td>free</td>\n",
              "      <td>8</td>\n",
              "      <td>50</td>\n",
              "      <td>0</td>\n",
              "    </tr>\n",
              "    <tr>\n",
              "      <th>1</th>\n",
              "      <td>ultra</td>\n",
              "      <td>6</td>\n",
              "      <td>0</td>\n",
              "      <td>199</td>\n",
              "    </tr>\n",
              "  </tbody>\n",
              "</table>\n",
              "</div>"
            ],
            "text/plain": [
              "  subscription_type  minute_price  start_ride_price  subscription_fee\n",
              "0              free             8                50                 0\n",
              "1             ultra             6                 0               199"
            ]
          },
          "metadata": {},
          "output_type": "display_data"
        }
      ],
      "source": [
        "# считываем и сохраняем данные\n",
        "\n",
        "try:\n",
        "    users = pd.read_csv('/datasets/users_go.csv')\n",
        "except:\n",
        "    print('users error')\n",
        "\n",
        "try:\n",
        "    rides = pd.read_csv('/datasets/rides_go.csv')\n",
        "except:\n",
        "    print('rides error')\n",
        "\n",
        "try:\n",
        "    subscriptions = pd.read_csv('/datasets/subscriptions_go.csv')\n",
        "except:\n",
        "    print('subscriptions error')\n",
        "\n",
        "display(users.head())\n",
        "display(rides.head())\n",
        "display(subscriptions.head())"
      ]
    },
    {
      "cell_type": "code",
      "execution_count": null,
      "id": "ec558ec8",
      "metadata": {
        "id": "ec558ec8",
        "outputId": "41a22a37-9280-4456-98e8-a12f3933342e"
      },
      "outputs": [
        {
          "name": "stdout",
          "output_type": "stream",
          "text": [
            "<class 'pandas.core.frame.DataFrame'>\n",
            "RangeIndex: 1565 entries, 0 to 1564\n",
            "Data columns (total 5 columns):\n",
            " #   Column             Non-Null Count  Dtype \n",
            "---  ------             --------------  ----- \n",
            " 0   user_id            1565 non-null   int64 \n",
            " 1   name               1565 non-null   object\n",
            " 2   age                1565 non-null   int64 \n",
            " 3   city               1565 non-null   object\n",
            " 4   subscription_type  1565 non-null   object\n",
            "dtypes: int64(2), object(3)\n",
            "memory usage: 61.3+ KB\n",
            "\n",
            "\n",
            "<class 'pandas.core.frame.DataFrame'>\n",
            "RangeIndex: 18068 entries, 0 to 18067\n",
            "Data columns (total 4 columns):\n",
            " #   Column    Non-Null Count  Dtype  \n",
            "---  ------    --------------  -----  \n",
            " 0   user_id   18068 non-null  int64  \n",
            " 1   distance  18068 non-null  float64\n",
            " 2   duration  18068 non-null  float64\n",
            " 3   date      18068 non-null  object \n",
            "dtypes: float64(2), int64(1), object(1)\n",
            "memory usage: 564.8+ KB\n",
            "\n",
            "\n",
            "<class 'pandas.core.frame.DataFrame'>\n",
            "RangeIndex: 2 entries, 0 to 1\n",
            "Data columns (total 4 columns):\n",
            " #   Column             Non-Null Count  Dtype \n",
            "---  ------             --------------  ----- \n",
            " 0   subscription_type  2 non-null      object\n",
            " 1   minute_price       2 non-null      int64 \n",
            " 2   start_ride_price   2 non-null      int64 \n",
            " 3   subscription_fee   2 non-null      int64 \n",
            "dtypes: int64(3), object(1)\n",
            "memory usage: 192.0+ bytes\n"
          ]
        }
      ],
      "source": [
        "# выводим общую ифнормацию по каждому датафрейму\n",
        "\n",
        "users.info()\n",
        "print()\n",
        "print()\n",
        "rides.info()\n",
        "print()\n",
        "print()\n",
        "subscriptions.info()"
      ]
    },
    {
      "cell_type": "markdown",
      "id": "5436f0b1",
      "metadata": {
        "id": "5436f0b1"
      },
      "source": [
        "**Вывод**\n",
        "\n",
        "- Данных о пользователях представлено на 1.5 тысячи строк, поездок - 18 тысяч и 2 типа подписки\n",
        "- Пропусков в данных нет\n",
        "- У столбца с датой в датафрейме поездок неправильный тип данных"
      ]
    },
    {
      "cell_type": "markdown",
      "id": "e95ebca7",
      "metadata": {
        "id": "e95ebca7"
      },
      "source": [
        "#### Шаг 2. Предобработка данных"
      ]
    },
    {
      "cell_type": "code",
      "execution_count": null,
      "id": "af6d202c",
      "metadata": {
        "id": "af6d202c"
      },
      "outputs": [],
      "source": [
        "# приводим столбец к правильному типу\n",
        "\n",
        "rides['date'] = pd.to_datetime(rides['date'])"
      ]
    },
    {
      "cell_type": "code",
      "execution_count": null,
      "id": "85a555e8",
      "metadata": {
        "id": "85a555e8"
      },
      "outputs": [],
      "source": [
        "# добавляем вспомогательный столбец\n",
        "\n",
        "rides['month'] = rides['date'].dt.month"
      ]
    },
    {
      "cell_type": "code",
      "execution_count": null,
      "id": "fa7d40e8",
      "metadata": {
        "scrolled": true,
        "id": "fa7d40e8",
        "outputId": "92522f82-90f5-4d66-cadf-52f7189ab664"
      },
      "outputs": [
        {
          "name": "stdout",
          "output_type": "stream",
          "text": [
            "Данные представлены в период с 2021-01-01 00:00:00 по 2021-12-30 00:00:00\n"
          ]
        }
      ],
      "source": [
        "#\n",
        "\n",
        "min_date = rides['date'].min()\n",
        "max_date = rides['date'].max()\n",
        "\n",
        "print(f'Данные представлены в период с {min_date} по {max_date}')"
      ]
    },
    {
      "cell_type": "code",
      "execution_count": null,
      "id": "5f1cd38f",
      "metadata": {
        "id": "5f1cd38f",
        "outputId": "b71ebea3-4d4b-44f1-b798-9abbec60fa37"
      },
      "outputs": [
        {
          "name": "stdout",
          "output_type": "stream",
          "text": [
            "user_id              0\n",
            "name                 0\n",
            "age                  0\n",
            "city                 0\n",
            "subscription_type    0\n",
            "dtype: int64\n",
            "\n",
            "user_id     0\n",
            "distance    0\n",
            "duration    0\n",
            "date        0\n",
            "month       0\n",
            "dtype: int64\n"
          ]
        }
      ],
      "source": [
        "# считаем пропуски\n",
        "\n",
        "print(users.isna().sum())\n",
        "print()\n",
        "print(rides.isna().sum())"
      ]
    },
    {
      "cell_type": "code",
      "execution_count": null,
      "id": "3940e351",
      "metadata": {
        "id": "3940e351",
        "outputId": "27dc28d7-6d09-40ef-b316-c53d3c9848ca"
      },
      "outputs": [
        {
          "name": "stdout",
          "output_type": "stream",
          "text": [
            "31\n",
            "\n",
            "0\n"
          ]
        }
      ],
      "source": [
        "# считаем дубликаты\n",
        "\n",
        "print(users.duplicated().sum())\n",
        "print()\n",
        "print(rides.duplicated().sum())"
      ]
    },
    {
      "cell_type": "code",
      "execution_count": null,
      "id": "d966fa6b",
      "metadata": {
        "id": "d966fa6b",
        "outputId": "b46db14a-b984-4827-82d7-e49ac2d03d1d"
      },
      "outputs": [
        {
          "data": {
            "text/html": [
              "<div>\n",
              "<style scoped>\n",
              "    .dataframe tbody tr th:only-of-type {\n",
              "        vertical-align: middle;\n",
              "    }\n",
              "\n",
              "    .dataframe tbody tr th {\n",
              "        vertical-align: top;\n",
              "    }\n",
              "\n",
              "    .dataframe thead th {\n",
              "        text-align: right;\n",
              "    }\n",
              "</style>\n",
              "<table border=\"1\" class=\"dataframe\">\n",
              "  <thead>\n",
              "    <tr style=\"text-align: right;\">\n",
              "      <th></th>\n",
              "      <th>user_id</th>\n",
              "      <th>name</th>\n",
              "      <th>age</th>\n",
              "      <th>city</th>\n",
              "      <th>subscription_type</th>\n",
              "    </tr>\n",
              "  </thead>\n",
              "  <tbody>\n",
              "    <tr>\n",
              "      <th>1534</th>\n",
              "      <td>293</td>\n",
              "      <td>Агата</td>\n",
              "      <td>26</td>\n",
              "      <td>Краснодар</td>\n",
              "      <td>ultra</td>\n",
              "    </tr>\n",
              "    <tr>\n",
              "      <th>1535</th>\n",
              "      <td>16</td>\n",
              "      <td>Амалия</td>\n",
              "      <td>27</td>\n",
              "      <td>Краснодар</td>\n",
              "      <td>ultra</td>\n",
              "    </tr>\n",
              "    <tr>\n",
              "      <th>1536</th>\n",
              "      <td>909</td>\n",
              "      <td>Константин</td>\n",
              "      <td>20</td>\n",
              "      <td>Екатеринбург</td>\n",
              "      <td>free</td>\n",
              "    </tr>\n",
              "    <tr>\n",
              "      <th>1537</th>\n",
              "      <td>403</td>\n",
              "      <td>Полина</td>\n",
              "      <td>19</td>\n",
              "      <td>Сочи</td>\n",
              "      <td>ultra</td>\n",
              "    </tr>\n",
              "    <tr>\n",
              "      <th>1538</th>\n",
              "      <td>908</td>\n",
              "      <td>Рустам</td>\n",
              "      <td>30</td>\n",
              "      <td>Тюмень</td>\n",
              "      <td>free</td>\n",
              "    </tr>\n",
              "    <tr>\n",
              "      <th>1539</th>\n",
              "      <td>43</td>\n",
              "      <td>Стефания</td>\n",
              "      <td>22</td>\n",
              "      <td>Омск</td>\n",
              "      <td>ultra</td>\n",
              "    </tr>\n",
              "    <tr>\n",
              "      <th>1540</th>\n",
              "      <td>127</td>\n",
              "      <td>Павел</td>\n",
              "      <td>25</td>\n",
              "      <td>Пятигорск</td>\n",
              "      <td>ultra</td>\n",
              "    </tr>\n",
              "    <tr>\n",
              "      <th>1541</th>\n",
              "      <td>659</td>\n",
              "      <td>Злата</td>\n",
              "      <td>27</td>\n",
              "      <td>Ростов-на-Дону</td>\n",
              "      <td>ultra</td>\n",
              "    </tr>\n",
              "    <tr>\n",
              "      <th>1542</th>\n",
              "      <td>204</td>\n",
              "      <td>Руслан</td>\n",
              "      <td>30</td>\n",
              "      <td>Пятигорск</td>\n",
              "      <td>ultra</td>\n",
              "    </tr>\n",
              "    <tr>\n",
              "      <th>1543</th>\n",
              "      <td>153</td>\n",
              "      <td>Герман</td>\n",
              "      <td>23</td>\n",
              "      <td>Москва</td>\n",
              "      <td>ultra</td>\n",
              "    </tr>\n",
              "    <tr>\n",
              "      <th>1544</th>\n",
              "      <td>1245</td>\n",
              "      <td>Регина</td>\n",
              "      <td>27</td>\n",
              "      <td>Пятигорск</td>\n",
              "      <td>free</td>\n",
              "    </tr>\n",
              "    <tr>\n",
              "      <th>1545</th>\n",
              "      <td>807</td>\n",
              "      <td>Александр</td>\n",
              "      <td>28</td>\n",
              "      <td>Екатеринбург</td>\n",
              "      <td>free</td>\n",
              "    </tr>\n",
              "    <tr>\n",
              "      <th>1546</th>\n",
              "      <td>924</td>\n",
              "      <td>Мария</td>\n",
              "      <td>23</td>\n",
              "      <td>Пятигорск</td>\n",
              "      <td>free</td>\n",
              "    </tr>\n",
              "    <tr>\n",
              "      <th>1547</th>\n",
              "      <td>635</td>\n",
              "      <td>Герман</td>\n",
              "      <td>21</td>\n",
              "      <td>Москва</td>\n",
              "      <td>ultra</td>\n",
              "    </tr>\n",
              "    <tr>\n",
              "      <th>1548</th>\n",
              "      <td>136</td>\n",
              "      <td>Марсель</td>\n",
              "      <td>25</td>\n",
              "      <td>Тюмень</td>\n",
              "      <td>ultra</td>\n",
              "    </tr>\n",
              "    <tr>\n",
              "      <th>1549</th>\n",
              "      <td>108</td>\n",
              "      <td>Влада</td>\n",
              "      <td>29</td>\n",
              "      <td>Тюмень</td>\n",
              "      <td>ultra</td>\n",
              "    </tr>\n",
              "    <tr>\n",
              "      <th>1550</th>\n",
              "      <td>737</td>\n",
              "      <td>Мелания</td>\n",
              "      <td>27</td>\n",
              "      <td>Ростов-на-Дону</td>\n",
              "      <td>free</td>\n",
              "    </tr>\n",
              "    <tr>\n",
              "      <th>1551</th>\n",
              "      <td>666</td>\n",
              "      <td>Зарина</td>\n",
              "      <td>29</td>\n",
              "      <td>Москва</td>\n",
              "      <td>ultra</td>\n",
              "    </tr>\n",
              "    <tr>\n",
              "      <th>1552</th>\n",
              "      <td>297</td>\n",
              "      <td>Егор</td>\n",
              "      <td>33</td>\n",
              "      <td>Пятигорск</td>\n",
              "      <td>ultra</td>\n",
              "    </tr>\n",
              "    <tr>\n",
              "      <th>1553</th>\n",
              "      <td>121</td>\n",
              "      <td>Алина</td>\n",
              "      <td>25</td>\n",
              "      <td>Пятигорск</td>\n",
              "      <td>ultra</td>\n",
              "    </tr>\n",
              "    <tr>\n",
              "      <th>1554</th>\n",
              "      <td>1198</td>\n",
              "      <td>Демид</td>\n",
              "      <td>29</td>\n",
              "      <td>Ростов-на-Дону</td>\n",
              "      <td>free</td>\n",
              "    </tr>\n",
              "    <tr>\n",
              "      <th>1555</th>\n",
              "      <td>72</td>\n",
              "      <td>Никита</td>\n",
              "      <td>25</td>\n",
              "      <td>Москва</td>\n",
              "      <td>ultra</td>\n",
              "    </tr>\n",
              "    <tr>\n",
              "      <th>1556</th>\n",
              "      <td>422</td>\n",
              "      <td>Кирилл</td>\n",
              "      <td>27</td>\n",
              "      <td>Сочи</td>\n",
              "      <td>ultra</td>\n",
              "    </tr>\n",
              "    <tr>\n",
              "      <th>1557</th>\n",
              "      <td>611</td>\n",
              "      <td>Владимир</td>\n",
              "      <td>28</td>\n",
              "      <td>Омск</td>\n",
              "      <td>ultra</td>\n",
              "    </tr>\n",
              "    <tr>\n",
              "      <th>1558</th>\n",
              "      <td>1237</td>\n",
              "      <td>Евгения</td>\n",
              "      <td>23</td>\n",
              "      <td>Тюмень</td>\n",
              "      <td>free</td>\n",
              "    </tr>\n",
              "    <tr>\n",
              "      <th>1559</th>\n",
              "      <td>209</td>\n",
              "      <td>Андрей</td>\n",
              "      <td>23</td>\n",
              "      <td>Омск</td>\n",
              "      <td>ultra</td>\n",
              "    </tr>\n",
              "    <tr>\n",
              "      <th>1560</th>\n",
              "      <td>829</td>\n",
              "      <td>Федор</td>\n",
              "      <td>29</td>\n",
              "      <td>Пятигорск</td>\n",
              "      <td>free</td>\n",
              "    </tr>\n",
              "    <tr>\n",
              "      <th>1561</th>\n",
              "      <td>809</td>\n",
              "      <td>Юрий</td>\n",
              "      <td>26</td>\n",
              "      <td>Сочи</td>\n",
              "      <td>free</td>\n",
              "    </tr>\n",
              "    <tr>\n",
              "      <th>1562</th>\n",
              "      <td>307</td>\n",
              "      <td>Ясмина</td>\n",
              "      <td>19</td>\n",
              "      <td>Краснодар</td>\n",
              "      <td>ultra</td>\n",
              "    </tr>\n",
              "    <tr>\n",
              "      <th>1563</th>\n",
              "      <td>47</td>\n",
              "      <td>Юрий</td>\n",
              "      <td>28</td>\n",
              "      <td>Тюмень</td>\n",
              "      <td>ultra</td>\n",
              "    </tr>\n",
              "    <tr>\n",
              "      <th>1564</th>\n",
              "      <td>1045</td>\n",
              "      <td>Артемий</td>\n",
              "      <td>28</td>\n",
              "      <td>Ростов-на-Дону</td>\n",
              "      <td>free</td>\n",
              "    </tr>\n",
              "  </tbody>\n",
              "</table>\n",
              "</div>"
            ],
            "text/plain": [
              "      user_id        name  age            city subscription_type\n",
              "1534      293       Агата   26       Краснодар             ultra\n",
              "1535       16      Амалия   27       Краснодар             ultra\n",
              "1536      909  Константин   20    Екатеринбург              free\n",
              "1537      403      Полина   19            Сочи             ultra\n",
              "1538      908      Рустам   30          Тюмень              free\n",
              "1539       43    Стефания   22            Омск             ultra\n",
              "1540      127       Павел   25       Пятигорск             ultra\n",
              "1541      659       Злата   27  Ростов-на-Дону             ultra\n",
              "1542      204      Руслан   30       Пятигорск             ultra\n",
              "1543      153      Герман   23          Москва             ultra\n",
              "1544     1245      Регина   27       Пятигорск              free\n",
              "1545      807   Александр   28    Екатеринбург              free\n",
              "1546      924       Мария   23       Пятигорск              free\n",
              "1547      635      Герман   21          Москва             ultra\n",
              "1548      136     Марсель   25          Тюмень             ultra\n",
              "1549      108       Влада   29          Тюмень             ultra\n",
              "1550      737     Мелания   27  Ростов-на-Дону              free\n",
              "1551      666      Зарина   29          Москва             ultra\n",
              "1552      297        Егор   33       Пятигорск             ultra\n",
              "1553      121       Алина   25       Пятигорск             ultra\n",
              "1554     1198       Демид   29  Ростов-на-Дону              free\n",
              "1555       72      Никита   25          Москва             ultra\n",
              "1556      422      Кирилл   27            Сочи             ultra\n",
              "1557      611    Владимир   28            Омск             ultra\n",
              "1558     1237     Евгения   23          Тюмень              free\n",
              "1559      209      Андрей   23            Омск             ultra\n",
              "1560      829       Федор   29       Пятигорск              free\n",
              "1561      809        Юрий   26            Сочи              free\n",
              "1562      307      Ясмина   19       Краснодар             ultra\n",
              "1563       47        Юрий   28          Тюмень             ultra\n",
              "1564     1045     Артемий   28  Ростов-на-Дону              free"
            ]
          },
          "execution_count": 9,
          "metadata": {},
          "output_type": "execute_result"
        }
      ],
      "source": [
        "# просмотриваем дубликаты\n",
        "\n",
        "users[users['user_id'].duplicated() == True]"
      ]
    },
    {
      "cell_type": "code",
      "execution_count": null,
      "id": "cfa3d55b",
      "metadata": {
        "id": "cfa3d55b",
        "outputId": "895a1f0a-ee0c-4421-f9e7-a55f80db2d90"
      },
      "outputs": [
        {
          "data": {
            "text/plain": [
              "0"
            ]
          },
          "execution_count": 10,
          "metadata": {},
          "output_type": "execute_result"
        }
      ],
      "source": [
        "# удаляем дубликаты и проверяем их заново\n",
        "\n",
        "users = users.drop_duplicates()\n",
        "users.duplicated().sum()"
      ]
    },
    {
      "cell_type": "code",
      "execution_count": null,
      "id": "1244079f",
      "metadata": {
        "id": "1244079f",
        "outputId": "b7a9725b-7ea8-49ec-e291-ed5fc9d69020"
      },
      "outputs": [
        {
          "data": {
            "text/plain": [
              "array([22, 31, 20, 26, 28, 25, 23, 21, 18, 27, 24, 29, 32, 14, 19, 30, 17,\n",
              "       12, 35, 33, 13, 15, 37, 16, 34, 38, 36, 39, 43])"
            ]
          },
          "execution_count": 11,
          "metadata": {},
          "output_type": "execute_result"
        }
      ],
      "source": [
        "# выводим уникальные значения для проверки аномалий\n",
        "\n",
        "users['age'].unique()"
      ]
    },
    {
      "cell_type": "code",
      "execution_count": null,
      "id": "94cf5e15",
      "metadata": {
        "id": "94cf5e15",
        "outputId": "e7f08485-3b49-4c6f-ac3e-c188b19e652d"
      },
      "outputs": [
        {
          "name": "stdout",
          "output_type": "stream",
          "text": [
            "count    18068.000000\n",
            "mean      3070.659976\n",
            "std       1116.831209\n",
            "min          0.855683\n",
            "25%       2543.226360\n",
            "50%       3133.609994\n",
            "75%       3776.222735\n",
            "max       7211.007745\n",
            "Name: distance, dtype: float64\n",
            "\n",
            "count    18068.000000\n",
            "mean        17.805011\n",
            "std          6.091051\n",
            "min          0.500000\n",
            "25%         13.597563\n",
            "50%         17.678395\n",
            "75%         21.724800\n",
            "max         40.823963\n",
            "Name: duration, dtype: float64\n"
          ]
        }
      ],
      "source": [
        "# проверяем распределение значений\n",
        "\n",
        "print(rides['distance'].describe())\n",
        "print()\n",
        "print(rides['duration'].describe())"
      ]
    },
    {
      "cell_type": "markdown",
      "id": "8c082a34",
      "metadata": {
        "id": "8c082a34"
      },
      "source": [
        "**Вывод**\n",
        "\n",
        "- Столбец с датой преобразовали правильный тип\n",
        "- Создали столбец с месяцем поездки\n",
        "- Пропуски в данных отсутствуют\n",
        "- Удалили строки с повторяющимися id пользователей\n",
        "- Проверили уникальные значения возраста и разброс данных в дистанции и времени использования самокатом"
      ]
    },
    {
      "cell_type": "markdown",
      "id": "212593c7",
      "metadata": {
        "id": "212593c7"
      },
      "source": [
        "#### Шаг 3. Исследовательский анализ данных"
      ]
    },
    {
      "cell_type": "code",
      "execution_count": null,
      "id": "e3a4274c",
      "metadata": {
        "id": "e3a4274c",
        "outputId": "5573862e-87b6-44f2-ee4a-f3fcf8cf8806"
      },
      "outputs": [
        {
          "data": {
            "text/html": [
              "<div>\n",
              "<style scoped>\n",
              "    .dataframe tbody tr th:only-of-type {\n",
              "        vertical-align: middle;\n",
              "    }\n",
              "\n",
              "    .dataframe tbody tr th {\n",
              "        vertical-align: top;\n",
              "    }\n",
              "\n",
              "    .dataframe thead th {\n",
              "        text-align: right;\n",
              "    }\n",
              "</style>\n",
              "<table border=\"1\" class=\"dataframe\">\n",
              "  <thead>\n",
              "    <tr style=\"text-align: right;\">\n",
              "      <th></th>\n",
              "      <th>city</th>\n",
              "      <th>count</th>\n",
              "      <th>%_of_amount</th>\n",
              "    </tr>\n",
              "  </thead>\n",
              "  <tbody>\n",
              "    <tr>\n",
              "      <th>0</th>\n",
              "      <td>Пятигорск</td>\n",
              "      <td>219</td>\n",
              "      <td>0.14</td>\n",
              "    </tr>\n",
              "    <tr>\n",
              "      <th>1</th>\n",
              "      <td>Екатеринбург</td>\n",
              "      <td>204</td>\n",
              "      <td>0.13</td>\n",
              "    </tr>\n",
              "    <tr>\n",
              "      <th>2</th>\n",
              "      <td>Ростов-на-Дону</td>\n",
              "      <td>198</td>\n",
              "      <td>0.13</td>\n",
              "    </tr>\n",
              "    <tr>\n",
              "      <th>3</th>\n",
              "      <td>Краснодар</td>\n",
              "      <td>193</td>\n",
              "      <td>0.13</td>\n",
              "    </tr>\n",
              "    <tr>\n",
              "      <th>4</th>\n",
              "      <td>Сочи</td>\n",
              "      <td>189</td>\n",
              "      <td>0.12</td>\n",
              "    </tr>\n",
              "    <tr>\n",
              "      <th>5</th>\n",
              "      <td>Омск</td>\n",
              "      <td>183</td>\n",
              "      <td>0.12</td>\n",
              "    </tr>\n",
              "    <tr>\n",
              "      <th>6</th>\n",
              "      <td>Тюмень</td>\n",
              "      <td>180</td>\n",
              "      <td>0.12</td>\n",
              "    </tr>\n",
              "    <tr>\n",
              "      <th>7</th>\n",
              "      <td>Москва</td>\n",
              "      <td>168</td>\n",
              "      <td>0.11</td>\n",
              "    </tr>\n",
              "  </tbody>\n",
              "</table>\n",
              "</div>"
            ],
            "text/plain": [
              "             city  count  %_of_amount\n",
              "0       Пятигорск    219         0.14\n",
              "1    Екатеринбург    204         0.13\n",
              "2  Ростов-на-Дону    198         0.13\n",
              "3       Краснодар    193         0.13\n",
              "4            Сочи    189         0.12\n",
              "5            Омск    183         0.12\n",
              "6          Тюмень    180         0.12\n",
              "7          Москва    168         0.11"
            ]
          },
          "metadata": {},
          "output_type": "display_data"
        },
        {
          "data": {
            "image/png": "[encoded data removed]",
            "text/plain": [
              "<Figure size 720x504 with 1 Axes>"
            ]
          },
          "metadata": {},
          "output_type": "display_data"
        }
      ],
      "source": [
        "# группируем города по количеству пользователей\n",
        "\n",
        "count_city = users.pivot_table(index='city', values='age', aggfunc='count')\\\n",
        "                  .sort_values(by='age', ascending=False)\n",
        "count_city.reset_index(inplace=True)\n",
        "count_city.columns = ['city', 'count']\n",
        "count_city['%_of_amount'] = round(count_city['count'] / count_city['count'].sum(), 2)\n",
        "display(count_city)\n",
        "\n",
        "# строим график\n",
        "\n",
        "sns.set_style('whitegrid')\n",
        "plt.figure(figsize=(10, 7))\n",
        "\n",
        "sns.barplot(data=count_city,\n",
        "            x='city',\n",
        "            y='count',\n",
        "            order=count_city.sort_values('count').city)\n",
        "\n",
        "plt.title('Количество пользователей по городам', size=20)\n",
        "plt.xlabel('Город', size=14)\n",
        "plt.ylabel('Количество', size=14)\n",
        "plt.xticks(rotation=45, size=12)\n",
        "plt.yticks(size=12)\n",
        "plt.tight_layout()\n",
        "\n",
        "plt.show()"
      ]
    },
    {
      "cell_type": "markdown",
      "id": "da645a01",
      "metadata": {
        "id": "da645a01"
      },
      "source": [
        "**Вывод**\n",
        "\n",
        "Наибольшее количество пользоваетелей сервиса из Пятигорска, меньше всего в Москве. В Пятигорске на 3% больше пользователей, чем в Москве."
      ]
    },
    {
      "cell_type": "code",
      "execution_count": null,
      "id": "d6efd408",
      "metadata": {
        "id": "d6efd408",
        "outputId": "d0e6f18a-2f18-43b2-e741-7482452c1a2f"
      },
      "outputs": [
        {
          "data": {
            "text/html": [
              "<div>\n",
              "<style scoped>\n",
              "    .dataframe tbody tr th:only-of-type {\n",
              "        vertical-align: middle;\n",
              "    }\n",
              "\n",
              "    .dataframe tbody tr th {\n",
              "        vertical-align: top;\n",
              "    }\n",
              "\n",
              "    .dataframe thead th {\n",
              "        text-align: right;\n",
              "    }\n",
              "</style>\n",
              "<table border=\"1\" class=\"dataframe\">\n",
              "  <thead>\n",
              "    <tr style=\"text-align: right;\">\n",
              "      <th></th>\n",
              "      <th>subscription_type</th>\n",
              "      <th>count</th>\n",
              "      <th>%_of_amount</th>\n",
              "    </tr>\n",
              "  </thead>\n",
              "  <tbody>\n",
              "    <tr>\n",
              "      <th>0</th>\n",
              "      <td>free</td>\n",
              "      <td>835</td>\n",
              "      <td>0.54</td>\n",
              "    </tr>\n",
              "    <tr>\n",
              "      <th>1</th>\n",
              "      <td>ultra</td>\n",
              "      <td>699</td>\n",
              "      <td>0.46</td>\n",
              "    </tr>\n",
              "  </tbody>\n",
              "</table>\n",
              "</div>"
            ],
            "text/plain": [
              "  subscription_type  count  %_of_amount\n",
              "0              free    835         0.54\n",
              "1             ultra    699         0.46"
            ]
          },
          "metadata": {},
          "output_type": "display_data"
        },
        {
          "data": {
            "image/png": "[encoded data removed]",
            "text/plain": [
              "<Figure size 720x504 with 1 Axes>"
            ]
          },
          "metadata": {},
          "output_type": "display_data"
        }
      ],
      "source": [
        "# считаем количество пользователей по типу подписки\n",
        "\n",
        "count_subscribe = users.pivot_table(index='subscription_type', values='age', aggfunc='count')\\\n",
        "                       .sort_values(by='age', ascending=False)\n",
        "count_subscribe.reset_index(inplace=True)\n",
        "count_subscribe.columns = ['subscription_type', 'count']\n",
        "count_subscribe['%_of_amount'] = round(count_subscribe['count'] / count_subscribe['count'].sum(), 2)\n",
        "display(count_subscribe)\n",
        "\n",
        "values = count_subscribe['count']\n",
        "labels = ['free', 'ultra']\n",
        "\n",
        "plt.figure(figsize=(10, 7))\n",
        "\n",
        "plt.pie(values,\n",
        "        labels=labels,\n",
        "        textprops={'size' : 12},\n",
        "        wedgeprops={'linewidth' : 3, 'edgecolor' : 'white'},\n",
        "        autopct='%.2f%%',\n",
        "        colors=['#8EB897', '#B7C3F3'])\n",
        "\n",
        "plt.title('Соотношение пользователей по подпискам', size=20)\n",
        "\n",
        "plt.show()"
      ]
    },
    {
      "cell_type": "markdown",
      "id": "be0abdf7",
      "metadata": {
        "id": "be0abdf7"
      },
      "source": [
        "**Вывод**\n",
        "\n",
        "Число пользователей по типу подписки отличается не сильно, без подписки на 136 больше, чем с подпиской. Это может быть связано с непостоянностью использования шеринга самокатов."
      ]
    },
    {
      "cell_type": "code",
      "execution_count": null,
      "id": "a136d722",
      "metadata": {
        "scrolled": false,
        "id": "a136d722",
        "outputId": "ca643ea2-fe2e-46da-d763-5fbe5632fb10"
      },
      "outputs": [
        {
          "data": {
            "text/html": [
              "<div>\n",
              "<style scoped>\n",
              "    .dataframe tbody tr th:only-of-type {\n",
              "        vertical-align: middle;\n",
              "    }\n",
              "\n",
              "    .dataframe tbody tr th {\n",
              "        vertical-align: top;\n",
              "    }\n",
              "\n",
              "    .dataframe thead th {\n",
              "        text-align: right;\n",
              "    }\n",
              "</style>\n",
              "<table border=\"1\" class=\"dataframe\">\n",
              "  <thead>\n",
              "    <tr style=\"text-align: right;\">\n",
              "      <th></th>\n",
              "      <th>age</th>\n",
              "      <th>count</th>\n",
              "    </tr>\n",
              "  </thead>\n",
              "  <tbody>\n",
              "    <tr>\n",
              "      <th>0</th>\n",
              "      <td>25</td>\n",
              "      <td>145</td>\n",
              "    </tr>\n",
              "    <tr>\n",
              "      <th>1</th>\n",
              "      <td>24</td>\n",
              "      <td>132</td>\n",
              "    </tr>\n",
              "    <tr>\n",
              "      <th>2</th>\n",
              "      <td>26</td>\n",
              "      <td>131</td>\n",
              "    </tr>\n",
              "    <tr>\n",
              "      <th>3</th>\n",
              "      <td>23</td>\n",
              "      <td>129</td>\n",
              "    </tr>\n",
              "    <tr>\n",
              "      <th>4</th>\n",
              "      <td>27</td>\n",
              "      <td>119</td>\n",
              "    </tr>\n",
              "    <tr>\n",
              "      <th>5</th>\n",
              "      <td>22</td>\n",
              "      <td>119</td>\n",
              "    </tr>\n",
              "    <tr>\n",
              "      <th>6</th>\n",
              "      <td>28</td>\n",
              "      <td>112</td>\n",
              "    </tr>\n",
              "    <tr>\n",
              "      <th>7</th>\n",
              "      <td>21</td>\n",
              "      <td>93</td>\n",
              "    </tr>\n",
              "    <tr>\n",
              "      <th>8</th>\n",
              "      <td>20</td>\n",
              "      <td>71</td>\n",
              "    </tr>\n",
              "    <tr>\n",
              "      <th>9</th>\n",
              "      <td>30</td>\n",
              "      <td>68</td>\n",
              "    </tr>\n",
              "    <tr>\n",
              "      <th>10</th>\n",
              "      <td>29</td>\n",
              "      <td>68</td>\n",
              "    </tr>\n",
              "    <tr>\n",
              "      <th>11</th>\n",
              "      <td>31</td>\n",
              "      <td>48</td>\n",
              "    </tr>\n",
              "    <tr>\n",
              "      <th>12</th>\n",
              "      <td>19</td>\n",
              "      <td>47</td>\n",
              "    </tr>\n",
              "    <tr>\n",
              "      <th>13</th>\n",
              "      <td>18</td>\n",
              "      <td>46</td>\n",
              "    </tr>\n",
              "    <tr>\n",
              "      <th>14</th>\n",
              "      <td>32</td>\n",
              "      <td>41</td>\n",
              "    </tr>\n",
              "    <tr>\n",
              "      <th>15</th>\n",
              "      <td>33</td>\n",
              "      <td>39</td>\n",
              "    </tr>\n",
              "    <tr>\n",
              "      <th>16</th>\n",
              "      <td>17</td>\n",
              "      <td>26</td>\n",
              "    </tr>\n",
              "    <tr>\n",
              "      <th>17</th>\n",
              "      <td>34</td>\n",
              "      <td>19</td>\n",
              "    </tr>\n",
              "    <tr>\n",
              "      <th>18</th>\n",
              "      <td>16</td>\n",
              "      <td>19</td>\n",
              "    </tr>\n",
              "    <tr>\n",
              "      <th>19</th>\n",
              "      <td>35</td>\n",
              "      <td>15</td>\n",
              "    </tr>\n",
              "    <tr>\n",
              "      <th>20</th>\n",
              "      <td>15</td>\n",
              "      <td>13</td>\n",
              "    </tr>\n",
              "    <tr>\n",
              "      <th>21</th>\n",
              "      <td>14</td>\n",
              "      <td>9</td>\n",
              "    </tr>\n",
              "    <tr>\n",
              "      <th>22</th>\n",
              "      <td>13</td>\n",
              "      <td>8</td>\n",
              "    </tr>\n",
              "    <tr>\n",
              "      <th>23</th>\n",
              "      <td>36</td>\n",
              "      <td>6</td>\n",
              "    </tr>\n",
              "    <tr>\n",
              "      <th>24</th>\n",
              "      <td>12</td>\n",
              "      <td>4</td>\n",
              "    </tr>\n",
              "    <tr>\n",
              "      <th>25</th>\n",
              "      <td>38</td>\n",
              "      <td>3</td>\n",
              "    </tr>\n",
              "    <tr>\n",
              "      <th>26</th>\n",
              "      <td>37</td>\n",
              "      <td>2</td>\n",
              "    </tr>\n",
              "    <tr>\n",
              "      <th>27</th>\n",
              "      <td>39</td>\n",
              "      <td>1</td>\n",
              "    </tr>\n",
              "    <tr>\n",
              "      <th>28</th>\n",
              "      <td>43</td>\n",
              "      <td>1</td>\n",
              "    </tr>\n",
              "  </tbody>\n",
              "</table>\n",
              "</div>"
            ],
            "text/plain": [
              "    age  count\n",
              "0    25    145\n",
              "1    24    132\n",
              "2    26    131\n",
              "3    23    129\n",
              "4    27    119\n",
              "5    22    119\n",
              "6    28    112\n",
              "7    21     93\n",
              "8    20     71\n",
              "9    30     68\n",
              "10   29     68\n",
              "11   31     48\n",
              "12   19     47\n",
              "13   18     46\n",
              "14   32     41\n",
              "15   33     39\n",
              "16   17     26\n",
              "17   34     19\n",
              "18   16     19\n",
              "19   35     15\n",
              "20   15     13\n",
              "21   14      9\n",
              "22   13      8\n",
              "23   36      6\n",
              "24   12      4\n",
              "25   38      3\n",
              "26   37      2\n",
              "27   39      1\n",
              "28   43      1"
            ]
          },
          "metadata": {},
          "output_type": "display_data"
        },
        {
          "data": {
            "image/png": "[encoded data removed]",
            "text/plain": [
              "<Figure size 720x504 with 1 Axes>"
            ]
          },
          "metadata": {},
          "output_type": "display_data"
        },
        {
          "data": {
            "image/png": "[encoded data removed]",
            "text/plain": [
              "<Figure size 504x504 with 1 Axes>"
            ]
          },
          "metadata": {},
          "output_type": "display_data"
        }
      ],
      "source": [
        "# проверяем количество пользователей каждого возраста\n",
        "\n",
        "count_age = users.pivot_table(index='age', values='city', aggfunc='count')\\\n",
        "                 .sort_values(by='city', ascending=False)\n",
        "count_age.reset_index(inplace=True)\n",
        "count_age.columns = ['age', 'count']\n",
        "display(count_age)\n",
        "\n",
        "plt.figure(figsize=(10, 7))\n",
        "\n",
        "users['age'].plot(kind='hist',\n",
        "                  bins=16)\n",
        "\n",
        "plt.title('Количество пользователей по возрасту', size=20)\n",
        "plt.xlabel('Возраст', size=14)\n",
        "plt.ylabel('Количество', size=14)\n",
        "plt.xticks(size=12)\n",
        "plt.yticks(size=12)\n",
        "\n",
        "plt.show()\n",
        "\n",
        "\n",
        "sns.set_style('whitegrid')\n",
        "plt.figure(figsize=(7, 7))\n",
        "\n",
        "sns.boxplot(data=users,\n",
        "            y='age',\n",
        "            color='thistle')\n",
        "\n",
        "plt.title('Распределение пользователей по возрасту', size=20)\n",
        "plt.ylabel('Количество лет', size=14)\n",
        "plt.yticks(size=12)\n",
        "\n",
        "plt.show()"
      ]
    },
    {
      "cell_type": "markdown",
      "id": "f2ec4c03",
      "metadata": {
        "id": "f2ec4c03"
      },
      "source": [
        "**Вывод**\n",
        "\n",
        "Возраст клиентов распределён нормально, медианные возраст - 25 лет. Самый наименьший возраст - 12 лет, наибольший - 43 года. Распределение возраста нормальное."
      ]
    },
    {
      "cell_type": "code",
      "execution_count": null,
      "id": "76bc577d",
      "metadata": {
        "id": "76bc577d",
        "outputId": "e92c30a3-6c44-48bd-e6b9-ea2d03ef6f35"
      },
      "outputs": [
        {
          "name": "stdout",
          "output_type": "stream",
          "text": [
            "count    18068.000000\n",
            "mean      3070.659976\n",
            "std       1116.831209\n",
            "min          0.855683\n",
            "25%       2543.226360\n",
            "50%       3133.609994\n",
            "75%       3776.222735\n",
            "max       7211.007745\n",
            "Name: distance, dtype: float64\n"
          ]
        },
        {
          "data": {
            "image/png": "[encoded data removed]",
            "text/plain": [
              "<Figure size 720x504 with 1 Axes>"
            ]
          },
          "metadata": {},
          "output_type": "display_data"
        },
        {
          "data": {
            "image/png": "[encoded data removed]",
            "text/plain": [
              "<Figure size 504x576 with 1 Axes>"
            ]
          },
          "metadata": {},
          "output_type": "display_data"
        }
      ],
      "source": [
        "# проверяем распределение дистанции поездок\n",
        "\n",
        "print(rides['distance'].describe())\n",
        "\n",
        "plt.figure(figsize=(10, 7))\n",
        "\n",
        "rides['distance'].plot(kind='hist',\n",
        "                       bins=13)\n",
        "\n",
        "plt.title('Распределение дистанции', size=20)\n",
        "plt.xlabel('Дистанция', size=14)\n",
        "plt.ylabel('Частота', size=14)\n",
        "plt.xticks(size=12)\n",
        "plt.yticks(size=12)\n",
        "\n",
        "plt.show()\n",
        "\n",
        "sns.set_style('whitegrid')\n",
        "plt.figure(figsize=(7, 8))\n",
        "\n",
        "sns.boxplot(data=rides,\n",
        "            y='distance',\n",
        "            color='thistle')\n",
        "\n",
        "plt.title('Распределение дистанции', size=20)\n",
        "plt.ylabel('Метров', size=14)\n",
        "plt.yticks(size=12)\n",
        "\n",
        "plt.show()"
      ]
    },
    {
      "cell_type": "markdown",
      "id": "c3a4220b",
      "metadata": {
        "id": "c3a4220b"
      },
      "source": [
        "**Вывод**\n",
        "\n",
        "В среднем клиенты проезжают на самокатах 3,1 км с дисперсией 600 метров. Присутствуют и выбросы, среди которых есть дистанция 85 см, причин этому может быть много: тестовый заезд, резкая смена погоды, разрядился самокат и др. Распределение дистанции близко к нормальному."
      ]
    },
    {
      "cell_type": "code",
      "execution_count": null,
      "id": "c46335bd",
      "metadata": {
        "id": "c46335bd",
        "outputId": "a169be02-28e4-4ee8-e309-26d231ccaa09"
      },
      "outputs": [
        {
          "name": "stdout",
          "output_type": "stream",
          "text": [
            "count    18068.000000\n",
            "mean        17.805011\n",
            "std          6.091051\n",
            "min          0.500000\n",
            "25%         13.597563\n",
            "50%         17.678395\n",
            "75%         21.724800\n",
            "max         40.823963\n",
            "Name: duration, dtype: float64\n"
          ]
        },
        {
          "data": {
            "image/png": "[encoded data removed]",
            "text/plain": [
              "<Figure size 720x504 with 1 Axes>"
            ]
          },
          "metadata": {},
          "output_type": "display_data"
        },
        {
          "data": {
            "image/png": "[encoded data removed]",
            "text/plain": [
              "<Figure size 504x576 with 1 Axes>"
            ]
          },
          "metadata": {},
          "output_type": "display_data"
        }
      ],
      "source": [
        "# проверяем распределение времени поездок\n",
        "\n",
        "print(rides['duration'].describe())\n",
        "\n",
        "plt.figure(figsize=(10, 7))\n",
        "\n",
        "rides['duration'].plot(kind='hist',\n",
        "                       bins=13)\n",
        "\n",
        "plt.title('Распределение времени', size=20)\n",
        "plt.xlabel('Время', size=14)\n",
        "plt.ylabel('Частота', size=14)\n",
        "plt.xticks(size=12)\n",
        "plt.yticks(size=12)\n",
        "\n",
        "plt.show()\n",
        "\n",
        "sns.set_style('whitegrid')\n",
        "plt.figure(figsize=(7, 8))\n",
        "\n",
        "sns.boxplot(data=rides,\n",
        "            y='duration',\n",
        "            color='thistle')\n",
        "\n",
        "plt.title('Распределение времени поездок', size=20)\n",
        "plt.ylabel('Минут', size=14)\n",
        "plt.yticks(size=12)\n",
        "\n",
        "plt.show()"
      ]
    },
    {
      "cell_type": "markdown",
      "id": "88885956",
      "metadata": {
        "id": "88885956"
      },
      "source": [
        "**Вывод**\n",
        "\n",
        "Среднее время заезда - 17 минут. Есть выбросы (например, 30 секунд), у которых скорее всего те же причины, что и у аномально маленьких дистанций. Распределение времени поездок нормальное."
      ]
    },
    {
      "cell_type": "markdown",
      "id": "acc56c3a",
      "metadata": {
        "id": "acc56c3a"
      },
      "source": [
        "**Вывод**\n",
        "\n",
        "- Больше всего пользователей из Пятигорска\n",
        "- Клиентов без подписки больше\n",
        "- Средний возраст клиентов - 25 лет. Межквартильный размах - 5 лет.\n",
        "- Средняя дистанция за поездку - 3,1 км. Межквартильный размах примерно 1200 метров.\n",
        "- Средняя время поездки - 17 минут. Межквартильный размах составляет примерно 8 минут."
      ]
    },
    {
      "cell_type": "code",
      "execution_count": null,
      "id": "0d3952ca",
      "metadata": {
        "id": "0d3952ca",
        "outputId": "a8c2220c-f4dd-41dd-8002-67520cc0c431"
      },
      "outputs": [
        {
          "data": {
            "text/html": [
              "<div>\n",
              "<style scoped>\n",
              "    .dataframe tbody tr th:only-of-type {\n",
              "        vertical-align: middle;\n",
              "    }\n",
              "\n",
              "    .dataframe tbody tr th {\n",
              "        vertical-align: top;\n",
              "    }\n",
              "\n",
              "    .dataframe thead th {\n",
              "        text-align: right;\n",
              "    }\n",
              "</style>\n",
              "<table border=\"1\" class=\"dataframe\">\n",
              "  <thead>\n",
              "    <tr style=\"text-align: right;\">\n",
              "      <th></th>\n",
              "      <th>age</th>\n",
              "    </tr>\n",
              "  </thead>\n",
              "  <tbody>\n",
              "    <tr>\n",
              "      <th>count</th>\n",
              "      <td>1534.0</td>\n",
              "    </tr>\n",
              "    <tr>\n",
              "      <th>mean</th>\n",
              "      <td>24.9</td>\n",
              "    </tr>\n",
              "    <tr>\n",
              "      <th>std</th>\n",
              "      <td>4.6</td>\n",
              "    </tr>\n",
              "    <tr>\n",
              "      <th>min</th>\n",
              "      <td>12.0</td>\n",
              "    </tr>\n",
              "    <tr>\n",
              "      <th>25%</th>\n",
              "      <td>22.0</td>\n",
              "    </tr>\n",
              "    <tr>\n",
              "      <th>50%</th>\n",
              "      <td>25.0</td>\n",
              "    </tr>\n",
              "    <tr>\n",
              "      <th>75%</th>\n",
              "      <td>28.0</td>\n",
              "    </tr>\n",
              "    <tr>\n",
              "      <th>max</th>\n",
              "      <td>43.0</td>\n",
              "    </tr>\n",
              "  </tbody>\n",
              "</table>\n",
              "</div>"
            ],
            "text/plain": [
              "          age\n",
              "count  1534.0\n",
              "mean     24.9\n",
              "std       4.6\n",
              "min      12.0\n",
              "25%      22.0\n",
              "50%      25.0\n",
              "75%      28.0\n",
              "max      43.0"
            ]
          },
          "execution_count": 19,
          "metadata": {},
          "output_type": "execute_result"
        }
      ],
      "source": [
        "# check\n",
        "users[['age']].describe().round(1)"
      ]
    },
    {
      "cell_type": "markdown",
      "id": "4ef51331",
      "metadata": {
        "id": "4ef51331"
      },
      "source": [
        "#### Шаг 4. Объединение данных"
      ]
    },
    {
      "cell_type": "code",
      "execution_count": null,
      "id": "6bf288b5",
      "metadata": {
        "scrolled": true,
        "id": "6bf288b5",
        "outputId": "a727d1f4-4aaf-41ec-a706-210863ee7bac"
      },
      "outputs": [
        {
          "data": {
            "text/html": [
              "<div>\n",
              "<style scoped>\n",
              "    .dataframe tbody tr th:only-of-type {\n",
              "        vertical-align: middle;\n",
              "    }\n",
              "\n",
              "    .dataframe tbody tr th {\n",
              "        vertical-align: top;\n",
              "    }\n",
              "\n",
              "    .dataframe thead th {\n",
              "        text-align: right;\n",
              "    }\n",
              "</style>\n",
              "<table border=\"1\" class=\"dataframe\">\n",
              "  <thead>\n",
              "    <tr style=\"text-align: right;\">\n",
              "      <th></th>\n",
              "      <th>user_id</th>\n",
              "      <th>name</th>\n",
              "      <th>age</th>\n",
              "      <th>city</th>\n",
              "      <th>subscription_type</th>\n",
              "      <th>distance</th>\n",
              "      <th>duration</th>\n",
              "      <th>date</th>\n",
              "      <th>month</th>\n",
              "      <th>minute_price</th>\n",
              "      <th>start_ride_price</th>\n",
              "      <th>subscription_fee</th>\n",
              "    </tr>\n",
              "  </thead>\n",
              "  <tbody>\n",
              "    <tr>\n",
              "      <th>0</th>\n",
              "      <td>1</td>\n",
              "      <td>Кира</td>\n",
              "      <td>22</td>\n",
              "      <td>Тюмень</td>\n",
              "      <td>ultra</td>\n",
              "      <td>4409.919140</td>\n",
              "      <td>26.0</td>\n",
              "      <td>2021-01-01</td>\n",
              "      <td>1</td>\n",
              "      <td>6</td>\n",
              "      <td>0</td>\n",
              "      <td>199</td>\n",
              "    </tr>\n",
              "    <tr>\n",
              "      <th>1</th>\n",
              "      <td>1</td>\n",
              "      <td>Кира</td>\n",
              "      <td>22</td>\n",
              "      <td>Тюмень</td>\n",
              "      <td>ultra</td>\n",
              "      <td>2617.592153</td>\n",
              "      <td>16.0</td>\n",
              "      <td>2021-01-18</td>\n",
              "      <td>1</td>\n",
              "      <td>6</td>\n",
              "      <td>0</td>\n",
              "      <td>199</td>\n",
              "    </tr>\n",
              "    <tr>\n",
              "      <th>2</th>\n",
              "      <td>1</td>\n",
              "      <td>Кира</td>\n",
              "      <td>22</td>\n",
              "      <td>Тюмень</td>\n",
              "      <td>ultra</td>\n",
              "      <td>754.159807</td>\n",
              "      <td>7.0</td>\n",
              "      <td>2021-04-20</td>\n",
              "      <td>4</td>\n",
              "      <td>6</td>\n",
              "      <td>0</td>\n",
              "      <td>199</td>\n",
              "    </tr>\n",
              "    <tr>\n",
              "      <th>3</th>\n",
              "      <td>1</td>\n",
              "      <td>Кира</td>\n",
              "      <td>22</td>\n",
              "      <td>Тюмень</td>\n",
              "      <td>ultra</td>\n",
              "      <td>2694.783254</td>\n",
              "      <td>19.0</td>\n",
              "      <td>2021-08-11</td>\n",
              "      <td>8</td>\n",
              "      <td>6</td>\n",
              "      <td>0</td>\n",
              "      <td>199</td>\n",
              "    </tr>\n",
              "    <tr>\n",
              "      <th>4</th>\n",
              "      <td>1</td>\n",
              "      <td>Кира</td>\n",
              "      <td>22</td>\n",
              "      <td>Тюмень</td>\n",
              "      <td>ultra</td>\n",
              "      <td>4028.687306</td>\n",
              "      <td>27.0</td>\n",
              "      <td>2021-08-28</td>\n",
              "      <td>8</td>\n",
              "      <td>6</td>\n",
              "      <td>0</td>\n",
              "      <td>199</td>\n",
              "    </tr>\n",
              "  </tbody>\n",
              "</table>\n",
              "</div>"
            ],
            "text/plain": [
              "   user_id  name  age    city subscription_type     distance  duration  \\\n",
              "0        1  Кира   22  Тюмень             ultra  4409.919140      26.0   \n",
              "1        1  Кира   22  Тюмень             ultra  2617.592153      16.0   \n",
              "2        1  Кира   22  Тюмень             ultra   754.159807       7.0   \n",
              "3        1  Кира   22  Тюмень             ultra  2694.783254      19.0   \n",
              "4        1  Кира   22  Тюмень             ultra  4028.687306      27.0   \n",
              "\n",
              "        date  month  minute_price  start_ride_price  subscription_fee  \n",
              "0 2021-01-01      1             6                 0               199  \n",
              "1 2021-01-18      1             6                 0               199  \n",
              "2 2021-04-20      4             6                 0               199  \n",
              "3 2021-08-11      8             6                 0               199  \n",
              "4 2021-08-28      8             6                 0               199  "
            ]
          },
          "execution_count": 20,
          "metadata": {},
          "output_type": "execute_result"
        }
      ],
      "source": [
        "# объединяем все датасеты\n",
        "\n",
        "data = users.merge(rides)\n",
        "data = data.merge(subscriptions)\n",
        "data['duration'] = np.ceil(data['duration'])\n",
        "data.head()"
      ]
    },
    {
      "cell_type": "code",
      "execution_count": null,
      "id": "9aa82804",
      "metadata": {
        "id": "9aa82804",
        "outputId": "01fdc022-4db3-4964-81c1-045c661ac9ec"
      },
      "outputs": [
        {
          "name": "stdout",
          "output_type": "stream",
          "text": [
            "user_id              18068\n",
            "name                 18068\n",
            "age                  18068\n",
            "city                 18068\n",
            "subscription_type    18068\n",
            "distance             18068\n",
            "duration             18068\n",
            "date                 18068\n",
            "month                18068\n",
            "minute_price         18068\n",
            "start_ride_price     18068\n",
            "subscription_fee     18068\n",
            "dtype: int64\n",
            "\n",
            "user_id              0\n",
            "name                 0\n",
            "age                  0\n",
            "city                 0\n",
            "subscription_type    0\n",
            "distance             0\n",
            "duration             0\n",
            "date                 0\n",
            "month                0\n",
            "minute_price         0\n",
            "start_ride_price     0\n",
            "subscription_fee     0\n",
            "dtype: int64\n"
          ]
        }
      ],
      "source": [
        "print(data.count())\n",
        "print()\n",
        "print(data.isna().sum())"
      ]
    },
    {
      "cell_type": "code",
      "execution_count": null,
      "id": "8d6c2752",
      "metadata": {
        "scrolled": false,
        "id": "8d6c2752",
        "outputId": "089d1431-9b66-411f-db1f-849f7d607019"
      },
      "outputs": [
        {
          "data": {
            "text/html": [
              "<div>\n",
              "<style scoped>\n",
              "    .dataframe tbody tr th:only-of-type {\n",
              "        vertical-align: middle;\n",
              "    }\n",
              "\n",
              "    .dataframe tbody tr th {\n",
              "        vertical-align: top;\n",
              "    }\n",
              "\n",
              "    .dataframe thead th {\n",
              "        text-align: right;\n",
              "    }\n",
              "</style>\n",
              "<table border=\"1\" class=\"dataframe\">\n",
              "  <thead>\n",
              "    <tr style=\"text-align: right;\">\n",
              "      <th></th>\n",
              "      <th>user_id</th>\n",
              "      <th>name</th>\n",
              "      <th>age</th>\n",
              "      <th>city</th>\n",
              "      <th>subscription_type</th>\n",
              "      <th>distance</th>\n",
              "      <th>duration</th>\n",
              "      <th>date</th>\n",
              "      <th>month</th>\n",
              "      <th>minute_price</th>\n",
              "      <th>start_ride_price</th>\n",
              "      <th>subscription_fee</th>\n",
              "    </tr>\n",
              "  </thead>\n",
              "  <tbody>\n",
              "    <tr>\n",
              "      <th>6500</th>\n",
              "      <td>700</td>\n",
              "      <td>Айдар</td>\n",
              "      <td>22</td>\n",
              "      <td>Омск</td>\n",
              "      <td>free</td>\n",
              "      <td>2515.690719</td>\n",
              "      <td>15.0</td>\n",
              "      <td>2021-01-02</td>\n",
              "      <td>1</td>\n",
              "      <td>8</td>\n",
              "      <td>50</td>\n",
              "      <td>0</td>\n",
              "    </tr>\n",
              "    <tr>\n",
              "      <th>6501</th>\n",
              "      <td>700</td>\n",
              "      <td>Айдар</td>\n",
              "      <td>22</td>\n",
              "      <td>Омск</td>\n",
              "      <td>free</td>\n",
              "      <td>846.932642</td>\n",
              "      <td>17.0</td>\n",
              "      <td>2021-02-01</td>\n",
              "      <td>2</td>\n",
              "      <td>8</td>\n",
              "      <td>50</td>\n",
              "      <td>0</td>\n",
              "    </tr>\n",
              "    <tr>\n",
              "      <th>6502</th>\n",
              "      <td>700</td>\n",
              "      <td>Айдар</td>\n",
              "      <td>22</td>\n",
              "      <td>Омск</td>\n",
              "      <td>free</td>\n",
              "      <td>4004.434142</td>\n",
              "      <td>21.0</td>\n",
              "      <td>2021-02-04</td>\n",
              "      <td>2</td>\n",
              "      <td>8</td>\n",
              "      <td>50</td>\n",
              "      <td>0</td>\n",
              "    </tr>\n",
              "    <tr>\n",
              "      <th>6503</th>\n",
              "      <td>700</td>\n",
              "      <td>Айдар</td>\n",
              "      <td>22</td>\n",
              "      <td>Омск</td>\n",
              "      <td>free</td>\n",
              "      <td>1205.911290</td>\n",
              "      <td>10.0</td>\n",
              "      <td>2021-02-10</td>\n",
              "      <td>2</td>\n",
              "      <td>8</td>\n",
              "      <td>50</td>\n",
              "      <td>0</td>\n",
              "    </tr>\n",
              "    <tr>\n",
              "      <th>6504</th>\n",
              "      <td>700</td>\n",
              "      <td>Айдар</td>\n",
              "      <td>22</td>\n",
              "      <td>Омск</td>\n",
              "      <td>free</td>\n",
              "      <td>3047.379435</td>\n",
              "      <td>18.0</td>\n",
              "      <td>2021-02-14</td>\n",
              "      <td>2</td>\n",
              "      <td>8</td>\n",
              "      <td>50</td>\n",
              "      <td>0</td>\n",
              "    </tr>\n",
              "  </tbody>\n",
              "</table>\n",
              "</div>"
            ],
            "text/plain": [
              "      user_id   name  age  city subscription_type     distance  duration  \\\n",
              "6500      700  Айдар   22  Омск              free  2515.690719      15.0   \n",
              "6501      700  Айдар   22  Омск              free   846.932642      17.0   \n",
              "6502      700  Айдар   22  Омск              free  4004.434142      21.0   \n",
              "6503      700  Айдар   22  Омск              free  1205.911290      10.0   \n",
              "6504      700  Айдар   22  Омск              free  3047.379435      18.0   \n",
              "\n",
              "           date  month  minute_price  start_ride_price  subscription_fee  \n",
              "6500 2021-01-02      1             8                50                 0  \n",
              "6501 2021-02-01      2             8                50                 0  \n",
              "6502 2021-02-04      2             8                50                 0  \n",
              "6503 2021-02-10      2             8                50                 0  \n",
              "6504 2021-02-14      2             8                50                 0  "
            ]
          },
          "metadata": {},
          "output_type": "display_data"
        },
        {
          "name": "stdout",
          "output_type": "stream",
          "text": [
            "\n"
          ]
        },
        {
          "data": {
            "text/html": [
              "<div>\n",
              "<style scoped>\n",
              "    .dataframe tbody tr th:only-of-type {\n",
              "        vertical-align: middle;\n",
              "    }\n",
              "\n",
              "    .dataframe tbody tr th {\n",
              "        vertical-align: top;\n",
              "    }\n",
              "\n",
              "    .dataframe thead th {\n",
              "        text-align: right;\n",
              "    }\n",
              "</style>\n",
              "<table border=\"1\" class=\"dataframe\">\n",
              "  <thead>\n",
              "    <tr style=\"text-align: right;\">\n",
              "      <th></th>\n",
              "      <th>user_id</th>\n",
              "      <th>name</th>\n",
              "      <th>age</th>\n",
              "      <th>city</th>\n",
              "      <th>subscription_type</th>\n",
              "      <th>distance</th>\n",
              "      <th>duration</th>\n",
              "      <th>date</th>\n",
              "      <th>month</th>\n",
              "      <th>minute_price</th>\n",
              "      <th>start_ride_price</th>\n",
              "      <th>subscription_fee</th>\n",
              "    </tr>\n",
              "  </thead>\n",
              "  <tbody>\n",
              "    <tr>\n",
              "      <th>0</th>\n",
              "      <td>1</td>\n",
              "      <td>Кира</td>\n",
              "      <td>22</td>\n",
              "      <td>Тюмень</td>\n",
              "      <td>ultra</td>\n",
              "      <td>4409.919140</td>\n",
              "      <td>26.0</td>\n",
              "      <td>2021-01-01</td>\n",
              "      <td>1</td>\n",
              "      <td>6</td>\n",
              "      <td>0</td>\n",
              "      <td>199</td>\n",
              "    </tr>\n",
              "    <tr>\n",
              "      <th>1</th>\n",
              "      <td>1</td>\n",
              "      <td>Кира</td>\n",
              "      <td>22</td>\n",
              "      <td>Тюмень</td>\n",
              "      <td>ultra</td>\n",
              "      <td>2617.592153</td>\n",
              "      <td>16.0</td>\n",
              "      <td>2021-01-18</td>\n",
              "      <td>1</td>\n",
              "      <td>6</td>\n",
              "      <td>0</td>\n",
              "      <td>199</td>\n",
              "    </tr>\n",
              "    <tr>\n",
              "      <th>2</th>\n",
              "      <td>1</td>\n",
              "      <td>Кира</td>\n",
              "      <td>22</td>\n",
              "      <td>Тюмень</td>\n",
              "      <td>ultra</td>\n",
              "      <td>754.159807</td>\n",
              "      <td>7.0</td>\n",
              "      <td>2021-04-20</td>\n",
              "      <td>4</td>\n",
              "      <td>6</td>\n",
              "      <td>0</td>\n",
              "      <td>199</td>\n",
              "    </tr>\n",
              "    <tr>\n",
              "      <th>3</th>\n",
              "      <td>1</td>\n",
              "      <td>Кира</td>\n",
              "      <td>22</td>\n",
              "      <td>Тюмень</td>\n",
              "      <td>ultra</td>\n",
              "      <td>2694.783254</td>\n",
              "      <td>19.0</td>\n",
              "      <td>2021-08-11</td>\n",
              "      <td>8</td>\n",
              "      <td>6</td>\n",
              "      <td>0</td>\n",
              "      <td>199</td>\n",
              "    </tr>\n",
              "    <tr>\n",
              "      <th>4</th>\n",
              "      <td>1</td>\n",
              "      <td>Кира</td>\n",
              "      <td>22</td>\n",
              "      <td>Тюмень</td>\n",
              "      <td>ultra</td>\n",
              "      <td>4028.687306</td>\n",
              "      <td>27.0</td>\n",
              "      <td>2021-08-28</td>\n",
              "      <td>8</td>\n",
              "      <td>6</td>\n",
              "      <td>0</td>\n",
              "      <td>199</td>\n",
              "    </tr>\n",
              "  </tbody>\n",
              "</table>\n",
              "</div>"
            ],
            "text/plain": [
              "   user_id  name  age    city subscription_type     distance  duration  \\\n",
              "0        1  Кира   22  Тюмень             ultra  4409.919140      26.0   \n",
              "1        1  Кира   22  Тюмень             ultra  2617.592153      16.0   \n",
              "2        1  Кира   22  Тюмень             ultra   754.159807       7.0   \n",
              "3        1  Кира   22  Тюмень             ultra  2694.783254      19.0   \n",
              "4        1  Кира   22  Тюмень             ultra  4028.687306      27.0   \n",
              "\n",
              "        date  month  minute_price  start_ride_price  subscription_fee  \n",
              "0 2021-01-01      1             6                 0               199  \n",
              "1 2021-01-18      1             6                 0               199  \n",
              "2 2021-04-20      4             6                 0               199  \n",
              "3 2021-08-11      8             6                 0               199  \n",
              "4 2021-08-28      8             6                 0               199  "
            ]
          },
          "metadata": {},
          "output_type": "display_data"
        }
      ],
      "source": [
        "# выделяем из общего датасета 2 с разными типами подписок\n",
        "\n",
        "user_free = data.query('subscription_type == \"free\"')\n",
        "user_ultra = data.query('subscription_type == \"ultra\"')\n",
        "\n",
        "display(user_free.head())\n",
        "print()\n",
        "display(user_ultra.head())"
      ]
    },
    {
      "cell_type": "code",
      "execution_count": null,
      "id": "c7bdbbef",
      "metadata": {
        "id": "c7bdbbef",
        "outputId": "d0ecaf8e-17f3-477a-8962-6df539db8e29"
      },
      "outputs": [
        {
          "name": "stdout",
          "output_type": "stream",
          "text": [
            "user_id              11568\n",
            "name                 11568\n",
            "age                  11568\n",
            "city                 11568\n",
            "subscription_type    11568\n",
            "distance             11568\n",
            "duration             11568\n",
            "date                 11568\n",
            "month                11568\n",
            "minute_price         11568\n",
            "start_ride_price     11568\n",
            "subscription_fee     11568\n",
            "dtype: int64\n",
            "\n",
            "user_id              6500\n",
            "name                 6500\n",
            "age                  6500\n",
            "city                 6500\n",
            "subscription_type    6500\n",
            "distance             6500\n",
            "duration             6500\n",
            "date                 6500\n",
            "month                6500\n",
            "minute_price         6500\n",
            "start_ride_price     6500\n",
            "subscription_fee     6500\n",
            "dtype: int64\n",
            "\n",
            "True\n"
          ]
        }
      ],
      "source": [
        "print(user_free.count())\n",
        "print()\n",
        "print(user_ultra.count())\n",
        "print()\n",
        "print(len(user_free) + len(user_ultra) == len(data))"
      ]
    },
    {
      "cell_type": "code",
      "execution_count": null,
      "id": "9c1e8736",
      "metadata": {
        "scrolled": false,
        "id": "9c1e8736",
        "outputId": "76c1c434-9f61-444c-e037-b1f223f9ce39"
      },
      "outputs": [
        {
          "name": "stdout",
          "output_type": "stream",
          "text": [
            "count    11568.000000\n",
            "mean      3045.495282\n",
            "std       1246.173806\n",
            "min          0.855683\n",
            "25%       2366.562689\n",
            "50%       3114.648465\n",
            "75%       3905.697894\n",
            "max       7211.007745\n",
            "Name: distance, dtype: float64\n",
            "\n",
            "count    6500.000000\n",
            "mean     3115.445388\n",
            "std       836.895330\n",
            "min       244.210438\n",
            "25%      2785.444017\n",
            "50%      3148.637229\n",
            "75%      3560.574425\n",
            "max      5699.769662\n",
            "Name: distance, dtype: float64\n"
          ]
        },
        {
          "data": {
            "text/html": [
              "<div>\n",
              "<style scoped>\n",
              "    .dataframe tbody tr th:only-of-type {\n",
              "        vertical-align: middle;\n",
              "    }\n",
              "\n",
              "    .dataframe tbody tr th {\n",
              "        vertical-align: top;\n",
              "    }\n",
              "\n",
              "    .dataframe thead th {\n",
              "        text-align: right;\n",
              "    }\n",
              "</style>\n",
              "<table border=\"1\" class=\"dataframe\">\n",
              "  <thead>\n",
              "    <tr style=\"text-align: right;\">\n",
              "      <th></th>\n",
              "      <th>month</th>\n",
              "      <th>distance_free</th>\n",
              "      <th>distance_ultra</th>\n",
              "    </tr>\n",
              "  </thead>\n",
              "  <tbody>\n",
              "    <tr>\n",
              "      <th>0</th>\n",
              "      <td>1</td>\n",
              "      <td>3097.14</td>\n",
              "      <td>3077.32</td>\n",
              "    </tr>\n",
              "    <tr>\n",
              "      <th>1</th>\n",
              "      <td>2</td>\n",
              "      <td>3024.26</td>\n",
              "      <td>3100.77</td>\n",
              "    </tr>\n",
              "    <tr>\n",
              "      <th>2</th>\n",
              "      <td>3</td>\n",
              "      <td>2994.99</td>\n",
              "      <td>3128.24</td>\n",
              "    </tr>\n",
              "    <tr>\n",
              "      <th>3</th>\n",
              "      <td>4</td>\n",
              "      <td>3005.60</td>\n",
              "      <td>3111.74</td>\n",
              "    </tr>\n",
              "    <tr>\n",
              "      <th>4</th>\n",
              "      <td>5</td>\n",
              "      <td>3111.05</td>\n",
              "      <td>3125.53</td>\n",
              "    </tr>\n",
              "    <tr>\n",
              "      <th>5</th>\n",
              "      <td>6</td>\n",
              "      <td>3075.58</td>\n",
              "      <td>3117.32</td>\n",
              "    </tr>\n",
              "    <tr>\n",
              "      <th>6</th>\n",
              "      <td>7</td>\n",
              "      <td>3061.25</td>\n",
              "      <td>3151.00</td>\n",
              "    </tr>\n",
              "    <tr>\n",
              "      <th>7</th>\n",
              "      <td>8</td>\n",
              "      <td>2990.11</td>\n",
              "      <td>3120.93</td>\n",
              "    </tr>\n",
              "    <tr>\n",
              "      <th>8</th>\n",
              "      <td>9</td>\n",
              "      <td>3049.33</td>\n",
              "      <td>3081.55</td>\n",
              "    </tr>\n",
              "    <tr>\n",
              "      <th>9</th>\n",
              "      <td>10</td>\n",
              "      <td>2977.35</td>\n",
              "      <td>3138.26</td>\n",
              "    </tr>\n",
              "    <tr>\n",
              "      <th>10</th>\n",
              "      <td>11</td>\n",
              "      <td>3046.95</td>\n",
              "      <td>3106.92</td>\n",
              "    </tr>\n",
              "    <tr>\n",
              "      <th>11</th>\n",
              "      <td>12</td>\n",
              "      <td>3105.34</td>\n",
              "      <td>3121.41</td>\n",
              "    </tr>\n",
              "  </tbody>\n",
              "</table>\n",
              "</div>"
            ],
            "text/plain": [
              "    month  distance_free  distance_ultra\n",
              "0       1        3097.14         3077.32\n",
              "1       2        3024.26         3100.77\n",
              "2       3        2994.99         3128.24\n",
              "3       4        3005.60         3111.74\n",
              "4       5        3111.05         3125.53\n",
              "5       6        3075.58         3117.32\n",
              "6       7        3061.25         3151.00\n",
              "7       8        2990.11         3120.93\n",
              "8       9        3049.33         3081.55\n",
              "9      10        2977.35         3138.26\n",
              "10     11        3046.95         3106.92\n",
              "11     12        3105.34         3121.41"
            ]
          },
          "metadata": {},
          "output_type": "display_data"
        },
        {
          "data": {
            "image/png": "[encoded data removed]",
            "text/plain": [
              "<Figure size 720x504 with 1 Axes>"
            ]
          },
          "metadata": {},
          "output_type": "display_data"
        },
        {
          "data": {
            "image/png": "[encoded data removed]",
            "text/plain": [
              "<Figure size 720x504 with 1 Axes>"
            ]
          },
          "metadata": {},
          "output_type": "display_data"
        }
      ],
      "source": [
        "print(user_free['distance'].describe())\n",
        "print()\n",
        "print(user_ultra['distance'].describe())\n",
        "\n",
        "# считаем среднюю дистанцию пользователей с подпиской и без по месяцам\n",
        "\n",
        "month_distance_free = user_free.pivot_table(index='month', values='distance', aggfunc='mean')\\\n",
        "                          .sort_values(by='month')\n",
        "month_distance_free.reset_index(inplace=True)\n",
        "month_distance_free.columns = ['month', 'distance_free']\n",
        "month_distance_free.distance_free = month_distance_free.distance_free.round(2)\n",
        "\n",
        "month_distance_ultra = user_ultra.pivot_table(index='month', values='distance', aggfunc='mean')\\\n",
        "                          .sort_values(by='month')\n",
        "month_distance_ultra.reset_index(inplace=True)\n",
        "month_distance_ultra.columns = ['month', 'distance_ultra']\n",
        "month_distance_ultra.distance_ultra = month_distance_ultra.distance_ultra.round(2)\n",
        "\n",
        "month_distance = month_distance_free.merge(month_distance_ultra, on='month')\n",
        "display(month_distance)\n",
        "\n",
        "\n",
        "month_distance.plot(kind='bar',\n",
        "                    x='month',\n",
        "                    figsize=(10, 7),\n",
        "                    grid=True,\n",
        "                    legend=True)\n",
        "\n",
        "plt.title('Средняя дистанция поездки по месяцам', size=20)\n",
        "plt.xlabel('Месяц', size=14)\n",
        "plt.ylabel('Дистанция', size=14)\n",
        "plt.xticks(size=12)\n",
        "plt.yticks(size=12)\n",
        "\n",
        "plt.show()\n",
        "\n",
        "plt.figure(figsize=(10, 7))\n",
        "\n",
        "plt.hist(user_free['distance'], alpha=0.6, label='free')\n",
        "plt.hist(user_ultra['distance'], alpha=0.6, label='ultra')\n",
        "\n",
        "plt.title('Распределение дистанции по типу подписки', size=20)\n",
        "plt.xlabel('Дистанция', size=14)\n",
        "plt.ylabel('Частота', size=14)\n",
        "plt.xticks(size=12)\n",
        "plt.yticks(size=12)\n",
        "plt.legend(loc='upper right')\n",
        "\n",
        "plt.show()"
      ]
    },
    {
      "cell_type": "markdown",
      "id": "d9dc1a38",
      "metadata": {
        "id": "d9dc1a38"
      },
      "source": [
        "**Вывод**\n",
        "\n",
        "Средняя дистанция пользователей с подпиской почти в каждом месяце превышает дистанцию пользователей без подписки. У обеих групп пользователей примерно одинаковое среднее расстояние, но межквартильный размах больше у \"бесплатных\"."
      ]
    },
    {
      "cell_type": "code",
      "execution_count": null,
      "id": "9a88acb1",
      "metadata": {
        "scrolled": false,
        "id": "9a88acb1",
        "outputId": "ea7b52e9-3670-4366-ae70-756e254c3c6a"
      },
      "outputs": [
        {
          "name": "stdout",
          "output_type": "stream",
          "text": [
            "count    11568.000000\n",
            "mean        17.890992\n",
            "std          6.330250\n",
            "min          1.000000\n",
            "25%         13.000000\n",
            "50%         18.000000\n",
            "75%         22.000000\n",
            "max         35.000000\n",
            "Name: duration, dtype: float64\n",
            "\n",
            "count    6500.000000\n",
            "mean       19.037692\n",
            "std         5.577439\n",
            "min         4.000000\n",
            "25%        15.000000\n",
            "50%        19.000000\n",
            "75%        22.000000\n",
            "max        41.000000\n",
            "Name: duration, dtype: float64\n"
          ]
        },
        {
          "data": {
            "text/html": [
              "<div>\n",
              "<style scoped>\n",
              "    .dataframe tbody tr th:only-of-type {\n",
              "        vertical-align: middle;\n",
              "    }\n",
              "\n",
              "    .dataframe tbody tr th {\n",
              "        vertical-align: top;\n",
              "    }\n",
              "\n",
              "    .dataframe thead th {\n",
              "        text-align: right;\n",
              "    }\n",
              "</style>\n",
              "<table border=\"1\" class=\"dataframe\">\n",
              "  <thead>\n",
              "    <tr style=\"text-align: right;\">\n",
              "      <th></th>\n",
              "      <th>month</th>\n",
              "      <th>duration_free</th>\n",
              "      <th>duration_ultra</th>\n",
              "    </tr>\n",
              "  </thead>\n",
              "  <tbody>\n",
              "    <tr>\n",
              "      <th>0</th>\n",
              "      <td>1</td>\n",
              "      <td>17.96</td>\n",
              "      <td>18.98</td>\n",
              "    </tr>\n",
              "    <tr>\n",
              "      <th>1</th>\n",
              "      <td>2</td>\n",
              "      <td>17.63</td>\n",
              "      <td>19.28</td>\n",
              "    </tr>\n",
              "    <tr>\n",
              "      <th>2</th>\n",
              "      <td>3</td>\n",
              "      <td>17.56</td>\n",
              "      <td>18.96</td>\n",
              "    </tr>\n",
              "    <tr>\n",
              "      <th>3</th>\n",
              "      <td>4</td>\n",
              "      <td>18.04</td>\n",
              "      <td>19.02</td>\n",
              "    </tr>\n",
              "    <tr>\n",
              "      <th>4</th>\n",
              "      <td>5</td>\n",
              "      <td>18.16</td>\n",
              "      <td>19.16</td>\n",
              "    </tr>\n",
              "    <tr>\n",
              "      <th>5</th>\n",
              "      <td>6</td>\n",
              "      <td>18.06</td>\n",
              "      <td>19.07</td>\n",
              "    </tr>\n",
              "    <tr>\n",
              "      <th>6</th>\n",
              "      <td>7</td>\n",
              "      <td>17.97</td>\n",
              "      <td>19.12</td>\n",
              "    </tr>\n",
              "    <tr>\n",
              "      <th>7</th>\n",
              "      <td>8</td>\n",
              "      <td>17.67</td>\n",
              "      <td>19.17</td>\n",
              "    </tr>\n",
              "    <tr>\n",
              "      <th>8</th>\n",
              "      <td>9</td>\n",
              "      <td>17.91</td>\n",
              "      <td>18.99</td>\n",
              "    </tr>\n",
              "    <tr>\n",
              "      <th>9</th>\n",
              "      <td>10</td>\n",
              "      <td>17.72</td>\n",
              "      <td>18.87</td>\n",
              "    </tr>\n",
              "    <tr>\n",
              "      <th>10</th>\n",
              "      <td>11</td>\n",
              "      <td>17.92</td>\n",
              "      <td>19.00</td>\n",
              "    </tr>\n",
              "    <tr>\n",
              "      <th>11</th>\n",
              "      <td>12</td>\n",
              "      <td>18.06</td>\n",
              "      <td>18.83</td>\n",
              "    </tr>\n",
              "  </tbody>\n",
              "</table>\n",
              "</div>"
            ],
            "text/plain": [
              "    month  duration_free  duration_ultra\n",
              "0       1          17.96           18.98\n",
              "1       2          17.63           19.28\n",
              "2       3          17.56           18.96\n",
              "3       4          18.04           19.02\n",
              "4       5          18.16           19.16\n",
              "5       6          18.06           19.07\n",
              "6       7          17.97           19.12\n",
              "7       8          17.67           19.17\n",
              "8       9          17.91           18.99\n",
              "9      10          17.72           18.87\n",
              "10     11          17.92           19.00\n",
              "11     12          18.06           18.83"
            ]
          },
          "metadata": {},
          "output_type": "display_data"
        },
        {
          "data": {
            "image/png": "[encoded data removed]",
            "text/plain": [
              "<Figure size 720x504 with 1 Axes>"
            ]
          },
          "metadata": {},
          "output_type": "display_data"
        },
        {
          "data": {
            "image/png": "[encoded data removed]",
            "text/plain": [
              "<Figure size 720x504 with 1 Axes>"
            ]
          },
          "metadata": {},
          "output_type": "display_data"
        }
      ],
      "source": [
        "print(user_free['duration'].describe())\n",
        "print()\n",
        "print(user_ultra['duration'].describe())\n",
        "\n",
        "# считаем среднее время поездок пользователей с подпиской и без по месяцам\n",
        "\n",
        "month_duration_free = user_free.pivot_table(index='month', values='duration', aggfunc='mean')\\\n",
        "                          .sort_values(by='month')\n",
        "month_duration_free.reset_index(inplace=True)\n",
        "month_duration_free.columns = ['month', 'duration_free']\n",
        "month_duration_free.duration_free = month_duration_free.duration_free.round(2)\n",
        "\n",
        "month_duration_ultra = user_ultra.pivot_table(index='month', values='duration', aggfunc='mean')\\\n",
        "                          .sort_values(by='month')\n",
        "month_duration_ultra.reset_index(inplace=True)\n",
        "month_duration_ultra.columns = ['month', 'duration_ultra']\n",
        "month_duration_ultra.duration_ultra = month_duration_ultra.duration_ultra.round(2)\n",
        "\n",
        "month_duration = month_duration_free.merge(month_duration_ultra, on='month')\n",
        "display(month_duration)\n",
        "\n",
        "\n",
        "month_duration.plot(kind='bar',\n",
        "                    x='month',\n",
        "                    figsize=(10, 7),\n",
        "                    grid=True,\n",
        "                    legend=True)\n",
        "\n",
        "plt.title('Среднее время поездки по месяцам', size=20)\n",
        "plt.xlabel('Месяц', size=14)\n",
        "plt.ylabel('Время', size=14)\n",
        "plt.xticks(size=12)\n",
        "plt.yticks(size=12)\n",
        "plt.legend(loc='lower center')\n",
        "\n",
        "plt.show()\n",
        "\n",
        "plt.figure(figsize=(10, 7))\n",
        "\n",
        "plt.hist(user_free['duration'], alpha=0.6, label='free')\n",
        "plt.hist(user_ultra['duration'], alpha=0.6, label='ultra')\n",
        "\n",
        "plt.title('Распределение времени по типу подписки', size=20)\n",
        "plt.xlabel('Время', size=14)\n",
        "plt.ylabel('Частота', size=14)\n",
        "plt.xticks(size=12)\n",
        "plt.yticks(size=12)\n",
        "plt.legend(loc='upper right')\n",
        "\n",
        "plt.show()"
      ]
    },
    {
      "cell_type": "markdown",
      "id": "535e169f",
      "metadata": {
        "id": "535e169f"
      },
      "source": [
        "**Вывод**\n",
        "\n",
        "Средняя время поездок пользователей с подпиской почти каждый месяц на 1 минуту больше, чем пользователей без неё. Межквартильный размах у клиентов с подпиской немного меньше."
      ]
    },
    {
      "cell_type": "markdown",
      "id": "41cca553",
      "metadata": {
        "id": "41cca553"
      },
      "source": [
        "**Вывод**\n",
        "\n",
        "- Объединили все датафреймы в один\n",
        "- Разделили данные на 2 таблицы по типу подписки\n",
        "- Средняя дистанции и время поездок у пользователей с подпиской выше"
      ]
    },
    {
      "cell_type": "markdown",
      "id": "402d620f",
      "metadata": {
        "id": "402d620f"
      },
      "source": [
        "#### Шаг 5. Подсчёт выручки"
      ]
    },
    {
      "cell_type": "code",
      "execution_count": null,
      "id": "0787724a",
      "metadata": {
        "id": "0787724a",
        "outputId": "5655e8dd-4eb7-4c82-d6c2-312a60c5588e"
      },
      "outputs": [
        {
          "data": {
            "text/html": [
              "<div>\n",
              "<style scoped>\n",
              "    .dataframe tbody tr th:only-of-type {\n",
              "        vertical-align: middle;\n",
              "    }\n",
              "\n",
              "    .dataframe tbody tr th {\n",
              "        vertical-align: top;\n",
              "    }\n",
              "\n",
              "    .dataframe thead th {\n",
              "        text-align: right;\n",
              "    }\n",
              "</style>\n",
              "<table border=\"1\" class=\"dataframe\">\n",
              "  <thead>\n",
              "    <tr style=\"text-align: right;\">\n",
              "      <th></th>\n",
              "      <th>user_id</th>\n",
              "      <th>name</th>\n",
              "      <th>age</th>\n",
              "      <th>city</th>\n",
              "      <th>subscription_type</th>\n",
              "      <th>distance</th>\n",
              "      <th>duration</th>\n",
              "      <th>date</th>\n",
              "      <th>month</th>\n",
              "      <th>minute_price</th>\n",
              "      <th>start_ride_price</th>\n",
              "      <th>subscription_fee</th>\n",
              "    </tr>\n",
              "  </thead>\n",
              "  <tbody>\n",
              "    <tr>\n",
              "      <th>0</th>\n",
              "      <td>1</td>\n",
              "      <td>Кира</td>\n",
              "      <td>22</td>\n",
              "      <td>Тюмень</td>\n",
              "      <td>ultra</td>\n",
              "      <td>4409.919140</td>\n",
              "      <td>26.0</td>\n",
              "      <td>2021-01-01</td>\n",
              "      <td>1</td>\n",
              "      <td>6</td>\n",
              "      <td>0</td>\n",
              "      <td>199</td>\n",
              "    </tr>\n",
              "    <tr>\n",
              "      <th>1</th>\n",
              "      <td>1</td>\n",
              "      <td>Кира</td>\n",
              "      <td>22</td>\n",
              "      <td>Тюмень</td>\n",
              "      <td>ultra</td>\n",
              "      <td>2617.592153</td>\n",
              "      <td>16.0</td>\n",
              "      <td>2021-01-18</td>\n",
              "      <td>1</td>\n",
              "      <td>6</td>\n",
              "      <td>0</td>\n",
              "      <td>199</td>\n",
              "    </tr>\n",
              "    <tr>\n",
              "      <th>2</th>\n",
              "      <td>1</td>\n",
              "      <td>Кира</td>\n",
              "      <td>22</td>\n",
              "      <td>Тюмень</td>\n",
              "      <td>ultra</td>\n",
              "      <td>754.159807</td>\n",
              "      <td>7.0</td>\n",
              "      <td>2021-04-20</td>\n",
              "      <td>4</td>\n",
              "      <td>6</td>\n",
              "      <td>0</td>\n",
              "      <td>199</td>\n",
              "    </tr>\n",
              "    <tr>\n",
              "      <th>3</th>\n",
              "      <td>1</td>\n",
              "      <td>Кира</td>\n",
              "      <td>22</td>\n",
              "      <td>Тюмень</td>\n",
              "      <td>ultra</td>\n",
              "      <td>2694.783254</td>\n",
              "      <td>19.0</td>\n",
              "      <td>2021-08-11</td>\n",
              "      <td>8</td>\n",
              "      <td>6</td>\n",
              "      <td>0</td>\n",
              "      <td>199</td>\n",
              "    </tr>\n",
              "    <tr>\n",
              "      <th>4</th>\n",
              "      <td>1</td>\n",
              "      <td>Кира</td>\n",
              "      <td>22</td>\n",
              "      <td>Тюмень</td>\n",
              "      <td>ultra</td>\n",
              "      <td>4028.687306</td>\n",
              "      <td>27.0</td>\n",
              "      <td>2021-08-28</td>\n",
              "      <td>8</td>\n",
              "      <td>6</td>\n",
              "      <td>0</td>\n",
              "      <td>199</td>\n",
              "    </tr>\n",
              "  </tbody>\n",
              "</table>\n",
              "</div>"
            ],
            "text/plain": [
              "   user_id  name  age    city subscription_type     distance  duration  \\\n",
              "0        1  Кира   22  Тюмень             ultra  4409.919140      26.0   \n",
              "1        1  Кира   22  Тюмень             ultra  2617.592153      16.0   \n",
              "2        1  Кира   22  Тюмень             ultra   754.159807       7.0   \n",
              "3        1  Кира   22  Тюмень             ultra  2694.783254      19.0   \n",
              "4        1  Кира   22  Тюмень             ultra  4028.687306      27.0   \n",
              "\n",
              "        date  month  minute_price  start_ride_price  subscription_fee  \n",
              "0 2021-01-01      1             6                 0               199  \n",
              "1 2021-01-18      1             6                 0               199  \n",
              "2 2021-04-20      4             6                 0               199  \n",
              "3 2021-08-11      8             6                 0               199  \n",
              "4 2021-08-28      8             6                 0               199  "
            ]
          },
          "execution_count": 26,
          "metadata": {},
          "output_type": "execute_result"
        }
      ],
      "source": [
        "data.head()"
      ]
    },
    {
      "cell_type": "code",
      "execution_count": null,
      "id": "53049e0a",
      "metadata": {
        "id": "53049e0a",
        "outputId": "1a7e0400-0e26-4d60-9e95-fc61aa7a829d"
      },
      "outputs": [
        {
          "data": {
            "text/html": [
              "<div>\n",
              "<style scoped>\n",
              "    .dataframe tbody tr th:only-of-type {\n",
              "        vertical-align: middle;\n",
              "    }\n",
              "\n",
              "    .dataframe tbody tr th {\n",
              "        vertical-align: top;\n",
              "    }\n",
              "\n",
              "    .dataframe thead th {\n",
              "        text-align: right;\n",
              "    }\n",
              "</style>\n",
              "<table border=\"1\" class=\"dataframe\">\n",
              "  <thead>\n",
              "    <tr style=\"text-align: right;\">\n",
              "      <th></th>\n",
              "      <th></th>\n",
              "      <th>distance</th>\n",
              "      <th>duration</th>\n",
              "      <th>minute_price</th>\n",
              "      <th>count_rides</th>\n",
              "      <th>start_ride_price</th>\n",
              "      <th>subscription_fee</th>\n",
              "      <th>subscription_type</th>\n",
              "    </tr>\n",
              "    <tr>\n",
              "      <th>month</th>\n",
              "      <th>user_id</th>\n",
              "      <th></th>\n",
              "      <th></th>\n",
              "      <th></th>\n",
              "      <th></th>\n",
              "      <th></th>\n",
              "      <th></th>\n",
              "      <th></th>\n",
              "    </tr>\n",
              "  </thead>\n",
              "  <tbody>\n",
              "    <tr>\n",
              "      <th rowspan=\"5\" valign=\"top\">1</th>\n",
              "      <th>1</th>\n",
              "      <td>7027.51</td>\n",
              "      <td>42.0</td>\n",
              "      <td>6</td>\n",
              "      <td>2</td>\n",
              "      <td>0</td>\n",
              "      <td>199</td>\n",
              "      <td>ultra</td>\n",
              "    </tr>\n",
              "    <tr>\n",
              "      <th>3</th>\n",
              "      <td>3061.78</td>\n",
              "      <td>13.0</td>\n",
              "      <td>6</td>\n",
              "      <td>1</td>\n",
              "      <td>0</td>\n",
              "      <td>199</td>\n",
              "      <td>ultra</td>\n",
              "    </tr>\n",
              "    <tr>\n",
              "      <th>5</th>\n",
              "      <td>3914.65</td>\n",
              "      <td>13.0</td>\n",
              "      <td>6</td>\n",
              "      <td>1</td>\n",
              "      <td>0</td>\n",
              "      <td>199</td>\n",
              "      <td>ultra</td>\n",
              "    </tr>\n",
              "    <tr>\n",
              "      <th>7</th>\n",
              "      <td>6478.08</td>\n",
              "      <td>28.0</td>\n",
              "      <td>6</td>\n",
              "      <td>2</td>\n",
              "      <td>0</td>\n",
              "      <td>199</td>\n",
              "      <td>ultra</td>\n",
              "    </tr>\n",
              "    <tr>\n",
              "      <th>12</th>\n",
              "      <td>3577.15</td>\n",
              "      <td>33.0</td>\n",
              "      <td>6</td>\n",
              "      <td>1</td>\n",
              "      <td>0</td>\n",
              "      <td>199</td>\n",
              "      <td>ultra</td>\n",
              "    </tr>\n",
              "  </tbody>\n",
              "</table>\n",
              "</div>"
            ],
            "text/plain": [
              "               distance  duration  minute_price  count_rides  \\\n",
              "month user_id                                                  \n",
              "1     1         7027.51      42.0             6            2   \n",
              "      3         3061.78      13.0             6            1   \n",
              "      5         3914.65      13.0             6            1   \n",
              "      7         6478.08      28.0             6            2   \n",
              "      12        3577.15      33.0             6            1   \n",
              "\n",
              "               start_ride_price  subscription_fee subscription_type  \n",
              "month user_id                                                        \n",
              "1     1                       0               199             ultra  \n",
              "      3                       0               199             ultra  \n",
              "      5                       0               199             ultra  \n",
              "      7                       0               199             ultra  \n",
              "      12                      0               199             ultra  "
            ]
          },
          "execution_count": 27,
          "metadata": {},
          "output_type": "execute_result"
        }
      ],
      "source": [
        "# для каждого уникального пользователя выводим по каждому месяцу суммарную дистанцию, время, количество поездок и тип подписки\n",
        "\n",
        "param_per_user = data.pivot_table(index=['month', 'user_id'],\n",
        "                                  values=['distance',\n",
        "                                          'duration',\n",
        "                                          'name',\n",
        "                                          'subscription_type',\n",
        "                                          'minute_price',\n",
        "                                          'start_ride_price',\n",
        "                                          'subscription_fee'],\n",
        "                                  aggfunc={'distance': 'sum',\n",
        "                                           'duration': 'sum',\n",
        "                                           'name': 'count',\n",
        "                                           'subscription_type': min,\n",
        "                                           'minute_price': min,\n",
        "                                           'start_ride_price': min,\n",
        "                                           'subscription_fee': min})\n",
        "\n",
        "param_per_user = param_per_user.rename(columns={\n",
        "    'name': 'count_rides'\n",
        "})\n",
        "param_per_user.distance = param_per_user.distance.round(2)\n",
        "param_per_user.duration = param_per_user.duration.round(2)\n",
        "param_per_user.head()"
      ]
    },
    {
      "cell_type": "code",
      "execution_count": null,
      "id": "fa5d8476",
      "metadata": {
        "id": "fa5d8476",
        "outputId": "b85eb348-f3d5-44bd-e6c5-ca7a697e0140"
      },
      "outputs": [
        {
          "data": {
            "text/plain": [
              "distance             0\n",
              "duration             0\n",
              "minute_price         0\n",
              "count_rides          0\n",
              "start_ride_price     0\n",
              "subscription_fee     0\n",
              "subscription_type    0\n",
              "dtype: int64"
            ]
          },
          "execution_count": 28,
          "metadata": {},
          "output_type": "execute_result"
        }
      ],
      "source": [
        "# проверяем пропуски\n",
        "\n",
        "param_per_user.isna().sum()"
      ]
    },
    {
      "cell_type": "code",
      "execution_count": null,
      "id": "c73af415",
      "metadata": {
        "id": "c73af415",
        "outputId": "02d5710c-dc8f-4a17-f62e-b88955b1e246"
      },
      "outputs": [
        {
          "data": {
            "text/html": [
              "<div>\n",
              "<style scoped>\n",
              "    .dataframe tbody tr th:only-of-type {\n",
              "        vertical-align: middle;\n",
              "    }\n",
              "\n",
              "    .dataframe tbody tr th {\n",
              "        vertical-align: top;\n",
              "    }\n",
              "\n",
              "    .dataframe thead th {\n",
              "        text-align: right;\n",
              "    }\n",
              "</style>\n",
              "<table border=\"1\" class=\"dataframe\">\n",
              "  <thead>\n",
              "    <tr style=\"text-align: right;\">\n",
              "      <th></th>\n",
              "      <th></th>\n",
              "      <th>distance</th>\n",
              "      <th>duration</th>\n",
              "      <th>minute_price</th>\n",
              "      <th>count_rides</th>\n",
              "      <th>start_ride_price</th>\n",
              "      <th>subscription_fee</th>\n",
              "      <th>subscription_type</th>\n",
              "      <th>revenue</th>\n",
              "    </tr>\n",
              "    <tr>\n",
              "      <th>month</th>\n",
              "      <th>user_id</th>\n",
              "      <th></th>\n",
              "      <th></th>\n",
              "      <th></th>\n",
              "      <th></th>\n",
              "      <th></th>\n",
              "      <th></th>\n",
              "      <th></th>\n",
              "      <th></th>\n",
              "    </tr>\n",
              "  </thead>\n",
              "  <tbody>\n",
              "    <tr>\n",
              "      <th rowspan=\"20\" valign=\"top\">1</th>\n",
              "      <th>1</th>\n",
              "      <td>7027.51</td>\n",
              "      <td>42.0</td>\n",
              "      <td>6</td>\n",
              "      <td>2</td>\n",
              "      <td>0</td>\n",
              "      <td>199</td>\n",
              "      <td>ultra</td>\n",
              "      <td>451.0</td>\n",
              "    </tr>\n",
              "    <tr>\n",
              "      <th>3</th>\n",
              "      <td>3061.78</td>\n",
              "      <td>13.0</td>\n",
              "      <td>6</td>\n",
              "      <td>1</td>\n",
              "      <td>0</td>\n",
              "      <td>199</td>\n",
              "      <td>ultra</td>\n",
              "      <td>277.0</td>\n",
              "    </tr>\n",
              "    <tr>\n",
              "      <th>5</th>\n",
              "      <td>3914.65</td>\n",
              "      <td>13.0</td>\n",
              "      <td>6</td>\n",
              "      <td>1</td>\n",
              "      <td>0</td>\n",
              "      <td>199</td>\n",
              "      <td>ultra</td>\n",
              "      <td>277.0</td>\n",
              "    </tr>\n",
              "    <tr>\n",
              "      <th>7</th>\n",
              "      <td>6478.08</td>\n",
              "      <td>28.0</td>\n",
              "      <td>6</td>\n",
              "      <td>2</td>\n",
              "      <td>0</td>\n",
              "      <td>199</td>\n",
              "      <td>ultra</td>\n",
              "      <td>367.0</td>\n",
              "    </tr>\n",
              "    <tr>\n",
              "      <th>12</th>\n",
              "      <td>3577.15</td>\n",
              "      <td>33.0</td>\n",
              "      <td>6</td>\n",
              "      <td>1</td>\n",
              "      <td>0</td>\n",
              "      <td>199</td>\n",
              "      <td>ultra</td>\n",
              "      <td>397.0</td>\n",
              "    </tr>\n",
              "    <tr>\n",
              "      <th>13</th>\n",
              "      <td>6687.99</td>\n",
              "      <td>42.0</td>\n",
              "      <td>6</td>\n",
              "      <td>2</td>\n",
              "      <td>0</td>\n",
              "      <td>199</td>\n",
              "      <td>ultra</td>\n",
              "      <td>451.0</td>\n",
              "    </tr>\n",
              "    <tr>\n",
              "      <th>14</th>\n",
              "      <td>7699.64</td>\n",
              "      <td>35.0</td>\n",
              "      <td>6</td>\n",
              "      <td>2</td>\n",
              "      <td>0</td>\n",
              "      <td>199</td>\n",
              "      <td>ultra</td>\n",
              "      <td>409.0</td>\n",
              "    </tr>\n",
              "    <tr>\n",
              "      <th>15</th>\n",
              "      <td>4187.62</td>\n",
              "      <td>39.0</td>\n",
              "      <td>6</td>\n",
              "      <td>1</td>\n",
              "      <td>0</td>\n",
              "      <td>199</td>\n",
              "      <td>ultra</td>\n",
              "      <td>433.0</td>\n",
              "    </tr>\n",
              "    <tr>\n",
              "      <th>20</th>\n",
              "      <td>3516.72</td>\n",
              "      <td>29.0</td>\n",
              "      <td>6</td>\n",
              "      <td>1</td>\n",
              "      <td>0</td>\n",
              "      <td>199</td>\n",
              "      <td>ultra</td>\n",
              "      <td>373.0</td>\n",
              "    </tr>\n",
              "    <tr>\n",
              "      <th>22</th>\n",
              "      <td>3058.69</td>\n",
              "      <td>13.0</td>\n",
              "      <td>6</td>\n",
              "      <td>1</td>\n",
              "      <td>0</td>\n",
              "      <td>199</td>\n",
              "      <td>ultra</td>\n",
              "      <td>277.0</td>\n",
              "    </tr>\n",
              "    <tr>\n",
              "      <th>25</th>\n",
              "      <td>3440.35</td>\n",
              "      <td>17.0</td>\n",
              "      <td>6</td>\n",
              "      <td>1</td>\n",
              "      <td>0</td>\n",
              "      <td>199</td>\n",
              "      <td>ultra</td>\n",
              "      <td>301.0</td>\n",
              "    </tr>\n",
              "    <tr>\n",
              "      <th>26</th>\n",
              "      <td>6545.96</td>\n",
              "      <td>28.0</td>\n",
              "      <td>6</td>\n",
              "      <td>2</td>\n",
              "      <td>0</td>\n",
              "      <td>199</td>\n",
              "      <td>ultra</td>\n",
              "      <td>367.0</td>\n",
              "    </tr>\n",
              "    <tr>\n",
              "      <th>30</th>\n",
              "      <td>7774.72</td>\n",
              "      <td>25.0</td>\n",
              "      <td>6</td>\n",
              "      <td>2</td>\n",
              "      <td>0</td>\n",
              "      <td>199</td>\n",
              "      <td>ultra</td>\n",
              "      <td>349.0</td>\n",
              "    </tr>\n",
              "    <tr>\n",
              "      <th>32</th>\n",
              "      <td>3734.99</td>\n",
              "      <td>25.0</td>\n",
              "      <td>6</td>\n",
              "      <td>1</td>\n",
              "      <td>0</td>\n",
              "      <td>199</td>\n",
              "      <td>ultra</td>\n",
              "      <td>349.0</td>\n",
              "    </tr>\n",
              "    <tr>\n",
              "      <th>35</th>\n",
              "      <td>9707.81</td>\n",
              "      <td>57.0</td>\n",
              "      <td>6</td>\n",
              "      <td>3</td>\n",
              "      <td>0</td>\n",
              "      <td>199</td>\n",
              "      <td>ultra</td>\n",
              "      <td>541.0</td>\n",
              "    </tr>\n",
              "    <tr>\n",
              "      <th>42</th>\n",
              "      <td>4329.77</td>\n",
              "      <td>23.0</td>\n",
              "      <td>6</td>\n",
              "      <td>1</td>\n",
              "      <td>0</td>\n",
              "      <td>199</td>\n",
              "      <td>ultra</td>\n",
              "      <td>337.0</td>\n",
              "    </tr>\n",
              "    <tr>\n",
              "      <th>43</th>\n",
              "      <td>6322.21</td>\n",
              "      <td>48.0</td>\n",
              "      <td>6</td>\n",
              "      <td>2</td>\n",
              "      <td>0</td>\n",
              "      <td>199</td>\n",
              "      <td>ultra</td>\n",
              "      <td>487.0</td>\n",
              "    </tr>\n",
              "    <tr>\n",
              "      <th>44</th>\n",
              "      <td>2944.41</td>\n",
              "      <td>19.0</td>\n",
              "      <td>6</td>\n",
              "      <td>2</td>\n",
              "      <td>0</td>\n",
              "      <td>199</td>\n",
              "      <td>ultra</td>\n",
              "      <td>313.0</td>\n",
              "    </tr>\n",
              "    <tr>\n",
              "      <th>45</th>\n",
              "      <td>3702.42</td>\n",
              "      <td>27.0</td>\n",
              "      <td>6</td>\n",
              "      <td>2</td>\n",
              "      <td>0</td>\n",
              "      <td>199</td>\n",
              "      <td>ultra</td>\n",
              "      <td>361.0</td>\n",
              "    </tr>\n",
              "    <tr>\n",
              "      <th>46</th>\n",
              "      <td>3242.09</td>\n",
              "      <td>20.0</td>\n",
              "      <td>6</td>\n",
              "      <td>1</td>\n",
              "      <td>0</td>\n",
              "      <td>199</td>\n",
              "      <td>ultra</td>\n",
              "      <td>319.0</td>\n",
              "    </tr>\n",
              "  </tbody>\n",
              "</table>\n",
              "</div>"
            ],
            "text/plain": [
              "               distance  duration  minute_price  count_rides  \\\n",
              "month user_id                                                  \n",
              "1     1         7027.51      42.0             6            2   \n",
              "      3         3061.78      13.0             6            1   \n",
              "      5         3914.65      13.0             6            1   \n",
              "      7         6478.08      28.0             6            2   \n",
              "      12        3577.15      33.0             6            1   \n",
              "      13        6687.99      42.0             6            2   \n",
              "      14        7699.64      35.0             6            2   \n",
              "      15        4187.62      39.0             6            1   \n",
              "      20        3516.72      29.0             6            1   \n",
              "      22        3058.69      13.0             6            1   \n",
              "      25        3440.35      17.0             6            1   \n",
              "      26        6545.96      28.0             6            2   \n",
              "      30        7774.72      25.0             6            2   \n",
              "      32        3734.99      25.0             6            1   \n",
              "      35        9707.81      57.0             6            3   \n",
              "      42        4329.77      23.0             6            1   \n",
              "      43        6322.21      48.0             6            2   \n",
              "      44        2944.41      19.0             6            2   \n",
              "      45        3702.42      27.0             6            2   \n",
              "      46        3242.09      20.0             6            1   \n",
              "\n",
              "               start_ride_price  subscription_fee subscription_type  revenue  \n",
              "month user_id                                                                 \n",
              "1     1                       0               199             ultra    451.0  \n",
              "      3                       0               199             ultra    277.0  \n",
              "      5                       0               199             ultra    277.0  \n",
              "      7                       0               199             ultra    367.0  \n",
              "      12                      0               199             ultra    397.0  \n",
              "      13                      0               199             ultra    451.0  \n",
              "      14                      0               199             ultra    409.0  \n",
              "      15                      0               199             ultra    433.0  \n",
              "      20                      0               199             ultra    373.0  \n",
              "      22                      0               199             ultra    277.0  \n",
              "      25                      0               199             ultra    301.0  \n",
              "      26                      0               199             ultra    367.0  \n",
              "      30                      0               199             ultra    349.0  \n",
              "      32                      0               199             ultra    349.0  \n",
              "      35                      0               199             ultra    541.0  \n",
              "      42                      0               199             ultra    337.0  \n",
              "      43                      0               199             ultra    487.0  \n",
              "      44                      0               199             ultra    313.0  \n",
              "      45                      0               199             ultra    361.0  \n",
              "      46                      0               199             ultra    319.0  "
            ]
          },
          "execution_count": 29,
          "metadata": {},
          "output_type": "execute_result"
        }
      ],
      "source": [
        "# создаём функцию для расчёта помесячной выручки для каждого пользователя\n",
        "\n",
        "def revenue(x):\n",
        "    if x['subscription_type'] == 'ultra':\n",
        "        return x['duration'] * x['minute_price'] + x['subscription_fee']\n",
        "    else:\n",
        "        return x['duration'] * x['minute_price'] + x['count_rides'] * x['start_ride_price']\n",
        "\n",
        "param_per_user['revenue'] = param_per_user.apply(revenue, axis=1)\n",
        "param_per_user.head(20)"
      ]
    },
    {
      "cell_type": "code",
      "execution_count": null,
      "id": "5dbf9317",
      "metadata": {
        "id": "5dbf9317",
        "outputId": "1e5749ca-aa2f-4853-a4c3-13714e866162"
      },
      "outputs": [
        {
          "name": "stdout",
          "output_type": "stream",
          "text": [
            "Всего выручки с клиентов без подписки: 2234104.0\n",
            "Всего выручки с клиентов с подпиской: 1644537.0\n",
            "Количество выручки, приходящееся на 1 клиента без подписки: 328.6413651073845\n",
            "Количество выручки, приходящееся на 1 клиента с подпиской: 362.7921906022502\n"
          ]
        }
      ],
      "source": [
        "revenue_free = param_per_user[param_per_user['subscription_type'] == \"free\"]['revenue'].sum()\n",
        "revenue_ultra = param_per_user[param_per_user['subscription_type'] == \"ultra\"]['revenue'].sum()\n",
        "revenue_free_per_user = param_per_user[param_per_user['subscription_type'] == \"free\"]['revenue'].sum() / len(param_per_user.query('subscription_type == \"free\"'))\n",
        "revenue_ultra_per_user = param_per_user[param_per_user['subscription_type'] == \"ultra\"]['revenue'].sum() / len(param_per_user.query('subscription_type == \"ultra\"'))\n",
        "\n",
        "print(f'Всего выручки с клиентов без подписки: {revenue_free}')\n",
        "print(f'Всего выручки с клиентов с подпиской: {revenue_ultra}')\n",
        "print(f'Количество выручки, приходящееся на 1 клиента без подписки: {revenue_free_per_user}')\n",
        "print(f'Количество выручки, приходящееся на 1 клиента с подпиской: {revenue_ultra_per_user}')"
      ]
    },
    {
      "cell_type": "markdown",
      "id": "e381c661",
      "metadata": {
        "id": "e381c661"
      },
      "source": [
        "**Вывод**\n",
        "\n",
        "Сгруппировали всех пользователей и посчитали в каждом месяце для них суммарную дистанцию, время, количество поездок и выручку. Компания получает больше выручки с клиентов без подписки, потому что их больше, но выручки на 1 клиента больше среди тех, кто оформил платную подписку."
      ]
    },
    {
      "cell_type": "markdown",
      "id": "41545ac0",
      "metadata": {
        "id": "41545ac0"
      },
      "source": [
        "#### Шаг 6. Проверка гипотез"
      ]
    },
    {
      "cell_type": "markdown",
      "id": "8fc6f9b1",
      "metadata": {
        "id": "8fc6f9b1"
      },
      "source": [
        "##### Тратят ли пользователи с подпиской больше времени на поездки"
      ]
    },
    {
      "cell_type": "markdown",
      "id": "6195b405",
      "metadata": {
        "id": "6195b405"
      },
      "source": [
        "`H0`: время поездок пользователей с подпиской не больше, чем у пользователей без неё\n",
        "\n",
        "`H1`: время поездок пользователей с подпиской больше, чем у пользователей без неё"
      ]
    },
    {
      "cell_type": "code",
      "execution_count": null,
      "id": "b4d148bf",
      "metadata": {
        "id": "b4d148bf",
        "outputId": "1ea4e234-420a-4b71-d834-eaddb598682c"
      },
      "outputs": [
        {
          "name": "stdout",
          "output_type": "stream",
          "text": [
            "p-value: 2.4959453720736625e-34\n",
            "Отвергаем нулевую гипотезу\n"
          ]
        }
      ],
      "source": [
        "#\n",
        "\n",
        "free_dur = user_free['duration']\n",
        "ultra_dur = user_ultra['duration']\n",
        "alpha = 0.05\n",
        "\n",
        "results = st.ttest_ind(free_dur, ultra_dur, alternative='less')\n",
        "\n",
        "print(f'p-value: {results.pvalue}')\n",
        "\n",
        "if results.pvalue < alpha:\n",
        "    print('Отвергаем нулевую гипотезу')\n",
        "else:\n",
        "    print('Нет оснований отвергнуть нулевую гипотезу')"
      ]
    },
    {
      "cell_type": "markdown",
      "id": "4572bc99",
      "metadata": {
        "id": "4572bc99"
      },
      "source": [
        "**Вывод**\n",
        "\n",
        "Гипотезу отвергаем, поэтому пользователи с подпиской \"выгоднее\" для компании. P-value означает, что результат статистически значим и пользователи с подпиской больше тратят времени на поездки."
      ]
    },
    {
      "cell_type": "markdown",
      "id": "04e375fc",
      "metadata": {
        "id": "04e375fc"
      },
      "source": [
        "##### Не превышает ли среднее расстояние поездки пользователей с подпиской 3130 метров"
      ]
    },
    {
      "cell_type": "markdown",
      "id": "1df48dd6",
      "metadata": {
        "id": "1df48dd6"
      },
      "source": [
        "`H0`: не превышает\n",
        "\n",
        "`H1`: превышает"
      ]
    },
    {
      "cell_type": "code",
      "execution_count": null,
      "id": "53156d8c",
      "metadata": {
        "id": "53156d8c",
        "outputId": "bae7cfa9-b4f5-4fe8-e7a4-1609025104d6"
      },
      "outputs": [
        {
          "name": "stdout",
          "output_type": "stream",
          "text": [
            "p-value: 0.9195368847849785\n",
            "Нет оснований отвергнуть нулевую гипотезу\n"
          ]
        }
      ],
      "source": [
        "#\n",
        "\n",
        "ultra_dis = user_ultra['distance']\n",
        "value = 3130\n",
        "aplha = 0.05\n",
        "\n",
        "results = st.ttest_1samp(ultra_dis, value, alternative='greater')\n",
        "\n",
        "print(f'p-value: {results.pvalue}')\n",
        "\n",
        "if results.pvalue < alpha:\n",
        "    print('Отвергаем нулевую гипотезу')\n",
        "else:\n",
        "    print('Нет оснований отвергнуть нулевую гипотезу')"
      ]
    },
    {
      "cell_type": "markdown",
      "id": "7bbb1861",
      "metadata": {
        "id": "7bbb1861"
      },
      "source": [
        "**Вывод**\n",
        "\n",
        "Гипотеза не отвергнута, поэтому среднее расстояние поездки пользователей с подпиской не превышает 3130 метров. Можно сказать, что пользователи с подпиской не превышают оптимальное расстояние с точки зрения износа самоката, что является выгодным для компании."
      ]
    },
    {
      "cell_type": "markdown",
      "id": "977bd733",
      "metadata": {
        "id": "977bd733"
      },
      "source": [
        "##### Компания получает больше выручки с платных пользователей сервиса"
      ]
    },
    {
      "cell_type": "markdown",
      "id": "bb224203",
      "metadata": {
        "id": "bb224203"
      },
      "source": [
        "`H0`: выручка с пользователей с подпиской не превышает выручки с пользователей без неё\n",
        "\n",
        "`H1`: выручка \"платных\" превышает \"бесплатных\""
      ]
    },
    {
      "cell_type": "code",
      "execution_count": null,
      "id": "b6a9ad83",
      "metadata": {
        "id": "b6a9ad83",
        "outputId": "15b83ff7-900c-4c5a-d265-37a5ead9bbec"
      },
      "outputs": [
        {
          "name": "stdout",
          "output_type": "stream",
          "text": [
            "p-value: 1.8850394384715216e-31\n",
            "Отвергаем нулевую гипотезу\n"
          ]
        }
      ],
      "source": [
        "#\n",
        "\n",
        "free_revenue = param_per_user.loc[param_per_user.subscription_type == \"free\", 'revenue']\n",
        "ultra_revenue = param_per_user.loc[param_per_user.subscription_type == \"ultra\", 'revenue']\n",
        "alpha = 0.05\n",
        "\n",
        "results = st.ttest_ind(ultra_revenue, free_revenue, alternative='greater')\n",
        "\n",
        "print(f'p-value: {results.pvalue}')\n",
        "\n",
        "if results.pvalue < alpha:\n",
        "    print('Отвергаем нулевую гипотезу')\n",
        "else:\n",
        "    print('Нет оснований отвергнуть нулевую гипотезу')"
      ]
    },
    {
      "cell_type": "markdown",
      "id": "027d8c30",
      "metadata": {
        "id": "027d8c30"
      },
      "source": [
        "**Вывод**\n",
        "\n",
        "Гипотеза отвергнута, поэтому компания получает больше выручки с клиентов, которые оформляют платную подписку."
      ]
    },
    {
      "cell_type": "markdown",
      "id": "0baad414",
      "metadata": {
        "id": "0baad414"
      },
      "source": [
        "##### Какую гипотезу использовать?"
      ]
    },
    {
      "cell_type": "markdown",
      "id": "4f81fcba",
      "metadata": {
        "id": "4f81fcba"
      },
      "source": [
        "Техническая команда обновила сервера и предполагает, что количество обращений в тех. поддержку снизится.\n",
        "\n",
        "В данном случае следует использовать гипотезу о равенстве среднего значения генеральной совокупности до и после изменения. Это двусторонняя гипотеза, потому что альтернативная гипотеза выражена ненаправленно.\n",
        "\n",
        "- H0: μ1 = μ2\n",
        "- H1: μ1 != μ2\n",
        "\n",
        "Метод: `scipy.stats.ttest_rel()`"
      ]
    },
    {
      "cell_type": "markdown",
      "id": "723a9c88",
      "metadata": {
        "id": "723a9c88"
      },
      "source": [
        "**Вывод**\n",
        "\n",
        "- Пользователи с подпиской тратят больше времени на поездки\n",
        "- Среднее расстояние пользователей с подпиской не превышает эту же меру среди пользователей без подписки\n",
        "- Компания получает больше выручки с пользователей, оформивших подписку\n",
        "- Для проверки гипотез на одинаковых массивах, но какими-то изменениями, используют о равенстве совокупностей до и после изменений"
      ]
    },
    {
      "cell_type": "markdown",
      "id": "6ab5230c",
      "metadata": {
        "id": "6ab5230c"
      },
      "source": [
        "#### Общий вывод"
      ]
    },
    {
      "cell_type": "markdown",
      "id": "0de49de6",
      "metadata": {
        "id": "0de49de6"
      },
      "source": [
        "Задачей проекта был анализ сервиса самокатов GoFast, проверка гипотез с целью повышения бизнес показателей."
      ]
    },
    {
      "cell_type": "markdown",
      "id": "cf7b95e3",
      "metadata": {
        "id": "cf7b95e3"
      },
      "source": [
        "**Этапы проекта:**\n",
        "\n",
        "1. Изучение датафрейма\n",
        "\n",
        " - Выгрузка\n",
        " - Просмотр общей информации\n",
        "\n",
        "\n",
        "2. Предобработка данных\n",
        "\n",
        " - Преобразовали столбцы\n",
        " - Создали вспомогательные колонки\n",
        " - Удалили дубликаты\n",
        " - Проверили на аномальность\n",
        "\n",
        "\n",
        "3. Анализ\n",
        "\n",
        " - Посчитали количество пользователей по городам и по типу подписки\n",
        " - Проверили возраст пользователей\n",
        " - Посмотрели среднюю дистанцию и время поездок\n",
        "\n",
        "\n",
        "4. Проверка гипотез\n",
        "5. Общий вывод"
      ]
    },
    {
      "cell_type": "markdown",
      "id": "761faecd",
      "metadata": {
        "id": "761faecd"
      },
      "source": [
        "**В результате анализа были сделаны следующие выводы:**\n",
        "\n",
        "- Больше всего пользователей из Пятигорска\n",
        "- Клиентов без подписки больше\n",
        "- Средний возраст клиентов - 25 лет\n",
        "- Средняя дистанция за поездку - 3,1 км\n",
        "- Средняя время поездки - 17 минут\n",
        "- Средняя дистанция и время поездки у пользователей с подпиской выше\n",
        "- Межквартильный размых расстояния и времени поездок меньше у клиентов с платной подпиской. У этой группы нет сильного разрыва в использовании самокатами.\n",
        "- Выручки за 2021 год компания получила больше с клиентов без подписки, потому что их больше. Но количество выручки приходящееся на 1 клиента больше среди тех, кто оформил платную подписку"
      ]
    },
    {
      "cell_type": "markdown",
      "id": "7241cf5b",
      "metadata": {
        "id": "7241cf5b"
      },
      "source": [
        "`2/3 гипотез были отвергнуты`. Можно сделать вывод, что для бизнеса клиенты с платной подпиской выгоднее, потому что больше времени тратят на использование самокатов, не проезжают выше оптимального расстояния для износа самоката и с них компания получает больше выручки, чем с \"бесплатных\" клиентов."
      ]
    },
    {
      "cell_type": "markdown",
      "id": "cf1f3537",
      "metadata": {
        "id": "cf1f3537"
      },
      "source": [
        "**Рекомендации**\n",
        "\n",
        "Для увеличения выручки сервиса необходимо, чтобы больше пользователей стали \"платными\", это можно сделать посредством снижения стоимости подписки или добавления в неё дополнительных условий для выгоды клиента, поскольку количество пользователей с подпиской меньше, чем без неё."
      ]
    }
  ],
  "metadata": {
    "ExecuteTimeLog": [
      {
        "duration": 54,
        "start_time": "2023-11-06T14:55:17.596Z"
      },
      {
        "duration": 8,
        "start_time": "2023-11-06T14:58:08.578Z"
      },
      {
        "duration": 10,
        "start_time": "2023-11-06T14:59:21.048Z"
      },
      {
        "duration": 9,
        "start_time": "2023-11-06T14:59:39.086Z"
      },
      {
        "duration": 934,
        "start_time": "2023-11-06T14:59:45.284Z"
      },
      {
        "duration": 216,
        "start_time": "2023-11-06T14:59:54.886Z"
      },
      {
        "duration": 26,
        "start_time": "2023-11-06T15:02:21.676Z"
      },
      {
        "duration": 32,
        "start_time": "2023-11-06T15:02:30.291Z"
      },
      {
        "duration": 26,
        "start_time": "2023-11-06T15:02:38.502Z"
      },
      {
        "duration": 8,
        "start_time": "2023-11-06T15:49:36.660Z"
      },
      {
        "duration": 5,
        "start_time": "2023-11-06T15:53:01.018Z"
      },
      {
        "duration": 8,
        "start_time": "2023-11-06T15:54:35.244Z"
      },
      {
        "duration": 7,
        "start_time": "2023-11-06T15:54:54.047Z"
      },
      {
        "duration": 13,
        "start_time": "2023-11-06T15:55:50.174Z"
      },
      {
        "duration": 60,
        "start_time": "2023-11-06T15:56:53.385Z"
      },
      {
        "duration": 5,
        "start_time": "2023-11-06T15:57:41.293Z"
      },
      {
        "duration": 16,
        "start_time": "2023-11-06T15:59:26.563Z"
      },
      {
        "duration": 7,
        "start_time": "2023-11-06T16:01:34.159Z"
      },
      {
        "duration": 8,
        "start_time": "2023-11-06T16:01:47.837Z"
      },
      {
        "duration": 7,
        "start_time": "2023-11-06T16:01:57.789Z"
      },
      {
        "duration": 21,
        "start_time": "2023-11-06T16:02:15.598Z"
      },
      {
        "duration": 5,
        "start_time": "2023-11-06T16:04:58.754Z"
      },
      {
        "duration": 10,
        "start_time": "2023-11-06T16:05:09.410Z"
      },
      {
        "duration": 5,
        "start_time": "2023-11-06T16:05:13.024Z"
      },
      {
        "duration": 12,
        "start_time": "2023-11-06T16:06:32.637Z"
      },
      {
        "duration": 9,
        "start_time": "2023-11-06T16:09:52.152Z"
      },
      {
        "duration": 13,
        "start_time": "2023-11-06T16:10:13.797Z"
      },
      {
        "duration": 19,
        "start_time": "2023-11-06T16:11:45.509Z"
      },
      {
        "duration": 11,
        "start_time": "2023-11-06T16:11:49.470Z"
      },
      {
        "duration": 10,
        "start_time": "2023-11-06T16:12:09.311Z"
      },
      {
        "duration": 11,
        "start_time": "2023-11-06T16:12:18.697Z"
      },
      {
        "duration": 11,
        "start_time": "2023-11-06T16:12:26.580Z"
      },
      {
        "duration": 10,
        "start_time": "2023-11-06T16:12:31.797Z"
      },
      {
        "duration": 8,
        "start_time": "2023-11-06T16:16:03.666Z"
      },
      {
        "duration": 16,
        "start_time": "2023-11-06T16:19:15.177Z"
      },
      {
        "duration": 578,
        "start_time": "2023-11-06T16:19:49.980Z"
      },
      {
        "duration": 96,
        "start_time": "2023-11-06T16:24:24.504Z"
      },
      {
        "duration": 37,
        "start_time": "2023-11-06T16:24:34.008Z"
      },
      {
        "duration": 3,
        "start_time": "2023-11-06T16:24:51.347Z"
      },
      {
        "duration": 211,
        "start_time": "2023-11-06T16:24:57.428Z"
      },
      {
        "duration": 398,
        "start_time": "2023-11-06T16:27:10.015Z"
      },
      {
        "duration": 362,
        "start_time": "2023-11-06T16:27:24.995Z"
      },
      {
        "duration": 159,
        "start_time": "2023-11-06T16:27:38.690Z"
      },
      {
        "duration": 384,
        "start_time": "2023-11-06T16:28:14.455Z"
      },
      {
        "duration": 355,
        "start_time": "2023-11-06T16:28:59.220Z"
      },
      {
        "duration": 375,
        "start_time": "2023-11-06T16:29:06.649Z"
      },
      {
        "duration": 483,
        "start_time": "2023-11-06T16:29:12.847Z"
      },
      {
        "duration": 405,
        "start_time": "2023-11-06T16:30:14.264Z"
      },
      {
        "duration": 410,
        "start_time": "2023-11-06T16:32:16.864Z"
      },
      {
        "duration": 414,
        "start_time": "2023-11-06T16:32:25.144Z"
      },
      {
        "duration": 21,
        "start_time": "2023-11-06T16:35:37.354Z"
      },
      {
        "duration": 25,
        "start_time": "2023-11-06T16:35:49.043Z"
      },
      {
        "duration": 285,
        "start_time": "2023-11-06T16:36:07.022Z"
      },
      {
        "duration": 14,
        "start_time": "2023-11-06T16:40:53.866Z"
      },
      {
        "duration": 587,
        "start_time": "2023-11-06T16:43:31.143Z"
      },
      {
        "duration": 204,
        "start_time": "2023-11-06T16:43:58.672Z"
      },
      {
        "duration": 479,
        "start_time": "2023-11-06T16:44:06.006Z"
      },
      {
        "duration": 254,
        "start_time": "2023-11-06T16:46:38.076Z"
      },
      {
        "duration": 125,
        "start_time": "2023-11-06T16:47:40.724Z"
      },
      {
        "duration": 83,
        "start_time": "2023-11-06T16:49:41.617Z"
      },
      {
        "duration": 192,
        "start_time": "2023-11-06T16:49:46.571Z"
      },
      {
        "duration": 429,
        "start_time": "2023-11-06T16:50:14.657Z"
      },
      {
        "duration": 557,
        "start_time": "2023-11-06T16:51:39.929Z"
      },
      {
        "duration": 554,
        "start_time": "2023-11-06T16:52:16.825Z"
      },
      {
        "duration": 630,
        "start_time": "2023-11-06T16:52:49.469Z"
      },
      {
        "duration": 865,
        "start_time": "2023-11-06T16:54:22.656Z"
      },
      {
        "duration": 798,
        "start_time": "2023-11-06T16:54:50.194Z"
      },
      {
        "duration": 803,
        "start_time": "2023-11-06T16:55:04.246Z"
      },
      {
        "duration": 864,
        "start_time": "2023-11-06T16:55:11.716Z"
      },
      {
        "duration": 745,
        "start_time": "2023-11-06T16:55:23.335Z"
      },
      {
        "duration": 741,
        "start_time": "2023-11-06T16:56:41.635Z"
      },
      {
        "duration": 820,
        "start_time": "2023-11-06T16:56:58.953Z"
      },
      {
        "duration": 748,
        "start_time": "2023-11-06T16:58:26.861Z"
      },
      {
        "duration": 17,
        "start_time": "2023-11-06T16:58:46.783Z"
      },
      {
        "duration": 121,
        "start_time": "2023-11-06T16:59:12.329Z"
      },
      {
        "duration": 124,
        "start_time": "2023-11-06T16:59:22.323Z"
      },
      {
        "duration": 139,
        "start_time": "2023-11-06T16:59:50.921Z"
      },
      {
        "duration": 136,
        "start_time": "2023-11-06T16:59:58.030Z"
      },
      {
        "duration": 134,
        "start_time": "2023-11-06T17:00:40.845Z"
      },
      {
        "duration": 133,
        "start_time": "2023-11-06T17:00:58.646Z"
      },
      {
        "duration": 133,
        "start_time": "2023-11-06T17:01:03.720Z"
      },
      {
        "duration": 485,
        "start_time": "2023-11-06T18:15:07.990Z"
      },
      {
        "duration": 341,
        "start_time": "2023-11-06T18:15:57.383Z"
      },
      {
        "duration": 692,
        "start_time": "2023-11-06T18:17:14.047Z"
      },
      {
        "duration": 1495,
        "start_time": "2023-11-09T11:14:12.278Z"
      },
      {
        "duration": 298,
        "start_time": "2023-11-09T11:14:13.775Z"
      },
      {
        "duration": 23,
        "start_time": "2023-11-09T11:14:14.075Z"
      },
      {
        "duration": 12,
        "start_time": "2023-11-09T11:14:14.099Z"
      },
      {
        "duration": 15,
        "start_time": "2023-11-09T11:14:14.112Z"
      },
      {
        "duration": 10,
        "start_time": "2023-11-09T11:14:14.129Z"
      },
      {
        "duration": 9,
        "start_time": "2023-11-09T11:14:14.140Z"
      },
      {
        "duration": 28,
        "start_time": "2023-11-09T11:14:14.150Z"
      },
      {
        "duration": 21,
        "start_time": "2023-11-09T11:14:14.179Z"
      },
      {
        "duration": 4,
        "start_time": "2023-11-09T11:14:14.203Z"
      },
      {
        "duration": 20,
        "start_time": "2023-11-09T11:14:14.208Z"
      },
      {
        "duration": 366,
        "start_time": "2023-11-09T11:14:14.229Z"
      },
      {
        "duration": 236,
        "start_time": "2023-11-09T11:14:14.596Z"
      },
      {
        "duration": 579,
        "start_time": "2023-11-09T11:14:14.869Z"
      },
      {
        "duration": 117,
        "start_time": "2023-11-09T11:14:15.449Z"
      },
      {
        "duration": 115,
        "start_time": "2023-11-09T11:14:15.568Z"
      },
      {
        "duration": 1343,
        "start_time": "2023-11-09T15:10:22.719Z"
      },
      {
        "duration": 331,
        "start_time": "2023-11-09T15:10:24.064Z"
      },
      {
        "duration": 26,
        "start_time": "2023-11-09T15:10:24.396Z"
      },
      {
        "duration": 15,
        "start_time": "2023-11-09T15:10:24.424Z"
      },
      {
        "duration": 9,
        "start_time": "2023-11-09T15:10:24.441Z"
      },
      {
        "duration": 14,
        "start_time": "2023-11-09T15:10:24.452Z"
      },
      {
        "duration": 13,
        "start_time": "2023-11-09T15:10:24.467Z"
      },
      {
        "duration": 12,
        "start_time": "2023-11-09T15:10:24.481Z"
      },
      {
        "duration": 7,
        "start_time": "2023-11-09T15:10:24.494Z"
      },
      {
        "duration": 3,
        "start_time": "2023-11-09T15:10:24.503Z"
      },
      {
        "duration": 12,
        "start_time": "2023-11-09T15:10:24.508Z"
      },
      {
        "duration": 419,
        "start_time": "2023-11-09T15:10:24.522Z"
      },
      {
        "duration": 260,
        "start_time": "2023-11-09T15:10:24.942Z"
      },
      {
        "duration": 597,
        "start_time": "2023-11-09T15:10:25.204Z"
      },
      {
        "duration": 116,
        "start_time": "2023-11-09T15:10:25.803Z"
      },
      {
        "duration": 140,
        "start_time": "2023-11-09T15:10:25.921Z"
      },
      {
        "duration": 2,
        "start_time": "2023-11-09T15:10:26.063Z"
      },
      {
        "duration": 16,
        "start_time": "2023-11-09T15:36:15.370Z"
      },
      {
        "duration": 1156,
        "start_time": "2023-11-09T15:37:12.236Z"
      },
      {
        "duration": 81,
        "start_time": "2023-11-09T15:37:13.394Z"
      },
      {
        "duration": 23,
        "start_time": "2023-11-09T15:37:13.476Z"
      },
      {
        "duration": 6,
        "start_time": "2023-11-09T15:37:13.501Z"
      },
      {
        "duration": 6,
        "start_time": "2023-11-09T15:37:13.508Z"
      },
      {
        "duration": 11,
        "start_time": "2023-11-09T15:37:13.516Z"
      },
      {
        "duration": 21,
        "start_time": "2023-11-09T15:37:13.528Z"
      },
      {
        "duration": 12,
        "start_time": "2023-11-09T15:37:13.550Z"
      },
      {
        "duration": 8,
        "start_time": "2023-11-09T15:37:13.563Z"
      },
      {
        "duration": 11,
        "start_time": "2023-11-09T15:37:13.574Z"
      },
      {
        "duration": 15,
        "start_time": "2023-11-09T15:37:13.586Z"
      },
      {
        "duration": 341,
        "start_time": "2023-11-09T15:37:13.603Z"
      },
      {
        "duration": 279,
        "start_time": "2023-11-09T15:37:13.946Z"
      },
      {
        "duration": 603,
        "start_time": "2023-11-09T15:37:14.227Z"
      },
      {
        "duration": 138,
        "start_time": "2023-11-09T15:37:14.831Z"
      },
      {
        "duration": 137,
        "start_time": "2023-11-09T15:37:14.970Z"
      },
      {
        "duration": 22,
        "start_time": "2023-11-09T15:37:15.108Z"
      },
      {
        "duration": 30,
        "start_time": "2023-11-09T15:41:52.325Z"
      },
      {
        "duration": 429,
        "start_time": "2023-11-09T15:48:56.341Z"
      },
      {
        "duration": 284,
        "start_time": "2023-11-09T16:36:37.651Z"
      },
      {
        "duration": 217,
        "start_time": "2023-11-09T16:37:35.014Z"
      },
      {
        "duration": 218,
        "start_time": "2023-11-09T16:37:41.553Z"
      },
      {
        "duration": 218,
        "start_time": "2023-11-09T16:43:49.828Z"
      },
      {
        "duration": 234,
        "start_time": "2023-11-09T16:44:01.673Z"
      },
      {
        "duration": 218,
        "start_time": "2023-11-09T16:44:09.498Z"
      },
      {
        "duration": 226,
        "start_time": "2023-11-09T16:44:18.750Z"
      },
      {
        "duration": 218,
        "start_time": "2023-11-09T16:44:27.233Z"
      },
      {
        "duration": 234,
        "start_time": "2023-11-09T16:45:43.795Z"
      },
      {
        "duration": 245,
        "start_time": "2023-11-09T16:46:46.577Z"
      },
      {
        "duration": 186,
        "start_time": "2023-11-09T16:49:14.041Z"
      },
      {
        "duration": 24,
        "start_time": "2023-11-09T16:49:29.581Z"
      },
      {
        "duration": 397,
        "start_time": "2023-11-09T16:59:22.431Z"
      },
      {
        "duration": 121,
        "start_time": "2023-11-09T17:00:06.719Z"
      },
      {
        "duration": 33,
        "start_time": "2023-11-09T17:00:13.372Z"
      },
      {
        "duration": 288,
        "start_time": "2023-11-09T17:00:52.086Z"
      },
      {
        "duration": 289,
        "start_time": "2023-11-09T17:01:58.251Z"
      },
      {
        "duration": 291,
        "start_time": "2023-11-09T17:02:31.656Z"
      },
      {
        "duration": 289,
        "start_time": "2023-11-09T17:02:46.796Z"
      },
      {
        "duration": 283,
        "start_time": "2023-11-09T17:04:19.420Z"
      },
      {
        "duration": 275,
        "start_time": "2023-11-09T17:06:29.650Z"
      },
      {
        "duration": 282,
        "start_time": "2023-11-09T17:06:42.486Z"
      },
      {
        "duration": 1285,
        "start_time": "2023-11-09T18:43:25.278Z"
      },
      {
        "duration": 327,
        "start_time": "2023-11-09T18:43:26.566Z"
      },
      {
        "duration": 29,
        "start_time": "2023-11-09T18:43:26.895Z"
      },
      {
        "duration": 7,
        "start_time": "2023-11-09T18:43:26.927Z"
      },
      {
        "duration": 13,
        "start_time": "2023-11-09T18:43:26.936Z"
      },
      {
        "duration": 29,
        "start_time": "2023-11-09T18:43:26.951Z"
      },
      {
        "duration": 10,
        "start_time": "2023-11-09T18:43:26.982Z"
      },
      {
        "duration": 12,
        "start_time": "2023-11-09T18:43:26.994Z"
      },
      {
        "duration": 8,
        "start_time": "2023-11-09T18:43:27.008Z"
      },
      {
        "duration": 5,
        "start_time": "2023-11-09T18:43:27.018Z"
      },
      {
        "duration": 25,
        "start_time": "2023-11-09T18:43:27.024Z"
      },
      {
        "duration": 440,
        "start_time": "2023-11-09T18:43:27.051Z"
      },
      {
        "duration": 322,
        "start_time": "2023-11-09T18:43:27.493Z"
      },
      {
        "duration": 627,
        "start_time": "2023-11-09T18:43:27.817Z"
      },
      {
        "duration": 123,
        "start_time": "2023-11-09T18:43:28.446Z"
      },
      {
        "duration": 127,
        "start_time": "2023-11-09T18:43:28.571Z"
      },
      {
        "duration": 25,
        "start_time": "2023-11-09T18:43:28.700Z"
      },
      {
        "duration": 45,
        "start_time": "2023-11-09T18:43:28.727Z"
      },
      {
        "duration": 373,
        "start_time": "2023-11-09T18:43:28.773Z"
      },
      {
        "duration": 300,
        "start_time": "2023-11-09T18:43:29.148Z"
      },
      {
        "duration": 270,
        "start_time": "2023-11-09T18:58:06.005Z"
      },
      {
        "duration": 129,
        "start_time": "2023-11-09T19:08:24.996Z"
      },
      {
        "duration": 480,
        "start_time": "2023-11-09T19:08:37.185Z"
      },
      {
        "duration": 44,
        "start_time": "2023-11-09T19:09:51.297Z"
      },
      {
        "duration": 25,
        "start_time": "2023-11-09T19:14:38.710Z"
      },
      {
        "duration": 14,
        "start_time": "2023-11-09T19:15:54.128Z"
      },
      {
        "duration": 13,
        "start_time": "2023-11-09T19:17:21.067Z"
      },
      {
        "duration": 901,
        "start_time": "2023-11-09T19:17:52.564Z"
      },
      {
        "duration": 98,
        "start_time": "2023-11-09T19:18:15.535Z"
      },
      {
        "duration": 23,
        "start_time": "2023-11-09T19:18:30.884Z"
      },
      {
        "duration": 107,
        "start_time": "2023-11-09T19:21:02.957Z"
      },
      {
        "duration": 94,
        "start_time": "2023-11-09T19:21:16.390Z"
      },
      {
        "duration": 100,
        "start_time": "2023-11-09T19:21:37.299Z"
      },
      {
        "duration": 34,
        "start_time": "2023-11-09T19:22:41.002Z"
      },
      {
        "duration": 32,
        "start_time": "2023-11-09T19:22:51.471Z"
      },
      {
        "duration": 43,
        "start_time": "2023-11-09T19:23:46.011Z"
      },
      {
        "duration": 24,
        "start_time": "2023-11-09T19:24:06.710Z"
      },
      {
        "duration": 1319,
        "start_time": "2023-11-10T16:49:42.768Z"
      },
      {
        "duration": 94,
        "start_time": "2023-11-10T16:49:44.089Z"
      },
      {
        "duration": 1244,
        "start_time": "2023-11-10T16:49:50.597Z"
      },
      {
        "duration": 100,
        "start_time": "2023-11-10T16:49:51.843Z"
      },
      {
        "duration": 28,
        "start_time": "2023-11-10T16:49:51.944Z"
      },
      {
        "duration": 54,
        "start_time": "2023-11-10T16:49:51.973Z"
      },
      {
        "duration": 15,
        "start_time": "2023-11-10T16:49:52.030Z"
      },
      {
        "duration": 11,
        "start_time": "2023-11-10T16:49:52.047Z"
      },
      {
        "duration": 15,
        "start_time": "2023-11-10T16:49:52.060Z"
      },
      {
        "duration": 32,
        "start_time": "2023-11-10T16:49:52.076Z"
      },
      {
        "duration": 10,
        "start_time": "2023-11-10T16:49:52.110Z"
      },
      {
        "duration": 26,
        "start_time": "2023-11-10T16:49:52.121Z"
      },
      {
        "duration": 26,
        "start_time": "2023-11-10T16:49:52.148Z"
      },
      {
        "duration": 458,
        "start_time": "2023-11-10T16:49:52.177Z"
      },
      {
        "duration": 333,
        "start_time": "2023-11-10T16:49:52.636Z"
      },
      {
        "duration": 758,
        "start_time": "2023-11-10T16:49:52.973Z"
      },
      {
        "duration": 138,
        "start_time": "2023-11-10T16:49:53.733Z"
      },
      {
        "duration": 156,
        "start_time": "2023-11-10T16:49:53.881Z"
      },
      {
        "duration": 25,
        "start_time": "2023-11-10T16:49:54.039Z"
      },
      {
        "duration": 57,
        "start_time": "2023-11-10T16:49:54.066Z"
      },
      {
        "duration": 424,
        "start_time": "2023-11-10T16:49:54.125Z"
      },
      {
        "duration": 313,
        "start_time": "2023-11-10T16:49:54.551Z"
      },
      {
        "duration": 29,
        "start_time": "2023-11-10T16:49:54.867Z"
      },
      {
        "duration": 282,
        "start_time": "2023-11-10T16:58:08.489Z"
      },
      {
        "duration": 288,
        "start_time": "2023-11-10T16:58:53.764Z"
      },
      {
        "duration": 306,
        "start_time": "2023-11-10T16:59:27.808Z"
      },
      {
        "duration": 27,
        "start_time": "2023-11-10T17:00:06.084Z"
      },
      {
        "duration": 18,
        "start_time": "2023-11-10T17:11:19.297Z"
      },
      {
        "duration": 4,
        "start_time": "2023-11-10T18:23:37.743Z"
      },
      {
        "duration": 34,
        "start_time": "2023-11-10T18:24:09.360Z"
      },
      {
        "duration": 37,
        "start_time": "2023-11-10T18:24:14.564Z"
      },
      {
        "duration": 302,
        "start_time": "2023-11-10T18:24:30.760Z"
      },
      {
        "duration": 52,
        "start_time": "2023-11-11T14:19:58.621Z"
      },
      {
        "duration": 1429,
        "start_time": "2023-11-11T14:20:11.899Z"
      },
      {
        "duration": 212,
        "start_time": "2023-11-11T14:20:13.331Z"
      },
      {
        "duration": 24,
        "start_time": "2023-11-11T14:20:13.545Z"
      },
      {
        "duration": 7,
        "start_time": "2023-11-11T14:20:13.571Z"
      },
      {
        "duration": 11,
        "start_time": "2023-11-11T14:20:13.581Z"
      },
      {
        "duration": 11,
        "start_time": "2023-11-11T14:20:13.594Z"
      },
      {
        "duration": 12,
        "start_time": "2023-11-11T14:20:13.610Z"
      },
      {
        "duration": 15,
        "start_time": "2023-11-11T14:20:13.624Z"
      },
      {
        "duration": 9,
        "start_time": "2023-11-11T14:20:13.640Z"
      },
      {
        "duration": 5,
        "start_time": "2023-11-11T14:20:13.652Z"
      },
      {
        "duration": 20,
        "start_time": "2023-11-11T14:20:13.658Z"
      },
      {
        "duration": 464,
        "start_time": "2023-11-11T14:20:13.680Z"
      },
      {
        "duration": 307,
        "start_time": "2023-11-11T14:20:14.146Z"
      },
      {
        "duration": 637,
        "start_time": "2023-11-11T14:20:14.455Z"
      },
      {
        "duration": 131,
        "start_time": "2023-11-11T14:20:15.094Z"
      },
      {
        "duration": 132,
        "start_time": "2023-11-11T14:20:15.227Z"
      },
      {
        "duration": 27,
        "start_time": "2023-11-11T14:20:15.360Z"
      },
      {
        "duration": 46,
        "start_time": "2023-11-11T14:20:15.389Z"
      },
      {
        "duration": 368,
        "start_time": "2023-11-11T14:20:15.437Z"
      },
      {
        "duration": 277,
        "start_time": "2023-11-11T14:20:15.810Z"
      },
      {
        "duration": 127,
        "start_time": "2023-11-11T14:20:16.089Z"
      },
      {
        "duration": 0,
        "start_time": "2023-11-11T14:20:16.217Z"
      },
      {
        "duration": 0,
        "start_time": "2023-11-11T14:20:16.219Z"
      },
      {
        "duration": 25,
        "start_time": "2023-11-11T14:20:43.305Z"
      },
      {
        "duration": 38,
        "start_time": "2023-11-11T14:21:48.438Z"
      },
      {
        "duration": 832,
        "start_time": "2023-11-11T14:30:52.699Z"
      },
      {
        "duration": 824,
        "start_time": "2023-11-11T14:31:17.677Z"
      },
      {
        "duration": 861,
        "start_time": "2023-11-11T14:31:50.055Z"
      },
      {
        "duration": 860,
        "start_time": "2023-11-11T14:31:56.252Z"
      },
      {
        "duration": 904,
        "start_time": "2023-11-11T14:32:33.071Z"
      },
      {
        "duration": 841,
        "start_time": "2023-11-11T14:32:40.005Z"
      },
      {
        "duration": 1222,
        "start_time": "2023-11-11T14:32:47.685Z"
      },
      {
        "duration": 95,
        "start_time": "2023-11-11T14:32:48.911Z"
      },
      {
        "duration": 27,
        "start_time": "2023-11-11T14:32:49.008Z"
      },
      {
        "duration": 7,
        "start_time": "2023-11-11T14:32:49.037Z"
      },
      {
        "duration": 9,
        "start_time": "2023-11-11T14:32:49.046Z"
      },
      {
        "duration": 9,
        "start_time": "2023-11-11T14:32:49.057Z"
      },
      {
        "duration": 43,
        "start_time": "2023-11-11T14:32:49.067Z"
      },
      {
        "duration": 19,
        "start_time": "2023-11-11T14:32:49.112Z"
      },
      {
        "duration": 8,
        "start_time": "2023-11-11T14:32:49.133Z"
      },
      {
        "duration": 8,
        "start_time": "2023-11-11T14:32:49.144Z"
      },
      {
        "duration": 21,
        "start_time": "2023-11-11T14:32:49.154Z"
      },
      {
        "duration": 373,
        "start_time": "2023-11-11T14:32:49.177Z"
      },
      {
        "duration": 320,
        "start_time": "2023-11-11T14:32:49.552Z"
      },
      {
        "duration": 659,
        "start_time": "2023-11-11T14:32:49.873Z"
      },
      {
        "duration": 143,
        "start_time": "2023-11-11T14:32:50.535Z"
      },
      {
        "duration": 138,
        "start_time": "2023-11-11T14:32:50.680Z"
      },
      {
        "duration": 41,
        "start_time": "2023-11-11T14:32:50.819Z"
      },
      {
        "duration": 51,
        "start_time": "2023-11-11T14:32:50.862Z"
      },
      {
        "duration": 381,
        "start_time": "2023-11-11T14:32:50.915Z"
      },
      {
        "duration": 291,
        "start_time": "2023-11-11T14:32:51.298Z"
      },
      {
        "duration": 982,
        "start_time": "2023-11-11T14:32:51.591Z"
      },
      {
        "duration": 0,
        "start_time": "2023-11-11T14:32:52.575Z"
      },
      {
        "duration": 817,
        "start_time": "2023-11-11T14:35:04.830Z"
      },
      {
        "duration": 821,
        "start_time": "2023-11-11T14:35:20.446Z"
      },
      {
        "duration": 840,
        "start_time": "2023-11-11T14:35:26.379Z"
      },
      {
        "duration": 845,
        "start_time": "2023-11-11T14:35:32.967Z"
      },
      {
        "duration": 960,
        "start_time": "2023-11-11T14:36:02.754Z"
      },
      {
        "duration": 831,
        "start_time": "2023-11-11T14:36:25.554Z"
      },
      {
        "duration": 847,
        "start_time": "2023-11-11T14:36:56.725Z"
      },
      {
        "duration": 851,
        "start_time": "2023-11-11T14:37:19.954Z"
      },
      {
        "duration": 180,
        "start_time": "2023-11-11T14:39:58.250Z"
      },
      {
        "duration": 1291,
        "start_time": "2023-11-11T15:35:56.015Z"
      },
      {
        "duration": 205,
        "start_time": "2023-11-11T15:35:57.308Z"
      },
      {
        "duration": 23,
        "start_time": "2023-11-11T15:35:57.515Z"
      },
      {
        "duration": 6,
        "start_time": "2023-11-11T15:35:57.540Z"
      },
      {
        "duration": 6,
        "start_time": "2023-11-11T15:35:57.547Z"
      },
      {
        "duration": 6,
        "start_time": "2023-11-11T15:35:57.554Z"
      },
      {
        "duration": 9,
        "start_time": "2023-11-11T15:35:57.561Z"
      },
      {
        "duration": 11,
        "start_time": "2023-11-11T15:35:57.571Z"
      },
      {
        "duration": 7,
        "start_time": "2023-11-11T15:35:57.583Z"
      },
      {
        "duration": 3,
        "start_time": "2023-11-11T15:35:57.592Z"
      },
      {
        "duration": 10,
        "start_time": "2023-11-11T15:35:57.596Z"
      },
      {
        "duration": 422,
        "start_time": "2023-11-11T15:35:57.652Z"
      },
      {
        "duration": 232,
        "start_time": "2023-11-11T15:35:58.076Z"
      },
      {
        "duration": 633,
        "start_time": "2023-11-11T15:35:58.310Z"
      },
      {
        "duration": 109,
        "start_time": "2023-11-11T15:35:58.951Z"
      },
      {
        "duration": 121,
        "start_time": "2023-11-11T15:35:59.062Z"
      },
      {
        "duration": 24,
        "start_time": "2023-11-11T15:35:59.185Z"
      },
      {
        "duration": 49,
        "start_time": "2023-11-11T15:35:59.210Z"
      },
      {
        "duration": 343,
        "start_time": "2023-11-11T15:35:59.261Z"
      },
      {
        "duration": 271,
        "start_time": "2023-11-11T15:35:59.606Z"
      },
      {
        "duration": 751,
        "start_time": "2023-11-11T15:35:59.879Z"
      },
      {
        "duration": 145,
        "start_time": "2023-11-11T15:36:00.631Z"
      },
      {
        "duration": 6,
        "start_time": "2023-11-11T15:36:00.778Z"
      },
      {
        "duration": 6,
        "start_time": "2023-11-11T15:36:34.143Z"
      },
      {
        "duration": 6,
        "start_time": "2023-11-11T15:44:59.556Z"
      },
      {
        "duration": 36,
        "start_time": "2023-11-11T15:47:09.771Z"
      },
      {
        "duration": 1072,
        "start_time": "2023-11-11T15:47:16.769Z"
      },
      {
        "duration": 85,
        "start_time": "2023-11-11T15:47:17.842Z"
      },
      {
        "duration": 27,
        "start_time": "2023-11-11T15:47:17.929Z"
      },
      {
        "duration": 6,
        "start_time": "2023-11-11T15:47:17.958Z"
      },
      {
        "duration": 5,
        "start_time": "2023-11-11T15:47:17.965Z"
      },
      {
        "duration": 7,
        "start_time": "2023-11-11T15:47:17.972Z"
      },
      {
        "duration": 10,
        "start_time": "2023-11-11T15:47:17.981Z"
      },
      {
        "duration": 11,
        "start_time": "2023-11-11T15:47:17.993Z"
      },
      {
        "duration": 7,
        "start_time": "2023-11-11T15:47:18.006Z"
      },
      {
        "duration": 38,
        "start_time": "2023-11-11T15:47:18.015Z"
      },
      {
        "duration": 10,
        "start_time": "2023-11-11T15:47:18.055Z"
      },
      {
        "duration": 366,
        "start_time": "2023-11-11T15:47:18.067Z"
      },
      {
        "duration": 264,
        "start_time": "2023-11-11T15:47:18.435Z"
      },
      {
        "duration": 605,
        "start_time": "2023-11-11T15:47:18.701Z"
      },
      {
        "duration": 111,
        "start_time": "2023-11-11T15:47:19.308Z"
      },
      {
        "duration": 117,
        "start_time": "2023-11-11T15:47:19.420Z"
      },
      {
        "duration": 29,
        "start_time": "2023-11-11T15:47:19.539Z"
      },
      {
        "duration": 27,
        "start_time": "2023-11-11T15:47:19.570Z"
      },
      {
        "duration": 326,
        "start_time": "2023-11-11T15:47:19.598Z"
      },
      {
        "duration": 269,
        "start_time": "2023-11-11T15:47:19.925Z"
      },
      {
        "duration": 807,
        "start_time": "2023-11-11T15:47:20.195Z"
      },
      {
        "duration": 141,
        "start_time": "2023-11-11T15:47:21.003Z"
      },
      {
        "duration": 7,
        "start_time": "2023-11-11T15:47:21.153Z"
      },
      {
        "duration": 11,
        "start_time": "2023-11-11T15:47:21.161Z"
      },
      {
        "duration": 104,
        "start_time": "2023-11-11T15:52:47.677Z"
      },
      {
        "duration": 16,
        "start_time": "2023-11-11T15:53:10.521Z"
      },
      {
        "duration": 1165,
        "start_time": "2023-11-11T15:53:36.777Z"
      },
      {
        "duration": 81,
        "start_time": "2023-11-11T15:53:37.944Z"
      },
      {
        "duration": 21,
        "start_time": "2023-11-11T15:53:38.027Z"
      },
      {
        "duration": 17,
        "start_time": "2023-11-11T15:53:38.050Z"
      },
      {
        "duration": 5,
        "start_time": "2023-11-11T15:53:38.069Z"
      },
      {
        "duration": 7,
        "start_time": "2023-11-11T15:53:38.075Z"
      },
      {
        "duration": 9,
        "start_time": "2023-11-11T15:53:38.083Z"
      },
      {
        "duration": 12,
        "start_time": "2023-11-11T15:53:38.093Z"
      },
      {
        "duration": 6,
        "start_time": "2023-11-11T15:53:38.106Z"
      },
      {
        "duration": 4,
        "start_time": "2023-11-11T15:53:38.114Z"
      },
      {
        "duration": 49,
        "start_time": "2023-11-11T15:53:38.119Z"
      },
      {
        "duration": 374,
        "start_time": "2023-11-11T15:53:38.170Z"
      },
      {
        "duration": 269,
        "start_time": "2023-11-11T15:53:38.545Z"
      },
      {
        "duration": 630,
        "start_time": "2023-11-11T15:53:38.815Z"
      },
      {
        "duration": 148,
        "start_time": "2023-11-11T15:53:39.446Z"
      },
      {
        "duration": 138,
        "start_time": "2023-11-11T15:53:39.596Z"
      },
      {
        "duration": 39,
        "start_time": "2023-11-11T15:53:39.735Z"
      },
      {
        "duration": 29,
        "start_time": "2023-11-11T15:53:39.775Z"
      },
      {
        "duration": 363,
        "start_time": "2023-11-11T15:53:39.805Z"
      },
      {
        "duration": 292,
        "start_time": "2023-11-11T15:53:40.170Z"
      },
      {
        "duration": 890,
        "start_time": "2023-11-11T15:53:40.463Z"
      },
      {
        "duration": 146,
        "start_time": "2023-11-11T15:53:41.357Z"
      },
      {
        "duration": 5,
        "start_time": "2023-11-11T15:53:41.504Z"
      },
      {
        "duration": 6,
        "start_time": "2023-11-11T15:53:41.511Z"
      },
      {
        "duration": 152,
        "start_time": "2023-11-11T15:53:41.519Z"
      },
      {
        "duration": 8,
        "start_time": "2023-11-11T15:55:38.176Z"
      },
      {
        "duration": 663,
        "start_time": "2023-11-11T15:55:49.863Z"
      },
      {
        "duration": 1087,
        "start_time": "2023-11-11T15:55:55.845Z"
      },
      {
        "duration": 84,
        "start_time": "2023-11-11T15:55:56.934Z"
      },
      {
        "duration": 28,
        "start_time": "2023-11-11T15:55:57.020Z"
      },
      {
        "duration": 6,
        "start_time": "2023-11-11T15:55:57.050Z"
      },
      {
        "duration": 7,
        "start_time": "2023-11-11T15:55:57.058Z"
      },
      {
        "duration": 8,
        "start_time": "2023-11-11T15:55:57.067Z"
      },
      {
        "duration": 9,
        "start_time": "2023-11-11T15:55:57.076Z"
      },
      {
        "duration": 11,
        "start_time": "2023-11-11T15:55:57.087Z"
      },
      {
        "duration": 7,
        "start_time": "2023-11-11T15:55:57.100Z"
      },
      {
        "duration": 4,
        "start_time": "2023-11-11T15:55:57.109Z"
      },
      {
        "duration": 47,
        "start_time": "2023-11-11T15:55:57.114Z"
      },
      {
        "duration": 400,
        "start_time": "2023-11-11T15:55:57.162Z"
      },
      {
        "duration": 249,
        "start_time": "2023-11-11T15:55:57.564Z"
      },
      {
        "duration": 655,
        "start_time": "2023-11-11T15:55:57.815Z"
      },
      {
        "duration": 133,
        "start_time": "2023-11-11T15:55:58.472Z"
      },
      {
        "duration": 130,
        "start_time": "2023-11-11T15:55:58.606Z"
      },
      {
        "duration": 31,
        "start_time": "2023-11-11T15:55:58.738Z"
      },
      {
        "duration": 30,
        "start_time": "2023-11-11T15:55:58.770Z"
      },
      {
        "duration": 349,
        "start_time": "2023-11-11T15:55:58.801Z"
      },
      {
        "duration": 260,
        "start_time": "2023-11-11T15:55:59.152Z"
      },
      {
        "duration": 807,
        "start_time": "2023-11-11T15:55:59.414Z"
      },
      {
        "duration": 136,
        "start_time": "2023-11-11T15:56:00.223Z"
      },
      {
        "duration": 5,
        "start_time": "2023-11-11T15:56:00.360Z"
      },
      {
        "duration": 15,
        "start_time": "2023-11-11T15:56:00.366Z"
      },
      {
        "duration": 1564,
        "start_time": "2023-11-11T15:56:00.382Z"
      },
      {
        "duration": 11,
        "start_time": "2023-11-11T15:57:35.577Z"
      },
      {
        "duration": 11,
        "start_time": "2023-11-11T16:02:24.992Z"
      },
      {
        "duration": 11,
        "start_time": "2023-11-11T16:03:28.935Z"
      },
      {
        "duration": 8,
        "start_time": "2023-11-11T16:03:48.932Z"
      },
      {
        "duration": 1138,
        "start_time": "2023-11-11T16:04:08.614Z"
      },
      {
        "duration": 82,
        "start_time": "2023-11-11T16:04:09.753Z"
      },
      {
        "duration": 22,
        "start_time": "2023-11-11T16:04:09.836Z"
      },
      {
        "duration": 6,
        "start_time": "2023-11-11T16:04:09.860Z"
      },
      {
        "duration": 7,
        "start_time": "2023-11-11T16:04:09.868Z"
      },
      {
        "duration": 7,
        "start_time": "2023-11-11T16:04:09.877Z"
      },
      {
        "duration": 10,
        "start_time": "2023-11-11T16:04:09.886Z"
      },
      {
        "duration": 12,
        "start_time": "2023-11-11T16:04:09.898Z"
      },
      {
        "duration": 41,
        "start_time": "2023-11-11T16:04:09.912Z"
      },
      {
        "duration": 4,
        "start_time": "2023-11-11T16:04:09.955Z"
      },
      {
        "duration": 12,
        "start_time": "2023-11-11T16:04:09.961Z"
      },
      {
        "duration": 382,
        "start_time": "2023-11-11T16:04:09.974Z"
      },
      {
        "duration": 266,
        "start_time": "2023-11-11T16:04:10.357Z"
      },
      {
        "duration": 627,
        "start_time": "2023-11-11T16:04:10.625Z"
      },
      {
        "duration": 127,
        "start_time": "2023-11-11T16:04:11.254Z"
      },
      {
        "duration": 120,
        "start_time": "2023-11-11T16:04:11.382Z"
      },
      {
        "duration": 27,
        "start_time": "2023-11-11T16:04:11.503Z"
      },
      {
        "duration": 44,
        "start_time": "2023-11-11T16:04:11.531Z"
      },
      {
        "duration": 343,
        "start_time": "2023-11-11T16:04:11.576Z"
      },
      {
        "duration": 280,
        "start_time": "2023-11-11T16:04:11.920Z"
      },
      {
        "duration": 878,
        "start_time": "2023-11-11T16:04:12.201Z"
      },
      {
        "duration": 135,
        "start_time": "2023-11-11T16:04:13.081Z"
      },
      {
        "duration": 6,
        "start_time": "2023-11-11T16:04:13.217Z"
      },
      {
        "duration": 5,
        "start_time": "2023-11-11T16:04:13.225Z"
      },
      {
        "duration": 27,
        "start_time": "2023-11-11T16:04:13.232Z"
      },
      {
        "duration": 16,
        "start_time": "2023-11-11T16:05:20.511Z"
      },
      {
        "duration": 8,
        "start_time": "2023-11-11T16:05:32.126Z"
      },
      {
        "duration": 12,
        "start_time": "2023-11-11T16:09:37.047Z"
      },
      {
        "duration": 42,
        "start_time": "2023-11-11T16:13:13.268Z"
      },
      {
        "duration": 0,
        "start_time": "2023-11-11T16:13:13.312Z"
      },
      {
        "duration": 1094,
        "start_time": "2023-11-11T16:13:13.362Z"
      },
      {
        "duration": 85,
        "start_time": "2023-11-11T16:13:14.458Z"
      },
      {
        "duration": 24,
        "start_time": "2023-11-11T16:13:14.545Z"
      },
      {
        "duration": 9,
        "start_time": "2023-11-11T16:13:14.571Z"
      },
      {
        "duration": 20,
        "start_time": "2023-11-11T16:13:14.581Z"
      },
      {
        "duration": 8,
        "start_time": "2023-11-11T16:13:14.603Z"
      },
      {
        "duration": 13,
        "start_time": "2023-11-11T16:13:14.613Z"
      },
      {
        "duration": 32,
        "start_time": "2023-11-11T16:13:14.628Z"
      },
      {
        "duration": 9,
        "start_time": "2023-11-11T16:13:14.662Z"
      },
      {
        "duration": 5,
        "start_time": "2023-11-11T16:13:14.674Z"
      },
      {
        "duration": 37,
        "start_time": "2023-11-11T16:13:14.680Z"
      },
      {
        "duration": 370,
        "start_time": "2023-11-11T16:13:14.719Z"
      },
      {
        "duration": 309,
        "start_time": "2023-11-11T16:13:15.091Z"
      },
      {
        "duration": 620,
        "start_time": "2023-11-11T16:13:15.401Z"
      },
      {
        "duration": 115,
        "start_time": "2023-11-11T16:13:16.023Z"
      },
      {
        "duration": 131,
        "start_time": "2023-11-11T16:13:16.139Z"
      },
      {
        "duration": 27,
        "start_time": "2023-11-11T16:13:16.272Z"
      },
      {
        "duration": 51,
        "start_time": "2023-11-11T16:13:16.300Z"
      },
      {
        "duration": 344,
        "start_time": "2023-11-11T16:13:16.353Z"
      },
      {
        "duration": 265,
        "start_time": "2023-11-11T16:13:16.699Z"
      },
      {
        "duration": 828,
        "start_time": "2023-11-11T16:13:16.966Z"
      },
      {
        "duration": 138,
        "start_time": "2023-11-11T16:13:17.795Z"
      },
      {
        "duration": 5,
        "start_time": "2023-11-11T16:13:17.935Z"
      },
      {
        "duration": 14,
        "start_time": "2023-11-11T16:13:17.941Z"
      },
      {
        "duration": 10,
        "start_time": "2023-11-11T16:13:17.956Z"
      },
      {
        "duration": 77,
        "start_time": "2023-11-11T17:10:25.343Z"
      },
      {
        "duration": 6,
        "start_time": "2023-11-11T17:11:00.597Z"
      },
      {
        "duration": 5,
        "start_time": "2023-11-11T17:11:10.067Z"
      },
      {
        "duration": 1092,
        "start_time": "2023-11-11T18:17:18.885Z"
      },
      {
        "duration": 85,
        "start_time": "2023-11-11T18:17:19.979Z"
      },
      {
        "duration": 26,
        "start_time": "2023-11-11T18:17:20.066Z"
      },
      {
        "duration": 7,
        "start_time": "2023-11-11T18:17:20.095Z"
      },
      {
        "duration": 28,
        "start_time": "2023-11-11T18:17:20.103Z"
      },
      {
        "duration": 7,
        "start_time": "2023-11-11T18:17:20.133Z"
      },
      {
        "duration": 21,
        "start_time": "2023-11-11T18:17:20.141Z"
      },
      {
        "duration": 14,
        "start_time": "2023-11-11T18:17:20.164Z"
      },
      {
        "duration": 18,
        "start_time": "2023-11-11T18:17:20.179Z"
      },
      {
        "duration": 5,
        "start_time": "2023-11-11T18:17:20.199Z"
      },
      {
        "duration": 28,
        "start_time": "2023-11-11T18:17:20.205Z"
      },
      {
        "duration": 403,
        "start_time": "2023-11-11T18:17:20.235Z"
      },
      {
        "duration": 265,
        "start_time": "2023-11-11T18:17:20.639Z"
      },
      {
        "duration": 628,
        "start_time": "2023-11-11T18:17:20.906Z"
      },
      {
        "duration": 135,
        "start_time": "2023-11-11T18:17:21.536Z"
      },
      {
        "duration": 123,
        "start_time": "2023-11-11T18:17:21.672Z"
      },
      {
        "duration": 37,
        "start_time": "2023-11-11T18:17:21.797Z"
      },
      {
        "duration": 38,
        "start_time": "2023-11-11T18:17:21.836Z"
      },
      {
        "duration": 357,
        "start_time": "2023-11-11T18:17:21.875Z"
      },
      {
        "duration": 269,
        "start_time": "2023-11-11T18:17:22.234Z"
      },
      {
        "duration": 798,
        "start_time": "2023-11-11T18:17:22.505Z"
      },
      {
        "duration": 159,
        "start_time": "2023-11-11T18:17:23.305Z"
      },
      {
        "duration": 6,
        "start_time": "2023-11-11T18:17:23.465Z"
      },
      {
        "duration": 14,
        "start_time": "2023-11-11T18:17:23.472Z"
      },
      {
        "duration": 9,
        "start_time": "2023-11-11T18:17:23.488Z"
      },
      {
        "duration": 6,
        "start_time": "2023-11-11T19:26:27.215Z"
      },
      {
        "duration": 4,
        "start_time": "2023-11-11T20:45:59.724Z"
      },
      {
        "duration": 1152,
        "start_time": "2023-11-11T20:58:47.869Z"
      },
      {
        "duration": 82,
        "start_time": "2023-11-11T20:58:49.023Z"
      },
      {
        "duration": 25,
        "start_time": "2023-11-11T20:58:49.107Z"
      },
      {
        "duration": 18,
        "start_time": "2023-11-11T20:58:49.134Z"
      },
      {
        "duration": 19,
        "start_time": "2023-11-11T20:58:49.154Z"
      },
      {
        "duration": 13,
        "start_time": "2023-11-11T20:58:49.175Z"
      },
      {
        "duration": 20,
        "start_time": "2023-11-11T20:58:49.190Z"
      },
      {
        "duration": 19,
        "start_time": "2023-11-11T20:58:49.212Z"
      },
      {
        "duration": 7,
        "start_time": "2023-11-11T20:58:49.232Z"
      },
      {
        "duration": 12,
        "start_time": "2023-11-11T20:58:49.242Z"
      },
      {
        "duration": 28,
        "start_time": "2023-11-11T20:58:49.256Z"
      },
      {
        "duration": 349,
        "start_time": "2023-11-11T20:58:49.285Z"
      },
      {
        "duration": 258,
        "start_time": "2023-11-11T20:58:49.635Z"
      },
      {
        "duration": 610,
        "start_time": "2023-11-11T20:58:49.895Z"
      },
      {
        "duration": 125,
        "start_time": "2023-11-11T20:58:50.507Z"
      },
      {
        "duration": 134,
        "start_time": "2023-11-11T20:58:50.634Z"
      },
      {
        "duration": 29,
        "start_time": "2023-11-11T20:58:50.769Z"
      },
      {
        "duration": 44,
        "start_time": "2023-11-11T20:58:50.799Z"
      },
      {
        "duration": 362,
        "start_time": "2023-11-11T20:58:50.845Z"
      },
      {
        "duration": 274,
        "start_time": "2023-11-11T20:58:51.208Z"
      },
      {
        "duration": 769,
        "start_time": "2023-11-11T20:58:51.484Z"
      },
      {
        "duration": 131,
        "start_time": "2023-11-11T20:58:52.255Z"
      },
      {
        "duration": 5,
        "start_time": "2023-11-11T20:58:52.387Z"
      },
      {
        "duration": 25,
        "start_time": "2023-11-11T20:58:52.394Z"
      },
      {
        "duration": 7,
        "start_time": "2023-11-11T20:58:52.421Z"
      },
      {
        "duration": 9,
        "start_time": "2023-11-11T20:58:52.430Z"
      },
      {
        "duration": 1399,
        "start_time": "2023-11-12T09:23:30.172Z"
      },
      {
        "duration": 328,
        "start_time": "2023-11-12T09:23:33.857Z"
      },
      {
        "duration": 87,
        "start_time": "2023-11-12T09:23:47.048Z"
      },
      {
        "duration": 83,
        "start_time": "2023-11-12T09:23:59.504Z"
      },
      {
        "duration": 24,
        "start_time": "2023-11-12T09:24:02.761Z"
      },
      {
        "duration": 4,
        "start_time": "2023-11-12T09:30:27.519Z"
      },
      {
        "duration": 69,
        "start_time": "2023-11-12T09:40:02.319Z"
      },
      {
        "duration": 1553,
        "start_time": "2023-11-12T09:40:12.191Z"
      },
      {
        "duration": 233,
        "start_time": "2023-11-12T09:40:13.746Z"
      },
      {
        "duration": 26,
        "start_time": "2023-11-12T09:40:13.981Z"
      },
      {
        "duration": 7,
        "start_time": "2023-11-12T09:40:14.009Z"
      },
      {
        "duration": 9,
        "start_time": "2023-11-12T09:40:14.017Z"
      },
      {
        "duration": 18,
        "start_time": "2023-11-12T09:40:14.027Z"
      },
      {
        "duration": 14,
        "start_time": "2023-11-12T09:40:14.047Z"
      },
      {
        "duration": 23,
        "start_time": "2023-11-12T09:40:14.063Z"
      },
      {
        "duration": 15,
        "start_time": "2023-11-12T09:40:14.090Z"
      },
      {
        "duration": 7,
        "start_time": "2023-11-12T09:40:14.108Z"
      },
      {
        "duration": 11,
        "start_time": "2023-11-12T09:40:14.116Z"
      },
      {
        "duration": 31,
        "start_time": "2023-11-12T09:40:14.143Z"
      },
      {
        "duration": 434,
        "start_time": "2023-11-12T09:40:14.183Z"
      },
      {
        "duration": 303,
        "start_time": "2023-11-12T09:40:14.619Z"
      },
      {
        "duration": 758,
        "start_time": "2023-11-12T09:40:14.923Z"
      },
      {
        "duration": 149,
        "start_time": "2023-11-12T09:40:15.683Z"
      },
      {
        "duration": 155,
        "start_time": "2023-11-12T09:40:15.834Z"
      },
      {
        "duration": 27,
        "start_time": "2023-11-12T09:40:15.991Z"
      },
      {
        "duration": 55,
        "start_time": "2023-11-12T09:40:16.019Z"
      },
      {
        "duration": 418,
        "start_time": "2023-11-12T09:40:16.077Z"
      },
      {
        "duration": 370,
        "start_time": "2023-11-12T09:40:16.497Z"
      },
      {
        "duration": 1006,
        "start_time": "2023-11-12T09:40:16.870Z"
      },
      {
        "duration": 152,
        "start_time": "2023-11-12T09:40:17.881Z"
      },
      {
        "duration": 4,
        "start_time": "2023-11-12T09:40:18.034Z"
      },
      {
        "duration": 11,
        "start_time": "2023-11-12T09:40:18.040Z"
      },
      {
        "duration": 10,
        "start_time": "2023-11-12T09:40:18.054Z"
      },
      {
        "duration": 13,
        "start_time": "2023-11-12T09:40:18.067Z"
      },
      {
        "duration": 96,
        "start_time": "2023-11-12T09:42:11.666Z"
      },
      {
        "duration": 353,
        "start_time": "2023-11-12T09:42:35.230Z"
      },
      {
        "duration": 57,
        "start_time": "2023-11-12T09:50:42.333Z"
      },
      {
        "duration": 1354,
        "start_time": "2023-11-12T09:50:51.265Z"
      },
      {
        "duration": 212,
        "start_time": "2023-11-12T09:50:52.620Z"
      },
      {
        "duration": 39,
        "start_time": "2023-11-12T09:50:52.833Z"
      },
      {
        "duration": 41,
        "start_time": "2023-11-12T09:50:52.874Z"
      },
      {
        "duration": 65,
        "start_time": "2023-11-12T09:50:52.916Z"
      },
      {
        "duration": 58,
        "start_time": "2023-11-12T09:50:52.982Z"
      },
      {
        "duration": 30,
        "start_time": "2023-11-12T09:50:53.043Z"
      },
      {
        "duration": 29,
        "start_time": "2023-11-12T09:50:53.074Z"
      },
      {
        "duration": 14,
        "start_time": "2023-11-12T09:50:53.105Z"
      },
      {
        "duration": 8,
        "start_time": "2023-11-12T09:50:53.121Z"
      },
      {
        "duration": 10,
        "start_time": "2023-11-12T09:50:53.130Z"
      },
      {
        "duration": 28,
        "start_time": "2023-11-12T09:50:53.142Z"
      },
      {
        "duration": 423,
        "start_time": "2023-11-12T09:50:53.171Z"
      },
      {
        "duration": 128,
        "start_time": "2023-11-12T09:50:53.596Z"
      },
      {
        "duration": 0,
        "start_time": "2023-11-12T09:50:53.726Z"
      },
      {
        "duration": 0,
        "start_time": "2023-11-12T09:50:53.727Z"
      },
      {
        "duration": 0,
        "start_time": "2023-11-12T09:50:53.728Z"
      },
      {
        "duration": 0,
        "start_time": "2023-11-12T09:50:53.729Z"
      },
      {
        "duration": 0,
        "start_time": "2023-11-12T09:50:53.730Z"
      },
      {
        "duration": 0,
        "start_time": "2023-11-12T09:50:53.742Z"
      },
      {
        "duration": 0,
        "start_time": "2023-11-12T09:50:53.743Z"
      },
      {
        "duration": 0,
        "start_time": "2023-11-12T09:50:53.744Z"
      },
      {
        "duration": 0,
        "start_time": "2023-11-12T09:50:53.745Z"
      },
      {
        "duration": 1,
        "start_time": "2023-11-12T09:50:53.746Z"
      },
      {
        "duration": 0,
        "start_time": "2023-11-12T09:50:53.748Z"
      },
      {
        "duration": 0,
        "start_time": "2023-11-12T09:50:53.749Z"
      },
      {
        "duration": 0,
        "start_time": "2023-11-12T09:50:53.751Z"
      },
      {
        "duration": 116,
        "start_time": "2023-11-12T09:51:22.173Z"
      },
      {
        "duration": 117,
        "start_time": "2023-11-12T09:52:20.348Z"
      },
      {
        "duration": 1206,
        "start_time": "2023-11-12T09:53:20.352Z"
      },
      {
        "duration": 87,
        "start_time": "2023-11-12T09:53:21.559Z"
      },
      {
        "duration": 28,
        "start_time": "2023-11-12T09:53:21.648Z"
      },
      {
        "duration": 7,
        "start_time": "2023-11-12T09:53:21.678Z"
      },
      {
        "duration": 8,
        "start_time": "2023-11-12T09:53:21.686Z"
      },
      {
        "duration": 4,
        "start_time": "2023-11-12T09:53:21.695Z"
      },
      {
        "duration": 8,
        "start_time": "2023-11-12T09:53:21.700Z"
      },
      {
        "duration": 34,
        "start_time": "2023-11-12T09:53:21.709Z"
      },
      {
        "duration": 23,
        "start_time": "2023-11-12T09:53:21.745Z"
      },
      {
        "duration": 8,
        "start_time": "2023-11-12T09:53:21.771Z"
      },
      {
        "duration": 5,
        "start_time": "2023-11-12T09:53:21.781Z"
      },
      {
        "duration": 11,
        "start_time": "2023-11-12T09:53:21.788Z"
      },
      {
        "duration": 400,
        "start_time": "2023-11-12T09:53:21.801Z"
      },
      {
        "duration": 116,
        "start_time": "2023-11-12T09:53:22.203Z"
      },
      {
        "duration": 649,
        "start_time": "2023-11-12T09:53:22.320Z"
      },
      {
        "duration": 128,
        "start_time": "2023-11-12T09:53:22.970Z"
      },
      {
        "duration": 129,
        "start_time": "2023-11-12T09:53:23.099Z"
      },
      {
        "duration": 35,
        "start_time": "2023-11-12T09:53:23.230Z"
      },
      {
        "duration": 27,
        "start_time": "2023-11-12T09:53:23.267Z"
      },
      {
        "duration": 379,
        "start_time": "2023-11-12T09:53:23.295Z"
      },
      {
        "duration": 294,
        "start_time": "2023-11-12T09:53:23.676Z"
      },
      {
        "duration": 823,
        "start_time": "2023-11-12T09:53:23.972Z"
      },
      {
        "duration": 139,
        "start_time": "2023-11-12T09:53:24.796Z"
      },
      {
        "duration": 9,
        "start_time": "2023-11-12T09:53:24.936Z"
      },
      {
        "duration": 7,
        "start_time": "2023-11-12T09:53:24.946Z"
      },
      {
        "duration": 8,
        "start_time": "2023-11-12T09:53:24.955Z"
      },
      {
        "duration": 9,
        "start_time": "2023-11-12T09:53:24.964Z"
      },
      {
        "duration": 611,
        "start_time": "2023-11-12T09:54:03.862Z"
      },
      {
        "duration": 454,
        "start_time": "2023-11-12T09:54:40.930Z"
      },
      {
        "duration": 131,
        "start_time": "2023-11-12T09:57:53.556Z"
      },
      {
        "duration": 479,
        "start_time": "2023-11-12T09:59:35.637Z"
      },
      {
        "duration": 428,
        "start_time": "2023-11-12T10:00:53.239Z"
      },
      {
        "duration": 351,
        "start_time": "2023-11-12T10:01:04.738Z"
      },
      {
        "duration": 683,
        "start_time": "2023-11-12T10:01:21.406Z"
      },
      {
        "duration": 328,
        "start_time": "2023-11-12T10:05:24.488Z"
      },
      {
        "duration": 370,
        "start_time": "2023-11-12T10:06:27.308Z"
      },
      {
        "duration": 479,
        "start_time": "2023-11-12T10:06:41.188Z"
      },
      {
        "duration": 357,
        "start_time": "2023-11-12T10:07:24.580Z"
      },
      {
        "duration": 365,
        "start_time": "2023-11-12T10:07:31.453Z"
      },
      {
        "duration": 342,
        "start_time": "2023-11-12T10:08:43.033Z"
      },
      {
        "duration": 353,
        "start_time": "2023-11-12T10:10:15.026Z"
      },
      {
        "duration": 408,
        "start_time": "2023-11-12T10:10:32.460Z"
      },
      {
        "duration": 337,
        "start_time": "2023-11-12T10:11:07.800Z"
      },
      {
        "duration": 292,
        "start_time": "2023-11-12T10:13:04.502Z"
      },
      {
        "duration": 320,
        "start_time": "2023-11-12T10:13:20.400Z"
      },
      {
        "duration": 294,
        "start_time": "2023-11-12T10:13:31.764Z"
      },
      {
        "duration": 308,
        "start_time": "2023-11-12T10:13:38.273Z"
      },
      {
        "duration": 408,
        "start_time": "2023-11-12T10:13:42.819Z"
      },
      {
        "duration": 341,
        "start_time": "2023-11-12T10:15:06.924Z"
      },
      {
        "duration": 306,
        "start_time": "2023-11-12T10:15:24.667Z"
      },
      {
        "duration": 328,
        "start_time": "2023-11-12T10:15:53.188Z"
      },
      {
        "duration": 36,
        "start_time": "2023-11-12T10:30:23.946Z"
      },
      {
        "duration": 12,
        "start_time": "2023-11-12T10:31:11.174Z"
      },
      {
        "duration": 47,
        "start_time": "2023-11-12T10:31:58.047Z"
      },
      {
        "duration": 11,
        "start_time": "2023-11-12T10:34:47.400Z"
      },
      {
        "duration": 26,
        "start_time": "2023-11-12T10:35:07.553Z"
      },
      {
        "duration": 70,
        "start_time": "2023-11-12T10:35:37.808Z"
      },
      {
        "duration": 19,
        "start_time": "2023-11-12T10:35:41.649Z"
      },
      {
        "duration": 13,
        "start_time": "2023-11-12T10:35:48.738Z"
      },
      {
        "duration": 209,
        "start_time": "2023-11-12T11:06:07.463Z"
      },
      {
        "duration": 254,
        "start_time": "2023-11-12T11:06:49.255Z"
      },
      {
        "duration": 293,
        "start_time": "2023-11-12T11:08:40.578Z"
      },
      {
        "duration": 380,
        "start_time": "2023-11-12T11:08:49.678Z"
      },
      {
        "duration": 40,
        "start_time": "2023-11-12T11:11:57.399Z"
      },
      {
        "duration": 293,
        "start_time": "2023-11-12T11:13:32.569Z"
      },
      {
        "duration": 294,
        "start_time": "2023-11-12T11:14:59.431Z"
      },
      {
        "duration": 293,
        "start_time": "2023-11-12T11:16:20.619Z"
      },
      {
        "duration": 278,
        "start_time": "2023-11-12T11:17:42.962Z"
      },
      {
        "duration": 297,
        "start_time": "2023-11-12T11:18:06.959Z"
      },
      {
        "duration": 315,
        "start_time": "2023-11-12T11:18:42.436Z"
      },
      {
        "duration": 296,
        "start_time": "2023-11-12T11:19:03.775Z"
      },
      {
        "duration": 7,
        "start_time": "2023-11-12T11:27:00.726Z"
      },
      {
        "duration": 17,
        "start_time": "2023-11-12T11:28:57.501Z"
      },
      {
        "duration": 899,
        "start_time": "2023-11-12T11:30:20.474Z"
      },
      {
        "duration": 201,
        "start_time": "2023-11-12T11:31:26.795Z"
      },
      {
        "duration": 5,
        "start_time": "2023-11-12T11:39:02.985Z"
      },
      {
        "duration": 5,
        "start_time": "2023-11-12T11:39:10.125Z"
      },
      {
        "duration": 4,
        "start_time": "2023-11-12T11:39:17.035Z"
      },
      {
        "duration": 5,
        "start_time": "2023-11-12T11:51:41.694Z"
      },
      {
        "duration": 1419,
        "start_time": "2023-11-12T14:23:44.934Z"
      },
      {
        "duration": 219,
        "start_time": "2023-11-12T14:23:46.355Z"
      },
      {
        "duration": 32,
        "start_time": "2023-11-12T14:23:46.576Z"
      },
      {
        "duration": 6,
        "start_time": "2023-11-12T14:23:46.610Z"
      },
      {
        "duration": 5,
        "start_time": "2023-11-12T14:23:46.617Z"
      },
      {
        "duration": 20,
        "start_time": "2023-11-12T14:23:46.624Z"
      },
      {
        "duration": 8,
        "start_time": "2023-11-12T14:23:46.646Z"
      },
      {
        "duration": 14,
        "start_time": "2023-11-12T14:23:46.656Z"
      },
      {
        "duration": 12,
        "start_time": "2023-11-12T14:23:46.672Z"
      },
      {
        "duration": 7,
        "start_time": "2023-11-12T14:23:46.686Z"
      },
      {
        "duration": 4,
        "start_time": "2023-11-12T14:23:46.694Z"
      },
      {
        "duration": 51,
        "start_time": "2023-11-12T14:23:46.699Z"
      },
      {
        "duration": 437,
        "start_time": "2023-11-12T14:23:46.752Z"
      },
      {
        "duration": 117,
        "start_time": "2023-11-12T14:23:47.191Z"
      },
      {
        "duration": 330,
        "start_time": "2023-11-12T14:23:47.309Z"
      },
      {
        "duration": 326,
        "start_time": "2023-11-12T14:23:47.641Z"
      },
      {
        "duration": 342,
        "start_time": "2023-11-12T14:23:47.969Z"
      },
      {
        "duration": 37,
        "start_time": "2023-11-12T14:23:48.313Z"
      },
      {
        "duration": 15,
        "start_time": "2023-11-12T14:23:48.353Z"
      },
      {
        "duration": 107,
        "start_time": "2023-11-12T14:23:48.371Z"
      },
      {
        "duration": 10,
        "start_time": "2023-11-12T14:23:48.480Z"
      },
      {
        "duration": 308,
        "start_time": "2023-11-12T14:23:48.491Z"
      },
      {
        "duration": 296,
        "start_time": "2023-11-12T14:23:48.801Z"
      },
      {
        "duration": 12,
        "start_time": "2023-11-12T14:23:49.099Z"
      },
      {
        "duration": 892,
        "start_time": "2023-11-12T14:23:49.113Z"
      },
      {
        "duration": 6,
        "start_time": "2023-11-12T14:23:50.007Z"
      },
      {
        "duration": 209,
        "start_time": "2023-11-12T14:23:50.014Z"
      },
      {
        "duration": 5,
        "start_time": "2023-11-12T14:23:50.226Z"
      },
      {
        "duration": 14,
        "start_time": "2023-11-12T14:23:50.232Z"
      },
      {
        "duration": 11,
        "start_time": "2023-11-12T14:23:50.249Z"
      },
      {
        "duration": 16,
        "start_time": "2023-11-12T14:23:50.261Z"
      },
      {
        "duration": 1810,
        "start_time": "2023-11-12T14:42:04.435Z"
      },
      {
        "duration": 1585,
        "start_time": "2023-11-12T14:43:56.128Z"
      },
      {
        "duration": 1475,
        "start_time": "2023-11-12T14:45:18.658Z"
      },
      {
        "duration": 1196,
        "start_time": "2023-11-12T14:50:05.288Z"
      },
      {
        "duration": 88,
        "start_time": "2023-11-12T14:50:06.486Z"
      },
      {
        "duration": 24,
        "start_time": "2023-11-12T14:50:06.575Z"
      },
      {
        "duration": 6,
        "start_time": "2023-11-12T14:50:06.602Z"
      },
      {
        "duration": 7,
        "start_time": "2023-11-12T14:50:06.609Z"
      },
      {
        "duration": 4,
        "start_time": "2023-11-12T14:50:06.618Z"
      },
      {
        "duration": 26,
        "start_time": "2023-11-12T14:50:06.624Z"
      },
      {
        "duration": 11,
        "start_time": "2023-11-12T14:50:06.652Z"
      },
      {
        "duration": 22,
        "start_time": "2023-11-12T14:50:06.664Z"
      },
      {
        "duration": 8,
        "start_time": "2023-11-12T14:50:06.689Z"
      },
      {
        "duration": 5,
        "start_time": "2023-11-12T14:50:06.698Z"
      },
      {
        "duration": 44,
        "start_time": "2023-11-12T14:50:06.704Z"
      },
      {
        "duration": 422,
        "start_time": "2023-11-12T14:50:06.750Z"
      },
      {
        "duration": 110,
        "start_time": "2023-11-12T14:50:07.173Z"
      },
      {
        "duration": 342,
        "start_time": "2023-11-12T14:50:07.285Z"
      },
      {
        "duration": 344,
        "start_time": "2023-11-12T14:50:07.629Z"
      },
      {
        "duration": 362,
        "start_time": "2023-11-12T14:50:07.974Z"
      },
      {
        "duration": 34,
        "start_time": "2023-11-12T14:50:08.342Z"
      },
      {
        "duration": 13,
        "start_time": "2023-11-12T14:50:08.378Z"
      },
      {
        "duration": 114,
        "start_time": "2023-11-12T14:50:08.392Z"
      },
      {
        "duration": 11,
        "start_time": "2023-11-12T14:50:08.507Z"
      },
      {
        "duration": 1823,
        "start_time": "2023-11-12T14:50:08.519Z"
      },
      {
        "duration": 0,
        "start_time": "2023-11-12T14:50:10.344Z"
      },
      {
        "duration": 0,
        "start_time": "2023-11-12T14:50:10.345Z"
      },
      {
        "duration": 0,
        "start_time": "2023-11-12T14:50:10.346Z"
      },
      {
        "duration": 0,
        "start_time": "2023-11-12T14:50:10.347Z"
      },
      {
        "duration": 0,
        "start_time": "2023-11-12T14:50:10.349Z"
      },
      {
        "duration": 0,
        "start_time": "2023-11-12T14:50:10.350Z"
      },
      {
        "duration": 0,
        "start_time": "2023-11-12T14:50:10.352Z"
      },
      {
        "duration": 0,
        "start_time": "2023-11-12T14:50:10.353Z"
      },
      {
        "duration": 0,
        "start_time": "2023-11-12T14:50:10.355Z"
      },
      {
        "duration": 1551,
        "start_time": "2023-11-12T14:50:45.409Z"
      },
      {
        "duration": 495,
        "start_time": "2023-11-12T14:51:56.751Z"
      },
      {
        "duration": 464,
        "start_time": "2023-11-12T14:52:34.138Z"
      },
      {
        "duration": 441,
        "start_time": "2023-11-12T14:58:13.941Z"
      },
      {
        "duration": 437,
        "start_time": "2023-11-12T14:58:25.807Z"
      },
      {
        "duration": 544,
        "start_time": "2023-11-12T14:58:33.291Z"
      },
      {
        "duration": 455,
        "start_time": "2023-11-12T14:59:50.150Z"
      },
      {
        "duration": 466,
        "start_time": "2023-11-12T15:00:18.949Z"
      },
      {
        "duration": 456,
        "start_time": "2023-11-12T15:00:25.324Z"
      },
      {
        "duration": 98,
        "start_time": "2023-11-12T15:00:42.367Z"
      },
      {
        "duration": 464,
        "start_time": "2023-11-12T15:00:59.477Z"
      },
      {
        "duration": 456,
        "start_time": "2023-11-12T15:01:38.526Z"
      },
      {
        "duration": 636,
        "start_time": "2023-11-12T15:05:45.310Z"
      },
      {
        "duration": 1104,
        "start_time": "2023-11-12T15:06:16.476Z"
      },
      {
        "duration": 84,
        "start_time": "2023-11-12T15:06:17.582Z"
      },
      {
        "duration": 24,
        "start_time": "2023-11-12T15:06:17.667Z"
      },
      {
        "duration": 6,
        "start_time": "2023-11-12T15:06:17.693Z"
      },
      {
        "duration": 6,
        "start_time": "2023-11-12T15:06:17.700Z"
      },
      {
        "duration": 4,
        "start_time": "2023-11-12T15:06:17.708Z"
      },
      {
        "duration": 7,
        "start_time": "2023-11-12T15:06:17.714Z"
      },
      {
        "duration": 30,
        "start_time": "2023-11-12T15:06:17.722Z"
      },
      {
        "duration": 21,
        "start_time": "2023-11-12T15:06:17.753Z"
      },
      {
        "duration": 8,
        "start_time": "2023-11-12T15:06:17.778Z"
      },
      {
        "duration": 5,
        "start_time": "2023-11-12T15:06:17.788Z"
      },
      {
        "duration": 11,
        "start_time": "2023-11-12T15:06:17.794Z"
      },
      {
        "duration": 409,
        "start_time": "2023-11-12T15:06:17.807Z"
      },
      {
        "duration": 104,
        "start_time": "2023-11-12T15:06:18.218Z"
      },
      {
        "duration": 319,
        "start_time": "2023-11-12T15:06:18.323Z"
      },
      {
        "duration": 310,
        "start_time": "2023-11-12T15:06:18.644Z"
      },
      {
        "duration": 321,
        "start_time": "2023-11-12T15:06:18.956Z"
      },
      {
        "duration": 26,
        "start_time": "2023-11-12T15:06:19.278Z"
      },
      {
        "duration": 13,
        "start_time": "2023-11-12T15:06:19.305Z"
      },
      {
        "duration": 113,
        "start_time": "2023-11-12T15:06:19.320Z"
      },
      {
        "duration": 12,
        "start_time": "2023-11-12T15:06:19.443Z"
      },
      {
        "duration": 488,
        "start_time": "2023-11-12T15:06:19.456Z"
      },
      {
        "duration": 475,
        "start_time": "2023-11-12T15:06:19.945Z"
      },
      {
        "duration": 13,
        "start_time": "2023-11-12T15:06:20.421Z"
      },
      {
        "duration": 891,
        "start_time": "2023-11-12T15:06:20.443Z"
      },
      {
        "duration": 11,
        "start_time": "2023-11-12T15:06:21.335Z"
      },
      {
        "duration": 192,
        "start_time": "2023-11-12T15:06:21.347Z"
      },
      {
        "duration": 5,
        "start_time": "2023-11-12T15:06:21.543Z"
      },
      {
        "duration": 6,
        "start_time": "2023-11-12T15:06:21.550Z"
      },
      {
        "duration": 19,
        "start_time": "2023-11-12T15:06:21.557Z"
      },
      {
        "duration": 9,
        "start_time": "2023-11-12T15:06:21.577Z"
      },
      {
        "duration": 491,
        "start_time": "2023-11-12T15:07:03.874Z"
      },
      {
        "duration": 368,
        "start_time": "2023-11-12T15:09:44.520Z"
      },
      {
        "duration": 564,
        "start_time": "2023-11-12T15:09:57.511Z"
      },
      {
        "duration": 464,
        "start_time": "2023-11-12T15:10:19.078Z"
      },
      {
        "duration": 462,
        "start_time": "2023-11-12T15:10:25.950Z"
      },
      {
        "duration": 474,
        "start_time": "2023-11-12T15:10:54.059Z"
      },
      {
        "duration": 552,
        "start_time": "2023-11-12T15:12:42.425Z"
      },
      {
        "duration": 487,
        "start_time": "2023-11-12T15:13:03.308Z"
      },
      {
        "duration": 620,
        "start_time": "2023-11-12T15:13:09.114Z"
      },
      {
        "duration": 481,
        "start_time": "2023-11-12T15:13:42.388Z"
      },
      {
        "duration": 9,
        "start_time": "2023-11-12T15:43:24.858Z"
      },
      {
        "duration": 5,
        "start_time": "2023-11-12T15:46:12.567Z"
      },
      {
        "duration": 5,
        "start_time": "2023-11-12T15:46:16.617Z"
      },
      {
        "duration": 8,
        "start_time": "2023-11-12T15:49:03.138Z"
      },
      {
        "duration": 6,
        "start_time": "2023-11-12T15:52:19.605Z"
      },
      {
        "duration": 4,
        "start_time": "2023-11-12T15:52:39.127Z"
      },
      {
        "duration": 5,
        "start_time": "2023-11-12T15:52:42.923Z"
      },
      {
        "duration": 5,
        "start_time": "2023-11-12T15:52:46.986Z"
      },
      {
        "duration": 5,
        "start_time": "2023-11-12T15:55:37.128Z"
      },
      {
        "duration": 10,
        "start_time": "2023-11-12T16:01:10.216Z"
      },
      {
        "duration": 10,
        "start_time": "2023-11-12T16:01:24.273Z"
      },
      {
        "duration": 9,
        "start_time": "2023-11-12T16:02:35.527Z"
      },
      {
        "duration": 6,
        "start_time": "2023-11-12T16:08:24.156Z"
      },
      {
        "duration": 5,
        "start_time": "2023-11-12T16:08:32.635Z"
      },
      {
        "duration": 8,
        "start_time": "2023-11-12T16:12:51.224Z"
      },
      {
        "duration": 13,
        "start_time": "2023-11-12T16:13:42.886Z"
      },
      {
        "duration": 9,
        "start_time": "2023-11-12T16:15:49.054Z"
      },
      {
        "duration": 8,
        "start_time": "2023-11-12T16:16:07.215Z"
      },
      {
        "duration": 12,
        "start_time": "2023-11-12T16:18:01.962Z"
      },
      {
        "duration": 8,
        "start_time": "2023-11-12T16:59:49.316Z"
      },
      {
        "duration": 26,
        "start_time": "2023-11-12T17:01:07.025Z"
      },
      {
        "duration": 22,
        "start_time": "2023-11-12T17:01:49.535Z"
      },
      {
        "duration": 19,
        "start_time": "2023-11-12T17:02:09.725Z"
      },
      {
        "duration": 6,
        "start_time": "2023-11-12T17:02:19.495Z"
      },
      {
        "duration": 88,
        "start_time": "2023-11-12T17:02:41.557Z"
      },
      {
        "duration": 14,
        "start_time": "2023-11-12T17:02:57.072Z"
      },
      {
        "duration": 17,
        "start_time": "2023-11-12T17:03:37.956Z"
      },
      {
        "duration": 19,
        "start_time": "2023-11-12T17:05:42.880Z"
      },
      {
        "duration": 1347,
        "start_time": "2023-11-13T11:44:13.517Z"
      },
      {
        "duration": 207,
        "start_time": "2023-11-13T11:44:14.866Z"
      },
      {
        "duration": 28,
        "start_time": "2023-11-13T11:44:15.074Z"
      },
      {
        "duration": 7,
        "start_time": "2023-11-13T11:44:15.104Z"
      },
      {
        "duration": 14,
        "start_time": "2023-11-13T11:44:15.113Z"
      },
      {
        "duration": 8,
        "start_time": "2023-11-13T11:44:15.129Z"
      },
      {
        "duration": 8,
        "start_time": "2023-11-13T11:44:15.143Z"
      },
      {
        "duration": 13,
        "start_time": "2023-11-13T11:44:15.153Z"
      },
      {
        "duration": 29,
        "start_time": "2023-11-13T11:44:15.168Z"
      },
      {
        "duration": 8,
        "start_time": "2023-11-13T11:44:15.199Z"
      },
      {
        "duration": 7,
        "start_time": "2023-11-13T11:44:15.209Z"
      },
      {
        "duration": 24,
        "start_time": "2023-11-13T11:44:15.218Z"
      },
      {
        "duration": 453,
        "start_time": "2023-11-13T11:44:15.244Z"
      },
      {
        "duration": 104,
        "start_time": "2023-11-13T11:44:15.699Z"
      },
      {
        "duration": 328,
        "start_time": "2023-11-13T11:44:15.805Z"
      },
      {
        "duration": 302,
        "start_time": "2023-11-13T11:44:16.134Z"
      },
      {
        "duration": 335,
        "start_time": "2023-11-13T11:44:16.437Z"
      },
      {
        "duration": 26,
        "start_time": "2023-11-13T11:44:16.774Z"
      },
      {
        "duration": 13,
        "start_time": "2023-11-13T11:44:16.801Z"
      },
      {
        "duration": 111,
        "start_time": "2023-11-13T11:44:16.815Z"
      },
      {
        "duration": 20,
        "start_time": "2023-11-13T11:44:16.927Z"
      },
      {
        "duration": 500,
        "start_time": "2023-11-13T11:44:16.948Z"
      },
      {
        "duration": 509,
        "start_time": "2023-11-13T11:44:17.450Z"
      },
      {
        "duration": 11,
        "start_time": "2023-11-13T11:44:17.961Z"
      },
      {
        "duration": 1196,
        "start_time": "2023-11-13T11:44:17.974Z"
      },
      {
        "duration": 7,
        "start_time": "2023-11-13T11:44:19.171Z"
      },
      {
        "duration": 379,
        "start_time": "2023-11-13T11:44:19.180Z"
      },
      {
        "duration": 83,
        "start_time": "2023-11-13T11:44:19.562Z"
      },
      {
        "duration": 7,
        "start_time": "2023-11-13T11:44:19.646Z"
      },
      {
        "duration": 7,
        "start_time": "2023-11-13T11:44:19.655Z"
      },
      {
        "duration": 20,
        "start_time": "2023-11-13T11:44:19.663Z"
      },
      {
        "duration": 133,
        "start_time": "2023-11-13T11:51:09.191Z"
      },
      {
        "duration": 12,
        "start_time": "2023-11-13T11:53:57.877Z"
      },
      {
        "duration": 15,
        "start_time": "2023-11-13T11:56:21.811Z"
      },
      {
        "duration": 14,
        "start_time": "2023-11-13T11:56:25.109Z"
      },
      {
        "duration": 7,
        "start_time": "2023-11-13T12:06:27.424Z"
      },
      {
        "duration": 1183,
        "start_time": "2023-11-13T12:20:38.250Z"
      },
      {
        "duration": 85,
        "start_time": "2023-11-13T12:20:39.435Z"
      },
      {
        "duration": 24,
        "start_time": "2023-11-13T12:20:39.523Z"
      },
      {
        "duration": 7,
        "start_time": "2023-11-13T12:20:39.550Z"
      },
      {
        "duration": 7,
        "start_time": "2023-11-13T12:20:39.559Z"
      },
      {
        "duration": 9,
        "start_time": "2023-11-13T12:20:39.568Z"
      },
      {
        "duration": 19,
        "start_time": "2023-11-13T12:20:39.579Z"
      },
      {
        "duration": 19,
        "start_time": "2023-11-13T12:20:39.599Z"
      },
      {
        "duration": 12,
        "start_time": "2023-11-13T12:20:39.620Z"
      },
      {
        "duration": 8,
        "start_time": "2023-11-13T12:20:39.644Z"
      },
      {
        "duration": 4,
        "start_time": "2023-11-13T12:20:39.654Z"
      },
      {
        "duration": 13,
        "start_time": "2023-11-13T12:20:39.659Z"
      },
      {
        "duration": 371,
        "start_time": "2023-11-13T12:20:39.673Z"
      },
      {
        "duration": 109,
        "start_time": "2023-11-13T12:20:40.046Z"
      },
      {
        "duration": 332,
        "start_time": "2023-11-13T12:20:40.156Z"
      },
      {
        "duration": 140,
        "start_time": "2023-11-13T12:20:40.490Z"
      },
      {
        "duration": 314,
        "start_time": "2023-11-13T12:20:40.632Z"
      },
      {
        "duration": 413,
        "start_time": "2023-11-13T12:20:40.947Z"
      },
      {
        "duration": 12,
        "start_time": "2023-11-13T12:20:41.362Z"
      },
      {
        "duration": 29,
        "start_time": "2023-11-13T12:20:41.375Z"
      },
      {
        "duration": 14,
        "start_time": "2023-11-13T12:20:41.406Z"
      },
      {
        "duration": 31,
        "start_time": "2023-11-13T12:20:41.443Z"
      },
      {
        "duration": 13,
        "start_time": "2023-11-13T12:20:41.476Z"
      },
      {
        "duration": 559,
        "start_time": "2023-11-13T12:20:41.491Z"
      },
      {
        "duration": 525,
        "start_time": "2023-11-13T12:20:42.052Z"
      },
      {
        "duration": 13,
        "start_time": "2023-11-13T12:20:42.579Z"
      },
      {
        "duration": 904,
        "start_time": "2023-11-13T12:20:42.593Z"
      },
      {
        "duration": 6,
        "start_time": "2023-11-13T12:20:43.500Z"
      },
      {
        "duration": 194,
        "start_time": "2023-11-13T12:20:43.508Z"
      },
      {
        "duration": 18,
        "start_time": "2023-11-13T12:20:43.704Z"
      },
      {
        "duration": 22,
        "start_time": "2023-11-13T12:20:43.724Z"
      },
      {
        "duration": 13,
        "start_time": "2023-11-13T12:20:43.748Z"
      },
      {
        "duration": 15,
        "start_time": "2023-11-13T12:20:43.763Z"
      },
      {
        "duration": 15,
        "start_time": "2023-11-13T12:20:43.780Z"
      },
      {
        "duration": 67,
        "start_time": "2023-11-13T13:00:16.022Z"
      },
      {
        "duration": 1436,
        "start_time": "2023-11-13T13:00:23.656Z"
      },
      {
        "duration": 328,
        "start_time": "2023-11-13T13:00:25.094Z"
      },
      {
        "duration": 29,
        "start_time": "2023-11-13T13:00:25.424Z"
      },
      {
        "duration": 9,
        "start_time": "2023-11-13T13:00:25.456Z"
      },
      {
        "duration": 7,
        "start_time": "2023-11-13T13:00:25.467Z"
      },
      {
        "duration": 6,
        "start_time": "2023-11-13T13:00:25.476Z"
      },
      {
        "duration": 8,
        "start_time": "2023-11-13T13:00:25.484Z"
      },
      {
        "duration": 48,
        "start_time": "2023-11-13T13:00:25.494Z"
      },
      {
        "duration": 14,
        "start_time": "2023-11-13T13:00:25.543Z"
      },
      {
        "duration": 8,
        "start_time": "2023-11-13T13:00:25.559Z"
      },
      {
        "duration": 6,
        "start_time": "2023-11-13T13:00:25.569Z"
      },
      {
        "duration": 19,
        "start_time": "2023-11-13T13:00:25.577Z"
      },
      {
        "duration": 498,
        "start_time": "2023-11-13T13:00:25.598Z"
      },
      {
        "duration": 118,
        "start_time": "2023-11-13T13:00:26.099Z"
      },
      {
        "duration": 359,
        "start_time": "2023-11-13T13:00:26.219Z"
      },
      {
        "duration": 157,
        "start_time": "2023-11-13T13:00:26.580Z"
      },
      {
        "duration": 344,
        "start_time": "2023-11-13T13:00:26.739Z"
      },
      {
        "duration": 450,
        "start_time": "2023-11-13T13:00:27.085Z"
      },
      {
        "duration": 14,
        "start_time": "2023-11-13T13:00:27.537Z"
      },
      {
        "duration": 58,
        "start_time": "2023-11-13T13:00:27.553Z"
      },
      {
        "duration": 20,
        "start_time": "2023-11-13T13:00:27.613Z"
      },
      {
        "duration": 59,
        "start_time": "2023-11-13T13:00:27.635Z"
      },
      {
        "duration": 14,
        "start_time": "2023-11-13T13:00:27.696Z"
      },
      {
        "duration": 540,
        "start_time": "2023-11-13T13:00:27.712Z"
      },
      {
        "duration": 555,
        "start_time": "2023-11-13T13:00:28.254Z"
      },
      {
        "duration": 13,
        "start_time": "2023-11-13T13:00:28.810Z"
      },
      {
        "duration": 934,
        "start_time": "2023-11-13T13:00:28.825Z"
      },
      {
        "duration": 6,
        "start_time": "2023-11-13T13:00:29.762Z"
      },
      {
        "duration": 231,
        "start_time": "2023-11-13T13:00:29.770Z"
      },
      {
        "duration": 24,
        "start_time": "2023-11-13T13:00:30.003Z"
      },
      {
        "duration": 48,
        "start_time": "2023-11-13T13:00:30.036Z"
      },
      {
        "duration": 39,
        "start_time": "2023-11-13T13:00:30.086Z"
      },
      {
        "duration": 45,
        "start_time": "2023-11-13T13:00:30.126Z"
      },
      {
        "duration": 39,
        "start_time": "2023-11-13T13:00:30.173Z"
      },
      {
        "duration": 1467,
        "start_time": "2023-11-13T19:58:39.827Z"
      },
      {
        "duration": 212,
        "start_time": "2023-11-13T19:58:41.297Z"
      },
      {
        "duration": 28,
        "start_time": "2023-11-13T19:58:41.511Z"
      },
      {
        "duration": 8,
        "start_time": "2023-11-13T19:58:41.542Z"
      },
      {
        "duration": 7,
        "start_time": "2023-11-13T19:58:41.552Z"
      },
      {
        "duration": 5,
        "start_time": "2023-11-13T19:58:41.560Z"
      },
      {
        "duration": 7,
        "start_time": "2023-11-13T19:58:41.567Z"
      },
      {
        "duration": 13,
        "start_time": "2023-11-13T19:58:41.576Z"
      },
      {
        "duration": 14,
        "start_time": "2023-11-13T19:58:41.590Z"
      },
      {
        "duration": 48,
        "start_time": "2023-11-13T19:58:41.607Z"
      },
      {
        "duration": 5,
        "start_time": "2023-11-13T19:58:41.657Z"
      },
      {
        "duration": 15,
        "start_time": "2023-11-13T19:58:41.663Z"
      },
      {
        "duration": 459,
        "start_time": "2023-11-13T19:58:41.680Z"
      },
      {
        "duration": 117,
        "start_time": "2023-11-13T19:58:42.141Z"
      },
      {
        "duration": 369,
        "start_time": "2023-11-13T19:58:42.260Z"
      },
      {
        "duration": 143,
        "start_time": "2023-11-13T19:58:42.631Z"
      },
      {
        "duration": 315,
        "start_time": "2023-11-13T19:58:42.776Z"
      },
      {
        "duration": 408,
        "start_time": "2023-11-13T19:58:43.092Z"
      },
      {
        "duration": 14,
        "start_time": "2023-11-13T19:58:43.502Z"
      },
      {
        "duration": 46,
        "start_time": "2023-11-13T19:58:43.517Z"
      },
      {
        "duration": 12,
        "start_time": "2023-11-13T19:58:43.565Z"
      },
      {
        "duration": 30,
        "start_time": "2023-11-13T19:58:43.579Z"
      },
      {
        "duration": 12,
        "start_time": "2023-11-13T19:58:43.611Z"
      },
      {
        "duration": 559,
        "start_time": "2023-11-13T19:58:43.625Z"
      },
      {
        "duration": 523,
        "start_time": "2023-11-13T19:58:44.186Z"
      },
      {
        "duration": 13,
        "start_time": "2023-11-13T19:58:44.711Z"
      },
      {
        "duration": 838,
        "start_time": "2023-11-13T19:58:44.725Z"
      },
      {
        "duration": 6,
        "start_time": "2023-11-13T19:58:45.567Z"
      },
      {
        "duration": 220,
        "start_time": "2023-11-13T19:58:45.574Z"
      },
      {
        "duration": 17,
        "start_time": "2023-11-13T19:58:45.796Z"
      },
      {
        "duration": 8,
        "start_time": "2023-11-13T19:58:45.815Z"
      },
      {
        "duration": 8,
        "start_time": "2023-11-13T19:58:45.824Z"
      },
      {
        "duration": 27,
        "start_time": "2023-11-13T19:58:45.834Z"
      },
      {
        "duration": 34,
        "start_time": "2023-11-13T19:58:45.862Z"
      },
      {
        "duration": 50,
        "start_time": "2023-11-14T14:49:19.012Z"
      },
      {
        "duration": 1224,
        "start_time": "2023-11-14T14:49:24.981Z"
      },
      {
        "duration": 234,
        "start_time": "2023-11-14T14:49:26.207Z"
      },
      {
        "duration": 26,
        "start_time": "2023-11-14T14:49:26.442Z"
      },
      {
        "duration": 8,
        "start_time": "2023-11-14T14:49:26.470Z"
      },
      {
        "duration": 7,
        "start_time": "2023-11-14T14:49:26.479Z"
      },
      {
        "duration": 10,
        "start_time": "2023-11-14T14:49:26.488Z"
      },
      {
        "duration": 10,
        "start_time": "2023-11-14T14:49:26.500Z"
      },
      {
        "duration": 45,
        "start_time": "2023-11-14T14:49:26.512Z"
      },
      {
        "duration": 14,
        "start_time": "2023-11-14T14:49:26.559Z"
      },
      {
        "duration": 8,
        "start_time": "2023-11-14T14:49:26.576Z"
      },
      {
        "duration": 4,
        "start_time": "2023-11-14T14:49:26.586Z"
      },
      {
        "duration": 18,
        "start_time": "2023-11-14T14:49:26.593Z"
      },
      {
        "duration": 474,
        "start_time": "2023-11-14T14:49:26.613Z"
      },
      {
        "duration": 128,
        "start_time": "2023-11-14T14:49:27.090Z"
      },
      {
        "duration": 397,
        "start_time": "2023-11-14T14:49:27.220Z"
      },
      {
        "duration": 155,
        "start_time": "2023-11-14T14:49:27.618Z"
      },
      {
        "duration": 344,
        "start_time": "2023-11-14T14:49:27.775Z"
      },
      {
        "duration": 461,
        "start_time": "2023-11-14T14:49:28.121Z"
      },
      {
        "duration": 15,
        "start_time": "2023-11-14T14:49:28.584Z"
      },
      {
        "duration": 52,
        "start_time": "2023-11-14T14:49:28.601Z"
      },
      {
        "duration": 15,
        "start_time": "2023-11-14T14:49:28.655Z"
      },
      {
        "duration": 33,
        "start_time": "2023-11-14T14:49:28.672Z"
      },
      {
        "duration": 45,
        "start_time": "2023-11-14T14:49:28.707Z"
      },
      {
        "duration": 589,
        "start_time": "2023-11-14T14:49:28.754Z"
      },
      {
        "duration": 624,
        "start_time": "2023-11-14T14:49:29.345Z"
      },
      {
        "duration": 13,
        "start_time": "2023-11-14T14:49:29.971Z"
      },
      {
        "duration": 990,
        "start_time": "2023-11-14T14:49:29.986Z"
      },
      {
        "duration": 8,
        "start_time": "2023-11-14T14:49:30.981Z"
      },
      {
        "duration": 236,
        "start_time": "2023-11-14T14:49:30.991Z"
      },
      {
        "duration": 34,
        "start_time": "2023-11-14T14:49:31.229Z"
      },
      {
        "duration": 60,
        "start_time": "2023-11-14T14:49:31.265Z"
      },
      {
        "duration": 47,
        "start_time": "2023-11-14T14:49:31.326Z"
      },
      {
        "duration": 48,
        "start_time": "2023-11-14T14:49:31.374Z"
      },
      {
        "duration": 30,
        "start_time": "2023-11-14T14:49:31.424Z"
      },
      {
        "duration": 41,
        "start_time": "2023-11-14T14:49:31.457Z"
      },
      {
        "duration": 54,
        "start_time": "2023-11-14T14:49:31.500Z"
      },
      {
        "duration": 63,
        "start_time": "2023-11-14T14:49:31.556Z"
      },
      {
        "duration": 30,
        "start_time": "2023-11-14T14:49:31.621Z"
      },
      {
        "duration": 39,
        "start_time": "2023-11-14T14:49:31.653Z"
      },
      {
        "duration": 35,
        "start_time": "2023-11-14T14:49:31.693Z"
      },
      {
        "duration": 41,
        "start_time": "2023-11-14T14:49:31.731Z"
      },
      {
        "duration": 28,
        "start_time": "2023-11-14T14:49:31.775Z"
      },
      {
        "duration": 170,
        "start_time": "2023-11-14T14:49:31.806Z"
      },
      {
        "duration": 0,
        "start_time": "2023-11-14T14:49:31.978Z"
      },
      {
        "duration": 0,
        "start_time": "2023-11-14T14:49:31.979Z"
      },
      {
        "duration": 0,
        "start_time": "2023-11-14T14:49:31.980Z"
      },
      {
        "duration": 1,
        "start_time": "2023-11-14T14:49:31.981Z"
      },
      {
        "duration": 0,
        "start_time": "2023-11-14T14:49:31.982Z"
      },
      {
        "duration": 0,
        "start_time": "2023-11-14T14:49:31.983Z"
      },
      {
        "duration": 0,
        "start_time": "2023-11-14T14:49:31.984Z"
      },
      {
        "duration": 0,
        "start_time": "2023-11-14T14:49:31.986Z"
      },
      {
        "duration": 0,
        "start_time": "2023-11-14T14:49:31.987Z"
      },
      {
        "duration": 0,
        "start_time": "2023-11-14T14:49:31.988Z"
      },
      {
        "duration": 3,
        "start_time": "2023-11-14T14:54:34.316Z"
      },
      {
        "duration": 4,
        "start_time": "2023-11-14T14:54:46.909Z"
      },
      {
        "duration": 15,
        "start_time": "2023-11-14T14:54:47.381Z"
      },
      {
        "duration": 1257,
        "start_time": "2023-11-14T14:54:48.142Z"
      },
      {
        "duration": 7,
        "start_time": "2023-11-14T14:54:49.401Z"
      },
      {
        "duration": 37,
        "start_time": "2023-11-14T14:54:49.411Z"
      },
      {
        "duration": 78,
        "start_time": "2023-11-14T14:54:49.451Z"
      },
      {
        "duration": 15,
        "start_time": "2023-11-14T14:54:50.014Z"
      },
      {
        "duration": 10,
        "start_time": "2023-11-14T14:54:50.685Z"
      },
      {
        "duration": 1204,
        "start_time": "2023-11-14T14:54:51.173Z"
      },
      {
        "duration": 1381,
        "start_time": "2023-11-14T14:56:14.201Z"
      },
      {
        "duration": 94,
        "start_time": "2023-11-14T14:56:15.585Z"
      },
      {
        "duration": 36,
        "start_time": "2023-11-14T14:56:15.682Z"
      },
      {
        "duration": 9,
        "start_time": "2023-11-14T14:56:15.719Z"
      },
      {
        "duration": 7,
        "start_time": "2023-11-14T14:56:15.753Z"
      },
      {
        "duration": 6,
        "start_time": "2023-11-14T14:56:15.762Z"
      },
      {
        "duration": 11,
        "start_time": "2023-11-14T14:56:15.770Z"
      },
      {
        "duration": 13,
        "start_time": "2023-11-14T14:56:15.783Z"
      },
      {
        "duration": 54,
        "start_time": "2023-11-14T14:56:15.798Z"
      },
      {
        "duration": 11,
        "start_time": "2023-11-14T14:56:15.854Z"
      },
      {
        "duration": 5,
        "start_time": "2023-11-14T14:56:15.867Z"
      },
      {
        "duration": 20,
        "start_time": "2023-11-14T14:56:15.874Z"
      },
      {
        "duration": 515,
        "start_time": "2023-11-14T14:56:15.897Z"
      },
      {
        "duration": 190,
        "start_time": "2023-11-14T14:56:16.415Z"
      },
      {
        "duration": 434,
        "start_time": "2023-11-14T14:56:16.606Z"
      },
      {
        "duration": 188,
        "start_time": "2023-11-14T14:56:17.042Z"
      },
      {
        "duration": 378,
        "start_time": "2023-11-14T14:56:17.232Z"
      },
      {
        "duration": 463,
        "start_time": "2023-11-14T14:56:17.612Z"
      },
      {
        "duration": 21,
        "start_time": "2023-11-14T14:56:18.077Z"
      },
      {
        "duration": 65,
        "start_time": "2023-11-14T14:56:18.101Z"
      },
      {
        "duration": 20,
        "start_time": "2023-11-14T14:56:18.168Z"
      },
      {
        "duration": 61,
        "start_time": "2023-11-14T14:56:18.191Z"
      },
      {
        "duration": 19,
        "start_time": "2023-11-14T14:56:18.254Z"
      },
      {
        "duration": 622,
        "start_time": "2023-11-14T14:56:18.275Z"
      },
      {
        "duration": 619,
        "start_time": "2023-11-14T14:56:18.900Z"
      },
      {
        "duration": 25,
        "start_time": "2023-11-14T14:56:19.521Z"
      },
      {
        "duration": 889,
        "start_time": "2023-11-14T14:56:19.553Z"
      },
      {
        "duration": 14,
        "start_time": "2023-11-14T14:56:20.444Z"
      },
      {
        "duration": 231,
        "start_time": "2023-11-14T14:56:20.462Z"
      },
      {
        "duration": 30,
        "start_time": "2023-11-14T14:56:20.695Z"
      },
      {
        "duration": 6,
        "start_time": "2023-11-14T14:56:20.728Z"
      },
      {
        "duration": 11,
        "start_time": "2023-11-14T14:56:20.753Z"
      },
      {
        "duration": 13,
        "start_time": "2023-11-14T14:56:20.766Z"
      },
      {
        "duration": 99,
        "start_time": "2023-11-14T14:56:20.781Z"
      },
      {
        "duration": 7,
        "start_time": "2023-11-14T14:56:20.883Z"
      },
      {
        "duration": 9,
        "start_time": "2023-11-14T14:56:20.893Z"
      },
      {
        "duration": 31,
        "start_time": "2023-11-14T14:56:20.905Z"
      },
      {
        "duration": 16,
        "start_time": "2023-11-14T14:56:20.938Z"
      },
      {
        "duration": 23,
        "start_time": "2023-11-14T14:56:20.956Z"
      },
      {
        "duration": 28,
        "start_time": "2023-11-14T14:56:20.980Z"
      },
      {
        "duration": 16,
        "start_time": "2023-11-14T14:56:21.013Z"
      },
      {
        "duration": 30,
        "start_time": "2023-11-14T14:56:21.032Z"
      },
      {
        "duration": 7,
        "start_time": "2023-11-14T14:56:21.065Z"
      },
      {
        "duration": 4,
        "start_time": "2023-11-14T14:56:21.075Z"
      },
      {
        "duration": 16,
        "start_time": "2023-11-14T14:56:21.081Z"
      },
      {
        "duration": 1093,
        "start_time": "2023-11-14T14:56:21.101Z"
      },
      {
        "duration": 4,
        "start_time": "2023-11-14T14:56:22.196Z"
      },
      {
        "duration": 19,
        "start_time": "2023-11-14T14:56:22.202Z"
      },
      {
        "duration": 102,
        "start_time": "2023-11-14T14:56:22.223Z"
      },
      {
        "duration": 24,
        "start_time": "2023-11-14T14:56:22.328Z"
      },
      {
        "duration": 11,
        "start_time": "2023-11-14T14:56:22.355Z"
      },
      {
        "duration": 929,
        "start_time": "2023-11-14T14:56:22.368Z"
      }
    ],
    "kernelspec": {
      "display_name": "Python 3 (ipykernel)",
      "language": "python",
      "name": "python3"
    },
    "language_info": {
      "codemirror_mode": {
        "name": "ipython",
        "version": 3
      },
      "file_extension": ".py",
      "mimetype": "text/x-python",
      "name": "python",
      "nbconvert_exporter": "python",
      "pygments_lexer": "ipython3",
      "version": "3.9.5"
    },
    "toc": {
      "base_numbering": 1,
      "nav_menu": {},
      "number_sections": true,
      "sideBar": true,
      "skip_h1_title": true,
      "title_cell": "Table of Contents",
      "title_sidebar": "Contents",
      "toc_cell": false,
      "toc_position": {},
      "toc_section_display": true,
      "toc_window_display": false
    },
    "colab": {
      "provenance": []
    }
  },
  "nbformat": 4,
  "nbformat_minor": 5
}