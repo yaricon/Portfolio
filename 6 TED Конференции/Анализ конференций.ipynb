{
  "cells": [
    {
      "cell_type": "markdown",
      "id": "98b7562c",
      "metadata": {
        "id": "98b7562c"
      },
      "source": [
        "# Анализ конференций"
      ]
    },
    {
      "cell_type": "markdown",
      "id": "5a6e5a19",
      "metadata": {
        "id": "5a6e5a19"
      },
      "source": [
        "**Цель исследования**\n",
        "\n",
        "Проанализировать и найти интересные особенности в выступлениях."
      ]
    },
    {
      "cell_type": "markdown",
      "id": "d9947ef0",
      "metadata": {
        "id": "d9947ef0"
      },
      "source": [
        "**План работы**\n",
        "\n",
        "1. Загрузить и изучить данные\n",
        "2. Построить графики и таблицы\n",
        "3. Сделать дашборды по категориям исследования\n",
        "4. Создать презентацию"
      ]
    },
    {
      "cell_type": "markdown",
      "id": "9bdecefc",
      "metadata": {
        "id": "9bdecefc"
      },
      "source": [
        "Входные данные - **данные, собранные с сайта TED**."
      ]
    },
    {
      "cell_type": "markdown",
      "id": "f9b5a3de",
      "metadata": {
        "id": "f9b5a3de"
      },
      "source": [
        "Ссылка на проект: https://public.tableau.com/views/_16891751292070/sheet22?:language=en-US&:display_count=n&:origin=viz_share_link"
      ]
    }
  ],
  "metadata": {
    "kernelspec": {
      "display_name": "Python 3 (ipykernel)",
      "language": "python",
      "name": "python3"
    },
    "language_info": {
      "codemirror_mode": {
        "name": "ipython",
        "version": 3
      },
      "file_extension": ".py",
      "mimetype": "text/x-python",
      "name": "python",
      "nbconvert_exporter": "python",
      "pygments_lexer": "ipython3",
      "version": "3.9.5"
    },
    "toc": {
      "base_numbering": 1,
      "nav_menu": {},
      "number_sections": true,
      "sideBar": true,
      "skip_h1_title": true,
      "title_cell": "Table of Contents",
      "title_sidebar": "Contents",
      "toc_cell": false,
      "toc_position": {},
      "toc_section_display": true,
      "toc_window_display": false
    },
    "colab": {
      "provenance": []
    }
  },
  "nbformat": 4,
  "nbformat_minor": 5
}
