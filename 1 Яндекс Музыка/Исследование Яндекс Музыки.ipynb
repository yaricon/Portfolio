{
  "cells": [
    {
      "cell_type": "markdown",
      "metadata": {
        "deletable": false,
        "editable": false,
        "id": "E0vqbgi9ay0H"
      },
      "source": [
        "# Исследование сервиса Яндекс музыка"
      ]
    },
    {
      "cell_type": "markdown",
      "metadata": {
        "deletable": false,
        "editable": false,
        "id": "VUC88oWjTJw2"
      },
      "source": [
        "**Цель исследования** — проверить три гипотезы:\n",
        "1. Активность пользователей зависит от дня недели. Причём в Москве и Петербурге это проявляется по-разному.\n",
        "2. В понедельник утром в Москве преобладают одни жанры, а в Петербурге — другие. Так же и вечером пятницы преобладают разные жанры — в зависимости от города.\n",
        "3. Москва и Петербург предпочитают разные жанры музыки. В Москве чаще слушают поп-музыку, в Петербурге — русский рэп.\n",
        "\n",
        "**Ход исследования**\n",
        "\n",
        " 1. Обзор данных.\n",
        " 2. Предобработка данных.\n",
        " 3. Проверка гипотез.\n",
        "\n",
        "*Входные данные* - датасет с информацией о прослушанных пользователями треками.\n",
        "\n",
        "\n"
      ]
    },
    {
      "cell_type": "markdown",
      "metadata": {
        "deletable": false,
        "editable": false,
        "id": "57eAOGIz_Zcs",
        "tags": [
          "start_task"
        ]
      },
      "source": [
        "## Выгрузка данных"
      ]
    },
    {
      "cell_type": "code",
      "execution_count": null,
      "metadata": {
        "deletable": false,
        "id": "AXN7PHPN_Zcs"
      },
      "outputs": [],
      "source": [
        "import pandas as pd # импорт библиотеки pandas"
      ]
    },
    {
      "cell_type": "code",
      "execution_count": null,
      "metadata": {
        "deletable": false,
        "id": "fFVu7vqh_Zct"
      },
      "outputs": [],
      "source": [
        "df = pd.read_csv('/datasets/yandex_music_project.csv') # чтение файла с данными и сохранение в df"
      ]
    },
    {
      "cell_type": "code",
      "execution_count": null,
      "metadata": {
        "deletable": false,
        "id": "oWTVX3gW_Zct",
        "outputId": "7ad5a637-1e81-48eb-99e3-6571d9c051ca"
      },
      "outputs": [
        {
          "data": {
            "text/html": [
              "<div>\n",
              "<style scoped>\n",
              "    .dataframe tbody tr th:only-of-type {\n",
              "        vertical-align: middle;\n",
              "    }\n",
              "\n",
              "    .dataframe tbody tr th {\n",
              "        vertical-align: top;\n",
              "    }\n",
              "\n",
              "    .dataframe thead th {\n",
              "        text-align: right;\n",
              "    }\n",
              "</style>\n",
              "<table border=\"1\" class=\"dataframe\">\n",
              "  <thead>\n",
              "    <tr style=\"text-align: right;\">\n",
              "      <th></th>\n",
              "      <th>userID</th>\n",
              "      <th>Track</th>\n",
              "      <th>artist</th>\n",
              "      <th>genre</th>\n",
              "      <th>City</th>\n",
              "      <th>time</th>\n",
              "      <th>Day</th>\n",
              "    </tr>\n",
              "  </thead>\n",
              "  <tbody>\n",
              "    <tr>\n",
              "      <th>0</th>\n",
              "      <td>FFB692EC</td>\n",
              "      <td>Kamigata To Boots</td>\n",
              "      <td>The Mass Missile</td>\n",
              "      <td>rock</td>\n",
              "      <td>Saint-Petersburg</td>\n",
              "      <td>20:28:33</td>\n",
              "      <td>Wednesday</td>\n",
              "    </tr>\n",
              "    <tr>\n",
              "      <th>1</th>\n",
              "      <td>55204538</td>\n",
              "      <td>Delayed Because of Accident</td>\n",
              "      <td>Andreas Rönnberg</td>\n",
              "      <td>rock</td>\n",
              "      <td>Moscow</td>\n",
              "      <td>14:07:09</td>\n",
              "      <td>Friday</td>\n",
              "    </tr>\n",
              "    <tr>\n",
              "      <th>2</th>\n",
              "      <td>20EC38</td>\n",
              "      <td>Funiculì funiculà</td>\n",
              "      <td>Mario Lanza</td>\n",
              "      <td>pop</td>\n",
              "      <td>Saint-Petersburg</td>\n",
              "      <td>20:58:07</td>\n",
              "      <td>Wednesday</td>\n",
              "    </tr>\n",
              "    <tr>\n",
              "      <th>3</th>\n",
              "      <td>A3DD03C9</td>\n",
              "      <td>Dragons in the Sunset</td>\n",
              "      <td>Fire + Ice</td>\n",
              "      <td>folk</td>\n",
              "      <td>Saint-Petersburg</td>\n",
              "      <td>08:37:09</td>\n",
              "      <td>Monday</td>\n",
              "    </tr>\n",
              "    <tr>\n",
              "      <th>4</th>\n",
              "      <td>E2DC1FAE</td>\n",
              "      <td>Soul People</td>\n",
              "      <td>Space Echo</td>\n",
              "      <td>dance</td>\n",
              "      <td>Moscow</td>\n",
              "      <td>08:34:34</td>\n",
              "      <td>Monday</td>\n",
              "    </tr>\n",
              "    <tr>\n",
              "      <th>5</th>\n",
              "      <td>842029A1</td>\n",
              "      <td>Преданная</td>\n",
              "      <td>IMPERVTOR</td>\n",
              "      <td>rusrap</td>\n",
              "      <td>Saint-Petersburg</td>\n",
              "      <td>13:09:41</td>\n",
              "      <td>Friday</td>\n",
              "    </tr>\n",
              "    <tr>\n",
              "      <th>6</th>\n",
              "      <td>4CB90AA5</td>\n",
              "      <td>True</td>\n",
              "      <td>Roman Messer</td>\n",
              "      <td>dance</td>\n",
              "      <td>Moscow</td>\n",
              "      <td>13:00:07</td>\n",
              "      <td>Wednesday</td>\n",
              "    </tr>\n",
              "    <tr>\n",
              "      <th>7</th>\n",
              "      <td>F03E1C1F</td>\n",
              "      <td>Feeling This Way</td>\n",
              "      <td>Polina Griffith</td>\n",
              "      <td>dance</td>\n",
              "      <td>Moscow</td>\n",
              "      <td>20:47:49</td>\n",
              "      <td>Wednesday</td>\n",
              "    </tr>\n",
              "    <tr>\n",
              "      <th>8</th>\n",
              "      <td>8FA1D3BE</td>\n",
              "      <td>И вновь продолжается бой</td>\n",
              "      <td>NaN</td>\n",
              "      <td>ruspop</td>\n",
              "      <td>Moscow</td>\n",
              "      <td>09:17:40</td>\n",
              "      <td>Friday</td>\n",
              "    </tr>\n",
              "    <tr>\n",
              "      <th>9</th>\n",
              "      <td>E772D5C0</td>\n",
              "      <td>Pessimist</td>\n",
              "      <td>NaN</td>\n",
              "      <td>dance</td>\n",
              "      <td>Saint-Petersburg</td>\n",
              "      <td>21:20:49</td>\n",
              "      <td>Wednesday</td>\n",
              "    </tr>\n",
              "  </tbody>\n",
              "</table>\n",
              "</div>"
            ],
            "text/plain": [
              "     userID                        Track            artist   genre  \\\n",
              "0  FFB692EC            Kamigata To Boots  The Mass Missile    rock   \n",
              "1  55204538  Delayed Because of Accident  Andreas Rönnberg    rock   \n",
              "2    20EC38            Funiculì funiculà       Mario Lanza     pop   \n",
              "3  A3DD03C9        Dragons in the Sunset        Fire + Ice    folk   \n",
              "4  E2DC1FAE                  Soul People        Space Echo   dance   \n",
              "5  842029A1                    Преданная         IMPERVTOR  rusrap   \n",
              "6  4CB90AA5                         True      Roman Messer   dance   \n",
              "7  F03E1C1F             Feeling This Way   Polina Griffith   dance   \n",
              "8  8FA1D3BE     И вновь продолжается бой               NaN  ruspop   \n",
              "9  E772D5C0                    Pessimist               NaN   dance   \n",
              "\n",
              "             City        time        Day  \n",
              "0  Saint-Petersburg  20:28:33  Wednesday  \n",
              "1            Moscow  14:07:09     Friday  \n",
              "2  Saint-Petersburg  20:58:07  Wednesday  \n",
              "3  Saint-Petersburg  08:37:09     Monday  \n",
              "4            Moscow  08:34:34     Monday  \n",
              "5  Saint-Petersburg  13:09:41     Friday  \n",
              "6            Moscow  13:00:07  Wednesday  \n",
              "7            Moscow  20:47:49  Wednesday  \n",
              "8            Moscow  09:17:40     Friday  \n",
              "9  Saint-Petersburg  21:20:49  Wednesday  "
            ]
          },
          "execution_count": 3,
          "metadata": {},
          "output_type": "execute_result"
        }
      ],
      "source": [
        "df.head(10) # получение первых 10 строк таблицы df"
      ]
    },
    {
      "cell_type": "code",
      "execution_count": null,
      "metadata": {
        "deletable": false,
        "id": "DSf2kIb-_Zct",
        "outputId": "d53cff33-ddd4-4c27-dfde-ab56fbb4cf99"
      },
      "outputs": [
        {
          "name": "stdout",
          "output_type": "stream",
          "text": [
            "<class 'pandas.core.frame.DataFrame'>\n",
            "RangeIndex: 65079 entries, 0 to 65078\n",
            "Data columns (total 7 columns):\n",
            " #   Column    Non-Null Count  Dtype \n",
            "---  ------    --------------  ----- \n",
            " 0     userID  65079 non-null  object\n",
            " 1   Track     63848 non-null  object\n",
            " 2   artist    57876 non-null  object\n",
            " 3   genre     63881 non-null  object\n",
            " 4     City    65079 non-null  object\n",
            " 5   time      65079 non-null  object\n",
            " 6   Day       65079 non-null  object\n",
            "dtypes: object(7)\n",
            "memory usage: 3.5+ MB\n"
          ]
        }
      ],
      "source": [
        "df.info() # получение общей информации о данных в таблице df"
      ]
    },
    {
      "cell_type": "markdown",
      "metadata": {
        "deletable": false,
        "editable": false,
        "id": "TaQ2Iwbr_Zct"
      },
      "source": [
        "Итак, в таблице семь столбцов. Тип данных во всех столбцах — `object`.\n",
        "\n",
        "Согласно документации к данным:\n",
        "* `userID` — идентификатор пользователя;\n",
        "* `Track` — название трека;  \n",
        "* `artist` — имя исполнителя;\n",
        "* `genre` — название жанра;\n",
        "* `City` — город пользователя;\n",
        "* `time` — время начала прослушивания;\n",
        "* `Day` — день недели.\n",
        "\n",
        "Количество значений в столбцах различается. Значит, в данных есть пропущенные значения."
      ]
    },
    {
      "cell_type": "markdown",
      "metadata": {
        "deletable": false,
        "editable": false,
        "id": "MCB6-dXG_Zct"
      },
      "source": [
        "**Выводы**\n",
        "\n",
        "В каждой строке таблицы — данные о прослушанном треке. Часть колонок описывает саму композицию: название, исполнителя и жанр. Остальные данные рассказывают о пользователе: из какого он города, когда он слушал музыку.\n",
        "\n",
        "Предварительно можно утверждать, что, данных достаточно для проверки гипотез. Но встречаются пропуски в данных, а в названиях колонок — расхождения с хорошим стилем.\n",
        "\n",
        "Чтобы двигаться дальше, нужно устранить проблемы в данных."
      ]
    },
    {
      "cell_type": "markdown",
      "metadata": {
        "deletable": false,
        "editable": false,
        "id": "SjYF6Ub9_Zct"
      },
      "source": [
        "## Предобработка данных"
      ]
    },
    {
      "cell_type": "markdown",
      "source": [
        "### Корректировка данных"
      ],
      "metadata": {
        "id": "xDWDgKedl8WH"
      }
    },
    {
      "cell_type": "code",
      "execution_count": null,
      "metadata": {
        "deletable": false,
        "id": "oKOTdF_Q_Zct",
        "outputId": "6e5862bb-abed-4148-c8af-f9853ea716da"
      },
      "outputs": [
        {
          "data": {
            "text/plain": [
              "Index(['  userID', 'Track', 'artist', 'genre', '  City  ', 'time', 'Day'], dtype='object')"
            ]
          },
          "execution_count": 6,
          "metadata": {},
          "output_type": "execute_result"
        }
      ],
      "source": [
        "df.columns # перечень названий столбцов таблицы df"
      ]
    },
    {
      "cell_type": "code",
      "execution_count": null,
      "metadata": {
        "deletable": false,
        "id": "ISlFqs5y_Zct"
      },
      "outputs": [],
      "source": [
        "df = df.rename(columns={\n",
        "    '  userID': 'user_id',\n",
        "    'Track': 'track',\n",
        "    '  City  ': 'city',\n",
        "    'Day': 'day'\n",
        "})# переименование столбцов"
      ]
    },
    {
      "cell_type": "code",
      "execution_count": null,
      "metadata": {
        "deletable": false,
        "id": "d4NOAmTW_Zct",
        "outputId": "dcb925ba-1004-4f31-de39-00b9e4c6fa61"
      },
      "outputs": [
        {
          "data": {
            "text/plain": [
              "Index(['user_id', 'track', 'artist', 'genre', 'city', 'time', 'day'], dtype='object')"
            ]
          },
          "execution_count": 8,
          "metadata": {},
          "output_type": "execute_result"
        }
      ],
      "source": [
        "df.columns# проверка результатов - перечень названий столбцов"
      ]
    },
    {
      "cell_type": "code",
      "execution_count": null,
      "metadata": {
        "deletable": false,
        "id": "RskX29qr_Zct",
        "outputId": "eb6249c8-fc8b-469e-c624-841d11581cd4"
      },
      "outputs": [
        {
          "data": {
            "text/plain": [
              "user_id       0\n",
              "track      1231\n",
              "artist     7203\n",
              "genre      1198\n",
              "city          0\n",
              "time          0\n",
              "day           0\n",
              "dtype: int64"
            ]
          },
          "execution_count": 9,
          "metadata": {},
          "output_type": "execute_result"
        }
      ],
      "source": [
        "df.isna().sum() # подсчёт пропусков"
      ]
    },
    {
      "cell_type": "code",
      "execution_count": null,
      "metadata": {
        "deletable": false,
        "id": "KplB5qWs_Zct"
      },
      "outputs": [],
      "source": [
        "columns_to_replace = ['track', 'artist', 'genre']\n",
        "\n",
        "for columns in columns_to_replace:\n",
        "    df[columns] = df[columns].fillna('unknown')\n",
        "        # перебор названий столбцов в цикле и замена пропущенных значений на 'unknown'"
      ]
    },
    {
      "cell_type": "code",
      "execution_count": null,
      "metadata": {
        "deletable": false,
        "id": "Tq4nYRX4_Zct",
        "outputId": "c9980c64-352a-4e4c-d684-632f3c0c469d"
      },
      "outputs": [
        {
          "data": {
            "text/plain": [
              "user_id    0\n",
              "track      0\n",
              "artist     0\n",
              "genre      0\n",
              "city       0\n",
              "time       0\n",
              "day        0\n",
              "dtype: int64"
            ]
          },
          "execution_count": 11,
          "metadata": {},
          "output_type": "execute_result"
        }
      ],
      "source": [
        "df.isna().sum() # подсчёт пропусков"
      ]
    },
    {
      "cell_type": "markdown",
      "metadata": {
        "deletable": false,
        "editable": false,
        "id": "BWKRtBJ3_Zct",
        "tags": [
          "start_task"
        ]
      },
      "source": [
        "### Дубликаты"
      ]
    },
    {
      "cell_type": "code",
      "execution_count": null,
      "metadata": {
        "deletable": false,
        "id": "36eES_S0_Zct",
        "outputId": "d08f95a7-cca3-4a99-9490-327684a760e1"
      },
      "outputs": [
        {
          "data": {
            "text/plain": [
              "3826"
            ]
          },
          "execution_count": 12,
          "metadata": {},
          "output_type": "execute_result"
        }
      ],
      "source": [
        "df.duplicated().sum() # подсчёт явных дубликатов"
      ]
    },
    {
      "cell_type": "code",
      "execution_count": null,
      "metadata": {
        "deletable": false,
        "id": "exFHq6tt_Zct"
      },
      "outputs": [],
      "source": [
        "df = df.drop_duplicates() # удаление явных дубликатов (с удалением старых индексов и формированием новых)"
      ]
    },
    {
      "cell_type": "code",
      "execution_count": null,
      "metadata": {
        "deletable": false,
        "id": "-8PuNWQ0_Zct",
        "outputId": "6b60b228-6cb9-4c41-8fa0-dcf4b47d4d41"
      },
      "outputs": [
        {
          "data": {
            "text/plain": [
              "0"
            ]
          },
          "execution_count": 14,
          "metadata": {},
          "output_type": "execute_result"
        }
      ],
      "source": [
        "df.duplicated().sum() # проверка на отсутствие дубликатов"
      ]
    },
    {
      "cell_type": "code",
      "execution_count": null,
      "metadata": {
        "deletable": false,
        "id": "JIUcqzZN_Zct",
        "outputId": "cd52fce4-5ca8-4477-b738-13bf8102ee38"
      },
      "outputs": [
        {
          "data": {
            "text/plain": [
              "array(['acid', 'acoustic', 'action', 'adult', 'africa', 'afrikaans',\n",
              "       'alternative', 'alternativepunk', 'ambient', 'americana',\n",
              "       'animated', 'anime', 'arabesk', 'arabic', 'arena',\n",
              "       'argentinetango', 'art', 'audiobook', 'author', 'avantgarde',\n",
              "       'axé', 'baile', 'balkan', 'beats', 'bigroom', 'black', 'bluegrass',\n",
              "       'blues', 'bollywood', 'bossa', 'brazilian', 'breakbeat', 'breaks',\n",
              "       'broadway', 'cantautori', 'cantopop', 'canzone', 'caribbean',\n",
              "       'caucasian', 'celtic', 'chamber', 'chanson', 'children', 'chill',\n",
              "       'chinese', 'choral', 'christian', 'christmas', 'classical',\n",
              "       'classicmetal', 'club', 'colombian', 'comedy', 'conjazz',\n",
              "       'contemporary', 'country', 'cuban', 'dance', 'dancehall',\n",
              "       'dancepop', 'dark', 'death', 'deep', 'deutschrock', 'deutschspr',\n",
              "       'dirty', 'disco', 'dnb', 'documentary', 'downbeat', 'downtempo',\n",
              "       'drum', 'dub', 'dubstep', 'eastern', 'easy', 'electronic',\n",
              "       'electropop', 'emo', 'entehno', 'epicmetal', 'estrada', 'ethnic',\n",
              "       'eurofolk', 'european', 'experimental', 'extrememetal', 'fado',\n",
              "       'fairytail', 'film', 'fitness', 'flamenco', 'folk', 'folklore',\n",
              "       'folkmetal', 'folkrock', 'folktronica', 'forró', 'frankreich',\n",
              "       'französisch', 'french', 'funk', 'future', 'gangsta', 'garage',\n",
              "       'german', 'ghazal', 'gitarre', 'glitch', 'gospel', 'gothic',\n",
              "       'grime', 'grunge', 'gypsy', 'handsup', \"hard'n'heavy\", 'hardcore',\n",
              "       'hardstyle', 'hardtechno', 'hip', 'hip-hop', 'hiphop',\n",
              "       'historisch', 'holiday', 'hop', 'horror', 'house', 'hymn', 'idm',\n",
              "       'independent', 'indian', 'indie', 'indipop', 'industrial',\n",
              "       'inspirational', 'instrumental', 'international', 'irish', 'jam',\n",
              "       'japanese', 'jazz', 'jewish', 'jpop', 'jungle', 'k-pop',\n",
              "       'karadeniz', 'karaoke', 'kayokyoku', 'korean', 'laiko', 'latin',\n",
              "       'latino', 'leftfield', 'local', 'lounge', 'loungeelectronic',\n",
              "       'lovers', 'malaysian', 'mandopop', 'marschmusik', 'meditative',\n",
              "       'mediterranean', 'melodic', 'metal', 'metalcore', 'mexican',\n",
              "       'middle', 'minimal', 'miscellaneous', 'modern', 'mood', 'mpb',\n",
              "       'muslim', 'native', 'neoklassik', 'neue', 'new', 'newage',\n",
              "       'newwave', 'nu', 'nujazz', 'numetal', 'oceania', 'old', 'opera',\n",
              "       'orchestral', 'other', 'piano', 'podcasts', 'pop', 'popdance',\n",
              "       'popelectronic', 'popeurodance', 'poprussian', 'post',\n",
              "       'posthardcore', 'postrock', 'power', 'progmetal', 'progressive',\n",
              "       'psychedelic', 'punjabi', 'punk', 'quebecois', 'ragga', 'ram',\n",
              "       'rancheras', 'rap', 'rave', 'reggae', 'reggaeton', 'regional',\n",
              "       'relax', 'religious', 'retro', 'rhythm', 'rnb', 'rnr', 'rock',\n",
              "       'rockabilly', 'rockalternative', 'rockindie', 'rockother',\n",
              "       'romance', 'roots', 'ruspop', 'rusrap', 'rusrock', 'russian',\n",
              "       'salsa', 'samba', 'scenic', 'schlager', 'self', 'sertanejo',\n",
              "       'shanson', 'shoegazing', 'showtunes', 'singer', 'ska', 'skarock',\n",
              "       'slow', 'smooth', 'soft', 'soul', 'soulful', 'sound', 'soundtrack',\n",
              "       'southern', 'specialty', 'speech', 'spiritual', 'sport',\n",
              "       'stonerrock', 'surf', 'swing', 'synthpop', 'synthrock',\n",
              "       'sängerportrait', 'tango', 'tanzorchester', 'taraftar', 'tatar',\n",
              "       'tech', 'techno', 'teen', 'thrash', 'top', 'traditional',\n",
              "       'tradjazz', 'trance', 'tribal', 'trip', 'triphop', 'tropical',\n",
              "       'türk', 'türkçe', 'ukrrock', 'unknown', 'urban', 'uzbek',\n",
              "       'variété', 'vi', 'videogame', 'vocal', 'western', 'world',\n",
              "       'worldbeat', 'ïîï', 'электроника'], dtype=object)"
            ]
          },
          "execution_count": 15,
          "metadata": {},
          "output_type": "execute_result"
        }
      ],
      "source": [
        "df['genre'].sort_values().unique()"
      ]
    },
    {
      "cell_type": "code",
      "execution_count": null,
      "metadata": {
        "deletable": false,
        "id": "ErNDkmns_Zct"
      },
      "outputs": [],
      "source": [
        "wrong_name = ['hip', 'hop', 'hip-hop']\n",
        "correct_name = 'hiphop'\n",
        "\n",
        "def replace_wrong_name(first, second):\n",
        "    for index in first:\n",
        "        df['genre'] = df['genre'].replace(index, second)\n",
        "\n",
        "\n",
        "replace_wrong_name(wrong_name, correct_name)\n",
        "# Устранение неявных дубликатов"
      ]
    },
    {
      "cell_type": "code",
      "execution_count": null,
      "metadata": {
        "deletable": false,
        "id": "wvixALnFG15m",
        "scrolled": false,
        "outputId": "4a935018-1470-4498-a5c3-62b8b7fc50b4"
      },
      "outputs": [
        {
          "data": {
            "text/plain": [
              "array(['acid', 'acoustic', 'action', 'adult', 'africa', 'afrikaans',\n",
              "       'alternative', 'alternativepunk', 'ambient', 'americana',\n",
              "       'animated', 'anime', 'arabesk', 'arabic', 'arena',\n",
              "       'argentinetango', 'art', 'audiobook', 'author', 'avantgarde',\n",
              "       'axé', 'baile', 'balkan', 'beats', 'bigroom', 'black', 'bluegrass',\n",
              "       'blues', 'bollywood', 'bossa', 'brazilian', 'breakbeat', 'breaks',\n",
              "       'broadway', 'cantautori', 'cantopop', 'canzone', 'caribbean',\n",
              "       'caucasian', 'celtic', 'chamber', 'chanson', 'children', 'chill',\n",
              "       'chinese', 'choral', 'christian', 'christmas', 'classical',\n",
              "       'classicmetal', 'club', 'colombian', 'comedy', 'conjazz',\n",
              "       'contemporary', 'country', 'cuban', 'dance', 'dancehall',\n",
              "       'dancepop', 'dark', 'death', 'deep', 'deutschrock', 'deutschspr',\n",
              "       'dirty', 'disco', 'dnb', 'documentary', 'downbeat', 'downtempo',\n",
              "       'drum', 'dub', 'dubstep', 'eastern', 'easy', 'electronic',\n",
              "       'electropop', 'emo', 'entehno', 'epicmetal', 'estrada', 'ethnic',\n",
              "       'eurofolk', 'european', 'experimental', 'extrememetal', 'fado',\n",
              "       'fairytail', 'film', 'fitness', 'flamenco', 'folk', 'folklore',\n",
              "       'folkmetal', 'folkrock', 'folktronica', 'forró', 'frankreich',\n",
              "       'französisch', 'french', 'funk', 'future', 'gangsta', 'garage',\n",
              "       'german', 'ghazal', 'gitarre', 'glitch', 'gospel', 'gothic',\n",
              "       'grime', 'grunge', 'gypsy', 'handsup', \"hard'n'heavy\", 'hardcore',\n",
              "       'hardstyle', 'hardtechno', 'hiphop', 'historisch', 'holiday',\n",
              "       'horror', 'house', 'hymn', 'idm', 'independent', 'indian', 'indie',\n",
              "       'indipop', 'industrial', 'inspirational', 'instrumental',\n",
              "       'international', 'irish', 'jam', 'japanese', 'jazz', 'jewish',\n",
              "       'jpop', 'jungle', 'k-pop', 'karadeniz', 'karaoke', 'kayokyoku',\n",
              "       'korean', 'laiko', 'latin', 'latino', 'leftfield', 'local',\n",
              "       'lounge', 'loungeelectronic', 'lovers', 'malaysian', 'mandopop',\n",
              "       'marschmusik', 'meditative', 'mediterranean', 'melodic', 'metal',\n",
              "       'metalcore', 'mexican', 'middle', 'minimal', 'miscellaneous',\n",
              "       'modern', 'mood', 'mpb', 'muslim', 'native', 'neoklassik', 'neue',\n",
              "       'new', 'newage', 'newwave', 'nu', 'nujazz', 'numetal', 'oceania',\n",
              "       'old', 'opera', 'orchestral', 'other', 'piano', 'podcasts', 'pop',\n",
              "       'popdance', 'popelectronic', 'popeurodance', 'poprussian', 'post',\n",
              "       'posthardcore', 'postrock', 'power', 'progmetal', 'progressive',\n",
              "       'psychedelic', 'punjabi', 'punk', 'quebecois', 'ragga', 'ram',\n",
              "       'rancheras', 'rap', 'rave', 'reggae', 'reggaeton', 'regional',\n",
              "       'relax', 'religious', 'retro', 'rhythm', 'rnb', 'rnr', 'rock',\n",
              "       'rockabilly', 'rockalternative', 'rockindie', 'rockother',\n",
              "       'romance', 'roots', 'ruspop', 'rusrap', 'rusrock', 'russian',\n",
              "       'salsa', 'samba', 'scenic', 'schlager', 'self', 'sertanejo',\n",
              "       'shanson', 'shoegazing', 'showtunes', 'singer', 'ska', 'skarock',\n",
              "       'slow', 'smooth', 'soft', 'soul', 'soulful', 'sound', 'soundtrack',\n",
              "       'southern', 'specialty', 'speech', 'spiritual', 'sport',\n",
              "       'stonerrock', 'surf', 'swing', 'synthpop', 'synthrock',\n",
              "       'sängerportrait', 'tango', 'tanzorchester', 'taraftar', 'tatar',\n",
              "       'tech', 'techno', 'teen', 'thrash', 'top', 'traditional',\n",
              "       'tradjazz', 'trance', 'tribal', 'trip', 'triphop', 'tropical',\n",
              "       'türk', 'türkçe', 'ukrrock', 'unknown', 'urban', 'uzbek',\n",
              "       'variété', 'vi', 'videogame', 'vocal', 'western', 'world',\n",
              "       'worldbeat', 'ïîï', 'электроника'], dtype=object)"
            ]
          },
          "execution_count": 17,
          "metadata": {},
          "output_type": "execute_result"
        }
      ],
      "source": [
        "# Проверка на неявные дубликаты\n",
        "df['genre'].sort_values().unique()"
      ]
    },
    {
      "cell_type": "markdown",
      "metadata": {
        "deletable": false,
        "editable": false,
        "id": "jz6a9-7HQUDd"
      },
      "source": [
        "**Выводы**\n",
        "\n",
        "Предобработка обнаружила три проблемы в данных:\n",
        "\n",
        "- нарушения в стиле заголовков,\n",
        "- пропущенные значения,\n",
        "- дубликаты — явные и неявные.\n",
        "\n",
        "Вы исправили заголовки, чтобы упростить работу с таблицей. Без дубликатов исследование станет более точным.\n",
        "\n",
        "Пропущенные значения вы заменили на `'unknown'`. Ещё предстоит увидеть, не повредят ли исследованию пропуски в колонке `genre`.\n",
        "\n",
        "Теперь можно перейти к проверке гипотез."
      ]
    },
    {
      "cell_type": "markdown",
      "metadata": {
        "deletable": false,
        "editable": false,
        "id": "WttZHXH0SqKk"
      },
      "source": [
        "## Проверка гипотез"
      ]
    },
    {
      "cell_type": "markdown",
      "metadata": {
        "deletable": false,
        "editable": false,
        "id": "Im936VVi_Zcu"
      },
      "source": [
        "### Сравнение поведения пользователей двух столиц"
      ]
    },
    {
      "cell_type": "markdown",
      "metadata": {
        "deletable": false,
        "editable": false,
        "id": "nwt_MuaL_Zcu"
      },
      "source": [
        "Первая гипотеза утверждает, что пользователи по-разному слушают музыку в Москве и Санкт-Петербурге."
      ]
    },
    {
      "cell_type": "code",
      "execution_count": null,
      "metadata": {
        "deletable": false,
        "id": "0_Qs96oh_Zcu",
        "outputId": "e91fd19b-d9d1-425b-bcd8-134c05d035cf"
      },
      "outputs": [
        {
          "data": {
            "text/plain": [
              "city\n",
              "Moscow              42741\n",
              "Saint-Petersburg    18512\n",
              "Name: genre, dtype: int64"
            ]
          },
          "execution_count": 40,
          "metadata": {},
          "output_type": "execute_result"
        }
      ],
      "source": [
        "# Подсчёт прослушиваний в каждом городе\n",
        "df.groupby('city')['genre'].count()"
      ]
    },
    {
      "cell_type": "markdown",
      "metadata": {
        "deletable": false,
        "editable": false,
        "id": "dzli3w8o_Zcu",
        "tags": [
          "start_task"
        ]
      },
      "source": [
        "В Москве прослушиваний больше, чем в Петербурге. Из этого не следует, что московские пользователи чаще слушают музыку. Просто самих пользователей в Москве больше."
      ]
    },
    {
      "cell_type": "code",
      "execution_count": null,
      "metadata": {
        "deletable": false,
        "id": "uZMKjiJz_Zcu",
        "outputId": "12978b7b-17ff-43b8-9b86-4d2febfb2058"
      },
      "outputs": [
        {
          "data": {
            "text/plain": [
              "day\n",
              "Friday       21840\n",
              "Monday       21354\n",
              "Wednesday    18059\n",
              "Name: genre, dtype: int64"
            ]
          },
          "execution_count": 41,
          "metadata": {},
          "output_type": "execute_result"
        }
      ],
      "source": [
        "# Подсчёт прослушиваний в каждый из трёх дней\n",
        "df.groupby('day')['genre'].count()"
      ]
    },
    {
      "cell_type": "markdown",
      "metadata": {
        "deletable": false,
        "editable": false,
        "id": "cC2tNrlL_Zcu"
      },
      "source": [
        "В среднем пользователи из двух городов менее активны по средам. Но картина может измениться, если рассмотреть каждый город в отдельности."
      ]
    },
    {
      "cell_type": "code",
      "execution_count": null,
      "metadata": {
        "deletable": false,
        "id": "Nz3GdQB1_Zcu"
      },
      "outputs": [],
      "source": [
        "def number_tracks(day, city):\n",
        "    track_list = df[(df['day'] == day) & (df['city'] == city)]\n",
        "    track_list_count = track_list['user_id'].count()\n",
        "    return track_list_count\n",
        "\n",
        "# Функция для подсчёта прослушиваний для конкретного города и дня.\n",
        "# С помощью последовательной фильтрации с логической индексацией она\n",
        "# сначала получит из исходной таблицы строки с нужным днём,\n",
        "# затем из результата отфильтрует строки с нужным городом,\n",
        "# методом count() посчитает количество значений в колонке user_id.\n",
        "# Это количество функция вернёт в качестве результата"
      ]
    },
    {
      "cell_type": "code",
      "execution_count": null,
      "metadata": {
        "deletable": false,
        "id": "rJcRATNQ_Zcu",
        "outputId": "2ff0e94c-0859-4815-87fc-1d4eb28fd9e4"
      },
      "outputs": [
        {
          "data": {
            "text/plain": [
              "15740"
            ]
          },
          "execution_count": 21,
          "metadata": {},
          "output_type": "execute_result"
        }
      ],
      "source": [
        "number_tracks('Monday', 'Moscow') # количество прослушиваний в Москве по понедельникам"
      ]
    },
    {
      "cell_type": "code",
      "execution_count": null,
      "metadata": {
        "deletable": false,
        "id": "hq_ncZ5T_Zcu",
        "outputId": "819bc574-0be5-4460-dd43-bbf2ee571381"
      },
      "outputs": [
        {
          "data": {
            "text/plain": [
              "5614"
            ]
          },
          "execution_count": 22,
          "metadata": {},
          "output_type": "execute_result"
        }
      ],
      "source": [
        "number_tracks('Monday', 'Saint-Petersburg') # количество прослушиваний в Санкт-Петербурге по понедельникам"
      ]
    },
    {
      "cell_type": "code",
      "execution_count": null,
      "metadata": {
        "deletable": false,
        "id": "_NTy2VPU_Zcu",
        "outputId": "25e037cf-5b2c-46c4-84de-391b8b49f30a"
      },
      "outputs": [
        {
          "data": {
            "text/plain": [
              "11056"
            ]
          },
          "execution_count": 23,
          "metadata": {},
          "output_type": "execute_result"
        }
      ],
      "source": [
        "number_tracks('Wednesday', 'Moscow') # количество прослушиваний в Москве по средам"
      ]
    },
    {
      "cell_type": "code",
      "execution_count": null,
      "metadata": {
        "deletable": false,
        "id": "j2y3TAwo_Zcu",
        "outputId": "42e8e10e-c699-4c23-98ae-84abcc62d6cc"
      },
      "outputs": [
        {
          "data": {
            "text/plain": [
              "7003"
            ]
          },
          "execution_count": 24,
          "metadata": {},
          "output_type": "execute_result"
        }
      ],
      "source": [
        "number_tracks('Wednesday', 'Saint-Petersburg') # количество прослушиваний в Санкт-Петербурге по средам"
      ]
    },
    {
      "cell_type": "code",
      "execution_count": null,
      "metadata": {
        "deletable": false,
        "id": "vYDw5u_K_Zcu",
        "outputId": "b0767c0e-8513-4d59-b9d5-9943f47300d8"
      },
      "outputs": [
        {
          "data": {
            "text/plain": [
              "15945"
            ]
          },
          "execution_count": 25,
          "metadata": {},
          "output_type": "execute_result"
        }
      ],
      "source": [
        "number_tracks('Friday', 'Moscow') # количество прослушиваний в Москве по пятницам"
      ]
    },
    {
      "cell_type": "code",
      "execution_count": null,
      "metadata": {
        "deletable": false,
        "id": "8_yzFtW3_Zcu",
        "outputId": "68c62743-a218-4193-b24f-02e8d9f7b63c"
      },
      "outputs": [
        {
          "data": {
            "text/plain": [
              "5895"
            ]
          },
          "execution_count": 26,
          "metadata": {},
          "output_type": "execute_result"
        }
      ],
      "source": [
        "number_tracks('Friday', 'Saint-Petersburg') # количество прослушиваний в Санкт-Петербурге по пятницам"
      ]
    },
    {
      "cell_type": "code",
      "execution_count": null,
      "metadata": {
        "deletable": false,
        "id": "APAcLpOr_Zcu",
        "outputId": "69a0bcd9-3cdf-4b81-cca5-94acf8cbaaed"
      },
      "outputs": [
        {
          "data": {
            "text/html": [
              "<div>\n",
              "<style scoped>\n",
              "    .dataframe tbody tr th:only-of-type {\n",
              "        vertical-align: middle;\n",
              "    }\n",
              "\n",
              "    .dataframe tbody tr th {\n",
              "        vertical-align: top;\n",
              "    }\n",
              "\n",
              "    .dataframe thead th {\n",
              "        text-align: right;\n",
              "    }\n",
              "</style>\n",
              "<table border=\"1\" class=\"dataframe\">\n",
              "  <thead>\n",
              "    <tr style=\"text-align: right;\">\n",
              "      <th></th>\n",
              "      <th>city</th>\n",
              "      <th>monday</th>\n",
              "      <th>wednesday</th>\n",
              "      <th>friday</th>\n",
              "    </tr>\n",
              "  </thead>\n",
              "  <tbody>\n",
              "    <tr>\n",
              "      <th>0</th>\n",
              "      <td>Moscow</td>\n",
              "      <td>15740</td>\n",
              "      <td>11056</td>\n",
              "      <td>15945</td>\n",
              "    </tr>\n",
              "    <tr>\n",
              "      <th>1</th>\n",
              "      <td>Saint-Petersburg</td>\n",
              "      <td>5614</td>\n",
              "      <td>7003</td>\n",
              "      <td>5895</td>\n",
              "    </tr>\n",
              "  </tbody>\n",
              "</table>\n",
              "</div>"
            ],
            "text/plain": [
              "               city  monday  wednesday  friday\n",
              "0            Moscow   15740      11056   15945\n",
              "1  Saint-Petersburg    5614       7003    5895"
            ]
          },
          "execution_count": 27,
          "metadata": {},
          "output_type": "execute_result"
        }
      ],
      "source": [
        "# Таблица с результатами\n",
        "data = [['Moscow', 15740, 11056, 15945], ['Saint-Petersburg', 5614, 7003, 5895]]\n",
        "columns = ['city', 'monday', 'wednesday', 'friday']\n",
        "\n",
        "table = pd.DataFrame(data=data, columns=columns)\n",
        "table"
      ]
    },
    {
      "cell_type": "markdown",
      "metadata": {
        "deletable": false,
        "editable": false,
        "id": "-EgPIHYu_Zcu"
      },
      "source": [
        "**Выводы**\n",
        "\n",
        "Данные показывают разницу поведения пользователей:\n",
        "\n",
        "- В Москве пик прослушиваний приходится на понедельник и пятницу, а в среду заметен спад.\n",
        "- В Петербурге, наоборот, больше слушают музыку по средам. Активность в понедельник и пятницу здесь почти в равной мере уступает среде.\n",
        "\n",
        "Значит, данные говорят в пользу первой гипотезы."
      ]
    },
    {
      "cell_type": "markdown",
      "metadata": {
        "deletable": false,
        "editable": false,
        "id": "atZAxtq4_Zcu"
      },
      "source": [
        "### Музыка в начале и в конце недели"
      ]
    },
    {
      "cell_type": "markdown",
      "metadata": {
        "deletable": false,
        "editable": false,
        "id": "eXrQqXFH_Zcu"
      },
      "source": [
        "Согласно второй гипотезе, утром в понедельник в Москве преобладают одни жанры, а в Петербурге — другие. Так же и вечером пятницы преобладают разные жанры — в зависимости от города."
      ]
    },
    {
      "cell_type": "code",
      "execution_count": null,
      "metadata": {
        "deletable": false,
        "id": "qeaFfM_P_Zcu"
      },
      "outputs": [],
      "source": [
        "# получение таблицы moscow_general из тех строк таблицы df,\n",
        "# для которых значение в столбце 'city' равно 'Moscow'\n",
        "moscow_general = df[df['city'] == 'Moscow']"
      ]
    },
    {
      "cell_type": "code",
      "execution_count": null,
      "metadata": {
        "deletable": false,
        "id": "ORaVRKto_Zcu"
      },
      "outputs": [],
      "source": [
        "# получение таблицы spb_general из тех строк таблицы df,\n",
        "# для которых значение в столбце 'city' равно 'Saint-Petersburg'\n",
        "spb_general = df[df['city'] == 'Saint-Petersburg']"
      ]
    },
    {
      "cell_type": "code",
      "execution_count": null,
      "metadata": {
        "deletable": false,
        "id": "laJT9BYl_Zcu"
      },
      "outputs": [],
      "source": [
        "def genre_weekday(df, day, time1, time2):\n",
        "    genre_df = df[df['day'] == day]\n",
        "    genre_df = genre_df[genre_df['time'] < time2]\n",
        "    genre_df = genre_df[genre_df['time'] > time1]\n",
        "    genre_df_grouped = genre_df.groupby('genre')['genre'].count()\n",
        "    genre_df_sorted = genre_df_grouped.sort_values(ascending=False)\n",
        "    return genre_df_sorted[:10]"
      ]
    },
    {
      "cell_type": "code",
      "execution_count": null,
      "metadata": {
        "deletable": false,
        "id": "yz7itPUQ_Zcu",
        "outputId": "b9e7509b-d1c4-4cac-b5b4-6fe58c43ef16"
      },
      "outputs": [
        {
          "data": {
            "text/plain": [
              "genre\n",
              "pop            781\n",
              "dance          549\n",
              "electronic     480\n",
              "rock           474\n",
              "hiphop         286\n",
              "ruspop         186\n",
              "world          181\n",
              "rusrap         175\n",
              "alternative    164\n",
              "unknown        161\n",
              "Name: genre, dtype: int64"
            ]
          },
          "execution_count": 31,
          "metadata": {},
          "output_type": "execute_result"
        }
      ],
      "source": [
        "genre_weekday(moscow_general, 'Monday', '07:00', '11:00')"
      ]
    },
    {
      "cell_type": "code",
      "execution_count": null,
      "metadata": {
        "deletable": false,
        "id": "kwUcHPdy_Zcu",
        "outputId": "678ee5e8-5347-465d-e597-a4a15a272d88"
      },
      "outputs": [
        {
          "data": {
            "text/plain": [
              "genre\n",
              "pop            218\n",
              "dance          182\n",
              "rock           162\n",
              "electronic     147\n",
              "hiphop          80\n",
              "ruspop          64\n",
              "alternative     58\n",
              "rusrap          55\n",
              "jazz            44\n",
              "classical       40\n",
              "Name: genre, dtype: int64"
            ]
          },
          "execution_count": 32,
          "metadata": {},
          "output_type": "execute_result"
        }
      ],
      "source": [
        "genre_weekday(spb_general, 'Monday', '07:00', '11:00')"
      ]
    },
    {
      "cell_type": "code",
      "execution_count": null,
      "metadata": {
        "deletable": false,
        "id": "EzXVRE1o_Zcu",
        "outputId": "ec9be8a3-375b-4a22-fc3c-ae56da8283d9"
      },
      "outputs": [
        {
          "data": {
            "text/plain": [
              "genre\n",
              "pop            713\n",
              "rock           517\n",
              "dance          495\n",
              "electronic     482\n",
              "hiphop         273\n",
              "world          208\n",
              "ruspop         170\n",
              "alternative    163\n",
              "classical      163\n",
              "rusrap         142\n",
              "Name: genre, dtype: int64"
            ]
          },
          "execution_count": 33,
          "metadata": {},
          "output_type": "execute_result"
        }
      ],
      "source": [
        "genre_weekday(moscow_general, 'Friday', '17:00', '23:00')"
      ]
    },
    {
      "cell_type": "code",
      "execution_count": null,
      "metadata": {
        "deletable": false,
        "id": "JZaEKu5v_Zcu",
        "outputId": "407fee67-7256-45dc-f686-d15dcbce6bd1"
      },
      "outputs": [
        {
          "data": {
            "text/plain": [
              "genre\n",
              "pop            256\n",
              "electronic     216\n",
              "rock           216\n",
              "dance          210\n",
              "hiphop          97\n",
              "alternative     63\n",
              "jazz            61\n",
              "classical       60\n",
              "rusrap          59\n",
              "world           54\n",
              "Name: genre, dtype: int64"
            ]
          },
          "execution_count": 34,
          "metadata": {},
          "output_type": "execute_result"
        }
      ],
      "source": [
        "genre_weekday(spb_general, 'Friday', '17:00', '23:00')"
      ]
    },
    {
      "cell_type": "markdown",
      "metadata": {
        "deletable": false,
        "editable": false,
        "id": "wrCe4MNX_Zcu"
      },
      "source": [
        "**Выводы**\n",
        "\n",
        "Если сравнить топ-10 жанров в понедельник утром, можно сделать такие выводы:\n",
        "\n",
        "1. В Москве и Петербурге слушают похожую музыку. Единственное отличие — в московский рейтинг вошёл жанр “world”, а в петербургский — джаз и классика.\n",
        "\n",
        "2. В Москве пропущенных значений оказалось так много, что значение `'unknown'` заняло десятое место среди самых популярных жанров. Значит, пропущенные значения занимают существенную долю в данных и угрожают достоверности исследования.\n",
        "\n",
        "Вечер пятницы не меняет эту картину. Некоторые жанры поднимаются немного выше, другие спускаются, но в целом топ-10 остаётся тем же самым.\n",
        "\n",
        "Таким образом, вторая гипотеза подтвердилась лишь частично:\n",
        "* Пользователи слушают похожую музыку в начале недели и в конце.\n",
        "* Разница между Москвой и Петербургом не слишком выражена. В Москве чаще слушают русскую популярную музыку, в Петербурге — джаз.\n",
        "\n",
        "Однако пропуски в данных ставят под сомнение этот результат. В Москве их так много, что рейтинг топ-10 мог бы выглядеть иначе, если бы не утерянные  данные о жанрах."
      ]
    },
    {
      "cell_type": "markdown",
      "metadata": {
        "deletable": false,
        "editable": false,
        "id": "JolODAqr_Zcu"
      },
      "source": [
        "### Жанровые предпочтения в Москве и Петербурге\n",
        "\n",
        "Гипотеза: Петербург — столица рэпа, музыку этого жанра там слушают чаще, чем в Москве.  А Москва — город контрастов, в котором, тем не менее, преобладает поп-музыка."
      ]
    },
    {
      "cell_type": "code",
      "execution_count": null,
      "metadata": {
        "deletable": false,
        "id": "r19lIPke_Zcu"
      },
      "outputs": [],
      "source": [
        "moscow_genres = moscow_general.groupby('genre')['genre'].count()\n",
        "moscow_genres = moscow_genres.sort_values(ascending=False)"
      ]
    },
    {
      "cell_type": "code",
      "execution_count": null,
      "metadata": {
        "deletable": false,
        "id": "WhCSooF8_Zcv",
        "outputId": "e85d3968-4555-4c5e-ae33-e481344ebbef"
      },
      "outputs": [
        {
          "data": {
            "text/plain": [
              "genre\n",
              "pop            5892\n",
              "dance          4435\n",
              "rock           3965\n",
              "electronic     3786\n",
              "hiphop         2096\n",
              "classical      1616\n",
              "world          1432\n",
              "alternative    1379\n",
              "ruspop         1372\n",
              "rusrap         1161\n",
              "Name: genre, dtype: int64"
            ]
          },
          "execution_count": 36,
          "metadata": {},
          "output_type": "execute_result"
        }
      ],
      "source": [
        "moscow_genres.head(10)"
      ]
    },
    {
      "cell_type": "code",
      "execution_count": null,
      "metadata": {
        "deletable": false,
        "id": "gluLIpE7_Zcv"
      },
      "outputs": [],
      "source": [
        "spb_genres = spb_general.groupby('genre')['genre'].count()\n",
        "spb_genres = spb_genres.sort_values(ascending=False)"
      ]
    },
    {
      "cell_type": "code",
      "execution_count": null,
      "metadata": {
        "deletable": false,
        "id": "uaGJHjVU_Zcv",
        "outputId": "9d8b1aaa-7947-4a0b-e355-4571fd030ed7"
      },
      "outputs": [
        {
          "data": {
            "text/plain": [
              "genre\n",
              "pop            2431\n",
              "dance          1932\n",
              "rock           1879\n",
              "electronic     1736\n",
              "hiphop          960\n",
              "alternative     649\n",
              "classical       646\n",
              "rusrap          564\n",
              "ruspop          538\n",
              "world           515\n",
              "Name: genre, dtype: int64"
            ]
          },
          "execution_count": 38,
          "metadata": {},
          "output_type": "execute_result"
        }
      ],
      "source": [
        "spb_genres.head(10)"
      ]
    },
    {
      "cell_type": "markdown",
      "metadata": {
        "deletable": false,
        "editable": false,
        "id": "RY51YJYu_Zcv"
      },
      "source": [
        "**Выводы**"
      ]
    },
    {
      "cell_type": "markdown",
      "metadata": {
        "deletable": false,
        "editable": false,
        "id": "nVhnJEm__Zcv"
      },
      "source": [
        "Гипотеза частично подтвердилась:\n",
        "* Поп-музыка — самый популярный жанр в Москве, как и предполагала гипотеза. Более того, в топ-10 жанров встречается близкий жанр — русская популярная музыка.\n",
        "* Вопреки ожиданиям, рэп одинаково популярен в Москве и Петербурге.\n"
      ]
    },
    {
      "cell_type": "markdown",
      "metadata": {
        "deletable": false,
        "editable": false,
        "id": "ykKQ0N65_Zcv"
      },
      "source": [
        "## Итоги исследования"
      ]
    },
    {
      "cell_type": "markdown",
      "metadata": {
        "deletable": false,
        "editable": false,
        "id": "tjUwbHb3_Zcv"
      },
      "source": [
        "Вы проверили три гипотезы и установили:\n",
        "\n",
        "1. День недели по-разному влияет на активность пользователей в Москве и Петербурге.\n",
        "\n",
        "Первая гипотеза полностью подтвердилась.\n",
        "\n",
        "2. Музыкальные предпочтения не сильно меняются в течение недели — будь то Москва или Петербург. Небольшие различия заметны в начале недели, по понедельникам:\n",
        "* в Москве слушают музыку жанра “world”,\n",
        "* в Петербурге — джаз и классику.\n",
        "\n",
        "Таким образом, вторая гипотеза подтвердилась лишь отчасти. Этот результат мог оказаться иным, если бы не пропуски в данных.\n",
        "\n",
        "3. Во вкусах пользователей Москвы и Петербурга больше общего чем различий. Вопреки ожиданиям, предпочтения жанров в Петербурге напоминают московские.\n",
        "\n",
        "Третья гипотеза не подтвердилась. Если различия в предпочтениях и существуют, на основной массе пользователей они незаметны."
      ]
    }
  ],
  "metadata": {
    "ExecuteTimeLog": [
      {
        "duration": 47,
        "start_time": "2023-03-01T05:47:05.600Z"
      },
      {
        "duration": 430,
        "start_time": "2023-03-01T05:47:17.077Z"
      },
      {
        "duration": 51,
        "start_time": "2023-03-02T05:23:03.990Z"
      },
      {
        "duration": 394,
        "start_time": "2023-03-02T05:23:15.556Z"
      },
      {
        "duration": 232,
        "start_time": "2023-03-02T05:23:17.768Z"
      },
      {
        "duration": 17,
        "start_time": "2023-03-02T05:23:29.191Z"
      },
      {
        "duration": 33,
        "start_time": "2023-03-02T05:23:40.919Z"
      },
      {
        "duration": 4,
        "start_time": "2023-03-02T05:30:13.457Z"
      },
      {
        "duration": 12,
        "start_time": "2023-03-02T05:32:50.694Z"
      },
      {
        "duration": 4,
        "start_time": "2023-03-02T05:33:00.753Z"
      },
      {
        "duration": 26,
        "start_time": "2023-03-02T05:34:30.946Z"
      },
      {
        "duration": 18,
        "start_time": "2023-03-02T05:59:10.586Z"
      },
      {
        "duration": 27,
        "start_time": "2023-03-02T05:59:40.807Z"
      },
      {
        "duration": 29,
        "start_time": "2023-03-02T06:06:09.698Z"
      },
      {
        "duration": 982,
        "start_time": "2023-03-02T06:06:55.518Z"
      },
      {
        "duration": 818,
        "start_time": "2023-03-02T06:07:34.472Z"
      },
      {
        "duration": 8,
        "start_time": "2023-03-02T06:08:10.845Z"
      },
      {
        "duration": 8,
        "start_time": "2023-03-02T06:10:28.913Z"
      },
      {
        "duration": 18,
        "start_time": "2023-03-02T06:11:21.626Z"
      },
      {
        "duration": 32,
        "start_time": "2023-03-02T06:11:24.557Z"
      },
      {
        "duration": 45,
        "start_time": "2023-03-02T06:11:33.513Z"
      },
      {
        "duration": 28,
        "start_time": "2023-03-02T06:11:35.578Z"
      },
      {
        "duration": 738,
        "start_time": "2023-03-02T06:13:54.860Z"
      },
      {
        "duration": 62,
        "start_time": "2023-03-02T19:00:24.755Z"
      },
      {
        "duration": 7,
        "start_time": "2023-03-02T19:00:34.870Z"
      },
      {
        "duration": 7,
        "start_time": "2023-03-02T19:00:42.911Z"
      },
      {
        "duration": 405,
        "start_time": "2023-03-02T19:01:00.440Z"
      },
      {
        "duration": 485,
        "start_time": "2023-03-02T19:01:01.577Z"
      },
      {
        "duration": 18,
        "start_time": "2023-03-02T19:01:03.078Z"
      },
      {
        "duration": 32,
        "start_time": "2023-03-02T19:01:04.014Z"
      },
      {
        "duration": 3,
        "start_time": "2023-03-02T19:01:05.395Z"
      },
      {
        "duration": 5,
        "start_time": "2023-03-02T19:01:07.313Z"
      },
      {
        "duration": 10,
        "start_time": "2023-03-02T19:01:09.172Z"
      },
      {
        "duration": 4,
        "start_time": "2023-03-02T19:01:10.693Z"
      },
      {
        "duration": 23,
        "start_time": "2023-03-02T19:01:12.978Z"
      },
      {
        "duration": 1274,
        "start_time": "2023-03-02T19:01:15.545Z"
      },
      {
        "duration": 1311,
        "start_time": "2023-03-02T19:02:13.934Z"
      },
      {
        "duration": 7,
        "start_time": "2023-03-02T19:02:23.398Z"
      },
      {
        "duration": 364,
        "start_time": "2023-03-03T05:26:26.008Z"
      },
      {
        "duration": 282,
        "start_time": "2023-03-03T05:26:26.374Z"
      },
      {
        "duration": 19,
        "start_time": "2023-03-03T05:26:26.658Z"
      },
      {
        "duration": 31,
        "start_time": "2023-03-03T05:26:26.678Z"
      },
      {
        "duration": 2,
        "start_time": "2023-03-03T05:26:26.711Z"
      },
      {
        "duration": 7,
        "start_time": "2023-03-03T05:26:26.715Z"
      },
      {
        "duration": 29,
        "start_time": "2023-03-03T05:26:26.723Z"
      },
      {
        "duration": 5,
        "start_time": "2023-03-03T05:26:26.753Z"
      },
      {
        "duration": 27,
        "start_time": "2023-03-03T05:26:26.760Z"
      },
      {
        "duration": 75,
        "start_time": "2023-03-03T05:26:26.789Z"
      },
      {
        "duration": 0,
        "start_time": "2023-03-03T05:26:26.867Z"
      },
      {
        "duration": 0,
        "start_time": "2023-03-03T05:26:26.869Z"
      },
      {
        "duration": 0,
        "start_time": "2023-03-03T05:26:26.870Z"
      },
      {
        "duration": 0,
        "start_time": "2023-03-03T05:26:26.871Z"
      },
      {
        "duration": 0,
        "start_time": "2023-03-03T05:26:26.872Z"
      },
      {
        "duration": 0,
        "start_time": "2023-03-03T05:26:26.873Z"
      },
      {
        "duration": 0,
        "start_time": "2023-03-03T05:26:26.874Z"
      },
      {
        "duration": 0,
        "start_time": "2023-03-03T05:26:26.875Z"
      },
      {
        "duration": 0,
        "start_time": "2023-03-03T05:26:26.876Z"
      },
      {
        "duration": 0,
        "start_time": "2023-03-03T05:26:26.877Z"
      },
      {
        "duration": 0,
        "start_time": "2023-03-03T05:26:26.878Z"
      },
      {
        "duration": 0,
        "start_time": "2023-03-03T05:26:26.879Z"
      },
      {
        "duration": 0,
        "start_time": "2023-03-03T05:26:26.879Z"
      },
      {
        "duration": 0,
        "start_time": "2023-03-03T05:26:26.880Z"
      },
      {
        "duration": 0,
        "start_time": "2023-03-03T05:26:26.881Z"
      },
      {
        "duration": 0,
        "start_time": "2023-03-03T05:26:26.882Z"
      },
      {
        "duration": 0,
        "start_time": "2023-03-03T05:26:26.883Z"
      },
      {
        "duration": 0,
        "start_time": "2023-03-03T05:26:26.884Z"
      },
      {
        "duration": 0,
        "start_time": "2023-03-03T05:26:26.885Z"
      },
      {
        "duration": 0,
        "start_time": "2023-03-03T05:26:26.886Z"
      },
      {
        "duration": 0,
        "start_time": "2023-03-03T05:26:26.887Z"
      },
      {
        "duration": 0,
        "start_time": "2023-03-03T05:26:26.888Z"
      },
      {
        "duration": 0,
        "start_time": "2023-03-03T05:26:26.888Z"
      },
      {
        "duration": 0,
        "start_time": "2023-03-03T05:26:26.889Z"
      },
      {
        "duration": 0,
        "start_time": "2023-03-03T05:26:26.890Z"
      },
      {
        "duration": 0,
        "start_time": "2023-03-03T05:26:26.891Z"
      },
      {
        "duration": 0,
        "start_time": "2023-03-03T05:26:26.892Z"
      },
      {
        "duration": 0,
        "start_time": "2023-03-03T05:26:26.893Z"
      },
      {
        "duration": 26,
        "start_time": "2023-03-03T05:26:44.172Z"
      },
      {
        "duration": 8,
        "start_time": "2023-03-03T05:26:57.154Z"
      },
      {
        "duration": 8,
        "start_time": "2023-03-03T05:27:21.546Z"
      },
      {
        "duration": 830,
        "start_time": "2023-03-03T05:27:49.846Z"
      },
      {
        "duration": 15,
        "start_time": "2023-03-03T05:29:20.247Z"
      },
      {
        "duration": 15,
        "start_time": "2023-03-03T05:29:24.687Z"
      },
      {
        "duration": 26,
        "start_time": "2023-03-03T05:29:27.579Z"
      },
      {
        "duration": 25,
        "start_time": "2023-03-03T05:29:30.294Z"
      },
      {
        "duration": 147,
        "start_time": "2023-03-03T05:31:44.174Z"
      },
      {
        "duration": 744,
        "start_time": "2023-03-03T05:32:47.856Z"
      },
      {
        "duration": 752,
        "start_time": "2023-03-03T05:32:57.649Z"
      },
      {
        "duration": 728,
        "start_time": "2023-03-03T05:33:20.192Z"
      },
      {
        "duration": 824,
        "start_time": "2023-03-03T05:33:44.677Z"
      },
      {
        "duration": 44,
        "start_time": "2023-03-03T05:34:09.519Z"
      },
      {
        "duration": 864,
        "start_time": "2023-03-03T05:36:35.327Z"
      },
      {
        "duration": 754,
        "start_time": "2023-03-03T05:36:44.725Z"
      },
      {
        "duration": 1108,
        "start_time": "2023-03-03T05:37:42.852Z"
      },
      {
        "duration": 752,
        "start_time": "2023-03-03T05:37:56.646Z"
      },
      {
        "duration": 705,
        "start_time": "2023-03-03T05:39:41.130Z"
      },
      {
        "duration": 750,
        "start_time": "2023-03-03T05:40:34.575Z"
      },
      {
        "duration": 8,
        "start_time": "2023-03-03T05:43:41.502Z"
      },
      {
        "duration": 760,
        "start_time": "2023-03-03T05:44:01.021Z"
      },
      {
        "duration": 202,
        "start_time": "2023-03-03T05:45:54.365Z"
      },
      {
        "duration": 19,
        "start_time": "2023-03-03T05:46:23.483Z"
      },
      {
        "duration": 26,
        "start_time": "2023-03-03T05:46:30.041Z"
      },
      {
        "duration": 28,
        "start_time": "2023-03-03T05:46:31.652Z"
      },
      {
        "duration": 15,
        "start_time": "2023-03-03T05:46:33.892Z"
      },
      {
        "duration": 15,
        "start_time": "2023-03-03T05:46:35.797Z"
      },
      {
        "duration": 28,
        "start_time": "2023-03-03T05:46:37.570Z"
      },
      {
        "duration": 144,
        "start_time": "2023-03-03T05:46:47.684Z"
      },
      {
        "duration": 8,
        "start_time": "2023-03-03T05:47:23.695Z"
      },
      {
        "duration": 8,
        "start_time": "2023-03-03T05:47:32.889Z"
      },
      {
        "duration": 729,
        "start_time": "2023-03-03T05:47:39.665Z"
      },
      {
        "duration": 17,
        "start_time": "2023-03-03T05:48:59.492Z"
      },
      {
        "duration": 24,
        "start_time": "2023-03-03T05:49:03.543Z"
      },
      {
        "duration": 63,
        "start_time": "2023-03-03T05:49:59.122Z"
      },
      {
        "duration": 70,
        "start_time": "2023-03-03T05:52:35.097Z"
      },
      {
        "duration": 77,
        "start_time": "2023-03-03T05:52:53.910Z"
      },
      {
        "duration": 73,
        "start_time": "2023-03-03T05:53:08.349Z"
      },
      {
        "duration": 86,
        "start_time": "2023-03-03T05:53:14.395Z"
      },
      {
        "duration": 61,
        "start_time": "2023-03-03T05:53:22.477Z"
      },
      {
        "duration": 63,
        "start_time": "2023-03-03T05:53:26.900Z"
      },
      {
        "duration": 7,
        "start_time": "2023-03-03T05:57:14.908Z"
      },
      {
        "duration": 10,
        "start_time": "2023-03-03T06:02:12.037Z"
      },
      {
        "duration": 8,
        "start_time": "2023-03-03T06:02:52.406Z"
      },
      {
        "duration": 12,
        "start_time": "2023-03-03T06:07:20.369Z"
      },
      {
        "duration": 13,
        "start_time": "2023-03-03T06:09:40.375Z"
      },
      {
        "duration": 13,
        "start_time": "2023-03-03T06:09:48.450Z"
      },
      {
        "duration": 8,
        "start_time": "2023-03-03T06:10:18.462Z"
      },
      {
        "duration": 10,
        "start_time": "2023-03-03T06:11:13.610Z"
      },
      {
        "duration": 630,
        "start_time": "2023-03-03T06:11:17.878Z"
      },
      {
        "duration": 703,
        "start_time": "2023-03-03T06:11:44.362Z"
      },
      {
        "duration": 601,
        "start_time": "2023-03-03T06:12:23.840Z"
      },
      {
        "duration": 445,
        "start_time": "2023-03-04T08:55:13.764Z"
      },
      {
        "duration": 509,
        "start_time": "2023-03-04T08:55:14.211Z"
      },
      {
        "duration": 27,
        "start_time": "2023-03-04T08:55:14.722Z"
      },
      {
        "duration": 31,
        "start_time": "2023-03-04T08:55:14.751Z"
      },
      {
        "duration": 2,
        "start_time": "2023-03-04T08:55:14.784Z"
      },
      {
        "duration": 5,
        "start_time": "2023-03-04T08:55:14.788Z"
      },
      {
        "duration": 34,
        "start_time": "2023-03-04T08:55:14.794Z"
      },
      {
        "duration": 6,
        "start_time": "2023-03-04T08:55:14.831Z"
      },
      {
        "duration": 33,
        "start_time": "2023-03-04T08:55:14.840Z"
      },
      {
        "duration": 21,
        "start_time": "2023-03-04T08:55:14.875Z"
      },
      {
        "duration": 36,
        "start_time": "2023-03-04T08:55:14.923Z"
      },
      {
        "duration": 83,
        "start_time": "2023-03-04T08:55:14.961Z"
      },
      {
        "duration": 82,
        "start_time": "2023-03-04T08:55:15.046Z"
      },
      {
        "duration": 67,
        "start_time": "2023-03-04T08:55:15.137Z"
      },
      {
        "duration": 29,
        "start_time": "2023-03-04T08:55:15.206Z"
      },
      {
        "duration": 74,
        "start_time": "2023-03-04T08:55:15.237Z"
      },
      {
        "duration": 0,
        "start_time": "2023-03-04T08:55:15.313Z"
      },
      {
        "duration": 0,
        "start_time": "2023-03-04T08:55:15.315Z"
      },
      {
        "duration": 0,
        "start_time": "2023-03-04T08:55:15.316Z"
      },
      {
        "duration": 0,
        "start_time": "2023-03-04T08:55:15.318Z"
      },
      {
        "duration": 0,
        "start_time": "2023-03-04T08:55:15.320Z"
      },
      {
        "duration": 0,
        "start_time": "2023-03-04T08:55:15.321Z"
      },
      {
        "duration": 0,
        "start_time": "2023-03-04T08:55:15.323Z"
      },
      {
        "duration": 0,
        "start_time": "2023-03-04T08:55:15.324Z"
      },
      {
        "duration": 0,
        "start_time": "2023-03-04T08:55:15.326Z"
      },
      {
        "duration": 0,
        "start_time": "2023-03-04T08:55:15.327Z"
      },
      {
        "duration": 0,
        "start_time": "2023-03-04T08:55:15.329Z"
      },
      {
        "duration": 0,
        "start_time": "2023-03-04T08:55:15.330Z"
      },
      {
        "duration": 0,
        "start_time": "2023-03-04T08:55:15.331Z"
      },
      {
        "duration": 0,
        "start_time": "2023-03-04T08:55:15.335Z"
      },
      {
        "duration": 0,
        "start_time": "2023-03-04T08:55:15.336Z"
      },
      {
        "duration": 0,
        "start_time": "2023-03-04T08:55:15.338Z"
      },
      {
        "duration": 0,
        "start_time": "2023-03-04T08:55:15.340Z"
      },
      {
        "duration": 0,
        "start_time": "2023-03-04T08:55:15.341Z"
      },
      {
        "duration": 0,
        "start_time": "2023-03-04T08:55:15.342Z"
      },
      {
        "duration": 0,
        "start_time": "2023-03-04T08:55:15.343Z"
      },
      {
        "duration": 0,
        "start_time": "2023-03-04T08:55:15.345Z"
      },
      {
        "duration": 0,
        "start_time": "2023-03-04T08:55:15.345Z"
      },
      {
        "duration": 14,
        "start_time": "2023-03-04T09:04:56.502Z"
      },
      {
        "duration": 14,
        "start_time": "2023-03-04T09:05:01.383Z"
      },
      {
        "duration": 12,
        "start_time": "2023-03-04T09:07:28.469Z"
      },
      {
        "duration": 12,
        "start_time": "2023-03-04T09:10:05.271Z"
      },
      {
        "duration": 8,
        "start_time": "2023-03-04T09:10:09.877Z"
      },
      {
        "duration": 77,
        "start_time": "2023-03-04T09:11:50.813Z"
      },
      {
        "duration": 14,
        "start_time": "2023-03-04T09:12:05.026Z"
      },
      {
        "duration": 12,
        "start_time": "2023-03-04T09:12:13.851Z"
      },
      {
        "duration": 10,
        "start_time": "2023-03-04T09:12:17.590Z"
      },
      {
        "duration": 37,
        "start_time": "2023-03-04T09:23:16.073Z"
      },
      {
        "duration": 39,
        "start_time": "2023-03-04T09:24:20.720Z"
      },
      {
        "duration": 6,
        "start_time": "2023-03-04T09:41:34.268Z"
      },
      {
        "duration": 11,
        "start_time": "2023-03-04T09:42:18.906Z"
      },
      {
        "duration": 10,
        "start_time": "2023-03-04T09:42:24.125Z"
      },
      {
        "duration": 7,
        "start_time": "2023-03-04T09:42:37.125Z"
      },
      {
        "duration": 4,
        "start_time": "2023-03-04T09:42:44.399Z"
      },
      {
        "duration": 8,
        "start_time": "2023-03-04T09:42:46.152Z"
      },
      {
        "duration": 16,
        "start_time": "2023-03-04T09:43:05.028Z"
      },
      {
        "duration": 16,
        "start_time": "2023-03-04T09:43:20.064Z"
      },
      {
        "duration": 15,
        "start_time": "2023-03-04T09:44:29.645Z"
      },
      {
        "duration": 5,
        "start_time": "2023-03-04T09:44:46.276Z"
      },
      {
        "duration": 15,
        "start_time": "2023-03-04T09:44:48.570Z"
      },
      {
        "duration": 15,
        "start_time": "2023-03-04T09:46:18.001Z"
      },
      {
        "duration": 15,
        "start_time": "2023-03-04T09:46:32.701Z"
      },
      {
        "duration": 9,
        "start_time": "2023-03-04T09:47:30.758Z"
      },
      {
        "duration": 4,
        "start_time": "2023-03-04T09:48:27.006Z"
      },
      {
        "duration": 19,
        "start_time": "2023-03-04T09:48:42.853Z"
      },
      {
        "duration": 16,
        "start_time": "2023-03-04T09:49:13.509Z"
      },
      {
        "duration": 22,
        "start_time": "2023-03-04T09:49:28.804Z"
      },
      {
        "duration": 15,
        "start_time": "2023-03-04T09:49:43.988Z"
      },
      {
        "duration": 17,
        "start_time": "2023-03-04T09:50:01.002Z"
      },
      {
        "duration": 16,
        "start_time": "2023-03-04T09:50:12.147Z"
      },
      {
        "duration": 11,
        "start_time": "2023-03-04T09:52:49.067Z"
      },
      {
        "duration": 11,
        "start_time": "2023-03-04T09:53:07.556Z"
      },
      {
        "duration": 10,
        "start_time": "2023-03-04T09:53:31.278Z"
      },
      {
        "duration": 9,
        "start_time": "2023-03-04T10:03:50.476Z"
      },
      {
        "duration": 11,
        "start_time": "2023-03-04T10:04:56.104Z"
      },
      {
        "duration": 5,
        "start_time": "2023-03-04T10:05:36.404Z"
      },
      {
        "duration": 5,
        "start_time": "2023-03-04T10:05:41.989Z"
      },
      {
        "duration": 11,
        "start_time": "2023-03-04T10:08:04.541Z"
      },
      {
        "duration": 12,
        "start_time": "2023-03-04T10:15:06.125Z"
      },
      {
        "duration": 13,
        "start_time": "2023-03-04T10:15:29.530Z"
      },
      {
        "duration": 25,
        "start_time": "2023-03-04T10:15:45.236Z"
      },
      {
        "duration": 13,
        "start_time": "2023-03-04T10:15:53.209Z"
      },
      {
        "duration": 12,
        "start_time": "2023-03-04T10:15:54.980Z"
      },
      {
        "duration": 7,
        "start_time": "2023-03-04T10:21:47.566Z"
      },
      {
        "duration": 387,
        "start_time": "2023-03-05T11:53:11.938Z"
      },
      {
        "duration": 238,
        "start_time": "2023-03-05T11:53:12.326Z"
      },
      {
        "duration": 21,
        "start_time": "2023-03-05T11:53:12.566Z"
      },
      {
        "duration": 32,
        "start_time": "2023-03-05T11:53:12.589Z"
      },
      {
        "duration": 4,
        "start_time": "2023-03-05T11:53:12.623Z"
      },
      {
        "duration": 6,
        "start_time": "2023-03-05T11:53:12.628Z"
      },
      {
        "duration": 13,
        "start_time": "2023-03-05T11:53:12.635Z"
      },
      {
        "duration": 5,
        "start_time": "2023-03-05T11:53:12.650Z"
      },
      {
        "duration": 25,
        "start_time": "2023-03-05T11:53:12.657Z"
      },
      {
        "duration": 43,
        "start_time": "2023-03-05T11:53:12.685Z"
      },
      {
        "duration": 21,
        "start_time": "2023-03-05T11:53:12.730Z"
      },
      {
        "duration": 75,
        "start_time": "2023-03-05T11:53:12.753Z"
      },
      {
        "duration": 65,
        "start_time": "2023-03-05T11:53:12.829Z"
      },
      {
        "duration": 65,
        "start_time": "2023-03-05T11:53:12.896Z"
      },
      {
        "duration": 7,
        "start_time": "2023-03-05T11:53:12.962Z"
      },
      {
        "duration": 11,
        "start_time": "2023-03-05T11:53:12.971Z"
      },
      {
        "duration": 17,
        "start_time": "2023-03-05T11:53:12.984Z"
      },
      {
        "duration": 45,
        "start_time": "2023-03-05T11:53:13.003Z"
      },
      {
        "duration": 36,
        "start_time": "2023-03-05T11:53:13.050Z"
      },
      {
        "duration": 4,
        "start_time": "2023-03-05T11:53:13.087Z"
      },
      {
        "duration": 36,
        "start_time": "2023-03-05T11:53:13.092Z"
      },
      {
        "duration": 18,
        "start_time": "2023-03-05T11:53:13.130Z"
      },
      {
        "duration": 16,
        "start_time": "2023-03-05T11:53:13.150Z"
      },
      {
        "duration": 13,
        "start_time": "2023-03-05T11:53:13.167Z"
      },
      {
        "duration": 34,
        "start_time": "2023-03-05T11:53:13.181Z"
      },
      {
        "duration": 14,
        "start_time": "2023-03-05T11:53:13.216Z"
      },
      {
        "duration": 9,
        "start_time": "2023-03-05T11:53:13.231Z"
      },
      {
        "duration": 11,
        "start_time": "2023-03-05T11:53:13.243Z"
      },
      {
        "duration": 10,
        "start_time": "2023-03-05T11:53:13.255Z"
      },
      {
        "duration": 48,
        "start_time": "2023-03-05T11:53:13.266Z"
      },
      {
        "duration": 0,
        "start_time": "2023-03-05T11:53:13.315Z"
      },
      {
        "duration": 0,
        "start_time": "2023-03-05T11:53:13.316Z"
      },
      {
        "duration": 0,
        "start_time": "2023-03-05T11:53:13.317Z"
      },
      {
        "duration": 0,
        "start_time": "2023-03-05T11:53:13.318Z"
      },
      {
        "duration": 0,
        "start_time": "2023-03-05T11:53:13.319Z"
      },
      {
        "duration": 0,
        "start_time": "2023-03-05T11:53:13.320Z"
      },
      {
        "duration": 0,
        "start_time": "2023-03-05T11:53:13.321Z"
      },
      {
        "duration": 0,
        "start_time": "2023-03-05T11:53:13.322Z"
      },
      {
        "duration": 4,
        "start_time": "2023-03-05T11:58:34.117Z"
      },
      {
        "duration": 4,
        "start_time": "2023-03-05T11:58:38.595Z"
      },
      {
        "duration": 73,
        "start_time": "2023-03-05T12:01:23.495Z"
      },
      {
        "duration": 14,
        "start_time": "2023-03-05T12:02:17.362Z"
      },
      {
        "duration": 6,
        "start_time": "2023-03-05T12:05:06.138Z"
      },
      {
        "duration": 14,
        "start_time": "2023-03-05T12:05:09.523Z"
      },
      {
        "duration": 10,
        "start_time": "2023-03-05T12:05:19.564Z"
      },
      {
        "duration": 430,
        "start_time": "2023-03-05T12:05:26.334Z"
      },
      {
        "duration": 177,
        "start_time": "2023-03-05T12:05:26.765Z"
      },
      {
        "duration": 19,
        "start_time": "2023-03-05T12:05:26.944Z"
      },
      {
        "duration": 49,
        "start_time": "2023-03-05T12:05:26.966Z"
      },
      {
        "duration": 3,
        "start_time": "2023-03-05T12:05:27.017Z"
      },
      {
        "duration": 38,
        "start_time": "2023-03-05T12:05:27.022Z"
      },
      {
        "duration": 23,
        "start_time": "2023-03-05T12:05:27.063Z"
      },
      {
        "duration": 8,
        "start_time": "2023-03-05T12:05:27.088Z"
      },
      {
        "duration": 40,
        "start_time": "2023-03-05T12:05:27.098Z"
      },
      {
        "duration": 19,
        "start_time": "2023-03-05T12:05:27.142Z"
      },
      {
        "duration": 57,
        "start_time": "2023-03-05T12:05:27.163Z"
      },
      {
        "duration": 113,
        "start_time": "2023-03-05T12:05:27.223Z"
      },
      {
        "duration": 101,
        "start_time": "2023-03-05T12:05:27.339Z"
      },
      {
        "duration": 72,
        "start_time": "2023-03-05T12:05:27.442Z"
      },
      {
        "duration": 8,
        "start_time": "2023-03-05T12:05:27.515Z"
      },
      {
        "duration": 14,
        "start_time": "2023-03-05T12:05:27.525Z"
      },
      {
        "duration": 8,
        "start_time": "2023-03-05T12:05:27.540Z"
      },
      {
        "duration": 39,
        "start_time": "2023-03-05T12:05:27.549Z"
      },
      {
        "duration": 79,
        "start_time": "2023-03-05T12:05:27.589Z"
      },
      {
        "duration": 4,
        "start_time": "2023-03-05T12:05:27.670Z"
      },
      {
        "duration": 46,
        "start_time": "2023-03-05T12:05:27.676Z"
      },
      {
        "duration": 15,
        "start_time": "2023-03-05T12:05:27.724Z"
      },
      {
        "duration": 21,
        "start_time": "2023-03-05T12:05:27.741Z"
      },
      {
        "duration": 15,
        "start_time": "2023-03-05T12:05:27.763Z"
      },
      {
        "duration": 35,
        "start_time": "2023-03-05T12:05:27.780Z"
      },
      {
        "duration": 15,
        "start_time": "2023-03-05T12:05:27.817Z"
      },
      {
        "duration": 16,
        "start_time": "2023-03-05T12:05:27.833Z"
      },
      {
        "duration": 14,
        "start_time": "2023-03-05T12:05:27.852Z"
      },
      {
        "duration": 9,
        "start_time": "2023-03-05T12:05:27.868Z"
      },
      {
        "duration": 5,
        "start_time": "2023-03-05T12:05:27.879Z"
      },
      {
        "duration": 39,
        "start_time": "2023-03-05T12:05:27.886Z"
      },
      {
        "duration": 11,
        "start_time": "2023-03-05T12:05:27.926Z"
      },
      {
        "duration": 7,
        "start_time": "2023-03-05T12:05:27.938Z"
      },
      {
        "duration": 6,
        "start_time": "2023-03-05T12:05:27.947Z"
      },
      {
        "duration": 5,
        "start_time": "2023-03-05T12:05:27.954Z"
      },
      {
        "duration": 6,
        "start_time": "2023-03-05T12:05:27.961Z"
      },
      {
        "duration": 7,
        "start_time": "2023-03-05T12:05:27.969Z"
      },
      {
        "duration": 4,
        "start_time": "2023-03-05T12:05:27.978Z"
      },
      {
        "duration": 16,
        "start_time": "2023-03-05T12:05:39.664Z"
      },
      {
        "duration": 20,
        "start_time": "2023-03-05T12:06:58.924Z"
      },
      {
        "duration": 12,
        "start_time": "2023-03-05T12:07:04.421Z"
      },
      {
        "duration": 10,
        "start_time": "2023-03-05T12:07:08.687Z"
      },
      {
        "duration": 14,
        "start_time": "2023-03-05T12:07:11.447Z"
      },
      {
        "duration": 20,
        "start_time": "2023-03-05T12:07:58.060Z"
      },
      {
        "duration": 13,
        "start_time": "2023-03-05T12:08:00.199Z"
      },
      {
        "duration": 5,
        "start_time": "2023-03-05T12:08:15.700Z"
      },
      {
        "duration": 4,
        "start_time": "2023-03-05T12:08:17.865Z"
      },
      {
        "duration": 75,
        "start_time": "2023-03-05T12:08:20.133Z"
      },
      {
        "duration": 51,
        "start_time": "2023-03-05T12:08:28.069Z"
      },
      {
        "duration": 4,
        "start_time": "2023-03-05T12:08:33.139Z"
      },
      {
        "duration": 17,
        "start_time": "2023-03-05T12:08:35.666Z"
      },
      {
        "duration": 40,
        "start_time": "2023-03-05T12:14:11.137Z"
      },
      {
        "duration": 10,
        "start_time": "2023-03-05T12:14:22.495Z"
      },
      {
        "duration": 9,
        "start_time": "2023-03-05T12:15:49.477Z"
      },
      {
        "duration": 9,
        "start_time": "2023-03-05T12:16:08.978Z"
      },
      {
        "duration": 411,
        "start_time": "2023-03-05T12:16:50.998Z"
      },
      {
        "duration": 165,
        "start_time": "2023-03-05T12:16:51.411Z"
      },
      {
        "duration": 17,
        "start_time": "2023-03-05T12:16:51.578Z"
      },
      {
        "duration": 34,
        "start_time": "2023-03-05T12:16:51.597Z"
      },
      {
        "duration": 3,
        "start_time": "2023-03-05T12:16:51.633Z"
      },
      {
        "duration": 9,
        "start_time": "2023-03-05T12:16:51.638Z"
      },
      {
        "duration": 14,
        "start_time": "2023-03-05T12:16:51.648Z"
      },
      {
        "duration": 12,
        "start_time": "2023-03-05T12:16:51.663Z"
      },
      {
        "duration": 42,
        "start_time": "2023-03-05T12:16:51.676Z"
      },
      {
        "duration": 18,
        "start_time": "2023-03-05T12:16:51.719Z"
      },
      {
        "duration": 33,
        "start_time": "2023-03-05T12:16:51.739Z"
      },
      {
        "duration": 76,
        "start_time": "2023-03-05T12:16:51.774Z"
      },
      {
        "duration": 75,
        "start_time": "2023-03-05T12:16:51.852Z"
      },
      {
        "duration": 58,
        "start_time": "2023-03-05T12:16:51.930Z"
      },
      {
        "duration": 7,
        "start_time": "2023-03-05T12:16:51.989Z"
      },
      {
        "duration": 23,
        "start_time": "2023-03-05T12:16:51.998Z"
      },
      {
        "duration": 9,
        "start_time": "2023-03-05T12:16:52.022Z"
      },
      {
        "duration": 38,
        "start_time": "2023-03-05T12:16:52.032Z"
      },
      {
        "duration": 48,
        "start_time": "2023-03-05T12:16:52.072Z"
      },
      {
        "duration": 3,
        "start_time": "2023-03-05T12:16:52.122Z"
      },
      {
        "duration": 27,
        "start_time": "2023-03-05T12:16:52.127Z"
      },
      {
        "duration": 13,
        "start_time": "2023-03-05T12:16:52.156Z"
      },
      {
        "duration": 39,
        "start_time": "2023-03-05T12:16:52.171Z"
      },
      {
        "duration": 13,
        "start_time": "2023-03-05T12:16:52.212Z"
      },
      {
        "duration": 17,
        "start_time": "2023-03-05T12:16:52.227Z"
      },
      {
        "duration": 16,
        "start_time": "2023-03-05T12:16:52.246Z"
      },
      {
        "duration": 22,
        "start_time": "2023-03-05T12:16:52.264Z"
      },
      {
        "duration": 19,
        "start_time": "2023-03-05T12:16:52.288Z"
      },
      {
        "duration": 9,
        "start_time": "2023-03-05T12:16:52.309Z"
      },
      {
        "duration": 5,
        "start_time": "2023-03-05T12:16:52.320Z"
      },
      {
        "duration": 29,
        "start_time": "2023-03-05T12:16:52.326Z"
      },
      {
        "duration": 11,
        "start_time": "2023-03-05T12:16:52.357Z"
      },
      {
        "duration": 23,
        "start_time": "2023-03-05T12:16:52.370Z"
      },
      {
        "duration": 19,
        "start_time": "2023-03-05T12:16:52.395Z"
      },
      {
        "duration": 10,
        "start_time": "2023-03-05T12:16:52.416Z"
      },
      {
        "duration": 6,
        "start_time": "2023-03-05T12:16:52.427Z"
      },
      {
        "duration": 14,
        "start_time": "2023-03-05T12:16:52.434Z"
      },
      {
        "duration": 14,
        "start_time": "2023-03-05T12:16:52.450Z"
      },
      {
        "duration": 8,
        "start_time": "2023-03-05T12:16:55.890Z"
      },
      {
        "duration": 5,
        "start_time": "2023-03-05T12:17:23.177Z"
      },
      {
        "duration": 8,
        "start_time": "2023-03-05T12:18:19.078Z"
      },
      {
        "duration": 5,
        "start_time": "2023-03-05T12:18:33.083Z"
      },
      {
        "duration": 61,
        "start_time": "2023-03-05T12:31:04.828Z"
      },
      {
        "duration": 10,
        "start_time": "2023-03-05T12:33:58.817Z"
      },
      {
        "duration": 387,
        "start_time": "2023-03-05T12:34:11.121Z"
      },
      {
        "duration": 167,
        "start_time": "2023-03-05T12:34:11.509Z"
      },
      {
        "duration": 17,
        "start_time": "2023-03-05T12:34:11.677Z"
      },
      {
        "duration": 37,
        "start_time": "2023-03-05T12:34:11.695Z"
      },
      {
        "duration": 2,
        "start_time": "2023-03-05T12:34:11.734Z"
      },
      {
        "duration": 11,
        "start_time": "2023-03-05T12:34:11.738Z"
      },
      {
        "duration": 13,
        "start_time": "2023-03-05T12:34:11.750Z"
      },
      {
        "duration": 9,
        "start_time": "2023-03-05T12:34:11.765Z"
      },
      {
        "duration": 40,
        "start_time": "2023-03-05T12:34:11.776Z"
      },
      {
        "duration": 48,
        "start_time": "2023-03-05T12:34:11.819Z"
      },
      {
        "duration": 22,
        "start_time": "2023-03-05T12:34:11.869Z"
      },
      {
        "duration": 80,
        "start_time": "2023-03-05T12:34:11.894Z"
      },
      {
        "duration": 76,
        "start_time": "2023-03-05T12:34:11.976Z"
      },
      {
        "duration": 70,
        "start_time": "2023-03-05T12:34:12.054Z"
      },
      {
        "duration": 63,
        "start_time": "2023-03-05T12:34:12.125Z"
      },
      {
        "duration": 0,
        "start_time": "2023-03-05T12:34:12.190Z"
      },
      {
        "duration": 0,
        "start_time": "2023-03-05T12:34:12.191Z"
      },
      {
        "duration": 0,
        "start_time": "2023-03-05T12:34:12.192Z"
      },
      {
        "duration": 0,
        "start_time": "2023-03-05T12:34:12.193Z"
      },
      {
        "duration": 0,
        "start_time": "2023-03-05T12:34:12.194Z"
      },
      {
        "duration": 0,
        "start_time": "2023-03-05T12:34:12.195Z"
      },
      {
        "duration": 0,
        "start_time": "2023-03-05T12:34:12.214Z"
      },
      {
        "duration": 0,
        "start_time": "2023-03-05T12:34:12.216Z"
      },
      {
        "duration": 0,
        "start_time": "2023-03-05T12:34:12.216Z"
      },
      {
        "duration": 0,
        "start_time": "2023-03-05T12:34:12.217Z"
      },
      {
        "duration": 0,
        "start_time": "2023-03-05T12:34:12.219Z"
      },
      {
        "duration": 1,
        "start_time": "2023-03-05T12:34:12.219Z"
      },
      {
        "duration": 0,
        "start_time": "2023-03-05T12:34:12.221Z"
      },
      {
        "duration": 0,
        "start_time": "2023-03-05T12:34:12.222Z"
      },
      {
        "duration": 0,
        "start_time": "2023-03-05T12:34:12.224Z"
      },
      {
        "duration": 0,
        "start_time": "2023-03-05T12:34:12.225Z"
      },
      {
        "duration": 0,
        "start_time": "2023-03-05T12:34:12.226Z"
      },
      {
        "duration": 0,
        "start_time": "2023-03-05T12:34:12.228Z"
      },
      {
        "duration": 0,
        "start_time": "2023-03-05T12:34:12.229Z"
      },
      {
        "duration": 0,
        "start_time": "2023-03-05T12:34:12.230Z"
      },
      {
        "duration": 0,
        "start_time": "2023-03-05T12:34:12.231Z"
      },
      {
        "duration": 0,
        "start_time": "2023-03-05T12:34:12.232Z"
      },
      {
        "duration": 0,
        "start_time": "2023-03-05T12:34:12.233Z"
      },
      {
        "duration": 60,
        "start_time": "2023-03-05T12:36:01.053Z"
      },
      {
        "duration": 9,
        "start_time": "2023-03-05T12:38:24.358Z"
      },
      {
        "duration": 47,
        "start_time": "2023-03-05T12:38:32.030Z"
      },
      {
        "duration": 7,
        "start_time": "2023-03-05T12:39:48.599Z"
      },
      {
        "duration": 35,
        "start_time": "2023-03-05T12:43:17.247Z"
      },
      {
        "duration": 405,
        "start_time": "2023-03-05T12:43:43.209Z"
      },
      {
        "duration": 162,
        "start_time": "2023-03-05T12:43:43.616Z"
      },
      {
        "duration": 19,
        "start_time": "2023-03-05T12:43:43.780Z"
      },
      {
        "duration": 34,
        "start_time": "2023-03-05T12:43:43.801Z"
      },
      {
        "duration": 2,
        "start_time": "2023-03-05T12:43:43.837Z"
      },
      {
        "duration": 16,
        "start_time": "2023-03-05T12:43:43.841Z"
      },
      {
        "duration": 12,
        "start_time": "2023-03-05T12:43:43.858Z"
      },
      {
        "duration": 6,
        "start_time": "2023-03-05T12:43:43.873Z"
      },
      {
        "duration": 36,
        "start_time": "2023-03-05T12:43:43.880Z"
      },
      {
        "duration": 19,
        "start_time": "2023-03-05T12:43:43.918Z"
      },
      {
        "duration": 22,
        "start_time": "2023-03-05T12:43:43.939Z"
      },
      {
        "duration": 89,
        "start_time": "2023-03-05T12:43:43.963Z"
      },
      {
        "duration": 80,
        "start_time": "2023-03-05T12:43:44.053Z"
      },
      {
        "duration": 61,
        "start_time": "2023-03-05T12:43:44.136Z"
      },
      {
        "duration": 50,
        "start_time": "2023-03-05T12:43:44.198Z"
      },
      {
        "duration": 9,
        "start_time": "2023-03-05T12:43:44.249Z"
      },
      {
        "duration": 39,
        "start_time": "2023-03-05T12:43:44.259Z"
      },
      {
        "duration": 42,
        "start_time": "2023-03-05T12:43:44.300Z"
      },
      {
        "duration": 31,
        "start_time": "2023-03-05T12:43:44.343Z"
      },
      {
        "duration": 3,
        "start_time": "2023-03-05T12:43:44.376Z"
      },
      {
        "duration": 40,
        "start_time": "2023-03-05T12:43:44.380Z"
      },
      {
        "duration": 12,
        "start_time": "2023-03-05T12:43:44.422Z"
      },
      {
        "duration": 14,
        "start_time": "2023-03-05T12:43:44.436Z"
      },
      {
        "duration": 13,
        "start_time": "2023-03-05T12:43:44.452Z"
      },
      {
        "duration": 15,
        "start_time": "2023-03-05T12:43:44.466Z"
      },
      {
        "duration": 39,
        "start_time": "2023-03-05T12:43:44.483Z"
      },
      {
        "duration": 17,
        "start_time": "2023-03-05T12:43:44.524Z"
      },
      {
        "duration": 13,
        "start_time": "2023-03-05T12:43:44.543Z"
      },
      {
        "duration": 13,
        "start_time": "2023-03-05T12:43:44.557Z"
      },
      {
        "duration": 4,
        "start_time": "2023-03-05T12:43:44.571Z"
      },
      {
        "duration": 23,
        "start_time": "2023-03-05T12:43:44.576Z"
      },
      {
        "duration": 20,
        "start_time": "2023-03-05T12:43:44.600Z"
      },
      {
        "duration": 17,
        "start_time": "2023-03-05T12:43:44.622Z"
      },
      {
        "duration": 10,
        "start_time": "2023-03-05T12:43:44.641Z"
      },
      {
        "duration": 8,
        "start_time": "2023-03-05T12:43:44.653Z"
      },
      {
        "duration": 5,
        "start_time": "2023-03-05T12:43:44.662Z"
      },
      {
        "duration": 8,
        "start_time": "2023-03-05T12:43:44.668Z"
      },
      {
        "duration": 38,
        "start_time": "2023-03-05T12:43:44.677Z"
      },
      {
        "duration": 36,
        "start_time": "2023-03-05T12:44:24.366Z"
      },
      {
        "duration": 13,
        "start_time": "2023-03-05T12:44:46.157Z"
      },
      {
        "duration": 10,
        "start_time": "2023-03-05T12:46:03.117Z"
      }
    ],
    "colab": {
      "collapsed_sections": [
        "E0vqbgi9ay0H",
        "VUC88oWjTJw2"
      ],
      "provenance": []
    },
    "kernelspec": {
      "display_name": "Python 3 (ipykernel)",
      "language": "python",
      "name": "python3"
    },
    "language_info": {
      "codemirror_mode": {
        "name": "ipython",
        "version": 3
      },
      "file_extension": ".py",
      "mimetype": "text/x-python",
      "name": "python",
      "nbconvert_exporter": "python",
      "pygments_lexer": "ipython3",
      "version": "3.9.5"
    },
    "toc": {
      "base_numbering": 1,
      "nav_menu": {
        "height": "215px",
        "width": "403px"
      },
      "number_sections": true,
      "sideBar": true,
      "skip_h1_title": true,
      "title_cell": "Table of Contents",
      "title_sidebar": "Contents",
      "toc_cell": false,
      "toc_position": {
        "height": "calc(100% - 180px)",
        "left": "10px",
        "top": "150px",
        "width": "285.825px"
      },
      "toc_section_display": true,
      "toc_window_display": false
    }
  },
  "nbformat": 4,
  "nbformat_minor": 0
}