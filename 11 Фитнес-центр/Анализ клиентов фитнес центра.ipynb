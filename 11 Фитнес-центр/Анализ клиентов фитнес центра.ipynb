{
  "cells": [
    {
      "cell_type": "markdown",
      "metadata": {
        "id": "DAJDmN4jBDIb"
      },
      "source": [
        "# Анализ клиентов фитнес-центра"
      ]
    },
    {
      "cell_type": "markdown",
      "metadata": {
        "id": "YmWn6-X_BDId"
      },
      "source": [
        "В рамках данного проекта необходимо изучить клиентскую базу, просчитать отток клиентов и  разработать стратегию взаимодействия с клиентами сети фитнес-центров \"Культурист-датасаентист\".\n",
        "\n",
        "Для фитнес-центра можно считать, что клиент попал в отток, если за последний месяц ни разу не посетил спортзал.\n",
        "Чтобы бороться с оттоком, отдел по работе с клиентами «Культуриста-датасаентиста» перевёл в электронный вид множество клиентских анкет."
      ]
    },
    {
      "cell_type": "markdown",
      "metadata": {
        "id": "aoM4Ey_OBDIe"
      },
      "source": [
        "**Цели проекта**\n",
        "\n",
        " - выделить целевые группы клиентов;\n",
        " - предложить меры по снижению оттока;\n",
        " - определить другие особенности взаимодействия с клиентами."
      ]
    },
    {
      "cell_type": "markdown",
      "metadata": {
        "id": "PP90My11BDIf"
      },
      "source": [
        "**План работы:**\n",
        "\n",
        "1. Изучить датафрейм\n",
        "2. Провести исследовательский анализ данных\n",
        "3. Построить модель прогнозирования оттока клиентов\n",
        "4. Сделать кластеризацию клиентов\n",
        "5. Написать общий вывод"
      ]
    },
    {
      "cell_type": "markdown",
      "metadata": {
        "id": "uImK240FBDIg"
      },
      "source": [
        "Входные данные - `файл с данными на месяц до оттока и факт оттока на определённый период`"
      ]
    },
    {
      "cell_type": "markdown",
      "metadata": {
        "id": "VHgccGaiBDIi"
      },
      "source": [
        "## Загрузка данных"
      ]
    },
    {
      "cell_type": "code",
      "execution_count": null,
      "metadata": {
        "id": "5-5DzJkUBDIj"
      },
      "outputs": [],
      "source": [
        "# импортируем необходимые библиотеки\n",
        "\n",
        "import pandas as pd\n",
        "import matplotlib.pyplot as plt\n",
        "import seaborn as sns\n",
        "\n",
        "from sklearn.model_selection import train_test_split\n",
        "from sklearn.preprocessing import StandardScaler\n",
        "from sklearn.linear_model import LogisticRegression\n",
        "from sklearn.ensemble import RandomForestClassifier\n",
        "from sklearn.metrics import (accuracy_score,\n",
        "                             precision_score,\n",
        "                             recall_score)\n",
        "from scipy.cluster.hierarchy import dendrogram, linkage\n",
        "from sklearn.cluster import KMeans\n",
        "\n",
        "import warnings\n",
        "warnings.filterwarnings('ignore')"
      ]
    },
    {
      "cell_type": "code",
      "execution_count": null,
      "metadata": {
        "id": "jNNt4BTqBDIs",
        "outputId": "fef6438c-36ca-46c6-c7c3-7a1f67a28e6b"
      },
      "outputs": [
        {
          "data": {
            "text/html": [
              "<div>\n",
              "<style scoped>\n",
              "    .dataframe tbody tr th:only-of-type {\n",
              "        vertical-align: middle;\n",
              "    }\n",
              "\n",
              "    .dataframe tbody tr th {\n",
              "        vertical-align: top;\n",
              "    }\n",
              "\n",
              "    .dataframe thead th {\n",
              "        text-align: right;\n",
              "    }\n",
              "</style>\n",
              "<table border=\"1\" class=\"dataframe\">\n",
              "  <thead>\n",
              "    <tr style=\"text-align: right;\">\n",
              "      <th></th>\n",
              "      <th>gender</th>\n",
              "      <th>Near_Location</th>\n",
              "      <th>Partner</th>\n",
              "      <th>Promo_friends</th>\n",
              "      <th>Phone</th>\n",
              "      <th>Contract_period</th>\n",
              "      <th>Group_visits</th>\n",
              "      <th>Age</th>\n",
              "      <th>Avg_additional_charges_total</th>\n",
              "      <th>Month_to_end_contract</th>\n",
              "      <th>Lifetime</th>\n",
              "      <th>Avg_class_frequency_total</th>\n",
              "      <th>Avg_class_frequency_current_month</th>\n",
              "      <th>Churn</th>\n",
              "    </tr>\n",
              "  </thead>\n",
              "  <tbody>\n",
              "    <tr>\n",
              "      <th>0</th>\n",
              "      <td>1</td>\n",
              "      <td>1</td>\n",
              "      <td>1</td>\n",
              "      <td>1</td>\n",
              "      <td>0</td>\n",
              "      <td>6</td>\n",
              "      <td>1</td>\n",
              "      <td>29</td>\n",
              "      <td>14.227470</td>\n",
              "      <td>5.0</td>\n",
              "      <td>3</td>\n",
              "      <td>0.020398</td>\n",
              "      <td>0.000000</td>\n",
              "      <td>0</td>\n",
              "    </tr>\n",
              "    <tr>\n",
              "      <th>1</th>\n",
              "      <td>0</td>\n",
              "      <td>1</td>\n",
              "      <td>0</td>\n",
              "      <td>0</td>\n",
              "      <td>1</td>\n",
              "      <td>12</td>\n",
              "      <td>1</td>\n",
              "      <td>31</td>\n",
              "      <td>113.202938</td>\n",
              "      <td>12.0</td>\n",
              "      <td>7</td>\n",
              "      <td>1.922936</td>\n",
              "      <td>1.910244</td>\n",
              "      <td>0</td>\n",
              "    </tr>\n",
              "    <tr>\n",
              "      <th>2</th>\n",
              "      <td>0</td>\n",
              "      <td>1</td>\n",
              "      <td>1</td>\n",
              "      <td>0</td>\n",
              "      <td>1</td>\n",
              "      <td>1</td>\n",
              "      <td>0</td>\n",
              "      <td>28</td>\n",
              "      <td>129.448479</td>\n",
              "      <td>1.0</td>\n",
              "      <td>2</td>\n",
              "      <td>1.859098</td>\n",
              "      <td>1.736502</td>\n",
              "      <td>0</td>\n",
              "    </tr>\n",
              "    <tr>\n",
              "      <th>3</th>\n",
              "      <td>0</td>\n",
              "      <td>1</td>\n",
              "      <td>1</td>\n",
              "      <td>1</td>\n",
              "      <td>1</td>\n",
              "      <td>12</td>\n",
              "      <td>1</td>\n",
              "      <td>33</td>\n",
              "      <td>62.669863</td>\n",
              "      <td>12.0</td>\n",
              "      <td>2</td>\n",
              "      <td>3.205633</td>\n",
              "      <td>3.357215</td>\n",
              "      <td>0</td>\n",
              "    </tr>\n",
              "    <tr>\n",
              "      <th>4</th>\n",
              "      <td>1</td>\n",
              "      <td>1</td>\n",
              "      <td>1</td>\n",
              "      <td>1</td>\n",
              "      <td>1</td>\n",
              "      <td>1</td>\n",
              "      <td>0</td>\n",
              "      <td>26</td>\n",
              "      <td>198.362265</td>\n",
              "      <td>1.0</td>\n",
              "      <td>3</td>\n",
              "      <td>1.113884</td>\n",
              "      <td>1.120078</td>\n",
              "      <td>0</td>\n",
              "    </tr>\n",
              "    <tr>\n",
              "      <th>5</th>\n",
              "      <td>1</td>\n",
              "      <td>1</td>\n",
              "      <td>0</td>\n",
              "      <td>0</td>\n",
              "      <td>1</td>\n",
              "      <td>1</td>\n",
              "      <td>1</td>\n",
              "      <td>34</td>\n",
              "      <td>450.743960</td>\n",
              "      <td>1.0</td>\n",
              "      <td>3</td>\n",
              "      <td>2.623477</td>\n",
              "      <td>2.637007</td>\n",
              "      <td>0</td>\n",
              "    </tr>\n",
              "    <tr>\n",
              "      <th>6</th>\n",
              "      <td>1</td>\n",
              "      <td>1</td>\n",
              "      <td>1</td>\n",
              "      <td>1</td>\n",
              "      <td>0</td>\n",
              "      <td>6</td>\n",
              "      <td>1</td>\n",
              "      <td>32</td>\n",
              "      <td>94.266389</td>\n",
              "      <td>6.0</td>\n",
              "      <td>2</td>\n",
              "      <td>1.138941</td>\n",
              "      <td>1.277242</td>\n",
              "      <td>0</td>\n",
              "    </tr>\n",
              "    <tr>\n",
              "      <th>7</th>\n",
              "      <td>0</td>\n",
              "      <td>1</td>\n",
              "      <td>0</td>\n",
              "      <td>0</td>\n",
              "      <td>1</td>\n",
              "      <td>1</td>\n",
              "      <td>0</td>\n",
              "      <td>30</td>\n",
              "      <td>217.786641</td>\n",
              "      <td>1.0</td>\n",
              "      <td>0</td>\n",
              "      <td>1.213502</td>\n",
              "      <td>1.049387</td>\n",
              "      <td>1</td>\n",
              "    </tr>\n",
              "    <tr>\n",
              "      <th>8</th>\n",
              "      <td>1</td>\n",
              "      <td>1</td>\n",
              "      <td>1</td>\n",
              "      <td>1</td>\n",
              "      <td>1</td>\n",
              "      <td>1</td>\n",
              "      <td>1</td>\n",
              "      <td>23</td>\n",
              "      <td>45.409909</td>\n",
              "      <td>1.0</td>\n",
              "      <td>1</td>\n",
              "      <td>1.106239</td>\n",
              "      <td>1.059333</td>\n",
              "      <td>0</td>\n",
              "    </tr>\n",
              "    <tr>\n",
              "      <th>9</th>\n",
              "      <td>0</td>\n",
              "      <td>1</td>\n",
              "      <td>0</td>\n",
              "      <td>0</td>\n",
              "      <td>1</td>\n",
              "      <td>1</td>\n",
              "      <td>0</td>\n",
              "      <td>31</td>\n",
              "      <td>65.310836</td>\n",
              "      <td>1.0</td>\n",
              "      <td>11</td>\n",
              "      <td>1.810852</td>\n",
              "      <td>1.951368</td>\n",
              "      <td>0</td>\n",
              "    </tr>\n",
              "    <tr>\n",
              "      <th>10</th>\n",
              "      <td>0</td>\n",
              "      <td>1</td>\n",
              "      <td>0</td>\n",
              "      <td>0</td>\n",
              "      <td>0</td>\n",
              "      <td>6</td>\n",
              "      <td>1</td>\n",
              "      <td>32</td>\n",
              "      <td>229.708945</td>\n",
              "      <td>6.0</td>\n",
              "      <td>3</td>\n",
              "      <td>1.641180</td>\n",
              "      <td>1.367714</td>\n",
              "      <td>0</td>\n",
              "    </tr>\n",
              "    <tr>\n",
              "      <th>11</th>\n",
              "      <td>1</td>\n",
              "      <td>1</td>\n",
              "      <td>1</td>\n",
              "      <td>0</td>\n",
              "      <td>1</td>\n",
              "      <td>1</td>\n",
              "      <td>0</td>\n",
              "      <td>27</td>\n",
              "      <td>266.783824</td>\n",
              "      <td>1.0</td>\n",
              "      <td>2</td>\n",
              "      <td>2.348535</td>\n",
              "      <td>1.584316</td>\n",
              "      <td>1</td>\n",
              "    </tr>\n",
              "    <tr>\n",
              "      <th>12</th>\n",
              "      <td>0</td>\n",
              "      <td>1</td>\n",
              "      <td>1</td>\n",
              "      <td>1</td>\n",
              "      <td>1</td>\n",
              "      <td>1</td>\n",
              "      <td>1</td>\n",
              "      <td>33</td>\n",
              "      <td>148.418053</td>\n",
              "      <td>1.0</td>\n",
              "      <td>4</td>\n",
              "      <td>3.368606</td>\n",
              "      <td>3.391853</td>\n",
              "      <td>0</td>\n",
              "    </tr>\n",
              "    <tr>\n",
              "      <th>13</th>\n",
              "      <td>1</td>\n",
              "      <td>1</td>\n",
              "      <td>0</td>\n",
              "      <td>0</td>\n",
              "      <td>1</td>\n",
              "      <td>1</td>\n",
              "      <td>1</td>\n",
              "      <td>27</td>\n",
              "      <td>152.748668</td>\n",
              "      <td>1.0</td>\n",
              "      <td>1</td>\n",
              "      <td>0.000000</td>\n",
              "      <td>0.000000</td>\n",
              "      <td>1</td>\n",
              "    </tr>\n",
              "    <tr>\n",
              "      <th>14</th>\n",
              "      <td>0</td>\n",
              "      <td>1</td>\n",
              "      <td>0</td>\n",
              "      <td>0</td>\n",
              "      <td>1</td>\n",
              "      <td>6</td>\n",
              "      <td>0</td>\n",
              "      <td>35</td>\n",
              "      <td>209.888133</td>\n",
              "      <td>3.0</td>\n",
              "      <td>8</td>\n",
              "      <td>1.978084</td>\n",
              "      <td>2.117349</td>\n",
              "      <td>0</td>\n",
              "    </tr>\n",
              "    <tr>\n",
              "      <th>15</th>\n",
              "      <td>0</td>\n",
              "      <td>1</td>\n",
              "      <td>1</td>\n",
              "      <td>1</td>\n",
              "      <td>1</td>\n",
              "      <td>12</td>\n",
              "      <td>0</td>\n",
              "      <td>29</td>\n",
              "      <td>101.372604</td>\n",
              "      <td>10.0</td>\n",
              "      <td>4</td>\n",
              "      <td>2.850402</td>\n",
              "      <td>2.836455</td>\n",
              "      <td>0</td>\n",
              "    </tr>\n",
              "    <tr>\n",
              "      <th>16</th>\n",
              "      <td>0</td>\n",
              "      <td>1</td>\n",
              "      <td>1</td>\n",
              "      <td>1</td>\n",
              "      <td>1</td>\n",
              "      <td>1</td>\n",
              "      <td>1</td>\n",
              "      <td>31</td>\n",
              "      <td>11.975295</td>\n",
              "      <td>1.0</td>\n",
              "      <td>0</td>\n",
              "      <td>3.342261</td>\n",
              "      <td>3.206223</td>\n",
              "      <td>0</td>\n",
              "    </tr>\n",
              "    <tr>\n",
              "      <th>17</th>\n",
              "      <td>0</td>\n",
              "      <td>1</td>\n",
              "      <td>0</td>\n",
              "      <td>1</td>\n",
              "      <td>1</td>\n",
              "      <td>6</td>\n",
              "      <td>1</td>\n",
              "      <td>29</td>\n",
              "      <td>92.787414</td>\n",
              "      <td>5.0</td>\n",
              "      <td>1</td>\n",
              "      <td>0.664482</td>\n",
              "      <td>0.609945</td>\n",
              "      <td>0</td>\n",
              "    </tr>\n",
              "    <tr>\n",
              "      <th>18</th>\n",
              "      <td>0</td>\n",
              "      <td>1</td>\n",
              "      <td>0</td>\n",
              "      <td>0</td>\n",
              "      <td>1</td>\n",
              "      <td>1</td>\n",
              "      <td>1</td>\n",
              "      <td>30</td>\n",
              "      <td>97.804315</td>\n",
              "      <td>1.0</td>\n",
              "      <td>8</td>\n",
              "      <td>1.507076</td>\n",
              "      <td>1.578738</td>\n",
              "      <td>0</td>\n",
              "    </tr>\n",
              "    <tr>\n",
              "      <th>19</th>\n",
              "      <td>1</td>\n",
              "      <td>1</td>\n",
              "      <td>1</td>\n",
              "      <td>1</td>\n",
              "      <td>1</td>\n",
              "      <td>12</td>\n",
              "      <td>1</td>\n",
              "      <td>29</td>\n",
              "      <td>73.917546</td>\n",
              "      <td>11.0</td>\n",
              "      <td>14</td>\n",
              "      <td>1.141327</td>\n",
              "      <td>1.158455</td>\n",
              "      <td>0</td>\n",
              "    </tr>\n",
              "  </tbody>\n",
              "</table>\n",
              "</div>"
            ],
            "text/plain": [
              "    gender  Near_Location  Partner  Promo_friends  Phone  Contract_period  \\\n",
              "0        1              1        1              1      0                6   \n",
              "1        0              1        0              0      1               12   \n",
              "2        0              1        1              0      1                1   \n",
              "3        0              1        1              1      1               12   \n",
              "4        1              1        1              1      1                1   \n",
              "5        1              1        0              0      1                1   \n",
              "6        1              1        1              1      0                6   \n",
              "7        0              1        0              0      1                1   \n",
              "8        1              1        1              1      1                1   \n",
              "9        0              1        0              0      1                1   \n",
              "10       0              1        0              0      0                6   \n",
              "11       1              1        1              0      1                1   \n",
              "12       0              1        1              1      1                1   \n",
              "13       1              1        0              0      1                1   \n",
              "14       0              1        0              0      1                6   \n",
              "15       0              1        1              1      1               12   \n",
              "16       0              1        1              1      1                1   \n",
              "17       0              1        0              1      1                6   \n",
              "18       0              1        0              0      1                1   \n",
              "19       1              1        1              1      1               12   \n",
              "\n",
              "    Group_visits  Age  Avg_additional_charges_total  Month_to_end_contract  \\\n",
              "0              1   29                     14.227470                    5.0   \n",
              "1              1   31                    113.202938                   12.0   \n",
              "2              0   28                    129.448479                    1.0   \n",
              "3              1   33                     62.669863                   12.0   \n",
              "4              0   26                    198.362265                    1.0   \n",
              "5              1   34                    450.743960                    1.0   \n",
              "6              1   32                     94.266389                    6.0   \n",
              "7              0   30                    217.786641                    1.0   \n",
              "8              1   23                     45.409909                    1.0   \n",
              "9              0   31                     65.310836                    1.0   \n",
              "10             1   32                    229.708945                    6.0   \n",
              "11             0   27                    266.783824                    1.0   \n",
              "12             1   33                    148.418053                    1.0   \n",
              "13             1   27                    152.748668                    1.0   \n",
              "14             0   35                    209.888133                    3.0   \n",
              "15             0   29                    101.372604                   10.0   \n",
              "16             1   31                     11.975295                    1.0   \n",
              "17             1   29                     92.787414                    5.0   \n",
              "18             1   30                     97.804315                    1.0   \n",
              "19             1   29                     73.917546                   11.0   \n",
              "\n",
              "    Lifetime  Avg_class_frequency_total  Avg_class_frequency_current_month  \\\n",
              "0          3                   0.020398                           0.000000   \n",
              "1          7                   1.922936                           1.910244   \n",
              "2          2                   1.859098                           1.736502   \n",
              "3          2                   3.205633                           3.357215   \n",
              "4          3                   1.113884                           1.120078   \n",
              "5          3                   2.623477                           2.637007   \n",
              "6          2                   1.138941                           1.277242   \n",
              "7          0                   1.213502                           1.049387   \n",
              "8          1                   1.106239                           1.059333   \n",
              "9         11                   1.810852                           1.951368   \n",
              "10         3                   1.641180                           1.367714   \n",
              "11         2                   2.348535                           1.584316   \n",
              "12         4                   3.368606                           3.391853   \n",
              "13         1                   0.000000                           0.000000   \n",
              "14         8                   1.978084                           2.117349   \n",
              "15         4                   2.850402                           2.836455   \n",
              "16         0                   3.342261                           3.206223   \n",
              "17         1                   0.664482                           0.609945   \n",
              "18         8                   1.507076                           1.578738   \n",
              "19        14                   1.141327                           1.158455   \n",
              "\n",
              "    Churn  \n",
              "0       0  \n",
              "1       0  \n",
              "2       0  \n",
              "3       0  \n",
              "4       0  \n",
              "5       0  \n",
              "6       0  \n",
              "7       1  \n",
              "8       0  \n",
              "9       0  \n",
              "10      0  \n",
              "11      1  \n",
              "12      0  \n",
              "13      1  \n",
              "14      0  \n",
              "15      0  \n",
              "16      0  \n",
              "17      0  \n",
              "18      0  \n",
              "19      0  "
            ]
          },
          "metadata": {},
          "output_type": "display_data"
        }
      ],
      "source": [
        "# сохраняем и выводим данные\n",
        "\n",
        "try:\n",
        "    data = pd.read_csv('/datasets/gym_churn.csv')\n",
        "except:\n",
        "    print('error')\n",
        "\n",
        "display(data.head(20))"
      ]
    },
    {
      "cell_type": "code",
      "execution_count": null,
      "metadata": {
        "id": "OEWQeJmqBDIx",
        "outputId": "e31e8b53-0138-45fc-ba71-f63bbeb26cb3"
      },
      "outputs": [
        {
          "name": "stdout",
          "output_type": "stream",
          "text": [
            "<class 'pandas.core.frame.DataFrame'>\n",
            "RangeIndex: 4000 entries, 0 to 3999\n",
            "Data columns (total 14 columns):\n",
            " #   Column                             Non-Null Count  Dtype  \n",
            "---  ------                             --------------  -----  \n",
            " 0   gender                             4000 non-null   int64  \n",
            " 1   Near_Location                      4000 non-null   int64  \n",
            " 2   Partner                            4000 non-null   int64  \n",
            " 3   Promo_friends                      4000 non-null   int64  \n",
            " 4   Phone                              4000 non-null   int64  \n",
            " 5   Contract_period                    4000 non-null   int64  \n",
            " 6   Group_visits                       4000 non-null   int64  \n",
            " 7   Age                                4000 non-null   int64  \n",
            " 8   Avg_additional_charges_total       4000 non-null   float64\n",
            " 9   Month_to_end_contract              4000 non-null   float64\n",
            " 10  Lifetime                           4000 non-null   int64  \n",
            " 11  Avg_class_frequency_total          4000 non-null   float64\n",
            " 12  Avg_class_frequency_current_month  4000 non-null   float64\n",
            " 13  Churn                              4000 non-null   int64  \n",
            "dtypes: float64(4), int64(10)\n",
            "memory usage: 437.6 KB\n"
          ]
        }
      ],
      "source": [
        "# смотрим общую информацию\n",
        "\n",
        "data.info()"
      ]
    },
    {
      "cell_type": "markdown",
      "metadata": {
        "id": "vHa1kHhzBDIy"
      },
      "source": [
        "**Вывод**\n",
        "\n",
        "- В данных представлено 14 столбцов и 4000 строк\n",
        "- Пропуски отсутствуют\n",
        "- Присутствуют некорректные типы данных в столбцах\n",
        "- Название столбцов необходимо привести к змеиному регистру"
      ]
    },
    {
      "cell_type": "markdown",
      "metadata": {
        "id": "LfGUsv_TBDIz"
      },
      "source": [
        "## Исследовательский анализ данных"
      ]
    },
    {
      "cell_type": "code",
      "execution_count": null,
      "metadata": {
        "id": "R5pR66cJBDI0",
        "outputId": "1d9addb7-deee-46df-96a5-49d340f03c7e"
      },
      "outputs": [
        {
          "data": {
            "text/plain": [
              "Index(['gender', 'near_location', 'partner', 'promo_friends', 'phone',\n",
              "       'contract_period', 'group_visits', 'age',\n",
              "       'avg_additional_charges_total', 'month_to_end_contract', 'lifetime',\n",
              "       'avg_class_frequency_total', 'avg_class_frequency_current_month',\n",
              "       'churn'],\n",
              "      dtype='object')"
            ]
          },
          "execution_count": 4,
          "metadata": {},
          "output_type": "execute_result"
        }
      ],
      "source": [
        "# приводим названия колонок к правильному виду\n",
        "\n",
        "data.columns = [x.lower() for x in data.columns]\n",
        "data.columns"
      ]
    },
    {
      "cell_type": "code",
      "execution_count": null,
      "metadata": {
        "id": "TJbbS46QBDI1",
        "outputId": "50e332bf-ad17-427d-a659-69e61970356b"
      },
      "outputs": [
        {
          "data": {
            "text/plain": [
              "array([ 5., 12.,  1.,  6.,  3., 10., 11.,  9.,  4.,  7.,  8.,  2.])"
            ]
          },
          "execution_count": 5,
          "metadata": {},
          "output_type": "execute_result"
        }
      ],
      "source": [
        "# проверяем уникальные месяцы\n",
        "\n",
        "data['month_to_end_contract'].unique()"
      ]
    },
    {
      "cell_type": "code",
      "execution_count": null,
      "metadata": {
        "id": "s9d_MDS9BDI2",
        "outputId": "1be2dfe8-96f7-4648-e750-d89dcef50f2f"
      },
      "outputs": [
        {
          "name": "stdout",
          "output_type": "stream",
          "text": [
            "<class 'pandas.core.frame.DataFrame'>\n",
            "RangeIndex: 4000 entries, 0 to 3999\n",
            "Data columns (total 14 columns):\n",
            " #   Column                             Non-Null Count  Dtype  \n",
            "---  ------                             --------------  -----  \n",
            " 0   gender                             4000 non-null   int64  \n",
            " 1   near_location                      4000 non-null   int64  \n",
            " 2   partner                            4000 non-null   int64  \n",
            " 3   promo_friends                      4000 non-null   int64  \n",
            " 4   phone                              4000 non-null   int64  \n",
            " 5   contract_period                    4000 non-null   int64  \n",
            " 6   group_visits                       4000 non-null   int64  \n",
            " 7   age                                4000 non-null   int64  \n",
            " 8   avg_additional_charges_total       4000 non-null   float64\n",
            " 9   month_to_end_contract              4000 non-null   int64  \n",
            " 10  lifetime                           4000 non-null   int64  \n",
            " 11  avg_class_frequency_total          4000 non-null   float64\n",
            " 12  avg_class_frequency_current_month  4000 non-null   float64\n",
            " 13  churn                              4000 non-null   int64  \n",
            "dtypes: float64(3), int64(11)\n",
            "memory usage: 437.6 KB\n"
          ]
        }
      ],
      "source": [
        "# приводим тип данных в столбце к корректному типу\n",
        "\n",
        "data['month_to_end_contract'] = data['month_to_end_contract'].astype('int')\n",
        "data.info()"
      ]
    },
    {
      "cell_type": "code",
      "execution_count": null,
      "metadata": {
        "id": "X2FvB53FBDI3",
        "outputId": "f6c3cda2-2720-469b-e2e9-d8335a057926"
      },
      "outputs": [
        {
          "data": {
            "text/html": [
              "<div>\n",
              "<style scoped>\n",
              "    .dataframe tbody tr th:only-of-type {\n",
              "        vertical-align: middle;\n",
              "    }\n",
              "\n",
              "    .dataframe tbody tr th {\n",
              "        vertical-align: top;\n",
              "    }\n",
              "\n",
              "    .dataframe thead th {\n",
              "        text-align: right;\n",
              "    }\n",
              "</style>\n",
              "<table border=\"1\" class=\"dataframe\">\n",
              "  <thead>\n",
              "    <tr style=\"text-align: right;\">\n",
              "      <th></th>\n",
              "      <th>count</th>\n",
              "      <th>mean</th>\n",
              "      <th>std</th>\n",
              "      <th>min</th>\n",
              "      <th>25%</th>\n",
              "      <th>50%</th>\n",
              "      <th>75%</th>\n",
              "      <th>max</th>\n",
              "    </tr>\n",
              "  </thead>\n",
              "  <tbody>\n",
              "    <tr>\n",
              "      <th>gender</th>\n",
              "      <td>4000.0</td>\n",
              "      <td>0.510250</td>\n",
              "      <td>0.499957</td>\n",
              "      <td>0.000000</td>\n",
              "      <td>0.000000</td>\n",
              "      <td>1.000000</td>\n",
              "      <td>1.000000</td>\n",
              "      <td>1.000000</td>\n",
              "    </tr>\n",
              "    <tr>\n",
              "      <th>near_location</th>\n",
              "      <td>4000.0</td>\n",
              "      <td>0.845250</td>\n",
              "      <td>0.361711</td>\n",
              "      <td>0.000000</td>\n",
              "      <td>1.000000</td>\n",
              "      <td>1.000000</td>\n",
              "      <td>1.000000</td>\n",
              "      <td>1.000000</td>\n",
              "    </tr>\n",
              "    <tr>\n",
              "      <th>partner</th>\n",
              "      <td>4000.0</td>\n",
              "      <td>0.486750</td>\n",
              "      <td>0.499887</td>\n",
              "      <td>0.000000</td>\n",
              "      <td>0.000000</td>\n",
              "      <td>0.000000</td>\n",
              "      <td>1.000000</td>\n",
              "      <td>1.000000</td>\n",
              "    </tr>\n",
              "    <tr>\n",
              "      <th>promo_friends</th>\n",
              "      <td>4000.0</td>\n",
              "      <td>0.308500</td>\n",
              "      <td>0.461932</td>\n",
              "      <td>0.000000</td>\n",
              "      <td>0.000000</td>\n",
              "      <td>0.000000</td>\n",
              "      <td>1.000000</td>\n",
              "      <td>1.000000</td>\n",
              "    </tr>\n",
              "    <tr>\n",
              "      <th>phone</th>\n",
              "      <td>4000.0</td>\n",
              "      <td>0.903500</td>\n",
              "      <td>0.295313</td>\n",
              "      <td>0.000000</td>\n",
              "      <td>1.000000</td>\n",
              "      <td>1.000000</td>\n",
              "      <td>1.000000</td>\n",
              "      <td>1.000000</td>\n",
              "    </tr>\n",
              "    <tr>\n",
              "      <th>contract_period</th>\n",
              "      <td>4000.0</td>\n",
              "      <td>4.681250</td>\n",
              "      <td>4.549706</td>\n",
              "      <td>1.000000</td>\n",
              "      <td>1.000000</td>\n",
              "      <td>1.000000</td>\n",
              "      <td>6.000000</td>\n",
              "      <td>12.000000</td>\n",
              "    </tr>\n",
              "    <tr>\n",
              "      <th>group_visits</th>\n",
              "      <td>4000.0</td>\n",
              "      <td>0.412250</td>\n",
              "      <td>0.492301</td>\n",
              "      <td>0.000000</td>\n",
              "      <td>0.000000</td>\n",
              "      <td>0.000000</td>\n",
              "      <td>1.000000</td>\n",
              "      <td>1.000000</td>\n",
              "    </tr>\n",
              "    <tr>\n",
              "      <th>age</th>\n",
              "      <td>4000.0</td>\n",
              "      <td>29.184250</td>\n",
              "      <td>3.258367</td>\n",
              "      <td>18.000000</td>\n",
              "      <td>27.000000</td>\n",
              "      <td>29.000000</td>\n",
              "      <td>31.000000</td>\n",
              "      <td>41.000000</td>\n",
              "    </tr>\n",
              "    <tr>\n",
              "      <th>avg_additional_charges_total</th>\n",
              "      <td>4000.0</td>\n",
              "      <td>146.943728</td>\n",
              "      <td>96.355602</td>\n",
              "      <td>0.148205</td>\n",
              "      <td>68.868830</td>\n",
              "      <td>136.220159</td>\n",
              "      <td>210.949625</td>\n",
              "      <td>552.590740</td>\n",
              "    </tr>\n",
              "    <tr>\n",
              "      <th>month_to_end_contract</th>\n",
              "      <td>4000.0</td>\n",
              "      <td>4.322750</td>\n",
              "      <td>4.191297</td>\n",
              "      <td>1.000000</td>\n",
              "      <td>1.000000</td>\n",
              "      <td>1.000000</td>\n",
              "      <td>6.000000</td>\n",
              "      <td>12.000000</td>\n",
              "    </tr>\n",
              "    <tr>\n",
              "      <th>lifetime</th>\n",
              "      <td>4000.0</td>\n",
              "      <td>3.724750</td>\n",
              "      <td>3.749267</td>\n",
              "      <td>0.000000</td>\n",
              "      <td>1.000000</td>\n",
              "      <td>3.000000</td>\n",
              "      <td>5.000000</td>\n",
              "      <td>31.000000</td>\n",
              "    </tr>\n",
              "    <tr>\n",
              "      <th>avg_class_frequency_total</th>\n",
              "      <td>4000.0</td>\n",
              "      <td>1.879020</td>\n",
              "      <td>0.972245</td>\n",
              "      <td>0.000000</td>\n",
              "      <td>1.180875</td>\n",
              "      <td>1.832768</td>\n",
              "      <td>2.536078</td>\n",
              "      <td>6.023668</td>\n",
              "    </tr>\n",
              "    <tr>\n",
              "      <th>avg_class_frequency_current_month</th>\n",
              "      <td>4000.0</td>\n",
              "      <td>1.767052</td>\n",
              "      <td>1.052906</td>\n",
              "      <td>0.000000</td>\n",
              "      <td>0.963003</td>\n",
              "      <td>1.719574</td>\n",
              "      <td>2.510336</td>\n",
              "      <td>6.146783</td>\n",
              "    </tr>\n",
              "    <tr>\n",
              "      <th>churn</th>\n",
              "      <td>4000.0</td>\n",
              "      <td>0.265250</td>\n",
              "      <td>0.441521</td>\n",
              "      <td>0.000000</td>\n",
              "      <td>0.000000</td>\n",
              "      <td>0.000000</td>\n",
              "      <td>1.000000</td>\n",
              "      <td>1.000000</td>\n",
              "    </tr>\n",
              "  </tbody>\n",
              "</table>\n",
              "</div>"
            ],
            "text/plain": [
              "                                    count        mean        std        min  \\\n",
              "gender                             4000.0    0.510250   0.499957   0.000000   \n",
              "near_location                      4000.0    0.845250   0.361711   0.000000   \n",
              "partner                            4000.0    0.486750   0.499887   0.000000   \n",
              "promo_friends                      4000.0    0.308500   0.461932   0.000000   \n",
              "phone                              4000.0    0.903500   0.295313   0.000000   \n",
              "contract_period                    4000.0    4.681250   4.549706   1.000000   \n",
              "group_visits                       4000.0    0.412250   0.492301   0.000000   \n",
              "age                                4000.0   29.184250   3.258367  18.000000   \n",
              "avg_additional_charges_total       4000.0  146.943728  96.355602   0.148205   \n",
              "month_to_end_contract              4000.0    4.322750   4.191297   1.000000   \n",
              "lifetime                           4000.0    3.724750   3.749267   0.000000   \n",
              "avg_class_frequency_total          4000.0    1.879020   0.972245   0.000000   \n",
              "avg_class_frequency_current_month  4000.0    1.767052   1.052906   0.000000   \n",
              "churn                              4000.0    0.265250   0.441521   0.000000   \n",
              "\n",
              "                                         25%         50%         75%  \\\n",
              "gender                              0.000000    1.000000    1.000000   \n",
              "near_location                       1.000000    1.000000    1.000000   \n",
              "partner                             0.000000    0.000000    1.000000   \n",
              "promo_friends                       0.000000    0.000000    1.000000   \n",
              "phone                               1.000000    1.000000    1.000000   \n",
              "contract_period                     1.000000    1.000000    6.000000   \n",
              "group_visits                        0.000000    0.000000    1.000000   \n",
              "age                                27.000000   29.000000   31.000000   \n",
              "avg_additional_charges_total       68.868830  136.220159  210.949625   \n",
              "month_to_end_contract               1.000000    1.000000    6.000000   \n",
              "lifetime                            1.000000    3.000000    5.000000   \n",
              "avg_class_frequency_total           1.180875    1.832768    2.536078   \n",
              "avg_class_frequency_current_month   0.963003    1.719574    2.510336   \n",
              "churn                               0.000000    0.000000    1.000000   \n",
              "\n",
              "                                          max  \n",
              "gender                               1.000000  \n",
              "near_location                        1.000000  \n",
              "partner                              1.000000  \n",
              "promo_friends                        1.000000  \n",
              "phone                                1.000000  \n",
              "contract_period                     12.000000  \n",
              "group_visits                         1.000000  \n",
              "age                                 41.000000  \n",
              "avg_additional_charges_total       552.590740  \n",
              "month_to_end_contract               12.000000  \n",
              "lifetime                            31.000000  \n",
              "avg_class_frequency_total            6.023668  \n",
              "avg_class_frequency_current_month    6.146783  \n",
              "churn                                1.000000  "
            ]
          },
          "execution_count": 7,
          "metadata": {},
          "output_type": "execute_result"
        }
      ],
      "source": [
        "# проверяем распределение всех числовых данных\n",
        "\n",
        "data.describe().T"
      ]
    },
    {
      "cell_type": "code",
      "execution_count": null,
      "metadata": {
        "id": "cj4YFE7QBDI4",
        "outputId": "afee147a-c236-4e5b-8e88-d9f04c46813d"
      },
      "outputs": [
        {
          "data": {
            "text/html": [
              "<style  type=\"text/css\" >\n",
              "</style><table id=\"T_47e21_\" ><thead>    <tr>        <th class=\"blank level0\" ></th>        <th class=\"col_heading level0 col0\" >gender</th>        <th class=\"col_heading level0 col1\" >near_location</th>        <th class=\"col_heading level0 col2\" >partner</th>        <th class=\"col_heading level0 col3\" >promo_friends</th>        <th class=\"col_heading level0 col4\" >phone</th>        <th class=\"col_heading level0 col5\" >contract_period</th>        <th class=\"col_heading level0 col6\" >group_visits</th>        <th class=\"col_heading level0 col7\" >age</th>        <th class=\"col_heading level0 col8\" >avg_additional_charges_total</th>        <th class=\"col_heading level0 col9\" >month_to_end_contract</th>        <th class=\"col_heading level0 col10\" >lifetime</th>        <th class=\"col_heading level0 col11\" >avg_class_frequency_total</th>        <th class=\"col_heading level0 col12\" >avg_class_frequency_current_month</th>    </tr>    <tr>        <th class=\"index_name level0\" >churn</th>        <th class=\"blank\" ></th>        <th class=\"blank\" ></th>        <th class=\"blank\" ></th>        <th class=\"blank\" ></th>        <th class=\"blank\" ></th>        <th class=\"blank\" ></th>        <th class=\"blank\" ></th>        <th class=\"blank\" ></th>        <th class=\"blank\" ></th>        <th class=\"blank\" ></th>        <th class=\"blank\" ></th>        <th class=\"blank\" ></th>        <th class=\"blank\" ></th>    </tr></thead><tbody>\n",
              "                <tr>\n",
              "                        <th id=\"T_47e21_level0_row0\" class=\"row_heading level0 row0\" >0</th>\n",
              "                        <td id=\"T_47e21_row0_col0\" class=\"data row0 col0\" >0.51</td>\n",
              "                        <td id=\"T_47e21_row0_col1\" class=\"data row0 col1\" >0.87</td>\n",
              "                        <td id=\"T_47e21_row0_col2\" class=\"data row0 col2\" >0.53</td>\n",
              "                        <td id=\"T_47e21_row0_col3\" class=\"data row0 col3\" >0.35</td>\n",
              "                        <td id=\"T_47e21_row0_col4\" class=\"data row0 col4\" >0.90</td>\n",
              "                        <td id=\"T_47e21_row0_col5\" class=\"data row0 col5\" >5.75</td>\n",
              "                        <td id=\"T_47e21_row0_col6\" class=\"data row0 col6\" >0.46</td>\n",
              "                        <td id=\"T_47e21_row0_col7\" class=\"data row0 col7\" >29.98</td>\n",
              "                        <td id=\"T_47e21_row0_col8\" class=\"data row0 col8\" >158.45</td>\n",
              "                        <td id=\"T_47e21_row0_col9\" class=\"data row0 col9\" >5.28</td>\n",
              "                        <td id=\"T_47e21_row0_col10\" class=\"data row0 col10\" >4.71</td>\n",
              "                        <td id=\"T_47e21_row0_col11\" class=\"data row0 col11\" >2.02</td>\n",
              "                        <td id=\"T_47e21_row0_col12\" class=\"data row0 col12\" >2.03</td>\n",
              "            </tr>\n",
              "            <tr>\n",
              "                        <th id=\"T_47e21_level0_row1\" class=\"row_heading level0 row1\" >1</th>\n",
              "                        <td id=\"T_47e21_row1_col0\" class=\"data row1 col0\" >0.51</td>\n",
              "                        <td id=\"T_47e21_row1_col1\" class=\"data row1 col1\" >0.77</td>\n",
              "                        <td id=\"T_47e21_row1_col2\" class=\"data row1 col2\" >0.36</td>\n",
              "                        <td id=\"T_47e21_row1_col3\" class=\"data row1 col3\" >0.18</td>\n",
              "                        <td id=\"T_47e21_row1_col4\" class=\"data row1 col4\" >0.90</td>\n",
              "                        <td id=\"T_47e21_row1_col5\" class=\"data row1 col5\" >1.73</td>\n",
              "                        <td id=\"T_47e21_row1_col6\" class=\"data row1 col6\" >0.27</td>\n",
              "                        <td id=\"T_47e21_row1_col7\" class=\"data row1 col7\" >26.99</td>\n",
              "                        <td id=\"T_47e21_row1_col8\" class=\"data row1 col8\" >115.08</td>\n",
              "                        <td id=\"T_47e21_row1_col9\" class=\"data row1 col9\" >1.66</td>\n",
              "                        <td id=\"T_47e21_row1_col10\" class=\"data row1 col10\" >0.99</td>\n",
              "                        <td id=\"T_47e21_row1_col11\" class=\"data row1 col11\" >1.47</td>\n",
              "                        <td id=\"T_47e21_row1_col12\" class=\"data row1 col12\" >1.04</td>\n",
              "            </tr>\n",
              "    </tbody></table>"
            ],
            "text/plain": [
              "<pandas.io.formats.style.Styler at 0x7fda5c4be700>"
            ]
          },
          "metadata": {},
          "output_type": "display_data"
        }
      ],
      "source": [
        "group_churn = data.groupby('churn').mean().style.format('{:.2f}')\n",
        "display(group_churn)"
      ]
    },
    {
      "cell_type": "code",
      "execution_count": null,
      "metadata": {
        "scrolled": false,
        "id": "H3DkxGXxBDI5",
        "outputId": "fa2d0ebb-d29c-493e-e111-307d6e8977fc"
      },
      "outputs": [
        {
          "data": {
            "image/png": "[encoded data removed]",
            "text/plain": [
              "<Figure size 432x288 with 1 Axes>"
            ]
          },
          "metadata": {},
          "output_type": "display_data"
        },
        {
          "data": {
            "image/png": "[encoded data removed]",
            "text/plain": [
              "<Figure size 432x288 with 1 Axes>"
            ]
          },
          "metadata": {},
          "output_type": "display_data"
        },
        {
          "data": {
            "image/png": "[encoded data removed]",
            "text/plain": [
              "<Figure size 432x288 with 1 Axes>"
            ]
          },
          "metadata": {},
          "output_type": "display_data"
        },
        {
          "data": {
            "image/png": "[encoded data removed]",
            "text/plain": [
              "<Figure size 432x288 with 1 Axes>"
            ]
          },
          "metadata": {},
          "output_type": "display_data"
        },
        {
          "data": {
            "image/png": "[encoded data removed]",
            "text/plain": [
              "<Figure size 432x288 with 1 Axes>"
            ]
          },
          "metadata": {},
          "output_type": "display_data"
        },
        {
          "data": {
            "image/png": "[encoded data removed]",
            "text/plain": [
              "<Figure size 432x288 with 1 Axes>"
            ]
          },
          "metadata": {},
          "output_type": "display_data"
        },
        {
          "data": {
            "image/png": "[encoded data removed]",
            "text/plain": [
              "<Figure size 432x288 with 1 Axes>"
            ]
          },
          "metadata": {},
          "output_type": "display_data"
        },
        {
          "data": {
            "image/png": "[encoded data removed]",
            "text/plain": [
              "<Figure size 432x288 with 1 Axes>"
            ]
          },
          "metadata": {},
          "output_type": "display_data"
        },
        {
          "data": {
            "image/png": "[encoded data removed]",
            "text/plain": [
              "<Figure size 432x288 with 1 Axes>"
            ]
          },
          "metadata": {},
          "output_type": "display_data"
        },
        {
          "data": {
            "image/png": "[encoded data removed]",
            "text/plain": [
              "<Figure size 432x288 with 1 Axes>"
            ]
          },
          "metadata": {},
          "output_type": "display_data"
        },
        {
          "data": {
            "image/png": "[encoded data removed]",
            "text/plain": [
              "<Figure size 432x288 with 1 Axes>"
            ]
          },
          "metadata": {},
          "output_type": "display_data"
        },
        {
          "data": {
            "image/png": "[encoded data removed]",
            "text/plain": [
              "<Figure size 432x288 with 1 Axes>"
            ]
          },
          "metadata": {},
          "output_type": "display_data"
        },
        {
          "data": {
            "image/png": "[encoded data removed]",
            "text/plain": [
              "<Figure size 432x288 with 1 Axes>"
            ]
          },
          "metadata": {},
          "output_type": "display_data"
        }
      ],
      "source": [
        "# строим графики для каждого параметра по типу оттока\n",
        "\n",
        "sns.set()\n",
        "fig, ax_lst = plt.subplots(1, 1)\n",
        "\n",
        "\n",
        "for col in data.drop('churn', axis=1).columns:\n",
        "    sns.distplot(data.loc[data['churn'] == 0, col], label='остались')\n",
        "    sns.distplot(data.loc[data['churn'] == 1, col], label='ушли')\n",
        "\n",
        "    plt.ylabel('Количество клиентов')\n",
        "    plt.xlabel('Значение')\n",
        "    plt.grid()\n",
        "    plt.title(f'{col}')\n",
        "    plt.legend()\n",
        "    plt.show()\n",
        ""
      ]
    },
    {
      "cell_type": "code",
      "execution_count": null,
      "metadata": {
        "scrolled": false,
        "id": "4hqSzOpqBDI9",
        "outputId": "897c8160-ac06-47c6-cd10-7aed90f87a7d"
      },
      "outputs": [
        {
          "data": {
            "image/png": "[encoded data removed]",
            "text/plain": [
              "<Figure size 432x360 with 1 Axes>"
            ]
          },
          "metadata": {},
          "output_type": "display_data"
        },
        {
          "data": {
            "image/png": "[encoded data removed]",
            "text/plain": [
              "<Figure size 432x360 with 1 Axes>"
            ]
          },
          "metadata": {},
          "output_type": "display_data"
        },
        {
          "data": {
            "image/png": "[encoded data removed]",
            "text/plain": [
              "<Figure size 432x360 with 1 Axes>"
            ]
          },
          "metadata": {},
          "output_type": "display_data"
        },
        {
          "data": {
            "image/png": "[encoded data removed]",
            "text/plain": [
              "<Figure size 432x360 with 1 Axes>"
            ]
          },
          "metadata": {},
          "output_type": "display_data"
        },
        {
          "data": {
            "image/png": "[encoded data removed]",
            "text/plain": [
              "<Figure size 432x360 with 1 Axes>"
            ]
          },
          "metadata": {},
          "output_type": "display_data"
        },
        {
          "data": {
            "image/png": "[encoded data removed]",
            "text/plain": [
              "<Figure size 432x360 with 1 Axes>"
            ]
          },
          "metadata": {},
          "output_type": "display_data"
        },
        {
          "data": {
            "image/png": "[encoded data removed]",
            "text/plain": [
              "<Figure size 432x360 with 1 Axes>"
            ]
          },
          "metadata": {},
          "output_type": "display_data"
        },
        {
          "data": {
            "image/png": "[encoded data removed]",
            "text/plain": [
              "<Figure size 432x360 with 1 Axes>"
            ]
          },
          "metadata": {},
          "output_type": "display_data"
        },
        {
          "data": {
            "image/png": "[encoded data removed]",
            "text/plain": [
              "<Figure size 432x360 with 1 Axes>"
            ]
          },
          "metadata": {},
          "output_type": "display_data"
        }
      ],
      "source": [
        "# выводим количество людей по каждому параметру среди категорий оттока\n",
        "\n",
        "data_col = data.drop(['age',\n",
        "                      'avg_additional_charges_total',\n",
        "                      'avg_class_frequency_total',\n",
        "                      'avg_class_frequency_current_month',\n",
        "                      'churn'], axis=1)\n",
        "\n",
        "for col in data_col.columns:\n",
        "    sns.set_style('whitegrid')\n",
        "    plt.figure(figsize=(6, 5))\n",
        "    sns.countplot(data=data, x=col, hue='churn')\n",
        "    plt.title(col, size=12)\n",
        "    plt.xlabel('Параметр', size=10)\n",
        "    plt.ylabel('Количество клиентов', size=10)\n",
        "    plt.show()"
      ]
    },
    {
      "cell_type": "markdown",
      "metadata": {
        "id": "EUKn6yS7BDI-"
      },
      "source": [
        "**Вывод**\n",
        "\n",
        "Больше всего отток происходит по параметрам:\n",
        "\n",
        " - Клиенты, участвующую в акции \"приведи друга\"\n",
        " - Со сроком абонемента менее 6 месяцев\n",
        " - Клиенты в возрасте 28 лет\n",
        " - Клиенты, которые мало тратят на доп. услуги\n",
        " - Те, у кого до окончания абонемента осталось меньше месяца\n",
        " - С частотой посещения зала меньше 2-х раз в неделю\n",
        "\n",
        "Лояльные клиенты чаще встречаются по следующим параметрам:\n",
        "\n",
        " - Клиенты, проживающие в районе, где находится фитнес центр\n",
        " - Клиенты, работающие в компаниях партнёров\n",
        " - Оставившие номер телефона\n",
        " - Со сроком абонемента 6 или 12 месяцев\n",
        " - Посещающие групповые занятия\n",
        " - Старше 28 лет\n",
        " - Клиенты, которые занимаются 3 и более раз в неделю\n",
        "\n",
        "Нет разницы в оттоке:\n",
        "\n",
        " - В половом разделении\n",
        " - У тех, кто не посещает групповые занятия"
      ]
    },
    {
      "cell_type": "code",
      "execution_count": null,
      "metadata": {
        "id": "fhkNSLRXBDJB",
        "outputId": "87a9fccf-cca3-44a2-a11a-87c20e8f81de"
      },
      "outputs": [
        {
          "data": {
            "text/html": [
              "<div>\n",
              "<style scoped>\n",
              "    .dataframe tbody tr th:only-of-type {\n",
              "        vertical-align: middle;\n",
              "    }\n",
              "\n",
              "    .dataframe tbody tr th {\n",
              "        vertical-align: top;\n",
              "    }\n",
              "\n",
              "    .dataframe thead th {\n",
              "        text-align: right;\n",
              "    }\n",
              "</style>\n",
              "<table border=\"1\" class=\"dataframe\">\n",
              "  <thead>\n",
              "    <tr style=\"text-align: right;\">\n",
              "      <th></th>\n",
              "      <th>gender</th>\n",
              "      <th>near_location</th>\n",
              "      <th>partner</th>\n",
              "      <th>promo_friends</th>\n",
              "      <th>phone</th>\n",
              "      <th>contract_period</th>\n",
              "      <th>group_visits</th>\n",
              "      <th>age</th>\n",
              "      <th>avg_additional_charges_total</th>\n",
              "      <th>month_to_end_contract</th>\n",
              "      <th>lifetime</th>\n",
              "      <th>avg_class_frequency_total</th>\n",
              "      <th>avg_class_frequency_current_month</th>\n",
              "      <th>churn</th>\n",
              "    </tr>\n",
              "  </thead>\n",
              "  <tbody>\n",
              "    <tr>\n",
              "      <th>gender</th>\n",
              "      <td>1.000000</td>\n",
              "      <td>0.006699</td>\n",
              "      <td>-0.010463</td>\n",
              "      <td>-0.005033</td>\n",
              "      <td>-0.008542</td>\n",
              "      <td>0.000502</td>\n",
              "      <td>0.017879</td>\n",
              "      <td>0.013807</td>\n",
              "      <td>-0.009334</td>\n",
              "      <td>-0.001281</td>\n",
              "      <td>0.013579</td>\n",
              "      <td>0.014620</td>\n",
              "      <td>0.009156</td>\n",
              "      <td>0.000708</td>\n",
              "    </tr>\n",
              "    <tr>\n",
              "      <th>near_location</th>\n",
              "      <td>0.006699</td>\n",
              "      <td>1.000000</td>\n",
              "      <td>-0.005119</td>\n",
              "      <td>0.210964</td>\n",
              "      <td>-0.015763</td>\n",
              "      <td>0.150233</td>\n",
              "      <td>0.154728</td>\n",
              "      <td>0.058358</td>\n",
              "      <td>0.040761</td>\n",
              "      <td>0.143961</td>\n",
              "      <td>0.070921</td>\n",
              "      <td>0.043127</td>\n",
              "      <td>0.062664</td>\n",
              "      <td>-0.128098</td>\n",
              "    </tr>\n",
              "    <tr>\n",
              "      <th>partner</th>\n",
              "      <td>-0.010463</td>\n",
              "      <td>-0.005119</td>\n",
              "      <td>1.000000</td>\n",
              "      <td>0.451960</td>\n",
              "      <td>0.009970</td>\n",
              "      <td>0.306166</td>\n",
              "      <td>0.022710</td>\n",
              "      <td>0.047480</td>\n",
              "      <td>0.022941</td>\n",
              "      <td>0.294632</td>\n",
              "      <td>0.061229</td>\n",
              "      <td>0.024938</td>\n",
              "      <td>0.045561</td>\n",
              "      <td>-0.157986</td>\n",
              "    </tr>\n",
              "    <tr>\n",
              "      <th>promo_friends</th>\n",
              "      <td>-0.005033</td>\n",
              "      <td>0.210964</td>\n",
              "      <td>0.451960</td>\n",
              "      <td>1.000000</td>\n",
              "      <td>0.001982</td>\n",
              "      <td>0.244552</td>\n",
              "      <td>0.120170</td>\n",
              "      <td>0.050113</td>\n",
              "      <td>0.036898</td>\n",
              "      <td>0.239553</td>\n",
              "      <td>0.072721</td>\n",
              "      <td>0.028063</td>\n",
              "      <td>0.053768</td>\n",
              "      <td>-0.162233</td>\n",
              "    </tr>\n",
              "    <tr>\n",
              "      <th>phone</th>\n",
              "      <td>-0.008542</td>\n",
              "      <td>-0.015763</td>\n",
              "      <td>0.009970</td>\n",
              "      <td>0.001982</td>\n",
              "      <td>1.000000</td>\n",
              "      <td>-0.006893</td>\n",
              "      <td>-0.010099</td>\n",
              "      <td>-0.011403</td>\n",
              "      <td>0.009279</td>\n",
              "      <td>-0.011196</td>\n",
              "      <td>-0.018801</td>\n",
              "      <td>0.008340</td>\n",
              "      <td>0.013375</td>\n",
              "      <td>-0.001177</td>\n",
              "    </tr>\n",
              "    <tr>\n",
              "      <th>contract_period</th>\n",
              "      <td>0.000502</td>\n",
              "      <td>0.150233</td>\n",
              "      <td>0.306166</td>\n",
              "      <td>0.244552</td>\n",
              "      <td>-0.006893</td>\n",
              "      <td>1.000000</td>\n",
              "      <td>0.169991</td>\n",
              "      <td>0.138249</td>\n",
              "      <td>0.111445</td>\n",
              "      <td>0.973064</td>\n",
              "      <td>0.170725</td>\n",
              "      <td>0.096211</td>\n",
              "      <td>0.159407</td>\n",
              "      <td>-0.389984</td>\n",
              "    </tr>\n",
              "    <tr>\n",
              "      <th>group_visits</th>\n",
              "      <td>0.017879</td>\n",
              "      <td>0.154728</td>\n",
              "      <td>0.022710</td>\n",
              "      <td>0.120170</td>\n",
              "      <td>-0.010099</td>\n",
              "      <td>0.169991</td>\n",
              "      <td>1.000000</td>\n",
              "      <td>0.080934</td>\n",
              "      <td>0.032079</td>\n",
              "      <td>0.163703</td>\n",
              "      <td>0.075853</td>\n",
              "      <td>0.056695</td>\n",
              "      <td>0.075923</td>\n",
              "      <td>-0.175325</td>\n",
              "    </tr>\n",
              "    <tr>\n",
              "      <th>age</th>\n",
              "      <td>0.013807</td>\n",
              "      <td>0.058358</td>\n",
              "      <td>0.047480</td>\n",
              "      <td>0.050113</td>\n",
              "      <td>-0.011403</td>\n",
              "      <td>0.138249</td>\n",
              "      <td>0.080934</td>\n",
              "      <td>1.000000</td>\n",
              "      <td>0.080240</td>\n",
              "      <td>0.134511</td>\n",
              "      <td>0.164693</td>\n",
              "      <td>0.119953</td>\n",
              "      <td>0.183095</td>\n",
              "      <td>-0.404735</td>\n",
              "    </tr>\n",
              "    <tr>\n",
              "      <th>avg_additional_charges_total</th>\n",
              "      <td>-0.009334</td>\n",
              "      <td>0.040761</td>\n",
              "      <td>0.022941</td>\n",
              "      <td>0.036898</td>\n",
              "      <td>0.009279</td>\n",
              "      <td>0.111445</td>\n",
              "      <td>0.032079</td>\n",
              "      <td>0.080240</td>\n",
              "      <td>1.000000</td>\n",
              "      <td>0.113958</td>\n",
              "      <td>0.079028</td>\n",
              "      <td>0.044426</td>\n",
              "      <td>0.079570</td>\n",
              "      <td>-0.198697</td>\n",
              "    </tr>\n",
              "    <tr>\n",
              "      <th>month_to_end_contract</th>\n",
              "      <td>-0.001281</td>\n",
              "      <td>0.143961</td>\n",
              "      <td>0.294632</td>\n",
              "      <td>0.239553</td>\n",
              "      <td>-0.011196</td>\n",
              "      <td>0.973064</td>\n",
              "      <td>0.163703</td>\n",
              "      <td>0.134511</td>\n",
              "      <td>0.113958</td>\n",
              "      <td>1.000000</td>\n",
              "      <td>0.161078</td>\n",
              "      <td>0.085387</td>\n",
              "      <td>0.147605</td>\n",
              "      <td>-0.381393</td>\n",
              "    </tr>\n",
              "    <tr>\n",
              "      <th>lifetime</th>\n",
              "      <td>0.013579</td>\n",
              "      <td>0.070921</td>\n",
              "      <td>0.061229</td>\n",
              "      <td>0.072721</td>\n",
              "      <td>-0.018801</td>\n",
              "      <td>0.170725</td>\n",
              "      <td>0.075853</td>\n",
              "      <td>0.164693</td>\n",
              "      <td>0.079028</td>\n",
              "      <td>0.161078</td>\n",
              "      <td>1.000000</td>\n",
              "      <td>0.112338</td>\n",
              "      <td>0.181975</td>\n",
              "      <td>-0.438220</td>\n",
              "    </tr>\n",
              "    <tr>\n",
              "      <th>avg_class_frequency_total</th>\n",
              "      <td>0.014620</td>\n",
              "      <td>0.043127</td>\n",
              "      <td>0.024938</td>\n",
              "      <td>0.028063</td>\n",
              "      <td>0.008340</td>\n",
              "      <td>0.096211</td>\n",
              "      <td>0.056695</td>\n",
              "      <td>0.119953</td>\n",
              "      <td>0.044426</td>\n",
              "      <td>0.085387</td>\n",
              "      <td>0.112338</td>\n",
              "      <td>1.000000</td>\n",
              "      <td>0.952739</td>\n",
              "      <td>-0.249715</td>\n",
              "    </tr>\n",
              "    <tr>\n",
              "      <th>avg_class_frequency_current_month</th>\n",
              "      <td>0.009156</td>\n",
              "      <td>0.062664</td>\n",
              "      <td>0.045561</td>\n",
              "      <td>0.053768</td>\n",
              "      <td>0.013375</td>\n",
              "      <td>0.159407</td>\n",
              "      <td>0.075923</td>\n",
              "      <td>0.183095</td>\n",
              "      <td>0.079570</td>\n",
              "      <td>0.147605</td>\n",
              "      <td>0.181975</td>\n",
              "      <td>0.952739</td>\n",
              "      <td>1.000000</td>\n",
              "      <td>-0.412348</td>\n",
              "    </tr>\n",
              "    <tr>\n",
              "      <th>churn</th>\n",
              "      <td>0.000708</td>\n",
              "      <td>-0.128098</td>\n",
              "      <td>-0.157986</td>\n",
              "      <td>-0.162233</td>\n",
              "      <td>-0.001177</td>\n",
              "      <td>-0.389984</td>\n",
              "      <td>-0.175325</td>\n",
              "      <td>-0.404735</td>\n",
              "      <td>-0.198697</td>\n",
              "      <td>-0.381393</td>\n",
              "      <td>-0.438220</td>\n",
              "      <td>-0.249715</td>\n",
              "      <td>-0.412348</td>\n",
              "      <td>1.000000</td>\n",
              "    </tr>\n",
              "  </tbody>\n",
              "</table>\n",
              "</div>"
            ],
            "text/plain": [
              "                                     gender  near_location   partner  \\\n",
              "gender                             1.000000       0.006699 -0.010463   \n",
              "near_location                      0.006699       1.000000 -0.005119   \n",
              "partner                           -0.010463      -0.005119  1.000000   \n",
              "promo_friends                     -0.005033       0.210964  0.451960   \n",
              "phone                             -0.008542      -0.015763  0.009970   \n",
              "contract_period                    0.000502       0.150233  0.306166   \n",
              "group_visits                       0.017879       0.154728  0.022710   \n",
              "age                                0.013807       0.058358  0.047480   \n",
              "avg_additional_charges_total      -0.009334       0.040761  0.022941   \n",
              "month_to_end_contract             -0.001281       0.143961  0.294632   \n",
              "lifetime                           0.013579       0.070921  0.061229   \n",
              "avg_class_frequency_total          0.014620       0.043127  0.024938   \n",
              "avg_class_frequency_current_month  0.009156       0.062664  0.045561   \n",
              "churn                              0.000708      -0.128098 -0.157986   \n",
              "\n",
              "                                   promo_friends     phone  contract_period  \\\n",
              "gender                                 -0.005033 -0.008542         0.000502   \n",
              "near_location                           0.210964 -0.015763         0.150233   \n",
              "partner                                 0.451960  0.009970         0.306166   \n",
              "promo_friends                           1.000000  0.001982         0.244552   \n",
              "phone                                   0.001982  1.000000        -0.006893   \n",
              "contract_period                         0.244552 -0.006893         1.000000   \n",
              "group_visits                            0.120170 -0.010099         0.169991   \n",
              "age                                     0.050113 -0.011403         0.138249   \n",
              "avg_additional_charges_total            0.036898  0.009279         0.111445   \n",
              "month_to_end_contract                   0.239553 -0.011196         0.973064   \n",
              "lifetime                                0.072721 -0.018801         0.170725   \n",
              "avg_class_frequency_total               0.028063  0.008340         0.096211   \n",
              "avg_class_frequency_current_month       0.053768  0.013375         0.159407   \n",
              "churn                                  -0.162233 -0.001177        -0.389984   \n",
              "\n",
              "                                   group_visits       age  \\\n",
              "gender                                 0.017879  0.013807   \n",
              "near_location                          0.154728  0.058358   \n",
              "partner                                0.022710  0.047480   \n",
              "promo_friends                          0.120170  0.050113   \n",
              "phone                                 -0.010099 -0.011403   \n",
              "contract_period                        0.169991  0.138249   \n",
              "group_visits                           1.000000  0.080934   \n",
              "age                                    0.080934  1.000000   \n",
              "avg_additional_charges_total           0.032079  0.080240   \n",
              "month_to_end_contract                  0.163703  0.134511   \n",
              "lifetime                               0.075853  0.164693   \n",
              "avg_class_frequency_total              0.056695  0.119953   \n",
              "avg_class_frequency_current_month      0.075923  0.183095   \n",
              "churn                                 -0.175325 -0.404735   \n",
              "\n",
              "                                   avg_additional_charges_total  \\\n",
              "gender                                                -0.009334   \n",
              "near_location                                          0.040761   \n",
              "partner                                                0.022941   \n",
              "promo_friends                                          0.036898   \n",
              "phone                                                  0.009279   \n",
              "contract_period                                        0.111445   \n",
              "group_visits                                           0.032079   \n",
              "age                                                    0.080240   \n",
              "avg_additional_charges_total                           1.000000   \n",
              "month_to_end_contract                                  0.113958   \n",
              "lifetime                                               0.079028   \n",
              "avg_class_frequency_total                              0.044426   \n",
              "avg_class_frequency_current_month                      0.079570   \n",
              "churn                                                 -0.198697   \n",
              "\n",
              "                                   month_to_end_contract  lifetime  \\\n",
              "gender                                         -0.001281  0.013579   \n",
              "near_location                                   0.143961  0.070921   \n",
              "partner                                         0.294632  0.061229   \n",
              "promo_friends                                   0.239553  0.072721   \n",
              "phone                                          -0.011196 -0.018801   \n",
              "contract_period                                 0.973064  0.170725   \n",
              "group_visits                                    0.163703  0.075853   \n",
              "age                                             0.134511  0.164693   \n",
              "avg_additional_charges_total                    0.113958  0.079028   \n",
              "month_to_end_contract                           1.000000  0.161078   \n",
              "lifetime                                        0.161078  1.000000   \n",
              "avg_class_frequency_total                       0.085387  0.112338   \n",
              "avg_class_frequency_current_month               0.147605  0.181975   \n",
              "churn                                          -0.381393 -0.438220   \n",
              "\n",
              "                                   avg_class_frequency_total  \\\n",
              "gender                                              0.014620   \n",
              "near_location                                       0.043127   \n",
              "partner                                             0.024938   \n",
              "promo_friends                                       0.028063   \n",
              "phone                                               0.008340   \n",
              "contract_period                                     0.096211   \n",
              "group_visits                                        0.056695   \n",
              "age                                                 0.119953   \n",
              "avg_additional_charges_total                        0.044426   \n",
              "month_to_end_contract                               0.085387   \n",
              "lifetime                                            0.112338   \n",
              "avg_class_frequency_total                           1.000000   \n",
              "avg_class_frequency_current_month                   0.952739   \n",
              "churn                                              -0.249715   \n",
              "\n",
              "                                   avg_class_frequency_current_month     churn  \n",
              "gender                                                      0.009156  0.000708  \n",
              "near_location                                               0.062664 -0.128098  \n",
              "partner                                                     0.045561 -0.157986  \n",
              "promo_friends                                               0.053768 -0.162233  \n",
              "phone                                                       0.013375 -0.001177  \n",
              "contract_period                                             0.159407 -0.389984  \n",
              "group_visits                                                0.075923 -0.175325  \n",
              "age                                                         0.183095 -0.404735  \n",
              "avg_additional_charges_total                                0.079570 -0.198697  \n",
              "month_to_end_contract                                       0.147605 -0.381393  \n",
              "lifetime                                                    0.181975 -0.438220  \n",
              "avg_class_frequency_total                                   0.952739 -0.249715  \n",
              "avg_class_frequency_current_month                           1.000000 -0.412348  \n",
              "churn                                                      -0.412348  1.000000  "
            ]
          },
          "metadata": {},
          "output_type": "display_data"
        },
        {
          "data": {
            "text/plain": [
              "<AxesSubplot:>"
            ]
          },
          "execution_count": 11,
          "metadata": {},
          "output_type": "execute_result"
        },
        {
          "data": {
            "image/png": "[encoded data removed]",
            "text/plain": [
              "<Figure size 864x720 with 2 Axes>"
            ]
          },
          "metadata": {},
          "output_type": "display_data"
        }
      ],
      "source": [
        "# проверяем корреляцию параметров на наличие мультиколлинеарности\n",
        "\n",
        "cm = data.corr()\n",
        "display(cm)\n",
        "\n",
        "plt.figure(figsize=(12, 10))\n",
        "\n",
        "sns.heatmap(cm, annot=True, annot_kws={'size':13}, fmt='0.2f')"
      ]
    },
    {
      "cell_type": "markdown",
      "metadata": {
        "id": "2-ugHeiGBDJC"
      },
      "source": [
        "**Вывод**\n",
        "\n",
        "Сильной корреляции между параметрами и целевой переменной нет. У параметров `gender` и `phone` нет взаимосвязи с оттоком. В данных присутствуют мультиколлинеарные параметры `month_to_end_contract` и `avg_class_frequency_total`."
      ]
    },
    {
      "cell_type": "markdown",
      "metadata": {
        "id": "SsBs3xAtBDJD"
      },
      "source": [
        "**Вывод**\n",
        "\n",
        "- Привели названия столбцов и данные к правильному типу\n",
        "- Посмотрели распределение признаков по оттоку\n",
        "- Построили графики по параметрам и целевой переменной"
      ]
    },
    {
      "cell_type": "markdown",
      "metadata": {
        "id": "pTKQ96PZBDJE"
      },
      "source": [
        "## Модель прогнозирования оттока клиентов"
      ]
    },
    {
      "cell_type": "code",
      "execution_count": null,
      "metadata": {
        "id": "wD0znzYsBDJE"
      },
      "outputs": [],
      "source": [
        "# исключаем мультиколлинеарные параметры\n",
        "\n",
        "df = data.drop(['month_to_end_contract', 'avg_class_frequency_total'], axis=1)"
      ]
    },
    {
      "cell_type": "code",
      "execution_count": null,
      "metadata": {
        "id": "meaxqDQ3BDJF"
      },
      "outputs": [],
      "source": [
        "# разделяем данные на признаки и целевую переменную\n",
        "\n",
        "X = df.drop('churn', axis=1)\n",
        "y = df['churn']\n",
        "\n",
        "# разбиваем на обучающую и тестовую выборки\n",
        "\n",
        "X_train, X_test, y_train, y_test = train_test_split(X, y, test_size=0.2, random_state=0)"
      ]
    },
    {
      "cell_type": "code",
      "execution_count": null,
      "metadata": {
        "id": "PhdT_fsEBDJG"
      },
      "outputs": [],
      "source": [
        "# стандартизируем\n",
        "\n",
        "scaler = StandardScaler()\n",
        "\n",
        "X_train_st = scaler.fit_transform(X_train)\n",
        "X_test_st = scaler.transform(X_test)"
      ]
    },
    {
      "cell_type": "code",
      "execution_count": null,
      "metadata": {
        "id": "ik7oKOwaBDJI"
      },
      "outputs": [],
      "source": [
        "# обучаем модель логистической регрессии и делаем прогнозы\n",
        "\n",
        "model_lr = LogisticRegression(solver='liblinear', random_state=0)\n",
        "\n",
        "model_lr.fit(X_train_st, y_train)\n",
        "\n",
        "predictions_lr = model_lr.predict(X_test_st)"
      ]
    },
    {
      "cell_type": "code",
      "execution_count": null,
      "metadata": {
        "id": "ZCS_gmB_BDJI"
      },
      "outputs": [],
      "source": [
        "# функция для подсчёта всех метрик оценки модели\n",
        "\n",
        "def metrics(y_true, y_pred, title):\n",
        "    print(title)\n",
        "    print('Accuracy: {:.2f}'.format(accuracy_score(y_true, y_pred)))\n",
        "    print('Precision: {:.2f}'.format(precision_score(y_true, y_pred)))\n",
        "    print('Recall: {:.2f}'.format(recall_score(y_true, y_pred)))"
      ]
    },
    {
      "cell_type": "code",
      "execution_count": null,
      "metadata": {
        "id": "zB06uu9IBDJJ",
        "outputId": "2eb0cf69-4df2-469c-bf10-f347fac66936"
      },
      "outputs": [
        {
          "name": "stdout",
          "output_type": "stream",
          "text": [
            "Метрики для логистической регрессии\n",
            "Accuracy: 0.90\n",
            "Precision: 0.79\n",
            "Recall: 0.82\n"
          ]
        }
      ],
      "source": [
        "metrics(y_test, predictions_lr, title='Метрики для логистической регрессии')"
      ]
    },
    {
      "cell_type": "markdown",
      "metadata": {
        "id": "8uuxrs_vBDJb"
      },
      "source": [
        "**Вывод**\n",
        "\n",
        "Метрики показывают достаточно высокие значения: модель предсказывает правильно 90% клиентов, которые не продлевают абонемент (accuracy); 79% составляет доля правильно предсказанных клиентов, попавших в отток (precision); модель верно определяет 82% клиентов, которые решили не продлевать абонемент (recall)."
      ]
    },
    {
      "cell_type": "code",
      "execution_count": null,
      "metadata": {
        "id": "Tco1nT6iBDJh"
      },
      "outputs": [],
      "source": [
        "# обучаем на модели случайного леса\n",
        "\n",
        "model_rf = RandomForestClassifier(random_state = 0)\n",
        "\n",
        "model_rf.fit(X_train_st, y_train)\n",
        "\n",
        "predictions_rf = model_rf.predict(X_test_st)"
      ]
    },
    {
      "cell_type": "code",
      "execution_count": null,
      "metadata": {
        "id": "lihGwxDOBDJi",
        "outputId": "7516547b-80db-4576-8638-d0103445ba17"
      },
      "outputs": [
        {
          "name": "stdout",
          "output_type": "stream",
          "text": [
            "Метрики для случайного леса\n",
            "Accuracy: 0.90\n",
            "Precision: 0.81\n",
            "Recall: 0.75\n"
          ]
        }
      ],
      "source": [
        "metrics(y_test, predictions_rf, title='Метрики для случайного леса')"
      ]
    },
    {
      "cell_type": "markdown",
      "metadata": {
        "id": "58LfF0bVBDJl"
      },
      "source": [
        "**Вывод**\n",
        "\n",
        "Случайный лес показывает результаты метрик ниже, поэтому нужно использовать логистическую регрессию."
      ]
    },
    {
      "cell_type": "markdown",
      "metadata": {
        "id": "xEvAenIOBDJl"
      },
      "source": [
        "## Кластеризация клиентов"
      ]
    },
    {
      "cell_type": "code",
      "execution_count": null,
      "metadata": {
        "id": "qixqhlO_BDJm"
      },
      "outputs": [],
      "source": [
        "# исключаем целевую переменную и стандартизируем данные\n",
        "\n",
        "df_cl = df.drop('churn', axis=1)\n",
        "\n",
        "sc = StandardScaler()\n",
        "df_sc = sc.fit_transform(df_cl)"
      ]
    },
    {
      "cell_type": "code",
      "execution_count": null,
      "metadata": {
        "id": "RmUnItGNBDJm"
      },
      "outputs": [],
      "source": [
        "linked = linkage(df_sc, method = 'ward')"
      ]
    },
    {
      "cell_type": "code",
      "execution_count": null,
      "metadata": {
        "scrolled": false,
        "id": "IlAD0ZxCBDJn",
        "outputId": "ce2c290d-23af-443c-e07d-23a132f66a79"
      },
      "outputs": [
        {
          "data": {
            "image/png": "[encoded data removed]",
            "text/plain": [
              "<Figure size 1152x720 with 1 Axes>"
            ]
          },
          "metadata": {},
          "output_type": "display_data"
        }
      ],
      "source": [
        "# строим дендрограмму\n",
        "\n",
        "plt.figure(figsize=(16, 10))\n",
        "dendrogram(linked, orientation='top')\n",
        "plt.title('Кластеризация пользователей фитнес центров')\n",
        "plt.show()"
      ]
    },
    {
      "cell_type": "markdown",
      "metadata": {
        "id": "Z-6QaoIZBDJo"
      },
      "source": [
        "**Вывод**\n",
        "\n",
        "Данные целесообразно поделить на 4 кластера исходя из дендрограммы, но по условиям проекта необходимо использовать 5."
      ]
    },
    {
      "cell_type": "code",
      "execution_count": null,
      "metadata": {
        "id": "vOlWeH-UBDJp"
      },
      "outputs": [],
      "source": [
        "km = KMeans(n_clusters=5, random_state=0)\n",
        "labels = km.fit_predict(df_sc)"
      ]
    },
    {
      "cell_type": "code",
      "execution_count": null,
      "metadata": {
        "scrolled": true,
        "id": "lVZYOD9QBDJq",
        "outputId": "cc525463-d55b-47f0-9951-5b142eeb037f"
      },
      "outputs": [
        {
          "data": {
            "text/html": [
              "<div>\n",
              "<style scoped>\n",
              "    .dataframe tbody tr th:only-of-type {\n",
              "        vertical-align: middle;\n",
              "    }\n",
              "\n",
              "    .dataframe tbody tr th {\n",
              "        vertical-align: top;\n",
              "    }\n",
              "\n",
              "    .dataframe thead th {\n",
              "        text-align: right;\n",
              "    }\n",
              "</style>\n",
              "<table border=\"1\" class=\"dataframe\">\n",
              "  <thead>\n",
              "    <tr style=\"text-align: right;\">\n",
              "      <th></th>\n",
              "      <th>gender</th>\n",
              "      <th>near_location</th>\n",
              "      <th>partner</th>\n",
              "      <th>promo_friends</th>\n",
              "      <th>phone</th>\n",
              "      <th>contract_period</th>\n",
              "      <th>group_visits</th>\n",
              "      <th>age</th>\n",
              "      <th>avg_additional_charges_total</th>\n",
              "      <th>month_to_end_contract</th>\n",
              "      <th>lifetime</th>\n",
              "      <th>avg_class_frequency_total</th>\n",
              "      <th>avg_class_frequency_current_month</th>\n",
              "      <th>churn</th>\n",
              "      <th>cluster_km</th>\n",
              "    </tr>\n",
              "  </thead>\n",
              "  <tbody>\n",
              "    <tr>\n",
              "      <th>0</th>\n",
              "      <td>1</td>\n",
              "      <td>1</td>\n",
              "      <td>1</td>\n",
              "      <td>1</td>\n",
              "      <td>0</td>\n",
              "      <td>6</td>\n",
              "      <td>1</td>\n",
              "      <td>29</td>\n",
              "      <td>14.227470</td>\n",
              "      <td>5</td>\n",
              "      <td>3</td>\n",
              "      <td>0.020398</td>\n",
              "      <td>0.000000</td>\n",
              "      <td>0</td>\n",
              "      <td>4</td>\n",
              "    </tr>\n",
              "    <tr>\n",
              "      <th>1</th>\n",
              "      <td>0</td>\n",
              "      <td>1</td>\n",
              "      <td>0</td>\n",
              "      <td>0</td>\n",
              "      <td>1</td>\n",
              "      <td>12</td>\n",
              "      <td>1</td>\n",
              "      <td>31</td>\n",
              "      <td>113.202938</td>\n",
              "      <td>12</td>\n",
              "      <td>7</td>\n",
              "      <td>1.922936</td>\n",
              "      <td>1.910244</td>\n",
              "      <td>0</td>\n",
              "      <td>3</td>\n",
              "    </tr>\n",
              "    <tr>\n",
              "      <th>2</th>\n",
              "      <td>0</td>\n",
              "      <td>1</td>\n",
              "      <td>1</td>\n",
              "      <td>0</td>\n",
              "      <td>1</td>\n",
              "      <td>1</td>\n",
              "      <td>0</td>\n",
              "      <td>28</td>\n",
              "      <td>129.448479</td>\n",
              "      <td>1</td>\n",
              "      <td>2</td>\n",
              "      <td>1.859098</td>\n",
              "      <td>1.736502</td>\n",
              "      <td>0</td>\n",
              "      <td>2</td>\n",
              "    </tr>\n",
              "    <tr>\n",
              "      <th>3</th>\n",
              "      <td>0</td>\n",
              "      <td>1</td>\n",
              "      <td>1</td>\n",
              "      <td>1</td>\n",
              "      <td>1</td>\n",
              "      <td>12</td>\n",
              "      <td>1</td>\n",
              "      <td>33</td>\n",
              "      <td>62.669863</td>\n",
              "      <td>12</td>\n",
              "      <td>2</td>\n",
              "      <td>3.205633</td>\n",
              "      <td>3.357215</td>\n",
              "      <td>0</td>\n",
              "      <td>0</td>\n",
              "    </tr>\n",
              "    <tr>\n",
              "      <th>4</th>\n",
              "      <td>1</td>\n",
              "      <td>1</td>\n",
              "      <td>1</td>\n",
              "      <td>1</td>\n",
              "      <td>1</td>\n",
              "      <td>1</td>\n",
              "      <td>0</td>\n",
              "      <td>26</td>\n",
              "      <td>198.362265</td>\n",
              "      <td>1</td>\n",
              "      <td>3</td>\n",
              "      <td>1.113884</td>\n",
              "      <td>1.120078</td>\n",
              "      <td>0</td>\n",
              "      <td>0</td>\n",
              "    </tr>\n",
              "  </tbody>\n",
              "</table>\n",
              "</div>"
            ],
            "text/plain": [
              "   gender  near_location  partner  promo_friends  phone  contract_period  \\\n",
              "0       1              1        1              1      0                6   \n",
              "1       0              1        0              0      1               12   \n",
              "2       0              1        1              0      1                1   \n",
              "3       0              1        1              1      1               12   \n",
              "4       1              1        1              1      1                1   \n",
              "\n",
              "   group_visits  age  avg_additional_charges_total  month_to_end_contract  \\\n",
              "0             1   29                     14.227470                      5   \n",
              "1             1   31                    113.202938                     12   \n",
              "2             0   28                    129.448479                      1   \n",
              "3             1   33                     62.669863                     12   \n",
              "4             0   26                    198.362265                      1   \n",
              "\n",
              "   lifetime  avg_class_frequency_total  avg_class_frequency_current_month  \\\n",
              "0         3                   0.020398                           0.000000   \n",
              "1         7                   1.922936                           1.910244   \n",
              "2         2                   1.859098                           1.736502   \n",
              "3         2                   3.205633                           3.357215   \n",
              "4         3                   1.113884                           1.120078   \n",
              "\n",
              "   churn  cluster_km  \n",
              "0      0           4  \n",
              "1      0           3  \n",
              "2      0           2  \n",
              "3      0           0  \n",
              "4      0           0  "
            ]
          },
          "execution_count": 24,
          "metadata": {},
          "output_type": "execute_result"
        }
      ],
      "source": [
        "# добавляем в исходные данные кластеры\n",
        "\n",
        "data['cluster_km'] = labels\n",
        "data.head()"
      ]
    },
    {
      "cell_type": "code",
      "execution_count": null,
      "metadata": {
        "id": "6r5TxBljBDJr",
        "outputId": "3dcddf3a-4105-4fc6-cb17-07c43d23d308"
      },
      "outputs": [
        {
          "data": {
            "text/html": [
              "<div>\n",
              "<style scoped>\n",
              "    .dataframe tbody tr th:only-of-type {\n",
              "        vertical-align: middle;\n",
              "    }\n",
              "\n",
              "    .dataframe tbody tr th {\n",
              "        vertical-align: top;\n",
              "    }\n",
              "\n",
              "    .dataframe thead th {\n",
              "        text-align: right;\n",
              "    }\n",
              "</style>\n",
              "<table border=\"1\" class=\"dataframe\">\n",
              "  <thead>\n",
              "    <tr style=\"text-align: right;\">\n",
              "      <th>cluster_km</th>\n",
              "      <th>0</th>\n",
              "      <th>1</th>\n",
              "      <th>2</th>\n",
              "      <th>3</th>\n",
              "      <th>4</th>\n",
              "    </tr>\n",
              "  </thead>\n",
              "  <tbody>\n",
              "    <tr>\n",
              "      <th>gender</th>\n",
              "      <td>0.496447</td>\n",
              "      <td>0.500000</td>\n",
              "      <td>0.500940</td>\n",
              "      <td>0.534260</td>\n",
              "      <td>0.523316</td>\n",
              "    </tr>\n",
              "    <tr>\n",
              "      <th>near_location</th>\n",
              "      <td>0.995939</td>\n",
              "      <td>0.000000</td>\n",
              "      <td>1.000000</td>\n",
              "      <td>0.996028</td>\n",
              "      <td>0.862694</td>\n",
              "    </tr>\n",
              "    <tr>\n",
              "      <th>partner</th>\n",
              "      <td>0.892386</td>\n",
              "      <td>0.489247</td>\n",
              "      <td>0.217105</td>\n",
              "      <td>0.379345</td>\n",
              "      <td>0.471503</td>\n",
              "    </tr>\n",
              "    <tr>\n",
              "      <th>promo_friends</th>\n",
              "      <td>1.000000</td>\n",
              "      <td>0.078853</td>\n",
              "      <td>0.072368</td>\n",
              "      <td>0.009930</td>\n",
              "      <td>0.305699</td>\n",
              "    </tr>\n",
              "    <tr>\n",
              "      <th>phone</th>\n",
              "      <td>1.000000</td>\n",
              "      <td>1.000000</td>\n",
              "      <td>1.000000</td>\n",
              "      <td>1.000000</td>\n",
              "      <td>0.000000</td>\n",
              "    </tr>\n",
              "    <tr>\n",
              "      <th>contract_period</th>\n",
              "      <td>6.922843</td>\n",
              "      <td>2.994624</td>\n",
              "      <td>2.010338</td>\n",
              "      <td>6.208540</td>\n",
              "      <td>4.777202</td>\n",
              "    </tr>\n",
              "    <tr>\n",
              "      <th>group_visits</th>\n",
              "      <td>0.524873</td>\n",
              "      <td>0.232975</td>\n",
              "      <td>0.277256</td>\n",
              "      <td>0.538232</td>\n",
              "      <td>0.427461</td>\n",
              "    </tr>\n",
              "    <tr>\n",
              "      <th>age</th>\n",
              "      <td>29.606091</td>\n",
              "      <td>28.679211</td>\n",
              "      <td>27.583647</td>\n",
              "      <td>30.699106</td>\n",
              "      <td>29.297927</td>\n",
              "    </tr>\n",
              "    <tr>\n",
              "      <th>avg_additional_charges_total</th>\n",
              "      <td>153.424651</td>\n",
              "      <td>137.125763</td>\n",
              "      <td>119.339956</td>\n",
              "      <td>176.259567</td>\n",
              "      <td>144.208179</td>\n",
              "    </tr>\n",
              "    <tr>\n",
              "      <th>month_to_end_contract</th>\n",
              "      <td>6.332995</td>\n",
              "      <td>2.818996</td>\n",
              "      <td>1.941729</td>\n",
              "      <td>5.650447</td>\n",
              "      <td>4.466321</td>\n",
              "    </tr>\n",
              "    <tr>\n",
              "      <th>lifetime</th>\n",
              "      <td>4.283249</td>\n",
              "      <td>2.974910</td>\n",
              "      <td>1.922932</td>\n",
              "      <td>5.415094</td>\n",
              "      <td>3.940415</td>\n",
              "    </tr>\n",
              "    <tr>\n",
              "      <th>avg_class_frequency_total</th>\n",
              "      <td>1.962217</td>\n",
              "      <td>1.764122</td>\n",
              "      <td>1.451098</td>\n",
              "      <td>2.322960</td>\n",
              "      <td>1.854211</td>\n",
              "    </tr>\n",
              "    <tr>\n",
              "      <th>avg_class_frequency_current_month</th>\n",
              "      <td>1.919520</td>\n",
              "      <td>1.597146</td>\n",
              "      <td>1.203319</td>\n",
              "      <td>2.324220</td>\n",
              "      <td>1.723967</td>\n",
              "    </tr>\n",
              "    <tr>\n",
              "      <th>churn</th>\n",
              "      <td>0.119797</td>\n",
              "      <td>0.403226</td>\n",
              "      <td>0.563910</td>\n",
              "      <td>0.014896</td>\n",
              "      <td>0.266839</td>\n",
              "    </tr>\n",
              "  </tbody>\n",
              "</table>\n",
              "</div>"
            ],
            "text/plain": [
              "cluster_km                                  0           1           2  \\\n",
              "gender                               0.496447    0.500000    0.500940   \n",
              "near_location                        0.995939    0.000000    1.000000   \n",
              "partner                              0.892386    0.489247    0.217105   \n",
              "promo_friends                        1.000000    0.078853    0.072368   \n",
              "phone                                1.000000    1.000000    1.000000   \n",
              "contract_period                      6.922843    2.994624    2.010338   \n",
              "group_visits                         0.524873    0.232975    0.277256   \n",
              "age                                 29.606091   28.679211   27.583647   \n",
              "avg_additional_charges_total       153.424651  137.125763  119.339956   \n",
              "month_to_end_contract                6.332995    2.818996    1.941729   \n",
              "lifetime                             4.283249    2.974910    1.922932   \n",
              "avg_class_frequency_total            1.962217    1.764122    1.451098   \n",
              "avg_class_frequency_current_month    1.919520    1.597146    1.203319   \n",
              "churn                                0.119797    0.403226    0.563910   \n",
              "\n",
              "cluster_km                                  3           4  \n",
              "gender                               0.534260    0.523316  \n",
              "near_location                        0.996028    0.862694  \n",
              "partner                              0.379345    0.471503  \n",
              "promo_friends                        0.009930    0.305699  \n",
              "phone                                1.000000    0.000000  \n",
              "contract_period                      6.208540    4.777202  \n",
              "group_visits                         0.538232    0.427461  \n",
              "age                                 30.699106   29.297927  \n",
              "avg_additional_charges_total       176.259567  144.208179  \n",
              "month_to_end_contract                5.650447    4.466321  \n",
              "lifetime                             5.415094    3.940415  \n",
              "avg_class_frequency_total            2.322960    1.854211  \n",
              "avg_class_frequency_current_month    2.324220    1.723967  \n",
              "churn                                0.014896    0.266839  "
            ]
          },
          "execution_count": 25,
          "metadata": {},
          "output_type": "execute_result"
        }
      ],
      "source": [
        "data.groupby('cluster_km').mean().T"
      ]
    },
    {
      "cell_type": "code",
      "execution_count": null,
      "metadata": {
        "scrolled": false,
        "id": "ob2AMe8nBDJt",
        "outputId": "e5de3dff-d29a-4b3a-ad05-cafb9d515aa4"
      },
      "outputs": [
        {
          "data": {
            "image/png": "[encoded data removed]",
            "text/plain": [
              "<Figure size 432x360 with 1 Axes>"
            ]
          },
          "metadata": {},
          "output_type": "display_data"
        },
        {
          "data": {
            "image/png": "[encoded data removed]",
            "text/plain": [
              "<Figure size 432x360 with 1 Axes>"
            ]
          },
          "metadata": {},
          "output_type": "display_data"
        },
        {
          "data": {
            "image/png": "[encoded data removed]",
            "text/plain": [
              "<Figure size 432x360 with 1 Axes>"
            ]
          },
          "metadata": {},
          "output_type": "display_data"
        },
        {
          "data": {
            "image/png": "[encoded data removed]",
            "text/plain": [
              "<Figure size 432x360 with 1 Axes>"
            ]
          },
          "metadata": {},
          "output_type": "display_data"
        },
        {
          "data": {
            "image/png": "[encoded data removed]",
            "text/plain": [
              "<Figure size 432x360 with 1 Axes>"
            ]
          },
          "metadata": {},
          "output_type": "display_data"
        },
        {
          "data": {
            "image/png": "[encoded data removed]",
            "text/plain": [
              "<Figure size 432x360 with 1 Axes>"
            ]
          },
          "metadata": {},
          "output_type": "display_data"
        },
        {
          "data": {
            "image/png": "[encoded data removed]",
            "text/plain": [
              "<Figure size 432x360 with 1 Axes>"
            ]
          },
          "metadata": {},
          "output_type": "display_data"
        },
        {
          "data": {
            "image/png": "[encoded data removed]",
            "text/plain": [
              "<Figure size 432x360 with 1 Axes>"
            ]
          },
          "metadata": {},
          "output_type": "display_data"
        },
        {
          "data": {
            "image/png": "[encoded data removed]",
            "text/plain": [
              "<Figure size 432x360 with 1 Axes>"
            ]
          },
          "metadata": {},
          "output_type": "display_data"
        }
      ],
      "source": [
        "data_col = data.drop(['age',\n",
        "                     'avg_additional_charges_total',\n",
        "                     'avg_class_frequency_total',\n",
        "                     'avg_class_frequency_current_month',\n",
        "                     'churn',\n",
        "                     'cluster_km'], axis=1)\n",
        "\n",
        "for col in data_col.columns:\n",
        "    sns.set_style('whitegrid')\n",
        "    plt.figure(figsize=(6, 5))\n",
        "    sns.countplot(data=data, x=col, hue='cluster_km')\n",
        "    plt.title(col, size=12)\n",
        "    plt.xlabel('Параметр', size=10)\n",
        "    plt.ylabel('Количество клиентов', size=10)\n",
        "    plt.show()"
      ]
    },
    {
      "cell_type": "code",
      "execution_count": null,
      "metadata": {
        "id": "IqCCiI2OBDJt",
        "outputId": "ebbb341f-9702-4a7a-85f0-b087f1cb2013"
      },
      "outputs": [
        {
          "data": {
            "text/plain": [
              "cluster_km\n",
              "0     985\n",
              "1     558\n",
              "2    1064\n",
              "3    1007\n",
              "4     386\n",
              "Name: gender, dtype: int64"
            ]
          },
          "execution_count": 27,
          "metadata": {},
          "output_type": "execute_result"
        }
      ],
      "source": [
        "data.groupby('cluster_km')['gender'].count()"
      ]
    },
    {
      "cell_type": "code",
      "execution_count": null,
      "metadata": {
        "id": "Nt1fIKXCBDJu",
        "outputId": "f31fa2b0-3e69-40a3-dfd6-0532d23e6a81"
      },
      "outputs": [
        {
          "data": {
            "text/plain": [
              "cluster_km\n",
              "0    0.119797\n",
              "1    0.403226\n",
              "2    0.563910\n",
              "3    0.014896\n",
              "4    0.266839\n",
              "Name: churn, dtype: float64"
            ]
          },
          "execution_count": 28,
          "metadata": {},
          "output_type": "execute_result"
        }
      ],
      "source": [
        "data.groupby('cluster_km')['churn'].mean()"
      ]
    },
    {
      "cell_type": "markdown",
      "metadata": {
        "id": "2t_I6QjYBDJv"
      },
      "source": [
        "**Вывод**\n",
        "\n",
        "Среди кластеров наибольшая доля оттока у 2, меньше всего уходят клиенты, относящиеся к 3 кластеру."
      ]
    },
    {
      "cell_type": "markdown",
      "metadata": {
        "id": "MjYhxpJYBDJw"
      },
      "source": [
        "**Вывод**\n",
        "\n",
        "**`0 кластер`**\n",
        "\n",
        "- Живут рядом с залом\n",
        "- Почти 90% являются сотрудниками компаний партнёров\n",
        "- Все были приглашены друзьями в рамках акции \"приведи друга\"\n",
        "- Больше половины заключили контракт на 6 и 12 месяцев\n",
        "- Посещают групповые занятия примерно половина\n",
        "\n",
        "\n",
        "**`1 кластер`**\n",
        "\n",
        "- Живут не в районе спортзала\n",
        "- Половина являются сотрудниками компаний партнёров\n",
        "- Основная часть пришла не по приглашению друзей\n",
        "- Более половины приобрели билет только на 1 месяц\n",
        "- В основном не посещают групповые занятия\n",
        "\n",
        "\n",
        "**`2 кластер`**\n",
        "\n",
        "- Живут рядом с залом\n",
        "- Преобладающее количество не являются сотрудниками компаний партнёров\n",
        "- Почти все пришли 1-ый раз в зал не по приглашению друзей\n",
        "- Около 90% купили абонемент только на месяц\n",
        "- Примерно 20% посещают групповые занятия\n",
        "\n",
        "\n",
        "**`3 кластер`**\n",
        "\n",
        "- Живут рядом с залом\n",
        "- Примерно 1/3 сотрудники партнёров\n",
        "- Практически 100% не были приглашены друзьями\n",
        "- Покупают абонемент в основном на 1 и 12 месяцев, чуть меньше на 6\n",
        "- 60% посещают групповые занятия\n",
        "\n",
        "\n",
        "**`4 кластер`**\n",
        "\n",
        "- Основная часть живёт рядом с залом\n",
        "- Половина из всех - сотрудники партнёров\n",
        "- 1/3 были приведены друзьями\n",
        "- Около половины покупают абонемент на 1 месяц, примерно по 25% распределены на 6 и 12 месяцев\n",
        "- Посещают групповые занятия почти столько же, сколько клиентов не ходят на них\n",
        "\n",
        "\n",
        "**`Различия кластеров`**\n",
        "\n",
        "- Количество клиентов по кластерам различается, больше всего во 2 и 3 кластерах, меньше всего в 4\n",
        "- Наибольший отток происходит в 1 и 2 кластерах, наименьший в 3"
      ]
    },
    {
      "cell_type": "markdown",
      "metadata": {
        "id": "aXSDuglLBDJz"
      },
      "source": [
        "# Общий вывод"
      ]
    },
    {
      "cell_type": "markdown",
      "metadata": {
        "id": "DRpzsP5lBDJ0"
      },
      "source": [
        "Задачей проекта был анализ клиентской базы фитнес-центров, анализ оттока клиентов и выстраивание дальнейших взаимодействий."
      ]
    },
    {
      "cell_type": "markdown",
      "metadata": {
        "id": "YoDDaMgaBDJ0"
      },
      "source": [
        "**Этапы проекта:**\n",
        "\n",
        "1. Изучение датафрейма\n",
        "\n",
        " - Выгрузка\n",
        " - Просмотр общей информации\n",
        "\n",
        "\n",
        "2. Исследовательский анализ данных\n",
        "\n",
        " - Привели данные к правильному типу\n",
        " - Проверили распределение признаков по целевому признаку\n",
        "\n",
        "\n",
        "3. Модель прогнозирования оттока клиентов\n",
        "\n",
        " - Логистическая регрессия\n",
        " - Случайный лес\n",
        "\n",
        "\n",
        "4. Кластеризация клиентов\n",
        "\n",
        " - Дегдрограмма\n",
        " - KMeans"
      ]
    },
    {
      "cell_type": "markdown",
      "metadata": {
        "id": "HAhChRrXBDJ1"
      },
      "source": [
        "В результате анализа был сделан вывод, что лучше использовать `логистическую регрессию` для прогноза оттока клиентов."
      ]
    },
    {
      "cell_type": "markdown",
      "metadata": {
        "id": "KwCqT89gBDJ2"
      },
      "source": [
        "**Рекомендации**\n",
        "\n",
        "Самые лояльные клиенты входят в **`3 кластер`**, для них можно предлагать дополнительные бонусы/скидки на приобретение абонементов или покупку других фитнес услуг, организовывать ивенты. В отношении **`0 кластера`** можно использовать такие же рекомендации, поскольку клиенты имеют маленькое значение оттока и абонементы покупают в основном на 6 и 12 месяцев.\n",
        "\n",
        "Наибольший отток происходит во **`2 кластере`**, клиенты которого в 90% случаев покупают абонемент на 1 месяц, для этого кластера можно снизить цену на приобретение годового абонемента или предоставить другие бонусы/подарки/скидки при покупке абонемента на год.\n",
        "\n",
        "\n",
        "*Общие рекомендации*\n",
        " - Делать таргетинговую рекламу на людей, которые проживают в районе нахождения зала\n",
        " - Поддерживать клиентов из кластеров, которые приносят больше выручки\n",
        " - Предлагать спецпредложения и скидки для новых клиентов, чтобы увеличить удержание\n",
        " - Увеличить количество компаний-партнёров, потому что сотрудники оттуда меньше подвержены оттоку\n",
        " - Включить в годовой абонемент дополнительные преимущества для клиента, чтобы увеличилось количество клиентов с таким абонементом"
      ]
    }
  ],
  "metadata": {
    "ExecuteTimeLog": [
      {
        "duration": 85,
        "start_time": "2023-12-27T09:57:48.918Z"
      },
      {
        "duration": 386,
        "start_time": "2023-12-27T09:58:38.806Z"
      },
      {
        "duration": 73,
        "start_time": "2023-12-27T09:59:34.454Z"
      },
      {
        "duration": 59,
        "start_time": "2023-12-27T09:59:50.638Z"
      },
      {
        "duration": 11,
        "start_time": "2023-12-27T10:01:38.657Z"
      },
      {
        "duration": 5,
        "start_time": "2023-12-27T10:12:43.512Z"
      },
      {
        "duration": 5,
        "start_time": "2023-12-27T10:13:25.736Z"
      },
      {
        "duration": 4,
        "start_time": "2023-12-27T10:14:02.892Z"
      },
      {
        "duration": 65,
        "start_time": "2023-12-27T10:14:17.798Z"
      },
      {
        "duration": 5,
        "start_time": "2023-12-27T10:14:38.089Z"
      },
      {
        "duration": 12,
        "start_time": "2023-12-27T10:15:21.728Z"
      },
      {
        "duration": 17,
        "start_time": "2023-12-27T10:25:00.142Z"
      },
      {
        "duration": 9,
        "start_time": "2023-12-27T10:25:28.725Z"
      },
      {
        "duration": 9,
        "start_time": "2023-12-27T10:25:58.652Z"
      },
      {
        "duration": 10,
        "start_time": "2023-12-27T10:27:55.214Z"
      },
      {
        "duration": 7,
        "start_time": "2023-12-27T10:28:09.672Z"
      },
      {
        "duration": 10,
        "start_time": "2023-12-27T10:28:29.607Z"
      },
      {
        "duration": 20,
        "start_time": "2023-12-27T10:28:43.765Z"
      },
      {
        "duration": 421,
        "start_time": "2023-12-28T09:44:26.008Z"
      },
      {
        "duration": 87,
        "start_time": "2023-12-28T09:44:26.431Z"
      },
      {
        "duration": 12,
        "start_time": "2023-12-28T09:44:26.520Z"
      },
      {
        "duration": 6,
        "start_time": "2023-12-28T09:44:26.534Z"
      },
      {
        "duration": 21,
        "start_time": "2023-12-28T09:44:26.542Z"
      },
      {
        "duration": 12,
        "start_time": "2023-12-28T09:44:26.565Z"
      },
      {
        "duration": 15,
        "start_time": "2023-12-28T09:44:26.578Z"
      },
      {
        "duration": 35,
        "start_time": "2023-12-28T09:44:26.595Z"
      },
      {
        "duration": 51,
        "start_time": "2023-12-28T10:59:13.179Z"
      },
      {
        "duration": 61,
        "start_time": "2023-12-28T11:04:45.021Z"
      },
      {
        "duration": 14,
        "start_time": "2023-12-28T11:04:54.069Z"
      },
      {
        "duration": 19,
        "start_time": "2023-12-28T11:10:48.689Z"
      },
      {
        "duration": 956,
        "start_time": "2023-12-28T11:12:43.182Z"
      },
      {
        "duration": 3,
        "start_time": "2023-12-28T11:14:52.600Z"
      },
      {
        "duration": 22,
        "start_time": "2023-12-28T11:30:10.338Z"
      },
      {
        "duration": 31,
        "start_time": "2023-12-28T11:30:23.880Z"
      },
      {
        "duration": 55,
        "start_time": "2023-12-28T11:33:00.033Z"
      },
      {
        "duration": 26,
        "start_time": "2023-12-28T11:34:03.554Z"
      },
      {
        "duration": 25,
        "start_time": "2023-12-28T11:34:20.531Z"
      },
      {
        "duration": 119,
        "start_time": "2023-12-28T11:34:57.248Z"
      },
      {
        "duration": 108,
        "start_time": "2023-12-28T11:38:40.845Z"
      },
      {
        "duration": 109,
        "start_time": "2023-12-28T11:43:54.980Z"
      },
      {
        "duration": 119,
        "start_time": "2023-12-28T11:44:23.759Z"
      },
      {
        "duration": 118,
        "start_time": "2023-12-28T11:44:47.609Z"
      },
      {
        "duration": 15,
        "start_time": "2023-12-28T11:45:14.528Z"
      },
      {
        "duration": 69,
        "start_time": "2023-12-28T11:51:01.809Z"
      },
      {
        "duration": 93,
        "start_time": "2023-12-28T11:51:23.368Z"
      },
      {
        "duration": 74,
        "start_time": "2023-12-28T11:51:47.401Z"
      },
      {
        "duration": 84,
        "start_time": "2023-12-28T11:52:12.074Z"
      },
      {
        "duration": 17,
        "start_time": "2023-12-28T11:52:21.596Z"
      },
      {
        "duration": 87,
        "start_time": "2023-12-28T11:52:54.785Z"
      },
      {
        "duration": 14,
        "start_time": "2023-12-28T11:53:17.009Z"
      },
      {
        "duration": 2516,
        "start_time": "2023-12-28T11:54:16.667Z"
      },
      {
        "duration": 13,
        "start_time": "2023-12-28T11:54:33.855Z"
      },
      {
        "duration": 116,
        "start_time": "2023-12-28T11:55:04.481Z"
      },
      {
        "duration": 2403,
        "start_time": "2023-12-28T11:55:39.688Z"
      },
      {
        "duration": 43,
        "start_time": "2023-12-28T12:00:51.534Z"
      },
      {
        "duration": 14,
        "start_time": "2023-12-28T12:01:30.588Z"
      },
      {
        "duration": 78,
        "start_time": "2023-12-28T12:01:37.945Z"
      },
      {
        "duration": 1688,
        "start_time": "2023-12-28T12:04:51.571Z"
      },
      {
        "duration": 2487,
        "start_time": "2023-12-28T12:05:45.824Z"
      },
      {
        "duration": 707,
        "start_time": "2023-12-28T12:31:51.738Z"
      },
      {
        "duration": 969,
        "start_time": "2023-12-28T12:32:19.864Z"
      },
      {
        "duration": 767,
        "start_time": "2023-12-28T12:33:09.146Z"
      },
      {
        "duration": 132,
        "start_time": "2023-12-28T12:33:16.114Z"
      },
      {
        "duration": 3741,
        "start_time": "2023-12-28T12:33:26.109Z"
      },
      {
        "duration": 2719,
        "start_time": "2023-12-28T12:33:43.261Z"
      },
      {
        "duration": 920,
        "start_time": "2023-12-28T12:33:55.473Z"
      },
      {
        "duration": 5,
        "start_time": "2023-12-28T12:34:43.693Z"
      },
      {
        "duration": 92,
        "start_time": "2023-12-28T12:34:58.525Z"
      },
      {
        "duration": 3636,
        "start_time": "2023-12-28T12:37:38.333Z"
      },
      {
        "duration": 1334,
        "start_time": "2023-12-28T13:45:58.482Z"
      },
      {
        "duration": 98,
        "start_time": "2023-12-28T13:45:59.818Z"
      },
      {
        "duration": 12,
        "start_time": "2023-12-28T13:45:59.919Z"
      },
      {
        "duration": 5,
        "start_time": "2023-12-28T13:45:59.933Z"
      },
      {
        "duration": 6,
        "start_time": "2023-12-28T13:45:59.940Z"
      },
      {
        "duration": 13,
        "start_time": "2023-12-28T13:45:59.947Z"
      },
      {
        "duration": 50,
        "start_time": "2023-12-28T13:45:59.962Z"
      },
      {
        "duration": 42,
        "start_time": "2023-12-28T13:46:00.014Z"
      },
      {
        "duration": 394,
        "start_time": "2023-12-28T13:46:00.058Z"
      },
      {
        "duration": 3940,
        "start_time": "2023-12-28T13:46:12.931Z"
      },
      {
        "duration": 12,
        "start_time": "2023-12-28T14:01:15.818Z"
      },
      {
        "duration": 1707,
        "start_time": "2023-12-28T14:12:21.211Z"
      },
      {
        "duration": 1717,
        "start_time": "2023-12-28T14:12:44.582Z"
      },
      {
        "duration": 1684,
        "start_time": "2023-12-28T14:13:51.706Z"
      },
      {
        "duration": 28,
        "start_time": "2023-12-28T14:14:20.350Z"
      },
      {
        "duration": 1696,
        "start_time": "2023-12-28T14:18:51.792Z"
      },
      {
        "duration": 1454,
        "start_time": "2023-12-28T14:22:34.239Z"
      },
      {
        "duration": 1449,
        "start_time": "2023-12-28T14:23:45.163Z"
      },
      {
        "duration": 1458,
        "start_time": "2023-12-28T14:23:52.849Z"
      },
      {
        "duration": 1533,
        "start_time": "2023-12-28T14:24:41.181Z"
      },
      {
        "duration": 4,
        "start_time": "2023-12-28T14:29:44.069Z"
      },
      {
        "duration": 325,
        "start_time": "2023-12-28T14:31:57.894Z"
      },
      {
        "duration": 6,
        "start_time": "2023-12-28T14:32:50.641Z"
      },
      {
        "duration": 23,
        "start_time": "2023-12-28T14:35:16.277Z"
      },
      {
        "duration": 4,
        "start_time": "2023-12-28T14:36:00.126Z"
      },
      {
        "duration": 9,
        "start_time": "2023-12-28T14:36:04.811Z"
      },
      {
        "duration": 10,
        "start_time": "2023-12-28T14:36:13.925Z"
      },
      {
        "duration": 4,
        "start_time": "2023-12-28T14:43:06.539Z"
      },
      {
        "duration": 10,
        "start_time": "2023-12-28T14:43:41.626Z"
      },
      {
        "duration": 8,
        "start_time": "2023-12-28T14:43:48.557Z"
      },
      {
        "duration": 9,
        "start_time": "2023-12-28T14:44:34.299Z"
      },
      {
        "duration": 8,
        "start_time": "2023-12-28T14:44:36.984Z"
      },
      {
        "duration": 9,
        "start_time": "2023-12-28T14:46:04.059Z"
      },
      {
        "duration": 9,
        "start_time": "2023-12-28T14:46:22.174Z"
      },
      {
        "duration": 17,
        "start_time": "2023-12-28T14:46:26.115Z"
      },
      {
        "duration": 4,
        "start_time": "2023-12-28T14:46:43.083Z"
      },
      {
        "duration": 17,
        "start_time": "2023-12-28T14:46:44.917Z"
      },
      {
        "duration": 4,
        "start_time": "2023-12-28T14:47:20.490Z"
      },
      {
        "duration": 9,
        "start_time": "2023-12-28T14:47:26.188Z"
      },
      {
        "duration": 5,
        "start_time": "2023-12-28T15:01:44.376Z"
      },
      {
        "duration": 6,
        "start_time": "2023-12-28T15:01:46.220Z"
      },
      {
        "duration": 8,
        "start_time": "2023-12-28T15:01:47.083Z"
      },
      {
        "duration": 13,
        "start_time": "2023-12-28T15:01:48.472Z"
      },
      {
        "duration": 4,
        "start_time": "2023-12-28T15:01:49.748Z"
      },
      {
        "duration": 9,
        "start_time": "2023-12-28T15:01:51.307Z"
      },
      {
        "duration": 1336,
        "start_time": "2023-12-28T15:02:04.399Z"
      },
      {
        "duration": 48,
        "start_time": "2023-12-28T15:02:05.738Z"
      },
      {
        "duration": 11,
        "start_time": "2023-12-28T15:02:05.790Z"
      },
      {
        "duration": 12,
        "start_time": "2023-12-28T15:02:05.802Z"
      },
      {
        "duration": 27,
        "start_time": "2023-12-28T15:02:05.815Z"
      },
      {
        "duration": 33,
        "start_time": "2023-12-28T15:02:05.843Z"
      },
      {
        "duration": 45,
        "start_time": "2023-12-28T15:02:05.877Z"
      },
      {
        "duration": 42,
        "start_time": "2023-12-28T15:02:05.924Z"
      },
      {
        "duration": 3700,
        "start_time": "2023-12-28T15:02:05.968Z"
      },
      {
        "duration": 10,
        "start_time": "2023-12-28T15:02:09.670Z"
      },
      {
        "duration": 1602,
        "start_time": "2023-12-28T15:02:09.682Z"
      },
      {
        "duration": 1390,
        "start_time": "2023-12-28T15:02:11.286Z"
      },
      {
        "duration": 3,
        "start_time": "2023-12-28T15:02:12.678Z"
      },
      {
        "duration": 17,
        "start_time": "2023-12-28T15:02:12.683Z"
      },
      {
        "duration": 13,
        "start_time": "2023-12-28T15:02:12.702Z"
      },
      {
        "duration": 9,
        "start_time": "2023-12-28T15:02:12.716Z"
      },
      {
        "duration": 3,
        "start_time": "2023-12-28T15:02:12.726Z"
      },
      {
        "duration": 11,
        "start_time": "2023-12-28T15:02:12.731Z"
      },
      {
        "duration": 9,
        "start_time": "2023-12-28T15:02:49.497Z"
      },
      {
        "duration": 4,
        "start_time": "2023-12-28T15:02:51.863Z"
      },
      {
        "duration": 6,
        "start_time": "2023-12-28T15:02:52.971Z"
      },
      {
        "duration": 3,
        "start_time": "2023-12-28T15:08:08.675Z"
      },
      {
        "duration": 7,
        "start_time": "2023-12-28T15:08:10.580Z"
      },
      {
        "duration": 315,
        "start_time": "2023-12-28T15:10:17.846Z"
      },
      {
        "duration": 8,
        "start_time": "2023-12-28T15:10:34.395Z"
      },
      {
        "duration": 1426,
        "start_time": "2023-12-28T15:13:09.549Z"
      },
      {
        "duration": 48,
        "start_time": "2023-12-28T15:13:10.976Z"
      },
      {
        "duration": 10,
        "start_time": "2023-12-28T15:13:11.025Z"
      },
      {
        "duration": 9,
        "start_time": "2023-12-28T15:13:11.037Z"
      },
      {
        "duration": 6,
        "start_time": "2023-12-28T15:13:11.047Z"
      },
      {
        "duration": 18,
        "start_time": "2023-12-28T15:13:11.054Z"
      },
      {
        "duration": 42,
        "start_time": "2023-12-28T15:13:11.073Z"
      },
      {
        "duration": 56,
        "start_time": "2023-12-28T15:13:11.116Z"
      },
      {
        "duration": 3685,
        "start_time": "2023-12-28T15:13:11.175Z"
      },
      {
        "duration": 11,
        "start_time": "2023-12-28T15:13:14.864Z"
      },
      {
        "duration": 1576,
        "start_time": "2023-12-28T15:13:14.877Z"
      },
      {
        "duration": 1453,
        "start_time": "2023-12-28T15:13:16.455Z"
      },
      {
        "duration": 3,
        "start_time": "2023-12-28T15:13:17.909Z"
      },
      {
        "duration": 8,
        "start_time": "2023-12-28T15:13:17.914Z"
      },
      {
        "duration": 9,
        "start_time": "2023-12-28T15:13:17.923Z"
      },
      {
        "duration": 9,
        "start_time": "2023-12-28T15:13:17.934Z"
      },
      {
        "duration": 6,
        "start_time": "2023-12-28T15:13:17.944Z"
      },
      {
        "duration": 7,
        "start_time": "2023-12-28T15:13:17.952Z"
      },
      {
        "duration": 328,
        "start_time": "2023-12-28T15:13:17.961Z"
      },
      {
        "duration": 7,
        "start_time": "2023-12-28T15:13:18.290Z"
      },
      {
        "duration": 327,
        "start_time": "2023-12-28T15:40:27.214Z"
      },
      {
        "duration": 7,
        "start_time": "2023-12-28T15:40:29.680Z"
      },
      {
        "duration": 1392,
        "start_time": "2023-12-28T15:40:34.332Z"
      },
      {
        "duration": 50,
        "start_time": "2023-12-28T15:40:35.726Z"
      },
      {
        "duration": 11,
        "start_time": "2023-12-28T15:40:35.778Z"
      },
      {
        "duration": 5,
        "start_time": "2023-12-28T15:40:35.791Z"
      },
      {
        "duration": 5,
        "start_time": "2023-12-28T15:40:35.797Z"
      },
      {
        "duration": 10,
        "start_time": "2023-12-28T15:40:35.804Z"
      },
      {
        "duration": 61,
        "start_time": "2023-12-28T15:40:35.815Z"
      },
      {
        "duration": 42,
        "start_time": "2023-12-28T15:40:35.877Z"
      },
      {
        "duration": 3673,
        "start_time": "2023-12-28T15:40:35.920Z"
      },
      {
        "duration": 12,
        "start_time": "2023-12-28T15:40:39.595Z"
      },
      {
        "duration": 1576,
        "start_time": "2023-12-28T15:40:39.608Z"
      },
      {
        "duration": 1406,
        "start_time": "2023-12-28T15:40:41.186Z"
      },
      {
        "duration": 4,
        "start_time": "2023-12-28T15:40:42.593Z"
      },
      {
        "duration": 6,
        "start_time": "2023-12-28T15:40:42.599Z"
      },
      {
        "duration": 13,
        "start_time": "2023-12-28T15:40:42.607Z"
      },
      {
        "duration": 9,
        "start_time": "2023-12-28T15:40:42.621Z"
      },
      {
        "duration": 3,
        "start_time": "2023-12-28T15:40:42.631Z"
      },
      {
        "duration": 102,
        "start_time": "2023-12-28T15:40:42.636Z"
      },
      {
        "duration": 0,
        "start_time": "2023-12-28T15:40:42.741Z"
      },
      {
        "duration": 0,
        "start_time": "2023-12-28T15:40:42.742Z"
      },
      {
        "duration": 10,
        "start_time": "2023-12-28T15:41:12.391Z"
      },
      {
        "duration": 8,
        "start_time": "2023-12-28T15:41:26.267Z"
      },
      {
        "duration": 101,
        "start_time": "2023-12-28T15:41:33.079Z"
      },
      {
        "duration": 8,
        "start_time": "2023-12-28T15:41:45.640Z"
      },
      {
        "duration": 3,
        "start_time": "2023-12-28T15:41:54.757Z"
      },
      {
        "duration": 12,
        "start_time": "2023-12-28T15:41:56.444Z"
      },
      {
        "duration": 3,
        "start_time": "2023-12-28T15:43:14.036Z"
      },
      {
        "duration": 8,
        "start_time": "2023-12-28T15:43:15.649Z"
      },
      {
        "duration": 7,
        "start_time": "2023-12-28T15:45:18.842Z"
      },
      {
        "duration": 9,
        "start_time": "2023-12-28T15:45:20.728Z"
      },
      {
        "duration": 326,
        "start_time": "2023-12-28T15:45:23.933Z"
      },
      {
        "duration": 7,
        "start_time": "2023-12-28T15:45:25.835Z"
      },
      {
        "duration": 1356,
        "start_time": "2023-12-28T16:23:20.791Z"
      },
      {
        "duration": 47,
        "start_time": "2023-12-28T16:23:22.148Z"
      },
      {
        "duration": 12,
        "start_time": "2023-12-28T16:23:22.197Z"
      },
      {
        "duration": 4,
        "start_time": "2023-12-28T16:23:22.211Z"
      },
      {
        "duration": 13,
        "start_time": "2023-12-28T16:23:22.217Z"
      },
      {
        "duration": 16,
        "start_time": "2023-12-28T16:23:22.232Z"
      },
      {
        "duration": 57,
        "start_time": "2023-12-28T16:23:22.249Z"
      },
      {
        "duration": 47,
        "start_time": "2023-12-28T16:23:22.307Z"
      },
      {
        "duration": 3855,
        "start_time": "2023-12-28T16:23:22.364Z"
      },
      {
        "duration": 11,
        "start_time": "2023-12-28T16:23:26.221Z"
      },
      {
        "duration": 1611,
        "start_time": "2023-12-28T16:23:26.233Z"
      },
      {
        "duration": 1470,
        "start_time": "2023-12-28T16:23:27.846Z"
      },
      {
        "duration": 4,
        "start_time": "2023-12-28T16:23:29.317Z"
      },
      {
        "duration": 10,
        "start_time": "2023-12-28T16:23:29.323Z"
      },
      {
        "duration": 108,
        "start_time": "2023-12-28T16:23:29.335Z"
      },
      {
        "duration": 0,
        "start_time": "2023-12-28T16:23:29.444Z"
      },
      {
        "duration": 0,
        "start_time": "2023-12-28T16:23:29.445Z"
      },
      {
        "duration": 0,
        "start_time": "2023-12-28T16:23:29.447Z"
      },
      {
        "duration": 0,
        "start_time": "2023-12-28T16:23:29.447Z"
      },
      {
        "duration": 0,
        "start_time": "2023-12-28T16:23:29.448Z"
      },
      {
        "duration": 10,
        "start_time": "2023-12-28T16:23:35.846Z"
      },
      {
        "duration": 10,
        "start_time": "2023-12-28T16:23:37.911Z"
      },
      {
        "duration": 3,
        "start_time": "2023-12-28T16:23:40.309Z"
      },
      {
        "duration": 7,
        "start_time": "2023-12-28T16:23:43.607Z"
      },
      {
        "duration": 344,
        "start_time": "2023-12-28T16:23:46.073Z"
      },
      {
        "duration": 7,
        "start_time": "2023-12-28T16:23:50.440Z"
      },
      {
        "duration": 1376,
        "start_time": "2023-12-28T16:28:42.472Z"
      },
      {
        "duration": 47,
        "start_time": "2023-12-28T16:28:43.850Z"
      },
      {
        "duration": 10,
        "start_time": "2023-12-28T16:28:43.899Z"
      },
      {
        "duration": 4,
        "start_time": "2023-12-28T16:28:43.911Z"
      },
      {
        "duration": 7,
        "start_time": "2023-12-28T16:28:43.917Z"
      },
      {
        "duration": 12,
        "start_time": "2023-12-28T16:28:43.925Z"
      },
      {
        "duration": 53,
        "start_time": "2023-12-28T16:28:43.938Z"
      },
      {
        "duration": 40,
        "start_time": "2023-12-28T16:28:43.993Z"
      },
      {
        "duration": 3687,
        "start_time": "2023-12-28T16:28:44.035Z"
      },
      {
        "duration": 12,
        "start_time": "2023-12-28T16:28:47.725Z"
      },
      {
        "duration": 1652,
        "start_time": "2023-12-28T16:28:47.739Z"
      },
      {
        "duration": 1387,
        "start_time": "2023-12-28T16:28:49.393Z"
      },
      {
        "duration": 2,
        "start_time": "2023-12-28T16:28:50.782Z"
      },
      {
        "duration": 108,
        "start_time": "2023-12-28T16:28:50.785Z"
      },
      {
        "duration": 0,
        "start_time": "2023-12-28T16:28:50.894Z"
      },
      {
        "duration": 0,
        "start_time": "2023-12-28T16:28:50.895Z"
      },
      {
        "duration": 0,
        "start_time": "2023-12-28T16:28:50.896Z"
      },
      {
        "duration": 0,
        "start_time": "2023-12-28T16:28:50.897Z"
      },
      {
        "duration": 0,
        "start_time": "2023-12-28T16:28:50.898Z"
      },
      {
        "duration": 0,
        "start_time": "2023-12-28T16:28:50.899Z"
      },
      {
        "duration": 0,
        "start_time": "2023-12-28T16:28:50.899Z"
      },
      {
        "duration": 6,
        "start_time": "2023-12-28T16:29:06.488Z"
      },
      {
        "duration": 9,
        "start_time": "2023-12-28T16:29:07.926Z"
      },
      {
        "duration": 20,
        "start_time": "2023-12-28T16:29:10.503Z"
      },
      {
        "duration": 4,
        "start_time": "2023-12-28T16:29:11.982Z"
      },
      {
        "duration": 8,
        "start_time": "2023-12-28T16:29:13.607Z"
      },
      {
        "duration": 331,
        "start_time": "2023-12-28T16:29:16.302Z"
      },
      {
        "duration": 8,
        "start_time": "2023-12-28T16:29:18.588Z"
      },
      {
        "duration": 8,
        "start_time": "2023-12-28T16:32:52.772Z"
      },
      {
        "duration": 1386,
        "start_time": "2023-12-28T16:33:00.609Z"
      },
      {
        "duration": 49,
        "start_time": "2023-12-28T16:33:01.997Z"
      },
      {
        "duration": 12,
        "start_time": "2023-12-28T16:33:02.048Z"
      },
      {
        "duration": 30,
        "start_time": "2023-12-28T16:33:02.062Z"
      },
      {
        "duration": 61,
        "start_time": "2023-12-28T16:33:02.093Z"
      },
      {
        "duration": 23,
        "start_time": "2023-12-28T16:33:02.155Z"
      },
      {
        "duration": 55,
        "start_time": "2023-12-28T16:33:02.179Z"
      },
      {
        "duration": 46,
        "start_time": "2023-12-28T16:33:02.235Z"
      },
      {
        "duration": 3824,
        "start_time": "2023-12-28T16:33:02.282Z"
      },
      {
        "duration": 13,
        "start_time": "2023-12-28T16:33:06.108Z"
      },
      {
        "duration": 1649,
        "start_time": "2023-12-28T16:33:06.123Z"
      },
      {
        "duration": 1486,
        "start_time": "2023-12-28T16:33:07.774Z"
      },
      {
        "duration": 4,
        "start_time": "2023-12-28T16:33:09.261Z"
      },
      {
        "duration": 7,
        "start_time": "2023-12-28T16:33:09.266Z"
      },
      {
        "duration": 9,
        "start_time": "2023-12-28T16:33:09.274Z"
      },
      {
        "duration": 9,
        "start_time": "2023-12-28T16:33:09.285Z"
      },
      {
        "duration": 3,
        "start_time": "2023-12-28T16:33:09.295Z"
      },
      {
        "duration": 8,
        "start_time": "2023-12-28T16:33:09.299Z"
      },
      {
        "duration": 345,
        "start_time": "2023-12-28T16:33:09.308Z"
      },
      {
        "duration": 11,
        "start_time": "2023-12-28T16:33:09.655Z"
      },
      {
        "duration": 115,
        "start_time": "2023-12-28T16:33:09.667Z"
      },
      {
        "duration": 9,
        "start_time": "2023-12-28T16:33:21.356Z"
      },
      {
        "duration": 8,
        "start_time": "2023-12-28T16:33:24.793Z"
      },
      {
        "duration": 516,
        "start_time": "2023-12-28T16:33:33.468Z"
      },
      {
        "duration": 108881,
        "start_time": "2023-12-28T16:34:03.642Z"
      },
      {
        "duration": 1215,
        "start_time": "2023-12-28T16:38:17.259Z"
      },
      {
        "duration": 13,
        "start_time": "2023-12-28T16:38:40.441Z"
      },
      {
        "duration": 13,
        "start_time": "2023-12-28T16:39:25.597Z"
      },
      {
        "duration": 13,
        "start_time": "2023-12-28T16:40:43.178Z"
      },
      {
        "duration": 12,
        "start_time": "2023-12-28T16:42:00.217Z"
      },
      {
        "duration": 7,
        "start_time": "2023-12-28T16:42:10.402Z"
      },
      {
        "duration": 14,
        "start_time": "2023-12-28T16:45:03.318Z"
      },
      {
        "duration": 1569,
        "start_time": "2023-12-28T18:02:31.376Z"
      },
      {
        "duration": 84,
        "start_time": "2023-12-28T18:02:32.947Z"
      },
      {
        "duration": 10,
        "start_time": "2023-12-28T18:02:33.032Z"
      },
      {
        "duration": 7,
        "start_time": "2023-12-28T18:02:33.044Z"
      },
      {
        "duration": 10,
        "start_time": "2023-12-28T18:02:33.052Z"
      },
      {
        "duration": 18,
        "start_time": "2023-12-28T18:02:33.063Z"
      },
      {
        "duration": 39,
        "start_time": "2023-12-28T18:02:33.082Z"
      },
      {
        "duration": 52,
        "start_time": "2023-12-28T18:02:33.123Z"
      },
      {
        "duration": 3689,
        "start_time": "2023-12-28T18:02:33.176Z"
      },
      {
        "duration": 11,
        "start_time": "2023-12-28T18:02:36.867Z"
      },
      {
        "duration": 1564,
        "start_time": "2023-12-28T18:02:36.880Z"
      },
      {
        "duration": 1483,
        "start_time": "2023-12-28T18:02:38.445Z"
      },
      {
        "duration": 3,
        "start_time": "2023-12-28T18:02:39.929Z"
      },
      {
        "duration": 14,
        "start_time": "2023-12-28T18:02:39.934Z"
      },
      {
        "duration": 17,
        "start_time": "2023-12-28T18:02:39.949Z"
      },
      {
        "duration": 9,
        "start_time": "2023-12-28T18:02:39.967Z"
      },
      {
        "duration": 10,
        "start_time": "2023-12-28T18:02:39.977Z"
      },
      {
        "duration": 16,
        "start_time": "2023-12-28T18:02:39.988Z"
      },
      {
        "duration": 305,
        "start_time": "2023-12-28T18:02:40.005Z"
      },
      {
        "duration": 5,
        "start_time": "2023-12-28T18:02:40.312Z"
      },
      {
        "duration": 33,
        "start_time": "2023-12-28T18:02:40.319Z"
      },
      {
        "duration": 549,
        "start_time": "2023-12-28T18:02:40.353Z"
      },
      {
        "duration": 106120,
        "start_time": "2023-12-28T18:02:40.904Z"
      },
      {
        "duration": 1339,
        "start_time": "2023-12-28T18:04:27.025Z"
      },
      {
        "duration": 12,
        "start_time": "2023-12-28T18:04:28.366Z"
      },
      {
        "duration": 13,
        "start_time": "2023-12-28T18:04:28.379Z"
      },
      {
        "duration": 15,
        "start_time": "2023-12-28T18:04:28.394Z"
      },
      {
        "duration": 15,
        "start_time": "2023-12-28T18:04:48.240Z"
      },
      {
        "duration": 2257,
        "start_time": "2023-12-28T18:05:58.294Z"
      },
      {
        "duration": 6,
        "start_time": "2023-12-28T18:07:57.707Z"
      },
      {
        "duration": 316,
        "start_time": "2023-12-28T19:33:30.228Z"
      },
      {
        "duration": 6,
        "start_time": "2023-12-28T19:33:32.594Z"
      },
      {
        "duration": 8,
        "start_time": "2023-12-28T19:44:53.471Z"
      },
      {
        "duration": 2191,
        "start_time": "2023-12-29T09:47:49.261Z"
      },
      {
        "duration": 160,
        "start_time": "2023-12-29T09:47:51.454Z"
      },
      {
        "duration": 11,
        "start_time": "2023-12-29T09:47:51.616Z"
      },
      {
        "duration": 4,
        "start_time": "2023-12-29T09:47:51.628Z"
      },
      {
        "duration": 8,
        "start_time": "2023-12-29T09:47:51.634Z"
      },
      {
        "duration": 12,
        "start_time": "2023-12-29T09:47:51.643Z"
      },
      {
        "duration": 64,
        "start_time": "2023-12-29T09:47:51.656Z"
      },
      {
        "duration": 39,
        "start_time": "2023-12-29T09:47:51.722Z"
      },
      {
        "duration": 3678,
        "start_time": "2023-12-29T09:47:51.763Z"
      },
      {
        "duration": 1626,
        "start_time": "2023-12-29T09:47:55.443Z"
      },
      {
        "duration": 1482,
        "start_time": "2023-12-29T09:47:57.071Z"
      },
      {
        "duration": 4,
        "start_time": "2023-12-29T09:47:58.555Z"
      },
      {
        "duration": 12,
        "start_time": "2023-12-29T09:47:58.561Z"
      },
      {
        "duration": 9,
        "start_time": "2023-12-29T09:47:58.574Z"
      },
      {
        "duration": 31,
        "start_time": "2023-12-29T09:47:58.584Z"
      },
      {
        "duration": 3,
        "start_time": "2023-12-29T09:47:58.617Z"
      },
      {
        "duration": 11,
        "start_time": "2023-12-29T09:47:58.622Z"
      },
      {
        "duration": 304,
        "start_time": "2023-12-29T09:47:58.635Z"
      },
      {
        "duration": 7,
        "start_time": "2023-12-29T09:47:58.941Z"
      },
      {
        "duration": 7,
        "start_time": "2023-12-29T09:47:58.950Z"
      },
      {
        "duration": 579,
        "start_time": "2023-12-29T09:47:58.959Z"
      },
      {
        "duration": 105855,
        "start_time": "2023-12-29T09:47:59.540Z"
      },
      {
        "duration": 1104,
        "start_time": "2023-12-29T09:49:45.399Z"
      },
      {
        "duration": 98,
        "start_time": "2023-12-29T09:49:46.505Z"
      },
      {
        "duration": 22,
        "start_time": "2023-12-29T09:49:46.605Z"
      },
      {
        "duration": 2110,
        "start_time": "2023-12-29T09:49:46.629Z"
      },
      {
        "duration": 6,
        "start_time": "2023-12-29T09:49:48.740Z"
      },
      {
        "duration": 8,
        "start_time": "2023-12-29T09:49:48.748Z"
      },
      {
        "duration": 330,
        "start_time": "2023-12-29T09:51:35.294Z"
      },
      {
        "duration": 342,
        "start_time": "2023-12-29T09:52:23.397Z"
      },
      {
        "duration": 2,
        "start_time": "2023-12-29T09:58:13.413Z"
      },
      {
        "duration": 6,
        "start_time": "2023-12-29T09:58:17.790Z"
      },
      {
        "duration": 14,
        "start_time": "2023-12-29T09:58:18.297Z"
      },
      {
        "duration": 11,
        "start_time": "2023-12-29T09:58:19.229Z"
      },
      {
        "duration": 3,
        "start_time": "2023-12-29T09:58:20.479Z"
      },
      {
        "duration": 6,
        "start_time": "2023-12-29T09:58:24.084Z"
      },
      {
        "duration": 313,
        "start_time": "2023-12-29T09:58:31.229Z"
      },
      {
        "duration": 6,
        "start_time": "2023-12-29T09:58:32.578Z"
      },
      {
        "duration": 318,
        "start_time": "2023-12-29T09:58:36.510Z"
      },
      {
        "duration": 341,
        "start_time": "2023-12-29T09:59:39.695Z"
      },
      {
        "duration": 332,
        "start_time": "2023-12-29T09:59:53.438Z"
      },
      {
        "duration": 1525,
        "start_time": "2024-01-01T15:51:37.368Z"
      },
      {
        "duration": 142,
        "start_time": "2024-01-01T15:51:38.895Z"
      },
      {
        "duration": 11,
        "start_time": "2024-01-01T15:51:39.038Z"
      },
      {
        "duration": 10,
        "start_time": "2024-01-01T15:51:39.051Z"
      },
      {
        "duration": 11,
        "start_time": "2024-01-01T15:51:39.062Z"
      },
      {
        "duration": 15,
        "start_time": "2024-01-01T15:51:39.075Z"
      },
      {
        "duration": 56,
        "start_time": "2024-01-01T15:51:39.092Z"
      },
      {
        "duration": 42,
        "start_time": "2024-01-01T15:51:39.150Z"
      },
      {
        "duration": 3876,
        "start_time": "2024-01-01T15:51:39.193Z"
      },
      {
        "duration": 1641,
        "start_time": "2024-01-01T15:51:43.071Z"
      },
      {
        "duration": 1486,
        "start_time": "2024-01-01T15:51:44.714Z"
      },
      {
        "duration": 4,
        "start_time": "2024-01-01T15:51:46.202Z"
      },
      {
        "duration": 33,
        "start_time": "2024-01-01T15:51:46.207Z"
      },
      {
        "duration": 14,
        "start_time": "2024-01-01T15:51:46.242Z"
      },
      {
        "duration": 9,
        "start_time": "2024-01-01T15:51:46.258Z"
      },
      {
        "duration": 4,
        "start_time": "2024-01-01T15:51:46.269Z"
      },
      {
        "duration": 26,
        "start_time": "2024-01-01T15:51:46.275Z"
      },
      {
        "duration": 303,
        "start_time": "2024-01-01T15:51:46.302Z"
      },
      {
        "duration": 6,
        "start_time": "2024-01-01T15:51:46.607Z"
      },
      {
        "duration": 24,
        "start_time": "2024-01-01T15:51:46.615Z"
      },
      {
        "duration": 581,
        "start_time": "2024-01-01T15:51:46.641Z"
      },
      {
        "duration": 1382,
        "start_time": "2024-01-01T15:53:21.413Z"
      },
      {
        "duration": 48,
        "start_time": "2024-01-01T15:53:22.796Z"
      },
      {
        "duration": 11,
        "start_time": "2024-01-01T15:53:22.845Z"
      },
      {
        "duration": 14,
        "start_time": "2024-01-01T15:53:22.858Z"
      },
      {
        "duration": 13,
        "start_time": "2024-01-01T15:53:22.873Z"
      },
      {
        "duration": 13,
        "start_time": "2024-01-01T15:53:22.888Z"
      },
      {
        "duration": 49,
        "start_time": "2024-01-01T15:53:22.903Z"
      },
      {
        "duration": 41,
        "start_time": "2024-01-01T15:53:22.954Z"
      },
      {
        "duration": 3631,
        "start_time": "2024-01-01T15:53:22.997Z"
      },
      {
        "duration": 1623,
        "start_time": "2024-01-01T15:53:26.632Z"
      },
      {
        "duration": 1391,
        "start_time": "2024-01-01T15:53:28.257Z"
      },
      {
        "duration": 4,
        "start_time": "2024-01-01T15:53:29.650Z"
      },
      {
        "duration": 28,
        "start_time": "2024-01-01T15:53:29.655Z"
      },
      {
        "duration": 12,
        "start_time": "2024-01-01T15:53:29.684Z"
      },
      {
        "duration": 10,
        "start_time": "2024-01-01T15:53:29.698Z"
      },
      {
        "duration": 11,
        "start_time": "2024-01-01T15:53:29.710Z"
      },
      {
        "duration": 21,
        "start_time": "2024-01-01T15:53:29.723Z"
      },
      {
        "duration": 299,
        "start_time": "2024-01-01T15:53:29.746Z"
      },
      {
        "duration": 8,
        "start_time": "2024-01-01T15:53:30.046Z"
      },
      {
        "duration": 41,
        "start_time": "2024-01-01T15:53:30.055Z"
      },
      {
        "duration": 596,
        "start_time": "2024-01-01T15:53:30.098Z"
      },
      {
        "duration": 108361,
        "start_time": "2024-01-01T15:53:30.696Z"
      },
      {
        "duration": 1281,
        "start_time": "2024-01-01T15:55:19.058Z"
      },
      {
        "duration": 12,
        "start_time": "2024-01-01T15:55:20.431Z"
      },
      {
        "duration": 13,
        "start_time": "2024-01-01T15:55:20.446Z"
      },
      {
        "duration": 2244,
        "start_time": "2024-01-01T15:55:20.461Z"
      },
      {
        "duration": 6,
        "start_time": "2024-01-01T15:55:22.707Z"
      },
      {
        "duration": 28,
        "start_time": "2024-01-01T15:55:22.715Z"
      },
      {
        "duration": 110,
        "start_time": "2024-01-01T16:30:00.902Z"
      },
      {
        "duration": 307,
        "start_time": "2024-01-01T16:30:10.324Z"
      },
      {
        "duration": 7,
        "start_time": "2024-01-01T16:30:12.479Z"
      },
      {
        "duration": 1537,
        "start_time": "2024-01-02T11:06:12.392Z"
      },
      {
        "duration": 86,
        "start_time": "2024-01-02T11:06:13.931Z"
      },
      {
        "duration": 10,
        "start_time": "2024-01-02T11:06:14.019Z"
      },
      {
        "duration": 4,
        "start_time": "2024-01-02T11:06:14.031Z"
      },
      {
        "duration": 8,
        "start_time": "2024-01-02T11:06:14.036Z"
      },
      {
        "duration": 10,
        "start_time": "2024-01-02T11:06:14.046Z"
      },
      {
        "duration": 39,
        "start_time": "2024-01-02T11:06:14.058Z"
      },
      {
        "duration": 41,
        "start_time": "2024-01-02T11:06:14.098Z"
      },
      {
        "duration": 3770,
        "start_time": "2024-01-02T11:06:14.140Z"
      },
      {
        "duration": 1670,
        "start_time": "2024-01-02T11:06:17.914Z"
      },
      {
        "duration": 1558,
        "start_time": "2024-01-02T11:06:19.585Z"
      },
      {
        "duration": 4,
        "start_time": "2024-01-02T11:06:21.145Z"
      },
      {
        "duration": 11,
        "start_time": "2024-01-02T11:06:21.151Z"
      },
      {
        "duration": 32,
        "start_time": "2024-01-02T11:06:21.164Z"
      },
      {
        "duration": 21,
        "start_time": "2024-01-02T11:06:21.197Z"
      },
      {
        "duration": 4,
        "start_time": "2024-01-02T11:06:21.220Z"
      },
      {
        "duration": 14,
        "start_time": "2024-01-02T11:06:21.226Z"
      },
      {
        "duration": 304,
        "start_time": "2024-01-02T11:06:21.241Z"
      },
      {
        "duration": 8,
        "start_time": "2024-01-02T11:06:21.547Z"
      },
      {
        "duration": 32,
        "start_time": "2024-01-02T11:06:21.565Z"
      },
      {
        "duration": 521,
        "start_time": "2024-01-02T11:06:21.598Z"
      },
      {
        "duration": 109127,
        "start_time": "2024-01-02T11:06:22.120Z"
      },
      {
        "duration": 1122,
        "start_time": "2024-01-02T11:08:11.249Z"
      },
      {
        "duration": 97,
        "start_time": "2024-01-02T11:08:12.373Z"
      },
      {
        "duration": 26,
        "start_time": "2024-01-02T11:08:12.471Z"
      },
      {
        "duration": 2279,
        "start_time": "2024-01-02T11:08:12.499Z"
      },
      {
        "duration": 6,
        "start_time": "2024-01-02T11:08:14.780Z"
      },
      {
        "duration": 15,
        "start_time": "2024-01-02T11:08:14.788Z"
      },
      {
        "duration": 1481,
        "start_time": "2024-01-02T12:02:45.672Z"
      },
      {
        "duration": 49,
        "start_time": "2024-01-02T12:02:47.155Z"
      },
      {
        "duration": 11,
        "start_time": "2024-01-02T12:02:47.206Z"
      },
      {
        "duration": 24,
        "start_time": "2024-01-02T12:02:47.219Z"
      },
      {
        "duration": 17,
        "start_time": "2024-01-02T12:02:47.245Z"
      },
      {
        "duration": 12,
        "start_time": "2024-01-02T12:02:47.264Z"
      },
      {
        "duration": 41,
        "start_time": "2024-01-02T12:02:47.278Z"
      },
      {
        "duration": 58,
        "start_time": "2024-01-02T12:02:47.321Z"
      },
      {
        "duration": 3805,
        "start_time": "2024-01-02T12:02:47.382Z"
      },
      {
        "duration": 1630,
        "start_time": "2024-01-02T12:02:51.189Z"
      },
      {
        "duration": 1478,
        "start_time": "2024-01-02T12:02:52.821Z"
      },
      {
        "duration": 4,
        "start_time": "2024-01-02T12:02:54.301Z"
      },
      {
        "duration": 16,
        "start_time": "2024-01-02T12:02:54.306Z"
      },
      {
        "duration": 9,
        "start_time": "2024-01-02T12:02:54.324Z"
      },
      {
        "duration": 27,
        "start_time": "2024-01-02T12:02:54.335Z"
      },
      {
        "duration": 4,
        "start_time": "2024-01-02T12:02:54.363Z"
      },
      {
        "duration": 9,
        "start_time": "2024-01-02T12:02:54.368Z"
      },
      {
        "duration": 345,
        "start_time": "2024-01-02T12:02:54.380Z"
      },
      {
        "duration": 7,
        "start_time": "2024-01-02T12:02:54.727Z"
      },
      {
        "duration": 8,
        "start_time": "2024-01-02T12:02:54.735Z"
      },
      {
        "duration": 545,
        "start_time": "2024-01-02T12:02:54.744Z"
      },
      {
        "duration": 108367,
        "start_time": "2024-01-02T12:02:55.290Z"
      },
      {
        "duration": 1214,
        "start_time": "2024-01-02T12:04:43.659Z"
      },
      {
        "duration": 96,
        "start_time": "2024-01-02T12:04:44.877Z"
      },
      {
        "duration": 16,
        "start_time": "2024-01-02T12:04:44.975Z"
      },
      {
        "duration": 1329,
        "start_time": "2024-01-02T12:06:20.016Z"
      },
      {
        "duration": 49,
        "start_time": "2024-01-02T12:06:21.347Z"
      },
      {
        "duration": 10,
        "start_time": "2024-01-02T12:06:21.398Z"
      },
      {
        "duration": 5,
        "start_time": "2024-01-02T12:06:21.410Z"
      },
      {
        "duration": 7,
        "start_time": "2024-01-02T12:06:21.416Z"
      },
      {
        "duration": 11,
        "start_time": "2024-01-02T12:06:21.424Z"
      },
      {
        "duration": 61,
        "start_time": "2024-01-02T12:06:21.436Z"
      },
      {
        "duration": 41,
        "start_time": "2024-01-02T12:06:21.499Z"
      },
      {
        "duration": 3719,
        "start_time": "2024-01-02T12:06:21.542Z"
      },
      {
        "duration": 1629,
        "start_time": "2024-01-02T12:06:25.266Z"
      },
      {
        "duration": 1399,
        "start_time": "2024-01-02T12:06:26.896Z"
      },
      {
        "duration": 4,
        "start_time": "2024-01-02T12:06:28.296Z"
      },
      {
        "duration": 9,
        "start_time": "2024-01-02T12:06:28.301Z"
      },
      {
        "duration": 9,
        "start_time": "2024-01-02T12:06:28.311Z"
      },
      {
        "duration": 9,
        "start_time": "2024-01-02T12:06:28.321Z"
      },
      {
        "duration": 3,
        "start_time": "2024-01-02T12:06:28.331Z"
      },
      {
        "duration": 13,
        "start_time": "2024-01-02T12:06:28.336Z"
      },
      {
        "duration": 332,
        "start_time": "2024-01-02T12:06:28.351Z"
      },
      {
        "duration": 7,
        "start_time": "2024-01-02T12:06:28.684Z"
      },
      {
        "duration": 10,
        "start_time": "2024-01-02T12:06:28.693Z"
      },
      {
        "duration": 529,
        "start_time": "2024-01-02T12:06:28.704Z"
      },
      {
        "duration": 108870,
        "start_time": "2024-01-02T12:06:29.234Z"
      },
      {
        "duration": 1760,
        "start_time": "2024-01-02T12:08:18.106Z"
      },
      {
        "duration": 100,
        "start_time": "2024-01-02T12:08:19.868Z"
      },
      {
        "duration": 14,
        "start_time": "2024-01-02T12:08:19.970Z"
      },
      {
        "duration": 2286,
        "start_time": "2024-01-02T12:08:19.986Z"
      },
      {
        "duration": 6,
        "start_time": "2024-01-02T12:08:22.273Z"
      },
      {
        "duration": 28,
        "start_time": "2024-01-02T12:08:22.283Z"
      },
      {
        "duration": 1523,
        "start_time": "2024-01-02T19:28:07.709Z"
      },
      {
        "duration": 86,
        "start_time": "2024-01-02T19:28:09.234Z"
      },
      {
        "duration": 12,
        "start_time": "2024-01-02T19:28:09.321Z"
      },
      {
        "duration": 18,
        "start_time": "2024-01-02T19:28:09.335Z"
      },
      {
        "duration": 9,
        "start_time": "2024-01-02T19:28:09.355Z"
      },
      {
        "duration": 14,
        "start_time": "2024-01-02T19:28:09.366Z"
      },
      {
        "duration": 43,
        "start_time": "2024-01-02T19:28:09.382Z"
      },
      {
        "duration": 53,
        "start_time": "2024-01-02T19:28:09.426Z"
      },
      {
        "duration": 3650,
        "start_time": "2024-01-02T19:28:09.480Z"
      },
      {
        "duration": 1564,
        "start_time": "2024-01-02T19:28:13.132Z"
      },
      {
        "duration": 1582,
        "start_time": "2024-01-02T19:28:14.697Z"
      },
      {
        "duration": 4,
        "start_time": "2024-01-02T19:28:16.280Z"
      },
      {
        "duration": 12,
        "start_time": "2024-01-02T19:28:16.286Z"
      },
      {
        "duration": 9,
        "start_time": "2024-01-02T19:28:16.299Z"
      },
      {
        "duration": 11,
        "start_time": "2024-01-02T19:28:16.310Z"
      },
      {
        "duration": 11,
        "start_time": "2024-01-02T19:28:16.322Z"
      },
      {
        "duration": 11,
        "start_time": "2024-01-02T19:28:16.335Z"
      },
      {
        "duration": 321,
        "start_time": "2024-01-02T19:28:16.347Z"
      },
      {
        "duration": 7,
        "start_time": "2024-01-02T19:28:16.669Z"
      },
      {
        "duration": 22,
        "start_time": "2024-01-02T19:28:16.678Z"
      },
      {
        "duration": 513,
        "start_time": "2024-01-02T19:28:16.701Z"
      },
      {
        "duration": 106641,
        "start_time": "2024-01-02T19:28:17.216Z"
      },
      {
        "duration": 1207,
        "start_time": "2024-01-02T19:30:03.859Z"
      },
      {
        "duration": 13,
        "start_time": "2024-01-02T19:30:05.067Z"
      },
      {
        "duration": 84,
        "start_time": "2024-01-02T19:30:05.082Z"
      },
      {
        "duration": 2294,
        "start_time": "2024-01-02T19:30:05.168Z"
      },
      {
        "duration": 6,
        "start_time": "2024-01-02T19:30:07.463Z"
      },
      {
        "duration": 30,
        "start_time": "2024-01-02T19:30:07.472Z"
      },
      {
        "duration": 1571,
        "start_time": "2024-01-04T10:35:54.939Z"
      },
      {
        "duration": 86,
        "start_time": "2024-01-04T10:35:56.512Z"
      },
      {
        "duration": 9,
        "start_time": "2024-01-04T10:35:56.600Z"
      },
      {
        "duration": 12,
        "start_time": "2024-01-04T10:35:56.611Z"
      },
      {
        "duration": 30,
        "start_time": "2024-01-04T10:35:56.625Z"
      },
      {
        "duration": 31,
        "start_time": "2024-01-04T10:35:56.657Z"
      },
      {
        "duration": 59,
        "start_time": "2024-01-04T10:35:56.689Z"
      },
      {
        "duration": 65,
        "start_time": "2024-01-04T10:35:56.750Z"
      },
      {
        "duration": 3559,
        "start_time": "2024-01-04T10:35:56.816Z"
      },
      {
        "duration": 1606,
        "start_time": "2024-01-04T10:36:00.377Z"
      },
      {
        "duration": 1411,
        "start_time": "2024-01-04T10:36:01.984Z"
      },
      {
        "duration": 5,
        "start_time": "2024-01-04T10:36:03.396Z"
      },
      {
        "duration": 10,
        "start_time": "2024-01-04T10:36:03.403Z"
      },
      {
        "duration": 16,
        "start_time": "2024-01-04T10:36:03.414Z"
      },
      {
        "duration": 22,
        "start_time": "2024-01-04T10:36:03.432Z"
      },
      {
        "duration": 10,
        "start_time": "2024-01-04T10:36:03.455Z"
      },
      {
        "duration": 31,
        "start_time": "2024-01-04T10:36:03.467Z"
      },
      {
        "duration": 319,
        "start_time": "2024-01-04T10:36:03.500Z"
      },
      {
        "duration": 7,
        "start_time": "2024-01-04T10:36:03.820Z"
      },
      {
        "duration": 37,
        "start_time": "2024-01-04T10:36:03.828Z"
      },
      {
        "duration": 521,
        "start_time": "2024-01-04T10:36:03.866Z"
      },
      {
        "duration": 106032,
        "start_time": "2024-01-04T10:36:04.388Z"
      },
      {
        "duration": 1153,
        "start_time": "2024-01-04T10:37:50.421Z"
      },
      {
        "duration": 99,
        "start_time": "2024-01-04T10:37:51.576Z"
      },
      {
        "duration": 37,
        "start_time": "2024-01-04T10:37:51.676Z"
      },
      {
        "duration": 2160,
        "start_time": "2024-01-04T10:37:51.715Z"
      },
      {
        "duration": 6,
        "start_time": "2024-01-04T10:37:53.877Z"
      },
      {
        "duration": 9,
        "start_time": "2024-01-04T10:37:53.885Z"
      },
      {
        "duration": 1357,
        "start_time": "2024-01-04T10:50:54.698Z"
      },
      {
        "duration": 50,
        "start_time": "2024-01-04T10:50:56.057Z"
      },
      {
        "duration": 11,
        "start_time": "2024-01-04T10:50:56.108Z"
      },
      {
        "duration": 5,
        "start_time": "2024-01-04T10:50:56.120Z"
      },
      {
        "duration": 4,
        "start_time": "2024-01-04T10:50:56.127Z"
      },
      {
        "duration": 18,
        "start_time": "2024-01-04T10:50:56.133Z"
      },
      {
        "duration": 42,
        "start_time": "2024-01-04T10:50:56.152Z"
      },
      {
        "duration": 40,
        "start_time": "2024-01-04T10:50:56.196Z"
      },
      {
        "duration": 3639,
        "start_time": "2024-01-04T10:50:56.238Z"
      },
      {
        "duration": 1600,
        "start_time": "2024-01-04T10:50:59.879Z"
      },
      {
        "duration": 1395,
        "start_time": "2024-01-04T10:51:01.480Z"
      },
      {
        "duration": 3,
        "start_time": "2024-01-04T10:51:02.877Z"
      },
      {
        "duration": 10,
        "start_time": "2024-01-04T10:51:02.881Z"
      },
      {
        "duration": 14,
        "start_time": "2024-01-04T10:51:02.892Z"
      },
      {
        "duration": 20,
        "start_time": "2024-01-04T10:51:02.908Z"
      },
      {
        "duration": 6,
        "start_time": "2024-01-04T10:51:02.930Z"
      },
      {
        "duration": 22,
        "start_time": "2024-01-04T10:51:02.938Z"
      },
      {
        "duration": 340,
        "start_time": "2024-01-04T10:51:02.961Z"
      },
      {
        "duration": 6,
        "start_time": "2024-01-04T10:51:03.303Z"
      },
      {
        "duration": 39,
        "start_time": "2024-01-04T10:51:03.311Z"
      },
      {
        "duration": 509,
        "start_time": "2024-01-04T10:51:03.351Z"
      },
      {
        "duration": 106041,
        "start_time": "2024-01-04T10:51:03.861Z"
      },
      {
        "duration": 1163,
        "start_time": "2024-01-04T10:52:49.904Z"
      },
      {
        "duration": 98,
        "start_time": "2024-01-04T10:52:51.069Z"
      },
      {
        "duration": 13,
        "start_time": "2024-01-04T10:52:51.169Z"
      },
      {
        "duration": 1348,
        "start_time": "2024-01-04T10:53:49.079Z"
      },
      {
        "duration": 50,
        "start_time": "2024-01-04T10:53:50.429Z"
      },
      {
        "duration": 10,
        "start_time": "2024-01-04T10:53:50.481Z"
      },
      {
        "duration": 5,
        "start_time": "2024-01-04T10:53:50.493Z"
      },
      {
        "duration": 8,
        "start_time": "2024-01-04T10:53:50.499Z"
      },
      {
        "duration": 13,
        "start_time": "2024-01-04T10:53:50.509Z"
      },
      {
        "duration": 59,
        "start_time": "2024-01-04T10:53:50.523Z"
      },
      {
        "duration": 42,
        "start_time": "2024-01-04T10:53:50.584Z"
      },
      {
        "duration": 3665,
        "start_time": "2024-01-04T10:53:50.628Z"
      },
      {
        "duration": 1608,
        "start_time": "2024-01-04T10:53:54.295Z"
      },
      {
        "duration": 1430,
        "start_time": "2024-01-04T10:53:55.905Z"
      },
      {
        "duration": 4,
        "start_time": "2024-01-04T10:53:57.336Z"
      },
      {
        "duration": 9,
        "start_time": "2024-01-04T10:53:57.341Z"
      },
      {
        "duration": 8,
        "start_time": "2024-01-04T10:53:57.352Z"
      },
      {
        "duration": 9,
        "start_time": "2024-01-04T10:53:57.361Z"
      },
      {
        "duration": 4,
        "start_time": "2024-01-04T10:53:57.372Z"
      },
      {
        "duration": 13,
        "start_time": "2024-01-04T10:53:57.377Z"
      },
      {
        "duration": 317,
        "start_time": "2024-01-04T10:53:57.391Z"
      },
      {
        "duration": 6,
        "start_time": "2024-01-04T10:53:57.709Z"
      },
      {
        "duration": 8,
        "start_time": "2024-01-04T10:53:57.716Z"
      },
      {
        "duration": 525,
        "start_time": "2024-01-04T10:53:57.725Z"
      },
      {
        "duration": 105585,
        "start_time": "2024-01-04T10:53:58.251Z"
      },
      {
        "duration": 1037,
        "start_time": "2024-01-04T10:55:43.838Z"
      },
      {
        "duration": 12,
        "start_time": "2024-01-04T10:55:44.965Z"
      },
      {
        "duration": 23,
        "start_time": "2024-01-04T10:55:44.978Z"
      },
      {
        "duration": 2275,
        "start_time": "2024-01-04T10:55:45.002Z"
      },
      {
        "duration": 6,
        "start_time": "2024-01-04T10:55:47.278Z"
      },
      {
        "duration": 6,
        "start_time": "2024-01-04T10:55:47.286Z"
      }
    ],
    "kernelspec": {
      "display_name": "Python 3 (ipykernel)",
      "language": "python",
      "name": "python3"
    },
    "language_info": {
      "codemirror_mode": {
        "name": "ipython",
        "version": 3
      },
      "file_extension": ".py",
      "mimetype": "text/x-python",
      "name": "python",
      "nbconvert_exporter": "python",
      "pygments_lexer": "ipython3",
      "version": "3.9.5"
    },
    "toc": {
      "base_numbering": 1,
      "nav_menu": {},
      "number_sections": true,
      "sideBar": true,
      "skip_h1_title": true,
      "title_cell": "Table of Contents",
      "title_sidebar": "Contents",
      "toc_cell": false,
      "toc_position": {},
      "toc_section_display": true,
      "toc_window_display": false
    },
    "colab": {
      "provenance": []
    }
  },
  "nbformat": 4,
  "nbformat_minor": 0
}