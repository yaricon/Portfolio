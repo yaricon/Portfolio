{
  "cells": [
    {
      "cell_type": "markdown",
      "id": "68334ab6",
      "metadata": {},
      "source": [
        "<div style=\"border:solid Chocolate 2px; padding: 40px\">\n",
        "\n",
        "<b>Ярослав, привет!👋</b>\n",
        "\n",
        "Меня зовут Арина Уксусова, я буду ревьюером твоего проекта. Ты можешь обращаться ко мне на \"ты\"😏 Надеюсь, тебя также не смутит, если я буду обращаться к тебе на ты, но если это не удобно, обязательно скажи об этом!\n",
        "\n",
        "Пожалуйста, не удаляй мои комментарии, они будут особенно полезны для нашей работы в случае повторной проверки проекта. \n",
        "\n",
        "Ты также можешь реагировать на мои комментарии своими, выделяя их цветами и наиболее понравившимся тебе способом оформления, но явно  отличающимся от моих комментариев. Это нужно, чтобы не создавалась путаница😉\n",
        "\n",
        "Ты можешь найти мои комментарии, обозначенные <font color='green'>зеленым</font>, <font color='gold'>желтым</font> и <font color='red'>красным</font> цветами, например:\n",
        "\n",
        "<br/>\n",
        "\n",
        "<div class=\"alert alert-success\">\n",
        "<h2> Комментарий ревьюера <a class=\"tocSkip\"> </h2>\n",
        "\n",
        "<b>Все отлично!👍:</b> В случае, если решение на отдельном шаге является полностью правильным.\n",
        "</div>\n",
        "\n",
        "<br/>\n",
        "\n",
        "<div class=\"alert alert-warning\">\n",
        "    <h2> Комментарий ревьюера <a class=\"tocSkip\"> </h2>\n",
        "    \n",
        "<b>Некоторые замечания и рекомендации💡:</b> В случае, когда решение на отдельном шаге станет еще лучше, если внести небольшие коррективы.\n",
        "</div>\n",
        "\n",
        "\n",
        "<br/>\n",
        "\n",
        "<div class=\"alert alert-block alert-danger\">\n",
        "<h2> Комментарий ревьюера <a class=\"tocSkip\"></h2>\n",
        "\n",
        "    \n",
        "<b>На доработку🤔:</b> В случае, когда решение на отдельном шаге требует существенной переработки и внесения правок. Напоминаю, что проект не может быть принят с первого раза, если ревью содержит комментарии, рекомендующие доработать шаги.\n",
        "</div>\n",
        "    \n",
        "Увидев у тебя ошибку, в первый раз я лишь укажу на ее наличие и дам тебе возможность самому найти и исправить ее. На реальной работе твой руководитель будет поступать также, и я пытаюсь подготовить тебя именно к работе аналитиком. Но если ты пока не справишься с такой задачей - при следующей проверке я дам более точную подсказку!🤓"
      ]
    },
    {
      "cell_type": "markdown",
      "id": "26ed9e85",
      "metadata": {},
      "source": [
        "# Исследование уровня потребительской лояльности"
      ]
    },
    {
      "cell_type": "markdown",
      "id": "f626f958",
      "metadata": {},
      "source": [
        "**Цель исследования**\n",
        "\n",
        "Определить текущий уровень потребительской лояльности (NPS) телекоммуникационной компании."
      ]
    },
    {
      "cell_type": "markdown",
      "id": "eb57f4aa",
      "metadata": {},
      "source": [
        "**План работы**\n",
        "\n",
        "1. Выгрузить и отобрать необходимые данные\n",
        "2. Проанализировать\n",
        "3. Создать дашборд\n",
        "4. Сделать презентацию"
      ]
    },
    {
      "cell_type": "markdown",
      "id": "07e55d4f",
      "metadata": {},
      "source": [
        "Входные даннные - **данные в SQLite с результатами опроса клиентов компании.**"
      ]
    },
    {
      "cell_type": "code",
      "execution_count": 1,
      "id": "fc7efa54",
      "metadata": {},
      "outputs": [],
      "source": [
        "# импортируем библиотеки\n",
        "\n",
        "import os\n",
        "import pandas as pd\n",
        "import numpy as np\n",
        "\n",
        "from sqlalchemy import create_engine"
      ]
    },
    {
      "cell_type": "code",
      "execution_count": 2,
      "id": "0017f8e7",
      "metadata": {},
      "outputs": [],
      "source": [
        "# сохраняем путь БД в переменную\n",
        "\n",
        "path_to_db_platform = '/datasets/telecomm_csi.db'\n",
        "path_to_db = None\n",
        "\n",
        "# если путь на платформе ведёт к БД, то он становится итоговым\n",
        "\n",
        "if os.path.exists(path_to_db_platform):\n",
        "    path_to_db = path_to_db_platform\n",
        "else:\n",
        "    raise Exception('Файл с базой данных SQLite не найден!')\n",
        "\n",
        "# создаём итоговое подключение, если путь не пустой\n",
        "\n",
        "if path_to_db:\n",
        "    engine = create_engine(f'sqlite:///{path_to_db}', echo=False)"
      ]
    },
    {
      "cell_type": "code",
      "execution_count": 3,
      "id": "84ebad43",
      "metadata": {},
      "outputs": [],
      "source": [
        "# сохраняем всю таблицу в переменную SQL запросом\n",
        "\n",
        "query = \"\"\"\n",
        "SELECT *\n",
        "FROM user;\n",
        "\"\"\""
      ]
    },
    {
      "cell_type": "code",
      "execution_count": 4,
      "id": "3965faf2",
      "metadata": {},
      "outputs": [
        {
          "data": {
            "text/html": [
              "<div>\n",
              "<style scoped>\n",
              "    .dataframe tbody tr th:only-of-type {\n",
              "        vertical-align: middle;\n",
              "    }\n",
              "\n",
              "    .dataframe tbody tr th {\n",
              "        vertical-align: top;\n",
              "    }\n",
              "\n",
              "    .dataframe thead th {\n",
              "        text-align: right;\n",
              "    }\n",
              "</style>\n",
              "<table border=\"1\" class=\"dataframe\">\n",
              "  <thead>\n",
              "    <tr style=\"text-align: right;\">\n",
              "      <th></th>\n",
              "      <th>user_id</th>\n",
              "      <th>lt_day</th>\n",
              "      <th>age</th>\n",
              "      <th>gender_segment</th>\n",
              "      <th>os_name</th>\n",
              "      <th>cpe_type_name</th>\n",
              "      <th>location_id</th>\n",
              "      <th>age_gr_id</th>\n",
              "      <th>tr_gr_id</th>\n",
              "      <th>lt_gr_id</th>\n",
              "      <th>nps_score</th>\n",
              "    </tr>\n",
              "  </thead>\n",
              "  <tbody>\n",
              "    <tr>\n",
              "      <th>0</th>\n",
              "      <td>A001A2</td>\n",
              "      <td>2320</td>\n",
              "      <td>45.0</td>\n",
              "      <td>1.0</td>\n",
              "      <td>ANDROID</td>\n",
              "      <td>SMARTPHONE</td>\n",
              "      <td>55</td>\n",
              "      <td>5</td>\n",
              "      <td>5</td>\n",
              "      <td>8</td>\n",
              "      <td>10</td>\n",
              "    </tr>\n",
              "    <tr>\n",
              "      <th>1</th>\n",
              "      <td>A001WF</td>\n",
              "      <td>2344</td>\n",
              "      <td>53.0</td>\n",
              "      <td>0.0</td>\n",
              "      <td>ANDROID</td>\n",
              "      <td>SMARTPHONE</td>\n",
              "      <td>21</td>\n",
              "      <td>5</td>\n",
              "      <td>5</td>\n",
              "      <td>8</td>\n",
              "      <td>10</td>\n",
              "    </tr>\n",
              "    <tr>\n",
              "      <th>2</th>\n",
              "      <td>A003Q7</td>\n",
              "      <td>467</td>\n",
              "      <td>57.0</td>\n",
              "      <td>0.0</td>\n",
              "      <td>ANDROID</td>\n",
              "      <td>SMARTPHONE</td>\n",
              "      <td>28</td>\n",
              "      <td>6</td>\n",
              "      <td>9</td>\n",
              "      <td>6</td>\n",
              "      <td>10</td>\n",
              "    </tr>\n",
              "  </tbody>\n",
              "</table>\n",
              "</div>"
            ],
            "text/plain": [
              "  user_id  lt_day   age  gender_segment  os_name cpe_type_name  location_id  \\\n",
              "0  A001A2    2320  45.0             1.0  ANDROID    SMARTPHONE           55   \n",
              "1  A001WF    2344  53.0             0.0  ANDROID    SMARTPHONE           21   \n",
              "2  A003Q7     467  57.0             0.0  ANDROID    SMARTPHONE           28   \n",
              "\n",
              "   age_gr_id  tr_gr_id  lt_gr_id  nps_score  \n",
              "0          5         5         8         10  \n",
              "1          5         5         8         10  \n",
              "2          6         9         6         10  "
            ]
          },
          "execution_count": 4,
          "metadata": {},
          "output_type": "execute_result"
        }
      ],
      "source": [
        "# считываем таблицу и выводим первые 3 строчки\n",
        "\n",
        "df = pd.read_sql(query, engine)\n",
        "df.head(3)"
      ]
    },
    {
      "cell_type": "code",
      "execution_count": 5,
      "id": "9db04858",
      "metadata": {},
      "outputs": [],
      "source": [
        "# преобразовываем таблицу в csv файл\n",
        "\n",
        "df.to_csv('telecomm_csi_tableau.csv', index=False)"
      ]
    },
    {
      "cell_type": "code",
      "execution_count": 1,
      "id": "0abd1664",
      "metadata": {},
      "outputs": [],
      "source": [
        "# sql запрос для вывода необходимых столбцов\n",
        "\n",
        "query2 = \"\"\"\n",
        "SELECT u.user_id,\n",
        "       u.lt_day,\n",
        "       (CASE\n",
        "            WHEN u.lt_day > 365 THEN 'Старый'\n",
        "            ELSE 'Новый'\n",
        "       END) AS is_new,\n",
        "       u.age,\n",
        "       (CASE\n",
        "            WHEN u.gender_segment = 1 THEN 'Женщина'\n",
        "            ELSE 'Мужчина'\n",
        "       END) AS gender_segment,\n",
        "       u.os_name,\n",
        "       u.cpe_type_name,\n",
        "       l.country,\n",
        "       l.city,\n",
        "       SUBSTRING(a.title, 4) AS age_segment,\n",
        "       SUBSTRING(t.title, 4) AS traffic_segment,\n",
        "       SUBSTRING(ls.title, 4) AS lifetime_segment,\n",
        "       u.nps_score,\n",
        "       (CASE\n",
        "            WHEN u.nps_score<=6 THEN 'Критик'\n",
        "            WHEN u.nps_score<=8 THEN 'Нейтральный'\n",
        "            ELSE 'Сторонник'\n",
        "       END) AS nps_group\n",
        "FROM user AS u\n",
        "LEFT JOIN location l ON u.location_id=l.location_id\n",
        "LEFT JOIN age_segment a ON u.age_gr_id=a.age_gr_id\n",
        "LEFT JOIN traffic_segment t ON u.tr_gr_id=t.tr_gr_id\n",
        "LEFT JOIN lifetime_segment ls ON u.lt_gr_id=ls.lt_gr_id;\n",
        "\"\"\""
      ]
    },
    {
      "attachments": {
        "image.png": {
          "image/png": "[encoded data removed]"
        }
      },
      "cell_type": "markdown",
      "id": "c1b97399",
      "metadata": {},
      "source": [
        "<div class=\"alert alert-block alert-danger\">\n",
        "<h2> Комментарий ревьюера <a class=\"tocSkip\"></h2>\n",
        "\n",
        "    \n",
        "<b>На доработку🤔:</b> \n",
        "    \n",
        "По запросу в целом все верно, есть только момент с выделением критиков, сторонников и нейтралов. По заданию границы интервалов для этих типов пользователей все же включены, то есть стоит применииь нестрогое неравенство (иначе говоря, `<=` или `>=`):\n",
        "    \n",
        "![image.png](attachment:image.png)\n",
        "    \n",
        "\n",
        "</div>"
      ]
    },
    {
      "cell_type": "markdown",
      "id": "006fe04a",
      "metadata": {},
      "source": [
        "<div class=\"alert alert-info\"> <b>Комментарии студента</b>\n",
        "\n",
        "Да, я знаю, что границы конкретные, но на результат это не влияет. Это точно на доработку? Просто это странно, примерно так же, если бы я написал всё на английском: \"promoters\", \"passives\", \"detractors\". Я бы даже понял, если бы пример попросили исправить этот, потому что заказчик может быть русскоязычный и не поймёт. Там ведь надо всё заново, сохранять файл, строить, разве нет?</div>"
      ]
    },
    {
      "cell_type": "markdown",
      "id": "91f29f65",
      "metadata": {},
      "source": [
        "<div class=\"alert alert-success\">\n",
        "<h2> Комментарий ревьюера : вторая итерация ревью<a class=\"tocSkip\"> </h2>\n",
        "\n",
        "<b>Все отлично!👍:</b> \n",
        "    \n",
        "Если ты провел тесты и из них стало понятно, что как строгое, так и не строгое неравенства дают одинаковый результат, тогда все в порядке. Иногда это влияет на результат, case by case, конечно, но все-таки на это стоит обращать внимание.\n",
        "    \n",
        "Насчет русского языка в категориях - да, хорошее замечание, но тут, как ты верно заметил, стоит ориентироваться на конкретного заказчика и подстраивать \"язык\" дашбордов под заказчика. В учебном проекте можно оставить русскоязчные категории.\n",
        "</div>"
      ]
    },
    {
      "cell_type": "code",
      "execution_count": 7,
      "id": "3fac8843",
      "metadata": {},
      "outputs": [
        {
          "data": {
            "text/html": [
              "<div>\n",
              "<style scoped>\n",
              "    .dataframe tbody tr th:only-of-type {\n",
              "        vertical-align: middle;\n",
              "    }\n",
              "\n",
              "    .dataframe tbody tr th {\n",
              "        vertical-align: top;\n",
              "    }\n",
              "\n",
              "    .dataframe thead th {\n",
              "        text-align: right;\n",
              "    }\n",
              "</style>\n",
              "<table border=\"1\" class=\"dataframe\">\n",
              "  <thead>\n",
              "    <tr style=\"text-align: right;\">\n",
              "      <th></th>\n",
              "      <th>user_id</th>\n",
              "      <th>lt_day</th>\n",
              "      <th>is_new</th>\n",
              "      <th>age</th>\n",
              "      <th>gender_segment</th>\n",
              "      <th>os_name</th>\n",
              "      <th>cpe_type_name</th>\n",
              "      <th>country</th>\n",
              "      <th>city</th>\n",
              "      <th>age_segment</th>\n",
              "      <th>traffic_segment</th>\n",
              "      <th>lifetime_segment</th>\n",
              "      <th>nps_score</th>\n",
              "      <th>nps_group</th>\n",
              "    </tr>\n",
              "  </thead>\n",
              "  <tbody>\n",
              "    <tr>\n",
              "      <th>0</th>\n",
              "      <td>A001A2</td>\n",
              "      <td>2320</td>\n",
              "      <td>Старый</td>\n",
              "      <td>45.0</td>\n",
              "      <td>Женщина</td>\n",
              "      <td>ANDROID</td>\n",
              "      <td>SMARTPHONE</td>\n",
              "      <td>Россия</td>\n",
              "      <td>Уфа</td>\n",
              "      <td>45-54</td>\n",
              "      <td>1-5</td>\n",
              "      <td>36+</td>\n",
              "      <td>10</td>\n",
              "      <td>Сторонник</td>\n",
              "    </tr>\n",
              "    <tr>\n",
              "      <th>1</th>\n",
              "      <td>A001WF</td>\n",
              "      <td>2344</td>\n",
              "      <td>Старый</td>\n",
              "      <td>53.0</td>\n",
              "      <td>Мужчина</td>\n",
              "      <td>ANDROID</td>\n",
              "      <td>SMARTPHONE</td>\n",
              "      <td>Россия</td>\n",
              "      <td>Киров</td>\n",
              "      <td>45-54</td>\n",
              "      <td>1-5</td>\n",
              "      <td>36+</td>\n",
              "      <td>10</td>\n",
              "      <td>Сторонник</td>\n",
              "    </tr>\n",
              "    <tr>\n",
              "      <th>2</th>\n",
              "      <td>A003Q7</td>\n",
              "      <td>467</td>\n",
              "      <td>Старый</td>\n",
              "      <td>57.0</td>\n",
              "      <td>Мужчина</td>\n",
              "      <td>ANDROID</td>\n",
              "      <td>SMARTPHONE</td>\n",
              "      <td>Россия</td>\n",
              "      <td>Москва</td>\n",
              "      <td>55-64</td>\n",
              "      <td>20-25</td>\n",
              "      <td>13-24</td>\n",
              "      <td>10</td>\n",
              "      <td>Сторонник</td>\n",
              "    </tr>\n",
              "  </tbody>\n",
              "</table>\n",
              "</div>"
            ],
            "text/plain": [
              "  user_id  lt_day  is_new   age gender_segment  os_name cpe_type_name country  \\\n",
              "0  A001A2    2320  Старый  45.0        Женщина  ANDROID    SMARTPHONE  Россия   \n",
              "1  A001WF    2344  Старый  53.0        Мужчина  ANDROID    SMARTPHONE  Россия   \n",
              "2  A003Q7     467  Старый  57.0        Мужчина  ANDROID    SMARTPHONE  Россия   \n",
              "\n",
              "     city age_segment traffic_segment lifetime_segment  nps_score  nps_group  \n",
              "0     Уфа       45-54             1-5              36+         10  Сторонник  \n",
              "1   Киров       45-54             1-5              36+         10  Сторонник  \n",
              "2  Москва       55-64           20-25            13-24         10  Сторонник  "
            ]
          },
          "execution_count": 7,
          "metadata": {},
          "output_type": "execute_result"
        }
      ],
      "source": [
        "# сохраняем запрос в переменную и выводим первые 3 строки\n",
        "\n",
        "data = pd.read_sql(query2, engine)\n",
        "data.head(3)"
      ]
    },
    {
      "cell_type": "code",
      "execution_count": 8,
      "id": "32013e8c",
      "metadata": {},
      "outputs": [],
      "source": [
        "# преобразуем таблицу в csv файл\n",
        "\n",
        "data.to_csv('telecomm_csi_tableau.csv', index=False)"
      ]
    },
    {
      "cell_type": "markdown",
      "id": "fa404dc6",
      "metadata": {},
      "source": [
        "# Общий вывод"
      ]
    },
    {
      "cell_type": "markdown",
      "id": "81cd089c",
      "metadata": {},
      "source": [
        "Задачей проекта было определение текущего уровеня потребительской лояльности (NPS) среди клиентов из России."
      ]
    },
    {
      "cell_type": "markdown",
      "id": "3cc287e7",
      "metadata": {},
      "source": [
        "**Этапы исследования**\n",
        "\n",
        "1. Работа с данными\n",
        " - Выгрузка\n",
        " - Отбор необходимых данных\n",
        " - Сохранение\n",
        "2. Анализ данных\n",
        " - Построение визуализаций\n",
        " - Выявление взаимосвязей\n",
        " - Расчёт показателя NPS\n",
        "3. Создание дашборда\n",
        "4. Подготовка презентации"
      ]
    },
    {
      "cell_type": "markdown",
      "id": "91eacf48",
      "metadata": {},
      "source": [
        "**Выводы исследования**\n",
        "\n",
        "1. Итоговое значение NPS -  **21.98%**\n",
        "2. Наибольшее число участников среди мужчин и женщин представлено в возрастных категориях 25-34 и 35-44\n",
        "3. Старых пользователей почти в 5 раз больше новых\n",
        "4. Активно участвовали в опросе клиенты из Москвы и \u000b",
        "Санкт-Петербурга\n",
        "5. К наиболее лояльным группам относятся:\n",
        " - Клиенты с телефонами на Android\n",
        " - Мужчины и женщины 55-64\n",
        " - Новые клиенты\n",
        "6. К менее лояльным группам относятся мужчины или женщины:\n",
        " - В возрасте 35-44 лет\n",
        " - Из Москвы или Санкт-Петербурга\n",
        " - Пользуется услугами оператора менее года\n",
        " - Телефоном на базе операционной системы Android"
      ]
    },
    {
      "cell_type": "markdown",
      "id": "3a626c56",
      "metadata": {},
      "source": [
        "<div class=\"alert alert-success\">\n",
        "<h2> Комментарий ревьюера <a class=\"tocSkip\"> </h2>\n",
        "\n",
        "<b>Все отлично!👍:</b> \n",
        "    \n",
        "Положительные моменты по итогам твоего анализа, которые хотелось бы отметить:\n",
        "    \n",
        "1) здорово, что ты использовал разные типы графиков для итогового дашборда\n",
        "   \n",
        "2) дашборд в целом хорошо спроектирован, в нем легко навигироваться\n",
        "    \n",
        "3) основная метрика - NPS, расчитана корректно.\n",
        "    \n",
        "3) отдельный плюс за добавление интерактивности в виде фильтров\n",
        "    \n",
        "4) по презентации тоже все в порядке: выделены цели и задачи, добавлены основные графики с краткими выводами, а также общий вывод\n",
        "</div>"
      ]
    },
    {
      "attachments": {
        "image.png": {
          "image/png": "[encoded data removed]"
        }
      },
      "cell_type": "markdown",
      "id": "118e1b13",
      "metadata": {},
      "source": [
        "<div class=\"alert alert-block alert-danger\">\n",
        "<h2> Комментарий ревьюера <a class=\"tocSkip\"></h2>\n",
        "\n",
        "    \n",
        "<b>На доработку🤔:</b> \n",
        "    \n",
        "Критичные моменты, над которыми важно поработать:\n",
        "    \n",
        "1) логически у нас анализ разбивается на две части: в первой мы анализируем юзеров в общем, смотрим, как у нас распределены пользователи по таким категориям как возраст, пол, лайфтайм, география (город), и тут у тебя большая часть графиков есть, но стоит добавить еще аналитики, например, распределение клиентов по лайтайму (lifetime segment) и самое главное - вынести этот анализ (все графики с характеристиками клиентов) на отдельный дашборд с добавлением фильтров, которые у тебя есть сейчас\n",
        "    \n",
        "2) выделять по OS категорию Other не совсем корректно, потому что, если ты посмотришь на исходные категории по этому покзателю, там уже есть Other. В целом, можно вывести все эти системы, без выделения отдельных групп\n",
        "    \n",
        "![image.png](attachment:image.png)\n",
        "    \n",
        "3) во второй части анализа мы должны проанализировать метрику NPS, которую ты считаешь. Логика может быть та же: можно посмотреть, как у нас распределена эта метрика по полу пользователей, lifetime, возрасту пользователей, городам. И эти графики также с фильтрами лучше вынести на отдельный дашборд. Важно: от нас не требуется анализа nps_Score, исходной метрики, которая была в данных и ранее. Важно сосредоточиться на анализе предрасчитанного тобой показателя NPS. Поэтому, когда ты обновишь графики (добавишь и уберешь те, что используют nps_score) презентацию также важно обновить. В целом, мы можем добавить несколько графиков по nps_score, но это должна быть дополнительная визуализация, а не основная. По сути, пока из расчитанного NPS ты выводишь только общую метрику, это верно, но недостаточно.\n",
        "    \n"
      ]
    },
    {
      "cell_type": "markdown",
      "id": "07cb5e00",
      "metadata": {},
      "source": [
        "<div class=\"alert alert-info\"> <b>Комментарии студента</b>\n",
        "\n",
        "Исправил</div>"
      ]
    },
    {
      "cell_type": "markdown",
      "id": "e4b53654",
      "metadata": {},
      "source": [
        "<div class=\"alert alert-success\">\n",
        "<h2> Комментарий ревьюера : вторая итерация ревью<a class=\"tocSkip\"> </h2>\n",
        "\n",
        "<b>Все отлично!👍</b> \n",
        "    "
      ]
    },
    {
      "attachments": {
        "image-2.png": {
          "image/png": "[encoded data removed]"
        },
        "image.png": {
          "image/png": "[encoded data removed]"
        }
      },
      "cell_type": "markdown",
      "id": "3b7477c4",
      "metadata": {},
      "source": [
        "<div class=\"alert alert-warning\">\n",
        "    <h2> Комментарий ревьюера <a class=\"tocSkip\"> </h2>\n",
        "    \n",
        "<b>Некоторые замечания и рекомендации💡:</b> \n",
        "        \n",
        "Некоторые рекомендации по графикам, которые позволят улучшить вид дашборда:\n",
        "        \n",
        "1) я бы предложила заменить heatmap по городам на более понятный график. Проблема с heatmap в том, что для большей части городов мы не видим ни самого названия города (только в тултипе), ни значения по кол-ву клиентов/nps, это не информативно. Да, в презентации можно график растянуть, и будет видно больше информации, однако мы предполагаем, что дашбордом будут пользоваться наши заказчики, поэтому важно сделать его понятным и читабельным. Так как городов у нас много, здесь можно вывести топ-5, топ-10 или добавить интерактивный ползунок, чтобы пользователь дашборда сам мог менять кол-во городов на дашборде,информацию по которым он хотел бы видеть\n",
        "        \n",
        "![image.png](attachment:image.png)\n",
        "        \n",
        "2) для барплотов я бы предложила выводить тоталы на границах баров, чтобы можно было точно понять, какие значение у каждого бара (например, твой график по кол-ву сторонников, критиков и нейтралов). Да, мы можем посмотреть тотал в тултипе, но лучше все же вывести значение и на график, пользователи не всегда смотрят в тултипы\n",
        "        \n",
        "![image-2.png](attachment:image-2.png)\n",
        "        \n",
        "        \n",
        "3) помимо абсолютных, можно анализировать относительные значения (доли), а абсолютные добавлять в тултип (иногда проценты просто занимают меньше места на графиках, особенно если у нас абсолютные значения выражаются в сотнях тысячах или в миллионах)  Утебя где-то выведены проценты, где-то абсолютные значения. Я бы предложила унифицировать и добавлять везде либо проценты, либо абсолютные значения. Одно из двух можно вывести в тултипе (то есть на графике показываем, например, проценты, в тултипах - абсолютные значения)\n",
        "        \n",
        "4) также, если у нас всего три категории (например, твой график по кол-ву сторонников, критиков и нейтралов) стоит так настроить размер дашборда, чтобы не было прокрутки. Когда у нас условно 10+ категорий, прокрутка графика оправдана, но когда их всего 3, тем более с горизонтальной ориентацией, стоит добиться того, чтобы график было видно полностью\n",
        "</div>"
      ]
    },
    {
      "cell_type": "markdown",
      "id": "5fd0d7e4",
      "metadata": {},
      "source": [
        "<div class=\"alert alert-info\"> <b>Комментарии студента</b>\n",
        "\n",
        "Подкорректировал.\n",
        "\n",
        "У дашборда нет ползунка у графиков, если его открывать в полный экран на сайте Tableau или если через само приложение.</div>"
      ]
    },
    {
      "cell_type": "markdown",
      "id": "20297b1a",
      "metadata": {},
      "source": [
        "<div class=\"alert alert-success\">\n",
        "<h2> Комментарий ревьюера : вторая итерация ревью<a class=\"tocSkip\"> </h2>\n",
        "\n",
        "<b>Все отлично!👍:</b> \n",
        "    \n",
        "Насчет ползунка: если мы предполагаем, что пользователь дашборда догадается открывать дэш в полноэкранном режиме, тогда все в порядке. Но так бывает не всегда, иногда нужно подумать немного наперед про UX и про то, что конечный юзер никаких лишних действий скорее всего предпринимать не будет и не догадается, что они вообще нужны. Тут забота аналитика максимально подготовить дашборды к использованию, сделать их удобными для конечного пользователя:)"
      ]
    },
    {
      "cell_type": "markdown",
      "id": "6c063ca2",
      "metadata": {},
      "source": [
        "<div class=\"alert alert-success\">\n",
        "<h2> Комментарий ревьюера <a class=\"tocSkip\"> </h2>\n",
        "\n",
        "<b>Все отлично!👍:</b> \n",
        "    \n",
        "По выводам:\n",
        "    \n",
        "* самое важное - это обновить выводы, когда будут перестроены (добавлены) новые графики, в остальном наличие блока с краткими выводами на дашборде - это плюс."
      ]
    },
    {
      "cell_type": "markdown",
      "id": "55b59f0a",
      "metadata": {},
      "source": [
        "Ссылка на дашборд: https://public.tableau.com/app/profile/yaroslav.zhdanov/viz/_16900402506730/NPS_5\n",
        "\n",
        "\n",
        "Ссылка на презентацию: https://disk.yandex.ru/i/hQncyHE2eHKQBg"
      ]
    },
    {
      "cell_type": "markdown",
      "id": "9e078b71",
      "metadata": {},
      "source": [
        "<div class=\"alert alert-info\"> <b>Комментарии студента</b>\n",
        "\n",
        "Обновил ссылки на актуальный дашборд и презу.</div>"
      ]
    },
    {
      "cell_type": "markdown",
      "id": "cc21e9d1",
      "metadata": {},
      "source": [
        "<div class=\"alert alert-success\">\n",
        "<h2> Комментарий ревьюера : вторая итерация ревью<a class=\"tocSkip\"> </h2>\n",
        "\n",
        "<b>Все отлично!👍:</b> \n",
        "    \n",
        "Все отлично, вижу новую версию дашбордов и презентации🙌"
      ]
    },
    {
      "cell_type": "markdown",
      "id": "3d71be72",
      "metadata": {},
      "source": [
        "<div style=\"border:solid Chocolate 2px; padding: 40px\">\n",
        "\n",
        "**Общий вывод по проекту**\n",
        "\n",
        "Ярослав, спасибо за твой проект! Ты приложил много усилий, чтобы довести его до конца, все задачи в рамках проекта тебе удалось успешно решить, это видно невооруженным глазом, отличная работа! Оставила для тебя несколько рекомендаций в желтых и красных блоках, попробуй скорректировать проект в соответствии с моими комментариями.\n",
        "\n",
        " \n",
        "**Желаю удачи и жду твой проект на повторное ревью!**😉\n",
        "    \n",
        "![gif](https://media.giphy.com/media/l41Yh1olOKd1Tgbw4/giphy.gif)"
      ]
    },
    {
      "cell_type": "markdown",
      "id": "92fcf414",
      "metadata": {},
      "source": [
        "\n",
        "<div style=\"border:solid Chocolate 2px; padding: 40px\">\n",
        "\n",
        "**Общий вывод по проекту:вторая итерация ревью**\n",
        "\n",
        "Ярослав, спасибо, что прислал проект с доработками! Все основные моменты удалось скорректировать, хорошая работа!\n",
        "    \n",
        "Спешу тебе сообщить, что твой проект принят и ты можешь перейти на следующий спринт🐱‍🏍\n",
        "    \n",
        "Желаю тебе крутых и интересных проектов на следующих спринтах🙌😉\n",
        "\n",
        "P.S. Несколько полезных материалов/ресурсом по Tableau и дашбордам:\n",
        "\n",
        "https://tableau.pro/m01 (марафон от Data Yoga по Tableau)\n",
        "\n",
        "https://awdee.ru/tag/dataviz/ (неплохой ресурс про дизайн и визуализацию в целом)\n",
        "\n",
        "https://www.data-to-viz.com/ (еще один ресурс по визуализации данных)\n",
        "\n",
        "https://www.youtube.com/@sqlbelle (полезный блог на ютубе по Tableau с практическими примерами)"
      ]
    },
    {
      "cell_type": "code",
      "execution_count": null,
      "id": "18e8cb09",
      "metadata": {},
      "outputs": [],
      "source": []
    }
  ],
  "metadata": {
    "ExecuteTimeLog": [
      {
        "duration": 517,
        "start_time": "2023-07-17T09:38:32.483Z"
      },
      {
        "duration": 83,
        "start_time": "2023-07-17T09:38:35.496Z"
      },
      {
        "duration": 3,
        "start_time": "2023-07-17T09:40:05.985Z"
      },
      {
        "duration": 3537,
        "start_time": "2023-07-17T09:40:08.205Z"
      },
      {
        "duration": 2496,
        "start_time": "2023-07-17T09:41:36.241Z"
      },
      {
        "duration": 547,
        "start_time": "2023-07-17T09:43:44.550Z"
      },
      {
        "duration": 32,
        "start_time": "2023-07-17T09:43:45.098Z"
      },
      {
        "duration": 2,
        "start_time": "2023-07-17T09:43:45.132Z"
      },
      {
        "duration": 3545,
        "start_time": "2023-07-17T09:43:45.136Z"
      },
      {
        "duration": 2315,
        "start_time": "2023-07-17T09:43:48.682Z"
      },
      {
        "duration": 540,
        "start_time": "2023-07-19T07:18:09.958Z"
      },
      {
        "duration": 67,
        "start_time": "2023-07-19T07:18:10.500Z"
      },
      {
        "duration": 3,
        "start_time": "2023-07-19T07:18:10.569Z"
      },
      {
        "duration": 3704,
        "start_time": "2023-07-19T07:18:10.573Z"
      },
      {
        "duration": 2404,
        "start_time": "2023-07-19T07:18:14.280Z"
      },
      {
        "duration": 149,
        "start_time": "2023-07-19T07:18:16.686Z"
      },
      {
        "duration": 2,
        "start_time": "2023-07-19T07:34:13.946Z"
      },
      {
        "duration": 4,
        "start_time": "2023-07-19T07:36:08.110Z"
      },
      {
        "duration": 3651,
        "start_time": "2023-07-19T07:36:11.395Z"
      },
      {
        "duration": 4,
        "start_time": "2023-07-19T07:37:58.278Z"
      },
      {
        "duration": 3877,
        "start_time": "2023-07-19T07:38:00.607Z"
      },
      {
        "duration": 3,
        "start_time": "2023-07-19T07:39:56.076Z"
      },
      {
        "duration": 3736,
        "start_time": "2023-07-19T07:39:58.384Z"
      },
      {
        "duration": 3,
        "start_time": "2023-07-19T07:40:43.449Z"
      },
      {
        "duration": 3586,
        "start_time": "2023-07-19T07:40:45.754Z"
      },
      {
        "duration": 3,
        "start_time": "2023-07-19T07:45:42.601Z"
      },
      {
        "duration": 3810,
        "start_time": "2023-07-19T07:45:44.414Z"
      },
      {
        "duration": 3,
        "start_time": "2023-07-19T07:46:09.286Z"
      },
      {
        "duration": 3680,
        "start_time": "2023-07-19T07:46:11.156Z"
      },
      {
        "duration": 566,
        "start_time": "2023-07-19T07:47:34.303Z"
      },
      {
        "duration": 40,
        "start_time": "2023-07-19T07:47:34.871Z"
      },
      {
        "duration": 3,
        "start_time": "2023-07-19T07:47:34.913Z"
      },
      {
        "duration": 3828,
        "start_time": "2023-07-19T07:47:34.917Z"
      },
      {
        "duration": 3107,
        "start_time": "2023-07-19T07:47:38.748Z"
      },
      {
        "duration": 13,
        "start_time": "2023-07-19T07:47:41.857Z"
      },
      {
        "duration": 4156,
        "start_time": "2023-07-19T07:47:41.878Z"
      },
      {
        "duration": 3,
        "start_time": "2023-07-19T07:49:19.590Z"
      },
      {
        "duration": 4068,
        "start_time": "2023-07-19T07:49:21.698Z"
      },
      {
        "duration": 5,
        "start_time": "2023-07-19T07:53:23.820Z"
      },
      {
        "duration": 4147,
        "start_time": "2023-07-19T07:53:25.921Z"
      },
      {
        "duration": 5,
        "start_time": "2023-07-19T08:00:09.776Z"
      },
      {
        "duration": 3929,
        "start_time": "2023-07-19T08:00:12.206Z"
      },
      {
        "duration": 5632,
        "start_time": "2023-07-19T08:00:45.873Z"
      },
      {
        "duration": 3,
        "start_time": "2023-07-19T08:03:56.049Z"
      },
      {
        "duration": 5327,
        "start_time": "2023-07-19T08:03:58.794Z"
      },
      {
        "duration": 4,
        "start_time": "2023-07-19T08:05:03.434Z"
      },
      {
        "duration": 5818,
        "start_time": "2023-07-19T08:05:04.769Z"
      },
      {
        "duration": 3,
        "start_time": "2023-07-19T08:05:43.217Z"
      },
      {
        "duration": 5805,
        "start_time": "2023-07-19T08:05:45.400Z"
      },
      {
        "duration": 4390,
        "start_time": "2023-07-19T08:08:55.963Z"
      },
      {
        "duration": 560,
        "start_time": "2023-07-19T08:14:01.954Z"
      },
      {
        "duration": 32,
        "start_time": "2023-07-19T08:14:02.516Z"
      },
      {
        "duration": 3,
        "start_time": "2023-07-19T08:14:02.550Z"
      },
      {
        "duration": 3677,
        "start_time": "2023-07-19T08:14:02.555Z"
      },
      {
        "duration": 2411,
        "start_time": "2023-07-19T08:14:06.233Z"
      },
      {
        "duration": 4,
        "start_time": "2023-07-19T08:14:08.647Z"
      },
      {
        "duration": 6054,
        "start_time": "2023-07-19T08:14:08.653Z"
      },
      {
        "duration": 4564,
        "start_time": "2023-07-19T08:14:14.709Z"
      },
      {
        "duration": 128,
        "start_time": "2023-07-21T09:21:09.427Z"
      },
      {
        "duration": 510,
        "start_time": "2023-07-21T16:04:47.738Z"
      },
      {
        "duration": 43,
        "start_time": "2023-07-21T16:04:48.250Z"
      },
      {
        "duration": 3,
        "start_time": "2023-07-21T16:04:48.295Z"
      },
      {
        "duration": 4386,
        "start_time": "2023-07-21T16:04:48.300Z"
      },
      {
        "duration": 2467,
        "start_time": "2023-07-21T16:04:52.687Z"
      },
      {
        "duration": 3,
        "start_time": "2023-07-21T16:04:55.156Z"
      },
      {
        "duration": 5479,
        "start_time": "2023-07-21T16:04:55.160Z"
      },
      {
        "duration": 4477,
        "start_time": "2023-07-21T16:05:00.641Z"
      },
      {
        "duration": 9,
        "start_time": "2023-07-22T07:25:30.713Z"
      }
    ],
    "kernelspec": {
      "display_name": "Python 3 (ipykernel)",
      "language": "python",
      "name": "python3"
    },
    "language_info": {
      "codemirror_mode": {
        "name": "ipython",
        "version": 3
      },
      "file_extension": ".py",
      "mimetype": "text/x-python",
      "name": "python",
      "nbconvert_exporter": "python",
      "pygments_lexer": "ipython3",
      "version": "3.9.5"
    },
    "toc": {
      "base_numbering": 1,
      "nav_menu": {},
      "number_sections": true,
      "sideBar": true,
      "skip_h1_title": true,
      "title_cell": "Table of Contents",
      "title_sidebar": "Contents",
      "toc_cell": false,
      "toc_position": {},
      "toc_section_display": true,
      "toc_window_display": false
    }
  },
  "nbformat": 4,
  "nbformat_minor": 5
}