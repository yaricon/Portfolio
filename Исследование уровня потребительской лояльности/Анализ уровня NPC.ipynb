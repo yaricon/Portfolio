{
  "metadata": {
    "ExecuteTimeLog": [
      {
        "duration": 517,
        "start_time": "2023-07-17T09:38:32.483Z"
      },
      {
        "duration": 83,
        "start_time": "2023-07-17T09:38:35.496Z"
      },
      {
        "duration": 3,
        "start_time": "2023-07-17T09:40:05.985Z"
      },
      {
        "duration": 3537,
        "start_time": "2023-07-17T09:40:08.205Z"
      },
      {
        "duration": 2496,
        "start_time": "2023-07-17T09:41:36.241Z"
      },
      {
        "duration": 547,
        "start_time": "2023-07-17T09:43:44.550Z"
      },
      {
        "duration": 32,
        "start_time": "2023-07-17T09:43:45.098Z"
      },
      {
        "duration": 2,
        "start_time": "2023-07-17T09:43:45.132Z"
      },
      {
        "duration": 3545,
        "start_time": "2023-07-17T09:43:45.136Z"
      },
      {
        "duration": 2315,
        "start_time": "2023-07-17T09:43:48.682Z"
      },
      {
        "duration": 540,
        "start_time": "2023-07-19T07:18:09.958Z"
      },
      {
        "duration": 67,
        "start_time": "2023-07-19T07:18:10.500Z"
      },
      {
        "duration": 3,
        "start_time": "2023-07-19T07:18:10.569Z"
      },
      {
        "duration": 3704,
        "start_time": "2023-07-19T07:18:10.573Z"
      },
      {
        "duration": 2404,
        "start_time": "2023-07-19T07:18:14.280Z"
      },
      {
        "duration": 149,
        "start_time": "2023-07-19T07:18:16.686Z"
      },
      {
        "duration": 2,
        "start_time": "2023-07-19T07:34:13.946Z"
      },
      {
        "duration": 4,
        "start_time": "2023-07-19T07:36:08.110Z"
      },
      {
        "duration": 3651,
        "start_time": "2023-07-19T07:36:11.395Z"
      },
      {
        "duration": 4,
        "start_time": "2023-07-19T07:37:58.278Z"
      },
      {
        "duration": 3877,
        "start_time": "2023-07-19T07:38:00.607Z"
      },
      {
        "duration": 3,
        "start_time": "2023-07-19T07:39:56.076Z"
      },
      {
        "duration": 3736,
        "start_time": "2023-07-19T07:39:58.384Z"
      },
      {
        "duration": 3,
        "start_time": "2023-07-19T07:40:43.449Z"
      },
      {
        "duration": 3586,
        "start_time": "2023-07-19T07:40:45.754Z"
      },
      {
        "duration": 3,
        "start_time": "2023-07-19T07:45:42.601Z"
      },
      {
        "duration": 3810,
        "start_time": "2023-07-19T07:45:44.414Z"
      },
      {
        "duration": 3,
        "start_time": "2023-07-19T07:46:09.286Z"
      },
      {
        "duration": 3680,
        "start_time": "2023-07-19T07:46:11.156Z"
      },
      {
        "duration": 566,
        "start_time": "2023-07-19T07:47:34.303Z"
      },
      {
        "duration": 40,
        "start_time": "2023-07-19T07:47:34.871Z"
      },
      {
        "duration": 3,
        "start_time": "2023-07-19T07:47:34.913Z"
      },
      {
        "duration": 3828,
        "start_time": "2023-07-19T07:47:34.917Z"
      },
      {
        "duration": 3107,
        "start_time": "2023-07-19T07:47:38.748Z"
      },
      {
        "duration": 13,
        "start_time": "2023-07-19T07:47:41.857Z"
      },
      {
        "duration": 4156,
        "start_time": "2023-07-19T07:47:41.878Z"
      },
      {
        "duration": 3,
        "start_time": "2023-07-19T07:49:19.590Z"
      },
      {
        "duration": 4068,
        "start_time": "2023-07-19T07:49:21.698Z"
      },
      {
        "duration": 5,
        "start_time": "2023-07-19T07:53:23.820Z"
      },
      {
        "duration": 4147,
        "start_time": "2023-07-19T07:53:25.921Z"
      },
      {
        "duration": 5,
        "start_time": "2023-07-19T08:00:09.776Z"
      },
      {
        "duration": 3929,
        "start_time": "2023-07-19T08:00:12.206Z"
      },
      {
        "duration": 5632,
        "start_time": "2023-07-19T08:00:45.873Z"
      },
      {
        "duration": 3,
        "start_time": "2023-07-19T08:03:56.049Z"
      },
      {
        "duration": 5327,
        "start_time": "2023-07-19T08:03:58.794Z"
      },
      {
        "duration": 4,
        "start_time": "2023-07-19T08:05:03.434Z"
      },
      {
        "duration": 5818,
        "start_time": "2023-07-19T08:05:04.769Z"
      },
      {
        "duration": 3,
        "start_time": "2023-07-19T08:05:43.217Z"
      },
      {
        "duration": 5805,
        "start_time": "2023-07-19T08:05:45.400Z"
      },
      {
        "duration": 4390,
        "start_time": "2023-07-19T08:08:55.963Z"
      },
      {
        "duration": 560,
        "start_time": "2023-07-19T08:14:01.954Z"
      },
      {
        "duration": 32,
        "start_time": "2023-07-19T08:14:02.516Z"
      },
      {
        "duration": 3,
        "start_time": "2023-07-19T08:14:02.550Z"
      },
      {
        "duration": 3677,
        "start_time": "2023-07-19T08:14:02.555Z"
      },
      {
        "duration": 2411,
        "start_time": "2023-07-19T08:14:06.233Z"
      },
      {
        "duration": 4,
        "start_time": "2023-07-19T08:14:08.647Z"
      },
      {
        "duration": 6054,
        "start_time": "2023-07-19T08:14:08.653Z"
      },
      {
        "duration": 4564,
        "start_time": "2023-07-19T08:14:14.709Z"
      },
      {
        "duration": 128,
        "start_time": "2023-07-21T09:21:09.427Z"
      },
      {
        "duration": 510,
        "start_time": "2023-07-21T16:04:47.738Z"
      },
      {
        "duration": 43,
        "start_time": "2023-07-21T16:04:48.250Z"
      },
      {
        "duration": 3,
        "start_time": "2023-07-21T16:04:48.295Z"
      },
      {
        "duration": 4386,
        "start_time": "2023-07-21T16:04:48.300Z"
      },
      {
        "duration": 2467,
        "start_time": "2023-07-21T16:04:52.687Z"
      },
      {
        "duration": 3,
        "start_time": "2023-07-21T16:04:55.156Z"
      },
      {
        "duration": 5479,
        "start_time": "2023-07-21T16:04:55.160Z"
      },
      {
        "duration": 4477,
        "start_time": "2023-07-21T16:05:00.641Z"
      },
      {
        "duration": 9,
        "start_time": "2023-07-22T07:25:30.713Z"
      }
    ],
    "toc": {
      "base_numbering": 1,
      "nav_menu": {},
      "number_sections": true,
      "sideBar": true,
      "skip_h1_title": true,
      "title_cell": "Table of Contents",
      "title_sidebar": "Contents",
      "toc_cell": false,
      "toc_position": {},
      "toc_section_display": true,
      "toc_window_display": false
    },
    "kernelspec": {
      "name": "python",
      "display_name": "Python (Pyodide)",
      "language": "python"
    },
    "language_info": {
      "codemirror_mode": {
        "name": "python",
        "version": 3
      },
      "file_extension": ".py",
      "mimetype": "text/x-python",
      "name": "python",
      "nbconvert_exporter": "python",
      "pygments_lexer": "ipython3",
      "version": "3.8"
    }
  },
  "nbformat_minor": 5,
  "nbformat": 4,
  "cells": [
    {
      "cell_type": "markdown",
      "source": "# Исследование уровня потребительской лояльности",
      "metadata": {},
      "id": "26ed9e85"
    },
    {
      "cell_type": "markdown",
      "source": "**Цель исследования**\n\nОпределить текущий уровень потребительской лояльности (NPS) телекоммуникационной компании.",
      "metadata": {},
      "id": "f626f958"
    },
    {
      "cell_type": "markdown",
      "source": "**План работы**\n\n1. Выгрузить и отобрать необходимые данные\n2. Проанализировать\n3. Создать дашборд\n4. Сделать презентацию",
      "metadata": {},
      "id": "eb57f4aa"
    },
    {
      "cell_type": "markdown",
      "source": "Входные даннные - **данные в SQLite с результатами опроса клиентов компании.**",
      "metadata": {},
      "id": "07e55d4f"
    },
    {
      "cell_type": "code",
      "source": "# импортируем библиотеки\n\nimport os\nimport pandas as pd\nimport numpy as np\n\nfrom sqlalchemy import create_engine",
      "metadata": {},
      "execution_count": 1,
      "outputs": [],
      "id": "fc7efa54"
    },
    {
      "cell_type": "code",
      "source": "# сохраняем путь БД в переменную\n\npath_to_db_platform = '/datasets/telecomm_csi.db'\npath_to_db = None\n\n# если путь на платформе ведёт к БД, то он становится итоговым\n\nif os.path.exists(path_to_db_platform):\n    path_to_db = path_to_db_platform\nelse:\n    raise Exception('Файл с базой данных SQLite не найден!')\n\n# создаём итоговое подключение, если путь не пустой\n\nif path_to_db:\n    engine = create_engine(f'sqlite:///{path_to_db}', echo=False)",
      "metadata": {},
      "execution_count": 2,
      "outputs": [],
      "id": "0017f8e7"
    },
    {
      "cell_type": "code",
      "source": "# сохраняем всю таблицу в переменную SQL запросом\n\nquery = \"\"\"\nSELECT *\nFROM user;\n\"\"\"",
      "metadata": {},
      "execution_count": 3,
      "outputs": [],
      "id": "84ebad43"
    },
    {
      "cell_type": "code",
      "source": "# считываем таблицу и выводим первые 3 строчки\n\ndf = pd.read_sql(query, engine)\ndf.head(3)",
      "metadata": {},
      "execution_count": 4,
      "outputs": [
        {
          "execution_count": 4,
          "output_type": "execute_result",
          "data": {
            "text/html": [
              "<div>\n",
              "<style scoped>\n",
              "    .dataframe tbody tr th:only-of-type {\n",
              "        vertical-align: middle;\n",
              "    }\n",
              "\n",
              "    .dataframe tbody tr th {\n",
              "        vertical-align: top;\n",
              "    }\n",
              "\n",
              "    .dataframe thead th {\n",
              "        text-align: right;\n",
              "    }\n",
              "</style>\n",
              "<table border=\"1\" class=\"dataframe\">\n",
              "  <thead>\n",
              "    <tr style=\"text-align: right;\">\n",
              "      <th></th>\n",
              "      <th>user_id</th>\n",
              "      <th>lt_day</th>\n",
              "      <th>age</th>\n",
              "      <th>gender_segment</th>\n",
              "      <th>os_name</th>\n",
              "      <th>cpe_type_name</th>\n",
              "      <th>location_id</th>\n",
              "      <th>age_gr_id</th>\n",
              "      <th>tr_gr_id</th>\n",
              "      <th>lt_gr_id</th>\n",
              "      <th>nps_score</th>\n",
              "    </tr>\n",
              "  </thead>\n",
              "  <tbody>\n",
              "    <tr>\n",
              "      <th>0</th>\n",
              "      <td>A001A2</td>\n",
              "      <td>2320</td>\n",
              "      <td>45.0</td>\n",
              "      <td>1.0</td>\n",
              "      <td>ANDROID</td>\n",
              "      <td>SMARTPHONE</td>\n",
              "      <td>55</td>\n",
              "      <td>5</td>\n",
              "      <td>5</td>\n",
              "      <td>8</td>\n",
              "      <td>10</td>\n",
              "    </tr>\n",
              "    <tr>\n",
              "      <th>1</th>\n",
              "      <td>A001WF</td>\n",
              "      <td>2344</td>\n",
              "      <td>53.0</td>\n",
              "      <td>0.0</td>\n",
              "      <td>ANDROID</td>\n",
              "      <td>SMARTPHONE</td>\n",
              "      <td>21</td>\n",
              "      <td>5</td>\n",
              "      <td>5</td>\n",
              "      <td>8</td>\n",
              "      <td>10</td>\n",
              "    </tr>\n",
              "    <tr>\n",
              "      <th>2</th>\n",
              "      <td>A003Q7</td>\n",
              "      <td>467</td>\n",
              "      <td>57.0</td>\n",
              "      <td>0.0</td>\n",
              "      <td>ANDROID</td>\n",
              "      <td>SMARTPHONE</td>\n",
              "      <td>28</td>\n",
              "      <td>6</td>\n",
              "      <td>9</td>\n",
              "      <td>6</td>\n",
              "      <td>10</td>\n",
              "    </tr>\n",
              "  </tbody>\n",
              "</table>\n",
              "</div>"
            ],
            "text/plain": [
              "  user_id  lt_day   age  gender_segment  os_name cpe_type_name  location_id  \\\n",
              "0  A001A2    2320  45.0             1.0  ANDROID    SMARTPHONE           55   \n",
              "1  A001WF    2344  53.0             0.0  ANDROID    SMARTPHONE           21   \n",
              "2  A003Q7     467  57.0             0.0  ANDROID    SMARTPHONE           28   \n",
              "\n",
              "   age_gr_id  tr_gr_id  lt_gr_id  nps_score  \n",
              "0          5         5         8         10  \n",
              "1          5         5         8         10  \n",
              "2          6         9         6         10  "
            ]
          },
          "metadata": {}
        }
      ],
      "id": "3965faf2"
    },
    {
      "cell_type": "code",
      "source": "# преобразовываем таблицу в csv файл\n\ndf.to_csv('telecomm_csi_tableau.csv', index=False)",
      "metadata": {},
      "execution_count": 5,
      "outputs": [],
      "id": "9db04858"
    },
    {
      "cell_type": "code",
      "source": "# sql запрос для вывода необходимых столбцов\n\nquery2 = \"\"\"\nSELECT u.user_id,\n       u.lt_day,\n       (CASE\n            WHEN u.lt_day > 365 THEN 'Старый'\n            ELSE 'Новый'\n       END) AS is_new,\n       u.age,\n       (CASE\n            WHEN u.gender_segment = 1 THEN 'Женщина'\n            ELSE 'Мужчина'\n       END) AS gender_segment,\n       u.os_name,\n       u.cpe_type_name,\n       l.country,\n       l.city,\n       SUBSTRING(a.title, 4) AS age_segment,\n       SUBSTRING(t.title, 4) AS traffic_segment,\n       SUBSTRING(ls.title, 4) AS lifetime_segment,\n       u.nps_score,\n       (CASE\n            WHEN u.nps_score<=6 THEN 'Критик'\n            WHEN u.nps_score<=8 THEN 'Нейтральный'\n            ELSE 'Сторонник'\n       END) AS nps_group\nFROM user AS u\nLEFT JOIN location l ON u.location_id=l.location_id\nLEFT JOIN age_segment a ON u.age_gr_id=a.age_gr_id\nLEFT JOIN traffic_segment t ON u.tr_gr_id=t.tr_gr_id\nLEFT JOIN lifetime_segment ls ON u.lt_gr_id=ls.lt_gr_id;\n\"\"\"",
      "metadata": {},
      "execution_count": 1,
      "outputs": [],
      "id": "0abd1664"
    },
    {
      "cell_type": "code",
      "source": "# сохраняем запрос в переменную и выводим первые 3 строки\n\ndata = pd.read_sql(query2, engine)\ndata.head(3)",
      "metadata": {},
      "execution_count": 7,
      "outputs": [
        {
          "execution_count": 7,
          "output_type": "execute_result",
          "data": {
            "text/html": [
              "<div>\n",
              "<style scoped>\n",
              "    .dataframe tbody tr th:only-of-type {\n",
              "        vertical-align: middle;\n",
              "    }\n",
              "\n",
              "    .dataframe tbody tr th {\n",
              "        vertical-align: top;\n",
              "    }\n",
              "\n",
              "    .dataframe thead th {\n",
              "        text-align: right;\n",
              "    }\n",
              "</style>\n",
              "<table border=\"1\" class=\"dataframe\">\n",
              "  <thead>\n",
              "    <tr style=\"text-align: right;\">\n",
              "      <th></th>\n",
              "      <th>user_id</th>\n",
              "      <th>lt_day</th>\n",
              "      <th>is_new</th>\n",
              "      <th>age</th>\n",
              "      <th>gender_segment</th>\n",
              "      <th>os_name</th>\n",
              "      <th>cpe_type_name</th>\n",
              "      <th>country</th>\n",
              "      <th>city</th>\n",
              "      <th>age_segment</th>\n",
              "      <th>traffic_segment</th>\n",
              "      <th>lifetime_segment</th>\n",
              "      <th>nps_score</th>\n",
              "      <th>nps_group</th>\n",
              "    </tr>\n",
              "  </thead>\n",
              "  <tbody>\n",
              "    <tr>\n",
              "      <th>0</th>\n",
              "      <td>A001A2</td>\n",
              "      <td>2320</td>\n",
              "      <td>Старый</td>\n",
              "      <td>45.0</td>\n",
              "      <td>Женщина</td>\n",
              "      <td>ANDROID</td>\n",
              "      <td>SMARTPHONE</td>\n",
              "      <td>Россия</td>\n",
              "      <td>Уфа</td>\n",
              "      <td>45-54</td>\n",
              "      <td>1-5</td>\n",
              "      <td>36+</td>\n",
              "      <td>10</td>\n",
              "      <td>Сторонник</td>\n",
              "    </tr>\n",
              "    <tr>\n",
              "      <th>1</th>\n",
              "      <td>A001WF</td>\n",
              "      <td>2344</td>\n",
              "      <td>Старый</td>\n",
              "      <td>53.0</td>\n",
              "      <td>Мужчина</td>\n",
              "      <td>ANDROID</td>\n",
              "      <td>SMARTPHONE</td>\n",
              "      <td>Россия</td>\n",
              "      <td>Киров</td>\n",
              "      <td>45-54</td>\n",
              "      <td>1-5</td>\n",
              "      <td>36+</td>\n",
              "      <td>10</td>\n",
              "      <td>Сторонник</td>\n",
              "    </tr>\n",
              "    <tr>\n",
              "      <th>2</th>\n",
              "      <td>A003Q7</td>\n",
              "      <td>467</td>\n",
              "      <td>Старый</td>\n",
              "      <td>57.0</td>\n",
              "      <td>Мужчина</td>\n",
              "      <td>ANDROID</td>\n",
              "      <td>SMARTPHONE</td>\n",
              "      <td>Россия</td>\n",
              "      <td>Москва</td>\n",
              "      <td>55-64</td>\n",
              "      <td>20-25</td>\n",
              "      <td>13-24</td>\n",
              "      <td>10</td>\n",
              "      <td>Сторонник</td>\n",
              "    </tr>\n",
              "  </tbody>\n",
              "</table>\n",
              "</div>"
            ],
            "text/plain": [
              "  user_id  lt_day  is_new   age gender_segment  os_name cpe_type_name country  \\\n",
              "0  A001A2    2320  Старый  45.0        Женщина  ANDROID    SMARTPHONE  Россия   \n",
              "1  A001WF    2344  Старый  53.0        Мужчина  ANDROID    SMARTPHONE  Россия   \n",
              "2  A003Q7     467  Старый  57.0        Мужчина  ANDROID    SMARTPHONE  Россия   \n",
              "\n",
              "     city age_segment traffic_segment lifetime_segment  nps_score  nps_group  \n",
              "0     Уфа       45-54             1-5              36+         10  Сторонник  \n",
              "1   Киров       45-54             1-5              36+         10  Сторонник  \n",
              "2  Москва       55-64           20-25            13-24         10  Сторонник  "
            ]
          },
          "metadata": {}
        }
      ],
      "id": "3fac8843"
    },
    {
      "cell_type": "code",
      "source": "# преобразуем таблицу в csv файл\n\ndata.to_csv('telecomm_csi_tableau.csv', index=False)",
      "metadata": {},
      "execution_count": 8,
      "outputs": [],
      "id": "32013e8c"
    },
    {
      "cell_type": "markdown",
      "source": "# Общий вывод",
      "metadata": {},
      "id": "fa404dc6"
    },
    {
      "cell_type": "markdown",
      "source": "Задачей проекта было определение текущего уровеня потребительской лояльности (NPS) среди клиентов из России.",
      "metadata": {},
      "id": "81cd089c"
    },
    {
      "cell_type": "markdown",
      "source": "**Этапы исследования**\n\n1. Работа с данными\n - Выгрузка\n - Отбор необходимых данных\n - Сохранение\n2. Анализ данных\n - Построение визуализаций\n - Выявление взаимосвязей\n - Расчёт показателя NPS\n3. Создание дашборда\n4. Подготовка презентации",
      "metadata": {},
      "id": "3cc287e7"
    },
    {
      "cell_type": "markdown",
      "source": "**Выводы исследования**\n\n1. Итоговое значение NPS -  **21.98%**\n2. Наибольшее число участников среди мужчин и женщин представлено в возрастных категориях 25-34 и 35-44\n3. Старых пользователей почти в 5 раз больше новых\n4. Активно участвовали в опросе клиенты из Москвы и \u000bСанкт-Петербурга\n5. К наиболее лояльным группам относятся:\n - Клиенты с телефонами на Android\n - Мужчины и женщины 55-64\n - Новые клиенты\n6. К менее лояльным группам относятся мужчины или женщины:\n - В возрасте 35-44 лет\n - Из Москвы или Санкт-Петербурга\n - Пользуется услугами оператора менее года\n - Телефоном на базе операционной системы Android",
      "metadata": {},
      "id": "91eacf48"
    },
    {
      "cell_type": "markdown",
      "source": "Ссылка на дашборд: https://public.tableau.com/app/profile/yaroslav.zhdanov/viz/_16900402506730/NPS_5\n\n\nСсылка на презентацию: https://disk.yandex.ru/i/hQncyHE2eHKQBg",
      "metadata": {},
      "id": "55b59f0a"
    }
  ]
}