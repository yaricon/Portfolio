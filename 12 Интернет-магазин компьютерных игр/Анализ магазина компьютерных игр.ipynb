{
  "cells": [
    {
      "cell_type": "markdown",
      "metadata": {
        "id": "-xaHIiAhB43-"
      },
      "source": [
        "# Анализ магазина компьютерных игр"
      ]
    },
    {
      "cell_type": "markdown",
      "metadata": {
        "id": "ZMa5Tft5B43_"
      },
      "source": [
        "Данный проект предполагает исследование интернет-магазина компьютерных игр \"Стримчик\". Необходимо выявить закономерности, определяющие успешность игр. Это позволит сделать ставку на потенциально популярный продукт и спланировать рекламные кампании."
      ]
    },
    {
      "cell_type": "markdown",
      "metadata": {
        "id": "u6qQfGB5B43_"
      },
      "source": [
        "**Цели проекта**\n",
        "\n",
        "Определить факторы, влияющие на успешность продаваемых игр в интернет-магазине."
      ]
    },
    {
      "cell_type": "markdown",
      "metadata": {
        "id": "_-SPZWZYB44A"
      },
      "source": [
        "**План работы**\n",
        "\n",
        "1. Изучить данные\n",
        "2. Выполнить предобработку\n",
        "3. Исследовательский анализ\n",
        "4. Портрет пользователя региона\n",
        "5. Проверить гипотезы\n",
        "6. Написать общий вывод"
      ]
    },
    {
      "cell_type": "markdown",
      "metadata": {
        "id": "u-wkU4joB44A"
      },
      "source": [
        "Входные данные - **`исторические данные о продажах игр, оценки пользователей и экспертов, жанры и платформы до 2016 года`**.\n",
        "\n",
        "В наборе данных попадается аббревиатура ESRB (Entertainment Software Rating Board) — это ассоциация, определяющая возрастной рейтинг компьютерных игр. ESRB оценивает игровой контент и присваивает ему подходящую возрастную категорию, например, «Для взрослых», «Для детей младшего возраста» или «Для подростков»."
      ]
    },
    {
      "cell_type": "markdown",
      "metadata": {
        "id": "HL4poZ00B44B"
      },
      "source": [
        "## Загрузка данных"
      ]
    },
    {
      "cell_type": "code",
      "execution_count": null,
      "metadata": {
        "id": "uM4nZ2o0B44B"
      },
      "outputs": [],
      "source": [
        "import pandas as pd\n",
        "import matplotlib.pyplot as plt\n",
        "import seaborn as sns\n",
        "import numpy as np\n",
        "import matplotlib.ticker as mticker\n",
        "\n",
        "from scipy import stats as st\n",
        "\n",
        "import warnings\n",
        "warnings.filterwarnings('ignore')"
      ]
    },
    {
      "cell_type": "code",
      "execution_count": null,
      "metadata": {
        "id": "f21lyfQ1B44D",
        "outputId": "cbcc0aae-5243-40ff-957c-bdfea0fb1f49"
      },
      "outputs": [
        {
          "data": {
            "text/html": [
              "<div>\n",
              "<style scoped>\n",
              "    .dataframe tbody tr th:only-of-type {\n",
              "        vertical-align: middle;\n",
              "    }\n",
              "\n",
              "    .dataframe tbody tr th {\n",
              "        vertical-align: top;\n",
              "    }\n",
              "\n",
              "    .dataframe thead th {\n",
              "        text-align: right;\n",
              "    }\n",
              "</style>\n",
              "<table border=\"1\" class=\"dataframe\">\n",
              "  <thead>\n",
              "    <tr style=\"text-align: right;\">\n",
              "      <th></th>\n",
              "      <th>Name</th>\n",
              "      <th>Platform</th>\n",
              "      <th>Year_of_Release</th>\n",
              "      <th>Genre</th>\n",
              "      <th>NA_sales</th>\n",
              "      <th>EU_sales</th>\n",
              "      <th>JP_sales</th>\n",
              "      <th>Other_sales</th>\n",
              "      <th>Critic_Score</th>\n",
              "      <th>User_Score</th>\n",
              "      <th>Rating</th>\n",
              "    </tr>\n",
              "  </thead>\n",
              "  <tbody>\n",
              "    <tr>\n",
              "      <th>0</th>\n",
              "      <td>Wii Sports</td>\n",
              "      <td>Wii</td>\n",
              "      <td>2006.0</td>\n",
              "      <td>Sports</td>\n",
              "      <td>41.36</td>\n",
              "      <td>28.96</td>\n",
              "      <td>3.77</td>\n",
              "      <td>8.45</td>\n",
              "      <td>76.0</td>\n",
              "      <td>8</td>\n",
              "      <td>E</td>\n",
              "    </tr>\n",
              "    <tr>\n",
              "      <th>1</th>\n",
              "      <td>Super Mario Bros.</td>\n",
              "      <td>NES</td>\n",
              "      <td>1985.0</td>\n",
              "      <td>Platform</td>\n",
              "      <td>29.08</td>\n",
              "      <td>3.58</td>\n",
              "      <td>6.81</td>\n",
              "      <td>0.77</td>\n",
              "      <td>NaN</td>\n",
              "      <td>NaN</td>\n",
              "      <td>NaN</td>\n",
              "    </tr>\n",
              "    <tr>\n",
              "      <th>2</th>\n",
              "      <td>Mario Kart Wii</td>\n",
              "      <td>Wii</td>\n",
              "      <td>2008.0</td>\n",
              "      <td>Racing</td>\n",
              "      <td>15.68</td>\n",
              "      <td>12.76</td>\n",
              "      <td>3.79</td>\n",
              "      <td>3.29</td>\n",
              "      <td>82.0</td>\n",
              "      <td>8.3</td>\n",
              "      <td>E</td>\n",
              "    </tr>\n",
              "    <tr>\n",
              "      <th>3</th>\n",
              "      <td>Wii Sports Resort</td>\n",
              "      <td>Wii</td>\n",
              "      <td>2009.0</td>\n",
              "      <td>Sports</td>\n",
              "      <td>15.61</td>\n",
              "      <td>10.93</td>\n",
              "      <td>3.28</td>\n",
              "      <td>2.95</td>\n",
              "      <td>80.0</td>\n",
              "      <td>8</td>\n",
              "      <td>E</td>\n",
              "    </tr>\n",
              "    <tr>\n",
              "      <th>4</th>\n",
              "      <td>Pokemon Red/Pokemon Blue</td>\n",
              "      <td>GB</td>\n",
              "      <td>1996.0</td>\n",
              "      <td>Role-Playing</td>\n",
              "      <td>11.27</td>\n",
              "      <td>8.89</td>\n",
              "      <td>10.22</td>\n",
              "      <td>1.00</td>\n",
              "      <td>NaN</td>\n",
              "      <td>NaN</td>\n",
              "      <td>NaN</td>\n",
              "    </tr>\n",
              "    <tr>\n",
              "      <th>5</th>\n",
              "      <td>Tetris</td>\n",
              "      <td>GB</td>\n",
              "      <td>1989.0</td>\n",
              "      <td>Puzzle</td>\n",
              "      <td>23.20</td>\n",
              "      <td>2.26</td>\n",
              "      <td>4.22</td>\n",
              "      <td>0.58</td>\n",
              "      <td>NaN</td>\n",
              "      <td>NaN</td>\n",
              "      <td>NaN</td>\n",
              "    </tr>\n",
              "    <tr>\n",
              "      <th>6</th>\n",
              "      <td>New Super Mario Bros.</td>\n",
              "      <td>DS</td>\n",
              "      <td>2006.0</td>\n",
              "      <td>Platform</td>\n",
              "      <td>11.28</td>\n",
              "      <td>9.14</td>\n",
              "      <td>6.50</td>\n",
              "      <td>2.88</td>\n",
              "      <td>89.0</td>\n",
              "      <td>8.5</td>\n",
              "      <td>E</td>\n",
              "    </tr>\n",
              "    <tr>\n",
              "      <th>7</th>\n",
              "      <td>Wii Play</td>\n",
              "      <td>Wii</td>\n",
              "      <td>2006.0</td>\n",
              "      <td>Misc</td>\n",
              "      <td>13.96</td>\n",
              "      <td>9.18</td>\n",
              "      <td>2.93</td>\n",
              "      <td>2.84</td>\n",
              "      <td>58.0</td>\n",
              "      <td>6.6</td>\n",
              "      <td>E</td>\n",
              "    </tr>\n",
              "    <tr>\n",
              "      <th>8</th>\n",
              "      <td>New Super Mario Bros. Wii</td>\n",
              "      <td>Wii</td>\n",
              "      <td>2009.0</td>\n",
              "      <td>Platform</td>\n",
              "      <td>14.44</td>\n",
              "      <td>6.94</td>\n",
              "      <td>4.70</td>\n",
              "      <td>2.24</td>\n",
              "      <td>87.0</td>\n",
              "      <td>8.4</td>\n",
              "      <td>E</td>\n",
              "    </tr>\n",
              "    <tr>\n",
              "      <th>9</th>\n",
              "      <td>Duck Hunt</td>\n",
              "      <td>NES</td>\n",
              "      <td>1984.0</td>\n",
              "      <td>Shooter</td>\n",
              "      <td>26.93</td>\n",
              "      <td>0.63</td>\n",
              "      <td>0.28</td>\n",
              "      <td>0.47</td>\n",
              "      <td>NaN</td>\n",
              "      <td>NaN</td>\n",
              "      <td>NaN</td>\n",
              "    </tr>\n",
              "    <tr>\n",
              "      <th>10</th>\n",
              "      <td>Nintendogs</td>\n",
              "      <td>DS</td>\n",
              "      <td>2005.0</td>\n",
              "      <td>Simulation</td>\n",
              "      <td>9.05</td>\n",
              "      <td>10.95</td>\n",
              "      <td>1.93</td>\n",
              "      <td>2.74</td>\n",
              "      <td>NaN</td>\n",
              "      <td>NaN</td>\n",
              "      <td>NaN</td>\n",
              "    </tr>\n",
              "    <tr>\n",
              "      <th>11</th>\n",
              "      <td>Mario Kart DS</td>\n",
              "      <td>DS</td>\n",
              "      <td>2005.0</td>\n",
              "      <td>Racing</td>\n",
              "      <td>9.71</td>\n",
              "      <td>7.47</td>\n",
              "      <td>4.13</td>\n",
              "      <td>1.90</td>\n",
              "      <td>91.0</td>\n",
              "      <td>8.6</td>\n",
              "      <td>E</td>\n",
              "    </tr>\n",
              "    <tr>\n",
              "      <th>12</th>\n",
              "      <td>Pokemon Gold/Pokemon Silver</td>\n",
              "      <td>GB</td>\n",
              "      <td>1999.0</td>\n",
              "      <td>Role-Playing</td>\n",
              "      <td>9.00</td>\n",
              "      <td>6.18</td>\n",
              "      <td>7.20</td>\n",
              "      <td>0.71</td>\n",
              "      <td>NaN</td>\n",
              "      <td>NaN</td>\n",
              "      <td>NaN</td>\n",
              "    </tr>\n",
              "    <tr>\n",
              "      <th>13</th>\n",
              "      <td>Wii Fit</td>\n",
              "      <td>Wii</td>\n",
              "      <td>2007.0</td>\n",
              "      <td>Sports</td>\n",
              "      <td>8.92</td>\n",
              "      <td>8.03</td>\n",
              "      <td>3.60</td>\n",
              "      <td>2.15</td>\n",
              "      <td>80.0</td>\n",
              "      <td>7.7</td>\n",
              "      <td>E</td>\n",
              "    </tr>\n",
              "    <tr>\n",
              "      <th>14</th>\n",
              "      <td>Kinect Adventures!</td>\n",
              "      <td>X360</td>\n",
              "      <td>2010.0</td>\n",
              "      <td>Misc</td>\n",
              "      <td>15.00</td>\n",
              "      <td>4.89</td>\n",
              "      <td>0.24</td>\n",
              "      <td>1.69</td>\n",
              "      <td>61.0</td>\n",
              "      <td>6.3</td>\n",
              "      <td>E</td>\n",
              "    </tr>\n",
              "    <tr>\n",
              "      <th>15</th>\n",
              "      <td>Wii Fit Plus</td>\n",
              "      <td>Wii</td>\n",
              "      <td>2009.0</td>\n",
              "      <td>Sports</td>\n",
              "      <td>9.01</td>\n",
              "      <td>8.49</td>\n",
              "      <td>2.53</td>\n",
              "      <td>1.77</td>\n",
              "      <td>80.0</td>\n",
              "      <td>7.4</td>\n",
              "      <td>E</td>\n",
              "    </tr>\n",
              "    <tr>\n",
              "      <th>16</th>\n",
              "      <td>Grand Theft Auto V</td>\n",
              "      <td>PS3</td>\n",
              "      <td>2013.0</td>\n",
              "      <td>Action</td>\n",
              "      <td>7.02</td>\n",
              "      <td>9.09</td>\n",
              "      <td>0.98</td>\n",
              "      <td>3.96</td>\n",
              "      <td>97.0</td>\n",
              "      <td>8.2</td>\n",
              "      <td>M</td>\n",
              "    </tr>\n",
              "    <tr>\n",
              "      <th>17</th>\n",
              "      <td>Grand Theft Auto: San Andreas</td>\n",
              "      <td>PS2</td>\n",
              "      <td>2004.0</td>\n",
              "      <td>Action</td>\n",
              "      <td>9.43</td>\n",
              "      <td>0.40</td>\n",
              "      <td>0.41</td>\n",
              "      <td>10.57</td>\n",
              "      <td>95.0</td>\n",
              "      <td>9</td>\n",
              "      <td>M</td>\n",
              "    </tr>\n",
              "    <tr>\n",
              "      <th>18</th>\n",
              "      <td>Super Mario World</td>\n",
              "      <td>SNES</td>\n",
              "      <td>1990.0</td>\n",
              "      <td>Platform</td>\n",
              "      <td>12.78</td>\n",
              "      <td>3.75</td>\n",
              "      <td>3.54</td>\n",
              "      <td>0.55</td>\n",
              "      <td>NaN</td>\n",
              "      <td>NaN</td>\n",
              "      <td>NaN</td>\n",
              "    </tr>\n",
              "    <tr>\n",
              "      <th>19</th>\n",
              "      <td>Brain Age: Train Your Brain in Minutes a Day</td>\n",
              "      <td>DS</td>\n",
              "      <td>2005.0</td>\n",
              "      <td>Misc</td>\n",
              "      <td>4.74</td>\n",
              "      <td>9.20</td>\n",
              "      <td>4.16</td>\n",
              "      <td>2.04</td>\n",
              "      <td>77.0</td>\n",
              "      <td>7.9</td>\n",
              "      <td>E</td>\n",
              "    </tr>\n",
              "  </tbody>\n",
              "</table>\n",
              "</div>"
            ],
            "text/plain": [
              "                                            Name Platform  Year_of_Release  \\\n",
              "0                                     Wii Sports      Wii           2006.0   \n",
              "1                              Super Mario Bros.      NES           1985.0   \n",
              "2                                 Mario Kart Wii      Wii           2008.0   \n",
              "3                              Wii Sports Resort      Wii           2009.0   \n",
              "4                       Pokemon Red/Pokemon Blue       GB           1996.0   \n",
              "5                                         Tetris       GB           1989.0   \n",
              "6                          New Super Mario Bros.       DS           2006.0   \n",
              "7                                       Wii Play      Wii           2006.0   \n",
              "8                      New Super Mario Bros. Wii      Wii           2009.0   \n",
              "9                                      Duck Hunt      NES           1984.0   \n",
              "10                                    Nintendogs       DS           2005.0   \n",
              "11                                 Mario Kart DS       DS           2005.0   \n",
              "12                   Pokemon Gold/Pokemon Silver       GB           1999.0   \n",
              "13                                       Wii Fit      Wii           2007.0   \n",
              "14                            Kinect Adventures!     X360           2010.0   \n",
              "15                                  Wii Fit Plus      Wii           2009.0   \n",
              "16                            Grand Theft Auto V      PS3           2013.0   \n",
              "17                 Grand Theft Auto: San Andreas      PS2           2004.0   \n",
              "18                             Super Mario World     SNES           1990.0   \n",
              "19  Brain Age: Train Your Brain in Minutes a Day       DS           2005.0   \n",
              "\n",
              "           Genre  NA_sales  EU_sales  JP_sales  Other_sales  Critic_Score  \\\n",
              "0         Sports     41.36     28.96      3.77         8.45          76.0   \n",
              "1       Platform     29.08      3.58      6.81         0.77           NaN   \n",
              "2         Racing     15.68     12.76      3.79         3.29          82.0   \n",
              "3         Sports     15.61     10.93      3.28         2.95          80.0   \n",
              "4   Role-Playing     11.27      8.89     10.22         1.00           NaN   \n",
              "5         Puzzle     23.20      2.26      4.22         0.58           NaN   \n",
              "6       Platform     11.28      9.14      6.50         2.88          89.0   \n",
              "7           Misc     13.96      9.18      2.93         2.84          58.0   \n",
              "8       Platform     14.44      6.94      4.70         2.24          87.0   \n",
              "9        Shooter     26.93      0.63      0.28         0.47           NaN   \n",
              "10    Simulation      9.05     10.95      1.93         2.74           NaN   \n",
              "11        Racing      9.71      7.47      4.13         1.90          91.0   \n",
              "12  Role-Playing      9.00      6.18      7.20         0.71           NaN   \n",
              "13        Sports      8.92      8.03      3.60         2.15          80.0   \n",
              "14          Misc     15.00      4.89      0.24         1.69          61.0   \n",
              "15        Sports      9.01      8.49      2.53         1.77          80.0   \n",
              "16        Action      7.02      9.09      0.98         3.96          97.0   \n",
              "17        Action      9.43      0.40      0.41        10.57          95.0   \n",
              "18      Platform     12.78      3.75      3.54         0.55           NaN   \n",
              "19          Misc      4.74      9.20      4.16         2.04          77.0   \n",
              "\n",
              "   User_Score Rating  \n",
              "0           8      E  \n",
              "1         NaN    NaN  \n",
              "2         8.3      E  \n",
              "3           8      E  \n",
              "4         NaN    NaN  \n",
              "5         NaN    NaN  \n",
              "6         8.5      E  \n",
              "7         6.6      E  \n",
              "8         8.4      E  \n",
              "9         NaN    NaN  \n",
              "10        NaN    NaN  \n",
              "11        8.6      E  \n",
              "12        NaN    NaN  \n",
              "13        7.7      E  \n",
              "14        6.3      E  \n",
              "15        7.4      E  \n",
              "16        8.2      M  \n",
              "17          9      M  \n",
              "18        NaN    NaN  \n",
              "19        7.9      E  "
            ]
          },
          "metadata": {},
          "output_type": "display_data"
        }
      ],
      "source": [
        "# считываем, сохраняем и выводим датасет\n",
        "\n",
        "try:\n",
        "    data = pd.read_csv('/datasets/games.csv')\n",
        "except:\n",
        "    print('error')\n",
        "\n",
        "display(data.head(20))"
      ]
    },
    {
      "cell_type": "code",
      "execution_count": null,
      "metadata": {
        "id": "1TYr16EfB44F",
        "outputId": "d324d1c8-32cd-4f43-f892-00f74dc49eab"
      },
      "outputs": [
        {
          "name": "stdout",
          "output_type": "stream",
          "text": [
            "<class 'pandas.core.frame.DataFrame'>\n",
            "RangeIndex: 16715 entries, 0 to 16714\n",
            "Data columns (total 11 columns):\n",
            " #   Column           Non-Null Count  Dtype  \n",
            "---  ------           --------------  -----  \n",
            " 0   Name             16713 non-null  object \n",
            " 1   Platform         16715 non-null  object \n",
            " 2   Year_of_Release  16446 non-null  float64\n",
            " 3   Genre            16713 non-null  object \n",
            " 4   NA_sales         16715 non-null  float64\n",
            " 5   EU_sales         16715 non-null  float64\n",
            " 6   JP_sales         16715 non-null  float64\n",
            " 7   Other_sales      16715 non-null  float64\n",
            " 8   Critic_Score     8137 non-null   float64\n",
            " 9   User_Score       10014 non-null  object \n",
            " 10  Rating           9949 non-null   object \n",
            "dtypes: float64(6), object(5)\n",
            "memory usage: 1.4+ MB\n"
          ]
        }
      ],
      "source": [
        "# выводим общую информацию\n",
        "\n",
        "data.info()"
      ]
    },
    {
      "cell_type": "code",
      "execution_count": null,
      "metadata": {
        "scrolled": false,
        "id": "oG4lQGsNB44F",
        "outputId": "590e906d-c728-4988-d844-2851fb35cde3"
      },
      "outputs": [
        {
          "data": {
            "image/png": "[encoded data removed]",
            "text/plain": [
              "<Figure size 432x288 with 1 Axes>"
            ]
          },
          "metadata": {
            "needs_background": "light"
          },
          "output_type": "display_data"
        },
        {
          "name": "stdout",
          "output_type": "stream",
          "text": [
            "count    16446.000000\n",
            "mean      2006.484616\n",
            "std          5.877050\n",
            "min       1980.000000\n",
            "25%       2003.000000\n",
            "50%       2007.000000\n",
            "75%       2010.000000\n",
            "max       2016.000000\n",
            "Name: Year_of_Release, dtype: float64\n"
          ]
        },
        {
          "data": {
            "image/png": "[encoded data removed]",
            "text/plain": [
              "<Figure size 432x288 with 1 Axes>"
            ]
          },
          "metadata": {
            "needs_background": "light"
          },
          "output_type": "display_data"
        },
        {
          "name": "stdout",
          "output_type": "stream",
          "text": [
            "count    16715.000000\n",
            "mean         0.263377\n",
            "std          0.813604\n",
            "min          0.000000\n",
            "25%          0.000000\n",
            "50%          0.080000\n",
            "75%          0.240000\n",
            "max         41.360000\n",
            "Name: NA_sales, dtype: float64\n"
          ]
        },
        {
          "data": {
            "image/png": "[encoded data removed]",
            "text/plain": [
              "<Figure size 432x288 with 1 Axes>"
            ]
          },
          "metadata": {
            "needs_background": "light"
          },
          "output_type": "display_data"
        },
        {
          "name": "stdout",
          "output_type": "stream",
          "text": [
            "count    16715.000000\n",
            "mean         0.145060\n",
            "std          0.503339\n",
            "min          0.000000\n",
            "25%          0.000000\n",
            "50%          0.020000\n",
            "75%          0.110000\n",
            "max         28.960000\n",
            "Name: EU_sales, dtype: float64\n"
          ]
        },
        {
          "data": {
            "image/png": "[encoded data removed]",
            "text/plain": [
              "<Figure size 432x288 with 1 Axes>"
            ]
          },
          "metadata": {
            "needs_background": "light"
          },
          "output_type": "display_data"
        },
        {
          "name": "stdout",
          "output_type": "stream",
          "text": [
            "count    16715.000000\n",
            "mean         0.077617\n",
            "std          0.308853\n",
            "min          0.000000\n",
            "25%          0.000000\n",
            "50%          0.000000\n",
            "75%          0.040000\n",
            "max         10.220000\n",
            "Name: JP_sales, dtype: float64\n"
          ]
        },
        {
          "data": {
            "image/png": "[encoded data removed]",
            "text/plain": [
              "<Figure size 432x288 with 1 Axes>"
            ]
          },
          "metadata": {
            "needs_background": "light"
          },
          "output_type": "display_data"
        },
        {
          "name": "stdout",
          "output_type": "stream",
          "text": [
            "count    16715.000000\n",
            "mean         0.047342\n",
            "std          0.186731\n",
            "min          0.000000\n",
            "25%          0.000000\n",
            "50%          0.010000\n",
            "75%          0.030000\n",
            "max         10.570000\n",
            "Name: Other_sales, dtype: float64\n"
          ]
        },
        {
          "data": {
            "image/png": "[encoded data removed]",
            "text/plain": [
              "<Figure size 432x288 with 1 Axes>"
            ]
          },
          "metadata": {
            "needs_background": "light"
          },
          "output_type": "display_data"
        },
        {
          "name": "stdout",
          "output_type": "stream",
          "text": [
            "count    8137.000000\n",
            "mean       68.967679\n",
            "std        13.938165\n",
            "min        13.000000\n",
            "25%        60.000000\n",
            "50%        71.000000\n",
            "75%        79.000000\n",
            "max        98.000000\n",
            "Name: Critic_Score, dtype: float64\n"
          ]
        }
      ],
      "source": [
        "# проверяем распределение всех столбцов с показателями на наличие аномалий\n",
        "\n",
        "data.boxplot(column='Year_of_Release')\n",
        "plt.show()\n",
        "print(data['Year_of_Release'].describe())\n",
        "\n",
        "data.boxplot(column='NA_sales')\n",
        "plt.show()\n",
        "print(data['NA_sales'].describe())\n",
        "\n",
        "data.boxplot(column='EU_sales')\n",
        "plt.show()\n",
        "print(data['EU_sales'].describe())\n",
        "\n",
        "data.boxplot(column='JP_sales')\n",
        "plt.show()\n",
        "print(data['JP_sales'].describe())\n",
        "\n",
        "data.boxplot(column='Other_sales')\n",
        "plt.show()\n",
        "print(data['Other_sales'].describe())\n",
        "\n",
        "data.boxplot(column='Critic_Score')\n",
        "plt.show()\n",
        "print(data['Critic_Score'].describe())"
      ]
    },
    {
      "cell_type": "markdown",
      "metadata": {
        "id": "pqcp5WvaB44G"
      },
      "source": [
        "**Вывод**\n",
        "\n",
        "- В данных представлено 11 колонок и 16715 строчек\n",
        "- Присутствуют пропуски в некоторых столбцах\n",
        "- Указаны неправильные типы данных в некоторых столбцах\n",
        "- Данные собраны с 1980 по 2016 годы"
      ]
    },
    {
      "cell_type": "markdown",
      "metadata": {
        "id": "mNYJbjLmB44H"
      },
      "source": [
        "## Предобработка данных"
      ]
    },
    {
      "cell_type": "code",
      "execution_count": null,
      "metadata": {
        "id": "pogndKKyB44H",
        "outputId": "4714779e-f8eb-4221-f7c4-a4ba6a8fc2bb"
      },
      "outputs": [
        {
          "data": {
            "text/plain": [
              "Index(['name', 'platform', 'year_of_release', 'genre', 'na_sales', 'eu_sales',\n",
              "       'jp_sales', 'other_sales', 'critic_score', 'user_score', 'rating'],\n",
              "      dtype='object')"
            ]
          },
          "execution_count": 5,
          "metadata": {},
          "output_type": "execute_result"
        }
      ],
      "source": [
        "# меняем во всех столбцах заглавные буквы для удобства\n",
        "\n",
        "data.columns = map(str.lower, data.columns)\n",
        "data.columns"
      ]
    },
    {
      "cell_type": "code",
      "execution_count": null,
      "metadata": {
        "id": "eB6Z74OFB44K",
        "outputId": "145b7035-9f11-41cf-a613-49fb43f7b4fb"
      },
      "outputs": [
        {
          "data": {
            "text/plain": [
              "1.6093329344899792"
            ]
          },
          "execution_count": 6,
          "metadata": {},
          "output_type": "execute_result"
        }
      ],
      "source": [
        "# считаем % пропусков от общего количества данных\n",
        "\n",
        "(len(data['platform']) - len(data[data['year_of_release'].isna() == False])) * 100 / len(data['platform'])"
      ]
    },
    {
      "cell_type": "code",
      "execution_count": null,
      "metadata": {
        "id": "e9avciR5B44K",
        "outputId": "9eaf1797-4941-47ff-e8d8-45cf2aaccdc5"
      },
      "outputs": [
        {
          "name": "stdout",
          "output_type": "stream",
          "text": [
            "<class 'pandas.core.frame.DataFrame'>\n",
            "Int64Index: 16444 entries, 0 to 16714\n",
            "Data columns (total 11 columns):\n",
            " #   Column           Non-Null Count  Dtype  \n",
            "---  ------           --------------  -----  \n",
            " 0   name             16444 non-null  object \n",
            " 1   platform         16444 non-null  object \n",
            " 2   year_of_release  16444 non-null  float64\n",
            " 3   genre            16444 non-null  object \n",
            " 4   na_sales         16444 non-null  float64\n",
            " 5   eu_sales         16444 non-null  float64\n",
            " 6   jp_sales         16444 non-null  float64\n",
            " 7   other_sales      16444 non-null  float64\n",
            " 8   critic_score     7983 non-null   float64\n",
            " 9   user_score       9839 non-null   object \n",
            " 10  rating           9768 non-null   object \n",
            "dtypes: float64(6), object(5)\n",
            "memory usage: 1.5+ MB\n"
          ]
        }
      ],
      "source": [
        "# удаляем пропущенные значения\n",
        "\n",
        "data = data.dropna(subset=['name', 'year_of_release'])\n",
        "data.info()"
      ]
    },
    {
      "cell_type": "code",
      "execution_count": null,
      "metadata": {
        "id": "RGY--T9pB44L"
      },
      "outputs": [],
      "source": [
        "# приводим столбец с годом к корректному виду\n",
        "\n",
        "data['year_of_release'] = data['year_of_release'].astype('int')"
      ]
    },
    {
      "cell_type": "code",
      "execution_count": null,
      "metadata": {
        "scrolled": false,
        "id": "63sL-WVqB44L",
        "outputId": "df20186c-62c8-4891-d422-d357894915f7"
      },
      "outputs": [
        {
          "name": "stdout",
          "output_type": "stream",
          "text": [
            "[4.136e+01 2.908e+01 1.568e+01 1.561e+01 1.127e+01 2.320e+01 1.128e+01\n",
            " 1.396e+01 1.444e+01 2.693e+01 9.050e+00 9.710e+00 9.000e+00 8.920e+00\n",
            " 1.500e+01 9.010e+00 7.020e+00 9.430e+00 1.278e+01 4.740e+00 6.380e+00\n",
            " 1.083e+01 9.540e+00 9.660e+00 8.410e+00 6.060e+00 3.430e+00 5.510e+00\n",
            " 6.850e+00 9.040e+00 5.890e+00 6.030e+00 9.700e+00 5.280e+00 4.990e+00\n",
            " 8.250e+00 8.520e+00 5.540e+00 6.990e+00 6.620e+00 5.030e+00 5.990e+00\n",
            " 3.960e+00 2.500e+00 7.970e+00 6.910e+00 4.340e+00 4.350e+00 3.010e+00\n",
            " 6.160e+00 6.760e+00 4.020e+00 4.890e+00 2.960e+00 4.760e+00 5.010e+00\n",
            " 6.730e+00 5.950e+00 3.660e+00 5.550e+00 7.040e+00 6.650e+00 3.880e+00\n",
            " 5.800e+00 4.100e+00 5.930e+00 4.360e+00 5.700e+00 2.030e+00 4.400e+00\n",
            " 5.050e+00 3.540e+00 1.120e+00 6.820e+00 1.750e+00 3.740e+00 1.060e+00\n",
            " 2.790e+00 2.910e+00 9.900e-01 2.570e+00 2.990e+00 2.280e+00 7.280e+00\n",
            " 2.760e+00 2.900e+00 2.810e+00 6.600e-01 3.780e+00 3.270e+00 3.560e+00\n",
            " 5.390e+00 4.590e+00 4.810e+00 4.460e+00 3.480e+00 2.850e+00 2.530e+00\n",
            " 2.980e+00 3.680e+00 3.150e+00 4.410e+00 4.120e+00 2.710e+00 2.930e+00\n",
            " 3.230e+00 4.050e+00 4.150e+00 2.770e+00 3.450e+00 3.110e+00 8.400e-01\n",
            " 1.660e+00 7.800e-01 2.640e+00 3.170e+00 4.980e+00 2.550e+00 3.640e+00\n",
            " 3.700e+00 4.010e+00 2.470e+00 8.000e-02 3.920e+00 8.000e-01 2.450e+00\n",
            " 4.470e+00 3.180e+00 2.630e+00 1.880e+00 2.410e+00 2.800e+00 6.300e-01\n",
            " 2.260e+00 2.490e+00 3.570e+00 3.070e+00 2.970e+00 2.950e+00 2.540e+00\n",
            " 3.280e+00 3.140e+00 4.700e-01 2.620e+00 3.210e+00 2.070e+00 2.730e+00\n",
            " 1.850e+00 2.180e+00 1.740e+00 3.020e+00 1.620e+00 3.130e+00 1.920e+00\n",
            " 3.330e+00 3.220e+00 2.300e+00 9.700e-01 6.500e-01 1.210e+00 1.090e+00\n",
            " 2.100e+00 2.440e+00 1.980e+00 3.810e+00 3.590e+00 1.630e+00 1.960e+00\n",
            " 3.400e+00 6.100e-01 2.050e+00 1.700e+00 3.420e+00 3.360e+00 3.490e+00\n",
            " 3.050e+00 1.830e+00 2.310e+00 3.980e+00 0.000e+00 2.600e+00 1.910e+00\n",
            " 2.740e+00 2.830e+00 2.360e+00 1.730e+00 1.940e+00 2.290e+00 1.820e+00\n",
            " 2.420e+00 3.040e+00 1.800e+00 2.080e+00 1.870e+00 4.180e+00 3.190e+00\n",
            " 4.210e+00 3.630e+00 2.780e+00 2.000e-01 1.610e+00 1.540e+00 2.520e+00\n",
            " 2.660e+00 1.000e-01 2.820e+00 2.190e+00 1.560e+00 3.030e+00 2.200e+00\n",
            " 2.090e+00 2.110e+00 1.480e+00 4.000e+00 5.800e-01 2.510e+00 3.000e+00\n",
            " 2.240e+00 1.460e+00 1.410e+00 9.200e-01 8.800e-01 1.280e+00 2.250e+00\n",
            " 3.380e+00 2.040e+00 3.790e+00 4.030e+00 1.650e+00 7.100e-01 1.420e+00\n",
            " 1.100e+00 2.320e+00 1.200e-01 2.350e+00 2.120e+00 1.400e+00 1.680e+00\n",
            " 1.130e+00 1.220e+00 2.670e+00 1.020e+00 1.190e+00 1.530e+00 2.150e+00\n",
            " 9.000e-01 1.970e+00 6.800e-01 1.160e+00 9.300e-01 1.440e+00 1.600e-01\n",
            " 2.130e+00 2.210e+00 1.780e+00 8.600e-01 1.350e+00 1.050e+00 2.230e+00\n",
            " 2.400e+00 1.370e+00 1.300e+00 1.950e+00 1.930e+00 1.330e+00 1.490e+00\n",
            " 1.580e+00 5.000e-02 6.000e-01 2.020e+00 2.380e+00 1.600e+00 2.010e+00\n",
            " 1.570e+00 1.230e+00 1.900e+00 2.140e+00 1.170e+00 2.270e+00 1.640e+00\n",
            " 5.900e-01 1.550e+00 4.600e-01 8.100e-01 1.450e+00 2.700e-01 1.470e+00\n",
            " 1.990e+00 1.500e+00 9.000e-02 2.610e+00 1.890e+00 5.000e-01 8.900e-01\n",
            " 9.500e-01 2.340e+00 7.200e-01 1.720e+00 1.180e+00 1.760e+00 7.300e-01\n",
            " 1.270e+00 2.060e+00 5.500e-01 1.520e+00 1.690e+00 2.170e+00 5.100e-01\n",
            " 1.000e+00 1.290e+00 1.380e+00 1.150e+00 1.670e+00 1.360e+00 1.010e+00\n",
            " 1.040e+00 1.840e+00 2.220e+00 7.900e-01 1.510e+00 1.070e+00 1.320e+00\n",
            " 1.590e+00 2.000e-02 2.900e-01 1.250e+00 2.560e+00 1.430e+00 1.200e+00\n",
            " 4.100e-01 2.800e-01 4.300e-01 6.900e-01 2.000e+00 7.600e-01 1.860e+00\n",
            " 4.800e-01 6.200e-01 1.310e+00 3.700e-01 1.500e-01 6.400e-01 2.600e-01\n",
            " 4.900e-01 1.110e+00 1.300e-01 1.810e+00 1.030e+00 1.260e+00 8.700e-01\n",
            " 7.700e-01 9.600e-01 1.390e+00 1.080e+00 8.500e-01 9.100e-01 3.000e-01\n",
            " 3.800e-01 9.400e-01 7.000e-02 1.340e+00 1.240e+00 3.400e-01 1.400e-01\n",
            " 1.000e-02 5.200e-01 8.200e-01 8.300e-01 1.100e-01 2.500e-01 1.770e+00\n",
            " 3.600e-01 7.500e-01 7.400e-01 1.800e-01 2.200e-01 5.300e-01 4.200e-01\n",
            " 3.200e-01 3.900e-01 2.400e-01 2.300e-01 6.000e-02 4.500e-01 7.000e-01\n",
            " 6.700e-01 3.500e-01 5.600e-01 1.140e+00 9.800e-01 5.700e-01 5.400e-01\n",
            " 4.000e-02 1.700e-01 4.400e-01 3.000e-02 3.300e-01 3.100e-01 4.000e-01\n",
            " 2.100e-01 1.900e-01]\n",
            "\n",
            "[2.896e+01 3.580e+00 1.276e+01 1.093e+01 8.890e+00 2.260e+00 9.140e+00\n",
            " 9.180e+00 6.940e+00 6.300e-01 1.095e+01 7.470e+00 6.180e+00 8.030e+00\n",
            " 4.890e+00 8.490e+00 9.090e+00 4.000e-01 3.750e+00 9.200e+00 4.460e+00\n",
            " 2.710e+00 3.440e+00 5.140e+00 5.490e+00 3.900e+00 5.350e+00 3.170e+00\n",
            " 5.090e+00 4.240e+00 5.040e+00 5.860e+00 3.680e+00 4.190e+00 5.730e+00\n",
            " 3.590e+00 4.510e+00 2.550e+00 4.020e+00 4.370e+00 6.310e+00 3.450e+00\n",
            " 2.810e+00 2.850e+00 3.490e+00 1.000e-02 3.350e+00 2.040e+00 3.070e+00\n",
            " 3.870e+00 3.000e+00 4.820e+00 3.640e+00 2.150e+00 3.690e+00 2.650e+00\n",
            " 2.560e+00 3.110e+00 3.140e+00 1.940e+00 1.950e+00 2.470e+00 2.280e+00\n",
            " 3.420e+00 3.630e+00 2.360e+00 1.710e+00 1.850e+00 2.790e+00 1.240e+00\n",
            " 6.120e+00 1.530e+00 3.470e+00 2.240e+00 5.010e+00 2.010e+00 1.720e+00\n",
            " 2.070e+00 6.420e+00 3.860e+00 4.500e-01 3.480e+00 1.890e+00 5.750e+00\n",
            " 2.170e+00 1.370e+00 2.350e+00 1.180e+00 2.110e+00 1.880e+00 2.830e+00\n",
            " 2.990e+00 2.890e+00 3.270e+00 2.220e+00 2.140e+00 1.450e+00 1.750e+00\n",
            " 1.040e+00 1.770e+00 3.020e+00 2.750e+00 2.160e+00 1.900e+00 2.590e+00\n",
            " 2.200e+00 4.300e+00 9.300e-01 2.530e+00 2.520e+00 1.790e+00 1.300e+00\n",
            " 2.600e+00 1.580e+00 1.200e+00 1.560e+00 1.340e+00 1.260e+00 8.300e-01\n",
            " 6.210e+00 2.800e+00 1.590e+00 1.730e+00 4.330e+00 1.830e+00 0.000e+00\n",
            " 2.180e+00 1.980e+00 1.470e+00 6.700e-01 1.550e+00 1.910e+00 6.900e-01\n",
            " 6.000e-01 1.930e+00 1.640e+00 5.500e-01 2.190e+00 1.110e+00 2.290e+00\n",
            " 2.500e+00 9.600e-01 1.210e+00 1.120e+00 7.700e-01 1.690e+00 1.080e+00\n",
            " 7.900e-01 2.370e+00 2.460e+00 7.500e-01 1.250e+00 2.430e+00 9.800e-01\n",
            " 7.400e-01 2.230e+00 6.100e-01 2.450e+00 1.410e+00 1.800e+00 3.280e+00\n",
            " 1.160e+00 1.990e+00 1.380e+00 1.360e+00 1.170e+00 1.190e+00 9.900e-01\n",
            " 2.600e-01 1.680e+00 2.000e+00 1.330e+00 1.570e+00 1.480e+00 2.100e+00\n",
            " 1.270e+00 1.970e+00 9.100e-01 1.390e+00 1.960e+00 2.400e-01 1.510e+00\n",
            " 1.400e-01 1.290e+00 2.390e+00 1.030e+00 5.000e-01 5.800e-01 1.310e+00\n",
            " 2.020e+00 1.320e+00 1.010e+00 2.270e+00 2.300e+00 1.820e+00 2.780e+00\n",
            " 4.400e-01 4.800e-01 2.700e-01 2.100e-01 2.480e+00 5.100e-01 1.520e+00\n",
            " 4.000e-02 2.800e-01 1.350e+00 8.700e-01 2.130e+00 1.130e+00 1.760e+00\n",
            " 7.600e-01 2.120e+00 6.600e-01 1.600e+00 1.440e+00 1.430e+00 1.700e+00\n",
            " 4.700e-01 1.870e+00 8.600e-01 7.300e-01 1.280e+00 8.100e-01 1.090e+00\n",
            " 6.800e-01 1.220e+00 1.400e+00 1.020e+00 1.490e+00 1.140e+00 4.900e-01\n",
            " 9.000e-01 3.800e-01 1.420e+00 9.500e-01 1.620e+00 7.100e-01 1.050e+00\n",
            " 9.200e-01 3.300e-01 3.000e-01 1.670e+00 1.000e+00 8.900e-01 1.000e-01\n",
            " 7.200e-01 5.900e-01 5.600e-01 1.600e-01 9.700e-01 6.200e-01 8.500e-01\n",
            " 9.400e-01 8.800e-01 8.400e-01 1.060e+00 2.000e-01 1.150e+00 8.000e-01\n",
            " 1.100e+00 7.000e-01 1.920e+00 3.200e-01 1.500e-01 5.300e-01 9.000e-02\n",
            " 1.460e+00 2.900e-01 2.200e-01 1.230e+00 7.000e-02 1.700e-01 5.400e-01\n",
            " 3.600e-01 3.100e-01 1.840e+00 5.200e-01 1.100e-01 6.400e-01 1.200e-01\n",
            " 2.050e+00 1.630e+00 8.200e-01 8.000e-02 5.700e-01 1.650e+00 1.900e-01\n",
            " 2.000e-02 4.300e-01 2.500e-01 1.500e+00 1.800e-01 3.900e-01 1.300e-01\n",
            " 1.070e+00 4.600e-01 4.100e-01 6.000e-02 3.000e-02 3.700e-01 5.000e-02\n",
            " 2.300e-01 6.500e-01 4.200e-01 3.400e-01 3.500e-01 7.800e-01]\n",
            "\n",
            "[3.770e+00 6.810e+00 3.790e+00 3.280e+00 1.022e+01 4.220e+00 6.500e+00\n",
            " 2.930e+00 4.700e+00 2.800e-01 1.930e+00 4.130e+00 7.200e+00 3.600e+00\n",
            " 2.400e-01 2.530e+00 9.800e-01 4.100e-01 3.540e+00 4.160e+00 6.040e+00\n",
            " 4.180e+00 3.840e+00 6.000e-02 4.700e-01 5.380e+00 5.320e+00 5.650e+00\n",
            " 1.870e+00 1.300e-01 3.120e+00 3.600e-01 1.100e-01 4.350e+00 6.500e-01\n",
            " 7.000e-02 8.000e-02 4.900e-01 3.000e-01 2.660e+00 2.690e+00 4.800e-01\n",
            " 3.800e-01 5.330e+00 1.910e+00 3.960e+00 3.100e+00 1.100e+00 1.200e+00\n",
            " 1.400e-01 2.540e+00 2.140e+00 8.100e-01 2.120e+00 4.400e-01 3.150e+00\n",
            " 1.250e+00 4.000e-02 0.000e+00 2.470e+00 2.230e+00 1.690e+00 1.000e-02\n",
            " 3.000e+00 2.000e-02 4.390e+00 1.980e+00 1.000e-01 3.810e+00 5.000e-02\n",
            " 2.490e+00 1.580e+00 3.140e+00 2.730e+00 6.600e-01 2.200e-01 3.630e+00\n",
            " 1.450e+00 1.310e+00 2.430e+00 7.000e-01 3.500e-01 1.400e+00 6.000e-01\n",
            " 2.260e+00 1.420e+00 1.280e+00 1.390e+00 8.700e-01 1.700e-01 9.400e-01\n",
            " 1.900e-01 2.100e-01 1.600e+00 1.600e-01 1.030e+00 2.500e-01 2.060e+00\n",
            " 1.490e+00 1.290e+00 9.000e-02 2.870e+00 3.000e-02 7.800e-01 8.300e-01\n",
            " 2.330e+00 2.020e+00 1.360e+00 1.810e+00 1.970e+00 9.100e-01 9.900e-01\n",
            " 9.500e-01 2.000e+00 1.010e+00 2.780e+00 2.110e+00 1.090e+00 2.000e-01\n",
            " 1.900e+00 1.270e+00 3.610e+00 1.570e+00 2.200e+00 1.700e+00 1.080e+00\n",
            " 1.500e-01 1.110e+00 2.900e-01 1.540e+00 1.200e-01 8.900e-01 4.870e+00\n",
            " 1.520e+00 1.320e+00 1.150e+00 4.100e+00 1.460e+00 4.600e-01 1.050e+00\n",
            " 1.610e+00 2.600e-01 1.380e+00 6.200e-01 7.300e-01 5.700e-01 3.100e-01\n",
            " 5.800e-01 1.760e+00 2.100e+00 9.000e-01 5.100e-01 6.400e-01 2.460e+00\n",
            " 2.300e-01 3.700e-01 9.200e-01 1.070e+00 2.620e+00 1.120e+00 5.400e-01\n",
            " 2.700e-01 5.900e-01 3.670e+00 5.500e-01 1.750e+00 3.440e+00 3.300e-01\n",
            " 2.550e+00 2.320e+00 2.790e+00 7.400e-01 3.180e+00 8.200e-01 7.700e-01\n",
            " 4.000e-01 2.350e+00 3.190e+00 8.000e-01 7.600e-01 3.030e+00 8.800e-01\n",
            " 4.500e-01 1.160e+00 3.400e-01 1.190e+00 1.130e+00 2.130e+00 1.960e+00\n",
            " 7.100e-01 1.040e+00 2.680e+00 6.800e-01 2.650e+00 9.600e-01 2.410e+00\n",
            " 5.200e-01 1.800e-01 1.340e+00 1.480e+00 2.340e+00 1.060e+00 1.210e+00\n",
            " 2.290e+00 1.630e+00 2.050e+00 2.170e+00 1.560e+00 1.350e+00 1.330e+00\n",
            " 6.300e-01 7.900e-01 7.500e-01 5.300e-01 1.530e+00 1.300e+00 3.900e-01\n",
            " 6.900e-01 4.200e-01 9.300e-01 5.600e-01 8.400e-01 7.200e-01 3.200e-01\n",
            " 1.710e+00 1.650e+00 6.100e-01 1.510e+00 1.500e+00 1.440e+00 1.240e+00\n",
            " 1.180e+00 1.370e+00 1.000e+00 1.260e+00 8.500e-01 4.300e-01 6.700e-01\n",
            " 1.140e+00 8.600e-01 1.170e+00 5.000e-01 1.020e+00 9.700e-01]\n",
            "\n",
            "[8.450e+00 7.700e-01 3.290e+00 2.950e+00 1.000e+00 5.800e-01 2.880e+00\n",
            " 2.840e+00 2.240e+00 4.700e-01 2.740e+00 1.900e+00 7.100e-01 2.150e+00\n",
            " 1.690e+00 1.770e+00 3.960e+00 1.057e+01 5.500e-01 2.040e+00 1.360e+00\n",
            " 4.200e-01 4.600e-01 1.410e+00 1.780e+00 5.000e-01 1.180e+00 8.000e-01\n",
            " 1.160e+00 1.320e+00 5.900e-01 2.380e+00 1.130e+00 7.800e-01 2.420e+00\n",
            " 1.120e+00 1.280e+00 1.570e+00 1.300e+00 1.010e+00 9.100e-01 1.790e+00\n",
            " 1.970e+00 8.600e-01 1.210e+00 2.300e-01 7.600e-01 7.400e-01 7.530e+00\n",
            " 2.900e-01 1.030e+00 5.200e-01 2.110e+00 1.600e+00 1.610e+00 3.500e-01\n",
            " 9.700e-01 1.060e+00 6.300e-01 1.500e-01 7.900e-01 9.600e-01 1.250e+00\n",
            " 9.000e-01 8.100e-01 3.900e-01 6.800e-01 8.500e-01 1.800e-01 8.000e-02\n",
            " 6.700e-01 7.000e-01 4.100e-01 3.300e-01 6.000e-01 5.400e-01 1.730e+00\n",
            " 1.230e+00 1.600e-01 1.110e+00 3.100e-01 4.800e-01 6.200e-01 1.900e-01\n",
            " 6.900e-01 1.020e+00 7.300e-01 1.080e+00 4.500e-01 2.800e-01 5.100e-01\n",
            " 2.200e-01 1.090e+00 9.900e-01 3.000e-01 6.400e-01 6.600e-01 9.800e-01\n",
            " 1.390e+00 1.400e-01 1.370e+00 7.000e-02 2.100e-01 6.100e-01 1.700e-01\n",
            " 1.200e-01 0.000e+00 7.200e-01 2.400e-01 8.200e-01 1.740e+00 8.700e-01\n",
            " 9.200e-01 5.700e-01 1.100e-01 4.000e-02 5.600e-01 2.000e-01 3.400e-01\n",
            " 9.000e-02 8.300e-01 4.400e-01 6.000e-02 3.200e-01 3.800e-01 1.480e+00\n",
            " 3.700e-01 1.000e-01 2.500e-01 3.600e-01 1.300e-01 4.300e-01 5.000e-02\n",
            " 2.000e-02 2.600e-01 4.000e-01 7.500e-01 1.930e+00 8.400e-01 5.300e-01\n",
            " 8.900e-01 1.670e+00 2.700e-01 2.930e+00 4.900e-01 1.000e-02 2.460e+00\n",
            " 3.000e-02 1.510e+00 2.050e+00 1.680e+00 1.820e+00 1.330e+00 9.400e-01\n",
            " 9.300e-01]\n",
            "\n",
            "['8' nan '8.3' '8.5' '6.6' '8.4' '8.6' '7.7' '6.3' '7.4' '8.2' '9' '7.9'\n",
            " '8.1' '8.7' '7.1' '3.4' '5.3' '4.8' '3.2' '8.9' '6.4' '7.8' '7.5' '2.6'\n",
            " '7.2' '9.2' '7' '7.3' '4.3' '7.6' '5.7' '5' '9.1' '6.5' 'tbd' '8.8' '6.9'\n",
            " '9.4' '6.8' '6.1' '6.7' '5.4' '4' '4.9' '4.5' '9.3' '6.2' '4.2' '6' '3.7'\n",
            " '4.1' '5.8' '5.6' '5.5' '4.4' '4.6' '5.9' '3.9' '3.1' '2.9' '5.2' '3.3'\n",
            " '4.7' '5.1' '3.5' '2.5' '1.9' '3' '2.7' '2.2' '2' '9.5' '2.1' '3.6' '2.8'\n",
            " '1.8' '3.8' '0' '1.6' '9.6' '2.4' '1.7' '1.1' '0.3' '1.5' '0.7' '1.2'\n",
            " '2.3' '0.5' '1.3' '0.2' '0.6' '1.4' '0.9' '1' '9.7']\n",
            "\n",
            "[76. nan 82. 80. 89. 58. 87. 91. 61. 97. 95. 77. 88. 83. 94. 93. 85. 86.\n",
            " 98. 96. 90. 84. 73. 74. 78. 92. 71. 72. 68. 62. 49. 67. 81. 66. 56. 79.\n",
            " 70. 59. 64. 75. 60. 63. 69. 50. 25. 42. 44. 55. 48. 57. 29. 47. 65. 54.\n",
            " 20. 53. 37. 38. 33. 52. 30. 32. 43. 45. 51. 40. 46. 39. 34. 41. 36. 31.\n",
            " 27. 35. 26. 19. 28. 23. 24. 21. 17. 13.]\n"
          ]
        }
      ],
      "source": [
        "# проверяем уникальные значения в столбце с пользовательскими оценками\n",
        "\n",
        "print(data['na_sales'].unique())\n",
        "print()\n",
        "print(data['eu_sales'].unique())\n",
        "print()\n",
        "print(data['jp_sales'].unique())\n",
        "print()\n",
        "print(data['other_sales'].unique())\n",
        "print()\n",
        "print(data['user_score'].unique())\n",
        "print()\n",
        "print(data['critic_score'].unique())"
      ]
    },
    {
      "cell_type": "code",
      "execution_count": null,
      "metadata": {
        "id": "DZAl0atyB44M"
      },
      "outputs": [],
      "source": [
        "# приводим столбец пользовательских оценок в дробный вид\n",
        "# заполняем пропуски значением \"-1\", чтобы привести столбец к типу \"float\" и возвращаем пропуски\n",
        "\n",
        "data['user_score'] = data['user_score'].fillna(-1)\n",
        "data['user_score'] = data['user_score'].replace('tbd', -1)\n",
        "data['user_score'] = data['user_score'].astype('float')\n",
        "data['user_score'] = data['user_score'].replace(-1, np.nan)"
      ]
    },
    {
      "cell_type": "code",
      "execution_count": null,
      "metadata": {
        "id": "mOdTD1dmB44N",
        "outputId": "ce87cab7-feae-4603-ed86-ca5b12fbc0f1"
      },
      "outputs": [
        {
          "name": "stdout",
          "output_type": "stream",
          "text": [
            "<class 'pandas.core.frame.DataFrame'>\n",
            "Int64Index: 16444 entries, 0 to 16714\n",
            "Data columns (total 11 columns):\n",
            " #   Column           Non-Null Count  Dtype  \n",
            "---  ------           --------------  -----  \n",
            " 0   name             16444 non-null  object \n",
            " 1   platform         16444 non-null  object \n",
            " 2   year_of_release  16444 non-null  int64  \n",
            " 3   genre            16444 non-null  object \n",
            " 4   na_sales         16444 non-null  float64\n",
            " 5   eu_sales         16444 non-null  float64\n",
            " 6   jp_sales         16444 non-null  float64\n",
            " 7   other_sales      16444 non-null  float64\n",
            " 8   critic_score     7983 non-null   float64\n",
            " 9   user_score       7463 non-null   float64\n",
            " 10  rating           9768 non-null   object \n",
            "dtypes: float64(6), int64(1), object(4)\n",
            "memory usage: 1.5+ MB\n"
          ]
        }
      ],
      "source": [
        "data.info()"
      ]
    },
    {
      "cell_type": "code",
      "execution_count": null,
      "metadata": {
        "id": "D1wEFAbSB44O"
      },
      "outputs": [],
      "source": [
        "# добавляем столбец с общими продажами по всем регионам\n",
        "\n",
        "data['total_sales'] = data['na_sales'] + data['eu_sales'] + data['jp_sales'] + data['other_sales']"
      ]
    },
    {
      "cell_type": "code",
      "execution_count": null,
      "metadata": {
        "id": "XqvzZYqOB44O",
        "outputId": "1f111b24-91db-4b44-b2ba-37c95a7ac694"
      },
      "outputs": [
        {
          "data": {
            "text/plain": [
              "array(['E', nan, 'M', 'T', 'E10+', 'K-A', 'AO', 'EC', 'RP'], dtype=object)"
            ]
          },
          "execution_count": 13,
          "metadata": {},
          "output_type": "execute_result"
        }
      ],
      "source": [
        "data['rating'].unique()"
      ]
    },
    {
      "cell_type": "code",
      "execution_count": null,
      "metadata": {
        "id": "sJWz4Hr_B44Q",
        "outputId": "fbc4c32a-de4c-4858-908e-8e1db180c2d6"
      },
      "outputs": [
        {
          "data": {
            "text/plain": [
              "0"
            ]
          },
          "execution_count": 14,
          "metadata": {},
          "output_type": "execute_result"
        }
      ],
      "source": [
        "# проверяем явные дубликаты\n",
        "\n",
        "data.duplicated().sum()"
      ]
    },
    {
      "cell_type": "code",
      "execution_count": null,
      "metadata": {
        "id": "h2roIdhPB44Q",
        "outputId": "fa3dc2ac-c356-4603-88fb-69b07d245f47"
      },
      "outputs": [
        {
          "data": {
            "text/plain": [
              "0"
            ]
          },
          "execution_count": 15,
          "metadata": {},
          "output_type": "execute_result"
        }
      ],
      "source": [
        "# проверяем неявные дубликаты\n",
        "\n",
        "x = data[data['name'].duplicated()]\n",
        "x.duplicated().sum()"
      ]
    },
    {
      "cell_type": "code",
      "execution_count": null,
      "metadata": {
        "id": "p6a5vj8DB44R",
        "outputId": "9cd0aa77-5058-4085-9141-0f2b0be4a3f7"
      },
      "outputs": [
        {
          "name": "stdout",
          "output_type": "stream",
          "text": [
            "E       3921\n",
            "T       2905\n",
            "M       1536\n",
            "E10+    1393\n",
            "EC         8\n",
            "K-A        3\n",
            "AO         1\n",
            "RP         1\n",
            "Name: rating, dtype: int64\n",
            "\n",
            "Не определён    6689\n",
            "От 6 лет        3921\n",
            "От 13 лет       2905\n",
            "От 17 лет       1536\n",
            "От 10 лет       1393\n",
            "Name: ratings, dtype: int64\n"
          ]
        }
      ],
      "source": [
        "# добавляем столбец с возрастными рамками рейтинга\n",
        "\n",
        "def age_rating(x):\n",
        "    if x == 'M':\n",
        "        return 'От 17 лет'\n",
        "    elif x == 'E':\n",
        "        return 'От 6 лет'\n",
        "    elif x == 'T':\n",
        "        return 'От 13 лет'\n",
        "    elif x == 'E10+':\n",
        "        return 'От 10 лет'\n",
        "    else:\n",
        "        return 'Не определён'\n",
        "\n",
        "data['ratings'] = data['rating'].apply(age_rating)\n",
        "\n",
        "print(data['rating'].value_counts())\n",
        "print()\n",
        "print(data['ratings'].value_counts())"
      ]
    },
    {
      "cell_type": "markdown",
      "metadata": {
        "id": "-05v4ULhB44R"
      },
      "source": [
        "**Вывод**\n",
        "\n",
        "- Привели все столбцы к корректному виду\n",
        "- Удалали пропуски в столбцах с названием и годом выхода игры, потому что их меньше 2% от всех данных и удаление сильно не повлияет на результат анализа\n",
        "- Поменяли тип данных в столбцах\n",
        "- В столбце с оценкой пользователей заменили значения \"tbd\" (\"пока не определён\") на пропуски\n",
        "- Добавили столбец с общим количеством продаж по всем регионам и возрастным рейтингом\n",
        "- Явных и неявных дубликатов в данных нет"
      ]
    },
    {
      "cell_type": "markdown",
      "metadata": {
        "id": "bcp8UFuFB44f"
      },
      "source": [
        "## Анализ данных"
      ]
    },
    {
      "cell_type": "markdown",
      "metadata": {
        "id": "bVaimn1IB44f"
      },
      "source": [
        "### Количество игр по годам"
      ]
    },
    {
      "cell_type": "code",
      "execution_count": null,
      "metadata": {
        "id": "b7rlx6mEB44f",
        "outputId": "a3898df4-d7ff-4a63-f877-4e3209af8da3"
      },
      "outputs": [
        {
          "data": {
            "text/html": [
              "<div>\n",
              "<style scoped>\n",
              "    .dataframe tbody tr th:only-of-type {\n",
              "        vertical-align: middle;\n",
              "    }\n",
              "\n",
              "    .dataframe tbody tr th {\n",
              "        vertical-align: top;\n",
              "    }\n",
              "\n",
              "    .dataframe thead th {\n",
              "        text-align: right;\n",
              "    }\n",
              "</style>\n",
              "<table border=\"1\" class=\"dataframe\">\n",
              "  <thead>\n",
              "    <tr style=\"text-align: right;\">\n",
              "      <th></th>\n",
              "      <th>year_of_release</th>\n",
              "      <th>game_count</th>\n",
              "    </tr>\n",
              "  </thead>\n",
              "  <tbody>\n",
              "    <tr>\n",
              "      <th>0</th>\n",
              "      <td>1980</td>\n",
              "      <td>9</td>\n",
              "    </tr>\n",
              "    <tr>\n",
              "      <th>1</th>\n",
              "      <td>1981</td>\n",
              "      <td>46</td>\n",
              "    </tr>\n",
              "    <tr>\n",
              "      <th>2</th>\n",
              "      <td>1982</td>\n",
              "      <td>36</td>\n",
              "    </tr>\n",
              "    <tr>\n",
              "      <th>3</th>\n",
              "      <td>1983</td>\n",
              "      <td>17</td>\n",
              "    </tr>\n",
              "    <tr>\n",
              "      <th>4</th>\n",
              "      <td>1984</td>\n",
              "      <td>14</td>\n",
              "    </tr>\n",
              "    <tr>\n",
              "      <th>5</th>\n",
              "      <td>1985</td>\n",
              "      <td>14</td>\n",
              "    </tr>\n",
              "    <tr>\n",
              "      <th>6</th>\n",
              "      <td>1986</td>\n",
              "      <td>21</td>\n",
              "    </tr>\n",
              "    <tr>\n",
              "      <th>7</th>\n",
              "      <td>1987</td>\n",
              "      <td>16</td>\n",
              "    </tr>\n",
              "    <tr>\n",
              "      <th>8</th>\n",
              "      <td>1988</td>\n",
              "      <td>15</td>\n",
              "    </tr>\n",
              "    <tr>\n",
              "      <th>9</th>\n",
              "      <td>1989</td>\n",
              "      <td>17</td>\n",
              "    </tr>\n",
              "    <tr>\n",
              "      <th>10</th>\n",
              "      <td>1990</td>\n",
              "      <td>16</td>\n",
              "    </tr>\n",
              "    <tr>\n",
              "      <th>11</th>\n",
              "      <td>1991</td>\n",
              "      <td>41</td>\n",
              "    </tr>\n",
              "    <tr>\n",
              "      <th>12</th>\n",
              "      <td>1992</td>\n",
              "      <td>43</td>\n",
              "    </tr>\n",
              "    <tr>\n",
              "      <th>13</th>\n",
              "      <td>1993</td>\n",
              "      <td>60</td>\n",
              "    </tr>\n",
              "    <tr>\n",
              "      <th>14</th>\n",
              "      <td>1994</td>\n",
              "      <td>121</td>\n",
              "    </tr>\n",
              "    <tr>\n",
              "      <th>15</th>\n",
              "      <td>1995</td>\n",
              "      <td>219</td>\n",
              "    </tr>\n",
              "    <tr>\n",
              "      <th>16</th>\n",
              "      <td>1996</td>\n",
              "      <td>263</td>\n",
              "    </tr>\n",
              "    <tr>\n",
              "      <th>17</th>\n",
              "      <td>1997</td>\n",
              "      <td>289</td>\n",
              "    </tr>\n",
              "    <tr>\n",
              "      <th>18</th>\n",
              "      <td>1998</td>\n",
              "      <td>379</td>\n",
              "    </tr>\n",
              "    <tr>\n",
              "      <th>19</th>\n",
              "      <td>1999</td>\n",
              "      <td>338</td>\n",
              "    </tr>\n",
              "    <tr>\n",
              "      <th>20</th>\n",
              "      <td>2000</td>\n",
              "      <td>350</td>\n",
              "    </tr>\n",
              "    <tr>\n",
              "      <th>21</th>\n",
              "      <td>2001</td>\n",
              "      <td>482</td>\n",
              "    </tr>\n",
              "    <tr>\n",
              "      <th>22</th>\n",
              "      <td>2002</td>\n",
              "      <td>829</td>\n",
              "    </tr>\n",
              "    <tr>\n",
              "      <th>23</th>\n",
              "      <td>2003</td>\n",
              "      <td>775</td>\n",
              "    </tr>\n",
              "    <tr>\n",
              "      <th>24</th>\n",
              "      <td>2004</td>\n",
              "      <td>762</td>\n",
              "    </tr>\n",
              "    <tr>\n",
              "      <th>25</th>\n",
              "      <td>2005</td>\n",
              "      <td>939</td>\n",
              "    </tr>\n",
              "    <tr>\n",
              "      <th>26</th>\n",
              "      <td>2006</td>\n",
              "      <td>1006</td>\n",
              "    </tr>\n",
              "    <tr>\n",
              "      <th>27</th>\n",
              "      <td>2007</td>\n",
              "      <td>1197</td>\n",
              "    </tr>\n",
              "    <tr>\n",
              "      <th>28</th>\n",
              "      <td>2008</td>\n",
              "      <td>1427</td>\n",
              "    </tr>\n",
              "    <tr>\n",
              "      <th>29</th>\n",
              "      <td>2009</td>\n",
              "      <td>1426</td>\n",
              "    </tr>\n",
              "    <tr>\n",
              "      <th>30</th>\n",
              "      <td>2010</td>\n",
              "      <td>1255</td>\n",
              "    </tr>\n",
              "    <tr>\n",
              "      <th>31</th>\n",
              "      <td>2011</td>\n",
              "      <td>1136</td>\n",
              "    </tr>\n",
              "    <tr>\n",
              "      <th>32</th>\n",
              "      <td>2012</td>\n",
              "      <td>653</td>\n",
              "    </tr>\n",
              "    <tr>\n",
              "      <th>33</th>\n",
              "      <td>2013</td>\n",
              "      <td>544</td>\n",
              "    </tr>\n",
              "    <tr>\n",
              "      <th>34</th>\n",
              "      <td>2014</td>\n",
              "      <td>581</td>\n",
              "    </tr>\n",
              "    <tr>\n",
              "      <th>35</th>\n",
              "      <td>2015</td>\n",
              "      <td>606</td>\n",
              "    </tr>\n",
              "    <tr>\n",
              "      <th>36</th>\n",
              "      <td>2016</td>\n",
              "      <td>502</td>\n",
              "    </tr>\n",
              "  </tbody>\n",
              "</table>\n",
              "</div>"
            ],
            "text/plain": [
              "    year_of_release  game_count\n",
              "0              1980           9\n",
              "1              1981          46\n",
              "2              1982          36\n",
              "3              1983          17\n",
              "4              1984          14\n",
              "5              1985          14\n",
              "6              1986          21\n",
              "7              1987          16\n",
              "8              1988          15\n",
              "9              1989          17\n",
              "10             1990          16\n",
              "11             1991          41\n",
              "12             1992          43\n",
              "13             1993          60\n",
              "14             1994         121\n",
              "15             1995         219\n",
              "16             1996         263\n",
              "17             1997         289\n",
              "18             1998         379\n",
              "19             1999         338\n",
              "20             2000         350\n",
              "21             2001         482\n",
              "22             2002         829\n",
              "23             2003         775\n",
              "24             2004         762\n",
              "25             2005         939\n",
              "26             2006        1006\n",
              "27             2007        1197\n",
              "28             2008        1427\n",
              "29             2009        1426\n",
              "30             2010        1255\n",
              "31             2011        1136\n",
              "32             2012         653\n",
              "33             2013         544\n",
              "34             2014         581\n",
              "35             2015         606\n",
              "36             2016         502"
            ]
          },
          "metadata": {},
          "output_type": "display_data"
        }
      ],
      "source": [
        "# проверяем количество выпущенных игр по годам\n",
        "\n",
        "game_per_year = data.pivot_table(index='year_of_release', values='name', aggfunc='count')\n",
        "game_per_year.reset_index(inplace=True)\n",
        "game_per_year.columns = ['year_of_release', 'game_count']\n",
        "display(game_per_year)"
      ]
    },
    {
      "cell_type": "code",
      "execution_count": null,
      "metadata": {
        "id": "MfbgU-VlB44g",
        "outputId": "a402764e-33a8-4d3b-b194-c270e734145a"
      },
      "outputs": [
        {
          "data": {
            "image/png": "[encoded data removed]",
            "text/plain": [
              "<Figure size 720x504 with 1 Axes>"
            ]
          },
          "metadata": {},
          "output_type": "display_data"
        }
      ],
      "source": [
        "# строим столбчатый график с отбором нужного периода\n",
        "\n",
        "sns.set_style('whitegrid')\n",
        "plt.figure(figsize=(10, 7))\n",
        "\n",
        "sns.barplot(data=game_per_year.query('year_of_release > 1993'),\n",
        "            x='year_of_release',\n",
        "            y='game_count',\n",
        "            color='steelblue')\n",
        "\n",
        "plt.title('Количество выпущенных игр по годам', size=18)\n",
        "plt.xlabel('Год', size=14)\n",
        "plt.ylabel('Выпущено', size=14)\n",
        "plt.xticks(rotation=45, size=12)\n",
        "plt.yticks(size=12)\n",
        "\n",
        "plt.show()"
      ]
    },
    {
      "cell_type": "markdown",
      "metadata": {
        "id": "ONIs5Zy8B44g"
      },
      "source": [
        "**Вывод**\n",
        "\n",
        "Бурный рост игр начался с 1994 года, до него были несущественные изменения в выпуске. Тенденция наблюдается положительная с небольшими спадами до 2011 года, пиковое количество было игр выпущено в 2008 и 2009 годах, в 2012 произошёл сильный спад и дальнейшая стагнация до 2016 года."
      ]
    },
    {
      "cell_type": "markdown",
      "metadata": {
        "id": "m3RJ90RfB44h"
      },
      "source": [
        "### Количество проданных игр по платформам"
      ]
    },
    {
      "cell_type": "code",
      "execution_count": null,
      "metadata": {
        "id": "k59_YCHSB44h",
        "outputId": "f6739149-7ad6-410a-e5f4-018e96c124c0"
      },
      "outputs": [
        {
          "data": {
            "text/html": [
              "<div>\n",
              "<style scoped>\n",
              "    .dataframe tbody tr th:only-of-type {\n",
              "        vertical-align: middle;\n",
              "    }\n",
              "\n",
              "    .dataframe tbody tr th {\n",
              "        vertical-align: top;\n",
              "    }\n",
              "\n",
              "    .dataframe thead th {\n",
              "        text-align: right;\n",
              "    }\n",
              "</style>\n",
              "<table border=\"1\" class=\"dataframe\">\n",
              "  <thead>\n",
              "    <tr style=\"text-align: right;\">\n",
              "      <th></th>\n",
              "      <th>platform</th>\n",
              "      <th>game_count</th>\n",
              "    </tr>\n",
              "  </thead>\n",
              "  <tbody>\n",
              "    <tr>\n",
              "      <th>16</th>\n",
              "      <td>PS2</td>\n",
              "      <td>1233.56</td>\n",
              "    </tr>\n",
              "    <tr>\n",
              "      <th>28</th>\n",
              "      <td>X360</td>\n",
              "      <td>961.24</td>\n",
              "    </tr>\n",
              "    <tr>\n",
              "      <th>17</th>\n",
              "      <td>PS3</td>\n",
              "      <td>931.34</td>\n",
              "    </tr>\n",
              "    <tr>\n",
              "      <th>26</th>\n",
              "      <td>Wii</td>\n",
              "      <td>891.18</td>\n",
              "    </tr>\n",
              "    <tr>\n",
              "      <th>4</th>\n",
              "      <td>DS</td>\n",
              "      <td>802.78</td>\n",
              "    </tr>\n",
              "    <tr>\n",
              "      <th>15</th>\n",
              "      <td>PS</td>\n",
              "      <td>727.58</td>\n",
              "    </tr>\n",
              "    <tr>\n",
              "      <th>18</th>\n",
              "      <td>PS4</td>\n",
              "      <td>314.14</td>\n",
              "    </tr>\n",
              "    <tr>\n",
              "      <th>6</th>\n",
              "      <td>GBA</td>\n",
              "      <td>312.88</td>\n",
              "    </tr>\n",
              "    <tr>\n",
              "      <th>19</th>\n",
              "      <td>PSP</td>\n",
              "      <td>289.53</td>\n",
              "    </tr>\n",
              "    <tr>\n",
              "      <th>2</th>\n",
              "      <td>3DS</td>\n",
              "      <td>257.81</td>\n",
              "    </tr>\n",
              "    <tr>\n",
              "      <th>13</th>\n",
              "      <td>PC</td>\n",
              "      <td>255.76</td>\n",
              "    </tr>\n",
              "    <tr>\n",
              "      <th>5</th>\n",
              "      <td>GB</td>\n",
              "      <td>254.43</td>\n",
              "    </tr>\n",
              "    <tr>\n",
              "      <th>29</th>\n",
              "      <td>XB</td>\n",
              "      <td>251.57</td>\n",
              "    </tr>\n",
              "    <tr>\n",
              "      <th>11</th>\n",
              "      <td>NES</td>\n",
              "      <td>251.05</td>\n",
              "    </tr>\n",
              "    <tr>\n",
              "      <th>10</th>\n",
              "      <td>N64</td>\n",
              "      <td>218.01</td>\n",
              "    </tr>\n",
              "    <tr>\n",
              "      <th>23</th>\n",
              "      <td>SNES</td>\n",
              "      <td>200.04</td>\n",
              "    </tr>\n",
              "    <tr>\n",
              "      <th>7</th>\n",
              "      <td>GC</td>\n",
              "      <td>196.73</td>\n",
              "    </tr>\n",
              "    <tr>\n",
              "      <th>30</th>\n",
              "      <td>XOne</td>\n",
              "      <td>159.32</td>\n",
              "    </tr>\n",
              "    <tr>\n",
              "      <th>0</th>\n",
              "      <td>2600</td>\n",
              "      <td>86.48</td>\n",
              "    </tr>\n",
              "    <tr>\n",
              "      <th>27</th>\n",
              "      <td>WiiU</td>\n",
              "      <td>82.19</td>\n",
              "    </tr>\n",
              "    <tr>\n",
              "      <th>20</th>\n",
              "      <td>PSV</td>\n",
              "      <td>53.81</td>\n",
              "    </tr>\n",
              "    <tr>\n",
              "      <th>21</th>\n",
              "      <td>SAT</td>\n",
              "      <td>33.59</td>\n",
              "    </tr>\n",
              "    <tr>\n",
              "      <th>8</th>\n",
              "      <td>GEN</td>\n",
              "      <td>28.35</td>\n",
              "    </tr>\n",
              "    <tr>\n",
              "      <th>3</th>\n",
              "      <td>DC</td>\n",
              "      <td>15.95</td>\n",
              "    </tr>\n",
              "    <tr>\n",
              "      <th>22</th>\n",
              "      <td>SCD</td>\n",
              "      <td>1.86</td>\n",
              "    </tr>\n",
              "    <tr>\n",
              "      <th>12</th>\n",
              "      <td>NG</td>\n",
              "      <td>1.44</td>\n",
              "    </tr>\n",
              "    <tr>\n",
              "      <th>25</th>\n",
              "      <td>WS</td>\n",
              "      <td>1.42</td>\n",
              "    </tr>\n",
              "    <tr>\n",
              "      <th>24</th>\n",
              "      <td>TG16</td>\n",
              "      <td>0.16</td>\n",
              "    </tr>\n",
              "    <tr>\n",
              "      <th>1</th>\n",
              "      <td>3DO</td>\n",
              "      <td>0.10</td>\n",
              "    </tr>\n",
              "    <tr>\n",
              "      <th>9</th>\n",
              "      <td>GG</td>\n",
              "      <td>0.04</td>\n",
              "    </tr>\n",
              "    <tr>\n",
              "      <th>14</th>\n",
              "      <td>PCFX</td>\n",
              "      <td>0.03</td>\n",
              "    </tr>\n",
              "  </tbody>\n",
              "</table>\n",
              "</div>"
            ],
            "text/plain": [
              "   platform  game_count\n",
              "16      PS2     1233.56\n",
              "28     X360      961.24\n",
              "17      PS3      931.34\n",
              "26      Wii      891.18\n",
              "4        DS      802.78\n",
              "15       PS      727.58\n",
              "18      PS4      314.14\n",
              "6       GBA      312.88\n",
              "19      PSP      289.53\n",
              "2       3DS      257.81\n",
              "13       PC      255.76\n",
              "5        GB      254.43\n",
              "29       XB      251.57\n",
              "11      NES      251.05\n",
              "10      N64      218.01\n",
              "23     SNES      200.04\n",
              "7        GC      196.73\n",
              "30     XOne      159.32\n",
              "0      2600       86.48\n",
              "27     WiiU       82.19\n",
              "20      PSV       53.81\n",
              "21      SAT       33.59\n",
              "8       GEN       28.35\n",
              "3        DC       15.95\n",
              "22      SCD        1.86\n",
              "12       NG        1.44\n",
              "25       WS        1.42\n",
              "24     TG16        0.16\n",
              "1       3DO        0.10\n",
              "9        GG        0.04\n",
              "14     PCFX        0.03"
            ]
          },
          "metadata": {},
          "output_type": "display_data"
        },
        {
          "data": {
            "image/png": "[encoded data removed]",
            "text/plain": [
              "<Figure size 864x576 with 1 Axes>"
            ]
          },
          "metadata": {},
          "output_type": "display_data"
        }
      ],
      "source": [
        "# смотрим количество проданных игр по всем платформам\n",
        "\n",
        "platform_sales = data.pivot_table(index='platform', values='total_sales', aggfunc='sum')\n",
        "platform_sales.reset_index(inplace=True)\n",
        "platform_sales.columns = ['platform', 'game_count']\n",
        "platform_sales = platform_sales.sort_values(by='game_count', ascending=False)\n",
        "display(platform_sales)\n",
        "\n",
        "sns.set_style('whitegrid')\n",
        "plt.figure(figsize=(12, 8))\n",
        "\n",
        "sns.barplot(data=platform_sales,\n",
        "            x='platform',\n",
        "            y='game_count',\n",
        "            order=platform_sales.sort_values(by='game_count').platform,\n",
        "            palette='pastel')\n",
        "\n",
        "plt.title('Количество проданных игр по платформам', size=18)\n",
        "plt.xlabel('Платформа', size=14)\n",
        "plt.ylabel('Продажи', size=14)\n",
        "plt.xticks(rotation=45, size=12)\n",
        "plt.yticks(size=12)\n",
        "\n",
        "plt.show()"
      ]
    },
    {
      "cell_type": "markdown",
      "metadata": {
        "id": "vV8dZURuB44i"
      },
      "source": [
        "**Вывод**\n",
        "\n",
        "Наибольшее количество проданных игр было на PS2, это обуславливается её выходом на рынок и тем, что была прорывом того времени. Другие популярные платформы: X360, PS3, Wii, DS, PS."
      ]
    },
    {
      "cell_type": "code",
      "execution_count": null,
      "metadata": {
        "scrolled": false,
        "id": "ikPAxqOMB44i",
        "outputId": "f7fbad9b-5181-4f10-b73d-1c3018f28d4f"
      },
      "outputs": [
        {
          "data": {
            "text/html": [
              "<div>\n",
              "<style scoped>\n",
              "    .dataframe tbody tr th:only-of-type {\n",
              "        vertical-align: middle;\n",
              "    }\n",
              "\n",
              "    .dataframe tbody tr th {\n",
              "        vertical-align: top;\n",
              "    }\n",
              "\n",
              "    .dataframe thead th {\n",
              "        text-align: right;\n",
              "    }\n",
              "</style>\n",
              "<table border=\"1\" class=\"dataframe\">\n",
              "  <thead>\n",
              "    <tr style=\"text-align: right;\">\n",
              "      <th></th>\n",
              "      <th></th>\n",
              "      <th>total_sales</th>\n",
              "    </tr>\n",
              "    <tr>\n",
              "      <th>platform</th>\n",
              "      <th>year_of_release</th>\n",
              "      <th></th>\n",
              "    </tr>\n",
              "  </thead>\n",
              "  <tbody>\n",
              "    <tr>\n",
              "      <th rowspan=\"12\" valign=\"top\">PS2</th>\n",
              "      <th>2000</th>\n",
              "      <td>39.17</td>\n",
              "    </tr>\n",
              "    <tr>\n",
              "      <th>2001</th>\n",
              "      <td>166.43</td>\n",
              "    </tr>\n",
              "    <tr>\n",
              "      <th>2002</th>\n",
              "      <td>205.38</td>\n",
              "    </tr>\n",
              "    <tr>\n",
              "      <th>2003</th>\n",
              "      <td>184.31</td>\n",
              "    </tr>\n",
              "    <tr>\n",
              "      <th>2004</th>\n",
              "      <td>211.81</td>\n",
              "    </tr>\n",
              "    <tr>\n",
              "      <th>2005</th>\n",
              "      <td>160.66</td>\n",
              "    </tr>\n",
              "    <tr>\n",
              "      <th>2006</th>\n",
              "      <td>103.42</td>\n",
              "    </tr>\n",
              "    <tr>\n",
              "      <th>2007</th>\n",
              "      <td>75.99</td>\n",
              "    </tr>\n",
              "    <tr>\n",
              "      <th>2008</th>\n",
              "      <td>53.90</td>\n",
              "    </tr>\n",
              "    <tr>\n",
              "      <th>2009</th>\n",
              "      <td>26.40</td>\n",
              "    </tr>\n",
              "    <tr>\n",
              "      <th>2010</th>\n",
              "      <td>5.64</td>\n",
              "    </tr>\n",
              "    <tr>\n",
              "      <th>2011</th>\n",
              "      <td>0.45</td>\n",
              "    </tr>\n",
              "  </tbody>\n",
              "</table>\n",
              "</div>"
            ],
            "text/plain": [
              "                          total_sales\n",
              "platform year_of_release             \n",
              "PS2      2000                   39.17\n",
              "         2001                  166.43\n",
              "         2002                  205.38\n",
              "         2003                  184.31\n",
              "         2004                  211.81\n",
              "         2005                  160.66\n",
              "         2006                  103.42\n",
              "         2007                   75.99\n",
              "         2008                   53.90\n",
              "         2009                   26.40\n",
              "         2010                    5.64\n",
              "         2011                    0.45"
            ]
          },
          "metadata": {},
          "output_type": "display_data"
        },
        {
          "name": "stdout",
          "output_type": "stream",
          "text": [
            "\n"
          ]
        },
        {
          "data": {
            "text/html": [
              "<div>\n",
              "<style scoped>\n",
              "    .dataframe tbody tr th:only-of-type {\n",
              "        vertical-align: middle;\n",
              "    }\n",
              "\n",
              "    .dataframe tbody tr th {\n",
              "        vertical-align: top;\n",
              "    }\n",
              "\n",
              "    .dataframe thead th {\n",
              "        text-align: right;\n",
              "    }\n",
              "</style>\n",
              "<table border=\"1\" class=\"dataframe\">\n",
              "  <thead>\n",
              "    <tr style=\"text-align: right;\">\n",
              "      <th></th>\n",
              "      <th></th>\n",
              "      <th>total_sales</th>\n",
              "    </tr>\n",
              "    <tr>\n",
              "      <th>platform</th>\n",
              "      <th>year_of_release</th>\n",
              "      <th></th>\n",
              "    </tr>\n",
              "  </thead>\n",
              "  <tbody>\n",
              "    <tr>\n",
              "      <th rowspan=\"12\" valign=\"top\">X360</th>\n",
              "      <th>2005</th>\n",
              "      <td>8.25</td>\n",
              "    </tr>\n",
              "    <tr>\n",
              "      <th>2006</th>\n",
              "      <td>51.62</td>\n",
              "    </tr>\n",
              "    <tr>\n",
              "      <th>2007</th>\n",
              "      <td>95.41</td>\n",
              "    </tr>\n",
              "    <tr>\n",
              "      <th>2008</th>\n",
              "      <td>135.26</td>\n",
              "    </tr>\n",
              "    <tr>\n",
              "      <th>2009</th>\n",
              "      <td>120.29</td>\n",
              "    </tr>\n",
              "    <tr>\n",
              "      <th>2010</th>\n",
              "      <td>170.03</td>\n",
              "    </tr>\n",
              "    <tr>\n",
              "      <th>2011</th>\n",
              "      <td>143.84</td>\n",
              "    </tr>\n",
              "    <tr>\n",
              "      <th>2012</th>\n",
              "      <td>99.74</td>\n",
              "    </tr>\n",
              "    <tr>\n",
              "      <th>2013</th>\n",
              "      <td>88.58</td>\n",
              "    </tr>\n",
              "    <tr>\n",
              "      <th>2014</th>\n",
              "      <td>34.74</td>\n",
              "    </tr>\n",
              "    <tr>\n",
              "      <th>2015</th>\n",
              "      <td>11.96</td>\n",
              "    </tr>\n",
              "    <tr>\n",
              "      <th>2016</th>\n",
              "      <td>1.52</td>\n",
              "    </tr>\n",
              "  </tbody>\n",
              "</table>\n",
              "</div>"
            ],
            "text/plain": [
              "                          total_sales\n",
              "platform year_of_release             \n",
              "X360     2005                    8.25\n",
              "         2006                   51.62\n",
              "         2007                   95.41\n",
              "         2008                  135.26\n",
              "         2009                  120.29\n",
              "         2010                  170.03\n",
              "         2011                  143.84\n",
              "         2012                   99.74\n",
              "         2013                   88.58\n",
              "         2014                   34.74\n",
              "         2015                   11.96\n",
              "         2016                    1.52"
            ]
          },
          "metadata": {},
          "output_type": "display_data"
        },
        {
          "name": "stdout",
          "output_type": "stream",
          "text": [
            "\n"
          ]
        },
        {
          "data": {
            "text/html": [
              "<div>\n",
              "<style scoped>\n",
              "    .dataframe tbody tr th:only-of-type {\n",
              "        vertical-align: middle;\n",
              "    }\n",
              "\n",
              "    .dataframe tbody tr th {\n",
              "        vertical-align: top;\n",
              "    }\n",
              "\n",
              "    .dataframe thead th {\n",
              "        text-align: right;\n",
              "    }\n",
              "</style>\n",
              "<table border=\"1\" class=\"dataframe\">\n",
              "  <thead>\n",
              "    <tr style=\"text-align: right;\">\n",
              "      <th></th>\n",
              "      <th></th>\n",
              "      <th>total_sales</th>\n",
              "    </tr>\n",
              "    <tr>\n",
              "      <th>platform</th>\n",
              "      <th>year_of_release</th>\n",
              "      <th></th>\n",
              "    </tr>\n",
              "  </thead>\n",
              "  <tbody>\n",
              "    <tr>\n",
              "      <th rowspan=\"11\" valign=\"top\">PS3</th>\n",
              "      <th>2006</th>\n",
              "      <td>20.96</td>\n",
              "    </tr>\n",
              "    <tr>\n",
              "      <th>2007</th>\n",
              "      <td>73.19</td>\n",
              "    </tr>\n",
              "    <tr>\n",
              "      <th>2008</th>\n",
              "      <td>118.52</td>\n",
              "    </tr>\n",
              "    <tr>\n",
              "      <th>2009</th>\n",
              "      <td>130.93</td>\n",
              "    </tr>\n",
              "    <tr>\n",
              "      <th>2010</th>\n",
              "      <td>142.17</td>\n",
              "    </tr>\n",
              "    <tr>\n",
              "      <th>2011</th>\n",
              "      <td>156.78</td>\n",
              "    </tr>\n",
              "    <tr>\n",
              "      <th>2012</th>\n",
              "      <td>107.36</td>\n",
              "    </tr>\n",
              "    <tr>\n",
              "      <th>2013</th>\n",
              "      <td>113.25</td>\n",
              "    </tr>\n",
              "    <tr>\n",
              "      <th>2014</th>\n",
              "      <td>47.76</td>\n",
              "    </tr>\n",
              "    <tr>\n",
              "      <th>2015</th>\n",
              "      <td>16.82</td>\n",
              "    </tr>\n",
              "    <tr>\n",
              "      <th>2016</th>\n",
              "      <td>3.60</td>\n",
              "    </tr>\n",
              "  </tbody>\n",
              "</table>\n",
              "</div>"
            ],
            "text/plain": [
              "                          total_sales\n",
              "platform year_of_release             \n",
              "PS3      2006                   20.96\n",
              "         2007                   73.19\n",
              "         2008                  118.52\n",
              "         2009                  130.93\n",
              "         2010                  142.17\n",
              "         2011                  156.78\n",
              "         2012                  107.36\n",
              "         2013                  113.25\n",
              "         2014                   47.76\n",
              "         2015                   16.82\n",
              "         2016                    3.60"
            ]
          },
          "metadata": {},
          "output_type": "display_data"
        },
        {
          "name": "stdout",
          "output_type": "stream",
          "text": [
            "\n"
          ]
        },
        {
          "data": {
            "text/html": [
              "<div>\n",
              "<style scoped>\n",
              "    .dataframe tbody tr th:only-of-type {\n",
              "        vertical-align: middle;\n",
              "    }\n",
              "\n",
              "    .dataframe tbody tr th {\n",
              "        vertical-align: top;\n",
              "    }\n",
              "\n",
              "    .dataframe thead th {\n",
              "        text-align: right;\n",
              "    }\n",
              "</style>\n",
              "<table border=\"1\" class=\"dataframe\">\n",
              "  <thead>\n",
              "    <tr style=\"text-align: right;\">\n",
              "      <th></th>\n",
              "      <th></th>\n",
              "      <th>total_sales</th>\n",
              "    </tr>\n",
              "    <tr>\n",
              "      <th>platform</th>\n",
              "      <th>year_of_release</th>\n",
              "      <th></th>\n",
              "    </tr>\n",
              "  </thead>\n",
              "  <tbody>\n",
              "    <tr>\n",
              "      <th rowspan=\"11\" valign=\"top\">Wii</th>\n",
              "      <th>2006</th>\n",
              "      <td>137.15</td>\n",
              "    </tr>\n",
              "    <tr>\n",
              "      <th>2007</th>\n",
              "      <td>152.77</td>\n",
              "    </tr>\n",
              "    <tr>\n",
              "      <th>2008</th>\n",
              "      <td>171.32</td>\n",
              "    </tr>\n",
              "    <tr>\n",
              "      <th>2009</th>\n",
              "      <td>206.97</td>\n",
              "    </tr>\n",
              "    <tr>\n",
              "      <th>2010</th>\n",
              "      <td>127.95</td>\n",
              "    </tr>\n",
              "    <tr>\n",
              "      <th>2011</th>\n",
              "      <td>59.65</td>\n",
              "    </tr>\n",
              "    <tr>\n",
              "      <th>2012</th>\n",
              "      <td>21.71</td>\n",
              "    </tr>\n",
              "    <tr>\n",
              "      <th>2013</th>\n",
              "      <td>8.59</td>\n",
              "    </tr>\n",
              "    <tr>\n",
              "      <th>2014</th>\n",
              "      <td>3.75</td>\n",
              "    </tr>\n",
              "    <tr>\n",
              "      <th>2015</th>\n",
              "      <td>1.14</td>\n",
              "    </tr>\n",
              "    <tr>\n",
              "      <th>2016</th>\n",
              "      <td>0.18</td>\n",
              "    </tr>\n",
              "  </tbody>\n",
              "</table>\n",
              "</div>"
            ],
            "text/plain": [
              "                          total_sales\n",
              "platform year_of_release             \n",
              "Wii      2006                  137.15\n",
              "         2007                  152.77\n",
              "         2008                  171.32\n",
              "         2009                  206.97\n",
              "         2010                  127.95\n",
              "         2011                   59.65\n",
              "         2012                   21.71\n",
              "         2013                    8.59\n",
              "         2014                    3.75\n",
              "         2015                    1.14\n",
              "         2016                    0.18"
            ]
          },
          "metadata": {},
          "output_type": "display_data"
        },
        {
          "name": "stdout",
          "output_type": "stream",
          "text": [
            "\n"
          ]
        }
      ],
      "source": [
        "# отбираем топ 4 платформы по продажам игр и для каждой выводим количество продаж по годам\n",
        "\n",
        "platform_sales = data.pivot_table(index='platform', values='total_sales', aggfunc='sum')\n",
        "platform_sales = platform_sales.sort_values(by='total_sales', ascending=False)\n",
        "top_platform = list(platform_sales.index[:4])\n",
        "\n",
        "for x in top_platform:\n",
        "    platform_sales = data.query('platform == @x').pivot_table(index=['platform','year_of_release'], values='total_sales', aggfunc='sum')\n",
        "    display(platform_sales)\n",
        "    print()"
      ]
    },
    {
      "cell_type": "code",
      "execution_count": null,
      "metadata": {
        "scrolled": false,
        "id": "ERuPRWBQB44j",
        "outputId": "93dec94d-ef76-4b3c-ec5c-eeeb3efad39a"
      },
      "outputs": [
        {
          "data": {
            "image/png": "[encoded data removed]",
            "text/plain": [
              "<Figure size 1080x720 with 2 Axes>"
            ]
          },
          "metadata": {},
          "output_type": "display_data"
        },
        {
          "data": {
            "image/png": "[encoded data removed]",
            "text/plain": [
              "<Figure size 1080x720 with 2 Axes>"
            ]
          },
          "metadata": {},
          "output_type": "display_data"
        }
      ],
      "source": [
        "ps2_sales_per_year = data.query('platform == \"PS2\"').pivot_table(index='year_of_release', values='total_sales', aggfunc='sum')\n",
        "ps2_sales_per_year.reset_index(inplace=True)\n",
        "ps2_sales_per_year.columns = ['year_of_release', 'game_count']\n",
        "\n",
        "x360_sales_per_year = data.query('platform == \"X360\"').pivot_table(index='year_of_release', values='total_sales', aggfunc='sum')\n",
        "x360_sales_per_year.reset_index(inplace=True)\n",
        "x360_sales_per_year.columns = ['year_of_release', 'game_count']\n",
        "\n",
        "ps3_sales_per_year = data.query('platform == \"PS3\"').pivot_table(index='year_of_release', values='total_sales', aggfunc='sum')\n",
        "ps3_sales_per_year.reset_index(inplace=True)\n",
        "ps3_sales_per_year.columns = ['year_of_release', 'game_count']\n",
        "\n",
        "wii_sales_per_year = data.query('platform == \"Wii\"').pivot_table(index='year_of_release', values='total_sales', aggfunc='sum')\n",
        "wii_sales_per_year.reset_index(inplace=True)\n",
        "wii_sales_per_year.columns = ['year_of_release', 'game_count']\n",
        "\n",
        "# задаём параметры для шаблона графиков\n",
        "\n",
        "fig, ax = plt.subplots(1, 2, figsize=(15, 10))\n",
        "ymin, ymax = 0, 250\n",
        "\n",
        "\n",
        "sns.barplot(data=ps2_sales_per_year,\n",
        "            x='year_of_release',\n",
        "            y='game_count',\n",
        "            color='steelblue',\n",
        "            ax=ax[0])\n",
        "ax[0].set_ylim(ymin, ymax)\n",
        "ax[0].set(title='Количество игр по годам на PS2',\n",
        "          xlabel='Год',\n",
        "          ylabel='Продажи')\n",
        "ax[0].tick_params(axis='x', rotation=45)\n",
        "\n",
        "\n",
        "sns.barplot(data=x360_sales_per_year,\n",
        "            x='year_of_release',\n",
        "            y='game_count',\n",
        "            color='steelblue',\n",
        "            ax=ax[1])\n",
        "ax[1].set_ylim(ymin, ymax)\n",
        "ax[1].set(title='Количество игр по годам на X360',\n",
        "          xlabel='Год',\n",
        "          ylabel='Продажи')\n",
        "ax[1].tick_params(axis='x', rotation=45)\n",
        "\n",
        "plt.show()\n",
        "\n",
        "# проделываем то же самое\n",
        "\n",
        "fig, ax = plt.subplots(1, 2, figsize=(15, 10))\n",
        "ymin, ymax = 0, 220\n",
        "\n",
        "sns.barplot(data=ps3_sales_per_year,\n",
        "            x='year_of_release',\n",
        "            y='game_count',\n",
        "            color='steelblue',\n",
        "            ax=ax[0])\n",
        "ax[0].set_ylim(ymin, ymax)\n",
        "ax[0].set(title='Количество игр по годам на PS3',\n",
        "          xlabel='Год',\n",
        "          ylabel='Продажи')\n",
        "ax[0].tick_params(axis='x', rotation=45)\n",
        "\n",
        "\n",
        "sns.barplot(data=wii_sales_per_year,\n",
        "            x='year_of_release',\n",
        "            y='game_count',\n",
        "            color='steelblue',\n",
        "            ax=ax[1])\n",
        "ax[1].set_ylim(ymin, ymax)\n",
        "ax[1].set(title='Количество игр по годам на Wii',\n",
        "          xlabel='Год',\n",
        "          ylabel='Продажи')\n",
        "ax[1].tick_params(axis='x', rotation=45)"
      ]
    },
    {
      "cell_type": "markdown",
      "metadata": {
        "id": "xdnqtVRPB44o"
      },
      "source": [
        "**Вывод**\n",
        "\n",
        "Здесь тоже самое пиковое значение продаж у PS2 в 2004 году, самый резкий старт и спад происходил у Wii."
      ]
    },
    {
      "cell_type": "markdown",
      "metadata": {
        "id": "yhvimOYmB44o"
      },
      "source": [
        "### Определение актуального периода для прогноза"
      ]
    },
    {
      "cell_type": "code",
      "execution_count": null,
      "metadata": {
        "id": "l3q7FeqaB44o",
        "outputId": "590e7c8c-03fd-42ec-daf4-657e950923da"
      },
      "outputs": [
        {
          "data": {
            "text/html": [
              "<div>\n",
              "<style scoped>\n",
              "    .dataframe tbody tr th:only-of-type {\n",
              "        vertical-align: middle;\n",
              "    }\n",
              "\n",
              "    .dataframe tbody tr th {\n",
              "        vertical-align: top;\n",
              "    }\n",
              "\n",
              "    .dataframe thead th {\n",
              "        text-align: right;\n",
              "    }\n",
              "</style>\n",
              "<table border=\"1\" class=\"dataframe\">\n",
              "  <thead>\n",
              "    <tr style=\"text-align: right;\">\n",
              "      <th></th>\n",
              "      <th>name</th>\n",
              "      <th>platform</th>\n",
              "      <th>year_of_release</th>\n",
              "      <th>genre</th>\n",
              "      <th>na_sales</th>\n",
              "      <th>eu_sales</th>\n",
              "      <th>jp_sales</th>\n",
              "      <th>other_sales</th>\n",
              "      <th>critic_score</th>\n",
              "      <th>user_score</th>\n",
              "      <th>rating</th>\n",
              "      <th>total_sales</th>\n",
              "      <th>ratings</th>\n",
              "    </tr>\n",
              "  </thead>\n",
              "  <tbody>\n",
              "    <tr>\n",
              "      <th>16</th>\n",
              "      <td>Grand Theft Auto V</td>\n",
              "      <td>PS3</td>\n",
              "      <td>2013</td>\n",
              "      <td>Action</td>\n",
              "      <td>7.02</td>\n",
              "      <td>9.09</td>\n",
              "      <td>0.98</td>\n",
              "      <td>3.96</td>\n",
              "      <td>97.0</td>\n",
              "      <td>8.2</td>\n",
              "      <td>M</td>\n",
              "      <td>21.05</td>\n",
              "      <td>От 17 лет</td>\n",
              "    </tr>\n",
              "    <tr>\n",
              "      <th>23</th>\n",
              "      <td>Grand Theft Auto V</td>\n",
              "      <td>X360</td>\n",
              "      <td>2013</td>\n",
              "      <td>Action</td>\n",
              "      <td>9.66</td>\n",
              "      <td>5.14</td>\n",
              "      <td>0.06</td>\n",
              "      <td>1.41</td>\n",
              "      <td>97.0</td>\n",
              "      <td>8.1</td>\n",
              "      <td>M</td>\n",
              "      <td>16.27</td>\n",
              "      <td>От 17 лет</td>\n",
              "    </tr>\n",
              "    <tr>\n",
              "      <th>31</th>\n",
              "      <td>Call of Duty: Black Ops 3</td>\n",
              "      <td>PS4</td>\n",
              "      <td>2015</td>\n",
              "      <td>Shooter</td>\n",
              "      <td>6.03</td>\n",
              "      <td>5.86</td>\n",
              "      <td>0.36</td>\n",
              "      <td>2.38</td>\n",
              "      <td>NaN</td>\n",
              "      <td>NaN</td>\n",
              "      <td>NaN</td>\n",
              "      <td>14.63</td>\n",
              "      <td>Не определён</td>\n",
              "    </tr>\n",
              "    <tr>\n",
              "      <th>33</th>\n",
              "      <td>Pokemon X/Pokemon Y</td>\n",
              "      <td>3DS</td>\n",
              "      <td>2013</td>\n",
              "      <td>Role-Playing</td>\n",
              "      <td>5.28</td>\n",
              "      <td>4.19</td>\n",
              "      <td>4.35</td>\n",
              "      <td>0.78</td>\n",
              "      <td>NaN</td>\n",
              "      <td>NaN</td>\n",
              "      <td>NaN</td>\n",
              "      <td>14.60</td>\n",
              "      <td>Не определён</td>\n",
              "    </tr>\n",
              "    <tr>\n",
              "      <th>42</th>\n",
              "      <td>Grand Theft Auto V</td>\n",
              "      <td>PS4</td>\n",
              "      <td>2014</td>\n",
              "      <td>Action</td>\n",
              "      <td>3.96</td>\n",
              "      <td>6.31</td>\n",
              "      <td>0.38</td>\n",
              "      <td>1.97</td>\n",
              "      <td>97.0</td>\n",
              "      <td>8.3</td>\n",
              "      <td>M</td>\n",
              "      <td>12.62</td>\n",
              "      <td>От 17 лет</td>\n",
              "    </tr>\n",
              "    <tr>\n",
              "      <th>...</th>\n",
              "      <td>...</td>\n",
              "      <td>...</td>\n",
              "      <td>...</td>\n",
              "      <td>...</td>\n",
              "      <td>...</td>\n",
              "      <td>...</td>\n",
              "      <td>...</td>\n",
              "      <td>...</td>\n",
              "      <td>...</td>\n",
              "      <td>...</td>\n",
              "      <td>...</td>\n",
              "      <td>...</td>\n",
              "      <td>...</td>\n",
              "    </tr>\n",
              "    <tr>\n",
              "      <th>16703</th>\n",
              "      <td>Strawberry Nauts</td>\n",
              "      <td>PSV</td>\n",
              "      <td>2016</td>\n",
              "      <td>Adventure</td>\n",
              "      <td>0.00</td>\n",
              "      <td>0.00</td>\n",
              "      <td>0.01</td>\n",
              "      <td>0.00</td>\n",
              "      <td>NaN</td>\n",
              "      <td>NaN</td>\n",
              "      <td>NaN</td>\n",
              "      <td>0.01</td>\n",
              "      <td>Не определён</td>\n",
              "    </tr>\n",
              "    <tr>\n",
              "      <th>16707</th>\n",
              "      <td>Aiyoku no Eustia</td>\n",
              "      <td>PSV</td>\n",
              "      <td>2014</td>\n",
              "      <td>Misc</td>\n",
              "      <td>0.00</td>\n",
              "      <td>0.00</td>\n",
              "      <td>0.01</td>\n",
              "      <td>0.00</td>\n",
              "      <td>NaN</td>\n",
              "      <td>NaN</td>\n",
              "      <td>NaN</td>\n",
              "      <td>0.01</td>\n",
              "      <td>Не определён</td>\n",
              "    </tr>\n",
              "    <tr>\n",
              "      <th>16710</th>\n",
              "      <td>Samurai Warriors: Sanada Maru</td>\n",
              "      <td>PS3</td>\n",
              "      <td>2016</td>\n",
              "      <td>Action</td>\n",
              "      <td>0.00</td>\n",
              "      <td>0.00</td>\n",
              "      <td>0.01</td>\n",
              "      <td>0.00</td>\n",
              "      <td>NaN</td>\n",
              "      <td>NaN</td>\n",
              "      <td>NaN</td>\n",
              "      <td>0.01</td>\n",
              "      <td>Не определён</td>\n",
              "    </tr>\n",
              "    <tr>\n",
              "      <th>16712</th>\n",
              "      <td>Haitaka no Psychedelica</td>\n",
              "      <td>PSV</td>\n",
              "      <td>2016</td>\n",
              "      <td>Adventure</td>\n",
              "      <td>0.00</td>\n",
              "      <td>0.00</td>\n",
              "      <td>0.01</td>\n",
              "      <td>0.00</td>\n",
              "      <td>NaN</td>\n",
              "      <td>NaN</td>\n",
              "      <td>NaN</td>\n",
              "      <td>0.01</td>\n",
              "      <td>Не определён</td>\n",
              "    </tr>\n",
              "    <tr>\n",
              "      <th>16714</th>\n",
              "      <td>Winning Post 8 2016</td>\n",
              "      <td>PSV</td>\n",
              "      <td>2016</td>\n",
              "      <td>Simulation</td>\n",
              "      <td>0.00</td>\n",
              "      <td>0.00</td>\n",
              "      <td>0.01</td>\n",
              "      <td>0.00</td>\n",
              "      <td>NaN</td>\n",
              "      <td>NaN</td>\n",
              "      <td>NaN</td>\n",
              "      <td>0.01</td>\n",
              "      <td>Не определён</td>\n",
              "    </tr>\n",
              "  </tbody>\n",
              "</table>\n",
              "<p>2233 rows × 13 columns</p>\n",
              "</div>"
            ],
            "text/plain": [
              "                                name platform  year_of_release         genre  \\\n",
              "16                Grand Theft Auto V      PS3             2013        Action   \n",
              "23                Grand Theft Auto V     X360             2013        Action   \n",
              "31         Call of Duty: Black Ops 3      PS4             2015       Shooter   \n",
              "33               Pokemon X/Pokemon Y      3DS             2013  Role-Playing   \n",
              "42                Grand Theft Auto V      PS4             2014        Action   \n",
              "...                              ...      ...              ...           ...   \n",
              "16703               Strawberry Nauts      PSV             2016     Adventure   \n",
              "16707               Aiyoku no Eustia      PSV             2014          Misc   \n",
              "16710  Samurai Warriors: Sanada Maru      PS3             2016        Action   \n",
              "16712        Haitaka no Psychedelica      PSV             2016     Adventure   \n",
              "16714            Winning Post 8 2016      PSV             2016    Simulation   \n",
              "\n",
              "       na_sales  eu_sales  jp_sales  other_sales  critic_score  user_score  \\\n",
              "16         7.02      9.09      0.98         3.96          97.0         8.2   \n",
              "23         9.66      5.14      0.06         1.41          97.0         8.1   \n",
              "31         6.03      5.86      0.36         2.38           NaN         NaN   \n",
              "33         5.28      4.19      4.35         0.78           NaN         NaN   \n",
              "42         3.96      6.31      0.38         1.97          97.0         8.3   \n",
              "...         ...       ...       ...          ...           ...         ...   \n",
              "16703      0.00      0.00      0.01         0.00           NaN         NaN   \n",
              "16707      0.00      0.00      0.01         0.00           NaN         NaN   \n",
              "16710      0.00      0.00      0.01         0.00           NaN         NaN   \n",
              "16712      0.00      0.00      0.01         0.00           NaN         NaN   \n",
              "16714      0.00      0.00      0.01         0.00           NaN         NaN   \n",
              "\n",
              "      rating  total_sales       ratings  \n",
              "16         M        21.05     От 17 лет  \n",
              "23         M        16.27     От 17 лет  \n",
              "31       NaN        14.63  Не определён  \n",
              "33       NaN        14.60  Не определён  \n",
              "42         M        12.62     От 17 лет  \n",
              "...      ...          ...           ...  \n",
              "16703    NaN         0.01  Не определён  \n",
              "16707    NaN         0.01  Не определён  \n",
              "16710    NaN         0.01  Не определён  \n",
              "16712    NaN         0.01  Не определён  \n",
              "16714    NaN         0.01  Не определён  \n",
              "\n",
              "[2233 rows x 13 columns]"
            ]
          },
          "execution_count": 22,
          "metadata": {},
          "output_type": "execute_result"
        }
      ],
      "source": [
        "# отбираем самый актуальный период на основании стагнации выпуска игр в этот период\n",
        "\n",
        "actual_data = data.query('year_of_release > 2012')\n",
        "actual_data"
      ]
    },
    {
      "cell_type": "markdown",
      "metadata": {
        "id": "ugnz3CcbB44p"
      },
      "source": [
        "**Вывод**\n",
        "\n",
        "Отобрали именно этот период, потому что он характеризуется стагнацией и в нём отсутствуют аномальные значения, которые могут повлиять на результаты анализа."
      ]
    },
    {
      "cell_type": "markdown",
      "metadata": {
        "id": "wTtpnwjfB44p"
      },
      "source": [
        "### Количество проданных игр по платформам в актуальный период"
      ]
    },
    {
      "cell_type": "code",
      "execution_count": null,
      "metadata": {
        "id": "d77ibcOXB44q",
        "outputId": "acae8a8f-811a-4296-c111-1e04e13d0f03"
      },
      "outputs": [
        {
          "data": {
            "text/html": [
              "<div>\n",
              "<style scoped>\n",
              "    .dataframe tbody tr th:only-of-type {\n",
              "        vertical-align: middle;\n",
              "    }\n",
              "\n",
              "    .dataframe tbody tr th {\n",
              "        vertical-align: top;\n",
              "    }\n",
              "\n",
              "    .dataframe thead th {\n",
              "        text-align: right;\n",
              "    }\n",
              "</style>\n",
              "<table border=\"1\" class=\"dataframe\">\n",
              "  <thead>\n",
              "    <tr style=\"text-align: right;\">\n",
              "      <th></th>\n",
              "      <th>platform</th>\n",
              "      <th>total_sales</th>\n",
              "    </tr>\n",
              "  </thead>\n",
              "  <tbody>\n",
              "    <tr>\n",
              "      <th>4</th>\n",
              "      <td>PS4</td>\n",
              "      <td>314.14</td>\n",
              "    </tr>\n",
              "    <tr>\n",
              "      <th>3</th>\n",
              "      <td>PS3</td>\n",
              "      <td>181.43</td>\n",
              "    </tr>\n",
              "    <tr>\n",
              "      <th>10</th>\n",
              "      <td>XOne</td>\n",
              "      <td>159.32</td>\n",
              "    </tr>\n",
              "    <tr>\n",
              "      <th>0</th>\n",
              "      <td>3DS</td>\n",
              "      <td>143.25</td>\n",
              "    </tr>\n",
              "    <tr>\n",
              "      <th>9</th>\n",
              "      <td>X360</td>\n",
              "      <td>136.80</td>\n",
              "    </tr>\n",
              "    <tr>\n",
              "      <th>8</th>\n",
              "      <td>WiiU</td>\n",
              "      <td>64.63</td>\n",
              "    </tr>\n",
              "    <tr>\n",
              "      <th>2</th>\n",
              "      <td>PC</td>\n",
              "      <td>39.43</td>\n",
              "    </tr>\n",
              "    <tr>\n",
              "      <th>6</th>\n",
              "      <td>PSV</td>\n",
              "      <td>32.99</td>\n",
              "    </tr>\n",
              "    <tr>\n",
              "      <th>7</th>\n",
              "      <td>Wii</td>\n",
              "      <td>13.66</td>\n",
              "    </tr>\n",
              "    <tr>\n",
              "      <th>5</th>\n",
              "      <td>PSP</td>\n",
              "      <td>3.50</td>\n",
              "    </tr>\n",
              "    <tr>\n",
              "      <th>1</th>\n",
              "      <td>DS</td>\n",
              "      <td>1.54</td>\n",
              "    </tr>\n",
              "  </tbody>\n",
              "</table>\n",
              "</div>"
            ],
            "text/plain": [
              "   platform  total_sales\n",
              "4       PS4       314.14\n",
              "3       PS3       181.43\n",
              "10     XOne       159.32\n",
              "0       3DS       143.25\n",
              "9      X360       136.80\n",
              "8      WiiU        64.63\n",
              "2        PC        39.43\n",
              "6       PSV        32.99\n",
              "7       Wii        13.66\n",
              "5       PSP         3.50\n",
              "1        DS         1.54"
            ]
          },
          "metadata": {},
          "output_type": "display_data"
        },
        {
          "data": {
            "image/png": "[encoded data removed]",
            "text/plain": [
              "<Figure size 864x576 with 1 Axes>"
            ]
          },
          "metadata": {},
          "output_type": "display_data"
        }
      ],
      "source": [
        "# для каждой платформы считаем количество проданных игр в актуальный период\n",
        "\n",
        "actual_platform = actual_data.pivot_table(index='platform', values='total_sales', aggfunc='sum')\n",
        "actual_platform.reset_index(inplace=True)\n",
        "display(actual_platform.sort_values(by='total_sales', ascending=False))\n",
        "\n",
        "sns.set_style('whitegrid')\n",
        "plt.figure(figsize=(12, 8))\n",
        "\n",
        "sns.barplot(data=actual_platform,\n",
        "            x='platform',\n",
        "            y='total_sales',\n",
        "            order=actual_platform.sort_values(by='total_sales').platform,\n",
        "            palette='pastel')\n",
        "\n",
        "plt.title('Количество проданных игр по платформам', size=18)\n",
        "plt.xlabel('Платформа', size=14)\n",
        "plt.ylabel('Продажи', size=14)\n",
        "plt.xticks(size=12)\n",
        "plt.yticks(size=12)\n",
        "\n",
        "plt.show()"
      ]
    },
    {
      "cell_type": "markdown",
      "metadata": {
        "id": "JtWFc-z8B44q"
      },
      "source": [
        "**Вывод**\n",
        "\n",
        "В актуальный период по количеству проданных игр лидирует PS4, примерно одинаковое количество продаж у PS3, XOne, 3DS, X360."
      ]
    },
    {
      "cell_type": "code",
      "execution_count": null,
      "metadata": {
        "id": "zhmH9irVB44q",
        "outputId": "218229fc-0587-425b-8f9c-52bf90363c0a"
      },
      "outputs": [
        {
          "data": {
            "text/html": [
              "<div>\n",
              "<style scoped>\n",
              "    .dataframe tbody tr th:only-of-type {\n",
              "        vertical-align: middle;\n",
              "    }\n",
              "\n",
              "    .dataframe tbody tr th {\n",
              "        vertical-align: top;\n",
              "    }\n",
              "\n",
              "    .dataframe thead th {\n",
              "        text-align: right;\n",
              "    }\n",
              "</style>\n",
              "<table border=\"1\" class=\"dataframe\">\n",
              "  <thead>\n",
              "    <tr style=\"text-align: right;\">\n",
              "      <th></th>\n",
              "      <th></th>\n",
              "      <th>total_sales</th>\n",
              "    </tr>\n",
              "    <tr>\n",
              "      <th>platform</th>\n",
              "      <th>year_of_release</th>\n",
              "      <th></th>\n",
              "    </tr>\n",
              "  </thead>\n",
              "  <tbody>\n",
              "    <tr>\n",
              "      <th rowspan=\"4\" valign=\"top\">3DS</th>\n",
              "      <th>2013</th>\n",
              "      <td>56.57</td>\n",
              "    </tr>\n",
              "    <tr>\n",
              "      <th>2014</th>\n",
              "      <td>43.76</td>\n",
              "    </tr>\n",
              "    <tr>\n",
              "      <th>2015</th>\n",
              "      <td>27.78</td>\n",
              "    </tr>\n",
              "    <tr>\n",
              "      <th>2016</th>\n",
              "      <td>15.14</td>\n",
              "    </tr>\n",
              "    <tr>\n",
              "      <th rowspan=\"4\" valign=\"top\">PS3</th>\n",
              "      <th>2013</th>\n",
              "      <td>113.25</td>\n",
              "    </tr>\n",
              "    <tr>\n",
              "      <th>2014</th>\n",
              "      <td>47.76</td>\n",
              "    </tr>\n",
              "    <tr>\n",
              "      <th>2015</th>\n",
              "      <td>16.82</td>\n",
              "    </tr>\n",
              "    <tr>\n",
              "      <th>2016</th>\n",
              "      <td>3.60</td>\n",
              "    </tr>\n",
              "    <tr>\n",
              "      <th rowspan=\"4\" valign=\"top\">PS4</th>\n",
              "      <th>2013</th>\n",
              "      <td>25.99</td>\n",
              "    </tr>\n",
              "    <tr>\n",
              "      <th>2014</th>\n",
              "      <td>100.00</td>\n",
              "    </tr>\n",
              "    <tr>\n",
              "      <th>2015</th>\n",
              "      <td>118.90</td>\n",
              "    </tr>\n",
              "    <tr>\n",
              "      <th>2016</th>\n",
              "      <td>69.25</td>\n",
              "    </tr>\n",
              "    <tr>\n",
              "      <th rowspan=\"4\" valign=\"top\">XOne</th>\n",
              "      <th>2013</th>\n",
              "      <td>18.96</td>\n",
              "    </tr>\n",
              "    <tr>\n",
              "      <th>2014</th>\n",
              "      <td>54.07</td>\n",
              "    </tr>\n",
              "    <tr>\n",
              "      <th>2015</th>\n",
              "      <td>60.14</td>\n",
              "    </tr>\n",
              "    <tr>\n",
              "      <th>2016</th>\n",
              "      <td>26.15</td>\n",
              "    </tr>\n",
              "  </tbody>\n",
              "</table>\n",
              "</div>"
            ],
            "text/plain": [
              "                          total_sales\n",
              "platform year_of_release             \n",
              "3DS      2013                   56.57\n",
              "         2014                   43.76\n",
              "         2015                   27.78\n",
              "         2016                   15.14\n",
              "PS3      2013                  113.25\n",
              "         2014                   47.76\n",
              "         2015                   16.82\n",
              "         2016                    3.60\n",
              "PS4      2013                   25.99\n",
              "         2014                  100.00\n",
              "         2015                  118.90\n",
              "         2016                   69.25\n",
              "XOne     2013                   18.96\n",
              "         2014                   54.07\n",
              "         2015                   60.14\n",
              "         2016                   26.15"
            ]
          },
          "metadata": {},
          "output_type": "display_data"
        },
        {
          "data": {
            "image/png": "[encoded data removed]",
            "text/plain": [
              "<Figure size 864x576 with 1 Axes>"
            ]
          },
          "metadata": {},
          "output_type": "display_data"
        }
      ],
      "source": [
        "# сохраняем список топ 4 платформ по продажам игр\n",
        "\n",
        "top_actual_platform = actual_data.pivot_table(index='platform', values='total_sales', aggfunc='sum')\\\n",
        "                                     .sort_values(by='total_sales', ascending=False)\n",
        "top_actual_platform = list(top_actual_platform.index[:4])\n",
        "\n",
        "# для каждой платформы считаем количество проданных игр по годам\n",
        "\n",
        "actual_platform_data = actual_data.query('platform == @top_actual_platform')\n",
        "\n",
        "top_actual_platform_per_year = actual_platform_data.pivot_table(index=['platform', 'year_of_release'],\n",
        "                                                                values='total_sales',\n",
        "                                                                aggfunc='sum')\n",
        "\n",
        "display(top_actual_platform_per_year)\n",
        "\n",
        "sns.set_style('whitegrid')\n",
        "plt.figure(figsize=(12, 8))\n",
        "\n",
        "sns.lineplot(data=top_actual_platform_per_year,\n",
        "             x='year_of_release',\n",
        "             y='total_sales',\n",
        "             hue='platform')\n",
        "\n",
        "plt.title('Количество проданных игр по годам и платформам', size=18)\n",
        "plt.xlabel('Год', size=14)\n",
        "plt.ylabel('Продажи', size=14)\n",
        "plt.xticks(size=12)\n",
        "plt.yticks(size=12)\n",
        "plt.legend(prop={'size': 12})\n",
        "plt.gca().xaxis.set_major_locator(mticker.MultipleLocator(1))\n",
        "\n",
        "plt.show()"
      ]
    },
    {
      "cell_type": "markdown",
      "metadata": {
        "id": "HMk6XSFjB44s"
      },
      "source": [
        "**Вывод**\n",
        "\n",
        "В 2013 году лидером была PS3, затем c 2014 позиции поменялись и больше всего продаж у PS4, меньше всего у PS3."
      ]
    },
    {
      "cell_type": "markdown",
      "metadata": {
        "id": "AfcB3sGxB44u"
      },
      "source": [
        "### Распределение продаж игр по платформам"
      ]
    },
    {
      "cell_type": "code",
      "execution_count": null,
      "metadata": {
        "id": "__WUd2dyB44u",
        "outputId": "135976b6-6969-4a1f-a694-9b7af1ab99b7"
      },
      "outputs": [
        {
          "data": {
            "image/png": "[encoded data removed]",
            "text/plain": [
              "<Figure size 864x576 with 1 Axes>"
            ]
          },
          "metadata": {},
          "output_type": "display_data"
        }
      ],
      "source": [
        "#\n",
        "\n",
        "plt.figure(figsize=(12, 8))\n",
        "\n",
        "sns.boxplot(data=actual_platform_data,\n",
        "            x='platform',\n",
        "            y='total_sales')\n",
        "\n",
        "plt.title('Количество проданных игр по платформам', size=18)\n",
        "plt.xlabel('Платформа', size=14)\n",
        "plt.ylabel('Продажи', size=14)\n",
        "plt.xticks(size=12)\n",
        "plt.yticks(size=12)\n",
        "plt.ylim(0, 4)\n",
        "\n",
        "plt.show()"
      ]
    },
    {
      "cell_type": "markdown",
      "metadata": {
        "id": "Fn3q2lWKB44v"
      },
      "source": [
        "**Вывод**\n",
        "\n",
        "Медианное значение у PS4 и XOne почти одинаково высокое, что делает эти платформы прибыльными. У всех платформ есть большое количество аномалий, которые вызваны большой популярностью игр, их раздачей или тем, что они бесплатные. Верхние квартили у PS3 и 3DS меньше, потому что на них меньше происходят продажи."
      ]
    },
    {
      "cell_type": "markdown",
      "metadata": {
        "id": "6kTRNsooB44w"
      },
      "source": [
        "### Корреляция продаж и оценок"
      ]
    },
    {
      "cell_type": "code",
      "execution_count": null,
      "metadata": {
        "scrolled": false,
        "id": "RwPMWv50B44x",
        "outputId": "474d8dac-7a70-46c0-e9ec-48093d49c206"
      },
      "outputs": [
        {
          "data": {
            "image/png": "[encoded data removed]",
            "text/plain": [
              "<Figure size 720x288 with 2 Axes>"
            ]
          },
          "metadata": {},
          "output_type": "display_data"
        },
        {
          "name": "stdout",
          "output_type": "stream",
          "text": [
            "Корреляция продаж и оценки критиков на PS4 составляет: 0.40656790206178095\n",
            "Корреляция продаж и оценки пользователей на PS4 составляет: -0.031957110204556376\n"
          ]
        },
        {
          "data": {
            "image/png": "[encoded data removed]",
            "text/plain": [
              "<Figure size 720x288 with 2 Axes>"
            ]
          },
          "metadata": {},
          "output_type": "display_data"
        },
        {
          "name": "stdout",
          "output_type": "stream",
          "text": [
            "Корреляция продаж и оценки критиков на PS3 составляет: 0.3342853393371919\n",
            "Корреляция продаж и оценки пользователей на PS3 составляет: 0.0023944027357566925\n"
          ]
        },
        {
          "data": {
            "image/png": "[encoded data removed]",
            "text/plain": [
              "<Figure size 720x288 with 2 Axes>"
            ]
          },
          "metadata": {},
          "output_type": "display_data"
        },
        {
          "name": "stdout",
          "output_type": "stream",
          "text": [
            "Корреляция продаж и оценки критиков на XOne составляет: 0.4169983280084017\n",
            "Корреляция продаж и оценки пользователей на XOne составляет: -0.06892505328279414\n"
          ]
        },
        {
          "data": {
            "image/png": "[encoded data removed]",
            "text/plain": [
              "<Figure size 720x288 with 2 Axes>"
            ]
          },
          "metadata": {},
          "output_type": "display_data"
        },
        {
          "name": "stdout",
          "output_type": "stream",
          "text": [
            "Корреляция продаж и оценки критиков на 3DS составляет: 0.3570566142288103\n",
            "Корреляция продаж и оценки пользователей на 3DS составляет: 0.24150411773563016\n"
          ]
        }
      ],
      "source": [
        "for platform in top_actual_platform:\n",
        "    fig, ax = plt.subplots(1, 2, figsize=(10, 4))\n",
        "\n",
        "    sns.scatterplot(data=actual_platform_data.query('platform == @platform'),\n",
        "                    x='critic_score',\n",
        "                    y='total_sales',\n",
        "                    color='steelblue',\n",
        "                    ax=ax[0])\n",
        "    ax[0].set(title=f'Зависимость продаж от оценки критиков \\n на {platform}',\n",
        "              xlabel='Оценка критиков',\n",
        "              ylabel='Продажи')\n",
        "\n",
        "\n",
        "    sns.scatterplot(data=actual_platform_data.query('platform == @platform'),\n",
        "                    x='user_score',\n",
        "                    y='total_sales',\n",
        "                    color='steelblue',\n",
        "                    ax=ax[1])\n",
        "    ax[1].set(title=f'Зависимость продаж от оценки пользователей \\n на {platform}',\n",
        "              xlabel='Оценка пользователей',\n",
        "              ylabel='Продажи')\n",
        "\n",
        "    plt.show()\n",
        "\n",
        "    corr_data = actual_platform_data.query('platform == @platform')\n",
        "    print(f'Корреляция продаж и оценки критиков на {platform} составляет:',\\\n",
        "          corr_data['critic_score'].corr(corr_data['total_sales']))\n",
        "    print(f'Корреляция продаж и оценки пользователей на {platform} составляет:',\\\n",
        "          corr_data['user_score'].corr(corr_data['total_sales']))"
      ]
    },
    {
      "cell_type": "markdown",
      "metadata": {
        "id": "yXcwR56PB44x"
      },
      "source": [
        "**Вывод**\n",
        "\n",
        "Присутствует незначительная корреляция между оценками критиков и ростом продаж игр."
      ]
    },
    {
      "cell_type": "markdown",
      "metadata": {
        "id": "uKvAGh9rB44y"
      },
      "source": [
        "### Распределение проданных игр по жанрам"
      ]
    },
    {
      "cell_type": "code",
      "execution_count": null,
      "metadata": {
        "scrolled": false,
        "id": "Vu7RXmH-B44z",
        "outputId": "061ae112-b7bd-4a34-9714-9c0c8db31b90"
      },
      "outputs": [
        {
          "data": {
            "text/html": [
              "<div>\n",
              "<style scoped>\n",
              "    .dataframe tbody tr th:only-of-type {\n",
              "        vertical-align: middle;\n",
              "    }\n",
              "\n",
              "    .dataframe tbody tr th {\n",
              "        vertical-align: top;\n",
              "    }\n",
              "\n",
              "    .dataframe thead th {\n",
              "        text-align: right;\n",
              "    }\n",
              "</style>\n",
              "<table border=\"1\" class=\"dataframe\">\n",
              "  <thead>\n",
              "    <tr style=\"text-align: right;\">\n",
              "      <th></th>\n",
              "      <th>total_sales</th>\n",
              "    </tr>\n",
              "    <tr>\n",
              "      <th>genre</th>\n",
              "      <th></th>\n",
              "    </tr>\n",
              "  </thead>\n",
              "  <tbody>\n",
              "    <tr>\n",
              "      <th>Action</th>\n",
              "      <td>321.87</td>\n",
              "    </tr>\n",
              "    <tr>\n",
              "      <th>Shooter</th>\n",
              "      <td>232.98</td>\n",
              "    </tr>\n",
              "    <tr>\n",
              "      <th>Sports</th>\n",
              "      <td>150.65</td>\n",
              "    </tr>\n",
              "    <tr>\n",
              "      <th>Role-Playing</th>\n",
              "      <td>145.89</td>\n",
              "    </tr>\n",
              "    <tr>\n",
              "      <th>Misc</th>\n",
              "      <td>62.82</td>\n",
              "    </tr>\n",
              "    <tr>\n",
              "      <th>Platform</th>\n",
              "      <td>42.63</td>\n",
              "    </tr>\n",
              "    <tr>\n",
              "      <th>Racing</th>\n",
              "      <td>39.89</td>\n",
              "    </tr>\n",
              "    <tr>\n",
              "      <th>Fighting</th>\n",
              "      <td>35.31</td>\n",
              "    </tr>\n",
              "    <tr>\n",
              "      <th>Adventure</th>\n",
              "      <td>23.64</td>\n",
              "    </tr>\n",
              "    <tr>\n",
              "      <th>Simulation</th>\n",
              "      <td>21.76</td>\n",
              "    </tr>\n",
              "    <tr>\n",
              "      <th>Strategy</th>\n",
              "      <td>10.08</td>\n",
              "    </tr>\n",
              "    <tr>\n",
              "      <th>Puzzle</th>\n",
              "      <td>3.17</td>\n",
              "    </tr>\n",
              "  </tbody>\n",
              "</table>\n",
              "</div>"
            ],
            "text/plain": [
              "              total_sales\n",
              "genre                    \n",
              "Action             321.87\n",
              "Shooter            232.98\n",
              "Sports             150.65\n",
              "Role-Playing       145.89\n",
              "Misc                62.82\n",
              "Platform            42.63\n",
              "Racing              39.89\n",
              "Fighting            35.31\n",
              "Adventure           23.64\n",
              "Simulation          21.76\n",
              "Strategy            10.08\n",
              "Puzzle               3.17"
            ]
          },
          "metadata": {},
          "output_type": "display_data"
        },
        {
          "data": {
            "image/png": "[encoded data removed]",
            "text/plain": [
              "<Figure size 864x576 with 1 Axes>"
            ]
          },
          "metadata": {},
          "output_type": "display_data"
        }
      ],
      "source": [
        "# количество проданных игр по жанрам\n",
        "\n",
        "genre_pivot = actual_data.pivot_table(index='genre', values='total_sales', aggfunc='sum')\\\n",
        "                         .sort_values(by='total_sales', ascending=False)\n",
        "display(genre_pivot)\n",
        "genre_pivot.reset_index(inplace=True)\n",
        "\n",
        "plt.figure(figsize=(12, 8))\n",
        "\n",
        "sns.barplot(data=genre_pivot,\n",
        "            x='genre',\n",
        "            y='total_sales',\n",
        "            order=genre_pivot.sort_values(by='total_sales').genre,\n",
        "            palette='pastel')\n",
        "\n",
        "plt.title('Продажи игр по жанрам', size=18)\n",
        "plt.xlabel('Жанр', size=14)\n",
        "plt.ylabel('Продажи', size=14)\n",
        "plt.xticks(rotation=45, size=12)\n",
        "plt.yticks(size=12)\n",
        "\n",
        "plt.show()"
      ]
    },
    {
      "cell_type": "markdown",
      "metadata": {
        "id": "rV5fU3u1B44z"
      },
      "source": [
        "**Вывод**\n",
        "\n",
        "Самый продаваемый жанр - экшн, затем идут: шутер, спорт, ролевой."
      ]
    },
    {
      "cell_type": "code",
      "execution_count": null,
      "metadata": {
        "id": "Ywq-Eh5nB440",
        "outputId": "3518a249-f0bb-4e98-a674-deaacff1e571"
      },
      "outputs": [
        {
          "data": {
            "text/html": [
              "<div>\n",
              "<style scoped>\n",
              "    .dataframe tbody tr th:only-of-type {\n",
              "        vertical-align: middle;\n",
              "    }\n",
              "\n",
              "    .dataframe tbody tr th {\n",
              "        vertical-align: top;\n",
              "    }\n",
              "\n",
              "    .dataframe thead th {\n",
              "        text-align: right;\n",
              "    }\n",
              "</style>\n",
              "<table border=\"1\" class=\"dataframe\">\n",
              "  <thead>\n",
              "    <tr style=\"text-align: right;\">\n",
              "      <th></th>\n",
              "      <th></th>\n",
              "      <th>total_sales</th>\n",
              "    </tr>\n",
              "    <tr>\n",
              "      <th>genre</th>\n",
              "      <th>year_of_release</th>\n",
              "      <th></th>\n",
              "    </tr>\n",
              "  </thead>\n",
              "  <tbody>\n",
              "    <tr>\n",
              "      <th rowspan=\"4\" valign=\"top\">Action</th>\n",
              "      <th>2013</th>\n",
              "      <td>122.51</td>\n",
              "    </tr>\n",
              "    <tr>\n",
              "      <th>2014</th>\n",
              "      <td>97.23</td>\n",
              "    </tr>\n",
              "    <tr>\n",
              "      <th>2015</th>\n",
              "      <td>72.02</td>\n",
              "    </tr>\n",
              "    <tr>\n",
              "      <th>2016</th>\n",
              "      <td>30.11</td>\n",
              "    </tr>\n",
              "    <tr>\n",
              "      <th rowspan=\"4\" valign=\"top\">Role-Playing</th>\n",
              "      <th>2013</th>\n",
              "      <td>44.45</td>\n",
              "    </tr>\n",
              "    <tr>\n",
              "      <th>2014</th>\n",
              "      <td>45.62</td>\n",
              "    </tr>\n",
              "    <tr>\n",
              "      <th>2015</th>\n",
              "      <td>37.64</td>\n",
              "    </tr>\n",
              "    <tr>\n",
              "      <th>2016</th>\n",
              "      <td>18.18</td>\n",
              "    </tr>\n",
              "    <tr>\n",
              "      <th rowspan=\"4\" valign=\"top\">Shooter</th>\n",
              "      <th>2013</th>\n",
              "      <td>62.04</td>\n",
              "    </tr>\n",
              "    <tr>\n",
              "      <th>2014</th>\n",
              "      <td>65.21</td>\n",
              "    </tr>\n",
              "    <tr>\n",
              "      <th>2015</th>\n",
              "      <td>67.51</td>\n",
              "    </tr>\n",
              "    <tr>\n",
              "      <th>2016</th>\n",
              "      <td>38.22</td>\n",
              "    </tr>\n",
              "    <tr>\n",
              "      <th rowspan=\"4\" valign=\"top\">Sports</th>\n",
              "      <th>2013</th>\n",
              "      <td>41.17</td>\n",
              "    </tr>\n",
              "    <tr>\n",
              "      <th>2014</th>\n",
              "      <td>45.15</td>\n",
              "    </tr>\n",
              "    <tr>\n",
              "      <th>2015</th>\n",
              "      <td>40.84</td>\n",
              "    </tr>\n",
              "    <tr>\n",
              "      <th>2016</th>\n",
              "      <td>23.49</td>\n",
              "    </tr>\n",
              "  </tbody>\n",
              "</table>\n",
              "</div>"
            ],
            "text/plain": [
              "                              total_sales\n",
              "genre        year_of_release             \n",
              "Action       2013                  122.51\n",
              "             2014                   97.23\n",
              "             2015                   72.02\n",
              "             2016                   30.11\n",
              "Role-Playing 2013                   44.45\n",
              "             2014                   45.62\n",
              "             2015                   37.64\n",
              "             2016                   18.18\n",
              "Shooter      2013                   62.04\n",
              "             2014                   65.21\n",
              "             2015                   67.51\n",
              "             2016                   38.22\n",
              "Sports       2013                   41.17\n",
              "             2014                   45.15\n",
              "             2015                   40.84\n",
              "             2016                   23.49"
            ]
          },
          "metadata": {},
          "output_type": "display_data"
        },
        {
          "data": {
            "image/png": "[encoded data removed]",
            "text/plain": [
              "<Figure size 864x576 with 1 Axes>"
            ]
          },
          "metadata": {},
          "output_type": "display_data"
        }
      ],
      "source": [
        "top_genre = actual_data.pivot_table(index='genre', values='total_sales', aggfunc='sum')\\\n",
        "                                     .sort_values(by='total_sales', ascending=False)\n",
        "top_genre = list(top_genre.index[:4])\n",
        "\n",
        "# количество проданных игр по годам среди самых популярных жанров\n",
        "\n",
        "genre_data = actual_data.query('genre == @top_genre')\n",
        "\n",
        "top_actual_genre_per_year = genre_data.pivot_table(index=['genre', 'year_of_release'],\n",
        "                                                   values='total_sales',\n",
        "                                                   aggfunc='sum')\n",
        "\n",
        "display(top_actual_genre_per_year)\n",
        "\n",
        "\n",
        "plt.figure(figsize=(12, 8))\n",
        "\n",
        "sns.lineplot(data=top_actual_genre_per_year,\n",
        "             x='year_of_release',\n",
        "             y='total_sales',\n",
        "             hue='genre')\n",
        "\n",
        "plt.title('Количество проданных игр по годам и жанрам', size=18)\n",
        "plt.xlabel('Год', size=14)\n",
        "plt.ylabel('Продажи', size=14)\n",
        "plt.xticks(size=12)\n",
        "plt.yticks(size=12)\n",
        "plt.legend(prop={'size': 12})\n",
        "plt.gca().xaxis.set_major_locator(mticker.MultipleLocator(1))\n",
        "\n",
        "plt.show()"
      ]
    },
    {
      "cell_type": "markdown",
      "metadata": {
        "id": "AndBIa9EB440"
      },
      "source": [
        "**Вывод**\n",
        "\n",
        "До 2015 года самый прибыльный жанр был экшн, в 2016 почти у всех жанров происходит одинаковое снижение."
      ]
    },
    {
      "cell_type": "code",
      "execution_count": null,
      "metadata": {
        "scrolled": false,
        "id": "uMs1ps-VB440",
        "outputId": "9decc55a-fe13-4c8e-8f8c-1da7159291fa"
      },
      "outputs": [
        {
          "data": {
            "text/html": [
              "<div>\n",
              "<style scoped>\n",
              "    .dataframe tbody tr th:only-of-type {\n",
              "        vertical-align: middle;\n",
              "    }\n",
              "\n",
              "    .dataframe tbody tr th {\n",
              "        vertical-align: top;\n",
              "    }\n",
              "\n",
              "    .dataframe thead th {\n",
              "        text-align: right;\n",
              "    }\n",
              "</style>\n",
              "<table border=\"1\" class=\"dataframe\">\n",
              "  <thead>\n",
              "    <tr style=\"text-align: right;\">\n",
              "      <th></th>\n",
              "      <th></th>\n",
              "      <th>total_sales</th>\n",
              "    </tr>\n",
              "    <tr>\n",
              "      <th>platform</th>\n",
              "      <th>genre</th>\n",
              "      <th></th>\n",
              "    </tr>\n",
              "  </thead>\n",
              "  <tbody>\n",
              "    <tr>\n",
              "      <th rowspan=\"4\" valign=\"top\">3DS</th>\n",
              "      <th>Action</th>\n",
              "      <td>34.04</td>\n",
              "    </tr>\n",
              "    <tr>\n",
              "      <th>Role-Playing</th>\n",
              "      <td>67.37</td>\n",
              "    </tr>\n",
              "    <tr>\n",
              "      <th>Shooter</th>\n",
              "      <td>0.06</td>\n",
              "    </tr>\n",
              "    <tr>\n",
              "      <th>Sports</th>\n",
              "      <td>1.82</td>\n",
              "    </tr>\n",
              "    <tr>\n",
              "      <th rowspan=\"4\" valign=\"top\">PS3</th>\n",
              "      <th>Action</th>\n",
              "      <td>70.92</td>\n",
              "    </tr>\n",
              "    <tr>\n",
              "      <th>Role-Playing</th>\n",
              "      <td>16.49</td>\n",
              "    </tr>\n",
              "    <tr>\n",
              "      <th>Shooter</th>\n",
              "      <td>31.79</td>\n",
              "    </tr>\n",
              "    <tr>\n",
              "      <th>Sports</th>\n",
              "      <td>32.35</td>\n",
              "    </tr>\n",
              "    <tr>\n",
              "      <th rowspan=\"4\" valign=\"top\">PS4</th>\n",
              "      <th>Action</th>\n",
              "      <td>96.10</td>\n",
              "    </tr>\n",
              "    <tr>\n",
              "      <th>Role-Playing</th>\n",
              "      <td>28.99</td>\n",
              "    </tr>\n",
              "    <tr>\n",
              "      <th>Shooter</th>\n",
              "      <td>88.56</td>\n",
              "    </tr>\n",
              "    <tr>\n",
              "      <th>Sports</th>\n",
              "      <td>55.61</td>\n",
              "    </tr>\n",
              "    <tr>\n",
              "      <th rowspan=\"4\" valign=\"top\">XOne</th>\n",
              "      <th>Action</th>\n",
              "      <td>37.31</td>\n",
              "    </tr>\n",
              "    <tr>\n",
              "      <th>Role-Playing</th>\n",
              "      <td>10.55</td>\n",
              "    </tr>\n",
              "    <tr>\n",
              "      <th>Shooter</th>\n",
              "      <td>60.33</td>\n",
              "    </tr>\n",
              "    <tr>\n",
              "      <th>Sports</th>\n",
              "      <td>26.74</td>\n",
              "    </tr>\n",
              "  </tbody>\n",
              "</table>\n",
              "</div>"
            ],
            "text/plain": [
              "                       total_sales\n",
              "platform genre                    \n",
              "3DS      Action              34.04\n",
              "         Role-Playing        67.37\n",
              "         Shooter              0.06\n",
              "         Sports               1.82\n",
              "PS3      Action              70.92\n",
              "         Role-Playing        16.49\n",
              "         Shooter             31.79\n",
              "         Sports              32.35\n",
              "PS4      Action              96.10\n",
              "         Role-Playing        28.99\n",
              "         Shooter             88.56\n",
              "         Sports              55.61\n",
              "XOne     Action              37.31\n",
              "         Role-Playing        10.55\n",
              "         Shooter             60.33\n",
              "         Sports              26.74"
            ]
          },
          "metadata": {},
          "output_type": "display_data"
        },
        {
          "data": {
            "image/png": "[encoded data removed]",
            "text/plain": [
              "<Figure size 864x576 with 1 Axes>"
            ]
          },
          "metadata": {},
          "output_type": "display_data"
        }
      ],
      "source": [
        "genre_per_platform = actual_data.query('genre == @top_genre')\n",
        "genre_per_platform = genre_per_platform.query('platform == @top_actual_platform')\n",
        "\n",
        "genre_per_platform = genre_per_platform.pivot_table(index=['platform', 'genre'], values='total_sales', aggfunc='sum')\n",
        "display(genre_per_platform)\n",
        "genre_per_platform.reset_index(inplace=True)\n",
        "\n",
        "\n",
        "plt.figure(figsize=(12, 8))\n",
        "\n",
        "sns.barplot(data=genre_per_platform,\n",
        "            x='platform',\n",
        "            y='total_sales',\n",
        "            hue='genre')\n",
        "\n",
        "plt.title('Количество проданных игр по жанрам и платформам', size=18)\n",
        "plt.xlabel('Платформа', size=14)\n",
        "plt.ylabel('Продажи', size=14)\n",
        "plt.xticks(size=12)\n",
        "plt.yticks(size=12)\n",
        "plt.legend(prop={'size': 12})\n",
        "\n",
        "plt.show()"
      ]
    },
    {
      "cell_type": "code",
      "execution_count": null,
      "metadata": {
        "id": "OUwEITvMB441",
        "outputId": "83cb41ba-8988-46f5-97a1-b82d94787936"
      },
      "outputs": [
        {
          "data": {
            "text/html": [
              "<div>\n",
              "<style scoped>\n",
              "    .dataframe tbody tr th:only-of-type {\n",
              "        vertical-align: middle;\n",
              "    }\n",
              "\n",
              "    .dataframe tbody tr th {\n",
              "        vertical-align: top;\n",
              "    }\n",
              "\n",
              "    .dataframe thead th {\n",
              "        text-align: right;\n",
              "    }\n",
              "</style>\n",
              "<table border=\"1\" class=\"dataframe\">\n",
              "  <thead>\n",
              "    <tr style=\"text-align: right;\">\n",
              "      <th></th>\n",
              "      <th></th>\n",
              "      <th>total_sales</th>\n",
              "    </tr>\n",
              "    <tr>\n",
              "      <th>platform</th>\n",
              "      <th>genre</th>\n",
              "      <th></th>\n",
              "    </tr>\n",
              "  </thead>\n",
              "  <tbody>\n",
              "    <tr>\n",
              "      <th rowspan=\"4\" valign=\"top\">3DS</th>\n",
              "      <th>Action</th>\n",
              "      <td>0.293448</td>\n",
              "    </tr>\n",
              "    <tr>\n",
              "      <th>Role-Playing</th>\n",
              "      <td>1.086613</td>\n",
              "    </tr>\n",
              "    <tr>\n",
              "      <th>Shooter</th>\n",
              "      <td>0.060000</td>\n",
              "    </tr>\n",
              "    <tr>\n",
              "      <th>Sports</th>\n",
              "      <td>0.227500</td>\n",
              "    </tr>\n",
              "    <tr>\n",
              "      <th rowspan=\"4\" valign=\"top\">PS3</th>\n",
              "      <th>Action</th>\n",
              "      <td>0.622105</td>\n",
              "    </tr>\n",
              "    <tr>\n",
              "      <th>Role-Playing</th>\n",
              "      <td>0.336531</td>\n",
              "    </tr>\n",
              "    <tr>\n",
              "      <th>Shooter</th>\n",
              "      <td>1.025484</td>\n",
              "    </tr>\n",
              "    <tr>\n",
              "      <th>Sports</th>\n",
              "      <td>0.688298</td>\n",
              "    </tr>\n",
              "    <tr>\n",
              "      <th rowspan=\"4\" valign=\"top\">PS4</th>\n",
              "      <th>Action</th>\n",
              "      <td>0.667361</td>\n",
              "    </tr>\n",
              "    <tr>\n",
              "      <th>Role-Playing</th>\n",
              "      <td>0.568431</td>\n",
              "    </tr>\n",
              "    <tr>\n",
              "      <th>Shooter</th>\n",
              "      <td>2.160000</td>\n",
              "    </tr>\n",
              "    <tr>\n",
              "      <th>Sports</th>\n",
              "      <td>1.208913</td>\n",
              "    </tr>\n",
              "    <tr>\n",
              "      <th rowspan=\"4\" valign=\"top\">XOne</th>\n",
              "      <th>Action</th>\n",
              "      <td>0.438941</td>\n",
              "    </tr>\n",
              "    <tr>\n",
              "      <th>Role-Playing</th>\n",
              "      <td>0.753571</td>\n",
              "    </tr>\n",
              "    <tr>\n",
              "      <th>Shooter</th>\n",
              "      <td>1.587632</td>\n",
              "    </tr>\n",
              "    <tr>\n",
              "      <th>Sports</th>\n",
              "      <td>0.703684</td>\n",
              "    </tr>\n",
              "  </tbody>\n",
              "</table>\n",
              "</div>"
            ],
            "text/plain": [
              "                       total_sales\n",
              "platform genre                    \n",
              "3DS      Action           0.293448\n",
              "         Role-Playing     1.086613\n",
              "         Shooter          0.060000\n",
              "         Sports           0.227500\n",
              "PS3      Action           0.622105\n",
              "         Role-Playing     0.336531\n",
              "         Shooter          1.025484\n",
              "         Sports           0.688298\n",
              "PS4      Action           0.667361\n",
              "         Role-Playing     0.568431\n",
              "         Shooter          2.160000\n",
              "         Sports           1.208913\n",
              "XOne     Action           0.438941\n",
              "         Role-Playing     0.753571\n",
              "         Shooter          1.587632\n",
              "         Sports           0.703684"
            ]
          },
          "metadata": {},
          "output_type": "display_data"
        },
        {
          "data": {
            "image/png": "[encoded data removed]",
            "text/plain": [
              "<Figure size 864x576 with 1 Axes>"
            ]
          },
          "metadata": {},
          "output_type": "display_data"
        }
      ],
      "source": [
        "genre_per_platform = actual_data.query('genre == @top_genre')\n",
        "genre_per_platform = genre_per_platform.query('platform == @top_actual_platform')\n",
        "\n",
        "genre_per_platform = genre_per_platform.pivot_table(index=['platform', 'genre'], values='total_sales', aggfunc='mean')\n",
        "display(genre_per_platform)\n",
        "genre_per_platform.reset_index(inplace=True)\n",
        "\n",
        "\n",
        "plt.figure(figsize=(12, 8))\n",
        "\n",
        "sns.barplot(data=genre_per_platform,\n",
        "            x='platform',\n",
        "            y='total_sales',\n",
        "            hue='genre')\n",
        "\n",
        "plt.title('Среднее количество проданных игр по жанрам и платформам', size=18)\n",
        "plt.xlabel('Платформа', size=14)\n",
        "plt.ylabel('Продажи', size=14)\n",
        "plt.xticks(size=12)\n",
        "plt.yticks(size=12)\n",
        "plt.legend(prop={'size': 12})\n",
        "\n",
        "plt.show()"
      ]
    },
    {
      "cell_type": "code",
      "execution_count": null,
      "metadata": {
        "id": "jbJsIuCiB441",
        "outputId": "bed1f433-bc15-4fc1-c164-1fb4f31c4684"
      },
      "outputs": [
        {
          "data": {
            "text/html": [
              "<div>\n",
              "<style scoped>\n",
              "    .dataframe tbody tr th:only-of-type {\n",
              "        vertical-align: middle;\n",
              "    }\n",
              "\n",
              "    .dataframe tbody tr th {\n",
              "        vertical-align: top;\n",
              "    }\n",
              "\n",
              "    .dataframe thead th {\n",
              "        text-align: right;\n",
              "    }\n",
              "</style>\n",
              "<table border=\"1\" class=\"dataframe\">\n",
              "  <thead>\n",
              "    <tr style=\"text-align: right;\">\n",
              "      <th></th>\n",
              "      <th></th>\n",
              "      <th>total_sales</th>\n",
              "    </tr>\n",
              "    <tr>\n",
              "      <th>platform</th>\n",
              "      <th>genre</th>\n",
              "      <th></th>\n",
              "    </tr>\n",
              "  </thead>\n",
              "  <tbody>\n",
              "    <tr>\n",
              "      <th rowspan=\"4\" valign=\"top\">3DS</th>\n",
              "      <th>Action</th>\n",
              "      <td>0.070</td>\n",
              "    </tr>\n",
              "    <tr>\n",
              "      <th>Role-Playing</th>\n",
              "      <td>0.175</td>\n",
              "    </tr>\n",
              "    <tr>\n",
              "      <th>Shooter</th>\n",
              "      <td>0.060</td>\n",
              "    </tr>\n",
              "    <tr>\n",
              "      <th>Sports</th>\n",
              "      <td>0.185</td>\n",
              "    </tr>\n",
              "    <tr>\n",
              "      <th rowspan=\"4\" valign=\"top\">PS3</th>\n",
              "      <th>Action</th>\n",
              "      <td>0.165</td>\n",
              "    </tr>\n",
              "    <tr>\n",
              "      <th>Role-Playing</th>\n",
              "      <td>0.120</td>\n",
              "    </tr>\n",
              "    <tr>\n",
              "      <th>Shooter</th>\n",
              "      <td>0.410</td>\n",
              "    </tr>\n",
              "    <tr>\n",
              "      <th>Sports</th>\n",
              "      <td>0.260</td>\n",
              "    </tr>\n",
              "    <tr>\n",
              "      <th rowspan=\"4\" valign=\"top\">PS4</th>\n",
              "      <th>Action</th>\n",
              "      <td>0.155</td>\n",
              "    </tr>\n",
              "    <tr>\n",
              "      <th>Role-Playing</th>\n",
              "      <td>0.200</td>\n",
              "    </tr>\n",
              "    <tr>\n",
              "      <th>Shooter</th>\n",
              "      <td>0.970</td>\n",
              "    </tr>\n",
              "    <tr>\n",
              "      <th>Sports</th>\n",
              "      <td>0.525</td>\n",
              "    </tr>\n",
              "    <tr>\n",
              "      <th rowspan=\"4\" valign=\"top\">XOne</th>\n",
              "      <th>Action</th>\n",
              "      <td>0.150</td>\n",
              "    </tr>\n",
              "    <tr>\n",
              "      <th>Role-Playing</th>\n",
              "      <td>0.320</td>\n",
              "    </tr>\n",
              "    <tr>\n",
              "      <th>Shooter</th>\n",
              "      <td>1.095</td>\n",
              "    </tr>\n",
              "    <tr>\n",
              "      <th>Sports</th>\n",
              "      <td>0.335</td>\n",
              "    </tr>\n",
              "  </tbody>\n",
              "</table>\n",
              "</div>"
            ],
            "text/plain": [
              "                       total_sales\n",
              "platform genre                    \n",
              "3DS      Action              0.070\n",
              "         Role-Playing        0.175\n",
              "         Shooter             0.060\n",
              "         Sports              0.185\n",
              "PS3      Action              0.165\n",
              "         Role-Playing        0.120\n",
              "         Shooter             0.410\n",
              "         Sports              0.260\n",
              "PS4      Action              0.155\n",
              "         Role-Playing        0.200\n",
              "         Shooter             0.970\n",
              "         Sports              0.525\n",
              "XOne     Action              0.150\n",
              "         Role-Playing        0.320\n",
              "         Shooter             1.095\n",
              "         Sports              0.335"
            ]
          },
          "metadata": {},
          "output_type": "display_data"
        },
        {
          "data": {
            "image/png": "[encoded data removed]",
            "text/plain": [
              "<Figure size 864x576 with 1 Axes>"
            ]
          },
          "metadata": {},
          "output_type": "display_data"
        }
      ],
      "source": [
        "genre_per_platform = actual_data.query('genre == @top_genre')\n",
        "genre_per_platform = genre_per_platform.query('platform == @top_actual_platform')\n",
        "\n",
        "genre_per_platform = genre_per_platform.pivot_table(index=['platform', 'genre'], values='total_sales', aggfunc='median')\n",
        "display(genre_per_platform)\n",
        "genre_per_platform.reset_index(inplace=True)\n",
        "\n",
        "\n",
        "plt.figure(figsize=(12, 8))\n",
        "\n",
        "sns.barplot(data=genre_per_platform,\n",
        "            x='platform',\n",
        "            y='total_sales',\n",
        "            hue='genre')\n",
        "\n",
        "plt.title('Медианное количество проданных игр по жанрам и платформам', size=18)\n",
        "plt.xlabel('Платформа', size=14)\n",
        "plt.ylabel('Продажи', size=14)\n",
        "plt.xticks(size=12)\n",
        "plt.yticks(size=12)\n",
        "plt.legend(prop={'size': 12})\n",
        "\n",
        "plt.show()"
      ]
    },
    {
      "cell_type": "markdown",
      "metadata": {
        "id": "SmE9IGHSB442"
      },
      "source": [
        "**Вывод**\n",
        "\n",
        "Лидером продаж почти на всех платформах является экшн. Меньше всего продаж у role-playing, кроме платформы 3DS, возможно, она предназначена именно для этого жанра, поскольку на ней нет игр в жанре шутер и почти отсутствуют спортивные игры.\n",
        "\n",
        "Среднее и медианное значение больше всего у шутеров, в этом жанре не было аномально популярных игр. Остальные жанры имеют примерно одинаковое распределение."
      ]
    },
    {
      "cell_type": "markdown",
      "metadata": {
        "id": "Sz3SjKGnB443"
      },
      "source": [
        "**Вывод**\n",
        "\n",
        "- Больше всего выпущено игр было в 2008 году\n",
        "- Проданных игр больше всего на PS2\n",
        "- Актуальный период для анализа 2013-2016\n",
        "- Наибольшее количество проданных игр в актуальный период - PS4\n",
        "- Самые прибыльные платформы в актуальный период - PS4 и XOne\n",
        "- Есть небольшая положительная зависимость проданных игр и оценки критиков на PS4 и XOne\n",
        "- Самый прибыльный жанр - Action\n",
        "- В жанре шутер меньше всего было аномальных значений"
      ]
    },
    {
      "cell_type": "markdown",
      "metadata": {
        "id": "OzRWN6COB443"
      },
      "source": [
        "## Портрет пользователя каждого региона"
      ]
    },
    {
      "cell_type": "markdown",
      "metadata": {
        "id": "K6SJAuxYB443"
      },
      "source": [
        "### Самые популярные платформы в регионах"
      ]
    },
    {
      "cell_type": "code",
      "execution_count": null,
      "metadata": {
        "scrolled": false,
        "id": "-gFtn9XLB444",
        "outputId": "1b5f57a5-0674-44a1-ed5f-7d698f35e46b"
      },
      "outputs": [
        {
          "data": {
            "text/html": [
              "<div>\n",
              "<style scoped>\n",
              "    .dataframe tbody tr th:only-of-type {\n",
              "        vertical-align: middle;\n",
              "    }\n",
              "\n",
              "    .dataframe tbody tr th {\n",
              "        vertical-align: top;\n",
              "    }\n",
              "\n",
              "    .dataframe thead th {\n",
              "        text-align: right;\n",
              "    }\n",
              "</style>\n",
              "<table border=\"1\" class=\"dataframe\">\n",
              "  <thead>\n",
              "    <tr style=\"text-align: right;\">\n",
              "      <th></th>\n",
              "      <th>na_sales</th>\n",
              "    </tr>\n",
              "    <tr>\n",
              "      <th>platform</th>\n",
              "      <th></th>\n",
              "    </tr>\n",
              "  </thead>\n",
              "  <tbody>\n",
              "    <tr>\n",
              "      <th>PS4</th>\n",
              "      <td>108.74</td>\n",
              "    </tr>\n",
              "    <tr>\n",
              "      <th>XOne</th>\n",
              "      <td>93.12</td>\n",
              "    </tr>\n",
              "    <tr>\n",
              "      <th>X360</th>\n",
              "      <td>81.66</td>\n",
              "    </tr>\n",
              "    <tr>\n",
              "      <th>PS3</th>\n",
              "      <td>63.50</td>\n",
              "    </tr>\n",
              "  </tbody>\n",
              "</table>\n",
              "</div>"
            ],
            "text/plain": [
              "          na_sales\n",
              "platform          \n",
              "PS4         108.74\n",
              "XOne         93.12\n",
              "X360         81.66\n",
              "PS3          63.50"
            ]
          },
          "metadata": {},
          "output_type": "display_data"
        },
        {
          "data": {
            "text/html": [
              "<div>\n",
              "<style scoped>\n",
              "    .dataframe tbody tr th:only-of-type {\n",
              "        vertical-align: middle;\n",
              "    }\n",
              "\n",
              "    .dataframe tbody tr th {\n",
              "        vertical-align: top;\n",
              "    }\n",
              "\n",
              "    .dataframe thead th {\n",
              "        text-align: right;\n",
              "    }\n",
              "</style>\n",
              "<table border=\"1\" class=\"dataframe\">\n",
              "  <thead>\n",
              "    <tr style=\"text-align: right;\">\n",
              "      <th></th>\n",
              "      <th>eu_sales</th>\n",
              "    </tr>\n",
              "    <tr>\n",
              "      <th>platform</th>\n",
              "      <th></th>\n",
              "    </tr>\n",
              "  </thead>\n",
              "  <tbody>\n",
              "    <tr>\n",
              "      <th>PS4</th>\n",
              "      <td>141.09</td>\n",
              "    </tr>\n",
              "    <tr>\n",
              "      <th>PS3</th>\n",
              "      <td>67.81</td>\n",
              "    </tr>\n",
              "    <tr>\n",
              "      <th>XOne</th>\n",
              "      <td>51.59</td>\n",
              "    </tr>\n",
              "    <tr>\n",
              "      <th>X360</th>\n",
              "      <td>42.52</td>\n",
              "    </tr>\n",
              "  </tbody>\n",
              "</table>\n",
              "</div>"
            ],
            "text/plain": [
              "          eu_sales\n",
              "platform          \n",
              "PS4         141.09\n",
              "PS3          67.81\n",
              "XOne         51.59\n",
              "X360         42.52"
            ]
          },
          "metadata": {},
          "output_type": "display_data"
        },
        {
          "data": {
            "text/html": [
              "<div>\n",
              "<style scoped>\n",
              "    .dataframe tbody tr th:only-of-type {\n",
              "        vertical-align: middle;\n",
              "    }\n",
              "\n",
              "    .dataframe tbody tr th {\n",
              "        vertical-align: top;\n",
              "    }\n",
              "\n",
              "    .dataframe thead th {\n",
              "        text-align: right;\n",
              "    }\n",
              "</style>\n",
              "<table border=\"1\" class=\"dataframe\">\n",
              "  <thead>\n",
              "    <tr style=\"text-align: right;\">\n",
              "      <th></th>\n",
              "      <th>jp_sales</th>\n",
              "    </tr>\n",
              "    <tr>\n",
              "      <th>platform</th>\n",
              "      <th></th>\n",
              "    </tr>\n",
              "  </thead>\n",
              "  <tbody>\n",
              "    <tr>\n",
              "      <th>3DS</th>\n",
              "      <td>67.81</td>\n",
              "    </tr>\n",
              "    <tr>\n",
              "      <th>PS3</th>\n",
              "      <td>23.35</td>\n",
              "    </tr>\n",
              "    <tr>\n",
              "      <th>PSV</th>\n",
              "      <td>18.59</td>\n",
              "    </tr>\n",
              "    <tr>\n",
              "      <th>PS4</th>\n",
              "      <td>15.96</td>\n",
              "    </tr>\n",
              "  </tbody>\n",
              "</table>\n",
              "</div>"
            ],
            "text/plain": [
              "          jp_sales\n",
              "platform          \n",
              "3DS          67.81\n",
              "PS3          23.35\n",
              "PSV          18.59\n",
              "PS4          15.96"
            ]
          },
          "metadata": {},
          "output_type": "display_data"
        },
        {
          "data": {
            "image/png": "[encoded data removed]",
            "text/plain": [
              "<Figure size 1296x432 with 3 Axes>"
            ]
          },
          "metadata": {},
          "output_type": "display_data"
        }
      ],
      "source": [
        "# отбираем топ 4 платформы по продажам в Северной Америке\n",
        "\n",
        "na_user = actual_data.pivot_table(index='platform', values='na_sales', aggfunc='sum')\\\n",
        "                     .sort_values(by='na_sales', ascending=False)\n",
        "na_user = na_user.iloc[[0, 1, 2, 3]]\n",
        "display(na_user)\n",
        "na_user.reset_index(inplace=True)\n",
        "\n",
        "# повторяем то же самое для других регионов\n",
        "\n",
        "eu_user = actual_data.pivot_table(index='platform', values='eu_sales', aggfunc='sum')\\\n",
        "                     .sort_values(by='eu_sales', ascending=False)\n",
        "eu_user = eu_user.iloc[[0, 1, 2, 3]]\n",
        "display(eu_user)\n",
        "eu_user.reset_index(inplace=True)\n",
        "\n",
        "\n",
        "jp_user = actual_data.pivot_table(index='platform', values='jp_sales', aggfunc='sum')\\\n",
        "                     .sort_values(by='jp_sales', ascending=False)\n",
        "jp_user = jp_user.iloc[[0, 1, 2, 3]]\n",
        "display(jp_user)\n",
        "jp_user.reset_index(inplace=True)\n",
        "\n",
        "\n",
        "fig, ax = plt.subplots(1, 3, figsize=(18, 6))\n",
        "ymin, ymax = 0, 150\n",
        "\n",
        "sns.barplot(data=na_user,\n",
        "            x='platform',\n",
        "            y='na_sales',\n",
        "            color='steelblue',\n",
        "            order=na_user.sort_values(by='na_sales').platform,\n",
        "            ax=ax[0])\n",
        "ax[0].set_ylim(ymin, ymax)\n",
        "ax[0].set(title='Продажи на популярных платформах \\n в Северной Америке',\n",
        "          xlabel='Платформа',\n",
        "          ylabel='Продажи')\n",
        "\n",
        "sns.barplot(data=eu_user,\n",
        "            x='platform',\n",
        "            y='eu_sales',\n",
        "            color='steelblue',\n",
        "            order=eu_user.sort_values(by='eu_sales').platform,\n",
        "            ax=ax[1])\n",
        "ax[1].set_ylim(ymin, ymax)\n",
        "ax[1].set(title='Продажи на популярных платформах \\n в Европе',\n",
        "          xlabel='Платформа',\n",
        "          ylabel='Продажи')\n",
        "\n",
        "sns.barplot(data=jp_user,\n",
        "            x='platform',\n",
        "            y='jp_sales',\n",
        "            color='steelblue',\n",
        "            order=jp_user.sort_values(by='jp_sales').platform,\n",
        "            ax=ax[2])\n",
        "ax[2].set_ylim(ymin, ymax)\n",
        "ax[2].set(title='Продажи на популярных платформах \\n в Японии',\n",
        "          xlabel='Платформа',\n",
        "          ylabel='Продажи')\n",
        "\n",
        "plt.show()"
      ]
    },
    {
      "cell_type": "markdown",
      "metadata": {
        "id": "_RJszachB444"
      },
      "source": [
        "**Вывод**\n",
        "\n",
        "Лидером в СА и Европе по-прежнему является PS4. В Японии спросом пользуется 3DS, это может быть связано с целевой аудиторией и типом выпускаемых на неё игр."
      ]
    },
    {
      "cell_type": "code",
      "execution_count": null,
      "metadata": {
        "id": "mhDq6OTtB445",
        "outputId": "14cf0296-b048-43de-db94-a2a1cf44c42f"
      },
      "outputs": [
        {
          "data": {
            "text/html": [
              "<div>\n",
              "<style scoped>\n",
              "    .dataframe tbody tr th:only-of-type {\n",
              "        vertical-align: middle;\n",
              "    }\n",
              "\n",
              "    .dataframe tbody tr th {\n",
              "        vertical-align: top;\n",
              "    }\n",
              "\n",
              "    .dataframe thead th {\n",
              "        text-align: right;\n",
              "    }\n",
              "</style>\n",
              "<table border=\"1\" class=\"dataframe\">\n",
              "  <thead>\n",
              "    <tr style=\"text-align: right;\">\n",
              "      <th></th>\n",
              "      <th>na_sales</th>\n",
              "    </tr>\n",
              "    <tr>\n",
              "      <th>genre</th>\n",
              "      <th></th>\n",
              "    </tr>\n",
              "  </thead>\n",
              "  <tbody>\n",
              "    <tr>\n",
              "      <th>Action</th>\n",
              "      <td>126.05</td>\n",
              "    </tr>\n",
              "    <tr>\n",
              "      <th>Shooter</th>\n",
              "      <td>109.74</td>\n",
              "    </tr>\n",
              "    <tr>\n",
              "      <th>Sports</th>\n",
              "      <td>65.27</td>\n",
              "    </tr>\n",
              "    <tr>\n",
              "      <th>Role-Playing</th>\n",
              "      <td>46.40</td>\n",
              "    </tr>\n",
              "  </tbody>\n",
              "</table>\n",
              "</div>"
            ],
            "text/plain": [
              "              na_sales\n",
              "genre                 \n",
              "Action          126.05\n",
              "Shooter         109.74\n",
              "Sports           65.27\n",
              "Role-Playing     46.40"
            ]
          },
          "metadata": {},
          "output_type": "display_data"
        },
        {
          "data": {
            "text/html": [
              "<div>\n",
              "<style scoped>\n",
              "    .dataframe tbody tr th:only-of-type {\n",
              "        vertical-align: middle;\n",
              "    }\n",
              "\n",
              "    .dataframe tbody tr th {\n",
              "        vertical-align: top;\n",
              "    }\n",
              "\n",
              "    .dataframe thead th {\n",
              "        text-align: right;\n",
              "    }\n",
              "</style>\n",
              "<table border=\"1\" class=\"dataframe\">\n",
              "  <thead>\n",
              "    <tr style=\"text-align: right;\">\n",
              "      <th></th>\n",
              "      <th>eu_sales</th>\n",
              "    </tr>\n",
              "    <tr>\n",
              "      <th>genre</th>\n",
              "      <th></th>\n",
              "    </tr>\n",
              "  </thead>\n",
              "  <tbody>\n",
              "    <tr>\n",
              "      <th>Action</th>\n",
              "      <td>118.13</td>\n",
              "    </tr>\n",
              "    <tr>\n",
              "      <th>Shooter</th>\n",
              "      <td>87.86</td>\n",
              "    </tr>\n",
              "    <tr>\n",
              "      <th>Sports</th>\n",
              "      <td>60.52</td>\n",
              "    </tr>\n",
              "    <tr>\n",
              "      <th>Role-Playing</th>\n",
              "      <td>36.97</td>\n",
              "    </tr>\n",
              "  </tbody>\n",
              "</table>\n",
              "</div>"
            ],
            "text/plain": [
              "              eu_sales\n",
              "genre                 \n",
              "Action          118.13\n",
              "Shooter          87.86\n",
              "Sports           60.52\n",
              "Role-Playing     36.97"
            ]
          },
          "metadata": {},
          "output_type": "display_data"
        },
        {
          "data": {
            "text/html": [
              "<div>\n",
              "<style scoped>\n",
              "    .dataframe tbody tr th:only-of-type {\n",
              "        vertical-align: middle;\n",
              "    }\n",
              "\n",
              "    .dataframe tbody tr th {\n",
              "        vertical-align: top;\n",
              "    }\n",
              "\n",
              "    .dataframe thead th {\n",
              "        text-align: right;\n",
              "    }\n",
              "</style>\n",
              "<table border=\"1\" class=\"dataframe\">\n",
              "  <thead>\n",
              "    <tr style=\"text-align: right;\">\n",
              "      <th></th>\n",
              "      <th>jp_sales</th>\n",
              "    </tr>\n",
              "    <tr>\n",
              "      <th>genre</th>\n",
              "      <th></th>\n",
              "    </tr>\n",
              "  </thead>\n",
              "  <tbody>\n",
              "    <tr>\n",
              "      <th>Role-Playing</th>\n",
              "      <td>51.04</td>\n",
              "    </tr>\n",
              "    <tr>\n",
              "      <th>Action</th>\n",
              "      <td>40.49</td>\n",
              "    </tr>\n",
              "    <tr>\n",
              "      <th>Misc</th>\n",
              "      <td>9.20</td>\n",
              "    </tr>\n",
              "    <tr>\n",
              "      <th>Fighting</th>\n",
              "      <td>7.65</td>\n",
              "    </tr>\n",
              "  </tbody>\n",
              "</table>\n",
              "</div>"
            ],
            "text/plain": [
              "              jp_sales\n",
              "genre                 \n",
              "Role-Playing     51.04\n",
              "Action           40.49\n",
              "Misc              9.20\n",
              "Fighting          7.65"
            ]
          },
          "metadata": {},
          "output_type": "display_data"
        },
        {
          "data": {
            "image/png": "[encoded data removed]",
            "text/plain": [
              "<Figure size 1296x432 with 3 Axes>"
            ]
          },
          "metadata": {},
          "output_type": "display_data"
        }
      ],
      "source": [
        "na_user = actual_data.pivot_table(index='genre', values='na_sales', aggfunc='sum')\\\n",
        "                     .sort_values(by='na_sales', ascending=False)\n",
        "na_user = na_user.iloc[[0, 1, 2, 3]]\n",
        "display(na_user)\n",
        "na_user.reset_index(inplace=True)\n",
        "\n",
        "\n",
        "eu_user = actual_data.pivot_table(index='genre', values='eu_sales', aggfunc='sum')\\\n",
        "                     .sort_values(by='eu_sales', ascending=False)\n",
        "eu_user = eu_user.iloc[[0, 1, 2, 3]]\n",
        "display(eu_user)\n",
        "eu_user.reset_index(inplace=True)\n",
        "\n",
        "\n",
        "jp_user = actual_data.pivot_table(index='genre', values='jp_sales', aggfunc='sum')\\\n",
        "                     .sort_values(by='jp_sales', ascending=False)\n",
        "jp_user = jp_user.iloc[[0, 1, 2, 3]]\n",
        "display(jp_user)\n",
        "jp_user.reset_index(inplace=True)\n",
        "\n",
        "\n",
        "fig, ax = plt.subplots(1, 3, figsize=(18, 6))\n",
        "ymin, ymax = 0, 130\n",
        "\n",
        "sns.barplot(data=na_user,\n",
        "            x='genre',\n",
        "            y='na_sales',\n",
        "            color='steelblue',\n",
        "            order=na_user.sort_values(by='na_sales').genre,\n",
        "            ax=ax[0])\n",
        "ax[0].set_ylim(ymin, ymax)\n",
        "ax[0].set(title='Продажи по популярным жанрам \\n в Америке',\n",
        "          xlabel='Жанр',\n",
        "          ylabel='Продажи')\n",
        "\n",
        "sns.barplot(data=eu_user,\n",
        "            x='genre',\n",
        "            y='eu_sales',\n",
        "            color='steelblue',\n",
        "            order=eu_user.sort_values(by='eu_sales').genre,\n",
        "            ax=ax[1])\n",
        "ax[1].set_ylim(ymin, ymax)\n",
        "ax[1].set(title='Продажи по популярным жанрам \\n в Европе',\n",
        "          xlabel='Жанр',\n",
        "          ylabel='Продажи')\n",
        "\n",
        "sns.barplot(data=jp_user,\n",
        "            x='genre',\n",
        "            y='jp_sales',\n",
        "            color='steelblue',\n",
        "            order=jp_user.sort_values(by='jp_sales').genre,\n",
        "            ax=ax[2])\n",
        "ax[2].set_ylim(ymin, ymax)\n",
        "ax[2].set(title='Продажи по популярным жанрам \\n в Японии',\n",
        "          xlabel='Жанр',\n",
        "          ylabel='Продажи')\n",
        "\n",
        "plt.show()"
      ]
    },
    {
      "cell_type": "markdown",
      "metadata": {
        "id": "OS7XnmacB446"
      },
      "source": [
        "**Вывод**\n",
        "\n",
        "Action лидирует в СА и Европе, потому что это самый продаваемый жанр на PS4, а в Японии, следовательно, ролевой жанр, который преимущественно выпускается на 3DS."
      ]
    },
    {
      "cell_type": "code",
      "execution_count": null,
      "metadata": {
        "id": "6q3ASZUiB446",
        "outputId": "f93c0ea1-5b09-417f-9fb2-0ce20bfb507b"
      },
      "outputs": [
        {
          "data": {
            "text/html": [
              "<div>\n",
              "<style scoped>\n",
              "    .dataframe tbody tr th:only-of-type {\n",
              "        vertical-align: middle;\n",
              "    }\n",
              "\n",
              "    .dataframe tbody tr th {\n",
              "        vertical-align: top;\n",
              "    }\n",
              "\n",
              "    .dataframe thead th {\n",
              "        text-align: right;\n",
              "    }\n",
              "</style>\n",
              "<table border=\"1\" class=\"dataframe\">\n",
              "  <thead>\n",
              "    <tr style=\"text-align: right;\">\n",
              "      <th></th>\n",
              "      <th>na_sales</th>\n",
              "    </tr>\n",
              "    <tr>\n",
              "      <th>ratings</th>\n",
              "      <th></th>\n",
              "    </tr>\n",
              "  </thead>\n",
              "  <tbody>\n",
              "    <tr>\n",
              "      <th>От 17 лет</th>\n",
              "      <td>165.21</td>\n",
              "    </tr>\n",
              "    <tr>\n",
              "      <th>Не определён</th>\n",
              "      <td>89.42</td>\n",
              "    </tr>\n",
              "    <tr>\n",
              "      <th>От 6 лет</th>\n",
              "      <td>79.05</td>\n",
              "    </tr>\n",
              "    <tr>\n",
              "      <th>От 10 лет</th>\n",
              "      <td>54.24</td>\n",
              "    </tr>\n",
              "    <tr>\n",
              "      <th>От 13 лет</th>\n",
              "      <td>49.79</td>\n",
              "    </tr>\n",
              "  </tbody>\n",
              "</table>\n",
              "</div>"
            ],
            "text/plain": [
              "              na_sales\n",
              "ratings               \n",
              "От 17 лет       165.21\n",
              "Не определён     89.42\n",
              "От 6 лет         79.05\n",
              "От 10 лет        54.24\n",
              "От 13 лет        49.79"
            ]
          },
          "metadata": {},
          "output_type": "display_data"
        },
        {
          "data": {
            "text/html": [
              "<div>\n",
              "<style scoped>\n",
              "    .dataframe tbody tr th:only-of-type {\n",
              "        vertical-align: middle;\n",
              "    }\n",
              "\n",
              "    .dataframe tbody tr th {\n",
              "        vertical-align: top;\n",
              "    }\n",
              "\n",
              "    .dataframe thead th {\n",
              "        text-align: right;\n",
              "    }\n",
              "</style>\n",
              "<table border=\"1\" class=\"dataframe\">\n",
              "  <thead>\n",
              "    <tr style=\"text-align: right;\">\n",
              "      <th></th>\n",
              "      <th>eu_sales</th>\n",
              "    </tr>\n",
              "    <tr>\n",
              "      <th>ratings</th>\n",
              "      <th></th>\n",
              "    </tr>\n",
              "  </thead>\n",
              "  <tbody>\n",
              "    <tr>\n",
              "      <th>От 17 лет</th>\n",
              "      <td>145.32</td>\n",
              "    </tr>\n",
              "    <tr>\n",
              "      <th>От 6 лет</th>\n",
              "      <td>83.36</td>\n",
              "    </tr>\n",
              "    <tr>\n",
              "      <th>Не определён</th>\n",
              "      <td>78.91</td>\n",
              "    </tr>\n",
              "    <tr>\n",
              "      <th>От 10 лет</th>\n",
              "      <td>42.69</td>\n",
              "    </tr>\n",
              "    <tr>\n",
              "      <th>От 13 лет</th>\n",
              "      <td>41.95</td>\n",
              "    </tr>\n",
              "  </tbody>\n",
              "</table>\n",
              "</div>"
            ],
            "text/plain": [
              "              eu_sales\n",
              "ratings               \n",
              "От 17 лет       145.32\n",
              "От 6 лет         83.36\n",
              "Не определён     78.91\n",
              "От 10 лет        42.69\n",
              "От 13 лет        41.95"
            ]
          },
          "metadata": {},
          "output_type": "display_data"
        },
        {
          "data": {
            "text/html": [
              "<div>\n",
              "<style scoped>\n",
              "    .dataframe tbody tr th:only-of-type {\n",
              "        vertical-align: middle;\n",
              "    }\n",
              "\n",
              "    .dataframe tbody tr th {\n",
              "        vertical-align: top;\n",
              "    }\n",
              "\n",
              "    .dataframe thead th {\n",
              "        text-align: right;\n",
              "    }\n",
              "</style>\n",
              "<table border=\"1\" class=\"dataframe\">\n",
              "  <thead>\n",
              "    <tr style=\"text-align: right;\">\n",
              "      <th></th>\n",
              "      <th>jp_sales</th>\n",
              "    </tr>\n",
              "    <tr>\n",
              "      <th>ratings</th>\n",
              "      <th></th>\n",
              "    </tr>\n",
              "  </thead>\n",
              "  <tbody>\n",
              "    <tr>\n",
              "      <th>Не определён</th>\n",
              "      <td>85.05</td>\n",
              "    </tr>\n",
              "    <tr>\n",
              "      <th>От 13 лет</th>\n",
              "      <td>20.59</td>\n",
              "    </tr>\n",
              "    <tr>\n",
              "      <th>От 6 лет</th>\n",
              "      <td>15.14</td>\n",
              "    </tr>\n",
              "    <tr>\n",
              "      <th>От 17 лет</th>\n",
              "      <td>14.11</td>\n",
              "    </tr>\n",
              "    <tr>\n",
              "      <th>От 10 лет</th>\n",
              "      <td>5.89</td>\n",
              "    </tr>\n",
              "  </tbody>\n",
              "</table>\n",
              "</div>"
            ],
            "text/plain": [
              "              jp_sales\n",
              "ratings               \n",
              "Не определён     85.05\n",
              "От 13 лет        20.59\n",
              "От 6 лет         15.14\n",
              "От 17 лет        14.11\n",
              "От 10 лет         5.89"
            ]
          },
          "metadata": {},
          "output_type": "display_data"
        },
        {
          "data": {
            "image/png": "[encoded data removed]",
            "text/plain": [
              "<Figure size 1296x432 with 3 Axes>"
            ]
          },
          "metadata": {},
          "output_type": "display_data"
        }
      ],
      "source": [
        "na_rat = actual_data.pivot_table(index='ratings', values='na_sales', aggfunc='sum')\\\n",
        "                     .sort_values(by='na_sales', ascending=False)\n",
        "display(na_rat)\n",
        "na_rat.reset_index(inplace=True)\n",
        "\n",
        "\n",
        "eu_rat = actual_data.pivot_table(index='ratings', values='eu_sales', aggfunc='sum')\\\n",
        "                     .sort_values(by='eu_sales', ascending=False)\n",
        "display(eu_rat)\n",
        "eu_rat.reset_index(inplace=True)\n",
        "\n",
        "\n",
        "jp_rat = actual_data.pivot_table(index='ratings', values='jp_sales', aggfunc='sum')\\\n",
        "                     .sort_values(by='jp_sales', ascending=False)\n",
        "display(jp_rat)\n",
        "jp_rat.reset_index(inplace=True)\n",
        "\n",
        "\n",
        "fig, ax = plt.subplots(1, 3, figsize=(18, 6))\n",
        "ymin, ymax = 0, 170\n",
        "\n",
        "sns.barplot(data=na_rat,\n",
        "            x='ratings',\n",
        "            y='na_sales',\n",
        "            color='steelblue',\n",
        "            order=na_rat.sort_values(by='na_sales').ratings,\n",
        "            ax=ax[0])\n",
        "ax[0].set_ylim(ymin, ymax)\n",
        "ax[0].set(title='Продажи по рейтингу ESRB \\n в Америке',\n",
        "          xlabel='Рейтинг',\n",
        "          ylabel='Продажи')\n",
        "ax[0].tick_params(axis='x', rotation=45)\n",
        "\n",
        "sns.barplot(data=eu_rat,\n",
        "            x='ratings',\n",
        "            y='eu_sales',\n",
        "            color='steelblue',\n",
        "            order=eu_rat.sort_values(by='eu_sales').ratings,\n",
        "            ax=ax[1])\n",
        "ax[1].set_ylim(ymin, ymax)\n",
        "ax[1].set(title='Продажи по рейтингу ESRB \\n в Европе',\n",
        "          xlabel='Рейтинг',\n",
        "          ylabel='Продажи')\n",
        "ax[1].tick_params(axis='x', rotation=45)\n",
        "\n",
        "sns.barplot(data=jp_rat,\n",
        "            x='ratings',\n",
        "            y='jp_sales',\n",
        "            color='steelblue',\n",
        "            order=jp_rat.sort_values(by='jp_sales').ratings,\n",
        "            ax=ax[2])\n",
        "ax[2].set_ylim(ymin, ymax)\n",
        "ax[2].set(title='Продажи по рейтингу ESRB \\n в Японии',\n",
        "          xlabel='Рейтинг',\n",
        "          ylabel='Продажи')\n",
        "ax[2].tick_params(axis='x', rotation=45)\n",
        "\n",
        "plt.show()"
      ]
    },
    {
      "cell_type": "markdown",
      "metadata": {
        "id": "UY7Qe4a2B447"
      },
      "source": [
        "**Вывод**\n",
        "\n",
        "Большинство игр в СА и Европе покупают с возрастным ограничением от 17 лет, которые ставят в большинстве на action и shooter игры. У японцев преобладает рейтинг от 13 лет, который присущ role-playing играм."
      ]
    },
    {
      "cell_type": "markdown",
      "metadata": {
        "id": "Rk3_mprzB448"
      },
      "source": [
        "**Вывод**\n",
        "\n",
        "Портрет пользователя Северной Америке и Европы очень схож:\n",
        "\n",
        " - Старше 17 лет (не факт)\n",
        " - Играет на PS4 (и XOne для СА)\n",
        " - Предпочитает Action и Shooter игры\n",
        "\n",
        "Портрет японского геймера:\n",
        "\n",
        " - Старше 13 лет\n",
        " - Играет на 3DS\n",
        " - Предпочитает Role-Playing игры"
      ]
    },
    {
      "cell_type": "markdown",
      "metadata": {
        "id": "np5huQ4rB448"
      },
      "source": [
        "## Проверка гипотез"
      ]
    },
    {
      "cell_type": "markdown",
      "metadata": {
        "id": "nIjDnXvaB448"
      },
      "source": [
        "### Одинаковы ли средние пользовательские рейтинги на XOne и PC"
      ]
    },
    {
      "cell_type": "markdown",
      "metadata": {
        "id": "IouaLZ3pB449"
      },
      "source": [
        "`H0`: средние пользовательские рейтинги платформ Xbox One и PC одинаковые\n",
        "\n",
        "`H1`: средние пользовательские рейтинги платформ Xbox One и PC не одинаковые"
      ]
    },
    {
      "cell_type": "code",
      "execution_count": null,
      "metadata": {
        "id": "vW16fRt2B449",
        "outputId": "29ad244f-1b7a-419a-8594-932b787d7b0d"
      },
      "outputs": [
        {
          "name": "stdout",
          "output_type": "stream",
          "text": [
            "Средняя оценка пользователей XOne: 6.521428571428572\n",
            "Средняя оценка пользователей PC: 6.2696774193548395\n"
          ]
        }
      ],
      "source": [
        "# отбираем массивы в отдельные переменные с выбором нужной платформы и пользовательским рейтингом больше нуля\n",
        "\n",
        "XOne = actual_data[(actual_data['platform'] == 'XOne') & (actual_data['user_score'] > 0)]['user_score']\n",
        "PC = actual_data[(actual_data['platform'] == 'PC') & (actual_data['user_score'] > 0)]['user_score']\n",
        "\n",
        "print('Средняя оценка пользователей XOne:', XOne.mean())\n",
        "print('Средняя оценка пользователей PC:', PC.mean())"
      ]
    },
    {
      "cell_type": "code",
      "execution_count": null,
      "metadata": {
        "id": "hfz4Kn52B449",
        "outputId": "ecd83533-08e9-4857-9391-2563ecca73fb"
      },
      "outputs": [
        {
          "name": "stdout",
          "output_type": "stream",
          "text": [
            "p-value: 0.14759594013430463\n",
            "Нет оснований отвергнуть нулевую гипотезу\n"
          ]
        }
      ],
      "source": [
        "# задаём пороговое значение и проверяем две независимые выборки\n",
        "\n",
        "alpha = 0.05\n",
        "\n",
        "results = st.ttest_ind(XOne, PC, equal_var=False)\n",
        "\n",
        "print(f'p-value: {results.pvalue}')\n",
        "\n",
        "if results.pvalue < alpha:\n",
        "    print('Отвергаем нулевую гипотезу')\n",
        "else:\n",
        "    print('Нет оснований отвергнуть нулевую гипотезу')"
      ]
    },
    {
      "cell_type": "markdown",
      "metadata": {
        "id": "qycXoQpVB44-"
      },
      "source": [
        "**Вывод**\n",
        "\n",
        "Нулевая гипотеза не отвергнута, средние пользовательские рейтинги на платформах XOne и PC одинаковые."
      ]
    },
    {
      "cell_type": "markdown",
      "metadata": {
        "id": "pY0JFw1IB44-"
      },
      "source": [
        "### Различаются ли средние пользовательские рейтинги жанров Action и Sports"
      ]
    },
    {
      "cell_type": "markdown",
      "metadata": {
        "id": "tdzrZ-_2B44_"
      },
      "source": [
        "`H0`: cредние пользовательские рейтинги жанров Action и Sports одинаковые\n",
        "\n",
        "`H1`: cредние пользовательские рейтинги жанров Action и Sports не одинаковые"
      ]
    },
    {
      "cell_type": "code",
      "execution_count": null,
      "metadata": {
        "id": "KHJBYzSfB44_",
        "outputId": "96943ba2-6e2e-4074-8037-8cdcf3b95566"
      },
      "outputs": [
        {
          "name": "stdout",
          "output_type": "stream",
          "text": [
            "Средняя оценка пользователей XOne: 6.837532133676092\n",
            "Средняя оценка пользователей PC: 5.238124999999999\n"
          ]
        }
      ],
      "source": [
        "action = actual_data[(actual_data['genre'] == 'Action') & (actual_data['user_score'] > 0)]['user_score']\n",
        "sports = actual_data[(actual_data['genre'] == 'Sports') & (actual_data['user_score'] > 0)]['user_score']\n",
        "\n",
        "print('Средняя оценка пользователей XOne:', action.mean())\n",
        "print('Средняя оценка пользователей PC:', sports.mean())"
      ]
    },
    {
      "cell_type": "code",
      "execution_count": null,
      "metadata": {
        "id": "ud23qxyeB44_",
        "outputId": "8c5d8d03-0e8c-492a-a394-11368e453908"
      },
      "outputs": [
        {
          "name": "stdout",
          "output_type": "stream",
          "text": [
            "p-value: 1.4460039700704315e-20\n",
            "Отвергаем нулевую гипотезу\n"
          ]
        }
      ],
      "source": [
        "alpha = 0.05\n",
        "\n",
        "results = st.ttest_ind(action, sports, equal_var=False)\n",
        "\n",
        "print(f'p-value: {results.pvalue}')\n",
        "\n",
        "if results.pvalue < alpha:\n",
        "    print('Отвергаем нулевую гипотезу')\n",
        "else:\n",
        "    print('Нет оснований отвергнуть нулевую гипотезу')"
      ]
    },
    {
      "cell_type": "markdown",
      "metadata": {
        "id": "6UqTccaMB45A"
      },
      "source": [
        "**Вывод**\n",
        "\n",
        "Нулевая гипотеза отвергнута, поэтому средние пользовательские рейтиги жанров Action и Sports различаются."
      ]
    },
    {
      "cell_type": "markdown",
      "metadata": {
        "id": "N7IYOIKDB45B"
      },
      "source": [
        "# Общий вывод"
      ]
    },
    {
      "cell_type": "markdown",
      "metadata": {
        "id": "oLsL1tzeB45B"
      },
      "source": [
        "Задачей проекта было выявление закономерностей, определяющих успешность игр (их продаваемость)."
      ]
    },
    {
      "cell_type": "markdown",
      "metadata": {
        "id": "-m544D38B45C"
      },
      "source": [
        "**Этапы проекта:**\n",
        "\n",
        "1. Изучение датафрейма\n",
        " - Выгрузка\n",
        " - Изучение общей информации\n",
        "\n",
        "\n",
        "2. Предобработка данных\n",
        " - Приведение к правильному виду названия столбцов, данные в столбцах\n",
        " - Удаление пропусков\n",
        " - Добавление вспомогательных столбцов\n",
        "\n",
        "\n",
        "3. Анализ данных\n",
        " - Расчёт количества выпущенных игр по годам\n",
        " - Определение периода для объективного прогноза\n",
        " - Выявление успешных платформ, жанров и годов\n",
        "\n",
        "\n",
        "4. Составление портрета пользователя региона\n",
        " - Анализ самых популярных платформ и жанром по регионам\n",
        " - Влияние рейтинга на продажи в регионах\n",
        "\n",
        "\n",
        "5. Проверка гипотез"
      ]
    },
    {
      "cell_type": "markdown",
      "metadata": {
        "id": "VttaKUKEB45C"
      },
      "source": [
        "**В результате анализа были сделаны следующие выводы:**\n",
        "\n",
        "- Больше всего выпущено игр было в 2008 году\n",
        "- Проданных игр больше всего на PS2\n",
        "- Актуальный период для анализа 2013-2016\n",
        "- Наибольшее количество проданных игр в актуальный период - PS4\n",
        "- Самые прибыльные платформы в актуальный период - PS4 и XOne\n",
        "- Есть небольшая положительная зависимость проданных игр и оценки критиков на PS4 и XOne\n",
        "- Самый прибыльный жанр - Action\n",
        "- В жанре шутер меньше всего было аномальных значений"
      ]
    },
    {
      "cell_type": "markdown",
      "metadata": {
        "id": "fpyt104ZB45C"
      },
      "source": [
        "**Портрет геймеров по регионам**\n",
        "\n",
        "`Северная Америка`\n",
        "\n",
        " - Старше 17 лет\n",
        " - Играет на PS4 и XOne\n",
        " - Предпочитает Action и Shooter игры\n",
        "\n",
        "`Европа`\n",
        "\n",
        " - Старше 17 лет\n",
        " - Играет на PS4\n",
        " - Предпочитает Action и Shooter игры\n",
        "\n",
        "`Япония`\n",
        "\n",
        " - Старше 13 лет\n",
        " - Играет на 3DS\n",
        " - Предпочитает Role-Playing игры"
      ]
    },
    {
      "cell_type": "markdown",
      "metadata": {
        "id": "dnLSh2SHB45D"
      },
      "source": [
        "**Результаты проверки гипотез**\n",
        "\n",
        "Средние пользовательские оценки на платформах XOne и PC одинаковые, но средние пользовательские рейтинги жанров Action и Sports различаются."
      ]
    },
    {
      "cell_type": "markdown",
      "metadata": {
        "id": "FiZHmcuWB45D"
      },
      "source": [
        "**Рекомендации**\n",
        "\n",
        "Прибыльнее всего будет выпускать игры под целевую аудиторию Северной Америки, поэтому надо игры на **`PS4`** и **`XOne`** в жанрах **`Action`** и **`Shooter`**, тем самым можно ещё охватить очень большую часть европейского рынка и часть Японии.\n",
        "\n",
        "При выборе японского сегмента, необходимо ориентироваться на платформы **`3DS`** и **`PS4`** (несмотря на то, что у PS3 больше продаж) и жанры: **`Role-Playing`**, **`Action`**."
      ]
    }
  ],
  "metadata": {
    "ExecuteTimeLog": [
      {
        "duration": 1365,
        "start_time": "2024-01-16T13:25:31.793Z"
      },
      {
        "duration": 119,
        "start_time": "2024-01-16T13:28:01.209Z"
      },
      {
        "duration": 16,
        "start_time": "2024-01-16T13:31:02.160Z"
      },
      {
        "duration": 303,
        "start_time": "2024-01-16T13:45:38.354Z"
      },
      {
        "duration": 105,
        "start_time": "2024-01-16T13:48:28.990Z"
      },
      {
        "duration": 11,
        "start_time": "2024-01-16T13:51:28.375Z"
      },
      {
        "duration": 232,
        "start_time": "2024-01-16T13:53:15.183Z"
      },
      {
        "duration": 485,
        "start_time": "2024-01-16T13:54:26.470Z"
      },
      {
        "duration": 709,
        "start_time": "2024-01-16T13:54:45.175Z"
      },
      {
        "duration": 10,
        "start_time": "2024-01-16T13:58:51.888Z"
      },
      {
        "duration": 9,
        "start_time": "2024-01-16T13:59:30.512Z"
      },
      {
        "duration": 188,
        "start_time": "2024-01-16T14:00:14.069Z"
      },
      {
        "duration": 106,
        "start_time": "2024-01-16T14:00:34.466Z"
      },
      {
        "duration": 113,
        "start_time": "2024-01-16T14:00:42.294Z"
      },
      {
        "duration": 106,
        "start_time": "2024-01-16T14:00:58.649Z"
      },
      {
        "duration": 1131,
        "start_time": "2024-01-16T14:01:20.827Z"
      },
      {
        "duration": 75,
        "start_time": "2024-01-16T14:01:21.960Z"
      },
      {
        "duration": 14,
        "start_time": "2024-01-16T14:01:22.037Z"
      },
      {
        "duration": 223,
        "start_time": "2024-01-16T14:01:22.052Z"
      },
      {
        "duration": 105,
        "start_time": "2024-01-16T14:01:55.837Z"
      },
      {
        "duration": 106,
        "start_time": "2024-01-16T14:02:03.833Z"
      },
      {
        "duration": 107,
        "start_time": "2024-01-16T14:02:10.895Z"
      },
      {
        "duration": 128,
        "start_time": "2024-01-16T14:02:44.742Z"
      },
      {
        "duration": 129,
        "start_time": "2024-01-16T14:02:54.237Z"
      },
      {
        "duration": 824,
        "start_time": "2024-01-16T14:06:13.459Z"
      },
      {
        "duration": 750,
        "start_time": "2024-01-16T14:09:28.697Z"
      },
      {
        "duration": 107,
        "start_time": "2024-01-16T14:11:08.631Z"
      },
      {
        "duration": 723,
        "start_time": "2024-01-16T14:15:51.706Z"
      },
      {
        "duration": 1329,
        "start_time": "2024-01-17T07:45:31.908Z"
      },
      {
        "duration": 118,
        "start_time": "2024-01-17T07:45:33.239Z"
      },
      {
        "duration": 15,
        "start_time": "2024-01-17T07:45:33.358Z"
      },
      {
        "duration": 665,
        "start_time": "2024-01-17T07:45:33.375Z"
      },
      {
        "duration": 3,
        "start_time": "2024-01-17T07:45:34.042Z"
      },
      {
        "duration": 99,
        "start_time": "2024-01-17T09:16:35.516Z"
      },
      {
        "duration": 6,
        "start_time": "2024-01-17T09:17:55.740Z"
      },
      {
        "duration": 17,
        "start_time": "2024-01-17T09:19:34.991Z"
      },
      {
        "duration": 16,
        "start_time": "2024-01-17T09:21:09.906Z"
      },
      {
        "duration": 8,
        "start_time": "2024-01-17T09:21:40.521Z"
      },
      {
        "duration": 22,
        "start_time": "2024-01-17T09:22:44.385Z"
      },
      {
        "duration": 15,
        "start_time": "2024-01-17T09:29:13.935Z"
      },
      {
        "duration": 17,
        "start_time": "2024-01-17T09:32:49.553Z"
      },
      {
        "duration": 20,
        "start_time": "2024-01-17T09:34:13.507Z"
      },
      {
        "duration": 18,
        "start_time": "2024-01-17T09:35:20.322Z"
      },
      {
        "duration": 23,
        "start_time": "2024-01-17T09:35:31.859Z"
      },
      {
        "duration": 32,
        "start_time": "2024-01-17T09:36:47.869Z"
      },
      {
        "duration": 14,
        "start_time": "2024-01-17T09:40:15.950Z"
      },
      {
        "duration": 8,
        "start_time": "2024-01-17T09:40:29.189Z"
      },
      {
        "duration": 14,
        "start_time": "2024-01-17T09:40:33.987Z"
      },
      {
        "duration": 4,
        "start_time": "2024-01-17T09:55:23.768Z"
      },
      {
        "duration": 8,
        "start_time": "2024-01-17T09:55:29.518Z"
      },
      {
        "duration": 4,
        "start_time": "2024-01-17T09:55:46.058Z"
      },
      {
        "duration": 193,
        "start_time": "2024-01-17T10:06:42.222Z"
      },
      {
        "duration": 1104,
        "start_time": "2024-01-17T10:07:07.541Z"
      },
      {
        "duration": 74,
        "start_time": "2024-01-17T10:07:08.647Z"
      },
      {
        "duration": 14,
        "start_time": "2024-01-17T10:07:08.723Z"
      },
      {
        "duration": 668,
        "start_time": "2024-01-17T10:07:08.739Z"
      },
      {
        "duration": 5,
        "start_time": "2024-01-17T10:07:09.415Z"
      },
      {
        "duration": 15,
        "start_time": "2024-01-17T10:07:09.421Z"
      },
      {
        "duration": 8,
        "start_time": "2024-01-17T10:07:09.437Z"
      },
      {
        "duration": 23,
        "start_time": "2024-01-17T10:07:09.446Z"
      },
      {
        "duration": 1446,
        "start_time": "2024-01-17T12:53:12.895Z"
      },
      {
        "duration": 209,
        "start_time": "2024-01-17T12:53:14.344Z"
      },
      {
        "duration": 16,
        "start_time": "2024-01-17T12:53:14.554Z"
      },
      {
        "duration": 783,
        "start_time": "2024-01-17T12:53:14.572Z"
      },
      {
        "duration": 5,
        "start_time": "2024-01-17T12:53:15.356Z"
      },
      {
        "duration": 78,
        "start_time": "2024-01-17T12:53:15.362Z"
      },
      {
        "duration": 54,
        "start_time": "2024-01-17T12:53:15.442Z"
      },
      {
        "duration": 51,
        "start_time": "2024-01-17T12:53:15.498Z"
      },
      {
        "duration": 241,
        "start_time": "2024-01-17T13:01:54.347Z"
      },
      {
        "duration": 1351,
        "start_time": "2024-01-18T15:33:03.771Z"
      },
      {
        "duration": 221,
        "start_time": "2024-01-18T15:33:05.124Z"
      },
      {
        "duration": 13,
        "start_time": "2024-01-18T15:33:05.347Z"
      },
      {
        "duration": 632,
        "start_time": "2024-01-18T15:33:05.362Z"
      },
      {
        "duration": 5,
        "start_time": "2024-01-18T15:33:05.996Z"
      },
      {
        "duration": 27,
        "start_time": "2024-01-18T15:33:06.002Z"
      },
      {
        "duration": 18,
        "start_time": "2024-01-18T15:33:06.030Z"
      },
      {
        "duration": 65,
        "start_time": "2024-01-18T15:33:06.049Z"
      },
      {
        "duration": 14,
        "start_time": "2024-01-18T15:44:27.475Z"
      },
      {
        "duration": 1132,
        "start_time": "2024-01-18T16:11:14.208Z"
      },
      {
        "duration": 82,
        "start_time": "2024-01-18T16:11:15.341Z"
      },
      {
        "duration": 14,
        "start_time": "2024-01-18T16:11:15.424Z"
      },
      {
        "duration": 667,
        "start_time": "2024-01-18T16:11:15.440Z"
      },
      {
        "duration": 4,
        "start_time": "2024-01-18T16:11:16.109Z"
      },
      {
        "duration": 30,
        "start_time": "2024-01-18T16:11:16.115Z"
      },
      {
        "duration": 9,
        "start_time": "2024-01-18T16:11:16.146Z"
      },
      {
        "duration": 14,
        "start_time": "2024-01-18T16:11:16.157Z"
      },
      {
        "duration": 73,
        "start_time": "2024-01-18T16:11:16.172Z"
      },
      {
        "duration": 1447,
        "start_time": "2024-01-20T08:53:18.641Z"
      },
      {
        "duration": 231,
        "start_time": "2024-01-20T08:53:20.098Z"
      },
      {
        "duration": 18,
        "start_time": "2024-01-20T08:53:20.331Z"
      },
      {
        "duration": 764,
        "start_time": "2024-01-20T08:53:20.351Z"
      },
      {
        "duration": 5,
        "start_time": "2024-01-20T08:53:21.117Z"
      },
      {
        "duration": 16,
        "start_time": "2024-01-20T08:53:21.124Z"
      },
      {
        "duration": 8,
        "start_time": "2024-01-20T08:53:21.141Z"
      },
      {
        "duration": 52,
        "start_time": "2024-01-20T08:53:21.151Z"
      },
      {
        "duration": 53,
        "start_time": "2024-01-20T08:53:21.209Z"
      },
      {
        "duration": 1485,
        "start_time": "2024-01-20T10:46:20.291Z"
      },
      {
        "duration": 129,
        "start_time": "2024-01-20T10:46:21.778Z"
      },
      {
        "duration": 17,
        "start_time": "2024-01-20T10:46:21.908Z"
      },
      {
        "duration": 748,
        "start_time": "2024-01-20T10:46:21.926Z"
      },
      {
        "duration": 5,
        "start_time": "2024-01-20T10:46:22.676Z"
      },
      {
        "duration": 40,
        "start_time": "2024-01-20T10:46:22.682Z"
      },
      {
        "duration": 16,
        "start_time": "2024-01-20T10:46:22.723Z"
      },
      {
        "duration": 15,
        "start_time": "2024-01-20T10:46:22.741Z"
      },
      {
        "duration": 5,
        "start_time": "2024-01-20T10:55:06.698Z"
      },
      {
        "duration": 5,
        "start_time": "2024-01-20T10:55:26.560Z"
      },
      {
        "duration": 93,
        "start_time": "2024-01-20T11:16:21.127Z"
      },
      {
        "duration": 5,
        "start_time": "2024-01-20T11:16:24.675Z"
      },
      {
        "duration": 4,
        "start_time": "2024-01-20T11:16:40.584Z"
      },
      {
        "duration": 4,
        "start_time": "2024-01-20T11:17:23.851Z"
      },
      {
        "duration": 7,
        "start_time": "2024-01-20T11:17:33.776Z"
      },
      {
        "duration": 1231,
        "start_time": "2024-01-20T11:17:48.635Z"
      },
      {
        "duration": 78,
        "start_time": "2024-01-20T11:17:49.868Z"
      },
      {
        "duration": 15,
        "start_time": "2024-01-20T11:17:49.948Z"
      },
      {
        "duration": 763,
        "start_time": "2024-01-20T11:17:49.965Z"
      },
      {
        "duration": 6,
        "start_time": "2024-01-20T11:17:50.731Z"
      },
      {
        "duration": 16,
        "start_time": "2024-01-20T11:17:50.739Z"
      },
      {
        "duration": 11,
        "start_time": "2024-01-20T11:17:50.758Z"
      },
      {
        "duration": 18,
        "start_time": "2024-01-20T11:17:50.771Z"
      },
      {
        "duration": 114,
        "start_time": "2024-01-20T11:24:28.117Z"
      },
      {
        "duration": 19,
        "start_time": "2024-01-20T11:24:35.178Z"
      },
      {
        "duration": 18,
        "start_time": "2024-01-20T11:26:17.200Z"
      },
      {
        "duration": 20,
        "start_time": "2024-01-20T11:26:35.318Z"
      },
      {
        "duration": 123,
        "start_time": "2024-01-20T11:27:15.406Z"
      },
      {
        "duration": 119,
        "start_time": "2024-01-20T11:27:17.677Z"
      },
      {
        "duration": 1233,
        "start_time": "2024-01-20T11:27:33.134Z"
      },
      {
        "duration": 79,
        "start_time": "2024-01-20T11:27:34.369Z"
      },
      {
        "duration": 15,
        "start_time": "2024-01-20T11:27:34.449Z"
      },
      {
        "duration": 774,
        "start_time": "2024-01-20T11:27:34.466Z"
      },
      {
        "duration": 5,
        "start_time": "2024-01-20T11:27:35.241Z"
      },
      {
        "duration": 23,
        "start_time": "2024-01-20T11:27:35.247Z"
      },
      {
        "duration": 8,
        "start_time": "2024-01-20T11:27:35.272Z"
      },
      {
        "duration": 42,
        "start_time": "2024-01-20T11:27:35.282Z"
      },
      {
        "duration": 112,
        "start_time": "2024-01-20T11:32:43.803Z"
      },
      {
        "duration": 4,
        "start_time": "2024-01-20T11:38:44.954Z"
      },
      {
        "duration": 26,
        "start_time": "2024-01-20T11:38:49.647Z"
      },
      {
        "duration": 5,
        "start_time": "2024-01-20T11:42:43.954Z"
      },
      {
        "duration": 9,
        "start_time": "2024-01-20T12:00:27.967Z"
      },
      {
        "duration": 5,
        "start_time": "2024-01-20T12:01:40.513Z"
      },
      {
        "duration": 4,
        "start_time": "2024-01-20T12:01:53.237Z"
      },
      {
        "duration": 1240,
        "start_time": "2024-01-20T12:02:08.142Z"
      },
      {
        "duration": 79,
        "start_time": "2024-01-20T12:02:09.384Z"
      },
      {
        "duration": 15,
        "start_time": "2024-01-20T12:02:09.465Z"
      },
      {
        "duration": 730,
        "start_time": "2024-01-20T12:02:09.482Z"
      },
      {
        "duration": 11,
        "start_time": "2024-01-20T12:02:10.214Z"
      },
      {
        "duration": 18,
        "start_time": "2024-01-20T12:02:10.227Z"
      },
      {
        "duration": 8,
        "start_time": "2024-01-20T12:02:10.247Z"
      },
      {
        "duration": 19,
        "start_time": "2024-01-20T12:02:10.256Z"
      },
      {
        "duration": 3,
        "start_time": "2024-01-20T12:02:10.277Z"
      },
      {
        "duration": 155,
        "start_time": "2024-01-20T12:02:10.282Z"
      },
      {
        "duration": 0,
        "start_time": "2024-01-20T12:02:10.439Z"
      },
      {
        "duration": 5,
        "start_time": "2024-01-20T12:03:12.675Z"
      },
      {
        "duration": 11,
        "start_time": "2024-01-20T12:03:44.176Z"
      },
      {
        "duration": 7,
        "start_time": "2024-01-20T12:03:46.580Z"
      },
      {
        "duration": 14,
        "start_time": "2024-01-20T12:03:59.170Z"
      },
      {
        "duration": 5,
        "start_time": "2024-01-20T12:19:10.871Z"
      },
      {
        "duration": 1318,
        "start_time": "2024-01-20T13:48:27.869Z"
      },
      {
        "duration": 127,
        "start_time": "2024-01-20T13:48:29.189Z"
      },
      {
        "duration": 15,
        "start_time": "2024-01-20T13:48:29.317Z"
      },
      {
        "duration": 647,
        "start_time": "2024-01-20T13:48:29.334Z"
      },
      {
        "duration": 4,
        "start_time": "2024-01-20T13:48:29.982Z"
      },
      {
        "duration": 19,
        "start_time": "2024-01-20T13:48:29.988Z"
      },
      {
        "duration": 20,
        "start_time": "2024-01-20T13:48:30.009Z"
      },
      {
        "duration": 60,
        "start_time": "2024-01-20T13:48:30.030Z"
      },
      {
        "duration": 37,
        "start_time": "2024-01-20T13:48:30.092Z"
      },
      {
        "duration": 29,
        "start_time": "2024-01-20T13:48:30.131Z"
      },
      {
        "duration": 46,
        "start_time": "2024-01-20T13:48:30.161Z"
      },
      {
        "duration": 47,
        "start_time": "2024-01-20T13:48:30.209Z"
      },
      {
        "duration": 70,
        "start_time": "2024-01-20T13:48:30.258Z"
      },
      {
        "duration": 14,
        "start_time": "2024-01-20T13:49:58.674Z"
      },
      {
        "duration": 103,
        "start_time": "2024-01-20T13:54:34.314Z"
      },
      {
        "duration": 16,
        "start_time": "2024-01-20T13:54:54.155Z"
      },
      {
        "duration": 206,
        "start_time": "2024-01-20T13:54:59.552Z"
      },
      {
        "duration": 197,
        "start_time": "2024-01-20T13:58:13.548Z"
      },
      {
        "duration": 25,
        "start_time": "2024-01-20T14:03:27.353Z"
      },
      {
        "duration": 286,
        "start_time": "2024-01-20T14:03:35.332Z"
      },
      {
        "duration": 223,
        "start_time": "2024-01-20T14:03:53.823Z"
      },
      {
        "duration": 267,
        "start_time": "2024-01-20T14:04:15.757Z"
      },
      {
        "duration": 417,
        "start_time": "2024-01-20T14:04:28.715Z"
      },
      {
        "duration": 14,
        "start_time": "2024-01-20T14:06:59.145Z"
      },
      {
        "duration": 317,
        "start_time": "2024-01-20T14:07:57.953Z"
      },
      {
        "duration": 307,
        "start_time": "2024-01-20T14:13:41.883Z"
      },
      {
        "duration": 34,
        "start_time": "2024-01-20T14:15:12.787Z"
      },
      {
        "duration": 17,
        "start_time": "2024-01-20T14:15:25.023Z"
      },
      {
        "duration": 15,
        "start_time": "2024-01-20T14:16:44.845Z"
      },
      {
        "duration": 21,
        "start_time": "2024-01-20T14:17:14.357Z"
      },
      {
        "duration": 17,
        "start_time": "2024-01-20T14:17:33.100Z"
      },
      {
        "duration": 39,
        "start_time": "2024-01-20T14:20:40.445Z"
      },
      {
        "duration": 475,
        "start_time": "2024-01-20T14:20:52.560Z"
      },
      {
        "duration": 375,
        "start_time": "2024-01-20T14:21:01.947Z"
      },
      {
        "duration": 393,
        "start_time": "2024-01-20T14:24:17.118Z"
      },
      {
        "duration": 391,
        "start_time": "2024-01-20T14:24:24.983Z"
      },
      {
        "duration": 390,
        "start_time": "2024-01-20T14:24:44.003Z"
      },
      {
        "duration": 19,
        "start_time": "2024-01-20T14:35:10.242Z"
      },
      {
        "duration": 32,
        "start_time": "2024-01-20T14:44:55.667Z"
      },
      {
        "duration": 36,
        "start_time": "2024-01-20T14:46:37.036Z"
      },
      {
        "duration": 34,
        "start_time": "2024-01-20T14:47:25.246Z"
      },
      {
        "duration": 395,
        "start_time": "2024-01-20T14:55:09.086Z"
      },
      {
        "duration": 531,
        "start_time": "2024-01-20T14:56:08.600Z"
      },
      {
        "duration": 427,
        "start_time": "2024-01-20T15:01:55.907Z"
      },
      {
        "duration": 485,
        "start_time": "2024-01-20T15:09:38.122Z"
      },
      {
        "duration": 154,
        "start_time": "2024-01-20T15:11:19.569Z"
      },
      {
        "duration": 456,
        "start_time": "2024-01-20T15:17:44.367Z"
      },
      {
        "duration": 441,
        "start_time": "2024-01-20T15:17:59.384Z"
      },
      {
        "duration": 522,
        "start_time": "2024-01-20T15:18:58.401Z"
      },
      {
        "duration": 267,
        "start_time": "2024-01-20T15:19:08.967Z"
      },
      {
        "duration": 1176,
        "start_time": "2024-01-20T15:19:46.883Z"
      },
      {
        "duration": 80,
        "start_time": "2024-01-20T15:19:48.060Z"
      },
      {
        "duration": 13,
        "start_time": "2024-01-20T15:19:48.142Z"
      },
      {
        "duration": 761,
        "start_time": "2024-01-20T15:19:48.157Z"
      },
      {
        "duration": 4,
        "start_time": "2024-01-20T15:19:48.919Z"
      },
      {
        "duration": 16,
        "start_time": "2024-01-20T15:19:48.925Z"
      },
      {
        "duration": 7,
        "start_time": "2024-01-20T15:19:48.942Z"
      },
      {
        "duration": 39,
        "start_time": "2024-01-20T15:19:48.950Z"
      },
      {
        "duration": 9,
        "start_time": "2024-01-20T15:19:48.991Z"
      },
      {
        "duration": 13,
        "start_time": "2024-01-20T15:19:49.003Z"
      },
      {
        "duration": 18,
        "start_time": "2024-01-20T15:19:49.017Z"
      },
      {
        "duration": 13,
        "start_time": "2024-01-20T15:19:49.036Z"
      },
      {
        "duration": 17,
        "start_time": "2024-01-20T15:19:49.050Z"
      },
      {
        "duration": 33,
        "start_time": "2024-01-20T15:19:49.068Z"
      },
      {
        "duration": 341,
        "start_time": "2024-01-20T15:19:49.103Z"
      },
      {
        "duration": 508,
        "start_time": "2024-01-20T15:19:49.446Z"
      },
      {
        "duration": 367,
        "start_time": "2024-01-20T15:19:49.956Z"
      },
      {
        "duration": 148,
        "start_time": "2024-01-20T15:20:19.783Z"
      },
      {
        "duration": 254,
        "start_time": "2024-01-20T15:20:36.948Z"
      },
      {
        "duration": 430,
        "start_time": "2024-01-20T15:21:13.573Z"
      },
      {
        "duration": 411,
        "start_time": "2024-01-20T15:34:26.398Z"
      },
      {
        "duration": 524,
        "start_time": "2024-01-20T15:36:59.485Z"
      },
      {
        "duration": 42,
        "start_time": "2024-01-20T15:38:35.510Z"
      },
      {
        "duration": 18,
        "start_time": "2024-01-20T15:42:45.471Z"
      },
      {
        "duration": 21,
        "start_time": "2024-01-20T15:42:54.600Z"
      },
      {
        "duration": 5,
        "start_time": "2024-01-20T15:43:01.407Z"
      },
      {
        "duration": 5,
        "start_time": "2024-01-20T15:44:53.141Z"
      },
      {
        "duration": 391,
        "start_time": "2024-01-20T15:47:32.474Z"
      },
      {
        "duration": 37,
        "start_time": "2024-01-20T15:47:37.653Z"
      },
      {
        "duration": 5,
        "start_time": "2024-01-20T15:47:54.242Z"
      },
      {
        "duration": 5,
        "start_time": "2024-01-20T15:48:18.091Z"
      },
      {
        "duration": 5,
        "start_time": "2024-01-20T15:48:38.957Z"
      },
      {
        "duration": 10,
        "start_time": "2024-01-20T15:48:44.273Z"
      },
      {
        "duration": 8,
        "start_time": "2024-01-20T15:49:12.107Z"
      },
      {
        "duration": 9,
        "start_time": "2024-01-20T15:49:18.299Z"
      },
      {
        "duration": 17,
        "start_time": "2024-01-20T15:49:29.036Z"
      },
      {
        "duration": 4,
        "start_time": "2024-01-20T15:49:35.602Z"
      },
      {
        "duration": 4,
        "start_time": "2024-01-20T15:49:39.543Z"
      },
      {
        "duration": 4,
        "start_time": "2024-01-20T15:49:49.449Z"
      },
      {
        "duration": 3,
        "start_time": "2024-01-20T15:49:53.603Z"
      },
      {
        "duration": 4,
        "start_time": "2024-01-20T15:49:57.345Z"
      },
      {
        "duration": 1257,
        "start_time": "2024-01-20T15:50:23.823Z"
      },
      {
        "duration": 1269,
        "start_time": "2024-01-20T15:52:12.032Z"
      },
      {
        "duration": 20,
        "start_time": "2024-01-20T15:57:29.394Z"
      },
      {
        "duration": 18,
        "start_time": "2024-01-20T15:57:36.298Z"
      },
      {
        "duration": 17,
        "start_time": "2024-01-20T15:57:43.908Z"
      },
      {
        "duration": 11,
        "start_time": "2024-01-20T15:57:55.745Z"
      },
      {
        "duration": 21,
        "start_time": "2024-01-20T15:58:32.684Z"
      },
      {
        "duration": 19,
        "start_time": "2024-01-20T15:58:38.924Z"
      },
      {
        "duration": 19,
        "start_time": "2024-01-20T15:58:50.214Z"
      },
      {
        "duration": 12,
        "start_time": "2024-01-20T15:59:01.868Z"
      },
      {
        "duration": 50,
        "start_time": "2024-01-20T15:59:23.574Z"
      },
      {
        "duration": 68,
        "start_time": "2024-01-20T16:01:39.122Z"
      },
      {
        "duration": 511,
        "start_time": "2024-01-20T16:05:54.546Z"
      },
      {
        "duration": 129,
        "start_time": "2024-01-20T16:07:57.912Z"
      },
      {
        "duration": 22,
        "start_time": "2024-01-20T16:09:37.504Z"
      },
      {
        "duration": 1144,
        "start_time": "2024-01-20T16:09:48.317Z"
      },
      {
        "duration": 74,
        "start_time": "2024-01-20T16:09:49.463Z"
      },
      {
        "duration": 13,
        "start_time": "2024-01-20T16:09:49.539Z"
      },
      {
        "duration": 637,
        "start_time": "2024-01-20T16:09:49.554Z"
      },
      {
        "duration": 5,
        "start_time": "2024-01-20T16:09:50.192Z"
      },
      {
        "duration": 19,
        "start_time": "2024-01-20T16:09:50.199Z"
      },
      {
        "duration": 20,
        "start_time": "2024-01-20T16:09:50.220Z"
      },
      {
        "duration": 29,
        "start_time": "2024-01-20T16:09:50.241Z"
      },
      {
        "duration": 4,
        "start_time": "2024-01-20T16:09:50.271Z"
      },
      {
        "duration": 22,
        "start_time": "2024-01-20T16:09:50.277Z"
      },
      {
        "duration": 17,
        "start_time": "2024-01-20T16:09:50.301Z"
      },
      {
        "duration": 21,
        "start_time": "2024-01-20T16:09:50.320Z"
      },
      {
        "duration": 12,
        "start_time": "2024-01-20T16:09:50.342Z"
      },
      {
        "duration": 30,
        "start_time": "2024-01-20T16:09:50.356Z"
      },
      {
        "duration": 341,
        "start_time": "2024-01-20T16:09:50.388Z"
      },
      {
        "duration": 457,
        "start_time": "2024-01-20T16:09:50.731Z"
      },
      {
        "duration": 51,
        "start_time": "2024-01-20T16:09:51.189Z"
      },
      {
        "duration": 597,
        "start_time": "2024-01-20T16:09:51.242Z"
      },
      {
        "duration": 0,
        "start_time": "2024-01-20T16:09:51.840Z"
      },
      {
        "duration": 24,
        "start_time": "2024-01-20T16:10:00.586Z"
      },
      {
        "duration": 422,
        "start_time": "2024-01-20T16:10:46.136Z"
      },
      {
        "duration": 776,
        "start_time": "2024-01-20T16:13:20.885Z"
      },
      {
        "duration": 846,
        "start_time": "2024-01-20T16:13:39.115Z"
      },
      {
        "duration": 823,
        "start_time": "2024-01-20T16:14:22.237Z"
      },
      {
        "duration": 805,
        "start_time": "2024-01-20T16:14:59.166Z"
      },
      {
        "duration": 23,
        "start_time": "2024-01-20T16:24:33.925Z"
      },
      {
        "duration": 1289,
        "start_time": "2024-01-21T10:46:54.472Z"
      },
      {
        "duration": 130,
        "start_time": "2024-01-21T10:46:55.763Z"
      },
      {
        "duration": 15,
        "start_time": "2024-01-21T10:46:55.897Z"
      },
      {
        "duration": 689,
        "start_time": "2024-01-21T10:46:55.913Z"
      },
      {
        "duration": 4,
        "start_time": "2024-01-21T10:46:56.604Z"
      },
      {
        "duration": 15,
        "start_time": "2024-01-21T10:46:56.620Z"
      },
      {
        "duration": 8,
        "start_time": "2024-01-21T10:46:56.636Z"
      },
      {
        "duration": 18,
        "start_time": "2024-01-21T10:46:56.646Z"
      },
      {
        "duration": 3,
        "start_time": "2024-01-21T10:46:56.667Z"
      },
      {
        "duration": 8,
        "start_time": "2024-01-21T10:46:56.672Z"
      },
      {
        "duration": 39,
        "start_time": "2024-01-21T10:46:56.682Z"
      },
      {
        "duration": 13,
        "start_time": "2024-01-21T10:46:56.723Z"
      },
      {
        "duration": 22,
        "start_time": "2024-01-21T10:46:56.738Z"
      },
      {
        "duration": 23,
        "start_time": "2024-01-21T10:46:56.761Z"
      },
      {
        "duration": 330,
        "start_time": "2024-01-21T10:46:56.786Z"
      },
      {
        "duration": 484,
        "start_time": "2024-01-21T10:46:57.117Z"
      },
      {
        "duration": 64,
        "start_time": "2024-01-21T10:46:57.603Z"
      },
      {
        "duration": 888,
        "start_time": "2024-01-21T10:46:57.669Z"
      },
      {
        "duration": 25,
        "start_time": "2024-01-21T10:46:58.559Z"
      },
      {
        "duration": 1229,
        "start_time": "2024-01-21T11:25:06.025Z"
      },
      {
        "duration": 100,
        "start_time": "2024-01-21T11:25:07.256Z"
      },
      {
        "duration": 16,
        "start_time": "2024-01-21T11:25:07.357Z"
      },
      {
        "duration": 698,
        "start_time": "2024-01-21T11:25:07.376Z"
      },
      {
        "duration": 5,
        "start_time": "2024-01-21T11:25:08.076Z"
      },
      {
        "duration": 17,
        "start_time": "2024-01-21T11:25:08.083Z"
      },
      {
        "duration": 25,
        "start_time": "2024-01-21T11:25:08.102Z"
      },
      {
        "duration": 18,
        "start_time": "2024-01-21T11:25:08.128Z"
      },
      {
        "duration": 3,
        "start_time": "2024-01-21T11:25:08.148Z"
      },
      {
        "duration": 8,
        "start_time": "2024-01-21T11:25:08.153Z"
      },
      {
        "duration": 13,
        "start_time": "2024-01-21T11:25:08.163Z"
      },
      {
        "duration": 13,
        "start_time": "2024-01-21T11:25:08.177Z"
      },
      {
        "duration": 32,
        "start_time": "2024-01-21T11:25:08.191Z"
      },
      {
        "duration": 20,
        "start_time": "2024-01-21T11:25:08.225Z"
      },
      {
        "duration": 361,
        "start_time": "2024-01-21T11:25:08.247Z"
      },
      {
        "duration": 488,
        "start_time": "2024-01-21T11:25:08.609Z"
      },
      {
        "duration": 64,
        "start_time": "2024-01-21T11:25:09.099Z"
      },
      {
        "duration": 890,
        "start_time": "2024-01-21T11:25:09.165Z"
      },
      {
        "duration": 23,
        "start_time": "2024-01-21T11:25:10.056Z"
      },
      {
        "duration": 2,
        "start_time": "2024-01-21T11:25:10.080Z"
      },
      {
        "duration": 17,
        "start_time": "2024-01-21T11:29:35.096Z"
      },
      {
        "duration": 5,
        "start_time": "2024-01-21T11:30:01.253Z"
      },
      {
        "duration": 23,
        "start_time": "2024-01-21T11:30:19.255Z"
      },
      {
        "duration": 14,
        "start_time": "2024-01-21T11:30:26.496Z"
      },
      {
        "duration": 445,
        "start_time": "2024-01-21T11:32:43.199Z"
      },
      {
        "duration": 217,
        "start_time": "2024-01-21T11:34:11.551Z"
      },
      {
        "duration": 1165,
        "start_time": "2024-01-21T11:34:58.577Z"
      },
      {
        "duration": 82,
        "start_time": "2024-01-21T11:34:59.744Z"
      },
      {
        "duration": 15,
        "start_time": "2024-01-21T11:34:59.828Z"
      },
      {
        "duration": 706,
        "start_time": "2024-01-21T11:34:59.845Z"
      },
      {
        "duration": 4,
        "start_time": "2024-01-21T11:35:00.552Z"
      },
      {
        "duration": 90,
        "start_time": "2024-01-21T11:35:00.557Z"
      },
      {
        "duration": 39,
        "start_time": "2024-01-21T11:35:00.649Z"
      },
      {
        "duration": 37,
        "start_time": "2024-01-21T11:35:00.690Z"
      },
      {
        "duration": 14,
        "start_time": "2024-01-21T11:35:00.728Z"
      },
      {
        "duration": 32,
        "start_time": "2024-01-21T11:35:00.744Z"
      },
      {
        "duration": 56,
        "start_time": "2024-01-21T11:35:00.778Z"
      },
      {
        "duration": 58,
        "start_time": "2024-01-21T11:35:00.835Z"
      },
      {
        "duration": 29,
        "start_time": "2024-01-21T11:35:00.894Z"
      },
      {
        "duration": 45,
        "start_time": "2024-01-21T11:35:00.925Z"
      },
      {
        "duration": 333,
        "start_time": "2024-01-21T11:35:00.972Z"
      },
      {
        "duration": 485,
        "start_time": "2024-01-21T11:35:01.307Z"
      },
      {
        "duration": 57,
        "start_time": "2024-01-21T11:35:01.794Z"
      },
      {
        "duration": 885,
        "start_time": "2024-01-21T11:35:01.852Z"
      },
      {
        "duration": 22,
        "start_time": "2024-01-21T11:35:02.739Z"
      },
      {
        "duration": 1236,
        "start_time": "2024-01-21T11:36:13.591Z"
      },
      {
        "duration": 75,
        "start_time": "2024-01-21T11:36:14.829Z"
      },
      {
        "duration": 15,
        "start_time": "2024-01-21T11:36:14.905Z"
      },
      {
        "duration": 670,
        "start_time": "2024-01-21T11:36:14.922Z"
      },
      {
        "duration": 5,
        "start_time": "2024-01-21T11:36:15.594Z"
      },
      {
        "duration": 30,
        "start_time": "2024-01-21T11:36:15.601Z"
      },
      {
        "duration": 8,
        "start_time": "2024-01-21T11:36:15.633Z"
      },
      {
        "duration": 31,
        "start_time": "2024-01-21T11:36:15.643Z"
      },
      {
        "duration": 4,
        "start_time": "2024-01-21T11:36:15.675Z"
      },
      {
        "duration": 16,
        "start_time": "2024-01-21T11:36:15.680Z"
      },
      {
        "duration": 22,
        "start_time": "2024-01-21T11:36:15.698Z"
      },
      {
        "duration": 38,
        "start_time": "2024-01-21T11:36:15.722Z"
      },
      {
        "duration": 10,
        "start_time": "2024-01-21T11:36:15.761Z"
      },
      {
        "duration": 17,
        "start_time": "2024-01-21T11:36:15.773Z"
      },
      {
        "duration": 325,
        "start_time": "2024-01-21T11:36:15.792Z"
      },
      {
        "duration": 509,
        "start_time": "2024-01-21T11:36:16.120Z"
      },
      {
        "duration": 50,
        "start_time": "2024-01-21T11:36:16.631Z"
      },
      {
        "duration": 827,
        "start_time": "2024-01-21T11:36:16.682Z"
      },
      {
        "duration": 28,
        "start_time": "2024-01-21T11:36:17.511Z"
      },
      {
        "duration": 108343,
        "start_time": "2024-01-21T11:36:17.540Z"
      },
      {
        "duration": 463,
        "start_time": "2024-01-21T11:55:19.734Z"
      },
      {
        "duration": 101,
        "start_time": "2024-01-21T11:55:39.259Z"
      },
      {
        "duration": 459,
        "start_time": "2024-01-21T11:58:41.308Z"
      },
      {
        "duration": 297,
        "start_time": "2024-01-21T12:01:44.048Z"
      },
      {
        "duration": 271,
        "start_time": "2024-01-21T12:01:58.578Z"
      },
      {
        "duration": 281,
        "start_time": "2024-01-21T12:02:31.957Z"
      },
      {
        "duration": 112,
        "start_time": "2024-01-21T12:09:05.432Z"
      },
      {
        "duration": 11,
        "start_time": "2024-01-21T12:10:26.288Z"
      },
      {
        "duration": 19,
        "start_time": "2024-01-21T12:45:57.539Z"
      },
      {
        "duration": 25,
        "start_time": "2024-01-21T12:46:11.768Z"
      },
      {
        "duration": 15,
        "start_time": "2024-01-21T12:47:16.173Z"
      },
      {
        "duration": 69,
        "start_time": "2024-01-21T12:53:34.802Z"
      },
      {
        "duration": 8,
        "start_time": "2024-01-21T12:53:42.112Z"
      },
      {
        "duration": 8,
        "start_time": "2024-01-21T12:53:53.245Z"
      },
      {
        "duration": 8,
        "start_time": "2024-01-21T12:53:58.736Z"
      },
      {
        "duration": 8,
        "start_time": "2024-01-21T12:54:04.889Z"
      },
      {
        "duration": 7,
        "start_time": "2024-01-21T12:54:10.567Z"
      },
      {
        "duration": 8,
        "start_time": "2024-01-21T12:54:18.008Z"
      },
      {
        "duration": 12,
        "start_time": "2024-01-21T12:54:27.024Z"
      },
      {
        "duration": 8,
        "start_time": "2024-01-21T12:54:31.227Z"
      },
      {
        "duration": 12,
        "start_time": "2024-01-21T12:54:42.206Z"
      },
      {
        "duration": 11,
        "start_time": "2024-01-21T12:56:56.692Z"
      },
      {
        "duration": 27,
        "start_time": "2024-01-21T13:00:56.850Z"
      },
      {
        "duration": 26,
        "start_time": "2024-01-21T13:01:40.528Z"
      },
      {
        "duration": 327,
        "start_time": "2024-01-21T13:02:36.359Z"
      },
      {
        "duration": 25,
        "start_time": "2024-01-21T13:02:54.283Z"
      },
      {
        "duration": 39,
        "start_time": "2024-01-21T13:04:12.317Z"
      },
      {
        "duration": 623,
        "start_time": "2024-01-21T13:06:58.765Z"
      },
      {
        "duration": 34,
        "start_time": "2024-01-21T13:14:55.058Z"
      },
      {
        "duration": 25,
        "start_time": "2024-01-21T13:15:32.640Z"
      },
      {
        "duration": 345,
        "start_time": "2024-01-21T13:16:09.714Z"
      },
      {
        "duration": 309,
        "start_time": "2024-01-21T13:17:46.149Z"
      },
      {
        "duration": 298,
        "start_time": "2024-01-21T13:19:08.976Z"
      },
      {
        "duration": 301,
        "start_time": "2024-01-21T13:19:16.879Z"
      },
      {
        "duration": 309,
        "start_time": "2024-01-21T13:20:31.664Z"
      },
      {
        "duration": 344,
        "start_time": "2024-01-21T13:22:42.199Z"
      },
      {
        "duration": 3,
        "start_time": "2024-01-21T13:23:38.560Z"
      },
      {
        "duration": 280,
        "start_time": "2024-01-21T13:24:04.334Z"
      },
      {
        "duration": 155,
        "start_time": "2024-01-21T13:33:33.342Z"
      },
      {
        "duration": 159,
        "start_time": "2024-01-21T13:37:19.550Z"
      },
      {
        "duration": 924,
        "start_time": "2024-01-21T13:37:52.876Z"
      },
      {
        "duration": 173,
        "start_time": "2024-01-21T13:40:54.465Z"
      },
      {
        "duration": 206,
        "start_time": "2024-01-21T13:41:08.157Z"
      },
      {
        "duration": 194,
        "start_time": "2024-01-21T13:41:20.516Z"
      },
      {
        "duration": 213,
        "start_time": "2024-01-21T13:41:32.340Z"
      },
      {
        "duration": 1677,
        "start_time": "2024-01-21T14:10:48.507Z"
      },
      {
        "duration": 199,
        "start_time": "2024-01-21T14:11:54.372Z"
      },
      {
        "duration": 223,
        "start_time": "2024-01-21T14:12:01.463Z"
      },
      {
        "duration": 1705,
        "start_time": "2024-01-21T14:12:09.288Z"
      },
      {
        "duration": 1509,
        "start_time": "2024-01-21T14:12:18.278Z"
      },
      {
        "duration": 1523,
        "start_time": "2024-01-21T14:12:29.014Z"
      },
      {
        "duration": 1372,
        "start_time": "2024-01-21T14:12:52.093Z"
      },
      {
        "duration": 1162,
        "start_time": "2024-01-21T15:17:32.959Z"
      },
      {
        "duration": 78,
        "start_time": "2024-01-21T15:17:34.123Z"
      },
      {
        "duration": 14,
        "start_time": "2024-01-21T15:17:34.202Z"
      },
      {
        "duration": 648,
        "start_time": "2024-01-21T15:17:34.217Z"
      },
      {
        "duration": 4,
        "start_time": "2024-01-21T15:17:34.867Z"
      },
      {
        "duration": 31,
        "start_time": "2024-01-21T15:17:34.872Z"
      },
      {
        "duration": 14,
        "start_time": "2024-01-21T15:17:34.904Z"
      },
      {
        "duration": 20,
        "start_time": "2024-01-21T15:17:34.919Z"
      },
      {
        "duration": 4,
        "start_time": "2024-01-21T15:17:34.940Z"
      },
      {
        "duration": 22,
        "start_time": "2024-01-21T15:17:34.946Z"
      },
      {
        "duration": 30,
        "start_time": "2024-01-21T15:17:34.970Z"
      },
      {
        "duration": 44,
        "start_time": "2024-01-21T15:17:35.002Z"
      },
      {
        "duration": 37,
        "start_time": "2024-01-21T15:17:35.048Z"
      },
      {
        "duration": 34,
        "start_time": "2024-01-21T15:17:35.086Z"
      },
      {
        "duration": 346,
        "start_time": "2024-01-21T15:17:35.121Z"
      },
      {
        "duration": 480,
        "start_time": "2024-01-21T15:17:35.468Z"
      },
      {
        "duration": 45,
        "start_time": "2024-01-21T15:17:35.950Z"
      },
      {
        "duration": 872,
        "start_time": "2024-01-21T15:17:35.997Z"
      },
      {
        "duration": 22,
        "start_time": "2024-01-21T15:17:36.870Z"
      },
      {
        "duration": 246,
        "start_time": "2024-01-21T15:17:36.894Z"
      },
      {
        "duration": 305,
        "start_time": "2024-01-21T15:17:37.142Z"
      },
      {
        "duration": 222,
        "start_time": "2024-01-21T15:17:37.449Z"
      },
      {
        "duration": 1335,
        "start_time": "2024-01-21T15:17:37.673Z"
      },
      {
        "duration": 1359,
        "start_time": "2024-01-21T15:26:13.577Z"
      },
      {
        "duration": 72,
        "start_time": "2024-01-21T15:27:03.509Z"
      },
      {
        "duration": 1311,
        "start_time": "2024-01-21T15:27:48.957Z"
      },
      {
        "duration": 1366,
        "start_time": "2024-01-21T15:37:16.086Z"
      },
      {
        "duration": 1193,
        "start_time": "2024-01-21T15:37:26.823Z"
      },
      {
        "duration": 406,
        "start_time": "2024-01-21T15:41:04.096Z"
      },
      {
        "duration": 321,
        "start_time": "2024-01-21T15:41:18.907Z"
      },
      {
        "duration": 1378,
        "start_time": "2024-01-21T15:41:42.157Z"
      },
      {
        "duration": 332,
        "start_time": "2024-01-21T15:43:42.653Z"
      },
      {
        "duration": 1299,
        "start_time": "2024-01-21T15:45:25.855Z"
      },
      {
        "duration": 1333,
        "start_time": "2024-01-21T15:46:18.530Z"
      },
      {
        "duration": 1446,
        "start_time": "2024-01-21T15:49:39.101Z"
      },
      {
        "duration": 69,
        "start_time": "2024-01-21T15:58:20.459Z"
      },
      {
        "duration": 210,
        "start_time": "2024-01-21T15:58:32.065Z"
      },
      {
        "duration": 31,
        "start_time": "2024-01-21T15:58:51.240Z"
      },
      {
        "duration": 33,
        "start_time": "2024-01-21T15:59:38.658Z"
      },
      {
        "duration": 34,
        "start_time": "2024-01-21T16:00:01.279Z"
      },
      {
        "duration": 237,
        "start_time": "2024-01-21T16:00:22.738Z"
      },
      {
        "duration": 261,
        "start_time": "2024-01-21T16:02:23.953Z"
      },
      {
        "duration": 260,
        "start_time": "2024-01-21T16:02:31.894Z"
      },
      {
        "duration": 332,
        "start_time": "2024-01-21T16:02:47.019Z"
      },
      {
        "duration": 259,
        "start_time": "2024-01-21T16:03:01.435Z"
      },
      {
        "duration": 255,
        "start_time": "2024-01-21T16:03:13.335Z"
      },
      {
        "duration": 24,
        "start_time": "2024-01-21T16:06:22.188Z"
      },
      {
        "duration": 287,
        "start_time": "2024-01-21T16:06:43.873Z"
      },
      {
        "duration": 294,
        "start_time": "2024-01-21T16:08:06.356Z"
      },
      {
        "duration": 19,
        "start_time": "2024-01-21T16:27:05.894Z"
      },
      {
        "duration": 39,
        "start_time": "2024-01-21T16:27:39.905Z"
      },
      {
        "duration": 46,
        "start_time": "2024-01-21T16:28:01.890Z"
      },
      {
        "duration": 271,
        "start_time": "2024-01-21T16:28:19.014Z"
      },
      {
        "duration": 278,
        "start_time": "2024-01-21T16:28:29.367Z"
      },
      {
        "duration": 290,
        "start_time": "2024-01-21T16:29:03.985Z"
      },
      {
        "duration": 267,
        "start_time": "2024-01-21T16:29:42.204Z"
      },
      {
        "duration": 620,
        "start_time": "2024-01-21T16:31:02.842Z"
      },
      {
        "duration": 249,
        "start_time": "2024-01-21T16:31:08.914Z"
      },
      {
        "duration": 538,
        "start_time": "2024-01-21T16:31:15.611Z"
      },
      {
        "duration": 274,
        "start_time": "2024-01-21T16:31:23.117Z"
      },
      {
        "duration": 1312,
        "start_time": "2024-01-24T14:28:24.560Z"
      },
      {
        "duration": 111,
        "start_time": "2024-01-24T14:28:25.874Z"
      },
      {
        "duration": 13,
        "start_time": "2024-01-24T14:28:25.986Z"
      },
      {
        "duration": 584,
        "start_time": "2024-01-24T14:28:26.000Z"
      },
      {
        "duration": 4,
        "start_time": "2024-01-24T14:28:26.586Z"
      },
      {
        "duration": 15,
        "start_time": "2024-01-24T14:28:26.591Z"
      },
      {
        "duration": 27,
        "start_time": "2024-01-24T14:28:26.607Z"
      },
      {
        "duration": 17,
        "start_time": "2024-01-24T14:28:26.635Z"
      },
      {
        "duration": 3,
        "start_time": "2024-01-24T14:28:26.654Z"
      },
      {
        "duration": 5,
        "start_time": "2024-01-24T14:28:26.659Z"
      },
      {
        "duration": 10,
        "start_time": "2024-01-24T14:28:26.665Z"
      },
      {
        "duration": 12,
        "start_time": "2024-01-24T14:28:26.677Z"
      },
      {
        "duration": 4,
        "start_time": "2024-01-24T14:28:26.690Z"
      },
      {
        "duration": 44,
        "start_time": "2024-01-24T14:28:26.695Z"
      },
      {
        "duration": 324,
        "start_time": "2024-01-24T14:28:26.740Z"
      },
      {
        "duration": 430,
        "start_time": "2024-01-24T14:28:27.065Z"
      },
      {
        "duration": 53,
        "start_time": "2024-01-24T14:28:27.497Z"
      },
      {
        "duration": 762,
        "start_time": "2024-01-24T14:28:27.551Z"
      },
      {
        "duration": 28,
        "start_time": "2024-01-24T14:28:28.315Z"
      },
      {
        "duration": 221,
        "start_time": "2024-01-24T14:28:28.345Z"
      },
      {
        "duration": 274,
        "start_time": "2024-01-24T14:28:28.567Z"
      },
      {
        "duration": 180,
        "start_time": "2024-01-24T14:28:28.843Z"
      },
      {
        "duration": 1228,
        "start_time": "2024-01-24T14:28:29.025Z"
      },
      {
        "duration": 237,
        "start_time": "2024-01-24T14:28:30.254Z"
      },
      {
        "duration": 273,
        "start_time": "2024-01-24T14:28:30.493Z"
      },
      {
        "duration": 262,
        "start_time": "2024-01-24T14:28:30.768Z"
      },
      {
        "duration": 5,
        "start_time": "2024-01-24T14:32:34.063Z"
      },
      {
        "duration": 93,
        "start_time": "2024-01-24T14:33:28.492Z"
      },
      {
        "duration": 21,
        "start_time": "2024-01-24T14:33:31.950Z"
      },
      {
        "duration": 1287,
        "start_time": "2024-01-27T10:23:43.584Z"
      },
      {
        "duration": 201,
        "start_time": "2024-01-27T10:23:44.873Z"
      },
      {
        "duration": 14,
        "start_time": "2024-01-27T10:23:45.076Z"
      },
      {
        "duration": 623,
        "start_time": "2024-01-27T10:23:45.092Z"
      },
      {
        "duration": 4,
        "start_time": "2024-01-27T10:23:45.716Z"
      },
      {
        "duration": 19,
        "start_time": "2024-01-27T10:23:45.721Z"
      },
      {
        "duration": 18,
        "start_time": "2024-01-27T10:23:45.741Z"
      },
      {
        "duration": 18,
        "start_time": "2024-01-27T10:23:45.761Z"
      },
      {
        "duration": 3,
        "start_time": "2024-01-27T10:23:45.781Z"
      },
      {
        "duration": 12,
        "start_time": "2024-01-27T10:23:45.787Z"
      },
      {
        "duration": 9,
        "start_time": "2024-01-27T10:23:45.801Z"
      },
      {
        "duration": 12,
        "start_time": "2024-01-27T10:23:45.812Z"
      },
      {
        "duration": 4,
        "start_time": "2024-01-27T10:23:45.826Z"
      },
      {
        "duration": 16,
        "start_time": "2024-01-27T10:23:45.858Z"
      },
      {
        "duration": 383,
        "start_time": "2024-01-27T10:23:45.875Z"
      },
      {
        "duration": 373,
        "start_time": "2024-01-27T10:23:46.260Z"
      },
      {
        "duration": 59,
        "start_time": "2024-01-27T10:23:46.635Z"
      },
      {
        "duration": 755,
        "start_time": "2024-01-27T10:23:46.696Z"
      },
      {
        "duration": 26,
        "start_time": "2024-01-27T10:23:47.453Z"
      },
      {
        "duration": 219,
        "start_time": "2024-01-27T10:23:47.481Z"
      },
      {
        "duration": 289,
        "start_time": "2024-01-27T10:23:47.702Z"
      },
      {
        "duration": 182,
        "start_time": "2024-01-27T10:23:47.993Z"
      },
      {
        "duration": 1189,
        "start_time": "2024-01-27T10:23:48.176Z"
      },
      {
        "duration": 236,
        "start_time": "2024-01-27T10:23:49.367Z"
      },
      {
        "duration": 250,
        "start_time": "2024-01-27T10:23:49.605Z"
      },
      {
        "duration": 260,
        "start_time": "2024-01-27T10:23:49.857Z"
      },
      {
        "duration": 8,
        "start_time": "2024-01-27T10:23:50.119Z"
      },
      {
        "duration": 138,
        "start_time": "2024-01-27T10:35:26.455Z"
      },
      {
        "duration": 12,
        "start_time": "2024-01-27T10:36:32.790Z"
      },
      {
        "duration": 11,
        "start_time": "2024-01-27T10:43:47.951Z"
      },
      {
        "duration": 13,
        "start_time": "2024-01-27T10:44:06.889Z"
      },
      {
        "duration": 11,
        "start_time": "2024-01-27T10:44:32.364Z"
      },
      {
        "duration": 1515,
        "start_time": "2024-01-27T11:01:50.337Z"
      },
      {
        "duration": 10,
        "start_time": "2024-01-27T11:02:01.076Z"
      },
      {
        "duration": 11,
        "start_time": "2024-01-27T11:02:06.066Z"
      },
      {
        "duration": 14,
        "start_time": "2024-01-27T11:02:16.631Z"
      },
      {
        "duration": 13,
        "start_time": "2024-01-27T11:02:24.581Z"
      },
      {
        "duration": 14,
        "start_time": "2024-01-27T11:02:32.098Z"
      },
      {
        "duration": 82,
        "start_time": "2024-01-27T11:07:04.249Z"
      },
      {
        "duration": 13,
        "start_time": "2024-01-27T11:07:55.282Z"
      },
      {
        "duration": 58,
        "start_time": "2024-01-27T11:08:18.339Z"
      },
      {
        "duration": 4,
        "start_time": "2024-01-27T11:08:22.370Z"
      },
      {
        "duration": 31,
        "start_time": "2024-01-27T11:13:51.421Z"
      },
      {
        "duration": 35,
        "start_time": "2024-01-27T11:14:08.143Z"
      },
      {
        "duration": 31,
        "start_time": "2024-01-27T11:14:21.855Z"
      },
      {
        "duration": 359,
        "start_time": "2024-01-27T11:19:53.137Z"
      },
      {
        "duration": 384,
        "start_time": "2024-01-27T11:20:31.067Z"
      },
      {
        "duration": 199,
        "start_time": "2024-01-27T11:22:41.845Z"
      },
      {
        "duration": 385,
        "start_time": "2024-01-27T11:22:50.261Z"
      },
      {
        "duration": 370,
        "start_time": "2024-01-27T11:23:22.960Z"
      },
      {
        "duration": 377,
        "start_time": "2024-01-27T11:23:29.132Z"
      },
      {
        "duration": 360,
        "start_time": "2024-01-27T11:23:35.404Z"
      },
      {
        "duration": 350,
        "start_time": "2024-01-27T11:24:43.856Z"
      },
      {
        "duration": 436,
        "start_time": "2024-01-27T11:28:36.972Z"
      },
      {
        "duration": 380,
        "start_time": "2024-01-27T11:28:51.980Z"
      },
      {
        "duration": 375,
        "start_time": "2024-01-27T11:29:04.987Z"
      },
      {
        "duration": 365,
        "start_time": "2024-01-27T11:29:44.333Z"
      },
      {
        "duration": 384,
        "start_time": "2024-01-27T11:30:01.046Z"
      },
      {
        "duration": 361,
        "start_time": "2024-01-27T11:30:12.636Z"
      },
      {
        "duration": 16,
        "start_time": "2024-01-27T11:49:50.601Z"
      },
      {
        "duration": 4,
        "start_time": "2024-01-27T11:50:25.338Z"
      },
      {
        "duration": 6,
        "start_time": "2024-01-27T11:50:31.272Z"
      },
      {
        "duration": 30,
        "start_time": "2024-01-27T11:58:53.819Z"
      },
      {
        "duration": 28,
        "start_time": "2024-01-27T12:04:17.009Z"
      },
      {
        "duration": 24,
        "start_time": "2024-01-27T12:04:23.308Z"
      },
      {
        "duration": 30,
        "start_time": "2024-01-27T12:04:41.353Z"
      },
      {
        "duration": 281,
        "start_time": "2024-01-27T12:09:03.425Z"
      },
      {
        "duration": 176,
        "start_time": "2024-01-27T12:09:17.856Z"
      },
      {
        "duration": 195,
        "start_time": "2024-01-27T12:10:38.090Z"
      },
      {
        "duration": 77,
        "start_time": "2024-01-27T12:12:21.856Z"
      },
      {
        "duration": 736,
        "start_time": "2024-01-27T12:12:29.048Z"
      },
      {
        "duration": 53,
        "start_time": "2024-01-27T12:13:01.674Z"
      },
      {
        "duration": 18,
        "start_time": "2024-01-27T12:13:07.936Z"
      },
      {
        "duration": 16,
        "start_time": "2024-01-27T12:13:18.450Z"
      },
      {
        "duration": 18,
        "start_time": "2024-01-27T12:13:52.043Z"
      },
      {
        "duration": 15,
        "start_time": "2024-01-27T12:14:28.693Z"
      },
      {
        "duration": 30,
        "start_time": "2024-01-27T12:14:42.415Z"
      },
      {
        "duration": 1410,
        "start_time": "2024-01-27T12:15:26.118Z"
      },
      {
        "duration": 4,
        "start_time": "2024-01-27T12:20:31.923Z"
      },
      {
        "duration": 6,
        "start_time": "2024-01-27T12:29:14.852Z"
      },
      {
        "duration": 29,
        "start_time": "2024-01-27T12:29:23.797Z"
      },
      {
        "duration": 8,
        "start_time": "2024-01-27T12:30:04.982Z"
      },
      {
        "duration": 7,
        "start_time": "2024-01-27T12:30:20.116Z"
      },
      {
        "duration": 3,
        "start_time": "2024-01-27T12:31:31.850Z"
      },
      {
        "duration": 8,
        "start_time": "2024-01-27T12:31:36.727Z"
      },
      {
        "duration": 384,
        "start_time": "2024-01-27T12:34:34.371Z"
      },
      {
        "duration": 492,
        "start_time": "2024-01-27T12:34:42.317Z"
      },
      {
        "duration": 411,
        "start_time": "2024-01-27T12:35:36.389Z"
      },
      {
        "duration": 1319,
        "start_time": "2024-01-28T12:05:04.966Z"
      },
      {
        "duration": 127,
        "start_time": "2024-01-28T12:05:06.287Z"
      },
      {
        "duration": 13,
        "start_time": "2024-01-28T12:05:06.416Z"
      },
      {
        "duration": 652,
        "start_time": "2024-01-28T12:05:06.431Z"
      },
      {
        "duration": 4,
        "start_time": "2024-01-28T12:05:07.085Z"
      },
      {
        "duration": 19,
        "start_time": "2024-01-28T12:05:07.091Z"
      },
      {
        "duration": 24,
        "start_time": "2024-01-28T12:05:07.113Z"
      },
      {
        "duration": 30,
        "start_time": "2024-01-28T12:05:07.139Z"
      },
      {
        "duration": 13,
        "start_time": "2024-01-28T12:05:07.171Z"
      },
      {
        "duration": 28,
        "start_time": "2024-01-28T12:05:07.187Z"
      },
      {
        "duration": 29,
        "start_time": "2024-01-28T12:05:07.216Z"
      },
      {
        "duration": 56,
        "start_time": "2024-01-28T12:05:07.247Z"
      },
      {
        "duration": 16,
        "start_time": "2024-01-28T12:05:07.304Z"
      },
      {
        "duration": 22,
        "start_time": "2024-01-28T12:05:07.322Z"
      },
      {
        "duration": 324,
        "start_time": "2024-01-28T12:05:07.345Z"
      },
      {
        "duration": 445,
        "start_time": "2024-01-28T12:05:07.670Z"
      },
      {
        "duration": 52,
        "start_time": "2024-01-28T12:05:08.116Z"
      },
      {
        "duration": 792,
        "start_time": "2024-01-28T12:05:08.170Z"
      },
      {
        "duration": 24,
        "start_time": "2024-01-28T12:05:08.964Z"
      },
      {
        "duration": 232,
        "start_time": "2024-01-28T12:05:08.990Z"
      },
      {
        "duration": 303,
        "start_time": "2024-01-28T12:05:09.224Z"
      },
      {
        "duration": 199,
        "start_time": "2024-01-28T12:05:09.529Z"
      },
      {
        "duration": 1313,
        "start_time": "2024-01-28T12:05:09.730Z"
      },
      {
        "duration": 247,
        "start_time": "2024-01-28T12:05:11.045Z"
      },
      {
        "duration": 267,
        "start_time": "2024-01-28T12:05:11.294Z"
      },
      {
        "duration": 252,
        "start_time": "2024-01-28T12:05:11.566Z"
      },
      {
        "duration": 407,
        "start_time": "2024-01-28T12:05:11.820Z"
      },
      {
        "duration": 390,
        "start_time": "2024-01-28T12:05:12.230Z"
      },
      {
        "duration": 4,
        "start_time": "2024-01-28T12:05:12.621Z"
      },
      {
        "duration": 75,
        "start_time": "2024-01-28T12:05:12.626Z"
      },
      {
        "duration": 447,
        "start_time": "2024-01-28T12:05:12.703Z"
      },
      {
        "duration": 1137,
        "start_time": "2024-01-28T12:16:26.109Z"
      },
      {
        "duration": 73,
        "start_time": "2024-01-28T12:16:27.248Z"
      },
      {
        "duration": 15,
        "start_time": "2024-01-28T12:16:27.323Z"
      },
      {
        "duration": 640,
        "start_time": "2024-01-28T12:16:27.340Z"
      },
      {
        "duration": 5,
        "start_time": "2024-01-28T12:16:27.982Z"
      },
      {
        "duration": 18,
        "start_time": "2024-01-28T12:16:27.988Z"
      },
      {
        "duration": 17,
        "start_time": "2024-01-28T12:16:28.008Z"
      },
      {
        "duration": 18,
        "start_time": "2024-01-28T12:16:28.026Z"
      },
      {
        "duration": 20,
        "start_time": "2024-01-28T12:16:28.046Z"
      },
      {
        "duration": 5,
        "start_time": "2024-01-28T12:16:28.069Z"
      },
      {
        "duration": 29,
        "start_time": "2024-01-28T12:16:28.076Z"
      },
      {
        "duration": 16,
        "start_time": "2024-01-28T12:16:28.106Z"
      },
      {
        "duration": 5,
        "start_time": "2024-01-28T12:16:28.123Z"
      },
      {
        "duration": 17,
        "start_time": "2024-01-28T12:16:28.129Z"
      },
      {
        "duration": 324,
        "start_time": "2024-01-28T12:16:28.148Z"
      },
      {
        "duration": 451,
        "start_time": "2024-01-28T12:16:28.474Z"
      },
      {
        "duration": 60,
        "start_time": "2024-01-28T12:16:28.927Z"
      },
      {
        "duration": 802,
        "start_time": "2024-01-28T12:16:28.989Z"
      },
      {
        "duration": 21,
        "start_time": "2024-01-28T12:16:29.793Z"
      },
      {
        "duration": 230,
        "start_time": "2024-01-28T12:16:29.816Z"
      },
      {
        "duration": 420,
        "start_time": "2024-01-28T12:16:30.047Z"
      },
      {
        "duration": 0,
        "start_time": "2024-01-28T12:16:30.469Z"
      },
      {
        "duration": 0,
        "start_time": "2024-01-28T12:16:30.469Z"
      },
      {
        "duration": 1,
        "start_time": "2024-01-28T12:16:30.470Z"
      },
      {
        "duration": 0,
        "start_time": "2024-01-28T12:16:30.471Z"
      },
      {
        "duration": 0,
        "start_time": "2024-01-28T12:16:30.472Z"
      },
      {
        "duration": 0,
        "start_time": "2024-01-28T12:16:30.473Z"
      },
      {
        "duration": 0,
        "start_time": "2024-01-28T12:16:30.474Z"
      },
      {
        "duration": 0,
        "start_time": "2024-01-28T12:16:30.475Z"
      },
      {
        "duration": 0,
        "start_time": "2024-01-28T12:16:30.476Z"
      },
      {
        "duration": 1,
        "start_time": "2024-01-28T12:16:30.477Z"
      },
      {
        "duration": 0,
        "start_time": "2024-01-28T12:16:30.478Z"
      },
      {
        "duration": 4,
        "start_time": "2024-01-28T12:16:56.051Z"
      },
      {
        "duration": 1222,
        "start_time": "2024-01-28T12:17:00.454Z"
      },
      {
        "duration": 75,
        "start_time": "2024-01-28T12:17:01.677Z"
      },
      {
        "duration": 15,
        "start_time": "2024-01-28T12:17:01.753Z"
      },
      {
        "duration": 657,
        "start_time": "2024-01-28T12:17:01.769Z"
      },
      {
        "duration": 4,
        "start_time": "2024-01-28T12:17:02.428Z"
      },
      {
        "duration": 28,
        "start_time": "2024-01-28T12:17:02.434Z"
      },
      {
        "duration": 17,
        "start_time": "2024-01-28T12:17:02.466Z"
      },
      {
        "duration": 36,
        "start_time": "2024-01-28T12:17:02.485Z"
      },
      {
        "duration": 3,
        "start_time": "2024-01-28T12:17:02.523Z"
      },
      {
        "duration": 11,
        "start_time": "2024-01-28T12:17:02.528Z"
      },
      {
        "duration": 22,
        "start_time": "2024-01-28T12:17:02.541Z"
      },
      {
        "duration": 30,
        "start_time": "2024-01-28T12:17:02.565Z"
      },
      {
        "duration": 17,
        "start_time": "2024-01-28T12:17:02.597Z"
      },
      {
        "duration": 27,
        "start_time": "2024-01-28T12:17:02.617Z"
      },
      {
        "duration": 319,
        "start_time": "2024-01-28T12:17:02.646Z"
      },
      {
        "duration": 470,
        "start_time": "2024-01-28T12:17:02.967Z"
      },
      {
        "duration": 56,
        "start_time": "2024-01-28T12:17:03.439Z"
      },
      {
        "duration": 809,
        "start_time": "2024-01-28T12:17:03.497Z"
      },
      {
        "duration": 22,
        "start_time": "2024-01-28T12:17:04.308Z"
      },
      {
        "duration": 256,
        "start_time": "2024-01-28T12:17:04.331Z"
      },
      {
        "duration": 326,
        "start_time": "2024-01-28T12:17:04.589Z"
      },
      {
        "duration": 196,
        "start_time": "2024-01-28T12:17:04.917Z"
      },
      {
        "duration": 1323,
        "start_time": "2024-01-28T12:17:05.115Z"
      },
      {
        "duration": 292,
        "start_time": "2024-01-28T12:17:06.440Z"
      },
      {
        "duration": 269,
        "start_time": "2024-01-28T12:17:06.734Z"
      },
      {
        "duration": 283,
        "start_time": "2024-01-28T12:17:07.004Z"
      },
      {
        "duration": 392,
        "start_time": "2024-01-28T12:17:07.289Z"
      },
      {
        "duration": 372,
        "start_time": "2024-01-28T12:17:07.683Z"
      },
      {
        "duration": 9,
        "start_time": "2024-01-28T12:17:08.057Z"
      },
      {
        "duration": 40,
        "start_time": "2024-01-28T12:17:08.067Z"
      },
      {
        "duration": 490,
        "start_time": "2024-01-28T12:17:08.108Z"
      },
      {
        "duration": 429,
        "start_time": "2024-01-28T12:17:08.600Z"
      },
      {
        "duration": 9,
        "start_time": "2024-01-28T12:17:57.189Z"
      },
      {
        "duration": 315,
        "start_time": "2024-01-28T12:18:17.453Z"
      },
      {
        "duration": 8,
        "start_time": "2024-01-28T12:19:13.183Z"
      },
      {
        "duration": 5,
        "start_time": "2024-01-28T12:25:04.215Z"
      },
      {
        "duration": 6,
        "start_time": "2024-01-28T12:25:17.579Z"
      },
      {
        "duration": 4,
        "start_time": "2024-01-28T12:25:20.869Z"
      },
      {
        "duration": 9,
        "start_time": "2024-01-28T12:27:15.816Z"
      },
      {
        "duration": 5,
        "start_time": "2024-01-28T12:28:45.871Z"
      },
      {
        "duration": 5,
        "start_time": "2024-01-28T12:36:36.338Z"
      },
      {
        "duration": 146,
        "start_time": "2024-01-28T13:00:43.803Z"
      },
      {
        "duration": 1362,
        "start_time": "2024-01-28T14:24:52.418Z"
      },
      {
        "duration": 232,
        "start_time": "2024-01-28T14:24:53.783Z"
      },
      {
        "duration": 14,
        "start_time": "2024-01-28T14:24:54.017Z"
      },
      {
        "duration": 689,
        "start_time": "2024-01-28T14:24:54.033Z"
      },
      {
        "duration": 4,
        "start_time": "2024-01-28T14:24:54.724Z"
      },
      {
        "duration": 12,
        "start_time": "2024-01-28T14:24:54.730Z"
      },
      {
        "duration": 40,
        "start_time": "2024-01-28T14:24:54.743Z"
      },
      {
        "duration": 4,
        "start_time": "2024-01-28T14:24:54.785Z"
      },
      {
        "duration": 7,
        "start_time": "2024-01-28T14:24:54.790Z"
      },
      {
        "duration": 12,
        "start_time": "2024-01-28T14:24:54.800Z"
      },
      {
        "duration": 13,
        "start_time": "2024-01-28T14:24:54.814Z"
      },
      {
        "duration": 4,
        "start_time": "2024-01-28T14:24:54.829Z"
      },
      {
        "duration": 40,
        "start_time": "2024-01-28T14:24:54.835Z"
      },
      {
        "duration": 341,
        "start_time": "2024-01-28T14:24:54.877Z"
      },
      {
        "duration": 475,
        "start_time": "2024-01-28T14:24:55.220Z"
      },
      {
        "duration": 86,
        "start_time": "2024-01-28T14:24:55.697Z"
      },
      {
        "duration": 871,
        "start_time": "2024-01-28T14:24:55.785Z"
      },
      {
        "duration": 32,
        "start_time": "2024-01-28T14:24:56.658Z"
      },
      {
        "duration": 242,
        "start_time": "2024-01-28T14:24:56.691Z"
      },
      {
        "duration": 347,
        "start_time": "2024-01-28T14:24:56.935Z"
      },
      {
        "duration": 205,
        "start_time": "2024-01-28T14:24:57.283Z"
      },
      {
        "duration": 1367,
        "start_time": "2024-01-28T14:24:57.490Z"
      },
      {
        "duration": 269,
        "start_time": "2024-01-28T14:24:58.858Z"
      },
      {
        "duration": 290,
        "start_time": "2024-01-28T14:24:59.129Z"
      },
      {
        "duration": 277,
        "start_time": "2024-01-28T14:24:59.421Z"
      },
      {
        "duration": 441,
        "start_time": "2024-01-28T14:24:59.700Z"
      },
      {
        "duration": 419,
        "start_time": "2024-01-28T14:25:00.143Z"
      },
      {
        "duration": 7,
        "start_time": "2024-01-28T14:25:00.566Z"
      },
      {
        "duration": 63,
        "start_time": "2024-01-28T14:25:00.574Z"
      },
      {
        "duration": 496,
        "start_time": "2024-01-28T14:25:00.639Z"
      },
      {
        "duration": 8,
        "start_time": "2024-01-28T14:25:01.138Z"
      },
      {
        "duration": 45,
        "start_time": "2024-01-28T14:25:01.148Z"
      },
      {
        "duration": 37,
        "start_time": "2024-01-28T14:25:01.194Z"
      },
      {
        "duration": 58,
        "start_time": "2024-01-28T14:25:01.232Z"
      },
      {
        "duration": 6,
        "start_time": "2024-01-28T15:26:18.258Z"
      },
      {
        "duration": 1065,
        "start_time": "2024-01-28T17:33:10.754Z"
      },
      {
        "duration": 108,
        "start_time": "2024-01-28T17:33:11.821Z"
      },
      {
        "duration": 12,
        "start_time": "2024-01-28T17:33:11.931Z"
      },
      {
        "duration": 604,
        "start_time": "2024-01-28T17:33:11.945Z"
      },
      {
        "duration": 4,
        "start_time": "2024-01-28T17:33:12.550Z"
      },
      {
        "duration": 8,
        "start_time": "2024-01-28T17:33:12.556Z"
      },
      {
        "duration": 16,
        "start_time": "2024-01-28T17:33:12.565Z"
      },
      {
        "duration": 3,
        "start_time": "2024-01-28T17:33:12.582Z"
      },
      {
        "duration": 12,
        "start_time": "2024-01-28T17:33:12.586Z"
      },
      {
        "duration": 8,
        "start_time": "2024-01-28T17:33:12.601Z"
      },
      {
        "duration": 12,
        "start_time": "2024-01-28T17:33:12.633Z"
      },
      {
        "duration": 4,
        "start_time": "2024-01-28T17:33:12.646Z"
      },
      {
        "duration": 103,
        "start_time": "2024-01-28T17:33:12.651Z"
      },
      {
        "duration": 0,
        "start_time": "2024-01-28T17:33:12.756Z"
      },
      {
        "duration": 0,
        "start_time": "2024-01-28T17:33:12.758Z"
      },
      {
        "duration": 0,
        "start_time": "2024-01-28T17:33:12.758Z"
      },
      {
        "duration": 1,
        "start_time": "2024-01-28T17:33:12.759Z"
      },
      {
        "duration": 0,
        "start_time": "2024-01-28T17:33:12.761Z"
      },
      {
        "duration": 0,
        "start_time": "2024-01-28T17:33:12.762Z"
      },
      {
        "duration": 0,
        "start_time": "2024-01-28T17:33:12.763Z"
      },
      {
        "duration": 0,
        "start_time": "2024-01-28T17:33:12.764Z"
      },
      {
        "duration": 0,
        "start_time": "2024-01-28T17:33:12.765Z"
      },
      {
        "duration": 0,
        "start_time": "2024-01-28T17:33:12.766Z"
      },
      {
        "duration": 0,
        "start_time": "2024-01-28T17:33:12.767Z"
      },
      {
        "duration": 0,
        "start_time": "2024-01-28T17:33:12.769Z"
      },
      {
        "duration": 0,
        "start_time": "2024-01-28T17:33:12.771Z"
      },
      {
        "duration": 0,
        "start_time": "2024-01-28T17:33:12.772Z"
      },
      {
        "duration": 0,
        "start_time": "2024-01-28T17:33:12.773Z"
      },
      {
        "duration": 0,
        "start_time": "2024-01-28T17:33:12.774Z"
      },
      {
        "duration": 0,
        "start_time": "2024-01-28T17:33:12.776Z"
      },
      {
        "duration": 0,
        "start_time": "2024-01-28T17:33:12.777Z"
      },
      {
        "duration": 0,
        "start_time": "2024-01-28T17:33:12.778Z"
      },
      {
        "duration": 0,
        "start_time": "2024-01-28T17:33:12.779Z"
      },
      {
        "duration": 0,
        "start_time": "2024-01-28T17:33:12.780Z"
      },
      {
        "duration": 78,
        "start_time": "2024-01-28T17:35:46.158Z"
      },
      {
        "duration": 14,
        "start_time": "2024-01-28T17:43:00.553Z"
      },
      {
        "duration": 346,
        "start_time": "2024-01-28T17:43:01.154Z"
      },
      {
        "duration": 438,
        "start_time": "2024-01-28T17:43:02.764Z"
      },
      {
        "duration": 57,
        "start_time": "2024-01-28T17:43:04.647Z"
      },
      {
        "duration": 736,
        "start_time": "2024-01-28T17:43:05.408Z"
      },
      {
        "duration": 22,
        "start_time": "2024-01-28T17:43:09.076Z"
      },
      {
        "duration": 200,
        "start_time": "2024-01-28T17:43:11.904Z"
      },
      {
        "duration": 255,
        "start_time": "2024-01-28T17:43:13.062Z"
      },
      {
        "duration": 173,
        "start_time": "2024-01-28T17:43:14.592Z"
      },
      {
        "duration": 1155,
        "start_time": "2024-01-28T17:43:16.180Z"
      },
      {
        "duration": 210,
        "start_time": "2024-01-28T17:43:17.869Z"
      },
      {
        "duration": 250,
        "start_time": "2024-01-28T17:43:18.753Z"
      },
      {
        "duration": 236,
        "start_time": "2024-01-28T17:43:19.613Z"
      },
      {
        "duration": 372,
        "start_time": "2024-01-28T17:43:21.070Z"
      },
      {
        "duration": 362,
        "start_time": "2024-01-28T17:43:21.444Z"
      },
      {
        "duration": 23,
        "start_time": "2024-01-28T17:43:21.811Z"
      },
      {
        "duration": 7,
        "start_time": "2024-01-28T17:43:35.021Z"
      },
      {
        "duration": 5,
        "start_time": "2024-01-28T17:43:35.370Z"
      },
      {
        "duration": 9,
        "start_time": "2024-01-28T17:43:37.077Z"
      },
      {
        "duration": 4,
        "start_time": "2024-01-28T17:43:37.509Z"
      },
      {
        "duration": 278,
        "start_time": "2024-01-28T17:48:24.612Z"
      },
      {
        "duration": 241,
        "start_time": "2024-01-28T17:48:30.183Z"
      },
      {
        "duration": 10,
        "start_time": "2024-01-28T17:48:46.213Z"
      },
      {
        "duration": 3,
        "start_time": "2024-01-28T17:48:48.358Z"
      },
      {
        "duration": 9,
        "start_time": "2024-01-28T17:48:53.895Z"
      },
      {
        "duration": 9,
        "start_time": "2024-01-28T17:48:56.250Z"
      },
      {
        "duration": 14,
        "start_time": "2024-01-28T17:49:11.130Z"
      },
      {
        "duration": 315,
        "start_time": "2024-01-28T17:49:36.764Z"
      },
      {
        "duration": 1351,
        "start_time": "2024-01-29T12:03:11.043Z"
      },
      {
        "duration": 212,
        "start_time": "2024-01-29T12:03:12.396Z"
      },
      {
        "duration": 14,
        "start_time": "2024-01-29T12:03:12.610Z"
      },
      {
        "duration": 683,
        "start_time": "2024-01-29T12:03:12.626Z"
      },
      {
        "duration": 4,
        "start_time": "2024-01-29T12:03:13.311Z"
      },
      {
        "duration": 9,
        "start_time": "2024-01-29T12:03:13.317Z"
      },
      {
        "duration": 19,
        "start_time": "2024-01-29T12:03:13.327Z"
      },
      {
        "duration": 4,
        "start_time": "2024-01-29T12:03:13.347Z"
      },
      {
        "duration": 31,
        "start_time": "2024-01-29T12:03:13.352Z"
      },
      {
        "duration": 10,
        "start_time": "2024-01-29T12:03:13.385Z"
      },
      {
        "duration": 13,
        "start_time": "2024-01-29T12:03:13.396Z"
      },
      {
        "duration": 4,
        "start_time": "2024-01-29T12:03:13.411Z"
      },
      {
        "duration": 6,
        "start_time": "2024-01-29T12:03:13.416Z"
      },
      {
        "duration": 14,
        "start_time": "2024-01-29T12:03:13.423Z"
      },
      {
        "duration": 48,
        "start_time": "2024-01-29T12:03:13.438Z"
      },
      {
        "duration": 329,
        "start_time": "2024-01-29T12:03:13.487Z"
      },
      {
        "duration": 447,
        "start_time": "2024-01-29T12:03:13.817Z"
      },
      {
        "duration": 68,
        "start_time": "2024-01-29T12:03:14.265Z"
      },
      {
        "duration": 815,
        "start_time": "2024-01-29T12:03:14.334Z"
      },
      {
        "duration": 31,
        "start_time": "2024-01-29T12:03:15.151Z"
      },
      {
        "duration": 237,
        "start_time": "2024-01-29T12:03:15.183Z"
      },
      {
        "duration": 297,
        "start_time": "2024-01-29T12:03:15.421Z"
      },
      {
        "duration": 190,
        "start_time": "2024-01-29T12:03:15.719Z"
      },
      {
        "duration": 1287,
        "start_time": "2024-01-29T12:03:15.910Z"
      },
      {
        "duration": 239,
        "start_time": "2024-01-29T12:03:17.199Z"
      },
      {
        "duration": 273,
        "start_time": "2024-01-29T12:03:17.439Z"
      },
      {
        "duration": 257,
        "start_time": "2024-01-29T12:03:17.714Z"
      },
      {
        "duration": 388,
        "start_time": "2024-01-29T12:03:17.974Z"
      },
      {
        "duration": 394,
        "start_time": "2024-01-29T12:03:18.363Z"
      },
      {
        "duration": 456,
        "start_time": "2024-01-29T12:03:18.759Z"
      },
      {
        "duration": 7,
        "start_time": "2024-01-29T12:03:19.216Z"
      },
      {
        "duration": 8,
        "start_time": "2024-01-29T12:03:19.225Z"
      },
      {
        "duration": 9,
        "start_time": "2024-01-29T12:03:19.234Z"
      },
      {
        "duration": 11,
        "start_time": "2024-01-29T12:03:19.244Z"
      },
      {
        "duration": 1233,
        "start_time": "2024-01-29T12:04:03.754Z"
      },
      {
        "duration": 74,
        "start_time": "2024-01-29T12:04:04.989Z"
      },
      {
        "duration": 15,
        "start_time": "2024-01-29T12:04:05.064Z"
      },
      {
        "duration": 679,
        "start_time": "2024-01-29T12:04:05.081Z"
      },
      {
        "duration": 4,
        "start_time": "2024-01-29T12:04:05.762Z"
      },
      {
        "duration": 26,
        "start_time": "2024-01-29T12:04:05.768Z"
      },
      {
        "duration": 47,
        "start_time": "2024-01-29T12:04:05.795Z"
      },
      {
        "duration": 21,
        "start_time": "2024-01-29T12:04:05.844Z"
      },
      {
        "duration": 31,
        "start_time": "2024-01-29T12:04:05.867Z"
      },
      {
        "duration": 44,
        "start_time": "2024-01-29T12:04:05.901Z"
      },
      {
        "duration": 46,
        "start_time": "2024-01-29T12:04:05.947Z"
      },
      {
        "duration": 33,
        "start_time": "2024-01-29T12:04:05.995Z"
      },
      {
        "duration": 25,
        "start_time": "2024-01-29T12:04:06.029Z"
      },
      {
        "duration": 37,
        "start_time": "2024-01-29T12:04:06.055Z"
      },
      {
        "duration": 39,
        "start_time": "2024-01-29T12:04:06.094Z"
      },
      {
        "duration": 325,
        "start_time": "2024-01-29T12:04:06.135Z"
      },
      {
        "duration": 455,
        "start_time": "2024-01-29T12:04:06.461Z"
      },
      {
        "duration": 78,
        "start_time": "2024-01-29T12:04:06.918Z"
      },
      {
        "duration": 831,
        "start_time": "2024-01-29T12:04:06.997Z"
      },
      {
        "duration": 23,
        "start_time": "2024-01-29T12:04:07.830Z"
      },
      {
        "duration": 236,
        "start_time": "2024-01-29T12:04:07.854Z"
      },
      {
        "duration": 311,
        "start_time": "2024-01-29T12:04:08.091Z"
      },
      {
        "duration": 190,
        "start_time": "2024-01-29T12:04:08.404Z"
      },
      {
        "duration": 1316,
        "start_time": "2024-01-29T12:04:08.595Z"
      },
      {
        "duration": 236,
        "start_time": "2024-01-29T12:04:09.913Z"
      },
      {
        "duration": 266,
        "start_time": "2024-01-29T12:04:10.151Z"
      },
      {
        "duration": 250,
        "start_time": "2024-01-29T12:04:10.418Z"
      },
      {
        "duration": 393,
        "start_time": "2024-01-29T12:04:10.671Z"
      },
      {
        "duration": 401,
        "start_time": "2024-01-29T12:04:11.065Z"
      },
      {
        "duration": 453,
        "start_time": "2024-01-29T12:04:11.467Z"
      },
      {
        "duration": 7,
        "start_time": "2024-01-29T12:04:11.921Z"
      },
      {
        "duration": 26,
        "start_time": "2024-01-29T12:04:11.930Z"
      },
      {
        "duration": 14,
        "start_time": "2024-01-29T12:04:11.958Z"
      },
      {
        "duration": 10,
        "start_time": "2024-01-29T12:04:11.974Z"
      },
      {
        "duration": 13,
        "start_time": "2024-01-29T12:11:21.131Z"
      },
      {
        "duration": 1578,
        "start_time": "2024-01-29T12:12:48.347Z"
      },
      {
        "duration": 91,
        "start_time": "2024-01-29T12:17:32.362Z"
      },
      {
        "duration": 15,
        "start_time": "2024-01-29T12:23:07.662Z"
      },
      {
        "duration": 7,
        "start_time": "2024-01-29T12:23:17.756Z"
      },
      {
        "duration": 6,
        "start_time": "2024-01-29T12:23:26.323Z"
      },
      {
        "duration": 6,
        "start_time": "2024-01-29T12:23:45.758Z"
      },
      {
        "duration": 11,
        "start_time": "2024-01-29T12:27:07.803Z"
      },
      {
        "duration": 6,
        "start_time": "2024-01-29T12:27:13.915Z"
      },
      {
        "duration": 10,
        "start_time": "2024-01-29T12:27:17.897Z"
      },
      {
        "duration": 12,
        "start_time": "2024-01-29T12:29:52.945Z"
      },
      {
        "duration": 15,
        "start_time": "2024-01-29T12:29:58.316Z"
      },
      {
        "duration": 18,
        "start_time": "2024-01-29T12:30:01.552Z"
      },
      {
        "duration": 16,
        "start_time": "2024-01-29T12:36:26.785Z"
      },
      {
        "duration": 15,
        "start_time": "2024-01-29T12:36:33.554Z"
      },
      {
        "duration": 470,
        "start_time": "2024-01-29T12:45:49.621Z"
      },
      {
        "duration": 857,
        "start_time": "2024-01-29T12:46:00.946Z"
      },
      {
        "duration": 16,
        "start_time": "2024-01-29T13:26:23.639Z"
      },
      {
        "duration": 13,
        "start_time": "2024-01-29T13:26:49.953Z"
      },
      {
        "duration": 7,
        "start_time": "2024-01-29T14:42:31.483Z"
      },
      {
        "duration": 23,
        "start_time": "2024-01-29T14:42:41.234Z"
      },
      {
        "duration": 24,
        "start_time": "2024-01-29T14:43:23.275Z"
      },
      {
        "duration": 25,
        "start_time": "2024-01-29T14:43:27.114Z"
      },
      {
        "duration": 26,
        "start_time": "2024-01-29T14:45:23.211Z"
      },
      {
        "duration": 23,
        "start_time": "2024-01-29T14:47:07.137Z"
      },
      {
        "duration": 17,
        "start_time": "2024-01-29T14:47:59.434Z"
      },
      {
        "duration": 23,
        "start_time": "2024-01-29T14:55:06.993Z"
      },
      {
        "duration": 1437,
        "start_time": "2024-01-29T14:56:09.366Z"
      },
      {
        "duration": 1403,
        "start_time": "2024-01-29T14:56:22.060Z"
      },
      {
        "duration": 25,
        "start_time": "2024-01-29T14:56:28.912Z"
      },
      {
        "duration": 25,
        "start_time": "2024-01-29T14:58:47.123Z"
      },
      {
        "duration": 260,
        "start_time": "2024-01-29T15:21:43.124Z"
      },
      {
        "duration": 247,
        "start_time": "2024-01-29T15:21:57.739Z"
      },
      {
        "duration": 91,
        "start_time": "2024-01-29T15:25:16.351Z"
      },
      {
        "duration": 1153,
        "start_time": "2024-01-29T15:26:57.936Z"
      },
      {
        "duration": 77,
        "start_time": "2024-01-29T15:26:59.091Z"
      },
      {
        "duration": 15,
        "start_time": "2024-01-29T15:26:59.169Z"
      },
      {
        "duration": 672,
        "start_time": "2024-01-29T15:26:59.186Z"
      },
      {
        "duration": 6,
        "start_time": "2024-01-29T15:26:59.859Z"
      },
      {
        "duration": 32,
        "start_time": "2024-01-29T15:26:59.866Z"
      },
      {
        "duration": 18,
        "start_time": "2024-01-29T15:26:59.900Z"
      },
      {
        "duration": 4,
        "start_time": "2024-01-29T15:26:59.920Z"
      },
      {
        "duration": 15,
        "start_time": "2024-01-29T15:26:59.926Z"
      },
      {
        "duration": 10,
        "start_time": "2024-01-29T15:26:59.944Z"
      },
      {
        "duration": 32,
        "start_time": "2024-01-29T15:26:59.955Z"
      },
      {
        "duration": 14,
        "start_time": "2024-01-29T15:26:59.989Z"
      },
      {
        "duration": 5,
        "start_time": "2024-01-29T15:27:00.005Z"
      },
      {
        "duration": 35,
        "start_time": "2024-01-29T15:27:00.012Z"
      },
      {
        "duration": 46,
        "start_time": "2024-01-29T15:27:00.049Z"
      },
      {
        "duration": 37,
        "start_time": "2024-01-29T15:27:00.097Z"
      },
      {
        "duration": 71,
        "start_time": "2024-01-29T15:27:00.135Z"
      },
      {
        "duration": 51,
        "start_time": "2024-01-29T15:27:00.208Z"
      },
      {
        "duration": 37,
        "start_time": "2024-01-29T15:27:00.261Z"
      },
      {
        "duration": 344,
        "start_time": "2024-01-29T15:27:00.300Z"
      },
      {
        "duration": 512,
        "start_time": "2024-01-29T15:27:00.646Z"
      },
      {
        "duration": 77,
        "start_time": "2024-01-29T15:27:01.160Z"
      },
      {
        "duration": 898,
        "start_time": "2024-01-29T15:27:01.239Z"
      },
      {
        "duration": 22,
        "start_time": "2024-01-29T15:27:02.139Z"
      },
      {
        "duration": 252,
        "start_time": "2024-01-29T15:27:02.163Z"
      },
      {
        "duration": 294,
        "start_time": "2024-01-29T15:27:02.417Z"
      },
      {
        "duration": 210,
        "start_time": "2024-01-29T15:27:02.713Z"
      },
      {
        "duration": 1343,
        "start_time": "2024-01-29T15:27:02.927Z"
      },
      {
        "duration": 270,
        "start_time": "2024-01-29T15:27:04.271Z"
      },
      {
        "duration": 285,
        "start_time": "2024-01-29T15:27:04.543Z"
      },
      {
        "duration": 665,
        "start_time": "2024-01-29T15:27:04.829Z"
      },
      {
        "duration": 278,
        "start_time": "2024-01-29T15:27:05.495Z"
      },
      {
        "duration": 279,
        "start_time": "2024-01-29T15:27:05.775Z"
      },
      {
        "duration": 408,
        "start_time": "2024-01-29T15:27:06.055Z"
      },
      {
        "duration": 520,
        "start_time": "2024-01-29T15:27:06.465Z"
      },
      {
        "duration": 459,
        "start_time": "2024-01-29T15:27:06.987Z"
      },
      {
        "duration": 8,
        "start_time": "2024-01-29T15:27:07.447Z"
      },
      {
        "duration": 5,
        "start_time": "2024-01-29T15:27:07.457Z"
      },
      {
        "duration": 28,
        "start_time": "2024-01-29T15:27:07.463Z"
      },
      {
        "duration": 27,
        "start_time": "2024-01-29T15:27:07.493Z"
      },
      {
        "duration": 524,
        "start_time": "2024-01-29T15:30:44.873Z"
      },
      {
        "duration": 255,
        "start_time": "2024-01-29T15:31:13.485Z"
      },
      {
        "duration": 253,
        "start_time": "2024-01-29T15:32:06.931Z"
      },
      {
        "duration": 256,
        "start_time": "2024-01-29T15:32:29.646Z"
      },
      {
        "duration": 6,
        "start_time": "2024-01-29T16:09:15.167Z"
      },
      {
        "duration": 26,
        "start_time": "2024-01-29T16:14:53.104Z"
      },
      {
        "duration": 1411,
        "start_time": "2024-01-29T19:01:33.288Z"
      },
      {
        "duration": 207,
        "start_time": "2024-01-29T19:01:34.701Z"
      },
      {
        "duration": 16,
        "start_time": "2024-01-29T19:01:34.909Z"
      },
      {
        "duration": 725,
        "start_time": "2024-01-29T19:01:34.927Z"
      },
      {
        "duration": 5,
        "start_time": "2024-01-29T19:01:35.654Z"
      },
      {
        "duration": 11,
        "start_time": "2024-01-29T19:01:35.680Z"
      },
      {
        "duration": 19,
        "start_time": "2024-01-29T19:01:35.693Z"
      },
      {
        "duration": 4,
        "start_time": "2024-01-29T19:01:35.714Z"
      },
      {
        "duration": 11,
        "start_time": "2024-01-29T19:01:35.720Z"
      },
      {
        "duration": 15,
        "start_time": "2024-01-29T19:01:35.735Z"
      },
      {
        "duration": 23,
        "start_time": "2024-01-29T19:01:35.780Z"
      },
      {
        "duration": 5,
        "start_time": "2024-01-29T19:01:35.804Z"
      },
      {
        "duration": 22,
        "start_time": "2024-01-29T19:01:35.811Z"
      },
      {
        "duration": 22,
        "start_time": "2024-01-29T19:01:35.834Z"
      },
      {
        "duration": 24,
        "start_time": "2024-01-29T19:01:35.858Z"
      },
      {
        "duration": 22,
        "start_time": "2024-01-29T19:01:35.883Z"
      },
      {
        "duration": 22,
        "start_time": "2024-01-29T19:01:35.907Z"
      },
      {
        "duration": 16,
        "start_time": "2024-01-29T19:01:35.931Z"
      },
      {
        "duration": 353,
        "start_time": "2024-01-29T19:01:35.949Z"
      },
      {
        "duration": 505,
        "start_time": "2024-01-29T19:01:36.303Z"
      },
      {
        "duration": 81,
        "start_time": "2024-01-29T19:01:36.810Z"
      },
      {
        "duration": 925,
        "start_time": "2024-01-29T19:01:36.893Z"
      },
      {
        "duration": 24,
        "start_time": "2024-01-29T19:01:37.820Z"
      },
      {
        "duration": 256,
        "start_time": "2024-01-29T19:01:37.846Z"
      },
      {
        "duration": 318,
        "start_time": "2024-01-29T19:01:38.104Z"
      },
      {
        "duration": 251,
        "start_time": "2024-01-29T19:01:38.425Z"
      },
      {
        "duration": 1425,
        "start_time": "2024-01-29T19:01:38.678Z"
      },
      {
        "duration": 276,
        "start_time": "2024-01-29T19:01:40.107Z"
      },
      {
        "duration": 298,
        "start_time": "2024-01-29T19:01:40.385Z"
      },
      {
        "duration": 276,
        "start_time": "2024-01-29T19:01:40.686Z"
      },
      {
        "duration": 297,
        "start_time": "2024-01-29T19:01:40.964Z"
      },
      {
        "duration": 299,
        "start_time": "2024-01-29T19:01:41.263Z"
      },
      {
        "duration": 443,
        "start_time": "2024-01-29T19:01:41.564Z"
      },
      {
        "duration": 457,
        "start_time": "2024-01-29T19:01:42.009Z"
      },
      {
        "duration": 604,
        "start_time": "2024-01-29T19:01:42.468Z"
      },
      {
        "duration": 8,
        "start_time": "2024-01-29T19:01:43.081Z"
      },
      {
        "duration": 8,
        "start_time": "2024-01-29T19:01:43.091Z"
      },
      {
        "duration": 11,
        "start_time": "2024-01-29T19:01:43.101Z"
      },
      {
        "duration": 5,
        "start_time": "2024-01-29T19:01:43.114Z"
      },
      {
        "duration": 6,
        "start_time": "2024-01-29T19:50:12.307Z"
      },
      {
        "duration": 6,
        "start_time": "2024-01-29T19:50:26.754Z"
      },
      {
        "duration": 10,
        "start_time": "2024-01-29T19:50:41.538Z"
      },
      {
        "duration": 12,
        "start_time": "2024-01-29T19:50:54.226Z"
      },
      {
        "duration": 17,
        "start_time": "2024-01-29T20:02:42.182Z"
      },
      {
        "duration": 18,
        "start_time": "2024-01-29T20:03:00.387Z"
      },
      {
        "duration": 26,
        "start_time": "2024-01-29T20:29:59.396Z"
      },
      {
        "duration": 13,
        "start_time": "2024-01-29T20:30:37.936Z"
      },
      {
        "duration": 13,
        "start_time": "2024-01-29T20:30:56.759Z"
      },
      {
        "duration": 15,
        "start_time": "2024-01-29T20:31:45.113Z"
      },
      {
        "duration": 109,
        "start_time": "2024-01-29T20:31:51.040Z"
      },
      {
        "duration": 5,
        "start_time": "2024-01-29T20:34:40.365Z"
      },
      {
        "duration": 5,
        "start_time": "2024-01-29T20:34:52.573Z"
      },
      {
        "duration": 7,
        "start_time": "2024-01-29T20:45:22.716Z"
      },
      {
        "duration": 7,
        "start_time": "2024-01-29T20:45:34.845Z"
      },
      {
        "duration": 12,
        "start_time": "2024-01-29T20:45:44.754Z"
      },
      {
        "duration": 1301,
        "start_time": "2024-01-30T14:59:22.866Z"
      },
      {
        "duration": 109,
        "start_time": "2024-01-30T14:59:24.170Z"
      },
      {
        "duration": 14,
        "start_time": "2024-01-30T14:59:24.281Z"
      },
      {
        "duration": 619,
        "start_time": "2024-01-30T14:59:24.296Z"
      },
      {
        "duration": 4,
        "start_time": "2024-01-30T14:59:24.917Z"
      },
      {
        "duration": 8,
        "start_time": "2024-01-30T14:59:24.922Z"
      },
      {
        "duration": 43,
        "start_time": "2024-01-30T14:59:24.932Z"
      },
      {
        "duration": 3,
        "start_time": "2024-01-30T14:59:24.977Z"
      },
      {
        "duration": 23,
        "start_time": "2024-01-30T14:59:24.981Z"
      },
      {
        "duration": 9,
        "start_time": "2024-01-30T14:59:25.006Z"
      },
      {
        "duration": 14,
        "start_time": "2024-01-30T14:59:25.016Z"
      },
      {
        "duration": 11,
        "start_time": "2024-01-30T14:59:25.032Z"
      },
      {
        "duration": 23,
        "start_time": "2024-01-30T14:59:25.044Z"
      },
      {
        "duration": 15,
        "start_time": "2024-01-30T14:59:25.070Z"
      },
      {
        "duration": 10,
        "start_time": "2024-01-30T14:59:25.086Z"
      },
      {
        "duration": 12,
        "start_time": "2024-01-30T14:59:25.098Z"
      },
      {
        "duration": 19,
        "start_time": "2024-01-30T14:59:25.111Z"
      },
      {
        "duration": 326,
        "start_time": "2024-01-30T14:59:25.132Z"
      },
      {
        "duration": 460,
        "start_time": "2024-01-30T14:59:25.459Z"
      },
      {
        "duration": 70,
        "start_time": "2024-01-30T14:59:25.921Z"
      },
      {
        "duration": 796,
        "start_time": "2024-01-30T14:59:25.993Z"
      },
      {
        "duration": 22,
        "start_time": "2024-01-30T14:59:26.791Z"
      },
      {
        "duration": 221,
        "start_time": "2024-01-30T14:59:26.814Z"
      },
      {
        "duration": 304,
        "start_time": "2024-01-30T14:59:27.036Z"
      },
      {
        "duration": 198,
        "start_time": "2024-01-30T14:59:27.342Z"
      },
      {
        "duration": 1260,
        "start_time": "2024-01-30T14:59:27.542Z"
      },
      {
        "duration": 263,
        "start_time": "2024-01-30T14:59:28.804Z"
      },
      {
        "duration": 264,
        "start_time": "2024-01-30T14:59:29.069Z"
      },
      {
        "duration": 236,
        "start_time": "2024-01-30T14:59:29.334Z"
      },
      {
        "duration": 242,
        "start_time": "2024-01-30T14:59:29.572Z"
      },
      {
        "duration": 268,
        "start_time": "2024-01-30T14:59:29.816Z"
      },
      {
        "duration": 381,
        "start_time": "2024-01-30T14:59:30.085Z"
      },
      {
        "duration": 368,
        "start_time": "2024-01-30T14:59:30.468Z"
      },
      {
        "duration": 527,
        "start_time": "2024-01-30T14:59:30.837Z"
      },
      {
        "duration": 8,
        "start_time": "2024-01-30T14:59:31.365Z"
      },
      {
        "duration": 31,
        "start_time": "2024-01-30T14:59:31.375Z"
      },
      {
        "duration": 30,
        "start_time": "2024-01-30T14:59:31.408Z"
      },
      {
        "duration": 21,
        "start_time": "2024-01-30T14:59:31.441Z"
      },
      {
        "duration": 3,
        "start_time": "2024-01-30T14:59:52.295Z"
      },
      {
        "duration": 26,
        "start_time": "2024-01-30T14:59:59.340Z"
      },
      {
        "duration": 12,
        "start_time": "2024-01-30T15:00:16.081Z"
      },
      {
        "duration": 1292,
        "start_time": "2024-01-30T17:09:52.604Z"
      },
      {
        "duration": 209,
        "start_time": "2024-01-30T17:09:53.898Z"
      },
      {
        "duration": 15,
        "start_time": "2024-01-30T17:09:54.108Z"
      },
      {
        "duration": 676,
        "start_time": "2024-01-30T17:09:54.125Z"
      },
      {
        "duration": 4,
        "start_time": "2024-01-30T17:09:54.803Z"
      },
      {
        "duration": 22,
        "start_time": "2024-01-30T17:09:54.809Z"
      },
      {
        "duration": 27,
        "start_time": "2024-01-30T17:09:54.833Z"
      },
      {
        "duration": 5,
        "start_time": "2024-01-30T17:09:54.862Z"
      },
      {
        "duration": 52,
        "start_time": "2024-01-30T17:09:54.868Z"
      },
      {
        "duration": 19,
        "start_time": "2024-01-30T17:09:54.922Z"
      },
      {
        "duration": 20,
        "start_time": "2024-01-30T17:09:54.943Z"
      },
      {
        "duration": 9,
        "start_time": "2024-01-30T17:09:54.965Z"
      },
      {
        "duration": 19,
        "start_time": "2024-01-30T17:09:54.975Z"
      },
      {
        "duration": 50,
        "start_time": "2024-01-30T17:09:54.996Z"
      },
      {
        "duration": 20,
        "start_time": "2024-01-30T17:09:55.047Z"
      },
      {
        "duration": 58,
        "start_time": "2024-01-30T17:09:55.069Z"
      },
      {
        "duration": 58,
        "start_time": "2024-01-30T17:09:55.128Z"
      },
      {
        "duration": 330,
        "start_time": "2024-01-30T17:09:55.188Z"
      },
      {
        "duration": 444,
        "start_time": "2024-01-30T17:09:55.519Z"
      },
      {
        "duration": 69,
        "start_time": "2024-01-30T17:09:55.965Z"
      },
      {
        "duration": 832,
        "start_time": "2024-01-30T17:09:56.035Z"
      },
      {
        "duration": 30,
        "start_time": "2024-01-30T17:09:56.869Z"
      },
      {
        "duration": 226,
        "start_time": "2024-01-30T17:09:56.901Z"
      },
      {
        "duration": 310,
        "start_time": "2024-01-30T17:09:57.128Z"
      },
      {
        "duration": 228,
        "start_time": "2024-01-30T17:09:57.440Z"
      },
      {
        "duration": 1353,
        "start_time": "2024-01-30T17:09:57.670Z"
      },
      {
        "duration": 262,
        "start_time": "2024-01-30T17:09:59.025Z"
      },
      {
        "duration": 267,
        "start_time": "2024-01-30T17:09:59.294Z"
      },
      {
        "duration": 248,
        "start_time": "2024-01-30T17:09:59.563Z"
      },
      {
        "duration": 257,
        "start_time": "2024-01-30T17:09:59.813Z"
      },
      {
        "duration": 263,
        "start_time": "2024-01-30T17:10:00.072Z"
      },
      {
        "duration": 418,
        "start_time": "2024-01-30T17:10:00.337Z"
      },
      {
        "duration": 402,
        "start_time": "2024-01-30T17:10:00.757Z"
      },
      {
        "duration": 551,
        "start_time": "2024-01-30T17:10:01.160Z"
      },
      {
        "duration": 8,
        "start_time": "2024-01-30T17:10:01.713Z"
      },
      {
        "duration": 75,
        "start_time": "2024-01-30T17:10:01.722Z"
      },
      {
        "duration": 40,
        "start_time": "2024-01-30T17:10:01.799Z"
      },
      {
        "duration": 37,
        "start_time": "2024-01-30T17:10:01.841Z"
      }
    ],
    "kernelspec": {
      "display_name": "Python 3 (ipykernel)",
      "language": "python",
      "name": "python3"
    },
    "language_info": {
      "codemirror_mode": {
        "name": "ipython",
        "version": 3
      },
      "file_extension": ".py",
      "mimetype": "text/x-python",
      "name": "python",
      "nbconvert_exporter": "python",
      "pygments_lexer": "ipython3",
      "version": "3.9.5"
    },
    "toc": {
      "base_numbering": 1,
      "nav_menu": {},
      "number_sections": true,
      "sideBar": true,
      "skip_h1_title": true,
      "title_cell": "Table of Contents",
      "title_sidebar": "Contents",
      "toc_cell": false,
      "toc_position": {},
      "toc_section_display": true,
      "toc_window_display": false
    },
    "colab": {
      "provenance": []
    }
  },
  "nbformat": 4,
  "nbformat_minor": 0
}