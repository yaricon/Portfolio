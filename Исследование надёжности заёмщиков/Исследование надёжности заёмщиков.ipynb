{
  "metadata": {
    "celltoolbar": "Raw Cell Format",
    "colab": {
      "name": "Копия блокнота \"sprint_1_project_debtors_analysis_comments.ipynb\"",
      "provenance": [],
      "include_colab_link": true
    },
    "kernelspec": {
      "name": "python",
      "display_name": "Python (Pyodide)",
      "language": "python"
    },
    "language_info": {
      "codemirror_mode": {
        "name": "ipython",
        "version": 3
      },
      "file_extension": ".py",
      "mimetype": "text/x-python",
      "name": "python",
      "nbconvert_exporter": "python",
      "pygments_lexer": "ipython3",
      "version": "3.7.6"
    }
  },
  "nbformat_minor": 4,
  "nbformat": 4,
  "cells": [
    {
      "cell_type": "markdown",
      "source": "## Исследование надёжности заёмщиков\n\nЗаказчик — кредитный отдел банка\n\n**Цель исследования**\n    \nВыявить, существует ли зависимость между семейным положением и количеством детей на погашение кредита в срок.\n\n**План работы**\n1. Выгрузить датафрейм с данными;\n2. Посмотреть общую информацию о данных;\n3. Избавиться от дубликатов и пропусков, если таковы имеются;\n4. Проанализировать данные;\n5. Сделать соответствующие выводы.\n    \n**Входные данные от банка — статистика о платёжеспособности клиентов.**",
      "metadata": {
        "id": "Jl3sI_l0RDnu"
      }
    },
    {
      "cell_type": "markdown",
      "source": "### Шаг 1. Откройте файл с данными и изучите общую информацию. ",
      "metadata": {
        "id": "OoGzNlHERDn1"
      }
    },
    {
      "cell_type": "code",
      "source": "import pandas as pd\n\ntry:\n    data = pd.read_csv('/datasets/data.csv')\nexcept:\n    data = pd.read_csv('https://code.s3.yandex.net/datasets/data.csv')",
      "metadata": {
        "id": "MxJ4zgJMRDn8",
        "trusted": true
      },
      "execution_count": null,
      "outputs": []
    },
    {
      "cell_type": "code",
      "source": "data.head(20)",
      "metadata": {
        "id": "n6lMJDpCRDok",
        "outputId": "f1ef56fe-7288-4152-ff6e-30fce65940b0",
        "trusted": true
      },
      "execution_count": null,
      "outputs": []
    },
    {
      "cell_type": "code",
      "source": "data.info()",
      "metadata": {
        "trusted": true
      },
      "execution_count": null,
      "outputs": []
    },
    {
      "cell_type": "markdown",
      "source": "**Вывод**\n\nВ 2-х столбцах датафрейма есть одинаковое количество пропусков. Также в столбце \"days_employed\" заметили отрицательные значения, которых не должно быть, поскольку этот столбец означает количество рабочих дней.",
      "metadata": {}
    },
    {
      "cell_type": "markdown",
      "source": "### Шаг 2. Предобработка данных",
      "metadata": {
        "id": "XlcLyGcARDps"
      }
    },
    {
      "cell_type": "markdown",
      "source": "### Удаление пропусков",
      "metadata": {
        "id": "9whmTBboRDpv"
      }
    },
    {
      "cell_type": "code",
      "source": "data.isna().sum()",
      "metadata": {},
      "execution_count": null,
      "outputs": []
    },
    {
      "cell_type": "code",
      "source": "for t in data['income_type'].unique():\n    data.loc[(data['income_type'] == t) & (data['total_income'].isna()), 'total_income'] = \\\n    data.loc[(data['income_type'] == t), 'total_income'].median()",
      "metadata": {},
      "execution_count": null,
      "outputs": []
    },
    {
      "cell_type": "markdown",
      "source": "### Обработка аномальных значений",
      "metadata": {}
    },
    {
      "cell_type": "code",
      "source": "data['days_employed'] = data['days_employed'].abs()",
      "metadata": {},
      "execution_count": null,
      "outputs": []
    },
    {
      "cell_type": "code",
      "source": "data.groupby('income_type')['days_employed'].agg('median')",
      "metadata": {},
      "execution_count": null,
      "outputs": []
    },
    {
      "cell_type": "code",
      "source": "data['children'].unique()",
      "metadata": {},
      "execution_count": null,
      "outputs": []
    },
    {
      "cell_type": "code",
      "source": "data = data[(data['children'] != -1) & (data['children'] != 20)]",
      "metadata": {},
      "execution_count": null,
      "outputs": []
    },
    {
      "cell_type": "code",
      "source": "data['children'].unique()",
      "metadata": {},
      "execution_count": null,
      "outputs": []
    },
    {
      "cell_type": "markdown",
      "source": "### Удаление пропусков",
      "metadata": {
        "tags": []
      }
    },
    {
      "cell_type": "code",
      "source": "for t in data['income_type'].unique():\n    data.loc[(data['income_type'] == t) & (data['days_employed'].isna()), 'days_employed'] = data.loc[(data['income_type'] == t), 'days_employed'].median()",
      "metadata": {},
      "execution_count": null,
      "outputs": []
    },
    {
      "cell_type": "code",
      "source": "data.isna().sum()",
      "metadata": {},
      "execution_count": null,
      "outputs": []
    },
    {
      "cell_type": "markdown",
      "source": "### Изменение типов данных",
      "metadata": {}
    },
    {
      "cell_type": "code",
      "source": "data['total_income'] = data['total_income'].astype(int)",
      "metadata": {},
      "execution_count": null,
      "outputs": []
    },
    {
      "cell_type": "markdown",
      "source": "### Обработка дубликатов",
      "metadata": {}
    },
    {
      "cell_type": "code",
      "source": "data['education'] = data['education'].str.lower()",
      "metadata": {},
      "execution_count": null,
      "outputs": []
    },
    {
      "cell_type": "code",
      "source": "data.duplicated().sum()",
      "metadata": {},
      "execution_count": null,
      "outputs": []
    },
    {
      "cell_type": "code",
      "source": "data = data.drop_duplicates()",
      "metadata": {},
      "execution_count": null,
      "outputs": []
    },
    {
      "cell_type": "markdown",
      "source": "### Категоризация данных",
      "metadata": {}
    },
    {
      "cell_type": "code",
      "source": "def categorize_income(income):\n    try:\n        if 0 <= income <= 30000:\n            return 'E'\n        elif 30001 <= income <= 50000:\n            return 'D'\n        elif 50001 <= income <= 200000:\n            return 'C'\n        elif 200001 <= income <= 1000000:\n            return 'B'\n        elif income >= 1000001:\n            return 'A'\n    except:\n        pass",
      "metadata": {},
      "execution_count": null,
      "outputs": []
    },
    {
      "cell_type": "code",
      "source": "data['total_income_category'] = data['total_income'].apply(categorize_income)",
      "metadata": {},
      "execution_count": null,
      "outputs": []
    },
    {
      "cell_type": "code",
      "source": "data['purpose'].unique()",
      "metadata": {},
      "execution_count": null,
      "outputs": []
    },
    {
      "cell_type": "code",
      "source": "def categorize_purpose(row):\n    try:\n        if 'автом' in row:\n            return 'операции с автомобилем'\n        elif 'жил' in row or 'недвиж' in row:\n            return 'операции с недвижимостью'\n        elif 'свад' in row:\n            return 'проведение свадьбы'\n        elif 'образов' in row:\n            return 'получение образования'\n    except:\n        return 'нет категории'",
      "metadata": {},
      "execution_count": null,
      "outputs": []
    },
    {
      "cell_type": "code",
      "source": "data['purpose_category'] = data['purpose'].apply(categorize_purpose)",
      "metadata": {},
      "execution_count": null,
      "outputs": []
    },
    {
      "cell_type": "markdown",
      "source": "**Вывод**\n\nМы предобработали данные: заменили пропуски в столбцах, удалили аномальные значения, привели данные к общему виду и удалили дубликаты.\nПроизвели категоризацию для удобства анализа данных и вывели результат в новые столбцы.",
      "metadata": {}
    },
    {
      "cell_type": "markdown",
      "source": "### Шаг 3. Ответим на вопросы",
      "metadata": {
        "id": "tqzmAeYVRDvR"
      }
    },
    {
      "cell_type": "markdown",
      "source": "- Есть ли зависимость между наличием детей и возвратом кредита в срок?",
      "metadata": {
        "id": "6uM5nbSCRDvU"
      }
    },
    {
      "cell_type": "code",
      "source": "data.pivot_table(index='children', values='debt', aggfunc={'count', 'mean'})",
      "metadata": {},
      "execution_count": null,
      "outputs": []
    },
    {
      "cell_type": "markdown",
      "source": "**Вывод**\n\nСамый большой процент не возвратов денег в срок прослеживается среди людей с 4-я детьми. Это скорее всего связано с маленьким числом заёмщиков в этой категории.\n\nМожно сказать, что чаще всего не выплачивают кредит в срок категории с 2 и 3 детьми, потому что в этих случаях число заёмщиков достаточно значительное.",
      "metadata": {}
    },
    {
      "cell_type": "markdown",
      "source": "- Есть ли зависимость между семейным положением и возвратом кредита в срок?",
      "metadata": {
        "id": "naY1TysXRDvt"
      }
    },
    {
      "cell_type": "code",
      "source": "data.pivot_table(index='family_status', values='debt', aggfunc={'count', 'mean'})",
      "metadata": {},
      "execution_count": null,
      "outputs": []
    },
    {
      "cell_type": "markdown",
      "source": "**Вывод**\n\nИсходя из данных сводной таблицы можно сделать вывод, что не женатые и находящиеся в гражданском браке люди чаще не выплачивают кредиты в срок.",
      "metadata": {}
    },
    {
      "cell_type": "markdown",
      "source": "В большей степени просрочку допускают заемщики, не обремененные семейными узами - 9,75 % от общего количества всех не женатых / не замужних, но также недалеко отстают от них лица, живущие в гражданском браке - 9,35 % от общего числа состоящих в гражданском браке.",
      "metadata": {
        "id": "bwBcGhH7RDwA"
      }
    },
    {
      "cell_type": "markdown",
      "source": "- Есть ли зависимость между уровнем дохода и возвратом кредита в срок?",
      "metadata": {
        "id": "w8KzQuuyRDwG"
      }
    },
    {
      "cell_type": "code",
      "source": "import numpy as np\ntotal_income_debt=pd.DataFrame(df, columns=['total_income', 'debt'])\ntotal_income_debt['income_groups'] = pd.cut(total_income_debt['total_income'],[0,50000,100000,150000,200000,np.inf],labels=[\"до 50 тыс. руб.\", \"50-100 тыс. руб.\", \"100-150 тыс. руб.\",\"150-200 тыс. руб.\",\"свыше 200 тыс. руб.\"])\ntotal_income_debt=total_income_debt.groupby('income_groups')['debt'].agg(['count','sum'])\ntotal_income_debt['%']=round((total_income_debt[('sum')]/total_income_debt[('count')])*100,2)\ntotal_income_debt.columns = ['Общее количество заемщиков','Количество просрочников','%']\ntotal_income_debt",
      "metadata": {
        "id": "T013cLA_RDwL",
        "outputId": "7bfd4508-8094-4c9e-c935-df7c6f4cf1a7"
      },
      "execution_count": null,
      "outputs": [
        {
          "output_type": "execute_result",
          "execution_count": 915,
          "data": {
            "text/html": [
              "<div>\n",
              "<style scoped>\n",
              "    .dataframe tbody tr th:only-of-type {\n",
              "        vertical-align: middle;\n",
              "    }\n",
              "\n",
              "    .dataframe tbody tr th {\n",
              "        vertical-align: top;\n",
              "    }\n",
              "\n",
              "    .dataframe thead th {\n",
              "        text-align: right;\n",
              "    }\n",
              "</style>\n",
              "<table border=\"1\" class=\"dataframe\">\n",
              "  <thead>\n",
              "    <tr style=\"text-align: right;\">\n",
              "      <th></th>\n",
              "      <th>Общее количество заемщиков</th>\n",
              "      <th>Количество просрочников</th>\n",
              "      <th>%</th>\n",
              "    </tr>\n",
              "    <tr>\n",
              "      <th>income_groups</th>\n",
              "      <th></th>\n",
              "      <th></th>\n",
              "      <th></th>\n",
              "    </tr>\n",
              "  </thead>\n",
              "  <tbody>\n",
              "    <tr>\n",
              "      <td>до 50 тыс. руб.</td>\n",
              "      <td>372</td>\n",
              "      <td>23</td>\n",
              "      <td>6.18</td>\n",
              "    </tr>\n",
              "    <tr>\n",
              "      <td>50-100 тыс. руб.</td>\n",
              "      <td>4091</td>\n",
              "      <td>331</td>\n",
              "      <td>8.09</td>\n",
              "    </tr>\n",
              "    <tr>\n",
              "      <td>100-150 тыс. руб.</td>\n",
              "      <td>7160</td>\n",
              "      <td>624</td>\n",
              "      <td>8.72</td>\n",
              "    </tr>\n",
              "    <tr>\n",
              "      <td>150-200 тыс. руб.</td>\n",
              "      <td>4764</td>\n",
              "      <td>405</td>\n",
              "      <td>8.50</td>\n",
              "    </tr>\n",
              "    <tr>\n",
              "      <td>свыше 200 тыс. руб.</td>\n",
              "      <td>5067</td>\n",
              "      <td>358</td>\n",
              "      <td>7.07</td>\n",
              "    </tr>\n",
              "  </tbody>\n",
              "</table>\n",
              "</div>"
            ],
            "text/plain": [
              "                     Общее количество заемщиков  Количество просрочников     %\n",
              "income_groups                                                                 \n",
              "до 50 тыс. руб.                             372                       23  6.18\n",
              "50-100 тыс. руб.                           4091                      331  8.09\n",
              "100-150 тыс. руб.                          7160                      624  8.72\n",
              "150-200 тыс. руб.                          4764                      405  8.50\n",
              "свыше 200 тыс. руб.                        5067                      358  7.07"
            ]
          },
          "metadata": {
            "tags": []
          }
        }
      ]
    },
    {
      "cell_type": "markdown",
      "source": "- Как разные цели кредита влияют на его возврат в срок?",
      "metadata": {
        "id": "nvo_xrcYRDwn"
      }
    },
    {
      "cell_type": "code",
      "source": "data.pivot_table(index='purpose_category', values='debt', aggfunc={'count', 'mean'})",
      "metadata": {},
      "execution_count": null,
      "outputs": []
    },
    {
      "cell_type": "markdown",
      "source": "**Вывод**\n\nЗаемщики, которые брали кредиты для операций с автомобилем имеют 9,3% не выплат в срок от общего числа. Для образования такой процент составляет 9,2.",
      "metadata": {}
    },
    {
      "cell_type": "markdown",
      "source": " - Есть ли зависимость между уровнем дохода и возвратом кредита в срок?",
      "metadata": {}
    },
    {
      "cell_type": "code",
      "source": "data.pivot_table(index='total_income_category', values='debt', aggfunc={'count', 'mean'})",
      "metadata": {},
      "execution_count": null,
      "outputs": []
    },
    {
      "cell_type": "markdown",
      "source": "**Вывод**\n\nЗаемщики с самым низким доходом чаще не выплачивают кредиты в срок. На это повлияло то, что количество заемщиков в этой категории меньше всего. Затем следуют люди, получающие от 50 до 200 тысяч, их процент не выплат от общего числа составляет 8,4.",
      "metadata": {}
    },
    {
      "cell_type": "markdown",
      "source": "### Шаг 4. Общий вывод",
      "metadata": {
        "id": "a043ZqNmRDxI"
      }
    },
    {
      "cell_type": "markdown",
      "source": "За основу анализа данных была взята статистика о платежеспособности клиентов банка. \n\nНа этапе преобработки провели следующие операции с данными:\n - Вывели общую информацию о датафрейме\n - Заполнили пропуски, удалили аномальные значения и дубликаты\n - Привели данные к общему виду\n - Произвели категоризацию по количеству дохода и цели кредита\n\nОтвечая на вопрос, есть ли зависимость между семейным положением, количеством детей и выплатой кредита в срок, выяснили, что при наличии 2-х детей люди чаще просрочивают оплату кредита, также не выплачивают в срок не женатые и состоящие в гражданском браке, имеющие доход от 50 до 200 тысяч и те, кто берёт кредит для операций с автомобилем.\n\nИдеальным заёмщиком будет человек без детей, женатый, получающий от 200 тысяч до 1 миллиона и целью кредита у которого будет проведение свадьбы или операции с недвижимостью.",
      "metadata": {}
    }
  ]
}