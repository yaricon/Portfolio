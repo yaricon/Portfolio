{
  "cells": [
    {
      "cell_type": "markdown",
      "metadata": {
        "id": "PpicsLMDwm2P"
      },
      "source": [
        "# Анализ интернет-магазина"
      ]
    },
    {
      "cell_type": "markdown",
      "metadata": {
        "id": "8RIVjmZ5wm2R"
      },
      "source": [
        "Данный проект предполагает проверку гипотез, составленных маркетинговым отделом, которые направлены на повышение выручки."
      ]
    },
    {
      "cell_type": "markdown",
      "metadata": {
        "id": "EW5VDff6wm2U"
      },
      "source": [
        "**Цель проекта**\n",
        "\n",
        "Приоритизировать гипотезы и проверить результаты А/В теста."
      ]
    },
    {
      "cell_type": "markdown",
      "metadata": {
        "id": "teGnQKVvwm2V"
      },
      "source": [
        "**План работы:**\n",
        "\n",
        "1. Загрузить и изучать данные\n",
        "2. Провести предобработку\n",
        "3. Приоритизировать гипотезы\n",
        "4. Проанализировать результат А/В теста"
      ]
    },
    {
      "cell_type": "markdown",
      "metadata": {
        "id": "te6YL9uYwm2X"
      },
      "source": [
        "Входные данные - `3 датасета с гипотезами и данными по группам А и В`"
      ]
    },
    {
      "cell_type": "code",
      "execution_count": null,
      "metadata": {
        "id": "XvK0eZ2bwm2e"
      },
      "outputs": [],
      "source": [
        "import pandas as pd\n",
        "import numpy as np\n",
        "import matplotlib.pyplot as plt\n",
        "import scipy.stats as stats"
      ]
    },
    {
      "cell_type": "markdown",
      "metadata": {
        "id": "_xb_1W5Wwm2l"
      },
      "source": [
        "## Загрузка данных"
      ]
    },
    {
      "cell_type": "code",
      "execution_count": null,
      "metadata": {
        "id": "0e_9P5Pwwm2n",
        "outputId": "5b23152d-826d-43cb-e447-7265ad19e344"
      },
      "outputs": [
        {
          "data": {
            "text/html": [
              "<div>\n",
              "<style scoped>\n",
              "    .dataframe tbody tr th:only-of-type {\n",
              "        vertical-align: middle;\n",
              "    }\n",
              "\n",
              "    .dataframe tbody tr th {\n",
              "        vertical-align: top;\n",
              "    }\n",
              "\n",
              "    .dataframe thead th {\n",
              "        text-align: right;\n",
              "    }\n",
              "</style>\n",
              "<table border=\"1\" class=\"dataframe\">\n",
              "  <thead>\n",
              "    <tr style=\"text-align: right;\">\n",
              "      <th></th>\n",
              "      <th>Hypothesis</th>\n",
              "      <th>Reach</th>\n",
              "      <th>Impact</th>\n",
              "      <th>Confidence</th>\n",
              "      <th>Efforts</th>\n",
              "    </tr>\n",
              "  </thead>\n",
              "  <tbody>\n",
              "    <tr>\n",
              "      <th>0</th>\n",
              "      <td>Добавить два новых канала привлечения трафика, что позволит привлекать на 30% больше пользователей</td>\n",
              "      <td>3</td>\n",
              "      <td>10</td>\n",
              "      <td>8</td>\n",
              "      <td>6</td>\n",
              "    </tr>\n",
              "    <tr>\n",
              "      <th>1</th>\n",
              "      <td>Запустить собственную службу доставки, что сократит срок доставки заказов</td>\n",
              "      <td>2</td>\n",
              "      <td>5</td>\n",
              "      <td>4</td>\n",
              "      <td>10</td>\n",
              "    </tr>\n",
              "    <tr>\n",
              "      <th>2</th>\n",
              "      <td>Добавить блоки рекомендаций товаров на сайт интернет магазина, чтобы повысить конверсию и средний чек заказа</td>\n",
              "      <td>8</td>\n",
              "      <td>3</td>\n",
              "      <td>7</td>\n",
              "      <td>3</td>\n",
              "    </tr>\n",
              "    <tr>\n",
              "      <th>3</th>\n",
              "      <td>Изменить структура категорий, что увеличит конверсию, т.к. пользователи быстрее найдут нужный товар</td>\n",
              "      <td>8</td>\n",
              "      <td>3</td>\n",
              "      <td>3</td>\n",
              "      <td>8</td>\n",
              "    </tr>\n",
              "    <tr>\n",
              "      <th>4</th>\n",
              "      <td>Изменить цвет фона главной страницы, чтобы увеличить вовлеченность пользователей</td>\n",
              "      <td>3</td>\n",
              "      <td>1</td>\n",
              "      <td>1</td>\n",
              "      <td>1</td>\n",
              "    </tr>\n",
              "  </tbody>\n",
              "</table>\n",
              "</div>"
            ],
            "text/plain": [
              "                                                                                                     Hypothesis  \\\n",
              "0            Добавить два новых канала привлечения трафика, что позволит привлекать на 30% больше пользователей   \n",
              "1                                     Запустить собственную службу доставки, что сократит срок доставки заказов   \n",
              "2  Добавить блоки рекомендаций товаров на сайт интернет магазина, чтобы повысить конверсию и средний чек заказа   \n",
              "3           Изменить структура категорий, что увеличит конверсию, т.к. пользователи быстрее найдут нужный товар   \n",
              "4                              Изменить цвет фона главной страницы, чтобы увеличить вовлеченность пользователей   \n",
              "\n",
              "   Reach  Impact  Confidence  Efforts  \n",
              "0      3      10           8        6  \n",
              "1      2       5           4       10  \n",
              "2      8       3           7        3  \n",
              "3      8       3           3        8  \n",
              "4      3       1           1        1  "
            ]
          },
          "metadata": {},
          "output_type": "display_data"
        },
        {
          "data": {
            "text/html": [
              "<div>\n",
              "<style scoped>\n",
              "    .dataframe tbody tr th:only-of-type {\n",
              "        vertical-align: middle;\n",
              "    }\n",
              "\n",
              "    .dataframe tbody tr th {\n",
              "        vertical-align: top;\n",
              "    }\n",
              "\n",
              "    .dataframe thead th {\n",
              "        text-align: right;\n",
              "    }\n",
              "</style>\n",
              "<table border=\"1\" class=\"dataframe\">\n",
              "  <thead>\n",
              "    <tr style=\"text-align: right;\">\n",
              "      <th></th>\n",
              "      <th>transactionId</th>\n",
              "      <th>visitorId</th>\n",
              "      <th>date</th>\n",
              "      <th>revenue</th>\n",
              "      <th>group</th>\n",
              "    </tr>\n",
              "  </thead>\n",
              "  <tbody>\n",
              "    <tr>\n",
              "      <th>0</th>\n",
              "      <td>3667963787</td>\n",
              "      <td>3312258926</td>\n",
              "      <td>2019-08-15</td>\n",
              "      <td>1650</td>\n",
              "      <td>B</td>\n",
              "    </tr>\n",
              "    <tr>\n",
              "      <th>1</th>\n",
              "      <td>2804400009</td>\n",
              "      <td>3642806036</td>\n",
              "      <td>2019-08-15</td>\n",
              "      <td>730</td>\n",
              "      <td>B</td>\n",
              "    </tr>\n",
              "    <tr>\n",
              "      <th>2</th>\n",
              "      <td>2961555356</td>\n",
              "      <td>4069496402</td>\n",
              "      <td>2019-08-15</td>\n",
              "      <td>400</td>\n",
              "      <td>A</td>\n",
              "    </tr>\n",
              "    <tr>\n",
              "      <th>3</th>\n",
              "      <td>3797467345</td>\n",
              "      <td>1196621759</td>\n",
              "      <td>2019-08-15</td>\n",
              "      <td>9759</td>\n",
              "      <td>B</td>\n",
              "    </tr>\n",
              "    <tr>\n",
              "      <th>4</th>\n",
              "      <td>2282983706</td>\n",
              "      <td>2322279887</td>\n",
              "      <td>2019-08-15</td>\n",
              "      <td>2308</td>\n",
              "      <td>B</td>\n",
              "    </tr>\n",
              "  </tbody>\n",
              "</table>\n",
              "</div>"
            ],
            "text/plain": [
              "   transactionId   visitorId        date  revenue group\n",
              "0     3667963787  3312258926  2019-08-15     1650     B\n",
              "1     2804400009  3642806036  2019-08-15      730     B\n",
              "2     2961555356  4069496402  2019-08-15      400     A\n",
              "3     3797467345  1196621759  2019-08-15     9759     B\n",
              "4     2282983706  2322279887  2019-08-15     2308     B"
            ]
          },
          "metadata": {},
          "output_type": "display_data"
        },
        {
          "data": {
            "text/html": [
              "<div>\n",
              "<style scoped>\n",
              "    .dataframe tbody tr th:only-of-type {\n",
              "        vertical-align: middle;\n",
              "    }\n",
              "\n",
              "    .dataframe tbody tr th {\n",
              "        vertical-align: top;\n",
              "    }\n",
              "\n",
              "    .dataframe thead th {\n",
              "        text-align: right;\n",
              "    }\n",
              "</style>\n",
              "<table border=\"1\" class=\"dataframe\">\n",
              "  <thead>\n",
              "    <tr style=\"text-align: right;\">\n",
              "      <th></th>\n",
              "      <th>date</th>\n",
              "      <th>group</th>\n",
              "      <th>visitors</th>\n",
              "    </tr>\n",
              "  </thead>\n",
              "  <tbody>\n",
              "    <tr>\n",
              "      <th>0</th>\n",
              "      <td>2019-08-01</td>\n",
              "      <td>A</td>\n",
              "      <td>719</td>\n",
              "    </tr>\n",
              "    <tr>\n",
              "      <th>1</th>\n",
              "      <td>2019-08-02</td>\n",
              "      <td>A</td>\n",
              "      <td>619</td>\n",
              "    </tr>\n",
              "    <tr>\n",
              "      <th>2</th>\n",
              "      <td>2019-08-03</td>\n",
              "      <td>A</td>\n",
              "      <td>507</td>\n",
              "    </tr>\n",
              "    <tr>\n",
              "      <th>3</th>\n",
              "      <td>2019-08-04</td>\n",
              "      <td>A</td>\n",
              "      <td>717</td>\n",
              "    </tr>\n",
              "    <tr>\n",
              "      <th>4</th>\n",
              "      <td>2019-08-05</td>\n",
              "      <td>A</td>\n",
              "      <td>756</td>\n",
              "    </tr>\n",
              "  </tbody>\n",
              "</table>\n",
              "</div>"
            ],
            "text/plain": [
              "         date group  visitors\n",
              "0  2019-08-01     A       719\n",
              "1  2019-08-02     A       619\n",
              "2  2019-08-03     A       507\n",
              "3  2019-08-04     A       717\n",
              "4  2019-08-05     A       756"
            ]
          },
          "metadata": {},
          "output_type": "display_data"
        }
      ],
      "source": [
        "try:\n",
        "    hypothesis = pd.read_csv('/datasets/hypothesis.csv')\n",
        "except:\n",
        "    print('hypothesis error')\n",
        "\n",
        "try:\n",
        "    orders = pd.read_csv('/datasets/orders.csv')\n",
        "except:\n",
        "    print('orders error')\n",
        "\n",
        "try:\n",
        "    visitors = pd.read_csv('/datasets/visitors.csv')\n",
        "except:\n",
        "    print('visitors error')\n",
        "\n",
        "pd.options.display.max_colwidth = 120\n",
        "display(hypothesis.head())\n",
        "display(orders.head())\n",
        "display(visitors.head())"
      ]
    },
    {
      "cell_type": "code",
      "execution_count": null,
      "metadata": {
        "id": "yHcK1U10wm2t",
        "outputId": "e272959d-ff18-40ba-d6da-a4d49e9b3b9c"
      },
      "outputs": [
        {
          "name": "stdout",
          "output_type": "stream",
          "text": [
            "<class 'pandas.core.frame.DataFrame'>\n",
            "RangeIndex: 9 entries, 0 to 8\n",
            "Data columns (total 5 columns):\n",
            " #   Column      Non-Null Count  Dtype \n",
            "---  ------      --------------  ----- \n",
            " 0   Hypothesis  9 non-null      object\n",
            " 1   Reach       9 non-null      int64 \n",
            " 2   Impact      9 non-null      int64 \n",
            " 3   Confidence  9 non-null      int64 \n",
            " 4   Efforts     9 non-null      int64 \n",
            "dtypes: int64(4), object(1)\n",
            "memory usage: 488.0+ bytes\n",
            "\n",
            "\n",
            "<class 'pandas.core.frame.DataFrame'>\n",
            "RangeIndex: 1197 entries, 0 to 1196\n",
            "Data columns (total 5 columns):\n",
            " #   Column         Non-Null Count  Dtype \n",
            "---  ------         --------------  ----- \n",
            " 0   transactionId  1197 non-null   int64 \n",
            " 1   visitorId      1197 non-null   int64 \n",
            " 2   date           1197 non-null   object\n",
            " 3   revenue        1197 non-null   int64 \n",
            " 4   group          1197 non-null   object\n",
            "dtypes: int64(3), object(2)\n",
            "memory usage: 46.9+ KB\n",
            "\n",
            "\n",
            "<class 'pandas.core.frame.DataFrame'>\n",
            "RangeIndex: 62 entries, 0 to 61\n",
            "Data columns (total 3 columns):\n",
            " #   Column    Non-Null Count  Dtype \n",
            "---  ------    --------------  ----- \n",
            " 0   date      62 non-null     object\n",
            " 1   group     62 non-null     object\n",
            " 2   visitors  62 non-null     int64 \n",
            "dtypes: int64(1), object(2)\n",
            "memory usage: 1.6+ KB\n"
          ]
        }
      ],
      "source": [
        "hypothesis.info()\n",
        "print()\n",
        "print()\n",
        "orders.info()\n",
        "print()\n",
        "print()\n",
        "visitors.info()"
      ]
    },
    {
      "cell_type": "code",
      "execution_count": null,
      "metadata": {
        "id": "VPWAuY_cwm2u",
        "outputId": "d33865b4-afbe-46fe-9afd-14dd69f529ca"
      },
      "outputs": [
        {
          "name": "stdout",
          "output_type": "stream",
          "text": [
            "2019-08-01\n",
            "2019-08-31\n",
            "1197\n",
            "2019-08-01\n",
            "2019-08-31\n"
          ]
        }
      ],
      "source": [
        "print(visitors['date'].min())\n",
        "print(visitors['date'].max())\n",
        "print(len(orders['transactionId'].unique()))\n",
        "print(orders['date'].min())\n",
        "print(orders['date'].max())"
      ]
    },
    {
      "cell_type": "markdown",
      "metadata": {
        "id": "jQw3FK-Cwm2v"
      },
      "source": [
        "**Вывод**\n",
        "\n",
        "В данных представлено 9 гипотез с 4-я параметрами для их приоритизации, почти 1200 транзакциЙ с группами и столько же уникальных пользователей, промежуток проведения эксперимента - август."
      ]
    },
    {
      "cell_type": "markdown",
      "metadata": {
        "id": "laZbvO1Mwm2w"
      },
      "source": [
        "## Предобработка данных"
      ]
    },
    {
      "cell_type": "code",
      "execution_count": null,
      "metadata": {
        "id": "zPFxBMBSwm2x"
      },
      "outputs": [],
      "source": [
        "hypothesis.columns = ['hypothesis', 'reach', 'impact', 'confidence', 'efforts']\n",
        "orders = orders.rename(columns={\n",
        "    'transactionId': 'transaction_id',\n",
        "    'visitorId': 'visitor_id'\n",
        "})\n",
        "\n",
        "hypothesis['hypothesis'] = hypothesis['hypothesis'].str.lower()\n",
        "\n",
        "orders['date'] = pd.to_datetime(orders['date'])\n",
        "visitors['date'] = pd.to_datetime(visitors['date'])"
      ]
    },
    {
      "cell_type": "code",
      "execution_count": null,
      "metadata": {
        "scrolled": false,
        "id": "jV6kSfVNwm2y",
        "outputId": "4c75dedb-10b9-4f7f-c736-10ff83853f3d"
      },
      "outputs": [
        {
          "data": {
            "text/html": [
              "<div>\n",
              "<style scoped>\n",
              "    .dataframe tbody tr th:only-of-type {\n",
              "        vertical-align: middle;\n",
              "    }\n",
              "\n",
              "    .dataframe tbody tr th {\n",
              "        vertical-align: top;\n",
              "    }\n",
              "\n",
              "    .dataframe thead th {\n",
              "        text-align: right;\n",
              "    }\n",
              "</style>\n",
              "<table border=\"1\" class=\"dataframe\">\n",
              "  <thead>\n",
              "    <tr style=\"text-align: right;\">\n",
              "      <th></th>\n",
              "      <th>hypothesis</th>\n",
              "      <th>reach</th>\n",
              "      <th>impact</th>\n",
              "      <th>confidence</th>\n",
              "      <th>efforts</th>\n",
              "    </tr>\n",
              "  </thead>\n",
              "  <tbody>\n",
              "    <tr>\n",
              "      <th>0</th>\n",
              "      <td>добавить два новых канала привлечения трафика, что позволит привлекать на 30% больше пользователей</td>\n",
              "      <td>3</td>\n",
              "      <td>10</td>\n",
              "      <td>8</td>\n",
              "      <td>6</td>\n",
              "    </tr>\n",
              "    <tr>\n",
              "      <th>1</th>\n",
              "      <td>запустить собственную службу доставки, что сократит срок доставки заказов</td>\n",
              "      <td>2</td>\n",
              "      <td>5</td>\n",
              "      <td>4</td>\n",
              "      <td>10</td>\n",
              "    </tr>\n",
              "    <tr>\n",
              "      <th>2</th>\n",
              "      <td>добавить блоки рекомендаций товаров на сайт интернет магазина, чтобы повысить конверсию и средний чек заказа</td>\n",
              "      <td>8</td>\n",
              "      <td>3</td>\n",
              "      <td>7</td>\n",
              "      <td>3</td>\n",
              "    </tr>\n",
              "    <tr>\n",
              "      <th>3</th>\n",
              "      <td>изменить структура категорий, что увеличит конверсию, т.к. пользователи быстрее найдут нужный товар</td>\n",
              "      <td>8</td>\n",
              "      <td>3</td>\n",
              "      <td>3</td>\n",
              "      <td>8</td>\n",
              "    </tr>\n",
              "    <tr>\n",
              "      <th>4</th>\n",
              "      <td>изменить цвет фона главной страницы, чтобы увеличить вовлеченность пользователей</td>\n",
              "      <td>3</td>\n",
              "      <td>1</td>\n",
              "      <td>1</td>\n",
              "      <td>1</td>\n",
              "    </tr>\n",
              "    <tr>\n",
              "      <th>5</th>\n",
              "      <td>добавить страницу отзывов клиентов о магазине, что позволит увеличить количество заказов</td>\n",
              "      <td>3</td>\n",
              "      <td>2</td>\n",
              "      <td>2</td>\n",
              "      <td>3</td>\n",
              "    </tr>\n",
              "    <tr>\n",
              "      <th>6</th>\n",
              "      <td>показать на главной странице баннеры с актуальными акциями и распродажами, чтобы увеличить конверсию</td>\n",
              "      <td>5</td>\n",
              "      <td>3</td>\n",
              "      <td>8</td>\n",
              "      <td>3</td>\n",
              "    </tr>\n",
              "    <tr>\n",
              "      <th>7</th>\n",
              "      <td>добавить форму подписки на все основные страницы, чтобы собрать базу клиентов для email-рассылок</td>\n",
              "      <td>10</td>\n",
              "      <td>7</td>\n",
              "      <td>8</td>\n",
              "      <td>5</td>\n",
              "    </tr>\n",
              "    <tr>\n",
              "      <th>8</th>\n",
              "      <td>запустить акцию, дающую скидку на товар в день рождения</td>\n",
              "      <td>1</td>\n",
              "      <td>9</td>\n",
              "      <td>9</td>\n",
              "      <td>5</td>\n",
              "    </tr>\n",
              "  </tbody>\n",
              "</table>\n",
              "</div>"
            ],
            "text/plain": [
              "                                                                                                     hypothesis  \\\n",
              "0            добавить два новых канала привлечения трафика, что позволит привлекать на 30% больше пользователей   \n",
              "1                                     запустить собственную службу доставки, что сократит срок доставки заказов   \n",
              "2  добавить блоки рекомендаций товаров на сайт интернет магазина, чтобы повысить конверсию и средний чек заказа   \n",
              "3           изменить структура категорий, что увеличит конверсию, т.к. пользователи быстрее найдут нужный товар   \n",
              "4                              изменить цвет фона главной страницы, чтобы увеличить вовлеченность пользователей   \n",
              "5                      добавить страницу отзывов клиентов о магазине, что позволит увеличить количество заказов   \n",
              "6          показать на главной странице баннеры с актуальными акциями и распродажами, чтобы увеличить конверсию   \n",
              "7              добавить форму подписки на все основные страницы, чтобы собрать базу клиентов для email-рассылок   \n",
              "8                                                       запустить акцию, дающую скидку на товар в день рождения   \n",
              "\n",
              "   reach  impact  confidence  efforts  \n",
              "0      3      10           8        6  \n",
              "1      2       5           4       10  \n",
              "2      8       3           7        3  \n",
              "3      8       3           3        8  \n",
              "4      3       1           1        1  \n",
              "5      3       2           2        3  \n",
              "6      5       3           8        3  \n",
              "7     10       7           8        5  \n",
              "8      1       9           9        5  "
            ]
          },
          "metadata": {},
          "output_type": "display_data"
        }
      ],
      "source": [
        "display(hypothesis)"
      ]
    },
    {
      "cell_type": "code",
      "execution_count": null,
      "metadata": {
        "scrolled": false,
        "id": "ziB59KYfwm2z",
        "outputId": "8684121e-ae59-44d3-a056-6b1e3b73aeab"
      },
      "outputs": [
        {
          "data": {
            "text/html": [
              "<div>\n",
              "<style scoped>\n",
              "    .dataframe tbody tr th:only-of-type {\n",
              "        vertical-align: middle;\n",
              "    }\n",
              "\n",
              "    .dataframe tbody tr th {\n",
              "        vertical-align: top;\n",
              "    }\n",
              "\n",
              "    .dataframe thead th {\n",
              "        text-align: right;\n",
              "    }\n",
              "</style>\n",
              "<table border=\"1\" class=\"dataframe\">\n",
              "  <thead>\n",
              "    <tr style=\"text-align: right;\">\n",
              "      <th></th>\n",
              "      <th>transaction_id</th>\n",
              "      <th>visitor_id</th>\n",
              "      <th>date</th>\n",
              "      <th>revenue</th>\n",
              "      <th>group</th>\n",
              "    </tr>\n",
              "  </thead>\n",
              "  <tbody>\n",
              "    <tr>\n",
              "      <th>0</th>\n",
              "      <td>3667963787</td>\n",
              "      <td>3312258926</td>\n",
              "      <td>2019-08-15</td>\n",
              "      <td>1650</td>\n",
              "      <td>B</td>\n",
              "    </tr>\n",
              "    <tr>\n",
              "      <th>1</th>\n",
              "      <td>2804400009</td>\n",
              "      <td>3642806036</td>\n",
              "      <td>2019-08-15</td>\n",
              "      <td>730</td>\n",
              "      <td>B</td>\n",
              "    </tr>\n",
              "    <tr>\n",
              "      <th>2</th>\n",
              "      <td>2961555356</td>\n",
              "      <td>4069496402</td>\n",
              "      <td>2019-08-15</td>\n",
              "      <td>400</td>\n",
              "      <td>A</td>\n",
              "    </tr>\n",
              "    <tr>\n",
              "      <th>3</th>\n",
              "      <td>3797467345</td>\n",
              "      <td>1196621759</td>\n",
              "      <td>2019-08-15</td>\n",
              "      <td>9759</td>\n",
              "      <td>B</td>\n",
              "    </tr>\n",
              "    <tr>\n",
              "      <th>4</th>\n",
              "      <td>2282983706</td>\n",
              "      <td>2322279887</td>\n",
              "      <td>2019-08-15</td>\n",
              "      <td>2308</td>\n",
              "      <td>B</td>\n",
              "    </tr>\n",
              "  </tbody>\n",
              "</table>\n",
              "</div>"
            ],
            "text/plain": [
              "   transaction_id  visitor_id       date  revenue group\n",
              "0      3667963787  3312258926 2019-08-15     1650     B\n",
              "1      2804400009  3642806036 2019-08-15      730     B\n",
              "2      2961555356  4069496402 2019-08-15      400     A\n",
              "3      3797467345  1196621759 2019-08-15     9759     B\n",
              "4      2282983706  2322279887 2019-08-15     2308     B"
            ]
          },
          "metadata": {},
          "output_type": "display_data"
        },
        {
          "data": {
            "text/html": [
              "<div>\n",
              "<style scoped>\n",
              "    .dataframe tbody tr th:only-of-type {\n",
              "        vertical-align: middle;\n",
              "    }\n",
              "\n",
              "    .dataframe tbody tr th {\n",
              "        vertical-align: top;\n",
              "    }\n",
              "\n",
              "    .dataframe thead th {\n",
              "        text-align: right;\n",
              "    }\n",
              "</style>\n",
              "<table border=\"1\" class=\"dataframe\">\n",
              "  <thead>\n",
              "    <tr style=\"text-align: right;\">\n",
              "      <th></th>\n",
              "      <th>date</th>\n",
              "      <th>group</th>\n",
              "      <th>visitors</th>\n",
              "    </tr>\n",
              "  </thead>\n",
              "  <tbody>\n",
              "    <tr>\n",
              "      <th>0</th>\n",
              "      <td>2019-08-01</td>\n",
              "      <td>A</td>\n",
              "      <td>719</td>\n",
              "    </tr>\n",
              "    <tr>\n",
              "      <th>1</th>\n",
              "      <td>2019-08-02</td>\n",
              "      <td>A</td>\n",
              "      <td>619</td>\n",
              "    </tr>\n",
              "    <tr>\n",
              "      <th>2</th>\n",
              "      <td>2019-08-03</td>\n",
              "      <td>A</td>\n",
              "      <td>507</td>\n",
              "    </tr>\n",
              "    <tr>\n",
              "      <th>3</th>\n",
              "      <td>2019-08-04</td>\n",
              "      <td>A</td>\n",
              "      <td>717</td>\n",
              "    </tr>\n",
              "    <tr>\n",
              "      <th>4</th>\n",
              "      <td>2019-08-05</td>\n",
              "      <td>A</td>\n",
              "      <td>756</td>\n",
              "    </tr>\n",
              "  </tbody>\n",
              "</table>\n",
              "</div>"
            ],
            "text/plain": [
              "        date group  visitors\n",
              "0 2019-08-01     A       719\n",
              "1 2019-08-02     A       619\n",
              "2 2019-08-03     A       507\n",
              "3 2019-08-04     A       717\n",
              "4 2019-08-05     A       756"
            ]
          },
          "metadata": {},
          "output_type": "display_data"
        }
      ],
      "source": [
        "display(orders.head(5))\n",
        "display(visitors.head(5))"
      ]
    },
    {
      "cell_type": "code",
      "execution_count": null,
      "metadata": {
        "id": "LLcuoWEwwm20",
        "outputId": "01559400-2f8d-4cdb-b84c-2fac0dc5a6f5"
      },
      "outputs": [
        {
          "name": "stdout",
          "output_type": "stream",
          "text": [
            "['B' 'A']\n",
            "['A' 'B']\n"
          ]
        }
      ],
      "source": [
        "print(orders['group'].unique())\n",
        "print(visitors['group'].unique())"
      ]
    },
    {
      "cell_type": "code",
      "execution_count": null,
      "metadata": {
        "id": "rtrvYII-wm21",
        "outputId": "dab90141-d6e1-489b-d005-1762c1113045"
      },
      "outputs": [
        {
          "name": "stdout",
          "output_type": "stream",
          "text": [
            "557\n",
            "640\n",
            "31\n",
            "31\n"
          ]
        }
      ],
      "source": [
        "print(len(orders.query('group == \"A\"')))\n",
        "print(len(orders.query('group == \"B\"')))\n",
        "print(len(visitors.query('group == \"A\"')))\n",
        "print(len(visitors.query('group == \"B\"')))"
      ]
    },
    {
      "cell_type": "code",
      "execution_count": null,
      "metadata": {
        "id": "3ZxMZr4wwm22",
        "outputId": "442a3b9e-8d8d-46b3-d88a-18fab3374eab"
      },
      "outputs": [
        {
          "name": "stdout",
          "output_type": "stream",
          "text": [
            "count       1197\n",
            "mean        8348\n",
            "std        39191\n",
            "min           50\n",
            "25%         1220\n",
            "50%         2978\n",
            "75%         8290\n",
            "max      1294500\n",
            "Name: revenue, dtype: object\n",
            "count     62\n",
            "mean     607\n",
            "std      114\n",
            "min      361\n",
            "25%      534\n",
            "50%      624\n",
            "75%      710\n",
            "max      770\n",
            "Name: visitors, dtype: object\n"
          ]
        }
      ],
      "source": [
        "print(orders['revenue'].describe().apply(\"{0:.0f}\".format))\n",
        "print(visitors['visitors'].describe().apply(\"{0:.0f}\".format))"
      ]
    },
    {
      "cell_type": "code",
      "execution_count": null,
      "metadata": {
        "id": "9M0lVku5wm23",
        "outputId": "ecfd074f-a3ab-42c9-9f75-1704f7660bd1"
      },
      "outputs": [
        {
          "data": {
            "text/plain": [
              "21"
            ]
          },
          "execution_count": 11,
          "metadata": {},
          "output_type": "execute_result"
        }
      ],
      "source": [
        "len(orders[orders['revenue'] > 50000])"
      ]
    },
    {
      "cell_type": "markdown",
      "metadata": {
        "id": "it9Mu4ybwm23"
      },
      "source": [
        "**Вывод**\n",
        "\n",
        "- Привели названия колонок в таблицах и ячейки с названиями гипотез к нормальному типу\n",
        "- Проверили уникальные значения\n",
        "- Посмотрели количество строк для каждой группы\n",
        "- Проверили аномальные значения, есть выбросы в суммах заказа. Больше 21 заказа свыше 50 000."
      ]
    },
    {
      "cell_type": "markdown",
      "metadata": {
        "id": "wVwdTEF9wm28"
      },
      "source": [
        "## Приоритизация гипотез"
      ]
    },
    {
      "cell_type": "code",
      "execution_count": null,
      "metadata": {
        "id": "K9MMMe2xwm28",
        "outputId": "ad153133-1463-42e5-dcb4-2d07a04f1116"
      },
      "outputs": [
        {
          "data": {
            "text/html": [
              "<div>\n",
              "<style scoped>\n",
              "    .dataframe tbody tr th:only-of-type {\n",
              "        vertical-align: middle;\n",
              "    }\n",
              "\n",
              "    .dataframe tbody tr th {\n",
              "        vertical-align: top;\n",
              "    }\n",
              "\n",
              "    .dataframe thead th {\n",
              "        text-align: right;\n",
              "    }\n",
              "</style>\n",
              "<table border=\"1\" class=\"dataframe\">\n",
              "  <thead>\n",
              "    <tr style=\"text-align: right;\">\n",
              "      <th></th>\n",
              "      <th>hypothesis</th>\n",
              "      <th>reach</th>\n",
              "      <th>impact</th>\n",
              "      <th>confidence</th>\n",
              "      <th>efforts</th>\n",
              "    </tr>\n",
              "  </thead>\n",
              "  <tbody>\n",
              "    <tr>\n",
              "      <th>0</th>\n",
              "      <td>добавить два новых канала привлечения трафика, что позволит привлекать на 30% больше пользователей</td>\n",
              "      <td>3</td>\n",
              "      <td>10</td>\n",
              "      <td>8</td>\n",
              "      <td>6</td>\n",
              "    </tr>\n",
              "    <tr>\n",
              "      <th>1</th>\n",
              "      <td>запустить собственную службу доставки, что сократит срок доставки заказов</td>\n",
              "      <td>2</td>\n",
              "      <td>5</td>\n",
              "      <td>4</td>\n",
              "      <td>10</td>\n",
              "    </tr>\n",
              "    <tr>\n",
              "      <th>2</th>\n",
              "      <td>добавить блоки рекомендаций товаров на сайт интернет магазина, чтобы повысить конверсию и средний чек заказа</td>\n",
              "      <td>8</td>\n",
              "      <td>3</td>\n",
              "      <td>7</td>\n",
              "      <td>3</td>\n",
              "    </tr>\n",
              "    <tr>\n",
              "      <th>3</th>\n",
              "      <td>изменить структура категорий, что увеличит конверсию, т.к. пользователи быстрее найдут нужный товар</td>\n",
              "      <td>8</td>\n",
              "      <td>3</td>\n",
              "      <td>3</td>\n",
              "      <td>8</td>\n",
              "    </tr>\n",
              "    <tr>\n",
              "      <th>4</th>\n",
              "      <td>изменить цвет фона главной страницы, чтобы увеличить вовлеченность пользователей</td>\n",
              "      <td>3</td>\n",
              "      <td>1</td>\n",
              "      <td>1</td>\n",
              "      <td>1</td>\n",
              "    </tr>\n",
              "  </tbody>\n",
              "</table>\n",
              "</div>"
            ],
            "text/plain": [
              "                                                                                                     hypothesis  \\\n",
              "0            добавить два новых канала привлечения трафика, что позволит привлекать на 30% больше пользователей   \n",
              "1                                     запустить собственную службу доставки, что сократит срок доставки заказов   \n",
              "2  добавить блоки рекомендаций товаров на сайт интернет магазина, чтобы повысить конверсию и средний чек заказа   \n",
              "3           изменить структура категорий, что увеличит конверсию, т.к. пользователи быстрее найдут нужный товар   \n",
              "4                              изменить цвет фона главной страницы, чтобы увеличить вовлеченность пользователей   \n",
              "\n",
              "   reach  impact  confidence  efforts  \n",
              "0      3      10           8        6  \n",
              "1      2       5           4       10  \n",
              "2      8       3           7        3  \n",
              "3      8       3           3        8  \n",
              "4      3       1           1        1  "
            ]
          },
          "execution_count": 12,
          "metadata": {},
          "output_type": "execute_result"
        }
      ],
      "source": [
        "hypothesis.head()"
      ]
    },
    {
      "cell_type": "code",
      "execution_count": null,
      "metadata": {
        "id": "LZzXMz2owm29",
        "outputId": "345cb545-6806-4e73-f138-a0d1795b05c1"
      },
      "outputs": [
        {
          "data": {
            "text/html": [
              "<div>\n",
              "<style scoped>\n",
              "    .dataframe tbody tr th:only-of-type {\n",
              "        vertical-align: middle;\n",
              "    }\n",
              "\n",
              "    .dataframe tbody tr th {\n",
              "        vertical-align: top;\n",
              "    }\n",
              "\n",
              "    .dataframe thead th {\n",
              "        text-align: right;\n",
              "    }\n",
              "</style>\n",
              "<table border=\"1\" class=\"dataframe\">\n",
              "  <thead>\n",
              "    <tr style=\"text-align: right;\">\n",
              "      <th></th>\n",
              "      <th>hypothesis</th>\n",
              "      <th>ICE</th>\n",
              "    </tr>\n",
              "  </thead>\n",
              "  <tbody>\n",
              "    <tr>\n",
              "      <th>8</th>\n",
              "      <td>запустить акцию, дающую скидку на товар в день рождения</td>\n",
              "      <td>16.20</td>\n",
              "    </tr>\n",
              "    <tr>\n",
              "      <th>0</th>\n",
              "      <td>добавить два новых канала привлечения трафика, что позволит привлекать на 30% больше пользователей</td>\n",
              "      <td>13.33</td>\n",
              "    </tr>\n",
              "    <tr>\n",
              "      <th>7</th>\n",
              "      <td>добавить форму подписки на все основные страницы, чтобы собрать базу клиентов для email-рассылок</td>\n",
              "      <td>11.20</td>\n",
              "    </tr>\n",
              "    <tr>\n",
              "      <th>6</th>\n",
              "      <td>показать на главной странице баннеры с актуальными акциями и распродажами, чтобы увеличить конверсию</td>\n",
              "      <td>8.00</td>\n",
              "    </tr>\n",
              "    <tr>\n",
              "      <th>2</th>\n",
              "      <td>добавить блоки рекомендаций товаров на сайт интернет магазина, чтобы повысить конверсию и средний чек заказа</td>\n",
              "      <td>7.00</td>\n",
              "    </tr>\n",
              "    <tr>\n",
              "      <th>1</th>\n",
              "      <td>запустить собственную службу доставки, что сократит срок доставки заказов</td>\n",
              "      <td>2.00</td>\n",
              "    </tr>\n",
              "    <tr>\n",
              "      <th>5</th>\n",
              "      <td>добавить страницу отзывов клиентов о магазине, что позволит увеличить количество заказов</td>\n",
              "      <td>1.33</td>\n",
              "    </tr>\n",
              "    <tr>\n",
              "      <th>3</th>\n",
              "      <td>изменить структура категорий, что увеличит конверсию, т.к. пользователи быстрее найдут нужный товар</td>\n",
              "      <td>1.12</td>\n",
              "    </tr>\n",
              "    <tr>\n",
              "      <th>4</th>\n",
              "      <td>изменить цвет фона главной страницы, чтобы увеличить вовлеченность пользователей</td>\n",
              "      <td>1.00</td>\n",
              "    </tr>\n",
              "  </tbody>\n",
              "</table>\n",
              "</div>"
            ],
            "text/plain": [
              "                                                                                                     hypothesis  \\\n",
              "8                                                       запустить акцию, дающую скидку на товар в день рождения   \n",
              "0            добавить два новых канала привлечения трафика, что позволит привлекать на 30% больше пользователей   \n",
              "7              добавить форму подписки на все основные страницы, чтобы собрать базу клиентов для email-рассылок   \n",
              "6          показать на главной странице баннеры с актуальными акциями и распродажами, чтобы увеличить конверсию   \n",
              "2  добавить блоки рекомендаций товаров на сайт интернет магазина, чтобы повысить конверсию и средний чек заказа   \n",
              "1                                     запустить собственную службу доставки, что сократит срок доставки заказов   \n",
              "5                      добавить страницу отзывов клиентов о магазине, что позволит увеличить количество заказов   \n",
              "3           изменить структура категорий, что увеличит конверсию, т.к. пользователи быстрее найдут нужный товар   \n",
              "4                              изменить цвет фона главной страницы, чтобы увеличить вовлеченность пользователей   \n",
              "\n",
              "     ICE  \n",
              "8  16.20  \n",
              "0  13.33  \n",
              "7  11.20  \n",
              "6   8.00  \n",
              "2   7.00  \n",
              "1   2.00  \n",
              "5   1.33  \n",
              "3   1.12  \n",
              "4   1.00  "
            ]
          },
          "metadata": {},
          "output_type": "display_data"
        }
      ],
      "source": [
        "hypothesis['ICE'] = hypothesis['impact'] * hypothesis['confidence'] / hypothesis['efforts']\n",
        "\n",
        "display(round(hypothesis[['hypothesis', 'ICE']].sort_values(by='ICE', ascending=False), 2))"
      ]
    },
    {
      "cell_type": "code",
      "execution_count": null,
      "metadata": {
        "id": "0ChQQT8Kwm2-",
        "outputId": "57f6d3ef-6ed9-4cba-93d8-fbeace912e90"
      },
      "outputs": [
        {
          "data": {
            "text/html": [
              "<div>\n",
              "<style scoped>\n",
              "    .dataframe tbody tr th:only-of-type {\n",
              "        vertical-align: middle;\n",
              "    }\n",
              "\n",
              "    .dataframe tbody tr th {\n",
              "        vertical-align: top;\n",
              "    }\n",
              "\n",
              "    .dataframe thead th {\n",
              "        text-align: right;\n",
              "    }\n",
              "</style>\n",
              "<table border=\"1\" class=\"dataframe\">\n",
              "  <thead>\n",
              "    <tr style=\"text-align: right;\">\n",
              "      <th></th>\n",
              "      <th>hypothesis</th>\n",
              "      <th>RICE</th>\n",
              "    </tr>\n",
              "  </thead>\n",
              "  <tbody>\n",
              "    <tr>\n",
              "      <th>7</th>\n",
              "      <td>добавить форму подписки на все основные страницы, чтобы собрать базу клиентов для email-рассылок</td>\n",
              "      <td>112.0</td>\n",
              "    </tr>\n",
              "    <tr>\n",
              "      <th>2</th>\n",
              "      <td>добавить блоки рекомендаций товаров на сайт интернет магазина, чтобы повысить конверсию и средний чек заказа</td>\n",
              "      <td>56.0</td>\n",
              "    </tr>\n",
              "    <tr>\n",
              "      <th>0</th>\n",
              "      <td>добавить два новых канала привлечения трафика, что позволит привлекать на 30% больше пользователей</td>\n",
              "      <td>40.0</td>\n",
              "    </tr>\n",
              "    <tr>\n",
              "      <th>6</th>\n",
              "      <td>показать на главной странице баннеры с актуальными акциями и распродажами, чтобы увеличить конверсию</td>\n",
              "      <td>40.0</td>\n",
              "    </tr>\n",
              "    <tr>\n",
              "      <th>8</th>\n",
              "      <td>запустить акцию, дающую скидку на товар в день рождения</td>\n",
              "      <td>16.2</td>\n",
              "    </tr>\n",
              "    <tr>\n",
              "      <th>3</th>\n",
              "      <td>изменить структура категорий, что увеличит конверсию, т.к. пользователи быстрее найдут нужный товар</td>\n",
              "      <td>9.0</td>\n",
              "    </tr>\n",
              "    <tr>\n",
              "      <th>1</th>\n",
              "      <td>запустить собственную службу доставки, что сократит срок доставки заказов</td>\n",
              "      <td>4.0</td>\n",
              "    </tr>\n",
              "    <tr>\n",
              "      <th>5</th>\n",
              "      <td>добавить страницу отзывов клиентов о магазине, что позволит увеличить количество заказов</td>\n",
              "      <td>4.0</td>\n",
              "    </tr>\n",
              "    <tr>\n",
              "      <th>4</th>\n",
              "      <td>изменить цвет фона главной страницы, чтобы увеличить вовлеченность пользователей</td>\n",
              "      <td>3.0</td>\n",
              "    </tr>\n",
              "  </tbody>\n",
              "</table>\n",
              "</div>"
            ],
            "text/plain": [
              "                                                                                                     hypothesis  \\\n",
              "7              добавить форму подписки на все основные страницы, чтобы собрать базу клиентов для email-рассылок   \n",
              "2  добавить блоки рекомендаций товаров на сайт интернет магазина, чтобы повысить конверсию и средний чек заказа   \n",
              "0            добавить два новых канала привлечения трафика, что позволит привлекать на 30% больше пользователей   \n",
              "6          показать на главной странице баннеры с актуальными акциями и распродажами, чтобы увеличить конверсию   \n",
              "8                                                       запустить акцию, дающую скидку на товар в день рождения   \n",
              "3           изменить структура категорий, что увеличит конверсию, т.к. пользователи быстрее найдут нужный товар   \n",
              "1                                     запустить собственную службу доставки, что сократит срок доставки заказов   \n",
              "5                      добавить страницу отзывов клиентов о магазине, что позволит увеличить количество заказов   \n",
              "4                              изменить цвет фона главной страницы, чтобы увеличить вовлеченность пользователей   \n",
              "\n",
              "    RICE  \n",
              "7  112.0  \n",
              "2   56.0  \n",
              "0   40.0  \n",
              "6   40.0  \n",
              "8   16.2  \n",
              "3    9.0  \n",
              "1    4.0  \n",
              "5    4.0  \n",
              "4    3.0  "
            ]
          },
          "metadata": {},
          "output_type": "display_data"
        }
      ],
      "source": [
        "hypothesis['RICE'] = hypothesis['reach'] * hypothesis['impact'] * hypothesis['confidence'] / hypothesis['efforts']\n",
        "\n",
        "display(hypothesis[['hypothesis', 'RICE']].sort_values(by='RICE', ascending=False))"
      ]
    },
    {
      "cell_type": "code",
      "execution_count": null,
      "metadata": {
        "scrolled": true,
        "id": "WrqafXUtwm3J",
        "outputId": "d70c2548-0d1a-4b47-f4a7-bf3de3e66989"
      },
      "outputs": [
        {
          "data": {
            "text/html": [
              "<div>\n",
              "<style scoped>\n",
              "    .dataframe tbody tr th:only-of-type {\n",
              "        vertical-align: middle;\n",
              "    }\n",
              "\n",
              "    .dataframe tbody tr th {\n",
              "        vertical-align: top;\n",
              "    }\n",
              "\n",
              "    .dataframe thead th {\n",
              "        text-align: right;\n",
              "    }\n",
              "</style>\n",
              "<table border=\"1\" class=\"dataframe\">\n",
              "  <thead>\n",
              "    <tr style=\"text-align: right;\">\n",
              "      <th></th>\n",
              "      <th>hypothesis</th>\n",
              "      <th>reach</th>\n",
              "      <th>impact</th>\n",
              "      <th>confidence</th>\n",
              "      <th>efforts</th>\n",
              "      <th>ICE</th>\n",
              "      <th>RICE</th>\n",
              "    </tr>\n",
              "  </thead>\n",
              "  <tbody>\n",
              "    <tr>\n",
              "      <th>7</th>\n",
              "      <td>добавить форму подписки на все основные страницы, чтобы собрать базу клиентов для email-рассылок</td>\n",
              "      <td>10</td>\n",
              "      <td>7</td>\n",
              "      <td>8</td>\n",
              "      <td>5</td>\n",
              "      <td>11.200000</td>\n",
              "      <td>112.0</td>\n",
              "    </tr>\n",
              "    <tr>\n",
              "      <th>2</th>\n",
              "      <td>добавить блоки рекомендаций товаров на сайт интернет магазина, чтобы повысить конверсию и средний чек заказа</td>\n",
              "      <td>8</td>\n",
              "      <td>3</td>\n",
              "      <td>7</td>\n",
              "      <td>3</td>\n",
              "      <td>7.000000</td>\n",
              "      <td>56.0</td>\n",
              "    </tr>\n",
              "    <tr>\n",
              "      <th>0</th>\n",
              "      <td>добавить два новых канала привлечения трафика, что позволит привлекать на 30% больше пользователей</td>\n",
              "      <td>3</td>\n",
              "      <td>10</td>\n",
              "      <td>8</td>\n",
              "      <td>6</td>\n",
              "      <td>13.333333</td>\n",
              "      <td>40.0</td>\n",
              "    </tr>\n",
              "    <tr>\n",
              "      <th>6</th>\n",
              "      <td>показать на главной странице баннеры с актуальными акциями и распродажами, чтобы увеличить конверсию</td>\n",
              "      <td>5</td>\n",
              "      <td>3</td>\n",
              "      <td>8</td>\n",
              "      <td>3</td>\n",
              "      <td>8.000000</td>\n",
              "      <td>40.0</td>\n",
              "    </tr>\n",
              "    <tr>\n",
              "      <th>8</th>\n",
              "      <td>запустить акцию, дающую скидку на товар в день рождения</td>\n",
              "      <td>1</td>\n",
              "      <td>9</td>\n",
              "      <td>9</td>\n",
              "      <td>5</td>\n",
              "      <td>16.200000</td>\n",
              "      <td>16.2</td>\n",
              "    </tr>\n",
              "    <tr>\n",
              "      <th>3</th>\n",
              "      <td>изменить структура категорий, что увеличит конверсию, т.к. пользователи быстрее найдут нужный товар</td>\n",
              "      <td>8</td>\n",
              "      <td>3</td>\n",
              "      <td>3</td>\n",
              "      <td>8</td>\n",
              "      <td>1.125000</td>\n",
              "      <td>9.0</td>\n",
              "    </tr>\n",
              "    <tr>\n",
              "      <th>1</th>\n",
              "      <td>запустить собственную службу доставки, что сократит срок доставки заказов</td>\n",
              "      <td>2</td>\n",
              "      <td>5</td>\n",
              "      <td>4</td>\n",
              "      <td>10</td>\n",
              "      <td>2.000000</td>\n",
              "      <td>4.0</td>\n",
              "    </tr>\n",
              "    <tr>\n",
              "      <th>5</th>\n",
              "      <td>добавить страницу отзывов клиентов о магазине, что позволит увеличить количество заказов</td>\n",
              "      <td>3</td>\n",
              "      <td>2</td>\n",
              "      <td>2</td>\n",
              "      <td>3</td>\n",
              "      <td>1.333333</td>\n",
              "      <td>4.0</td>\n",
              "    </tr>\n",
              "    <tr>\n",
              "      <th>4</th>\n",
              "      <td>изменить цвет фона главной страницы, чтобы увеличить вовлеченность пользователей</td>\n",
              "      <td>3</td>\n",
              "      <td>1</td>\n",
              "      <td>1</td>\n",
              "      <td>1</td>\n",
              "      <td>1.000000</td>\n",
              "      <td>3.0</td>\n",
              "    </tr>\n",
              "  </tbody>\n",
              "</table>\n",
              "</div>"
            ],
            "text/plain": [
              "                                                                                                     hypothesis  \\\n",
              "7              добавить форму подписки на все основные страницы, чтобы собрать базу клиентов для email-рассылок   \n",
              "2  добавить блоки рекомендаций товаров на сайт интернет магазина, чтобы повысить конверсию и средний чек заказа   \n",
              "0            добавить два новых канала привлечения трафика, что позволит привлекать на 30% больше пользователей   \n",
              "6          показать на главной странице баннеры с актуальными акциями и распродажами, чтобы увеличить конверсию   \n",
              "8                                                       запустить акцию, дающую скидку на товар в день рождения   \n",
              "3           изменить структура категорий, что увеличит конверсию, т.к. пользователи быстрее найдут нужный товар   \n",
              "1                                     запустить собственную службу доставки, что сократит срок доставки заказов   \n",
              "5                      добавить страницу отзывов клиентов о магазине, что позволит увеличить количество заказов   \n",
              "4                              изменить цвет фона главной страницы, чтобы увеличить вовлеченность пользователей   \n",
              "\n",
              "   reach  impact  confidence  efforts        ICE   RICE  \n",
              "7     10       7           8        5  11.200000  112.0  \n",
              "2      8       3           7        3   7.000000   56.0  \n",
              "0      3      10           8        6  13.333333   40.0  \n",
              "6      5       3           8        3   8.000000   40.0  \n",
              "8      1       9           9        5  16.200000   16.2  \n",
              "3      8       3           3        8   1.125000    9.0  \n",
              "1      2       5           4       10   2.000000    4.0  \n",
              "5      3       2           2        3   1.333333    4.0  \n",
              "4      3       1           1        1   1.000000    3.0  "
            ]
          },
          "execution_count": 15,
          "metadata": {},
          "output_type": "execute_result"
        }
      ],
      "source": [
        "hypothesis.sort_values(by='RICE', ascending=False)"
      ]
    },
    {
      "cell_type": "code",
      "execution_count": null,
      "metadata": {
        "id": "KEGShVXTwm3K",
        "outputId": "803f73d1-09a1-4a22-d323-ecec16b3c212"
      },
      "outputs": [
        {
          "name": "stdout",
          "output_type": "stream",
          "text": [
            "добавить форму подписки на все основные страницы, чтобы собрать базу клиентов для email-рассылок\n"
          ]
        }
      ],
      "source": [
        "hyp = hypothesis[hypothesis['reach'] == 10]['hypothesis']\n",
        "print(\"\\n\".join(hyp.to_list()))"
      ]
    },
    {
      "cell_type": "markdown",
      "metadata": {
        "id": "dktUrZjjwm3K"
      },
      "source": [
        "**Вывод**\n",
        "\n",
        "Для А/В теста возьмём гипотезу под номером 7 - \"Добавить форму подписки на все основные страницы, чтобы собрать базу клиентов для email-рассылок\". Решающим фактором для определия гипотезы для проверка стал охват, он самый большой именно в данном случае.\n",
        "\n",
        "Также для проведения теста можно рассмотреть гипотезу под номером 0 - \"Добавить два новых канала привлечения трафика, что позволит привлекать на 30% больше пользователей\"."
      ]
    },
    {
      "cell_type": "markdown",
      "metadata": {
        "id": "qeJCycQDwm3M"
      },
      "source": [
        "## Анализ A/B теста"
      ]
    },
    {
      "cell_type": "markdown",
      "metadata": {
        "id": "3GqHIQ4-wm3M"
      },
      "source": [
        "### Кумулятивная выручка по группам за каждую дату"
      ]
    },
    {
      "cell_type": "code",
      "execution_count": null,
      "metadata": {
        "id": "ezAVkQ1nwm3N",
        "outputId": "b7f410ff-a348-4dae-a58c-75e65b598277"
      },
      "outputs": [
        {
          "data": {
            "text/html": [
              "<div>\n",
              "<style scoped>\n",
              "    .dataframe tbody tr th:only-of-type {\n",
              "        vertical-align: middle;\n",
              "    }\n",
              "\n",
              "    .dataframe tbody tr th {\n",
              "        vertical-align: top;\n",
              "    }\n",
              "\n",
              "    .dataframe thead th {\n",
              "        text-align: right;\n",
              "    }\n",
              "</style>\n",
              "<table border=\"1\" class=\"dataframe\">\n",
              "  <thead>\n",
              "    <tr style=\"text-align: right;\">\n",
              "      <th></th>\n",
              "      <th>date</th>\n",
              "      <th>group</th>\n",
              "      <th>orders</th>\n",
              "      <th>buyers</th>\n",
              "      <th>revenue</th>\n",
              "      <th>visitors</th>\n",
              "    </tr>\n",
              "  </thead>\n",
              "  <tbody>\n",
              "    <tr>\n",
              "      <th>0</th>\n",
              "      <td>2019-08-01</td>\n",
              "      <td>A</td>\n",
              "      <td>24</td>\n",
              "      <td>20</td>\n",
              "      <td>148579</td>\n",
              "      <td>719</td>\n",
              "    </tr>\n",
              "    <tr>\n",
              "      <th>1</th>\n",
              "      <td>2019-08-01</td>\n",
              "      <td>B</td>\n",
              "      <td>21</td>\n",
              "      <td>20</td>\n",
              "      <td>101217</td>\n",
              "      <td>713</td>\n",
              "    </tr>\n",
              "    <tr>\n",
              "      <th>2</th>\n",
              "      <td>2019-08-02</td>\n",
              "      <td>A</td>\n",
              "      <td>44</td>\n",
              "      <td>38</td>\n",
              "      <td>242401</td>\n",
              "      <td>1338</td>\n",
              "    </tr>\n",
              "    <tr>\n",
              "      <th>3</th>\n",
              "      <td>2019-08-02</td>\n",
              "      <td>B</td>\n",
              "      <td>45</td>\n",
              "      <td>43</td>\n",
              "      <td>266748</td>\n",
              "      <td>1294</td>\n",
              "    </tr>\n",
              "    <tr>\n",
              "      <th>4</th>\n",
              "      <td>2019-08-03</td>\n",
              "      <td>A</td>\n",
              "      <td>68</td>\n",
              "      <td>62</td>\n",
              "      <td>354874</td>\n",
              "      <td>1845</td>\n",
              "    </tr>\n",
              "  </tbody>\n",
              "</table>\n",
              "</div>"
            ],
            "text/plain": [
              "        date group  orders  buyers  revenue  visitors\n",
              "0 2019-08-01     A      24      20   148579       719\n",
              "1 2019-08-01     B      21      20   101217       713\n",
              "2 2019-08-02     A      44      38   242401      1338\n",
              "3 2019-08-02     B      45      43   266748      1294\n",
              "4 2019-08-03     A      68      62   354874      1845"
            ]
          },
          "metadata": {},
          "output_type": "display_data"
        },
        {
          "name": "stdout",
          "output_type": "stream",
          "text": [
            "\n",
            "2019-08-01 00:00:00\n",
            "2019-08-31 00:00:00\n"
          ]
        }
      ],
      "source": [
        "# Создадим массив уникальных пар значений дат и групп теста\n",
        "\n",
        "datesGroups = orders[['date', 'group']].drop_duplicates()\n",
        "datesGroups['date'] = pd.to_datetime(datesGroups['date'])\n",
        "\n",
        "# Соберём агрегированные кумулятивные по дням данные о заказах\n",
        "\n",
        "ordersAggregated = datesGroups.apply(\n",
        "    lambda x: orders[\n",
        "        np.logical_and(\n",
        "            orders['date'] <= x['date'], orders['group'] == x['group']\n",
        "        )\n",
        "    ].agg({\n",
        "            'date': 'max',\n",
        "            'group': 'max',\n",
        "            'transaction_id': 'nunique',\n",
        "            'visitor_id': 'nunique',\n",
        "            'revenue': 'sum',\n",
        "        }\n",
        "    ), axis=1,\n",
        ").sort_values(by=['date', 'group'])\n",
        "\n",
        "# Соберём агрегированные кумулятивные по дням данные о посетителях\n",
        "\n",
        "visitorsAggregated = datesGroups.apply(\n",
        "    lambda x: visitors[\n",
        "        np.logical_and(\n",
        "            visitors['date'] <= x['date'], visitors['group'] == x['group']\n",
        "        )\n",
        "    ].agg({\n",
        "        'date': 'max',\n",
        "        'group': 'max',\n",
        "        'visitors': 'sum'\n",
        "    }\n",
        "    ), axis=1,\n",
        ").sort_values(by=['date', 'group'])\n",
        "\n",
        "# Объединяем кумулятивные данные в одной таблице\n",
        "\n",
        "cumulativeData = ordersAggregated.merge(visitorsAggregated,\n",
        "                                        left_on=['date', 'group'],\n",
        "                                        right_on=['date', 'group'])\n",
        "cumulativeData.columns = ['date', 'group', 'orders', 'buyers', 'revenue', 'visitors']\n",
        "\n",
        "display(cumulativeData.head(5))\n",
        "print()\n",
        "print(cumulativeData['date'].min())\n",
        "print(cumulativeData['date'].max())"
      ]
    },
    {
      "cell_type": "code",
      "execution_count": null,
      "metadata": {
        "id": "GWljvsyQwm3P",
        "outputId": "18ee8bc8-e3a3-4b94-dec9-03f3708466eb"
      },
      "outputs": [
        {
          "data": {
            "image/png": "[encoded data removed]",
            "text/plain": [
              "<Figure size 864x576 with 1 Axes>"
            ]
          },
          "metadata": {
            "needs_background": "light"
          },
          "output_type": "display_data"
        }
      ],
      "source": [
        "# Собираем датафреймы с кумулятивным количеством заказов и кумулятивной выручкой по дням и по группам\n",
        "\n",
        "cumulativeRevenueA = cumulativeData[cumulativeData['group'] == 'A'][['date', 'revenue', 'orders']]\n",
        "cumulativeRevenueB = cumulativeData[cumulativeData['group'] == 'B'][['date', 'revenue', 'orders']]\n",
        "\n",
        "# Строим графики выручки\n",
        "\n",
        "plt.figure(figsize=(12, 8))\n",
        "\n",
        "plt.plot(cumulativeRevenueA['date'], cumulativeRevenueA['revenue'], label='A')\n",
        "plt.plot(cumulativeRevenueB['date'], cumulativeRevenueB['revenue'], label='B')\n",
        "\n",
        "plt.title('Кумулятивная выручка по дням и группам', size=15)\n",
        "plt.xlabel('Дата', size=12)\n",
        "plt.ylabel('Выручка', size=12)\n",
        "plt.legend()\n",
        "plt.grid()\n",
        "\n",
        "plt.show()"
      ]
    },
    {
      "cell_type": "markdown",
      "metadata": {
        "id": "CJh0vYo2wm3Q"
      },
      "source": [
        "**Вывод**\n",
        "\n",
        "Выручка увеличивается на протяжении всего теста, что уже является хорошим знаком. Обе группы идут более менее ровно, но у группы В произошёл скачок примерно 18 числа, что связано скорее всего с увеличением количества заказов или аномально больших сумм."
      ]
    },
    {
      "cell_type": "markdown",
      "metadata": {
        "id": "toytPQdLwm3R"
      },
      "source": [
        "### Кумулятивный средний чек по группам на каждую дату"
      ]
    },
    {
      "cell_type": "code",
      "execution_count": null,
      "metadata": {
        "id": "aO0T_7m7wm3S",
        "outputId": "262e353e-e377-444e-dfde-4d6b72f2c61e"
      },
      "outputs": [
        {
          "data": {
            "image/png": "[encoded data removed]",
            "text/plain": [
              "<Figure size 864x576 with 1 Axes>"
            ]
          },
          "metadata": {
            "needs_background": "light"
          },
          "output_type": "display_data"
        }
      ],
      "source": [
        "plt.figure(figsize=(12, 8))\n",
        "\n",
        "plt.plot(cumulativeRevenueA['date'], cumulativeRevenueA['revenue'] / cumulativeRevenueA['orders'], label='A')\n",
        "plt.plot(cumulativeRevenueB['date'], cumulativeRevenueB['revenue'] / cumulativeRevenueB['orders'], label='B')\n",
        "\n",
        "plt.title('Средний кумулятивный чек по дням и группам', size=15)\n",
        "plt.xlabel('Дата', size=12)\n",
        "plt.ylabel('Выручка', size=12)\n",
        "plt.legend()\n",
        "plt.grid()\n",
        "\n",
        "plt.show()"
      ]
    },
    {
      "cell_type": "markdown",
      "metadata": {
        "id": "mUhzIyHIwm3S"
      },
      "source": [
        "**Вывод**\n",
        "\n",
        "- График среднего чека по группам не имеет стабильности (по крайней мере до первой половины): есть сильные подъёмы и снижения.\n",
        "- Как и на графике общей выручки, присутствует значительное увеличение у группы В 18 числа\n",
        "- На конец теста у группы А идёт небольшой рост, а у В снижение"
      ]
    },
    {
      "cell_type": "markdown",
      "metadata": {
        "id": "wsYGV2UQwm3T"
      },
      "source": [
        "### Относительное изменение кумулятивного среднего чека группы В к группе А"
      ]
    },
    {
      "cell_type": "code",
      "execution_count": null,
      "metadata": {
        "id": "5GgFvvgrwm3T",
        "outputId": "d6eeaa12-7819-4e4a-d614-bfceac3a4e2b"
      },
      "outputs": [
        {
          "data": {
            "image/png": "[encoded data removed]",
            "text/plain": [
              "<Figure size 864x576 with 1 Axes>"
            ]
          },
          "metadata": {
            "needs_background": "light"
          },
          "output_type": "display_data"
        }
      ],
      "source": [
        "# Cобираем данные в одном датафрейме\n",
        "\n",
        "mergedCumulativeRevenue = cumulativeRevenueA.merge(cumulativeRevenueB,\n",
        "                                                   left_on='date',\n",
        "                                                   right_on='date',\n",
        "                                                   how='left',\n",
        "                                                   suffixes=['A', 'B'])\n",
        "\n",
        "# Строим отношение средних чеков\n",
        "\n",
        "plt.figure(figsize=(12, 8))\n",
        "\n",
        "plt.plot(mergedCumulativeRevenue['date'],\n",
        "        ((mergedCumulativeRevenue['revenueB']/mergedCumulativeRevenue['ordersB']) / (mergedCumulativeRevenue['revenueA']/mergedCumulativeRevenue['ordersA'])) - 1,)\n",
        "\n",
        "# добавляем ось X\n",
        "plt.axhline(y=0, color='black', linestyle='--')\n",
        "\n",
        "plt.title('Относительное изменение кумулятивного среднего чека группы В к группе А', size=15)\n",
        "plt.xlabel('Дата', size=12)\n",
        "plt.ylabel('Отношение', size=12)\n",
        "plt.grid()\n",
        "\n",
        "plt.show()"
      ]
    },
    {
      "cell_type": "markdown",
      "metadata": {
        "id": "9EizNpD5wm3U"
      },
      "source": [
        "**Вывод**\n",
        "\n",
        "БОльшую часть эксперимента средний чек в группе В больше, но график очень сильно видоизменяется, скорее всего из-за аномальных значений."
      ]
    },
    {
      "cell_type": "markdown",
      "metadata": {
        "id": "oFRPWYs5wm3V"
      },
      "source": [
        "### Кумулятивное среднее количество заказов на посетителя по группам"
      ]
    },
    {
      "cell_type": "code",
      "execution_count": null,
      "metadata": {
        "id": "p6gvKb2Zwm3V",
        "outputId": "249a30e5-c36b-41fa-a6b3-3eb1d3e7390c"
      },
      "outputs": [
        {
          "data": {
            "image/png": "[encoded data removed]",
            "text/plain": [
              "<Figure size 864x576 with 1 Axes>"
            ]
          },
          "metadata": {
            "needs_background": "light"
          },
          "output_type": "display_data"
        }
      ],
      "source": [
        "cumulativeA = cumulativeData[cumulativeData['group']=='A'][['date', 'orders', 'visitors']]\n",
        "cumulativeB = cumulativeData[cumulativeData['group']=='B'][['date', 'orders', 'visitors']]\n",
        "\n",
        "# Кумулятивное среднее количество заказов на 1 посетителя по группам\n",
        "\n",
        "cumulativeOrdersMeanA = cumulativeA['orders'] / cumulativeA['visitors']\n",
        "cumulativeOrdersMeanB = cumulativeB['orders'] / cumulativeB['visitors']\n",
        "\n",
        "plt.figure(figsize=(12, 8))\n",
        "\n",
        "plt.plot(cumulativeA['date'], cumulativeOrdersMeanA, label='A')\n",
        "plt.plot(cumulativeB['date'], cumulativeOrdersMeanB, label='B')\n",
        "\n",
        "plt.title('Кумулятивное среднее колво заказов на 1 посетителя', size=15)\n",
        "plt.xlabel('Дата', size=12)\n",
        "plt.ylabel('Среднее количество заказов', size=12)\n",
        "plt.legend()\n",
        "plt.grid()\n",
        "\n",
        "plt.show()"
      ]
    },
    {
      "cell_type": "markdown",
      "metadata": {
        "id": "cuaUMBCPwm3W"
      },
      "source": [
        "**Вывод**\n",
        "\n",
        "- Заметны резки колебания графиков в первую неделю, на это могла повлиять неправильно выбранная выборка по итогам А/А тест либо внешние факторы\n",
        "- Группа В после 1 недели стабильно выше группы А\n",
        "- Обе группы имеют примерно одинаковую тенденцию на подъём и снижение заказов"
      ]
    },
    {
      "cell_type": "markdown",
      "metadata": {
        "id": "HzaBHsBAwm3X"
      },
      "source": [
        "### Относительное изменение кумулятивного среднего количества заказов группы В к группе А"
      ]
    },
    {
      "cell_type": "code",
      "execution_count": null,
      "metadata": {
        "id": "hPXxKLpIwm3X",
        "outputId": "aa5974cf-a399-4ace-ca30-33e29cc09138"
      },
      "outputs": [
        {
          "data": {
            "image/png": "[encoded data removed]",
            "text/plain": [
              "<Figure size 864x576 with 1 Axes>"
            ]
          },
          "metadata": {
            "needs_background": "light"
          },
          "output_type": "display_data"
        }
      ],
      "source": [
        "# Соединяем кумулятивные таблицы по группам\n",
        "\n",
        "mergedOrders = cumulativeA.merge(cumulativeB, left_on='date', right_on='date', suffixes=['A', 'B'])\n",
        "\n",
        "# Кумулятивное среднее количество заказов на 1 посетителя по группам\n",
        "\n",
        "plt.figure(figsize=(12, 8))\n",
        "\n",
        "plt.plot(mergedOrders['date'],\n",
        "        ((mergedOrders['ordersB']/mergedOrders['visitorsB']) / (mergedOrders['ordersA']/mergedOrders['visitorsA']) - 1))\n",
        "\n",
        "plt.axhline(y=0, color='black', linestyle='--')\n",
        "\n",
        "plt.title('Относительное изменение кумулятивного среднего количества заказов группы В к группе А', size=15)\n",
        "plt.xlabel('Дата', size=12)\n",
        "plt.ylabel('Среднее количество заказов', size=12)\n",
        "plt.grid()\n",
        "\n",
        "plt.show()"
      ]
    },
    {
      "cell_type": "markdown",
      "metadata": {
        "id": "8Uf6kt9iwm3X"
      },
      "source": [
        "**Вывод**\n",
        "\n",
        "Динамика примерно совпадает с предыдущим графиком, идёт резкий рост после 1-ой недели и небольшое снижение под конец периода."
      ]
    },
    {
      "cell_type": "markdown",
      "metadata": {
        "id": "ks68OiM4wm3Y"
      },
      "source": [
        "### Количество заказов по пользователям"
      ]
    },
    {
      "cell_type": "code",
      "execution_count": null,
      "metadata": {
        "id": "QL6l92rNwm3Z",
        "outputId": "1a5fc1ec-dfd7-4455-dfc6-a3f310576819"
      },
      "outputs": [
        {
          "data": {
            "image/png": "[encoded data removed]",
            "text/plain": [
              "<Figure size 864x576 with 1 Axes>"
            ]
          },
          "metadata": {
            "needs_background": "light"
          },
          "output_type": "display_data"
        }
      ],
      "source": [
        "#\n",
        "\n",
        "ordersByUser = orders.groupby('visitor_id')\\\n",
        "                      .agg({'transaction_id': 'count'})\\\n",
        "                      .rename(columns={'transaction_id': 'cnt_order'})\\\n",
        "                      .reset_index()\n",
        "\n",
        "#\n",
        "\n",
        "x_values = pd.Series(range(0, len(ordersByUser['cnt_order'])))\n",
        "\n",
        "plt.figure(figsize=(12, 8))\n",
        "\n",
        "plt.scatter(x_values, ordersByUser['cnt_order'])\n",
        "\n",
        "plt.title('Количество заказов по пользователям', size=15)\n",
        "plt.xlabel('Количество пользователей', size=12)\n",
        "plt.ylabel('Количество заказов', size=12)\n",
        "plt.xticks(np.arange(min(x_values), max(x_values), 100))\n",
        "plt.yticks(np.arange(min(ordersByUser['cnt_order']) - 1, max(ordersByUser['cnt_order']) + 2, 1))\n",
        "plt.grid()\n",
        "\n",
        "plt.show()"
      ]
    },
    {
      "cell_type": "markdown",
      "metadata": {
        "id": "dNXtkAivwm3b"
      },
      "source": [
        "**Вывод**\n",
        "\n",
        "Предположение подтвердилось, есть аномальные выбросы в виде 8-11 заказов за месяц. Основная часть будет располагаться до 3 заказов примерно."
      ]
    },
    {
      "cell_type": "markdown",
      "metadata": {
        "id": "CU2lIDCiwm3c"
      },
      "source": [
        "### 95-ый и 99-ый персентили заказов на пользователя"
      ]
    },
    {
      "cell_type": "code",
      "execution_count": null,
      "metadata": {
        "id": "Rvw0XMKBwm3c",
        "outputId": "a7887016-01db-4c92-e51f-99fad338bec1"
      },
      "outputs": [
        {
          "data": {
            "text/plain": [
              "array([2., 3., 4.])"
            ]
          },
          "execution_count": 24,
          "metadata": {},
          "output_type": "execute_result"
        }
      ],
      "source": [
        "np.percentile(ordersByUser['cnt_order'], [95, 97.5, 99])"
      ]
    },
    {
      "cell_type": "markdown",
      "metadata": {
        "id": "UFuSytOqwm3d"
      },
      "source": [
        "**Вывод**\n",
        "\n",
        "Возьмём за границу - 3 заказа, что соответствует 97.5 персентилю."
      ]
    },
    {
      "cell_type": "markdown",
      "metadata": {
        "id": "LeQni9DUwm3e"
      },
      "source": [
        "### Стоимость заказов"
      ]
    },
    {
      "cell_type": "code",
      "execution_count": null,
      "metadata": {
        "id": "QycKwFiMwm3e",
        "outputId": "9840e5aa-470b-48e3-edf9-2c446758c45c"
      },
      "outputs": [
        {
          "data": {
            "image/png": "[encoded data removed]",
            "text/plain": [
              "<Figure size 864x576 with 1 Axes>"
            ]
          },
          "metadata": {
            "needs_background": "light"
          },
          "output_type": "display_data"
        }
      ],
      "source": [
        "x_values = pd.Series(range(0, len(orders['revenue'])))\n",
        "\n",
        "plt.figure(figsize=(12, 8))\n",
        "\n",
        "plt.scatter(x_values, orders['revenue'])\n",
        "\n",
        "plt.title('Сумма заказов', size=15)\n",
        "plt.xlabel('Количество пользователей', size=12)\n",
        "plt.ylabel('Сумма', size=12)\n",
        "plt.grid()\n",
        "\n",
        "plt.show()"
      ]
    },
    {
      "cell_type": "markdown",
      "metadata": {
        "id": "Ugqe2Jc-wm3f"
      },
      "source": [
        "**Вывод**\n",
        "\n",
        "Присутствует аномальные значение, которые скорее всего и давали сильный рост в категории В. Отсекать надо всё, что больше 150 000 рублей за заказ."
      ]
    },
    {
      "cell_type": "markdown",
      "metadata": {
        "id": "D1diMYtAwm3g"
      },
      "source": [
        "### 95-ый и 99-ый персентили стоимости заказов"
      ]
    },
    {
      "cell_type": "code",
      "execution_count": null,
      "metadata": {
        "id": "ip6qMPncwm3h",
        "outputId": "de1a7846-efbe-437d-d332-913d8e45ca1b"
      },
      "outputs": [
        {
          "data": {
            "text/plain": [
              "array([28000. , 39530. , 58233.2])"
            ]
          },
          "execution_count": 26,
          "metadata": {},
          "output_type": "execute_result"
        }
      ],
      "source": [
        "np.percentile(orders['revenue'], [95, 97.5, 99])"
      ]
    },
    {
      "cell_type": "markdown",
      "metadata": {
        "id": "zhMA8pDiwm3h"
      },
      "source": [
        "**Вывод**\n",
        "\n",
        "Если округлить, то можно отсекать заказы дороже 40 000."
      ]
    },
    {
      "cell_type": "markdown",
      "metadata": {
        "id": "nJ9uIqVCwm3i"
      },
      "source": [
        "### Стат значимость среднего количества заказов на посетителя по группам по \"сырым\" данным"
      ]
    },
    {
      "cell_type": "markdown",
      "metadata": {
        "id": "v3wRwQczwm3i"
      },
      "source": [
        "`H0:` среднее количество заказов на посетителя по группам по \"сырым\" данным не различается\n",
        "\n",
        "`H1:` среднее количество заказов на посетителя по группам по \"сырым\" данным различается"
      ]
    },
    {
      "cell_type": "code",
      "execution_count": null,
      "metadata": {
        "id": "aKpo1flowm3j"
      },
      "outputs": [],
      "source": [
        "# Таблицы с пользователями, совершившими хотя бы 1 заказ, и числом заказов\n",
        "\n",
        "ordersByUsersA = (\n",
        "    orders[orders['group'] == 'A']\n",
        "    .groupby('visitor_id', as_index=False)\n",
        "    .agg({'transaction_id': pd.Series.nunique})\n",
        ")\n",
        "ordersByUsersA.columns = ['user_id', 'orders']\n",
        "\n",
        "ordersByUsersB = (\n",
        "    orders[orders['group'] == 'B']\n",
        "    .groupby('visitor_id', as_index=False)\n",
        "    .agg({'transaction_id': pd.Series.nunique})\n",
        ")\n",
        "ordersByUsersB.columns = ['user_id', 'orders']"
      ]
    },
    {
      "cell_type": "code",
      "execution_count": null,
      "metadata": {
        "scrolled": true,
        "id": "JytWCTb5wm3k",
        "outputId": "a39e2028-93a2-415b-b26c-313e360d7265"
      },
      "outputs": [
        {
          "name": "stdout",
          "output_type": "stream",
          "text": [
            "Отвергаем нулевую гипотезу, pvalue1=0.015\n",
            "Относительный прирост группы В к группе А => уровня значимости, pvalue2=0.144\n"
          ]
        }
      ],
      "source": [
        "sampleA = pd.concat(\n",
        "    [ordersByUsersA['orders'],\n",
        "     pd.Series(\n",
        "         0,\n",
        "         index=np.arange(\n",
        "             cumulativeData[cumulativeData['group'] == 'A']['visitors'].sum() - len(ordersByUsersA['orders'])\n",
        "         ), name='orders'\n",
        "     )\n",
        "    ], axis=0\n",
        ")\n",
        "\n",
        "sampleB = pd.concat(\n",
        "    [ordersByUsersB['orders'],\n",
        "     pd.Series(\n",
        "         0,\n",
        "         index=np.arange(\n",
        "             cumulativeData[cumulativeData['group'] == 'B']['visitors'].sum() - len(ordersByUsersB['orders'])\n",
        "         ), name='orders')\n",
        "    ], axis=0\n",
        ")\n",
        "\n",
        "#\n",
        "\n",
        "alpha = 0.05\n",
        "\n",
        "pvalue1 = float(\"{0:.3f}\".format(stats.mannwhitneyu(sampleA, sampleB)[1]))\n",
        "pvalue2 = float(\"{0:.3f}\".format(sampleB.mean() / sampleA.mean() - 1))\n",
        "\n",
        "if pvalue1 < alpha:\n",
        "    print('Отвергаем нулевую гипотезу, pvalue1={}'.format(pvalue1))\n",
        "else:\n",
        "    print('Нет оснований отвергнуть нулевую гипотезу, pvalue1={}'.format(pvalue1))\n",
        "\n",
        "if pvalue2 < alpha:\n",
        "    print('Относительный прирост группы В к группе А < уровня значимости, pvalue2={}'.format(pvalue2))\n",
        "else:\n",
        "    print('Относительный прирост группы В к группе А => уровня значимости, pvalue2={}'.format(pvalue2))"
      ]
    },
    {
      "cell_type": "markdown",
      "metadata": {
        "id": "tN41zdzZwm3l"
      },
      "source": [
        "**Вывод**\n",
        "\n",
        "По итогу отвергаем нулевую гипотезу, потому что p_value меньше заданного уровня стат значимости, поэтому различия в выборках имеют значимый характер. Разница в средних заказах на пользователя присутствует.\n",
        "\n",
        "Относительный прирост заказов в группе В по отношению к А составляет 14,4%."
      ]
    },
    {
      "cell_type": "markdown",
      "metadata": {
        "id": "MFIpTja3wm3m"
      },
      "source": [
        "### Стат значимость различий в среднем чеке заказа между группами по «сырым» данным"
      ]
    },
    {
      "cell_type": "markdown",
      "metadata": {
        "id": "jOySqBzawm3n"
      },
      "source": [
        "`H0:` средняя сумма чека заказа группам по \"сырым\" данным не различается\n",
        "\n",
        "`H1:` средняя сумма чека заказа группам по \"сырым\" данным различается"
      ]
    },
    {
      "cell_type": "code",
      "execution_count": null,
      "metadata": {
        "id": "FghznrL6wm3n",
        "outputId": "6e3c1ad1-0afc-4bc1-8e80-779c0088d299"
      },
      "outputs": [
        {
          "name": "stdout",
          "output_type": "stream",
          "text": [
            "Нет оснований отвергнуть нулевую гипотезу, pvalue1=0.729\n",
            "Относительный прирост группы В к группе А => уровня значимости, pvalue2=0.259\n"
          ]
        }
      ],
      "source": [
        "sampleA = orders[orders['group'] == 'A']['revenue']\n",
        "sampleB = orders[orders['group'] == 'B']['revenue']\n",
        "\n",
        "pvalue1 = float(\"{0:.3f}\".format(stats.mannwhitneyu(sampleA, sampleB)[1]))\n",
        "pvalue2 = float(\"{0:.3f}\".format(sampleB.mean() / sampleA.mean() - 1))\n",
        "\n",
        "if pvalue1 < alpha:\n",
        "    print('Отвергаем нулевую гипотезу, pvalue1={}'.format(pvalue1))\n",
        "else:\n",
        "    print('Нет оснований отвергнуть нулевую гипотезу, pvalue1={}'.format(pvalue1))\n",
        "\n",
        "if pvalue2 < alpha:\n",
        "    print('Относительный прирост группы В к группе А < уровня значимости, pvalue2={}'.format(pvalue2))\n",
        "else:\n",
        "    print('Относительный прирост группы В к группе А => уровня значимости, pvalue2={}'.format(pvalue2))"
      ]
    },
    {
      "cell_type": "markdown",
      "metadata": {
        "id": "3_sRqygJwm3n"
      },
      "source": [
        "**Вывод**\n",
        "\n",
        "Нулевую гипотезу о том, что разница в среднем чеке по группам не отличается, не отвергаем.\n",
        "\n",
        "Прирост среднего чека группы В составляет 25,9%."
      ]
    },
    {
      "cell_type": "markdown",
      "metadata": {
        "id": "zwJNAk6Bwm3o"
      },
      "source": [
        "### Стат значимость различий в среднем количестве заказов на посетителя между группами по «очищенным» данным"
      ]
    },
    {
      "cell_type": "markdown",
      "metadata": {
        "id": "PwFPLIQ-wm3p"
      },
      "source": [
        "`H0:` среднее количество заказов на посетителя по \"очищенным\" данным не различается\n",
        "\n",
        "`H1:` среднее количество заказов на посетителя по \"очищенным\" данным различается"
      ]
    },
    {
      "cell_type": "code",
      "execution_count": null,
      "metadata": {
        "id": "F34VIcqMwm3p",
        "outputId": "61fafd9c-03d6-421f-cb57-6e4c0ac29109"
      },
      "outputs": [
        {
          "name": "stdout",
          "output_type": "stream",
          "text": [
            "1099    148427295\n",
            "18      199603092\n",
            "23      237748145\n",
            "684     358944393\n",
            "648     382846391\n",
            "dtype: int64\n",
            "В данных 34 аномальных user_id\n"
          ]
        }
      ],
      "source": [
        "usersWithManyOrders = pd.concat(\n",
        "    [\n",
        "        ordersByUsersA[ordersByUsersA['orders'] > 3]['user_id'],\n",
        "        ordersByUsersB[ordersByUsersB['orders'] > 3]['user_id'],\n",
        "    ],\n",
        "    axis=0,\n",
        ")\n",
        "usersWithExpensiveOrders = orders[orders['revenue'] > 40000]['visitor_id']\n",
        "abnormalUsers = (\n",
        "    pd.concat([usersWithManyOrders, usersWithExpensiveOrders], axis=0)\n",
        "    .drop_duplicates()\n",
        "    .sort_values()\n",
        ")\n",
        "print(abnormalUsers.head(5))\n",
        "print(f'В данных {abnormalUsers.shape[0]} аномальных user_id')"
      ]
    },
    {
      "cell_type": "code",
      "execution_count": null,
      "metadata": {
        "id": "Gn47c5Gzwm3q",
        "outputId": "a643e5d6-768a-40a1-d5ed-44054d444b51"
      },
      "outputs": [
        {
          "name": "stdout",
          "output_type": "stream",
          "text": [
            "Отвергаем нулевую гипотезу, pvalue1=0.009\n",
            "Относительный прирост группы В к группе А => уровня значимости, pvalue2=0.164\n"
          ]
        }
      ],
      "source": [
        "# Посчитаем статистическую значимость различий в среднем количестве заказов между группами теста по очищенным данным\n",
        "\n",
        "sampleAFiltered = pd.concat(\n",
        "    [ordersByUsersA[\n",
        "            np.logical_not(ordersByUsersA['user_id'].isin(abnormalUsers))\n",
        "        ]['orders'],\n",
        "        pd.Series(\n",
        "            0,\n",
        "            index=np.arange(\n",
        "                cumulativeData[cumulativeData['group'] == 'A']['visitors'].max() - len(ordersByUsersA['orders'])\n",
        "            ), name='orders',\n",
        "        ),\n",
        "    ], axis=0,\n",
        ")\n",
        "\n",
        "sampleBFiltered = pd.concat(\n",
        "    [ordersByUsersB[\n",
        "            np.logical_not(ordersByUsersB['user_id'].isin(abnormalUsers))\n",
        "        ]['orders'],\n",
        "        pd.Series(\n",
        "            0,\n",
        "            index=np.arange(\n",
        "                cumulativeData[cumulativeData['group'] == 'B']['visitors'].max() - len(ordersByUsersB['orders'])\n",
        "            ), name='orders',\n",
        "        ),\n",
        "    ], axis=0,\n",
        ")\n",
        "\n",
        "pvalue1 = float(\"{0:.3f}\".format(stats.mannwhitneyu(sampleAFiltered, sampleBFiltered)[1]))\n",
        "pvalue2 = float(\"{0:.3f}\".format(sampleBFiltered.mean() / sampleAFiltered.mean() - 1))\n",
        "\n",
        "if pvalue1 < alpha:\n",
        "    print('Отвергаем нулевую гипотезу, pvalue1={}'.format(pvalue1))\n",
        "else:\n",
        "    print('Нет оснований отвергнуть нулевую гипотезу, pvalue1={}'.format(pvalue1))\n",
        "\n",
        "if pvalue2 < alpha:\n",
        "    print('Относительный прирост группы В к группе А < уровня значимости, pvalue2={}'.format(pvalue2))\n",
        "else:\n",
        "    print('Относительный прирост группы В к группе А => уровня значимости, pvalue2={}'.format(pvalue2))"
      ]
    },
    {
      "cell_type": "markdown",
      "metadata": {
        "id": "Ent5UY-fwm3q"
      },
      "source": [
        "**Вывод**\n",
        "\n",
        "Отвергаем нулевую гипотезу, данные статистически значимы, результат особо не изменился после очищения данных.\n",
        "\n",
        "Относительный прирост В по отношению к А увеличился примерно на 3% до 16,4%."
      ]
    },
    {
      "cell_type": "markdown",
      "metadata": {
        "id": "Uwgep4xhwm3r"
      },
      "source": [
        "### Стат значимость различий в среднем чеке заказа между группами по «очищенным» данным"
      ]
    },
    {
      "cell_type": "markdown",
      "metadata": {
        "id": "oEqKP59Vwm3s"
      },
      "source": [
        "`H0:` средняя сумма чека заказа группам по \"очищенным\" данным не различается\n",
        "\n",
        "`H1:` средняя сумма чека заказа группам по \"очищенным\" данным различается"
      ]
    },
    {
      "cell_type": "code",
      "execution_count": null,
      "metadata": {
        "id": "fp70I37lwm3s",
        "outputId": "2d778c21-d0d8-4094-d5ca-de7f05d3dc7e"
      },
      "outputs": [
        {
          "name": "stdout",
          "output_type": "stream",
          "text": [
            "Нет оснований отвергнуть нулевую гипотезу, pvalue1=0.711\n",
            "Относительный прирост группы В к группе А => уровня значимости, pvalue2=0.06\n"
          ]
        }
      ],
      "source": [
        "sampleAFiltered = orders[np.logical_not(orders['visitor_id'].isin(abnormalUsers)) & (orders['group'] == 'A')]['revenue']\n",
        "\n",
        "sampleBFiltered = orders[np.logical_not(orders['visitor_id'].isin(abnormalUsers)) & (orders['group'] == 'B')]['revenue']\n",
        "\n",
        "pvalue1 = float(\"{0:.3f}\".format(stats.mannwhitneyu(sampleAFiltered, sampleBFiltered)[1]))\n",
        "pvalue2 = float(\"{0:.3f}\".format(sampleBFiltered.mean() / sampleAFiltered.mean() - 1))\n",
        "\n",
        "if pvalue1 < alpha:\n",
        "    print('Отвергаем нулевую гипотезу, pvalue1={}'.format(pvalue1))\n",
        "else:\n",
        "    print('Нет оснований отвергнуть нулевую гипотезу, pvalue1={}'.format(pvalue1))\n",
        "\n",
        "if pvalue2 < alpha:\n",
        "    print('Относительный прирост группы В к группе А < уровня значимости, pvalue2={}'.format(pvalue2))\n",
        "else:\n",
        "    print('Относительный прирост группы В к группе А => уровня значимости, pvalue2={}'.format(pvalue2))"
      ]
    },
    {
      "cell_type": "markdown",
      "metadata": {
        "id": "LAOcD_tVwm3t"
      },
      "source": [
        "**Вывод**\n",
        "\n",
        "Различий в значимости среднего чека заказа по \"сырым\" и \"очищенным\" данным почти нет, p_value составляет чуть больше 70%.\n",
        "\n",
        "Относительный прирост группы В уменьшился до 6%."
      ]
    },
    {
      "cell_type": "markdown",
      "metadata": {
        "id": "PGJbsHBjwm3t"
      },
      "source": [
        "# Общий вывод"
      ]
    },
    {
      "cell_type": "markdown",
      "metadata": {
        "id": "zvaOz_T4wm3u"
      },
      "source": [
        "Задачей проекта было определение приоритетной гипотезы и анализ результатов А/В теста."
      ]
    },
    {
      "cell_type": "markdown",
      "metadata": {
        "id": "ddJhRHnDwm3u"
      },
      "source": [
        "**Этапы проекта:**\n",
        "\n",
        "1. Изучение датафрейма\n",
        " - Выгрузка\n",
        " - Просмотр общей информации\n",
        "\n",
        "\n",
        "2. Предобработка данных\n",
        " - Преобразовали типы данных в столбце\n",
        " - Изменили название колонок\n",
        " - Проверили уникальные и аномальные значения\n",
        "\n",
        "\n",
        "3. Приоритизация гипотез\n",
        "\n",
        "\n",
        "4. Анализ А/В теста\n",
        "\n",
        "\n",
        "5. Общий вывод"
      ]
    },
    {
      "cell_type": "markdown",
      "metadata": {
        "id": "1xP4hddhwm3u"
      },
      "source": [
        "**В результате анализа А/В теста были сделаны следующие выводы:**\n",
        "\n",
        "- Выручка увеличивается на протяжении всего теста, у группы В больше на конец\n",
        "- Средний чек сильно меняется, группа В больше\n",
        "- Количество заказов сильно меняются в первую неделю, а затем стабилизируются и имеют похожую динамику. Группа В больше А\n",
        "- В данных есть аномальные заказы среди которых 8, 9 и 11 заказов за месяц\n",
        "- Присутствуют сильные выбросы и по цене заказа, но 97,5% всех заказов доходят максимум до 39 500"
      ]
    },
    {
      "cell_type": "markdown",
      "metadata": {
        "id": "MJZ6lmOawm3v"
      },
      "source": [
        "**Итоги теста**\n",
        "\n",
        "Стат значимость среднего чека \"сырых\" и \"очищенных\" данных `уменьшилась с 72.9% до 71.1%`\n",
        "\n",
        "Относительный прирост среднего чека группы В к группе А `уменьшился с 26% до 6%`\n",
        "\n",
        "\n",
        "Стат значимость среднего количество заказов \"сырых\" и \"очищенных\" `данных уменьшилась с 1.7% до 0.9%`\n",
        "\n",
        "Относительный прирост среднего числа заказов группы В к группе А `увеличился с 13.8% до 16.4%`"
      ]
    },
    {
      "cell_type": "markdown",
      "metadata": {
        "id": "8J0GwZXLwm3v"
      },
      "source": [
        "Выручка группы В увеличивается больше, чем группы А благодаря росту среднего количества заказов, но средний чек остался примерно одинаковым."
      ]
    },
    {
      "cell_type": "markdown",
      "metadata": {
        "id": "tWBWGHsqwm3v"
      },
      "source": [
        "**Тест нужно остановить и признать успешным**"
      ]
    }
  ],
  "metadata": {
    "ExecuteTimeLog": [
      {
        "duration": 755,
        "start_time": "2023-11-28T15:44:44.188Z"
      },
      {
        "duration": 204,
        "start_time": "2023-11-28T15:49:56.175Z"
      },
      {
        "duration": 22,
        "start_time": "2023-11-28T15:50:45.930Z"
      },
      {
        "duration": 20,
        "start_time": "2023-11-28T15:50:54.332Z"
      },
      {
        "duration": 64,
        "start_time": "2023-11-30T09:17:10.925Z"
      },
      {
        "duration": 889,
        "start_time": "2023-11-30T09:17:18.573Z"
      },
      {
        "duration": 210,
        "start_time": "2023-11-30T09:17:19.464Z"
      },
      {
        "duration": 25,
        "start_time": "2023-11-30T09:17:19.676Z"
      },
      {
        "duration": 7,
        "start_time": "2023-11-30T09:17:19.704Z"
      },
      {
        "duration": 8,
        "start_time": "2023-11-30T09:17:35.581Z"
      },
      {
        "duration": 12,
        "start_time": "2023-11-30T09:19:20.931Z"
      },
      {
        "duration": 5,
        "start_time": "2023-11-30T09:19:56.960Z"
      },
      {
        "duration": 4,
        "start_time": "2023-11-30T09:23:03.307Z"
      },
      {
        "duration": 8,
        "start_time": "2023-11-30T09:29:24.368Z"
      },
      {
        "duration": 9,
        "start_time": "2023-11-30T09:35:17.688Z"
      },
      {
        "duration": 18,
        "start_time": "2023-11-30T09:39:29.367Z"
      },
      {
        "duration": 904,
        "start_time": "2023-11-30T09:49:19.663Z"
      },
      {
        "duration": 93,
        "start_time": "2023-11-30T09:49:20.569Z"
      },
      {
        "duration": 26,
        "start_time": "2023-11-30T09:49:20.663Z"
      },
      {
        "duration": 15,
        "start_time": "2023-11-30T09:49:20.692Z"
      },
      {
        "duration": 13,
        "start_time": "2023-11-30T09:49:20.708Z"
      },
      {
        "duration": 29,
        "start_time": "2023-11-30T09:49:20.723Z"
      },
      {
        "duration": 32,
        "start_time": "2023-11-30T09:49:20.753Z"
      },
      {
        "duration": 12,
        "start_time": "2023-11-30T09:49:20.787Z"
      },
      {
        "duration": 48,
        "start_time": "2023-11-30T09:49:20.801Z"
      },
      {
        "duration": 74,
        "start_time": "2023-11-30T09:49:55.178Z"
      },
      {
        "duration": 632,
        "start_time": "2023-11-30T09:51:39.180Z"
      },
      {
        "duration": 90,
        "start_time": "2023-11-30T09:51:39.813Z"
      },
      {
        "duration": 24,
        "start_time": "2023-11-30T09:51:39.905Z"
      },
      {
        "duration": 41,
        "start_time": "2023-11-30T09:51:39.931Z"
      },
      {
        "duration": 84,
        "start_time": "2023-11-30T09:51:39.974Z"
      },
      {
        "duration": 0,
        "start_time": "2023-11-30T09:51:40.060Z"
      },
      {
        "duration": 0,
        "start_time": "2023-11-30T09:51:40.061Z"
      },
      {
        "duration": 0,
        "start_time": "2023-11-30T09:51:40.063Z"
      },
      {
        "duration": 0,
        "start_time": "2023-11-30T09:51:40.064Z"
      },
      {
        "duration": 8,
        "start_time": "2023-11-30T09:51:50.397Z"
      },
      {
        "duration": 10,
        "start_time": "2023-11-30T09:52:18.087Z"
      },
      {
        "duration": 609,
        "start_time": "2023-11-30T09:52:48.614Z"
      },
      {
        "duration": 90,
        "start_time": "2023-11-30T09:52:49.226Z"
      },
      {
        "duration": 23,
        "start_time": "2023-11-30T09:52:49.317Z"
      },
      {
        "duration": 27,
        "start_time": "2023-11-30T09:52:49.341Z"
      },
      {
        "duration": 25,
        "start_time": "2023-11-30T09:52:49.369Z"
      },
      {
        "duration": 29,
        "start_time": "2023-11-30T09:52:49.395Z"
      },
      {
        "duration": 34,
        "start_time": "2023-11-30T09:52:49.426Z"
      },
      {
        "duration": 24,
        "start_time": "2023-11-30T09:52:49.462Z"
      },
      {
        "duration": 48,
        "start_time": "2023-11-30T09:52:49.487Z"
      },
      {
        "duration": 13,
        "start_time": "2023-11-30T11:10:20.935Z"
      },
      {
        "duration": 5,
        "start_time": "2023-11-30T11:26:42.622Z"
      },
      {
        "duration": 7,
        "start_time": "2023-11-30T11:26:47.296Z"
      },
      {
        "duration": 75,
        "start_time": "2023-11-30T11:32:34.277Z"
      },
      {
        "duration": 12,
        "start_time": "2023-11-30T11:32:42.524Z"
      },
      {
        "duration": 11,
        "start_time": "2023-11-30T11:33:01.063Z"
      },
      {
        "duration": 792,
        "start_time": "2023-12-03T09:46:48.764Z"
      },
      {
        "duration": 228,
        "start_time": "2023-12-03T09:46:49.558Z"
      },
      {
        "duration": 23,
        "start_time": "2023-12-03T09:46:49.787Z"
      },
      {
        "duration": 10,
        "start_time": "2023-12-03T09:46:49.812Z"
      },
      {
        "duration": 4,
        "start_time": "2023-12-03T09:46:49.823Z"
      },
      {
        "duration": 11,
        "start_time": "2023-12-03T09:46:49.829Z"
      },
      {
        "duration": 11,
        "start_time": "2023-12-03T09:46:49.841Z"
      },
      {
        "duration": 4,
        "start_time": "2023-12-03T09:46:49.873Z"
      },
      {
        "duration": 32,
        "start_time": "2023-12-03T09:46:49.879Z"
      },
      {
        "duration": 9,
        "start_time": "2023-12-03T09:46:49.913Z"
      },
      {
        "duration": 685,
        "start_time": "2023-12-03T10:05:51.973Z"
      },
      {
        "duration": 93,
        "start_time": "2023-12-03T10:05:52.660Z"
      },
      {
        "duration": 22,
        "start_time": "2023-12-03T10:05:52.755Z"
      },
      {
        "duration": 6,
        "start_time": "2023-12-03T10:05:52.779Z"
      },
      {
        "duration": 4,
        "start_time": "2023-12-03T10:05:52.786Z"
      },
      {
        "duration": 19,
        "start_time": "2023-12-03T10:05:52.792Z"
      },
      {
        "duration": 17,
        "start_time": "2023-12-03T10:05:52.813Z"
      },
      {
        "duration": 5,
        "start_time": "2023-12-03T10:05:52.831Z"
      },
      {
        "duration": 14,
        "start_time": "2023-12-03T10:05:52.838Z"
      },
      {
        "duration": 10,
        "start_time": "2023-12-03T10:05:52.874Z"
      },
      {
        "duration": 7,
        "start_time": "2023-12-03T10:06:30.092Z"
      },
      {
        "duration": 5,
        "start_time": "2023-12-03T10:06:38.866Z"
      },
      {
        "duration": 6,
        "start_time": "2023-12-03T10:06:43.118Z"
      },
      {
        "duration": 5,
        "start_time": "2023-12-03T10:06:48.613Z"
      },
      {
        "duration": 6,
        "start_time": "2023-12-03T10:09:31.980Z"
      },
      {
        "duration": 10,
        "start_time": "2023-12-03T10:09:43.030Z"
      },
      {
        "duration": 71,
        "start_time": "2023-12-03T10:11:28.667Z"
      },
      {
        "duration": 7,
        "start_time": "2023-12-03T10:11:38.980Z"
      },
      {
        "duration": 7,
        "start_time": "2023-12-03T10:12:35.086Z"
      },
      {
        "duration": 14,
        "start_time": "2023-12-03T10:13:28.464Z"
      },
      {
        "duration": 11,
        "start_time": "2023-12-03T10:14:06.175Z"
      },
      {
        "duration": 8,
        "start_time": "2023-12-03T10:14:21.162Z"
      },
      {
        "duration": 9,
        "start_time": "2023-12-03T10:14:51.161Z"
      },
      {
        "duration": 10,
        "start_time": "2023-12-03T10:17:09.821Z"
      },
      {
        "duration": 10,
        "start_time": "2023-12-03T10:18:50.530Z"
      },
      {
        "duration": 6,
        "start_time": "2023-12-03T10:26:32.926Z"
      },
      {
        "duration": 5,
        "start_time": "2023-12-03T10:27:41.003Z"
      },
      {
        "duration": 35,
        "start_time": "2023-12-03T11:08:01.090Z"
      },
      {
        "duration": 328,
        "start_time": "2023-12-03T11:08:57.957Z"
      },
      {
        "duration": 638,
        "start_time": "2023-12-03T11:09:07.360Z"
      },
      {
        "duration": 93,
        "start_time": "2023-12-03T11:09:08.000Z"
      },
      {
        "duration": 24,
        "start_time": "2023-12-03T11:09:08.095Z"
      },
      {
        "duration": 5,
        "start_time": "2023-12-03T11:09:08.121Z"
      },
      {
        "duration": 14,
        "start_time": "2023-12-03T11:09:08.127Z"
      },
      {
        "duration": 25,
        "start_time": "2023-12-03T11:09:08.142Z"
      },
      {
        "duration": 14,
        "start_time": "2023-12-03T11:09:08.168Z"
      },
      {
        "duration": 3,
        "start_time": "2023-12-03T11:09:08.183Z"
      },
      {
        "duration": 10,
        "start_time": "2023-12-03T11:09:08.188Z"
      },
      {
        "duration": 10,
        "start_time": "2023-12-03T11:09:08.200Z"
      },
      {
        "duration": 13,
        "start_time": "2023-12-03T11:09:08.211Z"
      },
      {
        "duration": 10,
        "start_time": "2023-12-03T11:09:08.226Z"
      },
      {
        "duration": 42,
        "start_time": "2023-12-03T11:09:08.237Z"
      },
      {
        "duration": 13,
        "start_time": "2023-12-03T11:09:08.280Z"
      },
      {
        "duration": 4,
        "start_time": "2023-12-03T11:09:08.295Z"
      },
      {
        "duration": 96,
        "start_time": "2023-12-03T11:09:08.300Z"
      },
      {
        "duration": 500,
        "start_time": "2023-12-03T11:09:30.236Z"
      },
      {
        "duration": 462,
        "start_time": "2023-12-03T11:12:36.473Z"
      },
      {
        "duration": 459,
        "start_time": "2023-12-03T11:13:35.101Z"
      },
      {
        "duration": 710,
        "start_time": "2023-12-03T11:14:21.479Z"
      },
      {
        "duration": 95,
        "start_time": "2023-12-03T11:14:22.191Z"
      },
      {
        "duration": 23,
        "start_time": "2023-12-03T11:14:22.288Z"
      },
      {
        "duration": 5,
        "start_time": "2023-12-03T11:14:22.314Z"
      },
      {
        "duration": 8,
        "start_time": "2023-12-03T11:14:22.321Z"
      },
      {
        "duration": 8,
        "start_time": "2023-12-03T11:14:22.331Z"
      },
      {
        "duration": 42,
        "start_time": "2023-12-03T11:14:22.341Z"
      },
      {
        "duration": 4,
        "start_time": "2023-12-03T11:14:22.385Z"
      },
      {
        "duration": 21,
        "start_time": "2023-12-03T11:14:22.390Z"
      },
      {
        "duration": 16,
        "start_time": "2023-12-03T11:14:22.413Z"
      },
      {
        "duration": 23,
        "start_time": "2023-12-03T11:14:22.430Z"
      },
      {
        "duration": 21,
        "start_time": "2023-12-03T11:14:22.455Z"
      },
      {
        "duration": 25,
        "start_time": "2023-12-03T11:14:22.478Z"
      },
      {
        "duration": 37,
        "start_time": "2023-12-03T11:14:22.504Z"
      },
      {
        "duration": 21,
        "start_time": "2023-12-03T11:14:22.543Z"
      },
      {
        "duration": 273,
        "start_time": "2023-12-03T11:14:22.566Z"
      },
      {
        "duration": 1246,
        "start_time": "2023-12-03T11:17:38.304Z"
      },
      {
        "duration": 250,
        "start_time": "2023-12-03T11:17:57.784Z"
      },
      {
        "duration": 194,
        "start_time": "2023-12-03T11:18:37.751Z"
      },
      {
        "duration": 194,
        "start_time": "2023-12-03T11:18:44.606Z"
      },
      {
        "duration": 262,
        "start_time": "2023-12-03T11:20:19.141Z"
      },
      {
        "duration": 193,
        "start_time": "2023-12-03T11:42:33.332Z"
      },
      {
        "duration": 208,
        "start_time": "2023-12-03T11:42:42.177Z"
      },
      {
        "duration": 209,
        "start_time": "2023-12-03T11:53:00.195Z"
      },
      {
        "duration": 312,
        "start_time": "2023-12-03T11:54:05.337Z"
      },
      {
        "duration": 278,
        "start_time": "2023-12-03T11:54:20.111Z"
      },
      {
        "duration": 329,
        "start_time": "2023-12-03T11:54:47.844Z"
      },
      {
        "duration": 263,
        "start_time": "2023-12-03T12:10:21.666Z"
      },
      {
        "duration": 837,
        "start_time": "2023-12-03T13:28:06.435Z"
      },
      {
        "duration": 227,
        "start_time": "2023-12-03T13:28:07.274Z"
      },
      {
        "duration": 26,
        "start_time": "2023-12-03T13:28:07.503Z"
      },
      {
        "duration": 6,
        "start_time": "2023-12-03T13:28:07.531Z"
      },
      {
        "duration": 10,
        "start_time": "2023-12-03T13:28:07.539Z"
      },
      {
        "duration": 21,
        "start_time": "2023-12-03T13:28:07.551Z"
      },
      {
        "duration": 13,
        "start_time": "2023-12-03T13:28:07.574Z"
      },
      {
        "duration": 4,
        "start_time": "2023-12-03T13:28:07.589Z"
      },
      {
        "duration": 16,
        "start_time": "2023-12-03T13:28:07.595Z"
      },
      {
        "duration": 10,
        "start_time": "2023-12-03T13:28:07.614Z"
      },
      {
        "duration": 40,
        "start_time": "2023-12-03T13:28:07.626Z"
      },
      {
        "duration": 11,
        "start_time": "2023-12-03T13:28:07.669Z"
      },
      {
        "duration": 11,
        "start_time": "2023-12-03T13:28:07.682Z"
      },
      {
        "duration": 11,
        "start_time": "2023-12-03T13:28:07.694Z"
      },
      {
        "duration": 17,
        "start_time": "2023-12-03T13:28:07.706Z"
      },
      {
        "duration": 301,
        "start_time": "2023-12-03T13:28:07.725Z"
      },
      {
        "duration": 303,
        "start_time": "2023-12-03T13:28:08.028Z"
      },
      {
        "duration": 221,
        "start_time": "2023-12-03T13:28:08.333Z"
      },
      {
        "duration": 366,
        "start_time": "2023-12-03T13:28:08.555Z"
      },
      {
        "duration": 315,
        "start_time": "2023-12-03T13:28:08.923Z"
      },
      {
        "duration": 166,
        "start_time": "2023-12-03T13:37:49.407Z"
      },
      {
        "duration": 158,
        "start_time": "2023-12-03T13:37:56.547Z"
      },
      {
        "duration": 568,
        "start_time": "2023-12-03T13:38:01.708Z"
      },
      {
        "duration": 92,
        "start_time": "2023-12-03T13:38:02.278Z"
      },
      {
        "duration": 22,
        "start_time": "2023-12-03T13:38:02.371Z"
      },
      {
        "duration": 59,
        "start_time": "2023-12-03T13:38:02.394Z"
      },
      {
        "duration": 32,
        "start_time": "2023-12-03T13:38:02.455Z"
      },
      {
        "duration": 42,
        "start_time": "2023-12-03T13:38:02.489Z"
      },
      {
        "duration": 41,
        "start_time": "2023-12-03T13:38:02.532Z"
      },
      {
        "duration": 30,
        "start_time": "2023-12-03T13:38:02.574Z"
      },
      {
        "duration": 44,
        "start_time": "2023-12-03T13:38:02.606Z"
      },
      {
        "duration": 21,
        "start_time": "2023-12-03T13:38:02.651Z"
      },
      {
        "duration": 28,
        "start_time": "2023-12-03T13:38:02.673Z"
      },
      {
        "duration": 29,
        "start_time": "2023-12-03T13:38:02.702Z"
      },
      {
        "duration": 23,
        "start_time": "2023-12-03T13:38:02.732Z"
      },
      {
        "duration": 51,
        "start_time": "2023-12-03T13:38:02.757Z"
      },
      {
        "duration": 17,
        "start_time": "2023-12-03T13:38:02.810Z"
      },
      {
        "duration": 278,
        "start_time": "2023-12-03T13:38:02.829Z"
      },
      {
        "duration": 316,
        "start_time": "2023-12-03T13:38:03.108Z"
      },
      {
        "duration": 216,
        "start_time": "2023-12-03T13:38:03.426Z"
      },
      {
        "duration": 344,
        "start_time": "2023-12-03T13:38:03.643Z"
      },
      {
        "duration": 264,
        "start_time": "2023-12-03T13:38:03.988Z"
      },
      {
        "duration": 153,
        "start_time": "2023-12-03T13:38:04.253Z"
      },
      {
        "duration": 222,
        "start_time": "2023-12-03T13:38:29.816Z"
      },
      {
        "duration": 655,
        "start_time": "2023-12-03T13:40:15.564Z"
      },
      {
        "duration": 93,
        "start_time": "2023-12-03T13:40:16.220Z"
      },
      {
        "duration": 22,
        "start_time": "2023-12-03T13:40:16.315Z"
      },
      {
        "duration": 5,
        "start_time": "2023-12-03T13:40:16.339Z"
      },
      {
        "duration": 32,
        "start_time": "2023-12-03T13:40:16.345Z"
      },
      {
        "duration": 32,
        "start_time": "2023-12-03T13:40:16.378Z"
      },
      {
        "duration": 46,
        "start_time": "2023-12-03T13:40:16.412Z"
      },
      {
        "duration": 32,
        "start_time": "2023-12-03T13:40:16.459Z"
      },
      {
        "duration": 31,
        "start_time": "2023-12-03T13:40:16.492Z"
      },
      {
        "duration": 37,
        "start_time": "2023-12-03T13:40:16.525Z"
      },
      {
        "duration": 22,
        "start_time": "2023-12-03T13:40:16.563Z"
      },
      {
        "duration": 34,
        "start_time": "2023-12-03T13:40:16.587Z"
      },
      {
        "duration": 11,
        "start_time": "2023-12-03T13:40:16.622Z"
      },
      {
        "duration": 25,
        "start_time": "2023-12-03T13:40:16.635Z"
      },
      {
        "duration": 27,
        "start_time": "2023-12-03T13:40:16.661Z"
      },
      {
        "duration": 285,
        "start_time": "2023-12-03T13:40:16.689Z"
      },
      {
        "duration": 300,
        "start_time": "2023-12-03T13:40:16.976Z"
      },
      {
        "duration": 215,
        "start_time": "2023-12-03T13:40:17.277Z"
      },
      {
        "duration": 313,
        "start_time": "2023-12-03T13:40:17.493Z"
      },
      {
        "duration": 277,
        "start_time": "2023-12-03T13:40:17.808Z"
      },
      {
        "duration": 243,
        "start_time": "2023-12-03T13:40:18.086Z"
      },
      {
        "duration": 158,
        "start_time": "2023-12-03T13:40:32.217Z"
      },
      {
        "duration": 1146,
        "start_time": "2023-12-03T13:40:51.414Z"
      },
      {
        "duration": 1271,
        "start_time": "2023-12-03T13:41:24.166Z"
      },
      {
        "duration": 166,
        "start_time": "2023-12-03T13:41:45.284Z"
      },
      {
        "duration": 200,
        "start_time": "2023-12-03T13:43:13.274Z"
      },
      {
        "duration": 181,
        "start_time": "2023-12-03T13:44:42.547Z"
      },
      {
        "duration": 324,
        "start_time": "2023-12-03T13:45:35.557Z"
      },
      {
        "duration": 298,
        "start_time": "2023-12-03T13:48:33.884Z"
      },
      {
        "duration": 88,
        "start_time": "2023-12-03T13:53:00.959Z"
      },
      {
        "duration": 12,
        "start_time": "2023-12-03T13:53:06.924Z"
      },
      {
        "duration": 11,
        "start_time": "2023-12-03T13:53:17.284Z"
      },
      {
        "duration": 1146,
        "start_time": "2023-12-03T13:57:41.559Z"
      },
      {
        "duration": 1204,
        "start_time": "2023-12-03T13:58:10.429Z"
      },
      {
        "duration": 161,
        "start_time": "2023-12-03T13:58:30.150Z"
      },
      {
        "duration": 244,
        "start_time": "2023-12-03T14:00:07.013Z"
      },
      {
        "duration": 181,
        "start_time": "2023-12-03T14:00:18.089Z"
      },
      {
        "duration": 8,
        "start_time": "2023-12-03T14:05:10.354Z"
      },
      {
        "duration": 183,
        "start_time": "2023-12-03T14:05:14.202Z"
      },
      {
        "duration": 5,
        "start_time": "2023-12-03T14:05:17.069Z"
      },
      {
        "duration": 167,
        "start_time": "2023-12-03T14:16:05.017Z"
      },
      {
        "duration": 5,
        "start_time": "2023-12-03T14:20:14.437Z"
      },
      {
        "duration": 4,
        "start_time": "2023-12-03T14:20:53.000Z"
      },
      {
        "duration": 4,
        "start_time": "2023-12-03T14:21:32.417Z"
      },
      {
        "duration": 140,
        "start_time": "2023-12-03T14:37:57.087Z"
      },
      {
        "duration": 128,
        "start_time": "2023-12-03T14:39:42.252Z"
      },
      {
        "duration": 9,
        "start_time": "2023-12-03T14:39:45.473Z"
      },
      {
        "duration": 619,
        "start_time": "2023-12-03T14:40:22.228Z"
      },
      {
        "duration": 93,
        "start_time": "2023-12-03T14:40:22.849Z"
      },
      {
        "duration": 22,
        "start_time": "2023-12-03T14:40:22.943Z"
      },
      {
        "duration": 25,
        "start_time": "2023-12-03T14:40:22.966Z"
      },
      {
        "duration": 10,
        "start_time": "2023-12-03T14:40:22.993Z"
      },
      {
        "duration": 30,
        "start_time": "2023-12-03T14:40:23.004Z"
      },
      {
        "duration": 27,
        "start_time": "2023-12-03T14:40:23.035Z"
      },
      {
        "duration": 9,
        "start_time": "2023-12-03T14:40:23.063Z"
      },
      {
        "duration": 14,
        "start_time": "2023-12-03T14:40:23.073Z"
      },
      {
        "duration": 9,
        "start_time": "2023-12-03T14:40:23.090Z"
      },
      {
        "duration": 10,
        "start_time": "2023-12-03T14:40:23.100Z"
      },
      {
        "duration": 12,
        "start_time": "2023-12-03T14:40:23.111Z"
      },
      {
        "duration": 10,
        "start_time": "2023-12-03T14:40:23.124Z"
      },
      {
        "duration": 38,
        "start_time": "2023-12-03T14:40:23.135Z"
      },
      {
        "duration": 12,
        "start_time": "2023-12-03T14:40:23.175Z"
      },
      {
        "duration": 295,
        "start_time": "2023-12-03T14:40:23.189Z"
      },
      {
        "duration": 293,
        "start_time": "2023-12-03T14:40:23.485Z"
      },
      {
        "duration": 215,
        "start_time": "2023-12-03T14:40:23.779Z"
      },
      {
        "duration": 293,
        "start_time": "2023-12-03T14:40:23.996Z"
      },
      {
        "duration": 287,
        "start_time": "2023-12-03T14:40:24.290Z"
      },
      {
        "duration": 317,
        "start_time": "2023-12-03T14:40:24.579Z"
      },
      {
        "duration": 195,
        "start_time": "2023-12-03T14:40:24.898Z"
      },
      {
        "duration": 4,
        "start_time": "2023-12-03T14:40:25.095Z"
      },
      {
        "duration": 179,
        "start_time": "2023-12-03T14:40:25.100Z"
      },
      {
        "duration": 5,
        "start_time": "2023-12-03T14:40:25.280Z"
      },
      {
        "duration": 143,
        "start_time": "2023-12-03T14:40:25.286Z"
      },
      {
        "duration": 75,
        "start_time": "2023-12-03T14:40:25.430Z"
      },
      {
        "duration": 160,
        "start_time": "2023-12-03T14:40:55.914Z"
      },
      {
        "duration": 15,
        "start_time": "2023-12-03T14:41:54.405Z"
      },
      {
        "duration": 13,
        "start_time": "2023-12-03T14:42:20.533Z"
      },
      {
        "duration": 14,
        "start_time": "2023-12-03T14:42:53.939Z"
      },
      {
        "duration": 146,
        "start_time": "2023-12-03T14:43:06.161Z"
      },
      {
        "duration": 1188,
        "start_time": "2023-12-03T14:43:10.419Z"
      },
      {
        "duration": 23,
        "start_time": "2023-12-03T14:45:00.367Z"
      },
      {
        "duration": 395,
        "start_time": "2023-12-03T14:45:30.207Z"
      },
      {
        "duration": 393,
        "start_time": "2023-12-03T14:45:33.790Z"
      },
      {
        "duration": 10,
        "start_time": "2023-12-03T14:54:16.749Z"
      },
      {
        "duration": 8,
        "start_time": "2023-12-03T14:58:49.924Z"
      },
      {
        "duration": 89,
        "start_time": "2023-12-03T15:00:19.225Z"
      },
      {
        "duration": 9,
        "start_time": "2023-12-03T15:00:24.661Z"
      },
      {
        "duration": 35,
        "start_time": "2023-12-03T15:03:18.239Z"
      },
      {
        "duration": 29,
        "start_time": "2023-12-03T15:03:41.394Z"
      },
      {
        "duration": 1183,
        "start_time": "2023-12-03T15:06:59.931Z"
      },
      {
        "duration": 10,
        "start_time": "2023-12-03T15:07:14.822Z"
      },
      {
        "duration": 228,
        "start_time": "2023-12-03T15:42:30.273Z"
      },
      {
        "duration": 305,
        "start_time": "2023-12-03T15:42:38.626Z"
      },
      {
        "duration": 341,
        "start_time": "2023-12-03T15:42:43.251Z"
      },
      {
        "duration": 258,
        "start_time": "2023-12-03T15:42:47.137Z"
      },
      {
        "duration": 329,
        "start_time": "2023-12-03T15:42:51.668Z"
      },
      {
        "duration": 201,
        "start_time": "2023-12-03T15:42:56.142Z"
      },
      {
        "duration": 211,
        "start_time": "2023-12-03T15:43:01.241Z"
      },
      {
        "duration": 192,
        "start_time": "2023-12-03T15:44:46.139Z"
      },
      {
        "duration": 161,
        "start_time": "2023-12-03T15:45:15.006Z"
      },
      {
        "duration": 49,
        "start_time": "2023-12-03T19:25:00.569Z"
      },
      {
        "duration": 1233,
        "start_time": "2023-12-03T19:25:04.870Z"
      },
      {
        "duration": 203,
        "start_time": "2023-12-03T19:25:08.098Z"
      },
      {
        "duration": 1242,
        "start_time": "2023-12-03T19:28:01.002Z"
      },
      {
        "duration": 7,
        "start_time": "2023-12-03T19:28:39.272Z"
      },
      {
        "duration": 5,
        "start_time": "2023-12-03T19:28:55.303Z"
      },
      {
        "duration": 5,
        "start_time": "2023-12-03T19:29:10.483Z"
      },
      {
        "duration": 1025,
        "start_time": "2023-12-03T19:30:13.385Z"
      },
      {
        "duration": 99,
        "start_time": "2023-12-03T19:30:14.412Z"
      },
      {
        "duration": 31,
        "start_time": "2023-12-03T19:30:14.513Z"
      },
      {
        "duration": 13,
        "start_time": "2023-12-03T19:30:14.546Z"
      },
      {
        "duration": 10,
        "start_time": "2023-12-03T19:30:14.561Z"
      },
      {
        "duration": 25,
        "start_time": "2023-12-03T19:30:14.572Z"
      },
      {
        "duration": 12,
        "start_time": "2023-12-03T19:30:14.599Z"
      },
      {
        "duration": 4,
        "start_time": "2023-12-03T19:30:14.613Z"
      },
      {
        "duration": 11,
        "start_time": "2023-12-03T19:30:14.619Z"
      },
      {
        "duration": 26,
        "start_time": "2023-12-03T19:30:14.632Z"
      },
      {
        "duration": 19,
        "start_time": "2023-12-03T19:30:14.659Z"
      },
      {
        "duration": 22,
        "start_time": "2023-12-03T19:30:14.680Z"
      },
      {
        "duration": 20,
        "start_time": "2023-12-03T19:30:14.704Z"
      },
      {
        "duration": 38,
        "start_time": "2023-12-03T19:30:14.726Z"
      },
      {
        "duration": 34,
        "start_time": "2023-12-03T19:30:14.766Z"
      },
      {
        "duration": 4,
        "start_time": "2023-12-03T19:30:14.801Z"
      },
      {
        "duration": 272,
        "start_time": "2023-12-03T19:30:14.807Z"
      },
      {
        "duration": 352,
        "start_time": "2023-12-03T19:30:15.081Z"
      },
      {
        "duration": 226,
        "start_time": "2023-12-03T19:30:15.434Z"
      },
      {
        "duration": 331,
        "start_time": "2023-12-03T19:30:15.661Z"
      },
      {
        "duration": 245,
        "start_time": "2023-12-03T19:30:15.993Z"
      },
      {
        "duration": 405,
        "start_time": "2023-12-03T19:30:16.239Z"
      },
      {
        "duration": 237,
        "start_time": "2023-12-03T19:30:16.646Z"
      },
      {
        "duration": 5,
        "start_time": "2023-12-03T19:30:16.884Z"
      },
      {
        "duration": 169,
        "start_time": "2023-12-03T19:30:16.891Z"
      },
      {
        "duration": 4,
        "start_time": "2023-12-03T19:30:17.061Z"
      },
      {
        "duration": 154,
        "start_time": "2023-12-03T19:30:17.067Z"
      },
      {
        "duration": 408,
        "start_time": "2023-12-03T19:30:17.224Z"
      },
      {
        "duration": 20,
        "start_time": "2023-12-03T19:30:17.633Z"
      },
      {
        "duration": 10,
        "start_time": "2023-12-03T19:30:17.655Z"
      },
      {
        "duration": 33,
        "start_time": "2023-12-03T19:30:17.667Z"
      },
      {
        "duration": 12,
        "start_time": "2023-12-03T19:30:17.702Z"
      },
      {
        "duration": 259,
        "start_time": "2023-12-03T19:35:09.318Z"
      },
      {
        "duration": 221,
        "start_time": "2023-12-03T19:36:25.059Z"
      },
      {
        "duration": 245,
        "start_time": "2023-12-03T19:38:12.394Z"
      },
      {
        "duration": 452,
        "start_time": "2023-12-03T19:49:47.047Z"
      },
      {
        "duration": 400,
        "start_time": "2023-12-03T19:50:24.842Z"
      },
      {
        "duration": 10,
        "start_time": "2023-12-03T19:51:43.569Z"
      },
      {
        "duration": 435,
        "start_time": "2023-12-03T19:52:07.655Z"
      },
      {
        "duration": 428,
        "start_time": "2023-12-03T19:52:24.592Z"
      },
      {
        "duration": 13,
        "start_time": "2023-12-03T19:52:51.978Z"
      },
      {
        "duration": 33,
        "start_time": "2023-12-03T19:53:48.318Z"
      },
      {
        "duration": 11,
        "start_time": "2023-12-03T19:54:21.528Z"
      },
      {
        "duration": 12,
        "start_time": "2023-12-03T19:54:28.132Z"
      },
      {
        "duration": 53,
        "start_time": "2023-12-04T11:00:53.928Z"
      },
      {
        "duration": 1352,
        "start_time": "2023-12-04T11:01:01.686Z"
      },
      {
        "duration": 211,
        "start_time": "2023-12-04T11:01:03.040Z"
      },
      {
        "duration": 61,
        "start_time": "2023-12-04T11:01:03.253Z"
      },
      {
        "duration": 106,
        "start_time": "2023-12-04T11:01:03.316Z"
      },
      {
        "duration": 17,
        "start_time": "2023-12-04T11:01:03.424Z"
      },
      {
        "duration": 22,
        "start_time": "2023-12-04T11:01:03.443Z"
      },
      {
        "duration": 24,
        "start_time": "2023-12-04T11:01:03.467Z"
      },
      {
        "duration": 5,
        "start_time": "2023-12-04T11:01:03.493Z"
      },
      {
        "duration": 24,
        "start_time": "2023-12-04T11:01:03.500Z"
      },
      {
        "duration": 24,
        "start_time": "2023-12-04T11:01:03.525Z"
      },
      {
        "duration": 26,
        "start_time": "2023-12-04T11:01:03.551Z"
      },
      {
        "duration": 52,
        "start_time": "2023-12-04T11:01:03.579Z"
      },
      {
        "duration": 25,
        "start_time": "2023-12-04T11:01:03.633Z"
      },
      {
        "duration": 27,
        "start_time": "2023-12-04T11:01:03.661Z"
      },
      {
        "duration": 40,
        "start_time": "2023-12-04T11:01:03.690Z"
      },
      {
        "duration": 30,
        "start_time": "2023-12-04T11:01:03.731Z"
      },
      {
        "duration": 316,
        "start_time": "2023-12-04T11:01:03.763Z"
      },
      {
        "duration": 342,
        "start_time": "2023-12-04T11:01:04.080Z"
      },
      {
        "duration": 251,
        "start_time": "2023-12-04T11:01:04.424Z"
      },
      {
        "duration": 427,
        "start_time": "2023-12-04T11:01:04.677Z"
      },
      {
        "duration": 279,
        "start_time": "2023-12-04T11:01:05.106Z"
      },
      {
        "duration": 346,
        "start_time": "2023-12-04T11:01:05.387Z"
      },
      {
        "duration": 238,
        "start_time": "2023-12-04T11:01:05.735Z"
      },
      {
        "duration": 4,
        "start_time": "2023-12-04T11:01:05.975Z"
      },
      {
        "duration": 257,
        "start_time": "2023-12-04T11:01:05.981Z"
      },
      {
        "duration": 5,
        "start_time": "2023-12-04T11:01:06.239Z"
      },
      {
        "duration": 161,
        "start_time": "2023-12-04T11:01:06.245Z"
      },
      {
        "duration": 547,
        "start_time": "2023-12-04T11:01:06.407Z"
      },
      {
        "duration": 0,
        "start_time": "2023-12-04T11:01:06.955Z"
      },
      {
        "duration": 0,
        "start_time": "2023-12-04T11:01:06.956Z"
      },
      {
        "duration": 0,
        "start_time": "2023-12-04T11:01:06.958Z"
      },
      {
        "duration": 0,
        "start_time": "2023-12-04T11:01:06.959Z"
      },
      {
        "duration": 1265,
        "start_time": "2024-04-02T16:53:25.497Z"
      },
      {
        "duration": 228,
        "start_time": "2024-04-02T16:53:26.764Z"
      },
      {
        "duration": 23,
        "start_time": "2024-04-02T16:53:26.994Z"
      },
      {
        "duration": 5,
        "start_time": "2024-04-02T16:53:27.019Z"
      },
      {
        "duration": 7,
        "start_time": "2024-04-02T16:53:27.025Z"
      },
      {
        "duration": 10,
        "start_time": "2024-04-02T16:53:27.033Z"
      },
      {
        "duration": 13,
        "start_time": "2024-04-02T16:53:27.045Z"
      },
      {
        "duration": 28,
        "start_time": "2024-04-02T16:53:27.059Z"
      },
      {
        "duration": 11,
        "start_time": "2024-04-02T16:53:27.089Z"
      },
      {
        "duration": 9,
        "start_time": "2024-04-02T16:53:27.102Z"
      },
      {
        "duration": 6,
        "start_time": "2024-04-02T16:53:27.112Z"
      },
      {
        "duration": 9,
        "start_time": "2024-04-02T16:53:27.119Z"
      },
      {
        "duration": 23,
        "start_time": "2024-04-02T16:53:27.129Z"
      },
      {
        "duration": 20,
        "start_time": "2024-04-02T16:53:27.154Z"
      },
      {
        "duration": 9,
        "start_time": "2024-04-02T16:53:27.187Z"
      },
      {
        "duration": 14,
        "start_time": "2024-04-02T16:53:27.198Z"
      },
      {
        "duration": 277,
        "start_time": "2024-04-02T16:53:27.214Z"
      },
      {
        "duration": 325,
        "start_time": "2024-04-02T16:53:27.492Z"
      },
      {
        "duration": 231,
        "start_time": "2024-04-02T16:53:27.819Z"
      },
      {
        "duration": 406,
        "start_time": "2024-04-02T16:53:28.051Z"
      },
      {
        "duration": 245,
        "start_time": "2024-04-02T16:53:28.459Z"
      },
      {
        "duration": 326,
        "start_time": "2024-04-02T16:53:28.705Z"
      },
      {
        "duration": 251,
        "start_time": "2024-04-02T16:53:29.032Z"
      },
      {
        "duration": 5,
        "start_time": "2024-04-02T16:53:29.285Z"
      },
      {
        "duration": 179,
        "start_time": "2024-04-02T16:53:29.291Z"
      },
      {
        "duration": 5,
        "start_time": "2024-04-02T16:53:29.471Z"
      },
      {
        "duration": 163,
        "start_time": "2024-04-02T16:53:29.477Z"
      },
      {
        "duration": 514,
        "start_time": "2024-04-02T16:53:29.643Z"
      },
      {
        "duration": 0,
        "start_time": "2024-04-02T16:53:30.159Z"
      },
      {
        "duration": 0,
        "start_time": "2024-04-02T16:53:30.160Z"
      },
      {
        "duration": 0,
        "start_time": "2024-04-02T16:53:30.161Z"
      },
      {
        "duration": 0,
        "start_time": "2024-04-02T16:53:30.162Z"
      },
      {
        "duration": 408,
        "start_time": "2024-04-02T16:53:46.319Z"
      },
      {
        "duration": 422,
        "start_time": "2024-04-02T16:53:52.941Z"
      },
      {
        "duration": 12,
        "start_time": "2024-04-02T16:54:09.971Z"
      },
      {
        "duration": 16,
        "start_time": "2024-04-02T16:54:19.646Z"
      },
      {
        "duration": 412,
        "start_time": "2024-04-02T16:58:18.146Z"
      },
      {
        "duration": 397,
        "start_time": "2024-04-02T16:58:53.319Z"
      },
      {
        "duration": 12,
        "start_time": "2024-04-02T16:59:51.850Z"
      },
      {
        "duration": 482,
        "start_time": "2024-04-02T17:00:12.514Z"
      },
      {
        "duration": 12,
        "start_time": "2024-04-02T17:00:26.504Z"
      },
      {
        "duration": 11,
        "start_time": "2024-04-02T17:00:39.784Z"
      },
      {
        "duration": 1082,
        "start_time": "2024-04-02T17:00:47.136Z"
      },
      {
        "duration": 93,
        "start_time": "2024-04-02T17:00:48.220Z"
      },
      {
        "duration": 23,
        "start_time": "2024-04-02T17:00:48.314Z"
      },
      {
        "duration": 5,
        "start_time": "2024-04-02T17:00:48.339Z"
      },
      {
        "duration": 15,
        "start_time": "2024-04-02T17:00:48.346Z"
      },
      {
        "duration": 13,
        "start_time": "2024-04-02T17:00:48.362Z"
      },
      {
        "duration": 20,
        "start_time": "2024-04-02T17:00:48.376Z"
      },
      {
        "duration": 16,
        "start_time": "2024-04-02T17:00:48.397Z"
      },
      {
        "duration": 28,
        "start_time": "2024-04-02T17:00:48.415Z"
      },
      {
        "duration": 9,
        "start_time": "2024-04-02T17:00:48.445Z"
      },
      {
        "duration": 5,
        "start_time": "2024-04-02T17:00:48.456Z"
      },
      {
        "duration": 11,
        "start_time": "2024-04-02T17:00:48.462Z"
      },
      {
        "duration": 14,
        "start_time": "2024-04-02T17:00:48.474Z"
      },
      {
        "duration": 16,
        "start_time": "2024-04-02T17:00:48.489Z"
      },
      {
        "duration": 16,
        "start_time": "2024-04-02T17:00:48.507Z"
      },
      {
        "duration": 9,
        "start_time": "2024-04-02T17:00:48.525Z"
      },
      {
        "duration": 283,
        "start_time": "2024-04-02T17:00:48.535Z"
      },
      {
        "duration": 324,
        "start_time": "2024-04-02T17:00:48.819Z"
      },
      {
        "duration": 226,
        "start_time": "2024-04-02T17:00:49.144Z"
      },
      {
        "duration": 340,
        "start_time": "2024-04-02T17:00:49.371Z"
      },
      {
        "duration": 250,
        "start_time": "2024-04-02T17:00:49.713Z"
      },
      {
        "duration": 366,
        "start_time": "2024-04-02T17:00:49.965Z"
      },
      {
        "duration": 208,
        "start_time": "2024-04-02T17:00:50.333Z"
      },
      {
        "duration": 5,
        "start_time": "2024-04-02T17:00:50.542Z"
      },
      {
        "duration": 178,
        "start_time": "2024-04-02T17:00:50.549Z"
      },
      {
        "duration": 6,
        "start_time": "2024-04-02T17:00:50.728Z"
      },
      {
        "duration": 151,
        "start_time": "2024-04-02T17:00:50.735Z"
      },
      {
        "duration": 409,
        "start_time": "2024-04-02T17:00:50.889Z"
      },
      {
        "duration": 10,
        "start_time": "2024-04-02T17:00:51.300Z"
      },
      {
        "duration": 12,
        "start_time": "2024-04-02T17:00:51.311Z"
      },
      {
        "duration": 46,
        "start_time": "2024-04-02T17:00:51.324Z"
      },
      {
        "duration": 19,
        "start_time": "2024-04-02T17:00:51.371Z"
      }
    ],
    "kernelspec": {
      "display_name": "Python 3 (ipykernel)",
      "language": "python",
      "name": "python3"
    },
    "language_info": {
      "codemirror_mode": {
        "name": "ipython",
        "version": 3
      },
      "file_extension": ".py",
      "mimetype": "text/x-python",
      "name": "python",
      "nbconvert_exporter": "python",
      "pygments_lexer": "ipython3",
      "version": "3.9.5"
    },
    "toc": {
      "base_numbering": 1,
      "nav_menu": {},
      "number_sections": true,
      "sideBar": true,
      "skip_h1_title": true,
      "title_cell": "Table of Contents",
      "title_sidebar": "Contents",
      "toc_cell": false,
      "toc_position": {},
      "toc_section_display": true,
      "toc_window_display": false
    },
    "colab": {
      "provenance": []
    }
  },
  "nbformat": 4,
  "nbformat_minor": 0
}