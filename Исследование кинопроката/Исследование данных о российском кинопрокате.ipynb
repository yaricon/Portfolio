{
  "cells": [
    {
      "cell_type": "markdown",
      "metadata": {
        "id": "sIfNaMOxgFyK"
      },
      "source": [
        "# Исследование данных о российском кинопрокате\n",
        "\n"
      ]
    },
    {
      "cell_type": "markdown",
      "metadata": {
        "id": "xFHJZG21m28c"
      },
      "source": [
        "Заказчик исследования - **Министерство культуры Российской Федерации.**\n",
        "\n",
        "Исходные данные взяты с портала открытых данных Министерства культуры, они содержат информацию о прокатных удостоверениях, сборах и государственной поддержке фильмов, а также информацию с сайта КиноПоиск.\n",
        "\n",
        "**Цель исследования**\n",
        "\n",
        "Проанализировать российский рынок проката фильмов, выявить текущие тренды, а также выяснить, насколько сильно интересны фильмы зрителям, получившие госужарственную поддержку.\n",
        "\n",
        "**Ход работы**\n",
        "\n",
        "1. Прочитать, объединить и посмотреть общую информацию о датафреймах\n",
        "2. Предобработать типы данных, пропуски, дубликаты и др.\n",
        "3. Провести исследовательский анализ\n",
        "4. Написать общий вывод"
      ]
    },
    {
      "cell_type": "markdown",
      "metadata": {
        "id": "3bSlkCsbgFyL"
      },
      "source": [
        "### Шаг 1. Загружаем датафрейм"
      ]
    },
    {
      "cell_type": "code",
      "execution_count": null,
      "metadata": {
        "id": "dw87FlzMgFyM"
      },
      "outputs": [],
      "source": [
        "# импортируем необходимые библиотеки\n",
        "\n",
        "import pandas as pd\n",
        "import matplotlib.pyplot as plt\n",
        "import seaborn as sns\n",
        "import numpy as np\n",
        "\n",
        "pd.set_option('display.float_format', '{:,.2f}'.format)"
      ]
    },
    {
      "cell_type": "code",
      "execution_count": null,
      "metadata": {
        "id": "LZ0lD5dHm28e",
        "outputId": "35056928-88b4-4011-d850-ecbf2abdadb1"
      },
      "outputs": [
        {
          "data": {
            "text/html": [
              "<div>\n",
              "<style scoped>\n",
              "    .dataframe tbody tr th:only-of-type {\n",
              "        vertical-align: middle;\n",
              "    }\n",
              "\n",
              "    .dataframe tbody tr th {\n",
              "        vertical-align: top;\n",
              "    }\n",
              "\n",
              "    .dataframe thead th {\n",
              "        text-align: right;\n",
              "    }\n",
              "</style>\n",
              "<table border=\"1\" class=\"dataframe\">\n",
              "  <thead>\n",
              "    <tr style=\"text-align: right;\">\n",
              "      <th></th>\n",
              "      <th>title</th>\n",
              "      <th>puNumber</th>\n",
              "      <th>show_start_date</th>\n",
              "      <th>type</th>\n",
              "      <th>film_studio</th>\n",
              "      <th>production_country</th>\n",
              "      <th>director</th>\n",
              "      <th>producer</th>\n",
              "      <th>age_restriction</th>\n",
              "      <th>refundable_support</th>\n",
              "      <th>nonrefundable_support</th>\n",
              "      <th>budget</th>\n",
              "      <th>financing_source</th>\n",
              "      <th>ratings</th>\n",
              "      <th>genres</th>\n",
              "    </tr>\n",
              "  </thead>\n",
              "  <tbody>\n",
              "    <tr>\n",
              "      <th>0</th>\n",
              "      <td>Открытый простор</td>\n",
              "      <td>221048915</td>\n",
              "      <td>2015-11-27T12:00:00.000Z</td>\n",
              "      <td>Художественный</td>\n",
              "      <td>Тачстоун Пикчерз, Кобальт Пикчерз, Бикон Пикче...</td>\n",
              "      <td>США</td>\n",
              "      <td>Кевин Костнер</td>\n",
              "      <td>Дэвид Валдес, Кевин Костнер, Джейк Эбертс</td>\n",
              "      <td>«18+» - запрещено для детей</td>\n",
              "      <td>NaN</td>\n",
              "      <td>NaN</td>\n",
              "      <td>NaN</td>\n",
              "      <td>NaN</td>\n",
              "      <td>7.2</td>\n",
              "      <td>боевик,драма,мелодрама</td>\n",
              "    </tr>\n",
              "    <tr>\n",
              "      <th>1</th>\n",
              "      <td>Особо важное задание</td>\n",
              "      <td>111013716</td>\n",
              "      <td>2016-09-13T12:00:00.000Z</td>\n",
              "      <td>Художественный</td>\n",
              "      <td>Киностудия \"Мосфильм\"</td>\n",
              "      <td>СССР</td>\n",
              "      <td>Е.Матвеев</td>\n",
              "      <td>NaN</td>\n",
              "      <td>«6+» - для детей старше 6 лет</td>\n",
              "      <td>NaN</td>\n",
              "      <td>NaN</td>\n",
              "      <td>NaN</td>\n",
              "      <td>NaN</td>\n",
              "      <td>6.6</td>\n",
              "      <td>драма,военный</td>\n",
              "    </tr>\n",
              "    <tr>\n",
              "      <th>2</th>\n",
              "      <td>Особо опасен</td>\n",
              "      <td>221038416</td>\n",
              "      <td>2016-10-10T12:00:00.000Z</td>\n",
              "      <td>Художественный</td>\n",
              "      <td>Юниверсал Пикчерз, Кикстарт Продакшнз, Марк Пл...</td>\n",
              "      <td>США</td>\n",
              "      <td>Тимур Бекмамбетов</td>\n",
              "      <td>Джим Лемли, Джейсон Нетер, Марк Е.Платт, Яйн Смит</td>\n",
              "      <td>«18+» - запрещено для детей</td>\n",
              "      <td>NaN</td>\n",
              "      <td>NaN</td>\n",
              "      <td>NaN</td>\n",
              "      <td>NaN</td>\n",
              "      <td>6.8</td>\n",
              "      <td>фантастика,боевик,триллер</td>\n",
              "    </tr>\n",
              "    <tr>\n",
              "      <th>3</th>\n",
              "      <td>Особо опасен</td>\n",
              "      <td>221026916</td>\n",
              "      <td>2016-06-10T12:00:00.000Z</td>\n",
              "      <td>Художественный</td>\n",
              "      <td>Юниверсал Пикчерз, Кикстарт Продакшнз, Марк Пл...</td>\n",
              "      <td>США</td>\n",
              "      <td>Тимур Бекмамбетов</td>\n",
              "      <td>Джим Лемли, Джейсон Нетер, Марк Е.Платт, Яйн Смит</td>\n",
              "      <td>«18+» - запрещено для детей</td>\n",
              "      <td>NaN</td>\n",
              "      <td>NaN</td>\n",
              "      <td>NaN</td>\n",
              "      <td>NaN</td>\n",
              "      <td>6.8</td>\n",
              "      <td>фантастика,боевик,триллер</td>\n",
              "    </tr>\n",
              "    <tr>\n",
              "      <th>4</th>\n",
              "      <td>Особо опасен</td>\n",
              "      <td>221030815</td>\n",
              "      <td>2015-07-29T12:00:00.000Z</td>\n",
              "      <td>Художественный</td>\n",
              "      <td>Юниверсал Пикчерз, Кикстарт Продакшнз, Марк Пл...</td>\n",
              "      <td>США</td>\n",
              "      <td>Тимур Бекмамбетов</td>\n",
              "      <td>Джим Лемли, Джейсон Нетер, Марк Е.Платт, Яйн Смит</td>\n",
              "      <td>«18+» - запрещено для детей</td>\n",
              "      <td>NaN</td>\n",
              "      <td>NaN</td>\n",
              "      <td>NaN</td>\n",
              "      <td>NaN</td>\n",
              "      <td>6.8</td>\n",
              "      <td>фантастика,боевик,триллер</td>\n",
              "    </tr>\n",
              "  </tbody>\n",
              "</table>\n",
              "</div>"
            ],
            "text/plain": [
              "                  title   puNumber           show_start_date            type  \\\n",
              "0      Открытый простор  221048915  2015-11-27T12:00:00.000Z  Художественный   \n",
              "1  Особо важное задание  111013716  2016-09-13T12:00:00.000Z  Художественный   \n",
              "2          Особо опасен  221038416  2016-10-10T12:00:00.000Z  Художественный   \n",
              "3          Особо опасен  221026916  2016-06-10T12:00:00.000Z  Художественный   \n",
              "4          Особо опасен  221030815  2015-07-29T12:00:00.000Z  Художественный   \n",
              "\n",
              "                                         film_studio production_country  \\\n",
              "0  Тачстоун Пикчерз, Кобальт Пикчерз, Бикон Пикче...                США   \n",
              "1                              Киностудия \"Мосфильм\"               СССР   \n",
              "2  Юниверсал Пикчерз, Кикстарт Продакшнз, Марк Пл...                США   \n",
              "3  Юниверсал Пикчерз, Кикстарт Продакшнз, Марк Пл...                США   \n",
              "4  Юниверсал Пикчерз, Кикстарт Продакшнз, Марк Пл...                США   \n",
              "\n",
              "            director                                           producer  \\\n",
              "0      Кевин Костнер          Дэвид Валдес, Кевин Костнер, Джейк Эбертс   \n",
              "1          Е.Матвеев                                                NaN   \n",
              "2  Тимур Бекмамбетов  Джим Лемли, Джейсон Нетер, Марк Е.Платт, Яйн Смит   \n",
              "3  Тимур Бекмамбетов  Джим Лемли, Джейсон Нетер, Марк Е.Платт, Яйн Смит   \n",
              "4  Тимур Бекмамбетов  Джим Лемли, Джейсон Нетер, Марк Е.Платт, Яйн Смит   \n",
              "\n",
              "                 age_restriction  refundable_support  nonrefundable_support  \\\n",
              "0    «18+» - запрещено для детей                 NaN                    NaN   \n",
              "1  «6+» - для детей старше 6 лет                 NaN                    NaN   \n",
              "2    «18+» - запрещено для детей                 NaN                    NaN   \n",
              "3    «18+» - запрещено для детей                 NaN                    NaN   \n",
              "4    «18+» - запрещено для детей                 NaN                    NaN   \n",
              "\n",
              "   budget financing_source ratings                     genres  \n",
              "0     NaN              NaN     7.2     боевик,драма,мелодрама  \n",
              "1     NaN              NaN     6.6              драма,военный  \n",
              "2     NaN              NaN     6.8  фантастика,боевик,триллер  \n",
              "3     NaN              NaN     6.8  фантастика,боевик,триллер  \n",
              "4     NaN              NaN     6.8  фантастика,боевик,триллер  "
            ]
          },
          "metadata": {},
          "output_type": "display_data"
        },
        {
          "name": "stdout",
          "output_type": "stream",
          "text": [
            "    puNumber     box_office\n",
            "0  111000113       2,450.00\n",
            "1  111000115      61,040.00\n",
            "2  111000116 153,030,013.40\n",
            "3  111000117  12,260,956.00\n",
            "4  111000118 163,684,057.79\n"
          ]
        }
      ],
      "source": [
        "# выгружаем датафреймы и выводим их\n",
        "\n",
        "df1 = pd.read_csv('/datasets/mkrf_movies.csv')\n",
        "df2 = pd.read_csv('/datasets/mkrf_shows.csv')\n",
        "display(df1.head())\n",
        "print(df2.head())"
      ]
    },
    {
      "cell_type": "code",
      "execution_count": null,
      "metadata": {
        "id": "Kzi9Qx8Cm28f",
        "outputId": "0a23c073-a4b6-4e5c-e57f-8439bf3cf3a8"
      },
      "outputs": [
        {
          "name": "stdout",
          "output_type": "stream",
          "text": [
            "<class 'pandas.core.frame.DataFrame'>\n",
            "RangeIndex: 7486 entries, 0 to 7485\n",
            "Data columns (total 15 columns):\n",
            " #   Column                 Non-Null Count  Dtype  \n",
            "---  ------                 --------------  -----  \n",
            " 0   title                  7486 non-null   object \n",
            " 1   puNumber               7486 non-null   object \n",
            " 2   show_start_date        7486 non-null   object \n",
            " 3   type                   7486 non-null   object \n",
            " 4   film_studio            7468 non-null   object \n",
            " 5   production_country     7484 non-null   object \n",
            " 6   director               7477 non-null   object \n",
            " 7   producer               6918 non-null   object \n",
            " 8   age_restriction        7486 non-null   object \n",
            " 9   refundable_support     332 non-null    float64\n",
            " 10  nonrefundable_support  332 non-null    float64\n",
            " 11  budget                 332 non-null    float64\n",
            " 12  financing_source       332 non-null    object \n",
            " 13  ratings                6519 non-null   object \n",
            " 14  genres                 6510 non-null   object \n",
            "dtypes: float64(3), object(12)\n",
            "memory usage: 877.4+ KB\n",
            "None\n",
            "\n",
            "<class 'pandas.core.frame.DataFrame'>\n",
            "RangeIndex: 3158 entries, 0 to 3157\n",
            "Data columns (total 2 columns):\n",
            " #   Column      Non-Null Count  Dtype  \n",
            "---  ------      --------------  -----  \n",
            " 0   puNumber    3158 non-null   int64  \n",
            " 1   box_office  3158 non-null   float64\n",
            "dtypes: float64(1), int64(1)\n",
            "memory usage: 49.5 KB\n",
            "None\n"
          ]
        }
      ],
      "source": [
        "# смотрим общую информацию\n",
        "\n",
        "print(df1.info())\n",
        "print()\n",
        "print(df2.info())"
      ]
    },
    {
      "cell_type": "code",
      "execution_count": null,
      "metadata": {
        "id": "bljDWRsgm28g"
      },
      "outputs": [],
      "source": [
        "# приводим общий столбец к одному типу данных для дальнейшего объединения\n",
        "\n",
        "df1['puNumber'] = pd.to_numeric(df1['puNumber'], errors='coerce')\n",
        "df1.dropna(subset=['puNumber'], inplace=True)\n",
        "df1['puNumber'] = df1['puNumber'].astype(int)"
      ]
    },
    {
      "cell_type": "code",
      "execution_count": null,
      "metadata": {
        "scrolled": false,
        "id": "MKkFXRAKm28g",
        "outputId": "c76b64e2-7443-4772-c2a2-e00ae123cb96"
      },
      "outputs": [
        {
          "data": {
            "text/html": [
              "<div>\n",
              "<style scoped>\n",
              "    .dataframe tbody tr th:only-of-type {\n",
              "        vertical-align: middle;\n",
              "    }\n",
              "\n",
              "    .dataframe tbody tr th {\n",
              "        vertical-align: top;\n",
              "    }\n",
              "\n",
              "    .dataframe thead th {\n",
              "        text-align: right;\n",
              "    }\n",
              "</style>\n",
              "<table border=\"1\" class=\"dataframe\">\n",
              "  <thead>\n",
              "    <tr style=\"text-align: right;\">\n",
              "      <th></th>\n",
              "      <th>title</th>\n",
              "      <th>puNumber</th>\n",
              "      <th>show_start_date</th>\n",
              "      <th>type</th>\n",
              "      <th>film_studio</th>\n",
              "      <th>production_country</th>\n",
              "      <th>director</th>\n",
              "      <th>producer</th>\n",
              "      <th>age_restriction</th>\n",
              "      <th>refundable_support</th>\n",
              "      <th>nonrefundable_support</th>\n",
              "      <th>budget</th>\n",
              "      <th>financing_source</th>\n",
              "      <th>ratings</th>\n",
              "      <th>genres</th>\n",
              "      <th>box_office</th>\n",
              "    </tr>\n",
              "  </thead>\n",
              "  <tbody>\n",
              "    <tr>\n",
              "      <th>0</th>\n",
              "      <td>Открытый простор</td>\n",
              "      <td>221048915</td>\n",
              "      <td>2015-11-27T12:00:00.000Z</td>\n",
              "      <td>Художественный</td>\n",
              "      <td>Тачстоун Пикчерз, Кобальт Пикчерз, Бикон Пикче...</td>\n",
              "      <td>США</td>\n",
              "      <td>Кевин Костнер</td>\n",
              "      <td>Дэвид Валдес, Кевин Костнер, Джейк Эбертс</td>\n",
              "      <td>«18+» - запрещено для детей</td>\n",
              "      <td>NaN</td>\n",
              "      <td>NaN</td>\n",
              "      <td>NaN</td>\n",
              "      <td>NaN</td>\n",
              "      <td>7.2</td>\n",
              "      <td>боевик,драма,мелодрама</td>\n",
              "      <td>NaN</td>\n",
              "    </tr>\n",
              "    <tr>\n",
              "      <th>1</th>\n",
              "      <td>Особо важное задание</td>\n",
              "      <td>111013716</td>\n",
              "      <td>2016-09-13T12:00:00.000Z</td>\n",
              "      <td>Художественный</td>\n",
              "      <td>Киностудия \"Мосфильм\"</td>\n",
              "      <td>СССР</td>\n",
              "      <td>Е.Матвеев</td>\n",
              "      <td>NaN</td>\n",
              "      <td>«6+» - для детей старше 6 лет</td>\n",
              "      <td>NaN</td>\n",
              "      <td>NaN</td>\n",
              "      <td>NaN</td>\n",
              "      <td>NaN</td>\n",
              "      <td>6.6</td>\n",
              "      <td>драма,военный</td>\n",
              "      <td>NaN</td>\n",
              "    </tr>\n",
              "    <tr>\n",
              "      <th>2</th>\n",
              "      <td>Особо опасен</td>\n",
              "      <td>221038416</td>\n",
              "      <td>2016-10-10T12:00:00.000Z</td>\n",
              "      <td>Художественный</td>\n",
              "      <td>Юниверсал Пикчерз, Кикстарт Продакшнз, Марк Пл...</td>\n",
              "      <td>США</td>\n",
              "      <td>Тимур Бекмамбетов</td>\n",
              "      <td>Джим Лемли, Джейсон Нетер, Марк Е.Платт, Яйн Смит</td>\n",
              "      <td>«18+» - запрещено для детей</td>\n",
              "      <td>NaN</td>\n",
              "      <td>NaN</td>\n",
              "      <td>NaN</td>\n",
              "      <td>NaN</td>\n",
              "      <td>6.8</td>\n",
              "      <td>фантастика,боевик,триллер</td>\n",
              "      <td>NaN</td>\n",
              "    </tr>\n",
              "    <tr>\n",
              "      <th>3</th>\n",
              "      <td>Особо опасен</td>\n",
              "      <td>221026916</td>\n",
              "      <td>2016-06-10T12:00:00.000Z</td>\n",
              "      <td>Художественный</td>\n",
              "      <td>Юниверсал Пикчерз, Кикстарт Продакшнз, Марк Пл...</td>\n",
              "      <td>США</td>\n",
              "      <td>Тимур Бекмамбетов</td>\n",
              "      <td>Джим Лемли, Джейсон Нетер, Марк Е.Платт, Яйн Смит</td>\n",
              "      <td>«18+» - запрещено для детей</td>\n",
              "      <td>NaN</td>\n",
              "      <td>NaN</td>\n",
              "      <td>NaN</td>\n",
              "      <td>NaN</td>\n",
              "      <td>6.8</td>\n",
              "      <td>фантастика,боевик,триллер</td>\n",
              "      <td>NaN</td>\n",
              "    </tr>\n",
              "    <tr>\n",
              "      <th>4</th>\n",
              "      <td>Особо опасен</td>\n",
              "      <td>221030815</td>\n",
              "      <td>2015-07-29T12:00:00.000Z</td>\n",
              "      <td>Художественный</td>\n",
              "      <td>Юниверсал Пикчерз, Кикстарт Продакшнз, Марк Пл...</td>\n",
              "      <td>США</td>\n",
              "      <td>Тимур Бекмамбетов</td>\n",
              "      <td>Джим Лемли, Джейсон Нетер, Марк Е.Платт, Яйн Смит</td>\n",
              "      <td>«18+» - запрещено для детей</td>\n",
              "      <td>NaN</td>\n",
              "      <td>NaN</td>\n",
              "      <td>NaN</td>\n",
              "      <td>NaN</td>\n",
              "      <td>6.8</td>\n",
              "      <td>фантастика,боевик,триллер</td>\n",
              "      <td>NaN</td>\n",
              "    </tr>\n",
              "  </tbody>\n",
              "</table>\n",
              "</div>"
            ],
            "text/plain": [
              "                  title   puNumber           show_start_date            type  \\\n",
              "0      Открытый простор  221048915  2015-11-27T12:00:00.000Z  Художественный   \n",
              "1  Особо важное задание  111013716  2016-09-13T12:00:00.000Z  Художественный   \n",
              "2          Особо опасен  221038416  2016-10-10T12:00:00.000Z  Художественный   \n",
              "3          Особо опасен  221026916  2016-06-10T12:00:00.000Z  Художественный   \n",
              "4          Особо опасен  221030815  2015-07-29T12:00:00.000Z  Художественный   \n",
              "\n",
              "                                         film_studio production_country  \\\n",
              "0  Тачстоун Пикчерз, Кобальт Пикчерз, Бикон Пикче...                США   \n",
              "1                              Киностудия \"Мосфильм\"               СССР   \n",
              "2  Юниверсал Пикчерз, Кикстарт Продакшнз, Марк Пл...                США   \n",
              "3  Юниверсал Пикчерз, Кикстарт Продакшнз, Марк Пл...                США   \n",
              "4  Юниверсал Пикчерз, Кикстарт Продакшнз, Марк Пл...                США   \n",
              "\n",
              "            director                                           producer  \\\n",
              "0      Кевин Костнер          Дэвид Валдес, Кевин Костнер, Джейк Эбертс   \n",
              "1          Е.Матвеев                                                NaN   \n",
              "2  Тимур Бекмамбетов  Джим Лемли, Джейсон Нетер, Марк Е.Платт, Яйн Смит   \n",
              "3  Тимур Бекмамбетов  Джим Лемли, Джейсон Нетер, Марк Е.Платт, Яйн Смит   \n",
              "4  Тимур Бекмамбетов  Джим Лемли, Джейсон Нетер, Марк Е.Платт, Яйн Смит   \n",
              "\n",
              "                 age_restriction  refundable_support  nonrefundable_support  \\\n",
              "0    «18+» - запрещено для детей                 NaN                    NaN   \n",
              "1  «6+» - для детей старше 6 лет                 NaN                    NaN   \n",
              "2    «18+» - запрещено для детей                 NaN                    NaN   \n",
              "3    «18+» - запрещено для детей                 NaN                    NaN   \n",
              "4    «18+» - запрещено для детей                 NaN                    NaN   \n",
              "\n",
              "   budget financing_source ratings                     genres  box_office  \n",
              "0     NaN              NaN     7.2     боевик,драма,мелодрама         NaN  \n",
              "1     NaN              NaN     6.6              драма,военный         NaN  \n",
              "2     NaN              NaN     6.8  фантастика,боевик,триллер         NaN  \n",
              "3     NaN              NaN     6.8  фантастика,боевик,триллер         NaN  \n",
              "4     NaN              NaN     6.8  фантастика,боевик,триллер         NaN  "
            ]
          },
          "metadata": {},
          "output_type": "display_data"
        },
        {
          "name": "stdout",
          "output_type": "stream",
          "text": [
            "<class 'pandas.core.frame.DataFrame'>\n",
            "Int64Index: 7485 entries, 0 to 7484\n",
            "Data columns (total 16 columns):\n",
            " #   Column                 Non-Null Count  Dtype  \n",
            "---  ------                 --------------  -----  \n",
            " 0   title                  7485 non-null   object \n",
            " 1   puNumber               7485 non-null   int64  \n",
            " 2   show_start_date        7485 non-null   object \n",
            " 3   type                   7485 non-null   object \n",
            " 4   film_studio            7467 non-null   object \n",
            " 5   production_country     7483 non-null   object \n",
            " 6   director               7476 non-null   object \n",
            " 7   producer               6917 non-null   object \n",
            " 8   age_restriction        7485 non-null   object \n",
            " 9   refundable_support     332 non-null    float64\n",
            " 10  nonrefundable_support  332 non-null    float64\n",
            " 11  budget                 332 non-null    float64\n",
            " 12  financing_source       332 non-null    object \n",
            " 13  ratings                6519 non-null   object \n",
            " 14  genres                 6510 non-null   object \n",
            " 15  box_office             3158 non-null   float64\n",
            "dtypes: float64(4), int64(1), object(11)\n",
            "memory usage: 994.1+ KB\n"
          ]
        }
      ],
      "source": [
        "# объединяем данные\n",
        "\n",
        "data = df1.merge(df2, on='puNumber', how='outer')\n",
        "display(data.head())\n",
        "data.info()"
      ]
    },
    {
      "cell_type": "markdown",
      "metadata": {
        "id": "jtocRJjmm28h"
      },
      "source": [
        "**Вывод**\n",
        "\n",
        "Привели столбец к одинаковому типу для объединения. В данных присутствуют пропуски и некорректное значение времени. Также есть столбец с неправильным форматом написания. Оба датасета объединились без потерь данных."
      ]
    },
    {
      "cell_type": "markdown",
      "metadata": {
        "id": "KLDGpPG0gFyM"
      },
      "source": [
        "### Шаг 2. Предобработка данных"
      ]
    },
    {
      "cell_type": "markdown",
      "metadata": {
        "id": "dIrQ3Uelm28i"
      },
      "source": [
        "#### Шаг 2.1. Приведение названий колонок к общему виду"
      ]
    },
    {
      "cell_type": "code",
      "execution_count": null,
      "metadata": {
        "id": "eWwnYiOGm28j",
        "outputId": "deeff3be-65bd-4c10-e566-c05067eaff2c"
      },
      "outputs": [
        {
          "data": {
            "text/plain": [
              "Index(['title', 'puNumber', 'show_start_date', 'type', 'film_studio',\n",
              "       'production_country', 'director', 'producer', 'age_restriction',\n",
              "       'refundable_support', 'nonrefundable_support', 'budget',\n",
              "       'financing_source', 'ratings', 'genres', 'box_office'],\n",
              "      dtype='object')"
            ]
          },
          "execution_count": 6,
          "metadata": {},
          "output_type": "execute_result"
        }
      ],
      "source": [
        "# выводим название колонок\n",
        "\n",
        "data.columns"
      ]
    },
    {
      "cell_type": "code",
      "execution_count": null,
      "metadata": {
        "id": "ZJg30Zsmm28j",
        "outputId": "2a480197-3191-42c8-9858-efd7eed431dd"
      },
      "outputs": [
        {
          "data": {
            "text/plain": [
              "Index(['title', 'pu_number', 'show_start_date', 'type', 'film_studio',\n",
              "       'production_country', 'director', 'producer', 'age_restriction',\n",
              "       'refundable_support', 'nonrefundable_support', 'budget',\n",
              "       'financing_source', 'ratings', 'genres', 'box_office'],\n",
              "      dtype='object')"
            ]
          },
          "execution_count": 7,
          "metadata": {},
          "output_type": "execute_result"
        }
      ],
      "source": [
        "# приводим к общему виду\n",
        "\n",
        "data = data.rename(\n",
        "    columns={\n",
        "        'puNumber': 'pu_number'\n",
        "    }\n",
        ")\n",
        "data.columns"
      ]
    },
    {
      "cell_type": "markdown",
      "metadata": {
        "id": "ssWwKXsxgFyO"
      },
      "source": [
        "#### Шаг 2.2. Проверка типов данных"
      ]
    },
    {
      "cell_type": "code",
      "execution_count": null,
      "metadata": {
        "id": "kVGSplJOgFyO"
      },
      "outputs": [],
      "source": [
        "# изменяем типы данных в колонках\n",
        "\n",
        "data['show_start_date'] = pd.to_datetime(data['show_start_date'], format='%Y-%m-%d %H:%M:%S')\n",
        "#data['show_start_date'] = pd.to_datetime(data['show_start_date'])\n",
        "\n",
        "data['ratings'] = pd.to_numeric(data['ratings'], errors='coerce')"
      ]
    },
    {
      "cell_type": "markdown",
      "metadata": {
        "id": "i0MOLbF-gFyP"
      },
      "source": [
        "#### Шаг 2.3. Изучение пропусков"
      ]
    },
    {
      "cell_type": "code",
      "execution_count": null,
      "metadata": {
        "id": "bfxKdDhTm28n",
        "outputId": "a4d5bc69-dd94-4a76-d290-723dd4ff06fc"
      },
      "outputs": [
        {
          "data": {
            "text/plain": [
              "7485"
            ]
          },
          "execution_count": 9,
          "metadata": {},
          "output_type": "execute_result"
        }
      ],
      "source": [
        "# Комментарий ревьюера\n",
        "temp = data.copy() # создаем копию датасета до преобразования\n",
        "len(temp)"
      ]
    },
    {
      "cell_type": "code",
      "execution_count": null,
      "metadata": {
        "id": "8MJD_lkngFyP",
        "scrolled": true,
        "outputId": "0e238de5-0f6f-410c-ba6c-a374fd6ca283"
      },
      "outputs": [
        {
          "data": {
            "text/plain": [
              "title                       0\n",
              "pu_number                   0\n",
              "show_start_date             0\n",
              "type                        0\n",
              "film_studio                18\n",
              "production_country          2\n",
              "director                    9\n",
              "producer                  568\n",
              "age_restriction             0\n",
              "refundable_support       7153\n",
              "nonrefundable_support    7153\n",
              "budget                   7153\n",
              "financing_source         7153\n",
              "ratings                   995\n",
              "genres                    975\n",
              "box_office               4327\n",
              "dtype: int64"
            ]
          },
          "execution_count": 10,
          "metadata": {},
          "output_type": "execute_result"
        }
      ],
      "source": [
        "# считаем количество пропусков по колонкам\n",
        "\n",
        "data.isna().sum()"
      ]
    },
    {
      "cell_type": "code",
      "execution_count": null,
      "metadata": {
        "id": "dQDCxR6rm28o"
      },
      "outputs": [],
      "source": [
        "# заменяем пропуски на 0\n",
        "\n",
        "data['refundable_support'] = data['refundable_support'].fillna(0)\n",
        "data['nonrefundable_support'] = data['nonrefundable_support'].fillna(0)\n",
        "data['budget'] = data['budget'].fillna(0)\n",
        "data['financing_source'] = data['financing_source'].fillna(0)"
      ]
    },
    {
      "cell_type": "code",
      "execution_count": null,
      "metadata": {
        "id": "fwFuVFGRm28o"
      },
      "outputs": [],
      "source": [
        "# удаляем пропущенные значения\n",
        "\n",
        "data.dropna(subset=['film_studio', 'production_country', 'director'], inplace=True)"
      ]
    },
    {
      "cell_type": "code",
      "execution_count": null,
      "metadata": {
        "id": "80Ca48c4m28p",
        "outputId": "8645c012-8017-4c65-a9ef-0528141fd3cb"
      },
      "outputs": [
        {
          "name": "stdout",
          "output_type": "stream",
          "text": [
            "7485 7458 0.36\n"
          ]
        }
      ],
      "source": [
        "# Комментарий ревьюера\n",
        "a, b = len(temp), len(data)\n",
        "print(len(temp), len(data), round((a-b)/a*100, 2))"
      ]
    },
    {
      "cell_type": "markdown",
      "metadata": {
        "id": "63iNihPpm28p"
      },
      "source": [
        "**Вывод**\n",
        "\n",
        "В колонках с возвратными, невозвратными средствами, бюджетом и источником финансирования пропуски заменили на 0, потому что данные фильмы не были спонсированы государством либо данная информация отсутствует.\n",
        "\n",
        "Пропуски в столбцах с киностудией, страной производителем и режиссёром удалили, поскольку они занимают менее 1% в общем количестве данных и могу помешать в дальнейшем анализе."
      ]
    },
    {
      "cell_type": "markdown",
      "metadata": {
        "id": "4c6k1t9ygFyQ"
      },
      "source": [
        "#### Шаг 2.4. Изучение дубликатов"
      ]
    },
    {
      "cell_type": "code",
      "execution_count": null,
      "metadata": {
        "id": "aKck8RIdgFyQ",
        "outputId": "012666ae-562d-4ad5-c498-b61cdd3d34a0"
      },
      "outputs": [
        {
          "data": {
            "text/plain": [
              "0"
            ]
          },
          "execution_count": 14,
          "metadata": {},
          "output_type": "execute_result"
        }
      ],
      "source": [
        "# считаем количество дубликатов\n",
        "\n",
        "data.duplicated().sum()"
      ]
    },
    {
      "cell_type": "code",
      "execution_count": null,
      "metadata": {
        "id": "JdcQhzKqm28q",
        "outputId": "6839682a-c4e2-4aa2-fdbe-3991e9b1cba7"
      },
      "outputs": [
        {
          "data": {
            "text/plain": [
              "2"
            ]
          },
          "execution_count": 15,
          "metadata": {},
          "output_type": "execute_result"
        }
      ],
      "source": [
        "# ищем дубликаты в данном столбце, потому что в других они могут быть и это никак не связано с ошибками\n",
        "\n",
        "data['pu_number'].duplicated().sum()"
      ]
    },
    {
      "cell_type": "code",
      "execution_count": null,
      "metadata": {
        "id": "3UIqXYHtm28q",
        "outputId": "f56471ff-4fc7-4517-961b-28eaebd12092"
      },
      "outputs": [
        {
          "data": {
            "text/html": [
              "<div>\n",
              "<style scoped>\n",
              "    .dataframe tbody tr th:only-of-type {\n",
              "        vertical-align: middle;\n",
              "    }\n",
              "\n",
              "    .dataframe tbody tr th {\n",
              "        vertical-align: top;\n",
              "    }\n",
              "\n",
              "    .dataframe thead th {\n",
              "        text-align: right;\n",
              "    }\n",
              "</style>\n",
              "<table border=\"1\" class=\"dataframe\">\n",
              "  <thead>\n",
              "    <tr style=\"text-align: right;\">\n",
              "      <th></th>\n",
              "      <th>title</th>\n",
              "      <th>pu_number</th>\n",
              "      <th>show_start_date</th>\n",
              "      <th>type</th>\n",
              "      <th>film_studio</th>\n",
              "      <th>production_country</th>\n",
              "      <th>director</th>\n",
              "      <th>producer</th>\n",
              "      <th>age_restriction</th>\n",
              "      <th>refundable_support</th>\n",
              "      <th>nonrefundable_support</th>\n",
              "      <th>budget</th>\n",
              "      <th>financing_source</th>\n",
              "      <th>ratings</th>\n",
              "      <th>genres</th>\n",
              "      <th>box_office</th>\n",
              "    </tr>\n",
              "  </thead>\n",
              "  <tbody>\n",
              "    <tr>\n",
              "      <th>4638</th>\n",
              "      <td>Иоанна - женщина на папском престоле /По роман...</td>\n",
              "      <td>221154310</td>\n",
              "      <td>2010-12-17 12:00:00+00:00</td>\n",
              "      <td>Художественный</td>\n",
              "      <td>Константин Фильм, А Эр Ди Дегето Фильм, Дюне ...</td>\n",
              "      <td>Германия - Великобритания - Италия - Испания</td>\n",
              "      <td>Зенке Вортманн</td>\n",
              "      <td>Оливер Бербен, Дорис Д.Хайнце, Фарук Элтан</td>\n",
              "      <td>«16+» - для детей старше 16 лет</td>\n",
              "      <td>0.00</td>\n",
              "      <td>0.00</td>\n",
              "      <td>0.00</td>\n",
              "      <td>0</td>\n",
              "      <td>7.60</td>\n",
              "      <td>драма,мелодрама,история</td>\n",
              "      <td>NaN</td>\n",
              "    </tr>\n",
              "    <tr>\n",
              "      <th>5067</th>\n",
              "      <td>Анализируй то!</td>\n",
              "      <td>221054410</td>\n",
              "      <td>2010-05-25 12:00:00+00:00</td>\n",
              "      <td>Художественный</td>\n",
              "      <td>Уорнер Бразерс, Виллидж Роадшоу Пикчерз, Эн-Пи...</td>\n",
              "      <td>США</td>\n",
              "      <td>Гарольд Реймис</td>\n",
              "      <td>Джейн Розенталь, Паул Уэйнстейн</td>\n",
              "      <td>«12+» - для детей старше 12 лет</td>\n",
              "      <td>0.00</td>\n",
              "      <td>0.00</td>\n",
              "      <td>0.00</td>\n",
              "      <td>0</td>\n",
              "      <td>6.80</td>\n",
              "      <td>комедия,криминал</td>\n",
              "      <td>NaN</td>\n",
              "    </tr>\n",
              "  </tbody>\n",
              "</table>\n",
              "</div>"
            ],
            "text/plain": [
              "                                                  title  pu_number  \\\n",
              "4638  Иоанна - женщина на папском престоле /По роман...  221154310   \n",
              "5067                                     Анализируй то!  221054410   \n",
              "\n",
              "               show_start_date            type  \\\n",
              "4638 2010-12-17 12:00:00+00:00  Художественный   \n",
              "5067 2010-05-25 12:00:00+00:00  Художественный   \n",
              "\n",
              "                                            film_studio  \\\n",
              "4638   Константин Фильм, А Эр Ди Дегето Фильм, Дюне ...   \n",
              "5067  Уорнер Бразерс, Виллидж Роадшоу Пикчерз, Эн-Пи...   \n",
              "\n",
              "                                production_country        director  \\\n",
              "4638  Германия - Великобритания - Италия - Испания  Зенке Вортманн   \n",
              "5067                                           США  Гарольд Реймис   \n",
              "\n",
              "                                        producer  \\\n",
              "4638  Оливер Бербен, Дорис Д.Хайнце, Фарук Элтан   \n",
              "5067             Джейн Розенталь, Паул Уэйнстейн   \n",
              "\n",
              "                      age_restriction  refundable_support  \\\n",
              "4638  «16+» - для детей старше 16 лет                0.00   \n",
              "5067  «12+» - для детей старше 12 лет                0.00   \n",
              "\n",
              "      nonrefundable_support  budget financing_source  ratings  \\\n",
              "4638                   0.00    0.00                0     7.60   \n",
              "5067                   0.00    0.00                0     6.80   \n",
              "\n",
              "                       genres  box_office  \n",
              "4638  драма,мелодрама,история         NaN  \n",
              "5067         комедия,криминал         NaN  "
            ]
          },
          "execution_count": 16,
          "metadata": {},
          "output_type": "execute_result"
        }
      ],
      "source": [
        "# выводим дубликаты в датафрейме\n",
        "\n",
        "data[data['pu_number'].duplicated() == True]"
      ]
    },
    {
      "cell_type": "code",
      "execution_count": null,
      "metadata": {
        "scrolled": false,
        "id": "cXk8mH4Lm286",
        "outputId": "98051391-46f0-4e25-a2e7-b4a3f434c0df"
      },
      "outputs": [
        {
          "data": {
            "text/html": [
              "<div>\n",
              "<style scoped>\n",
              "    .dataframe tbody tr th:only-of-type {\n",
              "        vertical-align: middle;\n",
              "    }\n",
              "\n",
              "    .dataframe tbody tr th {\n",
              "        vertical-align: top;\n",
              "    }\n",
              "\n",
              "    .dataframe thead th {\n",
              "        text-align: right;\n",
              "    }\n",
              "</style>\n",
              "<table border=\"1\" class=\"dataframe\">\n",
              "  <thead>\n",
              "    <tr style=\"text-align: right;\">\n",
              "      <th></th>\n",
              "      <th>title</th>\n",
              "      <th>pu_number</th>\n",
              "      <th>show_start_date</th>\n",
              "      <th>type</th>\n",
              "      <th>film_studio</th>\n",
              "      <th>production_country</th>\n",
              "      <th>director</th>\n",
              "      <th>producer</th>\n",
              "      <th>age_restriction</th>\n",
              "      <th>refundable_support</th>\n",
              "      <th>nonrefundable_support</th>\n",
              "      <th>budget</th>\n",
              "      <th>financing_source</th>\n",
              "      <th>ratings</th>\n",
              "      <th>genres</th>\n",
              "      <th>box_office</th>\n",
              "    </tr>\n",
              "  </thead>\n",
              "  <tbody>\n",
              "    <tr>\n",
              "      <th>4637</th>\n",
              "      <td>Как жениться и остаться холостым</td>\n",
              "      <td>221154310</td>\n",
              "      <td>2010-12-17 12:00:00+00:00</td>\n",
              "      <td>Художественный</td>\n",
              "      <td>Ше Вам, Скрипт Ассосье, Тэ Фэ 1 Фильм Продюксь...</td>\n",
              "      <td>Франция</td>\n",
              "      <td>Эрик Лартиго</td>\n",
              "      <td>Амандин Било, Алан Шаба</td>\n",
              "      <td>«16+» - для детей старше 16 лет</td>\n",
              "      <td>0.00</td>\n",
              "      <td>0.00</td>\n",
              "      <td>0.00</td>\n",
              "      <td>0</td>\n",
              "      <td>7.00</td>\n",
              "      <td>мелодрама,комедия</td>\n",
              "      <td>NaN</td>\n",
              "    </tr>\n",
              "    <tr>\n",
              "      <th>4638</th>\n",
              "      <td>Иоанна - женщина на папском престоле /По роман...</td>\n",
              "      <td>221154310</td>\n",
              "      <td>2010-12-17 12:00:00+00:00</td>\n",
              "      <td>Художественный</td>\n",
              "      <td>Константин Фильм, А Эр Ди Дегето Фильм, Дюне ...</td>\n",
              "      <td>Германия - Великобритания - Италия - Испания</td>\n",
              "      <td>Зенке Вортманн</td>\n",
              "      <td>Оливер Бербен, Дорис Д.Хайнце, Фарук Элтан</td>\n",
              "      <td>«16+» - для детей старше 16 лет</td>\n",
              "      <td>0.00</td>\n",
              "      <td>0.00</td>\n",
              "      <td>0.00</td>\n",
              "      <td>0</td>\n",
              "      <td>7.60</td>\n",
              "      <td>драма,мелодрама,история</td>\n",
              "      <td>NaN</td>\n",
              "    </tr>\n",
              "  </tbody>\n",
              "</table>\n",
              "</div>"
            ],
            "text/plain": [
              "                                                  title  pu_number  \\\n",
              "4637                   Как жениться и остаться холостым  221154310   \n",
              "4638  Иоанна - женщина на папском престоле /По роман...  221154310   \n",
              "\n",
              "               show_start_date            type  \\\n",
              "4637 2010-12-17 12:00:00+00:00  Художественный   \n",
              "4638 2010-12-17 12:00:00+00:00  Художественный   \n",
              "\n",
              "                                            film_studio  \\\n",
              "4637  Ше Вам, Скрипт Ассосье, Тэ Фэ 1 Фильм Продюксь...   \n",
              "4638   Константин Фильм, А Эр Ди Дегето Фильм, Дюне ...   \n",
              "\n",
              "                                production_country        director  \\\n",
              "4637                                       Франция    Эрик Лартиго   \n",
              "4638  Германия - Великобритания - Италия - Испания  Зенке Вортманн   \n",
              "\n",
              "                                        producer  \\\n",
              "4637                     Амандин Било, Алан Шаба   \n",
              "4638  Оливер Бербен, Дорис Д.Хайнце, Фарук Элтан   \n",
              "\n",
              "                      age_restriction  refundable_support  \\\n",
              "4637  «16+» - для детей старше 16 лет                0.00   \n",
              "4638  «16+» - для детей старше 16 лет                0.00   \n",
              "\n",
              "      nonrefundable_support  budget financing_source  ratings  \\\n",
              "4637                   0.00    0.00                0     7.00   \n",
              "4638                   0.00    0.00                0     7.60   \n",
              "\n",
              "                       genres  box_office  \n",
              "4637        мелодрама,комедия         NaN  \n",
              "4638  драма,мелодрама,история         NaN  "
            ]
          },
          "metadata": {},
          "output_type": "display_data"
        },
        {
          "data": {
            "text/html": [
              "<div>\n",
              "<style scoped>\n",
              "    .dataframe tbody tr th:only-of-type {\n",
              "        vertical-align: middle;\n",
              "    }\n",
              "\n",
              "    .dataframe tbody tr th {\n",
              "        vertical-align: top;\n",
              "    }\n",
              "\n",
              "    .dataframe thead th {\n",
              "        text-align: right;\n",
              "    }\n",
              "</style>\n",
              "<table border=\"1\" class=\"dataframe\">\n",
              "  <thead>\n",
              "    <tr style=\"text-align: right;\">\n",
              "      <th></th>\n",
              "      <th>title</th>\n",
              "      <th>pu_number</th>\n",
              "      <th>show_start_date</th>\n",
              "      <th>type</th>\n",
              "      <th>film_studio</th>\n",
              "      <th>production_country</th>\n",
              "      <th>director</th>\n",
              "      <th>producer</th>\n",
              "      <th>age_restriction</th>\n",
              "      <th>refundable_support</th>\n",
              "      <th>nonrefundable_support</th>\n",
              "      <th>budget</th>\n",
              "      <th>financing_source</th>\n",
              "      <th>ratings</th>\n",
              "      <th>genres</th>\n",
              "      <th>box_office</th>\n",
              "    </tr>\n",
              "  </thead>\n",
              "  <tbody>\n",
              "    <tr>\n",
              "      <th>5066</th>\n",
              "      <td>Анализируй это!</td>\n",
              "      <td>221054410</td>\n",
              "      <td>2010-05-25 12:00:00+00:00</td>\n",
              "      <td>Художественный</td>\n",
              "      <td>Уорнер Бразерс, Вилладж Роудшоу Филмз ЛТД</td>\n",
              "      <td>США-Австралия</td>\n",
              "      <td>ХЭрольд Рэмис</td>\n",
              "      <td>Джейн Розенталь, Пола Уейнстейн</td>\n",
              "      <td>«16+» - для детей старше 16 лет</td>\n",
              "      <td>0.00</td>\n",
              "      <td>0.00</td>\n",
              "      <td>0.00</td>\n",
              "      <td>0</td>\n",
              "      <td>7.40</td>\n",
              "      <td>комедия,криминал</td>\n",
              "      <td>NaN</td>\n",
              "    </tr>\n",
              "    <tr>\n",
              "      <th>5067</th>\n",
              "      <td>Анализируй то!</td>\n",
              "      <td>221054410</td>\n",
              "      <td>2010-05-25 12:00:00+00:00</td>\n",
              "      <td>Художественный</td>\n",
              "      <td>Уорнер Бразерс, Виллидж Роадшоу Пикчерз, Эн-Пи...</td>\n",
              "      <td>США</td>\n",
              "      <td>Гарольд Реймис</td>\n",
              "      <td>Джейн Розенталь, Паул Уэйнстейн</td>\n",
              "      <td>«12+» - для детей старше 12 лет</td>\n",
              "      <td>0.00</td>\n",
              "      <td>0.00</td>\n",
              "      <td>0.00</td>\n",
              "      <td>0</td>\n",
              "      <td>6.80</td>\n",
              "      <td>комедия,криминал</td>\n",
              "      <td>NaN</td>\n",
              "    </tr>\n",
              "  </tbody>\n",
              "</table>\n",
              "</div>"
            ],
            "text/plain": [
              "                title  pu_number           show_start_date            type  \\\n",
              "5066  Анализируй это!  221054410 2010-05-25 12:00:00+00:00  Художественный   \n",
              "5067   Анализируй то!  221054410 2010-05-25 12:00:00+00:00  Художественный   \n",
              "\n",
              "                                            film_studio production_country  \\\n",
              "5066          Уорнер Бразерс, Вилладж Роудшоу Филмз ЛТД      США-Австралия   \n",
              "5067  Уорнер Бразерс, Виллидж Роадшоу Пикчерз, Эн-Пи...                США   \n",
              "\n",
              "            director                         producer  \\\n",
              "5066   ХЭрольд Рэмис  Джейн Розенталь, Пола Уейнстейн   \n",
              "5067  Гарольд Реймис  Джейн Розенталь, Паул Уэйнстейн   \n",
              "\n",
              "                      age_restriction  refundable_support  \\\n",
              "5066  «16+» - для детей старше 16 лет                0.00   \n",
              "5067  «12+» - для детей старше 12 лет                0.00   \n",
              "\n",
              "      nonrefundable_support  budget financing_source  ratings  \\\n",
              "5066                   0.00    0.00                0     7.40   \n",
              "5067                   0.00    0.00                0     6.80   \n",
              "\n",
              "                genres  box_office  \n",
              "5066  комедия,криминал         NaN  \n",
              "5067  комедия,криминал         NaN  "
            ]
          },
          "metadata": {},
          "output_type": "display_data"
        }
      ],
      "source": [
        "# ищем такие же значения\n",
        "\n",
        "display(data.query('pu_number == 221154310'))\n",
        "display(data.query('pu_number == 221054410'))"
      ]
    },
    {
      "cell_type": "code",
      "execution_count": null,
      "metadata": {
        "id": "AUB0etwIm286",
        "outputId": "890118a6-d713-4a6e-d855-17d8b6bc3b66"
      },
      "outputs": [
        {
          "data": {
            "text/plain": [
              "count         7,458.00\n",
              "mean    135,214,429.91\n",
              "std      38,359,046.05\n",
              "min       1,811,096.00\n",
              "25%     113,000,117.25\n",
              "50%     121,015,514.50\n",
              "75%     124,003,288.75\n",
              "max     231,001,111.00\n",
              "Name: pu_number, dtype: float64"
            ]
          },
          "execution_count": 18,
          "metadata": {},
          "output_type": "execute_result"
        }
      ],
      "source": [
        "# смотрим значения столбца\n",
        "\n",
        "data['pu_number'].describe()"
      ]
    },
    {
      "cell_type": "code",
      "execution_count": null,
      "metadata": {
        "id": "wOipoCWcm287",
        "outputId": "fad1b10e-5645-4f33-ca1b-1b9a3ed193f3"
      },
      "outputs": [
        {
          "data": {
            "text/plain": [
              "0"
            ]
          },
          "execution_count": 19,
          "metadata": {},
          "output_type": "execute_result"
        }
      ],
      "source": [
        "# изменяем значения на те, которые будут меньше минимального или больше максимального из столбца\n",
        "\n",
        "data.loc[((data['pu_number'] == 221154310) & (data['title'] == 'Как жениться и остаться холостым')),'pu_number'] = 1500000\n",
        "data.loc[((data['pu_number'] == 221054410) & (data['title'] == 'Анализируй то!')),'pu_number'] = 1500001\n",
        "\n",
        "data['pu_number'].duplicated().sum()"
      ]
    },
    {
      "cell_type": "markdown",
      "metadata": {
        "id": "52fOPrEBgFyQ"
      },
      "source": [
        "#### Шаг 2.5. Изучение категориальных значений"
      ]
    },
    {
      "cell_type": "code",
      "execution_count": null,
      "metadata": {
        "id": "d4fSRag4m288",
        "outputId": "458f2a0e-f417-44a7-fead-0d412bfd906a"
      },
      "outputs": [
        {
          "data": {
            "text/plain": [
              "array(['Художественный', 'Анимационный', 'Прочие', 'Документальный',\n",
              "       'Научно-популярный', ' Художественный', ' Анимационный',\n",
              "       'Музыкально-развлекательный'], dtype=object)"
            ]
          },
          "execution_count": 20,
          "metadata": {},
          "output_type": "execute_result"
        }
      ],
      "source": [
        "# смотрим уникальные значения\n",
        "\n",
        "data['type'].unique()"
      ]
    },
    {
      "cell_type": "code",
      "execution_count": null,
      "metadata": {
        "id": "PnXKIVdFgFyR"
      },
      "outputs": [],
      "source": [
        "# удаляем лишние пробелы\n",
        "\n",
        "data['type'] = data['type'].str.strip()"
      ]
    },
    {
      "cell_type": "code",
      "execution_count": null,
      "metadata": {
        "id": "AJCDzVJvm289"
      },
      "outputs": [],
      "source": [
        "# приводим к одному формату\n",
        "\n",
        "data['production_country'] = data['production_country'].str.replace(' ', '')\n",
        "data['production_country'] = data['production_country'].str.replace('-', ',')\n",
        "data['production_country'] = data['production_country'].str.replace(',', ', ')\n",
        "\n",
        "# как можно было проще сделать?"
      ]
    },
    {
      "cell_type": "code",
      "execution_count": null,
      "metadata": {
        "id": "f0VeeIbcm289",
        "outputId": "1ce11c78-8bdb-4de0-fe8e-a188c1bf6dc8"
      },
      "outputs": [
        {
          "data": {
            "text/html": [
              "<div>\n",
              "<style scoped>\n",
              "    .dataframe tbody tr th:only-of-type {\n",
              "        vertical-align: middle;\n",
              "    }\n",
              "\n",
              "    .dataframe tbody tr th {\n",
              "        vertical-align: top;\n",
              "    }\n",
              "\n",
              "    .dataframe thead th {\n",
              "        text-align: right;\n",
              "    }\n",
              "</style>\n",
              "<table border=\"1\" class=\"dataframe\">\n",
              "  <thead>\n",
              "    <tr style=\"text-align: right;\">\n",
              "      <th></th>\n",
              "      <th>title</th>\n",
              "      <th>pu_number</th>\n",
              "      <th>show_start_date</th>\n",
              "      <th>type</th>\n",
              "      <th>film_studio</th>\n",
              "      <th>production_country</th>\n",
              "      <th>director</th>\n",
              "      <th>producer</th>\n",
              "      <th>age_restriction</th>\n",
              "      <th>refundable_support</th>\n",
              "      <th>nonrefundable_support</th>\n",
              "      <th>budget</th>\n",
              "      <th>financing_source</th>\n",
              "      <th>ratings</th>\n",
              "      <th>genres</th>\n",
              "      <th>box_office</th>\n",
              "    </tr>\n",
              "  </thead>\n",
              "  <tbody>\n",
              "    <tr>\n",
              "      <th>0</th>\n",
              "      <td>открытый простор</td>\n",
              "      <td>221048915</td>\n",
              "      <td>2015-11-27 12:00:00+00:00</td>\n",
              "      <td>художественный</td>\n",
              "      <td>тачстоун пикчерз, кобальт пикчерз, бикон пикче...</td>\n",
              "      <td>сша</td>\n",
              "      <td>кевин костнер</td>\n",
              "      <td>дэвид валдес, кевин костнер, джейк эбертс</td>\n",
              "      <td>«18+» - запрещено для детей</td>\n",
              "      <td>0.00</td>\n",
              "      <td>0.00</td>\n",
              "      <td>0.00</td>\n",
              "      <td>NaN</td>\n",
              "      <td>7.20</td>\n",
              "      <td>боевик,драма,мелодрама</td>\n",
              "      <td>NaN</td>\n",
              "    </tr>\n",
              "    <tr>\n",
              "      <th>1</th>\n",
              "      <td>особо важное задание</td>\n",
              "      <td>111013716</td>\n",
              "      <td>2016-09-13 12:00:00+00:00</td>\n",
              "      <td>художественный</td>\n",
              "      <td>киностудия \"мосфильм\"</td>\n",
              "      <td>ссср</td>\n",
              "      <td>е.матвеев</td>\n",
              "      <td>NaN</td>\n",
              "      <td>«6+» - для детей старше 6 лет</td>\n",
              "      <td>0.00</td>\n",
              "      <td>0.00</td>\n",
              "      <td>0.00</td>\n",
              "      <td>NaN</td>\n",
              "      <td>6.60</td>\n",
              "      <td>драма,военный</td>\n",
              "      <td>NaN</td>\n",
              "    </tr>\n",
              "    <tr>\n",
              "      <th>2</th>\n",
              "      <td>особо опасен</td>\n",
              "      <td>221038416</td>\n",
              "      <td>2016-10-10 12:00:00+00:00</td>\n",
              "      <td>художественный</td>\n",
              "      <td>юниверсал пикчерз, кикстарт продакшнз, марк пл...</td>\n",
              "      <td>сша</td>\n",
              "      <td>тимур бекмамбетов</td>\n",
              "      <td>джим лемли, джейсон нетер, марк е.платт, яйн смит</td>\n",
              "      <td>«18+» - запрещено для детей</td>\n",
              "      <td>0.00</td>\n",
              "      <td>0.00</td>\n",
              "      <td>0.00</td>\n",
              "      <td>NaN</td>\n",
              "      <td>6.80</td>\n",
              "      <td>фантастика,боевик,триллер</td>\n",
              "      <td>NaN</td>\n",
              "    </tr>\n",
              "    <tr>\n",
              "      <th>3</th>\n",
              "      <td>особо опасен</td>\n",
              "      <td>221026916</td>\n",
              "      <td>2016-06-10 12:00:00+00:00</td>\n",
              "      <td>художественный</td>\n",
              "      <td>юниверсал пикчерз, кикстарт продакшнз, марк пл...</td>\n",
              "      <td>сша</td>\n",
              "      <td>тимур бекмамбетов</td>\n",
              "      <td>джим лемли, джейсон нетер, марк е.платт, яйн смит</td>\n",
              "      <td>«18+» - запрещено для детей</td>\n",
              "      <td>0.00</td>\n",
              "      <td>0.00</td>\n",
              "      <td>0.00</td>\n",
              "      <td>NaN</td>\n",
              "      <td>6.80</td>\n",
              "      <td>фантастика,боевик,триллер</td>\n",
              "      <td>NaN</td>\n",
              "    </tr>\n",
              "    <tr>\n",
              "      <th>4</th>\n",
              "      <td>особо опасен</td>\n",
              "      <td>221030815</td>\n",
              "      <td>2015-07-29 12:00:00+00:00</td>\n",
              "      <td>художественный</td>\n",
              "      <td>юниверсал пикчерз, кикстарт продакшнз, марк пл...</td>\n",
              "      <td>сша</td>\n",
              "      <td>тимур бекмамбетов</td>\n",
              "      <td>джим лемли, джейсон нетер, марк е.платт, яйн смит</td>\n",
              "      <td>«18+» - запрещено для детей</td>\n",
              "      <td>0.00</td>\n",
              "      <td>0.00</td>\n",
              "      <td>0.00</td>\n",
              "      <td>NaN</td>\n",
              "      <td>6.80</td>\n",
              "      <td>фантастика,боевик,триллер</td>\n",
              "      <td>NaN</td>\n",
              "    </tr>\n",
              "  </tbody>\n",
              "</table>\n",
              "</div>"
            ],
            "text/plain": [
              "                  title  pu_number           show_start_date            type  \\\n",
              "0      открытый простор  221048915 2015-11-27 12:00:00+00:00  художественный   \n",
              "1  особо важное задание  111013716 2016-09-13 12:00:00+00:00  художественный   \n",
              "2          особо опасен  221038416 2016-10-10 12:00:00+00:00  художественный   \n",
              "3          особо опасен  221026916 2016-06-10 12:00:00+00:00  художественный   \n",
              "4          особо опасен  221030815 2015-07-29 12:00:00+00:00  художественный   \n",
              "\n",
              "                                         film_studio production_country  \\\n",
              "0  тачстоун пикчерз, кобальт пикчерз, бикон пикче...                сша   \n",
              "1                              киностудия \"мосфильм\"               ссср   \n",
              "2  юниверсал пикчерз, кикстарт продакшнз, марк пл...                сша   \n",
              "3  юниверсал пикчерз, кикстарт продакшнз, марк пл...                сша   \n",
              "4  юниверсал пикчерз, кикстарт продакшнз, марк пл...                сша   \n",
              "\n",
              "            director                                           producer  \\\n",
              "0      кевин костнер          дэвид валдес, кевин костнер, джейк эбертс   \n",
              "1          е.матвеев                                                NaN   \n",
              "2  тимур бекмамбетов  джим лемли, джейсон нетер, марк е.платт, яйн смит   \n",
              "3  тимур бекмамбетов  джим лемли, джейсон нетер, марк е.платт, яйн смит   \n",
              "4  тимур бекмамбетов  джим лемли, джейсон нетер, марк е.платт, яйн смит   \n",
              "\n",
              "                 age_restriction  refundable_support  nonrefundable_support  \\\n",
              "0    «18+» - запрещено для детей                0.00                   0.00   \n",
              "1  «6+» - для детей старше 6 лет                0.00                   0.00   \n",
              "2    «18+» - запрещено для детей                0.00                   0.00   \n",
              "3    «18+» - запрещено для детей                0.00                   0.00   \n",
              "4    «18+» - запрещено для детей                0.00                   0.00   \n",
              "\n",
              "   budget financing_source  ratings                     genres  box_office  \n",
              "0    0.00              NaN     7.20     боевик,драма,мелодрама         NaN  \n",
              "1    0.00              NaN     6.60              драма,военный         NaN  \n",
              "2    0.00              NaN     6.80  фантастика,боевик,триллер         NaN  \n",
              "3    0.00              NaN     6.80  фантастика,боевик,триллер         NaN  \n",
              "4    0.00              NaN     6.80  фантастика,боевик,триллер         NaN  "
            ]
          },
          "execution_count": 23,
          "metadata": {},
          "output_type": "execute_result"
        }
      ],
      "source": [
        "# приводим все данные к нижнему регистру\n",
        "\n",
        "data = data.apply(lambda x: x.str.lower() if(x.dtype == 'object') else x)\n",
        "data.head()"
      ]
    },
    {
      "cell_type": "markdown",
      "metadata": {
        "id": "XFSN5lrEgFyR"
      },
      "source": [
        "#### Шаг 2.6. Проверка количественных значений"
      ]
    },
    {
      "cell_type": "code",
      "execution_count": null,
      "metadata": {
        "id": "YbzClBxagFyS",
        "outputId": "13c8ef54-31b1-4562-e570-96521dc23978"
      },
      "outputs": [
        {
          "data": {
            "text/html": [
              "<div>\n",
              "<style scoped>\n",
              "    .dataframe tbody tr th:only-of-type {\n",
              "        vertical-align: middle;\n",
              "    }\n",
              "\n",
              "    .dataframe tbody tr th {\n",
              "        vertical-align: top;\n",
              "    }\n",
              "\n",
              "    .dataframe thead th {\n",
              "        text-align: right;\n",
              "    }\n",
              "</style>\n",
              "<table border=\"1\" class=\"dataframe\">\n",
              "  <thead>\n",
              "    <tr style=\"text-align: right;\">\n",
              "      <th></th>\n",
              "      <th>pu_number</th>\n",
              "      <th>refundable_support</th>\n",
              "      <th>nonrefundable_support</th>\n",
              "      <th>budget</th>\n",
              "      <th>ratings</th>\n",
              "      <th>box_office</th>\n",
              "    </tr>\n",
              "  </thead>\n",
              "  <tbody>\n",
              "    <tr>\n",
              "      <th>count</th>\n",
              "      <td>7,458.00</td>\n",
              "      <td>7,458.00</td>\n",
              "      <td>7,458.00</td>\n",
              "      <td>7,458.00</td>\n",
              "      <td>6,482.00</td>\n",
              "      <td>3,155.00</td>\n",
              "    </tr>\n",
              "    <tr>\n",
              "      <th>mean</th>\n",
              "      <td>135,155,538.96</td>\n",
              "      <td>528,157.68</td>\n",
              "      <td>2,180,435.55</td>\n",
              "      <td>5,663,752.47</td>\n",
              "      <td>6.48</td>\n",
              "      <td>76,551,328.80</td>\n",
              "    </tr>\n",
              "    <tr>\n",
              "      <th>std</th>\n",
              "      <td>38,395,699.66</td>\n",
              "      <td>5,791,861.46</td>\n",
              "      <td>16,178,675.91</td>\n",
              "      <td>47,616,064.89</td>\n",
              "      <td>1.10</td>\n",
              "      <td>240,455,853.44</td>\n",
              "    </tr>\n",
              "    <tr>\n",
              "      <th>min</th>\n",
              "      <td>1,500,000.00</td>\n",
              "      <td>0.00</td>\n",
              "      <td>0.00</td>\n",
              "      <td>0.00</td>\n",
              "      <td>1.00</td>\n",
              "      <td>0.00</td>\n",
              "    </tr>\n",
              "    <tr>\n",
              "      <th>25%</th>\n",
              "      <td>113,000,113.00</td>\n",
              "      <td>0.00</td>\n",
              "      <td>0.00</td>\n",
              "      <td>0.00</td>\n",
              "      <td>5.90</td>\n",
              "      <td>87,090.50</td>\n",
              "    </tr>\n",
              "    <tr>\n",
              "      <th>50%</th>\n",
              "      <td>121,015,512.50</td>\n",
              "      <td>0.00</td>\n",
              "      <td>0.00</td>\n",
              "      <td>0.00</td>\n",
              "      <td>6.60</td>\n",
              "      <td>2,338,049.90</td>\n",
              "    </tr>\n",
              "    <tr>\n",
              "      <th>75%</th>\n",
              "      <td>124,003,217.75</td>\n",
              "      <td>0.00</td>\n",
              "      <td>0.00</td>\n",
              "      <td>0.00</td>\n",
              "      <td>7.20</td>\n",
              "      <td>23,995,460.84</td>\n",
              "    </tr>\n",
              "    <tr>\n",
              "      <th>max</th>\n",
              "      <td>231,001,111.00</td>\n",
              "      <td>180,000,000.00</td>\n",
              "      <td>400,000,000.00</td>\n",
              "      <td>2,305,074,303.00</td>\n",
              "      <td>9.20</td>\n",
              "      <td>3,073,568,690.79</td>\n",
              "    </tr>\n",
              "  </tbody>\n",
              "</table>\n",
              "</div>"
            ],
            "text/plain": [
              "           pu_number  refundable_support  nonrefundable_support  \\\n",
              "count       7,458.00            7,458.00               7,458.00   \n",
              "mean  135,155,538.96          528,157.68           2,180,435.55   \n",
              "std    38,395,699.66        5,791,861.46          16,178,675.91   \n",
              "min     1,500,000.00                0.00                   0.00   \n",
              "25%   113,000,113.00                0.00                   0.00   \n",
              "50%   121,015,512.50                0.00                   0.00   \n",
              "75%   124,003,217.75                0.00                   0.00   \n",
              "max   231,001,111.00      180,000,000.00         400,000,000.00   \n",
              "\n",
              "                budget  ratings       box_office  \n",
              "count         7,458.00 6,482.00         3,155.00  \n",
              "mean      5,663,752.47     6.48    76,551,328.80  \n",
              "std      47,616,064.89     1.10   240,455,853.44  \n",
              "min               0.00     1.00             0.00  \n",
              "25%               0.00     5.90        87,090.50  \n",
              "50%               0.00     6.60     2,338,049.90  \n",
              "75%               0.00     7.20    23,995,460.84  \n",
              "max   2,305,074,303.00     9.20 3,073,568,690.79  "
            ]
          },
          "execution_count": 24,
          "metadata": {},
          "output_type": "execute_result"
        }
      ],
      "source": [
        "# смотрим информацию по количественным данным\n",
        "\n",
        "data.describe()"
      ]
    },
    {
      "cell_type": "code",
      "execution_count": null,
      "metadata": {
        "id": "uiW4Gh7Sm28-",
        "outputId": "ac60c891-068e-4123-c892-716120de0937"
      },
      "outputs": [
        {
          "name": "stdout",
          "output_type": "stream",
          "text": [
            "200\n",
            "17\n"
          ]
        }
      ],
      "source": [
        "print(data[(data['refundable_support'] + data['nonrefundable_support']) > data['box_office']].shape[0])\n",
        "print(data[(data['refundable_support'] + data['nonrefundable_support']) > data['budget']].shape[0])"
      ]
    },
    {
      "cell_type": "code",
      "execution_count": null,
      "metadata": {
        "id": "9yb65yErm28_",
        "outputId": "211eb091-ba98-442d-d8b4-40101a75a423"
      },
      "outputs": [
        {
          "data": {
            "text/plain": [
              "16"
            ]
          },
          "execution_count": 26,
          "metadata": {},
          "output_type": "execute_result"
        }
      ],
      "source": [
        "# ищем аномалии\n",
        "\n",
        "data[(data['nonrefundable_support'] != 0) & (data['budget'] == 0)]['pu_number'].count()"
      ]
    },
    {
      "cell_type": "code",
      "execution_count": null,
      "metadata": {
        "id": "m4pdwYONm28_",
        "outputId": "24efd6d8-d4f0-4383-fc7c-b6a2dd5cdf6a"
      },
      "outputs": [
        {
          "data": {
            "text/plain": [
              "0"
            ]
          },
          "execution_count": 27,
          "metadata": {},
          "output_type": "execute_result"
        }
      ],
      "source": [
        "# удаляем аномалии и проверяем результат\n",
        "\n",
        "index = data[(data['nonrefundable_support'] != 0) & (data['budget'] == 0)].index\n",
        "data.drop(index, inplace=True)\n",
        "\n",
        "data[(data['nonrefundable_support'] != 0) & (data['budget'] == 0)]['pu_number'].count()"
      ]
    },
    {
      "cell_type": "markdown",
      "metadata": {
        "id": "Eu6oWp2CgFyS"
      },
      "source": [
        "#### Шаг 2.7. Добавление новых столбцов\n",
        "\n",
        "\n",
        "\n"
      ]
    },
    {
      "cell_type": "code",
      "execution_count": null,
      "metadata": {
        "id": "I-yd1DkWgFyT"
      },
      "outputs": [],
      "source": [
        "# создаём столбец с годом выхода фильма\n",
        "\n",
        "data['year_release'] = pd.DatetimeIndex(data['show_start_date']).year"
      ]
    },
    {
      "cell_type": "code",
      "execution_count": null,
      "metadata": {
        "id": "LSbRZKbMgFyU"
      },
      "outputs": [],
      "source": [
        "# создаём функции для извлечения 1 элемента из столбцов\n",
        "\n",
        "def first_word(value):\n",
        "    x = value['director'].split(',')\n",
        "    return x[0]\n",
        "\n",
        "data['first_director'] = data.apply(first_word, axis=1)\n",
        "\n",
        "data['genres'] = data['genres'].astype(str)\n",
        "def word_first(values):\n",
        "    y = values['genres'].split(',')\n",
        "    return y[0]\n",
        "\n",
        "data['main_genre'] = data.apply(word_first, axis=1)\n",
        "\n",
        "# не понимаю, почему в колонке с жанрами есть тип флоат\n",
        "# как здесь можно было сделать легче?"
      ]
    },
    {
      "cell_type": "code",
      "execution_count": null,
      "metadata": {
        "id": "yzmYhykom29B",
        "outputId": "979c08f6-d3bb-429e-b64e-cd27199a2a50"
      },
      "outputs": [
        {
          "data": {
            "text/plain": [
              "array(['боевик,драма,мелодрама', 'драма,военный',\n",
              "       'фантастика,боевик,триллер', 'драма', 'мелодрама,комедия',\n",
              "       'мюзикл,мелодрама,комедия', 'комедия,криминал',\n",
              "       'боевик,триллер,детектив', 'боевик,драма,приключения',\n",
              "       'драма,спорт', 'триллер,драма,мелодрама', 'комедия,мелодрама',\n",
              "       'драма,мелодрама,комедия', 'драма,мелодрама', 'драма,история',\n",
              "       'драма,мелодрама,семейный', 'комедия,мелодрама,криминал',\n",
              "       'комедия', 'боевик,драма,криминал', 'драма,комедия',\n",
              "       'ужасы,фантастика,комедия', 'мультфильм,короткометражка,мелодрама',\n",
              "       'драма,криминал', 'мультфильм,фантастика,фэнтези',\n",
              "       'триллер,драма,криминал', 'драма,мелодрама,биография',\n",
              "       'драма,комедия,военный', 'фантастика,драма,детектив',\n",
              "       'мюзикл,семейный', 'nan', 'военный,приключения,драма',\n",
              "       'документальный,драма', 'драма,биография,история',\n",
              "       'боевик,триллер,драма', 'фэнтези,боевик',\n",
              "       'боевик,комедия,криминал', 'мюзикл,комедия,детский',\n",
              "       'комедия,мелодрама,драма', 'мультфильм,фэнтези,комедия',\n",
              "       'комедия,история', 'мелодрама', 'драма,биография,музыка',\n",
              "       'фэнтези,драма,мелодрама', 'триллер,военный',\n",
              "       'драма,мелодрама,военный', 'мюзикл,драма,мелодрама',\n",
              "       'мюзикл,комедия', 'мультфильм,приключения,семейный',\n",
              "       'ужасы,триллер', 'боевик,драма,военный', 'драма,боевик',\n",
              "       'мультфильм,драма,комедия', 'триллер,криминал',\n",
              "       'военный,биография,драма', 'комедия,семейный', 'военный',\n",
              "       'драма,семейный,биография', 'фэнтези,приключения,семейный',\n",
              "       'драма,криминал,биография', 'ужасы,триллер,детектив',\n",
              "       'боевик,история,драма', 'ужасы,триллер,драма',\n",
              "       'драма,криминал,спорт', 'документальный,короткометражка',\n",
              "       'триллер,драма', 'криминал,детектив,приключения',\n",
              "       'драма,комедия,криминал', 'драма,комедия,вестерн',\n",
              "       'драма,мелодрама,детектив', 'мелодрама,биография',\n",
              "       'фэнтези,мелодрама,драма', 'драма,мелодрама,история',\n",
              "       'комедия,приключения,история', 'приключения', 'драма,семейный',\n",
              "       'криминал,детектив', 'мультфильм,короткометражка,ужасы',\n",
              "       'фантастика,триллер,драма', 'фэнтези,мелодрама,комедия',\n",
              "       'драма,биография', 'комедия,криминал,история',\n",
              "       'триллер,драма,детектив', 'фантастика,комедия,приключения',\n",
              "       'фэнтези,семейный', 'ужасы,фантастика,боевик',\n",
              "       'мелодрама,криминал', 'комедия,приключения,мелодрама',\n",
              "       'боевик,триллер,приключения', 'боевик,приключения',\n",
              "       'боевик,триллер,криминал', 'документальный,военный,история',\n",
              "       'драма,музыка', 'боевик,драма', 'приключения,боевик',\n",
              "       'драма,военный,биография', 'триллер,драма,приключения',\n",
              "       'аниме,мультфильм,фэнтези', 'триллер,детектив,драма',\n",
              "       'боевик,триллер,мелодрама', 'боевик,история',\n",
              "       'приключения,история', 'драма,комедия,приключения',\n",
              "       'фэнтези,комедия,приключения', 'драма,вестерн',\n",
              "       'документальный,музыка', 'мелодрама,драма',\n",
              "       'триллер,криминал,детектив', 'ужасы', 'боевик,комедия,приключения',\n",
              "       'мультфильм,фэнтези,боевик', 'боевик,фэнтези,драма',\n",
              "       'фэнтези,драма', 'фэнтези,боевик,комедия',\n",
              "       'приключения,детский,комедия', 'документальный',\n",
              "       'боевик,триллер,комедия', 'мелодрама,комедия,криминал',\n",
              "       'драма,детектив', 'мюзикл,ужасы,триллер', 'детектив,триллер,ужасы',\n",
              "       'ужасы,фэнтези', 'ужасы,фэнтези,триллер', 'мультфильм,драма',\n",
              "       'ужасы,боевик,фантастика', 'боевик', 'фантастика,боевик',\n",
              "       'мелодрама,комедия,приключения', 'триллер,детектив',\n",
              "       'мюзикл,мелодрама,фэнтези', 'криминал', 'триллер,комедия,криминал',\n",
              "       'боевик,приключения,триллер', 'триллер,драма,военный',\n",
              "       'комедия,семейный,музыка', 'комедия,фантастика,мелодрама',\n",
              "       'фантастика,триллер,криминал', 'комедия,драма', 'боевик,военный',\n",
              "       'ужасы,фантастика,триллер', 'фантастика,драма,мелодрама',\n",
              "       'фэнтези,драма,детектив', 'боевик,триллер', 'боевик,драма,история',\n",
              "       'мультфильм,мюзикл,фэнтези', 'для взрослых,драма,мелодрама',\n",
              "       'мультфильм,боевик,детектив', 'фантастика,мелодрама,боевик',\n",
              "       'ужасы,фантастика,детектив', 'фантастика,боевик,приключения',\n",
              "       'мелодрама,комедия,спорт', 'комедия,боевик,приключения',\n",
              "       'документальный,приключения', 'мультфильм,короткометражка,детский',\n",
              "       'комедия,приключения', 'ужасы,драма', 'ужасы,фэнтези,боевик',\n",
              "       'мультфильм,фэнтези,детский', 'мюзикл,боевик,драма',\n",
              "       'семейный,комедия,драма', 'концерт,музыка', 'фэнтези,боевик,драма',\n",
              "       'драма,комедия,музыка', 'фантастика,фэнтези,боевик',\n",
              "       'фэнтези,комедия,семейный', 'фэнтези,драма,комедия',\n",
              "       'мультфильм,мюзикл,драма', 'триллер', 'боевик,криминал,триллер',\n",
              "       'мультфильм,приключения,драма', 'мелодрама,музыка',\n",
              "       'документальный,музыка,концерт', 'мультфильм,семейный',\n",
              "       'мультфильм,комедия,приключения', 'мультфильм,комедия,семейный',\n",
              "       'фантастика,драма', 'фэнтези,боевик,приключения',\n",
              "       'мультфильм,приключения', 'драма,военный,история', 'история',\n",
              "       'драма,приключения,военный',\n",
              "       'документальный,короткометражка,семейный',\n",
              "       'мелодрама,история,триллер', 'ужасы,детектив',\n",
              "       'мюзикл,комедия,приключения', 'драма,спорт,биография',\n",
              "       'фантастика,боевик,комедия', 'фантастика,приключения,детектив',\n",
              "       'короткометражка,драма,военный', 'драма,мультфильм',\n",
              "       'приключения,семейный', 'детектив', 'триллер,приключения',\n",
              "       'аниме,мультфильм,боевик', 'драма,комедия,биография',\n",
              "       'драма,комедия,спорт', 'боевик,мелодрама,комедия',\n",
              "       'семейный,комедия', 'фэнтези,боевик,триллер',\n",
              "       'документальный,фэнтези,семейный', 'фантастика,фэнтези,драма',\n",
              "       'ужасы,комедия,фэнтези', 'документальный,биография,музыка',\n",
              "       'фантастика,боевик,фэнтези', 'ужасы,боевик,триллер',\n",
              "       'комедия,криминал,семейный', 'приключения,драма',\n",
              "       'криминал,драма,триллер', 'драма,детектив,криминал',\n",
              "       'фэнтези,приключения,комедия', 'комедия,спорт',\n",
              "       'мюзикл,фэнтези,мелодрама', 'мультфильм,фэнтези,приключения',\n",
              "       'фантастика,фэнтези,приключения', 'фэнтези',\n",
              "       'фэнтези,приключения,боевик', 'фантастика,боевик,драма',\n",
              "       'криминал,драма', 'криминал,триллер,драма',\n",
              "       'драма,мелодрама,приключения', 'детский,комедия',\n",
              "       'фантастика,драма,боевик', 'мультфильм,семейный,фэнтези',\n",
              "       'концерт,музыка,документальный', 'ужасы,комедия,приключения',\n",
              "       'драма,мелодрама,криминал', 'ужасы,фантастика,фэнтези',\n",
              "       'боевик,комедия', 'мультфильм,фантастика,комедия', 'триллер,ужасы',\n",
              "       'мультфильм,мюзикл,комедия', 'мелодрама,фэнтези,триллер',\n",
              "       'детский,приключения,комедия', 'комедия,детектив',\n",
              "       'аниме,мультфильм,мелодрама', 'документальный,драма,семейный',\n",
              "       'документальный,биография,история', 'военный,боевик,драма',\n",
              "       'ужасы,комедия', 'комедия,приключения,семейный',\n",
              "       'приключения,биография,история', 'детский,приключения,семейный',\n",
              "       'спорт,драма,биография', 'аниме,мультфильм,ужасы',\n",
              "       'фантастика,боевик,криминал', 'мюзикл,драма',\n",
              "       'драма,криминал,детектив', 'аниме,мультфильм,драма',\n",
              "       'драма,триллер,приключения', 'триллер,криминал,драма',\n",
              "       'фэнтези,комедия,драма', 'мультфильм,комедия',\n",
              "       'драма,комедия,история', 'комедия,биография,история',\n",
              "       'мультфильм,фантастика,приключения', 'аниме,мультфильм,фантастика',\n",
              "       'мультфильм,фэнтези,семейный', 'мультфильм,боевик,комедия',\n",
              "       'комедия,криминал,спорт', 'документальный,мюзикл',\n",
              "       'мелодрама,комедия,музыка', 'биография',\n",
              "       'триллер,криминал,комедия', 'фантастика,драма,комедия',\n",
              "       'комедия,драма,мелодрама', 'фантастика,приключения,боевик',\n",
              "       'мультфильм,фэнтези,драма', 'триллер,комедия',\n",
              "       'драма,приключения,биография', 'фантастика,комедия',\n",
              "       'мелодрама,драма,комедия', 'боевик,криминал',\n",
              "       'драма,криминал,боевик', 'мультфильм,мюзикл,детский',\n",
              "       'драма,фэнтези', 'документальный,семейный',\n",
              "       'фэнтези,драма,приключения', 'ужасы,комедия,фантастика',\n",
              "       'драма,мелодрама,музыка', 'фэнтези,драма,семейный',\n",
              "       'триллер,мелодрама,драма', 'вестерн,боевик,драма',\n",
              "       'мультфильм,короткометражка,комедия', 'триллер,драма,история',\n",
              "       'ужасы,фантастика', 'ужасы,мелодрама,комедия',\n",
              "       'фэнтези,приключения', 'фантастика,триллер',\n",
              "       'ужасы,боевик,фэнтези', 'мультфильм,комедия,детский',\n",
              "       'триллер,драма,биография', 'мультфильм,ужасы,фэнтези',\n",
              "       'мультфильм,ужасы,фантастика', 'ужасы,боевик,комедия',\n",
              "       'драма,биография,спорт', 'мультфильм', 'мелодрама,комедия,драма',\n",
              "       'приключения,фантастика,семейный', 'комедия,криминал,детектив',\n",
              "       'ужасы,триллер,комедия', 'криминал,комедия,триллер',\n",
              "       'семейный,приключения,комедия', 'мультфильм,драма,приключения',\n",
              "       'ужасы,драма,детектив', 'драма,приключения,фэнтези',\n",
              "       'фантастика,мультфильм,драма', 'драма,триллер,детектив',\n",
              "       'драма,история,музыка', 'детский', 'триллер,боевик,криминал',\n",
              "       'драма,фантастика', 'комедия,драма,семейный',\n",
              "       'боевик,драма,комедия', 'комедия,ужасы',\n",
              "       'драма,фантастика,триллер', 'фантастика,драма,триллер',\n",
              "       'история,спорт,драма', 'документальный,биография',\n",
              "       'биография,история', 'спорт,драма', 'боевик,фэнтези',\n",
              "       'мультфильм,фэнтези', 'документальный,комедия,история',\n",
              "       'криминал,комедия,боевик', 'фэнтези,приключения,драма',\n",
              "       'музыка,концерт', 'триллер,драма,боевик',\n",
              "       'комедия,криминал,боевик', 'комедия,фантастика,боевик',\n",
              "       'вестерн,приключения,боевик', 'аниме,мультфильм,комедия',\n",
              "       'детектив,криминал,триллер', 'мультфильм,комедия,криминал',\n",
              "       'комедия,приключения,детектив', 'мелодрама,фантастика,драма',\n",
              "       'драма,комедия,семейный', 'приключения,фантастика',\n",
              "       'триллер,детектив,ужасы', 'комедия,приключения,фэнтези',\n",
              "       'фэнтези,триллер,драма', 'мелодрама,приключения,боевик',\n",
              "       'детектив,триллер,криминал', 'фэнтези,семейный,мелодрама',\n",
              "       'военный,драма', 'документальный,приключения,семейный',\n",
              "       'криминал,комедия,драма', 'комедия,фантастика',\n",
              "       'история,биография,драма', 'мелодрама,драма,музыка',\n",
              "       'боевик,мелодрама', 'комедия,криминал,триллер',\n",
              "       'детектив,триллер,боевик', 'комедия,боевик,криминал',\n",
              "       'комедия,вестерн', 'детский,мелодрама,семейный',\n",
              "       'короткометражка,мультфильм', 'комедия,фэнтези',\n",
              "       'фантастика,драма,ужасы', 'триллер,драма,ужасы',\n",
              "       'драма,фэнтези,история', 'комедия,драма,короткометражка',\n",
              "       'фэнтези,триллер,приключения', 'семейный',\n",
              "       'комедия,криминал,драма', 'комедия,фэнтези,ужасы',\n",
              "       'короткометражка,комедия,криминал', 'фантастика',\n",
              "       'триллер,ужасы,драма', 'мелодрама,драма,фэнтези',\n",
              "       'фантастика,приключения,драма', 'боевик,детектив',\n",
              "       'военный,драма,боевик', 'комедия,мелодрама,фэнтези',\n",
              "       'вестерн,криминал,триллер', 'драма,история,триллер',\n",
              "       'мультфильм,фантастика,боевик', 'детектив,драма,криминал',\n",
              "       'приключения,история,драма', 'мультфильм,семейный,детский',\n",
              "       'биография,драма,история', 'триллер,криминал,боевик',\n",
              "       'история,мелодрама', 'приключения,детский',\n",
              "       'музыка,приключения,концерт', 'военный,драма,комедия',\n",
              "       'фэнтези,боевик,военный', 'фантастика,детектив,боевик',\n",
              "       'мультфильм,фэнтези,история', 'биография,мелодрама,драма',\n",
              "       'документальный,биография,спорт', 'фантастика,комедия,детектив',\n",
              "       'музыка,концерт,документальный', 'триллер,боевик,приключения',\n",
              "       'триллер,драма,комедия', 'детектив,криминал',\n",
              "       'мультфильм,приключения,фэнтези', 'мелодрама,приключения',\n",
              "       'комедия,музыка', 'мелодрама,комедия,ужасы',\n",
              "       'драма,криминал,приключения', 'приключения,детектив,мелодрама',\n",
              "       'драма,криминал,фантастика', 'фэнтези,драма,биография',\n",
              "       'детектив,фантастика,криминал', 'триллер,драма,фантастика',\n",
              "       'ужасы,комедия,боевик', 'мелодрама,история', 'триллер,боевик',\n",
              "       'фильм-нуар,триллер,детектив', 'комедия,криминал,приключения',\n",
              "       'ужасы,триллер,мелодрама', 'военный,драма,история',\n",
              "       'драма,спорт,история', 'документальный,драма,история',\n",
              "       'триллер,мелодрама,детектив', 'детский,семейный',\n",
              "       'мюзикл,семейный,драма', 'биография,военный,драма',\n",
              "       'мультфильм,детский', 'боевик,криминал,драма',\n",
              "       'детектив,фэнтези,триллер', 'драма,боевик,приключения',\n",
              "       'драма,мелодрама,фэнтези', 'детектив,история,драма',\n",
              "       'фэнтези,боевик,ужасы', 'ужасы,фэнтези,мелодрама',\n",
              "       'ужасы,приключения', 'боевик,фантастика',\n",
              "       'ужасы,мелодрама,детектив', 'фантастика,триллер,приключения',\n",
              "       'боевик,приключения,история', 'приключения,боевик,триллер',\n",
              "       'детектив,ужасы,криминал', 'семейный,фэнтези', 'мюзикл,мелодрама',\n",
              "       'драма,военный,приключения', 'фантастика,драма,приключения',\n",
              "       'приключения,семейный,драма', 'история,драма,боевик',\n",
              "       'мультфильм,приключения,комедия', 'криминал,драма,комедия',\n",
              "       'ужасы,комедия,драма', 'комедия,семейный,приключения',\n",
              "       'мюзикл,фэнтези,драма', 'драма,вестерн,боевик',\n",
              "       'фантастика,триллер,детектив', 'драма,история,детектив',\n",
              "       'короткометражка,биография', 'мультфильм,приключения,фантастика',\n",
              "       'комедия,триллер', 'мультфильм,приключения,детектив',\n",
              "       'драма,триллер', 'ужасы,триллер,криминал',\n",
              "       'документальный,криминал,военный', 'ужасы,фэнтези,драма',\n",
              "       'фэнтези,комедия', 'ужасы,фэнтези,комедия', 'комедия,музыка,драма',\n",
              "       'мультфильм,приключения,военный', 'мюзикл,фэнтези,комедия',\n",
              "       'боевик,фантастика,приключения', 'триллер,ужасы,криминал',\n",
              "       'ужасы,фантастика,драма', 'фантастика,приключения,семейный',\n",
              "       'короткометражка,музыка', 'мелодрама,детектив,комедия',\n",
              "       'документальный,триллер,биография', 'боевик,фантастика,триллер',\n",
              "       'спорт,драма,комедия', 'фэнтези,мелодрама,приключения',\n",
              "       'триллер,детектив,криминал', 'короткометражка,мелодрама',\n",
              "       'мультфильм,семейный,спорт', 'комедия,фэнтези,мелодрама',\n",
              "       'драма,спорт,комедия', 'история,драма,мелодрама',\n",
              "       'драма,боевик,криминал', 'драма,комедия,триллер',\n",
              "       'аниме,мультфильм', 'документальный,ужасы',\n",
              "       'мультфильм,короткометражка', 'драма,история,военный',\n",
              "       'мультфильм,короткометражка,фэнтези', 'комедия,военный,музыка',\n",
              "       'биография,история,драма', 'ужасы,драма,мелодрама',\n",
              "       'драма,комедия,детектив', 'комедия,семейный,фантастика',\n",
              "       'мультфильм,семейный,комедия', 'история,детектив',\n",
              "       'приключения,мелодрама,детектив', 'мюзикл,комедия,мелодрама',\n",
              "       'драма,фантастика,ужасы', 'мультфильм,ужасы,комедия',\n",
              "       'для взрослых,драма,комедия', 'ужасы,комедия,музыка',\n",
              "       'комедия,история,драма', 'семейный,детектив,детский',\n",
              "       'короткометражка,драма', 'документальный,новости,драма',\n",
              "       'триллер,мелодрама', 'ужасы,драма,вестерн',\n",
              "       'мюзикл,фэнтези,семейный', 'вестерн,драма,триллер',\n",
              "       'приключения,вестерн,боевик', 'семейный,комедия,музыка',\n",
              "       'боевик,драма,вестерн', 'ужасы,драма,триллер',\n",
              "       'фантастика,мелодрама', 'комедия,криминал,биография',\n",
              "       'семейный,мультфильм,комедия', 'комедия,драма,криминал',\n",
              "       'фантастика,боевик,военный', 'приключения,биография,драма',\n",
              "       'приключения,триллер,биография', 'криминал,боевик,триллер',\n",
              "       'боевик,вестерн,приключения', 'история,драма',\n",
              "       'фантастика,фэнтези,комедия', 'мультфильм,детский,комедия',\n",
              "       'мелодрама,комедия,триллер', 'документальный,боевик,приключения',\n",
              "       'драма,приключения', 'мелодрама,военный,драма', 'триллер,фэнтези',\n",
              "       'драма,триллер,биография', 'фэнтези,боевик,семейный',\n",
              "       'фантастика,триллер,комедия', 'документальный,фэнтези',\n",
              "       'комедия,мультфильм,фантастика', 'криминал,биография,комедия',\n",
              "       'биография,спорт,драма', 'приключения,военный',\n",
              "       'мультфильм,семейный,драма', 'документальный,фэнтези,драма',\n",
              "       'комедия,боевик,фантастика', 'семейный,приключения,военный',\n",
              "       'триллер,ужасы,детектив', 'короткометражка',\n",
              "       'мелодрама,триллер,история', 'документальный,история',\n",
              "       'мультфильм,приключения,детский', 'драма,комедия,мультфильм',\n",
              "       'военный,детектив', 'семейный,приключения,документальный',\n",
              "       'детский,фэнтези', 'документальный,комедия', 'комедия,биография',\n",
              "       'криминал,комедия', 'спорт,мелодрама,криминал',\n",
              "       'фантастика,комедия,боевик', 'боевик,приключения,детектив',\n",
              "       'детектив,триллер,драма', 'документальный,фантастика',\n",
              "       'мелодрама,комедия,семейный', 'мультфильм,мелодрама,комедия',\n",
              "       'драма,спорт,семейный', 'фантастика,мелодрама,фэнтези',\n",
              "       'мюзикл,комедия,музыка', 'фантастика,триллер,мелодрама',\n",
              "       'приключения,комедия,фэнтези', 'фэнтези,боевик,детектив',\n",
              "       'фэнтези,боевик,мелодрама', 'комедия,военный',\n",
              "       'драма,спорт,боевик', 'мультфильм,боевик,триллер',\n",
              "       'мелодрама,семейный', 'фантастика,боевик,детектив',\n",
              "       'драма,приключения,история', 'документальный,драма,музыка',\n",
              "       'фантастика,триллер,боевик', 'фэнтези,боевик,вестерн',\n",
              "       'драма,комедия,мелодрама', 'ужасы,фэнтези,приключения',\n",
              "       'триллер,фэнтези,драма', 'мультфильм,мюзикл,мелодрама',\n",
              "       'ужасы,триллер,фантастика', 'триллер,мелодрама,комедия',\n",
              "       'ужасы,комедия,семейный', 'комедия,приключения,музыка',\n",
              "       'документальный,комедия,криминал', 'мелодрама,детектив',\n",
              "       'детский,приключения,фантастика', 'короткометражка,боевик,драма',\n",
              "       'боевик,комедия,семейный', 'фантастика,боевик,мелодрама',\n",
              "       'фэнтези,триллер,мелодрама', 'драма,детектив,история',\n",
              "       'боевик,криминал,детектив', 'мультфильм,фэнтези,мелодрама',\n",
              "       'мелодрама,драма,боевик', 'драма,вестерн,приключения',\n",
              "       'драма,приключения,мелодрама', 'фэнтези,боевик,криминал',\n",
              "       'фантастика,комедия,семейный', 'детский,фэнтези,приключения',\n",
              "       'ужасы,боевик', 'фантастика,мелодрама,комедия',\n",
              "       'семейный,спорт,боевик', 'триллер,биография,драма',\n",
              "       'ужасы,драма,комедия', 'мультфильм,фэнтези,триллер', 'мюзикл',\n",
              "       'боевик,спорт,драма', 'комедия,приключения,вестерн',\n",
              "       'документальный,ужасы,боевик', 'фантастика,боевик,семейный',\n",
              "       'военный,история', 'ужасы,боевик,криминал', 'детектив,триллер',\n",
              "       'драма,семейный,комедия', 'драма,детектив,приключения',\n",
              "       'драма,криминал,история', 'приключения,триллер',\n",
              "       'боевик,драма,биография', 'драма,приключения,триллер',\n",
              "       'комедия,фэнтези,приключения', 'фантастика,боевик,ужасы',\n",
              "       'драма,комедия,фантастика', 'детектив,криминал,драма',\n",
              "       'боевик,триллер,фэнтези', 'приключения,детектив,семейный',\n",
              "       'ужасы,комедия,криминал', 'мультфильм,биография,драма',\n",
              "       'история,боевик,фэнтези', 'детектив,криминал,боевик',\n",
              "       'приключения,фэнтези', 'комедия,приключения,спорт',\n",
              "       'драма,биография,мюзикл', 'комедия,семейный,фэнтези',\n",
              "       'детектив,драма,триллер', 'боевик,приключения,семейный',\n",
              "       'биография,спорт,комедия', 'фантастика,приключения,военный',\n",
              "       'документальный,драма,биография', 'детектив,приключения,драма',\n",
              "       'аниме,мультфильм,приключения', 'семейный,приключения',\n",
              "       'ужасы,фэнтези,детектив', 'семейный,документальный',\n",
              "       'драма,приключения,семейный', 'приключения,история,военный',\n",
              "       'фэнтези,мелодрама', 'фэнтези,триллер,детектив',\n",
              "       'документальный,спорт,биография', 'комедия,триллер,драма',\n",
              "       'драма,ужасы', 'биография,музыка,драма', 'фэнтези,ужасы',\n",
              "       'детектив,мелодрама,фэнтези', 'боевик,военный,история',\n",
              "       'биография,драма,криминал', 'триллер,мелодрама,криминал',\n",
              "       'семейный,мелодрама', 'биография,драма', 'военный,история,драма',\n",
              "       'фантастика,детектив,фэнтези', 'детектив,приключения,триллер',\n",
              "       'фантастика,приключения', 'мультфильм,короткометражка,мюзикл',\n",
              "       'мультфильм,детский,семейный', 'документальный,драма,комедия',\n",
              "       'комедия,приключения,криминал', 'документальный,семейный,музыка',\n",
              "       'мелодрама,музыка,драма', 'детектив,фантастика,триллер',\n",
              "       'драма,мелодрама,триллер', 'биография,драма,военный',\n",
              "       'приключения,фантастика,драма', 'детектив,фильм-нуар,комедия',\n",
              "       'документальный,спорт', 'триллер,фантастика,драма',\n",
              "       'биография,документальный', 'ужасы,фантастика,мелодрама',\n",
              "       'детектив,комедия', 'история,биография,военный',\n",
              "       'криминал,мелодрама', 'драма,криминал,вестерн',\n",
              "       'мелодрама,семейный,приключения', 'триллер,ужасы,мелодрама',\n",
              "       'фэнтези,драма,фильм-нуар', 'детектив,мелодрама',\n",
              "       'комедия,драма,биография', 'драма,военный,боевик',\n",
              "       'драма,комедия,ужасы', 'фантастика,драма,криминал',\n",
              "       'документальный,музыка,биография', 'мультфильм,боевик,приключения',\n",
              "       'мультфильм,мелодрама,драма', 'боевик,военный,драма',\n",
              "       'фэнтези,семейный,приключения', 'детский,мультфильм,приключения',\n",
              "       'семейный,фэнтези,комедия', 'фэнтези,ужасы,триллер',\n",
              "       'ужасы,триллер,приключения', 'драма,боевик,история',\n",
              "       'фэнтези,комедия,детектив', 'история,приключения',\n",
              "       'аниме,мультфильм,короткометражка', 'драма,военный,триллер',\n",
              "       'биография,криминал,триллер', 'фантастика,фэнтези,детектив',\n",
              "       'вестерн,биография,драма', 'биография,музыка,мюзикл',\n",
              "       'драма,история,биография', 'приключения,драма,фантастика',\n",
              "       'комедия,фэнтези,криминал', 'биография,спорт,история',\n",
              "       'драма,криминал,семейный', 'детектив,боевик,история',\n",
              "       'ужасы,комедия,детектив', 'триллер,приключения,драма',\n",
              "       'фэнтези,комедия,криминал', 'триллер,криминал,приключения',\n",
              "       'комедия,детектив,приключения', 'фэнтези,драма,ужасы',\n",
              "       'ужасы,драма,военный', 'реальное тв', 'аниме,мультфильм,детектив',\n",
              "       'приключения,фэнтези,семейный', 'драма,биография,комедия',\n",
              "       'триллер,комедия,ужасы', 'музыка,мелодрама,фэнтези',\n",
              "       'мультфильм,история', 'мультфильм,комедия,фантастика',\n",
              "       'биография,криминал,драма', 'комедия,мелодрама,фантастика',\n",
              "       'криминал,боевик,комедия', 'история,криминал',\n",
              "       'детектив,комедия,драма', 'триллер,фантастика,боевик',\n",
              "       'криминал,боевик', 'комедия,драма,военный',\n",
              "       'драма,триллер,криминал', 'мультфильм,мелодрама,приключения',\n",
              "       'фантастика,фэнтези,триллер', 'короткометражка,драма,триллер',\n",
              "       'военный,боевик,история', 'боевик,драма,триллер',\n",
              "       'документальный,военный,драма', 'драма,криминал,фильм-нуар',\n",
              "       'мультфильм,детский,приключения', 'мелодрама,история,драма'],\n",
              "      dtype=object)"
            ]
          },
          "execution_count": 30,
          "metadata": {},
          "output_type": "execute_result"
        }
      ],
      "source": [
        "# Комментарий ревьюера\n",
        "data.genres.unique()"
      ]
    },
    {
      "cell_type": "code",
      "execution_count": null,
      "metadata": {
        "id": "LV6qFuZLgFyV"
      },
      "outputs": [],
      "source": [
        "# считаем долю государственной поддержки от общего бюджета фильмов\n",
        "\n",
        "data['share_in_budget'] = (data['refundable_support'] + data['nonrefundable_support']) / data['budget']\n",
        "\n",
        "# data.style.format({('share_in_budget') : '{:.2%}'})\n",
        "# как в данном случае привести данные в проценты?"
      ]
    },
    {
      "cell_type": "markdown",
      "metadata": {
        "id": "ucDl0it1m29C"
      },
      "source": [
        "**Вывод**\n",
        "\n",
        "- 1 столбец был приведён к общему виду\n",
        "- Колонки со временем и рейтингом привели к верному типу\n",
        "- Посчитали и заполнили пропуски. Пропуски в колонках с государственной поддержкой сигнализирует о том, что государство не спонсировало данные фильмы, поэтому их заменили на 0 либо забыли указать данную информацию. Где было маленькое количество пропусков (менее 1%), эти строки удалили.\n",
        "- Явных дубликатов в датафрейме не было. Среди неявных было 2 дубликата, но они отличались по многим значениям из колонок, поэтому это скорее всего ошибка системы или человеческий фактор из-за которого у фильмов были одинаковые номера.\n",
        "- Привели все уникальные названия в колонке типа фильма к правильному виду. А также все значения датафрейма к нижнему регистру.\n",
        "- Проверили количественные значения. Удалил аномалии, в которых гос поддержка была больше нуля, а бюджет был нулевой. Причиной мог послужить сбой в системе или просто забыли указать информацию о бюджете.\n",
        "- Добавили столбцы с годом выхода фильма, основным режиссёром, основным жанром и долю гос. поддержки от общего бюджета"
      ]
    },
    {
      "cell_type": "markdown",
      "metadata": {
        "id": "6t4EukPLgFyV"
      },
      "source": [
        "### Шаг 3. Анализ данных"
      ]
    },
    {
      "cell_type": "code",
      "execution_count": null,
      "metadata": {
        "id": "ABeV47y7gFyW",
        "outputId": "f53b3bc9-def6-411c-d3be-82863d50977e"
      },
      "outputs": [
        {
          "name": "stdout",
          "output_type": "stream",
          "text": [
            "              quantity\n",
            "year_release          \n",
            "2010               980\n",
            "2011               620\n",
            "2012               592\n",
            "2013               629\n",
            "2014               804\n",
            "2015               700\n",
            "2016               814\n",
            "2017               503\n",
            "2018               875\n",
            "2019               925\n"
          ]
        },
        {
          "data": {
            "image/png": "[encoded data removed]",
            "text/plain": [
              "<Figure size 576x360 with 1 Axes>"
            ]
          },
          "metadata": {
            "needs_background": "light"
          },
          "output_type": "display_data"
        }
      ],
      "source": [
        "# считаем общее количество фильмов за каждый год\n",
        "\n",
        "#data.groupby('year_release')['title'].count()\n",
        "number_of_films = data.pivot_table(index='year_release', values='title', aggfunc='count')\n",
        "number_of_films.columns = ['quantity']\n",
        "print(number_of_films)\n",
        "\n",
        "number_of_films.plot(kind='bar',\n",
        "                     xlabel='Год',\n",
        "                     ylabel='Количество',\n",
        "                     title='Количество фильмов по годам',\n",
        "                     grid=True,\n",
        "                     figsize=(8, 5))\n",
        "plt.show()"
      ]
    },
    {
      "cell_type": "markdown",
      "metadata": {
        "id": "F-rfPk_Zm29F"
      },
      "source": [
        "**Вывод**\n",
        "\n",
        "Больше всего фильмов вышло в 2010 году, самое маленькое число - в 2017. В остальные годы количество выпущенных фильмов постепенно возростало."
      ]
    },
    {
      "cell_type": "code",
      "execution_count": null,
      "metadata": {
        "id": "Xm-QRHfYm29F",
        "outputId": "3ca616f1-6cc0-4ada-e331-3c9f28f0e7d9"
      },
      "outputs": [
        {
          "name": "stdout",
          "output_type": "stream",
          "text": [
            "              quantity_in_cinema\n",
            "year_release                    \n",
            "2010                         105\n",
            "2011                         109\n",
            "2012                         127\n",
            "2013                         184\n",
            "2014                         278\n",
            "2015                         460\n",
            "2016                         522\n",
            "2017                         355\n",
            "2018                         470\n",
            "2019                         529\n"
          ]
        },
        {
          "data": {
            "image/png": "[encoded data removed]",
            "text/plain": [
              "<Figure size 576x360 with 1 Axes>"
            ]
          },
          "metadata": {
            "needs_background": "light"
          },
          "output_type": "display_data"
        }
      ],
      "source": [
        "# строим график по фильмам, вышедшим в кино\n",
        "\n",
        "films_in_cinema = data.pivot_table(index='year_release', values='box_office', aggfunc='count')\n",
        "films_in_cinema.columns = ['quantity_in_cinema']\n",
        "print(films_in_cinema)\n",
        "\n",
        "films_in_cinema.plot(kind='bar',\n",
        "                     xlabel='Год',\n",
        "                     ylabel='Количество фильмов',\n",
        "                     title='Количество фильмов в кино',\n",
        "                     grid=True,\n",
        "                     figsize=(8, 5))\n",
        "plt.show()"
      ]
    },
    {
      "cell_type": "markdown",
      "metadata": {
        "id": "LhMQ_2OTm29G"
      },
      "source": [
        "**Вывод**\n",
        "\n",
        "Значительный рост показов фильмов в кинотеатрах наблюдается с 2015 года, затем идёт незначительный рост после просадки в 2017."
      ]
    },
    {
      "cell_type": "code",
      "execution_count": null,
      "metadata": {
        "id": "roivNDZkm29G"
      },
      "outputs": [],
      "source": [
        "# добавляем столбец\n",
        "\n",
        "#number_of_films.join(films_in_cinema) - так можно было?\n",
        "number_of_films['quantity_in_cinema'] = films_in_cinema['quantity_in_cinema']"
      ]
    },
    {
      "cell_type": "code",
      "execution_count": null,
      "metadata": {
        "id": "rVC0eUKnm29G",
        "outputId": "f21733d6-ad15-465e-e0eb-8935daf93ad2"
      },
      "outputs": [
        {
          "data": {
            "text/html": [
              "<style  type=\"text/css\" >\n",
              "</style><table id=\"T_8123f_\" ><thead>    <tr>        <th class=\"blank level0\" ></th>        <th class=\"col_heading level0 col0\" >quantity</th>        <th class=\"col_heading level0 col1\" >quantity_in_cinema</th>        <th class=\"col_heading level0 col2\" >share_in_cinema</th>    </tr>    <tr>        <th class=\"index_name level0\" >year_release</th>        <th class=\"blank\" ></th>        <th class=\"blank\" ></th>        <th class=\"blank\" ></th>    </tr></thead><tbody>\n",
              "                <tr>\n",
              "                        <th id=\"T_8123f_level0_row0\" class=\"row_heading level0 row0\" >2010</th>\n",
              "                        <td id=\"T_8123f_row0_col0\" class=\"data row0 col0\" >980</td>\n",
              "                        <td id=\"T_8123f_row0_col1\" class=\"data row0 col1\" >105</td>\n",
              "                        <td id=\"T_8123f_row0_col2\" class=\"data row0 col2\" >10.71%</td>\n",
              "            </tr>\n",
              "            <tr>\n",
              "                        <th id=\"T_8123f_level0_row1\" class=\"row_heading level0 row1\" >2011</th>\n",
              "                        <td id=\"T_8123f_row1_col0\" class=\"data row1 col0\" >620</td>\n",
              "                        <td id=\"T_8123f_row1_col1\" class=\"data row1 col1\" >109</td>\n",
              "                        <td id=\"T_8123f_row1_col2\" class=\"data row1 col2\" >17.58%</td>\n",
              "            </tr>\n",
              "            <tr>\n",
              "                        <th id=\"T_8123f_level0_row2\" class=\"row_heading level0 row2\" >2012</th>\n",
              "                        <td id=\"T_8123f_row2_col0\" class=\"data row2 col0\" >592</td>\n",
              "                        <td id=\"T_8123f_row2_col1\" class=\"data row2 col1\" >127</td>\n",
              "                        <td id=\"T_8123f_row2_col2\" class=\"data row2 col2\" >21.45%</td>\n",
              "            </tr>\n",
              "            <tr>\n",
              "                        <th id=\"T_8123f_level0_row3\" class=\"row_heading level0 row3\" >2013</th>\n",
              "                        <td id=\"T_8123f_row3_col0\" class=\"data row3 col0\" >629</td>\n",
              "                        <td id=\"T_8123f_row3_col1\" class=\"data row3 col1\" >184</td>\n",
              "                        <td id=\"T_8123f_row3_col2\" class=\"data row3 col2\" >29.25%</td>\n",
              "            </tr>\n",
              "            <tr>\n",
              "                        <th id=\"T_8123f_level0_row4\" class=\"row_heading level0 row4\" >2014</th>\n",
              "                        <td id=\"T_8123f_row4_col0\" class=\"data row4 col0\" >804</td>\n",
              "                        <td id=\"T_8123f_row4_col1\" class=\"data row4 col1\" >278</td>\n",
              "                        <td id=\"T_8123f_row4_col2\" class=\"data row4 col2\" >34.58%</td>\n",
              "            </tr>\n",
              "            <tr>\n",
              "                        <th id=\"T_8123f_level0_row5\" class=\"row_heading level0 row5\" >2015</th>\n",
              "                        <td id=\"T_8123f_row5_col0\" class=\"data row5 col0\" >700</td>\n",
              "                        <td id=\"T_8123f_row5_col1\" class=\"data row5 col1\" >460</td>\n",
              "                        <td id=\"T_8123f_row5_col2\" class=\"data row5 col2\" >65.71%</td>\n",
              "            </tr>\n",
              "            <tr>\n",
              "                        <th id=\"T_8123f_level0_row6\" class=\"row_heading level0 row6\" >2016</th>\n",
              "                        <td id=\"T_8123f_row6_col0\" class=\"data row6 col0\" >814</td>\n",
              "                        <td id=\"T_8123f_row6_col1\" class=\"data row6 col1\" >522</td>\n",
              "                        <td id=\"T_8123f_row6_col2\" class=\"data row6 col2\" >64.13%</td>\n",
              "            </tr>\n",
              "            <tr>\n",
              "                        <th id=\"T_8123f_level0_row7\" class=\"row_heading level0 row7\" >2017</th>\n",
              "                        <td id=\"T_8123f_row7_col0\" class=\"data row7 col0\" >503</td>\n",
              "                        <td id=\"T_8123f_row7_col1\" class=\"data row7 col1\" >355</td>\n",
              "                        <td id=\"T_8123f_row7_col2\" class=\"data row7 col2\" >70.58%</td>\n",
              "            </tr>\n",
              "            <tr>\n",
              "                        <th id=\"T_8123f_level0_row8\" class=\"row_heading level0 row8\" >2018</th>\n",
              "                        <td id=\"T_8123f_row8_col0\" class=\"data row8 col0\" >875</td>\n",
              "                        <td id=\"T_8123f_row8_col1\" class=\"data row8 col1\" >470</td>\n",
              "                        <td id=\"T_8123f_row8_col2\" class=\"data row8 col2\" >53.71%</td>\n",
              "            </tr>\n",
              "            <tr>\n",
              "                        <th id=\"T_8123f_level0_row9\" class=\"row_heading level0 row9\" >2019</th>\n",
              "                        <td id=\"T_8123f_row9_col0\" class=\"data row9 col0\" >925</td>\n",
              "                        <td id=\"T_8123f_row9_col1\" class=\"data row9 col1\" >529</td>\n",
              "                        <td id=\"T_8123f_row9_col2\" class=\"data row9 col2\" >57.19%</td>\n",
              "            </tr>\n",
              "    </tbody></table>"
            ],
            "text/plain": [
              "<pandas.io.formats.style.Styler at 0x7f08be47d4c0>"
            ]
          },
          "execution_count": 35,
          "metadata": {},
          "output_type": "execute_result"
        }
      ],
      "source": [
        "# добавляем столбец с долей фильмов в кино\n",
        "\n",
        "number_of_films['share_in_cinema'] = number_of_films['quantity_in_cinema'] / number_of_films['quantity']\n",
        "number_of_films.style.format({('share_in_cinema') : '{:.2%}'})\n",
        "\n",
        "# можно было по-другому привести одну колонку в проценты?"
      ]
    },
    {
      "cell_type": "code",
      "execution_count": null,
      "metadata": {
        "id": "tfEhofYvgFyX",
        "outputId": "2d7ffea5-d74b-4a2e-ddfc-66394d577bd6"
      },
      "outputs": [
        {
          "name": "stdout",
          "output_type": "stream",
          "text": [
            "                    box_office\n",
            "year_release                  \n",
            "2010              2,428,654.00\n",
            "2011             14,102,765.00\n",
            "2012              6,911,073.00\n",
            "2013             29,799,706.20\n",
            "2014          7,434,717,843.10\n",
            "2015         38,595,246,173.89\n",
            "2016         46,742,121,742.48\n",
            "2017         48,458,147,253.75\n",
            "2018         49,251,950,180.20\n",
            "2019         48,278,101,953.08\n"
          ]
        },
        {
          "data": {
            "image/png": "[encoded data removed]",
            "text/plain": [
              "<Figure size 576x360 with 1 Axes>"
            ]
          },
          "metadata": {
            "needs_background": "light"
          },
          "output_type": "display_data"
        }
      ],
      "source": [
        "# создаём сводную таблицу и строим график по динамике суммы сборов\n",
        "\n",
        "cash_fees = data.pivot_table(index='year_release', values='box_office', aggfunc='sum')\n",
        "\n",
        "#pd.options.display.float_format = '{:.2f}'.format - это округляет все датафреймы в ноутбуке?\n",
        "# cash_fees['box_office'] = cash_fees['box_office'].apply(lambda x: float(\"{:.2f}\".format(x))) - так можно округлить?\n",
        "\n",
        "print(cash_fees)\n",
        "\n",
        "cash_fees.plot(kind='bar',\n",
        "               xlabel='Год',\n",
        "               ylabel='Сумма сборов',\n",
        "               title='Сумма сборов фильмов по годам',\n",
        "               grid=True,\n",
        "               figsize=(8, 5))\n",
        "plt.show()"
      ]
    },
    {
      "cell_type": "markdown",
      "metadata": {
        "id": "0qOgaE-rm29H"
      },
      "source": [
        "**Вывод**\n",
        "\n",
        "Данный график подтверждает вывод предыдущего, что с началом 2015 года фильмов стало в разы больше, поэтому суммар сборов тоже увеличилась. Только 2017 год выделяется, в нём было почти на 200 фильмов меньше, чем в 16, но сборы превышают предыдущий год."
      ]
    },
    {
      "cell_type": "code",
      "execution_count": null,
      "metadata": {
        "id": "jmp-rgg9gFyY",
        "outputId": "50d3add1-4c36-4f7a-d6b6-57cd97a0d35e"
      },
      "outputs": [
        {
          "name": "stdout",
          "output_type": "stream",
          "text": [
            "                       mean       median\n",
            "year_release                            \n",
            "2010              23,130.04     1,700.00\n",
            "2011             129,383.17     3,000.00\n",
            "2012              54,417.90     5,560.00\n",
            "2013             161,954.92     3,522.50\n",
            "2014          26,743,589.36    18,137.50\n",
            "2015          83,902,709.07 4,796,668.30\n",
            "2016          89,544,294.53 3,777,202.68\n",
            "2017         136,501,823.25 9,919,415.00\n",
            "2018         104,791,383.36 8,821,498.98\n",
            "2019          91,262,952.65 4,601,033.60\n"
          ]
        },
        {
          "data": {
            "image/png": "[encoded data removed]",
            "text/plain": [
              "<Figure size 576x360 with 1 Axes>"
            ]
          },
          "metadata": {
            "needs_background": "light"
          },
          "output_type": "display_data"
        },
        {
          "data": {
            "image/png": "[encoded data removed]",
            "text/plain": [
              "<Figure size 576x360 with 1 Axes>"
            ]
          },
          "metadata": {
            "needs_background": "light"
          },
          "output_type": "display_data"
        },
        {
          "data": {
            "image/png": "[encoded data removed]",
            "text/plain": [
              "<Figure size 576x360 with 1 Axes>"
            ]
          },
          "metadata": {
            "needs_background": "light"
          },
          "output_type": "display_data"
        }
      ],
      "source": [
        "# делаем сводную таблицу и графики для среднего и медианного значения сумм сборов по годам\n",
        "\n",
        "cash_fees_mean = data.pivot_table(index='year_release', values='box_office', aggfunc=['mean', 'median'])\n",
        "cash_fees_mean.columns=['mean', 'median']\n",
        "\n",
        "#cash_fees_mean.style.format({['mean', 'median']: '{:.2f}'})\n",
        "# как можно было округлить сводную таблицу сразу?\n",
        "\n",
        "print(cash_fees_mean)\n",
        "\n",
        "cash_fees_mean.plot(xlabel='Год',\n",
        "                    ylabel='Сумма сборов',title='Средняя и медианная сумма сборов по годам',\n",
        "                    grid=True,\n",
        "                    figsize=(8, 5))\n",
        "plt.show()\n",
        "\n",
        "cash_fees_mean['mean'].plot(kind='bar',\n",
        "                            xlabel='Год',\n",
        "                            ylabel='Сумма сборов',\n",
        "                            title='Средняя сумма сборов по годам',\n",
        "                            grid=True,\n",
        "                            figsize=(8, 5))\n",
        "plt.show()\n",
        "\n",
        "cash_fees_mean['median'].plot(kind='bar',\n",
        "                              xlabel='Год',\n",
        "                              ylabel='Сумма сборов',\n",
        "                              title='Медианная сумма сборов по годам',\n",
        "                              grid=True,\n",
        "                              figsize=(8, 5))\n",
        "plt.show()"
      ]
    },
    {
      "cell_type": "markdown",
      "metadata": {
        "id": "Vj-lswDKm29I"
      },
      "source": [
        "**Вывод**\n",
        "\n",
        "Минимальное среднее значения выпало на 2014 год, а медианное - на 2016. Максимальное значение в каждом показателе приходится на 2017 год. Показатели 2017 года возможно связаны с тем, что в этот год вышло меньше всего фильмов, из-за этого среднее и медианное значения так проявляются."
      ]
    },
    {
      "cell_type": "code",
      "execution_count": null,
      "metadata": {
        "id": "VD4FlTnDm29J",
        "outputId": "beb5dde5-dc95-4ec1-bf1b-ed70831d647b"
      },
      "outputs": [
        {
          "data": {
            "text/plain": [
              "array(['«18+» - запрещено для детей', '«6+» - для детей старше 6 лет',\n",
              "       '«12+» - для детей старше 12 лет',\n",
              "       '«16+» - для детей старше 16 лет',\n",
              "       '«0+» - для любой зрительской аудитории'], dtype=object)"
            ]
          },
          "execution_count": 38,
          "metadata": {},
          "output_type": "execute_result"
        }
      ],
      "source": [
        "# выводим уникальные значения\n",
        "\n",
        "data['age_restriction'].unique()"
      ]
    },
    {
      "cell_type": "code",
      "execution_count": null,
      "metadata": {
        "id": "jsSbEqfjgFya"
      },
      "outputs": [],
      "source": [
        "# делает отдельный столбец для каждого возраста\n",
        "\n",
        "def column_age(age):\n",
        "    if '«0+» - для любой зрительской аудитории' in age['age_restriction']:\n",
        "        return '0+'\n",
        "    elif '«6+» - для детей старше 6 лет' in age['age_restriction']:\n",
        "        return '6+'\n",
        "    elif '«12+» - для детей старше 12 лет' in age['age_restriction']:\n",
        "        return '12+'\n",
        "    elif '«16+» - для детей старше 16 лет' in age['age_restriction']:\n",
        "        return '16+'\n",
        "    elif '«18+» - запрещено для детей' in age['age_restriction']:\n",
        "        return '18+'\n",
        "\n",
        "data['age'] = data.apply(column_age, axis=1)"
      ]
    },
    {
      "cell_type": "code",
      "execution_count": null,
      "metadata": {
        "id": "cpG_zEgem29K",
        "outputId": "61aee1c2-fae3-48f3-a340-ea847180e218"
      },
      "outputs": [
        {
          "name": "stdout",
          "output_type": "stream",
          "text": [
            "age                      0+               12+               16+  \\\n",
            "year_release                                                      \n",
            "2010           1,887,611.00        120,146.00        366,512.00   \n",
            "2011          13,499,871.00        219,891.00        381,513.00   \n",
            "2012           2,222,133.00        108,734.00      3,254,216.00   \n",
            "2013           2,710,302.50     20,910,336.50        658,069.60   \n",
            "2014         375,562,258.20  2,584,782,324.00    534,046,070.60   \n",
            "2015         379,054,578.37 13,419,509,570.51 10,849,019,576.07   \n",
            "2016         150,034,321.67 11,150,762,103.96 16,594,249,489.74   \n",
            "2017         229,598,930.00  7,851,427,660.67 18,694,590,951.06   \n",
            "2018          32,449,002.11 14,267,250,435.69 16,278,405,946.93   \n",
            "2019          17,746,066.82 12,680,198,773.67 12,753,418,984.60   \n",
            "\n",
            "age                        18+                6+  \n",
            "year_release                                      \n",
            "2010                 54,385.00               NaN  \n",
            "2011                  1,040.00            450.00  \n",
            "2012                182,580.00      1,143,410.00  \n",
            "2013              5,161,245.60        359,752.00  \n",
            "2014          2,209,712,746.90  1,730,614,443.40  \n",
            "2015          5,430,350,628.93  8,517,311,820.01  \n",
            "2016          6,793,929,818.87 12,053,146,008.24  \n",
            "2017          9,651,495,581.02 12,031,034,131.00  \n",
            "2018          8,760,085,501.15  9,913,759,294.32  \n",
            "2019         10,121,796,303.64 12,704,941,824.35  \n"
          ]
        },
        {
          "data": {
            "image/png": "[encoded data removed]",
            "text/plain": [
              "<Figure size 720x504 with 1 Axes>"
            ]
          },
          "metadata": {
            "needs_background": "light"
          },
          "output_type": "display_data"
        }
      ],
      "source": [
        "# строим график по каждому году, группе и сумме сборов\n",
        "\n",
        "age_group = data.pivot_table(index='year_release', columns='age', values='box_office', aggfunc='sum')\n",
        "print(age_group)\n",
        "\n",
        "age_group.query('year_release > 2014').plot(xlabel='Год',\n",
        "                                            ylabel='Сумма сборов',\n",
        "                                            title='Сумма сборов по годам в возрастных категориях',\n",
        "                                            grid=True,\n",
        "                                            figsize=(10, 7))\n",
        "plt.show()"
      ]
    },
    {
      "cell_type": "markdown",
      "metadata": {
        "id": "QjWAWrYum29K"
      },
      "source": [
        "**Вывод**\n",
        "\n",
        "Возрастная категория влияет на количество сборов, больше всего собрали в бюджет фильмы с ограничением в 16+ лет. Меньше всего сборов у категории 0+, предполагаю, что это связано с маленьким количеством выпускаемых фильмов в данном возрастном ограничении.\n",
        "\n",
        "Большие скачки по сборов у групп фильмов с 16+ и 12+ лет, пик 16+ приходится на минимальное значение 12+, скорее всего в 2017 году вышло гораздо больше фильмов для лиц старше 16 лет либо это были какие-то бестселлеры."
      ]
    },
    {
      "cell_type": "code",
      "execution_count": null,
      "metadata": {
        "id": "icb0hdCBm29K",
        "outputId": "fa579681-cf74-4af2-efc9-391d5314ac46"
      },
      "outputs": [
        {
          "data": {
            "image/png": "[encoded data removed]",
            "text/plain": [
              "<Figure size 720x504 with 1 Axes>"
            ]
          },
          "metadata": {},
          "output_type": "display_data"
        }
      ],
      "source": [
        "#\n",
        "\n",
        "sns.set_style('darkgrid')\n",
        "plt.figure(figsize=(10, 7))\n",
        "sns.boxplot(data=data,\n",
        "            x='age',\n",
        "            y='box_office',\n",
        "            color='#69b3a2')\n",
        "plt.title('Количество фильмов с гос. поддержкой по годам')\n",
        "plt.show()"
      ]
    },
    {
      "cell_type": "code",
      "execution_count": null,
      "metadata": {
        "id": "tIcsIVITm29d",
        "outputId": "fec9c9d4-ccaa-4621-e8a5-fedf449eb292"
      },
      "outputs": [
        {
          "data": {
            "image/png": "[encoded data removed]",
            "text/plain": [
              "<Figure size 576x576 with 1 Axes>"
            ]
          },
          "metadata": {},
          "output_type": "display_data"
        }
      ],
      "source": [
        "# Комментарий ревьюера 2\n",
        "import seaborn as sns\n",
        "temp = data.copy()\n",
        "# для удобства укоротим названия категорий\n",
        "def get_first_value(s, sep = ','):  # Функция для выбора первого элемента из перечисления\n",
        "    value_lst = s.split(sep=sep)\n",
        "    return value_lst[0]\n",
        "\n",
        "temp['age_restriction'] = temp['age_restriction'].apply(lambda x: get_first_value(x, sep='-'))\n",
        "# сохраним маску для среза по годам\n",
        "year_mask = (temp['year_release'] >= 2015) & (temp['year_release'] <= 2019)\n",
        "\n",
        "plt.figure(figsize=(8, 8))\n",
        "(sns.boxplot(data = temp.loc[year_mask], y = 'box_office', x='age_restriction', showfliers=False, showmeans=True)\n",
        "    .set(title = 'Кассовые сборы в зависимости от возрастной категории',\n",
        "         xlabel = 'Возрастные категории', ylabel = 'Кассовый сбор'))\n",
        "plt.text(0, 3.2e8,'Треугольник показывает среднее значение')\n",
        "plt.show()"
      ]
    },
    {
      "cell_type": "markdown",
      "metadata": {
        "id": "l_Kg6Ku4gFya"
      },
      "source": [
        "### Шаг 4. Исследование фильмов, которые получили государственную поддержку"
      ]
    },
    {
      "cell_type": "code",
      "execution_count": null,
      "metadata": {
        "id": "zG1tUwwOm29e",
        "outputId": "bc946e5d-24ab-4f11-ffdd-39db4dc8ed25"
      },
      "outputs": [
        {
          "data": {
            "text/plain": [
              "array([nan, 'министерство культуры', 'фонд кино',\n",
              "       'министерство культуры, фонд кино'], dtype=object)"
            ]
          },
          "execution_count": 43,
          "metadata": {},
          "output_type": "execute_result"
        }
      ],
      "source": [
        "# выводим уникальные значения\n",
        "\n",
        "data['financing_source'].unique()"
      ]
    },
    {
      "cell_type": "code",
      "execution_count": null,
      "metadata": {
        "id": "W9QKpjUdgFyb",
        "outputId": "f74a949c-3149-4170-9fde-d35c523d34da"
      },
      "outputs": [
        {
          "name": "stdout",
          "output_type": "stream",
          "text": [
            "Всего фильмов, которые получили гос. поддержку: 7442\n"
          ]
        }
      ],
      "source": [
        "# считаем количество спонсируемых государством фильмов\n",
        "\n",
        "print(f'Всего фильмов, которые получили гос. поддержку: {data.query(\"financing_source != 0\").shape[0]}')"
      ]
    },
    {
      "cell_type": "code",
      "execution_count": null,
      "metadata": {
        "id": "YffDM19Bm29f",
        "outputId": "4288d8d8-d2e1-4fcf-fff6-7268517dcfe1"
      },
      "outputs": [
        {
          "name": "stdout",
          "output_type": "stream",
          "text": [
            "   year_release              sum  count\n",
            "0          2013   134,347,945.00      2\n",
            "1          2014   549,002,299.00     15\n",
            "2          2015 3,247,241,459.00     81\n",
            "3          2016 3,977,155,482.00     58\n",
            "4          2017 3,098,971,662.00     39\n",
            "5          2018 3,098,000,000.00     52\n",
            "6          2019 4,724,000,000.00     69\n"
          ]
        },
        {
          "data": {
            "image/png": "[encoded data removed]",
            "text/plain": [
              "<Figure size 720x504 with 1 Axes>"
            ]
          },
          "metadata": {},
          "output_type": "display_data"
        },
        {
          "data": {
            "image/png": "[encoded data removed]",
            "text/plain": [
              "<Figure size 720x504 with 1 Axes>"
            ]
          },
          "metadata": {},
          "output_type": "display_data"
        }
      ],
      "source": [
        "# считаем сумму, выделенную для спонсорства и количество спонсируемых фильмов по годам\n",
        "\n",
        "data['support'] = data['refundable_support'] + data['nonrefundable_support']\n",
        "data['support'].replace(0, np.nan, inplace=True)\n",
        "\n",
        "support_pivot = data.pivot_table(index='year_release', values='support', aggfunc=['sum', 'count'])\n",
        "support_pivot = support_pivot.query('year_release > 2012')\n",
        "support_pivot.reset_index(inplace=True)\n",
        "support_pivot.columns = ['year_release', 'sum', 'count']\n",
        "\n",
        "print(support_pivot)\n",
        "\n",
        "sns.set_style('darkgrid')\n",
        "plt.figure(figsize=(10, 7))\n",
        "sns.barplot(data=support_pivot,\n",
        "            x='year_release',\n",
        "            y='sum',\n",
        "            color='#69b3a2')\\\n",
        "            .set_title('Сумма гос. поддержки по годам')\n",
        "plt.show()\n",
        "\n",
        "sns.set_style('darkgrid')\n",
        "plt.figure(figsize=(10, 7))\n",
        "sns.barplot(data=support_pivot,\n",
        "            x='year_release',\n",
        "            y='count',\n",
        "            color='#69b3a2')\n",
        "plt.title('Количество фильмов с гос. поддержкой по годам')\n",
        "plt.show()"
      ]
    },
    {
      "cell_type": "markdown",
      "metadata": {
        "id": "2YvvWCR-m29f"
      },
      "source": [
        "**Вывод**\n",
        "\n",
        "Самую большую сумму за год государство выделело в 2019 году, а максимальное количество спонсируемых фильмов было в 2015 году. Самый низкий показатель для обоих графиков является 2013 год, т.к. в данный год является первым, когда фильмы получали поддержку от государства."
      ]
    },
    {
      "cell_type": "code",
      "execution_count": null,
      "metadata": {
        "id": "YaDOgbHNm29g",
        "outputId": "94a46eff-23c5-4c41-c046-692d0ac3cb89"
      },
      "outputs": [
        {
          "data": {
            "image/png": "[encoded data removed]",
            "text/plain": [
              "<Figure size 720x504 with 1 Axes>"
            ]
          },
          "metadata": {},
          "output_type": "display_data"
        },
        {
          "data": {
            "text/plain": [
              "0.48193765052021015"
            ]
          },
          "execution_count": 46,
          "metadata": {},
          "output_type": "execute_result"
        }
      ],
      "source": [
        "# считаем зависимость сборов фильма от гос. поддержки\n",
        "\n",
        "plt.figure(figsize=(10, 7))\n",
        "sns.scatterplot(data=data.query('year_release > 2012'),\n",
        "                x='box_office',\n",
        "                y='support')\n",
        "plt.title('Зависимость сборов фильма от суммы поддержки')\n",
        "plt.show()\n",
        "\n",
        "data['box_office'].corr(data['support'])"
      ]
    },
    {
      "cell_type": "markdown",
      "metadata": {
        "id": "G6wPSD9Mm29g"
      },
      "source": [
        "**Вывод**\n",
        "\n",
        "Корреляция между сборами фильма и поддержкой проявляется средняя, почти 0.5. Данный показатель является одним из важнейших для дальнейшего принятия решений о бюджетировании фильмов."
      ]
    },
    {
      "cell_type": "code",
      "execution_count": null,
      "metadata": {
        "id": "xHyifYnxm29g",
        "outputId": "9e801de7-e3fd-4e0f-a76e-a89c0f38a94e"
      },
      "outputs": [
        {
          "name": "stdout",
          "output_type": "stream",
          "text": [
            "   year_release              sum  count           revenue\n",
            "0          2013   134,347,945.00      2   -104,548,238.80\n",
            "1          2014   549,002,299.00     15  6,885,715,544.10\n",
            "2          2015 3,247,241,459.00     81 35,348,004,714.89\n",
            "3          2016 3,977,155,482.00     58 42,764,966,260.48\n",
            "4          2017 3,098,971,662.00     39 45,359,175,591.75\n",
            "5          2018 3,098,000,000.00     52 46,153,950,180.20\n",
            "6          2019 4,724,000,000.00     69 43,554,101,953.08\n"
          ]
        },
        {
          "data": {
            "image/png": "[encoded data removed]",
            "text/plain": [
              "<Figure size 720x504 with 1 Axes>"
            ]
          },
          "metadata": {},
          "output_type": "display_data"
        }
      ],
      "source": [
        "# считаем окупаемость спонсируемых кино\n",
        "\n",
        "box_year = (data.query('year_release > 2012 & financing_source != 0'))\n",
        "box_year = box_year.pivot_table(index='year_release', values='box_office', aggfunc='sum')\n",
        "box_year.reset_index(inplace=True)\n",
        "\n",
        "support_pivot['revenue'] = box_year['box_office'] - support_pivot['sum']\n",
        "\n",
        "print(support_pivot)\n",
        "\n",
        "sns.set_style('darkgrid')\n",
        "plt.figure(figsize=(10, 7))\n",
        "sns.barplot(data=support_pivot,\n",
        "            x='year_release',\n",
        "            y='revenue',\n",
        "            color='brown')\n",
        "plt.title('Выручка фильмов с гос. поддержкой')\n",
        "plt.show()"
      ]
    },
    {
      "cell_type": "markdown",
      "metadata": {
        "id": "eUUxs5gam29h"
      },
      "source": [
        "**Вывод**\n",
        "\n",
        "Прибыльнее всего оказались фильмы, вышедшие в 2017 году. Единственный год, когда фильмы не окупились - 2013"
      ]
    },
    {
      "cell_type": "code",
      "execution_count": null,
      "metadata": {
        "id": "xtocYnDAm29h",
        "outputId": "a5829238-4f12-4143-f161-10e3e647bd50"
      },
      "outputs": [
        {
          "data": {
            "image/png": "[encoded data removed]",
            "text/plain": [
              "<Figure size 720x504 with 1 Axes>"
            ]
          },
          "metadata": {},
          "output_type": "display_data"
        }
      ],
      "source": [
        "# считаем сумму сборов бюджетированных фильмов\n",
        "\n",
        "data.query('financing_source != 0').pivot_table(index='year_release', columns='age', values='box_office', aggfunc='sum')\\\n",
        "    .plot(xlabel='Год',\n",
        "          ylabel='Сумма сборов',\n",
        "          title='Сумма сборов фильмов с гос. поддержкой по возрастным органичениям',\n",
        "          grid=True,\n",
        "          figsize=(10, 7))\n",
        "plt.show()"
      ]
    },
    {
      "cell_type": "code",
      "execution_count": null,
      "metadata": {
        "id": "7QBqixDmm29h",
        "outputId": "401d06e1-f84e-4d2f-c126-7e10b611a97e"
      },
      "outputs": [
        {
          "data": {
            "image/png": "[encoded data removed]",
            "text/plain": [
              "<Figure size 720x504 with 1 Axes>"
            ]
          },
          "metadata": {},
          "output_type": "display_data"
        },
        {
          "data": {
            "image/png": "[encoded data removed]",
            "text/plain": [
              "<Figure size 720x504 with 1 Axes>"
            ]
          },
          "metadata": {},
          "output_type": "display_data"
        }
      ],
      "source": [
        "# сравниваем среднюю оценку\n",
        "data['financing_source'] = data['financing_source'].fillna(0)\n",
        "\n",
        "rating_support = data.query('financing_source != 0').pivot_table(index='year_release', values='ratings', aggfunc='mean')\n",
        "rating_support.reset_index(inplace=True)\n",
        "\n",
        "sns.set_style('darkgrid')\n",
        "plt.figure(figsize=(10, 7))\n",
        "sns.barplot(data=rating_support,\n",
        "            x='year_release',\n",
        "            y='ratings',\n",
        "            color='brown')\n",
        "plt.title('Средняя оценка фильмов с гос. поддержкой')\n",
        "plt.show()\n",
        "\n",
        "no_financing = data.query('financing_source == 0').pivot_table(index='year_release', values='ratings', aggfunc='mean')\n",
        "no_financing.reset_index(inplace=True)\n",
        "\n",
        "sns.set_style('darkgrid')\n",
        "plt.figure(figsize=(10, 7))\n",
        "sns.barplot(data=no_financing,\n",
        "            x='year_release',\n",
        "            y='ratings',\n",
        "            color='brown')\n",
        "plt.title('Средняя оценка фильмов без гос. поддержки')\n",
        "plt.show()"
      ]
    },
    {
      "cell_type": "markdown",
      "metadata": {
        "id": "5GtUay78m29h"
      },
      "source": [
        "**Вывод**\n",
        "\n",
        "Средняя оценка фильмов с бюджетированием составляет примерно 6, что в свою очередь примерно на 0.3-0.5 баллов меньше, чем средняя оценка фильмов без поддержки государства."
      ]
    },
    {
      "cell_type": "markdown",
      "metadata": {
        "id": "V2gYwMcPgFyd"
      },
      "source": [
        "### Шаг 5. Общий вывод"
      ]
    },
    {
      "cell_type": "markdown",
      "metadata": {
        "id": "AYRg3dzXgFye"
      },
      "source": [
        "**Общий вывод**\n",
        "\n",
        "Была поставлена задача об изучении рынка российского кинопроката и выявить тенденции. В основе анализа лежали данные с портала открытых данных Министерства культуры.\n",
        "\n",
        "По ходу работы над проектом были выполнены следующие этапы:\n",
        "1. Открытие и изучение датасета\n",
        "2. Предобработка данных\n",
        "- Удаление пропусков\n",
        "- Изменение типов данных\n",
        "- Приведение в общему типу\n",
        "- Поиск дубликатов\n",
        "- Анализ количественных и категориальных данных\n",
        "- Добавление новых столбцов\n",
        "3. Исследовательский анализ\n",
        "- Посчитали количество фильмов\n",
        "- Нашли сумму сборов по годам\n",
        "- и т.д.\n",
        "4. Исследование фильмов с гос. поддержкой\n",
        "\n",
        "**Количество фильмов в прокате**\n",
        "\n",
        "Больше всего фильмов показали в 2019 году. Меньше всего в 2010. Наблюдается растущая тенденция, в 2017 году произошёл спад неизвестно по какой причине.\n",
        "\n",
        "**Сумма сборов**\n",
        "\n",
        "После 2014 года идёт резкий скачок, после чего происходит незначительный рост, где пиком является 2018.\n",
        "\n",
        "**Возрастные ограничения**\n",
        "\n",
        "Лидерами по сборам с 2016 по 2018 являются фильмы с ограничением 16+. Пик приходится на 2017.\n",
        "\n",
        "**Сумма государственной поддержки и количество фильмов**\n",
        "\n",
        "Данный показатель имеет свой максимум в 2019 году и минимум в 2013 году, поскольку с него и началась программа поддержки кино, скорее всего. Больше всего спонсируемых фильмов было в 2015.\n",
        "\n",
        "**Корреляция сборов фильма и суммы спонсирования**\n",
        "\n",
        "Этот коэффициент составляет почти 0.5, что свидетельствует о средней зависимости: чем больше выделенных денег от государства на фильм, тем больше сумма сборов.\n",
        "\n",
        "**Выручка кино с бюджетированием**\n",
        "\n",
        "Самая большая выручка в 2017 году, одно из причин это то, что в данный год было выделено меньше всего в период с 2015 по 2019 годы.\n",
        "\n",
        "**Сумма спонсируемых фильмов по возрастным ограничениям**\n",
        "\n",
        "В данной ситуации лидером является 12+ в 2018 году, затем идёт 16+, а меньше всего у ограничений 0+ и 18+. Возможно это связано с тем, что государству не выгодно поддерживать в экономическом и культурном планах картиных 18+ и 0+.\n",
        "\n",
        "**Средняя оценка**\n",
        "\n",
        "Средняя оценка у спонсируемых фильмов почти ничем не отличается за 7 лет, в среднем люди ставят оценку - 6.\n",
        "\n",
        "Государству выгодно поддерживать фильмы в категориях 6+ и 12+, потому что в них часто бывают мультфильмы, на которые детям в большинстве случаев одним ходить не разрешают, поэтому идёт 2-я или 3-я выручка в этой ситуации."
      ]
    }
  ],
  "metadata": {
    "ExecuteTimeLog": [
      {
        "duration": 537,
        "start_time": "2021-07-07T10:12:08.634Z"
      },
      {
        "duration": 206,
        "start_time": "2021-07-07T10:12:30.191Z"
      },
      {
        "duration": 227,
        "start_time": "2021-07-07T10:12:33.078Z"
      },
      {
        "duration": 153,
        "start_time": "2021-07-07T10:13:42.146Z"
      },
      {
        "duration": 233,
        "start_time": "2021-07-07T10:30:09.252Z"
      },
      {
        "duration": 19,
        "start_time": "2021-07-07T10:30:15.577Z"
      },
      {
        "duration": 18,
        "start_time": "2021-07-07T10:30:57.348Z"
      },
      {
        "duration": 19,
        "start_time": "2021-07-07T10:31:17.452Z"
      },
      {
        "duration": 21,
        "start_time": "2021-07-07T10:31:32.227Z"
      },
      {
        "duration": 27,
        "start_time": "2021-07-07T10:32:06.588Z"
      },
      {
        "duration": 23,
        "start_time": "2021-07-07T10:32:43.645Z"
      },
      {
        "duration": 24,
        "start_time": "2021-07-07T10:33:06.948Z"
      },
      {
        "duration": 7,
        "start_time": "2021-07-07T10:33:28.558Z"
      },
      {
        "duration": 23,
        "start_time": "2021-07-07T10:33:43.761Z"
      },
      {
        "duration": 28,
        "start_time": "2021-07-07T10:34:13.466Z"
      },
      {
        "duration": 23,
        "start_time": "2021-07-07T10:35:56.187Z"
      },
      {
        "duration": 6,
        "start_time": "2021-07-07T10:36:48.182Z"
      },
      {
        "duration": 14,
        "start_time": "2021-07-07T10:37:49.641Z"
      },
      {
        "duration": 6,
        "start_time": "2021-07-07T10:38:06.694Z"
      },
      {
        "duration": 6,
        "start_time": "2021-07-07T10:38:13.493Z"
      },
      {
        "duration": 19,
        "start_time": "2021-07-07T10:38:44.056Z"
      },
      {
        "duration": 186,
        "start_time": "2021-07-07T10:48:35.618Z"
      },
      {
        "duration": 24,
        "start_time": "2021-07-07T10:48:51.498Z"
      },
      {
        "duration": 20,
        "start_time": "2021-07-07T10:48:59.415Z"
      },
      {
        "duration": 20,
        "start_time": "2021-07-07T10:53:02.195Z"
      },
      {
        "duration": 188,
        "start_time": "2021-07-07T10:54:40.486Z"
      },
      {
        "duration": 115,
        "start_time": "2021-07-07T10:54:52.552Z"
      },
      {
        "duration": 214,
        "start_time": "2021-07-07T10:54:56.354Z"
      },
      {
        "duration": 47,
        "start_time": "2021-07-07T10:54:58.282Z"
      },
      {
        "duration": 217,
        "start_time": "2021-07-07T10:59:16.075Z"
      },
      {
        "duration": 51,
        "start_time": "2021-07-07T10:59:16.243Z"
      },
      {
        "duration": 578,
        "start_time": "2021-07-07T10:59:18.774Z"
      },
      {
        "duration": 161,
        "start_time": "2021-07-07T10:59:21.238Z"
      },
      {
        "duration": 59,
        "start_time": "2021-07-07T10:59:21.453Z"
      },
      {
        "duration": 3,
        "start_time": "2021-07-07T11:02:10.786Z"
      },
      {
        "duration": 13,
        "start_time": "2021-07-07T11:07:07.722Z"
      },
      {
        "duration": 26,
        "start_time": "2021-07-07T11:07:17.958Z"
      },
      {
        "duration": 22,
        "start_time": "2021-07-07T11:08:17.939Z"
      },
      {
        "duration": 212,
        "start_time": "2021-07-07T11:08:19.665Z"
      },
      {
        "duration": 21,
        "start_time": "2021-07-07T11:08:29.945Z"
      },
      {
        "duration": 31,
        "start_time": "2021-07-07T11:08:38.899Z"
      },
      {
        "duration": 23,
        "start_time": "2021-07-07T11:08:54.527Z"
      },
      {
        "duration": 8,
        "start_time": "2021-07-07T11:18:55.974Z"
      },
      {
        "duration": 7,
        "start_time": "2021-07-07T11:19:03.639Z"
      },
      {
        "duration": 7,
        "start_time": "2021-07-07T11:19:06.444Z"
      },
      {
        "duration": 578,
        "start_time": "2021-07-07T12:09:59.576Z"
      },
      {
        "duration": 195,
        "start_time": "2021-07-07T12:10:00.156Z"
      },
      {
        "duration": 115,
        "start_time": "2021-07-07T12:10:00.353Z"
      },
      {
        "duration": 3,
        "start_time": "2021-07-07T12:10:00.470Z"
      },
      {
        "duration": 32,
        "start_time": "2021-07-07T12:10:00.474Z"
      },
      {
        "duration": 23,
        "start_time": "2021-07-07T12:10:00.508Z"
      },
      {
        "duration": 19,
        "start_time": "2021-07-07T12:10:00.533Z"
      },
      {
        "duration": 44,
        "start_time": "2021-07-07T12:10:00.553Z"
      },
      {
        "duration": 7,
        "start_time": "2021-07-07T12:10:00.600Z"
      },
      {
        "duration": 7,
        "start_time": "2021-07-07T12:19:45.761Z"
      },
      {
        "duration": 21,
        "start_time": "2021-07-07T12:21:35.482Z"
      },
      {
        "duration": 21,
        "start_time": "2021-07-07T12:29:23.569Z"
      },
      {
        "duration": 525,
        "start_time": "2021-07-07T12:29:44.542Z"
      },
      {
        "duration": 214,
        "start_time": "2021-07-07T12:29:45.069Z"
      },
      {
        "duration": 92,
        "start_time": "2021-07-07T12:29:45.285Z"
      },
      {
        "duration": 3,
        "start_time": "2021-07-07T12:29:45.379Z"
      },
      {
        "duration": 28,
        "start_time": "2021-07-07T12:29:45.384Z"
      },
      {
        "duration": 23,
        "start_time": "2021-07-07T12:29:45.413Z"
      },
      {
        "duration": 21,
        "start_time": "2021-07-07T12:29:45.437Z"
      },
      {
        "duration": 41,
        "start_time": "2021-07-07T12:29:45.460Z"
      },
      {
        "duration": 7,
        "start_time": "2021-07-07T12:29:45.502Z"
      },
      {
        "duration": 20,
        "start_time": "2021-07-07T12:29:45.511Z"
      },
      {
        "duration": 12,
        "start_time": "2021-07-07T12:34:02.800Z"
      },
      {
        "duration": 7,
        "start_time": "2021-07-07T12:35:10.479Z"
      },
      {
        "duration": 8,
        "start_time": "2021-07-07T12:35:22.440Z"
      },
      {
        "duration": 6,
        "start_time": "2021-07-07T12:35:35.649Z"
      },
      {
        "duration": 6,
        "start_time": "2021-07-07T12:35:43.107Z"
      },
      {
        "duration": 22,
        "start_time": "2021-07-07T12:38:03.029Z"
      },
      {
        "duration": 10,
        "start_time": "2021-07-07T12:38:06.592Z"
      },
      {
        "duration": 563,
        "start_time": "2021-07-07T12:38:46.493Z"
      },
      {
        "duration": 265,
        "start_time": "2021-07-07T12:38:47.058Z"
      },
      {
        "duration": 94,
        "start_time": "2021-07-07T12:38:47.325Z"
      },
      {
        "duration": 3,
        "start_time": "2021-07-07T12:38:47.422Z"
      },
      {
        "duration": 30,
        "start_time": "2021-07-07T12:38:47.427Z"
      },
      {
        "duration": 16,
        "start_time": "2021-07-07T12:38:53.305Z"
      },
      {
        "duration": 10,
        "start_time": "2021-07-07T12:38:53.499Z"
      },
      {
        "duration": 8,
        "start_time": "2021-07-07T12:39:48.161Z"
      },
      {
        "duration": 27,
        "start_time": "2021-07-07T12:41:17.629Z"
      },
      {
        "duration": 17,
        "start_time": "2021-07-07T12:41:17.867Z"
      },
      {
        "duration": 21,
        "start_time": "2021-07-07T12:41:19.310Z"
      },
      {
        "duration": 7,
        "start_time": "2021-07-07T12:41:19.544Z"
      },
      {
        "duration": 20,
        "start_time": "2021-07-07T12:41:20.504Z"
      },
      {
        "duration": 554,
        "start_time": "2021-07-07T12:56:23.696Z"
      },
      {
        "duration": 200,
        "start_time": "2021-07-07T12:56:25.234Z"
      },
      {
        "duration": 119,
        "start_time": "2021-07-07T12:56:25.480Z"
      },
      {
        "duration": 4,
        "start_time": "2021-07-07T12:56:25.762Z"
      },
      {
        "duration": 26,
        "start_time": "2021-07-07T12:56:27.172Z"
      },
      {
        "duration": 12,
        "start_time": "2021-07-07T12:56:29.051Z"
      },
      {
        "duration": 10,
        "start_time": "2021-07-07T12:56:29.291Z"
      },
      {
        "duration": 8,
        "start_time": "2021-07-07T12:56:29.623Z"
      },
      {
        "duration": 28,
        "start_time": "2021-07-07T12:56:32.137Z"
      },
      {
        "duration": 19,
        "start_time": "2021-07-07T12:56:39.785Z"
      },
      {
        "duration": 20,
        "start_time": "2021-07-07T12:56:44.297Z"
      },
      {
        "duration": 7,
        "start_time": "2021-07-07T12:56:45.392Z"
      },
      {
        "duration": 23,
        "start_time": "2021-07-07T12:56:46.615Z"
      },
      {
        "duration": 4,
        "start_time": "2021-07-07T12:57:06.625Z"
      },
      {
        "duration": 32,
        "start_time": "2021-07-07T12:57:36.690Z"
      },
      {
        "duration": 18,
        "start_time": "2021-07-07T12:58:00.149Z"
      },
      {
        "duration": 15,
        "start_time": "2021-07-07T12:59:16.793Z"
      },
      {
        "duration": 7,
        "start_time": "2021-07-07T13:19:22.624Z"
      },
      {
        "duration": 6,
        "start_time": "2021-07-07T14:17:33.527Z"
      },
      {
        "duration": 9,
        "start_time": "2021-07-07T14:17:48.409Z"
      },
      {
        "duration": 8,
        "start_time": "2021-07-07T14:20:13.060Z"
      },
      {
        "duration": 8,
        "start_time": "2021-07-07T14:20:37.957Z"
      },
      {
        "duration": 8,
        "start_time": "2021-07-07T14:20:47.470Z"
      },
      {
        "duration": 9,
        "start_time": "2021-07-07T14:20:54.503Z"
      },
      {
        "duration": 10,
        "start_time": "2021-07-07T14:28:57.763Z"
      },
      {
        "duration": 3,
        "start_time": "2021-07-07T14:30:23.377Z"
      },
      {
        "duration": 3,
        "start_time": "2021-07-07T14:30:36.489Z"
      },
      {
        "duration": 103,
        "start_time": "2021-07-07T14:30:52.351Z"
      },
      {
        "duration": 8,
        "start_time": "2021-07-07T14:30:54.763Z"
      },
      {
        "duration": 8,
        "start_time": "2021-07-07T14:31:29.301Z"
      },
      {
        "duration": 13,
        "start_time": "2021-07-07T14:31:44.516Z"
      },
      {
        "duration": 7,
        "start_time": "2021-07-07T14:33:10.972Z"
      },
      {
        "duration": 11,
        "start_time": "2021-07-07T14:33:27.780Z"
      },
      {
        "duration": 8,
        "start_time": "2021-07-07T14:34:44.588Z"
      },
      {
        "duration": 57,
        "start_time": "2021-07-07T14:35:59.042Z"
      },
      {
        "duration": 3,
        "start_time": "2021-07-07T14:36:28.168Z"
      },
      {
        "duration": 5,
        "start_time": "2021-07-07T14:36:46.254Z"
      },
      {
        "duration": 4,
        "start_time": "2021-07-07T14:36:52.714Z"
      },
      {
        "duration": 3,
        "start_time": "2021-07-07T14:36:56.612Z"
      },
      {
        "duration": 4,
        "start_time": "2021-07-07T14:36:57.049Z"
      },
      {
        "duration": 3,
        "start_time": "2021-07-07T14:39:21.214Z"
      },
      {
        "duration": 7,
        "start_time": "2021-07-07T14:39:52.406Z"
      },
      {
        "duration": 11,
        "start_time": "2021-07-07T14:39:58.576Z"
      },
      {
        "duration": 9,
        "start_time": "2021-07-07T14:40:26.301Z"
      },
      {
        "duration": 10,
        "start_time": "2021-07-07T14:40:31.704Z"
      },
      {
        "duration": 11,
        "start_time": "2021-07-07T14:40:36.249Z"
      },
      {
        "duration": 10,
        "start_time": "2021-07-07T14:40:39.783Z"
      },
      {
        "duration": 9,
        "start_time": "2021-07-07T14:40:48.558Z"
      },
      {
        "duration": 10,
        "start_time": "2021-07-07T14:40:57.143Z"
      },
      {
        "duration": 9,
        "start_time": "2021-07-07T14:41:06.074Z"
      },
      {
        "duration": 4324,
        "start_time": "2021-07-07T14:41:22.004Z"
      },
      {
        "duration": 11,
        "start_time": "2021-07-07T14:41:33.392Z"
      },
      {
        "duration": 9,
        "start_time": "2021-07-07T14:41:39.288Z"
      },
      {
        "duration": 569,
        "start_time": "2021-07-07T14:42:14.387Z"
      },
      {
        "duration": 197,
        "start_time": "2021-07-07T14:42:14.959Z"
      },
      {
        "duration": 84,
        "start_time": "2021-07-07T14:42:16.052Z"
      },
      {
        "duration": 4,
        "start_time": "2021-07-07T14:42:16.900Z"
      },
      {
        "duration": 27,
        "start_time": "2021-07-07T14:42:19.898Z"
      },
      {
        "duration": 12,
        "start_time": "2021-07-07T14:42:21.577Z"
      },
      {
        "duration": 9,
        "start_time": "2021-07-07T14:42:21.813Z"
      },
      {
        "duration": 9,
        "start_time": "2021-07-07T14:42:22.569Z"
      },
      {
        "duration": 29,
        "start_time": "2021-07-07T14:42:25.837Z"
      },
      {
        "duration": 20,
        "start_time": "2021-07-07T14:42:27.003Z"
      },
      {
        "duration": 21,
        "start_time": "2021-07-07T14:42:28.767Z"
      },
      {
        "duration": 7,
        "start_time": "2021-07-07T14:42:29.838Z"
      },
      {
        "duration": 4,
        "start_time": "2021-07-07T14:43:25.493Z"
      },
      {
        "duration": 7,
        "start_time": "2021-07-07T14:43:26.573Z"
      },
      {
        "duration": 10,
        "start_time": "2021-07-07T14:43:31.639Z"
      },
      {
        "duration": 9,
        "start_time": "2021-07-07T14:43:32.046Z"
      },
      {
        "duration": 10,
        "start_time": "2021-07-07T14:43:33.301Z"
      },
      {
        "duration": 12,
        "start_time": "2021-07-07T14:43:33.658Z"
      },
      {
        "duration": 8,
        "start_time": "2021-07-07T14:43:34.552Z"
      },
      {
        "duration": 9,
        "start_time": "2021-07-07T14:43:35.058Z"
      },
      {
        "duration": 12,
        "start_time": "2021-07-07T14:43:35.914Z"
      },
      {
        "duration": 17,
        "start_time": "2021-07-07T14:45:34.368Z"
      },
      {
        "duration": 512,
        "start_time": "2021-07-07T14:51:58.236Z"
      },
      {
        "duration": 223,
        "start_time": "2021-07-07T14:51:58.750Z"
      },
      {
        "duration": 93,
        "start_time": "2021-07-07T14:51:58.977Z"
      },
      {
        "duration": 4,
        "start_time": "2021-07-07T14:51:59.071Z"
      },
      {
        "duration": 37,
        "start_time": "2021-07-07T14:51:59.077Z"
      },
      {
        "duration": 18,
        "start_time": "2021-07-07T14:51:59.116Z"
      },
      {
        "duration": 10,
        "start_time": "2021-07-07T14:51:59.137Z"
      },
      {
        "duration": 8,
        "start_time": "2021-07-07T14:51:59.149Z"
      },
      {
        "duration": 54,
        "start_time": "2021-07-07T14:51:59.158Z"
      },
      {
        "duration": 18,
        "start_time": "2021-07-07T14:51:59.213Z"
      },
      {
        "duration": 22,
        "start_time": "2021-07-07T14:51:59.232Z"
      },
      {
        "duration": 36,
        "start_time": "2021-07-07T14:51:59.255Z"
      },
      {
        "duration": 7,
        "start_time": "2021-07-07T14:51:59.293Z"
      },
      {
        "duration": 10,
        "start_time": "2021-07-07T14:51:59.302Z"
      },
      {
        "duration": 9,
        "start_time": "2021-07-07T14:51:59.313Z"
      },
      {
        "duration": 11,
        "start_time": "2021-07-07T14:51:59.324Z"
      },
      {
        "duration": 8,
        "start_time": "2021-07-07T14:51:59.337Z"
      },
      {
        "duration": 46,
        "start_time": "2021-07-07T14:51:59.347Z"
      },
      {
        "duration": 22,
        "start_time": "2021-07-07T14:51:59.395Z"
      },
      {
        "duration": 24,
        "start_time": "2021-07-07T14:57:32.911Z"
      },
      {
        "duration": 7,
        "start_time": "2021-07-07T14:58:22.070Z"
      },
      {
        "duration": 4,
        "start_time": "2021-07-07T14:59:11.239Z"
      },
      {
        "duration": 25,
        "start_time": "2021-07-07T15:07:22.208Z"
      },
      {
        "duration": 16,
        "start_time": "2021-07-07T15:08:25.560Z"
      },
      {
        "duration": 15,
        "start_time": "2021-07-07T15:08:40.647Z"
      },
      {
        "duration": 14,
        "start_time": "2021-07-07T15:08:46.669Z"
      },
      {
        "duration": 533,
        "start_time": "2021-07-07T15:18:07.440Z"
      },
      {
        "duration": 173,
        "start_time": "2021-07-07T15:18:07.974Z"
      },
      {
        "duration": 84,
        "start_time": "2021-07-07T15:18:08.149Z"
      },
      {
        "duration": 3,
        "start_time": "2021-07-07T15:18:08.235Z"
      },
      {
        "duration": 30,
        "start_time": "2021-07-07T15:18:08.240Z"
      },
      {
        "duration": 22,
        "start_time": "2021-07-07T15:18:08.272Z"
      },
      {
        "duration": 11,
        "start_time": "2021-07-07T15:18:08.295Z"
      },
      {
        "duration": 11,
        "start_time": "2021-07-07T15:18:08.309Z"
      },
      {
        "duration": 40,
        "start_time": "2021-07-07T15:18:08.322Z"
      },
      {
        "duration": 42,
        "start_time": "2021-07-07T15:18:08.364Z"
      },
      {
        "duration": 22,
        "start_time": "2021-07-07T15:18:08.408Z"
      },
      {
        "duration": 5,
        "start_time": "2021-07-07T15:18:08.432Z"
      },
      {
        "duration": 13,
        "start_time": "2021-07-07T15:18:08.439Z"
      },
      {
        "duration": 9,
        "start_time": "2021-07-07T15:18:08.454Z"
      },
      {
        "duration": 32,
        "start_time": "2021-07-07T15:18:08.465Z"
      },
      {
        "duration": 10,
        "start_time": "2021-07-07T15:18:08.501Z"
      },
      {
        "duration": 7,
        "start_time": "2021-07-07T15:18:08.513Z"
      },
      {
        "duration": 11,
        "start_time": "2021-07-07T15:18:08.521Z"
      },
      {
        "duration": 17,
        "start_time": "2021-07-07T15:18:08.534Z"
      },
      {
        "duration": 44,
        "start_time": "2021-07-07T15:18:08.553Z"
      },
      {
        "duration": 22,
        "start_time": "2021-07-07T15:18:08.599Z"
      },
      {
        "duration": 61,
        "start_time": "2021-07-07T15:18:08.622Z"
      },
      {
        "duration": 7,
        "start_time": "2021-07-07T15:18:39.457Z"
      },
      {
        "duration": 5,
        "start_time": "2021-07-07T16:05:17.020Z"
      },
      {
        "duration": 5,
        "start_time": "2021-07-07T16:51:28.794Z"
      },
      {
        "duration": 546,
        "start_time": "2021-07-07T16:52:26.306Z"
      },
      {
        "duration": 203,
        "start_time": "2021-07-07T16:52:27.523Z"
      },
      {
        "duration": 85,
        "start_time": "2021-07-07T16:52:27.736Z"
      },
      {
        "duration": 4,
        "start_time": "2021-07-07T16:52:27.899Z"
      },
      {
        "duration": 25,
        "start_time": "2021-07-07T16:52:28.674Z"
      },
      {
        "duration": 8,
        "start_time": "2021-07-07T16:52:32.956Z"
      },
      {
        "duration": 18,
        "start_time": "2021-07-07T16:52:35.616Z"
      },
      {
        "duration": 6,
        "start_time": "2021-07-07T16:52:36.913Z"
      },
      {
        "duration": 11,
        "start_time": "2021-07-07T16:52:40.258Z"
      },
      {
        "duration": 10,
        "start_time": "2021-07-07T16:52:46.251Z"
      },
      {
        "duration": 8,
        "start_time": "2021-07-07T16:52:47.182Z"
      },
      {
        "duration": 27,
        "start_time": "2021-07-07T16:53:20.391Z"
      },
      {
        "duration": 20,
        "start_time": "2021-07-07T16:53:22.022Z"
      },
      {
        "duration": 23,
        "start_time": "2021-07-07T16:53:23.690Z"
      },
      {
        "duration": 8,
        "start_time": "2021-07-07T16:53:24.261Z"
      },
      {
        "duration": 4,
        "start_time": "2021-07-07T16:53:38.733Z"
      },
      {
        "duration": 7,
        "start_time": "2021-07-07T16:53:40.445Z"
      },
      {
        "duration": 11,
        "start_time": "2021-07-07T16:53:41.348Z"
      },
      {
        "duration": 13,
        "start_time": "2021-07-07T16:53:45.250Z"
      },
      {
        "duration": 12,
        "start_time": "2021-07-07T16:53:45.467Z"
      },
      {
        "duration": 4,
        "start_time": "2021-07-07T16:55:32.704Z"
      },
      {
        "duration": 12,
        "start_time": "2021-07-07T16:55:49.012Z"
      },
      {
        "duration": 18,
        "start_time": "2021-07-07T16:55:49.547Z"
      },
      {
        "duration": 611,
        "start_time": "2021-07-07T16:58:35.156Z"
      },
      {
        "duration": 200,
        "start_time": "2021-07-07T16:58:35.770Z"
      },
      {
        "duration": 86,
        "start_time": "2021-07-07T16:58:35.972Z"
      },
      {
        "duration": 3,
        "start_time": "2021-07-07T16:58:36.060Z"
      },
      {
        "duration": 27,
        "start_time": "2021-07-07T16:58:36.065Z"
      },
      {
        "duration": 8,
        "start_time": "2021-07-07T16:58:36.094Z"
      },
      {
        "duration": 17,
        "start_time": "2021-07-07T16:58:36.103Z"
      },
      {
        "duration": 5,
        "start_time": "2021-07-07T16:58:36.123Z"
      },
      {
        "duration": 11,
        "start_time": "2021-07-07T16:58:36.130Z"
      },
      {
        "duration": 7,
        "start_time": "2021-07-07T16:58:36.143Z"
      },
      {
        "duration": 37,
        "start_time": "2021-07-07T16:58:36.152Z"
      },
      {
        "duration": 27,
        "start_time": "2021-07-07T16:58:36.191Z"
      },
      {
        "duration": 19,
        "start_time": "2021-07-07T16:58:36.219Z"
      },
      {
        "duration": 49,
        "start_time": "2021-07-07T16:58:36.240Z"
      },
      {
        "duration": 6,
        "start_time": "2021-07-07T16:58:36.291Z"
      },
      {
        "duration": 3,
        "start_time": "2021-07-07T16:58:36.299Z"
      },
      {
        "duration": 13,
        "start_time": "2021-07-07T16:58:36.304Z"
      },
      {
        "duration": 10,
        "start_time": "2021-07-07T16:58:36.319Z"
      },
      {
        "duration": 10,
        "start_time": "2021-07-07T16:58:36.331Z"
      },
      {
        "duration": 44,
        "start_time": "2021-07-07T16:58:36.343Z"
      },
      {
        "duration": 4,
        "start_time": "2021-07-07T16:58:36.388Z"
      },
      {
        "duration": 13,
        "start_time": "2021-07-07T16:58:36.394Z"
      },
      {
        "duration": 16,
        "start_time": "2021-07-07T16:58:36.410Z"
      },
      {
        "duration": 8,
        "start_time": "2021-07-07T17:02:31.629Z"
      },
      {
        "duration": 8,
        "start_time": "2021-07-07T17:02:34.308Z"
      },
      {
        "duration": 6,
        "start_time": "2021-07-07T17:05:13.483Z"
      },
      {
        "duration": 17,
        "start_time": "2021-07-07T17:05:20.606Z"
      },
      {
        "duration": 7,
        "start_time": "2021-07-07T17:05:34.638Z"
      },
      {
        "duration": 3,
        "start_time": "2021-07-07T17:06:31.883Z"
      },
      {
        "duration": 570,
        "start_time": "2021-07-07T17:06:37.165Z"
      },
      {
        "duration": 174,
        "start_time": "2021-07-07T17:06:37.737Z"
      },
      {
        "duration": 47,
        "start_time": "2021-07-07T17:06:37.913Z"
      },
      {
        "duration": 3,
        "start_time": "2021-07-07T17:06:37.962Z"
      },
      {
        "duration": 27,
        "start_time": "2021-07-07T17:06:37.967Z"
      },
      {
        "duration": 7,
        "start_time": "2021-07-07T17:06:37.996Z"
      },
      {
        "duration": 16,
        "start_time": "2021-07-07T17:06:38.005Z"
      },
      {
        "duration": 6,
        "start_time": "2021-07-07T17:06:38.024Z"
      },
      {
        "duration": 12,
        "start_time": "2021-07-07T17:06:38.031Z"
      },
      {
        "duration": 41,
        "start_time": "2021-07-07T17:06:38.045Z"
      },
      {
        "duration": 8,
        "start_time": "2021-07-07T17:06:38.088Z"
      },
      {
        "duration": 26,
        "start_time": "2021-07-07T17:06:38.098Z"
      },
      {
        "duration": 17,
        "start_time": "2021-07-07T17:06:38.126Z"
      },
      {
        "duration": 43,
        "start_time": "2021-07-07T17:06:38.144Z"
      },
      {
        "duration": 6,
        "start_time": "2021-07-07T17:06:38.188Z"
      },
      {
        "duration": 5,
        "start_time": "2021-07-07T17:06:38.195Z"
      },
      {
        "duration": 9,
        "start_time": "2021-07-07T17:06:38.201Z"
      },
      {
        "duration": 12,
        "start_time": "2021-07-07T17:06:38.212Z"
      },
      {
        "duration": 11,
        "start_time": "2021-07-07T17:06:38.226Z"
      },
      {
        "duration": 47,
        "start_time": "2021-07-07T17:06:38.239Z"
      },
      {
        "duration": 4,
        "start_time": "2021-07-07T17:06:38.288Z"
      },
      {
        "duration": 13,
        "start_time": "2021-07-07T17:06:38.293Z"
      },
      {
        "duration": 5,
        "start_time": "2021-07-07T17:06:38.309Z"
      },
      {
        "duration": 18,
        "start_time": "2021-07-07T17:06:38.325Z"
      },
      {
        "duration": 20,
        "start_time": "2021-07-07T17:07:02.805Z"
      },
      {
        "duration": 19,
        "start_time": "2021-07-07T17:07:08.527Z"
      },
      {
        "duration": 19,
        "start_time": "2021-07-07T17:07:12.758Z"
      },
      {
        "duration": 22,
        "start_time": "2021-07-07T17:07:17.497Z"
      },
      {
        "duration": 19,
        "start_time": "2021-07-07T17:07:19.645Z"
      },
      {
        "duration": 10,
        "start_time": "2021-07-07T17:07:34.239Z"
      },
      {
        "duration": 17,
        "start_time": "2021-07-07T17:07:54.144Z"
      },
      {
        "duration": 14,
        "start_time": "2021-07-07T17:08:14.357Z"
      },
      {
        "duration": 616,
        "start_time": "2021-07-07T17:08:45.254Z"
      },
      {
        "duration": 178,
        "start_time": "2021-07-07T17:08:45.872Z"
      },
      {
        "duration": 60,
        "start_time": "2021-07-07T17:08:46.054Z"
      },
      {
        "duration": 3,
        "start_time": "2021-07-07T17:08:46.116Z"
      },
      {
        "duration": 26,
        "start_time": "2021-07-07T17:08:46.121Z"
      },
      {
        "duration": 7,
        "start_time": "2021-07-07T17:08:46.149Z"
      },
      {
        "duration": 17,
        "start_time": "2021-07-07T17:08:46.158Z"
      },
      {
        "duration": 14,
        "start_time": "2021-07-07T17:08:46.176Z"
      },
      {
        "duration": 17,
        "start_time": "2021-07-07T17:08:46.193Z"
      },
      {
        "duration": 9,
        "start_time": "2021-07-07T17:08:46.211Z"
      },
      {
        "duration": 21,
        "start_time": "2021-07-07T17:08:46.221Z"
      },
      {
        "duration": 49,
        "start_time": "2021-07-07T17:08:46.244Z"
      },
      {
        "duration": 24,
        "start_time": "2021-07-07T17:08:46.295Z"
      },
      {
        "duration": 22,
        "start_time": "2021-07-07T17:08:46.321Z"
      },
      {
        "duration": 6,
        "start_time": "2021-07-07T17:08:46.345Z"
      },
      {
        "duration": 5,
        "start_time": "2021-07-07T17:08:46.353Z"
      },
      {
        "duration": 13,
        "start_time": "2021-07-07T17:08:46.386Z"
      },
      {
        "duration": 12,
        "start_time": "2021-07-07T17:08:46.402Z"
      },
      {
        "duration": 10,
        "start_time": "2021-07-07T17:08:46.415Z"
      },
      {
        "duration": 7,
        "start_time": "2021-07-07T17:08:46.427Z"
      },
      {
        "duration": 8,
        "start_time": "2021-07-07T17:08:46.435Z"
      },
      {
        "duration": 68,
        "start_time": "2021-07-07T17:08:46.446Z"
      },
      {
        "duration": 13,
        "start_time": "2021-07-07T17:08:46.516Z"
      },
      {
        "duration": 78,
        "start_time": "2021-07-07T17:08:46.530Z"
      },
      {
        "duration": 40,
        "start_time": "2021-07-07T17:09:08.185Z"
      },
      {
        "duration": 16,
        "start_time": "2021-07-07T17:09:19.324Z"
      },
      {
        "duration": 21,
        "start_time": "2021-07-07T17:09:23.290Z"
      },
      {
        "duration": 13,
        "start_time": "2021-07-07T17:09:54.812Z"
      },
      {
        "duration": 13,
        "start_time": "2021-07-07T17:10:02.039Z"
      },
      {
        "duration": 10,
        "start_time": "2021-07-07T17:10:29.632Z"
      },
      {
        "duration": 13,
        "start_time": "2021-07-07T17:10:52.372Z"
      },
      {
        "duration": 13,
        "start_time": "2021-07-07T17:11:17.270Z"
      },
      {
        "duration": 13,
        "start_time": "2021-07-07T17:14:59.284Z"
      },
      {
        "duration": 547,
        "start_time": "2021-07-07T17:18:52.403Z"
      },
      {
        "duration": 163,
        "start_time": "2021-07-07T17:18:52.952Z"
      },
      {
        "duration": 44,
        "start_time": "2021-07-07T17:18:53.117Z"
      },
      {
        "duration": 3,
        "start_time": "2021-07-07T17:18:53.162Z"
      },
      {
        "duration": 26,
        "start_time": "2021-07-07T17:18:53.167Z"
      },
      {
        "duration": 6,
        "start_time": "2021-07-07T17:18:53.195Z"
      },
      {
        "duration": 15,
        "start_time": "2021-07-07T17:18:53.203Z"
      },
      {
        "duration": 5,
        "start_time": "2021-07-07T17:18:53.220Z"
      },
      {
        "duration": 11,
        "start_time": "2021-07-07T17:18:53.228Z"
      },
      {
        "duration": 9,
        "start_time": "2021-07-07T17:18:53.241Z"
      },
      {
        "duration": 41,
        "start_time": "2021-07-07T17:18:53.252Z"
      },
      {
        "duration": 33,
        "start_time": "2021-07-07T17:18:53.295Z"
      },
      {
        "duration": 19,
        "start_time": "2021-07-07T17:18:53.330Z"
      },
      {
        "duration": 49,
        "start_time": "2021-07-07T17:18:53.350Z"
      },
      {
        "duration": 5,
        "start_time": "2021-07-07T17:18:53.401Z"
      },
      {
        "duration": 5,
        "start_time": "2021-07-07T17:18:53.408Z"
      },
      {
        "duration": 11,
        "start_time": "2021-07-07T17:18:53.414Z"
      },
      {
        "duration": 9,
        "start_time": "2021-07-07T17:18:53.427Z"
      },
      {
        "duration": 10,
        "start_time": "2021-07-07T17:18:53.437Z"
      },
      {
        "duration": 39,
        "start_time": "2021-07-07T17:18:53.448Z"
      },
      {
        "duration": 26,
        "start_time": "2021-07-07T17:18:55.799Z"
      },
      {
        "duration": 598,
        "start_time": "2021-07-07T17:20:17.862Z"
      },
      {
        "duration": 161,
        "start_time": "2021-07-07T17:20:18.462Z"
      },
      {
        "duration": 45,
        "start_time": "2021-07-07T17:20:18.626Z"
      },
      {
        "duration": 4,
        "start_time": "2021-07-07T17:20:18.673Z"
      },
      {
        "duration": 38,
        "start_time": "2021-07-07T17:20:26.877Z"
      },
      {
        "duration": 7,
        "start_time": "2021-07-07T17:20:37.405Z"
      },
      {
        "duration": 19,
        "start_time": "2021-07-07T17:20:51.534Z"
      },
      {
        "duration": 5,
        "start_time": "2021-07-07T17:20:57.228Z"
      },
      {
        "duration": 7,
        "start_time": "2021-07-07T17:21:08.235Z"
      },
      {
        "duration": 19,
        "start_time": "2021-07-07T17:21:42.158Z"
      },
      {
        "duration": 14,
        "start_time": "2021-07-07T17:21:50.225Z"
      },
      {
        "duration": 22,
        "start_time": "2021-07-07T17:22:54.104Z"
      },
      {
        "duration": 5,
        "start_time": "2021-07-07T17:22:56.371Z"
      },
      {
        "duration": 14,
        "start_time": "2021-07-07T17:22:58.316Z"
      },
      {
        "duration": 5,
        "start_time": "2021-07-07T17:22:58.493Z"
      },
      {
        "duration": 35,
        "start_time": "2021-07-07T17:22:59.666Z"
      },
      {
        "duration": 6,
        "start_time": "2021-07-07T17:23:02.410Z"
      },
      {
        "duration": 611,
        "start_time": "2021-07-07T17:24:59.664Z"
      },
      {
        "duration": 178,
        "start_time": "2021-07-07T17:25:01.945Z"
      },
      {
        "duration": 47,
        "start_time": "2021-07-07T17:25:02.125Z"
      },
      {
        "duration": 2,
        "start_time": "2021-07-07T17:25:07.903Z"
      },
      {
        "duration": 254,
        "start_time": "2021-07-07T17:25:08.232Z"
      },
      {
        "duration": 182,
        "start_time": "2021-07-07T17:25:08.671Z"
      },
      {
        "duration": 6,
        "start_time": "2021-07-07T17:25:13.104Z"
      },
      {
        "duration": 36,
        "start_time": "2021-07-07T17:25:13.662Z"
      },
      {
        "duration": 7,
        "start_time": "2021-07-07T17:25:14.528Z"
      },
      {
        "duration": 24,
        "start_time": "2021-07-07T17:25:27.982Z"
      },
      {
        "duration": 3,
        "start_time": "2021-07-07T17:25:48.982Z"
      },
      {
        "duration": 165,
        "start_time": "2021-07-07T17:25:48.987Z"
      },
      {
        "duration": 50,
        "start_time": "2021-07-07T17:25:49.154Z"
      },
      {
        "duration": 4,
        "start_time": "2021-07-07T17:25:49.206Z"
      },
      {
        "duration": 26,
        "start_time": "2021-07-07T17:25:49.212Z"
      },
      {
        "duration": 7,
        "start_time": "2021-07-07T17:25:49.240Z"
      },
      {
        "duration": 16,
        "start_time": "2021-07-07T17:25:49.249Z"
      },
      {
        "duration": 22,
        "start_time": "2021-07-07T17:25:49.266Z"
      },
      {
        "duration": 16,
        "start_time": "2021-07-07T17:25:49.291Z"
      },
      {
        "duration": 9,
        "start_time": "2021-07-07T17:25:49.309Z"
      },
      {
        "duration": 7,
        "start_time": "2021-07-07T17:25:49.319Z"
      },
      {
        "duration": 28,
        "start_time": "2021-07-07T17:25:49.328Z"
      },
      {
        "duration": 44,
        "start_time": "2021-07-07T17:25:49.357Z"
      },
      {
        "duration": 22,
        "start_time": "2021-07-07T17:25:49.403Z"
      },
      {
        "duration": 7,
        "start_time": "2021-07-07T17:25:49.427Z"
      },
      {
        "duration": 3,
        "start_time": "2021-07-07T17:25:49.436Z"
      },
      {
        "duration": 44,
        "start_time": "2021-07-07T17:25:49.441Z"
      },
      {
        "duration": 12,
        "start_time": "2021-07-07T17:25:49.488Z"
      },
      {
        "duration": 13,
        "start_time": "2021-07-07T17:25:49.502Z"
      },
      {
        "duration": 10,
        "start_time": "2021-07-07T17:25:49.516Z"
      },
      {
        "duration": 62,
        "start_time": "2021-07-07T17:25:49.527Z"
      },
      {
        "duration": 26,
        "start_time": "2021-07-07T17:26:51.809Z"
      },
      {
        "duration": 26,
        "start_time": "2021-07-07T17:26:55.759Z"
      },
      {
        "duration": 26,
        "start_time": "2021-07-07T17:27:04.501Z"
      },
      {
        "duration": 25,
        "start_time": "2021-07-07T17:28:24.859Z"
      },
      {
        "duration": 21,
        "start_time": "2021-07-07T17:28:55.250Z"
      },
      {
        "duration": 21,
        "start_time": "2021-07-07T17:28:58.885Z"
      },
      {
        "duration": 7,
        "start_time": "2021-07-07T17:45:40.972Z"
      },
      {
        "duration": 13,
        "start_time": "2021-07-07T17:45:42.529Z"
      },
      {
        "duration": 27,
        "start_time": "2021-07-07T17:45:51.026Z"
      },
      {
        "duration": 518,
        "start_time": "2021-07-07T17:46:15.532Z"
      },
      {
        "duration": 235,
        "start_time": "2021-07-07T17:46:16.053Z"
      },
      {
        "duration": 80,
        "start_time": "2021-07-07T17:46:16.292Z"
      },
      {
        "duration": 5,
        "start_time": "2021-07-07T17:46:16.373Z"
      },
      {
        "duration": 26,
        "start_time": "2021-07-07T17:46:16.380Z"
      },
      {
        "duration": 7,
        "start_time": "2021-07-07T17:46:16.408Z"
      },
      {
        "duration": 16,
        "start_time": "2021-07-07T17:46:16.418Z"
      },
      {
        "duration": 5,
        "start_time": "2021-07-07T17:46:16.436Z"
      },
      {
        "duration": 13,
        "start_time": "2021-07-07T17:46:16.442Z"
      },
      {
        "duration": 35,
        "start_time": "2021-07-07T17:46:16.456Z"
      },
      {
        "duration": 8,
        "start_time": "2021-07-07T17:46:16.493Z"
      },
      {
        "duration": 28,
        "start_time": "2021-07-07T17:46:16.502Z"
      },
      {
        "duration": 17,
        "start_time": "2021-07-07T17:46:16.532Z"
      },
      {
        "duration": 44,
        "start_time": "2021-07-07T17:46:16.551Z"
      },
      {
        "duration": 6,
        "start_time": "2021-07-07T17:46:16.597Z"
      },
      {
        "duration": 4,
        "start_time": "2021-07-07T17:46:16.605Z"
      },
      {
        "duration": 9,
        "start_time": "2021-07-07T17:46:16.610Z"
      },
      {
        "duration": 9,
        "start_time": "2021-07-07T17:46:16.621Z"
      },
      {
        "duration": 10,
        "start_time": "2021-07-07T17:46:16.632Z"
      },
      {
        "duration": 43,
        "start_time": "2021-07-07T17:46:16.644Z"
      },
      {
        "duration": 26,
        "start_time": "2021-07-07T17:46:16.689Z"
      },
      {
        "duration": 19,
        "start_time": "2021-07-07T17:46:16.718Z"
      },
      {
        "duration": 8,
        "start_time": "2021-07-07T17:46:16.738Z"
      },
      {
        "duration": 43,
        "start_time": "2021-07-07T17:46:16.747Z"
      },
      {
        "duration": 19,
        "start_time": "2021-07-07T17:46:16.791Z"
      },
      {
        "duration": 9,
        "start_time": "2021-07-07T17:46:16.812Z"
      },
      {
        "duration": 60,
        "start_time": "2021-07-07T17:46:16.822Z"
      },
      {
        "duration": -8,
        "start_time": "2021-07-07T17:46:16.892Z"
      },
      {
        "duration": 12,
        "start_time": "2021-07-07T17:48:47.707Z"
      },
      {
        "duration": 553,
        "start_time": "2021-07-07T18:10:09.350Z"
      },
      {
        "duration": 230,
        "start_time": "2021-07-07T18:10:09.905Z"
      },
      {
        "duration": 97,
        "start_time": "2021-07-07T18:10:10.137Z"
      },
      {
        "duration": 5,
        "start_time": "2021-07-07T18:10:10.236Z"
      },
      {
        "duration": 29,
        "start_time": "2021-07-07T18:10:10.242Z"
      },
      {
        "duration": 7,
        "start_time": "2021-07-07T18:10:10.272Z"
      },
      {
        "duration": 15,
        "start_time": "2021-07-07T18:10:10.281Z"
      },
      {
        "duration": 4,
        "start_time": "2021-07-07T18:10:10.299Z"
      },
      {
        "duration": 14,
        "start_time": "2021-07-07T18:10:10.305Z"
      },
      {
        "duration": 8,
        "start_time": "2021-07-07T18:10:10.321Z"
      },
      {
        "duration": 8,
        "start_time": "2021-07-07T18:10:10.331Z"
      },
      {
        "duration": 56,
        "start_time": "2021-07-07T18:10:10.341Z"
      },
      {
        "duration": 19,
        "start_time": "2021-07-07T18:10:10.399Z"
      },
      {
        "duration": 23,
        "start_time": "2021-07-07T18:10:10.419Z"
      },
      {
        "duration": 6,
        "start_time": "2021-07-07T18:10:10.444Z"
      },
      {
        "duration": 9,
        "start_time": "2021-07-07T18:10:10.451Z"
      },
      {
        "duration": 30,
        "start_time": "2021-07-07T18:10:10.462Z"
      },
      {
        "duration": 9,
        "start_time": "2021-07-07T18:10:10.494Z"
      },
      {
        "duration": 14,
        "start_time": "2021-07-07T18:10:10.505Z"
      },
      {
        "duration": 7,
        "start_time": "2021-07-07T18:10:10.521Z"
      },
      {
        "duration": 26,
        "start_time": "2021-07-07T18:10:10.530Z"
      },
      {
        "duration": 44,
        "start_time": "2021-07-07T18:10:10.558Z"
      },
      {
        "duration": 7,
        "start_time": "2021-07-07T18:10:10.605Z"
      },
      {
        "duration": 11,
        "start_time": "2021-07-07T18:10:10.614Z"
      },
      {
        "duration": 19,
        "start_time": "2021-07-07T18:10:10.626Z"
      },
      {
        "duration": 44,
        "start_time": "2021-07-07T18:10:10.646Z"
      },
      {
        "duration": 516,
        "start_time": "2021-07-07T18:14:00.826Z"
      },
      {
        "duration": 230,
        "start_time": "2021-07-07T18:14:01.344Z"
      },
      {
        "duration": 105,
        "start_time": "2021-07-07T18:14:01.576Z"
      },
      {
        "duration": 5,
        "start_time": "2021-07-07T18:14:01.683Z"
      },
      {
        "duration": 46,
        "start_time": "2021-07-07T18:14:01.690Z"
      },
      {
        "duration": 7,
        "start_time": "2021-07-07T18:14:01.738Z"
      },
      {
        "duration": 20,
        "start_time": "2021-07-07T18:14:01.747Z"
      },
      {
        "duration": 16,
        "start_time": "2021-07-07T18:14:01.769Z"
      },
      {
        "duration": 14,
        "start_time": "2021-07-07T18:14:01.787Z"
      },
      {
        "duration": 15,
        "start_time": "2021-07-07T18:14:01.803Z"
      },
      {
        "duration": 12,
        "start_time": "2021-07-07T18:14:01.820Z"
      },
      {
        "duration": 35,
        "start_time": "2021-07-07T18:14:01.833Z"
      },
      {
        "duration": 31,
        "start_time": "2021-07-07T18:14:01.869Z"
      },
      {
        "duration": 37,
        "start_time": "2021-07-07T18:14:01.902Z"
      },
      {
        "duration": 8,
        "start_time": "2021-07-07T18:14:01.942Z"
      },
      {
        "duration": 16,
        "start_time": "2021-07-07T18:14:01.952Z"
      },
      {
        "duration": 13,
        "start_time": "2021-07-07T18:14:01.970Z"
      },
      {
        "duration": 32,
        "start_time": "2021-07-07T18:14:01.985Z"
      },
      {
        "duration": 11,
        "start_time": "2021-07-07T18:14:02.019Z"
      },
      {
        "duration": 22,
        "start_time": "2021-07-07T18:14:02.031Z"
      },
      {
        "duration": 27,
        "start_time": "2021-07-07T18:14:02.055Z"
      },
      {
        "duration": 18,
        "start_time": "2021-07-07T18:14:02.084Z"
      },
      {
        "duration": 18,
        "start_time": "2021-07-07T18:14:02.106Z"
      },
      {
        "duration": 11,
        "start_time": "2021-07-07T18:14:02.126Z"
      },
      {
        "duration": 21,
        "start_time": "2021-07-07T18:14:02.138Z"
      },
      {
        "duration": 32,
        "start_time": "2021-07-07T18:14:02.161Z"
      },
      {
        "duration": 28,
        "start_time": "2021-07-07T18:14:44.295Z"
      },
      {
        "duration": 6,
        "start_time": "2021-07-07T18:15:05.834Z"
      },
      {
        "duration": 511,
        "start_time": "2021-07-07T18:15:41.541Z"
      },
      {
        "duration": 183,
        "start_time": "2021-07-07T18:15:42.054Z"
      },
      {
        "duration": 50,
        "start_time": "2021-07-07T18:15:42.239Z"
      },
      {
        "duration": 5,
        "start_time": "2021-07-07T18:15:42.291Z"
      },
      {
        "duration": 48,
        "start_time": "2021-07-07T18:15:42.297Z"
      },
      {
        "duration": 8,
        "start_time": "2021-07-07T18:15:42.346Z"
      },
      {
        "duration": 17,
        "start_time": "2021-07-07T18:15:42.356Z"
      },
      {
        "duration": 15,
        "start_time": "2021-07-07T18:15:42.375Z"
      },
      {
        "duration": 12,
        "start_time": "2021-07-07T18:15:42.392Z"
      },
      {
        "duration": 7,
        "start_time": "2021-07-07T18:15:42.406Z"
      },
      {
        "duration": 7,
        "start_time": "2021-07-07T18:15:42.415Z"
      },
      {
        "duration": 29,
        "start_time": "2021-07-07T18:15:42.423Z"
      },
      {
        "duration": 43,
        "start_time": "2021-07-07T18:15:42.453Z"
      },
      {
        "duration": 18,
        "start_time": "2021-07-07T18:15:42.497Z"
      },
      {
        "duration": 6,
        "start_time": "2021-07-07T18:15:42.516Z"
      },
      {
        "duration": 3,
        "start_time": "2021-07-07T18:15:42.523Z"
      },
      {
        "duration": 18,
        "start_time": "2021-07-07T18:15:42.528Z"
      },
      {
        "duration": 10,
        "start_time": "2021-07-07T18:15:42.547Z"
      },
      {
        "duration": 36,
        "start_time": "2021-07-07T18:15:42.559Z"
      },
      {
        "duration": 8,
        "start_time": "2021-07-07T18:15:42.597Z"
      },
      {
        "duration": 28,
        "start_time": "2021-07-07T18:15:42.606Z"
      },
      {
        "duration": 52,
        "start_time": "2021-07-07T18:15:42.635Z"
      },
      {
        "duration": 7,
        "start_time": "2021-07-07T18:15:42.690Z"
      },
      {
        "duration": 10,
        "start_time": "2021-07-07T18:15:42.699Z"
      },
      {
        "duration": 19,
        "start_time": "2021-07-07T18:15:42.711Z"
      },
      {
        "duration": 9,
        "start_time": "2021-07-07T18:15:42.732Z"
      },
      {
        "duration": 5,
        "start_time": "2021-07-07T18:15:42.743Z"
      },
      {
        "duration": 1450,
        "start_time": "2021-07-07T18:15:51.984Z"
      },
      {
        "duration": 161,
        "start_time": "2021-07-07T18:15:53.435Z"
      },
      {
        "duration": 124,
        "start_time": "2021-07-07T18:15:53.598Z"
      },
      {
        "duration": 5,
        "start_time": "2021-07-07T18:15:53.724Z"
      },
      {
        "duration": 34,
        "start_time": "2021-07-07T18:15:53.730Z"
      },
      {
        "duration": 7,
        "start_time": "2021-07-07T18:15:53.765Z"
      },
      {
        "duration": 15,
        "start_time": "2021-07-07T18:15:53.773Z"
      },
      {
        "duration": 5,
        "start_time": "2021-07-07T18:15:53.791Z"
      },
      {
        "duration": 19,
        "start_time": "2021-07-07T18:15:53.798Z"
      },
      {
        "duration": 9,
        "start_time": "2021-07-07T18:15:53.818Z"
      },
      {
        "duration": 19,
        "start_time": "2021-07-07T18:15:53.828Z"
      },
      {
        "duration": 27,
        "start_time": "2021-07-07T18:15:53.848Z"
      },
      {
        "duration": 16,
        "start_time": "2021-07-07T18:15:53.884Z"
      },
      {
        "duration": 29,
        "start_time": "2021-07-07T18:15:53.901Z"
      },
      {
        "duration": 5,
        "start_time": "2021-07-07T18:15:53.932Z"
      },
      {
        "duration": 15,
        "start_time": "2021-07-07T18:15:53.939Z"
      },
      {
        "duration": 13,
        "start_time": "2021-07-07T18:15:53.956Z"
      },
      {
        "duration": 20,
        "start_time": "2021-07-07T18:15:53.971Z"
      },
      {
        "duration": 14,
        "start_time": "2021-07-07T18:15:53.992Z"
      },
      {
        "duration": 9,
        "start_time": "2021-07-07T18:15:54.009Z"
      },
      {
        "duration": 28,
        "start_time": "2021-07-07T18:15:54.020Z"
      },
      {
        "duration": 50,
        "start_time": "2021-07-07T18:15:54.051Z"
      },
      {
        "duration": 8,
        "start_time": "2021-07-07T18:15:54.105Z"
      },
      {
        "duration": 11,
        "start_time": "2021-07-07T18:15:54.115Z"
      },
      {
        "duration": 20,
        "start_time": "2021-07-07T18:15:54.128Z"
      },
      {
        "duration": 13,
        "start_time": "2021-07-07T18:15:54.184Z"
      },
      {
        "duration": 7,
        "start_time": "2021-07-07T18:15:54.199Z"
      },
      {
        "duration": 7,
        "start_time": "2021-07-07T18:17:08.042Z"
      },
      {
        "duration": 8,
        "start_time": "2021-07-07T18:17:21.008Z"
      },
      {
        "duration": 7,
        "start_time": "2021-07-07T18:17:29.003Z"
      },
      {
        "duration": 8,
        "start_time": "2021-07-07T18:17:32.492Z"
      },
      {
        "duration": 9,
        "start_time": "2021-07-07T18:17:41.758Z"
      },
      {
        "duration": 255,
        "start_time": "2021-07-07T18:20:20.897Z"
      },
      {
        "duration": 173,
        "start_time": "2021-07-07T18:20:26.636Z"
      },
      {
        "duration": 7,
        "start_time": "2021-07-07T18:21:47.164Z"
      },
      {
        "duration": 254,
        "start_time": "2021-07-07T18:23:08.703Z"
      },
      {
        "duration": 21,
        "start_time": "2021-07-07T18:23:22.506Z"
      },
      {
        "duration": 315,
        "start_time": "2021-07-07T18:25:54.801Z"
      },
      {
        "duration": 34,
        "start_time": "2021-07-07T18:26:51.817Z"
      },
      {
        "duration": 327,
        "start_time": "2021-07-07T18:26:56.147Z"
      },
      {
        "duration": 342,
        "start_time": "2021-07-07T18:27:15.887Z"
      },
      {
        "duration": 302,
        "start_time": "2021-07-07T18:28:18.569Z"
      },
      {
        "duration": 226,
        "start_time": "2021-07-07T18:29:20.879Z"
      },
      {
        "duration": 207,
        "start_time": "2021-07-07T18:29:58.114Z"
      },
      {
        "duration": 140,
        "start_time": "2021-07-07T18:32:04.372Z"
      },
      {
        "duration": 158,
        "start_time": "2021-07-07T18:32:32.508Z"
      },
      {
        "duration": 145,
        "start_time": "2021-07-07T18:32:41.365Z"
      },
      {
        "duration": 132,
        "start_time": "2021-07-07T18:32:45.199Z"
      },
      {
        "duration": 11,
        "start_time": "2021-07-07T18:35:24.679Z"
      },
      {
        "duration": 268,
        "start_time": "2021-07-07T18:36:16.145Z"
      },
      {
        "duration": 227,
        "start_time": "2021-07-07T18:37:04.918Z"
      },
      {
        "duration": 3,
        "start_time": "2021-07-07T18:37:33.012Z"
      },
      {
        "duration": 671,
        "start_time": "2021-07-07T18:37:38.295Z"
      },
      {
        "duration": 54,
        "start_time": "2021-07-07T18:37:53.406Z"
      },
      {
        "duration": 631,
        "start_time": "2021-07-07T18:37:56.463Z"
      },
      {
        "duration": 19,
        "start_time": "2021-07-07T18:39:40.535Z"
      },
      {
        "duration": 20,
        "start_time": "2021-07-07T18:40:12.236Z"
      },
      {
        "duration": 633,
        "start_time": "2021-07-07T18:42:00.398Z"
      },
      {
        "duration": 218,
        "start_time": "2021-07-07T18:42:01.033Z"
      },
      {
        "duration": 49,
        "start_time": "2021-07-07T18:42:01.253Z"
      },
      {
        "duration": 5,
        "start_time": "2021-07-07T18:42:01.303Z"
      },
      {
        "duration": 27,
        "start_time": "2021-07-07T18:42:01.310Z"
      },
      {
        "duration": 8,
        "start_time": "2021-07-07T18:42:01.339Z"
      },
      {
        "duration": 20,
        "start_time": "2021-07-07T18:42:01.348Z"
      },
      {
        "duration": 6,
        "start_time": "2021-07-07T18:42:01.386Z"
      },
      {
        "duration": 16,
        "start_time": "2021-07-07T18:42:01.394Z"
      },
      {
        "duration": 9,
        "start_time": "2021-07-07T18:42:01.411Z"
      },
      {
        "duration": 11,
        "start_time": "2021-07-07T18:42:01.421Z"
      },
      {
        "duration": 31,
        "start_time": "2021-07-07T18:42:01.434Z"
      },
      {
        "duration": 18,
        "start_time": "2021-07-07T18:42:01.485Z"
      },
      {
        "duration": 23,
        "start_time": "2021-07-07T18:42:01.505Z"
      },
      {
        "duration": 6,
        "start_time": "2021-07-07T18:42:01.530Z"
      },
      {
        "duration": 10,
        "start_time": "2021-07-07T18:42:01.538Z"
      },
      {
        "duration": 13,
        "start_time": "2021-07-07T18:42:01.550Z"
      },
      {
        "duration": 24,
        "start_time": "2021-07-07T18:42:01.564Z"
      },
      {
        "duration": 20,
        "start_time": "2021-07-07T18:42:01.590Z"
      },
      {
        "duration": 8,
        "start_time": "2021-07-07T18:42:01.611Z"
      },
      {
        "duration": 31,
        "start_time": "2021-07-07T18:42:01.620Z"
      },
      {
        "duration": 39,
        "start_time": "2021-07-07T18:42:01.653Z"
      },
      {
        "duration": 8,
        "start_time": "2021-07-07T18:42:01.696Z"
      },
      {
        "duration": 13,
        "start_time": "2021-07-07T18:42:01.705Z"
      },
      {
        "duration": 20,
        "start_time": "2021-07-07T18:42:01.720Z"
      },
      {
        "duration": 12,
        "start_time": "2021-07-07T18:42:01.741Z"
      },
      {
        "duration": 35,
        "start_time": "2021-07-07T18:42:01.755Z"
      },
      {
        "duration": 14,
        "start_time": "2021-07-07T18:42:01.792Z"
      },
      {
        "duration": 188,
        "start_time": "2021-07-07T18:42:01.808Z"
      },
      {
        "duration": 19,
        "start_time": "2021-07-07T18:42:01.998Z"
      },
      {
        "duration": 175,
        "start_time": "2021-07-07T18:42:02.019Z"
      },
      {
        "duration": 134,
        "start_time": "2021-07-07T18:42:02.196Z"
      },
      {
        "duration": 10,
        "start_time": "2021-07-07T18:42:02.331Z"
      },
      {
        "duration": 19,
        "start_time": "2021-07-07T18:42:02.343Z"
      },
      {
        "duration": 628,
        "start_time": "2021-07-07T18:46:30.701Z"
      },
      {
        "duration": 183,
        "start_time": "2021-07-07T18:46:31.331Z"
      },
      {
        "duration": 48,
        "start_time": "2021-07-07T18:46:31.516Z"
      },
      {
        "duration": 5,
        "start_time": "2021-07-07T18:46:31.566Z"
      },
      {
        "duration": 28,
        "start_time": "2021-07-07T18:46:31.572Z"
      },
      {
        "duration": 8,
        "start_time": "2021-07-07T18:46:31.602Z"
      },
      {
        "duration": 19,
        "start_time": "2021-07-07T18:46:31.611Z"
      },
      {
        "duration": 6,
        "start_time": "2021-07-07T18:46:31.633Z"
      },
      {
        "duration": 17,
        "start_time": "2021-07-07T18:46:31.642Z"
      },
      {
        "duration": 10,
        "start_time": "2021-07-07T18:46:31.684Z"
      },
      {
        "duration": 9,
        "start_time": "2021-07-07T18:46:31.695Z"
      },
      {
        "duration": 28,
        "start_time": "2021-07-07T18:46:31.705Z"
      },
      {
        "duration": 18,
        "start_time": "2021-07-07T18:46:31.735Z"
      },
      {
        "duration": 48,
        "start_time": "2021-07-07T18:46:31.755Z"
      },
      {
        "duration": 6,
        "start_time": "2021-07-07T18:46:31.804Z"
      },
      {
        "duration": 4,
        "start_time": "2021-07-07T18:46:31.812Z"
      },
      {
        "duration": 9,
        "start_time": "2021-07-07T18:46:31.817Z"
      },
      {
        "duration": 10,
        "start_time": "2021-07-07T18:46:31.827Z"
      },
      {
        "duration": 12,
        "start_time": "2021-07-07T18:46:31.838Z"
      },
      {
        "duration": 39,
        "start_time": "2021-07-07T18:46:31.851Z"
      },
      {
        "duration": 24,
        "start_time": "2021-07-07T18:46:31.892Z"
      },
      {
        "duration": 15,
        "start_time": "2021-07-07T18:46:31.918Z"
      },
      {
        "duration": 7,
        "start_time": "2021-07-07T18:46:31.936Z"
      },
      {
        "duration": 8,
        "start_time": "2021-07-07T18:46:31.944Z"
      },
      {
        "duration": 19,
        "start_time": "2021-07-07T18:46:31.984Z"
      },
      {
        "duration": 10,
        "start_time": "2021-07-07T18:46:32.004Z"
      },
      {
        "duration": 5,
        "start_time": "2021-07-07T18:46:32.016Z"
      },
      {
        "duration": 9,
        "start_time": "2021-07-07T18:46:32.023Z"
      },
      {
        "duration": 199,
        "start_time": "2021-07-07T18:46:32.033Z"
      },
      {
        "duration": 19,
        "start_time": "2021-07-07T18:46:32.234Z"
      },
      {
        "duration": 159,
        "start_time": "2021-07-07T18:46:32.255Z"
      },
      {
        "duration": 134,
        "start_time": "2021-07-07T18:46:32.416Z"
      },
      {
        "duration": 10,
        "start_time": "2021-07-07T18:46:32.552Z"
      },
      {
        "duration": 34,
        "start_time": "2021-07-07T18:46:32.563Z"
      },
      {
        "duration": 1039,
        "start_time": "2021-07-08T08:41:09.419Z"
      },
      {
        "duration": 333,
        "start_time": "2021-07-08T08:41:10.459Z"
      },
      {
        "duration": 173,
        "start_time": "2021-07-08T08:41:10.794Z"
      },
      {
        "duration": 5,
        "start_time": "2021-07-08T08:41:10.968Z"
      },
      {
        "duration": 25,
        "start_time": "2021-07-08T08:41:10.975Z"
      },
      {
        "duration": 9,
        "start_time": "2021-07-08T08:41:11.002Z"
      },
      {
        "duration": 18,
        "start_time": "2021-07-08T08:41:11.013Z"
      },
      {
        "duration": 6,
        "start_time": "2021-07-08T08:41:11.033Z"
      },
      {
        "duration": 44,
        "start_time": "2021-07-08T08:41:11.042Z"
      },
      {
        "duration": 10,
        "start_time": "2021-07-08T08:41:11.088Z"
      },
      {
        "duration": 9,
        "start_time": "2021-07-08T08:41:11.100Z"
      },
      {
        "duration": 27,
        "start_time": "2021-07-08T08:41:11.111Z"
      },
      {
        "duration": 46,
        "start_time": "2021-07-08T08:41:11.140Z"
      },
      {
        "duration": 17,
        "start_time": "2021-07-08T08:41:11.187Z"
      },
      {
        "duration": 6,
        "start_time": "2021-07-08T08:41:11.206Z"
      },
      {
        "duration": 5,
        "start_time": "2021-07-08T08:41:11.213Z"
      },
      {
        "duration": 10,
        "start_time": "2021-07-08T08:41:11.219Z"
      },
      {
        "duration": 9,
        "start_time": "2021-07-08T08:41:11.230Z"
      },
      {
        "duration": 45,
        "start_time": "2021-07-08T08:41:11.241Z"
      },
      {
        "duration": 7,
        "start_time": "2021-07-08T08:41:11.287Z"
      },
      {
        "duration": 24,
        "start_time": "2021-07-08T08:41:11.296Z"
      },
      {
        "duration": 16,
        "start_time": "2021-07-08T08:41:11.322Z"
      },
      {
        "duration": 7,
        "start_time": "2021-07-08T08:41:11.341Z"
      },
      {
        "duration": 41,
        "start_time": "2021-07-08T08:41:11.349Z"
      },
      {
        "duration": 17,
        "start_time": "2021-07-08T08:41:11.391Z"
      },
      {
        "duration": 9,
        "start_time": "2021-07-08T08:41:11.410Z"
      },
      {
        "duration": 5,
        "start_time": "2021-07-08T08:41:11.421Z"
      },
      {
        "duration": 6,
        "start_time": "2021-07-08T08:41:11.428Z"
      },
      {
        "duration": 198,
        "start_time": "2021-07-08T08:41:11.435Z"
      },
      {
        "duration": 18,
        "start_time": "2021-07-08T08:41:11.635Z"
      },
      {
        "duration": 155,
        "start_time": "2021-07-08T08:41:11.655Z"
      },
      {
        "duration": 138,
        "start_time": "2021-07-08T08:41:11.811Z"
      },
      {
        "duration": 10,
        "start_time": "2021-07-08T08:41:11.950Z"
      },
      {
        "duration": 29,
        "start_time": "2021-07-08T08:41:11.961Z"
      },
      {
        "duration": 171,
        "start_time": "2021-07-08T08:47:44.522Z"
      },
      {
        "duration": 124,
        "start_time": "2021-07-08T08:47:46.872Z"
      },
      {
        "duration": 191,
        "start_time": "2021-07-08T08:47:58.148Z"
      },
      {
        "duration": 191,
        "start_time": "2021-07-08T08:48:07.412Z"
      },
      {
        "duration": 261,
        "start_time": "2021-07-08T08:48:10.385Z"
      },
      {
        "duration": 255,
        "start_time": "2021-07-08T08:48:14.494Z"
      },
      {
        "duration": 219,
        "start_time": "2021-07-08T08:48:22.752Z"
      },
      {
        "duration": 173,
        "start_time": "2021-07-08T08:49:06.395Z"
      },
      {
        "duration": 180,
        "start_time": "2021-07-08T08:49:21.011Z"
      },
      {
        "duration": 6,
        "start_time": "2021-07-08T08:50:31.697Z"
      },
      {
        "duration": 10,
        "start_time": "2021-07-08T08:50:47.394Z"
      },
      {
        "duration": 11,
        "start_time": "2021-07-08T08:53:49.332Z"
      },
      {
        "duration": 171,
        "start_time": "2021-07-08T08:54:28.408Z"
      },
      {
        "duration": 636,
        "start_time": "2021-07-08T09:02:48.385Z"
      },
      {
        "duration": 227,
        "start_time": "2021-07-08T09:02:49.023Z"
      },
      {
        "duration": 104,
        "start_time": "2021-07-08T09:02:49.252Z"
      },
      {
        "duration": 5,
        "start_time": "2021-07-08T09:02:49.358Z"
      },
      {
        "duration": 27,
        "start_time": "2021-07-08T09:02:49.365Z"
      },
      {
        "duration": 8,
        "start_time": "2021-07-08T09:02:49.394Z"
      },
      {
        "duration": 18,
        "start_time": "2021-07-08T09:02:49.404Z"
      },
      {
        "duration": 6,
        "start_time": "2021-07-08T09:02:49.424Z"
      },
      {
        "duration": 11,
        "start_time": "2021-07-08T09:02:49.433Z"
      },
      {
        "duration": 13,
        "start_time": "2021-07-08T09:02:49.485Z"
      },
      {
        "duration": 9,
        "start_time": "2021-07-08T09:02:49.500Z"
      },
      {
        "duration": 38,
        "start_time": "2021-07-08T09:02:49.511Z"
      },
      {
        "duration": 42,
        "start_time": "2021-07-08T09:02:49.551Z"
      },
      {
        "duration": 21,
        "start_time": "2021-07-08T09:02:49.594Z"
      },
      {
        "duration": 6,
        "start_time": "2021-07-08T09:02:49.616Z"
      },
      {
        "duration": 3,
        "start_time": "2021-07-08T09:02:49.623Z"
      },
      {
        "duration": 9,
        "start_time": "2021-07-08T09:02:49.628Z"
      },
      {
        "duration": 52,
        "start_time": "2021-07-08T09:02:49.638Z"
      },
      {
        "duration": 11,
        "start_time": "2021-07-08T09:02:49.692Z"
      },
      {
        "duration": 8,
        "start_time": "2021-07-08T09:02:49.704Z"
      },
      {
        "duration": 27,
        "start_time": "2021-07-08T09:02:49.713Z"
      },
      {
        "duration": 59,
        "start_time": "2021-07-08T09:02:49.741Z"
      },
      {
        "duration": 8,
        "start_time": "2021-07-08T09:02:49.803Z"
      },
      {
        "duration": 14,
        "start_time": "2021-07-08T09:02:49.813Z"
      },
      {
        "duration": 20,
        "start_time": "2021-07-08T09:02:49.829Z"
      },
      {
        "duration": 44,
        "start_time": "2021-07-08T09:02:49.851Z"
      },
      {
        "duration": 14,
        "start_time": "2021-07-08T09:02:49.896Z"
      },
      {
        "duration": 221,
        "start_time": "2021-07-08T09:02:49.912Z"
      },
      {
        "duration": 6,
        "start_time": "2021-07-08T09:02:50.134Z"
      },
      {
        "duration": 206,
        "start_time": "2021-07-08T09:02:50.142Z"
      },
      {
        "duration": 19,
        "start_time": "2021-07-08T09:02:50.350Z"
      },
      {
        "duration": 21,
        "start_time": "2021-07-08T09:02:50.370Z"
      },
      {
        "duration": 20,
        "start_time": "2021-07-08T09:02:50.393Z"
      },
      {
        "duration": 5,
        "start_time": "2021-07-08T09:02:50.414Z"
      },
      {
        "duration": 5,
        "start_time": "2021-07-08T09:03:34.173Z"
      },
      {
        "duration": 6,
        "start_time": "2021-07-08T09:04:49.062Z"
      },
      {
        "duration": 9,
        "start_time": "2021-07-08T09:04:50.118Z"
      },
      {
        "duration": 14,
        "start_time": "2021-07-08T09:04:58.512Z"
      },
      {
        "duration": 9,
        "start_time": "2021-07-08T09:05:10.988Z"
      },
      {
        "duration": 11,
        "start_time": "2021-07-08T09:05:11.743Z"
      },
      {
        "duration": 7,
        "start_time": "2021-07-08T09:05:25.677Z"
      },
      {
        "duration": 13,
        "start_time": "2021-07-08T09:05:47.189Z"
      },
      {
        "duration": 13,
        "start_time": "2021-07-08T09:05:54.755Z"
      },
      {
        "duration": 4,
        "start_time": "2021-07-08T09:06:29.189Z"
      },
      {
        "duration": 244,
        "start_time": "2021-07-08T09:06:29.195Z"
      },
      {
        "duration": 91,
        "start_time": "2021-07-08T09:06:29.441Z"
      },
      {
        "duration": 4,
        "start_time": "2021-07-08T09:06:29.534Z"
      },
      {
        "duration": 28,
        "start_time": "2021-07-08T09:06:29.540Z"
      },
      {
        "duration": 6,
        "start_time": "2021-07-08T09:06:29.570Z"
      },
      {
        "duration": 18,
        "start_time": "2021-07-08T09:06:29.578Z"
      },
      {
        "duration": 5,
        "start_time": "2021-07-08T09:06:29.597Z"
      },
      {
        "duration": 13,
        "start_time": "2021-07-08T09:06:29.605Z"
      },
      {
        "duration": 8,
        "start_time": "2021-07-08T09:06:29.620Z"
      },
      {
        "duration": 7,
        "start_time": "2021-07-08T09:06:29.630Z"
      },
      {
        "duration": 63,
        "start_time": "2021-07-08T09:06:29.639Z"
      },
      {
        "duration": 17,
        "start_time": "2021-07-08T09:06:29.704Z"
      },
      {
        "duration": 20,
        "start_time": "2021-07-08T09:06:29.723Z"
      },
      {
        "duration": 6,
        "start_time": "2021-07-08T09:06:29.745Z"
      },
      {
        "duration": 3,
        "start_time": "2021-07-08T09:06:29.752Z"
      },
      {
        "duration": 7,
        "start_time": "2021-07-08T09:06:29.785Z"
      },
      {
        "duration": 11,
        "start_time": "2021-07-08T09:06:29.794Z"
      },
      {
        "duration": 15,
        "start_time": "2021-07-08T09:06:29.807Z"
      },
      {
        "duration": 8,
        "start_time": "2021-07-08T09:06:29.823Z"
      },
      {
        "duration": 70,
        "start_time": "2021-07-08T09:06:29.832Z"
      },
      {
        "duration": 17,
        "start_time": "2021-07-08T09:06:29.903Z"
      },
      {
        "duration": 9,
        "start_time": "2021-07-08T09:06:29.921Z"
      },
      {
        "duration": 9,
        "start_time": "2021-07-08T09:06:29.932Z"
      },
      {
        "duration": 57,
        "start_time": "2021-07-08T09:06:29.942Z"
      },
      {
        "duration": 11,
        "start_time": "2021-07-08T09:06:30.001Z"
      },
      {
        "duration": 19,
        "start_time": "2021-07-08T09:06:30.016Z"
      },
      {
        "duration": 217,
        "start_time": "2021-07-08T09:06:30.037Z"
      },
      {
        "duration": 6,
        "start_time": "2021-07-08T09:06:30.255Z"
      },
      {
        "duration": 205,
        "start_time": "2021-07-08T09:06:30.263Z"
      },
      {
        "duration": 27,
        "start_time": "2021-07-08T09:06:30.470Z"
      },
      {
        "duration": 11,
        "start_time": "2021-07-08T09:06:30.500Z"
      },
      {
        "duration": 31,
        "start_time": "2021-07-08T09:06:30.513Z"
      },
      {
        "duration": 18,
        "start_time": "2021-07-08T09:06:30.546Z"
      },
      {
        "duration": 11,
        "start_time": "2021-07-08T09:06:30.566Z"
      },
      {
        "duration": 19,
        "start_time": "2021-07-08T09:06:30.579Z"
      },
      {
        "duration": 20,
        "start_time": "2021-07-08T09:06:49.466Z"
      },
      {
        "duration": 9,
        "start_time": "2021-07-08T09:06:51.994Z"
      },
      {
        "duration": 20,
        "start_time": "2021-07-08T09:06:52.273Z"
      },
      {
        "duration": 246,
        "start_time": "2021-07-08T09:10:21.272Z"
      },
      {
        "duration": 84,
        "start_time": "2021-07-08T09:10:21.436Z"
      },
      {
        "duration": 7,
        "start_time": "2021-07-08T09:10:37.608Z"
      },
      {
        "duration": 189,
        "start_time": "2021-07-08T09:10:38.573Z"
      },
      {
        "duration": 185,
        "start_time": "2021-07-08T09:10:53.181Z"
      },
      {
        "duration": 11,
        "start_time": "2021-07-08T09:10:59.549Z"
      },
      {
        "duration": 42,
        "start_time": "2021-07-08T09:10:59.709Z"
      },
      {
        "duration": 12,
        "start_time": "2021-07-08T09:11:02.857Z"
      },
      {
        "duration": 28,
        "start_time": "2021-07-08T09:11:10.062Z"
      },
      {
        "duration": 249,
        "start_time": "2021-07-08T09:11:37.388Z"
      },
      {
        "duration": 232,
        "start_time": "2021-07-08T09:11:49.485Z"
      },
      {
        "duration": 453,
        "start_time": "2021-07-08T09:12:01.546Z"
      },
      {
        "duration": 440,
        "start_time": "2021-07-08T09:12:12.347Z"
      },
      {
        "duration": 213,
        "start_time": "2021-07-08T09:13:32.196Z"
      },
      {
        "duration": 172,
        "start_time": "2021-07-08T09:14:07.400Z"
      },
      {
        "duration": 185,
        "start_time": "2021-07-08T09:14:14.905Z"
      },
      {
        "duration": 209,
        "start_time": "2021-07-08T09:14:40.109Z"
      },
      {
        "duration": 201,
        "start_time": "2021-07-08T09:14:54.506Z"
      },
      {
        "duration": 622,
        "start_time": "2021-07-08T09:18:14.497Z"
      },
      {
        "duration": 220,
        "start_time": "2021-07-08T09:18:15.121Z"
      },
      {
        "duration": 79,
        "start_time": "2021-07-08T09:18:15.343Z"
      },
      {
        "duration": 4,
        "start_time": "2021-07-08T09:18:15.425Z"
      },
      {
        "duration": 24,
        "start_time": "2021-07-08T09:18:15.431Z"
      },
      {
        "duration": 8,
        "start_time": "2021-07-08T09:18:15.457Z"
      },
      {
        "duration": 16,
        "start_time": "2021-07-08T09:18:15.466Z"
      },
      {
        "duration": 5,
        "start_time": "2021-07-08T09:18:15.484Z"
      },
      {
        "duration": 10,
        "start_time": "2021-07-08T09:18:15.493Z"
      },
      {
        "duration": 8,
        "start_time": "2021-07-08T09:18:15.504Z"
      },
      {
        "duration": 7,
        "start_time": "2021-07-08T09:18:15.513Z"
      },
      {
        "duration": 26,
        "start_time": "2021-07-08T09:18:15.522Z"
      },
      {
        "duration": 49,
        "start_time": "2021-07-08T09:18:15.550Z"
      },
      {
        "duration": 21,
        "start_time": "2021-07-08T09:18:15.601Z"
      },
      {
        "duration": 8,
        "start_time": "2021-07-08T09:18:15.624Z"
      },
      {
        "duration": 3,
        "start_time": "2021-07-08T09:18:15.634Z"
      },
      {
        "duration": 8,
        "start_time": "2021-07-08T09:18:15.639Z"
      },
      {
        "duration": 45,
        "start_time": "2021-07-08T09:18:15.649Z"
      },
      {
        "duration": 13,
        "start_time": "2021-07-08T09:18:15.696Z"
      },
      {
        "duration": 10,
        "start_time": "2021-07-08T09:18:15.711Z"
      },
      {
        "duration": 64,
        "start_time": "2021-07-08T09:18:15.722Z"
      },
      {
        "duration": 19,
        "start_time": "2021-07-08T09:18:15.788Z"
      },
      {
        "duration": 9,
        "start_time": "2021-07-08T09:18:15.809Z"
      },
      {
        "duration": 9,
        "start_time": "2021-07-08T09:18:15.820Z"
      },
      {
        "duration": 18,
        "start_time": "2021-07-08T09:18:15.831Z"
      },
      {
        "duration": 43,
        "start_time": "2021-07-08T09:18:15.851Z"
      },
      {
        "duration": 12,
        "start_time": "2021-07-08T09:18:15.897Z"
      },
      {
        "duration": 219,
        "start_time": "2021-07-08T09:18:15.911Z"
      },
      {
        "duration": 8,
        "start_time": "2021-07-08T09:18:16.132Z"
      },
      {
        "duration": 199,
        "start_time": "2021-07-08T09:18:16.141Z"
      },
      {
        "duration": 18,
        "start_time": "2021-07-08T09:18:16.341Z"
      },
      {
        "duration": 24,
        "start_time": "2021-07-08T09:18:16.361Z"
      },
      {
        "duration": 24,
        "start_time": "2021-07-08T09:18:16.387Z"
      },
      {
        "duration": 211,
        "start_time": "2021-07-08T09:18:16.413Z"
      },
      {
        "duration": 18,
        "start_time": "2021-07-08T09:18:16.626Z"
      },
      {
        "duration": 596,
        "start_time": "2021-07-08T10:06:33.623Z"
      },
      {
        "duration": 181,
        "start_time": "2021-07-08T10:06:34.221Z"
      },
      {
        "duration": 176,
        "start_time": "2021-07-08T10:06:34.635Z"
      },
      {
        "duration": 239,
        "start_time": "2021-07-08T10:06:55.572Z"
      },
      {
        "duration": 6,
        "start_time": "2021-07-08T10:06:57.687Z"
      },
      {
        "duration": 4,
        "start_time": "2021-07-08T10:07:03.956Z"
      },
      {
        "duration": 4,
        "start_time": "2021-07-08T10:07:10.376Z"
      },
      {
        "duration": 4,
        "start_time": "2021-07-08T10:17:19.889Z"
      },
      {
        "duration": 3,
        "start_time": "2021-07-08T10:19:19.407Z"
      },
      {
        "duration": 197,
        "start_time": "2021-07-08T10:19:19.412Z"
      },
      {
        "duration": 127,
        "start_time": "2021-07-08T10:19:19.611Z"
      },
      {
        "duration": 4,
        "start_time": "2021-07-08T10:19:19.740Z"
      },
      {
        "duration": 27,
        "start_time": "2021-07-08T10:19:19.746Z"
      },
      {
        "duration": 7,
        "start_time": "2021-07-08T10:19:19.775Z"
      },
      {
        "duration": 30,
        "start_time": "2021-07-08T10:19:19.784Z"
      },
      {
        "duration": 7,
        "start_time": "2021-07-08T10:19:19.817Z"
      },
      {
        "duration": 26,
        "start_time": "2021-07-08T10:19:19.826Z"
      },
      {
        "duration": 18,
        "start_time": "2021-07-08T10:19:19.854Z"
      },
      {
        "duration": 14,
        "start_time": "2021-07-08T10:19:19.874Z"
      },
      {
        "duration": 48,
        "start_time": "2021-07-08T10:19:19.890Z"
      },
      {
        "duration": 17,
        "start_time": "2021-07-08T10:19:19.940Z"
      },
      {
        "duration": 38,
        "start_time": "2021-07-08T10:19:19.959Z"
      },
      {
        "duration": 8,
        "start_time": "2021-07-08T10:19:19.999Z"
      },
      {
        "duration": 15,
        "start_time": "2021-07-08T10:19:20.009Z"
      },
      {
        "duration": 22,
        "start_time": "2021-07-08T10:19:20.026Z"
      },
      {
        "duration": 10,
        "start_time": "2021-07-08T10:19:20.050Z"
      },
      {
        "duration": 10,
        "start_time": "2021-07-08T10:19:20.062Z"
      },
      {
        "duration": 20,
        "start_time": "2021-07-08T10:19:20.073Z"
      },
      {
        "duration": 29,
        "start_time": "2021-07-08T10:19:20.095Z"
      },
      {
        "duration": 17,
        "start_time": "2021-07-08T10:19:20.126Z"
      },
      {
        "duration": 40,
        "start_time": "2021-07-08T10:19:20.146Z"
      },
      {
        "duration": 15,
        "start_time": "2021-07-08T10:19:20.189Z"
      },
      {
        "duration": 19,
        "start_time": "2021-07-08T10:19:20.206Z"
      },
      {
        "duration": 10,
        "start_time": "2021-07-08T10:19:20.226Z"
      },
      {
        "duration": 11,
        "start_time": "2021-07-08T10:19:20.238Z"
      },
      {
        "duration": 297,
        "start_time": "2021-07-08T10:19:20.250Z"
      },
      {
        "duration": 6,
        "start_time": "2021-07-08T10:19:20.549Z"
      },
      {
        "duration": 191,
        "start_time": "2021-07-08T10:19:20.557Z"
      },
      {
        "duration": 19,
        "start_time": "2021-07-08T10:19:20.750Z"
      },
      {
        "duration": 20,
        "start_time": "2021-07-08T10:19:20.771Z"
      },
      {
        "duration": 15,
        "start_time": "2021-07-08T10:19:20.793Z"
      },
      {
        "duration": 222,
        "start_time": "2021-07-08T10:19:20.809Z"
      },
      {
        "duration": 20,
        "start_time": "2021-07-08T10:19:21.033Z"
      },
      {
        "duration": 27,
        "start_time": "2021-07-08T10:45:04.055Z"
      },
      {
        "duration": 8,
        "start_time": "2021-07-08T10:45:08.478Z"
      },
      {
        "duration": 8,
        "start_time": "2021-07-08T10:45:31.982Z"
      },
      {
        "duration": 10,
        "start_time": "2021-07-08T10:46:01.221Z"
      },
      {
        "duration": 17,
        "start_time": "2021-07-08T10:46:40.011Z"
      },
      {
        "duration": 193,
        "start_time": "2021-07-08T10:48:19.471Z"
      },
      {
        "duration": 225,
        "start_time": "2021-07-08T10:49:26.480Z"
      },
      {
        "duration": 204,
        "start_time": "2021-07-08T10:49:59.992Z"
      },
      {
        "duration": 435,
        "start_time": "2021-07-08T10:50:06.779Z"
      },
      {
        "duration": 199,
        "start_time": "2021-07-08T10:50:14.891Z"
      },
      {
        "duration": 204,
        "start_time": "2021-07-08T10:50:18.501Z"
      },
      {
        "duration": 244,
        "start_time": "2021-07-08T10:50:23.359Z"
      },
      {
        "duration": 192,
        "start_time": "2021-07-08T10:50:29.135Z"
      },
      {
        "duration": 218,
        "start_time": "2021-07-08T10:50:33.092Z"
      },
      {
        "duration": 207,
        "start_time": "2021-07-08T10:52:45.381Z"
      },
      {
        "duration": 5,
        "start_time": "2021-07-08T10:53:34.641Z"
      },
      {
        "duration": 196,
        "start_time": "2021-07-08T10:53:41.478Z"
      },
      {
        "duration": 43,
        "start_time": "2021-07-08T10:53:50.335Z"
      },
      {
        "duration": 32,
        "start_time": "2021-07-08T10:53:55.294Z"
      },
      {
        "duration": 55,
        "start_time": "2021-07-08T10:54:09.675Z"
      },
      {
        "duration": 16,
        "start_time": "2021-07-08T10:54:12.260Z"
      },
      {
        "duration": 15,
        "start_time": "2021-07-08T10:54:49.150Z"
      },
      {
        "duration": 20,
        "start_time": "2021-07-08T10:56:07.596Z"
      },
      {
        "duration": 16,
        "start_time": "2021-07-08T10:58:26.276Z"
      },
      {
        "duration": 22,
        "start_time": "2021-07-08T10:59:00.486Z"
      },
      {
        "duration": 18,
        "start_time": "2021-07-08T11:02:09.653Z"
      },
      {
        "duration": 10,
        "start_time": "2021-07-08T11:03:44.331Z"
      },
      {
        "duration": 10,
        "start_time": "2021-07-08T11:03:54.055Z"
      },
      {
        "duration": 12,
        "start_time": "2021-07-08T11:04:41.967Z"
      },
      {
        "duration": 24,
        "start_time": "2021-07-08T11:07:30.732Z"
      },
      {
        "duration": 6,
        "start_time": "2021-07-08T11:07:37.364Z"
      },
      {
        "duration": 16,
        "start_time": "2021-07-08T11:08:01.819Z"
      },
      {
        "duration": 17,
        "start_time": "2021-07-08T11:09:47.488Z"
      },
      {
        "duration": 246,
        "start_time": "2021-07-08T11:10:00.830Z"
      },
      {
        "duration": 18,
        "start_time": "2021-07-08T11:13:55.195Z"
      },
      {
        "duration": 204,
        "start_time": "2021-07-08T11:14:04.951Z"
      },
      {
        "duration": 19,
        "start_time": "2021-07-08T11:15:10.613Z"
      },
      {
        "duration": 680,
        "start_time": "2021-07-08T11:16:25.793Z"
      },
      {
        "duration": 451,
        "start_time": "2021-07-08T11:16:40.313Z"
      },
      {
        "duration": 469,
        "start_time": "2021-07-08T11:17:21.286Z"
      },
      {
        "duration": 20,
        "start_time": "2021-07-08T11:19:12.554Z"
      },
      {
        "duration": 35,
        "start_time": "2021-07-08T11:20:05.484Z"
      },
      {
        "duration": 53,
        "start_time": "2021-07-08T11:21:40.050Z"
      },
      {
        "duration": 13,
        "start_time": "2021-07-08T11:22:26.059Z"
      },
      {
        "duration": 19,
        "start_time": "2021-07-08T11:22:47.419Z"
      },
      {
        "duration": 25,
        "start_time": "2021-07-08T11:23:19.958Z"
      },
      {
        "duration": 29,
        "start_time": "2021-07-08T11:23:25.415Z"
      },
      {
        "duration": 10,
        "start_time": "2021-07-08T11:24:45.138Z"
      },
      {
        "duration": 19,
        "start_time": "2021-07-08T11:24:54.498Z"
      },
      {
        "duration": 12,
        "start_time": "2021-07-08T11:25:32.225Z"
      },
      {
        "duration": 19,
        "start_time": "2021-07-08T11:25:37.092Z"
      },
      {
        "duration": 17,
        "start_time": "2021-07-08T11:25:58.116Z"
      },
      {
        "duration": 15,
        "start_time": "2021-07-08T11:26:02.258Z"
      },
      {
        "duration": 8,
        "start_time": "2021-07-08T11:26:59.682Z"
      },
      {
        "duration": 184,
        "start_time": "2021-07-08T11:27:21.894Z"
      },
      {
        "duration": 8,
        "start_time": "2021-07-08T11:27:23.824Z"
      },
      {
        "duration": 202,
        "start_time": "2021-07-08T11:27:23.962Z"
      },
      {
        "duration": 360,
        "start_time": "2021-07-08T11:28:33.215Z"
      },
      {
        "duration": 231,
        "start_time": "2021-07-08T11:32:05.542Z"
      },
      {
        "duration": 607,
        "start_time": "2021-07-08T11:36:27.854Z"
      },
      {
        "duration": 241,
        "start_time": "2021-07-08T11:36:28.463Z"
      },
      {
        "duration": 67,
        "start_time": "2021-07-08T11:36:28.709Z"
      },
      {
        "duration": 5,
        "start_time": "2021-07-08T11:36:28.778Z"
      },
      {
        "duration": 32,
        "start_time": "2021-07-08T11:36:28.784Z"
      },
      {
        "duration": 11,
        "start_time": "2021-07-08T11:36:28.819Z"
      },
      {
        "duration": 20,
        "start_time": "2021-07-08T11:36:28.834Z"
      },
      {
        "duration": 36,
        "start_time": "2021-07-08T11:36:28.857Z"
      },
      {
        "duration": 16,
        "start_time": "2021-07-08T11:36:28.895Z"
      },
      {
        "duration": 14,
        "start_time": "2021-07-08T11:36:28.913Z"
      },
      {
        "duration": 9,
        "start_time": "2021-07-08T11:36:28.930Z"
      },
      {
        "duration": 55,
        "start_time": "2021-07-08T11:36:28.941Z"
      },
      {
        "duration": 27,
        "start_time": "2021-07-08T11:36:28.999Z"
      },
      {
        "duration": 30,
        "start_time": "2021-07-08T11:36:29.028Z"
      },
      {
        "duration": 31,
        "start_time": "2021-07-08T11:36:29.060Z"
      },
      {
        "duration": 3,
        "start_time": "2021-07-08T11:36:29.093Z"
      },
      {
        "duration": 12,
        "start_time": "2021-07-08T11:36:29.099Z"
      },
      {
        "duration": 11,
        "start_time": "2021-07-08T11:36:29.112Z"
      },
      {
        "duration": 12,
        "start_time": "2021-07-08T11:36:29.125Z"
      },
      {
        "duration": 9,
        "start_time": "2021-07-08T11:36:29.139Z"
      },
      {
        "duration": 31,
        "start_time": "2021-07-08T11:36:29.191Z"
      },
      {
        "duration": 17,
        "start_time": "2021-07-08T11:36:29.226Z"
      },
      {
        "duration": 7,
        "start_time": "2021-07-08T11:36:29.245Z"
      },
      {
        "duration": 10,
        "start_time": "2021-07-08T11:36:29.254Z"
      },
      {
        "duration": 30,
        "start_time": "2021-07-08T11:36:29.292Z"
      },
      {
        "duration": 11,
        "start_time": "2021-07-08T11:36:29.324Z"
      },
      {
        "duration": 11,
        "start_time": "2021-07-08T11:36:29.337Z"
      },
      {
        "duration": 230,
        "start_time": "2021-07-08T11:36:29.349Z"
      },
      {
        "duration": 13,
        "start_time": "2021-07-08T11:36:29.588Z"
      },
      {
        "duration": 205,
        "start_time": "2021-07-08T11:36:29.603Z"
      },
      {
        "duration": 20,
        "start_time": "2021-07-08T11:36:29.810Z"
      },
      {
        "duration": 9,
        "start_time": "2021-07-08T11:36:29.832Z"
      },
      {
        "duration": 16,
        "start_time": "2021-07-08T11:36:29.843Z"
      },
      {
        "duration": 283,
        "start_time": "2021-07-08T11:36:29.861Z"
      },
      {
        "duration": 50,
        "start_time": "2021-07-08T11:36:30.146Z"
      },
      {
        "duration": 14,
        "start_time": "2021-07-08T11:36:30.198Z"
      },
      {
        "duration": 11,
        "start_time": "2021-07-08T11:36:30.214Z"
      },
      {
        "duration": 245,
        "start_time": "2021-07-08T11:36:30.227Z"
      },
      {
        "duration": 439,
        "start_time": "2021-07-08T11:36:30.474Z"
      },
      {
        "duration": 210,
        "start_time": "2021-07-08T11:36:30.915Z"
      },
      {
        "duration": 15,
        "start_time": "2021-07-08T11:36:31.127Z"
      },
      {
        "duration": 17,
        "start_time": "2021-07-08T11:38:20.451Z"
      },
      {
        "duration": 642,
        "start_time": "2021-07-08T11:46:17.881Z"
      },
      {
        "duration": 210,
        "start_time": "2021-07-08T11:46:18.525Z"
      },
      {
        "duration": 104,
        "start_time": "2021-07-08T11:46:18.741Z"
      },
      {
        "duration": 8,
        "start_time": "2021-07-08T11:46:18.847Z"
      },
      {
        "duration": 25,
        "start_time": "2021-07-08T11:46:18.857Z"
      },
      {
        "duration": 14,
        "start_time": "2021-07-08T11:46:18.884Z"
      },
      {
        "duration": 22,
        "start_time": "2021-07-08T11:46:18.900Z"
      },
      {
        "duration": 5,
        "start_time": "2021-07-08T11:46:18.924Z"
      },
      {
        "duration": 13,
        "start_time": "2021-07-08T11:46:18.931Z"
      },
      {
        "duration": 45,
        "start_time": "2021-07-08T11:46:18.946Z"
      },
      {
        "duration": 12,
        "start_time": "2021-07-08T11:46:18.993Z"
      },
      {
        "duration": 38,
        "start_time": "2021-07-08T11:46:19.006Z"
      },
      {
        "duration": 50,
        "start_time": "2021-07-08T11:46:19.046Z"
      },
      {
        "duration": 29,
        "start_time": "2021-07-08T11:46:19.099Z"
      },
      {
        "duration": 7,
        "start_time": "2021-07-08T11:46:19.130Z"
      },
      {
        "duration": 3,
        "start_time": "2021-07-08T11:46:19.139Z"
      },
      {
        "duration": 11,
        "start_time": "2021-07-08T11:46:19.144Z"
      },
      {
        "duration": 40,
        "start_time": "2021-07-08T11:46:19.157Z"
      },
      {
        "duration": 15,
        "start_time": "2021-07-08T11:46:19.199Z"
      },
      {
        "duration": 10,
        "start_time": "2021-07-08T11:46:19.217Z"
      },
      {
        "duration": 68,
        "start_time": "2021-07-08T11:46:19.230Z"
      },
      {
        "duration": 17,
        "start_time": "2021-07-08T11:46:19.301Z"
      },
      {
        "duration": 7,
        "start_time": "2021-07-08T11:46:19.321Z"
      },
      {
        "duration": 11,
        "start_time": "2021-07-08T11:46:19.330Z"
      },
      {
        "duration": 59,
        "start_time": "2021-07-08T11:46:19.343Z"
      },
      {
        "duration": 17,
        "start_time": "2021-07-08T11:46:19.405Z"
      },
      {
        "duration": 16,
        "start_time": "2021-07-08T11:46:19.424Z"
      },
      {
        "duration": 252,
        "start_time": "2021-07-08T11:46:19.443Z"
      },
      {
        "duration": 9,
        "start_time": "2021-07-08T11:46:19.697Z"
      },
      {
        "duration": 224,
        "start_time": "2021-07-08T11:46:19.708Z"
      },
      {
        "duration": 21,
        "start_time": "2021-07-08T11:46:19.934Z"
      },
      {
        "duration": 9,
        "start_time": "2021-07-08T11:46:19.956Z"
      },
      {
        "duration": 32,
        "start_time": "2021-07-08T11:46:19.967Z"
      },
      {
        "duration": 288,
        "start_time": "2021-07-08T11:46:20.004Z"
      },
      {
        "duration": 23,
        "start_time": "2021-07-08T11:46:20.300Z"
      },
      {
        "duration": 11,
        "start_time": "2021-07-08T11:46:20.325Z"
      },
      {
        "duration": 11,
        "start_time": "2021-07-08T11:46:20.339Z"
      },
      {
        "duration": 259,
        "start_time": "2021-07-08T11:46:20.352Z"
      },
      {
        "duration": 438,
        "start_time": "2021-07-08T11:46:20.613Z"
      },
      {
        "duration": 207,
        "start_time": "2021-07-08T11:46:21.054Z"
      },
      {
        "duration": 27,
        "start_time": "2021-07-08T11:46:21.262Z"
      },
      {
        "duration": 19,
        "start_time": "2021-07-08T11:46:21.291Z"
      },
      {
        "duration": 820,
        "start_time": "2021-07-08T11:49:01.655Z"
      },
      {
        "duration": 372,
        "start_time": "2021-07-08T11:49:02.478Z"
      },
      {
        "duration": 98,
        "start_time": "2021-07-08T11:49:02.853Z"
      },
      {
        "duration": 6,
        "start_time": "2021-07-08T11:49:02.953Z"
      },
      {
        "duration": 39,
        "start_time": "2021-07-08T11:49:02.960Z"
      },
      {
        "duration": 9,
        "start_time": "2021-07-08T11:49:03.003Z"
      },
      {
        "duration": 23,
        "start_time": "2021-07-08T11:49:03.014Z"
      },
      {
        "duration": 6,
        "start_time": "2021-07-08T11:49:03.041Z"
      },
      {
        "duration": 20,
        "start_time": "2021-07-08T11:49:03.049Z"
      },
      {
        "duration": 18,
        "start_time": "2021-07-08T11:49:03.084Z"
      },
      {
        "duration": 14,
        "start_time": "2021-07-08T11:49:03.104Z"
      },
      {
        "duration": 39,
        "start_time": "2021-07-08T11:49:03.119Z"
      },
      {
        "duration": 38,
        "start_time": "2021-07-08T11:49:03.160Z"
      },
      {
        "duration": 26,
        "start_time": "2021-07-08T11:49:03.200Z"
      },
      {
        "duration": 7,
        "start_time": "2021-07-08T11:49:03.227Z"
      },
      {
        "duration": 4,
        "start_time": "2021-07-08T11:49:03.236Z"
      },
      {
        "duration": 15,
        "start_time": "2021-07-08T11:49:03.243Z"
      },
      {
        "duration": 21,
        "start_time": "2021-07-08T11:49:03.285Z"
      },
      {
        "duration": 17,
        "start_time": "2021-07-08T11:49:03.309Z"
      },
      {
        "duration": 10,
        "start_time": "2021-07-08T11:49:03.328Z"
      },
      {
        "duration": 65,
        "start_time": "2021-07-08T11:49:03.340Z"
      },
      {
        "duration": 18,
        "start_time": "2021-07-08T11:49:03.407Z"
      },
      {
        "duration": 8,
        "start_time": "2021-07-08T11:49:03.428Z"
      },
      {
        "duration": 15,
        "start_time": "2021-07-08T11:49:03.438Z"
      },
      {
        "duration": 40,
        "start_time": "2021-07-08T11:49:03.455Z"
      },
      {
        "duration": 12,
        "start_time": "2021-07-08T11:49:03.497Z"
      },
      {
        "duration": 29,
        "start_time": "2021-07-08T11:49:03.511Z"
      },
      {
        "duration": 285,
        "start_time": "2021-07-08T11:49:03.542Z"
      },
      {
        "duration": 8,
        "start_time": "2021-07-08T11:49:03.829Z"
      },
      {
        "duration": 227,
        "start_time": "2021-07-08T11:49:03.838Z"
      },
      {
        "duration": 40,
        "start_time": "2021-07-08T11:49:04.066Z"
      },
      {
        "duration": 10,
        "start_time": "2021-07-08T11:49:04.108Z"
      },
      {
        "duration": 26,
        "start_time": "2021-07-08T11:49:04.121Z"
      },
      {
        "duration": 290,
        "start_time": "2021-07-08T11:49:04.149Z"
      },
      {
        "duration": 26,
        "start_time": "2021-07-08T11:49:04.441Z"
      },
      {
        "duration": 31,
        "start_time": "2021-07-08T11:49:04.470Z"
      },
      {
        "duration": 14,
        "start_time": "2021-07-08T11:49:04.503Z"
      },
      {
        "duration": 259,
        "start_time": "2021-07-08T11:49:04.521Z"
      },
      {
        "duration": 480,
        "start_time": "2021-07-08T11:49:04.782Z"
      },
      {
        "duration": 225,
        "start_time": "2021-07-08T11:49:05.264Z"
      },
      {
        "duration": 22,
        "start_time": "2021-07-08T11:49:05.491Z"
      },
      {
        "duration": 24,
        "start_time": "2021-07-08T11:49:05.515Z"
      },
      {
        "duration": 634,
        "start_time": "2021-07-08T11:52:24.960Z"
      },
      {
        "duration": 199,
        "start_time": "2021-07-08T11:52:25.599Z"
      },
      {
        "duration": 106,
        "start_time": "2021-07-08T11:52:25.803Z"
      },
      {
        "duration": 7,
        "start_time": "2021-07-08T11:52:25.911Z"
      },
      {
        "duration": 29,
        "start_time": "2021-07-08T11:52:25.920Z"
      },
      {
        "duration": 7,
        "start_time": "2021-07-08T11:52:25.951Z"
      },
      {
        "duration": 26,
        "start_time": "2021-07-08T11:52:25.961Z"
      },
      {
        "duration": 11,
        "start_time": "2021-07-08T11:52:25.990Z"
      },
      {
        "duration": 29,
        "start_time": "2021-07-08T11:52:26.005Z"
      },
      {
        "duration": 9,
        "start_time": "2021-07-08T11:52:26.036Z"
      },
      {
        "duration": 8,
        "start_time": "2021-07-08T11:52:26.047Z"
      },
      {
        "duration": 63,
        "start_time": "2021-07-08T11:52:26.057Z"
      },
      {
        "duration": 17,
        "start_time": "2021-07-08T11:52:26.122Z"
      },
      {
        "duration": 43,
        "start_time": "2021-07-08T11:52:26.142Z"
      },
      {
        "duration": 17,
        "start_time": "2021-07-08T11:52:26.187Z"
      },
      {
        "duration": 5,
        "start_time": "2021-07-08T11:52:26.206Z"
      },
      {
        "duration": 12,
        "start_time": "2021-07-08T11:52:26.212Z"
      },
      {
        "duration": 11,
        "start_time": "2021-07-08T11:52:26.226Z"
      },
      {
        "duration": 12,
        "start_time": "2021-07-08T11:52:26.238Z"
      },
      {
        "duration": 38,
        "start_time": "2021-07-08T11:52:26.252Z"
      },
      {
        "duration": 40,
        "start_time": "2021-07-08T11:52:26.292Z"
      },
      {
        "duration": 17,
        "start_time": "2021-07-08T11:52:26.336Z"
      },
      {
        "duration": 39,
        "start_time": "2021-07-08T11:52:26.355Z"
      },
      {
        "duration": 11,
        "start_time": "2021-07-08T11:52:26.395Z"
      },
      {
        "duration": 23,
        "start_time": "2021-07-08T11:52:26.408Z"
      },
      {
        "duration": 12,
        "start_time": "2021-07-08T11:52:26.432Z"
      },
      {
        "duration": 41,
        "start_time": "2021-07-08T11:52:26.446Z"
      },
      {
        "duration": 215,
        "start_time": "2021-07-08T11:52:26.493Z"
      },
      {
        "duration": 8,
        "start_time": "2021-07-08T11:52:26.710Z"
      },
      {
        "duration": 228,
        "start_time": "2021-07-08T11:52:26.720Z"
      },
      {
        "duration": 18,
        "start_time": "2021-07-08T11:52:26.950Z"
      },
      {
        "duration": 35,
        "start_time": "2021-07-08T11:52:26.969Z"
      },
      {
        "duration": 23,
        "start_time": "2021-07-08T11:52:27.006Z"
      },
      {
        "duration": 258,
        "start_time": "2021-07-08T11:52:27.030Z"
      },
      {
        "duration": 24,
        "start_time": "2021-07-08T11:52:27.290Z"
      },
      {
        "duration": 12,
        "start_time": "2021-07-08T11:52:27.316Z"
      },
      {
        "duration": 10,
        "start_time": "2021-07-08T11:52:27.329Z"
      },
      {
        "duration": 298,
        "start_time": "2021-07-08T11:52:27.341Z"
      },
      {
        "duration": 436,
        "start_time": "2021-07-08T11:52:27.641Z"
      },
      {
        "duration": 216,
        "start_time": "2021-07-08T11:52:28.079Z"
      },
      {
        "duration": 20,
        "start_time": "2021-07-08T11:52:28.297Z"
      },
      {
        "duration": 17,
        "start_time": "2021-07-08T11:52:28.319Z"
      },
      {
        "duration": 852,
        "start_time": "2023-04-24T07:53:42.863Z"
      },
      {
        "duration": 500,
        "start_time": "2023-04-24T07:54:49.396Z"
      },
      {
        "duration": 163,
        "start_time": "2023-04-24T07:55:20.605Z"
      },
      {
        "duration": 156,
        "start_time": "2023-04-24T07:55:36.800Z"
      },
      {
        "duration": 108,
        "start_time": "2023-04-24T08:02:56.911Z"
      },
      {
        "duration": 19,
        "start_time": "2023-04-24T08:04:59.036Z"
      },
      {
        "duration": 847,
        "start_time": "2023-04-24T08:05:10.184Z"
      },
      {
        "duration": 160,
        "start_time": "2023-04-24T08:05:11.038Z"
      },
      {
        "duration": 99,
        "start_time": "2023-04-24T08:05:11.200Z"
      },
      {
        "duration": 30,
        "start_time": "2023-04-24T08:06:00.108Z"
      },
      {
        "duration": 33,
        "start_time": "2023-04-24T08:06:45.016Z"
      },
      {
        "duration": 468,
        "start_time": "2023-04-24T08:08:33.108Z"
      },
      {
        "duration": 8,
        "start_time": "2023-04-24T08:08:49.848Z"
      },
      {
        "duration": 266,
        "start_time": "2023-04-24T08:09:03.438Z"
      },
      {
        "duration": 689,
        "start_time": "2023-04-24T08:09:48.594Z"
      },
      {
        "duration": 142,
        "start_time": "2023-04-24T08:09:49.285Z"
      },
      {
        "duration": 490,
        "start_time": "2023-04-24T08:09:49.429Z"
      },
      {
        "duration": 255,
        "start_time": "2023-04-24T08:10:53.591Z"
      },
      {
        "duration": 18,
        "start_time": "2023-04-24T08:11:12.702Z"
      },
      {
        "duration": 266,
        "start_time": "2023-04-24T08:11:35.912Z"
      },
      {
        "duration": 173,
        "start_time": "2023-04-24T08:13:31.006Z"
      },
      {
        "duration": 155,
        "start_time": "2023-04-24T08:14:01.446Z"
      },
      {
        "duration": 689,
        "start_time": "2023-04-24T08:14:26.234Z"
      },
      {
        "duration": 165,
        "start_time": "2023-04-24T08:14:26.924Z"
      },
      {
        "duration": 2,
        "start_time": "2023-04-24T08:14:27.092Z"
      },
      {
        "duration": 538,
        "start_time": "2023-04-24T08:15:47.897Z"
      },
      {
        "duration": 336,
        "start_time": "2023-04-24T08:15:58.429Z"
      },
      {
        "duration": 28,
        "start_time": "2023-04-24T08:16:27.069Z"
      },
      {
        "duration": 8,
        "start_time": "2023-04-24T08:17:02.631Z"
      },
      {
        "duration": 7,
        "start_time": "2023-04-24T08:19:02.096Z"
      },
      {
        "duration": 26,
        "start_time": "2023-04-24T08:19:08.964Z"
      },
      {
        "duration": 9,
        "start_time": "2023-04-24T08:19:22.240Z"
      },
      {
        "duration": 28,
        "start_time": "2023-04-24T08:19:33.625Z"
      },
      {
        "duration": 30,
        "start_time": "2023-04-24T08:20:35.232Z"
      },
      {
        "duration": 34,
        "start_time": "2023-04-24T08:20:58.615Z"
      },
      {
        "duration": 24,
        "start_time": "2023-04-24T08:21:36.576Z"
      },
      {
        "duration": 39,
        "start_time": "2023-04-24T08:22:06.848Z"
      },
      {
        "duration": 26,
        "start_time": "2023-04-24T08:23:30.654Z"
      },
      {
        "duration": 49,
        "start_time": "2023-04-24T08:24:19.594Z"
      },
      {
        "duration": 46,
        "start_time": "2023-04-24T08:29:15.614Z"
      },
      {
        "duration": 1307,
        "start_time": "2023-04-24T08:31:23.441Z"
      },
      {
        "duration": 2134,
        "start_time": "2023-04-24T08:31:41.177Z"
      },
      {
        "duration": 12,
        "start_time": "2023-04-24T08:36:21.256Z"
      },
      {
        "duration": 12,
        "start_time": "2023-04-24T08:36:59.298Z"
      },
      {
        "duration": 14,
        "start_time": "2023-04-24T08:39:59.588Z"
      },
      {
        "duration": 23,
        "start_time": "2023-04-24T08:41:10.684Z"
      },
      {
        "duration": 15,
        "start_time": "2023-04-24T08:41:16.559Z"
      },
      {
        "duration": 38,
        "start_time": "2023-04-24T08:41:23.786Z"
      },
      {
        "duration": 34,
        "start_time": "2023-04-24T08:43:09.957Z"
      },
      {
        "duration": 11,
        "start_time": "2023-04-24T08:46:58.785Z"
      },
      {
        "duration": 3,
        "start_time": "2023-04-24T08:48:11.482Z"
      },
      {
        "duration": 3,
        "start_time": "2023-04-24T08:48:13.795Z"
      },
      {
        "duration": 10,
        "start_time": "2023-04-24T08:49:30.552Z"
      },
      {
        "duration": 5,
        "start_time": "2023-04-24T08:49:44.358Z"
      },
      {
        "duration": 53,
        "start_time": "2023-04-24T08:51:22.150Z"
      },
      {
        "duration": 7,
        "start_time": "2023-04-24T08:51:29.862Z"
      },
      {
        "duration": 13,
        "start_time": "2023-04-24T08:52:03.051Z"
      },
      {
        "duration": 924,
        "start_time": "2023-04-24T08:57:01.276Z"
      },
      {
        "duration": 184,
        "start_time": "2023-04-24T08:57:02.202Z"
      },
      {
        "duration": 33,
        "start_time": "2023-04-24T08:57:02.387Z"
      },
      {
        "duration": 167,
        "start_time": "2023-04-24T08:57:02.424Z"
      },
      {
        "duration": 0,
        "start_time": "2023-04-24T08:57:02.593Z"
      },
      {
        "duration": 0,
        "start_time": "2023-04-24T08:57:02.595Z"
      },
      {
        "duration": 0,
        "start_time": "2023-04-24T08:57:02.597Z"
      },
      {
        "duration": 0,
        "start_time": "2023-04-24T08:57:02.599Z"
      },
      {
        "duration": 893,
        "start_time": "2023-04-24T08:57:42.931Z"
      },
      {
        "duration": 189,
        "start_time": "2023-04-24T08:57:43.826Z"
      },
      {
        "duration": 35,
        "start_time": "2023-04-24T08:57:44.017Z"
      },
      {
        "duration": 40,
        "start_time": "2023-04-24T08:57:44.055Z"
      },
      {
        "duration": 91,
        "start_time": "2023-04-24T08:57:44.097Z"
      },
      {
        "duration": 7,
        "start_time": "2023-04-24T08:57:44.189Z"
      },
      {
        "duration": 18,
        "start_time": "2023-04-24T08:57:44.198Z"
      },
      {
        "duration": 54,
        "start_time": "2023-04-24T08:57:44.222Z"
      },
      {
        "duration": 826,
        "start_time": "2023-04-24T14:21:35.125Z"
      },
      {
        "duration": 520,
        "start_time": "2023-04-24T14:21:35.953Z"
      },
      {
        "duration": 24,
        "start_time": "2023-04-24T14:21:36.474Z"
      },
      {
        "duration": 9,
        "start_time": "2023-04-24T14:21:36.500Z"
      },
      {
        "duration": 36,
        "start_time": "2023-04-24T14:21:36.512Z"
      },
      {
        "duration": 13,
        "start_time": "2023-04-24T14:21:36.549Z"
      },
      {
        "duration": 42,
        "start_time": "2023-04-24T14:21:36.564Z"
      },
      {
        "duration": 11,
        "start_time": "2023-04-24T14:21:36.608Z"
      },
      {
        "duration": 90,
        "start_time": "2023-04-24T14:23:55.079Z"
      },
      {
        "duration": 1054,
        "start_time": "2023-04-24T14:25:25.084Z"
      },
      {
        "duration": 16,
        "start_time": "2023-04-24T14:26:31.322Z"
      },
      {
        "duration": 66,
        "start_time": "2023-04-24T14:28:07.416Z"
      },
      {
        "duration": 83,
        "start_time": "2023-04-24T14:28:47.636Z"
      },
      {
        "duration": 164,
        "start_time": "2023-04-24T14:29:17.621Z"
      },
      {
        "duration": 18,
        "start_time": "2023-04-24T14:31:47.701Z"
      },
      {
        "duration": 4,
        "start_time": "2023-04-24T14:55:41.731Z"
      },
      {
        "duration": 61,
        "start_time": "2023-04-24T14:56:41.514Z"
      },
      {
        "duration": 15,
        "start_time": "2023-04-24T14:57:03.014Z"
      },
      {
        "duration": 11,
        "start_time": "2023-04-24T14:58:02.192Z"
      },
      {
        "duration": 15,
        "start_time": "2023-04-24T14:58:29.121Z"
      },
      {
        "duration": 15,
        "start_time": "2023-04-24T14:58:38.937Z"
      },
      {
        "duration": 1443,
        "start_time": "2023-04-24T14:59:25.521Z"
      },
      {
        "duration": 16,
        "start_time": "2023-04-24T14:59:50.531Z"
      },
      {
        "duration": 29,
        "start_time": "2023-04-24T15:00:16.201Z"
      },
      {
        "duration": 18,
        "start_time": "2023-04-24T15:00:47.485Z"
      },
      {
        "duration": 16,
        "start_time": "2023-04-24T15:01:52.449Z"
      },
      {
        "duration": 14,
        "start_time": "2023-04-24T15:01:56.079Z"
      },
      {
        "duration": 20,
        "start_time": "2023-04-24T15:02:07.391Z"
      },
      {
        "duration": 13,
        "start_time": "2023-04-24T15:02:11.020Z"
      },
      {
        "duration": 55,
        "start_time": "2023-04-24T15:02:13.783Z"
      },
      {
        "duration": 14,
        "start_time": "2023-04-24T15:02:17.488Z"
      },
      {
        "duration": 24,
        "start_time": "2023-04-24T15:02:39.450Z"
      },
      {
        "duration": 24,
        "start_time": "2023-04-24T15:03:55.691Z"
      },
      {
        "duration": 23,
        "start_time": "2023-04-24T15:04:02.375Z"
      },
      {
        "duration": 23,
        "start_time": "2023-04-24T15:04:10.387Z"
      },
      {
        "duration": 24,
        "start_time": "2023-04-24T15:04:18.438Z"
      },
      {
        "duration": 23,
        "start_time": "2023-04-24T15:04:26.184Z"
      },
      {
        "duration": 27,
        "start_time": "2023-04-24T15:04:32.146Z"
      },
      {
        "duration": 29,
        "start_time": "2023-04-24T15:04:39.035Z"
      },
      {
        "duration": 28,
        "start_time": "2023-04-24T15:04:45.464Z"
      },
      {
        "duration": 31,
        "start_time": "2023-04-24T15:08:42.786Z"
      },
      {
        "duration": 13,
        "start_time": "2023-04-24T15:09:55.517Z"
      },
      {
        "duration": 12,
        "start_time": "2023-04-24T15:12:28.970Z"
      },
      {
        "duration": 10,
        "start_time": "2023-04-24T15:12:53.473Z"
      },
      {
        "duration": 10,
        "start_time": "2023-04-24T15:13:16.786Z"
      },
      {
        "duration": 26,
        "start_time": "2023-04-24T15:14:48.731Z"
      },
      {
        "duration": 655,
        "start_time": "2023-04-24T15:16:03.505Z"
      },
      {
        "duration": 158,
        "start_time": "2023-04-24T15:16:04.162Z"
      },
      {
        "duration": 23,
        "start_time": "2023-04-24T15:16:04.321Z"
      },
      {
        "duration": 14,
        "start_time": "2023-04-24T15:16:04.346Z"
      },
      {
        "duration": 47,
        "start_time": "2023-04-24T15:16:04.361Z"
      },
      {
        "duration": 4,
        "start_time": "2023-04-24T15:16:04.417Z"
      },
      {
        "duration": 28,
        "start_time": "2023-04-24T15:16:04.423Z"
      },
      {
        "duration": 42,
        "start_time": "2023-04-24T15:16:04.452Z"
      },
      {
        "duration": 26,
        "start_time": "2023-04-24T15:16:53.616Z"
      },
      {
        "duration": 22,
        "start_time": "2023-04-24T15:17:03.949Z"
      },
      {
        "duration": 14,
        "start_time": "2023-04-24T15:18:45.627Z"
      },
      {
        "duration": 23,
        "start_time": "2023-04-24T15:19:16.642Z"
      },
      {
        "duration": 11,
        "start_time": "2023-04-24T15:19:21.381Z"
      },
      {
        "duration": 859,
        "start_time": "2023-04-25T09:52:19.861Z"
      },
      {
        "duration": 259,
        "start_time": "2023-04-25T09:52:20.722Z"
      },
      {
        "duration": 24,
        "start_time": "2023-04-25T09:52:20.983Z"
      },
      {
        "duration": 18,
        "start_time": "2023-04-25T09:52:21.010Z"
      },
      {
        "duration": 47,
        "start_time": "2023-04-25T09:52:21.029Z"
      },
      {
        "duration": 14,
        "start_time": "2023-04-25T09:52:21.078Z"
      },
      {
        "duration": 38,
        "start_time": "2023-04-25T09:52:21.094Z"
      },
      {
        "duration": 30,
        "start_time": "2023-04-25T09:52:21.134Z"
      },
      {
        "duration": 23,
        "start_time": "2023-04-25T09:52:21.166Z"
      },
      {
        "duration": 20,
        "start_time": "2023-04-25T09:52:21.193Z"
      },
      {
        "duration": 9,
        "start_time": "2023-04-25T10:27:58.926Z"
      },
      {
        "duration": 5,
        "start_time": "2023-04-25T10:28:56.901Z"
      },
      {
        "duration": 24,
        "start_time": "2023-04-25T10:30:32.939Z"
      },
      {
        "duration": 18,
        "start_time": "2023-04-25T10:30:39.006Z"
      },
      {
        "duration": 679,
        "start_time": "2023-04-25T10:30:50.204Z"
      },
      {
        "duration": 143,
        "start_time": "2023-04-25T10:30:50.885Z"
      },
      {
        "duration": 24,
        "start_time": "2023-04-25T10:30:51.030Z"
      },
      {
        "duration": 43,
        "start_time": "2023-04-25T10:30:51.056Z"
      },
      {
        "duration": 33,
        "start_time": "2023-04-25T10:30:51.101Z"
      },
      {
        "duration": 4,
        "start_time": "2023-04-25T10:30:51.137Z"
      },
      {
        "duration": 13,
        "start_time": "2023-04-25T10:30:51.143Z"
      },
      {
        "duration": 10,
        "start_time": "2023-04-25T10:30:51.158Z"
      },
      {
        "duration": 22,
        "start_time": "2023-04-25T10:30:51.170Z"
      },
      {
        "duration": 24,
        "start_time": "2023-04-25T10:30:51.194Z"
      },
      {
        "duration": 22,
        "start_time": "2023-04-25T10:30:51.219Z"
      },
      {
        "duration": 9,
        "start_time": "2023-04-25T10:30:51.243Z"
      },
      {
        "duration": 38,
        "start_time": "2023-04-25T10:30:51.254Z"
      },
      {
        "duration": 29,
        "start_time": "2023-04-25T10:45:18.630Z"
      },
      {
        "duration": 15,
        "start_time": "2023-04-25T10:45:26.984Z"
      },
      {
        "duration": 6,
        "start_time": "2023-04-25T10:46:47.529Z"
      },
      {
        "duration": 16,
        "start_time": "2023-04-25T10:48:54.020Z"
      },
      {
        "duration": 7,
        "start_time": "2023-04-25T10:54:48.557Z"
      },
      {
        "duration": 4,
        "start_time": "2023-04-25T10:54:54.093Z"
      },
      {
        "duration": 18,
        "start_time": "2023-04-25T10:56:13.505Z"
      },
      {
        "duration": 6,
        "start_time": "2023-04-25T10:57:48.216Z"
      },
      {
        "duration": 7,
        "start_time": "2023-04-25T10:57:56.717Z"
      },
      {
        "duration": 49,
        "start_time": "2023-04-25T11:08:55.594Z"
      },
      {
        "duration": 22,
        "start_time": "2023-04-25T11:11:14.938Z"
      },
      {
        "duration": 34,
        "start_time": "2023-04-25T11:11:51.114Z"
      },
      {
        "duration": 27,
        "start_time": "2023-04-25T11:15:35.022Z"
      },
      {
        "duration": 679,
        "start_time": "2023-04-25T11:15:49.126Z"
      },
      {
        "duration": 148,
        "start_time": "2023-04-25T11:15:49.807Z"
      },
      {
        "duration": 25,
        "start_time": "2023-04-25T11:15:49.957Z"
      },
      {
        "duration": 15,
        "start_time": "2023-04-25T11:15:49.984Z"
      },
      {
        "duration": 45,
        "start_time": "2023-04-25T11:15:50.001Z"
      },
      {
        "duration": 5,
        "start_time": "2023-04-25T11:15:50.048Z"
      },
      {
        "duration": 16,
        "start_time": "2023-04-25T11:15:50.055Z"
      },
      {
        "duration": 20,
        "start_time": "2023-04-25T11:15:50.072Z"
      },
      {
        "duration": 16,
        "start_time": "2023-04-25T11:15:50.093Z"
      },
      {
        "duration": 9,
        "start_time": "2023-04-25T11:15:50.118Z"
      },
      {
        "duration": 19,
        "start_time": "2023-04-25T11:15:50.128Z"
      },
      {
        "duration": 4,
        "start_time": "2023-04-25T11:15:50.149Z"
      },
      {
        "duration": 29,
        "start_time": "2023-04-25T11:15:50.154Z"
      },
      {
        "duration": 7,
        "start_time": "2023-04-25T11:15:50.186Z"
      },
      {
        "duration": 47,
        "start_time": "2023-04-25T11:15:50.194Z"
      },
      {
        "duration": 4,
        "start_time": "2023-04-25T11:15:50.243Z"
      },
      {
        "duration": 50,
        "start_time": "2023-04-25T11:15:50.248Z"
      },
      {
        "duration": 92,
        "start_time": "2023-04-25T11:16:51.917Z"
      },
      {
        "duration": 31,
        "start_time": "2023-04-25T11:18:07.018Z"
      },
      {
        "duration": 40,
        "start_time": "2023-04-25T11:21:32.039Z"
      },
      {
        "duration": 32,
        "start_time": "2023-04-25T11:26:09.713Z"
      },
      {
        "duration": 217,
        "start_time": "2023-04-25T11:35:25.272Z"
      },
      {
        "duration": 323,
        "start_time": "2023-04-25T11:36:07.230Z"
      },
      {
        "duration": 843,
        "start_time": "2023-04-25T13:02:09.609Z"
      },
      {
        "duration": 253,
        "start_time": "2023-04-25T13:02:10.454Z"
      },
      {
        "duration": 23,
        "start_time": "2023-04-25T13:02:10.709Z"
      },
      {
        "duration": 26,
        "start_time": "2023-04-25T13:02:10.734Z"
      },
      {
        "duration": 69,
        "start_time": "2023-04-25T13:02:10.762Z"
      },
      {
        "duration": 13,
        "start_time": "2023-04-25T13:02:10.832Z"
      },
      {
        "duration": 48,
        "start_time": "2023-04-25T13:02:10.847Z"
      },
      {
        "duration": 67,
        "start_time": "2023-04-25T13:02:10.897Z"
      },
      {
        "duration": 32,
        "start_time": "2023-04-25T13:02:10.966Z"
      },
      {
        "duration": 15,
        "start_time": "2023-04-25T13:02:11.000Z"
      },
      {
        "duration": 28,
        "start_time": "2023-04-25T13:02:11.017Z"
      },
      {
        "duration": 28,
        "start_time": "2023-04-25T13:02:11.047Z"
      },
      {
        "duration": 53,
        "start_time": "2023-04-25T13:02:11.077Z"
      },
      {
        "duration": 34,
        "start_time": "2023-04-25T13:02:11.132Z"
      },
      {
        "duration": 41,
        "start_time": "2023-04-25T13:02:11.168Z"
      },
      {
        "duration": 68,
        "start_time": "2023-04-25T13:02:11.211Z"
      },
      {
        "duration": 17,
        "start_time": "2023-04-25T13:02:11.280Z"
      },
      {
        "duration": 465,
        "start_time": "2023-04-25T13:02:11.299Z"
      },
      {
        "duration": 392,
        "start_time": "2023-04-25T13:02:35.934Z"
      },
      {
        "duration": 15,
        "start_time": "2023-04-25T13:02:54.351Z"
      },
      {
        "duration": 515,
        "start_time": "2023-04-25T13:03:01.625Z"
      },
      {
        "duration": 296,
        "start_time": "2023-04-25T13:09:39.652Z"
      },
      {
        "duration": 723,
        "start_time": "2023-04-25T13:10:00.939Z"
      },
      {
        "duration": 5,
        "start_time": "2023-04-25T13:27:32.216Z"
      },
      {
        "duration": 724,
        "start_time": "2023-04-25T13:27:40.001Z"
      },
      {
        "duration": 142,
        "start_time": "2023-04-25T13:27:40.727Z"
      },
      {
        "duration": 23,
        "start_time": "2023-04-25T13:27:40.871Z"
      },
      {
        "duration": 19,
        "start_time": "2023-04-25T13:27:40.896Z"
      },
      {
        "duration": 31,
        "start_time": "2023-04-25T13:27:40.918Z"
      },
      {
        "duration": 4,
        "start_time": "2023-04-25T13:27:40.951Z"
      },
      {
        "duration": 8,
        "start_time": "2023-04-25T13:27:40.983Z"
      },
      {
        "duration": 12,
        "start_time": "2023-04-25T13:27:40.992Z"
      },
      {
        "duration": 13,
        "start_time": "2023-04-25T13:27:41.006Z"
      },
      {
        "duration": 13,
        "start_time": "2023-04-25T13:27:41.021Z"
      },
      {
        "duration": 17,
        "start_time": "2023-04-25T13:27:41.036Z"
      },
      {
        "duration": 7,
        "start_time": "2023-04-25T13:27:41.055Z"
      },
      {
        "duration": 40,
        "start_time": "2023-04-25T13:27:41.064Z"
      },
      {
        "duration": 5,
        "start_time": "2023-04-25T13:27:41.108Z"
      },
      {
        "duration": 20,
        "start_time": "2023-04-25T13:27:41.114Z"
      },
      {
        "duration": 17,
        "start_time": "2023-04-25T13:27:41.135Z"
      },
      {
        "duration": 40,
        "start_time": "2023-04-25T13:27:41.153Z"
      },
      {
        "duration": 4,
        "start_time": "2023-04-25T13:27:41.195Z"
      },
      {
        "duration": 733,
        "start_time": "2023-04-25T13:27:41.201Z"
      },
      {
        "duration": 858,
        "start_time": "2023-04-26T07:02:43.545Z"
      },
      {
        "duration": 402,
        "start_time": "2023-04-26T07:02:44.405Z"
      },
      {
        "duration": 22,
        "start_time": "2023-04-26T07:02:44.809Z"
      },
      {
        "duration": 14,
        "start_time": "2023-04-26T07:02:44.834Z"
      },
      {
        "duration": 28,
        "start_time": "2023-04-26T07:02:44.850Z"
      },
      {
        "duration": 5,
        "start_time": "2023-04-26T07:02:44.880Z"
      },
      {
        "duration": 7,
        "start_time": "2023-04-26T07:02:44.886Z"
      },
      {
        "duration": 15,
        "start_time": "2023-04-26T07:02:44.894Z"
      },
      {
        "duration": 10,
        "start_time": "2023-04-26T07:02:44.910Z"
      },
      {
        "duration": 35,
        "start_time": "2023-04-26T07:02:44.922Z"
      },
      {
        "duration": 10,
        "start_time": "2023-04-26T07:02:44.958Z"
      },
      {
        "duration": 21,
        "start_time": "2023-04-26T07:02:44.969Z"
      },
      {
        "duration": 21,
        "start_time": "2023-04-26T07:02:44.992Z"
      },
      {
        "duration": 36,
        "start_time": "2023-04-26T07:02:45.015Z"
      },
      {
        "duration": 20,
        "start_time": "2023-04-26T07:02:45.052Z"
      },
      {
        "duration": 27,
        "start_time": "2023-04-26T07:02:45.074Z"
      },
      {
        "duration": 38,
        "start_time": "2023-04-26T07:02:45.103Z"
      },
      {
        "duration": 4,
        "start_time": "2023-04-26T07:02:45.143Z"
      },
      {
        "duration": 371,
        "start_time": "2023-04-26T07:02:45.149Z"
      },
      {
        "duration": 332,
        "start_time": "2023-04-26T07:07:24.347Z"
      },
      {
        "duration": 329,
        "start_time": "2023-04-26T07:08:19.602Z"
      },
      {
        "duration": 300,
        "start_time": "2023-04-26T07:08:36.659Z"
      },
      {
        "duration": 470,
        "start_time": "2023-04-26T07:10:44.815Z"
      },
      {
        "duration": 313,
        "start_time": "2023-04-26T07:10:52.262Z"
      },
      {
        "duration": 316,
        "start_time": "2023-04-26T07:14:06.192Z"
      },
      {
        "duration": 390,
        "start_time": "2023-04-26T07:14:51.335Z"
      },
      {
        "duration": 402,
        "start_time": "2023-04-26T07:14:59.563Z"
      },
      {
        "duration": 355,
        "start_time": "2023-04-26T07:15:43.826Z"
      },
      {
        "duration": 535,
        "start_time": "2023-04-26T07:18:45.818Z"
      },
      {
        "duration": 618,
        "start_time": "2023-04-26T07:18:57.133Z"
      },
      {
        "duration": 517,
        "start_time": "2023-04-26T07:19:08.778Z"
      },
      {
        "duration": 121,
        "start_time": "2023-04-26T07:20:18.652Z"
      },
      {
        "duration": 724,
        "start_time": "2023-04-26T07:20:43.541Z"
      },
      {
        "duration": 139,
        "start_time": "2023-04-26T07:20:44.267Z"
      },
      {
        "duration": 37,
        "start_time": "2023-04-26T07:20:44.408Z"
      },
      {
        "duration": 16,
        "start_time": "2023-04-26T07:20:44.448Z"
      },
      {
        "duration": 44,
        "start_time": "2023-04-26T07:20:44.467Z"
      },
      {
        "duration": 6,
        "start_time": "2023-04-26T07:20:44.513Z"
      },
      {
        "duration": 11,
        "start_time": "2023-04-26T07:20:44.521Z"
      },
      {
        "duration": 12,
        "start_time": "2023-04-26T07:20:44.555Z"
      },
      {
        "duration": 16,
        "start_time": "2023-04-26T07:20:44.569Z"
      },
      {
        "duration": 9,
        "start_time": "2023-04-26T07:20:44.589Z"
      },
      {
        "duration": 11,
        "start_time": "2023-04-26T07:20:44.602Z"
      },
      {
        "duration": 44,
        "start_time": "2023-04-26T07:20:44.614Z"
      },
      {
        "duration": 20,
        "start_time": "2023-04-26T07:20:44.661Z"
      },
      {
        "duration": 5,
        "start_time": "2023-04-26T07:20:44.683Z"
      },
      {
        "duration": 7,
        "start_time": "2023-04-26T07:20:44.691Z"
      },
      {
        "duration": 27,
        "start_time": "2023-04-26T07:20:44.700Z"
      },
      {
        "duration": 56,
        "start_time": "2023-04-26T07:20:44.729Z"
      },
      {
        "duration": 5,
        "start_time": "2023-04-26T07:20:44.788Z"
      },
      {
        "duration": 100,
        "start_time": "2023-04-26T07:20:44.795Z"
      },
      {
        "duration": 2154,
        "start_time": "2023-04-26T07:20:44.898Z"
      },
      {
        "duration": 1032,
        "start_time": "2023-04-26T07:21:13.681Z"
      },
      {
        "duration": 16,
        "start_time": "2023-04-26T07:23:41.567Z"
      },
      {
        "duration": 87,
        "start_time": "2023-04-26T07:23:52.591Z"
      },
      {
        "duration": 15,
        "start_time": "2023-04-26T07:23:57.800Z"
      },
      {
        "duration": 14,
        "start_time": "2023-04-26T07:25:03.630Z"
      },
      {
        "duration": 1080,
        "start_time": "2023-04-26T07:25:12.613Z"
      },
      {
        "duration": 662,
        "start_time": "2023-04-26T07:25:28.370Z"
      },
      {
        "duration": 139,
        "start_time": "2023-04-26T07:25:29.034Z"
      },
      {
        "duration": 21,
        "start_time": "2023-04-26T07:25:29.175Z"
      },
      {
        "duration": 15,
        "start_time": "2023-04-26T07:25:29.198Z"
      },
      {
        "duration": 47,
        "start_time": "2023-04-26T07:25:29.215Z"
      },
      {
        "duration": 6,
        "start_time": "2023-04-26T07:25:29.264Z"
      },
      {
        "duration": 16,
        "start_time": "2023-04-26T07:25:29.271Z"
      },
      {
        "duration": 22,
        "start_time": "2023-04-26T07:25:29.289Z"
      },
      {
        "duration": 28,
        "start_time": "2023-04-26T07:25:29.313Z"
      },
      {
        "duration": 8,
        "start_time": "2023-04-26T07:25:29.343Z"
      },
      {
        "duration": 24,
        "start_time": "2023-04-26T07:25:29.353Z"
      },
      {
        "duration": 19,
        "start_time": "2023-04-26T07:25:29.379Z"
      },
      {
        "duration": 41,
        "start_time": "2023-04-26T07:25:29.400Z"
      },
      {
        "duration": 5,
        "start_time": "2023-04-26T07:25:29.443Z"
      },
      {
        "duration": 13,
        "start_time": "2023-04-26T07:25:29.450Z"
      },
      {
        "duration": 28,
        "start_time": "2023-04-26T07:25:29.465Z"
      },
      {
        "duration": 32,
        "start_time": "2023-04-26T07:25:29.495Z"
      },
      {
        "duration": 6,
        "start_time": "2023-04-26T07:25:29.529Z"
      },
      {
        "duration": 1101,
        "start_time": "2023-04-26T07:25:29.537Z"
      },
      {
        "duration": 0,
        "start_time": "2023-04-26T07:25:30.640Z"
      },
      {
        "duration": 82,
        "start_time": "2023-04-26T07:25:50.850Z"
      },
      {
        "duration": 92,
        "start_time": "2023-04-26T07:26:12.799Z"
      },
      {
        "duration": 70,
        "start_time": "2023-04-26T07:26:28.661Z"
      },
      {
        "duration": 388,
        "start_time": "2023-04-26T07:27:23.030Z"
      },
      {
        "duration": 397,
        "start_time": "2023-04-26T07:27:59.871Z"
      },
      {
        "duration": 670,
        "start_time": "2023-04-26T07:28:54.219Z"
      },
      {
        "duration": 144,
        "start_time": "2023-04-26T07:28:54.892Z"
      },
      {
        "duration": 20,
        "start_time": "2023-04-26T07:28:55.038Z"
      },
      {
        "duration": 15,
        "start_time": "2023-04-26T07:28:55.060Z"
      },
      {
        "duration": 31,
        "start_time": "2023-04-26T07:28:55.076Z"
      },
      {
        "duration": 5,
        "start_time": "2023-04-26T07:28:55.109Z"
      },
      {
        "duration": 13,
        "start_time": "2023-04-26T07:28:55.116Z"
      },
      {
        "duration": 14,
        "start_time": "2023-04-26T07:28:55.156Z"
      },
      {
        "duration": 11,
        "start_time": "2023-04-26T07:28:55.171Z"
      },
      {
        "duration": 8,
        "start_time": "2023-04-26T07:28:55.185Z"
      },
      {
        "duration": 10,
        "start_time": "2023-04-26T07:28:55.195Z"
      },
      {
        "duration": 14,
        "start_time": "2023-04-26T07:28:55.207Z"
      },
      {
        "duration": 58,
        "start_time": "2023-04-26T07:28:55.223Z"
      },
      {
        "duration": 6,
        "start_time": "2023-04-26T07:28:55.283Z"
      },
      {
        "duration": 12,
        "start_time": "2023-04-26T07:28:55.291Z"
      },
      {
        "duration": 33,
        "start_time": "2023-04-26T07:28:55.306Z"
      },
      {
        "duration": 54,
        "start_time": "2023-04-26T07:28:55.341Z"
      },
      {
        "duration": 4,
        "start_time": "2023-04-26T07:28:55.397Z"
      },
      {
        "duration": 490,
        "start_time": "2023-04-26T07:28:55.403Z"
      },
      {
        "duration": 0,
        "start_time": "2023-04-26T07:28:55.895Z"
      },
      {
        "duration": 141,
        "start_time": "2023-04-26T07:29:18.491Z"
      },
      {
        "duration": 603,
        "start_time": "2023-04-26T07:29:55.585Z"
      },
      {
        "duration": 138,
        "start_time": "2023-04-26T07:29:56.190Z"
      },
      {
        "duration": 23,
        "start_time": "2023-04-26T07:29:56.330Z"
      },
      {
        "duration": 20,
        "start_time": "2023-04-26T07:29:56.356Z"
      },
      {
        "duration": 30,
        "start_time": "2023-04-26T07:29:56.378Z"
      },
      {
        "duration": 3,
        "start_time": "2023-04-26T07:29:56.410Z"
      },
      {
        "duration": 18,
        "start_time": "2023-04-26T07:29:56.415Z"
      },
      {
        "duration": 27,
        "start_time": "2023-04-26T07:29:56.434Z"
      },
      {
        "duration": 10,
        "start_time": "2023-04-26T07:29:56.463Z"
      },
      {
        "duration": 10,
        "start_time": "2023-04-26T07:29:56.476Z"
      },
      {
        "duration": 29,
        "start_time": "2023-04-26T07:29:56.489Z"
      },
      {
        "duration": 5,
        "start_time": "2023-04-26T07:29:56.519Z"
      },
      {
        "duration": 30,
        "start_time": "2023-04-26T07:29:56.525Z"
      },
      {
        "duration": 12,
        "start_time": "2023-04-26T07:29:56.557Z"
      },
      {
        "duration": 8,
        "start_time": "2023-04-26T07:29:56.571Z"
      },
      {
        "duration": 17,
        "start_time": "2023-04-26T07:29:56.581Z"
      },
      {
        "duration": 31,
        "start_time": "2023-04-26T07:29:56.600Z"
      },
      {
        "duration": 22,
        "start_time": "2023-04-26T07:29:56.634Z"
      },
      {
        "duration": 162,
        "start_time": "2023-04-26T07:29:56.658Z"
      },
      {
        "duration": 0,
        "start_time": "2023-04-26T07:29:56.821Z"
      },
      {
        "duration": 104,
        "start_time": "2023-04-26T07:30:14.221Z"
      },
      {
        "duration": 80,
        "start_time": "2023-04-26T07:31:09.044Z"
      },
      {
        "duration": 144,
        "start_time": "2023-04-26T07:31:26.172Z"
      },
      {
        "duration": 93,
        "start_time": "2023-04-26T07:32:32.839Z"
      },
      {
        "duration": 150,
        "start_time": "2023-04-26T07:32:46.980Z"
      },
      {
        "duration": 622,
        "start_time": "2023-04-26T07:33:16.102Z"
      },
      {
        "duration": 137,
        "start_time": "2023-04-26T07:33:16.726Z"
      },
      {
        "duration": 29,
        "start_time": "2023-04-26T07:33:16.865Z"
      },
      {
        "duration": 14,
        "start_time": "2023-04-26T07:33:16.897Z"
      },
      {
        "duration": 57,
        "start_time": "2023-04-26T07:33:16.913Z"
      },
      {
        "duration": 4,
        "start_time": "2023-04-26T07:33:16.971Z"
      },
      {
        "duration": 16,
        "start_time": "2023-04-26T07:33:16.977Z"
      },
      {
        "duration": 16,
        "start_time": "2023-04-26T07:33:16.995Z"
      },
      {
        "duration": 27,
        "start_time": "2023-04-26T07:33:17.013Z"
      },
      {
        "duration": 12,
        "start_time": "2023-04-26T07:33:17.043Z"
      },
      {
        "duration": 16,
        "start_time": "2023-04-26T07:33:17.057Z"
      },
      {
        "duration": 30,
        "start_time": "2023-04-26T07:33:17.074Z"
      },
      {
        "duration": 36,
        "start_time": "2023-04-26T07:33:17.106Z"
      },
      {
        "duration": 6,
        "start_time": "2023-04-26T07:33:17.144Z"
      },
      {
        "duration": 8,
        "start_time": "2023-04-26T07:33:17.152Z"
      },
      {
        "duration": 21,
        "start_time": "2023-04-26T07:33:17.162Z"
      },
      {
        "duration": 28,
        "start_time": "2023-04-26T07:33:17.185Z"
      },
      {
        "duration": 4,
        "start_time": "2023-04-26T07:33:17.215Z"
      },
      {
        "duration": 37,
        "start_time": "2023-04-26T07:33:17.220Z"
      },
      {
        "duration": 177,
        "start_time": "2023-04-26T07:33:17.259Z"
      },
      {
        "duration": 1344,
        "start_time": "2023-04-26T07:33:17.439Z"
      },
      {
        "duration": 17,
        "start_time": "2023-04-26T07:44:31.266Z"
      },
      {
        "duration": 8,
        "start_time": "2023-04-26T07:45:08.206Z"
      },
      {
        "duration": 9,
        "start_time": "2023-04-26T07:45:59.511Z"
      },
      {
        "duration": 662,
        "start_time": "2023-04-26T07:46:06.048Z"
      },
      {
        "duration": 150,
        "start_time": "2023-04-26T07:46:06.712Z"
      },
      {
        "duration": 26,
        "start_time": "2023-04-26T07:46:06.865Z"
      },
      {
        "duration": 15,
        "start_time": "2023-04-26T07:46:06.893Z"
      },
      {
        "duration": 51,
        "start_time": "2023-04-26T07:46:06.909Z"
      },
      {
        "duration": 4,
        "start_time": "2023-04-26T07:46:06.971Z"
      },
      {
        "duration": 16,
        "start_time": "2023-04-26T07:46:06.976Z"
      },
      {
        "duration": 13,
        "start_time": "2023-04-26T07:46:06.993Z"
      },
      {
        "duration": 38,
        "start_time": "2023-04-26T07:46:07.008Z"
      },
      {
        "duration": 11,
        "start_time": "2023-04-26T07:46:07.049Z"
      },
      {
        "duration": 18,
        "start_time": "2023-04-26T07:46:07.062Z"
      },
      {
        "duration": 4,
        "start_time": "2023-04-26T07:46:07.082Z"
      },
      {
        "duration": 40,
        "start_time": "2023-04-26T07:46:07.088Z"
      },
      {
        "duration": 6,
        "start_time": "2023-04-26T07:46:07.130Z"
      },
      {
        "duration": 20,
        "start_time": "2023-04-26T07:46:07.138Z"
      },
      {
        "duration": 42,
        "start_time": "2023-04-26T07:46:07.161Z"
      },
      {
        "duration": 47,
        "start_time": "2023-04-26T07:46:07.206Z"
      },
      {
        "duration": 9,
        "start_time": "2023-04-26T07:46:07.255Z"
      },
      {
        "duration": 21,
        "start_time": "2023-04-26T07:46:07.266Z"
      },
      {
        "duration": 25,
        "start_time": "2023-04-26T07:46:07.289Z"
      },
      {
        "duration": 199,
        "start_time": "2023-04-26T07:46:07.317Z"
      },
      {
        "duration": 1404,
        "start_time": "2023-04-26T07:46:07.518Z"
      },
      {
        "duration": 651,
        "start_time": "2023-04-26T07:46:39.976Z"
      },
      {
        "duration": 144,
        "start_time": "2023-04-26T07:46:40.629Z"
      },
      {
        "duration": 20,
        "start_time": "2023-04-26T07:46:40.775Z"
      },
      {
        "duration": 14,
        "start_time": "2023-04-26T07:46:40.797Z"
      },
      {
        "duration": 44,
        "start_time": "2023-04-26T07:46:40.813Z"
      },
      {
        "duration": 7,
        "start_time": "2023-04-26T07:46:40.859Z"
      },
      {
        "duration": 7,
        "start_time": "2023-04-26T07:46:40.869Z"
      },
      {
        "duration": 10,
        "start_time": "2023-04-26T07:46:40.878Z"
      },
      {
        "duration": 14,
        "start_time": "2023-04-26T07:46:40.890Z"
      },
      {
        "duration": 7,
        "start_time": "2023-04-26T07:46:40.906Z"
      },
      {
        "duration": 48,
        "start_time": "2023-04-26T07:46:40.914Z"
      },
      {
        "duration": 5,
        "start_time": "2023-04-26T07:46:40.964Z"
      },
      {
        "duration": 23,
        "start_time": "2023-04-26T07:46:40.971Z"
      },
      {
        "duration": 4,
        "start_time": "2023-04-26T07:46:40.996Z"
      },
      {
        "duration": 6,
        "start_time": "2023-04-26T07:46:41.002Z"
      },
      {
        "duration": 15,
        "start_time": "2023-04-26T07:46:41.010Z"
      },
      {
        "duration": 57,
        "start_time": "2023-04-26T07:46:41.026Z"
      },
      {
        "duration": 3,
        "start_time": "2023-04-26T07:46:41.085Z"
      },
      {
        "duration": 178,
        "start_time": "2023-04-26T07:46:41.090Z"
      },
      {
        "duration": 0,
        "start_time": "2023-04-26T07:46:41.272Z"
      },
      {
        "duration": 135,
        "start_time": "2023-04-26T07:47:06.625Z"
      },
      {
        "duration": 20,
        "start_time": "2023-04-26T07:52:18.146Z"
      },
      {
        "duration": 5,
        "start_time": "2023-04-26T08:05:29.070Z"
      },
      {
        "duration": 19,
        "start_time": "2023-04-26T08:05:40.941Z"
      },
      {
        "duration": 12,
        "start_time": "2023-04-26T08:06:26.714Z"
      },
      {
        "duration": 34,
        "start_time": "2023-04-26T08:06:38.059Z"
      },
      {
        "duration": 7,
        "start_time": "2023-04-26T08:06:49.900Z"
      },
      {
        "duration": 11,
        "start_time": "2023-04-26T08:06:54.315Z"
      },
      {
        "duration": 10,
        "start_time": "2023-04-26T08:09:58.345Z"
      },
      {
        "duration": 10,
        "start_time": "2023-04-26T08:10:09.301Z"
      },
      {
        "duration": 6,
        "start_time": "2023-04-26T08:11:52.283Z"
      },
      {
        "duration": 29,
        "start_time": "2023-04-26T08:12:01.366Z"
      },
      {
        "duration": 42,
        "start_time": "2023-04-26T08:12:18.441Z"
      },
      {
        "duration": 5,
        "start_time": "2023-04-26T08:12:31.073Z"
      },
      {
        "duration": 32,
        "start_time": "2023-04-26T08:12:32.914Z"
      },
      {
        "duration": 107,
        "start_time": "2023-04-26T08:13:30.713Z"
      },
      {
        "duration": 30,
        "start_time": "2023-04-26T08:13:39.050Z"
      },
      {
        "duration": 94,
        "start_time": "2023-04-26T08:15:15.738Z"
      },
      {
        "duration": 10,
        "start_time": "2023-04-26T08:15:19.481Z"
      },
      {
        "duration": 9,
        "start_time": "2023-04-26T08:15:25.921Z"
      },
      {
        "duration": 600,
        "start_time": "2023-04-26T08:15:32.084Z"
      },
      {
        "duration": 133,
        "start_time": "2023-04-26T08:15:32.685Z"
      },
      {
        "duration": 21,
        "start_time": "2023-04-26T08:15:32.819Z"
      },
      {
        "duration": 13,
        "start_time": "2023-04-26T08:15:32.842Z"
      },
      {
        "duration": 30,
        "start_time": "2023-04-26T08:15:32.856Z"
      },
      {
        "duration": 4,
        "start_time": "2023-04-26T08:15:32.888Z"
      },
      {
        "duration": 19,
        "start_time": "2023-04-26T08:15:32.893Z"
      },
      {
        "duration": 11,
        "start_time": "2023-04-26T08:15:32.914Z"
      },
      {
        "duration": 16,
        "start_time": "2023-04-26T08:15:32.926Z"
      },
      {
        "duration": 21,
        "start_time": "2023-04-26T08:15:32.944Z"
      },
      {
        "duration": 10,
        "start_time": "2023-04-26T08:15:32.967Z"
      },
      {
        "duration": 22,
        "start_time": "2023-04-26T08:15:32.978Z"
      },
      {
        "duration": 23,
        "start_time": "2023-04-26T08:15:33.002Z"
      },
      {
        "duration": 4,
        "start_time": "2023-04-26T08:15:33.027Z"
      },
      {
        "duration": 8,
        "start_time": "2023-04-26T08:15:33.033Z"
      },
      {
        "duration": 25,
        "start_time": "2023-04-26T08:15:33.043Z"
      },
      {
        "duration": 31,
        "start_time": "2023-04-26T08:15:33.070Z"
      },
      {
        "duration": 3,
        "start_time": "2023-04-26T08:15:33.103Z"
      },
      {
        "duration": 137,
        "start_time": "2023-04-26T08:15:33.108Z"
      },
      {
        "duration": 39,
        "start_time": "2023-04-26T08:15:33.247Z"
      },
      {
        "duration": 75,
        "start_time": "2023-04-26T08:15:33.288Z"
      },
      {
        "duration": 8,
        "start_time": "2023-04-26T08:15:48.760Z"
      },
      {
        "duration": 689,
        "start_time": "2023-04-26T08:15:52.826Z"
      },
      {
        "duration": 142,
        "start_time": "2023-04-26T08:15:53.517Z"
      },
      {
        "duration": 26,
        "start_time": "2023-04-26T08:15:53.661Z"
      },
      {
        "duration": 14,
        "start_time": "2023-04-26T08:15:53.689Z"
      },
      {
        "duration": 53,
        "start_time": "2023-04-26T08:15:53.706Z"
      },
      {
        "duration": 4,
        "start_time": "2023-04-26T08:15:53.761Z"
      },
      {
        "duration": 12,
        "start_time": "2023-04-26T08:15:53.766Z"
      },
      {
        "duration": 10,
        "start_time": "2023-04-26T08:15:53.780Z"
      },
      {
        "duration": 10,
        "start_time": "2023-04-26T08:15:53.791Z"
      },
      {
        "duration": 6,
        "start_time": "2023-04-26T08:15:53.804Z"
      },
      {
        "duration": 22,
        "start_time": "2023-04-26T08:15:53.811Z"
      },
      {
        "duration": 21,
        "start_time": "2023-04-26T08:15:53.835Z"
      },
      {
        "duration": 24,
        "start_time": "2023-04-26T08:15:53.858Z"
      },
      {
        "duration": 7,
        "start_time": "2023-04-26T08:15:53.885Z"
      },
      {
        "duration": 28,
        "start_time": "2023-04-26T08:15:53.894Z"
      },
      {
        "duration": 49,
        "start_time": "2023-04-26T08:15:53.924Z"
      },
      {
        "duration": 37,
        "start_time": "2023-04-26T08:15:53.976Z"
      },
      {
        "duration": 8,
        "start_time": "2023-04-26T08:15:54.015Z"
      },
      {
        "duration": 177,
        "start_time": "2023-04-26T08:15:54.025Z"
      },
      {
        "duration": 7190,
        "start_time": "2023-04-26T08:15:54.204Z"
      },
      {
        "duration": 33,
        "start_time": "2023-04-26T08:16:09.735Z"
      },
      {
        "duration": 4,
        "start_time": "2023-04-26T08:16:58.721Z"
      },
      {
        "duration": 966,
        "start_time": "2023-04-27T13:32:48.123Z"
      },
      {
        "duration": 685,
        "start_time": "2023-04-27T13:32:49.091Z"
      },
      {
        "duration": 25,
        "start_time": "2023-04-27T13:32:49.777Z"
      },
      {
        "duration": 68,
        "start_time": "2023-04-27T13:32:49.804Z"
      },
      {
        "duration": 64,
        "start_time": "2023-04-27T13:32:49.875Z"
      },
      {
        "duration": 8,
        "start_time": "2023-04-27T13:32:49.943Z"
      },
      {
        "duration": 42,
        "start_time": "2023-04-27T13:32:49.953Z"
      },
      {
        "duration": 65,
        "start_time": "2023-04-27T13:32:49.997Z"
      },
      {
        "duration": 22,
        "start_time": "2023-04-27T13:32:50.064Z"
      },
      {
        "duration": 23,
        "start_time": "2023-04-27T13:32:50.088Z"
      },
      {
        "duration": 59,
        "start_time": "2023-04-27T13:32:50.112Z"
      },
      {
        "duration": 17,
        "start_time": "2023-04-27T13:32:50.174Z"
      },
      {
        "duration": 90,
        "start_time": "2023-04-27T13:32:50.193Z"
      },
      {
        "duration": 5,
        "start_time": "2023-04-27T13:32:50.286Z"
      },
      {
        "duration": 61,
        "start_time": "2023-04-27T13:32:50.293Z"
      },
      {
        "duration": 15,
        "start_time": "2023-04-27T13:32:50.356Z"
      },
      {
        "duration": 46,
        "start_time": "2023-04-27T13:32:50.373Z"
      },
      {
        "duration": 13,
        "start_time": "2023-04-27T13:32:50.427Z"
      },
      {
        "duration": 234,
        "start_time": "2023-04-27T13:32:50.442Z"
      },
      {
        "duration": 5,
        "start_time": "2023-04-27T13:32:50.678Z"
      },
      {
        "duration": 12,
        "start_time": "2023-04-27T13:43:49.933Z"
      },
      {
        "duration": 851,
        "start_time": "2023-04-27T13:44:08.042Z"
      },
      {
        "duration": 208,
        "start_time": "2023-04-27T13:44:08.896Z"
      },
      {
        "duration": 30,
        "start_time": "2023-04-27T13:44:09.105Z"
      },
      {
        "duration": 68,
        "start_time": "2023-04-27T13:44:09.137Z"
      },
      {
        "duration": 105,
        "start_time": "2023-04-27T13:44:09.207Z"
      },
      {
        "duration": 10,
        "start_time": "2023-04-27T13:44:09.314Z"
      },
      {
        "duration": 70,
        "start_time": "2023-04-27T13:44:09.328Z"
      },
      {
        "duration": 57,
        "start_time": "2023-04-27T13:44:09.400Z"
      },
      {
        "duration": 30,
        "start_time": "2023-04-27T13:44:09.460Z"
      },
      {
        "duration": 20,
        "start_time": "2023-04-27T13:44:09.493Z"
      },
      {
        "duration": 70,
        "start_time": "2023-04-27T13:44:09.514Z"
      },
      {
        "duration": 30,
        "start_time": "2023-04-27T13:44:09.586Z"
      },
      {
        "duration": 58,
        "start_time": "2023-04-27T13:44:09.617Z"
      },
      {
        "duration": 13,
        "start_time": "2023-04-27T13:44:09.676Z"
      },
      {
        "duration": 23,
        "start_time": "2023-04-27T13:44:09.690Z"
      },
      {
        "duration": 88,
        "start_time": "2023-04-27T13:44:09.715Z"
      },
      {
        "duration": 4,
        "start_time": "2023-04-27T13:44:09.804Z"
      },
      {
        "duration": 205,
        "start_time": "2023-04-27T13:44:09.810Z"
      },
      {
        "duration": 13,
        "start_time": "2023-04-27T13:44:10.017Z"
      },
      {
        "duration": 54,
        "start_time": "2023-04-27T13:44:10.036Z"
      },
      {
        "duration": 768,
        "start_time": "2023-04-27T13:48:45.471Z"
      },
      {
        "duration": 247,
        "start_time": "2023-04-27T13:48:46.241Z"
      },
      {
        "duration": 24,
        "start_time": "2023-04-27T13:48:46.489Z"
      },
      {
        "duration": 53,
        "start_time": "2023-04-27T13:48:46.515Z"
      },
      {
        "duration": 65,
        "start_time": "2023-04-27T13:48:46.569Z"
      },
      {
        "duration": 33,
        "start_time": "2023-04-27T13:48:46.635Z"
      },
      {
        "duration": 26,
        "start_time": "2023-04-27T13:48:46.670Z"
      },
      {
        "duration": 52,
        "start_time": "2023-04-27T13:48:46.698Z"
      },
      {
        "duration": 60,
        "start_time": "2023-04-27T13:48:46.751Z"
      },
      {
        "duration": 83,
        "start_time": "2023-04-27T13:48:46.814Z"
      },
      {
        "duration": 93,
        "start_time": "2023-04-27T13:48:46.900Z"
      },
      {
        "duration": 92,
        "start_time": "2023-04-27T13:48:46.995Z"
      },
      {
        "duration": 10,
        "start_time": "2023-04-27T13:48:47.089Z"
      },
      {
        "duration": 84,
        "start_time": "2023-04-27T13:48:47.101Z"
      },
      {
        "duration": 40,
        "start_time": "2023-04-27T13:48:47.188Z"
      },
      {
        "duration": 104,
        "start_time": "2023-04-27T13:48:47.236Z"
      },
      {
        "duration": 56,
        "start_time": "2023-04-27T13:48:47.342Z"
      },
      {
        "duration": 229,
        "start_time": "2023-04-27T13:48:47.399Z"
      },
      {
        "duration": 8277,
        "start_time": "2023-04-27T13:48:47.630Z"
      },
      {
        "duration": 42,
        "start_time": "2023-04-27T13:48:55.910Z"
      },
      {
        "duration": 169,
        "start_time": "2023-04-27T13:50:12.437Z"
      },
      {
        "duration": 1868,
        "start_time": "2023-04-27T13:50:51.988Z"
      },
      {
        "duration": 180,
        "start_time": "2023-04-27T13:50:53.858Z"
      },
      {
        "duration": 31,
        "start_time": "2023-04-27T13:50:54.040Z"
      },
      {
        "duration": 14,
        "start_time": "2023-04-27T13:50:54.073Z"
      },
      {
        "duration": 60,
        "start_time": "2023-04-27T13:50:54.088Z"
      },
      {
        "duration": 5,
        "start_time": "2023-04-27T13:50:54.156Z"
      },
      {
        "duration": 10,
        "start_time": "2023-04-27T13:50:54.164Z"
      },
      {
        "duration": 11,
        "start_time": "2023-04-27T13:50:54.176Z"
      },
      {
        "duration": 10,
        "start_time": "2023-04-27T13:50:54.189Z"
      },
      {
        "duration": 6,
        "start_time": "2023-04-27T13:50:54.202Z"
      },
      {
        "duration": 40,
        "start_time": "2023-04-27T13:50:54.209Z"
      },
      {
        "duration": 30,
        "start_time": "2023-04-27T13:50:54.261Z"
      },
      {
        "duration": 4,
        "start_time": "2023-04-27T13:50:54.293Z"
      },
      {
        "duration": 34,
        "start_time": "2023-04-27T13:50:54.299Z"
      },
      {
        "duration": 46,
        "start_time": "2023-04-27T13:50:54.339Z"
      },
      {
        "duration": 50,
        "start_time": "2023-04-27T13:50:54.388Z"
      },
      {
        "duration": 8,
        "start_time": "2023-04-27T13:50:54.440Z"
      },
      {
        "duration": 198,
        "start_time": "2023-04-27T13:50:54.450Z"
      },
      {
        "duration": 6,
        "start_time": "2023-04-27T13:50:54.650Z"
      },
      {
        "duration": 44,
        "start_time": "2023-04-27T13:50:54.657Z"
      },
      {
        "duration": 5,
        "start_time": "2023-04-27T14:11:07.974Z"
      },
      {
        "duration": 22,
        "start_time": "2023-04-27T14:11:14.165Z"
      },
      {
        "duration": 10,
        "start_time": "2023-04-27T14:11:25.447Z"
      },
      {
        "duration": 435,
        "start_time": "2023-04-27T14:14:06.843Z"
      },
      {
        "duration": 12,
        "start_time": "2023-04-27T14:14:31.362Z"
      },
      {
        "duration": 14,
        "start_time": "2023-04-27T14:14:40.578Z"
      },
      {
        "duration": 16,
        "start_time": "2023-04-27T14:14:54.797Z"
      },
      {
        "duration": 96,
        "start_time": "2023-04-27T14:18:38.539Z"
      },
      {
        "duration": 16,
        "start_time": "2023-04-27T14:18:49.477Z"
      },
      {
        "duration": 15,
        "start_time": "2023-04-27T14:19:26.647Z"
      },
      {
        "duration": 16,
        "start_time": "2023-04-27T14:21:37.048Z"
      },
      {
        "duration": 868,
        "start_time": "2023-04-27T14:21:52.707Z"
      },
      {
        "duration": 168,
        "start_time": "2023-04-27T14:21:53.577Z"
      },
      {
        "duration": 24,
        "start_time": "2023-04-27T14:21:53.751Z"
      },
      {
        "duration": 48,
        "start_time": "2023-04-27T14:21:53.777Z"
      },
      {
        "duration": 49,
        "start_time": "2023-04-27T14:21:53.832Z"
      },
      {
        "duration": 5,
        "start_time": "2023-04-27T14:21:53.882Z"
      },
      {
        "duration": 39,
        "start_time": "2023-04-27T14:21:53.889Z"
      },
      {
        "duration": 39,
        "start_time": "2023-04-27T14:21:53.930Z"
      },
      {
        "duration": 16,
        "start_time": "2023-04-27T14:21:53.971Z"
      },
      {
        "duration": 10,
        "start_time": "2023-04-27T14:21:53.989Z"
      },
      {
        "duration": 41,
        "start_time": "2023-04-27T14:21:54.001Z"
      },
      {
        "duration": 40,
        "start_time": "2023-04-27T14:21:54.044Z"
      },
      {
        "duration": 5,
        "start_time": "2023-04-27T14:21:54.086Z"
      },
      {
        "duration": 15,
        "start_time": "2023-04-27T14:21:54.094Z"
      },
      {
        "duration": 47,
        "start_time": "2023-04-27T14:21:54.111Z"
      },
      {
        "duration": 42,
        "start_time": "2023-04-27T14:21:54.160Z"
      },
      {
        "duration": 4,
        "start_time": "2023-04-27T14:21:54.204Z"
      },
      {
        "duration": 197,
        "start_time": "2023-04-27T14:21:54.210Z"
      },
      {
        "duration": 5,
        "start_time": "2023-04-27T14:21:54.408Z"
      },
      {
        "duration": 137,
        "start_time": "2023-04-27T14:21:54.416Z"
      },
      {
        "duration": 905,
        "start_time": "2023-04-27T14:22:08.148Z"
      },
      {
        "duration": 15,
        "start_time": "2023-04-27T14:22:20.234Z"
      },
      {
        "duration": 19,
        "start_time": "2023-04-27T14:22:28.780Z"
      },
      {
        "duration": 753,
        "start_time": "2023-04-27T14:22:34.876Z"
      },
      {
        "duration": 171,
        "start_time": "2023-04-27T14:22:35.631Z"
      },
      {
        "duration": 24,
        "start_time": "2023-04-27T14:22:35.803Z"
      },
      {
        "duration": 47,
        "start_time": "2023-04-27T14:22:35.829Z"
      },
      {
        "duration": 36,
        "start_time": "2023-04-27T14:22:35.879Z"
      },
      {
        "duration": 33,
        "start_time": "2023-04-27T14:22:35.916Z"
      },
      {
        "duration": 13,
        "start_time": "2023-04-27T14:22:35.951Z"
      },
      {
        "duration": 26,
        "start_time": "2023-04-27T14:22:35.966Z"
      },
      {
        "duration": 22,
        "start_time": "2023-04-27T14:22:35.994Z"
      },
      {
        "duration": 33,
        "start_time": "2023-04-27T14:22:36.027Z"
      },
      {
        "duration": 40,
        "start_time": "2023-04-27T14:22:36.062Z"
      },
      {
        "duration": 30,
        "start_time": "2023-04-27T14:22:36.104Z"
      },
      {
        "duration": 36,
        "start_time": "2023-04-27T14:22:36.136Z"
      },
      {
        "duration": 16,
        "start_time": "2023-04-27T14:22:36.175Z"
      },
      {
        "duration": 41,
        "start_time": "2023-04-27T14:22:36.193Z"
      },
      {
        "duration": 53,
        "start_time": "2023-04-27T14:22:36.235Z"
      },
      {
        "duration": 4,
        "start_time": "2023-04-27T14:22:36.290Z"
      },
      {
        "duration": 181,
        "start_time": "2023-04-27T14:22:36.296Z"
      },
      {
        "duration": 5,
        "start_time": "2023-04-27T14:22:36.480Z"
      },
      {
        "duration": 138,
        "start_time": "2023-04-27T14:22:36.487Z"
      },
      {
        "duration": 13,
        "start_time": "2023-04-27T14:22:48.953Z"
      },
      {
        "duration": 30,
        "start_time": "2023-04-27T14:22:54.511Z"
      },
      {
        "duration": 737,
        "start_time": "2023-04-27T14:23:05.651Z"
      },
      {
        "duration": 168,
        "start_time": "2023-04-27T14:23:06.390Z"
      },
      {
        "duration": 27,
        "start_time": "2023-04-27T14:23:06.560Z"
      },
      {
        "duration": 15,
        "start_time": "2023-04-27T14:23:06.589Z"
      },
      {
        "duration": 54,
        "start_time": "2023-04-27T14:23:06.605Z"
      },
      {
        "duration": 5,
        "start_time": "2023-04-27T14:23:06.660Z"
      },
      {
        "duration": 16,
        "start_time": "2023-04-27T14:23:06.667Z"
      },
      {
        "duration": 23,
        "start_time": "2023-04-27T14:23:06.685Z"
      },
      {
        "duration": 21,
        "start_time": "2023-04-27T14:23:06.711Z"
      },
      {
        "duration": 28,
        "start_time": "2023-04-27T14:23:06.735Z"
      },
      {
        "duration": 19,
        "start_time": "2023-04-27T14:23:06.765Z"
      },
      {
        "duration": 24,
        "start_time": "2023-04-27T14:23:06.786Z"
      },
      {
        "duration": 15,
        "start_time": "2023-04-27T14:23:06.812Z"
      },
      {
        "duration": 35,
        "start_time": "2023-04-27T14:23:06.831Z"
      },
      {
        "duration": 25,
        "start_time": "2023-04-27T14:23:06.868Z"
      },
      {
        "duration": 46,
        "start_time": "2023-04-27T14:23:06.895Z"
      },
      {
        "duration": 28,
        "start_time": "2023-04-27T14:23:06.943Z"
      },
      {
        "duration": 180,
        "start_time": "2023-04-27T14:23:06.973Z"
      },
      {
        "duration": 5,
        "start_time": "2023-04-27T14:23:07.155Z"
      },
      {
        "duration": 30,
        "start_time": "2023-04-27T14:23:07.161Z"
      },
      {
        "duration": 160,
        "start_time": "2023-04-27T14:23:54.048Z"
      },
      {
        "duration": 150,
        "start_time": "2023-04-27T14:24:05.061Z"
      },
      {
        "duration": 240,
        "start_time": "2023-04-27T14:24:08.811Z"
      },
      {
        "duration": 173,
        "start_time": "2023-04-27T14:28:59.955Z"
      },
      {
        "duration": 249,
        "start_time": "2023-04-27T14:34:00.110Z"
      },
      {
        "duration": 203,
        "start_time": "2023-04-27T14:34:08.753Z"
      },
      {
        "duration": 3075,
        "start_time": "2023-04-27T14:35:20.616Z"
      },
      {
        "duration": 2810,
        "start_time": "2023-04-27T14:36:52.251Z"
      },
      {
        "duration": 252,
        "start_time": "2023-04-27T14:37:19.088Z"
      },
      {
        "duration": 236,
        "start_time": "2023-04-27T14:46:44.816Z"
      },
      {
        "duration": 203,
        "start_time": "2023-04-27T14:47:38.943Z"
      },
      {
        "duration": 897,
        "start_time": "2023-04-28T10:23:21.104Z"
      },
      {
        "duration": 710,
        "start_time": "2023-04-28T10:23:22.003Z"
      },
      {
        "duration": 23,
        "start_time": "2023-04-28T10:23:22.715Z"
      },
      {
        "duration": 14,
        "start_time": "2023-04-28T10:23:22.741Z"
      },
      {
        "duration": 40,
        "start_time": "2023-04-28T10:23:22.757Z"
      },
      {
        "duration": 5,
        "start_time": "2023-04-28T10:23:22.799Z"
      },
      {
        "duration": 7,
        "start_time": "2023-04-28T10:23:22.806Z"
      },
      {
        "duration": 12,
        "start_time": "2023-04-28T10:23:22.815Z"
      },
      {
        "duration": 15,
        "start_time": "2023-04-28T10:23:22.859Z"
      },
      {
        "duration": 14,
        "start_time": "2023-04-28T10:23:22.877Z"
      },
      {
        "duration": 10,
        "start_time": "2023-04-28T10:23:22.893Z"
      },
      {
        "duration": 22,
        "start_time": "2023-04-28T10:23:22.905Z"
      },
      {
        "duration": 4,
        "start_time": "2023-04-28T10:23:22.929Z"
      },
      {
        "duration": 42,
        "start_time": "2023-04-28T10:23:22.934Z"
      },
      {
        "duration": 18,
        "start_time": "2023-04-28T10:23:22.981Z"
      },
      {
        "duration": 32,
        "start_time": "2023-04-28T10:23:23.001Z"
      },
      {
        "duration": 4,
        "start_time": "2023-04-28T10:23:23.035Z"
      },
      {
        "duration": 181,
        "start_time": "2023-04-28T10:23:23.041Z"
      },
      {
        "duration": 4,
        "start_time": "2023-04-28T10:23:23.224Z"
      },
      {
        "duration": 220,
        "start_time": "2023-04-28T10:23:23.229Z"
      },
      {
        "duration": 11,
        "start_time": "2023-04-28T10:30:59.338Z"
      },
      {
        "duration": 13,
        "start_time": "2023-04-28T10:33:12.444Z"
      },
      {
        "duration": 7,
        "start_time": "2023-04-28T10:33:25.611Z"
      },
      {
        "duration": 12,
        "start_time": "2023-04-28T10:33:30.326Z"
      },
      {
        "duration": 675,
        "start_time": "2023-04-28T10:33:35.092Z"
      },
      {
        "duration": 154,
        "start_time": "2023-04-28T10:33:35.771Z"
      },
      {
        "duration": 20,
        "start_time": "2023-04-28T10:33:35.927Z"
      },
      {
        "duration": 22,
        "start_time": "2023-04-28T10:33:35.949Z"
      },
      {
        "duration": 34,
        "start_time": "2023-04-28T10:33:35.973Z"
      },
      {
        "duration": 4,
        "start_time": "2023-04-28T10:33:36.009Z"
      },
      {
        "duration": 33,
        "start_time": "2023-04-28T10:33:36.014Z"
      },
      {
        "duration": 36,
        "start_time": "2023-04-28T10:33:36.049Z"
      },
      {
        "duration": 12,
        "start_time": "2023-04-28T10:33:36.087Z"
      },
      {
        "duration": 24,
        "start_time": "2023-04-28T10:33:36.102Z"
      },
      {
        "duration": 10,
        "start_time": "2023-04-28T10:33:36.127Z"
      },
      {
        "duration": 53,
        "start_time": "2023-04-28T10:33:36.139Z"
      },
      {
        "duration": 4,
        "start_time": "2023-04-28T10:33:36.194Z"
      },
      {
        "duration": 12,
        "start_time": "2023-04-28T10:33:36.200Z"
      },
      {
        "duration": 22,
        "start_time": "2023-04-28T10:33:36.214Z"
      },
      {
        "duration": 53,
        "start_time": "2023-04-28T10:33:36.238Z"
      },
      {
        "duration": 5,
        "start_time": "2023-04-28T10:33:36.293Z"
      },
      {
        "duration": 167,
        "start_time": "2023-04-28T10:33:36.300Z"
      },
      {
        "duration": 10,
        "start_time": "2023-04-28T10:33:36.469Z"
      },
      {
        "duration": 212,
        "start_time": "2023-04-28T10:33:36.484Z"
      },
      {
        "duration": 13,
        "start_time": "2023-04-28T10:33:36.698Z"
      },
      {
        "duration": 9,
        "start_time": "2023-04-28T10:35:07.198Z"
      },
      {
        "duration": 13,
        "start_time": "2023-04-28T10:35:19.584Z"
      },
      {
        "duration": 246,
        "start_time": "2023-04-28T10:37:21.464Z"
      },
      {
        "duration": 83,
        "start_time": "2023-04-28T10:47:44.585Z"
      },
      {
        "duration": 619,
        "start_time": "2023-04-28T10:47:58.213Z"
      },
      {
        "duration": 171,
        "start_time": "2023-04-28T10:47:58.833Z"
      },
      {
        "duration": 24,
        "start_time": "2023-04-28T10:47:59.005Z"
      },
      {
        "duration": 12,
        "start_time": "2023-04-28T10:47:59.031Z"
      },
      {
        "duration": 40,
        "start_time": "2023-04-28T10:47:59.045Z"
      },
      {
        "duration": 4,
        "start_time": "2023-04-28T10:47:59.088Z"
      },
      {
        "duration": 9,
        "start_time": "2023-04-28T10:47:59.094Z"
      },
      {
        "duration": 22,
        "start_time": "2023-04-28T10:47:59.104Z"
      },
      {
        "duration": 20,
        "start_time": "2023-04-28T10:47:59.128Z"
      },
      {
        "duration": 11,
        "start_time": "2023-04-28T10:47:59.150Z"
      },
      {
        "duration": 14,
        "start_time": "2023-04-28T10:47:59.163Z"
      },
      {
        "duration": 26,
        "start_time": "2023-04-28T10:47:59.180Z"
      },
      {
        "duration": 4,
        "start_time": "2023-04-28T10:47:59.208Z"
      },
      {
        "duration": 15,
        "start_time": "2023-04-28T10:47:59.216Z"
      },
      {
        "duration": 38,
        "start_time": "2023-04-28T10:47:59.232Z"
      },
      {
        "duration": 45,
        "start_time": "2023-04-28T10:47:59.271Z"
      },
      {
        "duration": 4,
        "start_time": "2023-04-28T10:47:59.318Z"
      },
      {
        "duration": 153,
        "start_time": "2023-04-28T10:47:59.324Z"
      },
      {
        "duration": 7,
        "start_time": "2023-04-28T10:47:59.481Z"
      },
      {
        "duration": 244,
        "start_time": "2023-04-28T10:47:59.490Z"
      },
      {
        "duration": 241,
        "start_time": "2023-04-28T10:47:59.736Z"
      },
      {
        "duration": 8,
        "start_time": "2023-04-28T10:47:59.979Z"
      },
      {
        "duration": 1585,
        "start_time": "2023-04-28T10:59:04.521Z"
      },
      {
        "duration": 1518,
        "start_time": "2023-04-28T10:59:23.034Z"
      },
      {
        "duration": 698,
        "start_time": "2023-04-28T10:59:35.522Z"
      },
      {
        "duration": 180,
        "start_time": "2023-04-28T10:59:36.223Z"
      },
      {
        "duration": 22,
        "start_time": "2023-04-28T10:59:36.405Z"
      },
      {
        "duration": 12,
        "start_time": "2023-04-28T10:59:36.429Z"
      },
      {
        "duration": 56,
        "start_time": "2023-04-28T10:59:36.443Z"
      },
      {
        "duration": 5,
        "start_time": "2023-04-28T10:59:36.501Z"
      },
      {
        "duration": 18,
        "start_time": "2023-04-28T10:59:36.507Z"
      },
      {
        "duration": 14,
        "start_time": "2023-04-28T10:59:36.527Z"
      },
      {
        "duration": 22,
        "start_time": "2023-04-28T10:59:36.543Z"
      },
      {
        "duration": 35,
        "start_time": "2023-04-28T10:59:36.569Z"
      },
      {
        "duration": 21,
        "start_time": "2023-04-28T10:59:36.605Z"
      },
      {
        "duration": 45,
        "start_time": "2023-04-28T10:59:36.628Z"
      },
      {
        "duration": 9,
        "start_time": "2023-04-28T10:59:36.675Z"
      },
      {
        "duration": 11,
        "start_time": "2023-04-28T10:59:36.685Z"
      },
      {
        "duration": 31,
        "start_time": "2023-04-28T10:59:36.698Z"
      },
      {
        "duration": 38,
        "start_time": "2023-04-28T10:59:36.730Z"
      },
      {
        "duration": 8,
        "start_time": "2023-04-28T10:59:36.770Z"
      },
      {
        "duration": 155,
        "start_time": "2023-04-28T10:59:36.779Z"
      },
      {
        "duration": 5,
        "start_time": "2023-04-28T10:59:36.936Z"
      },
      {
        "duration": 246,
        "start_time": "2023-04-28T10:59:36.943Z"
      },
      {
        "duration": 216,
        "start_time": "2023-04-28T10:59:37.193Z"
      },
      {
        "duration": 1537,
        "start_time": "2023-04-28T10:59:37.410Z"
      },
      {
        "duration": 980,
        "start_time": "2023-04-28T11:00:04.826Z"
      },
      {
        "duration": 164,
        "start_time": "2023-04-28T11:00:05.808Z"
      },
      {
        "duration": 31,
        "start_time": "2023-04-28T11:00:05.974Z"
      },
      {
        "duration": 15,
        "start_time": "2023-04-28T11:00:06.007Z"
      },
      {
        "duration": 67,
        "start_time": "2023-04-28T11:00:06.025Z"
      },
      {
        "duration": 5,
        "start_time": "2023-04-28T11:00:06.096Z"
      },
      {
        "duration": 37,
        "start_time": "2023-04-28T11:00:06.103Z"
      },
      {
        "duration": 45,
        "start_time": "2023-04-28T11:00:06.142Z"
      },
      {
        "duration": 11,
        "start_time": "2023-04-28T11:00:06.190Z"
      },
      {
        "duration": 8,
        "start_time": "2023-04-28T11:00:06.203Z"
      },
      {
        "duration": 10,
        "start_time": "2023-04-28T11:00:06.213Z"
      },
      {
        "duration": 53,
        "start_time": "2023-04-28T11:00:06.225Z"
      },
      {
        "duration": 7,
        "start_time": "2023-04-28T11:00:06.280Z"
      },
      {
        "duration": 17,
        "start_time": "2023-04-28T11:00:06.290Z"
      },
      {
        "duration": 19,
        "start_time": "2023-04-28T11:00:06.309Z"
      },
      {
        "duration": 49,
        "start_time": "2023-04-28T11:00:06.329Z"
      },
      {
        "duration": 5,
        "start_time": "2023-04-28T11:00:06.380Z"
      },
      {
        "duration": 165,
        "start_time": "2023-04-28T11:00:06.387Z"
      },
      {
        "duration": 8,
        "start_time": "2023-04-28T11:00:06.554Z"
      },
      {
        "duration": 225,
        "start_time": "2023-04-28T11:00:06.566Z"
      },
      {
        "duration": 206,
        "start_time": "2023-04-28T11:00:06.792Z"
      },
      {
        "duration": 1834,
        "start_time": "2023-04-28T11:00:07.000Z"
      },
      {
        "duration": 1545,
        "start_time": "2023-04-28T11:00:18.884Z"
      },
      {
        "duration": 1585,
        "start_time": "2023-04-28T11:00:35.190Z"
      },
      {
        "duration": 686,
        "start_time": "2023-04-28T11:01:04.611Z"
      },
      {
        "duration": 158,
        "start_time": "2023-04-28T11:01:05.299Z"
      },
      {
        "duration": 35,
        "start_time": "2023-04-28T11:01:05.458Z"
      },
      {
        "duration": 13,
        "start_time": "2023-04-28T11:01:05.494Z"
      },
      {
        "duration": 28,
        "start_time": "2023-04-28T11:01:05.509Z"
      },
      {
        "duration": 4,
        "start_time": "2023-04-28T11:01:05.538Z"
      },
      {
        "duration": 9,
        "start_time": "2023-04-28T11:01:05.562Z"
      },
      {
        "duration": 18,
        "start_time": "2023-04-28T11:01:05.573Z"
      },
      {
        "duration": 10,
        "start_time": "2023-04-28T11:01:05.593Z"
      },
      {
        "duration": 6,
        "start_time": "2023-04-28T11:01:05.604Z"
      },
      {
        "duration": 9,
        "start_time": "2023-04-28T11:01:05.612Z"
      },
      {
        "duration": 57,
        "start_time": "2023-04-28T11:01:05.622Z"
      },
      {
        "duration": 9,
        "start_time": "2023-04-28T11:01:05.681Z"
      },
      {
        "duration": 8,
        "start_time": "2023-04-28T11:01:05.693Z"
      },
      {
        "duration": 20,
        "start_time": "2023-04-28T11:01:05.702Z"
      },
      {
        "duration": 52,
        "start_time": "2023-04-28T11:01:05.723Z"
      },
      {
        "duration": 6,
        "start_time": "2023-04-28T11:01:05.777Z"
      },
      {
        "duration": 148,
        "start_time": "2023-04-28T11:01:05.785Z"
      },
      {
        "duration": 4,
        "start_time": "2023-04-28T11:01:05.934Z"
      },
      {
        "duration": 239,
        "start_time": "2023-04-28T11:01:05.940Z"
      },
      {
        "duration": 224,
        "start_time": "2023-04-28T11:01:06.181Z"
      },
      {
        "duration": 1474,
        "start_time": "2023-04-28T11:01:06.406Z"
      },
      {
        "duration": 706,
        "start_time": "2023-04-28T11:01:25.582Z"
      },
      {
        "duration": 151,
        "start_time": "2023-04-28T11:01:26.292Z"
      },
      {
        "duration": 36,
        "start_time": "2023-04-28T11:01:26.444Z"
      },
      {
        "duration": 14,
        "start_time": "2023-04-28T11:01:26.486Z"
      },
      {
        "duration": 29,
        "start_time": "2023-04-28T11:01:26.502Z"
      },
      {
        "duration": 3,
        "start_time": "2023-04-28T11:01:26.533Z"
      },
      {
        "duration": 48,
        "start_time": "2023-04-28T11:01:26.538Z"
      },
      {
        "duration": 12,
        "start_time": "2023-04-28T11:01:26.588Z"
      },
      {
        "duration": 10,
        "start_time": "2023-04-28T11:01:26.601Z"
      },
      {
        "duration": 6,
        "start_time": "2023-04-28T11:01:26.613Z"
      },
      {
        "duration": 21,
        "start_time": "2023-04-28T11:01:26.621Z"
      },
      {
        "duration": 43,
        "start_time": "2023-04-28T11:01:26.644Z"
      },
      {
        "duration": 5,
        "start_time": "2023-04-28T11:01:26.689Z"
      },
      {
        "duration": 8,
        "start_time": "2023-04-28T11:01:26.696Z"
      },
      {
        "duration": 14,
        "start_time": "2023-04-28T11:01:26.706Z"
      },
      {
        "duration": 29,
        "start_time": "2023-04-28T11:01:26.722Z"
      },
      {
        "duration": 12,
        "start_time": "2023-04-28T11:01:26.752Z"
      },
      {
        "duration": 160,
        "start_time": "2023-04-28T11:01:26.766Z"
      },
      {
        "duration": 4,
        "start_time": "2023-04-28T11:01:26.927Z"
      },
      {
        "duration": 235,
        "start_time": "2023-04-28T11:01:26.933Z"
      },
      {
        "duration": 193,
        "start_time": "2023-04-28T11:01:27.184Z"
      },
      {
        "duration": 1385,
        "start_time": "2023-04-28T11:01:27.380Z"
      },
      {
        "duration": 8,
        "start_time": "2023-04-28T11:01:56.700Z"
      },
      {
        "duration": 1348,
        "start_time": "2023-04-28T11:02:57.579Z"
      },
      {
        "duration": 1407,
        "start_time": "2023-04-28T11:03:48.129Z"
      },
      {
        "duration": 746,
        "start_time": "2023-04-28T11:03:57.584Z"
      },
      {
        "duration": 178,
        "start_time": "2023-04-28T11:03:58.333Z"
      },
      {
        "duration": 23,
        "start_time": "2023-04-28T11:03:58.513Z"
      },
      {
        "duration": 31,
        "start_time": "2023-04-28T11:03:58.538Z"
      },
      {
        "duration": 37,
        "start_time": "2023-04-28T11:03:58.575Z"
      },
      {
        "duration": 4,
        "start_time": "2023-04-28T11:03:58.614Z"
      },
      {
        "duration": 24,
        "start_time": "2023-04-28T11:03:58.620Z"
      },
      {
        "duration": 30,
        "start_time": "2023-04-28T11:03:58.645Z"
      },
      {
        "duration": 17,
        "start_time": "2023-04-28T11:03:58.677Z"
      },
      {
        "duration": 22,
        "start_time": "2023-04-28T11:03:58.696Z"
      },
      {
        "duration": 42,
        "start_time": "2023-04-28T11:03:58.720Z"
      },
      {
        "duration": 38,
        "start_time": "2023-04-28T11:03:58.764Z"
      },
      {
        "duration": 5,
        "start_time": "2023-04-28T11:03:58.803Z"
      },
      {
        "duration": 9,
        "start_time": "2023-04-28T11:03:58.810Z"
      },
      {
        "duration": 46,
        "start_time": "2023-04-28T11:03:58.821Z"
      },
      {
        "duration": 32,
        "start_time": "2023-04-28T11:03:58.872Z"
      },
      {
        "duration": 5,
        "start_time": "2023-04-28T11:03:58.905Z"
      },
      {
        "duration": 170,
        "start_time": "2023-04-28T11:03:58.912Z"
      },
      {
        "duration": 5,
        "start_time": "2023-04-28T11:03:59.087Z"
      },
      {
        "duration": 213,
        "start_time": "2023-04-28T11:03:59.093Z"
      },
      {
        "duration": 215,
        "start_time": "2023-04-28T11:03:59.307Z"
      },
      {
        "duration": 1602,
        "start_time": "2023-04-28T11:03:59.523Z"
      },
      {
        "duration": 0,
        "start_time": "2023-04-28T11:04:01.127Z"
      },
      {
        "duration": 4,
        "start_time": "2023-04-28T11:04:11.208Z"
      },
      {
        "duration": 12,
        "start_time": "2023-04-28T11:04:22.487Z"
      },
      {
        "duration": 9,
        "start_time": "2023-04-28T11:04:35.193Z"
      },
      {
        "duration": 7,
        "start_time": "2023-04-28T11:04:49.284Z"
      },
      {
        "duration": 9,
        "start_time": "2023-04-28T11:04:55.885Z"
      },
      {
        "duration": 109,
        "start_time": "2023-04-28T11:07:03.584Z"
      },
      {
        "duration": 35,
        "start_time": "2023-04-28T11:12:07.297Z"
      },
      {
        "duration": 18,
        "start_time": "2023-04-28T11:12:36.599Z"
      },
      {
        "duration": 15,
        "start_time": "2023-04-28T11:12:48.083Z"
      },
      {
        "duration": 19,
        "start_time": "2023-04-28T11:12:59.173Z"
      },
      {
        "duration": 15,
        "start_time": "2023-04-28T11:13:05.882Z"
      },
      {
        "duration": 15,
        "start_time": "2023-04-28T11:13:18.030Z"
      },
      {
        "duration": 721,
        "start_time": "2023-04-28T11:13:39.133Z"
      },
      {
        "duration": 190,
        "start_time": "2023-04-28T11:13:39.857Z"
      },
      {
        "duration": 33,
        "start_time": "2023-04-28T11:13:40.049Z"
      },
      {
        "duration": 20,
        "start_time": "2023-04-28T11:13:40.084Z"
      },
      {
        "duration": 28,
        "start_time": "2023-04-28T11:13:40.107Z"
      },
      {
        "duration": 28,
        "start_time": "2023-04-28T11:13:40.137Z"
      },
      {
        "duration": 16,
        "start_time": "2023-04-28T11:13:40.172Z"
      },
      {
        "duration": 11,
        "start_time": "2023-04-28T11:13:40.190Z"
      },
      {
        "duration": 10,
        "start_time": "2023-04-28T11:13:40.202Z"
      },
      {
        "duration": 7,
        "start_time": "2023-04-28T11:13:40.214Z"
      },
      {
        "duration": 9,
        "start_time": "2023-04-28T11:13:40.223Z"
      },
      {
        "duration": 59,
        "start_time": "2023-04-28T11:13:40.233Z"
      },
      {
        "duration": 6,
        "start_time": "2023-04-28T11:13:40.294Z"
      },
      {
        "duration": 7,
        "start_time": "2023-04-28T11:13:40.303Z"
      },
      {
        "duration": 19,
        "start_time": "2023-04-28T11:13:40.311Z"
      },
      {
        "duration": 55,
        "start_time": "2023-04-28T11:13:40.332Z"
      },
      {
        "duration": 5,
        "start_time": "2023-04-28T11:13:40.389Z"
      },
      {
        "duration": 167,
        "start_time": "2023-04-28T11:13:40.395Z"
      },
      {
        "duration": 131,
        "start_time": "2023-04-28T11:13:40.572Z"
      },
      {
        "duration": 0,
        "start_time": "2023-04-28T11:13:40.705Z"
      },
      {
        "duration": 0,
        "start_time": "2023-04-28T11:13:40.706Z"
      },
      {
        "duration": 0,
        "start_time": "2023-04-28T11:13:40.707Z"
      },
      {
        "duration": 0,
        "start_time": "2023-04-28T11:13:40.709Z"
      },
      {
        "duration": 88,
        "start_time": "2023-04-28T11:13:52.125Z"
      },
      {
        "duration": 16,
        "start_time": "2023-04-28T11:14:07.384Z"
      },
      {
        "duration": 685,
        "start_time": "2023-04-28T11:14:28.106Z"
      },
      {
        "duration": 155,
        "start_time": "2023-04-28T11:14:28.793Z"
      },
      {
        "duration": 37,
        "start_time": "2023-04-28T11:14:28.950Z"
      },
      {
        "duration": 16,
        "start_time": "2023-04-28T11:14:28.988Z"
      },
      {
        "duration": 31,
        "start_time": "2023-04-28T11:14:29.006Z"
      },
      {
        "duration": 4,
        "start_time": "2023-04-28T11:14:29.039Z"
      },
      {
        "duration": 7,
        "start_time": "2023-04-28T11:14:29.064Z"
      },
      {
        "duration": 19,
        "start_time": "2023-04-28T11:14:29.073Z"
      },
      {
        "duration": 10,
        "start_time": "2023-04-28T11:14:29.093Z"
      },
      {
        "duration": 6,
        "start_time": "2023-04-28T11:14:29.105Z"
      },
      {
        "duration": 10,
        "start_time": "2023-04-28T11:14:29.113Z"
      },
      {
        "duration": 54,
        "start_time": "2023-04-28T11:14:29.125Z"
      },
      {
        "duration": 4,
        "start_time": "2023-04-28T11:14:29.181Z"
      },
      {
        "duration": 6,
        "start_time": "2023-04-28T11:14:29.189Z"
      },
      {
        "duration": 14,
        "start_time": "2023-04-28T11:14:29.196Z"
      },
      {
        "duration": 57,
        "start_time": "2023-04-28T11:14:29.212Z"
      },
      {
        "duration": 9,
        "start_time": "2023-04-28T11:14:29.276Z"
      },
      {
        "duration": 149,
        "start_time": "2023-04-28T11:14:29.287Z"
      },
      {
        "duration": 4,
        "start_time": "2023-04-28T11:14:29.438Z"
      },
      {
        "duration": 254,
        "start_time": "2023-04-28T11:14:29.444Z"
      },
      {
        "duration": 292,
        "start_time": "2023-04-28T11:14:29.699Z"
      },
      {
        "duration": 6,
        "start_time": "2023-04-28T11:14:29.993Z"
      },
      {
        "duration": 124,
        "start_time": "2023-04-28T11:14:30.003Z"
      },
      {
        "duration": 19,
        "start_time": "2023-04-28T11:25:34.678Z"
      },
      {
        "duration": 12,
        "start_time": "2023-04-28T11:28:27.028Z"
      },
      {
        "duration": 12,
        "start_time": "2023-04-28T11:28:32.339Z"
      },
      {
        "duration": 9,
        "start_time": "2023-04-28T11:28:34.451Z"
      },
      {
        "duration": 750,
        "start_time": "2023-04-28T11:28:39.475Z"
      },
      {
        "duration": 154,
        "start_time": "2023-04-28T11:28:40.227Z"
      },
      {
        "duration": 23,
        "start_time": "2023-04-28T11:28:40.383Z"
      },
      {
        "duration": 15,
        "start_time": "2023-04-28T11:28:40.407Z"
      },
      {
        "duration": 64,
        "start_time": "2023-04-28T11:28:40.425Z"
      },
      {
        "duration": 5,
        "start_time": "2023-04-28T11:28:40.490Z"
      },
      {
        "duration": 7,
        "start_time": "2023-04-28T11:28:40.497Z"
      },
      {
        "duration": 15,
        "start_time": "2023-04-28T11:28:40.506Z"
      },
      {
        "duration": 42,
        "start_time": "2023-04-28T11:28:40.523Z"
      },
      {
        "duration": 10,
        "start_time": "2023-04-28T11:28:40.567Z"
      },
      {
        "duration": 12,
        "start_time": "2023-04-28T11:28:40.579Z"
      },
      {
        "duration": 27,
        "start_time": "2023-04-28T11:28:40.593Z"
      },
      {
        "duration": 5,
        "start_time": "2023-04-28T11:28:40.622Z"
      },
      {
        "duration": 35,
        "start_time": "2023-04-28T11:28:40.631Z"
      },
      {
        "duration": 16,
        "start_time": "2023-04-28T11:28:40.670Z"
      },
      {
        "duration": 34,
        "start_time": "2023-04-28T11:28:40.688Z"
      },
      {
        "duration": 4,
        "start_time": "2023-04-28T11:28:40.724Z"
      },
      {
        "duration": 160,
        "start_time": "2023-04-28T11:28:40.729Z"
      },
      {
        "duration": 6,
        "start_time": "2023-04-28T11:28:40.891Z"
      },
      {
        "duration": 226,
        "start_time": "2023-04-28T11:28:40.898Z"
      },
      {
        "duration": 221,
        "start_time": "2023-04-28T11:28:41.126Z"
      },
      {
        "duration": 20,
        "start_time": "2023-04-28T11:28:41.349Z"
      },
      {
        "duration": 99,
        "start_time": "2023-04-28T11:28:41.378Z"
      },
      {
        "duration": 11,
        "start_time": "2023-04-28T11:28:41.478Z"
      },
      {
        "duration": 83,
        "start_time": "2023-04-28T11:36:18.253Z"
      },
      {
        "duration": 19,
        "start_time": "2023-04-28T11:36:21.969Z"
      },
      {
        "duration": 14,
        "start_time": "2023-04-28T11:36:32.436Z"
      },
      {
        "duration": 692,
        "start_time": "2023-04-28T11:36:42.908Z"
      },
      {
        "duration": 148,
        "start_time": "2023-04-28T11:36:43.602Z"
      },
      {
        "duration": 28,
        "start_time": "2023-04-28T11:36:43.752Z"
      },
      {
        "duration": 26,
        "start_time": "2023-04-28T11:36:43.782Z"
      },
      {
        "duration": 36,
        "start_time": "2023-04-28T11:36:43.811Z"
      },
      {
        "duration": 10,
        "start_time": "2023-04-28T11:36:43.859Z"
      },
      {
        "duration": 7,
        "start_time": "2023-04-28T11:36:43.874Z"
      },
      {
        "duration": 11,
        "start_time": "2023-04-28T11:36:43.882Z"
      },
      {
        "duration": 10,
        "start_time": "2023-04-28T11:36:43.894Z"
      },
      {
        "duration": 6,
        "start_time": "2023-04-28T11:36:43.905Z"
      },
      {
        "duration": 9,
        "start_time": "2023-04-28T11:36:43.913Z"
      },
      {
        "duration": 54,
        "start_time": "2023-04-28T11:36:43.924Z"
      },
      {
        "duration": 5,
        "start_time": "2023-04-28T11:36:43.980Z"
      },
      {
        "duration": 7,
        "start_time": "2023-04-28T11:36:43.987Z"
      },
      {
        "duration": 16,
        "start_time": "2023-04-28T11:36:43.995Z"
      },
      {
        "duration": 57,
        "start_time": "2023-04-28T11:36:44.012Z"
      },
      {
        "duration": 4,
        "start_time": "2023-04-28T11:36:44.075Z"
      },
      {
        "duration": 162,
        "start_time": "2023-04-28T11:36:44.081Z"
      },
      {
        "duration": 5,
        "start_time": "2023-04-28T11:36:44.245Z"
      },
      {
        "duration": 221,
        "start_time": "2023-04-28T11:36:44.262Z"
      },
      {
        "duration": 211,
        "start_time": "2023-04-28T11:36:44.486Z"
      },
      {
        "duration": 4,
        "start_time": "2023-04-28T11:36:44.699Z"
      },
      {
        "duration": 124,
        "start_time": "2023-04-28T11:36:44.706Z"
      },
      {
        "duration": 18,
        "start_time": "2023-04-28T11:36:44.831Z"
      },
      {
        "duration": 15,
        "start_time": "2023-04-28T11:36:53.578Z"
      },
      {
        "duration": 14,
        "start_time": "2023-04-28T11:36:57.440Z"
      },
      {
        "duration": 715,
        "start_time": "2023-04-28T11:37:10.424Z"
      },
      {
        "duration": 173,
        "start_time": "2023-04-28T11:37:11.141Z"
      },
      {
        "duration": 27,
        "start_time": "2023-04-28T11:37:11.317Z"
      },
      {
        "duration": 19,
        "start_time": "2023-04-28T11:37:11.345Z"
      },
      {
        "duration": 32,
        "start_time": "2023-04-28T11:37:11.370Z"
      },
      {
        "duration": 4,
        "start_time": "2023-04-28T11:37:11.404Z"
      },
      {
        "duration": 8,
        "start_time": "2023-04-28T11:37:11.410Z"
      },
      {
        "duration": 10,
        "start_time": "2023-04-28T11:37:11.419Z"
      },
      {
        "duration": 10,
        "start_time": "2023-04-28T11:37:11.430Z"
      },
      {
        "duration": 17,
        "start_time": "2023-04-28T11:37:11.460Z"
      },
      {
        "duration": 12,
        "start_time": "2023-04-28T11:37:11.479Z"
      },
      {
        "duration": 23,
        "start_time": "2023-04-28T11:37:11.493Z"
      },
      {
        "duration": 5,
        "start_time": "2023-04-28T11:37:11.517Z"
      },
      {
        "duration": 7,
        "start_time": "2023-04-28T11:37:11.524Z"
      },
      {
        "duration": 44,
        "start_time": "2023-04-28T11:37:11.533Z"
      },
      {
        "duration": 29,
        "start_time": "2023-04-28T11:37:11.579Z"
      },
      {
        "duration": 4,
        "start_time": "2023-04-28T11:37:11.610Z"
      },
      {
        "duration": 165,
        "start_time": "2023-04-28T11:37:11.616Z"
      },
      {
        "duration": 6,
        "start_time": "2023-04-28T11:37:11.783Z"
      },
      {
        "duration": 230,
        "start_time": "2023-04-28T11:37:11.791Z"
      },
      {
        "duration": 207,
        "start_time": "2023-04-28T11:37:12.023Z"
      },
      {
        "duration": 3,
        "start_time": "2023-04-28T11:37:12.232Z"
      },
      {
        "duration": 115,
        "start_time": "2023-04-28T11:37:12.237Z"
      },
      {
        "duration": 31,
        "start_time": "2023-04-28T11:37:12.354Z"
      },
      {
        "duration": 87,
        "start_time": "2023-04-28T11:37:18.598Z"
      },
      {
        "duration": 21,
        "start_time": "2023-04-28T11:37:25.946Z"
      },
      {
        "duration": 717,
        "start_time": "2023-04-28T11:37:43.253Z"
      },
      {
        "duration": 158,
        "start_time": "2023-04-28T11:37:43.972Z"
      },
      {
        "duration": 35,
        "start_time": "2023-04-28T11:37:44.132Z"
      },
      {
        "duration": 17,
        "start_time": "2023-04-28T11:37:44.169Z"
      },
      {
        "duration": 32,
        "start_time": "2023-04-28T11:37:44.189Z"
      },
      {
        "duration": 4,
        "start_time": "2023-04-28T11:37:44.223Z"
      },
      {
        "duration": 7,
        "start_time": "2023-04-28T11:37:44.229Z"
      },
      {
        "duration": 19,
        "start_time": "2023-04-28T11:37:44.262Z"
      },
      {
        "duration": 11,
        "start_time": "2023-04-28T11:37:44.283Z"
      },
      {
        "duration": 7,
        "start_time": "2023-04-28T11:37:44.297Z"
      },
      {
        "duration": 10,
        "start_time": "2023-04-28T11:37:44.305Z"
      },
      {
        "duration": 22,
        "start_time": "2023-04-28T11:37:44.317Z"
      },
      {
        "duration": 13,
        "start_time": "2023-04-28T11:37:44.361Z"
      },
      {
        "duration": 7,
        "start_time": "2023-04-28T11:37:44.379Z"
      },
      {
        "duration": 18,
        "start_time": "2023-04-28T11:37:44.388Z"
      },
      {
        "duration": 40,
        "start_time": "2023-04-28T11:37:44.407Z"
      },
      {
        "duration": 10,
        "start_time": "2023-04-28T11:37:44.461Z"
      },
      {
        "duration": 175,
        "start_time": "2023-04-28T11:37:44.474Z"
      },
      {
        "duration": 11,
        "start_time": "2023-04-28T11:37:44.651Z"
      },
      {
        "duration": 238,
        "start_time": "2023-04-28T11:37:44.667Z"
      },
      {
        "duration": 218,
        "start_time": "2023-04-28T11:37:44.906Z"
      },
      {
        "duration": 3,
        "start_time": "2023-04-28T11:37:45.126Z"
      },
      {
        "duration": 112,
        "start_time": "2023-04-28T11:37:45.132Z"
      },
      {
        "duration": 29,
        "start_time": "2023-04-28T11:37:45.246Z"
      },
      {
        "duration": 87,
        "start_time": "2023-04-28T11:40:22.357Z"
      },
      {
        "duration": 16,
        "start_time": "2023-04-28T11:42:54.231Z"
      },
      {
        "duration": 18,
        "start_time": "2023-04-28T11:42:59.914Z"
      },
      {
        "duration": 17,
        "start_time": "2023-04-28T11:45:17.527Z"
      },
      {
        "duration": 66,
        "start_time": "2023-04-28T13:25:22.321Z"
      },
      {
        "duration": 991,
        "start_time": "2023-04-28T13:25:28.552Z"
      },
      {
        "duration": 405,
        "start_time": "2023-04-28T13:25:29.546Z"
      },
      {
        "duration": 23,
        "start_time": "2023-04-28T13:25:29.954Z"
      },
      {
        "duration": 14,
        "start_time": "2023-04-28T13:25:29.980Z"
      },
      {
        "duration": 63,
        "start_time": "2023-04-28T13:25:29.996Z"
      },
      {
        "duration": 6,
        "start_time": "2023-04-28T13:25:30.062Z"
      },
      {
        "duration": 10,
        "start_time": "2023-04-28T13:25:30.070Z"
      },
      {
        "duration": 33,
        "start_time": "2023-04-28T13:25:30.081Z"
      },
      {
        "duration": 11,
        "start_time": "2023-04-28T13:25:30.115Z"
      },
      {
        "duration": 27,
        "start_time": "2023-04-28T13:25:30.130Z"
      },
      {
        "duration": 35,
        "start_time": "2023-04-28T13:25:30.160Z"
      },
      {
        "duration": 36,
        "start_time": "2023-04-28T13:25:30.197Z"
      },
      {
        "duration": 18,
        "start_time": "2023-04-28T13:25:30.235Z"
      },
      {
        "duration": 26,
        "start_time": "2023-04-28T13:25:30.255Z"
      },
      {
        "duration": 80,
        "start_time": "2023-04-28T13:25:30.284Z"
      },
      {
        "duration": 100,
        "start_time": "2023-04-28T13:25:30.366Z"
      },
      {
        "duration": 12,
        "start_time": "2023-04-28T13:25:30.468Z"
      },
      {
        "duration": 209,
        "start_time": "2023-04-28T13:25:30.482Z"
      },
      {
        "duration": 7,
        "start_time": "2023-04-28T13:25:30.693Z"
      },
      {
        "duration": 287,
        "start_time": "2023-04-28T13:25:30.702Z"
      },
      {
        "duration": 208,
        "start_time": "2023-04-28T13:25:30.991Z"
      },
      {
        "duration": 13,
        "start_time": "2023-04-28T13:25:31.201Z"
      },
      {
        "duration": 136,
        "start_time": "2023-04-28T13:25:31.218Z"
      },
      {
        "duration": 15,
        "start_time": "2023-04-28T13:25:31.357Z"
      },
      {
        "duration": 13,
        "start_time": "2023-04-28T13:27:57.314Z"
      },
      {
        "duration": 10,
        "start_time": "2023-04-28T13:28:03.718Z"
      },
      {
        "duration": 19,
        "start_time": "2023-04-28T13:28:09.127Z"
      },
      {
        "duration": 681,
        "start_time": "2023-04-28T13:34:04.519Z"
      },
      {
        "duration": 143,
        "start_time": "2023-04-28T13:34:05.202Z"
      },
      {
        "duration": 33,
        "start_time": "2023-04-28T13:34:05.347Z"
      },
      {
        "duration": 18,
        "start_time": "2023-04-28T13:34:05.382Z"
      },
      {
        "duration": 56,
        "start_time": "2023-04-28T13:34:05.403Z"
      },
      {
        "duration": 5,
        "start_time": "2023-04-28T13:34:05.461Z"
      },
      {
        "duration": 9,
        "start_time": "2023-04-28T13:34:05.468Z"
      },
      {
        "duration": 38,
        "start_time": "2023-04-28T13:34:05.478Z"
      },
      {
        "duration": 14,
        "start_time": "2023-04-28T13:34:05.519Z"
      },
      {
        "duration": 9,
        "start_time": "2023-04-28T13:34:05.535Z"
      },
      {
        "duration": 14,
        "start_time": "2023-04-28T13:34:05.546Z"
      },
      {
        "duration": 64,
        "start_time": "2023-04-28T13:34:05.562Z"
      },
      {
        "duration": 5,
        "start_time": "2023-04-28T13:34:05.628Z"
      },
      {
        "duration": 8,
        "start_time": "2023-04-28T13:34:05.637Z"
      },
      {
        "duration": 15,
        "start_time": "2023-04-28T13:34:05.647Z"
      },
      {
        "duration": 53,
        "start_time": "2023-04-28T13:34:05.664Z"
      },
      {
        "duration": 6,
        "start_time": "2023-04-28T13:34:05.719Z"
      },
      {
        "duration": 193,
        "start_time": "2023-04-28T13:34:05.727Z"
      },
      {
        "duration": 6,
        "start_time": "2023-04-28T13:34:05.922Z"
      },
      {
        "duration": 204,
        "start_time": "2023-04-28T13:34:05.930Z"
      },
      {
        "duration": 258,
        "start_time": "2023-04-28T13:34:06.136Z"
      },
      {
        "duration": 5,
        "start_time": "2023-04-28T13:34:06.396Z"
      },
      {
        "duration": 151,
        "start_time": "2023-04-28T13:34:06.403Z"
      },
      {
        "duration": 15,
        "start_time": "2023-04-28T13:34:06.555Z"
      },
      {
        "duration": 13,
        "start_time": "2023-04-28T13:34:16.469Z"
      },
      {
        "duration": 15,
        "start_time": "2023-04-28T13:40:02.519Z"
      },
      {
        "duration": 27,
        "start_time": "2023-04-28T13:41:25.562Z"
      },
      {
        "duration": 388,
        "start_time": "2023-04-28T13:41:59.917Z"
      },
      {
        "duration": 75,
        "start_time": "2023-04-28T13:44:11.338Z"
      },
      {
        "duration": 21,
        "start_time": "2023-04-28T13:44:22.585Z"
      },
      {
        "duration": 14,
        "start_time": "2023-04-28T13:44:46.606Z"
      },
      {
        "duration": 13,
        "start_time": "2023-04-28T13:44:56.905Z"
      },
      {
        "duration": 183,
        "start_time": "2023-04-28T13:45:12.186Z"
      },
      {
        "duration": 680,
        "start_time": "2023-04-28T13:45:37.809Z"
      },
      {
        "duration": 145,
        "start_time": "2023-04-28T13:45:38.491Z"
      },
      {
        "duration": 34,
        "start_time": "2023-04-28T13:45:38.638Z"
      },
      {
        "duration": 24,
        "start_time": "2023-04-28T13:45:38.674Z"
      },
      {
        "duration": 39,
        "start_time": "2023-04-28T13:45:38.701Z"
      },
      {
        "duration": 6,
        "start_time": "2023-04-28T13:45:38.742Z"
      },
      {
        "duration": 8,
        "start_time": "2023-04-28T13:45:38.750Z"
      },
      {
        "duration": 15,
        "start_time": "2023-04-28T13:45:38.761Z"
      },
      {
        "duration": 35,
        "start_time": "2023-04-28T13:45:38.778Z"
      },
      {
        "duration": 8,
        "start_time": "2023-04-28T13:45:38.816Z"
      },
      {
        "duration": 17,
        "start_time": "2023-04-28T13:45:38.826Z"
      },
      {
        "duration": 35,
        "start_time": "2023-04-28T13:45:38.846Z"
      },
      {
        "duration": 6,
        "start_time": "2023-04-28T13:45:38.883Z"
      },
      {
        "duration": 9,
        "start_time": "2023-04-28T13:45:38.915Z"
      },
      {
        "duration": 33,
        "start_time": "2023-04-28T13:45:38.926Z"
      },
      {
        "duration": 51,
        "start_time": "2023-04-28T13:45:38.962Z"
      },
      {
        "duration": 6,
        "start_time": "2023-04-28T13:45:39.015Z"
      },
      {
        "duration": 221,
        "start_time": "2023-04-28T13:45:39.024Z"
      },
      {
        "duration": 5,
        "start_time": "2023-04-28T13:45:39.247Z"
      },
      {
        "duration": 228,
        "start_time": "2023-04-28T13:45:39.254Z"
      },
      {
        "duration": 231,
        "start_time": "2023-04-28T13:45:39.485Z"
      },
      {
        "duration": 5,
        "start_time": "2023-04-28T13:45:39.717Z"
      },
      {
        "duration": 165,
        "start_time": "2023-04-28T13:45:39.724Z"
      },
      {
        "duration": 237,
        "start_time": "2023-04-28T13:45:39.892Z"
      },
      {
        "duration": 99,
        "start_time": "2023-04-28T13:46:38.376Z"
      },
      {
        "duration": 230,
        "start_time": "2023-04-28T13:47:13.999Z"
      },
      {
        "duration": 34,
        "start_time": "2023-04-28T13:51:15.204Z"
      },
      {
        "duration": 19,
        "start_time": "2023-04-28T14:18:37.204Z"
      },
      {
        "duration": 193,
        "start_time": "2023-04-28T14:20:53.991Z"
      },
      {
        "duration": 203,
        "start_time": "2023-04-28T14:21:04.471Z"
      },
      {
        "duration": 231,
        "start_time": "2023-04-28T14:22:03.265Z"
      },
      {
        "duration": 216,
        "start_time": "2023-04-28T14:22:27.870Z"
      },
      {
        "duration": 368,
        "start_time": "2023-04-28T14:22:37.877Z"
      },
      {
        "duration": 986,
        "start_time": "2023-04-29T14:55:04.734Z"
      },
      {
        "duration": 426,
        "start_time": "2023-04-29T14:55:05.723Z"
      },
      {
        "duration": 46,
        "start_time": "2023-04-29T14:55:06.153Z"
      },
      {
        "duration": 26,
        "start_time": "2023-04-29T14:55:06.203Z"
      },
      {
        "duration": 32,
        "start_time": "2023-04-29T14:55:06.233Z"
      },
      {
        "duration": 4,
        "start_time": "2023-04-29T14:55:06.267Z"
      },
      {
        "duration": 28,
        "start_time": "2023-04-29T14:55:06.273Z"
      },
      {
        "duration": 22,
        "start_time": "2023-04-29T14:55:06.303Z"
      },
      {
        "duration": 31,
        "start_time": "2023-04-29T14:55:06.327Z"
      },
      {
        "duration": 47,
        "start_time": "2023-04-29T14:55:06.360Z"
      },
      {
        "duration": 10,
        "start_time": "2023-04-29T14:55:06.413Z"
      },
      {
        "duration": 25,
        "start_time": "2023-04-29T14:55:06.425Z"
      },
      {
        "duration": 6,
        "start_time": "2023-04-29T14:55:06.451Z"
      },
      {
        "duration": 7,
        "start_time": "2023-04-29T14:55:06.460Z"
      },
      {
        "duration": 38,
        "start_time": "2023-04-29T14:55:06.469Z"
      },
      {
        "duration": 30,
        "start_time": "2023-04-29T14:55:06.513Z"
      },
      {
        "duration": 4,
        "start_time": "2023-04-29T14:55:06.545Z"
      },
      {
        "duration": 170,
        "start_time": "2023-04-29T14:55:06.551Z"
      },
      {
        "duration": 5,
        "start_time": "2023-04-29T14:55:06.722Z"
      },
      {
        "duration": 229,
        "start_time": "2023-04-29T14:55:06.729Z"
      },
      {
        "duration": 231,
        "start_time": "2023-04-29T14:55:06.960Z"
      },
      {
        "duration": 9,
        "start_time": "2023-04-29T14:55:07.197Z"
      },
      {
        "duration": 118,
        "start_time": "2023-04-29T14:55:07.208Z"
      },
      {
        "duration": 213,
        "start_time": "2023-04-29T14:55:07.328Z"
      },
      {
        "duration": 408,
        "start_time": "2023-04-29T14:55:07.543Z"
      },
      {
        "duration": 557,
        "start_time": "2023-04-29T15:13:20.623Z"
      },
      {
        "duration": 1112,
        "start_time": "2023-04-29T15:13:58.657Z"
      },
      {
        "duration": 1280,
        "start_time": "2023-04-29T15:14:14.393Z"
      },
      {
        "duration": 699,
        "start_time": "2023-04-29T15:16:03.034Z"
      },
      {
        "duration": 148,
        "start_time": "2023-04-29T15:16:03.735Z"
      },
      {
        "duration": 39,
        "start_time": "2023-04-29T15:16:03.885Z"
      },
      {
        "duration": 22,
        "start_time": "2023-04-29T15:16:03.927Z"
      },
      {
        "duration": 61,
        "start_time": "2023-04-29T15:16:03.953Z"
      },
      {
        "duration": 5,
        "start_time": "2023-04-29T15:16:04.016Z"
      },
      {
        "duration": 31,
        "start_time": "2023-04-29T15:16:04.023Z"
      },
      {
        "duration": 23,
        "start_time": "2023-04-29T15:16:04.056Z"
      },
      {
        "duration": 49,
        "start_time": "2023-04-29T15:16:04.081Z"
      },
      {
        "duration": 33,
        "start_time": "2023-04-29T15:16:04.132Z"
      },
      {
        "duration": 23,
        "start_time": "2023-04-29T15:16:04.167Z"
      },
      {
        "duration": 40,
        "start_time": "2023-04-29T15:16:04.193Z"
      },
      {
        "duration": 6,
        "start_time": "2023-04-29T15:16:04.236Z"
      },
      {
        "duration": 8,
        "start_time": "2023-04-29T15:16:04.247Z"
      },
      {
        "duration": 49,
        "start_time": "2023-04-29T15:16:04.258Z"
      },
      {
        "duration": 46,
        "start_time": "2023-04-29T15:16:04.309Z"
      },
      {
        "duration": 5,
        "start_time": "2023-04-29T15:16:04.358Z"
      },
      {
        "duration": 205,
        "start_time": "2023-04-29T15:16:04.365Z"
      },
      {
        "duration": 5,
        "start_time": "2023-04-29T15:16:04.573Z"
      },
      {
        "duration": 323,
        "start_time": "2023-04-29T15:16:04.589Z"
      },
      {
        "duration": 243,
        "start_time": "2023-04-29T15:16:04.915Z"
      },
      {
        "duration": 4,
        "start_time": "2023-04-29T15:16:05.160Z"
      },
      {
        "duration": 145,
        "start_time": "2023-04-29T15:16:05.166Z"
      },
      {
        "duration": 251,
        "start_time": "2023-04-29T15:16:05.313Z"
      },
      {
        "duration": 510,
        "start_time": "2023-04-29T15:16:05.566Z"
      },
      {
        "duration": 467,
        "start_time": "2023-04-29T15:16:18.257Z"
      },
      {
        "duration": 119,
        "start_time": "2023-04-29T15:22:41.038Z"
      },
      {
        "duration": 657,
        "start_time": "2023-04-29T15:22:51.740Z"
      },
      {
        "duration": 665,
        "start_time": "2023-04-29T15:23:14.223Z"
      },
      {
        "duration": 707,
        "start_time": "2023-04-29T15:24:46.574Z"
      },
      {
        "duration": 173,
        "start_time": "2023-04-29T15:24:47.284Z"
      },
      {
        "duration": 24,
        "start_time": "2023-04-29T15:24:47.459Z"
      },
      {
        "duration": 22,
        "start_time": "2023-04-29T15:24:47.485Z"
      },
      {
        "duration": 37,
        "start_time": "2023-04-29T15:24:47.512Z"
      },
      {
        "duration": 4,
        "start_time": "2023-04-29T15:24:47.551Z"
      },
      {
        "duration": 9,
        "start_time": "2023-04-29T15:24:47.557Z"
      },
      {
        "duration": 39,
        "start_time": "2023-04-29T15:24:47.569Z"
      },
      {
        "duration": 18,
        "start_time": "2023-04-29T15:24:47.609Z"
      },
      {
        "duration": 9,
        "start_time": "2023-04-29T15:24:47.629Z"
      },
      {
        "duration": 11,
        "start_time": "2023-04-29T15:24:47.639Z"
      },
      {
        "duration": 42,
        "start_time": "2023-04-29T15:24:47.653Z"
      },
      {
        "duration": 23,
        "start_time": "2023-04-29T15:24:47.702Z"
      },
      {
        "duration": 10,
        "start_time": "2023-04-29T15:24:47.732Z"
      },
      {
        "duration": 24,
        "start_time": "2023-04-29T15:24:47.745Z"
      },
      {
        "duration": 52,
        "start_time": "2023-04-29T15:24:47.772Z"
      },
      {
        "duration": 5,
        "start_time": "2023-04-29T15:24:47.828Z"
      },
      {
        "duration": 181,
        "start_time": "2023-04-29T15:24:47.835Z"
      },
      {
        "duration": 15,
        "start_time": "2023-04-29T15:24:48.021Z"
      },
      {
        "duration": 232,
        "start_time": "2023-04-29T15:24:48.038Z"
      },
      {
        "duration": 263,
        "start_time": "2023-04-29T15:24:48.271Z"
      },
      {
        "duration": 5,
        "start_time": "2023-04-29T15:24:48.536Z"
      },
      {
        "duration": 151,
        "start_time": "2023-04-29T15:24:48.543Z"
      },
      {
        "duration": 245,
        "start_time": "2023-04-29T15:24:48.696Z"
      },
      {
        "duration": 1687,
        "start_time": "2023-04-29T15:24:48.944Z"
      },
      {
        "duration": 490,
        "start_time": "2023-04-29T15:25:05.841Z"
      },
      {
        "duration": 1730,
        "start_time": "2023-04-29T15:25:14.440Z"
      },
      {
        "duration": 14,
        "start_time": "2023-04-29T15:25:37.356Z"
      },
      {
        "duration": 17,
        "start_time": "2023-04-29T15:26:15.279Z"
      },
      {
        "duration": 28,
        "start_time": "2023-04-29T15:26:25.884Z"
      },
      {
        "duration": 738,
        "start_time": "2023-04-29T15:26:32.869Z"
      },
      {
        "duration": 174,
        "start_time": "2023-04-29T15:26:33.612Z"
      },
      {
        "duration": 32,
        "start_time": "2023-04-29T15:26:33.787Z"
      },
      {
        "duration": 22,
        "start_time": "2023-04-29T15:26:33.822Z"
      },
      {
        "duration": 31,
        "start_time": "2023-04-29T15:26:33.846Z"
      },
      {
        "duration": 18,
        "start_time": "2023-04-29T15:26:33.879Z"
      },
      {
        "duration": 9,
        "start_time": "2023-04-29T15:26:33.900Z"
      },
      {
        "duration": 27,
        "start_time": "2023-04-29T15:26:33.916Z"
      },
      {
        "duration": 15,
        "start_time": "2023-04-29T15:26:33.945Z"
      },
      {
        "duration": 10,
        "start_time": "2023-04-29T15:26:33.963Z"
      },
      {
        "duration": 43,
        "start_time": "2023-04-29T15:26:33.975Z"
      },
      {
        "duration": 30,
        "start_time": "2023-04-29T15:26:34.023Z"
      },
      {
        "duration": 4,
        "start_time": "2023-04-29T15:26:34.055Z"
      },
      {
        "duration": 40,
        "start_time": "2023-04-29T15:26:34.061Z"
      },
      {
        "duration": 34,
        "start_time": "2023-04-29T15:26:34.102Z"
      },
      {
        "duration": 43,
        "start_time": "2023-04-29T15:26:34.143Z"
      },
      {
        "duration": 11,
        "start_time": "2023-04-29T15:26:34.188Z"
      },
      {
        "duration": 197,
        "start_time": "2023-04-29T15:26:34.206Z"
      },
      {
        "duration": 13,
        "start_time": "2023-04-29T15:26:34.418Z"
      },
      {
        "duration": 239,
        "start_time": "2023-04-29T15:26:34.435Z"
      },
      {
        "duration": 248,
        "start_time": "2023-04-29T15:26:34.676Z"
      },
      {
        "duration": 9,
        "start_time": "2023-04-29T15:26:34.930Z"
      },
      {
        "duration": 117,
        "start_time": "2023-04-29T15:26:34.941Z"
      },
      {
        "duration": 236,
        "start_time": "2023-04-29T15:26:35.060Z"
      },
      {
        "duration": 423,
        "start_time": "2023-04-29T15:26:35.297Z"
      },
      {
        "duration": 18,
        "start_time": "2023-04-29T15:26:35.721Z"
      },
      {
        "duration": 760,
        "start_time": "2023-04-29T15:26:56.735Z"
      },
      {
        "duration": 204,
        "start_time": "2023-04-29T15:26:57.506Z"
      },
      {
        "duration": 34,
        "start_time": "2023-04-29T15:26:57.712Z"
      },
      {
        "duration": 16,
        "start_time": "2023-04-29T15:26:57.748Z"
      },
      {
        "duration": 88,
        "start_time": "2023-04-29T15:26:57.767Z"
      },
      {
        "duration": 5,
        "start_time": "2023-04-29T15:26:57.856Z"
      },
      {
        "duration": 7,
        "start_time": "2023-04-29T15:26:57.863Z"
      },
      {
        "duration": 11,
        "start_time": "2023-04-29T15:26:57.872Z"
      },
      {
        "duration": 43,
        "start_time": "2023-04-29T15:26:57.885Z"
      },
      {
        "duration": 9,
        "start_time": "2023-04-29T15:26:57.930Z"
      },
      {
        "duration": 12,
        "start_time": "2023-04-29T15:26:57.942Z"
      },
      {
        "duration": 24,
        "start_time": "2023-04-29T15:26:57.957Z"
      },
      {
        "duration": 5,
        "start_time": "2023-04-29T15:26:57.982Z"
      },
      {
        "duration": 12,
        "start_time": "2023-04-29T15:26:57.994Z"
      },
      {
        "duration": 32,
        "start_time": "2023-04-29T15:26:58.008Z"
      },
      {
        "duration": 29,
        "start_time": "2023-04-29T15:26:58.042Z"
      },
      {
        "duration": 5,
        "start_time": "2023-04-29T15:26:58.074Z"
      },
      {
        "duration": 197,
        "start_time": "2023-04-29T15:26:58.081Z"
      },
      {
        "duration": 23,
        "start_time": "2023-04-29T15:26:58.280Z"
      },
      {
        "duration": 252,
        "start_time": "2023-04-29T15:26:58.308Z"
      },
      {
        "duration": 239,
        "start_time": "2023-04-29T15:26:58.562Z"
      },
      {
        "duration": 4,
        "start_time": "2023-04-29T15:26:58.803Z"
      },
      {
        "duration": 131,
        "start_time": "2023-04-29T15:26:58.809Z"
      },
      {
        "duration": 231,
        "start_time": "2023-04-29T15:26:58.942Z"
      },
      {
        "duration": 435,
        "start_time": "2023-04-29T15:26:59.175Z"
      },
      {
        "duration": 423,
        "start_time": "2023-04-29T15:27:08.273Z"
      },
      {
        "duration": 452,
        "start_time": "2023-04-29T15:27:16.078Z"
      },
      {
        "duration": 194,
        "start_time": "2023-04-29T15:57:35.289Z"
      },
      {
        "duration": 398,
        "start_time": "2023-04-29T15:57:53.685Z"
      },
      {
        "duration": 25,
        "start_time": "2023-04-29T16:01:46.610Z"
      },
      {
        "duration": 75,
        "start_time": "2023-04-29T16:11:33.188Z"
      },
      {
        "duration": 274,
        "start_time": "2023-04-29T16:11:54.624Z"
      },
      {
        "duration": 173,
        "start_time": "2023-04-29T16:12:07.712Z"
      },
      {
        "duration": 130,
        "start_time": "2023-04-29T16:15:46.724Z"
      },
      {
        "duration": 137,
        "start_time": "2023-04-29T16:16:03.276Z"
      },
      {
        "duration": 1037,
        "start_time": "2023-04-29T18:36:22.560Z"
      },
      {
        "duration": 365,
        "start_time": "2023-04-29T18:36:23.600Z"
      },
      {
        "duration": 28,
        "start_time": "2023-04-29T18:36:23.967Z"
      },
      {
        "duration": 23,
        "start_time": "2023-04-29T18:36:23.999Z"
      },
      {
        "duration": 68,
        "start_time": "2023-04-29T18:36:24.024Z"
      },
      {
        "duration": 6,
        "start_time": "2023-04-29T18:36:24.094Z"
      },
      {
        "duration": 23,
        "start_time": "2023-04-29T18:36:24.103Z"
      },
      {
        "duration": 28,
        "start_time": "2023-04-29T18:36:24.129Z"
      },
      {
        "duration": 23,
        "start_time": "2023-04-29T18:36:24.160Z"
      },
      {
        "duration": 12,
        "start_time": "2023-04-29T18:36:24.188Z"
      },
      {
        "duration": 31,
        "start_time": "2023-04-29T18:36:24.202Z"
      },
      {
        "duration": 36,
        "start_time": "2023-04-29T18:36:24.236Z"
      },
      {
        "duration": 6,
        "start_time": "2023-04-29T18:36:24.275Z"
      },
      {
        "duration": 11,
        "start_time": "2023-04-29T18:36:24.283Z"
      },
      {
        "duration": 56,
        "start_time": "2023-04-29T18:36:24.296Z"
      },
      {
        "duration": 34,
        "start_time": "2023-04-29T18:36:24.361Z"
      },
      {
        "duration": 5,
        "start_time": "2023-04-29T18:36:24.397Z"
      },
      {
        "duration": 192,
        "start_time": "2023-04-29T18:36:24.404Z"
      },
      {
        "duration": 6,
        "start_time": "2023-04-29T18:36:24.598Z"
      },
      {
        "duration": 255,
        "start_time": "2023-04-29T18:36:24.607Z"
      },
      {
        "duration": 228,
        "start_time": "2023-04-29T18:36:24.865Z"
      },
      {
        "duration": 4,
        "start_time": "2023-04-29T18:36:25.095Z"
      },
      {
        "duration": 194,
        "start_time": "2023-04-29T18:36:25.101Z"
      },
      {
        "duration": 234,
        "start_time": "2023-04-29T18:36:25.296Z"
      },
      {
        "duration": 480,
        "start_time": "2023-04-29T18:36:25.533Z"
      },
      {
        "duration": 232,
        "start_time": "2023-04-29T18:36:26.016Z"
      },
      {
        "duration": 184,
        "start_time": "2023-04-29T18:36:49.468Z"
      },
      {
        "duration": 180,
        "start_time": "2023-04-29T18:37:30.268Z"
      },
      {
        "duration": 211,
        "start_time": "2023-04-29T18:37:56.030Z"
      },
      {
        "duration": 170,
        "start_time": "2023-04-29T18:39:38.960Z"
      },
      {
        "duration": 34,
        "start_time": "2023-04-29T18:39:39.133Z"
      },
      {
        "duration": 21,
        "start_time": "2023-04-29T18:39:39.171Z"
      },
      {
        "duration": 62,
        "start_time": "2023-04-29T18:39:39.195Z"
      },
      {
        "duration": 5,
        "start_time": "2023-04-29T18:39:39.267Z"
      },
      {
        "duration": 12,
        "start_time": "2023-04-29T18:39:39.275Z"
      },
      {
        "duration": 12,
        "start_time": "2023-04-29T18:39:39.289Z"
      },
      {
        "duration": 12,
        "start_time": "2023-04-29T18:39:39.304Z"
      },
      {
        "duration": 30,
        "start_time": "2023-04-29T18:39:39.319Z"
      },
      {
        "duration": 22,
        "start_time": "2023-04-29T18:39:39.355Z"
      },
      {
        "duration": 28,
        "start_time": "2023-04-29T18:39:39.379Z"
      },
      {
        "duration": 17,
        "start_time": "2023-04-29T18:39:39.444Z"
      },
      {
        "duration": 8,
        "start_time": "2023-04-29T18:39:39.463Z"
      },
      {
        "duration": 16,
        "start_time": "2023-04-29T18:39:39.474Z"
      },
      {
        "duration": 70,
        "start_time": "2023-04-29T18:39:39.493Z"
      },
      {
        "duration": 6,
        "start_time": "2023-04-29T18:39:39.566Z"
      },
      {
        "duration": 182,
        "start_time": "2023-04-29T18:39:39.574Z"
      },
      {
        "duration": 5,
        "start_time": "2023-04-29T18:39:39.761Z"
      },
      {
        "duration": 238,
        "start_time": "2023-04-29T18:39:39.769Z"
      },
      {
        "duration": 254,
        "start_time": "2023-04-29T18:39:40.009Z"
      },
      {
        "duration": 5,
        "start_time": "2023-04-29T18:39:40.265Z"
      },
      {
        "duration": 132,
        "start_time": "2023-04-29T18:39:40.272Z"
      },
      {
        "duration": 257,
        "start_time": "2023-04-29T18:39:40.406Z"
      },
      {
        "duration": 415,
        "start_time": "2023-04-29T18:39:40.665Z"
      },
      {
        "duration": 197,
        "start_time": "2023-04-29T18:39:41.082Z"
      },
      {
        "duration": 199,
        "start_time": "2023-04-29T18:40:09.769Z"
      },
      {
        "duration": 7,
        "start_time": "2023-04-29T18:40:43.861Z"
      },
      {
        "duration": 219,
        "start_time": "2023-04-29T18:41:29.414Z"
      },
      {
        "duration": 805,
        "start_time": "2023-04-30T10:12:28.963Z"
      },
      {
        "duration": 626,
        "start_time": "2023-04-30T10:12:29.770Z"
      },
      {
        "duration": 23,
        "start_time": "2023-04-30T10:12:30.397Z"
      },
      {
        "duration": 22,
        "start_time": "2023-04-30T10:12:30.423Z"
      },
      {
        "duration": 58,
        "start_time": "2023-04-30T10:12:30.447Z"
      },
      {
        "duration": 9,
        "start_time": "2023-04-30T10:12:30.507Z"
      },
      {
        "duration": 23,
        "start_time": "2023-04-30T10:12:30.518Z"
      },
      {
        "duration": 34,
        "start_time": "2023-04-30T10:12:30.543Z"
      },
      {
        "duration": 21,
        "start_time": "2023-04-30T10:12:30.578Z"
      },
      {
        "duration": 24,
        "start_time": "2023-04-30T10:12:30.602Z"
      },
      {
        "duration": 25,
        "start_time": "2023-04-30T10:12:30.628Z"
      },
      {
        "duration": 37,
        "start_time": "2023-04-30T10:12:30.655Z"
      },
      {
        "duration": 7,
        "start_time": "2023-04-30T10:12:30.694Z"
      },
      {
        "duration": 28,
        "start_time": "2023-04-30T10:12:30.702Z"
      },
      {
        "duration": 36,
        "start_time": "2023-04-30T10:12:30.731Z"
      },
      {
        "duration": 47,
        "start_time": "2023-04-30T10:12:30.768Z"
      },
      {
        "duration": 7,
        "start_time": "2023-04-30T10:12:30.816Z"
      },
      {
        "duration": 171,
        "start_time": "2023-04-30T10:12:30.825Z"
      },
      {
        "duration": 5,
        "start_time": "2023-04-30T10:12:30.997Z"
      },
      {
        "duration": 226,
        "start_time": "2023-04-30T10:12:31.004Z"
      },
      {
        "duration": 196,
        "start_time": "2023-04-30T10:12:31.232Z"
      },
      {
        "duration": 4,
        "start_time": "2023-04-30T10:12:31.430Z"
      },
      {
        "duration": 152,
        "start_time": "2023-04-30T10:12:31.436Z"
      },
      {
        "duration": 186,
        "start_time": "2023-04-30T10:12:31.590Z"
      },
      {
        "duration": 358,
        "start_time": "2023-04-30T10:12:31.778Z"
      },
      {
        "duration": 5,
        "start_time": "2023-04-30T10:12:32.138Z"
      },
      {
        "duration": 161,
        "start_time": "2023-04-30T10:12:32.145Z"
      },
      {
        "duration": 348,
        "start_time": "2023-04-30T10:16:01.378Z"
      },
      {
        "duration": 182,
        "start_time": "2023-04-30T10:17:19.575Z"
      },
      {
        "duration": 571,
        "start_time": "2023-04-30T10:24:27.161Z"
      },
      {
        "duration": 1195,
        "start_time": "2023-04-30T10:24:33.313Z"
      },
      {
        "duration": 145,
        "start_time": "2023-04-30T10:24:34.510Z"
      },
      {
        "duration": 22,
        "start_time": "2023-04-30T10:24:34.657Z"
      },
      {
        "duration": 18,
        "start_time": "2023-04-30T10:24:34.681Z"
      },
      {
        "duration": 30,
        "start_time": "2023-04-30T10:24:34.704Z"
      },
      {
        "duration": 5,
        "start_time": "2023-04-30T10:24:34.736Z"
      },
      {
        "duration": 38,
        "start_time": "2023-04-30T10:24:34.743Z"
      },
      {
        "duration": 11,
        "start_time": "2023-04-30T10:24:34.783Z"
      },
      {
        "duration": 18,
        "start_time": "2023-04-30T10:24:34.796Z"
      },
      {
        "duration": 7,
        "start_time": "2023-04-30T10:24:34.816Z"
      },
      {
        "duration": 12,
        "start_time": "2023-04-30T10:24:34.825Z"
      },
      {
        "duration": 27,
        "start_time": "2023-04-30T10:24:34.839Z"
      },
      {
        "duration": 5,
        "start_time": "2023-04-30T10:24:34.867Z"
      },
      {
        "duration": 6,
        "start_time": "2023-04-30T10:24:34.891Z"
      },
      {
        "duration": 17,
        "start_time": "2023-04-30T10:24:34.899Z"
      },
      {
        "duration": 25,
        "start_time": "2023-04-30T10:24:34.918Z"
      },
      {
        "duration": 4,
        "start_time": "2023-04-30T10:24:34.945Z"
      },
      {
        "duration": 150,
        "start_time": "2023-04-30T10:24:34.950Z"
      },
      {
        "duration": 4,
        "start_time": "2023-04-30T10:24:35.102Z"
      },
      {
        "duration": 185,
        "start_time": "2023-04-30T10:24:35.108Z"
      },
      {
        "duration": 188,
        "start_time": "2023-04-30T10:24:35.295Z"
      },
      {
        "duration": 9,
        "start_time": "2023-04-30T10:24:35.484Z"
      },
      {
        "duration": 57,
        "start_time": "2023-04-30T10:24:35.494Z"
      },
      {
        "duration": 186,
        "start_time": "2023-04-30T10:24:35.552Z"
      },
      {
        "duration": 362,
        "start_time": "2023-04-30T10:24:35.740Z"
      },
      {
        "duration": 5,
        "start_time": "2023-04-30T10:24:36.104Z"
      },
      {
        "duration": 223,
        "start_time": "2023-04-30T10:24:36.110Z"
      },
      {
        "duration": 1187,
        "start_time": "2023-04-30T10:27:06.459Z"
      },
      {
        "duration": 139,
        "start_time": "2023-04-30T10:27:07.648Z"
      },
      {
        "duration": 22,
        "start_time": "2023-04-30T10:27:07.789Z"
      },
      {
        "duration": 19,
        "start_time": "2023-04-30T10:27:07.814Z"
      },
      {
        "duration": 31,
        "start_time": "2023-04-30T10:27:07.835Z"
      },
      {
        "duration": 5,
        "start_time": "2023-04-30T10:27:07.892Z"
      },
      {
        "duration": 16,
        "start_time": "2023-04-30T10:27:07.899Z"
      },
      {
        "duration": 20,
        "start_time": "2023-04-30T10:27:07.917Z"
      },
      {
        "duration": 30,
        "start_time": "2023-04-30T10:27:07.938Z"
      },
      {
        "duration": 13,
        "start_time": "2023-04-30T10:27:07.971Z"
      },
      {
        "duration": 20,
        "start_time": "2023-04-30T10:27:07.985Z"
      },
      {
        "duration": 21,
        "start_time": "2023-04-30T10:27:08.006Z"
      },
      {
        "duration": 7,
        "start_time": "2023-04-30T10:27:08.029Z"
      },
      {
        "duration": 15,
        "start_time": "2023-04-30T10:27:08.038Z"
      },
      {
        "duration": 16,
        "start_time": "2023-04-30T10:27:08.055Z"
      },
      {
        "duration": 49,
        "start_time": "2023-04-30T10:27:08.073Z"
      },
      {
        "duration": 4,
        "start_time": "2023-04-30T10:27:08.124Z"
      },
      {
        "duration": 143,
        "start_time": "2023-04-30T10:27:08.129Z"
      },
      {
        "duration": 4,
        "start_time": "2023-04-30T10:27:08.274Z"
      },
      {
        "duration": 213,
        "start_time": "2023-04-30T10:27:08.279Z"
      },
      {
        "duration": 186,
        "start_time": "2023-04-30T10:27:08.493Z"
      },
      {
        "duration": 3,
        "start_time": "2023-04-30T10:27:08.681Z"
      },
      {
        "duration": 43,
        "start_time": "2023-04-30T10:27:08.692Z"
      },
      {
        "duration": 186,
        "start_time": "2023-04-30T10:27:08.736Z"
      },
      {
        "duration": 376,
        "start_time": "2023-04-30T10:27:08.924Z"
      },
      {
        "duration": 4,
        "start_time": "2023-04-30T10:27:09.302Z"
      },
      {
        "duration": 225,
        "start_time": "2023-04-30T10:27:09.308Z"
      },
      {
        "duration": 1078,
        "start_time": "2023-04-30T10:28:18.414Z"
      },
      {
        "duration": 131,
        "start_time": "2023-04-30T10:28:19.494Z"
      },
      {
        "duration": 20,
        "start_time": "2023-04-30T10:28:19.627Z"
      },
      {
        "duration": 13,
        "start_time": "2023-04-30T10:28:19.649Z"
      },
      {
        "duration": 31,
        "start_time": "2023-04-30T10:28:19.664Z"
      },
      {
        "duration": 4,
        "start_time": "2023-04-30T10:28:19.696Z"
      },
      {
        "duration": 7,
        "start_time": "2023-04-30T10:28:19.702Z"
      },
      {
        "duration": 10,
        "start_time": "2023-04-30T10:28:19.711Z"
      },
      {
        "duration": 10,
        "start_time": "2023-04-30T10:28:19.723Z"
      },
      {
        "duration": 6,
        "start_time": "2023-04-30T10:28:19.734Z"
      },
      {
        "duration": 29,
        "start_time": "2023-04-30T10:28:19.741Z"
      },
      {
        "duration": 37,
        "start_time": "2023-04-30T10:28:19.772Z"
      },
      {
        "duration": 4,
        "start_time": "2023-04-30T10:28:19.811Z"
      },
      {
        "duration": 13,
        "start_time": "2023-04-30T10:28:19.819Z"
      },
      {
        "duration": 13,
        "start_time": "2023-04-30T10:28:19.834Z"
      },
      {
        "duration": 51,
        "start_time": "2023-04-30T10:28:19.849Z"
      },
      {
        "duration": 5,
        "start_time": "2023-04-30T10:28:19.902Z"
      },
      {
        "duration": 140,
        "start_time": "2023-04-30T10:28:19.908Z"
      },
      {
        "duration": 5,
        "start_time": "2023-04-30T10:28:20.050Z"
      },
      {
        "duration": 187,
        "start_time": "2023-04-30T10:28:20.057Z"
      },
      {
        "duration": 196,
        "start_time": "2023-04-30T10:28:20.246Z"
      },
      {
        "duration": 4,
        "start_time": "2023-04-30T10:28:20.444Z"
      },
      {
        "duration": 52,
        "start_time": "2023-04-30T10:28:20.449Z"
      },
      {
        "duration": 115,
        "start_time": "2023-04-30T10:28:20.503Z"
      },
      {
        "duration": 0,
        "start_time": "2023-04-30T10:28:20.620Z"
      },
      {
        "duration": 0,
        "start_time": "2023-04-30T10:28:20.621Z"
      },
      {
        "duration": 0,
        "start_time": "2023-04-30T10:28:20.622Z"
      },
      {
        "duration": 346,
        "start_time": "2023-04-30T10:32:45.155Z"
      },
      {
        "duration": 1217,
        "start_time": "2023-04-30T10:32:52.414Z"
      },
      {
        "duration": 146,
        "start_time": "2023-04-30T10:32:53.633Z"
      },
      {
        "duration": 25,
        "start_time": "2023-04-30T10:32:53.780Z"
      },
      {
        "duration": 14,
        "start_time": "2023-04-30T10:32:53.808Z"
      },
      {
        "duration": 31,
        "start_time": "2023-04-30T10:32:53.824Z"
      },
      {
        "duration": 4,
        "start_time": "2023-04-30T10:32:53.857Z"
      },
      {
        "duration": 7,
        "start_time": "2023-04-30T10:32:53.893Z"
      },
      {
        "duration": 11,
        "start_time": "2023-04-30T10:32:53.902Z"
      },
      {
        "duration": 12,
        "start_time": "2023-04-30T10:32:53.915Z"
      },
      {
        "duration": 6,
        "start_time": "2023-04-30T10:32:53.931Z"
      },
      {
        "duration": 10,
        "start_time": "2023-04-30T10:32:53.939Z"
      },
      {
        "duration": 60,
        "start_time": "2023-04-30T10:32:53.951Z"
      },
      {
        "duration": 5,
        "start_time": "2023-04-30T10:32:54.013Z"
      },
      {
        "duration": 10,
        "start_time": "2023-04-30T10:32:54.021Z"
      },
      {
        "duration": 14,
        "start_time": "2023-04-30T10:32:54.033Z"
      },
      {
        "duration": 60,
        "start_time": "2023-04-30T10:32:54.049Z"
      },
      {
        "duration": 4,
        "start_time": "2023-04-30T10:32:54.111Z"
      },
      {
        "duration": 156,
        "start_time": "2023-04-30T10:32:54.116Z"
      },
      {
        "duration": 6,
        "start_time": "2023-04-30T10:32:54.274Z"
      },
      {
        "duration": 237,
        "start_time": "2023-04-30T10:32:54.291Z"
      },
      {
        "duration": 211,
        "start_time": "2023-04-30T10:32:54.529Z"
      },
      {
        "duration": 3,
        "start_time": "2023-04-30T10:32:54.742Z"
      },
      {
        "duration": 70,
        "start_time": "2023-04-30T10:32:54.747Z"
      },
      {
        "duration": 193,
        "start_time": "2023-04-30T10:32:54.819Z"
      },
      {
        "duration": 391,
        "start_time": "2023-04-30T10:32:55.013Z"
      },
      {
        "duration": 5,
        "start_time": "2023-04-30T10:32:55.407Z"
      },
      {
        "duration": 241,
        "start_time": "2023-04-30T10:32:55.414Z"
      },
      {
        "duration": 1232,
        "start_time": "2023-04-30T10:34:53.864Z"
      },
      {
        "duration": 137,
        "start_time": "2023-04-30T10:34:55.097Z"
      },
      {
        "duration": 21,
        "start_time": "2023-04-30T10:34:55.236Z"
      },
      {
        "duration": 13,
        "start_time": "2023-04-30T10:34:55.259Z"
      },
      {
        "duration": 26,
        "start_time": "2023-04-30T10:34:55.274Z"
      },
      {
        "duration": 4,
        "start_time": "2023-04-30T10:34:55.301Z"
      },
      {
        "duration": 13,
        "start_time": "2023-04-30T10:34:55.307Z"
      },
      {
        "duration": 10,
        "start_time": "2023-04-30T10:34:55.322Z"
      },
      {
        "duration": 12,
        "start_time": "2023-04-30T10:34:55.333Z"
      },
      {
        "duration": 6,
        "start_time": "2023-04-30T10:34:55.347Z"
      },
      {
        "duration": 10,
        "start_time": "2023-04-30T10:34:55.355Z"
      },
      {
        "duration": 22,
        "start_time": "2023-04-30T10:34:55.391Z"
      },
      {
        "duration": 5,
        "start_time": "2023-04-30T10:34:55.415Z"
      },
      {
        "duration": 8,
        "start_time": "2023-04-30T10:34:55.422Z"
      },
      {
        "duration": 14,
        "start_time": "2023-04-30T10:34:55.432Z"
      },
      {
        "duration": 52,
        "start_time": "2023-04-30T10:34:55.447Z"
      },
      {
        "duration": 4,
        "start_time": "2023-04-30T10:34:55.501Z"
      },
      {
        "duration": 144,
        "start_time": "2023-04-30T10:34:55.506Z"
      },
      {
        "duration": 5,
        "start_time": "2023-04-30T10:34:55.651Z"
      },
      {
        "duration": 187,
        "start_time": "2023-04-30T10:34:55.658Z"
      },
      {
        "duration": 192,
        "start_time": "2023-04-30T10:34:55.847Z"
      },
      {
        "duration": 4,
        "start_time": "2023-04-30T10:34:56.040Z"
      },
      {
        "duration": 54,
        "start_time": "2023-04-30T10:34:56.045Z"
      },
      {
        "duration": 190,
        "start_time": "2023-04-30T10:34:56.101Z"
      },
      {
        "duration": 121,
        "start_time": "2023-04-30T10:34:56.293Z"
      },
      {
        "duration": 0,
        "start_time": "2023-04-30T10:34:56.417Z"
      },
      {
        "duration": 0,
        "start_time": "2023-04-30T10:34:56.419Z"
      },
      {
        "duration": 17,
        "start_time": "2023-04-30T10:35:22.217Z"
      },
      {
        "duration": 172,
        "start_time": "2023-04-30T10:35:28.152Z"
      },
      {
        "duration": 178,
        "start_time": "2023-04-30T10:35:33.915Z"
      },
      {
        "duration": 79,
        "start_time": "2023-04-30T10:35:53.582Z"
      },
      {
        "duration": 1191,
        "start_time": "2023-04-30T10:36:06.578Z"
      },
      {
        "duration": 146,
        "start_time": "2023-04-30T10:36:07.771Z"
      },
      {
        "duration": 25,
        "start_time": "2023-04-30T10:36:07.919Z"
      },
      {
        "duration": 15,
        "start_time": "2023-04-30T10:36:07.947Z"
      },
      {
        "duration": 54,
        "start_time": "2023-04-30T10:36:07.964Z"
      },
      {
        "duration": 4,
        "start_time": "2023-04-30T10:36:08.020Z"
      },
      {
        "duration": 11,
        "start_time": "2023-04-30T10:36:08.026Z"
      },
      {
        "duration": 11,
        "start_time": "2023-04-30T10:36:08.039Z"
      },
      {
        "duration": 41,
        "start_time": "2023-04-30T10:36:08.052Z"
      },
      {
        "duration": 7,
        "start_time": "2023-04-30T10:36:08.096Z"
      },
      {
        "duration": 10,
        "start_time": "2023-04-30T10:36:08.104Z"
      },
      {
        "duration": 23,
        "start_time": "2023-04-30T10:36:08.116Z"
      },
      {
        "duration": 5,
        "start_time": "2023-04-30T10:36:08.141Z"
      },
      {
        "duration": 11,
        "start_time": "2023-04-30T10:36:08.147Z"
      },
      {
        "duration": 48,
        "start_time": "2023-04-30T10:36:08.161Z"
      },
      {
        "duration": 30,
        "start_time": "2023-04-30T10:36:08.211Z"
      },
      {
        "duration": 5,
        "start_time": "2023-04-30T10:36:08.243Z"
      },
      {
        "duration": 167,
        "start_time": "2023-04-30T10:36:08.249Z"
      },
      {
        "duration": 5,
        "start_time": "2023-04-30T10:36:08.418Z"
      },
      {
        "duration": 209,
        "start_time": "2023-04-30T10:36:08.431Z"
      },
      {
        "duration": 199,
        "start_time": "2023-04-30T10:36:08.641Z"
      },
      {
        "duration": 3,
        "start_time": "2023-04-30T10:36:08.842Z"
      },
      {
        "duration": 55,
        "start_time": "2023-04-30T10:36:08.847Z"
      },
      {
        "duration": 189,
        "start_time": "2023-04-30T10:36:08.903Z"
      },
      {
        "duration": 124,
        "start_time": "2023-04-30T10:36:09.093Z"
      },
      {
        "duration": 0,
        "start_time": "2023-04-30T10:36:09.219Z"
      },
      {
        "duration": 0,
        "start_time": "2023-04-30T10:36:09.220Z"
      },
      {
        "duration": 5,
        "start_time": "2023-04-30T10:44:09.435Z"
      },
      {
        "duration": 40,
        "start_time": "2023-04-30T10:44:18.729Z"
      },
      {
        "duration": 645,
        "start_time": "2023-04-30T10:45:30.389Z"
      },
      {
        "duration": 1145,
        "start_time": "2023-04-30T10:49:21.835Z"
      },
      {
        "duration": 135,
        "start_time": "2023-04-30T10:49:22.982Z"
      },
      {
        "duration": 30,
        "start_time": "2023-04-30T10:49:23.119Z"
      },
      {
        "duration": 14,
        "start_time": "2023-04-30T10:49:23.152Z"
      },
      {
        "duration": 47,
        "start_time": "2023-04-30T10:49:23.167Z"
      },
      {
        "duration": 4,
        "start_time": "2023-04-30T10:49:23.216Z"
      },
      {
        "duration": 9,
        "start_time": "2023-04-30T10:49:23.221Z"
      },
      {
        "duration": 13,
        "start_time": "2023-04-30T10:49:23.232Z"
      },
      {
        "duration": 10,
        "start_time": "2023-04-30T10:49:23.247Z"
      },
      {
        "duration": 37,
        "start_time": "2023-04-30T10:49:23.259Z"
      },
      {
        "duration": 9,
        "start_time": "2023-04-30T10:49:23.298Z"
      },
      {
        "duration": 23,
        "start_time": "2023-04-30T10:49:23.309Z"
      },
      {
        "duration": 5,
        "start_time": "2023-04-30T10:49:23.334Z"
      },
      {
        "duration": 6,
        "start_time": "2023-04-30T10:49:23.341Z"
      },
      {
        "duration": 46,
        "start_time": "2023-04-30T10:49:23.349Z"
      },
      {
        "duration": 28,
        "start_time": "2023-04-30T10:49:23.397Z"
      },
      {
        "duration": 4,
        "start_time": "2023-04-30T10:49:23.426Z"
      },
      {
        "duration": 163,
        "start_time": "2023-04-30T10:49:23.432Z"
      },
      {
        "duration": 4,
        "start_time": "2023-04-30T10:49:23.597Z"
      },
      {
        "duration": 214,
        "start_time": "2023-04-30T10:49:23.603Z"
      },
      {
        "duration": 202,
        "start_time": "2023-04-30T10:49:23.819Z"
      },
      {
        "duration": 4,
        "start_time": "2023-04-30T10:49:24.022Z"
      },
      {
        "duration": 49,
        "start_time": "2023-04-30T10:49:24.027Z"
      },
      {
        "duration": 212,
        "start_time": "2023-04-30T10:49:24.091Z"
      },
      {
        "duration": 649,
        "start_time": "2023-04-30T10:49:24.305Z"
      },
      {
        "duration": 5,
        "start_time": "2023-04-30T10:49:24.956Z"
      },
      {
        "duration": 156,
        "start_time": "2023-04-30T10:49:24.963Z"
      },
      {
        "duration": 113,
        "start_time": "2023-04-30T10:50:03.613Z"
      },
      {
        "duration": 22,
        "start_time": "2023-04-30T10:50:36.259Z"
      },
      {
        "duration": 1303,
        "start_time": "2023-04-30T11:12:00.415Z"
      },
      {
        "duration": 33,
        "start_time": "2023-04-30T11:15:06.311Z"
      },
      {
        "duration": 283,
        "start_time": "2023-04-30T11:15:28.514Z"
      },
      {
        "duration": 176,
        "start_time": "2023-04-30T11:16:41.580Z"
      },
      {
        "duration": 243,
        "start_time": "2023-04-30T11:18:18.686Z"
      },
      {
        "duration": 222,
        "start_time": "2023-04-30T11:18:35.036Z"
      },
      {
        "duration": 292,
        "start_time": "2023-04-30T11:21:22.419Z"
      },
      {
        "duration": 270,
        "start_time": "2023-04-30T11:21:37.047Z"
      },
      {
        "duration": 372,
        "start_time": "2023-04-30T11:22:07.610Z"
      },
      {
        "duration": 1219,
        "start_time": "2023-04-30T11:23:00.171Z"
      },
      {
        "duration": 292,
        "start_time": "2023-04-30T11:23:20.088Z"
      },
      {
        "duration": 1326,
        "start_time": "2023-04-30T13:18:14.439Z"
      },
      {
        "duration": 641,
        "start_time": "2023-04-30T13:18:15.767Z"
      },
      {
        "duration": 22,
        "start_time": "2023-04-30T13:18:16.410Z"
      },
      {
        "duration": 15,
        "start_time": "2023-04-30T13:18:16.435Z"
      },
      {
        "duration": 34,
        "start_time": "2023-04-30T13:18:16.451Z"
      },
      {
        "duration": 5,
        "start_time": "2023-04-30T13:18:16.487Z"
      },
      {
        "duration": 17,
        "start_time": "2023-04-30T13:18:16.493Z"
      },
      {
        "duration": 39,
        "start_time": "2023-04-30T13:18:16.512Z"
      },
      {
        "duration": 10,
        "start_time": "2023-04-30T13:18:16.553Z"
      },
      {
        "duration": 6,
        "start_time": "2023-04-30T13:18:16.566Z"
      },
      {
        "duration": 9,
        "start_time": "2023-04-30T13:18:16.574Z"
      },
      {
        "duration": 21,
        "start_time": "2023-04-30T13:18:16.585Z"
      },
      {
        "duration": 4,
        "start_time": "2023-04-30T13:18:16.608Z"
      },
      {
        "duration": 6,
        "start_time": "2023-04-30T13:18:16.613Z"
      },
      {
        "duration": 46,
        "start_time": "2023-04-30T13:18:16.621Z"
      },
      {
        "duration": 56,
        "start_time": "2023-04-30T13:18:16.669Z"
      },
      {
        "duration": 4,
        "start_time": "2023-04-30T13:18:16.727Z"
      },
      {
        "duration": 144,
        "start_time": "2023-04-30T13:18:16.732Z"
      },
      {
        "duration": 5,
        "start_time": "2023-04-30T13:18:16.878Z"
      },
      {
        "duration": 224,
        "start_time": "2023-04-30T13:18:16.885Z"
      },
      {
        "duration": 186,
        "start_time": "2023-04-30T13:18:17.110Z"
      },
      {
        "duration": 4,
        "start_time": "2023-04-30T13:18:17.297Z"
      },
      {
        "duration": 61,
        "start_time": "2023-04-30T13:18:17.302Z"
      },
      {
        "duration": 184,
        "start_time": "2023-04-30T13:18:17.365Z"
      },
      {
        "duration": 587,
        "start_time": "2023-04-30T13:18:17.551Z"
      },
      {
        "duration": 6,
        "start_time": "2023-04-30T13:18:18.140Z"
      },
      {
        "duration": 126,
        "start_time": "2023-04-30T13:18:18.156Z"
      },
      {
        "duration": 252,
        "start_time": "2023-04-30T13:18:18.286Z"
      },
      {
        "duration": 213,
        "start_time": "2023-04-30T13:18:40.813Z"
      },
      {
        "duration": 1801,
        "start_time": "2023-05-01T07:17:52.361Z"
      },
      {
        "duration": 332,
        "start_time": "2023-05-01T07:17:54.165Z"
      },
      {
        "duration": 39,
        "start_time": "2023-05-01T07:17:54.500Z"
      },
      {
        "duration": 22,
        "start_time": "2023-05-01T07:17:54.543Z"
      },
      {
        "duration": 52,
        "start_time": "2023-05-01T07:17:54.568Z"
      },
      {
        "duration": 9,
        "start_time": "2023-05-01T07:17:54.642Z"
      },
      {
        "duration": 24,
        "start_time": "2023-05-01T07:17:54.654Z"
      },
      {
        "duration": 15,
        "start_time": "2023-05-01T07:17:54.681Z"
      },
      {
        "duration": 19,
        "start_time": "2023-05-01T07:17:54.699Z"
      },
      {
        "duration": 10,
        "start_time": "2023-05-01T07:17:54.743Z"
      },
      {
        "duration": 20,
        "start_time": "2023-05-01T07:17:54.755Z"
      },
      {
        "duration": 34,
        "start_time": "2023-05-01T07:17:54.777Z"
      },
      {
        "duration": 30,
        "start_time": "2023-05-01T07:17:54.814Z"
      },
      {
        "duration": 11,
        "start_time": "2023-05-01T07:17:54.847Z"
      },
      {
        "duration": 40,
        "start_time": "2023-05-01T07:17:54.861Z"
      },
      {
        "duration": 40,
        "start_time": "2023-05-01T07:17:54.903Z"
      },
      {
        "duration": 8,
        "start_time": "2023-05-01T07:17:54.946Z"
      },
      {
        "duration": 270,
        "start_time": "2023-05-01T07:17:54.957Z"
      },
      {
        "duration": 12,
        "start_time": "2023-05-01T07:17:55.230Z"
      },
      {
        "duration": 251,
        "start_time": "2023-05-01T07:17:55.245Z"
      },
      {
        "duration": 246,
        "start_time": "2023-05-01T07:17:55.498Z"
      },
      {
        "duration": 5,
        "start_time": "2023-05-01T07:17:55.746Z"
      },
      {
        "duration": 57,
        "start_time": "2023-05-01T07:17:55.753Z"
      },
      {
        "duration": 340,
        "start_time": "2023-05-01T07:17:55.812Z"
      },
      {
        "duration": 965,
        "start_time": "2023-05-01T07:17:56.154Z"
      },
      {
        "duration": 18,
        "start_time": "2023-05-01T07:17:57.123Z"
      },
      {
        "duration": 188,
        "start_time": "2023-05-01T07:17:57.144Z"
      },
      {
        "duration": 424,
        "start_time": "2023-05-01T07:17:57.340Z"
      },
      {
        "duration": 8,
        "start_time": "2023-05-01T07:31:30.569Z"
      },
      {
        "duration": 51,
        "start_time": "2023-05-01T07:32:16.177Z"
      },
      {
        "duration": 41,
        "start_time": "2023-05-01T07:32:33.398Z"
      },
      {
        "duration": 52,
        "start_time": "2023-05-01T07:32:46.852Z"
      },
      {
        "duration": 13,
        "start_time": "2023-05-01T07:32:56.498Z"
      },
      {
        "duration": 11,
        "start_time": "2023-05-01T07:33:09.495Z"
      },
      {
        "duration": 34,
        "start_time": "2023-05-01T07:34:49.090Z"
      },
      {
        "duration": 47,
        "start_time": "2023-05-01T07:34:56.130Z"
      },
      {
        "duration": 75,
        "start_time": "2023-05-01T07:35:12.032Z"
      },
      {
        "duration": 142,
        "start_time": "2023-05-01T08:51:43.087Z"
      },
      {
        "duration": 18,
        "start_time": "2023-05-01T08:51:48.742Z"
      },
      {
        "duration": 16,
        "start_time": "2023-05-01T08:52:02.302Z"
      },
      {
        "duration": 15,
        "start_time": "2023-05-01T08:52:49.723Z"
      },
      {
        "duration": 12,
        "start_time": "2023-05-01T08:53:30.184Z"
      },
      {
        "duration": 25,
        "start_time": "2023-05-01T08:53:36.530Z"
      },
      {
        "duration": 24,
        "start_time": "2023-05-01T08:57:11.294Z"
      },
      {
        "duration": 171,
        "start_time": "2023-05-01T08:57:25.197Z"
      },
      {
        "duration": 199,
        "start_time": "2023-05-01T08:57:38.488Z"
      },
      {
        "duration": 221,
        "start_time": "2023-05-01T09:00:38.394Z"
      },
      {
        "duration": 409,
        "start_time": "2023-05-01T09:00:48.267Z"
      },
      {
        "duration": 1522,
        "start_time": "2023-05-01T09:00:56.990Z"
      },
      {
        "duration": 209,
        "start_time": "2023-05-01T09:00:58.515Z"
      },
      {
        "duration": 40,
        "start_time": "2023-05-01T09:00:58.727Z"
      },
      {
        "duration": 51,
        "start_time": "2023-05-01T09:00:58.769Z"
      },
      {
        "duration": 45,
        "start_time": "2023-05-01T09:00:58.822Z"
      },
      {
        "duration": 7,
        "start_time": "2023-05-01T09:00:58.870Z"
      },
      {
        "duration": 45,
        "start_time": "2023-05-01T09:00:58.880Z"
      },
      {
        "duration": 70,
        "start_time": "2023-05-01T09:00:58.927Z"
      },
      {
        "duration": 16,
        "start_time": "2023-05-01T09:00:58.999Z"
      },
      {
        "duration": 13,
        "start_time": "2023-05-01T09:00:59.017Z"
      },
      {
        "duration": 38,
        "start_time": "2023-05-01T09:00:59.032Z"
      },
      {
        "duration": 47,
        "start_time": "2023-05-01T09:00:59.083Z"
      },
      {
        "duration": 5,
        "start_time": "2023-05-01T09:00:59.132Z"
      },
      {
        "duration": 74,
        "start_time": "2023-05-01T09:00:59.141Z"
      },
      {
        "duration": 21,
        "start_time": "2023-05-01T09:00:59.217Z"
      },
      {
        "duration": 104,
        "start_time": "2023-05-01T09:00:59.242Z"
      },
      {
        "duration": 7,
        "start_time": "2023-05-01T09:00:59.348Z"
      },
      {
        "duration": 216,
        "start_time": "2023-05-01T09:00:59.357Z"
      },
      {
        "duration": 7,
        "start_time": "2023-05-01T09:00:59.575Z"
      },
      {
        "duration": 285,
        "start_time": "2023-05-01T09:00:59.585Z"
      },
      {
        "duration": 258,
        "start_time": "2023-05-01T09:00:59.872Z"
      },
      {
        "duration": 13,
        "start_time": "2023-05-01T09:01:00.132Z"
      },
      {
        "duration": 121,
        "start_time": "2023-05-01T09:01:00.147Z"
      },
      {
        "duration": 248,
        "start_time": "2023-05-01T09:01:00.270Z"
      },
      {
        "duration": 892,
        "start_time": "2023-05-01T09:01:00.521Z"
      },
      {
        "duration": 6,
        "start_time": "2023-05-01T09:01:01.415Z"
      },
      {
        "duration": 308,
        "start_time": "2023-05-01T09:01:01.422Z"
      },
      {
        "duration": 349,
        "start_time": "2023-05-01T09:01:01.732Z"
      },
      {
        "duration": 7,
        "start_time": "2023-05-01T09:01:02.084Z"
      },
      {
        "duration": 79,
        "start_time": "2023-05-01T09:01:02.093Z"
      },
      {
        "duration": 405,
        "start_time": "2023-05-01T09:01:02.180Z"
      },
      {
        "duration": 558,
        "start_time": "2023-05-01T09:01:08.066Z"
      },
      {
        "duration": 331,
        "start_time": "2023-05-01T09:02:07.862Z"
      },
      {
        "duration": 204,
        "start_time": "2023-05-01T09:02:29.409Z"
      },
      {
        "duration": 182,
        "start_time": "2023-05-01T09:03:41.161Z"
      },
      {
        "duration": 159,
        "start_time": "2023-05-01T09:05:36.858Z"
      },
      {
        "duration": 1399,
        "start_time": "2023-05-01T09:06:06.772Z"
      },
      {
        "duration": 179,
        "start_time": "2023-05-01T09:06:08.178Z"
      },
      {
        "duration": 31,
        "start_time": "2023-05-01T09:06:08.364Z"
      },
      {
        "duration": 26,
        "start_time": "2023-05-01T09:06:08.397Z"
      },
      {
        "duration": 76,
        "start_time": "2023-05-01T09:06:08.426Z"
      },
      {
        "duration": 5,
        "start_time": "2023-05-01T09:06:08.504Z"
      },
      {
        "duration": 64,
        "start_time": "2023-05-01T09:06:08.511Z"
      },
      {
        "duration": 17,
        "start_time": "2023-05-01T09:06:08.576Z"
      },
      {
        "duration": 114,
        "start_time": "2023-05-01T09:06:08.595Z"
      },
      {
        "duration": 84,
        "start_time": "2023-05-01T09:06:08.711Z"
      },
      {
        "duration": 29,
        "start_time": "2023-05-01T09:06:08.797Z"
      },
      {
        "duration": 37,
        "start_time": "2023-05-01T09:06:08.828Z"
      },
      {
        "duration": 29,
        "start_time": "2023-05-01T09:06:08.868Z"
      },
      {
        "duration": 15,
        "start_time": "2023-05-01T09:06:08.901Z"
      },
      {
        "duration": 27,
        "start_time": "2023-05-01T09:06:08.918Z"
      },
      {
        "duration": 110,
        "start_time": "2023-05-01T09:06:08.957Z"
      },
      {
        "duration": 10,
        "start_time": "2023-05-01T09:06:09.076Z"
      },
      {
        "duration": 196,
        "start_time": "2023-05-01T09:06:09.089Z"
      },
      {
        "duration": 8,
        "start_time": "2023-05-01T09:06:09.287Z"
      },
      {
        "duration": 272,
        "start_time": "2023-05-01T09:06:09.297Z"
      },
      {
        "duration": 234,
        "start_time": "2023-05-01T09:06:09.579Z"
      },
      {
        "duration": 5,
        "start_time": "2023-05-01T09:06:09.815Z"
      },
      {
        "duration": 76,
        "start_time": "2023-05-01T09:06:09.821Z"
      },
      {
        "duration": 278,
        "start_time": "2023-05-01T09:06:09.899Z"
      },
      {
        "duration": 758,
        "start_time": "2023-05-01T09:06:10.179Z"
      },
      {
        "duration": 24,
        "start_time": "2023-05-01T09:06:10.939Z"
      },
      {
        "duration": 182,
        "start_time": "2023-05-01T09:06:10.965Z"
      },
      {
        "duration": 317,
        "start_time": "2023-05-01T09:06:11.148Z"
      },
      {
        "duration": 8,
        "start_time": "2023-05-01T09:06:11.467Z"
      },
      {
        "duration": 47,
        "start_time": "2023-05-01T09:06:11.477Z"
      },
      {
        "duration": 160,
        "start_time": "2023-05-01T09:06:11.527Z"
      },
      {
        "duration": 159,
        "start_time": "2023-05-01T09:06:29.000Z"
      },
      {
        "duration": 139,
        "start_time": "2023-05-01T09:06:55.092Z"
      },
      {
        "duration": 474,
        "start_time": "2023-05-01T09:07:37.712Z"
      },
      {
        "duration": 27,
        "start_time": "2023-05-01T09:09:17.297Z"
      },
      {
        "duration": 17,
        "start_time": "2023-05-01T09:09:26.481Z"
      },
      {
        "duration": 18,
        "start_time": "2023-05-01T09:09:42.671Z"
      },
      {
        "duration": 27,
        "start_time": "2023-05-01T09:10:50.834Z"
      },
      {
        "duration": 193,
        "start_time": "2023-05-01T09:10:58.702Z"
      },
      {
        "duration": 182,
        "start_time": "2023-05-01T09:11:19.096Z"
      },
      {
        "duration": 170,
        "start_time": "2023-05-01T09:11:36.437Z"
      },
      {
        "duration": 193,
        "start_time": "2023-05-01T09:11:57.818Z"
      },
      {
        "duration": 182,
        "start_time": "2023-05-01T09:14:57.124Z"
      },
      {
        "duration": 291,
        "start_time": "2023-05-01T09:15:05.431Z"
      },
      {
        "duration": 27,
        "start_time": "2023-05-01T09:20:03.603Z"
      },
      {
        "duration": 186,
        "start_time": "2023-05-01T09:20:21.395Z"
      },
      {
        "duration": 28,
        "start_time": "2023-05-01T09:22:19.418Z"
      },
      {
        "duration": 204,
        "start_time": "2023-05-01T09:22:26.204Z"
      },
      {
        "duration": 192,
        "start_time": "2023-05-01T09:22:58.330Z"
      },
      {
        "duration": 192,
        "start_time": "2023-05-01T09:23:10.106Z"
      },
      {
        "duration": 197,
        "start_time": "2023-05-01T09:23:22.607Z"
      },
      {
        "duration": 218,
        "start_time": "2023-05-01T09:24:01.185Z"
      },
      {
        "duration": 29,
        "start_time": "2023-05-01T09:25:20.903Z"
      },
      {
        "duration": 246,
        "start_time": "2023-05-01T09:26:47.360Z"
      },
      {
        "duration": 217,
        "start_time": "2023-05-01T09:27:31.903Z"
      },
      {
        "duration": 248,
        "start_time": "2023-05-01T09:28:04.336Z"
      },
      {
        "duration": 381,
        "start_time": "2023-05-01T09:28:19.987Z"
      },
      {
        "duration": 211,
        "start_time": "2023-05-01T09:28:48.905Z"
      },
      {
        "duration": 287,
        "start_time": "2023-05-01T09:32:25.838Z"
      },
      {
        "duration": 262,
        "start_time": "2023-05-01T09:32:54.962Z"
      },
      {
        "duration": 256,
        "start_time": "2023-05-01T09:33:07.018Z"
      },
      {
        "duration": 284,
        "start_time": "2023-05-01T09:34:02.518Z"
      },
      {
        "duration": 257,
        "start_time": "2023-05-01T09:35:01.707Z"
      },
      {
        "duration": 237,
        "start_time": "2023-05-01T09:35:10.292Z"
      },
      {
        "duration": 238,
        "start_time": "2023-05-01T09:35:56.273Z"
      },
      {
        "duration": 1401,
        "start_time": "2023-05-01T09:36:12.832Z"
      },
      {
        "duration": 160,
        "start_time": "2023-05-01T09:36:14.236Z"
      },
      {
        "duration": 30,
        "start_time": "2023-05-01T09:36:14.399Z"
      },
      {
        "duration": 27,
        "start_time": "2023-05-01T09:36:14.432Z"
      },
      {
        "duration": 38,
        "start_time": "2023-05-01T09:36:14.463Z"
      },
      {
        "duration": 13,
        "start_time": "2023-05-01T09:36:14.504Z"
      },
      {
        "duration": 54,
        "start_time": "2023-05-01T09:36:14.520Z"
      },
      {
        "duration": 68,
        "start_time": "2023-05-01T09:36:14.578Z"
      },
      {
        "duration": 36,
        "start_time": "2023-05-01T09:36:14.650Z"
      },
      {
        "duration": 16,
        "start_time": "2023-05-01T09:36:14.689Z"
      },
      {
        "duration": 43,
        "start_time": "2023-05-01T09:36:14.709Z"
      },
      {
        "duration": 47,
        "start_time": "2023-05-01T09:36:14.756Z"
      },
      {
        "duration": 9,
        "start_time": "2023-05-01T09:36:14.806Z"
      },
      {
        "duration": 10,
        "start_time": "2023-05-01T09:36:14.841Z"
      },
      {
        "duration": 24,
        "start_time": "2023-05-01T09:36:14.854Z"
      },
      {
        "duration": 35,
        "start_time": "2023-05-01T09:36:14.881Z"
      },
      {
        "duration": 7,
        "start_time": "2023-05-01T09:36:14.941Z"
      },
      {
        "duration": 240,
        "start_time": "2023-05-01T09:36:14.951Z"
      },
      {
        "duration": 6,
        "start_time": "2023-05-01T09:36:15.193Z"
      },
      {
        "duration": 245,
        "start_time": "2023-05-01T09:36:15.201Z"
      },
      {
        "duration": 233,
        "start_time": "2023-05-01T09:36:15.449Z"
      },
      {
        "duration": 5,
        "start_time": "2023-05-01T09:36:15.685Z"
      },
      {
        "duration": 76,
        "start_time": "2023-05-01T09:36:15.692Z"
      },
      {
        "duration": 326,
        "start_time": "2023-05-01T09:36:15.770Z"
      },
      {
        "duration": 889,
        "start_time": "2023-05-01T09:36:16.100Z"
      },
      {
        "duration": 6,
        "start_time": "2023-05-01T09:36:16.992Z"
      },
      {
        "duration": 154,
        "start_time": "2023-05-01T09:36:17.001Z"
      },
      {
        "duration": 313,
        "start_time": "2023-05-01T09:36:17.158Z"
      },
      {
        "duration": 6,
        "start_time": "2023-05-01T09:36:17.473Z"
      },
      {
        "duration": 63,
        "start_time": "2023-05-01T09:36:17.481Z"
      },
      {
        "duration": 243,
        "start_time": "2023-05-01T09:36:17.547Z"
      },
      {
        "duration": 255,
        "start_time": "2023-05-01T09:36:17.792Z"
      },
      {
        "duration": 239,
        "start_time": "2023-05-01T09:36:29.602Z"
      },
      {
        "duration": 141,
        "start_time": "2023-05-01T09:37:00.947Z"
      },
      {
        "duration": 382,
        "start_time": "2023-05-01T09:37:13.190Z"
      },
      {
        "duration": 27,
        "start_time": "2023-05-01T09:48:37.716Z"
      },
      {
        "duration": 25,
        "start_time": "2023-05-01T09:49:12.421Z"
      },
      {
        "duration": 1424,
        "start_time": "2023-05-01T10:12:55.966Z"
      },
      {
        "duration": 159,
        "start_time": "2023-05-01T10:12:57.392Z"
      },
      {
        "duration": 28,
        "start_time": "2023-05-01T10:12:57.553Z"
      },
      {
        "duration": 28,
        "start_time": "2023-05-01T10:12:57.583Z"
      },
      {
        "duration": 59,
        "start_time": "2023-05-01T10:12:57.615Z"
      },
      {
        "duration": 5,
        "start_time": "2023-05-01T10:12:57.676Z"
      },
      {
        "duration": 12,
        "start_time": "2023-05-01T10:12:57.683Z"
      },
      {
        "duration": 13,
        "start_time": "2023-05-01T10:12:57.698Z"
      },
      {
        "duration": 35,
        "start_time": "2023-05-01T10:12:57.713Z"
      },
      {
        "duration": 19,
        "start_time": "2023-05-01T10:12:57.750Z"
      },
      {
        "duration": 16,
        "start_time": "2023-05-01T10:12:57.771Z"
      },
      {
        "duration": 27,
        "start_time": "2023-05-01T10:12:57.790Z"
      },
      {
        "duration": 26,
        "start_time": "2023-05-01T10:12:57.820Z"
      },
      {
        "duration": 10,
        "start_time": "2023-05-01T10:12:57.849Z"
      },
      {
        "duration": 23,
        "start_time": "2023-05-01T10:12:57.861Z"
      },
      {
        "duration": 60,
        "start_time": "2023-05-01T10:12:57.886Z"
      },
      {
        "duration": 5,
        "start_time": "2023-05-01T10:12:57.947Z"
      },
      {
        "duration": 166,
        "start_time": "2023-05-01T10:12:57.955Z"
      },
      {
        "duration": 5,
        "start_time": "2023-05-01T10:12:58.123Z"
      },
      {
        "duration": 230,
        "start_time": "2023-05-01T10:12:58.130Z"
      },
      {
        "duration": 212,
        "start_time": "2023-05-01T10:12:58.362Z"
      },
      {
        "duration": 4,
        "start_time": "2023-05-01T10:12:58.576Z"
      },
      {
        "duration": 65,
        "start_time": "2023-05-01T10:12:58.582Z"
      },
      {
        "duration": 226,
        "start_time": "2023-05-01T10:12:58.649Z"
      },
      {
        "duration": 706,
        "start_time": "2023-05-01T10:12:58.878Z"
      },
      {
        "duration": 6,
        "start_time": "2023-05-01T10:12:59.586Z"
      },
      {
        "duration": 147,
        "start_time": "2023-05-01T10:12:59.594Z"
      },
      {
        "duration": 304,
        "start_time": "2023-05-01T10:12:59.743Z"
      },
      {
        "duration": 5,
        "start_time": "2023-05-01T10:13:00.049Z"
      },
      {
        "duration": 52,
        "start_time": "2023-05-01T10:13:00.056Z"
      },
      {
        "duration": 238,
        "start_time": "2023-05-01T10:13:00.110Z"
      },
      {
        "duration": 280,
        "start_time": "2023-05-01T10:13:00.351Z"
      },
      {
        "duration": 161,
        "start_time": "2023-05-01T10:13:00.633Z"
      },
      {
        "duration": 26,
        "start_time": "2023-05-01T10:13:20.633Z"
      },
      {
        "duration": 58,
        "start_time": "2023-05-01T10:16:29.465Z"
      },
      {
        "duration": 1373,
        "start_time": "2023-05-01T10:17:03.413Z"
      },
      {
        "duration": 161,
        "start_time": "2023-05-01T10:17:04.788Z"
      },
      {
        "duration": 25,
        "start_time": "2023-05-01T10:17:04.951Z"
      },
      {
        "duration": 68,
        "start_time": "2023-05-01T10:17:04.979Z"
      },
      {
        "duration": 80,
        "start_time": "2023-05-01T10:17:05.049Z"
      },
      {
        "duration": 6,
        "start_time": "2023-05-01T10:17:05.131Z"
      },
      {
        "duration": 37,
        "start_time": "2023-05-01T10:17:05.140Z"
      },
      {
        "duration": 31,
        "start_time": "2023-05-01T10:17:05.180Z"
      },
      {
        "duration": 23,
        "start_time": "2023-05-01T10:17:05.214Z"
      },
      {
        "duration": 78,
        "start_time": "2023-05-01T10:17:05.242Z"
      },
      {
        "duration": 26,
        "start_time": "2023-05-01T10:17:05.323Z"
      },
      {
        "duration": 37,
        "start_time": "2023-05-01T10:17:05.351Z"
      },
      {
        "duration": 6,
        "start_time": "2023-05-01T10:17:05.390Z"
      },
      {
        "duration": 25,
        "start_time": "2023-05-01T10:17:05.398Z"
      },
      {
        "duration": 39,
        "start_time": "2023-05-01T10:17:05.425Z"
      },
      {
        "duration": 89,
        "start_time": "2023-05-01T10:17:05.467Z"
      },
      {
        "duration": 25,
        "start_time": "2023-05-01T10:17:05.558Z"
      },
      {
        "duration": 169,
        "start_time": "2023-05-01T10:17:05.585Z"
      },
      {
        "duration": 6,
        "start_time": "2023-05-01T10:17:05.756Z"
      },
      {
        "duration": 321,
        "start_time": "2023-05-01T10:17:05.764Z"
      },
      {
        "duration": 363,
        "start_time": "2023-05-01T10:17:06.087Z"
      },
      {
        "duration": 5,
        "start_time": "2023-05-01T10:17:06.452Z"
      },
      {
        "duration": 95,
        "start_time": "2023-05-01T10:17:06.458Z"
      },
      {
        "duration": 250,
        "start_time": "2023-05-01T10:17:06.556Z"
      },
      {
        "duration": 693,
        "start_time": "2023-05-01T10:17:06.807Z"
      },
      {
        "duration": 6,
        "start_time": "2023-05-01T10:17:07.503Z"
      },
      {
        "duration": 162,
        "start_time": "2023-05-01T10:17:07.510Z"
      },
      {
        "duration": 313,
        "start_time": "2023-05-01T10:17:07.676Z"
      },
      {
        "duration": 8,
        "start_time": "2023-05-01T10:17:07.991Z"
      },
      {
        "duration": 49,
        "start_time": "2023-05-01T10:17:08.002Z"
      },
      {
        "duration": 168,
        "start_time": "2023-05-01T10:17:08.053Z"
      },
      {
        "duration": 0,
        "start_time": "2023-05-01T10:17:08.223Z"
      },
      {
        "duration": 0,
        "start_time": "2023-05-01T10:17:08.225Z"
      },
      {
        "duration": 0,
        "start_time": "2023-05-01T10:17:08.226Z"
      },
      {
        "duration": 0,
        "start_time": "2023-05-01T10:17:08.227Z"
      },
      {
        "duration": 27,
        "start_time": "2023-05-01T10:17:36.064Z"
      },
      {
        "duration": 51,
        "start_time": "2023-05-01T10:18:40.155Z"
      },
      {
        "duration": 20,
        "start_time": "2023-05-01T10:19:13.904Z"
      },
      {
        "duration": 24,
        "start_time": "2023-05-01T10:21:35.904Z"
      },
      {
        "duration": 14,
        "start_time": "2023-05-01T10:24:08.325Z"
      },
      {
        "duration": 19,
        "start_time": "2023-05-01T10:25:11.501Z"
      },
      {
        "duration": 39,
        "start_time": "2023-05-01T10:26:30.567Z"
      },
      {
        "duration": 28,
        "start_time": "2023-05-01T10:31:07.432Z"
      },
      {
        "duration": 17,
        "start_time": "2023-05-01T10:31:27.544Z"
      },
      {
        "duration": 60,
        "start_time": "2023-05-01T10:32:02.510Z"
      },
      {
        "duration": 29,
        "start_time": "2023-05-01T10:32:54.131Z"
      },
      {
        "duration": 28,
        "start_time": "2023-05-01T10:33:25.627Z"
      },
      {
        "duration": 62,
        "start_time": "2023-05-01T10:33:41.317Z"
      },
      {
        "duration": 217,
        "start_time": "2023-05-01T10:33:53.673Z"
      },
      {
        "duration": 254,
        "start_time": "2023-05-01T10:36:21.403Z"
      },
      {
        "duration": 408,
        "start_time": "2023-05-01T10:36:32.110Z"
      },
      {
        "duration": 240,
        "start_time": "2023-05-01T10:37:23.310Z"
      },
      {
        "duration": 28,
        "start_time": "2023-05-01T10:37:27.029Z"
      },
      {
        "duration": 245,
        "start_time": "2023-05-01T10:42:47.919Z"
      },
      {
        "duration": 233,
        "start_time": "2023-05-01T10:42:59.559Z"
      },
      {
        "duration": 806,
        "start_time": "2023-05-01T10:44:27.844Z"
      },
      {
        "duration": 20,
        "start_time": "2023-05-01T10:44:46.547Z"
      },
      {
        "duration": 13,
        "start_time": "2023-05-01T10:45:20.744Z"
      },
      {
        "duration": 6,
        "start_time": "2023-05-01T10:48:34.435Z"
      },
      {
        "duration": 5,
        "start_time": "2023-05-01T10:48:43.321Z"
      },
      {
        "duration": 4,
        "start_time": "2023-05-01T10:48:54.419Z"
      },
      {
        "duration": 5,
        "start_time": "2023-05-01T10:48:58.856Z"
      },
      {
        "duration": 12,
        "start_time": "2023-05-01T10:49:13.161Z"
      },
      {
        "duration": 14,
        "start_time": "2023-05-01T10:50:01.938Z"
      },
      {
        "duration": 10,
        "start_time": "2023-05-01T10:50:18.543Z"
      },
      {
        "duration": 21,
        "start_time": "2023-05-01T10:51:44.414Z"
      },
      {
        "duration": 23,
        "start_time": "2023-05-01T10:51:56.546Z"
      },
      {
        "duration": 15,
        "start_time": "2023-05-01T10:52:09.637Z"
      },
      {
        "duration": 22,
        "start_time": "2023-05-01T10:53:13.513Z"
      },
      {
        "duration": 421,
        "start_time": "2023-05-01T10:53:20.821Z"
      },
      {
        "duration": 14,
        "start_time": "2023-05-01T10:54:14.363Z"
      },
      {
        "duration": 18,
        "start_time": "2023-05-01T10:54:23.330Z"
      },
      {
        "duration": 23,
        "start_time": "2023-05-01T10:55:08.033Z"
      },
      {
        "duration": 28,
        "start_time": "2023-05-01T10:55:27.363Z"
      },
      {
        "duration": 21,
        "start_time": "2023-05-01T10:56:38.918Z"
      },
      {
        "duration": 23,
        "start_time": "2023-05-01T10:56:56.426Z"
      },
      {
        "duration": 31,
        "start_time": "2023-05-01T10:59:05.044Z"
      },
      {
        "duration": 34,
        "start_time": "2023-05-01T10:59:16.529Z"
      },
      {
        "duration": 20,
        "start_time": "2023-05-01T10:59:53.004Z"
      },
      {
        "duration": 219,
        "start_time": "2023-05-01T11:03:16.934Z"
      },
      {
        "duration": 10,
        "start_time": "2023-05-01T11:04:33.139Z"
      },
      {
        "duration": 52,
        "start_time": "2023-05-01T11:05:49.258Z"
      },
      {
        "duration": 51,
        "start_time": "2023-05-01T11:06:03.023Z"
      },
      {
        "duration": 60,
        "start_time": "2023-05-01T11:06:20.655Z"
      },
      {
        "duration": 43,
        "start_time": "2023-05-01T11:07:55.560Z"
      },
      {
        "duration": 35,
        "start_time": "2023-05-01T11:08:14.610Z"
      },
      {
        "duration": 35,
        "start_time": "2023-05-01T11:08:24.660Z"
      },
      {
        "duration": 248,
        "start_time": "2023-05-01T11:08:46.644Z"
      },
      {
        "duration": 10,
        "start_time": "2023-05-01T11:08:53.141Z"
      },
      {
        "duration": 238,
        "start_time": "2023-05-01T11:12:07.454Z"
      },
      {
        "duration": 228,
        "start_time": "2023-05-01T11:14:24.824Z"
      },
      {
        "duration": 12,
        "start_time": "2023-05-01T11:14:47.145Z"
      },
      {
        "duration": 1431,
        "start_time": "2023-05-01T11:15:00.531Z"
      },
      {
        "duration": 158,
        "start_time": "2023-05-01T11:15:01.965Z"
      },
      {
        "duration": 42,
        "start_time": "2023-05-01T11:15:02.125Z"
      },
      {
        "duration": 17,
        "start_time": "2023-05-01T11:15:02.169Z"
      },
      {
        "duration": 54,
        "start_time": "2023-05-01T11:15:02.189Z"
      },
      {
        "duration": 6,
        "start_time": "2023-05-01T11:15:02.245Z"
      },
      {
        "duration": 29,
        "start_time": "2023-05-01T11:15:02.252Z"
      },
      {
        "duration": 29,
        "start_time": "2023-05-01T11:15:02.283Z"
      },
      {
        "duration": 19,
        "start_time": "2023-05-01T11:15:02.314Z"
      },
      {
        "duration": 47,
        "start_time": "2023-05-01T11:15:02.335Z"
      },
      {
        "duration": 18,
        "start_time": "2023-05-01T11:15:02.384Z"
      },
      {
        "duration": 33,
        "start_time": "2023-05-01T11:15:02.404Z"
      },
      {
        "duration": 6,
        "start_time": "2023-05-01T11:15:02.439Z"
      },
      {
        "duration": 39,
        "start_time": "2023-05-01T11:15:02.450Z"
      },
      {
        "duration": 24,
        "start_time": "2023-05-01T11:15:02.492Z"
      },
      {
        "duration": 36,
        "start_time": "2023-05-01T11:15:02.519Z"
      },
      {
        "duration": 5,
        "start_time": "2023-05-01T11:15:02.557Z"
      },
      {
        "duration": 165,
        "start_time": "2023-05-01T11:15:02.564Z"
      },
      {
        "duration": 10,
        "start_time": "2023-05-01T11:15:02.731Z"
      },
      {
        "duration": 244,
        "start_time": "2023-05-01T11:15:02.744Z"
      },
      {
        "duration": 224,
        "start_time": "2023-05-01T11:15:02.991Z"
      },
      {
        "duration": 4,
        "start_time": "2023-05-01T11:15:03.218Z"
      },
      {
        "duration": 92,
        "start_time": "2023-05-01T11:15:03.225Z"
      },
      {
        "duration": 229,
        "start_time": "2023-05-01T11:15:03.319Z"
      },
      {
        "duration": 680,
        "start_time": "2023-05-01T11:15:03.549Z"
      },
      {
        "duration": 14,
        "start_time": "2023-05-01T11:15:04.231Z"
      },
      {
        "duration": 137,
        "start_time": "2023-05-01T11:15:04.247Z"
      },
      {
        "duration": 301,
        "start_time": "2023-05-01T11:15:04.386Z"
      },
      {
        "duration": 6,
        "start_time": "2023-05-01T11:15:04.689Z"
      },
      {
        "duration": 52,
        "start_time": "2023-05-01T11:15:04.697Z"
      },
      {
        "duration": 418,
        "start_time": "2023-05-01T11:15:04.752Z"
      },
      {
        "duration": 249,
        "start_time": "2023-05-01T11:15:05.173Z"
      },
      {
        "duration": 238,
        "start_time": "2023-05-01T11:15:05.424Z"
      },
      {
        "duration": 14,
        "start_time": "2023-05-01T11:15:05.673Z"
      },
      {
        "duration": 136,
        "start_time": "2023-05-01T11:15:17.416Z"
      },
      {
        "duration": 10,
        "start_time": "2023-05-01T11:16:02.423Z"
      },
      {
        "duration": 65,
        "start_time": "2023-05-01T11:20:23.345Z"
      },
      {
        "duration": 68,
        "start_time": "2023-05-01T11:21:16.416Z"
      },
      {
        "duration": 43,
        "start_time": "2023-05-01T11:21:30.895Z"
      },
      {
        "duration": 447,
        "start_time": "2023-05-01T11:24:01.403Z"
      },
      {
        "duration": 420,
        "start_time": "2023-05-01T11:25:22.903Z"
      },
      {
        "duration": 368,
        "start_time": "2023-05-01T11:26:16.509Z"
      },
      {
        "duration": 236,
        "start_time": "2023-05-01T11:26:29.907Z"
      },
      {
        "duration": 244,
        "start_time": "2023-05-01T11:27:58.700Z"
      },
      {
        "duration": 228,
        "start_time": "2023-05-01T11:28:33.327Z"
      },
      {
        "duration": 429,
        "start_time": "2023-05-01T11:29:10.939Z"
      },
      {
        "duration": 420,
        "start_time": "2023-05-01T11:29:16.395Z"
      },
      {
        "duration": 224,
        "start_time": "2023-05-01T11:29:21.514Z"
      },
      {
        "duration": 261,
        "start_time": "2023-05-01T11:32:30.831Z"
      },
      {
        "duration": 229,
        "start_time": "2023-05-01T11:32:41.003Z"
      },
      {
        "duration": 36,
        "start_time": "2023-05-01T11:33:27.558Z"
      },
      {
        "duration": 8,
        "start_time": "2023-05-01T11:33:58.807Z"
      },
      {
        "duration": 19,
        "start_time": "2023-05-01T11:45:35.613Z"
      },
      {
        "duration": 20,
        "start_time": "2023-05-01T11:48:28.054Z"
      },
      {
        "duration": 27,
        "start_time": "2023-05-01T11:48:43.745Z"
      },
      {
        "duration": 18,
        "start_time": "2023-05-01T11:48:57.091Z"
      },
      {
        "duration": 19,
        "start_time": "2023-05-01T11:49:15.159Z"
      },
      {
        "duration": 36,
        "start_time": "2023-05-01T11:51:56.596Z"
      },
      {
        "duration": 58,
        "start_time": "2023-05-01T11:53:39.841Z"
      },
      {
        "duration": 35,
        "start_time": "2023-05-01T11:53:49.288Z"
      },
      {
        "duration": 19,
        "start_time": "2023-05-01T11:54:12.210Z"
      },
      {
        "duration": 24,
        "start_time": "2023-05-01T11:54:49.322Z"
      },
      {
        "duration": 27,
        "start_time": "2023-05-01T11:55:14.783Z"
      },
      {
        "duration": 30,
        "start_time": "2023-05-01T11:55:24.481Z"
      },
      {
        "duration": 24,
        "start_time": "2023-05-01T11:56:12.656Z"
      },
      {
        "duration": 24,
        "start_time": "2023-05-01T11:56:16.340Z"
      },
      {
        "duration": 26,
        "start_time": "2023-05-01T11:56:21.569Z"
      },
      {
        "duration": 357,
        "start_time": "2023-05-01T11:56:37.938Z"
      },
      {
        "duration": 281,
        "start_time": "2023-05-01T11:58:24.116Z"
      },
      {
        "duration": 241,
        "start_time": "2023-05-01T11:59:11.802Z"
      },
      {
        "duration": 519,
        "start_time": "2023-05-01T11:59:25.474Z"
      },
      {
        "duration": 490,
        "start_time": "2023-05-01T12:00:06.315Z"
      },
      {
        "duration": 1606,
        "start_time": "2023-05-01T13:33:19.087Z"
      },
      {
        "duration": 414,
        "start_time": "2023-05-01T13:33:20.695Z"
      },
      {
        "duration": 22,
        "start_time": "2023-05-01T13:33:21.110Z"
      },
      {
        "duration": 14,
        "start_time": "2023-05-01T13:33:21.133Z"
      },
      {
        "duration": 37,
        "start_time": "2023-05-01T13:33:21.148Z"
      },
      {
        "duration": 5,
        "start_time": "2023-05-01T13:33:21.187Z"
      },
      {
        "duration": 16,
        "start_time": "2023-05-01T13:33:21.193Z"
      },
      {
        "duration": 11,
        "start_time": "2023-05-01T13:33:21.211Z"
      },
      {
        "duration": 10,
        "start_time": "2023-05-01T13:33:21.224Z"
      },
      {
        "duration": 26,
        "start_time": "2023-05-01T13:33:21.238Z"
      },
      {
        "duration": 17,
        "start_time": "2023-05-01T13:33:21.266Z"
      },
      {
        "duration": 33,
        "start_time": "2023-05-01T13:33:21.285Z"
      },
      {
        "duration": 6,
        "start_time": "2023-05-01T13:33:21.320Z"
      },
      {
        "duration": 11,
        "start_time": "2023-05-01T13:33:21.327Z"
      },
      {
        "duration": 50,
        "start_time": "2023-05-01T13:33:21.340Z"
      },
      {
        "duration": 43,
        "start_time": "2023-05-01T13:33:21.392Z"
      },
      {
        "duration": 5,
        "start_time": "2023-05-01T13:33:21.437Z"
      },
      {
        "duration": 181,
        "start_time": "2023-05-01T13:33:21.444Z"
      },
      {
        "duration": 4,
        "start_time": "2023-05-01T13:33:21.626Z"
      },
      {
        "duration": 235,
        "start_time": "2023-05-01T13:33:21.632Z"
      },
      {
        "duration": 210,
        "start_time": "2023-05-01T13:33:21.868Z"
      },
      {
        "duration": 9,
        "start_time": "2023-05-01T13:33:22.079Z"
      },
      {
        "duration": 81,
        "start_time": "2023-05-01T13:33:22.090Z"
      },
      {
        "duration": 263,
        "start_time": "2023-05-01T13:33:22.173Z"
      },
      {
        "duration": 746,
        "start_time": "2023-05-01T13:33:22.438Z"
      },
      {
        "duration": 7,
        "start_time": "2023-05-01T13:33:23.186Z"
      },
      {
        "duration": 157,
        "start_time": "2023-05-01T13:33:23.195Z"
      },
      {
        "duration": 318,
        "start_time": "2023-05-01T13:33:23.360Z"
      },
      {
        "duration": 6,
        "start_time": "2023-05-01T13:33:23.679Z"
      },
      {
        "duration": 43,
        "start_time": "2023-05-01T13:33:23.693Z"
      },
      {
        "duration": 511,
        "start_time": "2023-05-01T13:33:23.737Z"
      },
      {
        "duration": 266,
        "start_time": "2023-05-01T13:33:24.250Z"
      },
      {
        "duration": 258,
        "start_time": "2023-05-01T13:33:24.518Z"
      },
      {
        "duration": 500,
        "start_time": "2023-05-01T13:33:24.777Z"
      },
      {
        "duration": 7,
        "start_time": "2023-05-01T13:34:17.733Z"
      },
      {
        "duration": 141,
        "start_time": "2023-05-01T15:00:50.479Z"
      },
      {
        "duration": 31,
        "start_time": "2023-05-01T15:01:10.284Z"
      },
      {
        "duration": 299,
        "start_time": "2023-05-01T15:04:31.195Z"
      },
      {
        "duration": 396,
        "start_time": "2023-05-01T15:05:38.306Z"
      },
      {
        "duration": 291,
        "start_time": "2023-05-01T15:06:23.100Z"
      },
      {
        "duration": 541,
        "start_time": "2023-05-01T15:18:56.801Z"
      },
      {
        "duration": 276,
        "start_time": "2023-05-01T15:19:29.540Z"
      },
      {
        "duration": 372,
        "start_time": "2023-05-01T15:21:18.122Z"
      },
      {
        "duration": 37,
        "start_time": "2023-05-01T15:22:27.577Z"
      },
      {
        "duration": 43,
        "start_time": "2023-05-01T15:22:45.738Z"
      },
      {
        "duration": 7,
        "start_time": "2023-05-01T15:23:07.501Z"
      },
      {
        "duration": 33,
        "start_time": "2023-05-01T15:23:18.503Z"
      },
      {
        "duration": 8,
        "start_time": "2023-05-01T15:24:03.102Z"
      },
      {
        "duration": 1329,
        "start_time": "2023-05-01T15:24:08.081Z"
      },
      {
        "duration": 133,
        "start_time": "2023-05-01T15:24:09.413Z"
      },
      {
        "duration": 27,
        "start_time": "2023-05-01T15:24:09.548Z"
      },
      {
        "duration": 18,
        "start_time": "2023-05-01T15:24:09.577Z"
      },
      {
        "duration": 54,
        "start_time": "2023-05-01T15:24:09.599Z"
      },
      {
        "duration": 12,
        "start_time": "2023-05-01T15:24:09.659Z"
      },
      {
        "duration": 11,
        "start_time": "2023-05-01T15:24:09.673Z"
      },
      {
        "duration": 16,
        "start_time": "2023-05-01T15:24:09.686Z"
      },
      {
        "duration": 16,
        "start_time": "2023-05-01T15:24:09.705Z"
      },
      {
        "duration": 41,
        "start_time": "2023-05-01T15:24:09.723Z"
      },
      {
        "duration": 14,
        "start_time": "2023-05-01T15:24:09.767Z"
      },
      {
        "duration": 37,
        "start_time": "2023-05-01T15:24:09.784Z"
      },
      {
        "duration": 6,
        "start_time": "2023-05-01T15:24:09.823Z"
      },
      {
        "duration": 7,
        "start_time": "2023-05-01T15:24:09.832Z"
      },
      {
        "duration": 35,
        "start_time": "2023-05-01T15:24:09.869Z"
      },
      {
        "duration": 40,
        "start_time": "2023-05-01T15:24:09.907Z"
      },
      {
        "duration": 5,
        "start_time": "2023-05-01T15:24:09.949Z"
      },
      {
        "duration": 216,
        "start_time": "2023-05-01T15:24:09.956Z"
      },
      {
        "duration": 5,
        "start_time": "2023-05-01T15:24:10.174Z"
      },
      {
        "duration": 279,
        "start_time": "2023-05-01T15:24:10.183Z"
      },
      {
        "duration": 290,
        "start_time": "2023-05-01T15:24:10.472Z"
      },
      {
        "duration": 5,
        "start_time": "2023-05-01T15:24:10.765Z"
      },
      {
        "duration": 66,
        "start_time": "2023-05-01T15:24:10.772Z"
      },
      {
        "duration": 245,
        "start_time": "2023-05-01T15:24:10.840Z"
      },
      {
        "duration": 717,
        "start_time": "2023-05-01T15:24:11.091Z"
      },
      {
        "duration": 6,
        "start_time": "2023-05-01T15:24:11.813Z"
      },
      {
        "duration": 172,
        "start_time": "2023-05-01T15:24:11.821Z"
      },
      {
        "duration": 294,
        "start_time": "2023-05-01T15:24:11.995Z"
      },
      {
        "duration": 5,
        "start_time": "2023-05-01T15:24:12.291Z"
      },
      {
        "duration": 9,
        "start_time": "2023-05-01T15:24:12.297Z"
      },
      {
        "duration": 489,
        "start_time": "2023-05-01T15:24:12.308Z"
      },
      {
        "duration": 218,
        "start_time": "2023-05-01T15:24:12.799Z"
      },
      {
        "duration": 243,
        "start_time": "2023-05-01T15:24:13.019Z"
      },
      {
        "duration": 313,
        "start_time": "2023-05-01T15:24:13.266Z"
      },
      {
        "duration": 138,
        "start_time": "2023-05-01T15:24:13.583Z"
      },
      {
        "duration": 0,
        "start_time": "2023-05-01T15:24:13.723Z"
      },
      {
        "duration": 0,
        "start_time": "2023-05-01T15:24:13.724Z"
      },
      {
        "duration": 7,
        "start_time": "2023-05-01T15:24:24.980Z"
      },
      {
        "duration": 373,
        "start_time": "2023-05-01T15:24:35.976Z"
      },
      {
        "duration": 392,
        "start_time": "2023-05-01T15:24:46.627Z"
      },
      {
        "duration": 1300,
        "start_time": "2023-05-01T15:25:51.081Z"
      },
      {
        "duration": 139,
        "start_time": "2023-05-01T15:25:52.383Z"
      },
      {
        "duration": 22,
        "start_time": "2023-05-01T15:25:52.524Z"
      },
      {
        "duration": 14,
        "start_time": "2023-05-01T15:25:52.548Z"
      },
      {
        "duration": 48,
        "start_time": "2023-05-01T15:25:52.563Z"
      },
      {
        "duration": 6,
        "start_time": "2023-05-01T15:25:52.613Z"
      },
      {
        "duration": 47,
        "start_time": "2023-05-01T15:25:52.620Z"
      },
      {
        "duration": 19,
        "start_time": "2023-05-01T15:25:52.675Z"
      },
      {
        "duration": 15,
        "start_time": "2023-05-01T15:25:52.696Z"
      },
      {
        "duration": 19,
        "start_time": "2023-05-01T15:25:52.714Z"
      },
      {
        "duration": 11,
        "start_time": "2023-05-01T15:25:52.734Z"
      },
      {
        "duration": 41,
        "start_time": "2023-05-01T15:25:52.748Z"
      },
      {
        "duration": 7,
        "start_time": "2023-05-01T15:25:52.791Z"
      },
      {
        "duration": 9,
        "start_time": "2023-05-01T15:25:52.800Z"
      },
      {
        "duration": 20,
        "start_time": "2023-05-01T15:25:52.811Z"
      },
      {
        "duration": 62,
        "start_time": "2023-05-01T15:25:52.833Z"
      },
      {
        "duration": 6,
        "start_time": "2023-05-01T15:25:52.898Z"
      },
      {
        "duration": 210,
        "start_time": "2023-05-01T15:25:52.906Z"
      },
      {
        "duration": 4,
        "start_time": "2023-05-01T15:25:53.119Z"
      },
      {
        "duration": 284,
        "start_time": "2023-05-01T15:25:53.125Z"
      },
      {
        "duration": 230,
        "start_time": "2023-05-01T15:25:53.411Z"
      },
      {
        "duration": 4,
        "start_time": "2023-05-01T15:25:53.643Z"
      },
      {
        "duration": 67,
        "start_time": "2023-05-01T15:25:53.662Z"
      },
      {
        "duration": 277,
        "start_time": "2023-05-01T15:25:53.731Z"
      },
      {
        "duration": 708,
        "start_time": "2023-05-01T15:25:54.012Z"
      },
      {
        "duration": 5,
        "start_time": "2023-05-01T15:25:54.722Z"
      },
      {
        "duration": 167,
        "start_time": "2023-05-01T15:25:54.728Z"
      },
      {
        "duration": 313,
        "start_time": "2023-05-01T15:25:54.899Z"
      },
      {
        "duration": 5,
        "start_time": "2023-05-01T15:25:55.214Z"
      },
      {
        "duration": 14,
        "start_time": "2023-05-01T15:25:55.220Z"
      },
      {
        "duration": 462,
        "start_time": "2023-05-01T15:25:55.235Z"
      },
      {
        "duration": 285,
        "start_time": "2023-05-01T15:25:55.700Z"
      },
      {
        "duration": 250,
        "start_time": "2023-05-01T15:25:55.994Z"
      },
      {
        "duration": 360,
        "start_time": "2023-05-01T15:25:56.247Z"
      },
      {
        "duration": 493,
        "start_time": "2023-05-01T15:25:56.609Z"
      },
      {
        "duration": 1178,
        "start_time": "2023-05-01T15:41:09.695Z"
      },
      {
        "duration": 163,
        "start_time": "2023-05-01T15:41:10.875Z"
      },
      {
        "duration": 24,
        "start_time": "2023-05-01T15:41:11.040Z"
      },
      {
        "duration": 20,
        "start_time": "2023-05-01T15:41:11.067Z"
      },
      {
        "duration": 30,
        "start_time": "2023-05-01T15:41:11.089Z"
      },
      {
        "duration": 5,
        "start_time": "2023-05-01T15:41:11.121Z"
      },
      {
        "duration": 7,
        "start_time": "2023-05-01T15:41:11.128Z"
      },
      {
        "duration": 11,
        "start_time": "2023-05-01T15:41:11.137Z"
      },
      {
        "duration": 44,
        "start_time": "2023-05-01T15:41:11.150Z"
      },
      {
        "duration": 10,
        "start_time": "2023-05-01T15:41:11.196Z"
      },
      {
        "duration": 10,
        "start_time": "2023-05-01T15:41:11.209Z"
      },
      {
        "duration": 20,
        "start_time": "2023-05-01T15:41:11.221Z"
      },
      {
        "duration": 4,
        "start_time": "2023-05-01T15:41:11.243Z"
      },
      {
        "duration": 6,
        "start_time": "2023-05-01T15:41:11.250Z"
      },
      {
        "duration": 46,
        "start_time": "2023-05-01T15:41:11.259Z"
      },
      {
        "duration": 38,
        "start_time": "2023-05-01T15:41:11.307Z"
      },
      {
        "duration": 4,
        "start_time": "2023-05-01T15:41:11.347Z"
      },
      {
        "duration": 179,
        "start_time": "2023-05-01T15:41:11.353Z"
      },
      {
        "duration": 4,
        "start_time": "2023-05-01T15:41:11.534Z"
      },
      {
        "duration": 223,
        "start_time": "2023-05-01T15:41:11.540Z"
      },
      {
        "duration": 190,
        "start_time": "2023-05-01T15:41:11.764Z"
      },
      {
        "duration": 3,
        "start_time": "2023-05-01T15:41:11.956Z"
      },
      {
        "duration": 51,
        "start_time": "2023-05-01T15:41:11.960Z"
      },
      {
        "duration": 172,
        "start_time": "2023-05-01T15:41:12.013Z"
      },
      {
        "duration": 552,
        "start_time": "2023-05-01T15:41:12.194Z"
      },
      {
        "duration": 5,
        "start_time": "2023-05-01T15:41:12.748Z"
      },
      {
        "duration": 143,
        "start_time": "2023-05-01T15:41:12.755Z"
      },
      {
        "duration": 233,
        "start_time": "2023-05-01T15:41:12.900Z"
      },
      {
        "duration": 5,
        "start_time": "2023-05-01T15:41:13.135Z"
      },
      {
        "duration": 8,
        "start_time": "2023-05-01T15:41:13.141Z"
      },
      {
        "duration": 387,
        "start_time": "2023-05-01T15:41:13.150Z"
      },
      {
        "duration": 202,
        "start_time": "2023-05-01T15:41:13.539Z"
      },
      {
        "duration": 191,
        "start_time": "2023-05-01T15:41:13.743Z"
      },
      {
        "duration": 294,
        "start_time": "2023-05-01T15:41:13.936Z"
      },
      {
        "duration": 407,
        "start_time": "2023-05-01T15:41:14.232Z"
      },
      {
        "duration": 6,
        "start_time": "2023-05-01T19:13:42.111Z"
      },
      {
        "duration": 1110,
        "start_time": "2023-05-01T19:13:50.633Z"
      },
      {
        "duration": 135,
        "start_time": "2023-05-01T19:13:51.745Z"
      },
      {
        "duration": 25,
        "start_time": "2023-05-01T19:13:51.882Z"
      },
      {
        "duration": 19,
        "start_time": "2023-05-01T19:13:51.908Z"
      },
      {
        "duration": 27,
        "start_time": "2023-05-01T19:13:51.929Z"
      },
      {
        "duration": 4,
        "start_time": "2023-05-01T19:13:51.957Z"
      },
      {
        "duration": 8,
        "start_time": "2023-05-01T19:13:51.962Z"
      },
      {
        "duration": 42,
        "start_time": "2023-05-01T19:13:51.972Z"
      },
      {
        "duration": 9,
        "start_time": "2023-05-01T19:13:52.018Z"
      },
      {
        "duration": 15,
        "start_time": "2023-05-01T19:13:52.028Z"
      },
      {
        "duration": 6,
        "start_time": "2023-05-01T19:13:52.045Z"
      },
      {
        "duration": 8,
        "start_time": "2023-05-01T19:13:52.053Z"
      },
      {
        "duration": 19,
        "start_time": "2023-05-01T19:13:52.063Z"
      },
      {
        "duration": 12,
        "start_time": "2023-05-01T19:13:52.093Z"
      },
      {
        "duration": 10,
        "start_time": "2023-05-01T19:13:52.107Z"
      },
      {
        "duration": 14,
        "start_time": "2023-05-01T19:13:52.118Z"
      },
      {
        "duration": 24,
        "start_time": "2023-05-01T19:13:52.134Z"
      },
      {
        "duration": 4,
        "start_time": "2023-05-01T19:13:52.160Z"
      },
      {
        "duration": 169,
        "start_time": "2023-05-01T19:13:52.166Z"
      },
      {
        "duration": 4,
        "start_time": "2023-05-01T19:13:52.337Z"
      },
      {
        "duration": 189,
        "start_time": "2023-05-01T19:13:52.342Z"
      },
      {
        "duration": 163,
        "start_time": "2023-05-01T19:13:52.533Z"
      },
      {
        "duration": 4,
        "start_time": "2023-05-01T19:13:52.697Z"
      },
      {
        "duration": 45,
        "start_time": "2023-05-01T19:13:52.702Z"
      },
      {
        "duration": 191,
        "start_time": "2023-05-01T19:13:52.749Z"
      },
      {
        "duration": 579,
        "start_time": "2023-05-01T19:13:52.942Z"
      },
      {
        "duration": 6,
        "start_time": "2023-05-01T19:13:53.525Z"
      },
      {
        "duration": 126,
        "start_time": "2023-05-01T19:13:53.532Z"
      },
      {
        "duration": 230,
        "start_time": "2023-05-01T19:13:53.659Z"
      },
      {
        "duration": 9,
        "start_time": "2023-05-01T19:13:53.895Z"
      },
      {
        "duration": 9,
        "start_time": "2023-05-01T19:13:53.907Z"
      },
      {
        "duration": 397,
        "start_time": "2023-05-01T19:13:53.923Z"
      },
      {
        "duration": 214,
        "start_time": "2023-05-01T19:13:54.322Z"
      },
      {
        "duration": 207,
        "start_time": "2023-05-01T19:13:54.537Z"
      },
      {
        "duration": 294,
        "start_time": "2023-05-01T19:13:54.745Z"
      },
      {
        "duration": 363,
        "start_time": "2023-05-01T19:13:55.041Z"
      },
      {
        "duration": 4,
        "start_time": "2023-05-01T19:32:31.916Z"
      },
      {
        "duration": 1068,
        "start_time": "2023-05-01T19:32:51.911Z"
      },
      {
        "duration": 126,
        "start_time": "2023-05-01T19:32:52.981Z"
      },
      {
        "duration": 22,
        "start_time": "2023-05-01T19:32:53.109Z"
      },
      {
        "duration": 18,
        "start_time": "2023-05-01T19:32:53.134Z"
      },
      {
        "duration": 71,
        "start_time": "2023-05-01T19:32:53.155Z"
      },
      {
        "duration": 5,
        "start_time": "2023-05-01T19:32:53.228Z"
      },
      {
        "duration": 64,
        "start_time": "2023-05-01T19:32:53.235Z"
      },
      {
        "duration": 14,
        "start_time": "2023-05-01T19:32:53.302Z"
      },
      {
        "duration": 7,
        "start_time": "2023-05-01T19:32:53.318Z"
      },
      {
        "duration": 14,
        "start_time": "2023-05-01T19:32:53.327Z"
      },
      {
        "duration": 10,
        "start_time": "2023-05-01T19:32:53.395Z"
      },
      {
        "duration": 14,
        "start_time": "2023-05-01T19:32:53.407Z"
      },
      {
        "duration": 4,
        "start_time": "2023-05-01T19:32:53.423Z"
      },
      {
        "duration": 83,
        "start_time": "2023-05-01T19:32:53.431Z"
      },
      {
        "duration": 6,
        "start_time": "2023-05-01T19:32:53.516Z"
      },
      {
        "duration": 8,
        "start_time": "2023-05-01T19:32:53.525Z"
      },
      {
        "duration": 76,
        "start_time": "2023-05-01T19:32:53.535Z"
      },
      {
        "duration": 89,
        "start_time": "2023-05-01T19:32:53.613Z"
      },
      {
        "duration": 5,
        "start_time": "2023-05-01T19:32:53.704Z"
      },
      {
        "duration": 393,
        "start_time": "2023-05-01T19:32:53.711Z"
      },
      {
        "duration": 5,
        "start_time": "2023-05-01T19:32:54.106Z"
      },
      {
        "duration": 586,
        "start_time": "2023-05-01T19:32:54.113Z"
      },
      {
        "duration": 393,
        "start_time": "2023-05-01T19:32:54.701Z"
      },
      {
        "duration": 4,
        "start_time": "2023-05-01T19:32:55.096Z"
      },
      {
        "duration": 40,
        "start_time": "2023-05-01T19:32:55.101Z"
      },
      {
        "duration": 468,
        "start_time": "2023-05-01T19:32:55.195Z"
      },
      {
        "duration": 539,
        "start_time": "2023-05-01T19:32:55.665Z"
      },
      {
        "duration": 4,
        "start_time": "2023-05-01T19:32:56.206Z"
      },
      {
        "duration": 116,
        "start_time": "2023-05-01T19:32:56.212Z"
      },
      {
        "duration": 246,
        "start_time": "2023-05-01T19:32:56.330Z"
      },
      {
        "duration": 17,
        "start_time": "2023-05-01T19:32:56.578Z"
      },
      {
        "duration": 7,
        "start_time": "2023-05-01T19:32:56.597Z"
      },
      {
        "duration": 467,
        "start_time": "2023-05-01T19:32:56.606Z"
      },
      {
        "duration": 328,
        "start_time": "2023-05-01T19:32:57.075Z"
      },
      {
        "duration": 359,
        "start_time": "2023-05-01T19:32:57.405Z"
      },
      {
        "duration": 332,
        "start_time": "2023-05-01T19:32:57.765Z"
      },
      {
        "duration": 351,
        "start_time": "2023-05-01T19:32:58.099Z"
      },
      {
        "duration": 15,
        "start_time": "2023-05-01T19:48:04.877Z"
      },
      {
        "duration": 8,
        "start_time": "2023-05-01T19:48:49.329Z"
      },
      {
        "duration": 97,
        "start_time": "2023-05-01T19:50:42.311Z"
      },
      {
        "duration": 7,
        "start_time": "2023-05-01T19:51:06.779Z"
      },
      {
        "duration": 6,
        "start_time": "2023-05-01T19:51:14.371Z"
      },
      {
        "duration": 1342,
        "start_time": "2023-05-02T15:49:26.481Z"
      },
      {
        "duration": 1195,
        "start_time": "2023-05-02T15:49:33.063Z"
      },
      {
        "duration": 353,
        "start_time": "2023-05-02T15:49:34.260Z"
      },
      {
        "duration": 22,
        "start_time": "2023-05-02T15:49:34.614Z"
      },
      {
        "duration": 13,
        "start_time": "2023-05-02T15:49:34.637Z"
      },
      {
        "duration": 26,
        "start_time": "2023-05-02T15:49:34.652Z"
      },
      {
        "duration": 4,
        "start_time": "2023-05-02T15:49:34.695Z"
      },
      {
        "duration": 7,
        "start_time": "2023-05-02T15:49:34.700Z"
      },
      {
        "duration": 12,
        "start_time": "2023-05-02T15:49:34.708Z"
      },
      {
        "duration": 5,
        "start_time": "2023-05-02T15:49:34.721Z"
      },
      {
        "duration": 18,
        "start_time": "2023-05-02T15:49:34.729Z"
      },
      {
        "duration": 8,
        "start_time": "2023-05-02T15:49:34.749Z"
      },
      {
        "duration": 40,
        "start_time": "2023-05-02T15:49:34.759Z"
      },
      {
        "duration": 4,
        "start_time": "2023-05-02T15:49:34.801Z"
      },
      {
        "duration": 30,
        "start_time": "2023-05-02T15:49:34.806Z"
      },
      {
        "duration": 4,
        "start_time": "2023-05-02T15:49:34.838Z"
      },
      {
        "duration": 14,
        "start_time": "2023-05-02T15:49:34.844Z"
      },
      {
        "duration": 16,
        "start_time": "2023-05-02T15:49:34.859Z"
      },
      {
        "duration": 39,
        "start_time": "2023-05-02T15:49:34.876Z"
      },
      {
        "duration": 5,
        "start_time": "2023-05-02T15:49:34.917Z"
      },
      {
        "duration": 147,
        "start_time": "2023-05-02T15:49:34.924Z"
      },
      {
        "duration": 8,
        "start_time": "2023-05-02T15:49:35.073Z"
      },
      {
        "duration": 15,
        "start_time": "2023-05-02T15:49:35.083Z"
      },
      {
        "duration": 181,
        "start_time": "2023-05-02T15:49:35.100Z"
      },
      {
        "duration": 175,
        "start_time": "2023-05-02T15:49:35.282Z"
      },
      {
        "duration": 3,
        "start_time": "2023-05-02T15:49:35.459Z"
      },
      {
        "duration": 68,
        "start_time": "2023-05-02T15:49:35.464Z"
      },
      {
        "duration": 180,
        "start_time": "2023-05-02T15:49:35.534Z"
      },
      {
        "duration": 563,
        "start_time": "2023-05-02T15:49:35.716Z"
      },
      {
        "duration": 12,
        "start_time": "2023-05-02T15:49:36.282Z"
      },
      {
        "duration": 111,
        "start_time": "2023-05-02T15:49:36.296Z"
      },
      {
        "duration": 227,
        "start_time": "2023-05-02T15:49:36.409Z"
      },
      {
        "duration": 5,
        "start_time": "2023-05-02T15:49:36.638Z"
      },
      {
        "duration": 15,
        "start_time": "2023-05-02T15:49:36.644Z"
      },
      {
        "duration": 349,
        "start_time": "2023-05-02T15:49:36.661Z"
      },
      {
        "duration": 225,
        "start_time": "2023-05-02T15:49:37.012Z"
      },
      {
        "duration": 203,
        "start_time": "2023-05-02T15:49:37.239Z"
      },
      {
        "duration": 250,
        "start_time": "2023-05-02T15:49:37.444Z"
      },
      {
        "duration": 347,
        "start_time": "2023-05-02T15:49:37.696Z"
      },
      {
        "duration": 28,
        "start_time": "2023-05-02T15:53:13.077Z"
      },
      {
        "duration": 4,
        "start_time": "2023-05-02T15:54:44.317Z"
      },
      {
        "duration": 4,
        "start_time": "2023-05-02T15:55:13.209Z"
      },
      {
        "duration": 95,
        "start_time": "2023-05-02T16:08:48.936Z"
      },
      {
        "duration": 9,
        "start_time": "2023-05-02T16:08:54.920Z"
      },
      {
        "duration": 34,
        "start_time": "2023-05-02T16:17:58.034Z"
      },
      {
        "duration": 1718,
        "start_time": "2023-05-02T18:19:36.933Z"
      },
      {
        "duration": 536,
        "start_time": "2023-05-02T18:19:38.656Z"
      },
      {
        "duration": 36,
        "start_time": "2023-05-02T18:19:39.194Z"
      },
      {
        "duration": 37,
        "start_time": "2023-05-02T18:19:39.233Z"
      },
      {
        "duration": 55,
        "start_time": "2023-05-02T18:19:39.275Z"
      },
      {
        "duration": 11,
        "start_time": "2023-05-02T18:19:39.336Z"
      },
      {
        "duration": 28,
        "start_time": "2023-05-02T18:19:39.349Z"
      },
      {
        "duration": 14,
        "start_time": "2023-05-02T18:19:39.378Z"
      },
      {
        "duration": 5,
        "start_time": "2023-05-02T18:19:39.394Z"
      },
      {
        "duration": 21,
        "start_time": "2023-05-02T18:19:39.401Z"
      },
      {
        "duration": 12,
        "start_time": "2023-05-02T18:19:39.426Z"
      },
      {
        "duration": 21,
        "start_time": "2023-05-02T18:19:39.441Z"
      },
      {
        "duration": 5,
        "start_time": "2023-05-02T18:19:39.465Z"
      },
      {
        "duration": 46,
        "start_time": "2023-05-02T18:19:39.474Z"
      },
      {
        "duration": 6,
        "start_time": "2023-05-02T18:19:39.525Z"
      },
      {
        "duration": 15,
        "start_time": "2023-05-02T18:19:39.533Z"
      },
      {
        "duration": 25,
        "start_time": "2023-05-02T18:19:39.550Z"
      },
      {
        "duration": 24,
        "start_time": "2023-05-02T18:19:39.576Z"
      },
      {
        "duration": 50,
        "start_time": "2023-05-02T18:19:39.601Z"
      },
      {
        "duration": 199,
        "start_time": "2023-05-02T18:19:39.653Z"
      },
      {
        "duration": 12,
        "start_time": "2023-05-02T18:19:39.854Z"
      },
      {
        "duration": 7,
        "start_time": "2023-05-02T18:19:39.869Z"
      },
      {
        "duration": 283,
        "start_time": "2023-05-02T18:19:39.877Z"
      },
      {
        "duration": 237,
        "start_time": "2023-05-02T18:19:40.162Z"
      },
      {
        "duration": 3,
        "start_time": "2023-05-02T18:19:40.401Z"
      },
      {
        "duration": 74,
        "start_time": "2023-05-02T18:19:40.411Z"
      },
      {
        "duration": 295,
        "start_time": "2023-05-02T18:19:40.486Z"
      },
      {
        "duration": 737,
        "start_time": "2023-05-02T18:19:40.784Z"
      },
      {
        "duration": 5,
        "start_time": "2023-05-02T18:19:41.523Z"
      },
      {
        "duration": 168,
        "start_time": "2023-05-02T18:19:41.530Z"
      },
      {
        "duration": 332,
        "start_time": "2023-05-02T18:19:41.700Z"
      },
      {
        "duration": 10,
        "start_time": "2023-05-02T18:19:42.037Z"
      },
      {
        "duration": 9,
        "start_time": "2023-05-02T18:19:42.049Z"
      },
      {
        "duration": 468,
        "start_time": "2023-05-02T18:19:42.060Z"
      },
      {
        "duration": 270,
        "start_time": "2023-05-02T18:19:42.534Z"
      },
      {
        "duration": 277,
        "start_time": "2023-05-02T18:19:42.812Z"
      },
      {
        "duration": 342,
        "start_time": "2023-05-02T18:19:43.091Z"
      },
      {
        "duration": 528,
        "start_time": "2023-05-02T18:19:43.436Z"
      },
      {
        "duration": 5,
        "start_time": "2023-05-02T18:27:02.029Z"
      },
      {
        "duration": 1668,
        "start_time": "2023-05-02T18:44:17.938Z"
      },
      {
        "duration": 9,
        "start_time": "2023-05-02T18:44:34.909Z"
      },
      {
        "duration": 49,
        "start_time": "2023-05-02T18:48:32.435Z"
      },
      {
        "duration": 6,
        "start_time": "2023-05-02T18:49:13.553Z"
      },
      {
        "duration": 1695,
        "start_time": "2023-05-02T18:49:59.347Z"
      },
      {
        "duration": 1619,
        "start_time": "2023-05-02T18:50:09.459Z"
      },
      {
        "duration": 18,
        "start_time": "2023-05-02T19:15:50.164Z"
      },
      {
        "duration": 46,
        "start_time": "2023-05-02T19:15:59.692Z"
      },
      {
        "duration": 34,
        "start_time": "2023-05-02T19:16:32.639Z"
      },
      {
        "duration": 38,
        "start_time": "2023-05-02T19:16:49.827Z"
      },
      {
        "duration": 26,
        "start_time": "2023-05-02T19:17:21.184Z"
      },
      {
        "duration": 61,
        "start_time": "2023-05-02T19:17:32.582Z"
      },
      {
        "duration": 10,
        "start_time": "2023-05-02T19:24:49.487Z"
      },
      {
        "duration": 83,
        "start_time": "2023-05-02T19:26:34.391Z"
      },
      {
        "duration": 17,
        "start_time": "2023-05-02T19:28:28.563Z"
      },
      {
        "duration": 23,
        "start_time": "2023-05-02T19:29:07.633Z"
      },
      {
        "duration": 27,
        "start_time": "2023-05-02T19:29:27.656Z"
      },
      {
        "duration": 14,
        "start_time": "2023-05-02T19:30:27.982Z"
      },
      {
        "duration": 13,
        "start_time": "2023-05-02T19:31:09.809Z"
      },
      {
        "duration": 5,
        "start_time": "2023-05-02T19:31:35.080Z"
      },
      {
        "duration": 11,
        "start_time": "2023-05-02T19:32:02.161Z"
      },
      {
        "duration": 13,
        "start_time": "2023-05-02T19:32:14.482Z"
      },
      {
        "duration": 57,
        "start_time": "2023-05-02T19:33:48.080Z"
      },
      {
        "duration": 34,
        "start_time": "2023-05-02T19:34:12.209Z"
      },
      {
        "duration": 1503,
        "start_time": "2023-05-02T19:34:19.536Z"
      },
      {
        "duration": 181,
        "start_time": "2023-05-02T19:34:21.041Z"
      },
      {
        "duration": 37,
        "start_time": "2023-05-02T19:34:21.230Z"
      },
      {
        "duration": 16,
        "start_time": "2023-05-02T19:34:21.271Z"
      },
      {
        "duration": 72,
        "start_time": "2023-05-02T19:34:21.289Z"
      },
      {
        "duration": 6,
        "start_time": "2023-05-02T19:34:21.369Z"
      },
      {
        "duration": 8,
        "start_time": "2023-05-02T19:34:21.378Z"
      },
      {
        "duration": 11,
        "start_time": "2023-05-02T19:34:21.388Z"
      },
      {
        "duration": 9,
        "start_time": "2023-05-02T19:34:21.400Z"
      },
      {
        "duration": 44,
        "start_time": "2023-05-02T19:34:21.413Z"
      },
      {
        "duration": 10,
        "start_time": "2023-05-02T19:34:21.460Z"
      },
      {
        "duration": 10,
        "start_time": "2023-05-02T19:34:21.476Z"
      },
      {
        "duration": 12,
        "start_time": "2023-05-02T19:34:21.487Z"
      },
      {
        "duration": 63,
        "start_time": "2023-05-02T19:34:21.501Z"
      },
      {
        "duration": 6,
        "start_time": "2023-05-02T19:34:21.567Z"
      },
      {
        "duration": 55,
        "start_time": "2023-05-02T19:34:21.575Z"
      },
      {
        "duration": 51,
        "start_time": "2023-05-02T19:34:21.632Z"
      },
      {
        "duration": 10,
        "start_time": "2023-05-02T19:34:21.685Z"
      },
      {
        "duration": 23,
        "start_time": "2023-05-02T19:34:21.697Z"
      },
      {
        "duration": 12,
        "start_time": "2023-05-02T19:34:21.721Z"
      },
      {
        "duration": 34,
        "start_time": "2023-05-02T19:34:21.735Z"
      },
      {
        "duration": 16,
        "start_time": "2023-05-02T19:34:21.772Z"
      },
      {
        "duration": 49,
        "start_time": "2023-05-02T19:34:21.790Z"
      },
      {
        "duration": 7,
        "start_time": "2023-05-02T19:34:21.841Z"
      },
      {
        "duration": 185,
        "start_time": "2023-05-02T19:34:21.850Z"
      },
      {
        "duration": 11,
        "start_time": "2023-05-02T19:34:22.037Z"
      },
      {
        "duration": 5,
        "start_time": "2023-05-02T19:34:22.050Z"
      },
      {
        "duration": 283,
        "start_time": "2023-05-02T19:34:22.059Z"
      },
      {
        "duration": 238,
        "start_time": "2023-05-02T19:34:22.345Z"
      },
      {
        "duration": 4,
        "start_time": "2023-05-02T19:34:22.585Z"
      },
      {
        "duration": 97,
        "start_time": "2023-05-02T19:34:22.592Z"
      },
      {
        "duration": 318,
        "start_time": "2023-05-02T19:34:22.691Z"
      },
      {
        "duration": 815,
        "start_time": "2023-05-02T19:34:23.011Z"
      },
      {
        "duration": 6,
        "start_time": "2023-05-02T19:34:23.831Z"
      },
      {
        "duration": 185,
        "start_time": "2023-05-02T19:34:23.839Z"
      },
      {
        "duration": 355,
        "start_time": "2023-05-02T19:34:24.026Z"
      },
      {
        "duration": 6,
        "start_time": "2023-05-02T19:34:24.383Z"
      },
      {
        "duration": 50,
        "start_time": "2023-05-02T19:34:24.391Z"
      },
      {
        "duration": 568,
        "start_time": "2023-05-02T19:34:24.451Z"
      },
      {
        "duration": 288,
        "start_time": "2023-05-02T19:34:25.025Z"
      },
      {
        "duration": 297,
        "start_time": "2023-05-02T19:34:25.315Z"
      },
      {
        "duration": 391,
        "start_time": "2023-05-02T19:34:25.615Z"
      },
      {
        "duration": 582,
        "start_time": "2023-05-02T19:34:26.009Z"
      },
      {
        "duration": 94,
        "start_time": "2023-05-02T19:34:57.498Z"
      },
      {
        "duration": 5,
        "start_time": "2023-05-02T19:35:10.462Z"
      },
      {
        "duration": 10,
        "start_time": "2023-05-02T19:35:16.097Z"
      },
      {
        "duration": 27,
        "start_time": "2023-05-02T19:35:19.339Z"
      },
      {
        "duration": 1388,
        "start_time": "2023-05-02T19:35:31.143Z"
      },
      {
        "duration": 193,
        "start_time": "2023-05-02T19:35:32.533Z"
      },
      {
        "duration": 46,
        "start_time": "2023-05-02T19:35:32.739Z"
      },
      {
        "duration": 17,
        "start_time": "2023-05-02T19:35:32.788Z"
      },
      {
        "duration": 68,
        "start_time": "2023-05-02T19:35:32.808Z"
      },
      {
        "duration": 7,
        "start_time": "2023-05-02T19:35:32.878Z"
      },
      {
        "duration": 11,
        "start_time": "2023-05-02T19:35:32.887Z"
      },
      {
        "duration": 25,
        "start_time": "2023-05-02T19:35:32.899Z"
      },
      {
        "duration": 9,
        "start_time": "2023-05-02T19:35:32.926Z"
      },
      {
        "duration": 32,
        "start_time": "2023-05-02T19:35:32.937Z"
      },
      {
        "duration": 6,
        "start_time": "2023-05-02T19:35:32.971Z"
      },
      {
        "duration": 18,
        "start_time": "2023-05-02T19:35:32.978Z"
      },
      {
        "duration": 6,
        "start_time": "2023-05-02T19:35:32.998Z"
      },
      {
        "duration": 33,
        "start_time": "2023-05-02T19:35:33.007Z"
      },
      {
        "duration": 5,
        "start_time": "2023-05-02T19:35:33.044Z"
      },
      {
        "duration": 29,
        "start_time": "2023-05-02T19:35:33.051Z"
      },
      {
        "duration": 77,
        "start_time": "2023-05-02T19:35:33.083Z"
      },
      {
        "duration": 11,
        "start_time": "2023-05-02T19:35:33.168Z"
      },
      {
        "duration": 11,
        "start_time": "2023-05-02T19:35:33.181Z"
      },
      {
        "duration": 11,
        "start_time": "2023-05-02T19:35:33.193Z"
      },
      {
        "duration": 14,
        "start_time": "2023-05-02T19:35:33.206Z"
      },
      {
        "duration": 42,
        "start_time": "2023-05-02T19:35:33.224Z"
      },
      {
        "duration": 34,
        "start_time": "2023-05-02T19:35:33.275Z"
      },
      {
        "duration": 28,
        "start_time": "2023-05-02T19:35:33.311Z"
      },
      {
        "duration": 225,
        "start_time": "2023-05-02T19:35:33.344Z"
      },
      {
        "duration": 8,
        "start_time": "2023-05-02T19:35:33.571Z"
      },
      {
        "duration": 9,
        "start_time": "2023-05-02T19:35:33.580Z"
      },
      {
        "duration": 256,
        "start_time": "2023-05-02T19:35:33.591Z"
      },
      {
        "duration": 248,
        "start_time": "2023-05-02T19:35:33.848Z"
      },
      {
        "duration": 4,
        "start_time": "2023-05-02T19:35:34.098Z"
      },
      {
        "duration": 74,
        "start_time": "2023-05-02T19:35:34.103Z"
      },
      {
        "duration": 229,
        "start_time": "2023-05-02T19:35:34.179Z"
      },
      {
        "duration": 819,
        "start_time": "2023-05-02T19:35:34.410Z"
      },
      {
        "duration": 11,
        "start_time": "2023-05-02T19:35:35.237Z"
      },
      {
        "duration": 204,
        "start_time": "2023-05-02T19:35:35.254Z"
      },
      {
        "duration": 326,
        "start_time": "2023-05-02T19:35:35.461Z"
      },
      {
        "duration": 6,
        "start_time": "2023-05-02T19:35:35.789Z"
      },
      {
        "duration": 24,
        "start_time": "2023-05-02T19:35:35.796Z"
      },
      {
        "duration": 497,
        "start_time": "2023-05-02T19:35:35.828Z"
      },
      {
        "duration": 296,
        "start_time": "2023-05-02T19:35:36.328Z"
      },
      {
        "duration": 259,
        "start_time": "2023-05-02T19:35:36.628Z"
      },
      {
        "duration": 370,
        "start_time": "2023-05-02T19:35:36.889Z"
      },
      {
        "duration": 525,
        "start_time": "2023-05-02T19:35:37.270Z"
      },
      {
        "duration": 15,
        "start_time": "2023-05-02T19:36:02.188Z"
      },
      {
        "duration": 1398,
        "start_time": "2023-05-03T05:05:08.682Z"
      },
      {
        "duration": 317,
        "start_time": "2023-05-03T05:05:10.083Z"
      },
      {
        "duration": 22,
        "start_time": "2023-05-03T05:05:10.401Z"
      },
      {
        "duration": 13,
        "start_time": "2023-05-03T05:05:10.426Z"
      },
      {
        "duration": 40,
        "start_time": "2023-05-03T05:05:10.441Z"
      },
      {
        "duration": 4,
        "start_time": "2023-05-03T05:05:10.482Z"
      },
      {
        "duration": 24,
        "start_time": "2023-05-03T05:05:10.488Z"
      },
      {
        "duration": 10,
        "start_time": "2023-05-03T05:05:10.514Z"
      },
      {
        "duration": 11,
        "start_time": "2023-05-03T05:05:10.526Z"
      },
      {
        "duration": 17,
        "start_time": "2023-05-03T05:05:10.540Z"
      },
      {
        "duration": 7,
        "start_time": "2023-05-03T05:05:10.558Z"
      },
      {
        "duration": 18,
        "start_time": "2023-05-03T05:05:10.566Z"
      },
      {
        "duration": 13,
        "start_time": "2023-05-03T05:05:10.586Z"
      },
      {
        "duration": 37,
        "start_time": "2023-05-03T05:05:10.600Z"
      },
      {
        "duration": 4,
        "start_time": "2023-05-03T05:05:10.638Z"
      },
      {
        "duration": 25,
        "start_time": "2023-05-03T05:05:10.644Z"
      },
      {
        "duration": 38,
        "start_time": "2023-05-03T05:05:10.671Z"
      },
      {
        "duration": 7,
        "start_time": "2023-05-03T05:05:10.711Z"
      },
      {
        "duration": 9,
        "start_time": "2023-05-03T05:05:10.733Z"
      },
      {
        "duration": 11,
        "start_time": "2023-05-03T05:05:10.744Z"
      },
      {
        "duration": 20,
        "start_time": "2023-05-03T05:05:10.756Z"
      },
      {
        "duration": 28,
        "start_time": "2023-05-03T05:05:10.778Z"
      },
      {
        "duration": 36,
        "start_time": "2023-05-03T05:05:10.807Z"
      },
      {
        "duration": 5,
        "start_time": "2023-05-03T05:05:10.844Z"
      },
      {
        "duration": 154,
        "start_time": "2023-05-03T05:05:10.851Z"
      },
      {
        "duration": 7,
        "start_time": "2023-05-03T05:05:11.007Z"
      },
      {
        "duration": 17,
        "start_time": "2023-05-03T05:05:11.016Z"
      },
      {
        "duration": 208,
        "start_time": "2023-05-03T05:05:11.037Z"
      },
      {
        "duration": 195,
        "start_time": "2023-05-03T05:05:11.247Z"
      },
      {
        "duration": 4,
        "start_time": "2023-05-03T05:05:11.443Z"
      },
      {
        "duration": 57,
        "start_time": "2023-05-03T05:05:11.448Z"
      },
      {
        "duration": 198,
        "start_time": "2023-05-03T05:05:11.507Z"
      },
      {
        "duration": 636,
        "start_time": "2023-05-03T05:05:11.707Z"
      },
      {
        "duration": 5,
        "start_time": "2023-05-03T05:05:12.345Z"
      },
      {
        "duration": 135,
        "start_time": "2023-05-03T05:05:12.351Z"
      },
      {
        "duration": 266,
        "start_time": "2023-05-03T05:05:12.488Z"
      },
      {
        "duration": 5,
        "start_time": "2023-05-03T05:05:12.755Z"
      },
      {
        "duration": 9,
        "start_time": "2023-05-03T05:05:12.762Z"
      },
      {
        "duration": 387,
        "start_time": "2023-05-03T05:05:12.773Z"
      },
      {
        "duration": 229,
        "start_time": "2023-05-03T05:05:13.163Z"
      },
      {
        "duration": 205,
        "start_time": "2023-05-03T05:05:13.394Z"
      },
      {
        "duration": 285,
        "start_time": "2023-05-03T05:05:13.601Z"
      },
      {
        "duration": 408,
        "start_time": "2023-05-03T05:05:13.888Z"
      },
      {
        "duration": 23,
        "start_time": "2023-05-03T05:07:54.802Z"
      },
      {
        "duration": 9,
        "start_time": "2023-05-03T05:09:01.240Z"
      },
      {
        "duration": 118,
        "start_time": "2023-05-03T05:09:26.297Z"
      },
      {
        "duration": 9,
        "start_time": "2023-05-03T05:10:08.643Z"
      },
      {
        "duration": 2444,
        "start_time": "2023-05-03T05:14:03.760Z"
      },
      {
        "duration": 1866,
        "start_time": "2023-05-03T05:14:13.039Z"
      },
      {
        "duration": 98,
        "start_time": "2023-05-03T05:15:00.964Z"
      },
      {
        "duration": 67,
        "start_time": "2023-05-03T05:15:18.992Z"
      },
      {
        "duration": 63,
        "start_time": "2023-05-03T05:15:22.722Z"
      },
      {
        "duration": 427,
        "start_time": "2023-05-03T05:16:05.933Z"
      },
      {
        "duration": 40,
        "start_time": "2023-05-03T05:16:10.518Z"
      },
      {
        "duration": 24,
        "start_time": "2023-05-03T05:16:25.310Z"
      },
      {
        "duration": 3,
        "start_time": "2023-05-03T05:17:21.667Z"
      },
      {
        "duration": 91,
        "start_time": "2023-05-03T05:17:31.018Z"
      },
      {
        "duration": 1149,
        "start_time": "2023-05-03T05:17:41.100Z"
      },
      {
        "duration": 140,
        "start_time": "2023-05-03T05:17:42.251Z"
      },
      {
        "duration": 21,
        "start_time": "2023-05-03T05:17:42.393Z"
      },
      {
        "duration": 12,
        "start_time": "2023-05-03T05:17:42.416Z"
      },
      {
        "duration": 31,
        "start_time": "2023-05-03T05:17:42.429Z"
      },
      {
        "duration": 3,
        "start_time": "2023-05-03T05:17:42.462Z"
      },
      {
        "duration": 7,
        "start_time": "2023-05-03T05:17:42.467Z"
      },
      {
        "duration": 13,
        "start_time": "2023-05-03T05:17:42.476Z"
      },
      {
        "duration": 5,
        "start_time": "2023-05-03T05:17:42.490Z"
      },
      {
        "duration": 11,
        "start_time": "2023-05-03T05:17:42.497Z"
      },
      {
        "duration": 15,
        "start_time": "2023-05-03T05:17:42.534Z"
      },
      {
        "duration": 13,
        "start_time": "2023-05-03T05:17:42.550Z"
      },
      {
        "duration": 4,
        "start_time": "2023-05-03T05:17:42.564Z"
      },
      {
        "duration": 29,
        "start_time": "2023-05-03T05:17:42.570Z"
      },
      {
        "duration": 5,
        "start_time": "2023-05-03T05:17:42.601Z"
      },
      {
        "duration": 31,
        "start_time": "2023-05-03T05:17:42.607Z"
      },
      {
        "duration": 26,
        "start_time": "2023-05-03T05:17:42.640Z"
      },
      {
        "duration": 6,
        "start_time": "2023-05-03T05:17:42.668Z"
      },
      {
        "duration": 8,
        "start_time": "2023-05-03T05:17:42.676Z"
      },
      {
        "duration": 8,
        "start_time": "2023-05-03T05:17:42.686Z"
      },
      {
        "duration": 7,
        "start_time": "2023-05-03T05:17:42.696Z"
      },
      {
        "duration": 39,
        "start_time": "2023-05-03T05:17:42.705Z"
      },
      {
        "duration": 62,
        "start_time": "2023-05-03T05:17:42.745Z"
      },
      {
        "duration": 32,
        "start_time": "2023-05-03T05:17:42.808Z"
      },
      {
        "duration": 4,
        "start_time": "2023-05-03T05:17:42.841Z"
      },
      {
        "duration": 141,
        "start_time": "2023-05-03T05:17:42.846Z"
      },
      {
        "duration": 7,
        "start_time": "2023-05-03T05:17:42.989Z"
      },
      {
        "duration": 16,
        "start_time": "2023-05-03T05:17:42.999Z"
      },
      {
        "duration": 209,
        "start_time": "2023-05-03T05:17:43.017Z"
      },
      {
        "duration": 190,
        "start_time": "2023-05-03T05:17:43.228Z"
      },
      {
        "duration": 4,
        "start_time": "2023-05-03T05:17:43.419Z"
      },
      {
        "duration": 48,
        "start_time": "2023-05-03T05:17:43.424Z"
      },
      {
        "duration": 185,
        "start_time": "2023-05-03T05:17:43.474Z"
      },
      {
        "duration": 592,
        "start_time": "2023-05-03T05:17:43.660Z"
      },
      {
        "duration": 5,
        "start_time": "2023-05-03T05:17:44.253Z"
      },
      {
        "duration": 127,
        "start_time": "2023-05-03T05:17:44.260Z"
      },
      {
        "duration": 256,
        "start_time": "2023-05-03T05:17:44.389Z"
      },
      {
        "duration": 4,
        "start_time": "2023-05-03T05:17:44.647Z"
      },
      {
        "duration": 13,
        "start_time": "2023-05-03T05:17:44.653Z"
      },
      {
        "duration": 375,
        "start_time": "2023-05-03T05:17:44.667Z"
      },
      {
        "duration": 203,
        "start_time": "2023-05-03T05:17:45.044Z"
      },
      {
        "duration": 198,
        "start_time": "2023-05-03T05:17:45.248Z"
      },
      {
        "duration": 257,
        "start_time": "2023-05-03T05:17:45.447Z"
      },
      {
        "duration": 372,
        "start_time": "2023-05-03T05:17:45.706Z"
      },
      {
        "duration": 78,
        "start_time": "2023-05-03T05:18:26.966Z"
      },
      {
        "duration": 126,
        "start_time": "2023-05-03T05:24:31.308Z"
      },
      {
        "duration": 3,
        "start_time": "2023-05-03T05:25:26.432Z"
      },
      {
        "duration": 243,
        "start_time": "2023-05-03T05:25:47.812Z"
      },
      {
        "duration": 236,
        "start_time": "2023-05-03T05:28:03.117Z"
      },
      {
        "duration": 41,
        "start_time": "2023-05-03T05:30:24.178Z"
      },
      {
        "duration": 39,
        "start_time": "2023-05-03T05:31:36.252Z"
      },
      {
        "duration": 6,
        "start_time": "2023-05-03T05:32:15.041Z"
      },
      {
        "duration": 8,
        "start_time": "2023-05-03T05:32:27.174Z"
      },
      {
        "duration": 8,
        "start_time": "2023-05-03T05:32:39.205Z"
      },
      {
        "duration": 1392,
        "start_time": "2023-05-04T05:14:19.822Z"
      },
      {
        "duration": 556,
        "start_time": "2023-05-04T05:14:21.222Z"
      },
      {
        "duration": 36,
        "start_time": "2023-05-04T05:14:21.780Z"
      },
      {
        "duration": 23,
        "start_time": "2023-05-04T05:14:21.818Z"
      },
      {
        "duration": 49,
        "start_time": "2023-05-04T05:14:21.843Z"
      },
      {
        "duration": 7,
        "start_time": "2023-05-04T05:14:21.903Z"
      },
      {
        "duration": 29,
        "start_time": "2023-05-04T05:14:21.912Z"
      },
      {
        "duration": 9,
        "start_time": "2023-05-04T05:14:21.942Z"
      },
      {
        "duration": 5,
        "start_time": "2023-05-04T05:14:21.953Z"
      },
      {
        "duration": 11,
        "start_time": "2023-05-04T05:14:21.961Z"
      },
      {
        "duration": 7,
        "start_time": "2023-05-04T05:14:21.973Z"
      },
      {
        "duration": 28,
        "start_time": "2023-05-04T05:14:21.982Z"
      },
      {
        "duration": 9,
        "start_time": "2023-05-04T05:14:22.012Z"
      },
      {
        "duration": 27,
        "start_time": "2023-05-04T05:14:22.027Z"
      },
      {
        "duration": 6,
        "start_time": "2023-05-04T05:14:22.056Z"
      },
      {
        "duration": 16,
        "start_time": "2023-05-04T05:14:22.064Z"
      },
      {
        "duration": 60,
        "start_time": "2023-05-04T05:14:22.095Z"
      },
      {
        "duration": 10,
        "start_time": "2023-05-04T05:14:22.157Z"
      },
      {
        "duration": 12,
        "start_time": "2023-05-04T05:14:22.169Z"
      },
      {
        "duration": 21,
        "start_time": "2023-05-04T05:14:22.184Z"
      },
      {
        "duration": 23,
        "start_time": "2023-05-04T05:14:22.207Z"
      },
      {
        "duration": 23,
        "start_time": "2023-05-04T05:14:22.232Z"
      },
      {
        "duration": 59,
        "start_time": "2023-05-04T05:14:22.257Z"
      },
      {
        "duration": 37,
        "start_time": "2023-05-04T05:14:22.326Z"
      },
      {
        "duration": 10,
        "start_time": "2023-05-04T05:14:22.365Z"
      },
      {
        "duration": 5,
        "start_time": "2023-05-04T05:14:22.377Z"
      },
      {
        "duration": 215,
        "start_time": "2023-05-04T05:14:22.419Z"
      },
      {
        "duration": 12,
        "start_time": "2023-05-04T05:14:22.638Z"
      },
      {
        "duration": 5,
        "start_time": "2023-05-04T05:14:22.654Z"
      },
      {
        "duration": 280,
        "start_time": "2023-05-04T05:14:22.661Z"
      },
      {
        "duration": 209,
        "start_time": "2023-05-04T05:14:22.944Z"
      },
      {
        "duration": 5,
        "start_time": "2023-05-04T05:14:23.155Z"
      },
      {
        "duration": 68,
        "start_time": "2023-05-04T05:14:23.162Z"
      },
      {
        "duration": 238,
        "start_time": "2023-05-04T05:14:23.231Z"
      },
      {
        "duration": 649,
        "start_time": "2023-05-04T05:14:23.471Z"
      },
      {
        "duration": 8,
        "start_time": "2023-05-04T05:14:24.124Z"
      },
      {
        "duration": 145,
        "start_time": "2023-05-04T05:14:24.135Z"
      },
      {
        "duration": 280,
        "start_time": "2023-05-04T05:14:24.282Z"
      },
      {
        "duration": 4,
        "start_time": "2023-05-04T05:14:24.564Z"
      },
      {
        "duration": 38,
        "start_time": "2023-05-04T05:14:24.570Z"
      },
      {
        "duration": 384,
        "start_time": "2023-05-04T05:14:24.615Z"
      },
      {
        "duration": 238,
        "start_time": "2023-05-04T05:14:25.007Z"
      },
      {
        "duration": 209,
        "start_time": "2023-05-04T05:14:25.247Z"
      },
      {
        "duration": 293,
        "start_time": "2023-05-04T05:14:25.458Z"
      },
      {
        "duration": 366,
        "start_time": "2023-05-04T05:14:25.753Z"
      },
      {
        "duration": 55,
        "start_time": "2023-05-04T05:19:19.474Z"
      },
      {
        "duration": 8,
        "start_time": "2023-05-04T05:19:57.715Z"
      },
      {
        "duration": 32,
        "start_time": "2023-05-04T05:22:16.286Z"
      },
      {
        "duration": 9,
        "start_time": "2023-05-04T05:23:51.820Z"
      },
      {
        "duration": 7,
        "start_time": "2023-05-04T05:24:47.982Z"
      },
      {
        "duration": 1180,
        "start_time": "2023-05-04T05:25:01.582Z"
      },
      {
        "duration": 137,
        "start_time": "2023-05-04T05:25:02.764Z"
      },
      {
        "duration": 27,
        "start_time": "2023-05-04T05:25:02.903Z"
      },
      {
        "duration": 13,
        "start_time": "2023-05-04T05:25:02.932Z"
      },
      {
        "duration": 42,
        "start_time": "2023-05-04T05:25:02.946Z"
      },
      {
        "duration": 10,
        "start_time": "2023-05-04T05:25:02.989Z"
      },
      {
        "duration": 39,
        "start_time": "2023-05-04T05:25:03.000Z"
      },
      {
        "duration": 9,
        "start_time": "2023-05-04T05:25:03.040Z"
      },
      {
        "duration": 5,
        "start_time": "2023-05-04T05:25:03.050Z"
      },
      {
        "duration": 9,
        "start_time": "2023-05-04T05:25:03.057Z"
      },
      {
        "duration": 12,
        "start_time": "2023-05-04T05:25:03.067Z"
      },
      {
        "duration": 7,
        "start_time": "2023-05-04T05:25:03.081Z"
      },
      {
        "duration": 25,
        "start_time": "2023-05-04T05:25:03.090Z"
      },
      {
        "duration": 24,
        "start_time": "2023-05-04T05:25:03.116Z"
      },
      {
        "duration": 5,
        "start_time": "2023-05-04T05:25:03.141Z"
      },
      {
        "duration": 45,
        "start_time": "2023-05-04T05:25:03.147Z"
      },
      {
        "duration": 33,
        "start_time": "2023-05-04T05:25:03.195Z"
      },
      {
        "duration": 7,
        "start_time": "2023-05-04T05:25:03.231Z"
      },
      {
        "duration": 8,
        "start_time": "2023-05-04T05:25:03.239Z"
      },
      {
        "duration": 6,
        "start_time": "2023-05-04T05:25:03.248Z"
      },
      {
        "duration": 5,
        "start_time": "2023-05-04T05:25:03.255Z"
      },
      {
        "duration": 50,
        "start_time": "2023-05-04T05:25:03.262Z"
      },
      {
        "duration": 57,
        "start_time": "2023-05-04T05:25:03.314Z"
      },
      {
        "duration": 24,
        "start_time": "2023-05-04T05:25:03.373Z"
      },
      {
        "duration": 11,
        "start_time": "2023-05-04T05:25:03.398Z"
      },
      {
        "duration": 10,
        "start_time": "2023-05-04T05:25:03.414Z"
      },
      {
        "duration": 9,
        "start_time": "2023-05-04T05:25:03.425Z"
      },
      {
        "duration": 4,
        "start_time": "2023-05-04T05:25:03.437Z"
      },
      {
        "duration": 12,
        "start_time": "2023-05-04T05:25:03.442Z"
      },
      {
        "duration": 4,
        "start_time": "2023-05-04T05:25:03.456Z"
      },
      {
        "duration": 6,
        "start_time": "2023-05-04T05:25:03.461Z"
      },
      {
        "duration": 222,
        "start_time": "2023-05-04T05:25:03.468Z"
      },
      {
        "duration": 188,
        "start_time": "2023-05-04T05:25:03.694Z"
      },
      {
        "duration": 4,
        "start_time": "2023-05-04T05:25:03.884Z"
      },
      {
        "duration": 50,
        "start_time": "2023-05-04T05:25:03.894Z"
      },
      {
        "duration": 193,
        "start_time": "2023-05-04T05:25:03.945Z"
      },
      {
        "duration": 554,
        "start_time": "2023-05-04T05:25:04.140Z"
      },
      {
        "duration": 7,
        "start_time": "2023-05-04T05:25:04.695Z"
      },
      {
        "duration": 15,
        "start_time": "2023-05-04T05:25:04.712Z"
      },
      {
        "duration": 236,
        "start_time": "2023-05-04T05:25:04.728Z"
      },
      {
        "duration": 4,
        "start_time": "2023-05-04T05:25:04.966Z"
      },
      {
        "duration": 10,
        "start_time": "2023-05-04T05:25:04.971Z"
      },
      {
        "duration": 465,
        "start_time": "2023-05-04T05:25:04.994Z"
      },
      {
        "duration": 212,
        "start_time": "2023-05-04T05:25:05.461Z"
      },
      {
        "duration": 210,
        "start_time": "2023-05-04T05:25:05.675Z"
      },
      {
        "duration": 269,
        "start_time": "2023-05-04T05:25:05.887Z"
      },
      {
        "duration": 306,
        "start_time": "2023-05-04T05:25:06.158Z"
      },
      {
        "duration": 214,
        "start_time": "2023-05-04T05:37:49.138Z"
      },
      {
        "duration": 1305,
        "start_time": "2023-05-04T07:01:17.775Z"
      },
      {
        "duration": 333,
        "start_time": "2023-05-04T07:01:19.082Z"
      },
      {
        "duration": 30,
        "start_time": "2023-05-04T07:01:19.417Z"
      },
      {
        "duration": 19,
        "start_time": "2023-05-04T07:01:19.449Z"
      },
      {
        "duration": 56,
        "start_time": "2023-05-04T07:01:19.470Z"
      },
      {
        "duration": 4,
        "start_time": "2023-05-04T07:01:19.528Z"
      },
      {
        "duration": 11,
        "start_time": "2023-05-04T07:01:19.534Z"
      },
      {
        "duration": 13,
        "start_time": "2023-05-04T07:01:19.547Z"
      },
      {
        "duration": 22,
        "start_time": "2023-05-04T07:01:19.562Z"
      },
      {
        "duration": 13,
        "start_time": "2023-05-04T07:01:19.588Z"
      },
      {
        "duration": 8,
        "start_time": "2023-05-04T07:01:19.605Z"
      },
      {
        "duration": 10,
        "start_time": "2023-05-04T07:01:19.615Z"
      },
      {
        "duration": 5,
        "start_time": "2023-05-04T07:01:19.627Z"
      },
      {
        "duration": 54,
        "start_time": "2023-05-04T07:01:19.634Z"
      },
      {
        "duration": 5,
        "start_time": "2023-05-04T07:01:19.689Z"
      },
      {
        "duration": 19,
        "start_time": "2023-05-04T07:01:19.695Z"
      },
      {
        "duration": 30,
        "start_time": "2023-05-04T07:01:19.716Z"
      },
      {
        "duration": 37,
        "start_time": "2023-05-04T07:01:19.748Z"
      },
      {
        "duration": 18,
        "start_time": "2023-05-04T07:01:19.787Z"
      },
      {
        "duration": 31,
        "start_time": "2023-05-04T07:01:19.807Z"
      },
      {
        "duration": 19,
        "start_time": "2023-05-04T07:01:19.840Z"
      },
      {
        "duration": 18,
        "start_time": "2023-05-04T07:01:19.861Z"
      },
      {
        "duration": 60,
        "start_time": "2023-05-04T07:01:19.880Z"
      },
      {
        "duration": 24,
        "start_time": "2023-05-04T07:01:19.941Z"
      },
      {
        "duration": 18,
        "start_time": "2023-05-04T07:01:19.966Z"
      },
      {
        "duration": 6,
        "start_time": "2023-05-04T07:01:19.985Z"
      },
      {
        "duration": 10,
        "start_time": "2023-05-04T07:01:19.992Z"
      },
      {
        "duration": 4,
        "start_time": "2023-05-04T07:01:20.006Z"
      },
      {
        "duration": 26,
        "start_time": "2023-05-04T07:01:20.012Z"
      },
      {
        "duration": 26,
        "start_time": "2023-05-04T07:01:20.039Z"
      },
      {
        "duration": 19,
        "start_time": "2023-05-04T07:01:20.067Z"
      },
      {
        "duration": 213,
        "start_time": "2023-05-04T07:01:20.088Z"
      },
      {
        "duration": 183,
        "start_time": "2023-05-04T07:01:20.302Z"
      },
      {
        "duration": 4,
        "start_time": "2023-05-04T07:01:20.487Z"
      },
      {
        "duration": 66,
        "start_time": "2023-05-04T07:01:20.493Z"
      },
      {
        "duration": 176,
        "start_time": "2023-05-04T07:01:20.561Z"
      },
      {
        "duration": 476,
        "start_time": "2023-05-04T07:01:20.738Z"
      },
      {
        "duration": 5,
        "start_time": "2023-05-04T07:01:21.215Z"
      },
      {
        "duration": 19,
        "start_time": "2023-05-04T07:01:21.223Z"
      },
      {
        "duration": 249,
        "start_time": "2023-05-04T07:01:21.244Z"
      },
      {
        "duration": 5,
        "start_time": "2023-05-04T07:01:21.495Z"
      },
      {
        "duration": 19,
        "start_time": "2023-05-04T07:01:21.502Z"
      },
      {
        "duration": 510,
        "start_time": "2023-05-04T07:01:21.523Z"
      },
      {
        "duration": 225,
        "start_time": "2023-05-04T07:01:22.035Z"
      },
      {
        "duration": 221,
        "start_time": "2023-05-04T07:01:22.262Z"
      },
      {
        "duration": 307,
        "start_time": "2023-05-04T07:01:22.485Z"
      },
      {
        "duration": 332,
        "start_time": "2023-05-04T07:01:22.793Z"
      },
      {
        "duration": 22,
        "start_time": "2023-05-04T07:02:08.995Z"
      },
      {
        "duration": 15,
        "start_time": "2023-05-04T07:02:37.477Z"
      },
      {
        "duration": 8,
        "start_time": "2023-05-04T07:05:18.616Z"
      },
      {
        "duration": 1241,
        "start_time": "2023-05-04T07:08:54.218Z"
      },
      {
        "duration": 144,
        "start_time": "2023-05-04T07:08:55.461Z"
      },
      {
        "duration": 25,
        "start_time": "2023-05-04T07:08:55.607Z"
      },
      {
        "duration": 50,
        "start_time": "2023-05-04T07:08:55.634Z"
      },
      {
        "duration": 68,
        "start_time": "2023-05-04T07:08:55.686Z"
      },
      {
        "duration": 9,
        "start_time": "2023-05-04T07:08:55.756Z"
      },
      {
        "duration": 35,
        "start_time": "2023-05-04T07:08:55.767Z"
      },
      {
        "duration": 31,
        "start_time": "2023-05-04T07:08:55.804Z"
      },
      {
        "duration": 24,
        "start_time": "2023-05-04T07:08:55.836Z"
      },
      {
        "duration": 36,
        "start_time": "2023-05-04T07:08:55.864Z"
      },
      {
        "duration": 42,
        "start_time": "2023-05-04T07:08:55.902Z"
      },
      {
        "duration": 34,
        "start_time": "2023-05-04T07:08:55.946Z"
      },
      {
        "duration": 31,
        "start_time": "2023-05-04T07:08:55.983Z"
      },
      {
        "duration": 51,
        "start_time": "2023-05-04T07:08:56.016Z"
      },
      {
        "duration": 6,
        "start_time": "2023-05-04T07:08:56.069Z"
      },
      {
        "duration": 49,
        "start_time": "2023-05-04T07:08:56.079Z"
      },
      {
        "duration": 56,
        "start_time": "2023-05-04T07:08:56.131Z"
      },
      {
        "duration": 48,
        "start_time": "2023-05-04T07:08:56.189Z"
      },
      {
        "duration": 41,
        "start_time": "2023-05-04T07:08:56.239Z"
      },
      {
        "duration": 40,
        "start_time": "2023-05-04T07:08:56.282Z"
      },
      {
        "duration": 42,
        "start_time": "2023-05-04T07:08:56.324Z"
      },
      {
        "duration": 48,
        "start_time": "2023-05-04T07:08:56.369Z"
      },
      {
        "duration": 79,
        "start_time": "2023-05-04T07:08:56.419Z"
      },
      {
        "duration": 25,
        "start_time": "2023-05-04T07:08:56.501Z"
      },
      {
        "duration": 32,
        "start_time": "2023-05-04T07:08:56.528Z"
      },
      {
        "duration": 28,
        "start_time": "2023-05-04T07:08:56.563Z"
      },
      {
        "duration": 213,
        "start_time": "2023-05-04T07:08:56.593Z"
      },
      {
        "duration": 0,
        "start_time": "2023-05-04T07:08:56.809Z"
      },
      {
        "duration": 0,
        "start_time": "2023-05-04T07:08:56.811Z"
      },
      {
        "duration": 0,
        "start_time": "2023-05-04T07:08:56.812Z"
      },
      {
        "duration": 0,
        "start_time": "2023-05-04T07:08:56.813Z"
      },
      {
        "duration": 0,
        "start_time": "2023-05-04T07:08:56.815Z"
      },
      {
        "duration": 0,
        "start_time": "2023-05-04T07:08:56.816Z"
      },
      {
        "duration": 0,
        "start_time": "2023-05-04T07:08:56.818Z"
      },
      {
        "duration": 0,
        "start_time": "2023-05-04T07:08:56.819Z"
      },
      {
        "duration": 0,
        "start_time": "2023-05-04T07:08:56.821Z"
      },
      {
        "duration": 0,
        "start_time": "2023-05-04T07:08:56.822Z"
      },
      {
        "duration": 0,
        "start_time": "2023-05-04T07:08:56.824Z"
      },
      {
        "duration": 0,
        "start_time": "2023-05-04T07:08:56.825Z"
      },
      {
        "duration": 0,
        "start_time": "2023-05-04T07:08:56.827Z"
      },
      {
        "duration": 0,
        "start_time": "2023-05-04T07:08:56.828Z"
      },
      {
        "duration": 0,
        "start_time": "2023-05-04T07:08:56.830Z"
      },
      {
        "duration": 0,
        "start_time": "2023-05-04T07:08:56.834Z"
      },
      {
        "duration": 0,
        "start_time": "2023-05-04T07:08:56.835Z"
      },
      {
        "duration": 0,
        "start_time": "2023-05-04T07:08:56.837Z"
      },
      {
        "duration": 0,
        "start_time": "2023-05-04T07:08:56.838Z"
      },
      {
        "duration": 0,
        "start_time": "2023-05-04T07:08:56.884Z"
      },
      {
        "duration": 14,
        "start_time": "2023-05-04T07:09:46.287Z"
      },
      {
        "duration": 1395,
        "start_time": "2023-05-04T07:09:54.539Z"
      },
      {
        "duration": 154,
        "start_time": "2023-05-04T07:09:55.936Z"
      },
      {
        "duration": 33,
        "start_time": "2023-05-04T07:09:56.092Z"
      },
      {
        "duration": 25,
        "start_time": "2023-05-04T07:09:56.128Z"
      },
      {
        "duration": 62,
        "start_time": "2023-05-04T07:09:56.156Z"
      },
      {
        "duration": 6,
        "start_time": "2023-05-04T07:09:56.220Z"
      },
      {
        "duration": 36,
        "start_time": "2023-05-04T07:09:56.228Z"
      },
      {
        "duration": 27,
        "start_time": "2023-05-04T07:09:56.266Z"
      },
      {
        "duration": 17,
        "start_time": "2023-05-04T07:09:56.296Z"
      },
      {
        "duration": 47,
        "start_time": "2023-05-04T07:09:56.316Z"
      },
      {
        "duration": 21,
        "start_time": "2023-05-04T07:09:56.365Z"
      },
      {
        "duration": 27,
        "start_time": "2023-05-04T07:09:56.388Z"
      },
      {
        "duration": 43,
        "start_time": "2023-05-04T07:09:56.417Z"
      },
      {
        "duration": 43,
        "start_time": "2023-05-04T07:09:56.462Z"
      },
      {
        "duration": 5,
        "start_time": "2023-05-04T07:09:56.507Z"
      },
      {
        "duration": 23,
        "start_time": "2023-05-04T07:09:56.514Z"
      },
      {
        "duration": 54,
        "start_time": "2023-05-04T07:09:56.539Z"
      },
      {
        "duration": 8,
        "start_time": "2023-05-04T07:09:56.595Z"
      },
      {
        "duration": 23,
        "start_time": "2023-05-04T07:09:56.605Z"
      },
      {
        "duration": 24,
        "start_time": "2023-05-04T07:09:56.630Z"
      },
      {
        "duration": 8,
        "start_time": "2023-05-04T07:09:56.656Z"
      },
      {
        "duration": 24,
        "start_time": "2023-05-04T07:09:56.667Z"
      },
      {
        "duration": 74,
        "start_time": "2023-05-04T07:09:56.693Z"
      },
      {
        "duration": 37,
        "start_time": "2023-05-04T07:09:56.769Z"
      },
      {
        "duration": 7,
        "start_time": "2023-05-04T07:09:56.808Z"
      },
      {
        "duration": 26,
        "start_time": "2023-05-04T07:09:56.817Z"
      },
      {
        "duration": 17,
        "start_time": "2023-05-04T07:09:56.845Z"
      },
      {
        "duration": 13,
        "start_time": "2023-05-04T07:09:56.866Z"
      },
      {
        "duration": 160,
        "start_time": "2023-05-04T07:09:56.883Z"
      },
      {
        "duration": 9,
        "start_time": "2023-05-04T07:09:57.045Z"
      },
      {
        "duration": 9,
        "start_time": "2023-05-04T07:09:57.056Z"
      },
      {
        "duration": 226,
        "start_time": "2023-05-04T07:09:57.066Z"
      },
      {
        "duration": 210,
        "start_time": "2023-05-04T07:09:57.295Z"
      },
      {
        "duration": 4,
        "start_time": "2023-05-04T07:09:57.507Z"
      },
      {
        "duration": 81,
        "start_time": "2023-05-04T07:09:57.514Z"
      },
      {
        "duration": 226,
        "start_time": "2023-05-04T07:09:57.597Z"
      },
      {
        "duration": 785,
        "start_time": "2023-05-04T07:09:57.825Z"
      },
      {
        "duration": 9,
        "start_time": "2023-05-04T07:09:58.612Z"
      },
      {
        "duration": 183,
        "start_time": "2023-05-04T07:09:58.623Z"
      },
      {
        "duration": 326,
        "start_time": "2023-05-04T07:09:58.808Z"
      },
      {
        "duration": 6,
        "start_time": "2023-05-04T07:09:59.136Z"
      },
      {
        "duration": 19,
        "start_time": "2023-05-04T07:09:59.144Z"
      },
      {
        "duration": 394,
        "start_time": "2023-05-04T07:09:59.165Z"
      },
      {
        "duration": 276,
        "start_time": "2023-05-04T07:09:59.561Z"
      },
      {
        "duration": 227,
        "start_time": "2023-05-04T07:09:59.840Z"
      },
      {
        "duration": 320,
        "start_time": "2023-05-04T07:10:00.069Z"
      },
      {
        "duration": 389,
        "start_time": "2023-05-04T07:10:00.391Z"
      },
      {
        "duration": 1166,
        "start_time": "2023-05-04T07:11:26.401Z"
      },
      {
        "duration": 131,
        "start_time": "2023-05-04T07:11:27.569Z"
      },
      {
        "duration": 32,
        "start_time": "2023-05-04T07:11:27.702Z"
      },
      {
        "duration": 21,
        "start_time": "2023-05-04T07:11:27.736Z"
      },
      {
        "duration": 69,
        "start_time": "2023-05-04T07:11:27.761Z"
      },
      {
        "duration": 5,
        "start_time": "2023-05-04T07:11:27.832Z"
      },
      {
        "duration": 13,
        "start_time": "2023-05-04T07:11:27.839Z"
      },
      {
        "duration": 37,
        "start_time": "2023-05-04T07:11:27.853Z"
      },
      {
        "duration": 5,
        "start_time": "2023-05-04T07:11:27.892Z"
      },
      {
        "duration": 15,
        "start_time": "2023-05-04T07:11:27.899Z"
      },
      {
        "duration": 7,
        "start_time": "2023-05-04T07:11:27.917Z"
      },
      {
        "duration": 11,
        "start_time": "2023-05-04T07:11:27.926Z"
      },
      {
        "duration": 5,
        "start_time": "2023-05-04T07:11:27.939Z"
      },
      {
        "duration": 57,
        "start_time": "2023-05-04T07:11:27.947Z"
      },
      {
        "duration": 5,
        "start_time": "2023-05-04T07:11:28.006Z"
      },
      {
        "duration": 22,
        "start_time": "2023-05-04T07:11:28.012Z"
      },
      {
        "duration": 58,
        "start_time": "2023-05-04T07:11:28.036Z"
      },
      {
        "duration": 9,
        "start_time": "2023-05-04T07:11:28.096Z"
      },
      {
        "duration": 57,
        "start_time": "2023-05-04T07:11:28.107Z"
      },
      {
        "duration": 36,
        "start_time": "2023-05-04T07:11:28.166Z"
      },
      {
        "duration": 37,
        "start_time": "2023-05-04T07:11:28.204Z"
      },
      {
        "duration": 24,
        "start_time": "2023-05-04T07:11:28.243Z"
      },
      {
        "duration": 117,
        "start_time": "2023-05-04T07:11:28.269Z"
      },
      {
        "duration": 35,
        "start_time": "2023-05-04T07:11:28.388Z"
      },
      {
        "duration": 46,
        "start_time": "2023-05-04T07:11:28.425Z"
      },
      {
        "duration": 24,
        "start_time": "2023-05-04T07:11:28.473Z"
      },
      {
        "duration": 30,
        "start_time": "2023-05-04T07:11:28.499Z"
      },
      {
        "duration": 29,
        "start_time": "2023-05-04T07:11:28.530Z"
      },
      {
        "duration": 227,
        "start_time": "2023-05-04T07:11:28.561Z"
      },
      {
        "duration": 10,
        "start_time": "2023-05-04T07:11:28.791Z"
      },
      {
        "duration": 44,
        "start_time": "2023-05-04T07:11:28.803Z"
      },
      {
        "duration": 276,
        "start_time": "2023-05-04T07:11:28.861Z"
      },
      {
        "duration": 207,
        "start_time": "2023-05-04T07:11:29.139Z"
      },
      {
        "duration": 3,
        "start_time": "2023-05-04T07:11:29.348Z"
      },
      {
        "duration": 55,
        "start_time": "2023-05-04T07:11:29.353Z"
      },
      {
        "duration": 219,
        "start_time": "2023-05-04T07:11:29.410Z"
      },
      {
        "duration": 661,
        "start_time": "2023-05-04T07:11:29.631Z"
      },
      {
        "duration": 9,
        "start_time": "2023-05-04T07:11:30.294Z"
      },
      {
        "duration": 318,
        "start_time": "2023-05-04T07:11:30.305Z"
      },
      {
        "duration": 389,
        "start_time": "2023-05-04T07:11:30.625Z"
      },
      {
        "duration": 9,
        "start_time": "2023-05-04T07:11:31.019Z"
      },
      {
        "duration": 46,
        "start_time": "2023-05-04T07:11:31.030Z"
      },
      {
        "duration": 453,
        "start_time": "2023-05-04T07:11:31.079Z"
      },
      {
        "duration": 223,
        "start_time": "2023-05-04T07:11:31.535Z"
      },
      {
        "duration": 212,
        "start_time": "2023-05-04T07:11:31.760Z"
      },
      {
        "duration": 407,
        "start_time": "2023-05-04T07:11:31.974Z"
      },
      {
        "duration": 471,
        "start_time": "2023-05-04T07:11:32.384Z"
      },
      {
        "duration": 1184,
        "start_time": "2023-05-04T07:11:57.883Z"
      },
      {
        "duration": 134,
        "start_time": "2023-05-04T07:11:59.070Z"
      },
      {
        "duration": 22,
        "start_time": "2023-05-04T07:11:59.206Z"
      },
      {
        "duration": 22,
        "start_time": "2023-05-04T07:11:59.231Z"
      },
      {
        "duration": 54,
        "start_time": "2023-05-04T07:11:59.254Z"
      },
      {
        "duration": 5,
        "start_time": "2023-05-04T07:11:59.310Z"
      },
      {
        "duration": 41,
        "start_time": "2023-05-04T07:11:59.316Z"
      },
      {
        "duration": 32,
        "start_time": "2023-05-04T07:11:59.359Z"
      },
      {
        "duration": 15,
        "start_time": "2023-05-04T07:11:59.393Z"
      },
      {
        "duration": 20,
        "start_time": "2023-05-04T07:11:59.411Z"
      },
      {
        "duration": 15,
        "start_time": "2023-05-04T07:11:59.433Z"
      },
      {
        "duration": 26,
        "start_time": "2023-05-04T07:11:59.450Z"
      },
      {
        "duration": 9,
        "start_time": "2023-05-04T07:11:59.478Z"
      },
      {
        "duration": 31,
        "start_time": "2023-05-04T07:11:59.489Z"
      },
      {
        "duration": 9,
        "start_time": "2023-05-04T07:11:59.522Z"
      },
      {
        "duration": 25,
        "start_time": "2023-05-04T07:11:59.533Z"
      },
      {
        "duration": 35,
        "start_time": "2023-05-04T07:11:59.560Z"
      },
      {
        "duration": 8,
        "start_time": "2023-05-04T07:11:59.597Z"
      },
      {
        "duration": 11,
        "start_time": "2023-05-04T07:11:59.607Z"
      },
      {
        "duration": 9,
        "start_time": "2023-05-04T07:11:59.619Z"
      },
      {
        "duration": 11,
        "start_time": "2023-05-04T07:11:59.630Z"
      },
      {
        "duration": 40,
        "start_time": "2023-05-04T07:11:59.644Z"
      },
      {
        "duration": 67,
        "start_time": "2023-05-04T07:11:59.686Z"
      },
      {
        "duration": 37,
        "start_time": "2023-05-04T07:11:59.755Z"
      },
      {
        "duration": 6,
        "start_time": "2023-05-04T07:11:59.794Z"
      },
      {
        "duration": 20,
        "start_time": "2023-05-04T07:11:59.803Z"
      },
      {
        "duration": 24,
        "start_time": "2023-05-04T07:11:59.826Z"
      },
      {
        "duration": 10,
        "start_time": "2023-05-04T07:11:59.856Z"
      },
      {
        "duration": 217,
        "start_time": "2023-05-04T07:11:59.868Z"
      },
      {
        "duration": 12,
        "start_time": "2023-05-04T07:12:00.087Z"
      },
      {
        "duration": 68,
        "start_time": "2023-05-04T07:12:00.102Z"
      },
      {
        "duration": 289,
        "start_time": "2023-05-04T07:12:00.172Z"
      },
      {
        "duration": 222,
        "start_time": "2023-05-04T07:12:00.464Z"
      },
      {
        "duration": 4,
        "start_time": "2023-05-04T07:12:00.688Z"
      },
      {
        "duration": 88,
        "start_time": "2023-05-04T07:12:00.694Z"
      },
      {
        "duration": 216,
        "start_time": "2023-05-04T07:12:00.784Z"
      },
      {
        "duration": 758,
        "start_time": "2023-05-04T07:12:01.002Z"
      },
      {
        "duration": 8,
        "start_time": "2023-05-04T07:12:01.762Z"
      },
      {
        "duration": 165,
        "start_time": "2023-05-04T07:12:01.785Z"
      },
      {
        "duration": 255,
        "start_time": "2023-05-04T07:12:01.952Z"
      },
      {
        "duration": 5,
        "start_time": "2023-05-04T07:12:02.209Z"
      },
      {
        "duration": 261,
        "start_time": "2023-05-04T07:12:02.215Z"
      },
      {
        "duration": 435,
        "start_time": "2023-05-04T07:12:02.478Z"
      },
      {
        "duration": 242,
        "start_time": "2023-05-04T07:12:02.915Z"
      },
      {
        "duration": 200,
        "start_time": "2023-05-04T07:12:03.159Z"
      },
      {
        "duration": 264,
        "start_time": "2023-05-04T07:12:03.360Z"
      },
      {
        "duration": 381,
        "start_time": "2023-05-04T07:12:03.626Z"
      },
      {
        "duration": 20,
        "start_time": "2023-05-04T07:12:14.000Z"
      },
      {
        "duration": 273,
        "start_time": "2023-05-04T07:14:01.946Z"
      },
      {
        "duration": 458,
        "start_time": "2023-05-04T07:14:10.410Z"
      },
      {
        "duration": 230,
        "start_time": "2023-05-04T07:14:19.457Z"
      },
      {
        "duration": 20,
        "start_time": "2023-05-04T07:16:33.279Z"
      },
      {
        "duration": 472,
        "start_time": "2023-05-04T07:17:19.670Z"
      },
      {
        "duration": 22,
        "start_time": "2023-05-04T07:17:34.527Z"
      },
      {
        "duration": 345,
        "start_time": "2023-05-04T07:18:38.878Z"
      },
      {
        "duration": 247,
        "start_time": "2023-05-04T07:19:36.073Z"
      },
      {
        "duration": 168,
        "start_time": "2023-05-04T07:20:18.485Z"
      },
      {
        "duration": 135,
        "start_time": "2023-05-04T07:20:28.060Z"
      },
      {
        "duration": 303,
        "start_time": "2023-05-04T07:21:55.796Z"
      },
      {
        "duration": 309,
        "start_time": "2023-05-04T07:23:14.947Z"
      },
      {
        "duration": 230,
        "start_time": "2023-05-04T07:23:25.034Z"
      },
      {
        "duration": 317,
        "start_time": "2023-05-04T07:23:49.234Z"
      },
      {
        "duration": 268,
        "start_time": "2023-05-04T07:24:08.882Z"
      },
      {
        "duration": 258,
        "start_time": "2023-05-04T07:24:28.353Z"
      },
      {
        "duration": 1235,
        "start_time": "2023-05-04T07:25:47.364Z"
      },
      {
        "duration": 138,
        "start_time": "2023-05-04T07:25:48.601Z"
      },
      {
        "duration": 22,
        "start_time": "2023-05-04T07:25:48.741Z"
      },
      {
        "duration": 22,
        "start_time": "2023-05-04T07:25:48.766Z"
      },
      {
        "duration": 40,
        "start_time": "2023-05-04T07:25:48.790Z"
      },
      {
        "duration": 5,
        "start_time": "2023-05-04T07:25:48.832Z"
      },
      {
        "duration": 18,
        "start_time": "2023-05-04T07:25:48.838Z"
      },
      {
        "duration": 15,
        "start_time": "2023-05-04T07:25:48.858Z"
      },
      {
        "duration": 5,
        "start_time": "2023-05-04T07:25:48.884Z"
      },
      {
        "duration": 16,
        "start_time": "2023-05-04T07:25:48.892Z"
      },
      {
        "duration": 8,
        "start_time": "2023-05-04T07:25:48.910Z"
      },
      {
        "duration": 15,
        "start_time": "2023-05-04T07:25:48.920Z"
      },
      {
        "duration": 6,
        "start_time": "2023-05-04T07:25:48.936Z"
      },
      {
        "duration": 46,
        "start_time": "2023-05-04T07:25:48.944Z"
      },
      {
        "duration": 5,
        "start_time": "2023-05-04T07:25:48.992Z"
      },
      {
        "duration": 29,
        "start_time": "2023-05-04T07:25:48.999Z"
      },
      {
        "duration": 30,
        "start_time": "2023-05-04T07:25:49.030Z"
      },
      {
        "duration": 28,
        "start_time": "2023-05-04T07:25:49.062Z"
      },
      {
        "duration": 11,
        "start_time": "2023-05-04T07:25:49.092Z"
      },
      {
        "duration": 12,
        "start_time": "2023-05-04T07:25:49.105Z"
      },
      {
        "duration": 15,
        "start_time": "2023-05-04T07:25:49.119Z"
      },
      {
        "duration": 31,
        "start_time": "2023-05-04T07:25:49.136Z"
      },
      {
        "duration": 63,
        "start_time": "2023-05-04T07:25:49.169Z"
      },
      {
        "duration": 31,
        "start_time": "2023-05-04T07:25:49.234Z"
      },
      {
        "duration": 21,
        "start_time": "2023-05-04T07:25:49.266Z"
      },
      {
        "duration": 15,
        "start_time": "2023-05-04T07:25:49.289Z"
      },
      {
        "duration": 23,
        "start_time": "2023-05-04T07:25:49.305Z"
      },
      {
        "duration": 3,
        "start_time": "2023-05-04T07:25:49.332Z"
      },
      {
        "duration": 147,
        "start_time": "2023-05-04T07:25:49.337Z"
      },
      {
        "duration": 9,
        "start_time": "2023-05-04T07:25:49.485Z"
      },
      {
        "duration": 17,
        "start_time": "2023-05-04T07:25:49.495Z"
      },
      {
        "duration": 208,
        "start_time": "2023-05-04T07:25:49.514Z"
      },
      {
        "duration": 243,
        "start_time": "2023-05-04T07:25:49.723Z"
      },
      {
        "duration": 4,
        "start_time": "2023-05-04T07:25:49.968Z"
      },
      {
        "duration": 49,
        "start_time": "2023-05-04T07:25:49.973Z"
      },
      {
        "duration": 226,
        "start_time": "2023-05-04T07:25:50.024Z"
      },
      {
        "duration": 585,
        "start_time": "2023-05-04T07:25:50.253Z"
      },
      {
        "duration": 6,
        "start_time": "2023-05-04T07:25:50.840Z"
      },
      {
        "duration": 124,
        "start_time": "2023-05-04T07:25:50.847Z"
      },
      {
        "duration": 263,
        "start_time": "2023-05-04T07:25:50.972Z"
      },
      {
        "duration": 208,
        "start_time": "2023-05-04T07:25:51.237Z"
      },
      {
        "duration": 5,
        "start_time": "2023-05-04T07:25:51.446Z"
      },
      {
        "duration": 11,
        "start_time": "2023-05-04T07:25:51.453Z"
      },
      {
        "duration": 395,
        "start_time": "2023-05-04T07:25:51.466Z"
      },
      {
        "duration": 243,
        "start_time": "2023-05-04T07:25:51.863Z"
      },
      {
        "duration": 176,
        "start_time": "2023-05-04T07:25:52.107Z"
      },
      {
        "duration": 254,
        "start_time": "2023-05-04T07:25:52.285Z"
      },
      {
        "duration": 16,
        "start_time": "2023-05-04T07:25:52.540Z"
      },
      {
        "duration": 334,
        "start_time": "2023-05-04T07:25:52.558Z"
      },
      {
        "duration": 317,
        "start_time": "2023-05-04T07:26:29.376Z"
      },
      {
        "duration": 15,
        "start_time": "2023-05-04T07:27:36.670Z"
      },
      {
        "duration": 17,
        "start_time": "2023-05-04T07:28:05.798Z"
      },
      {
        "duration": 7,
        "start_time": "2023-05-04T07:29:13.221Z"
      },
      {
        "duration": 1217,
        "start_time": "2023-05-04T08:16:44.419Z"
      },
      {
        "duration": 168,
        "start_time": "2023-05-04T08:16:45.638Z"
      },
      {
        "duration": 33,
        "start_time": "2023-05-04T08:16:45.808Z"
      },
      {
        "duration": 18,
        "start_time": "2023-05-04T08:16:45.843Z"
      },
      {
        "duration": 52,
        "start_time": "2023-05-04T08:16:45.883Z"
      },
      {
        "duration": 5,
        "start_time": "2023-05-04T08:16:45.937Z"
      },
      {
        "duration": 12,
        "start_time": "2023-05-04T08:16:45.944Z"
      },
      {
        "duration": 33,
        "start_time": "2023-05-04T08:16:45.958Z"
      },
      {
        "duration": 6,
        "start_time": "2023-05-04T08:16:45.993Z"
      },
      {
        "duration": 19,
        "start_time": "2023-05-04T08:16:46.001Z"
      },
      {
        "duration": 43,
        "start_time": "2023-05-04T08:16:46.022Z"
      },
      {
        "duration": 21,
        "start_time": "2023-05-04T08:16:46.067Z"
      },
      {
        "duration": 8,
        "start_time": "2023-05-04T08:16:46.090Z"
      },
      {
        "duration": 44,
        "start_time": "2023-05-04T08:16:46.099Z"
      },
      {
        "duration": 5,
        "start_time": "2023-05-04T08:16:46.145Z"
      },
      {
        "duration": 36,
        "start_time": "2023-05-04T08:16:46.152Z"
      },
      {
        "duration": 37,
        "start_time": "2023-05-04T08:16:46.190Z"
      },
      {
        "duration": 10,
        "start_time": "2023-05-04T08:16:46.229Z"
      },
      {
        "duration": 24,
        "start_time": "2023-05-04T08:16:46.241Z"
      },
      {
        "duration": 21,
        "start_time": "2023-05-04T08:16:46.266Z"
      },
      {
        "duration": 16,
        "start_time": "2023-05-04T08:16:46.289Z"
      },
      {
        "duration": 30,
        "start_time": "2023-05-04T08:16:46.307Z"
      },
      {
        "duration": 66,
        "start_time": "2023-05-04T08:16:46.339Z"
      },
      {
        "duration": 30,
        "start_time": "2023-05-04T08:16:46.407Z"
      },
      {
        "duration": 9,
        "start_time": "2023-05-04T08:16:46.439Z"
      },
      {
        "duration": 45,
        "start_time": "2023-05-04T08:16:46.450Z"
      },
      {
        "duration": 14,
        "start_time": "2023-05-04T08:16:46.497Z"
      },
      {
        "duration": 4,
        "start_time": "2023-05-04T08:16:46.516Z"
      },
      {
        "duration": 200,
        "start_time": "2023-05-04T08:16:46.522Z"
      },
      {
        "duration": 11,
        "start_time": "2023-05-04T08:16:46.724Z"
      },
      {
        "duration": 11,
        "start_time": "2023-05-04T08:16:46.736Z"
      },
      {
        "duration": 204,
        "start_time": "2023-05-04T08:16:46.749Z"
      },
      {
        "duration": 204,
        "start_time": "2023-05-04T08:16:46.955Z"
      },
      {
        "duration": 7,
        "start_time": "2023-05-04T08:16:47.161Z"
      },
      {
        "duration": 51,
        "start_time": "2023-05-04T08:16:47.169Z"
      },
      {
        "duration": 218,
        "start_time": "2023-05-04T08:16:47.222Z"
      },
      {
        "duration": 670,
        "start_time": "2023-05-04T08:16:47.443Z"
      },
      {
        "duration": 9,
        "start_time": "2023-05-04T08:16:48.114Z"
      },
      {
        "duration": 131,
        "start_time": "2023-05-04T08:16:48.125Z"
      },
      {
        "duration": 260,
        "start_time": "2023-05-04T08:16:48.258Z"
      },
      {
        "duration": 289,
        "start_time": "2023-05-04T08:16:48.520Z"
      },
      {
        "duration": 5,
        "start_time": "2023-05-04T08:16:48.812Z"
      },
      {
        "duration": 28,
        "start_time": "2023-05-04T08:16:48.821Z"
      },
      {
        "duration": 414,
        "start_time": "2023-05-04T08:16:48.853Z"
      },
      {
        "duration": 223,
        "start_time": "2023-05-04T08:16:49.270Z"
      },
      {
        "duration": 262,
        "start_time": "2023-05-04T08:16:49.496Z"
      },
      {
        "duration": 339,
        "start_time": "2023-05-04T08:16:49.760Z"
      },
      {
        "duration": 5,
        "start_time": "2023-05-04T08:16:50.102Z"
      },
      {
        "duration": 347,
        "start_time": "2023-05-04T08:16:50.109Z"
      },
      {
        "duration": 114,
        "start_time": "2023-05-04T08:20:19.710Z"
      },
      {
        "duration": 244,
        "start_time": "2023-05-04T08:20:26.342Z"
      },
      {
        "duration": 5,
        "start_time": "2023-05-04T08:20:32.885Z"
      },
      {
        "duration": 16,
        "start_time": "2023-05-04T08:21:18.029Z"
      },
      {
        "duration": 6,
        "start_time": "2023-05-04T08:21:29.756Z"
      },
      {
        "duration": 6,
        "start_time": "2023-05-04T08:21:56.300Z"
      },
      {
        "duration": 6,
        "start_time": "2023-05-04T08:22:03.053Z"
      },
      {
        "duration": 14,
        "start_time": "2023-05-04T08:24:14.403Z"
      },
      {
        "duration": 14,
        "start_time": "2023-05-04T08:24:31.442Z"
      },
      {
        "duration": 15,
        "start_time": "2023-05-04T08:25:01.946Z"
      },
      {
        "duration": 1296,
        "start_time": "2023-05-04T08:25:20.758Z"
      },
      {
        "duration": 140,
        "start_time": "2023-05-04T08:25:22.056Z"
      },
      {
        "duration": 25,
        "start_time": "2023-05-04T08:25:22.198Z"
      },
      {
        "duration": 54,
        "start_time": "2023-05-04T08:25:22.224Z"
      },
      {
        "duration": 34,
        "start_time": "2023-05-04T08:25:22.282Z"
      },
      {
        "duration": 20,
        "start_time": "2023-05-04T08:25:22.318Z"
      },
      {
        "duration": 44,
        "start_time": "2023-05-04T08:25:22.340Z"
      },
      {
        "duration": 37,
        "start_time": "2023-05-04T08:25:22.386Z"
      },
      {
        "duration": 22,
        "start_time": "2023-05-04T08:25:22.425Z"
      },
      {
        "duration": 17,
        "start_time": "2023-05-04T08:25:22.448Z"
      },
      {
        "duration": 11,
        "start_time": "2023-05-04T08:25:22.466Z"
      },
      {
        "duration": 12,
        "start_time": "2023-05-04T08:25:22.479Z"
      },
      {
        "duration": 6,
        "start_time": "2023-05-04T08:25:22.493Z"
      },
      {
        "duration": 44,
        "start_time": "2023-05-04T08:25:22.502Z"
      },
      {
        "duration": 6,
        "start_time": "2023-05-04T08:25:22.548Z"
      },
      {
        "duration": 33,
        "start_time": "2023-05-04T08:25:22.556Z"
      },
      {
        "duration": 28,
        "start_time": "2023-05-04T08:25:22.591Z"
      },
      {
        "duration": 13,
        "start_time": "2023-05-04T08:25:22.620Z"
      },
      {
        "duration": 11,
        "start_time": "2023-05-04T08:25:22.635Z"
      },
      {
        "duration": 22,
        "start_time": "2023-05-04T08:25:22.648Z"
      },
      {
        "duration": 9,
        "start_time": "2023-05-04T08:25:22.672Z"
      },
      {
        "duration": 14,
        "start_time": "2023-05-04T08:25:22.683Z"
      },
      {
        "duration": 54,
        "start_time": "2023-05-04T08:25:22.699Z"
      },
      {
        "duration": 36,
        "start_time": "2023-05-04T08:25:22.755Z"
      },
      {
        "duration": 6,
        "start_time": "2023-05-04T08:25:22.793Z"
      },
      {
        "duration": 7,
        "start_time": "2023-05-04T08:25:22.801Z"
      },
      {
        "duration": 12,
        "start_time": "2023-05-04T08:25:22.809Z"
      },
      {
        "duration": 9,
        "start_time": "2023-05-04T08:25:22.823Z"
      },
      {
        "duration": 156,
        "start_time": "2023-05-04T08:25:22.834Z"
      },
      {
        "duration": 9,
        "start_time": "2023-05-04T08:25:22.991Z"
      },
      {
        "duration": 24,
        "start_time": "2023-05-04T08:25:23.002Z"
      },
      {
        "duration": 201,
        "start_time": "2023-05-04T08:25:23.028Z"
      },
      {
        "duration": 185,
        "start_time": "2023-05-04T08:25:23.232Z"
      },
      {
        "duration": 3,
        "start_time": "2023-05-04T08:25:23.419Z"
      },
      {
        "duration": 61,
        "start_time": "2023-05-04T08:25:23.423Z"
      },
      {
        "duration": 181,
        "start_time": "2023-05-04T08:25:23.486Z"
      },
      {
        "duration": 569,
        "start_time": "2023-05-04T08:25:23.668Z"
      },
      {
        "duration": 6,
        "start_time": "2023-05-04T08:25:24.239Z"
      },
      {
        "duration": 120,
        "start_time": "2023-05-04T08:25:24.246Z"
      },
      {
        "duration": 228,
        "start_time": "2023-05-04T08:25:24.368Z"
      },
      {
        "duration": 205,
        "start_time": "2023-05-04T08:25:24.601Z"
      },
      {
        "duration": 6,
        "start_time": "2023-05-04T08:25:24.807Z"
      },
      {
        "duration": 92,
        "start_time": "2023-05-04T08:25:24.815Z"
      },
      {
        "duration": 437,
        "start_time": "2023-05-04T08:25:24.909Z"
      },
      {
        "duration": 261,
        "start_time": "2023-05-04T08:25:25.348Z"
      },
      {
        "duration": 183,
        "start_time": "2023-05-04T08:25:25.610Z"
      },
      {
        "duration": 268,
        "start_time": "2023-05-04T08:25:25.795Z"
      },
      {
        "duration": 5,
        "start_time": "2023-05-04T08:25:26.065Z"
      },
      {
        "duration": 337,
        "start_time": "2023-05-04T08:25:26.072Z"
      },
      {
        "duration": 5,
        "start_time": "2023-05-04T08:25:40.113Z"
      },
      {
        "duration": 5,
        "start_time": "2023-05-04T08:26:12.240Z"
      },
      {
        "duration": 8,
        "start_time": "2023-05-04T08:26:49.673Z"
      },
      {
        "duration": 12,
        "start_time": "2023-05-04T08:26:59.086Z"
      },
      {
        "duration": 1190,
        "start_time": "2023-05-04T08:27:15.481Z"
      },
      {
        "duration": 135,
        "start_time": "2023-05-04T08:27:16.673Z"
      },
      {
        "duration": 22,
        "start_time": "2023-05-04T08:27:16.810Z"
      },
      {
        "duration": 22,
        "start_time": "2023-05-04T08:27:16.834Z"
      },
      {
        "duration": 41,
        "start_time": "2023-05-04T08:27:16.857Z"
      },
      {
        "duration": 4,
        "start_time": "2023-05-04T08:27:16.900Z"
      },
      {
        "duration": 15,
        "start_time": "2023-05-04T08:27:16.906Z"
      },
      {
        "duration": 11,
        "start_time": "2023-05-04T08:27:16.922Z"
      },
      {
        "duration": 6,
        "start_time": "2023-05-04T08:27:16.934Z"
      },
      {
        "duration": 9,
        "start_time": "2023-05-04T08:27:16.942Z"
      },
      {
        "duration": 9,
        "start_time": "2023-05-04T08:27:16.984Z"
      },
      {
        "duration": 14,
        "start_time": "2023-05-04T08:27:16.995Z"
      },
      {
        "duration": 5,
        "start_time": "2023-05-04T08:27:17.010Z"
      },
      {
        "duration": 31,
        "start_time": "2023-05-04T08:27:17.017Z"
      },
      {
        "duration": 5,
        "start_time": "2023-05-04T08:27:17.050Z"
      },
      {
        "duration": 65,
        "start_time": "2023-05-04T08:27:17.057Z"
      },
      {
        "duration": 30,
        "start_time": "2023-05-04T08:27:17.124Z"
      },
      {
        "duration": 13,
        "start_time": "2023-05-04T08:27:17.156Z"
      },
      {
        "duration": 11,
        "start_time": "2023-05-04T08:27:17.170Z"
      },
      {
        "duration": 17,
        "start_time": "2023-05-04T08:27:17.183Z"
      },
      {
        "duration": 8,
        "start_time": "2023-05-04T08:27:17.202Z"
      },
      {
        "duration": 14,
        "start_time": "2023-05-04T08:27:17.212Z"
      },
      {
        "duration": 61,
        "start_time": "2023-05-04T08:27:17.227Z"
      },
      {
        "duration": 25,
        "start_time": "2023-05-04T08:27:17.290Z"
      },
      {
        "duration": 7,
        "start_time": "2023-05-04T08:27:17.317Z"
      },
      {
        "duration": 11,
        "start_time": "2023-05-04T08:27:17.326Z"
      },
      {
        "duration": 15,
        "start_time": "2023-05-04T08:27:17.339Z"
      },
      {
        "duration": 29,
        "start_time": "2023-05-04T08:27:17.357Z"
      },
      {
        "duration": 142,
        "start_time": "2023-05-04T08:27:17.387Z"
      },
      {
        "duration": 9,
        "start_time": "2023-05-04T08:27:17.531Z"
      },
      {
        "duration": 5,
        "start_time": "2023-05-04T08:27:17.544Z"
      },
      {
        "duration": 195,
        "start_time": "2023-05-04T08:27:17.551Z"
      },
      {
        "duration": 203,
        "start_time": "2023-05-04T08:27:17.749Z"
      },
      {
        "duration": 4,
        "start_time": "2023-05-04T08:27:17.954Z"
      },
      {
        "duration": 51,
        "start_time": "2023-05-04T08:27:17.960Z"
      },
      {
        "duration": 200,
        "start_time": "2023-05-04T08:27:18.013Z"
      },
      {
        "duration": 581,
        "start_time": "2023-05-04T08:27:18.215Z"
      },
      {
        "duration": 5,
        "start_time": "2023-05-04T08:27:18.799Z"
      },
      {
        "duration": 125,
        "start_time": "2023-05-04T08:27:18.806Z"
      },
      {
        "duration": 239,
        "start_time": "2023-05-04T08:27:18.933Z"
      },
      {
        "duration": 202,
        "start_time": "2023-05-04T08:27:19.182Z"
      },
      {
        "duration": 6,
        "start_time": "2023-05-04T08:27:19.386Z"
      },
      {
        "duration": 16,
        "start_time": "2023-05-04T08:27:19.394Z"
      },
      {
        "duration": 407,
        "start_time": "2023-05-04T08:27:19.411Z"
      },
      {
        "duration": 266,
        "start_time": "2023-05-04T08:27:19.821Z"
      },
      {
        "duration": 221,
        "start_time": "2023-05-04T08:27:20.093Z"
      },
      {
        "duration": 300,
        "start_time": "2023-05-04T08:27:20.316Z"
      },
      {
        "duration": 8,
        "start_time": "2023-05-04T08:27:20.619Z"
      },
      {
        "duration": 420,
        "start_time": "2023-05-04T08:27:20.630Z"
      },
      {
        "duration": 343,
        "start_time": "2023-05-04T08:28:05.161Z"
      },
      {
        "duration": 228,
        "start_time": "2023-05-04T08:28:22.673Z"
      },
      {
        "duration": 226,
        "start_time": "2023-05-04T08:28:34.424Z"
      },
      {
        "duration": 8,
        "start_time": "2023-05-04T08:29:07.887Z"
      },
      {
        "duration": 427,
        "start_time": "2023-05-04T08:29:12.968Z"
      },
      {
        "duration": 1322,
        "start_time": "2023-05-04T08:29:26.272Z"
      },
      {
        "duration": 140,
        "start_time": "2023-05-04T08:29:27.596Z"
      },
      {
        "duration": 22,
        "start_time": "2023-05-04T08:29:27.738Z"
      },
      {
        "duration": 15,
        "start_time": "2023-05-04T08:29:27.762Z"
      },
      {
        "duration": 47,
        "start_time": "2023-05-04T08:29:27.779Z"
      },
      {
        "duration": 4,
        "start_time": "2023-05-04T08:29:27.828Z"
      },
      {
        "duration": 28,
        "start_time": "2023-05-04T08:29:27.833Z"
      },
      {
        "duration": 20,
        "start_time": "2023-05-04T08:29:27.863Z"
      },
      {
        "duration": 19,
        "start_time": "2023-05-04T08:29:27.885Z"
      },
      {
        "duration": 12,
        "start_time": "2023-05-04T08:29:27.908Z"
      },
      {
        "duration": 18,
        "start_time": "2023-05-04T08:29:27.921Z"
      },
      {
        "duration": 19,
        "start_time": "2023-05-04T08:29:27.941Z"
      },
      {
        "duration": 11,
        "start_time": "2023-05-04T08:29:27.962Z"
      },
      {
        "duration": 40,
        "start_time": "2023-05-04T08:29:27.975Z"
      },
      {
        "duration": 6,
        "start_time": "2023-05-04T08:29:28.016Z"
      },
      {
        "duration": 25,
        "start_time": "2023-05-04T08:29:28.023Z"
      },
      {
        "duration": 36,
        "start_time": "2023-05-04T08:29:28.050Z"
      },
      {
        "duration": 8,
        "start_time": "2023-05-04T08:29:28.088Z"
      },
      {
        "duration": 39,
        "start_time": "2023-05-04T08:29:28.098Z"
      },
      {
        "duration": 5,
        "start_time": "2023-05-04T08:29:28.139Z"
      },
      {
        "duration": 11,
        "start_time": "2023-05-04T08:29:28.146Z"
      },
      {
        "duration": 24,
        "start_time": "2023-05-04T08:29:28.159Z"
      },
      {
        "duration": 73,
        "start_time": "2023-05-04T08:29:28.185Z"
      },
      {
        "duration": 30,
        "start_time": "2023-05-04T08:29:28.260Z"
      },
      {
        "duration": 8,
        "start_time": "2023-05-04T08:29:28.292Z"
      },
      {
        "duration": 10,
        "start_time": "2023-05-04T08:29:28.302Z"
      },
      {
        "duration": 22,
        "start_time": "2023-05-04T08:29:28.313Z"
      },
      {
        "duration": 7,
        "start_time": "2023-05-04T08:29:28.338Z"
      },
      {
        "duration": 159,
        "start_time": "2023-05-04T08:29:28.346Z"
      },
      {
        "duration": 11,
        "start_time": "2023-05-04T08:29:28.507Z"
      },
      {
        "duration": 7,
        "start_time": "2023-05-04T08:29:28.520Z"
      },
      {
        "duration": 231,
        "start_time": "2023-05-04T08:29:28.529Z"
      },
      {
        "duration": 204,
        "start_time": "2023-05-04T08:29:28.762Z"
      },
      {
        "duration": 3,
        "start_time": "2023-05-04T08:29:28.968Z"
      },
      {
        "duration": 56,
        "start_time": "2023-05-04T08:29:28.973Z"
      },
      {
        "duration": 196,
        "start_time": "2023-05-04T08:29:29.031Z"
      },
      {
        "duration": 656,
        "start_time": "2023-05-04T08:29:29.229Z"
      },
      {
        "duration": 6,
        "start_time": "2023-05-04T08:29:29.888Z"
      },
      {
        "duration": 139,
        "start_time": "2023-05-04T08:29:29.896Z"
      },
      {
        "duration": 294,
        "start_time": "2023-05-04T08:29:30.038Z"
      },
      {
        "duration": 232,
        "start_time": "2023-05-04T08:29:30.334Z"
      },
      {
        "duration": 6,
        "start_time": "2023-05-04T08:29:30.569Z"
      },
      {
        "duration": 43,
        "start_time": "2023-05-04T08:29:30.584Z"
      },
      {
        "duration": 446,
        "start_time": "2023-05-04T08:29:30.629Z"
      },
      {
        "duration": 246,
        "start_time": "2023-05-04T08:29:31.083Z"
      },
      {
        "duration": 202,
        "start_time": "2023-05-04T08:29:31.331Z"
      },
      {
        "duration": 263,
        "start_time": "2023-05-04T08:29:31.534Z"
      },
      {
        "duration": 343,
        "start_time": "2023-05-04T08:29:31.799Z"
      },
      {
        "duration": 561,
        "start_time": "2023-05-04T08:29:55.023Z"
      },
      {
        "duration": 26,
        "start_time": "2023-05-04T08:37:04.393Z"
      },
      {
        "duration": 199,
        "start_time": "2023-05-04T08:37:17.233Z"
      },
      {
        "duration": 1313,
        "start_time": "2023-05-04T08:40:59.788Z"
      },
      {
        "duration": 148,
        "start_time": "2023-05-04T08:41:01.103Z"
      },
      {
        "duration": 23,
        "start_time": "2023-05-04T08:41:01.252Z"
      },
      {
        "duration": 48,
        "start_time": "2023-05-04T08:41:01.278Z"
      },
      {
        "duration": 67,
        "start_time": "2023-05-04T08:41:01.327Z"
      },
      {
        "duration": 11,
        "start_time": "2023-05-04T08:41:01.395Z"
      },
      {
        "duration": 38,
        "start_time": "2023-05-04T08:41:01.407Z"
      },
      {
        "duration": 38,
        "start_time": "2023-05-04T08:41:01.446Z"
      },
      {
        "duration": 37,
        "start_time": "2023-05-04T08:41:01.486Z"
      },
      {
        "duration": 60,
        "start_time": "2023-05-04T08:41:01.526Z"
      },
      {
        "duration": 33,
        "start_time": "2023-05-04T08:41:01.588Z"
      },
      {
        "duration": 57,
        "start_time": "2023-05-04T08:41:01.622Z"
      },
      {
        "duration": 27,
        "start_time": "2023-05-04T08:41:01.682Z"
      },
      {
        "duration": 57,
        "start_time": "2023-05-04T08:41:01.711Z"
      },
      {
        "duration": 35,
        "start_time": "2023-05-04T08:41:01.770Z"
      },
      {
        "duration": 72,
        "start_time": "2023-05-04T08:41:01.807Z"
      },
      {
        "duration": 57,
        "start_time": "2023-05-04T08:41:01.881Z"
      },
      {
        "duration": 67,
        "start_time": "2023-05-04T08:41:01.939Z"
      },
      {
        "duration": 59,
        "start_time": "2023-05-04T08:41:02.007Z"
      },
      {
        "duration": 50,
        "start_time": "2023-05-04T08:41:02.068Z"
      },
      {
        "duration": 21,
        "start_time": "2023-05-04T08:41:02.121Z"
      },
      {
        "duration": 26,
        "start_time": "2023-05-04T08:41:02.144Z"
      },
      {
        "duration": 103,
        "start_time": "2023-05-04T08:41:02.173Z"
      },
      {
        "duration": 32,
        "start_time": "2023-05-04T08:41:02.278Z"
      },
      {
        "duration": 115,
        "start_time": "2023-05-04T08:41:02.312Z"
      },
      {
        "duration": 90,
        "start_time": "2023-05-04T08:41:02.428Z"
      },
      {
        "duration": 46,
        "start_time": "2023-05-04T08:41:02.520Z"
      },
      {
        "duration": 19,
        "start_time": "2023-05-04T08:41:02.570Z"
      },
      {
        "duration": 151,
        "start_time": "2023-05-04T08:41:02.591Z"
      },
      {
        "duration": 8,
        "start_time": "2023-05-04T08:41:02.743Z"
      },
      {
        "duration": 21,
        "start_time": "2023-05-04T08:41:02.753Z"
      },
      {
        "duration": 216,
        "start_time": "2023-05-04T08:41:02.776Z"
      },
      {
        "duration": 205,
        "start_time": "2023-05-04T08:41:02.994Z"
      },
      {
        "duration": 4,
        "start_time": "2023-05-04T08:41:03.201Z"
      },
      {
        "duration": 55,
        "start_time": "2023-05-04T08:41:03.207Z"
      },
      {
        "duration": 193,
        "start_time": "2023-05-04T08:41:03.264Z"
      },
      {
        "duration": 608,
        "start_time": "2023-05-04T08:41:03.459Z"
      },
      {
        "duration": 14,
        "start_time": "2023-05-04T08:41:04.069Z"
      },
      {
        "duration": 154,
        "start_time": "2023-05-04T08:41:04.085Z"
      },
      {
        "duration": 250,
        "start_time": "2023-05-04T08:41:04.241Z"
      },
      {
        "duration": 212,
        "start_time": "2023-05-04T08:41:04.493Z"
      },
      {
        "duration": 7,
        "start_time": "2023-05-04T08:41:04.707Z"
      },
      {
        "duration": 19,
        "start_time": "2023-05-04T08:41:04.716Z"
      },
      {
        "duration": 440,
        "start_time": "2023-05-04T08:41:04.737Z"
      },
      {
        "duration": 202,
        "start_time": "2023-05-04T08:41:05.182Z"
      },
      {
        "duration": 198,
        "start_time": "2023-05-04T08:41:05.385Z"
      },
      {
        "duration": 277,
        "start_time": "2023-05-04T08:41:05.586Z"
      },
      {
        "duration": 436,
        "start_time": "2023-05-04T08:41:05.865Z"
      },
      {
        "duration": 1371,
        "start_time": "2023-05-04T20:38:33.120Z"
      },
      {
        "duration": 187,
        "start_time": "2023-05-04T20:38:34.494Z"
      },
      {
        "duration": 33,
        "start_time": "2023-05-04T20:38:34.683Z"
      },
      {
        "duration": 18,
        "start_time": "2023-05-04T20:38:34.718Z"
      },
      {
        "duration": 48,
        "start_time": "2023-05-04T20:38:34.739Z"
      },
      {
        "duration": 4,
        "start_time": "2023-05-04T20:38:34.791Z"
      },
      {
        "duration": 49,
        "start_time": "2023-05-04T20:38:34.798Z"
      },
      {
        "duration": 12,
        "start_time": "2023-05-04T20:38:34.852Z"
      },
      {
        "duration": 6,
        "start_time": "2023-05-04T20:38:34.866Z"
      },
      {
        "duration": 14,
        "start_time": "2023-05-04T20:38:34.875Z"
      },
      {
        "duration": 11,
        "start_time": "2023-05-04T20:38:34.895Z"
      },
      {
        "duration": 12,
        "start_time": "2023-05-04T20:38:34.910Z"
      },
      {
        "duration": 5,
        "start_time": "2023-05-04T20:38:34.931Z"
      },
      {
        "duration": 24,
        "start_time": "2023-05-04T20:38:34.940Z"
      },
      {
        "duration": 5,
        "start_time": "2023-05-04T20:38:34.966Z"
      },
      {
        "duration": 38,
        "start_time": "2023-05-04T20:38:34.973Z"
      },
      {
        "duration": 37,
        "start_time": "2023-05-04T20:38:35.012Z"
      },
      {
        "duration": 9,
        "start_time": "2023-05-04T20:38:35.051Z"
      },
      {
        "duration": 9,
        "start_time": "2023-05-04T20:38:35.062Z"
      },
      {
        "duration": 13,
        "start_time": "2023-05-04T20:38:35.092Z"
      },
      {
        "duration": 8,
        "start_time": "2023-05-04T20:38:35.107Z"
      },
      {
        "duration": 19,
        "start_time": "2023-05-04T20:38:35.117Z"
      },
      {
        "duration": 73,
        "start_time": "2023-05-04T20:38:35.138Z"
      },
      {
        "duration": 29,
        "start_time": "2023-05-04T20:38:35.213Z"
      },
      {
        "duration": 7,
        "start_time": "2023-05-04T20:38:35.244Z"
      },
      {
        "duration": 12,
        "start_time": "2023-05-04T20:38:35.253Z"
      },
      {
        "duration": 14,
        "start_time": "2023-05-04T20:38:35.293Z"
      },
      {
        "duration": 7,
        "start_time": "2023-05-04T20:38:35.308Z"
      },
      {
        "duration": 168,
        "start_time": "2023-05-04T20:38:35.318Z"
      },
      {
        "duration": 35,
        "start_time": "2023-05-04T20:38:35.488Z"
      },
      {
        "duration": 8,
        "start_time": "2023-05-04T20:38:35.525Z"
      },
      {
        "duration": 284,
        "start_time": "2023-05-04T20:38:35.540Z"
      },
      {
        "duration": 226,
        "start_time": "2023-05-04T20:38:35.826Z"
      },
      {
        "duration": 4,
        "start_time": "2023-05-04T20:38:36.053Z"
      },
      {
        "duration": 81,
        "start_time": "2023-05-04T20:38:36.059Z"
      },
      {
        "duration": 204,
        "start_time": "2023-05-04T20:38:36.142Z"
      },
      {
        "duration": 736,
        "start_time": "2023-05-04T20:38:36.349Z"
      },
      {
        "duration": 6,
        "start_time": "2023-05-04T20:38:37.087Z"
      },
      {
        "duration": 169,
        "start_time": "2023-05-04T20:38:37.095Z"
      },
      {
        "duration": 379,
        "start_time": "2023-05-04T20:38:37.266Z"
      },
      {
        "duration": 312,
        "start_time": "2023-05-04T20:38:37.650Z"
      },
      {
        "duration": 7,
        "start_time": "2023-05-04T20:38:37.965Z"
      },
      {
        "duration": 39,
        "start_time": "2023-05-04T20:38:37.974Z"
      },
      {
        "duration": 437,
        "start_time": "2023-05-04T20:38:38.021Z"
      },
      {
        "duration": 273,
        "start_time": "2023-05-04T20:38:38.461Z"
      },
      {
        "duration": 212,
        "start_time": "2023-05-04T20:38:38.737Z"
      },
      {
        "duration": 304,
        "start_time": "2023-05-04T20:38:38.951Z"
      },
      {
        "duration": 477,
        "start_time": "2023-05-04T20:38:39.257Z"
      },
      {
        "duration": 2174,
        "start_time": "2023-05-04T21:05:18.067Z"
      },
      {
        "duration": 65,
        "start_time": "2023-05-04T21:05:35.737Z"
      },
      {
        "duration": 374,
        "start_time": "2023-05-04T21:06:01.429Z"
      },
      {
        "duration": 1440,
        "start_time": "2023-06-05T07:54:22.140Z"
      },
      {
        "duration": 388,
        "start_time": "2023-06-05T07:54:23.582Z"
      },
      {
        "duration": 20,
        "start_time": "2023-06-05T07:54:23.972Z"
      },
      {
        "duration": 14,
        "start_time": "2023-06-05T07:54:23.994Z"
      },
      {
        "duration": 69,
        "start_time": "2023-06-05T07:54:24.009Z"
      },
      {
        "duration": 5,
        "start_time": "2023-06-05T07:54:24.081Z"
      },
      {
        "duration": 9,
        "start_time": "2023-06-05T07:54:24.087Z"
      },
      {
        "duration": 12,
        "start_time": "2023-06-05T07:54:24.098Z"
      },
      {
        "duration": 6,
        "start_time": "2023-06-05T07:54:24.112Z"
      },
      {
        "duration": 44,
        "start_time": "2023-06-05T07:54:24.121Z"
      },
      {
        "duration": 7,
        "start_time": "2023-06-05T07:54:24.174Z"
      },
      {
        "duration": 11,
        "start_time": "2023-06-05T07:54:24.183Z"
      },
      {
        "duration": 5,
        "start_time": "2023-06-05T07:54:24.197Z"
      },
      {
        "duration": 60,
        "start_time": "2023-06-05T07:54:24.204Z"
      },
      {
        "duration": 6,
        "start_time": "2023-06-05T07:54:24.268Z"
      },
      {
        "duration": 23,
        "start_time": "2023-06-05T07:54:24.276Z"
      },
      {
        "duration": 63,
        "start_time": "2023-06-05T07:54:24.301Z"
      },
      {
        "duration": 13,
        "start_time": "2023-06-05T07:54:24.367Z"
      },
      {
        "duration": 13,
        "start_time": "2023-06-05T07:54:24.382Z"
      },
      {
        "duration": 8,
        "start_time": "2023-06-05T07:54:24.397Z"
      },
      {
        "duration": 5,
        "start_time": "2023-06-05T07:54:24.407Z"
      },
      {
        "duration": 14,
        "start_time": "2023-06-05T07:54:24.414Z"
      },
      {
        "duration": 72,
        "start_time": "2023-06-05T07:54:24.450Z"
      },
      {
        "duration": 56,
        "start_time": "2023-06-05T07:54:24.524Z"
      },
      {
        "duration": 9,
        "start_time": "2023-06-05T07:54:24.587Z"
      },
      {
        "duration": 8,
        "start_time": "2023-06-05T07:54:24.598Z"
      },
      {
        "duration": 16,
        "start_time": "2023-06-05T07:54:24.608Z"
      },
      {
        "duration": 3,
        "start_time": "2023-06-05T07:54:24.628Z"
      },
      {
        "duration": 167,
        "start_time": "2023-06-05T07:54:24.633Z"
      },
      {
        "duration": 8,
        "start_time": "2023-06-05T07:54:24.802Z"
      },
      {
        "duration": 8,
        "start_time": "2023-06-05T07:54:24.812Z"
      },
      {
        "duration": 215,
        "start_time": "2023-06-05T07:54:24.822Z"
      },
      {
        "duration": 200,
        "start_time": "2023-06-05T07:54:25.039Z"
      },
      {
        "duration": 3,
        "start_time": "2023-06-05T07:54:25.241Z"
      },
      {
        "duration": 57,
        "start_time": "2023-06-05T07:54:25.245Z"
      },
      {
        "duration": 198,
        "start_time": "2023-06-05T07:54:25.304Z"
      },
      {
        "duration": 615,
        "start_time": "2023-06-05T07:54:25.503Z"
      },
      {
        "duration": 7,
        "start_time": "2023-06-05T07:54:26.120Z"
      },
      {
        "duration": 149,
        "start_time": "2023-06-05T07:54:26.128Z"
      },
      {
        "duration": 288,
        "start_time": "2023-06-05T07:54:26.279Z"
      },
      {
        "duration": 203,
        "start_time": "2023-06-05T07:54:26.568Z"
      },
      {
        "duration": 236,
        "start_time": "2023-06-05T07:54:26.773Z"
      },
      {
        "duration": 5,
        "start_time": "2023-06-05T07:54:27.011Z"
      },
      {
        "duration": 14,
        "start_time": "2023-06-05T07:54:27.018Z"
      },
      {
        "duration": 392,
        "start_time": "2023-06-05T07:54:27.034Z"
      },
      {
        "duration": 241,
        "start_time": "2023-06-05T07:54:27.427Z"
      },
      {
        "duration": 198,
        "start_time": "2023-06-05T07:54:27.670Z"
      },
      {
        "duration": 300,
        "start_time": "2023-06-05T07:54:27.871Z"
      },
      {
        "duration": 528,
        "start_time": "2023-06-05T07:54:28.173Z"
      }
    ],
    "colab": {
      "provenance": []
    },
    "kernelspec": {
      "display_name": "Python 3 (ipykernel)",
      "language": "python",
      "name": "python3"
    },
    "language_info": {
      "codemirror_mode": {
        "name": "ipython",
        "version": 3
      },
      "file_extension": ".py",
      "mimetype": "text/x-python",
      "name": "python",
      "nbconvert_exporter": "python",
      "pygments_lexer": "ipython3",
      "version": "3.9.5"
    },
    "toc": {
      "base_numbering": 1,
      "nav_menu": {},
      "number_sections": true,
      "sideBar": true,
      "skip_h1_title": true,
      "title_cell": "Table of Contents",
      "title_sidebar": "Contents",
      "toc_cell": false,
      "toc_position": {
        "height": "calc(100% - 180px)",
        "left": "10px",
        "top": "150px",
        "width": "170.92px"
      },
      "toc_section_display": true,
      "toc_window_display": false
    }
  },
  "nbformat": 4,
  "nbformat_minor": 0
}